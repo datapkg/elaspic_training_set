{
 "cells": [
  {
   "cell_type": "markdown",
   "metadata": {
    "collapsed": true,
    "run_control": {
     "marked": false
    }
   },
   "source": [
    "# Summary\n",
    "\n",
    "----"
   ]
  },
  {
   "cell_type": "markdown",
   "metadata": {
    "run_control": {
     "marked": false
    }
   },
   "source": [
    "# Imports"
   ]
  },
  {
   "cell_type": "code",
   "execution_count": 1,
   "metadata": {
    "collapsed": false,
    "run_control": {
     "marked": false
    }
   },
   "outputs": [
    {
     "name": "stdout",
     "output_type": "stream",
     "text": [
      "2016-09-07 03:51:35.232903\n"
     ]
    }
   ],
   "source": [
    "%run imports.ipynb"
   ]
  },
  {
   "cell_type": "code",
   "execution_count": 10,
   "metadata": {
    "collapsed": false
   },
   "outputs": [
    {
     "name": "stderr",
     "output_type": "stream",
     "text": [
      "MySQL database already running...\n"
     ]
    },
    {
     "name": "stdout",
     "output_type": "stream",
     "text": [
      "The autoreload extension is already loaded. To reload it, use:\n",
      "  %reload_ext autoreload\n",
      "2016-09-07 03:52:20.239807\n"
     ]
    }
   ],
   "source": [
    "%run db.ipynb"
   ]
  },
  {
   "cell_type": "code",
   "execution_count": 11,
   "metadata": {
    "collapsed": false,
    "run_control": {
     "marked": false
    }
   },
   "outputs": [],
   "source": [
    "NOTEBOOK_NAME = 'core_machine_learning'\n",
    "os.environ['NOTEBOOK_NAME'] = NOTEBOOK_NAME"
   ]
  },
  {
   "cell_type": "markdown",
   "metadata": {
    "run_control": {
     "marked": false
    }
   },
   "source": [
    "# Load data"
   ]
  },
  {
   "cell_type": "code",
   "execution_count": 96,
   "metadata": {
    "collapsed": false,
    "run_control": {
     "marked": false
    }
   },
   "outputs": [],
   "source": [
    "DATA_DF = pd.read_pickle(op.join('load_data', 'DATA_DF_TT_CORE.pkl'))"
   ]
  },
  {
   "cell_type": "code",
   "execution_count": 97,
   "metadata": {
    "collapsed": true,
    "run_control": {
     "marked": false
    }
   },
   "outputs": [],
   "source": [
    "DIFFSEQI = True\n",
    "\n",
    "if DIFFSEQI:\n",
    "    protherm_dataset_name = 'protherm++'\n",
    "    taipale_dataset_name = 'taipale_diffseqi'\n",
    "else:\n",
    "    protherm_dataset_name = 'protherm'\n",
    "    taipale_dataset_name = 'taipale'"
   ]
  },
  {
   "cell_type": "markdown",
   "metadata": {
    "run_control": {
     "marked": false
    }
   },
   "source": [
    "## Leave class out group"
   ]
  },
  {
   "cell_type": "markdown",
   "metadata": {},
   "source": [
    "## Add Pfam clan info"
   ]
  },
  {
   "cell_type": "code",
   "execution_count": 98,
   "metadata": {
    "collapsed": false
   },
   "outputs": [],
   "source": [
    "sql_query = \"\"\"\\\n",
    "SELECT *\n",
    "from pfam.pfam_a_regions\n",
    "where uniprot_id in ({})\n",
    "\"\"\".format(\", \".join(DATA_DF['uniprot_id'].drop_duplicates().apply(lambda x: \"'{}'\".format(x))))\n",
    "\n",
    "pfam_a_regions = pd.read_sql_query(sql_query, db_remote.engine)"
   ]
  },
  {
   "cell_type": "code",
   "execution_count": 99,
   "metadata": {
    "collapsed": false
   },
   "outputs": [
    {
     "ename": "AssertionError",
     "evalue": "",
     "output_type": "error",
     "traceback": [
      "\u001b[0;31m---------------------------------------------------------------------------\u001b[0m",
      "\u001b[0;31mAssertionError\u001b[0m                            Traceback (most recent call last)",
      "\u001b[0;32m<ipython-input-99-38e0fc2a740d>\u001b[0m in \u001b[0;36m<module>\u001b[0;34m()\u001b[0m\n\u001b[1;32m     17\u001b[0m \u001b[0;34m\u001b[0m\u001b[0m\n\u001b[1;32m     18\u001b[0m \u001b[0;34m\u001b[0m\u001b[0m\n\u001b[0;32m---> 19\u001b[0;31m \u001b[0;32massert\u001b[0m \u001b[0mget_pfam_id\u001b[0m\u001b[0;34m(\u001b[0m\u001b[0;34m'P01820'\u001b[0m\u001b[0;34m,\u001b[0m \u001b[0;34m'A20C'\u001b[0m\u001b[0;34m)\u001b[0m \u001b[0;34m==\u001b[0m \u001b[0;34m'PF07686'\u001b[0m\u001b[0;34m\u001b[0m\u001b[0m\n\u001b[0m\u001b[1;32m     20\u001b[0m \u001b[0;32massert\u001b[0m \u001b[0mget_pfam_id\u001b[0m\u001b[0;34m(\u001b[0m\u001b[0;34m'P01820'\u001b[0m\u001b[0;34m,\u001b[0m \u001b[0;34m'A10C'\u001b[0m\u001b[0;34m)\u001b[0m \u001b[0;32mis\u001b[0m \u001b[0mnp\u001b[0m\u001b[0;34m.\u001b[0m\u001b[0mnan\u001b[0m\u001b[0;34m\u001b[0m\u001b[0m\n\u001b[1;32m     21\u001b[0m \u001b[0;32massert\u001b[0m \u001b[0mget_pfam_id\u001b[0m\u001b[0;34m(\u001b[0m\u001b[0;34m'P00974'\u001b[0m\u001b[0;34m,\u001b[0m \u001b[0;34m'A39X'\u001b[0m\u001b[0;34m)\u001b[0m \u001b[0;34m==\u001b[0m \u001b[0;34m'PF00014'\u001b[0m\u001b[0;34m\u001b[0m\u001b[0m\n",
      "\u001b[0;31mAssertionError\u001b[0m: "
     ]
    }
   ],
   "source": [
    "def get_pfam_id(uniprot_id, mutation):\n",
    "    if pd.isnull(uniprot_id) or pd.isnull(mutation):\n",
    "        return np.nan\n",
    "    mutation_pos = int(mutation[1:-1])\n",
    "    df = (\n",
    "        pfam_a_regions[\n",
    "            (pfam_a_regions['uniprot_id'] == uniprot_id) &\n",
    "            (pfam_a_regions['domain_start'] <= mutation_pos) &\n",
    "            (pfam_a_regions['domain_end'] >= mutation_pos)\n",
    "        ]['pfam_id']\n",
    "    )\n",
    "    if len(df):\n",
    "        pfam_id = df.values[0]\n",
    "    else:\n",
    "        pfam_id = np.nan\n",
    "    return pfam_id\n",
    "\n",
    "\n",
    "assert get_pfam_id('P01820', 'A20C') == 'PF07686'\n",
    "assert get_pfam_id('P01820', 'A10C') is np.nan\n",
    "assert get_pfam_id('P00974', 'A39X') == 'PF00014'\n",
    "assert get_pfam_id('P00974', 'A91X') == 'PF00014'\n",
    "assert get_pfam_id('P00974', 'A92X') is np.nan"
   ]
  },
  {
   "cell_type": "code",
   "execution_count": null,
   "metadata": {
    "collapsed": false
   },
   "outputs": [],
   "source": [
    "DATA_DF.loc[\n",
    "    DATA_DF['pfam_id'].isnull() & DATA_DF['uniprot_id'].notnull() & DATA_DF['mutation'].notnull(), \n",
    "    'pfam_id'\n",
    "] = (\n",
    "    DATA_DF.loc[\n",
    "        DATA_DF['pfam_id'].isnull() & DATA_DF['uniprot_id'].notnull() & DATA_DF['mutation'].notnull(), \n",
    "        ['uniprot_id', 'mutation']\n",
    "    ].apply(lambda x: get_pfam_id(*x), axis=1)\n",
    ")"
   ]
  },
  {
   "cell_type": "code",
   "execution_count": null,
   "metadata": {
    "collapsed": true
   },
   "outputs": [],
   "source": [
    "sql_query = \"\"\"\\\n",
    "SELECT *\n",
    "from pfam.pfam_a_clans\n",
    "\"\"\"\n",
    "pfam_a_clans = pd.read_sql_query(sql_query, db_remote.engine).set_index('pfam_id')['clan_id']"
   ]
  },
  {
   "cell_type": "code",
   "execution_count": null,
   "metadata": {
    "collapsed": true
   },
   "outputs": [],
   "source": [
    "DATA_DF.loc[\n",
    "    DATA_DF['pfam_clan'].isnull() & DATA_DF['pfam_id'].notnull(), \n",
    "    'pfam_clan'\n",
    "] = (\n",
    "    DATA_DF.loc[\n",
    "        DATA_DF['pfam_clan'].isnull() & DATA_DF['pfam_id'].notnull(),\n",
    "        'pfam_id'\n",
    "    ].map(pfam_a_clans)\n",
    ")"
   ]
  },
  {
   "cell_type": "code",
   "execution_count": null,
   "metadata": {
    "collapsed": true
   },
   "outputs": [],
   "source": [
    "uniprot_id_to_pfam_clan = {\n",
    "    k: v\n",
    "    for k, v\n",
    "    in DATA_DF[['uniprot_id', 'pfam_clan']].dropna().values\n",
    "}"
   ]
  },
  {
   "cell_type": "code",
   "execution_count": null,
   "metadata": {
    "collapsed": true
   },
   "outputs": [],
   "source": [
    "pdb_id_to_pfam_clan = {\n",
    "    k: v\n",
    "    for k, v\n",
    "    in DATA_DF[['pdb_id', 'pfam_clan']].dropna().values\n",
    "}"
   ]
  },
  {
   "cell_type": "code",
   "execution_count": null,
   "metadata": {
    "collapsed": true
   },
   "outputs": [],
   "source": [
    "def get_lco_id(pfam_clan, uniprot_id, pdb_id):\n",
    "    \n",
    "    pfam_clan_from_uniprot = uniprot_id_to_pfam_clan.get(uniprot_id)\n",
    "    pfam_clan_from_pdb = pdb_id_to_pfam_clan.get(pdb_id)\n",
    "\n",
    "    if pd.notnull(pfam_clan):\n",
    "        return pfam_clan    \n",
    "    elif pd.notnull(pfam_clan_from_uniprot):\n",
    "        return pfam_clan_from_uniprot\n",
    "    elif pd.notnull(pfam_clan_from_pdb):\n",
    "        return pfam_clan_from_pdb\n",
    "    elif pd.notnull(uniprot_id):\n",
    "        return uniprot_id\n",
    "    elif pd.notnull(pdb_id):\n",
    "        return pdb_id"
   ]
  },
  {
   "cell_type": "code",
   "execution_count": null,
   "metadata": {
    "collapsed": false
   },
   "outputs": [],
   "source": [
    "DATA_DF['lco_id'] = [\n",
    "    get_lco_id(*x)\n",
    "    for x in DATA_DF[['pfam_clan', 'uniprot_id', 'pdb_id']].values\n",
    "]"
   ]
  },
  {
   "cell_type": "code",
   "execution_count": null,
   "metadata": {
    "code_folding": [],
    "collapsed": false,
    "run_control": {
     "marked": false
    }
   },
   "outputs": [],
   "source": [
    "def get_class_sets(n_classes=6, **args):\n",
    "    \"\"\"\n",
    "    args : Counter\n",
    "        key : num rows assigned to that key\n",
    "    \"\"\"\n",
    "    args = sorted(args.items(), key=lambda x: x[1], reverse=True)\n",
    "    num_rows = sum(v[1] for v in args)\n",
    "    rows_per_class = num_rows // n_classes + 1\n",
    "\n",
    "    class_sets = []\n",
    "    for i in range(n_classes):\n",
    "        class_set = {args.pop(0)}\n",
    "        while sum(v[1] for v in class_set) < rows_per_class:\n",
    "            try:\n",
    "                class_set.add(args.pop(-1))\n",
    "            except IndexError:\n",
    "                break\n",
    "        class_sets.append(class_set)\n",
    "    assert not args\n",
    "    return class_sets"
   ]
  },
  {
   "cell_type": "code",
   "execution_count": null,
   "metadata": {
    "collapsed": false
   },
   "outputs": [],
   "source": [
    "DATA_DF['dataset'].drop_duplicates()"
   ]
  },
  {
   "cell_type": "code",
   "execution_count": 94,
   "metadata": {
    "collapsed": false
   },
   "outputs": [
    {
     "data": {
      "text/html": [
       "<div>\n",
       "<table border=\"1\" class=\"dataframe\">\n",
       "  <thead>\n",
       "    <tr style=\"text-align: right;\">\n",
       "      <th></th>\n",
       "      <th>_index</th>\n",
       "      <th>alignment_coverage</th>\n",
       "      <th>alignment_filename_1</th>\n",
       "      <th>alignment_filename_2</th>\n",
       "      <th>alignment_identity</th>\n",
       "      <th>alignment_score</th>\n",
       "      <th>backbone_clash_change</th>\n",
       "      <th>backbone_clash_wt</th>\n",
       "      <th>backbone_hbond_change</th>\n",
       "      <th>backbone_hbond_wt</th>\n",
       "      <th>cath_id_1</th>\n",
       "      <th>cath_id_2</th>\n",
       "      <th>chain_1</th>\n",
       "      <th>chain_2</th>\n",
       "      <th>chain_modeller</th>\n",
       "      <th>cis_bond_change</th>\n",
       "      <th>cis_bond_wt</th>\n",
       "      <th>conserved_1</th>\n",
       "      <th>conserved_2</th>\n",
       "      <th>conserved_if_1</th>\n",
       "      <th>conserved_if_2</th>\n",
       "      <th>contact_distance_change</th>\n",
       "      <th>contact_distance_wt</th>\n",
       "      <th>coverage_1</th>\n",
       "      <th>coverage_2</th>\n",
       "      <th>coverage_if_1</th>\n",
       "      <th>coverage_if_2</th>\n",
       "      <th>dataset</th>\n",
       "      <th>db</th>\n",
       "      <th>ddg</th>\n",
       "      <th>ddg_exp</th>\n",
       "      <th>del_class_exp</th>\n",
       "      <th>del_score_exp</th>\n",
       "      <th>dg_change</th>\n",
       "      <th>dg_wt</th>\n",
       "      <th>disulfide_change</th>\n",
       "      <th>disulfide_wt</th>\n",
       "      <th>domain_contact_id</th>\n",
       "      <th>domain_contact_ids</th>\n",
       "      <th>electrostatic_kon_change</th>\n",
       "      <th>electrostatic_kon_wt</th>\n",
       "      <th>electrostatics_change</th>\n",
       "      <th>electrostatics_wt</th>\n",
       "      <th>energy_ionisation_change</th>\n",
       "      <th>energy_ionisation_wt</th>\n",
       "      <th>entropy_complex_change</th>\n",
       "      <th>entropy_complex_wt</th>\n",
       "      <th>entropy_mainchain_change</th>\n",
       "      <th>entropy_mainchain_wt</th>\n",
       "      <th>entropy_sidechain_change</th>\n",
       "      <th>entropy_sidechain_wt</th>\n",
       "      <th>gene_name</th>\n",
       "      <th>helix_dipole_change</th>\n",
       "      <th>helix_dipole_wt</th>\n",
       "      <th>id</th>\n",
       "      <th>identical_1</th>\n",
       "      <th>identical_2</th>\n",
       "      <th>identical_if_1</th>\n",
       "      <th>identical_if_2</th>\n",
       "      <th>idx</th>\n",
       "      <th>idxs</th>\n",
       "      <th>interacting_aa_1</th>\n",
       "      <th>interacting_aa_2</th>\n",
       "      <th>interface_area_hydrophilic</th>\n",
       "      <th>interface_area_hydrophobic</th>\n",
       "      <th>interface_area_total</th>\n",
       "      <th>interface_dg</th>\n",
       "      <th>intraclashes_energy_1_change</th>\n",
       "      <th>intraclashes_energy_1_wt</th>\n",
       "      <th>intraclashes_energy_2_change</th>\n",
       "      <th>intraclashes_energy_2_wt</th>\n",
       "      <th>m_date_modified</th>\n",
       "      <th>matrix_score</th>\n",
       "      <th>max_seq_identity</th>\n",
       "      <th>mloop_entropy_change</th>\n",
       "      <th>mloop_entropy_wt</th>\n",
       "      <th>model_domain_def_1</th>\n",
       "      <th>model_domain_def_2</th>\n",
       "      <th>model_errors</th>\n",
       "      <th>model_file_mut</th>\n",
       "      <th>model_file_wt</th>\n",
       "      <th>model_filename</th>\n",
       "      <th>model_filename_mut</th>\n",
       "      <th>model_filename_wt</th>\n",
       "      <th>mut_date_modified</th>\n",
       "      <th>mutation</th>\n",
       "      <th>mutation_errors</th>\n",
       "      <th>mutation_modeller</th>\n",
       "      <th>norm_dope</th>\n",
       "      <th>number_of_residues</th>\n",
       "      <th>organism_name</th>\n",
       "      <th>partial_covalent_bonds_change</th>\n",
       "      <th>partial_covalent_bonds_wt</th>\n",
       "      <th>partner_pdb_chain</th>\n",
       "      <th>partner_uniprot_id</th>\n",
       "      <th>path_to_data</th>\n",
       "      <th>pcv_hbond_change</th>\n",
       "      <th>pcv_hbond_self_change</th>\n",
       "      <th>pcv_hbond_self_wt</th>\n",
       "      <th>pcv_hbond_wt</th>\n",
       "      <th>pcv_salt_equal_change</th>\n",
       "      <th>pcv_salt_equal_self_change</th>\n",
       "      <th>pcv_salt_equal_self_wt</th>\n",
       "      <th>pcv_salt_equal_wt</th>\n",
       "      <th>pcv_salt_opposite_change</th>\n",
       "      <th>pcv_salt_opposite_self_change</th>\n",
       "      <th>pcv_salt_opposite_self_wt</th>\n",
       "      <th>pcv_salt_opposite_wt</th>\n",
       "      <th>pcv_vdw_change</th>\n",
       "      <th>pcv_vdw_self_change</th>\n",
       "      <th>pcv_vdw_self_wt</th>\n",
       "      <th>pcv_vdw_wt</th>\n",
       "      <th>pdb_chain</th>\n",
       "      <th>pdb_id</th>\n",
       "      <th>pdb_mutation</th>\n",
       "      <th>pfam_clan</th>\n",
       "      <th>pfam_id</th>\n",
       "      <th>protein_existence</th>\n",
       "      <th>protein_name</th>\n",
       "      <th>provean_score</th>\n",
       "      <th>rigids</th>\n",
       "      <th>score_1</th>\n",
       "      <th>score_2</th>\n",
       "      <th>score_if_1</th>\n",
       "      <th>score_if_2</th>\n",
       "      <th>score_if_total</th>\n",
       "      <th>score_overall</th>\n",
       "      <th>score_total</th>\n",
       "      <th>secondary_structure_change</th>\n",
       "      <th>secondary_structure_wt</th>\n",
       "      <th>sequence_version</th>\n",
       "      <th>sidechain_hbond_change</th>\n",
       "      <th>sidechain_hbond_wt</th>\n",
       "      <th>sloop_entropy_change</th>\n",
       "      <th>sloop_entropy_wt</th>\n",
       "      <th>solvation_hydrophobic_change</th>\n",
       "      <th>solvation_hydrophobic_wt</th>\n",
       "      <th>solvation_polar_change</th>\n",
       "      <th>solvation_polar_wt</th>\n",
       "      <th>solvent_accessibility_change</th>\n",
       "      <th>solvent_accessibility_wt</th>\n",
       "      <th>stability_energy_mut</th>\n",
       "      <th>stability_energy_wt</th>\n",
       "      <th>t_date_modified</th>\n",
       "      <th>template_errors</th>\n",
       "      <th>torsional_clash_change</th>\n",
       "      <th>torsional_clash_wt</th>\n",
       "      <th>uniprot_domain_id_1</th>\n",
       "      <th>uniprot_domain_id_2</th>\n",
       "      <th>uniprot_domain_pair_id</th>\n",
       "      <th>uniprot_domain_pair_id_old</th>\n",
       "      <th>uniprot_id</th>\n",
       "      <th>uniprot_id_1</th>\n",
       "      <th>uniprot_id_2</th>\n",
       "      <th>uniprot_mutation</th>\n",
       "      <th>uniprot_name</th>\n",
       "      <th>uniprot_sequence</th>\n",
       "      <th>van_der_waals_change</th>\n",
       "      <th>van_der_waals_clashes_change</th>\n",
       "      <th>van_der_waals_clashes_wt</th>\n",
       "      <th>van_der_waals_wt</th>\n",
       "      <th>water_bridge_change</th>\n",
       "      <th>water_bridge_wt</th>\n",
       "      <th>lco_id</th>\n",
       "    </tr>\n",
       "  </thead>\n",
       "  <tbody>\n",
       "  </tbody>\n",
       "</table>\n",
       "</div>"
      ],
      "text/plain": [
       "Empty DataFrame\n",
       "Columns: [_index, alignment_coverage, alignment_filename_1, alignment_filename_2, alignment_identity, alignment_score, backbone_clash_change, backbone_clash_wt, backbone_hbond_change, backbone_hbond_wt, cath_id_1, cath_id_2, chain_1, chain_2, chain_modeller, cis_bond_change, cis_bond_wt, conserved_1, conserved_2, conserved_if_1, conserved_if_2, contact_distance_change, contact_distance_wt, coverage_1, coverage_2, coverage_if_1, coverage_if_2, dataset, db, ddg, ddg_exp, del_class_exp, del_score_exp, dg_change, dg_wt, disulfide_change, disulfide_wt, domain_contact_id, domain_contact_ids, electrostatic_kon_change, electrostatic_kon_wt, electrostatics_change, electrostatics_wt, energy_ionisation_change, energy_ionisation_wt, entropy_complex_change, entropy_complex_wt, entropy_mainchain_change, entropy_mainchain_wt, entropy_sidechain_change, entropy_sidechain_wt, gene_name, helix_dipole_change, helix_dipole_wt, id, identical_1, identical_2, identical_if_1, identical_if_2, idx, idxs, interacting_aa_1, interacting_aa_2, interface_area_hydrophilic, interface_area_hydrophobic, interface_area_total, interface_dg, intraclashes_energy_1_change, intraclashes_energy_1_wt, intraclashes_energy_2_change, intraclashes_energy_2_wt, m_date_modified, matrix_score, max_seq_identity, mloop_entropy_change, mloop_entropy_wt, model_domain_def_1, model_domain_def_2, model_errors, model_file_mut, model_file_wt, model_filename, model_filename_mut, model_filename_wt, mut_date_modified, mutation, mutation_errors, mutation_modeller, norm_dope, number_of_residues, organism_name, partial_covalent_bonds_change, partial_covalent_bonds_wt, partner_pdb_chain, partner_uniprot_id, path_to_data, pcv_hbond_change, pcv_hbond_self_change, pcv_hbond_self_wt, pcv_hbond_wt, ...]\n",
       "Index: []"
      ]
     },
     "execution_count": 94,
     "metadata": {},
     "output_type": "execute_result"
    }
   ],
   "source": [
    "DATA_DF[DATA_DF['dataset'] == 'protherm++']"
   ]
  },
  {
   "cell_type": "code",
   "execution_count": 83,
   "metadata": {
    "collapsed": false,
    "run_control": {
     "marked": false
    }
   },
   "outputs": [
    {
     "ename": "IndexError",
     "evalue": "pop from empty list",
     "output_type": "error",
     "traceback": [
      "\u001b[0;31m---------------------------------------------------------------------------\u001b[0m",
      "\u001b[0;31mIndexError\u001b[0m                                Traceback (most recent call last)",
      "\u001b[0;32m<ipython-input-83-ab8d67e3b594>\u001b[0m in \u001b[0;36m<module>\u001b[0;34m()\u001b[0m\n\u001b[1;32m      1\u001b[0m \u001b[0mc\u001b[0m \u001b[0;34m=\u001b[0m \u001b[0mCounter\u001b[0m\u001b[0;34m(\u001b[0m\u001b[0mDATA_DF\u001b[0m\u001b[0;34m[\u001b[0m\u001b[0mDATA_DF\u001b[0m\u001b[0;34m[\u001b[0m\u001b[0;34m'dataset'\u001b[0m\u001b[0;34m]\u001b[0m \u001b[0;34m==\u001b[0m \u001b[0;34m'protherm++'\u001b[0m\u001b[0;34m]\u001b[0m\u001b[0;34m[\u001b[0m\u001b[0;34m'lco_id'\u001b[0m\u001b[0;34m]\u001b[0m\u001b[0;34m)\u001b[0m\u001b[0;34m\u001b[0m\u001b[0m\n\u001b[0;32m----> 2\u001b[0;31m \u001b[0mclass_sets\u001b[0m \u001b[0;34m=\u001b[0m \u001b[0mget_class_sets\u001b[0m\u001b[0;34m(\u001b[0m\u001b[0;34m**\u001b[0m\u001b[0mc\u001b[0m\u001b[0;34m,\u001b[0m \u001b[0mn_classes\u001b[0m\u001b[0;34m=\u001b[0m\u001b[0;36m5\u001b[0m\u001b[0;34m)\u001b[0m\u001b[0;34m\u001b[0m\u001b[0m\n\u001b[0m",
      "\u001b[0;32m<ipython-input-76-89aa564ee2e3>\u001b[0m in \u001b[0;36mget_class_sets\u001b[0;34m(n_classes, **args)\u001b[0m\n\u001b[1;32m     10\u001b[0m     \u001b[0mclass_sets\u001b[0m \u001b[0;34m=\u001b[0m \u001b[0;34m[\u001b[0m\u001b[0;34m]\u001b[0m\u001b[0;34m\u001b[0m\u001b[0m\n\u001b[1;32m     11\u001b[0m     \u001b[0;32mfor\u001b[0m \u001b[0mi\u001b[0m \u001b[0;32min\u001b[0m \u001b[0mrange\u001b[0m\u001b[0;34m(\u001b[0m\u001b[0mn_classes\u001b[0m\u001b[0;34m)\u001b[0m\u001b[0;34m:\u001b[0m\u001b[0;34m\u001b[0m\u001b[0m\n\u001b[0;32m---> 12\u001b[0;31m         \u001b[0mclass_set\u001b[0m \u001b[0;34m=\u001b[0m \u001b[0;34m{\u001b[0m\u001b[0margs\u001b[0m\u001b[0;34m.\u001b[0m\u001b[0mpop\u001b[0m\u001b[0;34m(\u001b[0m\u001b[0;36m0\u001b[0m\u001b[0;34m)\u001b[0m\u001b[0;34m}\u001b[0m\u001b[0;34m\u001b[0m\u001b[0m\n\u001b[0m\u001b[1;32m     13\u001b[0m         \u001b[0;32mwhile\u001b[0m \u001b[0msum\u001b[0m\u001b[0;34m(\u001b[0m\u001b[0mv\u001b[0m\u001b[0;34m[\u001b[0m\u001b[0;36m1\u001b[0m\u001b[0;34m]\u001b[0m \u001b[0;32mfor\u001b[0m \u001b[0mv\u001b[0m \u001b[0;32min\u001b[0m \u001b[0mclass_set\u001b[0m\u001b[0;34m)\u001b[0m \u001b[0;34m<\u001b[0m \u001b[0mrows_per_class\u001b[0m\u001b[0;34m:\u001b[0m\u001b[0;34m\u001b[0m\u001b[0m\n\u001b[1;32m     14\u001b[0m             \u001b[0;32mtry\u001b[0m\u001b[0;34m:\u001b[0m\u001b[0;34m\u001b[0m\u001b[0m\n",
      "\u001b[0;31mIndexError\u001b[0m: pop from empty list"
     ]
    }
   ],
   "source": [
    "c = Counter(DATA_DF[DATA_DF['dataset'] == 'protherm++']['lco_id'])\n",
    "class_sets = get_class_sets(**c, n_classes=5)"
   ]
  },
  {
   "cell_type": "code",
   "execution_count": 91,
   "metadata": {
    "collapsed": false
   },
   "outputs": [
    {
     "data": {
      "text/plain": [
       "Counter({'O15211': 20,\n",
       "         'Q9ULW0': 7,\n",
       "         'Q3SY84': 81,\n",
       "         'P43489': 3,\n",
       "         'Q9UNL4': 4,\n",
       "         'P46783': 3,\n",
       "         'O75306': 15,\n",
       "         'P47872': 4,\n",
       "         'Q9Y2X3': 11,\n",
       "         'P14780': 14,\n",
       "         'P51784': 2,\n",
       "         'P46776': 1,\n",
       "         'O14867': 3,\n",
       "         'P15923': 86,\n",
       "         'P30532': 7,\n",
       "         'O00175': 2,\n",
       "         'P31151': 2,\n",
       "         'Q9H8M2': 3,\n",
       "         'CL0230': 10,\n",
       "         'P10073': 17,\n",
       "         'O60610': 7,\n",
       "         'CL0221': 1154,\n",
       "         'Q9Y294': 14,\n",
       "         'O15061': 2,\n",
       "         'P56704': 11,\n",
       "         'Q9BRX5': 1,\n",
       "         'CL0018': 236,\n",
       "         'Q15697': 6,\n",
       "         'P14136': 33,\n",
       "         'P38507': 15,\n",
       "         'CL0433': 1,\n",
       "         'Q9BXR6': 1,\n",
       "         'P43004': 9,\n",
       "         'Q9BTC8': 1,\n",
       "         'O94827': 11,\n",
       "         'P01009': 59,\n",
       "         'CL0107': 6,\n",
       "         'Q96HS1': 1,\n",
       "         'P45378': 3,\n",
       "         'O60885': 21,\n",
       "         'Q16515': 5,\n",
       "         'Q01534': 1,\n",
       "         'Q9BPZ3': 3,\n",
       "         'P06730': 7,\n",
       "         'P42345': 25,\n",
       "         'CL0178': 15,\n",
       "         'CL0407': 72,\n",
       "         'O75159': 3,\n",
       "         'Q01664': 6,\n",
       "         'O75593': 3,\n",
       "         'Q02556': 19,\n",
       "         'P61313': 4,\n",
       "         'Q96QF0': 2,\n",
       "         'CL0159': 1366,\n",
       "         'P09972': 6,\n",
       "         'Q9BYV2': 4,\n",
       "         'CL0280': 6,\n",
       "         'P05120': 2,\n",
       "         'Q9BYJ1': 5,\n",
       "         'CL0090': 663,\n",
       "         'P62249': 8,\n",
       "         'CL0022': 364,\n",
       "         'Q96K17': 5,\n",
       "         'Q9HCS4': 2,\n",
       "         'P36578': 2,\n",
       "         'CL0108': 625,\n",
       "         'Q8IUR7': 1,\n",
       "         'Q5PSV4': 4,\n",
       "         'Q86SE8': 5,\n",
       "         'Q8TF39': 1,\n",
       "         'Q8TBZ3': 2,\n",
       "         'Q86WC6': 2,\n",
       "         'P52655': 4,\n",
       "         'Q9UL15': 11,\n",
       "         'P43220': 2,\n",
       "         'CL0148': 15,\n",
       "         'CL0041': 180,\n",
       "         'CL0271': 66,\n",
       "         'P05062': 10,\n",
       "         'Q96P63': 1,\n",
       "         'CL0179': 54,\n",
       "         'P55316': 54,\n",
       "         'O43157': 27,\n",
       "         'O75689': 3,\n",
       "         'P47755': 6,\n",
       "         'P26447': 1,\n",
       "         'Q8NEB9': 13,\n",
       "         'P03950': 20,\n",
       "         'O94887': 1,\n",
       "         'Q9BXF6': 5,\n",
       "         'CL0335': 16,\n",
       "         'CL0005': 1164,\n",
       "         '1mhp': 62,\n",
       "         'Q8IUR0': 7,\n",
       "         'P49815': 99,\n",
       "         'Q9H009': 4,\n",
       "         'O15234': 3,\n",
       "         'Q04656': 15,\n",
       "         'P19876': 13,\n",
       "         'Q96AX1': 2,\n",
       "         'Q16559': 10,\n",
       "         'O00186': 10,\n",
       "         'Q9NZC7': 3,\n",
       "         'P30622': 13,\n",
       "         'CL0068': 43,\n",
       "         'Q9BZK7': 1,\n",
       "         'P07101': 19,\n",
       "         'CL0240': 33,\n",
       "         'P04259': 67,\n",
       "         'A6NHL2': 1,\n",
       "         'Q5TBB1': 7,\n",
       "         'P01106': 28,\n",
       "         'P24666': 3,\n",
       "         'P40227': 20,\n",
       "         'CL0339': 5,\n",
       "         'P13647': 196,\n",
       "         'Q9NT62': 1,\n",
       "         'P10809': 8,\n",
       "         'Q9H211': 4,\n",
       "         'P80060': 2,\n",
       "         'CL0454': 297,\n",
       "         'P48443': 47,\n",
       "         'Q8WWN8': 5,\n",
       "         'Q9HXB1': 5,\n",
       "         'P07093': 2,\n",
       "         'Q8TD16': 2,\n",
       "         'Q13610': 3,\n",
       "         'Q13886': 1,\n",
       "         'Q8NF50': 15,\n",
       "         'P0C7T5': 4,\n",
       "         'P01282': 2,\n",
       "         'Q13232': 9,\n",
       "         'P26196': 1,\n",
       "         'Q9NVP2': 6,\n",
       "         'Q03164': 1,\n",
       "         'O00585': 5,\n",
       "         'P08729': 23,\n",
       "         'CL0011': 2711,\n",
       "         'Q99990': 3,\n",
       "         'Q96BH3': 5,\n",
       "         'Q12772': 18,\n",
       "         'Q86YS3': 13,\n",
       "         'O00755': 6,\n",
       "         'CL0163': 209,\n",
       "         'O95749': 4,\n",
       "         'CL0318': 38,\n",
       "         'Q13616': 5,\n",
       "         'Q12778': 2,\n",
       "         'P22234': 8,\n",
       "         'O15554': 4,\n",
       "         'P40197': 1,\n",
       "         'Q99733': 18,\n",
       "         'P28702': 18,\n",
       "         'P67870': 36,\n",
       "         'P68799': 6,\n",
       "         'Q8NF99': 2,\n",
       "         'O14618': 11,\n",
       "         'CL0304': 20,\n",
       "         'P47756': 15,\n",
       "         'O14896': 6,\n",
       "         'P49903': 4,\n",
       "         'CL0151': 1,\n",
       "         'O00512': 4,\n",
       "         'CL0223': 10,\n",
       "         'P46655': 2,\n",
       "         'CL0121': 30,\n",
       "         'P41587': 3,\n",
       "         'Q8N1Q1': 1,\n",
       "         'O15344': 9,\n",
       "         'Q96GX9': 3,\n",
       "         'P42568': 1,\n",
       "         'O96004': 20,\n",
       "         'Q92187': 8,\n",
       "         'Q14563': 4,\n",
       "         'Q9UGJ0': 63,\n",
       "         'Q96SQ7': 1,\n",
       "         'P05106': 64,\n",
       "         'Q9UGI6': 7,\n",
       "         'P15531': 8,\n",
       "         'Q9HAY2': 3,\n",
       "         'P23511': 4,\n",
       "         'CL0094': 26,\n",
       "         'P05154': 35,\n",
       "         'P62913': 1,\n",
       "         'Q9NQ86': 2,\n",
       "         'Q14203': 17,\n",
       "         'CL0260': 4,\n",
       "         'P05387': 1,\n",
       "         'O43711': 3,\n",
       "         'CL0167': 39,\n",
       "         'Q0ED31': 23,\n",
       "         'Q9UGP5': 1,\n",
       "         'O00567': 12,\n",
       "         'P62244': 3,\n",
       "         'Q6ZVZ8': 1,\n",
       "         'P51531': 11,\n",
       "         'CL0035': 48,\n",
       "         'P00648': 48,\n",
       "         'Q9UBP5': 17,\n",
       "         'O95219': 5,\n",
       "         'O15041': 3,\n",
       "         'P43681': 7,\n",
       "         'P17542': 10,\n",
       "         'P22102': 14,\n",
       "         'P50553': 11,\n",
       "         'Q9HC29': 2,\n",
       "         'P49918': 8,\n",
       "         'O75344': 4,\n",
       "         'P61247': 1,\n",
       "         'Q9NSI6': 1,\n",
       "         'P30872': 1,\n",
       "         'CL0302': 115,\n",
       "         'CL0465': 1151,\n",
       "         'P04198': 27,\n",
       "         'Q13156': 9,\n",
       "         'Q07001': 7,\n",
       "         'Q8WXK3': 1,\n",
       "         'Q9NRL2': 4,\n",
       "         'P24928': 2,\n",
       "         'Q99616': 1,\n",
       "         'Q9NRD9': 3,\n",
       "         'P25440': 44,\n",
       "         'P61981': 7,\n",
       "         'P01011': 43,\n",
       "         'O60496': 6,\n",
       "         'Q9UJM3': 16,\n",
       "         'CL0328': 3,\n",
       "         'P11686': 4,\n",
       "         'O95786': 4,\n",
       "         'P31947': 8,\n",
       "         'Q14449': 15,\n",
       "         'CL0239': 106,\n",
       "         'P35354': 4,\n",
       "         'P49448': 1,\n",
       "         'Q92673': 3,\n",
       "         'P01185': 4,\n",
       "         'P36956': 8,\n",
       "         'CL0293': 32,\n",
       "         'P18564': 9,\n",
       "         'Q9C0D0': 3,\n",
       "         'P03372': 27,\n",
       "         'CL0079': 799,\n",
       "         'P08603': 3,\n",
       "         'P18859': 3,\n",
       "         'P10276': 14,\n",
       "         'Q9UHC3': 5,\n",
       "         'Q9NPF8': 1,\n",
       "         'CL0160': 5,\n",
       "         'Q16270': 1,\n",
       "         'P10588': 24,\n",
       "         'Q5T5M9': 1,\n",
       "         'CL0172': 269,\n",
       "         'Q9GZZ7': 1,\n",
       "         'P02538': 268,\n",
       "         'Q16666': 6,\n",
       "         'CL0161': 10,\n",
       "         'P14653': 17,\n",
       "         'CL0073': 1593,\n",
       "         'Q13936': 7,\n",
       "         'P31323': 2,\n",
       "         'P78371': 20,\n",
       "         'P21283': 5,\n",
       "         'Q5JSP0': 8,\n",
       "         'CL0547': 100,\n",
       "         'Q6A162': 43,\n",
       "         'P23409': 26,\n",
       "         'P05093': 6,\n",
       "         'Q676U5': 2,\n",
       "         'P25942': 3,\n",
       "         'P56705': 1,\n",
       "         'O95405': 8,\n",
       "         'Q96IV0': 16,\n",
       "         'Q8NEY4': 10,\n",
       "         'P35221': 11,\n",
       "         'CL0036': 87,\n",
       "         '3k2m': 7,\n",
       "         'P07197': 8,\n",
       "         'P21675': 5,\n",
       "         'Q96NA2': 3,\n",
       "         'Q9NX02': 3,\n",
       "         'Q86XP3': 1,\n",
       "         'Q99967': 6,\n",
       "         'P98174': 12,\n",
       "         'Q9BZD4': 12,\n",
       "         'Q96IT1': 20,\n",
       "         'P15529': 11,\n",
       "         'Q05195': 33,\n",
       "         'CL0104': 2,\n",
       "         'Q7RTU1': 6,\n",
       "         'P19793': 43,\n",
       "         'P35908': 201,\n",
       "         'Q8IZC7': 1,\n",
       "         'Q9BSM1': 9,\n",
       "         'O00255': 3,\n",
       "         'CL0085': 19,\n",
       "         'Q9BX67': 1,\n",
       "         'P08174': 7,\n",
       "         'P13631': 9,\n",
       "         'Q7Z628': 2,\n",
       "         'CL0113': 135,\n",
       "         'Q9BPX5': 2,\n",
       "         'CL0028': 55,\n",
       "         'P00441': 31,\n",
       "         'O43570': 2,\n",
       "         'CL0361': 125,\n",
       "         'CL0177': 16,\n",
       "         'Q13042': 8,\n",
       "         'CL0129': 16,\n",
       "         'P51587': 18,\n",
       "         'Q9H8Y5': 3,\n",
       "         'Q01105': 9,\n",
       "         'Q06190': 1,\n",
       "         'Q04917': 4,\n",
       "         'P78543': 12,\n",
       "         'Q9H269': 5,\n",
       "         'Q86X55': 1,\n",
       "         'O75947': 1,\n",
       "         'Q8N3C7': 9,\n",
       "         'Q92820': 5,\n",
       "         'P48546': 3,\n",
       "         'CL0127': 37,\n",
       "         'P14316': 1,\n",
       "         'CL0486': 11,\n",
       "         'P56703': 6,\n",
       "         'P56373': 18,\n",
       "         'P11712': 11,\n",
       "         'Q14191': 2,\n",
       "         'O95760': 6,\n",
       "         'Q86WV6': 5,\n",
       "         'CL0392': 1,\n",
       "         '3bn9': 19,\n",
       "         'Q86U86': 12,\n",
       "         'Q8TDX7': 1,\n",
       "         'P23193': 2,\n",
       "         'Q9Y490': 26,\n",
       "         'O75469': 6,\n",
       "         'CL0409': 296,\n",
       "         'P00395': 1,\n",
       "         'P49406': 3,\n",
       "         'CL0466': 976,\n",
       "         'Q8WWY3': 2,\n",
       "         'Q9P2P5': 1,\n",
       "         'CL0192': 815,\n",
       "         'Q9UDY8': 2,\n",
       "         'Q9UJX6': 6,\n",
       "         'Q9C0K0': 3,\n",
       "         'O60602': 1,\n",
       "         'P08621': 4,\n",
       "         'O00410': 2,\n",
       "         '2nz9': 16,\n",
       "         'P15884': 123,\n",
       "         'Q8WV22': 2,\n",
       "         'Q8IX29': 2,\n",
       "         'Q9NZV8': 11,\n",
       "         'P49023': 3,\n",
       "         'Q5T215': 6,\n",
       "         'O75342': 7,\n",
       "         'Q99426': 3,\n",
       "         'CL0533': 158,\n",
       "         'Q96RJ6': 13,\n",
       "         'CL0066': 472,\n",
       "         'P05231': 5,\n",
       "         'P16298': 9,\n",
       "         'CL0190': 242,\n",
       "         'P09661': 5,\n",
       "         'Q96A72': 2,\n",
       "         'Q99598': 3,\n",
       "         'Q9BX84': 2,\n",
       "         'CL0366': 54,\n",
       "         'Q04828': 1,\n",
       "         'P11473': 46,\n",
       "         'P30740': 3,\n",
       "         'P46672': 1,\n",
       "         'CL0367': 56,\n",
       "         'P13473': 1,\n",
       "         'O75815': 4,\n",
       "         'Q7Z3Y8': 5,\n",
       "         'Q9Y3Q4': 7,\n",
       "         'Q969V6': 1,\n",
       "         'P46060': 5,\n",
       "         'P49354': 5,\n",
       "         'Q9H8W5': 1,\n",
       "         'CL0039': 144,\n",
       "         'O95425': 2,\n",
       "         'P48637': 3,\n",
       "         'CL0212': 92,\n",
       "         'P13479': 19,\n",
       "         'P15538': 3,\n",
       "         'CL0126': 100,\n",
       "         'CL0341': 37,\n",
       "         'Q8N961': 2,\n",
       "         'Q9NPI1': 18,\n",
       "         'P26373': 5,\n",
       "         'Q9Y4E8': 4,\n",
       "         'P78318': 5,\n",
       "         'Q9H2S1': 6,\n",
       "         'P10914': 1,\n",
       "         'Q13535': 13,\n",
       "         'P20042': 5,\n",
       "         'P05556': 16,\n",
       "         'Q9Y613': 12,\n",
       "         'Q9HCK1': 2,\n",
       "         'Q14192': 4,\n",
       "         'Q9NZD4': 2,\n",
       "         'P23368': 3,\n",
       "         'Q13432': 27,\n",
       "         'CL0319': 3,\n",
       "         'Q96LC9': 11,\n",
       "         'CL0171': 122,\n",
       "         'Q96S59': 3,\n",
       "         'Q9UKX7': 16,\n",
       "         'P42224': 8,\n",
       "         'P35237': 11,\n",
       "         'P35527': 16,\n",
       "         'Q53EZ4': 1,\n",
       "         'P29074': 5,\n",
       "         'Q9NPA8': 1,\n",
       "         'P37231': 20,\n",
       "         'CL0123': 469,\n",
       "         'Q8N474': 8,\n",
       "         'P35269': 4,\n",
       "         'P18509': 5,\n",
       "         'P29033': 56,\n",
       "         'Q8WTS6': 2,\n",
       "         'P05164': 5,\n",
       "         'P00367': 1,\n",
       "         'P48594': 7,\n",
       "         'P18084': 27,\n",
       "         'P09681': 2,\n",
       "         'P56159': 10,\n",
       "         'Q96H20': 5,\n",
       "         'CL0452': 193,\n",
       "         'A5YKK6': 14,\n",
       "         'P35247': 3,\n",
       "         'Q13303': 8,\n",
       "         'P51800': 8,\n",
       "         'CL0265': 14,\n",
       "         'Q9ULU4': 2,\n",
       "         'Q13618': 4,\n",
       "         'Q8N9B4': 1,\n",
       "         'Q969X5': 2,\n",
       "         'P07510': 5,\n",
       "         'P61218': 7,\n",
       "         'P51693': 6,\n",
       "         'P61244': 89,\n",
       "         'Q7Z4K8': 6,\n",
       "         'P05386': 2,\n",
       "         'Q92565': 10,\n",
       "         'P37802': 1,\n",
       "         'CL0270': 25,\n",
       "         'Q9Y2Y0': 6,\n",
       "         'P31483': 1,\n",
       "         'P06727': 19,\n",
       "         'O00451': 3,\n",
       "         'Q13426': 8,\n",
       "         'P20929': 1,\n",
       "         'Q9BRG1': 2,\n",
       "         'Q9ULR5': 2,\n",
       "         'CL0014': 16,\n",
       "         'Q5VWJ9': 4,\n",
       "         'P48788': 26,\n",
       "         'P10911': 30,\n",
       "         'P60896': 1,\n",
       "         'P47928': 8,\n",
       "         'O95149': 11,\n",
       "         'P51825': 3,\n",
       "         'Q07890': 16,\n",
       "         'CL0137': 211,\n",
       "         'Q9UJP4': 1,\n",
       "         'P04156': 67,\n",
       "         'CL0263': 156,\n",
       "         'P50616': 4,\n",
       "         'Q8WV44': 11,\n",
       "         'P51575': 4,\n",
       "         'CL0402': 6,\n",
       "         'P24593': 7,\n",
       "         'P62750': 2,\n",
       "         'Q14644': 1,\n",
       "         'CL0067': 38,\n",
       "         'Q8IWL2': 3,\n",
       "         'Q9NPJ1': 33,\n",
       "         'Q8WYP3': 10,\n",
       "         'O14893': 3,\n",
       "         'P78380': 2,\n",
       "         'CL0183': 506,\n",
       "         'P61457': 4,\n",
       "         'P56279': 6,\n",
       "         'O60741': 25,\n",
       "         'Q9UBN6': 1,\n",
       "         'Q9UKC9': 3,\n",
       "         'P02708': 17,\n",
       "         'O14862': 5,\n",
       "         'Q9NR97': 1,\n",
       "         'Q9BS40': 1,\n",
       "         'Q96JK9': 1,\n",
       "         'Q15642': 4,\n",
       "         'Q15326': 1,\n",
       "         'P01270': 1,\n",
       "         'Q9BYW2': 2,\n",
       "         'P28476': 7,\n",
       "         'P04424': 28,\n",
       "         'Q15822': 12,\n",
       "         'P55789': 7,\n",
       "         'Q15672': 20,\n",
       "         'Q9H4P4': 9,\n",
       "         'P63211': 1,\n",
       "         'Q07021': 3,\n",
       "         'Q96HI0': 2,\n",
       "         'P35523': 44,\n",
       "         'Q9P2K3': 7,\n",
       "         'Q9BPX1': 1,\n",
       "         'O75084': 20,\n",
       "         'CL0044': 48,\n",
       "         'P30301': 16,\n",
       "         'Q9Y3P9': 9,\n",
       "         'Q92900': 4,\n",
       "         'CL0343': 310,\n",
       "         'CL0509': 57,\n",
       "         'P20591': 1,\n",
       "         'CL0552': 296,\n",
       "         'P48201': 4,\n",
       "         'CL0235': 39,\n",
       "         'O14709': 3,\n",
       "         'CL0117': 177,\n",
       "         'O00418': 2,\n",
       "         'CL0100': 190,\n",
       "         'CL0254': 100,\n",
       "         'Q9H4T2': 4,\n",
       "         'P47736': 12,\n",
       "         'Q8TDP1': 7,\n",
       "         'Q9UIV8': 6,\n",
       "         'Q12830': 3,\n",
       "         'P43250': 1,\n",
       "         '2nyy': 18,\n",
       "         'P52657': 1,\n",
       "         'P39019': 4,\n",
       "         'P02649': 40,\n",
       "         'P22392': 1,\n",
       "         'Q16790': 1,\n",
       "         'O95816': 4,\n",
       "         'Q9UL46': 10,\n",
       "         'CL0231': 2,\n",
       "         'Q7A260': 14,\n",
       "         'O15031': 1,\n",
       "         'CL0264': 3,\n",
       "         'CL0025': 123,\n",
       "         'CL0170': 27,\n",
       "         'P12755': 7,\n",
       "         'P11540': 22,\n",
       "         'P10635': 24,\n",
       "         'CL0532': 3,\n",
       "         'Q14653': 5,\n",
       "         'Q96RK1': 4,\n",
       "         'CL0311': 8,\n",
       "         'Q13671': 10,\n",
       "         'P20592': 5,\n",
       "         'Q96DX5': 2,\n",
       "         'CL0196': 37,\n",
       "         'Q9P104': 2,\n",
       "         'Q15555': 17,\n",
       "         'CL0248': 2,\n",
       "         'Q13118': 1,\n",
       "         'Q9Y4Z2': 7,\n",
       "         'Q9UI95': 7,\n",
       "         'CL0357': 352,\n",
       "         'P18065': 9,\n",
       "         'CL0053': 433,\n",
       "         'P04233': 2,\n",
       "         'O00268': 8,\n",
       "         'CL0326': 9,\n",
       "         'Q13617': 31,\n",
       "         'CL0021': 37,\n",
       "         'Q13219': 7,\n",
       "         'P01062': 8,\n",
       "         'P32297': 4,\n",
       "         'P30926': 21,\n",
       "         'Q969Q1': 12,\n",
       "         'Q15853': 8,\n",
       "         'Q9UJ04': 3,\n",
       "         'P05121': 26,\n",
       "         'Q16595': 2,\n",
       "         'Q8IWY4': 2,\n",
       "         'P19875': 2,\n",
       "         'Q9BXB5': 1,\n",
       "         'Q9Y5J3': 8,\n",
       "         'P22415': 3,\n",
       "         'P01019': 12,\n",
       "         'Q6ZW61': 7,\n",
       "         'P08697': 30,\n",
       "         'Q04695': 49,\n",
       "         'Q7Z4I7': 1,\n",
       "         'O14787': 1,\n",
       "         'Q99583': 3,\n",
       "         'P51164': 4,\n",
       "         'P07998': 6,\n",
       "         'P20292': 6,\n",
       "         'CL0320': 112,\n",
       "         'O43924': 9,\n",
       "         'P00480': 53,\n",
       "         'Q5D734': 13,\n",
       "         'P23470': 3,\n",
       "         'CL0168': 4,\n",
       "         'P17987': 19,\n",
       "         'CL0147': 28,\n",
       "         'P68371': 18,\n",
       "         'O95487': 2,\n",
       "         'Q92496': 3,\n",
       "         'O14802': 34,\n",
       "         'O95684': 2,\n",
       "         'Q9NQB0': 3,\n",
       "         'Q6VVX0': 1,\n",
       "         'Q9NWS9': 26,\n",
       "         'O14684': 4,\n",
       "         'Q86VW2': 6,\n",
       "         'P10275': 7,\n",
       "         'Q9Y5X4': 9,\n",
       "         'Q9NZ45': 2,\n",
       "         'O00300': 4,\n",
       "         'O75030': 16,\n",
       "         'Q13285': 2,\n",
       "         'Q9NVI1': 3,\n",
       "         'O15382': 4,\n",
       "         'CL0089': 3,\n",
       "         'Q7Z794': 15,\n",
       "         'O75175': 29,\n",
       "         'P07900': 14,\n",
       "         'Q8NFH4': 1,\n",
       "         'P78556': 1,\n",
       "         'CL0493': 2,\n",
       "         'P22692': 10,\n",
       "         'Q16633': 5,\n",
       "         'Q92831': 6,\n",
       "         'Q14135': 3,\n",
       "         'P78362': 3,\n",
       "         'P02647': 28,\n",
       "         'Q9UQ26': 7,\n",
       "         'Q8WZA2': 8,\n",
       "         'P28698': 28,\n",
       "         'P12429': 9,\n",
       "         'Q9UP38': 4,\n",
       "         'CL0267': 10,\n",
       "         'Q15323': 80,\n",
       "         'P37268': 5,\n",
       "         'O75643': 6,\n",
       "         'O14576': 7,\n",
       "         'O75436': 1,\n",
       "         'CL0417': 72,\n",
       "         'Q9H222': 1,\n",
       "         'CL0266': 467,\n",
       "         'P15173': 9,\n",
       "         'O95267': 4,\n",
       "         'Q00978': 7,\n",
       "         'P18507': 11,\n",
       "         'P62508': 20,\n",
       "         'Q8TC12': 2,\n",
       "         'CL0164': 121,\n",
       "         'Q9UHD9': 4,\n",
       "         'Q9Y248': 4,\n",
       "         'Q86WK6': 2,\n",
       "         'CL0257': 85,\n",
       "         'O15409': 68,\n",
       "         'O60682': 16,\n",
       "         'Q8NFY4': 5,\n",
       "         'Q8IZ21': 4,\n",
       "         'CL0046': 48,\n",
       "         'Q8TB24': 7,\n",
       "         'Q9H9E1': 4,\n",
       "         'Q9UJX3': 2,\n",
       "         'Q9H1K0': 21,\n",
       "         'P17028': 2,\n",
       "         'P15172': 20,\n",
       "         '3be1': 20,\n",
       "         'CL0442': 312,\n",
       "         'Q9P015': 1,\n",
       "         'P62081': 2,\n",
       "         'Q3MII6': 4,\n",
       "         'P04054': 2,\n",
       "         'O95838': 7,\n",
       "         'P54619': 11,\n",
       "         'Q9UKL0': 6,\n",
       "         'P45379': 83,\n",
       "         'Q9Y2L1': 2,\n",
       "         'O94989': 1,\n",
       "         'Q9ULK6': 21,\n",
       "         'O75925': 1,\n",
       "         'Q8WXK1': 3,\n",
       "         'Q6ZSZ5': 1,\n",
       "         'P27694': 6,\n",
       "         'Q86UW6': 1,\n",
       "         'P47985': 8,\n",
       "         'P61296': 20,\n",
       "         'CL0074': 31,\n",
       "         'P10826': 7,\n",
       "         'Q16537': 5,\n",
       "         'Q92956': 1,\n",
       "         'Q9Y692': 2,\n",
       "         'Q9C0G0': 2,\n",
       "         'P41226': 2,\n",
       "         'Q14703': 2,\n",
       "         'O76015': 65,\n",
       "         'Q14974': 1,\n",
       "         'P0C0S8': 3,\n",
       "         'CL0093': 455,\n",
       "         'Q86VN1': 7,\n",
       "         'Q8TD46': 1,\n",
       "         'P23497': 2,\n",
       "         'Q9BW11': 2,\n",
       "         'P62829': 1,\n",
       "         'Q13905': 9,\n",
       "         'Q96F07': 2,\n",
       "         'Q9NR30': 1,\n",
       "         'P28562': 24,\n",
       "         'Q13362': 9,\n",
       "         'CL0043': 18,\n",
       "         'P62273': 3,\n",
       "         'Q8IYM9': 7,\n",
       "         'Q03431': 1,\n",
       "         'CL0390': 205,\n",
       "         'Q9Y2J2': 4,\n",
       "         'P04264': 97,\n",
       "         'P05155': 100,\n",
       "         'Q8IW93': 4,\n",
       "         'Q7Z3B4': 3,\n",
       "         'Q92506': 3,\n",
       "         'P61764': 7,\n",
       "         'P12035': 21,\n",
       "         'CL0446': 24,\n",
       "         'P04083': 3,\n",
       "         'P34096': 7,\n",
       "         'P27348': 8,\n",
       "         'P00918': 6,\n",
       "         'CL0088': 63,\n",
       "         'Q8WXH0': 6,\n",
       "         'Q9UJU2': 12,\n",
       "         'CL0173': 142,\n",
       "         'CL0139': 1,\n",
       "         'P61968': 5,\n",
       "         'Q14106': 8,\n",
       "         'P31153': 16,\n",
       "         'CL0448': 40,\n",
       "         'Q9H4B7': 4,\n",
       "         'Q6P9G9': 3,\n",
       "         'Q99966': 3,\n",
       "         'Q99819': 11,\n",
       "         'Q9Y6D9': 7,\n",
       "         'P01160': 10,\n",
       "         'Q9BTP7': 3,\n",
       "         'Q04844': 2,\n",
       "         'O75155': 2,\n",
       "         'P37088': 30,\n",
       "         'Q9C026': 5,\n",
       "         'Q9NPE3': 2,\n",
       "         'Q9BY84': 17,\n",
       "         'P50990': 21,\n",
       "         'Q6ZV73': 4,\n",
       "         'Q9Y478': 7,\n",
       "         'P17707': 8,\n",
       "         'P19237': 15,\n",
       "         'Q9UGI9': 2,\n",
       "         'O00329': 59,\n",
       "         'Q99081': 67,\n",
       "         'CL0458': 4,\n",
       "         'Q9UNN4': 5,\n",
       "         'Q92830': 7,\n",
       "         'P20073': 2,\n",
       "         'P41235': 54,\n",
       "         'O76080': 1,\n",
       "         'Q9NXC2': 2,\n",
       "         'O75446': 3,\n",
       "         'Q658P3': 4,\n",
       "         'Q9BZ11': 2,\n",
       "         'CL0026': 242,\n",
       "         'O14986': 5,\n",
       "         'P51170': 17,\n",
       "         'Q9H0N5': 4,\n",
       "         'P01006': 10,\n",
       "         'O43927': 8,\n",
       "         'P62324': 8,\n",
       "         'O95602': 16,\n",
       "         'O94776': 3,\n",
       "         'P13984': 3,\n",
       "         'P02776': 6,\n",
       "         'O60331': 1,\n",
       "         'Q15173': 6,\n",
       "         'P23435': 1,\n",
       "         'P09496': 6,\n",
       "         'P14555': 8,\n",
       "         'CL0004': 111,\n",
       "         'P55201': 3,\n",
       "         'Q16629': 2,\n",
       "         'Q05193': 2,\n",
       "         'P09603': 1,\n",
       "         'CL0237': 56,\n",
       "         'O14777': 2,\n",
       "         'Q9P212': 11,\n",
       "         'CL0439': 7,\n",
       "         'Q9Y5A6': 29,\n",
       "         'Q92526': 24,\n",
       "         'Q5U651': 14,\n",
       "         'Q13202': 1,\n",
       "         'P41134': 22,\n",
       "         'CL0020': 594,\n",
       "         'P04179': 2,\n",
       "         'Q02575': 1,\n",
       "         'Q15257': 14,\n",
       "         'Q49AN0': 8,\n",
       "         'Q6PJI9': 4,\n",
       "         'P35900': 24,\n",
       "         'P78509': 3,\n",
       "         'CL0007': 106,\n",
       "         'P25791': 1,\n",
       "         'CL0105': 10,\n",
       "         'CL0534': 3,\n",
       "         'CL0422': 160,\n",
       "         'Q02577': 1,\n",
       "         'Q9UHB7': 6,\n",
       "         'Q96CD2': 5,\n",
       "         'CL0101': 25,\n",
       "         'Q14525': 14,\n",
       "         'Q13951': 33,\n",
       "         'Q13107': 11,\n",
       "         'P50453': 5,\n",
       "         'Q96QE3': 3,\n",
       "         'CL0106': 21,\n",
       "         'Q96RI1': 20,\n",
       "         'CL0551': 318,\n",
       "         'Q9UIF9': 4,\n",
       "         'P54710': 1,\n",
       "         'Q8IUD6': 4,\n",
       "         'P50747': 4,\n",
       "         'P13646': 112,\n",
       "         'Q9NZW5': 2,\n",
       "         'Q9H5V7': 13,\n",
       "         'CL0063': 517,\n",
       "         'CL0238': 145,\n",
       "         'Q9NWX5': 2,\n",
       "         'Q6KB66': 10,\n",
       "         'Q14533': 35,\n",
       "         'Q03591': 2,\n",
       "         'CL0087': 81,\n",
       "         'O95125': 6,\n",
       "         'Q8NI51': 2,\n",
       "         'CL0069': 29,\n",
       "         'O14879': 2,\n",
       "         'Q9NR22': 18,\n",
       "         'P12724': 2,\n",
       "         'P50914': 1,\n",
       "         'Q9UBU8': 9,\n",
       "         'Q9UER7': 6,\n",
       "         'Q8NFT6': 7,\n",
       "         'Q9BYD3': 2,\n",
       "         'Q5M7Z0': 2,\n",
       "         'Q15014': 9,\n",
       "         'Q9UDW1': 1,\n",
       "         'Q15054': 1,\n",
       "         'Q969J2': 19,\n",
       "         'CL0001': 368,\n",
       "         'P24534': 2,\n",
       "         'Q9H840': 6,\n",
       "         'P08833': 19,\n",
       "         'P13671': 8,\n",
       "         'P52565': 32,\n",
       "         'P48668': 42,\n",
       "         'Q86SZ2': 2,\n",
       "         'Q8IVF5': 1,\n",
       "         'P49910': 16,\n",
       "         'CL0462': 7,\n",
       "         'O95817': 10,\n",
       "         'CL0109': 34,\n",
       "         'CL0125': 401,\n",
       "         'O43617': 19,\n",
       "         'Q9NQX3': 18,\n",
       "         'O75607': 4,\n",
       "         'Q8NCM8': 1,\n",
       "         'Q02080': 16,\n",
       "         'P01040': 2,\n",
       "         'CL0413': 13,\n",
       "         'CL0325': 20,\n",
       "         'Q96N95': 7,\n",
       "         'Q16828': 9,\n",
       "         'CL0256': 6,\n",
       "         '1nmb': 1,\n",
       "         'Q9H461': 8,\n",
       "         'P30038': 4,\n",
       "         'P05783': 10,\n",
       "         'CL0072': 924,\n",
       "         'Q15910': 17,\n",
       "         'CL0303': 5,\n",
       "         'P01008': 86,\n",
       "         'O60566': 15,\n",
       "         'P02724': 1,\n",
       "         'P07602': 12,\n",
       "         'Q13439': 15,\n",
       "         'Q9NQX4': 1,\n",
       "         'P02749': 15,\n",
       "         'Q13330': 2,\n",
       "         'Q99574': 8,\n",
       "         'P49190': 2,\n",
       "         'P05026': 6,\n",
       "         'CL0333': 145,\n",
       "         'Q9P0V3': 1,\n",
       "         'CL0082': 3,\n",
       "         'Q9NRW7': 3,\n",
       "         'Q08050': 2,\n",
       "         'P41181': 15,\n",
       "         'Q99933': 9,\n",
       "         'Q14814': 16,\n",
       "         'Q8NAM6': 9,\n",
       "         'Q9NQ33': 11,\n",
       "         'CL0103': 7,\n",
       "         'P29692': 2,\n",
       "         'O95302': 7,\n",
       "         'Q16873': 1,\n",
       "         'Q92797': 3,\n",
       "         'P30876': 20,\n",
       "         'Q9Y6Q9': 3,\n",
       "         'O60894': 10,\n",
       "         'CL0287': 38,\n",
       "         'P32322': 55,\n",
       "         'O14503': 10,\n",
       "         'Q16853': 26,\n",
       "         'Q8N8G2': 2,\n",
       "         'CL0013': 37,\n",
       "         'Q8TBX8': 15,\n",
       "         'P08235': 2,\n",
       "         'Q92608': 15,\n",
       "         'Q9Y2K1': 17,\n",
       "         'O43790': 24,\n",
       "         'CL0374': 10,\n",
       "         'P23219': 10,\n",
       "         'CL0205': 51,\n",
       "         'Q53H96': 5,\n",
       "         'CL0144': 232,\n",
       "         'O95292': 10,\n",
       "         'Q9BY32': 1,\n",
       "         'P09341': 5,\n",
       "         'P16220': 2,\n",
       "         'Q92574': 11,\n",
       "         'P35520': 72,\n",
       "         'P10620': 6,\n",
       "         'Q92793': 60,\n",
       "         'P49368': 15,\n",
       "         'O00401': 4,\n",
       "         'Q7Z569': 1,\n",
       "         'Q9UL51': 12,\n",
       "         'P07358': 1,\n",
       "         'P22736': 13,\n",
       "         'Q9C029': 8,\n",
       "         'Q13619': 19,\n",
       "         'P16109': 1,\n",
       "         'O60573': 2,\n",
       "         'P46527': 64,\n",
       "         'Q9UBU7': 12,\n",
       "         'O60516': 6,\n",
       "         'P98155': 5,\n",
       "         'P08727': 46,\n",
       "         'P02545': 10,\n",
       "         'Q16829': 7,\n",
       "         'Q93088': 15,\n",
       "         'CL0344': 15,\n",
       "         'Q16864': 4,\n",
       "         'CL0110': 98,\n",
       "         'Q9H9A7': 1,\n",
       "         'Q96JF0': 10,\n",
       "         'P24592': 2,\n",
       "         'CL0272': 383,\n",
       "         'CL0096': 8,\n",
       "         'Q9Y4A5': 2,\n",
       "         'Q13472': 5,\n",
       "         'O95154': 1,\n",
       "         'P55036': 6,\n",
       "         'CL0198': 3,\n",
       "         'Q6P587': 1,\n",
       "         'Q9Y3B2': 1,\n",
       "         'P48426': 8,\n",
       "         'P09544': 8,\n",
       "         'Q8WUM0': 3,\n",
       "         'Q9ULV0': 1,\n",
       "         'Q96Q15': 2,\n",
       "         'Q9UHC1': 3,\n",
       "         'Q96PD4': 8,\n",
       "         'Q02790': 25,\n",
       "         'Q14995': 4,\n",
       "         'P20700': 3,\n",
       "         'CL0296': 3,\n",
       "         'Q96GD0': 2,\n",
       "         'Q96FQ6': 3,\n",
       "         'Q9UK55': 6,\n",
       "         'O43741': 21,\n",
       "         'P01130': 6,\n",
       "         'Q92750': 2,\n",
       "         'Q12979': 1,\n",
       "         'Q13257': 14,\n",
       "         'P07451': 1,\n",
       "         'P01137': 41,\n",
       "         'P03886': 2,\n",
       "         'O15013': 3,\n",
       "         'P41586': 4,\n",
       "         'Q6AI12': 2,\n",
       "         'P43354': 37,\n",
       "         ...})"
      ]
     },
     "execution_count": 91,
     "metadata": {},
     "output_type": "execute_result"
    }
   ],
   "source": [
    "Counter(DATA_DF['lco_id'])"
   ]
  },
  {
   "cell_type": "code",
   "execution_count": 11,
   "metadata": {
    "collapsed": false,
    "run_control": {
     "marked": false
    }
   },
   "outputs": [
    {
     "name": "stdout",
     "output_type": "stream",
     "text": [
      "0:\t{'Rubredoxin', 'TIM', 'PTE', 'Beta-lactamase', 'Kringle', 'RRM_1', 'HTH_3', 'Ank', 'cNMP_binding', 'Pec_lyase-like', 'KIX', 'Sod_Fe_N+Sod_Fe_C', 'Endostatin', 'Lipase_2', 'Colicin_Pyocin', 'Rop', 'potato_inhibit', 'DSBA', 'HMG_box', 'S_100', 'NTF2', 'Periplas_BP', 'Inh', 'EF-hand_7', '4H_Cytokine', 'Viral_Gag', 'IHF-likeDNA-bdg', 'HTH', 'DIM1', 'A_deaminase', 'Plug+TonB_dep_Rec', 'I-set', 'Sialidase', 'ELFV_dehydrog_N+ELFV_dehydrog', 'Barstar', 'Cpn10', 'ATP-gua_PtransN+ATP-gua_Ptrans', 'Apolipoprotein', 'Phage_lysozyme', 'Glyco_hydro_tim', 'Thioredoxin_4', 'tRNA-synt_1b', 'WW', 'Myb_DNA-bind_6+Myb_DNA-binding', 'OmpA_membrane', 'PagP', 'CUE', 'Endotoxin_N', 'Peptidase_S8', 'Ribosomal_L9_C', 'Tissue_fac+Interfer-bind', 'Pkinase_Tyr', 'VHP'}\n",
      "1:\t{'bZIP_1', 'SSI', 'SBP_bac_1', 'PGK', 'Cytochrome_CBB3', 'Response_reg', 'Hormone_1', '7kD_DNA_binding', 'PTS-HPr', 'Crystall', 'ADK', 'Phospholip_A2_1', 'Cyt-b5', 'Insulin', 'Carb_anhydrase', 'C1-set', 'Ribonuclease', 'Ribosomal_S6', 'Prion', 'RNase_HII', 'Propep_M14', 'IL1', 'S_100+EF-hand_1', 'Aminotran_1_2'}\n",
      "2:\t{'CKS', 'Bac_rhodopsin', 'Fer2', 'FGF', 'Acylphosphatase', 'Ribosomal_L7Ae', 'P53+P53_tetramer', 'OB', 'Tudor', 'Ribosomal_L9_N', 'SNase', 'Lipocalin', 'FF', 'E3_binding', 'V-set'}\n",
      "3:\t{'FKBP_C', 'Trp_syntA', 'CU_oxidase', 'Met_repress', 'ACBP', 'Lysozyme', 'Kunitz_BPTI', 'Flavodoxin_1', 'B1', 'Serpin'}\n",
      "4:\t{'CI-2', 'SH3_1', 'fn3', 'Spectrin', 'Cytochrom_C', 'WW+Rotamase', 'RnaseA', 'ubiquitin'}\n",
      "5:\t{'RNase_H', 'Globin', 'Lys', 'CSD'}\n"
     ]
    }
   ],
   "source": [
    "DATA_DF['lco_group'] = None\n",
    "\n",
    "for i, class_set in enumerate(class_sets):\n",
    "    cs = {k[0] for k in class_set}\n",
    "    print('{:d}:\\t{}'.format(i, cs))\n",
    "    DATA_DF.loc[\n",
    "        (DATA_DF['dataset'] == protherm_dataset_name) &\n",
    "        (DATA_DF['pfam_clan'].isin(cs)),\n",
    "        'lco_group'] = i\n",
    "    \n",
    "assert not DATA_DF[DATA_DF['dataset'] == protherm_dataset_name]['lco_group'].isnull().any()"
   ]
  },
  {
   "cell_type": "markdown",
   "metadata": {
    "run_control": {
     "marked": false
    }
   },
   "source": [
    "## TRAINING_SETS_NONULL"
   ]
  },
  {
   "cell_type": "code",
   "execution_count": 12,
   "metadata": {
    "code_folding": [],
    "collapsed": false,
    "run_control": {
     "marked": false
    },
    "scrolled": true
   },
   "outputs": [
    {
     "name": "stdout",
     "output_type": "stream",
     "text": [
      "clinvar\n",
      "Shape before:\t63,331\n",
      "Shape after:\t58,236\n",
      "Rows lost:\t5,095\n",
      "----------------------------------------\n",
      "clinvar_test\n",
      "Shape before:\t19,072\n",
      "Shape after:\t17,741\n",
      "Rows lost:\t1,331\n",
      "----------------------------------------\n",
      "clinvar_train\n",
      "Shape before:\t44,259\n",
      "Shape after:\t40,495\n",
      "Rows lost:\t3,764\n",
      "----------------------------------------\n",
      "cosmic\n",
      "Shape before:\t347,271\n",
      "Shape after:\t328,506\n",
      "Rows lost:\t18,765\n",
      "----------------------------------------\n",
      "cosmic_test\n",
      "Shape before:\t101,418\n",
      "Shape after:\t96,865\n",
      "Rows lost:\t4,553\n",
      "----------------------------------------\n",
      "cosmic_train\n",
      "Shape before:\t245,853\n",
      "Shape after:\t231,641\n",
      "Rows lost:\t14,212\n",
      "----------------------------------------\n",
      "humsavar\n",
      "Shape before:\t29,456\n",
      "Shape after:\t28,786\n",
      "Rows lost:\t670\n",
      "----------------------------------------\n",
      "humsavar_test\n",
      "Shape before:\t8,116\n",
      "Shape after:\t7,964\n",
      "Rows lost:\t152\n",
      "----------------------------------------\n",
      "humsavar_train\n",
      "Shape before:\t21,340\n",
      "Shape after:\t20,822\n",
      "Rows lost:\t518\n",
      "----------------------------------------\n",
      "protherm\n",
      "Shape before:\t7,268\n",
      "Shape after:\t7,204\n",
      "Rows lost:\t64\n",
      "----------------------------------------\n",
      "protherm_diffseqi\n",
      "Shape before:\t21,274\n",
      "Shape after:\t20,946\n",
      "Rows lost:\t328\n",
      "----------------------------------------\n",
      "taipale\n",
      "Shape before:\t1,920\n",
      "Shape after:\t1,913\n",
      "Rows lost:\t7\n",
      "----------------------------------------\n",
      "taipale_diffseqi\n",
      "Shape before:\t4,587\n",
      "Shape after:\t4,476\n",
      "Rows lost:\t111\n",
      "----------------------------------------\n",
      "taipale_diffseqi_test\n",
      "Shape before:\t1,382\n",
      "Shape after:\t1,330\n",
      "Rows lost:\t52\n",
      "----------------------------------------\n",
      "taipale_diffseqi_train\n",
      "Shape before:\t3,205\n",
      "Shape after:\t3,146\n",
      "Rows lost:\t59\n",
      "----------------------------------------\n",
      "taipale_test\n",
      "Shape before:\t567\n",
      "Shape after:\t563\n",
      "Rows lost:\t4\n",
      "----------------------------------------\n",
      "taipale_train\n",
      "Shape before:\t1,353\n",
      "Shape after:\t1,350\n",
      "Rows lost:\t3\n",
      "----------------------------------------\n"
     ]
    }
   ],
   "source": [
    "# Remove rows with missing features\n",
    "TRAINING_SETS_NONULL = OrderedDict()\n",
    "for dataset in sorted(DATA_DF['dataset'].drop_duplicates()):\n",
    "    df = DATA_DF[DATA_DF['dataset'] == dataset].copy()\n",
    "    _shape_before = df.shape[0]\n",
    "    df = df.dropna(subset=elaspic.elaspic_predictor.FEATURE_COLUMNS_CORE, how='any')\n",
    "    df = df.dropna(subset=['ddg_exp', 'del_score_exp', 'del_class_exp'], how='all')\n",
    "    _shape_after = df.shape[0]\n",
    "    TRAINING_SETS_NONULL[dataset] = df\n",
    "\n",
    "    print(dataset)\n",
    "    print(\"Shape before:\\t{:,d}\".format(_shape_before))\n",
    "    print(\"Shape after:\\t{:,d}\".format(_shape_after))\n",
    "    print(\"Rows lost:\\t{:,d}\".format(_shape_before - _shape_after))\n",
    "    print('-' * 40)"
   ]
  },
  {
   "cell_type": "markdown",
   "metadata": {
    "run_control": {
     "marked": false
    }
   },
   "source": [
    "# Cross-validation"
   ]
  },
  {
   "cell_type": "markdown",
   "metadata": {
    "run_control": {
     "marked": false
    }
   },
   "source": [
    "## system_commands"
   ]
  },
  {
   "cell_type": "code",
   "execution_count": 13,
   "metadata": {
    "collapsed": false,
    "run_control": {
     "marked": false
    }
   },
   "outputs": [],
   "source": [
    "data_file = op.join(NOTEBOOK_NAME, 'TRAINING_SETS_NONULL.pkl')\n",
    "with open(data_file, 'wb') as ofh:\n",
    "    pickle.dump(TRAINING_SETS_NONULL, ofh, pickle.HIGHEST_PROTOCOL)"
   ]
  },
  {
   "cell_type": "code",
   "execution_count": 14,
   "metadata": {
    "code_folding": [
     0
    ],
    "collapsed": false,
    "run_control": {
     "marked": false
    }
   },
   "outputs": [
    {
     "name": "stdout",
     "output_type": "stream",
     "text": [
      "Size of the parameter grid:  3360\n"
     ]
    }
   ],
   "source": [
    "# Generate a list of parameters that we want to try...\n",
    "FEATURE_COLUMNS = elaspic.elaspic_predictor.FEATURE_COLUMNS_CORE[:]\n",
    "FEATURE_COLUMNS.remove('dg_change')\n",
    "\n",
    "parameter_grid =  {\n",
    "    'data_set': [protherm_dataset_name],\n",
    "    'data_file': [op.abspath(op.join(NOTEBOOK_NAME, 'TRAINING_SETS_NONULL.pkl'))],\n",
    "    'n_estimators': [2000],\n",
    "    'loss': ['huber'],\n",
    "    'learning_rate': [0.1, 0.05, 0.02, 0.01],\n",
    "    'max_depth': [4, 6,   8, 10],\n",
    "    'min_samples_leaf': [3, 5, 9, 13, 17,   21, 29],\n",
    "    'max_features': [1.0, 0.3, 0.1,   0.8, 0.5],\n",
    "    'alpha': [0.99, 0.95, 0.9, 0.8, 0.7, 0.5],\n",
    "    'features': [':'.join(FEATURE_COLUMNS)],\n",
    "}\n",
    "\n",
    "\n",
    "def get_system_command(**params):\n",
    "    system_command = (\n",
    "        \"{python} {script} {args}\".format(\n",
    "            python=sys.executable,\n",
    "            script=op.abspath(op.join(NOTEBOOK_NAME, '_reg_gridsearch.py')),\n",
    "            args=' '.join(sorted(\"--{} {}\".format(*x) for x in params.items())))\n",
    "    )\n",
    "    return system_command\n",
    "\n",
    "\n",
    "system_commands = [\n",
    "    (i, get_system_command(**params)) \n",
    "    for i, params \n",
    "    in enumerate(jobsubmitter.iterate_parameters(**parameter_grid))\n",
    "]\n",
    "\n",
    "print(\"Size of the parameter grid: \", len(system_commands))"
   ]
  },
  {
   "cell_type": "markdown",
   "metadata": {
    "run_control": {
     "marked": false
    }
   },
   "source": [
    "## _reg_gridsearch.py"
   ]
  },
  {
   "cell_type": "code",
   "execution_count": 15,
   "metadata": {
    "code_folding": [
     0
    ],
    "collapsed": false,
    "run_control": {
     "marked": false
    }
   },
   "outputs": [
    {
     "name": "stdout",
     "output_type": "stream",
     "text": [
      "Overwriting core_machine_learning/_reg_gridsearch.py\n"
     ]
    }
   ],
   "source": [
    "%%file $NOTEBOOK_NAME/_reg_gridsearch.py\n",
    "import os\n",
    "import os.path as op\n",
    "import pickle\n",
    "import json\n",
    "import scipy as sp\n",
    "import pandas as pd\n",
    "import sqlalchemy as sa\n",
    "from sklearn import ensemble, cross_validation, metrics\n",
    "import elaspic\n",
    "\n",
    "\n",
    "def cross_validate(train_df, valid_dfs, opts, features, do_xval, target='ddg_exp', label='lco_group'):\n",
    "    # Initialize classifier\n",
    "    clf = ensemble.GradientBoostingRegressor(**opts)\n",
    "    \n",
    "    # Keep track of results\n",
    "    result = {}\n",
    "    def add_stats(actual, predicted, suffix=''):\n",
    "        result.update({\n",
    "                'r2{}'.format(suffix): metrics.r2_score(actual, predicted),\n",
    "                'pearsonr{}'.format(suffix): sp.stats.pearsonr(actual, predicted)[0],\n",
    "                'spearmanr{}'.format(suffix): sp.stats.spearmanr(actual, predicted)[0],\n",
    "            })\n",
    "\n",
    "    # Cross-validation        \n",
    "    if do_xval:\n",
    "        preds = cross_validation.cross_val_predict(\n",
    "            estimator=clf,\n",
    "            X=train_df[features],\n",
    "            y=train_df[target],\n",
    "            cv=cross_validation.LeaveOneLabelOut(train_df[label].fillna('')),\n",
    "            n_jobs=1,\n",
    "        )\n",
    "        add_stats(train_df[target], preds)\n",
    "\n",
    "    # Fit the classifier\n",
    "    clf.fit(train_df[features], train_df[target])\n",
    "\n",
    "    # Validation on our 'test' sets\n",
    "    for valid_name, valid_df in valid_dfs.items():\n",
    "        valid_df['pred'] = clf.predict(valid_df[features])\n",
    "        for col_name, do_abs in [\n",
    "                ('ddg_exp', False),\n",
    "                ('del_score_exp', True),\n",
    "                ('del_class_exp', True)]:\n",
    "            if not valid_df[col_name].notnull().all():\n",
    "                continue\n",
    "            actual = valid_df[col_name].abs() if do_abs else valid_df[col_name]\n",
    "            predicted = valid_df['pred'].abs() if do_abs else valid_df['pred']\n",
    "            suffix = '_{}_{}_vs_ddg{}'.format(valid_name, col_name, '_abs' if do_abs else '')\n",
    "            add_stats(actual, predicted, suffix)\n",
    "            for cutoff_name, cutoff_func in [\n",
    "                    ('gt80', lambda x: x > 80),\n",
    "                    ('40to80', lambda x: (x <= 80) & (x > 40)),\n",
    "                    ('lt40', lambda x: x <= 40)]:\n",
    "                keep_idx = valid_df['alignment_identity'].apply(cutoff_func)\n",
    "                add_stats(actual[keep_idx], predicted[keep_idx], suffix + '_' + cutoff_name)\n",
    "\n",
    "    # DONE!\n",
    "    return result\n",
    "\n",
    "\n",
    "if __name__ == '__main__':\n",
    "    import argparse\n",
    "    parser = argparse.ArgumentParser()\n",
    "    parser.add_argument('--data_set', type=str, required=True)\n",
    "    parser.add_argument('--data_file', type=str, required=True)\n",
    "    parser.add_argument('--features', type=str, default=None)\n",
    "    parser.add_argument('--do_xval', type=int, default=1)\n",
    "    # \n",
    "    parser.add_argument('--learning_rate', type=float, required=True)\n",
    "    parser.add_argument('--max_depth', type=int, required=True)\n",
    "    parser.add_argument('--min_samples_leaf', type=int, required=True)\n",
    "    parser.add_argument('--max_features', type=float, required=True)\n",
    "    parser.add_argument('--alpha', type=float, required=True)\n",
    "    #\n",
    "    parser.add_argument('--loss', type=str, default='huber')\n",
    "    parser.add_argument('--n_estimators', type=int, default=3000)\n",
    "    #\n",
    "    args = parser.parse_args()\n",
    "\n",
    "    with open(args.data_file, 'rb') as ifh:\n",
    "        TRAINING_SETS = pickle.load(ifh)\n",
    "    \n",
    "    train_df = TRAINING_SETS[args.data_set]\n",
    "    validation_dfs = {\n",
    "        # Training / validation datasets\n",
    "        **{\n",
    "            key.replace('_train', ''): df_valid \n",
    "            for (key, df_valid) in TRAINING_SETS.items()\n",
    "            if key.endswith('_train')\n",
    "        },\n",
    "        # Test datasets\n",
    "        **{\n",
    "            key: df_valid \n",
    "            for (key, df_valid) in TRAINING_SETS.items()\n",
    "            if key.endswith('_test')\n",
    "        },\n",
    "    }\n",
    "    clf_opts = {\n",
    "        k: v for (k, v) in args.__dict__.items()\n",
    "        if k not in ['data_set', 'data_file', 'features', 'do_xval']\n",
    "    }\n",
    "    features = args.features.split(':')\n",
    "        \n",
    "    clf_result = cross_validate(train_df, validation_dfs, clf_opts, features, do_xval=bool(args.do_xval))\n",
    "\n",
    "    result = {'clf_opts': clf_opts, 'features': args.features, **clf_result}\n",
    "    print(json.dumps(result))"
   ]
  },
  {
   "cell_type": "code",
   "execution_count": 16,
   "metadata": {
    "collapsed": false,
    "run_control": {
     "marked": false
    },
    "scrolled": true
   },
   "outputs": [
    {
     "name": "stdout",
     "output_type": "stream",
     "text": [
      "{\"spearmanr_cosmic_del_class_exp_vs_ddg_abs_40to80\": 0.08166606990862313, \"spearmanr_cosmic_del_class_exp_vs_ddg_abs_lt40\": 0.03166119594619487, \"pearsonr_clinvar_test_del_class_exp_vs_ddg_abs_40to80\": 0.0662961882329313, \"pearsonr_taipale_diffseqi_ddg_exp_vs_ddg_40to80\": 0.0047412717279864194, \"r2_taipale_ddg_exp_vs_ddg_lt40\": -1.0231790823665747, \"pearsonr_cosmic_del_score_exp_vs_ddg_abs_40to80\": 0.097785422636717, \"pearsonr_humsavar_del_class_exp_vs_ddg_abs_lt40\": 0.03807780946831253, \"pearsonr_cosmic_del_class_exp_vs_ddg_abs_lt40\": 0.03439055122422029, \"pearsonr_clinvar_del_class_exp_vs_ddg_abs\": 0.09109071330452155, \"r2_taipale_diffseqi_test_ddg_exp_vs_ddg_gt80\": -0.6385778245079563, \"spearmanr_taipale_diffseqi_ddg_exp_vs_ddg_lt40\": 0.12599437221518245, \"r2_taipale_ddg_exp_vs_ddg\": -0.7270270404256987, \"spearmanr_cosmic_del_score_exp_vs_ddg_abs_lt40\": 0.037567374289967356, \"r2_clinvar_test_del_class_exp_vs_ddg_abs_lt40\": -5.052479751826919, \"pearsonr_clinvar_test_del_class_exp_vs_ddg_abs_lt40\": -0.005178624221419368, \"r2_clinvar_test_del_class_exp_vs_ddg_abs_40to80\": -3.37976604447009, \"spearmanr_cosmic_test_del_score_exp_vs_ddg_abs_lt40\": 0.05167895578865237, \"pearsonr_taipale_diffseqi_test_ddg_exp_vs_ddg_40to80\": -0.05821938870033784, \"pearsonr_taipale_test_ddg_exp_vs_ddg\": 0.05532868180924685, \"r2_taipale_diffseqi_test_ddg_exp_vs_ddg\": -0.7469110131579475, \"r2_cosmic_test_del_score_exp_vs_ddg_abs_40to80\": -3.3074311194352672, \"r2_taipale_test_ddg_exp_vs_ddg\": -0.8020801439581446, \"spearmanr_humsavar_test_del_class_exp_vs_ddg_abs_gt80\": 0.20348835909163648, \"pearsonr_taipale_diffseqi_ddg_exp_vs_ddg\": 0.05771127376546595, \"pearsonr_humsavar_test_del_class_exp_vs_ddg_abs_gt80\": 0.18991756681218816, \"spearmanr_taipale_ddg_exp_vs_ddg_gt80\": 0.14939753757830784, \"r2_cosmic_del_score_exp_vs_ddg_abs_40to80\": -3.559989101199137, \"pearsonr_taipale_ddg_exp_vs_ddg\": 0.10178311653429979, \"pearsonr_humsavar_del_class_exp_vs_ddg_abs_gt80\": 0.23295551715034768, \"pearsonr_cosmic_test_del_class_exp_vs_ddg_abs_lt40\": 0.0382486402028031, \"r2_taipale_diffseqi_test_ddg_exp_vs_ddg_lt40\": -0.7960659001370551, \"pearsonr_taipale_ddg_exp_vs_ddg_gt80\": 0.12436369763690025, \"spearmanr_humsavar_test_del_class_exp_vs_ddg_abs\": 0.12548511356644446, \"spearmanr_taipale_diffseqi_ddg_exp_vs_ddg_gt80\": 0.1469646617995225, \"r2_taipale_test_ddg_exp_vs_ddg_gt80\": -0.5574496092336132, \"r2_taipale_diffseqi_ddg_exp_vs_ddg_40to80\": -0.7981173495483105, \"spearmanr_taipale_ddg_exp_vs_ddg_lt40\": 0.07743221168740988, \"spearmanr_taipale_test_ddg_exp_vs_ddg\": 0.05934057347443105, \"pearsonr_taipale_test_ddg_exp_vs_ddg_gt80\": 0.16636390106937862, \"r2_clinvar_del_class_exp_vs_ddg_abs_40to80\": -3.80391931488788, \"spearmanr_clinvar_test_del_class_exp_vs_ddg_abs_gt80\": 0.14723328703513375, \"spearmanr_taipale_diffseqi_ddg_exp_vs_ddg_40to80\": 0.06715267682169836, \"pearsonr_humsavar_test_del_class_exp_vs_ddg_abs_40to80\": 0.08445115002235996, \"pearsonr_cosmic_del_score_exp_vs_ddg_abs\": 0.07498479159774755, \"spearmanr_clinvar_del_class_exp_vs_ddg_abs_gt80\": 0.1482480309440827, \"spearmanr_taipale_ddg_exp_vs_ddg\": 0.12103573043784159, \"spearmanr_cosmic_test_del_score_exp_vs_ddg_abs\": 0.08307299132520922, \"pearsonr_clinvar_test_del_class_exp_vs_ddg_abs\": 0.07421918950415227, \"r2_taipale_test_ddg_exp_vs_ddg_40to80\": -1.2295584795513932, \"r2_clinvar_del_class_exp_vs_ddg_abs\": -3.0471815955897172, \"r2_taipale_diffseqi_test_ddg_exp_vs_ddg_40to80\": -0.7759395550562884, \"r2_cosmic_del_score_exp_vs_ddg_abs_gt80\": -6.099718955497735, \"r2_humsavar_test_del_class_exp_vs_ddg_abs_40to80\": -3.368455817965952, \"pearsonr_taipale_ddg_exp_vs_ddg_40to80\": -0.055368832218371695, \"r2_clinvar_test_del_class_exp_vs_ddg_abs\": -2.980794177244635, \"spearmanr_taipale_diffseqi_test_ddg_exp_vs_ddg_gt80\": 0.12479056485655929, \"r2_humsavar_test_del_class_exp_vs_ddg_abs_lt40\": -3.9462603669800176, \"pearsonr_clinvar_del_class_exp_vs_ddg_abs_40to80\": 0.08704513614879598, \"r2_clinvar_del_class_exp_vs_ddg_abs_lt40\": -3.788638743876475, \"pearsonr_cosmic_test_del_score_exp_vs_ddg_abs_gt80\": 0.07297165848279288, \"r2_taipale_diffseqi_ddg_exp_vs_ddg_lt40\": -0.763462812250667, \"r2_cosmic_del_class_exp_vs_ddg_abs_lt40\": -3.170390951399243, \"spearmanr_humsavar_del_class_exp_vs_ddg_abs_lt40\": 0.03425804187440862, \"spearmanr_clinvar_del_class_exp_vs_ddg_abs\": 0.07806343754764557, \"pearsonr_taipale_ddg_exp_vs_ddg_lt40\": 0.03860504851522764, \"spearmanr_clinvar_del_class_exp_vs_ddg_abs_40to80\": 0.0730551990127716, \"pearsonr_cosmic_del_class_exp_vs_ddg_abs_gt80\": 0.07954616074434923, \"clf_opts\": {\"max_features\": 1.0, \"max_depth\": 4, \"learning_rate\": 0.1, \"loss\": \"huber\", \"n_estimators\": 100, \"min_samples_leaf\": 3, \"alpha\": 0.95}, \"pearsonr_taipale_diffseqi_test_ddg_exp_vs_ddg\": 0.027603398041408028, \"pearsonr_clinvar_del_class_exp_vs_ddg_abs_gt80\": 0.1535707651605749, \"pearsonr_cosmic_test_del_class_exp_vs_ddg_abs\": 0.06575635132420597, \"r2_humsavar_del_class_exp_vs_ddg_abs_lt40\": -3.0343238369358536, \"r2_humsavar_test_del_class_exp_vs_ddg_abs\": -2.9592343101789362, \"r2_clinvar_del_class_exp_vs_ddg_abs_gt80\": -2.6314341860830432, \"r2_clinvar_test_del_class_exp_vs_ddg_abs_gt80\": -2.4272830009866433, \"r2_taipale_diffseqi_ddg_exp_vs_ddg_gt80\": -0.6286347961921661, \"pearsonr_clinvar_test_del_class_exp_vs_ddg_abs_gt80\": 0.13046743960446025, \"spearmanr_taipale_diffseqi_test_ddg_exp_vs_ddg\": 0.06250794202817155, \"pearsonr_cosmic_del_score_exp_vs_ddg_abs_lt40\": 0.03852590047994537, \"pearsonr_cosmic_test_del_class_exp_vs_ddg_abs_gt80\": 0.06124198799297236, \"spearmanr_clinvar_test_del_class_exp_vs_ddg_abs\": 0.07434672498388724, \"r2_humsavar_del_class_exp_vs_ddg_abs_40to80\": -2.8322000592193506, \"pearsonr_cosmic_test_del_score_exp_vs_ddg_abs_40to80\": 0.10850108577259607, \"spearmanr_cosmic_del_class_exp_vs_ddg_abs\": 0.06589567477876519, \"r2_cosmic_test_del_class_exp_vs_ddg_abs_40to80\": -2.3377714261636373, \"spearmanr_humsavar_del_class_exp_vs_ddg_abs_gt80\": 0.239528465559674, \"spearmanr_cosmic_test_del_score_exp_vs_ddg_abs_gt80\": 0.09538828007287922, \"pearsonr_humsavar_del_class_exp_vs_ddg_abs\": 0.16775808742932127, \"r2_taipale_ddg_exp_vs_ddg_40to80\": -1.0063022463847333, \"r2_cosmic_del_class_exp_vs_ddg_abs_40to80\": -2.5120143107211557, \"spearmanr_taipale_diffseqi_test_ddg_exp_vs_ddg_lt40\": 0.06956083890755019, \"r2_humsavar_test_del_class_exp_vs_ddg_abs_gt80\": -2.651411621528984, \"spearmanr_cosmic_test_del_class_exp_vs_ddg_abs_40to80\": 0.09523678675357516, \"spearmanr_cosmic_del_score_exp_vs_ddg_abs\": 0.07995122108392193, \"r2_cosmic_test_del_score_exp_vs_ddg_abs\": -4.416730361056832, \"r2_cosmic_test_del_score_exp_vs_ddg_abs_gt80\": -6.198515703243503, \"r2_cosmic_test_del_class_exp_vs_ddg_abs_lt40\": -3.1112150440265607, \"spearmanr_taipale_test_ddg_exp_vs_ddg_40to80\": -0.22359138988352467, \"pearsonr_clinvar_del_class_exp_vs_ddg_abs_lt40\": 0.014637080742360387, \"spearmanr_taipale_diffseqi_ddg_exp_vs_ddg\": 0.10806299531123206, \"spearmanr_humsavar_del_class_exp_vs_ddg_abs_40to80\": 0.17192596581082004, \"r2_cosmic_del_class_exp_vs_ddg_abs_gt80\": -4.110121188874218, \"r2_taipale_test_ddg_exp_vs_ddg_lt40\": -1.282366867530901, \"r2_humsavar_del_class_exp_vs_ddg_abs\": -2.9771615901371753, \"pearsonr_taipale_diffseqi_test_ddg_exp_vs_ddg_gt80\": 0.08261690019136757, \"pearsonr_taipale_test_ddg_exp_vs_ddg_lt40\": -0.038589517878102164, \"spearmanr_cosmic_del_score_exp_vs_ddg_abs_gt80\": 0.11285616646056414, \"spearmanr_taipale_ddg_exp_vs_ddg_40to80\": -0.012153392675872355, \"spearmanr_cosmic_del_class_exp_vs_ddg_abs_gt80\": 0.08879345507238244, \"pearsonr_cosmic_test_del_class_exp_vs_ddg_abs_40to80\": 0.09880963067945783, \"spearmanr_clinvar_test_del_class_exp_vs_ddg_abs_40to80\": 0.06403067348194173, \"r2_cosmic_test_del_class_exp_vs_ddg_abs\": -2.9878765308583533, \"spearmanr_taipale_diffseqi_test_ddg_exp_vs_ddg_40to80\": 0.011809063305736275, \"spearmanr_taipale_test_ddg_exp_vs_ddg_gt80\": 0.1916593410521249, \"spearmanr_cosmic_test_del_score_exp_vs_ddg_abs_40to80\": 0.10864717160295013, \"spearmanr_clinvar_del_class_exp_vs_ddg_abs_lt40\": 0.012739135601384503, \"r2_humsavar_del_class_exp_vs_ddg_abs_gt80\": -3.13500496701751, \"pearsonr_cosmic_del_class_exp_vs_ddg_abs_40to80\": 0.08904309498201039, \"r2_cosmic_test_del_class_exp_vs_ddg_abs_gt80\": -4.13715177161475, \"spearmanr_taipale_test_ddg_exp_vs_ddg_lt40\": -0.1366388722990479, \"r2_cosmic_del_score_exp_vs_ddg_abs_lt40\": -4.8650132458554225, \"features\": \"dg_wt:backbone_hbond_wt:sidechain_hbond_wt:van_der_waals_wt:electrostatics_wt:solvation_polar_wt:solvation_hydrophobic_wt:van_der_waals_clashes_wt:entropy_sidechain_wt:entropy_mainchain_wt:sloop_entropy_wt:mloop_entropy_wt:cis_bond_wt:torsional_clash_wt:backbone_clash_wt:helix_dipole_wt:water_bridge_wt:disulfide_wt:electrostatic_kon_wt:partial_covalent_bonds_wt:energy_ionisation_wt:entropy_complex_wt:number_of_residues:backbone_hbond_change:sidechain_hbond_change:van_der_waals_change:electrostatics_change:solvation_polar_change:solvation_hydrophobic_change:van_der_waals_clashes_change:entropy_sidechain_change:entropy_mainchain_change:sloop_entropy_change:mloop_entropy_change:cis_bond_change:torsional_clash_change:backbone_clash_change:helix_dipole_change:water_bridge_change:disulfide_change:electrostatic_kon_change:partial_covalent_bonds_change:energy_ionisation_change:entropy_complex_change:pcv_salt_equal_wt:pcv_salt_opposite_wt:pcv_hbond_wt:pcv_vdw_wt:pcv_salt_equal_self_wt:pcv_salt_opposite_self_wt:pcv_hbond_self_wt:pcv_vdw_self_wt:pcv_salt_equal_change:pcv_salt_opposite_change:pcv_hbond_change:pcv_vdw_change:pcv_salt_equal_self_change:pcv_salt_opposite_self_change:pcv_hbond_self_change:pcv_vdw_self_change:provean_score:secondary_structure_wt:secondary_structure_change:alignment_identity:alignment_coverage:alignment_score:matrix_score:norm_dope:solvent_accessibility_wt:solvent_accessibility_change\", \"pearsonr_taipale_test_ddg_exp_vs_ddg_40to80\": -0.26045630367272343, \"pearsonr_cosmic_test_del_score_exp_vs_ddg_abs_lt40\": 0.04536751486731186, \"pearsonr_humsavar_test_del_class_exp_vs_ddg_abs\": 0.12634638427643866, \"pearsonr_humsavar_del_class_exp_vs_ddg_abs_40to80\": 0.16926538052781837, \"r2_cosmic_del_class_exp_vs_ddg_abs\": -3.1064604492645476, \"pearsonr_taipale_diffseqi_ddg_exp_vs_ddg_lt40\": 0.0729875611390188, \"spearmanr_humsavar_del_class_exp_vs_ddg_abs\": 0.1652660334043745, \"pearsonr_cosmic_test_del_score_exp_vs_ddg_abs\": 0.07535689370522566, \"spearmanr_humsavar_test_del_class_exp_vs_ddg_abs_40to80\": 0.07858417057790647, \"r2_taipale_ddg_exp_vs_ddg_gt80\": -0.5991765983841262, \"spearmanr_cosmic_test_del_class_exp_vs_ddg_abs_lt40\": 0.031249326499201483, \"spearmanr_clinvar_test_del_class_exp_vs_ddg_abs_lt40\": -0.008025534658352625, \"r2_cosmic_del_score_exp_vs_ddg_abs\": -4.586470733202762, \"pearsonr_cosmic_del_score_exp_vs_ddg_abs_gt80\": 0.09037459397239325, \"pearsonr_humsavar_test_del_class_exp_vs_ddg_abs_lt40\": 0.029789819437355272, \"r2_taipale_diffseqi_ddg_exp_vs_ddg\": -0.739749079973899, \"spearmanr_cosmic_test_del_class_exp_vs_ddg_abs_gt80\": 0.07650975527070847, \"pearsonr_cosmic_del_class_exp_vs_ddg_abs\": 0.06705528695795414, \"spearmanr_humsavar_test_del_class_exp_vs_ddg_abs_lt40\": 0.01681411118832475, \"spearmanr_cosmic_test_del_class_exp_vs_ddg_abs\": 0.06545787448029095, \"spearmanr_cosmic_del_score_exp_vs_ddg_abs_40to80\": 0.09506821267369496, \"pearsonr_taipale_diffseqi_test_ddg_exp_vs_ddg_lt40\": 0.072574045481126, \"pearsonr_taipale_diffseqi_ddg_exp_vs_ddg_gt80\": 0.11575570790975971, \"r2_cosmic_test_del_score_exp_vs_ddg_abs_lt40\": -4.807356703137162}\r\n"
     ]
    }
   ],
   "source": [
    "!python $NOTEBOOK_NAME/_reg_gridsearch.py \\\n",
    "    --data_set $protherm_dataset_name --data_file $data_file --features {':'.join(FEATURE_COLUMNS)} --do_xval 0 \\\n",
    "    --learning_rate 0.1 --max_depth 4 --min_samples_leaf 3 --max_features 1.0 --alpha=0.95 --n_estimators 100"
   ]
  },
  {
   "cell_type": "markdown",
   "metadata": {
    "run_control": {
     "marked": false
    }
   },
   "source": [
    "## Cross-validate\n",
    "\n",
    "**Cross-validation...**\n",
    "\n",
    "The cross-validation score here is correct, but the validation scores used a wrong metric and have to be re-done..."
   ]
  },
  {
   "cell_type": "markdown",
   "metadata": {},
   "source": [
    "### QSUB"
   ]
  },
  {
   "cell_type": "code",
   "execution_count": 17,
   "metadata": {
    "collapsed": false,
    "run_control": {
     "marked": false
    }
   },
   "outputs": [
    {
     "name": "stderr",
     "output_type": "stream",
     "text": [
      "Using an existing folder for log output. This is dangerous!!!\n"
     ]
    }
   ],
   "source": [
    "# Run gridsearch on cluster\n",
    "log_base_dir = op.abspath(op.join(NOTEBOOK_NAME, '_reg_gridsearch'))\n",
    "\n",
    "js = jobsubmitter.JobSubmitter(\n",
    "    'xv_all_features{}'.format('_diffseqi' if DIFFSEQI else ''),\n",
    "    # 'xv_wout_dg_change{}'.format('_diffseqi' if DIFFSEQI else ''),\n",
    "    'sge://:@192.168.6.201', log_base_dir,\n",
    "    email='ostrokach@gmail.com', force_new_folder=False,\n",
    "    nproc=1, queue='medium', walltime='06:00:00', mem='6G',\n",
    ")"
   ]
  },
  {
   "cell_type": "raw",
   "metadata": {
    "collapsed": false,
    "run_control": {
     "marked": false
    }
   },
   "source": [
    "# Run gridsearch on cluster\n",
    "log_base_dir = op.abspath(op.join(NOTEBOOK_NAME, '_reg_gridsearch'))\n",
    "\n",
    "js = ascommon.cluster_tools.JobSubmitter(\n",
    "    'xv_all_features{}'.format('_diffseqi' if DIFFSEQI else ''),\n",
    "    # 'xv_wout_dg_change{}'.format('_diffseqi' if DIFFSEQI else ''),\n",
    "    'pbs://:@192.168.233.150', log_base_dir,\n",
    "    email='ostrokach@gmail.com', force_new_folder=False,\n",
    "    nproc=1, queue='medium', walltime='06:00:00', mem='6G',\n",
    ")"
   ]
  },
  {
   "cell_type": "raw",
   "metadata": {
    "run_control": {
     "marked": false
    }
   },
   "source": [
    "js.job_name"
   ]
  },
  {
   "cell_type": "raw",
   "metadata": {
    "collapsed": false,
    "run_control": {
     "marked": false
    },
    "scrolled": false
   },
   "source": [
    "with js.connect():\n",
    "    js.submit(list(reversed(system_commands_remaining))[:800])"
   ]
  },
  {
   "cell_type": "raw",
   "metadata": {
    "run_control": {
     "marked": false
    }
   },
   "source": [
    "with js.connect():\n",
    "    print(js.get_num_running_jobs())"
   ]
  },
  {
   "cell_type": "markdown",
   "metadata": {
    "run_control": {
     "marked": false
    }
   },
   "source": [
    "### Resubmit failed"
   ]
  },
  {
   "cell_type": "code",
   "execution_count": 18,
   "metadata": {
    "collapsed": false,
    "run_control": {
     "marked": false
    }
   },
   "outputs": [
    {
     "name": "stdout",
     "output_type": "stream",
     "text": [
      "Counter({'done': 3360})\n"
     ]
    }
   ],
   "source": [
    "# Get job status\n",
    "results_df = js.job_status(system_commands)\n",
    "print(Counter(results_df['status']))"
   ]
  },
  {
   "cell_type": "code",
   "execution_count": 19,
   "metadata": {
    "collapsed": false,
    "run_control": {
     "marked": false
    }
   },
   "outputs": [
    {
     "name": "stdout",
     "output_type": "stream",
     "text": [
      "0\n"
     ]
    }
   ],
   "source": [
    "# Job statistics\n",
    "failed = set(results_df[results_df['status'] != 'done']['job_id'])\n",
    "system_commands_remaining = [x for x in system_commands if x[0] in failed]\n",
    "print(len(system_commands_remaining))"
   ]
  },
  {
   "cell_type": "code",
   "execution_count": 20,
   "metadata": {
    "collapsed": false,
    "run_control": {
     "marked": false
    }
   },
   "outputs": [],
   "source": [
    "assert not system_commands_remaining"
   ]
  },
  {
   "cell_type": "raw",
   "metadata": {
    "collapsed": true,
    "run_control": {
     "marked": false
    }
   },
   "source": [
    "# Run jobs\n",
    "with js_be.connect():\n",
    "    js_be.submit(system_commands_remaining[:800])"
   ]
  },
  {
   "cell_type": "markdown",
   "metadata": {
    "collapsed": true,
    "run_control": {
     "marked": false
    }
   },
   "source": [
    "## Validate on external data"
   ]
  },
  {
   "cell_type": "code",
   "execution_count": 21,
   "metadata": {
    "collapsed": false,
    "run_control": {
     "marked": false
    }
   },
   "outputs": [],
   "source": [
    "parameter_grid_noxval = parameter_grid.copy()\n",
    "parameter_grid_noxval['do_xval'] = [0]\n",
    "system_commands_noxval = [\n",
    "    (i, get_system_command(**params))\n",
    "    for i, params\n",
    "    in enumerate(jobsubmitter.iterate_parameters(**parameter_grid_noxval))\n",
    "]"
   ]
  },
  {
   "cell_type": "code",
   "execution_count": 22,
   "metadata": {
    "collapsed": false,
    "run_control": {
     "marked": false
    }
   },
   "outputs": [
    {
     "name": "stdout",
     "output_type": "stream",
     "text": [
      "3360\n"
     ]
    }
   ],
   "source": [
    "print(len(system_commands_noxval))"
   ]
  },
  {
   "cell_type": "markdown",
   "metadata": {
    "collapsed": true,
    "run_control": {
     "marked": false
    }
   },
   "source": [
    "### QSUB"
   ]
  },
  {
   "cell_type": "code",
   "execution_count": 23,
   "metadata": {
    "collapsed": false,
    "run_control": {
     "marked": false
    }
   },
   "outputs": [
    {
     "name": "stderr",
     "output_type": "stream",
     "text": [
      "Using an existing folder for log output. This is dangerous!!!\n"
     ]
    }
   ],
   "source": [
    "# Beagle\n",
    "log_base_dir = op.abspath(op.join(NOTEBOOK_NAME, '_reg_gridsearch'))\n",
    "\n",
    "js_noxval = jobsubmitter.JobSubmitter(\n",
    "    'xv_wout_dg_change{}_seqisubsets_corrected'.format('_diffseqi' if DIFFSEQI else ''),\n",
    "    'sge://:@192.168.6.201', log_base_dir,\n",
    "    email='ostrokach@gmail.com', force_new_folder=False,\n",
    "    nproc=1, queue='medium', walltime='06:00:00', mem='6G',\n",
    ")"
   ]
  },
  {
   "cell_type": "raw",
   "metadata": {
    "collapsed": false,
    "run_control": {
     "marked": false
    }
   },
   "source": [
    "# Banting\n",
    "log_base_dir = op.abspath(op.join(NOTEBOOK_NAME, '_reg_gridsearch'))\n",
    "\n",
    "js_noxval = jobsubmitter.JobSubmitter(\n",
    "    'xv_wout_dg_change{}_seqisubsets_corrected'.format('_diffseqi' if DIFFSEQI else ''),\n",
    "    'pbs://:@192.168.233.150', log_base_dir,\n",
    "    email='ostrokach@gmail.com', force_new_folder=False,\n",
    "    nproc=1, queue='medium', walltime='06:00:00', mem='6G',\n",
    "    concurrent_job_limit=800\n",
    ")"
   ]
  },
  {
   "cell_type": "code",
   "execution_count": 24,
   "metadata": {
    "collapsed": false,
    "run_control": {
     "marked": false
    }
   },
   "outputs": [
    {
     "name": "stdout",
     "output_type": "stream",
     "text": [
      "xv_wout_dg_change_diffseqi_seqisubsets_corrected\n"
     ]
    }
   ],
   "source": [
    "print(js_noxval.job_name)"
   ]
  },
  {
   "cell_type": "raw",
   "metadata": {
    "collapsed": false,
    "run_control": {
     "marked": false
    }
   },
   "source": [
    "with js_bc_noxval.connect():\n",
    "    js_bc_noxval.submit(list(reversed(system_commands_noxval)))"
   ]
  },
  {
   "cell_type": "raw",
   "metadata": {
    "collapsed": false,
    "run_control": {
     "marked": false
    }
   },
   "source": [
    "with js_bc_noxval.connect():\n",
    "    print(js_bc_noxval.get_num_running_jobs())"
   ]
  },
  {
   "cell_type": "markdown",
   "metadata": {
    "run_control": {
     "marked": false
    }
   },
   "source": [
    "### Resubmit failed\n"
   ]
  },
  {
   "cell_type": "code",
   "execution_count": 25,
   "metadata": {
    "collapsed": false,
    "run_control": {
     "marked": false
    }
   },
   "outputs": [
    {
     "name": "stdout",
     "output_type": "stream",
     "text": [
      "Counter({'done': 3360})\n"
     ]
    }
   ],
   "source": [
    "# Get job status\n",
    "results_df_noxval = js_noxval.job_status(system_commands)\n",
    "print(Counter(results_df_noxval['status']))"
   ]
  },
  {
   "cell_type": "code",
   "execution_count": 26,
   "metadata": {
    "collapsed": false,
    "run_control": {
     "marked": false
    }
   },
   "outputs": [
    {
     "data": {
      "text/html": [
       "<div>\n",
       "<table border=\"1\" class=\"dataframe\">\n",
       "  <thead>\n",
       "    <tr style=\"text-align: right;\">\n",
       "      <th></th>\n",
       "      <th>clf_opts</th>\n",
       "      <th>job_id</th>\n",
       "      <th>pearsonr_clinvar_del_class_exp_vs_ddg_abs</th>\n",
       "      <th>pearsonr_clinvar_del_class_exp_vs_ddg_abs_40to80</th>\n",
       "      <th>pearsonr_clinvar_del_class_exp_vs_ddg_abs_gt80</th>\n",
       "      <th>pearsonr_clinvar_del_class_exp_vs_ddg_abs_lt40</th>\n",
       "      <th>pearsonr_cosmic_del_class_exp_vs_ddg_abs</th>\n",
       "      <th>pearsonr_cosmic_del_class_exp_vs_ddg_abs_40to80</th>\n",
       "      <th>pearsonr_cosmic_del_class_exp_vs_ddg_abs_gt80</th>\n",
       "      <th>pearsonr_cosmic_del_class_exp_vs_ddg_abs_lt40</th>\n",
       "      <th>pearsonr_cosmic_del_score_exp_vs_ddg_abs</th>\n",
       "      <th>pearsonr_cosmic_del_score_exp_vs_ddg_abs_40to80</th>\n",
       "      <th>pearsonr_cosmic_del_score_exp_vs_ddg_abs_gt80</th>\n",
       "      <th>pearsonr_cosmic_del_score_exp_vs_ddg_abs_lt40</th>\n",
       "      <th>pearsonr_humsavar_del_class_exp_vs_ddg_abs</th>\n",
       "      <th>pearsonr_humsavar_del_class_exp_vs_ddg_abs_40to80</th>\n",
       "      <th>pearsonr_humsavar_del_class_exp_vs_ddg_abs_gt80</th>\n",
       "      <th>pearsonr_humsavar_del_class_exp_vs_ddg_abs_lt40</th>\n",
       "      <th>pearsonr_protherm_ddg_exp_vs_ddg</th>\n",
       "      <th>pearsonr_protherm_ddg_exp_vs_ddg_40to80</th>\n",
       "      <th>pearsonr_protherm_ddg_exp_vs_ddg_gt80</th>\n",
       "      <th>pearsonr_protherm_ddg_exp_vs_ddg_lt40</th>\n",
       "      <th>pearsonr_taipale_ddg_exp_vs_ddg</th>\n",
       "      <th>pearsonr_taipale_ddg_exp_vs_ddg_40to80</th>\n",
       "      <th>pearsonr_taipale_ddg_exp_vs_ddg_gt80</th>\n",
       "      <th>pearsonr_taipale_ddg_exp_vs_ddg_lt40</th>\n",
       "      <th>pearsonr_taipale_diffseqi_ddg_exp_vs_ddg</th>\n",
       "      <th>pearsonr_taipale_diffseqi_ddg_exp_vs_ddg_40to80</th>\n",
       "      <th>pearsonr_taipale_diffseqi_ddg_exp_vs_ddg_gt80</th>\n",
       "      <th>pearsonr_taipale_diffseqi_ddg_exp_vs_ddg_lt40</th>\n",
       "      <th>r2_clinvar_del_class_exp_vs_ddg_abs</th>\n",
       "      <th>r2_clinvar_del_class_exp_vs_ddg_abs_40to80</th>\n",
       "      <th>r2_clinvar_del_class_exp_vs_ddg_abs_gt80</th>\n",
       "      <th>r2_clinvar_del_class_exp_vs_ddg_abs_lt40</th>\n",
       "      <th>r2_cosmic_del_class_exp_vs_ddg_abs</th>\n",
       "      <th>r2_cosmic_del_class_exp_vs_ddg_abs_40to80</th>\n",
       "      <th>r2_cosmic_del_class_exp_vs_ddg_abs_gt80</th>\n",
       "      <th>r2_cosmic_del_class_exp_vs_ddg_abs_lt40</th>\n",
       "      <th>r2_cosmic_del_score_exp_vs_ddg_abs</th>\n",
       "      <th>r2_cosmic_del_score_exp_vs_ddg_abs_40to80</th>\n",
       "      <th>r2_cosmic_del_score_exp_vs_ddg_abs_gt80</th>\n",
       "      <th>r2_cosmic_del_score_exp_vs_ddg_abs_lt40</th>\n",
       "      <th>r2_humsavar_del_class_exp_vs_ddg_abs</th>\n",
       "      <th>r2_humsavar_del_class_exp_vs_ddg_abs_40to80</th>\n",
       "      <th>r2_humsavar_del_class_exp_vs_ddg_abs_gt80</th>\n",
       "      <th>r2_humsavar_del_class_exp_vs_ddg_abs_lt40</th>\n",
       "      <th>r2_protherm_ddg_exp_vs_ddg</th>\n",
       "      <th>r2_protherm_ddg_exp_vs_ddg_40to80</th>\n",
       "      <th>r2_protherm_ddg_exp_vs_ddg_gt80</th>\n",
       "      <th>r2_protherm_ddg_exp_vs_ddg_lt40</th>\n",
       "      <th>r2_taipale_ddg_exp_vs_ddg</th>\n",
       "      <th>r2_taipale_ddg_exp_vs_ddg_40to80</th>\n",
       "      <th>r2_taipale_ddg_exp_vs_ddg_gt80</th>\n",
       "      <th>r2_taipale_ddg_exp_vs_ddg_lt40</th>\n",
       "      <th>r2_taipale_diffseqi_ddg_exp_vs_ddg</th>\n",
       "      <th>r2_taipale_diffseqi_ddg_exp_vs_ddg_40to80</th>\n",
       "      <th>r2_taipale_diffseqi_ddg_exp_vs_ddg_gt80</th>\n",
       "      <th>r2_taipale_diffseqi_ddg_exp_vs_ddg_lt40</th>\n",
       "      <th>spearmanr_clinvar_del_class_exp_vs_ddg_abs</th>\n",
       "      <th>spearmanr_clinvar_del_class_exp_vs_ddg_abs_40to80</th>\n",
       "      <th>spearmanr_clinvar_del_class_exp_vs_ddg_abs_gt80</th>\n",
       "      <th>spearmanr_clinvar_del_class_exp_vs_ddg_abs_lt40</th>\n",
       "      <th>spearmanr_cosmic_del_class_exp_vs_ddg_abs</th>\n",
       "      <th>spearmanr_cosmic_del_class_exp_vs_ddg_abs_40to80</th>\n",
       "      <th>spearmanr_cosmic_del_class_exp_vs_ddg_abs_gt80</th>\n",
       "      <th>spearmanr_cosmic_del_class_exp_vs_ddg_abs_lt40</th>\n",
       "      <th>spearmanr_cosmic_del_score_exp_vs_ddg_abs</th>\n",
       "      <th>spearmanr_cosmic_del_score_exp_vs_ddg_abs_40to80</th>\n",
       "      <th>spearmanr_cosmic_del_score_exp_vs_ddg_abs_gt80</th>\n",
       "      <th>spearmanr_cosmic_del_score_exp_vs_ddg_abs_lt40</th>\n",
       "      <th>spearmanr_humsavar_del_class_exp_vs_ddg_abs</th>\n",
       "      <th>spearmanr_humsavar_del_class_exp_vs_ddg_abs_40to80</th>\n",
       "      <th>spearmanr_humsavar_del_class_exp_vs_ddg_abs_gt80</th>\n",
       "      <th>spearmanr_humsavar_del_class_exp_vs_ddg_abs_lt40</th>\n",
       "      <th>spearmanr_protherm_ddg_exp_vs_ddg</th>\n",
       "      <th>spearmanr_protherm_ddg_exp_vs_ddg_40to80</th>\n",
       "      <th>spearmanr_protherm_ddg_exp_vs_ddg_gt80</th>\n",
       "      <th>spearmanr_protherm_ddg_exp_vs_ddg_lt40</th>\n",
       "      <th>spearmanr_taipale_ddg_exp_vs_ddg</th>\n",
       "      <th>spearmanr_taipale_ddg_exp_vs_ddg_40to80</th>\n",
       "      <th>spearmanr_taipale_ddg_exp_vs_ddg_gt80</th>\n",
       "      <th>spearmanr_taipale_ddg_exp_vs_ddg_lt40</th>\n",
       "      <th>spearmanr_taipale_diffseqi_ddg_exp_vs_ddg</th>\n",
       "      <th>spearmanr_taipale_diffseqi_ddg_exp_vs_ddg_40to80</th>\n",
       "      <th>spearmanr_taipale_diffseqi_ddg_exp_vs_ddg_gt80</th>\n",
       "      <th>spearmanr_taipale_diffseqi_ddg_exp_vs_ddg_lt40</th>\n",
       "      <th>status</th>\n",
       "      <th>~system_command</th>\n",
       "    </tr>\n",
       "  </thead>\n",
       "  <tbody>\n",
       "    <tr>\n",
       "      <th>0</th>\n",
       "      <td>{'alpha': 0.99, 'max_depth': 4, 'max_features'...</td>\n",
       "      <td>0</td>\n",
       "      <td>0.091553</td>\n",
       "      <td>0.079699</td>\n",
       "      <td>0.148044</td>\n",
       "      <td>0.025360</td>\n",
       "      <td>0.063844</td>\n",
       "      <td>0.074360</td>\n",
       "      <td>0.070497</td>\n",
       "      <td>0.057695</td>\n",
       "      <td>0.073212</td>\n",
       "      <td>0.083080</td>\n",
       "      <td>0.081485</td>\n",
       "      <td>0.067282</td>\n",
       "      <td>0.173246</td>\n",
       "      <td>0.147160</td>\n",
       "      <td>0.230215</td>\n",
       "      <td>0.082258</td>\n",
       "      <td>0.791327</td>\n",
       "      <td>0.942058</td>\n",
       "      <td>0.790376</td>\n",
       "      <td>NaN</td>\n",
       "      <td>0.078330</td>\n",
       "      <td>-0.116656</td>\n",
       "      <td>0.110645</td>\n",
       "      <td>0.090409</td>\n",
       "      <td>0.071628</td>\n",
       "      <td>0.031239</td>\n",
       "      <td>0.124573</td>\n",
       "      <td>0.078332</td>\n",
       "      <td>-6.904569</td>\n",
       "      <td>-8.874326</td>\n",
       "      <td>-5.976679</td>\n",
       "      <td>-8.750627</td>\n",
       "      <td>-7.561134</td>\n",
       "      <td>-6.829046</td>\n",
       "      <td>-8.684376</td>\n",
       "      <td>-7.835672</td>\n",
       "      <td>-11.170784</td>\n",
       "      <td>-9.657926</td>\n",
       "      <td>-12.962843</td>\n",
       "      <td>-12.056766</td>\n",
       "      <td>-7.084015</td>\n",
       "      <td>-7.625421</td>\n",
       "      <td>-6.852940</td>\n",
       "      <td>-7.658469</td>\n",
       "      <td>0.624020</td>\n",
       "      <td>0.861426</td>\n",
       "      <td>0.622585</td>\n",
       "      <td>0.0</td>\n",
       "      <td>-0.766362</td>\n",
       "      <td>-1.182351</td>\n",
       "      <td>-0.596851</td>\n",
       "      <td>-1.041514</td>\n",
       "      <td>-0.828919</td>\n",
       "      <td>-0.908077</td>\n",
       "      <td>-0.695848</td>\n",
       "      <td>-0.846697</td>\n",
       "      <td>0.084297</td>\n",
       "      <td>0.060975</td>\n",
       "      <td>0.148251</td>\n",
       "      <td>0.016647</td>\n",
       "      <td>0.057374</td>\n",
       "      <td>0.060811</td>\n",
       "      <td>0.078812</td>\n",
       "      <td>0.044019</td>\n",
       "      <td>0.083956</td>\n",
       "      <td>0.084775</td>\n",
       "      <td>0.103711</td>\n",
       "      <td>0.069450</td>\n",
       "      <td>0.176660</td>\n",
       "      <td>0.147464</td>\n",
       "      <td>0.241668</td>\n",
       "      <td>0.064687</td>\n",
       "      <td>0.760486</td>\n",
       "      <td>0.944278</td>\n",
       "      <td>0.759263</td>\n",
       "      <td>NaN</td>\n",
       "      <td>0.106697</td>\n",
       "      <td>-0.047919</td>\n",
       "      <td>0.144698</td>\n",
       "      <td>0.075828</td>\n",
       "      <td>0.111713</td>\n",
       "      <td>0.080210</td>\n",
       "      <td>0.156066</td>\n",
       "      <td>0.113664</td>\n",
       "      <td>done</td>\n",
       "      <td>/home/kimlab1/strokach/anaconda/bin/python /ho...</td>\n",
       "    </tr>\n",
       "    <tr>\n",
       "      <th>1</th>\n",
       "      <td>{'alpha': 0.99, 'max_depth': 4, 'n_estimators'...</td>\n",
       "      <td>1</td>\n",
       "      <td>0.073897</td>\n",
       "      <td>0.081828</td>\n",
       "      <td>0.127930</td>\n",
       "      <td>0.024317</td>\n",
       "      <td>0.076342</td>\n",
       "      <td>0.103328</td>\n",
       "      <td>0.065587</td>\n",
       "      <td>0.066021</td>\n",
       "      <td>0.086223</td>\n",
       "      <td>0.113761</td>\n",
       "      <td>0.074822</td>\n",
       "      <td>0.076068</td>\n",
       "      <td>0.160714</td>\n",
       "      <td>0.145742</td>\n",
       "      <td>0.216234</td>\n",
       "      <td>0.080241</td>\n",
       "      <td>0.811177</td>\n",
       "      <td>0.949698</td>\n",
       "      <td>0.810560</td>\n",
       "      <td>NaN</td>\n",
       "      <td>0.068928</td>\n",
       "      <td>-0.100291</td>\n",
       "      <td>0.101158</td>\n",
       "      <td>0.022941</td>\n",
       "      <td>0.066799</td>\n",
       "      <td>0.017789</td>\n",
       "      <td>0.133859</td>\n",
       "      <td>0.071097</td>\n",
       "      <td>-7.081353</td>\n",
       "      <td>-7.938919</td>\n",
       "      <td>-5.590302</td>\n",
       "      <td>-10.531291</td>\n",
       "      <td>-7.594238</td>\n",
       "      <td>-5.782113</td>\n",
       "      <td>-8.064132</td>\n",
       "      <td>-9.358858</td>\n",
       "      <td>-11.236842</td>\n",
       "      <td>-8.201429</td>\n",
       "      <td>-12.046838</td>\n",
       "      <td>-14.417036</td>\n",
       "      <td>-6.884961</td>\n",
       "      <td>-6.848123</td>\n",
       "      <td>-6.353115</td>\n",
       "      <td>-8.440838</td>\n",
       "      <td>0.656781</td>\n",
       "      <td>0.812887</td>\n",
       "      <td>0.655824</td>\n",
       "      <td>0.0</td>\n",
       "      <td>-0.807225</td>\n",
       "      <td>-1.123211</td>\n",
       "      <td>-0.568926</td>\n",
       "      <td>-1.408806</td>\n",
       "      <td>-0.847685</td>\n",
       "      <td>-0.909075</td>\n",
       "      <td>-0.669431</td>\n",
       "      <td>-0.917515</td>\n",
       "      <td>0.084182</td>\n",
       "      <td>0.079384</td>\n",
       "      <td>0.134067</td>\n",
       "      <td>0.033587</td>\n",
       "      <td>0.079144</td>\n",
       "      <td>0.099940</td>\n",
       "      <td>0.078877</td>\n",
       "      <td>0.062798</td>\n",
       "      <td>0.098703</td>\n",
       "      <td>0.120552</td>\n",
       "      <td>0.096018</td>\n",
       "      <td>0.085297</td>\n",
       "      <td>0.182378</td>\n",
       "      <td>0.175592</td>\n",
       "      <td>0.235863</td>\n",
       "      <td>0.084197</td>\n",
       "      <td>0.773700</td>\n",
       "      <td>0.944278</td>\n",
       "      <td>0.772902</td>\n",
       "      <td>NaN</td>\n",
       "      <td>0.100594</td>\n",
       "      <td>-0.025218</td>\n",
       "      <td>0.134675</td>\n",
       "      <td>0.020407</td>\n",
       "      <td>0.111590</td>\n",
       "      <td>0.080325</td>\n",
       "      <td>0.163587</td>\n",
       "      <td>0.108073</td>\n",
       "      <td>done</td>\n",
       "      <td>/home/kimlab1/strokach/anaconda/bin/python /ho...</td>\n",
       "    </tr>\n",
       "  </tbody>\n",
       "</table>\n",
       "</div>"
      ],
      "text/plain": [
       "                                            clf_opts  job_id  pearsonr_clinvar_del_class_exp_vs_ddg_abs  pearsonr_clinvar_del_class_exp_vs_ddg_abs_40to80  pearsonr_clinvar_del_class_exp_vs_ddg_abs_gt80  pearsonr_clinvar_del_class_exp_vs_ddg_abs_lt40  pearsonr_cosmic_del_class_exp_vs_ddg_abs  pearsonr_cosmic_del_class_exp_vs_ddg_abs_40to80  pearsonr_cosmic_del_class_exp_vs_ddg_abs_gt80  pearsonr_cosmic_del_class_exp_vs_ddg_abs_lt40  pearsonr_cosmic_del_score_exp_vs_ddg_abs  pearsonr_cosmic_del_score_exp_vs_ddg_abs_40to80  pearsonr_cosmic_del_score_exp_vs_ddg_abs_gt80  pearsonr_cosmic_del_score_exp_vs_ddg_abs_lt40  pearsonr_humsavar_del_class_exp_vs_ddg_abs  pearsonr_humsavar_del_class_exp_vs_ddg_abs_40to80  pearsonr_humsavar_del_class_exp_vs_ddg_abs_gt80  pearsonr_humsavar_del_class_exp_vs_ddg_abs_lt40  pearsonr_protherm_ddg_exp_vs_ddg  pearsonr_protherm_ddg_exp_vs_ddg_40to80  pearsonr_protherm_ddg_exp_vs_ddg_gt80  pearsonr_protherm_ddg_exp_vs_ddg_lt40  \\\n",
       "0  {'alpha': 0.99, 'max_depth': 4, 'max_features'...       0                                   0.091553                                          0.079699                                        0.148044                                        0.025360                                  0.063844                                         0.074360                                       0.070497                                       0.057695                                  0.073212                                         0.083080                                       0.081485                                       0.067282                                    0.173246                                           0.147160                                         0.230215                                         0.082258                          0.791327                                 0.942058                               0.790376                                    NaN   \n",
       "1  {'alpha': 0.99, 'max_depth': 4, 'n_estimators'...       1                                   0.073897                                          0.081828                                        0.127930                                        0.024317                                  0.076342                                         0.103328                                       0.065587                                       0.066021                                  0.086223                                         0.113761                                       0.074822                                       0.076068                                    0.160714                                           0.145742                                         0.216234                                         0.080241                          0.811177                                 0.949698                               0.810560                                    NaN   \n",
       "\n",
       "   pearsonr_taipale_ddg_exp_vs_ddg  pearsonr_taipale_ddg_exp_vs_ddg_40to80  pearsonr_taipale_ddg_exp_vs_ddg_gt80  pearsonr_taipale_ddg_exp_vs_ddg_lt40  pearsonr_taipale_diffseqi_ddg_exp_vs_ddg  pearsonr_taipale_diffseqi_ddg_exp_vs_ddg_40to80  pearsonr_taipale_diffseqi_ddg_exp_vs_ddg_gt80  pearsonr_taipale_diffseqi_ddg_exp_vs_ddg_lt40  r2_clinvar_del_class_exp_vs_ddg_abs  r2_clinvar_del_class_exp_vs_ddg_abs_40to80  r2_clinvar_del_class_exp_vs_ddg_abs_gt80  r2_clinvar_del_class_exp_vs_ddg_abs_lt40  r2_cosmic_del_class_exp_vs_ddg_abs  r2_cosmic_del_class_exp_vs_ddg_abs_40to80  r2_cosmic_del_class_exp_vs_ddg_abs_gt80  r2_cosmic_del_class_exp_vs_ddg_abs_lt40  r2_cosmic_del_score_exp_vs_ddg_abs  r2_cosmic_del_score_exp_vs_ddg_abs_40to80  r2_cosmic_del_score_exp_vs_ddg_abs_gt80  r2_cosmic_del_score_exp_vs_ddg_abs_lt40  r2_humsavar_del_class_exp_vs_ddg_abs  r2_humsavar_del_class_exp_vs_ddg_abs_40to80  r2_humsavar_del_class_exp_vs_ddg_abs_gt80  r2_humsavar_del_class_exp_vs_ddg_abs_lt40  \\\n",
       "0                         0.078330                               -0.116656                              0.110645                              0.090409                                  0.071628                                         0.031239                                       0.124573                                       0.078332                            -6.904569                                   -8.874326                                 -5.976679                                 -8.750627                           -7.561134                                  -6.829046                                -8.684376                                -7.835672                          -11.170784                                  -9.657926                               -12.962843                               -12.056766                             -7.084015                                    -7.625421                                  -6.852940                                  -7.658469   \n",
       "1                         0.068928                               -0.100291                              0.101158                              0.022941                                  0.066799                                         0.017789                                       0.133859                                       0.071097                            -7.081353                                   -7.938919                                 -5.590302                                -10.531291                           -7.594238                                  -5.782113                                -8.064132                                -9.358858                          -11.236842                                  -8.201429                               -12.046838                               -14.417036                             -6.884961                                    -6.848123                                  -6.353115                                  -8.440838   \n",
       "\n",
       "   r2_protherm_ddg_exp_vs_ddg  r2_protherm_ddg_exp_vs_ddg_40to80  r2_protherm_ddg_exp_vs_ddg_gt80  r2_protherm_ddg_exp_vs_ddg_lt40  r2_taipale_ddg_exp_vs_ddg  r2_taipale_ddg_exp_vs_ddg_40to80  r2_taipale_ddg_exp_vs_ddg_gt80  r2_taipale_ddg_exp_vs_ddg_lt40  r2_taipale_diffseqi_ddg_exp_vs_ddg  r2_taipale_diffseqi_ddg_exp_vs_ddg_40to80  r2_taipale_diffseqi_ddg_exp_vs_ddg_gt80  r2_taipale_diffseqi_ddg_exp_vs_ddg_lt40  spearmanr_clinvar_del_class_exp_vs_ddg_abs  spearmanr_clinvar_del_class_exp_vs_ddg_abs_40to80  spearmanr_clinvar_del_class_exp_vs_ddg_abs_gt80  spearmanr_clinvar_del_class_exp_vs_ddg_abs_lt40  spearmanr_cosmic_del_class_exp_vs_ddg_abs  spearmanr_cosmic_del_class_exp_vs_ddg_abs_40to80  spearmanr_cosmic_del_class_exp_vs_ddg_abs_gt80  spearmanr_cosmic_del_class_exp_vs_ddg_abs_lt40  spearmanr_cosmic_del_score_exp_vs_ddg_abs  spearmanr_cosmic_del_score_exp_vs_ddg_abs_40to80  spearmanr_cosmic_del_score_exp_vs_ddg_abs_gt80  spearmanr_cosmic_del_score_exp_vs_ddg_abs_lt40  \\\n",
       "0                    0.624020                           0.861426                         0.622585                              0.0                  -0.766362                         -1.182351                       -0.596851                       -1.041514                           -0.828919                                  -0.908077                                -0.695848                                -0.846697                                    0.084297                                           0.060975                                         0.148251                                         0.016647                                   0.057374                                          0.060811                                        0.078812                                        0.044019                                   0.083956                                          0.084775                                        0.103711                                        0.069450   \n",
       "1                    0.656781                           0.812887                         0.655824                              0.0                  -0.807225                         -1.123211                       -0.568926                       -1.408806                           -0.847685                                  -0.909075                                -0.669431                                -0.917515                                    0.084182                                           0.079384                                         0.134067                                         0.033587                                   0.079144                                          0.099940                                        0.078877                                        0.062798                                   0.098703                                          0.120552                                        0.096018                                        0.085297   \n",
       "\n",
       "   spearmanr_humsavar_del_class_exp_vs_ddg_abs  spearmanr_humsavar_del_class_exp_vs_ddg_abs_40to80  spearmanr_humsavar_del_class_exp_vs_ddg_abs_gt80  spearmanr_humsavar_del_class_exp_vs_ddg_abs_lt40  spearmanr_protherm_ddg_exp_vs_ddg  spearmanr_protherm_ddg_exp_vs_ddg_40to80  spearmanr_protherm_ddg_exp_vs_ddg_gt80  spearmanr_protherm_ddg_exp_vs_ddg_lt40  spearmanr_taipale_ddg_exp_vs_ddg  spearmanr_taipale_ddg_exp_vs_ddg_40to80  spearmanr_taipale_ddg_exp_vs_ddg_gt80  spearmanr_taipale_ddg_exp_vs_ddg_lt40  spearmanr_taipale_diffseqi_ddg_exp_vs_ddg  spearmanr_taipale_diffseqi_ddg_exp_vs_ddg_40to80  spearmanr_taipale_diffseqi_ddg_exp_vs_ddg_gt80  spearmanr_taipale_diffseqi_ddg_exp_vs_ddg_lt40 status                                    ~system_command  \n",
       "0                                     0.176660                                           0.147464                                           0.241668                                          0.064687                           0.760486                                  0.944278                                0.759263                                     NaN                          0.106697                                -0.047919                               0.144698                               0.075828                                   0.111713                                          0.080210                                        0.156066                                        0.113664   done  /home/kimlab1/strokach/anaconda/bin/python /ho...  \n",
       "1                                     0.182378                                           0.175592                                           0.235863                                          0.084197                           0.773700                                  0.944278                                0.772902                                     NaN                          0.100594                                -0.025218                               0.134675                               0.020407                                   0.111590                                          0.080325                                        0.163587                                        0.108073   done  /home/kimlab1/strokach/anaconda/bin/python /ho...  "
      ]
     },
     "execution_count": 26,
     "metadata": {},
     "output_type": "execute_result"
    }
   ],
   "source": [
    "results_df_noxval[results_df_noxval['status'] == 'done'].head(2)"
   ]
  },
  {
   "cell_type": "code",
   "execution_count": 27,
   "metadata": {
    "collapsed": false,
    "run_control": {
     "marked": false
    }
   },
   "outputs": [
    {
     "name": "stdout",
     "output_type": "stream",
     "text": [
      "0\n"
     ]
    }
   ],
   "source": [
    "# Job statistics\n",
    "failed = set(results_df_noxval[results_df_noxval['status'] != 'done']['job_id'])\n",
    "system_commands_remaining = [x for x in system_commands if x[0] in failed]\n",
    "print(len(system_commands_remaining))"
   ]
  },
  {
   "cell_type": "code",
   "execution_count": 28,
   "metadata": {
    "collapsed": false,
    "run_control": {
     "marked": false
    }
   },
   "outputs": [],
   "source": [
    "assert not system_commands_remaining"
   ]
  },
  {
   "cell_type": "raw",
   "metadata": {
    "collapsed": true,
    "run_control": {
     "marked": false
    }
   },
   "source": [
    "# Run jobs\n",
    "with js_bc_noxval.connect():\n",
    "    js_bc_noxval.submit(system_commands_remaining)"
   ]
  },
  {
   "cell_type": "raw",
   "metadata": {
    "collapsed": true,
    "run_control": {
     "marked": false
    }
   },
   "source": [
    "# Run jobs\n",
    "with js_be_noxval.connect():\n",
    "    js_be_noxval.submit(system_commands_remaining[799:])"
   ]
  },
  {
   "cell_type": "markdown",
   "metadata": {
    "run_control": {
     "marked": false
    }
   },
   "source": [
    "## Results\n",
    "\n",
    "Either from [Cross-validate](#Cross-validate) or [Validate on external data](#Validate-on-external-data), depending on which was sourced last."
   ]
  },
  {
   "cell_type": "code",
   "execution_count": 29,
   "metadata": {
    "collapsed": false,
    "run_control": {
     "marked": false
    }
   },
   "outputs": [
    {
     "name": "stdout",
     "output_type": "stream",
     "text": [
      "(3360, 79)\n",
      "(3360, 79)\n"
     ]
    }
   ],
   "source": [
    "if True:\n",
    "    results_df_all = results_df.copy()\n",
    "else:\n",
    "    results_df_all = results_df_noxval.merge(results_df, on=['job_id'], suffixes=('', '_old'))\n",
    "    results_df_all = results_df_all[[c for c in results_df_all.columns if not c.endswith('_old')]]\n",
    "print(results_df.shape)\n",
    "print(results_df_all.shape)"
   ]
  },
  {
   "cell_type": "markdown",
   "metadata": {
    "run_control": {
     "marked": false
    }
   },
   "source": [
    "### Correlation"
   ]
  },
  {
   "cell_type": "code",
   "execution_count": 30,
   "metadata": {
    "collapsed": true,
    "run_control": {
     "marked": false
    }
   },
   "outputs": [],
   "source": [
    "CORRELATION_TYPE = 'spearmanr'\n",
    "SUFFIX = ''"
   ]
  },
  {
   "cell_type": "code",
   "execution_count": 31,
   "metadata": {
    "code_folding": [
     0
    ],
    "collapsed": false,
    "run_control": {
     "marked": false
    }
   },
   "outputs": [],
   "source": [
    "# Compute FoldX correlations\n",
    "foldx_corrs = {}\n",
    "\n",
    "foldx_corrs.update({\n",
    "    CORRELATION_TYPE: sp.stats.spearmanr(\n",
    "        TRAINING_SETS_NONULL[protherm_dataset_name]['dg_change'].values,\n",
    "        TRAINING_SETS_NONULL[protherm_dataset_name]['ddg_exp'].values\n",
    "    )[0],\n",
    "    '{}_{}_ddg_exp_vs_ddg'.format(CORRELATION_TYPE, taipale_dataset_name): sp.stats.spearmanr(\n",
    "        TRAINING_SETS_NONULL[taipale_dataset_name]['dg_change'].values,\n",
    "        TRAINING_SETS_NONULL[taipale_dataset_name]['ddg_exp'].values\n",
    "    )[0],\n",
    "    '{}_humsavar_del_class_exp_vs_ddg_abs'.format(CORRELATION_TYPE): sp.stats.spearmanr(\n",
    "        TRAINING_SETS_NONULL['humsavar']['dg_change'].abs().values,\n",
    "        TRAINING_SETS_NONULL['humsavar']['del_class_exp'].values\n",
    "    )[0],\n",
    "    '{}_clinvar_del_class_exp_vs_ddg_abs'.format(CORRELATION_TYPE): sp.stats.spearmanr(\n",
    "        TRAINING_SETS_NONULL['clinvar']['dg_change'].abs().values,\n",
    "        TRAINING_SETS_NONULL['clinvar']['del_class_exp'].values\n",
    "    )[0],\n",
    "    '{}_cosmic_del_class_exp_vs_ddg_abs'.format(CORRELATION_TYPE): sp.stats.spearmanr(\n",
    "        TRAINING_SETS_NONULL['cosmic']['dg_change'].abs().values,\n",
    "        TRAINING_SETS_NONULL['cosmic']['del_class_exp'].values\n",
    "    )[0]\n",
    "})"
   ]
  },
  {
   "cell_type": "code",
   "execution_count": 32,
   "metadata": {
    "code_folding": [
     0
    ],
    "collapsed": false,
    "run_control": {
     "marked": false
    }
   },
   "outputs": [],
   "source": [
    "# Compute FoldX correlations at different sequence identity cutoffs\n",
    "for cutoff_name, cutoff_func in [\n",
    "        ('_gt80', lambda x: x > 80),\n",
    "        ('_40to80', lambda x: (x <= 80) & (x > 40)),\n",
    "        ('_lt40', lambda x: x <= 40)]:\n",
    "    keep_idx = TRAINING_SETS_NONULL[taipale_dataset_name]['alignment_identity'].apply(cutoff_func)\n",
    "    foldx_corrs.update({\n",
    "        '{}_{}_ddg_exp_vs_ddg{}'.format(CORRELATION_TYPE, taipale_dataset_name, cutoff_name): sp.stats.spearmanr(\n",
    "            TRAINING_SETS_NONULL[taipale_dataset_name][\n",
    "                     TRAINING_SETS_NONULL[taipale_dataset_name]['alignment_identity'].apply(cutoff_func)\n",
    "                ]['dg_change'].values,\n",
    "            TRAINING_SETS_NONULL[taipale_dataset_name][\n",
    "                    TRAINING_SETS_NONULL[taipale_dataset_name]['alignment_identity'].apply(cutoff_func)\n",
    "                ]['ddg_exp'].values\n",
    "        )[0],\n",
    "        '{}_humsavar_del_class_exp_vs_ddg_abs{}'.format(CORRELATION_TYPE, cutoff_name): sp.stats.spearmanr(\n",
    "            TRAINING_SETS_NONULL['humsavar'][\n",
    "                     TRAINING_SETS_NONULL['humsavar']['alignment_identity'].apply(cutoff_func)\n",
    "                ]['dg_change'].abs().values,\n",
    "            TRAINING_SETS_NONULL['humsavar'][\n",
    "                     TRAINING_SETS_NONULL['humsavar']['alignment_identity'].apply(cutoff_func)\n",
    "                ]['del_class_exp'].values\n",
    "        )[0],\n",
    "        '{}_clinvar_del_class_exp_vs_ddg_abs{}'.format(CORRELATION_TYPE, cutoff_name): sp.stats.spearmanr(\n",
    "            TRAINING_SETS_NONULL['clinvar'][\n",
    "                     TRAINING_SETS_NONULL['clinvar']['alignment_identity'].apply(cutoff_func)\n",
    "                ]['dg_change'].abs().values,\n",
    "            TRAINING_SETS_NONULL['clinvar'][\n",
    "                     TRAINING_SETS_NONULL['clinvar']['alignment_identity'].apply(cutoff_func)\n",
    "                ]['del_class_exp'].values\n",
    "        )[0],\n",
    "        '{}_cosmic_del_class_exp_vs_ddg_abs{}'.format(CORRELATION_TYPE, cutoff_name): sp.stats.spearmanr(\n",
    "            TRAINING_SETS_NONULL['cosmic'][\n",
    "                     TRAINING_SETS_NONULL['cosmic']['alignment_identity'].apply(cutoff_func)\n",
    "                ]['dg_change'].abs().values,\n",
    "            TRAINING_SETS_NONULL['cosmic'][\n",
    "                     TRAINING_SETS_NONULL['cosmic']['alignment_identity'].apply(cutoff_func)\n",
    "                ]['del_class_exp'].values\n",
    "        )[0]\n",
    "    })"
   ]
  },
  {
   "cell_type": "code",
   "execution_count": 33,
   "metadata": {
    "code_folding": [
     0
    ],
    "collapsed": false,
    "run_control": {
     "marked": false
    }
   },
   "outputs": [
    {
     "name": "stdout",
     "output_type": "stream",
     "text": [
      "Lost 0 rows.\n",
      "(3360, 79)\n",
      "(3360, 80)\n"
     ]
    },
    {
     "data": {
      "text/plain": [
       "spearmanr                                      0.489554\n",
       "spearmanr_humsavar_del_class_exp_vs_ddg_abs    0.264221\n",
       "spearmanr_clinvar_del_class_exp_vs_ddg_abs     0.167537\n",
       "spearmanr_cosmic_del_class_exp_vs_ddg_abs      0.137870\n",
       "spearmanr_taipale_diffseqi_ddg_exp_vs_ddg      0.173800\n",
       "Name: 3359, dtype: float64"
      ]
     },
     "metadata": {},
     "output_type": "display_data"
    }
   ],
   "source": [
    "# Prepare results for plotting\n",
    "sns.set_style('whitegrid')\n",
    "sns.set_context('talk', font_scale=1.5)\n",
    "\n",
    "columns = [\n",
    "    CORRELATION_TYPE, \n",
    "    '{}_humsavar_del_class_exp_vs_ddg_abs{}'.format(CORRELATION_TYPE, SUFFIX),\n",
    "    '{}_clinvar_del_class_exp_vs_ddg_abs{}'.format(CORRELATION_TYPE, SUFFIX),\n",
    "    '{}_cosmic_del_class_exp_vs_ddg_abs{}'.format(CORRELATION_TYPE, SUFFIX),\n",
    "    '{}_{}_ddg_exp_vs_ddg{}'.format(CORRELATION_TYPE, taipale_dataset_name, SUFFIX), \n",
    "]\n",
    "\n",
    "_before = results_df_all.shape[0]\n",
    "df = results_df_all.dropna(subset=[columns])\n",
    "_after = df.shape[0]\n",
    "print(\"Lost {} rows.\".format(_before - _after))\n",
    "\n",
    "print(results_df_all.shape)\n",
    "\n",
    "# df['correlation_avg'] = df[columns].mean(axis=1)\n",
    "df['correlation_avg'] = (\n",
    "    df[CORRELATION_TYPE] * 2 + \n",
    "    df['{}_{}_ddg_exp_vs_ddg{}'.format(CORRELATION_TYPE, taipale_dataset_name, SUFFIX)] * 2 + \n",
    "    df['{}_humsavar_del_class_exp_vs_ddg_abs{}'.format(CORRELATION_TYPE, SUFFIX)] + \n",
    "    df['{}_clinvar_del_class_exp_vs_ddg_abs{}'.format(CORRELATION_TYPE, SUFFIX)] + \n",
    "    df['{}_cosmic_del_class_exp_vs_ddg_abs{}'.format(CORRELATION_TYPE, SUFFIX)]\n",
    ") / 7\n",
    "\n",
    "df = df.sort_values('correlation_avg', ascending=True)\n",
    "df.index = range(df.shape[0])\n",
    "\n",
    "print(df.shape)\n",
    "display(df[columns].iloc[-1])"
   ]
  },
  {
   "cell_type": "code",
   "execution_count": 34,
   "metadata": {
    "code_folding": [
     0
    ],
    "collapsed": false,
    "run_control": {
     "marked": false
    }
   },
   "outputs": [
    {
     "data": {
      "image/png": "[encoded data removed]",
      "text/plain": [
       "<matplotlib.figure.Figure at 0x7fab2e6ec438>"
      ]
     },
     "metadata": {},
     "output_type": "display_data"
    }
   ],
   "source": [
    "# Plot gridsearch over parameter space\n",
    "fg, ax = plt.subplots(figsize=(12, 8))\n",
    "\n",
    "ax = (\n",
    "    df[columns]\n",
    "    .rename(columns={\n",
    "        CORRELATION_TYPE: 'Cross-validation', \n",
    "        '{}_{}_ddg_exp_vs_ddg{}'.format(CORRELATION_TYPE, taipale_dataset_name, SUFFIX): 'Taipale',\n",
    "        '{}_humsavar_del_class_exp_vs_ddg_abs{}'.format(CORRELATION_TYPE, SUFFIX): 'Humsavar',\n",
    "        '{}_clinvar_del_class_exp_vs_ddg_abs{}'.format(CORRELATION_TYPE, SUFFIX): 'ClinVar',\n",
    "        '{}_cosmic_del_class_exp_vs_ddg_abs{}'.format(CORRELATION_TYPE, SUFFIX): 'Cosmic',\n",
    "        })\n",
    "    .plot(xticks=[], ax=ax, linewidth=1)\n",
    ")\n",
    "\n",
    "for i, l in enumerate(ax.get_lines()):\n",
    "    l.set_zorder(len(columns) - i)\n",
    "\n",
    "# display(ax.get_children())\n",
    "# for i, (a, b) in enumerate(zip(\n",
    "#         ax.get_children()[:len(columns) // 2], \n",
    "#         reversed(ax.get_children()[len(columns):len(columns) // 2:-1]))):\n",
    "#     inc = len(columns) // 2 - i\n",
    "#     a_zorder = int(a.get_zorder())\n",
    "#     b_zorder = int(b.get_zorder())\n",
    "#     print(a_zorder, b_zorder)\n",
    "#     a.set_zorder(b_zorder)\n",
    "#     b.set_zorder(a_zorder)\n",
    "\n",
    "ax.set_xlabel('Parameter space')\n",
    "ax.set_ylabel('{} R'.format(CORRELATION_TYPE[:-1].capitalize()))\n",
    "ax.set_ylim(0, 0.6)\n",
    "ax.legend(loc='upper center', bbox_to_anchor=(0.5, 1.16), ncol=3)\n",
    "\n",
    "text_xpos = ax.get_xlim()[1] + (ax.get_xlim()[1] - ax.get_xlim()[0]) * 0.08\n",
    "text_ypos = (ax.get_ylim()[1] - ax.get_ylim()[0]) / 2\n",
    "ax.text(\n",
    "    text_xpos, text_ypos, 'FoldX Spearman R', rotation=90, \n",
    "    horizontalalignment='center', verticalalignment='center')\n",
    "\n",
    "l = plt.hlines(\n",
    "    [foldx_corrs[c] for c in columns], \n",
    "    xmin=ax.get_xlim()[1] + 50, \n",
    "    xmax=ax.get_xlim()[1] + 150, \n",
    "    colors=sns.color_palette()[:len(columns)], \n",
    "    linestyles='-')\n",
    "\n",
    "l.set_clip_on(False)\n",
    "\n",
    "plt.savefig(op.join(NOTEBOOK_NAME, 'gridsearch.png'), bbox_inches='tight', dpi=220)\n",
    "plt.savefig(op.join(NOTEBOOK_NAME, 'gridsearch.pdf'), bbox_inches='tight')"
   ]
  },
  {
   "cell_type": "code",
   "execution_count": 35,
   "metadata": {
    "collapsed": true
   },
   "outputs": [],
   "source": [
    "df_bak = df.copy()"
   ]
  },
  {
   "cell_type": "markdown",
   "metadata": {
    "run_control": {
     "marked": false
    }
   },
   "source": [
    "# Feature elimination"
   ]
  },
  {
   "cell_type": "markdown",
   "metadata": {},
   "source": [
    "## Prepare"
   ]
  },
  {
   "cell_type": "markdown",
   "metadata": {},
   "source": [
    "Get the best parameters from gridsearch:"
   ]
  },
  {
   "cell_type": "code",
   "execution_count": 37,
   "metadata": {
    "collapsed": false,
    "run_control": {
     "marked": false
    }
   },
   "outputs": [
    {
     "name": "stdout",
     "output_type": "stream",
     "text": [
      "{'alpha': 0.8,\n",
      " 'learning_rate': 0.01,\n",
      " 'loss': 'huber',\n",
      " 'max_depth': 4,\n",
      " 'max_features': 0.1,\n",
      " 'min_samples_leaf': 17,\n",
      " 'n_estimators': 2000}\n"
     ]
    }
   ],
   "source": [
    "clf_opts_best = df.iloc[-1]['clf_opts']\n",
    "pprint(clf_opts_best)"
   ]
  },
  {
   "cell_type": "code",
   "execution_count": 38,
   "metadata": {
    "collapsed": false
   },
   "outputs": [
    {
     "data": {
      "text/plain": [
       "0.29175523076923077"
      ]
     },
     "execution_count": 38,
     "metadata": {},
     "output_type": "execute_result"
    }
   ],
   "source": [
    "1.896409 / 6.5"
   ]
  },
  {
   "cell_type": "markdown",
   "metadata": {},
   "source": [
    "## Run feature elimination"
   ]
  },
  {
   "cell_type": "code",
   "execution_count": 39,
   "metadata": {
    "collapsed": true
   },
   "outputs": [],
   "source": [
    "FE_SUFFIX = '_2'"
   ]
  },
  {
   "cell_type": "code",
   "execution_count": 40,
   "metadata": {
    "code_folding": [
     0
    ],
    "collapsed": false,
    "run_control": {
     "marked": false
    }
   },
   "outputs": [],
   "source": [
    "# Configure feature elimination\n",
    "FEATURE_COLUMNS = elaspic.elaspic_predictor.FEATURE_COLUMNS_CORE[:]\n",
    "FEATURE_COLUMNS.remove('dg_change')\n",
    "\n",
    "params = {\n",
    "    **clf_opts_best,\n",
    "    'data_set': protherm_dataset_name,\n",
    "    'data_file': op.abspath(op.join(NOTEBOOK_NAME, 'TRAINING_SETS_NONULL.pkl')),\n",
    "}\n",
    "\n",
    "\n",
    "def run_feature_elimination(features):\n",
    "    # Parameters\n",
    "    _parameter_grid = {\n",
    "        **{k: [v] for k, v in params.items()},\n",
    "        'max_features': [\n",
    "            min(1.0, params['max_features'] * len(FEATURE_COLUMNS) / len(features))\n",
    "        ],\n",
    "        'features': [\n",
    "            ':'.join(f for i, f in enumerate(features) if i != skip_i) for skip_i in range(len(features))\n",
    "        ]\n",
    "    }\n",
    "    _system_commands = [\n",
    "        (i, get_system_command(**params)) \n",
    "        for i, params \n",
    "        in enumerate(jobsubmitter.iterate_parameters(**_parameter_grid))\n",
    "    ]\n",
    "\n",
    "    _js = jobsubmitter.JobSubmitter(\n",
    "        'feature_elimination{}{}_features{}'.format(SUFFIX, FE_SUFFIX, len(features)),\n",
    "        'sge://:@192.168.6.201', op.abspath(NOTEBOOK_NAME),\n",
    "        email='ostrokach@gmail.com', force_new_folder=False,\n",
    "        nproc=1, queue='medium', walltime='06:00:00', mem='6G',\n",
    "        concurrent_job_limit=800\n",
    "    )\n",
    "    print(_js.job_name)\n",
    "    \n",
    "    with _js.connect():\n",
    "        _js.submit(_system_commands)\n",
    "   \n",
    "    # Get job status\n",
    "    df = _js.job_status(_system_commands)\n",
    "    time.sleep(10)\n",
    "    print(Counter(df['status']))\n",
    "    while not (df['status'] == 'done').all():\n",
    "        time.sleep(60)\n",
    "        df = _js.job_status(_system_commands)\n",
    "        print(Counter(df['status']))\n",
    "\n",
    "    df['correlation_avg'] = (\n",
    "        df['spearmanr'] * 2 + \n",
    "        df['spearmanr_{}_ddg_exp_vs_ddg'.format(taipale_dataset_name)] * 2 + \n",
    "        df['spearmanr_humsavar_del_class_exp_vs_ddg_abs'] + \n",
    "        df['spearmanr_clinvar_del_class_exp_vs_ddg_abs'] + \n",
    "        df['spearmanr_cosmic_del_class_exp_vs_ddg_abs']\n",
    "    ) / 7\n",
    "\n",
    "    df = df.sort_values('correlation_avg', ascending=True)\n",
    "    \n",
    "    print(\"Correlation AVG: {:5}\".format(df.iloc[-1]['correlation_avg']))\n",
    "    features_best = df.iloc[-1]['features'].split(':')\n",
    "    \n",
    "    run_feature_elimination(features_best)"
   ]
  },
  {
   "cell_type": "raw",
   "metadata": {
    "code_folding": [],
    "collapsed": false,
    "run_control": {
     "marked": false
    },
    "scrolled": true
   },
   "source": [
    "# Run feature elimination\n",
    "run_feature_elimination(FEATURE_COLUMNS)"
   ]
  },
  {
   "cell_type": "code",
   "execution_count": 41,
   "metadata": {
    "code_folding": [
     0
    ],
    "collapsed": false,
    "run_control": {
     "marked": false
    }
   },
   "outputs": [
    {
     "name": "stderr",
     "output_type": "stream",
     "text": [
      "Using an existing folder for log output. This is dangerous!!!\n"
     ]
    },
    {
     "name": "stdout",
     "output_type": "stream",
     "text": [
      "xv_fe_17_features_diffseqi\n",
      "Counter({'done': 17})\n",
      "Correlation AVG: 0.28762553133214375\n",
      "['entropy_sidechain_wt', 'backbone_hbond_change', 'sidechain_hbond_change', 'electrostatics_change', 'solvation_polar_change', 'solvation_hydrophobic_change', 'van_der_waals_clashes_change', 'torsional_clash_change', 'backbone_clash_change', 'helix_dipole_change', 'disulfide_change', 'energy_ionisation_change', 'pcv_vdw_self_wt', 'pcv_vdw_self_change', 'provean_score', 'secondary_structure_wt']\n"
     ]
    }
   ],
   "source": [
    "# Configure feature elimination part-way\n",
    "features = FEATURE_COLUMNS\n",
    "n_features = 17\n",
    "\n",
    "_parameter_grid = {\n",
    "    **{k: [v] for k, v in params.items()},\n",
    "    'max_features': [\n",
    "        min(1.0, params['max_features'] * len(FEATURE_COLUMNS) / len(features))\n",
    "    ],\n",
    "    'features': [\n",
    "        ':'.join(f for i, f in enumerate(features) if i != skip_i) for skip_i in range(len(features))\n",
    "    ][:n_features]\n",
    "}\n",
    "_system_commands = [\n",
    "    (i, get_system_command(**params)) \n",
    "    for i, params \n",
    "    in enumerate(jobsubmitter.iterate_parameters(**_parameter_grid))\n",
    "]\n",
    "\n",
    "# Run gridsearch on cluster\n",
    "log_base_dir = op.abspath(op.join(NOTEBOOK_NAME, '_reg_gridsearch'))\n",
    "\n",
    "_js = jobsubmitter.JobSubmitter(\n",
    "    'xv_fe_{}_features{}'.format(n_features, '_diffseqi' if DIFFSEQI else ''),\n",
    "    'pbs://:@192.168.233.150', log_base_dir,\n",
    "    email='ostrokach@gmail.com', force_new_folder=False,\n",
    "    nproc=1, queue='medium', walltime='06:00:00', mem='6G',\n",
    "    concurrent_job_limit=800\n",
    ")\n",
    "print(_js.job_name)\n",
    "\n",
    "# Get job status\n",
    "df = _js.job_status(_system_commands)\n",
    "time.sleep(10)\n",
    "print(Counter(df['status']))\n",
    "\n",
    "df['correlation_avg'] = (\n",
    "    df['spearmanr'] * 2 + \n",
    "    df['spearmanr_taipale_ddg_exp_vs_ddg{}'.format(SUFFIX)] * 2 + \n",
    "    df['spearmanr_humsavar_del_class_exp_vs_ddg_abs{}'.format(SUFFIX)] + \n",
    "    df['spearmanr_clinvar_del_class_exp_vs_ddg_abs{}'.format(SUFFIX)] + \n",
    "    df['spearmanr_cosmic_del_class_exp_vs_ddg_abs{}'.format(SUFFIX)]\n",
    ") / 7\n",
    "\n",
    "df = df.sort_values('correlation_avg', ascending=True)\n",
    "print(\"Correlation AVG: {:5}\".format(df.iloc[-1]['correlation_avg']))\n",
    "\n",
    "features_best = df.iloc[-1]['features'].split(':')\n",
    "assert len(features_best) == (n_features - 1)\n",
    "print(features_best)"
   ]
  },
  {
   "cell_type": "raw",
   "metadata": {
    "code_folding": [],
    "collapsed": false,
    "run_control": {
     "marked": false
    }
   },
   "source": [
    "# Run feature elimination part-way\n",
    "run_feature_elimination(features_best)"
   ]
  },
  {
   "cell_type": "markdown",
   "metadata": {},
   "source": [
    "## Results"
   ]
  },
  {
   "cell_type": "code",
   "execution_count": 42,
   "metadata": {
    "code_folding": [
     0
    ],
    "collapsed": false,
    "run_control": {
     "marked": false
    },
    "scrolled": true
   },
   "outputs": [
    {
     "name": "stderr",
     "output_type": "stream",
     "text": [
      "Using an existing folder for log output. This is dangerous!!!\n"
     ]
    },
    {
     "name": "stdout",
     "output_type": "stream",
     "text": [
      "feature_elimination_2_features70\n"
     ]
    },
    {
     "name": "stderr",
     "output_type": "stream",
     "text": [
      "Using an existing folder for log output. This is dangerous!!!\n"
     ]
    },
    {
     "name": "stdout",
     "output_type": "stream",
     "text": [
      "feature_elimination_2_features69\n"
     ]
    },
    {
     "name": "stderr",
     "output_type": "stream",
     "text": [
      "Using an existing folder for log output. This is dangerous!!!\n"
     ]
    },
    {
     "name": "stdout",
     "output_type": "stream",
     "text": [
      "feature_elimination_2_features68\n"
     ]
    },
    {
     "name": "stderr",
     "output_type": "stream",
     "text": [
      "Using an existing folder for log output. This is dangerous!!!\n"
     ]
    },
    {
     "name": "stdout",
     "output_type": "stream",
     "text": [
      "feature_elimination_2_features67\n"
     ]
    },
    {
     "name": "stderr",
     "output_type": "stream",
     "text": [
      "Using an existing folder for log output. This is dangerous!!!\n"
     ]
    },
    {
     "name": "stdout",
     "output_type": "stream",
     "text": [
      "feature_elimination_2_features66\n"
     ]
    },
    {
     "name": "stderr",
     "output_type": "stream",
     "text": [
      "Using an existing folder for log output. This is dangerous!!!\n"
     ]
    },
    {
     "name": "stdout",
     "output_type": "stream",
     "text": [
      "feature_elimination_2_features65\n"
     ]
    },
    {
     "name": "stderr",
     "output_type": "stream",
     "text": [
      "Using an existing folder for log output. This is dangerous!!!\n"
     ]
    },
    {
     "name": "stdout",
     "output_type": "stream",
     "text": [
      "feature_elimination_2_features64\n"
     ]
    },
    {
     "name": "stderr",
     "output_type": "stream",
     "text": [
      "Using an existing folder for log output. This is dangerous!!!\n"
     ]
    },
    {
     "name": "stdout",
     "output_type": "stream",
     "text": [
      "feature_elimination_2_features63\n"
     ]
    },
    {
     "name": "stderr",
     "output_type": "stream",
     "text": [
      "Using an existing folder for log output. This is dangerous!!!\n"
     ]
    },
    {
     "name": "stdout",
     "output_type": "stream",
     "text": [
      "feature_elimination_2_features62\n"
     ]
    },
    {
     "name": "stderr",
     "output_type": "stream",
     "text": [
      "Using an existing folder for log output. This is dangerous!!!\n"
     ]
    },
    {
     "name": "stdout",
     "output_type": "stream",
     "text": [
      "feature_elimination_2_features61\n"
     ]
    },
    {
     "name": "stderr",
     "output_type": "stream",
     "text": [
      "Using an existing folder for log output. This is dangerous!!!\n"
     ]
    },
    {
     "name": "stdout",
     "output_type": "stream",
     "text": [
      "feature_elimination_2_features60\n"
     ]
    },
    {
     "name": "stderr",
     "output_type": "stream",
     "text": [
      "Using an existing folder for log output. This is dangerous!!!\n"
     ]
    },
    {
     "name": "stdout",
     "output_type": "stream",
     "text": [
      "feature_elimination_2_features59\n"
     ]
    },
    {
     "name": "stderr",
     "output_type": "stream",
     "text": [
      "Using an existing folder for log output. This is dangerous!!!\n"
     ]
    },
    {
     "name": "stdout",
     "output_type": "stream",
     "text": [
      "feature_elimination_2_features58\n"
     ]
    },
    {
     "name": "stderr",
     "output_type": "stream",
     "text": [
      "Using an existing folder for log output. This is dangerous!!!\n"
     ]
    },
    {
     "name": "stdout",
     "output_type": "stream",
     "text": [
      "feature_elimination_2_features57\n"
     ]
    },
    {
     "name": "stderr",
     "output_type": "stream",
     "text": [
      "Using an existing folder for log output. This is dangerous!!!\n"
     ]
    },
    {
     "name": "stdout",
     "output_type": "stream",
     "text": [
      "feature_elimination_2_features56\n"
     ]
    },
    {
     "name": "stderr",
     "output_type": "stream",
     "text": [
      "Using an existing folder for log output. This is dangerous!!!\n"
     ]
    },
    {
     "name": "stdout",
     "output_type": "stream",
     "text": [
      "feature_elimination_2_features55\n"
     ]
    },
    {
     "name": "stderr",
     "output_type": "stream",
     "text": [
      "Using an existing folder for log output. This is dangerous!!!\n"
     ]
    },
    {
     "name": "stdout",
     "output_type": "stream",
     "text": [
      "feature_elimination_2_features54\n"
     ]
    },
    {
     "name": "stderr",
     "output_type": "stream",
     "text": [
      "Using an existing folder for log output. This is dangerous!!!\n"
     ]
    },
    {
     "name": "stdout",
     "output_type": "stream",
     "text": [
      "feature_elimination_2_features53\n"
     ]
    },
    {
     "name": "stderr",
     "output_type": "stream",
     "text": [
      "Using an existing folder for log output. This is dangerous!!!\n"
     ]
    },
    {
     "name": "stdout",
     "output_type": "stream",
     "text": [
      "feature_elimination_2_features52\n"
     ]
    },
    {
     "name": "stderr",
     "output_type": "stream",
     "text": [
      "Using an existing folder for log output. This is dangerous!!!\n"
     ]
    },
    {
     "name": "stdout",
     "output_type": "stream",
     "text": [
      "feature_elimination_2_features51\n"
     ]
    },
    {
     "name": "stderr",
     "output_type": "stream",
     "text": [
      "Using an existing folder for log output. This is dangerous!!!\n"
     ]
    },
    {
     "name": "stdout",
     "output_type": "stream",
     "text": [
      "feature_elimination_2_features50\n"
     ]
    },
    {
     "name": "stderr",
     "output_type": "stream",
     "text": [
      "Using an existing folder for log output. This is dangerous!!!\n"
     ]
    },
    {
     "name": "stdout",
     "output_type": "stream",
     "text": [
      "feature_elimination_2_features49\n"
     ]
    },
    {
     "name": "stderr",
     "output_type": "stream",
     "text": [
      "Using an existing folder for log output. This is dangerous!!!\n"
     ]
    },
    {
     "name": "stdout",
     "output_type": "stream",
     "text": [
      "feature_elimination_2_features48\n"
     ]
    },
    {
     "name": "stderr",
     "output_type": "stream",
     "text": [
      "Using an existing folder for log output. This is dangerous!!!\n"
     ]
    },
    {
     "name": "stdout",
     "output_type": "stream",
     "text": [
      "feature_elimination_2_features47\n"
     ]
    },
    {
     "name": "stderr",
     "output_type": "stream",
     "text": [
      "Using an existing folder for log output. This is dangerous!!!\n"
     ]
    },
    {
     "name": "stdout",
     "output_type": "stream",
     "text": [
      "feature_elimination_2_features46\n"
     ]
    },
    {
     "name": "stderr",
     "output_type": "stream",
     "text": [
      "Using an existing folder for log output. This is dangerous!!!\n"
     ]
    },
    {
     "name": "stdout",
     "output_type": "stream",
     "text": [
      "feature_elimination_2_features45\n"
     ]
    },
    {
     "name": "stderr",
     "output_type": "stream",
     "text": [
      "Using an existing folder for log output. This is dangerous!!!\n"
     ]
    },
    {
     "name": "stdout",
     "output_type": "stream",
     "text": [
      "feature_elimination_2_features44\n"
     ]
    },
    {
     "name": "stderr",
     "output_type": "stream",
     "text": [
      "Using an existing folder for log output. This is dangerous!!!\n"
     ]
    },
    {
     "name": "stdout",
     "output_type": "stream",
     "text": [
      "feature_elimination_2_features43\n"
     ]
    },
    {
     "name": "stderr",
     "output_type": "stream",
     "text": [
      "Using an existing folder for log output. This is dangerous!!!\n"
     ]
    },
    {
     "name": "stdout",
     "output_type": "stream",
     "text": [
      "feature_elimination_2_features42\n"
     ]
    },
    {
     "name": "stderr",
     "output_type": "stream",
     "text": [
      "Using an existing folder for log output. This is dangerous!!!\n"
     ]
    },
    {
     "name": "stdout",
     "output_type": "stream",
     "text": [
      "feature_elimination_2_features41\n"
     ]
    },
    {
     "name": "stderr",
     "output_type": "stream",
     "text": [
      "Using an existing folder for log output. This is dangerous!!!\n"
     ]
    },
    {
     "name": "stdout",
     "output_type": "stream",
     "text": [
      "feature_elimination_2_features40\n"
     ]
    },
    {
     "name": "stderr",
     "output_type": "stream",
     "text": [
      "Using an existing folder for log output. This is dangerous!!!\n"
     ]
    },
    {
     "name": "stdout",
     "output_type": "stream",
     "text": [
      "feature_elimination_2_features39\n"
     ]
    },
    {
     "name": "stderr",
     "output_type": "stream",
     "text": [
      "Using an existing folder for log output. This is dangerous!!!\n"
     ]
    },
    {
     "name": "stdout",
     "output_type": "stream",
     "text": [
      "feature_elimination_2_features38\n"
     ]
    },
    {
     "name": "stderr",
     "output_type": "stream",
     "text": [
      "Using an existing folder for log output. This is dangerous!!!\n"
     ]
    },
    {
     "name": "stdout",
     "output_type": "stream",
     "text": [
      "feature_elimination_2_features37\n"
     ]
    },
    {
     "name": "stderr",
     "output_type": "stream",
     "text": [
      "Using an existing folder for log output. This is dangerous!!!\n"
     ]
    },
    {
     "name": "stdout",
     "output_type": "stream",
     "text": [
      "feature_elimination_2_features36\n"
     ]
    },
    {
     "name": "stderr",
     "output_type": "stream",
     "text": [
      "Using an existing folder for log output. This is dangerous!!!\n"
     ]
    },
    {
     "name": "stdout",
     "output_type": "stream",
     "text": [
      "feature_elimination_2_features35\n"
     ]
    },
    {
     "name": "stderr",
     "output_type": "stream",
     "text": [
      "Using an existing folder for log output. This is dangerous!!!\n"
     ]
    },
    {
     "name": "stdout",
     "output_type": "stream",
     "text": [
      "feature_elimination_2_features34\n"
     ]
    },
    {
     "name": "stderr",
     "output_type": "stream",
     "text": [
      "Using an existing folder for log output. This is dangerous!!!\n"
     ]
    },
    {
     "name": "stdout",
     "output_type": "stream",
     "text": [
      "feature_elimination_2_features33\n"
     ]
    },
    {
     "name": "stderr",
     "output_type": "stream",
     "text": [
      "Using an existing folder for log output. This is dangerous!!!\n"
     ]
    },
    {
     "name": "stdout",
     "output_type": "stream",
     "text": [
      "feature_elimination_2_features32\n"
     ]
    },
    {
     "name": "stderr",
     "output_type": "stream",
     "text": [
      "Using an existing folder for log output. This is dangerous!!!\n"
     ]
    },
    {
     "name": "stdout",
     "output_type": "stream",
     "text": [
      "feature_elimination_2_features31\n"
     ]
    },
    {
     "name": "stderr",
     "output_type": "stream",
     "text": [
      "Using an existing folder for log output. This is dangerous!!!\n"
     ]
    },
    {
     "name": "stdout",
     "output_type": "stream",
     "text": [
      "feature_elimination_2_features30\n"
     ]
    },
    {
     "name": "stderr",
     "output_type": "stream",
     "text": [
      "Using an existing folder for log output. This is dangerous!!!\n"
     ]
    },
    {
     "name": "stdout",
     "output_type": "stream",
     "text": [
      "feature_elimination_2_features29\n"
     ]
    },
    {
     "name": "stderr",
     "output_type": "stream",
     "text": [
      "Using an existing folder for log output. This is dangerous!!!\n"
     ]
    },
    {
     "name": "stdout",
     "output_type": "stream",
     "text": [
      "feature_elimination_2_features28\n"
     ]
    },
    {
     "name": "stderr",
     "output_type": "stream",
     "text": [
      "Using an existing folder for log output. This is dangerous!!!\n"
     ]
    },
    {
     "name": "stdout",
     "output_type": "stream",
     "text": [
      "feature_elimination_2_features27\n"
     ]
    },
    {
     "name": "stderr",
     "output_type": "stream",
     "text": [
      "Using an existing folder for log output. This is dangerous!!!\n"
     ]
    },
    {
     "name": "stdout",
     "output_type": "stream",
     "text": [
      "feature_elimination_2_features26\n"
     ]
    },
    {
     "name": "stderr",
     "output_type": "stream",
     "text": [
      "Using an existing folder for log output. This is dangerous!!!\n"
     ]
    },
    {
     "name": "stdout",
     "output_type": "stream",
     "text": [
      "feature_elimination_2_features25\n"
     ]
    },
    {
     "name": "stderr",
     "output_type": "stream",
     "text": [
      "Using an existing folder for log output. This is dangerous!!!\n"
     ]
    },
    {
     "name": "stdout",
     "output_type": "stream",
     "text": [
      "feature_elimination_2_features24\n"
     ]
    },
    {
     "name": "stderr",
     "output_type": "stream",
     "text": [
      "Using an existing folder for log output. This is dangerous!!!\n"
     ]
    },
    {
     "name": "stdout",
     "output_type": "stream",
     "text": [
      "feature_elimination_2_features23\n"
     ]
    },
    {
     "name": "stderr",
     "output_type": "stream",
     "text": [
      "Using an existing folder for log output. This is dangerous!!!\n"
     ]
    },
    {
     "name": "stdout",
     "output_type": "stream",
     "text": [
      "feature_elimination_2_features22\n"
     ]
    },
    {
     "name": "stderr",
     "output_type": "stream",
     "text": [
      "Using an existing folder for log output. This is dangerous!!!\n"
     ]
    },
    {
     "name": "stdout",
     "output_type": "stream",
     "text": [
      "feature_elimination_2_features21\n"
     ]
    },
    {
     "name": "stderr",
     "output_type": "stream",
     "text": [
      "Using an existing folder for log output. This is dangerous!!!\n"
     ]
    },
    {
     "name": "stdout",
     "output_type": "stream",
     "text": [
      "feature_elimination_2_features20\n"
     ]
    },
    {
     "name": "stderr",
     "output_type": "stream",
     "text": [
      "Using an existing folder for log output. This is dangerous!!!\n"
     ]
    },
    {
     "name": "stdout",
     "output_type": "stream",
     "text": [
      "feature_elimination_2_features19\n"
     ]
    },
    {
     "name": "stderr",
     "output_type": "stream",
     "text": [
      "Using an existing folder for log output. This is dangerous!!!\n"
     ]
    },
    {
     "name": "stdout",
     "output_type": "stream",
     "text": [
      "feature_elimination_2_features18\n"
     ]
    },
    {
     "name": "stderr",
     "output_type": "stream",
     "text": [
      "Using an existing folder for log output. This is dangerous!!!\n"
     ]
    },
    {
     "name": "stdout",
     "output_type": "stream",
     "text": [
      "feature_elimination_2_features17\n"
     ]
    },
    {
     "name": "stderr",
     "output_type": "stream",
     "text": [
      "Using an existing folder for log output. This is dangerous!!!\n"
     ]
    },
    {
     "name": "stdout",
     "output_type": "stream",
     "text": [
      "feature_elimination_2_features16\n"
     ]
    },
    {
     "name": "stderr",
     "output_type": "stream",
     "text": [
      "Using an existing folder for log output. This is dangerous!!!\n"
     ]
    },
    {
     "name": "stdout",
     "output_type": "stream",
     "text": [
      "feature_elimination_2_features15\n"
     ]
    },
    {
     "name": "stderr",
     "output_type": "stream",
     "text": [
      "Using an existing folder for log output. This is dangerous!!!\n"
     ]
    },
    {
     "name": "stdout",
     "output_type": "stream",
     "text": [
      "feature_elimination_2_features14\n"
     ]
    },
    {
     "name": "stderr",
     "output_type": "stream",
     "text": [
      "Using an existing folder for log output. This is dangerous!!!\n"
     ]
    },
    {
     "name": "stdout",
     "output_type": "stream",
     "text": [
      "feature_elimination_2_features13\n"
     ]
    },
    {
     "name": "stderr",
     "output_type": "stream",
     "text": [
      "Using an existing folder for log output. This is dangerous!!!\n"
     ]
    },
    {
     "name": "stdout",
     "output_type": "stream",
     "text": [
      "feature_elimination_2_features12\n"
     ]
    },
    {
     "name": "stderr",
     "output_type": "stream",
     "text": [
      "Using an existing folder for log output. This is dangerous!!!\n"
     ]
    },
    {
     "name": "stdout",
     "output_type": "stream",
     "text": [
      "feature_elimination_2_features11\n"
     ]
    },
    {
     "name": "stderr",
     "output_type": "stream",
     "text": [
      "Using an existing folder for log output. This is dangerous!!!\n"
     ]
    },
    {
     "name": "stdout",
     "output_type": "stream",
     "text": [
      "feature_elimination_2_features10\n"
     ]
    },
    {
     "name": "stderr",
     "output_type": "stream",
     "text": [
      "Using an existing folder for log output. This is dangerous!!!\n"
     ]
    },
    {
     "name": "stdout",
     "output_type": "stream",
     "text": [
      "feature_elimination_2_features9\n"
     ]
    },
    {
     "name": "stderr",
     "output_type": "stream",
     "text": [
      "Using an existing folder for log output. This is dangerous!!!\n"
     ]
    },
    {
     "name": "stdout",
     "output_type": "stream",
     "text": [
      "feature_elimination_2_features8\n"
     ]
    },
    {
     "name": "stderr",
     "output_type": "stream",
     "text": [
      "Using an existing folder for log output. This is dangerous!!!\n"
     ]
    },
    {
     "name": "stdout",
     "output_type": "stream",
     "text": [
      "feature_elimination_2_features7\n"
     ]
    },
    {
     "name": "stderr",
     "output_type": "stream",
     "text": [
      "Using an existing folder for log output. This is dangerous!!!\n"
     ]
    },
    {
     "name": "stdout",
     "output_type": "stream",
     "text": [
      "feature_elimination_2_features6\n"
     ]
    },
    {
     "name": "stderr",
     "output_type": "stream",
     "text": [
      "Using an existing folder for log output. This is dangerous!!!\n"
     ]
    },
    {
     "name": "stdout",
     "output_type": "stream",
     "text": [
      "feature_elimination_2_features5\n"
     ]
    },
    {
     "name": "stderr",
     "output_type": "stream",
     "text": [
      "Using an existing folder for log output. This is dangerous!!!\n"
     ]
    },
    {
     "name": "stdout",
     "output_type": "stream",
     "text": [
      "feature_elimination_2_features4\n"
     ]
    },
    {
     "name": "stderr",
     "output_type": "stream",
     "text": [
      "Using an existing folder for log output. This is dangerous!!!\n"
     ]
    },
    {
     "name": "stdout",
     "output_type": "stream",
     "text": [
      "feature_elimination_2_features3\n"
     ]
    },
    {
     "name": "stderr",
     "output_type": "stream",
     "text": [
      "Using an existing folder for log output. This is dangerous!!!\n"
     ]
    },
    {
     "name": "stdout",
     "output_type": "stream",
     "text": [
      "feature_elimination_2_features2\n"
     ]
    }
   ],
   "source": [
    "# Read results\n",
    "best_dfs = []\n",
    "best_features = []\n",
    "\n",
    "try:\n",
    "    del i\n",
    "except NameError:\n",
    "    pass\n",
    "\n",
    "\n",
    "for n_features in range(len(FEATURE_COLUMNS), 1, -1):\n",
    "    # Parameters\n",
    "    _parameter_grid = {\n",
    "        **{k: [v] for k, v in params.items()},\n",
    "        'features': list(range(n_features)),\n",
    "    }\n",
    "    _system_commands = [\n",
    "        (n_features, get_system_command(**params)) \n",
    "        for n_features, params \n",
    "        in enumerate(jobsubmitter.iterate_parameters(**_parameter_grid))\n",
    "    ]\n",
    "\n",
    "    _js = jobsubmitter.JobSubmitter(\n",
    "        'feature_elimination{}{}_features{}'.format(SUFFIX, FE_SUFFIX, n_features),\n",
    "        'sge://:@192.168.6.201', op.abspath(NOTEBOOK_NAME),\n",
    "        email='ostrokach@gmail.com', force_new_folder=False,\n",
    "        nproc=1, queue='medium', walltime='06:00:00', mem='6G',\n",
    "        concurrent_job_limit=800\n",
    "    )\n",
    "    print(_js.job_name)\n",
    "    \n",
    "    # Get job status\n",
    "    df = _js.job_status(_system_commands)\n",
    "    df['n_features'] = df['features'].str.count(':') + 1\n",
    "    _before = df.shape[0]\n",
    "    df = df[df['n_features'] == (n_features - 1)]\n",
    "    _after = df.shape[0]\n",
    "    _n_lost = (_before - _after)\n",
    "    if _n_lost:\n",
    "        print(_js.job_name, end=' ')\n",
    "        print(\"Wrong number of features for {} rows!\".format(_before - _after))\n",
    "        sys.stdout.flush()\n",
    "\n",
    "        \n",
    "    df['correlation_avg'] = (\n",
    "        df['spearmanr'] * 2 + \n",
    "        df['spearmanr_{}_ddg_exp_vs_ddg{}'.format(taipale_dataset_name, SUFFIX)] * 2 + \n",
    "        df['spearmanr_humsavar_del_class_exp_vs_ddg_abs{}'.format(SUFFIX)] + \n",
    "        df['spearmanr_clinvar_del_class_exp_vs_ddg_abs{}'.format(SUFFIX)] + \n",
    "        df['spearmanr_cosmic_del_class_exp_vs_ddg_abs{}'.format(SUFFIX)]\n",
    "    ) / 7\n",
    "    df = df.sort_values('correlation_avg', ascending=True)\n",
    "    best_dfs.append(df.iloc[-1:None])\n",
    "    \n",
    "    features = df.iloc[-1]['features'].split(':')\n",
    "    best_features.append((n_features, len(features), features,))\n",
    "\n",
    "best_df = pd.concat(best_dfs, ignore_index=True)"
   ]
  },
  {
   "cell_type": "markdown",
   "metadata": {},
   "source": [
    "## Statistics"
   ]
  },
  {
   "cell_type": "code",
   "execution_count": 44,
   "metadata": {
    "collapsed": true
   },
   "outputs": [],
   "source": [
    "feature_elimination_wtest_df = best_df.copy()"
   ]
  },
  {
   "cell_type": "code",
   "execution_count": 45,
   "metadata": {
    "code_folding": [
     0
    ],
    "collapsed": true
   },
   "outputs": [],
   "source": [
    "# (dataset_name, dataset_label)\n",
    "def get_test_columns(suffix_test):\n",
    "    return [\n",
    "        ('correlation_avg', 'Combined'),\n",
    "        ('spearmanr', 'Cross-validation'),\n",
    "        ('spearmanr_{}{}_ddg_exp_vs_ddg{}'.format(taipale_dataset_name, suffix_test, SUFFIX), 'Taipale'),\n",
    "        ('spearmanr_humsavar{}_del_class_exp_vs_ddg_abs{}'.format(suffix_test, SUFFIX), 'Humsavar'),\n",
    "        ('spearmanr_clinvar{}_del_class_exp_vs_ddg_abs{}'.format(suffix_test, SUFFIX), 'ClinVar'),\n",
    "        ('spearmanr_cosmic{}_del_class_exp_vs_ddg_abs{}'.format(suffix_test, SUFFIX), 'COSMIC'),\n",
    "    ]"
   ]
  },
  {
   "cell_type": "code",
   "execution_count": 46,
   "metadata": {
    "code_folding": [
     0
    ],
    "collapsed": false,
    "run_control": {
     "marked": false
    }
   },
   "outputs": [
    {
     "name": "stdout",
     "output_type": "stream",
     "text": [
      "Feature elimination on the train dataset\n"
     ]
    },
    {
     "data": {
      "image/png": "[encoded data removed]",
      "text/plain": [
       "<matplotlib.figure.Figure at 0x7fab2c64d710>"
      ]
     },
     "metadata": {},
     "output_type": "display_data"
    }
   ],
   "source": [
    "# Train curve for feature elimination\n",
    "print('Feature elimination on the train dataset')\n",
    "\n",
    "fg, ax = plt.subplots(figsize=(12, 8))\n",
    "\n",
    "for test_column, test_label in get_test_columns(suffix_test=''):\n",
    "    plt.plot(\n",
    "        feature_elimination_wtest_df['n_features'], \n",
    "        feature_elimination_wtest_df[test_column], label=test_label)\n",
    "\n",
    "plt.legend(loc='upper center', bbox_to_anchor=(0.5, 1.16), ncol=3)\n",
    "plt.xlabel('Number of features')\n",
    "plt.ylabel('Spearman R')\n",
    "plt.gca().invert_xaxis()"
   ]
  },
  {
   "cell_type": "code",
   "execution_count": 47,
   "metadata": {
    "code_folding": [
     0
    ],
    "collapsed": false,
    "scrolled": false
   },
   "outputs": [
    {
     "name": "stdout",
     "output_type": "stream",
     "text": [
      "Feature elimination on the validation dataset\n"
     ]
    },
    {
     "data": {
      "image/png": "[encoded data removed]",
      "text/plain": [
       "<matplotlib.figure.Figure at 0x7fab2c64d438>"
      ]
     },
     "metadata": {},
     "output_type": "display_data"
    }
   ],
   "source": [
    "# Validation curve for feature elimination\n",
    "print(\"Feature elimination on the validation dataset\")\n",
    "\n",
    "fg, ax = plt.subplots(figsize=(12, 8))\n",
    "\n",
    "for test_column, test_label in get_test_columns(suffix_test='_test'):\n",
    "    plt.plot(\n",
    "        feature_elimination_wtest_df['n_features'], \n",
    "        feature_elimination_wtest_df[test_column], label=test_label)\n",
    "\n",
    "plt.legend(loc='upper center', bbox_to_anchor=(0.5, 1.16), ncol=3)\n",
    "plt.xlabel('Number of features')\n",
    "plt.ylabel('Spearman R')\n",
    "plt.gca().invert_xaxis()"
   ]
  },
  {
   "cell_type": "code",
   "execution_count": 48,
   "metadata": {
    "code_folding": [
     0
    ],
    "collapsed": false
   },
   "outputs": [
    {
     "name": "stdout",
     "output_type": "stream",
     "text": [
      "n_features_best 10\n"
     ]
    },
    {
     "data": {
      "image/png": "[encoded data removed]",
      "text/plain": [
       "<matplotlib.figure.Figure at 0x7fab2e255160>"
      ]
     },
     "metadata": {},
     "output_type": "display_data"
    }
   ],
   "source": [
    "# Train + validation curve for feature elimination\n",
    "DO_TEST = False\n",
    "test_suffixes = ['', '_test'] if DO_TEST else ['']\n",
    "\n",
    "df = feature_elimination_wtest_df\n",
    "fg, ax = plt.subplots(figsize=(12, 8))\n",
    "\n",
    "plt.plot(feature_elimination_wtest_df['n_features'], \n",
    "         feature_elimination_wtest_df['spearmanr'], \n",
    "         label='Cross-validation', \n",
    "         color=sns.palettes.color_palette()[0], \n",
    "         linestyle='-')\n",
    "\n",
    "for test_suffix in test_suffixes:\n",
    "    plt.plot(feature_elimination_wtest_df['n_features'], \n",
    "             feature_elimination_wtest_df['spearmanr_humsavar{}_del_class_exp_vs_ddg_abs'.format(test_suffix)], \n",
    "             label='Humsavar' + test_suffix.replace('_', ' ').upper(), \n",
    "             color=sns.palettes.color_palette()[1], \n",
    "             linestyle='--' if test_suffix else '-')\n",
    "\n",
    "for test_suffix in test_suffixes:\n",
    "    plt.plot(df['n_features'], \n",
    "             feature_elimination_wtest_df['spearmanr_clinvar{}_del_class_exp_vs_ddg_abs'.format(test_suffix)], \n",
    "             label='ClinVar' + test_suffix.replace('_', ' ').upper(),\n",
    "             color=sns.palettes.color_palette()[2], \n",
    "             linestyle='--' if test_suffix else '-')\n",
    "\n",
    "for test_suffix in test_suffixes:\n",
    "    plt.plot(feature_elimination_wtest_df['n_features'], \n",
    "             feature_elimination_wtest_df['spearmanr_cosmic{}_del_class_exp_vs_ddg_abs'.format(test_suffix)], \n",
    "             label='COSMIC' + test_suffix.replace('_', ' ').upper(),\n",
    "             color=sns.palettes.color_palette()[3],\n",
    "             linestyle='--' if test_suffix else '-')\n",
    "    \n",
    "    \n",
    "plt.plot(feature_elimination_wtest_df['n_features'], \n",
    "     feature_elimination_wtest_df['spearmanr_taipale_diffseqi_ddg_exp_vs_ddg'], \n",
    "     label='Taipale', \n",
    "     color=sns.palettes.color_palette()[4],\n",
    "     linestyle='-')\n",
    "\n",
    "\n",
    "plt.plot(feature_elimination_wtest_df['n_features'], \n",
    "         feature_elimination_wtest_df['correlation_avg'], \n",
    "         label='Training combined', \n",
    "         color='k', \n",
    "         linestyle='-',\n",
    "         linewidth=4)\n",
    "\n",
    "\n",
    "# plt.legend(loc='upper center', bbox_to_anchor=(0.5, 1.16), ncol=5)\n",
    "plt.legend(loc='upper right', bbox_to_anchor=(1.4, 1), ncol=1)\n",
    "plt.xlabel('Number of features')\n",
    "plt.ylabel('Spearman R')\n",
    "plt.gca().invert_xaxis()\n",
    "\n",
    "\n",
    "n_features_best = df[df['correlation_avg'] == df['correlation_avg'].max()]['n_features'].values[0]\n",
    "print('n_features_best', n_features_best)\n",
    "plt.vlines(n_features_best, 0, 0.6, linestyle='--')\n",
    "\n",
    "plt.savefig(op.join(NOTEBOOK_NAME, 'feature_elimination.png'), bbox_inches='tight', dpi=220)\n",
    "plt.savefig(op.join(NOTEBOOK_NAME, 'feature_elimination.pdf'), bbox_inches='tight')"
   ]
  },
  {
   "cell_type": "code",
   "execution_count": 49,
   "metadata": {
    "code_folding": [
     0
    ],
    "collapsed": false,
    "run_control": {
     "marked": false
    }
   },
   "outputs": [
    {
     "data": {
      "text/html": [
       "<b>df_best"
      ],
      "text/plain": [
       "<IPython.core.display.HTML object>"
      ]
     },
     "metadata": {},
     "output_type": "display_data"
    },
    {
     "data": {
      "text/html": [
       "<div>\n",
       "<table border=\"1\" class=\"dataframe\">\n",
       "  <thead>\n",
       "    <tr style=\"text-align: right;\">\n",
       "      <th></th>\n",
       "      <th>clf_opts</th>\n",
       "      <th>features</th>\n",
       "      <th>job_id</th>\n",
       "      <th>pearsonr</th>\n",
       "      <th>pearsonr_clinvar_del_class_exp_vs_ddg_abs</th>\n",
       "      <th>pearsonr_clinvar_del_class_exp_vs_ddg_abs_40to80</th>\n",
       "      <th>pearsonr_clinvar_del_class_exp_vs_ddg_abs_gt80</th>\n",
       "      <th>pearsonr_clinvar_del_class_exp_vs_ddg_abs_lt40</th>\n",
       "      <th>pearsonr_clinvar_test_del_class_exp_vs_ddg_abs</th>\n",
       "      <th>pearsonr_clinvar_test_del_class_exp_vs_ddg_abs_40to80</th>\n",
       "      <th>pearsonr_clinvar_test_del_class_exp_vs_ddg_abs_gt80</th>\n",
       "      <th>pearsonr_clinvar_test_del_class_exp_vs_ddg_abs_lt40</th>\n",
       "      <th>pearsonr_cosmic_del_class_exp_vs_ddg_abs</th>\n",
       "      <th>pearsonr_cosmic_del_class_exp_vs_ddg_abs_40to80</th>\n",
       "      <th>pearsonr_cosmic_del_class_exp_vs_ddg_abs_gt80</th>\n",
       "      <th>pearsonr_cosmic_del_class_exp_vs_ddg_abs_lt40</th>\n",
       "      <th>pearsonr_cosmic_del_score_exp_vs_ddg_abs</th>\n",
       "      <th>pearsonr_cosmic_del_score_exp_vs_ddg_abs_40to80</th>\n",
       "      <th>pearsonr_cosmic_del_score_exp_vs_ddg_abs_gt80</th>\n",
       "      <th>pearsonr_cosmic_del_score_exp_vs_ddg_abs_lt40</th>\n",
       "      <th>pearsonr_cosmic_test_del_class_exp_vs_ddg_abs</th>\n",
       "      <th>pearsonr_cosmic_test_del_class_exp_vs_ddg_abs_40to80</th>\n",
       "      <th>pearsonr_cosmic_test_del_class_exp_vs_ddg_abs_gt80</th>\n",
       "      <th>pearsonr_cosmic_test_del_class_exp_vs_ddg_abs_lt40</th>\n",
       "      <th>pearsonr_cosmic_test_del_score_exp_vs_ddg_abs</th>\n",
       "      <th>pearsonr_cosmic_test_del_score_exp_vs_ddg_abs_40to80</th>\n",
       "      <th>pearsonr_cosmic_test_del_score_exp_vs_ddg_abs_gt80</th>\n",
       "      <th>pearsonr_cosmic_test_del_score_exp_vs_ddg_abs_lt40</th>\n",
       "      <th>pearsonr_humsavar_del_class_exp_vs_ddg_abs</th>\n",
       "      <th>pearsonr_humsavar_del_class_exp_vs_ddg_abs_40to80</th>\n",
       "      <th>pearsonr_humsavar_del_class_exp_vs_ddg_abs_gt80</th>\n",
       "      <th>pearsonr_humsavar_del_class_exp_vs_ddg_abs_lt40</th>\n",
       "      <th>pearsonr_humsavar_test_del_class_exp_vs_ddg_abs</th>\n",
       "      <th>pearsonr_humsavar_test_del_class_exp_vs_ddg_abs_40to80</th>\n",
       "      <th>pearsonr_humsavar_test_del_class_exp_vs_ddg_abs_gt80</th>\n",
       "      <th>pearsonr_humsavar_test_del_class_exp_vs_ddg_abs_lt40</th>\n",
       "      <th>pearsonr_taipale_ddg_exp_vs_ddg</th>\n",
       "      <th>pearsonr_taipale_ddg_exp_vs_ddg_40to80</th>\n",
       "      <th>pearsonr_taipale_ddg_exp_vs_ddg_gt80</th>\n",
       "      <th>pearsonr_taipale_ddg_exp_vs_ddg_lt40</th>\n",
       "      <th>pearsonr_taipale_diffseqi_ddg_exp_vs_ddg</th>\n",
       "      <th>pearsonr_taipale_diffseqi_ddg_exp_vs_ddg_40to80</th>\n",
       "      <th>pearsonr_taipale_diffseqi_ddg_exp_vs_ddg_gt80</th>\n",
       "      <th>pearsonr_taipale_diffseqi_ddg_exp_vs_ddg_lt40</th>\n",
       "      <th>pearsonr_taipale_diffseqi_test_ddg_exp_vs_ddg</th>\n",
       "      <th>pearsonr_taipale_diffseqi_test_ddg_exp_vs_ddg_40to80</th>\n",
       "      <th>pearsonr_taipale_diffseqi_test_ddg_exp_vs_ddg_gt80</th>\n",
       "      <th>pearsonr_taipale_diffseqi_test_ddg_exp_vs_ddg_lt40</th>\n",
       "      <th>pearsonr_taipale_test_ddg_exp_vs_ddg</th>\n",
       "      <th>pearsonr_taipale_test_ddg_exp_vs_ddg_40to80</th>\n",
       "      <th>pearsonr_taipale_test_ddg_exp_vs_ddg_gt80</th>\n",
       "      <th>pearsonr_taipale_test_ddg_exp_vs_ddg_lt40</th>\n",
       "      <th>r2</th>\n",
       "      <th>r2_clinvar_del_class_exp_vs_ddg_abs</th>\n",
       "      <th>r2_clinvar_del_class_exp_vs_ddg_abs_40to80</th>\n",
       "      <th>r2_clinvar_del_class_exp_vs_ddg_abs_gt80</th>\n",
       "      <th>r2_clinvar_del_class_exp_vs_ddg_abs_lt40</th>\n",
       "      <th>r2_clinvar_test_del_class_exp_vs_ddg_abs</th>\n",
       "      <th>r2_clinvar_test_del_class_exp_vs_ddg_abs_40to80</th>\n",
       "      <th>r2_clinvar_test_del_class_exp_vs_ddg_abs_gt80</th>\n",
       "      <th>r2_clinvar_test_del_class_exp_vs_ddg_abs_lt40</th>\n",
       "      <th>r2_cosmic_del_class_exp_vs_ddg_abs</th>\n",
       "      <th>r2_cosmic_del_class_exp_vs_ddg_abs_40to80</th>\n",
       "      <th>r2_cosmic_del_class_exp_vs_ddg_abs_gt80</th>\n",
       "      <th>r2_cosmic_del_class_exp_vs_ddg_abs_lt40</th>\n",
       "      <th>r2_cosmic_del_score_exp_vs_ddg_abs</th>\n",
       "      <th>r2_cosmic_del_score_exp_vs_ddg_abs_40to80</th>\n",
       "      <th>r2_cosmic_del_score_exp_vs_ddg_abs_gt80</th>\n",
       "      <th>r2_cosmic_del_score_exp_vs_ddg_abs_lt40</th>\n",
       "      <th>r2_cosmic_test_del_class_exp_vs_ddg_abs</th>\n",
       "      <th>r2_cosmic_test_del_class_exp_vs_ddg_abs_40to80</th>\n",
       "      <th>r2_cosmic_test_del_class_exp_vs_ddg_abs_gt80</th>\n",
       "      <th>r2_cosmic_test_del_class_exp_vs_ddg_abs_lt40</th>\n",
       "      <th>r2_cosmic_test_del_score_exp_vs_ddg_abs</th>\n",
       "      <th>r2_cosmic_test_del_score_exp_vs_ddg_abs_40to80</th>\n",
       "      <th>r2_cosmic_test_del_score_exp_vs_ddg_abs_gt80</th>\n",
       "      <th>r2_cosmic_test_del_score_exp_vs_ddg_abs_lt40</th>\n",
       "      <th>r2_humsavar_del_class_exp_vs_ddg_abs</th>\n",
       "      <th>r2_humsavar_del_class_exp_vs_ddg_abs_40to80</th>\n",
       "      <th>r2_humsavar_del_class_exp_vs_ddg_abs_gt80</th>\n",
       "      <th>r2_humsavar_del_class_exp_vs_ddg_abs_lt40</th>\n",
       "      <th>r2_humsavar_test_del_class_exp_vs_ddg_abs</th>\n",
       "      <th>r2_humsavar_test_del_class_exp_vs_ddg_abs_40to80</th>\n",
       "      <th>r2_humsavar_test_del_class_exp_vs_ddg_abs_gt80</th>\n",
       "      <th>r2_humsavar_test_del_class_exp_vs_ddg_abs_lt40</th>\n",
       "      <th>r2_taipale_ddg_exp_vs_ddg</th>\n",
       "      <th>r2_taipale_ddg_exp_vs_ddg_40to80</th>\n",
       "      <th>r2_taipale_ddg_exp_vs_ddg_gt80</th>\n",
       "      <th>r2_taipale_ddg_exp_vs_ddg_lt40</th>\n",
       "      <th>r2_taipale_diffseqi_ddg_exp_vs_ddg</th>\n",
       "      <th>r2_taipale_diffseqi_ddg_exp_vs_ddg_40to80</th>\n",
       "      <th>r2_taipale_diffseqi_ddg_exp_vs_ddg_gt80</th>\n",
       "      <th>r2_taipale_diffseqi_ddg_exp_vs_ddg_lt40</th>\n",
       "      <th>r2_taipale_diffseqi_test_ddg_exp_vs_ddg</th>\n",
       "      <th>r2_taipale_diffseqi_test_ddg_exp_vs_ddg_40to80</th>\n",
       "      <th>r2_taipale_diffseqi_test_ddg_exp_vs_ddg_gt80</th>\n",
       "      <th>r2_taipale_diffseqi_test_ddg_exp_vs_ddg_lt40</th>\n",
       "      <th>r2_taipale_test_ddg_exp_vs_ddg</th>\n",
       "      <th>r2_taipale_test_ddg_exp_vs_ddg_40to80</th>\n",
       "      <th>r2_taipale_test_ddg_exp_vs_ddg_gt80</th>\n",
       "      <th>r2_taipale_test_ddg_exp_vs_ddg_lt40</th>\n",
       "      <th>spearmanr</th>\n",
       "      <th>spearmanr_clinvar_del_class_exp_vs_ddg_abs</th>\n",
       "      <th>spearmanr_clinvar_del_class_exp_vs_ddg_abs_40to80</th>\n",
       "      <th>spearmanr_clinvar_del_class_exp_vs_ddg_abs_gt80</th>\n",
       "      <th>spearmanr_clinvar_del_class_exp_vs_ddg_abs_lt40</th>\n",
       "      <th>spearmanr_clinvar_test_del_class_exp_vs_ddg_abs</th>\n",
       "      <th>spearmanr_clinvar_test_del_class_exp_vs_ddg_abs_40to80</th>\n",
       "      <th>spearmanr_clinvar_test_del_class_exp_vs_ddg_abs_gt80</th>\n",
       "      <th>spearmanr_clinvar_test_del_class_exp_vs_ddg_abs_lt40</th>\n",
       "      <th>spearmanr_cosmic_del_class_exp_vs_ddg_abs</th>\n",
       "      <th>spearmanr_cosmic_del_class_exp_vs_ddg_abs_40to80</th>\n",
       "      <th>spearmanr_cosmic_del_class_exp_vs_ddg_abs_gt80</th>\n",
       "      <th>spearmanr_cosmic_del_class_exp_vs_ddg_abs_lt40</th>\n",
       "      <th>spearmanr_cosmic_del_score_exp_vs_ddg_abs</th>\n",
       "      <th>spearmanr_cosmic_del_score_exp_vs_ddg_abs_40to80</th>\n",
       "      <th>spearmanr_cosmic_del_score_exp_vs_ddg_abs_gt80</th>\n",
       "      <th>spearmanr_cosmic_del_score_exp_vs_ddg_abs_lt40</th>\n",
       "      <th>spearmanr_cosmic_test_del_class_exp_vs_ddg_abs</th>\n",
       "      <th>spearmanr_cosmic_test_del_class_exp_vs_ddg_abs_40to80</th>\n",
       "      <th>spearmanr_cosmic_test_del_class_exp_vs_ddg_abs_gt80</th>\n",
       "      <th>spearmanr_cosmic_test_del_class_exp_vs_ddg_abs_lt40</th>\n",
       "      <th>spearmanr_cosmic_test_del_score_exp_vs_ddg_abs</th>\n",
       "      <th>spearmanr_cosmic_test_del_score_exp_vs_ddg_abs_40to80</th>\n",
       "      <th>spearmanr_cosmic_test_del_score_exp_vs_ddg_abs_gt80</th>\n",
       "      <th>spearmanr_cosmic_test_del_score_exp_vs_ddg_abs_lt40</th>\n",
       "      <th>spearmanr_humsavar_del_class_exp_vs_ddg_abs</th>\n",
       "      <th>spearmanr_humsavar_del_class_exp_vs_ddg_abs_40to80</th>\n",
       "      <th>spearmanr_humsavar_del_class_exp_vs_ddg_abs_gt80</th>\n",
       "      <th>spearmanr_humsavar_del_class_exp_vs_ddg_abs_lt40</th>\n",
       "      <th>spearmanr_humsavar_test_del_class_exp_vs_ddg_abs</th>\n",
       "      <th>spearmanr_humsavar_test_del_class_exp_vs_ddg_abs_40to80</th>\n",
       "      <th>spearmanr_humsavar_test_del_class_exp_vs_ddg_abs_gt80</th>\n",
       "      <th>spearmanr_humsavar_test_del_class_exp_vs_ddg_abs_lt40</th>\n",
       "      <th>spearmanr_taipale_ddg_exp_vs_ddg</th>\n",
       "      <th>spearmanr_taipale_ddg_exp_vs_ddg_40to80</th>\n",
       "      <th>spearmanr_taipale_ddg_exp_vs_ddg_gt80</th>\n",
       "      <th>spearmanr_taipale_ddg_exp_vs_ddg_lt40</th>\n",
       "      <th>spearmanr_taipale_diffseqi_ddg_exp_vs_ddg</th>\n",
       "      <th>spearmanr_taipale_diffseqi_ddg_exp_vs_ddg_40to80</th>\n",
       "      <th>spearmanr_taipale_diffseqi_ddg_exp_vs_ddg_gt80</th>\n",
       "      <th>spearmanr_taipale_diffseqi_ddg_exp_vs_ddg_lt40</th>\n",
       "      <th>spearmanr_taipale_diffseqi_test_ddg_exp_vs_ddg</th>\n",
       "      <th>spearmanr_taipale_diffseqi_test_ddg_exp_vs_ddg_40to80</th>\n",
       "      <th>spearmanr_taipale_diffseqi_test_ddg_exp_vs_ddg_gt80</th>\n",
       "      <th>spearmanr_taipale_diffseqi_test_ddg_exp_vs_ddg_lt40</th>\n",
       "      <th>spearmanr_taipale_test_ddg_exp_vs_ddg</th>\n",
       "      <th>spearmanr_taipale_test_ddg_exp_vs_ddg_40to80</th>\n",
       "      <th>spearmanr_taipale_test_ddg_exp_vs_ddg_gt80</th>\n",
       "      <th>spearmanr_taipale_test_ddg_exp_vs_ddg_lt40</th>\n",
       "      <th>status</th>\n",
       "      <th>~system_command</th>\n",
       "      <th>n_features</th>\n",
       "      <th>correlation_avg</th>\n",
       "    </tr>\n",
       "  </thead>\n",
       "  <tbody>\n",
       "    <tr>\n",
       "      <th>59</th>\n",
       "      <td>{'max_depth': 4, 'max_features': 0.63636363636...</td>\n",
       "      <td>backbone_hbond_change:van_der_waals_change:ele...</td>\n",
       "      <td>4</td>\n",
       "      <td>0.496972</td>\n",
       "      <td>0.247029</td>\n",
       "      <td>0.231378</td>\n",
       "      <td>0.238736</td>\n",
       "      <td>0.205783</td>\n",
       "      <td>0.177505</td>\n",
       "      <td>0.196254</td>\n",
       "      <td>0.190473</td>\n",
       "      <td>0.132718</td>\n",
       "      <td>0.195501</td>\n",
       "      <td>0.236561</td>\n",
       "      <td>0.170776</td>\n",
       "      <td>0.169763</td>\n",
       "      <td>0.215604</td>\n",
       "      <td>0.255499</td>\n",
       "      <td>0.192222</td>\n",
       "      <td>0.189843</td>\n",
       "      <td>0.182482</td>\n",
       "      <td>0.199007</td>\n",
       "      <td>0.172084</td>\n",
       "      <td>0.171398</td>\n",
       "      <td>0.204853</td>\n",
       "      <td>0.218622</td>\n",
       "      <td>0.197228</td>\n",
       "      <td>0.193733</td>\n",
       "      <td>0.347666</td>\n",
       "      <td>0.306382</td>\n",
       "      <td>0.352029</td>\n",
       "      <td>0.365431</td>\n",
       "      <td>0.350849</td>\n",
       "      <td>0.421543</td>\n",
       "      <td>0.305716</td>\n",
       "      <td>0.302166</td>\n",
       "      <td>0.167202</td>\n",
       "      <td>0.116366</td>\n",
       "      <td>0.175619</td>\n",
       "      <td>0.20073</td>\n",
       "      <td>0.212432</td>\n",
       "      <td>0.223988</td>\n",
       "      <td>0.222082</td>\n",
       "      <td>0.192039</td>\n",
       "      <td>0.224037</td>\n",
       "      <td>0.22889</td>\n",
       "      <td>0.244325</td>\n",
       "      <td>0.203013</td>\n",
       "      <td>0.227695</td>\n",
       "      <td>0.185469</td>\n",
       "      <td>0.294742</td>\n",
       "      <td>0.025031</td>\n",
       "      <td>0.242778</td>\n",
       "      <td>-2.35629</td>\n",
       "      <td>-2.326554</td>\n",
       "      <td>-2.689758</td>\n",
       "      <td>-3.050751</td>\n",
       "      <td>-2.389514</td>\n",
       "      <td>-2.91286</td>\n",
       "      <td>-2.272826</td>\n",
       "      <td>-2.620805</td>\n",
       "      <td>-2.668526</td>\n",
       "      <td>-1.804812</td>\n",
       "      <td>-4.022466</td>\n",
       "      <td>-2.776805</td>\n",
       "      <td>-3.937856</td>\n",
       "      <td>-2.600813</td>\n",
       "      <td>-5.969452</td>\n",
       "      <td>-4.237639</td>\n",
       "      <td>-2.757413</td>\n",
       "      <td>-2.276855</td>\n",
       "      <td>-4.095381</td>\n",
       "      <td>-2.398912</td>\n",
       "      <td>-4.237901</td>\n",
       "      <td>-3.355139</td>\n",
       "      <td>-6.190541</td>\n",
       "      <td>-3.865262</td>\n",
       "      <td>-2.59116</td>\n",
       "      <td>-2.181542</td>\n",
       "      <td>-2.906986</td>\n",
       "      <td>-2.482586</td>\n",
       "      <td>-2.464079</td>\n",
       "      <td>-2.286157</td>\n",
       "      <td>-3.493246</td>\n",
       "      <td>-2.112724</td>\n",
       "      <td>-0.579371</td>\n",
       "      <td>-0.771454</td>\n",
       "      <td>-0.631826</td>\n",
       "      <td>-0.396882</td>\n",
       "      <td>-0.494277</td>\n",
       "      <td>-0.458365</td>\n",
       "      <td>-0.489349</td>\n",
       "      <td>-0.543099</td>\n",
       "      <td>-0.906786</td>\n",
       "      <td>-0.927517</td>\n",
       "      <td>-0.882632</td>\n",
       "      <td>-0.905571</td>\n",
       "      <td>-0.848451</td>\n",
       "      <td>-0.840006</td>\n",
       "      <td>-0.907672</td>\n",
       "      <td>-0.73409</td>\n",
       "      <td>0.515187</td>\n",
       "      <td>0.239942</td>\n",
       "      <td>0.21592</td>\n",
       "      <td>0.245654</td>\n",
       "      <td>0.196649</td>\n",
       "      <td>0.173802</td>\n",
       "      <td>0.190048</td>\n",
       "      <td>0.189352</td>\n",
       "      <td>0.129503</td>\n",
       "      <td>0.228701</td>\n",
       "      <td>0.266991</td>\n",
       "      <td>0.199896</td>\n",
       "      <td>0.205027</td>\n",
       "      <td>0.261263</td>\n",
       "      <td>0.301138</td>\n",
       "      <td>0.226747</td>\n",
       "      <td>0.245097</td>\n",
       "      <td>0.209183</td>\n",
       "      <td>0.226171</td>\n",
       "      <td>0.202717</td>\n",
       "      <td>0.194716</td>\n",
       "      <td>0.251942</td>\n",
       "      <td>0.269013</td>\n",
       "      <td>0.240406</td>\n",
       "      <td>0.240694</td>\n",
       "      <td>0.376855</td>\n",
       "      <td>0.344229</td>\n",
       "      <td>0.384276</td>\n",
       "      <td>0.379227</td>\n",
       "      <td>0.38053</td>\n",
       "      <td>0.424551</td>\n",
       "      <td>0.340032</td>\n",
       "      <td>0.326531</td>\n",
       "      <td>0.171764</td>\n",
       "      <td>0.122116</td>\n",
       "      <td>0.180733</td>\n",
       "      <td>0.2</td>\n",
       "      <td>0.204603</td>\n",
       "      <td>0.217566</td>\n",
       "      <td>0.205567</td>\n",
       "      <td>0.188202</td>\n",
       "      <td>0.159406</td>\n",
       "      <td>0.138467</td>\n",
       "      <td>0.192512</td>\n",
       "      <td>0.155159</td>\n",
       "      <td>0.221888</td>\n",
       "      <td>0.208356</td>\n",
       "      <td>0.278709</td>\n",
       "      <td>0.065166</td>\n",
       "      <td>done</td>\n",
       "      <td>/home/kimlab1/strokach/anaconda/bin/python /ho...</td>\n",
       "      <td>10</td>\n",
       "      <td>0.32644</td>\n",
       "    </tr>\n",
       "  </tbody>\n",
       "</table>\n",
       "</div>"
      ],
      "text/plain": [
       "                                             clf_opts                                           features  job_id  pearsonr  pearsonr_clinvar_del_class_exp_vs_ddg_abs  pearsonr_clinvar_del_class_exp_vs_ddg_abs_40to80  pearsonr_clinvar_del_class_exp_vs_ddg_abs_gt80  pearsonr_clinvar_del_class_exp_vs_ddg_abs_lt40  pearsonr_clinvar_test_del_class_exp_vs_ddg_abs  pearsonr_clinvar_test_del_class_exp_vs_ddg_abs_40to80  pearsonr_clinvar_test_del_class_exp_vs_ddg_abs_gt80  pearsonr_clinvar_test_del_class_exp_vs_ddg_abs_lt40  pearsonr_cosmic_del_class_exp_vs_ddg_abs  pearsonr_cosmic_del_class_exp_vs_ddg_abs_40to80  pearsonr_cosmic_del_class_exp_vs_ddg_abs_gt80  pearsonr_cosmic_del_class_exp_vs_ddg_abs_lt40  pearsonr_cosmic_del_score_exp_vs_ddg_abs  pearsonr_cosmic_del_score_exp_vs_ddg_abs_40to80  pearsonr_cosmic_del_score_exp_vs_ddg_abs_gt80  pearsonr_cosmic_del_score_exp_vs_ddg_abs_lt40  pearsonr_cosmic_test_del_class_exp_vs_ddg_abs  pearsonr_cosmic_test_del_class_exp_vs_ddg_abs_40to80  \\\n",
       "59  {'max_depth': 4, 'max_features': 0.63636363636...  backbone_hbond_change:van_der_waals_change:ele...       4  0.496972                                   0.247029                                          0.231378                                        0.238736                                        0.205783                                        0.177505                                           0.196254                                               0.190473                                             0.132718                                    0.195501                                         0.236561                                       0.170776                                       0.169763                                  0.215604                                         0.255499                                       0.192222                                       0.189843                                       0.182482                                           0.199007      \n",
       "\n",
       "    pearsonr_cosmic_test_del_class_exp_vs_ddg_abs_gt80  pearsonr_cosmic_test_del_class_exp_vs_ddg_abs_lt40  pearsonr_cosmic_test_del_score_exp_vs_ddg_abs  pearsonr_cosmic_test_del_score_exp_vs_ddg_abs_40to80  pearsonr_cosmic_test_del_score_exp_vs_ddg_abs_gt80  pearsonr_cosmic_test_del_score_exp_vs_ddg_abs_lt40  pearsonr_humsavar_del_class_exp_vs_ddg_abs  pearsonr_humsavar_del_class_exp_vs_ddg_abs_40to80  pearsonr_humsavar_del_class_exp_vs_ddg_abs_gt80  pearsonr_humsavar_del_class_exp_vs_ddg_abs_lt40  pearsonr_humsavar_test_del_class_exp_vs_ddg_abs  pearsonr_humsavar_test_del_class_exp_vs_ddg_abs_40to80  pearsonr_humsavar_test_del_class_exp_vs_ddg_abs_gt80  pearsonr_humsavar_test_del_class_exp_vs_ddg_abs_lt40  pearsonr_taipale_ddg_exp_vs_ddg  pearsonr_taipale_ddg_exp_vs_ddg_40to80  pearsonr_taipale_ddg_exp_vs_ddg_gt80  pearsonr_taipale_ddg_exp_vs_ddg_lt40  pearsonr_taipale_diffseqi_ddg_exp_vs_ddg  pearsonr_taipale_diffseqi_ddg_exp_vs_ddg_40to80  \\\n",
       "59                                           0.172084                                            0.171398                                        0.204853                                           0.218622                                              0.197228                                            0.193733                                     0.347666                                           0.306382                                         0.352029                                         0.365431                                         0.350849                                           0.421543                                                0.305716                                              0.302166                            0.167202                                0.116366                              0.175619                               0.20073                                  0.212432                                         0.223988   \n",
       "\n",
       "    pearsonr_taipale_diffseqi_ddg_exp_vs_ddg_gt80  pearsonr_taipale_diffseqi_ddg_exp_vs_ddg_lt40  pearsonr_taipale_diffseqi_test_ddg_exp_vs_ddg  pearsonr_taipale_diffseqi_test_ddg_exp_vs_ddg_40to80  pearsonr_taipale_diffseqi_test_ddg_exp_vs_ddg_gt80  pearsonr_taipale_diffseqi_test_ddg_exp_vs_ddg_lt40  pearsonr_taipale_test_ddg_exp_vs_ddg  pearsonr_taipale_test_ddg_exp_vs_ddg_40to80  pearsonr_taipale_test_ddg_exp_vs_ddg_gt80  pearsonr_taipale_test_ddg_exp_vs_ddg_lt40        r2  r2_clinvar_del_class_exp_vs_ddg_abs  r2_clinvar_del_class_exp_vs_ddg_abs_40to80  r2_clinvar_del_class_exp_vs_ddg_abs_gt80  r2_clinvar_del_class_exp_vs_ddg_abs_lt40  r2_clinvar_test_del_class_exp_vs_ddg_abs  r2_clinvar_test_del_class_exp_vs_ddg_abs_40to80  r2_clinvar_test_del_class_exp_vs_ddg_abs_gt80  r2_clinvar_test_del_class_exp_vs_ddg_abs_lt40  r2_cosmic_del_class_exp_vs_ddg_abs  r2_cosmic_del_class_exp_vs_ddg_abs_40to80  r2_cosmic_del_class_exp_vs_ddg_abs_gt80  r2_cosmic_del_class_exp_vs_ddg_abs_lt40  \\\n",
       "59                                       0.222082                                       0.192039                                       0.224037                                            0.22889                                              0.244325                                            0.203013                               0.227695                                     0.185469                                   0.294742                                   0.025031  0.242778                             -2.35629                                   -2.326554                                 -2.689758                                 -3.050751                                 -2.389514                                         -2.91286                                      -2.272826                                      -2.620805                           -2.668526                                  -1.804812                                -4.022466                                -2.776805   \n",
       "\n",
       "    r2_cosmic_del_score_exp_vs_ddg_abs  r2_cosmic_del_score_exp_vs_ddg_abs_40to80  r2_cosmic_del_score_exp_vs_ddg_abs_gt80  r2_cosmic_del_score_exp_vs_ddg_abs_lt40  r2_cosmic_test_del_class_exp_vs_ddg_abs  r2_cosmic_test_del_class_exp_vs_ddg_abs_40to80  r2_cosmic_test_del_class_exp_vs_ddg_abs_gt80  r2_cosmic_test_del_class_exp_vs_ddg_abs_lt40  r2_cosmic_test_del_score_exp_vs_ddg_abs  r2_cosmic_test_del_score_exp_vs_ddg_abs_40to80  r2_cosmic_test_del_score_exp_vs_ddg_abs_gt80  r2_cosmic_test_del_score_exp_vs_ddg_abs_lt40  r2_humsavar_del_class_exp_vs_ddg_abs  r2_humsavar_del_class_exp_vs_ddg_abs_40to80  r2_humsavar_del_class_exp_vs_ddg_abs_gt80  r2_humsavar_del_class_exp_vs_ddg_abs_lt40  r2_humsavar_test_del_class_exp_vs_ddg_abs  r2_humsavar_test_del_class_exp_vs_ddg_abs_40to80  r2_humsavar_test_del_class_exp_vs_ddg_abs_gt80  r2_humsavar_test_del_class_exp_vs_ddg_abs_lt40  r2_taipale_ddg_exp_vs_ddg  r2_taipale_ddg_exp_vs_ddg_40to80  r2_taipale_ddg_exp_vs_ddg_gt80  \\\n",
       "59                           -3.937856                                  -2.600813                                -5.969452                                -4.237639                                -2.757413                                       -2.276855                                     -4.095381                                     -2.398912                                -4.237901                                       -3.355139                                     -6.190541                                     -3.865262                              -2.59116                                    -2.181542                                  -2.906986                                  -2.482586                                  -2.464079                                         -2.286157                                       -3.493246                                       -2.112724                  -0.579371                         -0.771454                       -0.631826   \n",
       "\n",
       "    r2_taipale_ddg_exp_vs_ddg_lt40  r2_taipale_diffseqi_ddg_exp_vs_ddg  r2_taipale_diffseqi_ddg_exp_vs_ddg_40to80  r2_taipale_diffseqi_ddg_exp_vs_ddg_gt80  r2_taipale_diffseqi_ddg_exp_vs_ddg_lt40  r2_taipale_diffseqi_test_ddg_exp_vs_ddg  r2_taipale_diffseqi_test_ddg_exp_vs_ddg_40to80  r2_taipale_diffseqi_test_ddg_exp_vs_ddg_gt80  r2_taipale_diffseqi_test_ddg_exp_vs_ddg_lt40  r2_taipale_test_ddg_exp_vs_ddg  r2_taipale_test_ddg_exp_vs_ddg_40to80  r2_taipale_test_ddg_exp_vs_ddg_gt80  r2_taipale_test_ddg_exp_vs_ddg_lt40  spearmanr  spearmanr_clinvar_del_class_exp_vs_ddg_abs  spearmanr_clinvar_del_class_exp_vs_ddg_abs_40to80  spearmanr_clinvar_del_class_exp_vs_ddg_abs_gt80  spearmanr_clinvar_del_class_exp_vs_ddg_abs_lt40  spearmanr_clinvar_test_del_class_exp_vs_ddg_abs  spearmanr_clinvar_test_del_class_exp_vs_ddg_abs_40to80  spearmanr_clinvar_test_del_class_exp_vs_ddg_abs_gt80  spearmanr_clinvar_test_del_class_exp_vs_ddg_abs_lt40  spearmanr_cosmic_del_class_exp_vs_ddg_abs  \\\n",
       "59                       -0.396882                           -0.494277                                  -0.458365                                -0.489349                                -0.543099                                -0.906786                                       -0.927517                                     -0.882632                                     -0.905571                       -0.848451                              -0.840006                            -0.907672                             -0.73409   0.515187                                    0.239942                                            0.21592                                         0.245654                                         0.196649                                         0.173802                                           0.190048                                                0.189352                                              0.129503                                      0.228701   \n",
       "\n",
       "    spearmanr_cosmic_del_class_exp_vs_ddg_abs_40to80  spearmanr_cosmic_del_class_exp_vs_ddg_abs_gt80  spearmanr_cosmic_del_class_exp_vs_ddg_abs_lt40  spearmanr_cosmic_del_score_exp_vs_ddg_abs  spearmanr_cosmic_del_score_exp_vs_ddg_abs_40to80  spearmanr_cosmic_del_score_exp_vs_ddg_abs_gt80  spearmanr_cosmic_del_score_exp_vs_ddg_abs_lt40  spearmanr_cosmic_test_del_class_exp_vs_ddg_abs  spearmanr_cosmic_test_del_class_exp_vs_ddg_abs_40to80  spearmanr_cosmic_test_del_class_exp_vs_ddg_abs_gt80  spearmanr_cosmic_test_del_class_exp_vs_ddg_abs_lt40  spearmanr_cosmic_test_del_score_exp_vs_ddg_abs  spearmanr_cosmic_test_del_score_exp_vs_ddg_abs_40to80  spearmanr_cosmic_test_del_score_exp_vs_ddg_abs_gt80  spearmanr_cosmic_test_del_score_exp_vs_ddg_abs_lt40  spearmanr_humsavar_del_class_exp_vs_ddg_abs  spearmanr_humsavar_del_class_exp_vs_ddg_abs_40to80  spearmanr_humsavar_del_class_exp_vs_ddg_abs_gt80  spearmanr_humsavar_del_class_exp_vs_ddg_abs_lt40  \\\n",
       "59                                          0.266991                                        0.199896                                        0.205027                                   0.261263                                          0.301138                                        0.226747                                        0.245097                                        0.209183                                           0.226171                                               0.202717                                             0.194716                                          0.251942                                           0.269013                                               0.240406                                             0.240694                                       0.376855                                           0.344229                                           0.384276                                          0.379227   \n",
       "\n",
       "    spearmanr_humsavar_test_del_class_exp_vs_ddg_abs  spearmanr_humsavar_test_del_class_exp_vs_ddg_abs_40to80  spearmanr_humsavar_test_del_class_exp_vs_ddg_abs_gt80  spearmanr_humsavar_test_del_class_exp_vs_ddg_abs_lt40  spearmanr_taipale_ddg_exp_vs_ddg  spearmanr_taipale_ddg_exp_vs_ddg_40to80  spearmanr_taipale_ddg_exp_vs_ddg_gt80  spearmanr_taipale_ddg_exp_vs_ddg_lt40  spearmanr_taipale_diffseqi_ddg_exp_vs_ddg  spearmanr_taipale_diffseqi_ddg_exp_vs_ddg_40to80  spearmanr_taipale_diffseqi_ddg_exp_vs_ddg_gt80  spearmanr_taipale_diffseqi_ddg_exp_vs_ddg_lt40  spearmanr_taipale_diffseqi_test_ddg_exp_vs_ddg  spearmanr_taipale_diffseqi_test_ddg_exp_vs_ddg_40to80  spearmanr_taipale_diffseqi_test_ddg_exp_vs_ddg_gt80  spearmanr_taipale_diffseqi_test_ddg_exp_vs_ddg_lt40  spearmanr_taipale_test_ddg_exp_vs_ddg  spearmanr_taipale_test_ddg_exp_vs_ddg_40to80  spearmanr_taipale_test_ddg_exp_vs_ddg_gt80  spearmanr_taipale_test_ddg_exp_vs_ddg_lt40 status  \\\n",
       "59                                           0.38053                                           0.424551                                                 0.340032                                               0.326531                              0.171764                                 0.122116                               0.180733                                    0.2                                   0.204603                                          0.217566                                        0.205567                                        0.188202                                        0.159406                                           0.138467                                               0.192512                                             0.155159                                 0.221888                                      0.208356                                    0.278709                                    0.065166   done   \n",
       "\n",
       "                                      ~system_command  n_features  correlation_avg  \n",
       "59  /home/kimlab1/strokach/anaconda/bin/python /ho...          10          0.32644  "
      ]
     },
     "metadata": {},
     "output_type": "display_data"
    },
    {
     "data": {
      "text/html": [
       "<b>n_features_best"
      ],
      "text/plain": [
       "<IPython.core.display.HTML object>"
      ]
     },
     "metadata": {},
     "output_type": "display_data"
    },
    {
     "data": {
      "text/plain": [
       "10"
      ]
     },
     "metadata": {},
     "output_type": "display_data"
    },
    {
     "data": {
      "text/html": [
       "<b>features_best"
      ],
      "text/plain": [
       "<IPython.core.display.HTML object>"
      ]
     },
     "metadata": {},
     "output_type": "display_data"
    },
    {
     "data": {
      "text/plain": [
       "['backbone_hbond_change',\n",
       " 'electrostatics_change',\n",
       " 'energy_ionisation_change',\n",
       " 'pcv_salt_opposite_change',\n",
       " 'pcv_vdw_self_change',\n",
       " 'provean_score',\n",
       " 'secondary_structure_wt',\n",
       " 'solvation_polar_change',\n",
       " 'solvent_accessibility_wt',\n",
       " 'van_der_waals_change']"
      ]
     },
     "metadata": {},
     "output_type": "display_data"
    },
    {
     "data": {
      "text/html": [
       "<b>clf_options_best"
      ],
      "text/plain": [
       "<IPython.core.display.HTML object>"
      ]
     },
     "metadata": {},
     "output_type": "display_data"
    },
    {
     "data": {
      "text/plain": [
       "{'alpha': 0.8,\n",
       " 'learning_rate': 0.01,\n",
       " 'loss': 'huber',\n",
       " 'max_depth': 4,\n",
       " 'max_features': 0.6363636363636364,\n",
       " 'min_samples_leaf': 17,\n",
       " 'n_estimators': 2000}"
      ]
     },
     "metadata": {},
     "output_type": "display_data"
    }
   ],
   "source": [
    "# Extract best values\n",
    "df_best = df[df['correlation_avg'] == df['correlation_avg'].max()]\n",
    "display(HTML('<b>df_best'), df_best)\n",
    "\n",
    "n_features_best = int(df_best['n_features'])\n",
    "display(HTML('<b>n_features_best'), n_features_best)\n",
    "\n",
    "features_best = sorted(df_best['features'].str.split(':').values[0])\n",
    "display(HTML('<b>features_best'), features_best)\n",
    "\n",
    "clf_options_best = df_best['clf_opts'].values[0]\n",
    "display(HTML('<b>clf_options_best'), clf_options_best)"
   ]
  },
  {
   "cell_type": "code",
   "execution_count": 50,
   "metadata": {
    "collapsed": false,
    "run_control": {
     "marked": false
    }
   },
   "outputs": [
    {
     "data": {
      "text/plain": [
       "['backbone_hbond_change',\n",
       " 'electrostatics_change',\n",
       " 'energy_ionisation_change',\n",
       " 'pcv_salt_opposite_change',\n",
       " 'pcv_vdw_self_change',\n",
       " 'provean_score',\n",
       " 'secondary_structure_wt',\n",
       " 'solvation_polar_change',\n",
       " 'solvent_accessibility_wt',\n",
       " 'van_der_waals_change']"
      ]
     },
     "execution_count": 50,
     "metadata": {},
     "output_type": "execute_result"
    }
   ],
   "source": [
    "sorted(features_best)"
   ]
  },
  {
   "cell_type": "code",
   "execution_count": 51,
   "metadata": {
    "collapsed": false,
    "run_control": {
     "marked": false
    }
   },
   "outputs": [],
   "source": [
    "features_best_meta = {\n",
    "    'backbone_clash_change': 'FoldX backbone clash (mut - wt)',\n",
    "    'backbone_hbond_change': 'FoldX backbone hydrogen bond (mut - wt)',\n",
    "    'disulfide_change': 'FoldX disulfide (mut - wt)',\n",
    "    'electrostatics_change': 'FoldX electrostatics (mut - wt)' ,\n",
    "    'energy_ionisation_change': 'FoldX ionization energy (mut - wt)',\n",
    "    'pcv_vdw_self_change': 'ELASPIC PhysicoChemical: number of carbons on the wt chain (mut - wt)',\n",
    "    'pcv_vdw_self_wt': 'ELASPIC PhysicoChemical: number of carbons on the wt chain (wt)',\n",
    "    'provean_score': 'Provean deleteriousness score',\n",
    "    'secondary_structure_wt': 'Stride secondary structure (mut - wt)',\n",
    "    'solvation_polar_change': 'FoldX solvation energy (mut - wt)',\n",
    "    'torsional_clash_change': 'FoldX torsional clash change (mut - wt)',\n",
    "    'van_der_waals_clashes_change': 'FoldX Van der Waals clash change (mut - wt)',\n",
    "}"
   ]
  },
  {
   "cell_type": "code",
   "execution_count": 52,
   "metadata": {
    "collapsed": false,
    "run_control": {
     "marked": false
    }
   },
   "outputs": [
    {
     "data": {
      "text/html": [
       "<div>\n",
       "<table border=\"1\" class=\"dataframe\">\n",
       "  <thead>\n",
       "    <tr style=\"text-align: right;\">\n",
       "      <th></th>\n",
       "      <th>feature_name</th>\n",
       "      <th>feature_description</th>\n",
       "    </tr>\n",
       "  </thead>\n",
       "  <tbody>\n",
       "    <tr>\n",
       "      <th>4</th>\n",
       "      <td>backbone_clash_change</td>\n",
       "      <td>FoldX backbone clash (mut - wt)</td>\n",
       "    </tr>\n",
       "    <tr>\n",
       "      <th>7</th>\n",
       "      <td>backbone_hbond_change</td>\n",
       "      <td>FoldX backbone hydrogen bond (mut - wt)</td>\n",
       "    </tr>\n",
       "    <tr>\n",
       "      <th>5</th>\n",
       "      <td>disulfide_change</td>\n",
       "      <td>FoldX disulfide (mut - wt)</td>\n",
       "    </tr>\n",
       "    <tr>\n",
       "      <th>9</th>\n",
       "      <td>electrostatics_change</td>\n",
       "      <td>FoldX electrostatics (mut - wt)</td>\n",
       "    </tr>\n",
       "    <tr>\n",
       "      <th>2</th>\n",
       "      <td>energy_ionisation_change</td>\n",
       "      <td>FoldX ionization energy (mut - wt)</td>\n",
       "    </tr>\n",
       "    <tr>\n",
       "      <th>6</th>\n",
       "      <td>pcv_vdw_self_change</td>\n",
       "      <td>ELASPIC PhysicoChemical: number of carbons on the wt chain (mut - wt)</td>\n",
       "    </tr>\n",
       "    <tr>\n",
       "      <th>0</th>\n",
       "      <td>pcv_vdw_self_wt</td>\n",
       "      <td>ELASPIC PhysicoChemical: number of carbons on the wt chain (wt)</td>\n",
       "    </tr>\n",
       "    <tr>\n",
       "      <th>8</th>\n",
       "      <td>provean_score</td>\n",
       "      <td>Provean deleteriousness score</td>\n",
       "    </tr>\n",
       "    <tr>\n",
       "      <th>10</th>\n",
       "      <td>secondary_structure_wt</td>\n",
       "      <td>Stride secondary structure (mut - wt)</td>\n",
       "    </tr>\n",
       "    <tr>\n",
       "      <th>3</th>\n",
       "      <td>solvation_polar_change</td>\n",
       "      <td>FoldX solvation energy (mut - wt)</td>\n",
       "    </tr>\n",
       "    <tr>\n",
       "      <th>11</th>\n",
       "      <td>torsional_clash_change</td>\n",
       "      <td>FoldX torsional clash change (mut - wt)</td>\n",
       "    </tr>\n",
       "    <tr>\n",
       "      <th>1</th>\n",
       "      <td>van_der_waals_clashes_change</td>\n",
       "      <td>FoldX Van der Waals clash change (mut - wt)</td>\n",
       "    </tr>\n",
       "  </tbody>\n",
       "</table>\n",
       "</div>"
      ],
      "text/plain": [
       "                    feature_name                                                    feature_description\n",
       "4          backbone_clash_change                                        FoldX backbone clash (mut - wt)\n",
       "7          backbone_hbond_change                                FoldX backbone hydrogen bond (mut - wt)\n",
       "5               disulfide_change                                             FoldX disulfide (mut - wt)\n",
       "9          electrostatics_change                                        FoldX electrostatics (mut - wt)\n",
       "2       energy_ionisation_change                                     FoldX ionization energy (mut - wt)\n",
       "6            pcv_vdw_self_change  ELASPIC PhysicoChemical: number of carbons on the wt chain (mut - wt)\n",
       "0                pcv_vdw_self_wt        ELASPIC PhysicoChemical: number of carbons on the wt chain (wt)\n",
       "8                  provean_score                                          Provean deleteriousness score\n",
       "10        secondary_structure_wt                                  Stride secondary structure (mut - wt)\n",
       "3         solvation_polar_change                                      FoldX solvation energy (mut - wt)\n",
       "11        torsional_clash_change                                FoldX torsional clash change (mut - wt)\n",
       "1   van_der_waals_clashes_change                            FoldX Van der Waals clash change (mut - wt)"
      ]
     },
     "execution_count": 52,
     "metadata": {},
     "output_type": "execute_result"
    }
   ],
   "source": [
    "xx = pd.set_option('display.max_colwidth', 100)\n",
    "xx = pd.DataFrame(list(features_best_meta.items()), columns=['feature_name', 'feature_description'])\n",
    "xx = xx.sort_values('feature_name')\n",
    "xx"
   ]
  },
  {
   "cell_type": "markdown",
   "metadata": {
    "run_control": {
     "marked": false
    }
   },
   "source": [
    "# Compare with FoldX"
   ]
  },
  {
   "cell_type": "code",
   "execution_count": 53,
   "metadata": {
    "collapsed": true
   },
   "outputs": [],
   "source": [
    "try:\n",
    "    clf_options_best = clf_options_best\n",
    "except NameError:\n",
    "    print(\"Using cached data...\")\n",
    "    clf_options_best = {\n",
    "        'alpha': 0.8,\n",
    "        'learning_rate': 0.01,\n",
    "        'loss': 'huber',\n",
    "        'max_depth': 4,\n",
    "        'max_features': 0.6363636363636364,\n",
    "        'min_samples_leaf': 17,\n",
    "        'n_estimators': 2000\n",
    "     }"
   ]
  },
  {
   "cell_type": "code",
   "execution_count": 54,
   "metadata": {
    "code_folding": [],
    "collapsed": true
   },
   "outputs": [],
   "source": [
    "try:\n",
    "    features_best = features_best\n",
    "except NameError:\n",
    "    print(\"Using cached data...\")\n",
    "    features_best = [\n",
    "        'backbone_hbond_change',\n",
    "        'electrostatics_change',\n",
    "        'energy_ionisation_change',\n",
    "        'pcv_salt_opposite_change',\n",
    "        'pcv_vdw_self_change',\n",
    "        'provean_score',\n",
    "        'secondary_structure_wt',\n",
    "        'solvation_polar_change',\n",
    "        'solvent_accessibility_wt',\n",
    "        'van_der_waals_change'\n",
    "    ]"
   ]
  },
  {
   "cell_type": "code",
   "execution_count": 57,
   "metadata": {
    "collapsed": false,
    "deletable": true,
    "locked": false,
    "run_control": {
     "marked": false
    }
   },
   "outputs": [],
   "source": [
    "import sklearn\n",
    "clf = sklearn.ensemble.GradientBoostingRegressor(**clf_options_best)"
   ]
  },
  {
   "cell_type": "code",
   "execution_count": 58,
   "metadata": {
    "collapsed": false,
    "deletable": true,
    "locked": false,
    "run_control": {
     "marked": false
    }
   },
   "outputs": [
    {
     "data": {
      "text/plain": [
       "GradientBoostingRegressor(alpha=0.8, init=None, learning_rate=0.01,\n",
       "             loss='huber', max_depth=4, max_features=0.6363636363636364,\n",
       "             max_leaf_nodes=None, min_samples_leaf=17, min_samples_split=2,\n",
       "             min_weight_fraction_leaf=0.0, n_estimators=2000,\n",
       "             presort='auto', random_state=None, subsample=1.0, verbose=0,\n",
       "             warm_start=False)"
      ]
     },
     "execution_count": 58,
     "metadata": {},
     "output_type": "execute_result"
    }
   ],
   "source": [
    "clf.fit(\n",
    "    TRAINING_SETS_NONULL[protherm_dataset_name][features_best],\n",
    "    TRAINING_SETS_NONULL[protherm_dataset_name]['ddg_exp'])"
   ]
  },
  {
   "cell_type": "code",
   "execution_count": 63,
   "metadata": {
    "collapsed": true
   },
   "outputs": [],
   "source": [
    "with open(op.join(NOTEBOOK_NAME, 'core_clf_features.json'), 'w') as ofh:\n",
    "    json.dump(features_best, ofh)"
   ]
  },
  {
   "cell_type": "code",
   "execution_count": 64,
   "metadata": {
    "collapsed": true
   },
   "outputs": [],
   "source": [
    "with open(op.join(NOTEBOOK_NAME, 'core_clf_options.json'), 'w') as ofh:\n",
    "    json.dump(clf_options_best, ofh)"
   ]
  },
  {
   "cell_type": "code",
   "execution_count": 65,
   "metadata": {
    "collapsed": true
   },
   "outputs": [],
   "source": [
    "with open(op.join(NOTEBOOK_NAME, 'core_clf.pkl'), 'wb') as ofh:\n",
    "    pickle.dump(clf, ofh, pickle.HIGHEST_PROTOCOL)"
   ]
  },
  {
   "cell_type": "code",
   "execution_count": null,
   "metadata": {
    "collapsed": true
   },
   "outputs": [],
   "source": []
  },
  {
   "cell_type": "code",
   "execution_count": null,
   "metadata": {
    "collapsed": true
   },
   "outputs": [],
   "source": []
  },
  {
   "cell_type": "code",
   "execution_count": 59,
   "metadata": {
    "collapsed": false,
    "run_control": {
     "marked": false
    }
   },
   "outputs": [],
   "source": [
    "for _df in TRAINING_SETS_NONULL.values():\n",
    "    _df['ddg_pred'] = clf.predict(_df[features_best])"
   ]
  },
  {
   "cell_type": "markdown",
   "metadata": {},
   "source": [
    "TODO: Use [MacNemar's test](http://stats.stackexchange.com/questions/76875/what-is-the-difference-between-mcnemars-test-and-the-chi-squared-test-and-how) to see if the correlations are statistically significant."
   ]
  },
  {
   "cell_type": "raw",
   "metadata": {
    "code_folding": [],
    "collapsed": false,
    "run_control": {
     "marked": false
    }
   },
   "source": [
    "# Compare ELASPIC and FoldX on the test set\n",
    "fg, axes = plt.subplots(1, 4, figsize=(14, 4))\n",
    "for i, test_dataset in enumerate(['humsavar_test', 'clinvar_test', 'cosmic_test', 'taipale_test']):\n",
    "    ax = axes[i]\n",
    "    # print(test_dataset)\n",
    "    if test_dataset in ['taipale_test']:\n",
    "        foldx_r = sp.stats.spearmanr(\n",
    "            TRAINING_SETS_NONULL[test_dataset]['dg_change'], \n",
    "            TRAINING_SETS_NONULL[test_dataset]['ddg_exp'])[0]\n",
    "        elaspic_r = sp.stats.spearmanr(\n",
    "            TRAINING_SETS_NONULL[test_dataset]['ddg_pred'], \n",
    "            TRAINING_SETS_NONULL[test_dataset]['ddg_exp'])[0]\n",
    "    else:\n",
    "        foldx_r = sp.stats.spearmanr(\n",
    "            TRAINING_SETS_NONULL[test_dataset]['dg_change'].abs(), \n",
    "            TRAINING_SETS_NONULL[test_dataset]['del_class_exp'])[0]\n",
    "        elaspic_r = sp.stats.spearmanr(\n",
    "            TRAINING_SETS_NONULL[test_dataset]['ddg_pred'].abs(), \n",
    "            TRAINING_SETS_NONULL[test_dataset]['del_class_exp'])[0]\n",
    "    ax.bar(\n",
    "        [1, 2], \n",
    "        [foldx_r, elaspic_r],\n",
    "        tick_label=['FoldX', 'ELASPIC'], \n",
    "        align='center', \n",
    "        color=[sns.palettes.color_palette()[0], sns.palettes.color_palette()[2]])\n",
    "    ax.set_ylim(0, 0.40)\n",
    "    ax.set_title(test_dataset.split('_')[0].capitalize())\n",
    "    # print(elaspic_r, foldx_r)\n",
    "\n",
    "plt.tight_layout()"
   ]
  },
  {
   "cell_type": "code",
   "execution_count": null,
   "metadata": {
    "collapsed": true,
    "run_control": {
     "marked": false
    }
   },
   "outputs": [],
   "source": []
  },
  {
   "cell_type": "raw",
   "metadata": {
    "code_folding": [],
    "collapsed": false
   },
   "source": [
    "# Compare ELASPIC and FoldX on the test set (ABS)\n",
    "fg, axes = plt.subplots(1, 5, figsize=(14, 4))\n",
    "axes[0].set_ylabel('Spearman R')\n",
    "for i, test_dataset in enumerate(['protherm', 'taipale_test', 'humsavar_test', 'clinvar_test', 'cosmic_test']):\n",
    "    ax = axes[i]\n",
    "    # print(test_dataset)\n",
    "    if test_dataset in ['protherm', 'taipale_test']:\n",
    "        foldx_r = sp.stats.spearmanr(\n",
    "            TRAINING_SETS_NONULL[test_dataset]['dg_change'], \n",
    "            TRAINING_SETS_NONULL[test_dataset]['ddg_exp'])[0]\n",
    "        if test_dataset == 'protherm':\n",
    "            elaspic_r = 0.520392\n",
    "        else:\n",
    "            elaspic_r = sp.stats.spearmanr(\n",
    "                TRAINING_SETS_NONULL[test_dataset]['ddg_pred'], \n",
    "                TRAINING_SETS_NONULL[test_dataset]['ddg_exp'])[0]\n",
    "        provean_r = sp.stats.spearmanr(\n",
    "            TRAINING_SETS_NONULL[test_dataset]['provean_score'], \n",
    "            TRAINING_SETS_NONULL[test_dataset]['ddg_exp'])[0] * -1\n",
    "    else:\n",
    "        foldx_r = sp.stats.spearmanr(\n",
    "            TRAINING_SETS_NONULL[test_dataset]['dg_change'].abs(), \n",
    "            TRAINING_SETS_NONULL[test_dataset]['del_class_exp'])[0]\n",
    "        elaspic_r = sp.stats.spearmanr(\n",
    "            TRAINING_SETS_NONULL[test_dataset]['ddg_pred'].abs(), \n",
    "            TRAINING_SETS_NONULL[test_dataset]['del_class_exp'])[0]\n",
    "        provean_r = sp.stats.spearmanr(\n",
    "            TRAINING_SETS_NONULL[test_dataset]['provean_score'], \n",
    "            TRAINING_SETS_NONULL[test_dataset]['del_class_exp'])[0] * -1\n",
    "    ax.bar(\n",
    "        [1, 2, 3], \n",
    "        [foldx_r, elaspic_r, provean_r],\n",
    "        tick_label=['FoldX', 'ELASPIC', 'Provean'], \n",
    "        align='center', \n",
    "        color=[sns.palettes.color_palette()[0], \n",
    "               sns.palettes.color_palette()[2],\n",
    "               sns.palettes.color_palette()[4]])\n",
    "    ax.set_ylim(0, 0.60)\n",
    "    ax.set_title(test_dataset.split('_')[0].capitalize())\n",
    "    ax.set_xticklabels(labels=ax.get_xticklabels(), rotation=45)\n",
    "    # print(elaspic_r, foldx_r)\n",
    "\n",
    "plt.tight_layout()\n",
    "\n",
    "plt.savefig(op.join(NOTEBOOK_NAME, 'final_performance.png'), bbox_inches='tight', dpi=220)\n",
    "plt.savefig(op.join(NOTEBOOK_NAME, 'final_performance.pdf'), bbox_inches='tight')"
   ]
  },
  {
   "cell_type": "code",
   "execution_count": 62,
   "metadata": {
    "code_folding": [],
    "collapsed": false
   },
   "outputs": [
    {
     "data": {
      "image/png": "[encoded data removed]",
      "text/plain": [
       "<matplotlib.figure.Figure at 0x7fab2c4f67f0>"
      ]
     },
     "metadata": {},
     "output_type": "display_data"
    }
   ],
   "source": [
    "# Compare ELASPIC and FoldX on the test set (NO ABS)\n",
    "fg, axes = plt.subplots(1, 5, figsize=(14, 4))\n",
    "axes[0].set_ylabel('Spearman R')\n",
    "for i, test_dataset in enumerate(['protherm', 'taipale_test', 'humsavar_test', 'clinvar_test', 'cosmic_test']):\n",
    "    ax = axes[i]\n",
    "    # print(test_dataset)\n",
    "    if test_dataset in ['protherm', 'taipale_test']:\n",
    "        foldx_r = sp.stats.spearmanr(\n",
    "            TRAINING_SETS_NONULL[test_dataset]['dg_change'], \n",
    "            TRAINING_SETS_NONULL[test_dataset]['ddg_exp'])[0]\n",
    "        if test_dataset == 'protherm':\n",
    "            elaspic_r = 0.520392\n",
    "        else:\n",
    "            elaspic_r = sp.stats.spearmanr(\n",
    "                TRAINING_SETS_NONULL[test_dataset]['ddg_pred'], \n",
    "                TRAINING_SETS_NONULL[test_dataset]['ddg_exp'])[0]\n",
    "        provean_r = sp.stats.spearmanr(\n",
    "            TRAINING_SETS_NONULL[test_dataset]['provean_score'], \n",
    "            TRAINING_SETS_NONULL[test_dataset]['ddg_exp'])[0] * -1\n",
    "    else:\n",
    "        foldx_r = sp.stats.spearmanr(\n",
    "            TRAINING_SETS_NONULL[test_dataset]['dg_change'],  # NO ABS!!!\n",
    "            TRAINING_SETS_NONULL[test_dataset]['del_class_exp'])[0]\n",
    "        elaspic_r = sp.stats.spearmanr(\n",
    "            TRAINING_SETS_NONULL[test_dataset]['ddg_pred'],  # NO ABS!!!\n",
    "            TRAINING_SETS_NONULL[test_dataset]['del_class_exp'])[0]\n",
    "        provean_r = sp.stats.spearmanr(\n",
    "            TRAINING_SETS_NONULL[test_dataset]['provean_score'], \n",
    "            TRAINING_SETS_NONULL[test_dataset]['del_class_exp'])[0] * -1\n",
    "    ax.bar(\n",
    "        [1, 2, 3], \n",
    "        [foldx_r, elaspic_r, provean_r],\n",
    "        tick_label=['FoldX', 'ELASPIC', 'Provean'], \n",
    "        align='center', \n",
    "        color=[sns.palettes.color_palette()[0], \n",
    "               sns.palettes.color_palette()[2],\n",
    "               sns.palettes.color_palette()[4]])\n",
    "    ax.set_ylim(0, 0.60)\n",
    "    ax.set_title(test_dataset.split('_')[0].capitalize())\n",
    "    ax.set_xticklabels(labels=ax.get_xticklabels(), rotation=45)\n",
    "    # print(elaspic_r, foldx_r)\n",
    "\n",
    "plt.tight_layout()\n",
    "\n",
    "plt.savefig(op.join(NOTEBOOK_NAME, 'final_performance.png'), bbox_inches='tight', dpi=220)\n",
    "plt.savefig(op.join(NOTEBOOK_NAME, 'final_performance.pdf'), bbox_inches='tight')"
   ]
  },
  {
   "cell_type": "code",
   "execution_count": null,
   "metadata": {
    "collapsed": true
   },
   "outputs": [],
   "source": []
  }
 ],
 "metadata": {
  "anaconda-cloud": {},
  "kernelspec": {
   "display_name": "Python [Root]",
   "language": "python",
   "name": "Python [Root]"
  },
  "language_info": {
   "codemirror_mode": {
    "name": "ipython",
    "version": 3
   },
   "file_extension": ".py",
   "mimetype": "text/x-python",
   "name": "python",
   "nbconvert_exporter": "python",
   "pygments_lexer": "ipython3",
   "version": "3.5.2"
  },
  "nav_menu": {
   "height": "299px",
   "width": "321px"
  },
  "toc": {
   "navigate_menu": true,
   "number_sections": true,
   "sideBar": false,
   "threshold": 6,
   "toc_cell": false,
   "toc_section_display": "block",
   "toc_window_display": true
  },
  "toc_position": {
   "height": "548px",
   "left": "101.941px",
   "right": "20px",
   "top": "77.9583px",
   "width": "230px"
  }
 },
 "nbformat": 4,
 "nbformat_minor": 0
}
