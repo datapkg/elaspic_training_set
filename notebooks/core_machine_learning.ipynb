{
 "cells": [
  {
   "cell_type": "markdown",
   "metadata": {
    "collapsed": true,
    "run_control": {
     "marked": false
    }
   },
   "source": [
    "# Summary\n",
    "\n",
    "----"
   ]
  },
  {
   "cell_type": "markdown",
   "metadata": {
    "run_control": {
     "marked": false
    }
   },
   "source": [
    "# Imports"
   ]
  },
  {
   "cell_type": "code",
   "execution_count": 1,
   "metadata": {
    "collapsed": false,
    "run_control": {
     "marked": false
    }
   },
   "outputs": [
    {
     "name": "stdout",
     "output_type": "stream",
     "text": [
      "elaspic_training_set\n",
      "2016-06-08 10:15:36.082862\n"
     ]
    }
   ],
   "source": [
    "%run imports.ipynb"
   ]
  },
  {
   "cell_type": "code",
   "execution_count": 2,
   "metadata": {
    "collapsed": false,
    "run_control": {
     "marked": false
    }
   },
   "outputs": [],
   "source": [
    "NOTEBOOK_NAME = 'core_machine_learning'"
   ]
  },
  {
   "cell_type": "markdown",
   "metadata": {
    "run_control": {
     "marked": false
    }
   },
   "source": [
    "# Load data"
   ]
  },
  {
   "cell_type": "code",
   "execution_count": 3,
   "metadata": {
    "collapsed": false,
    "run_control": {
     "marked": false
    }
   },
   "outputs": [
    {
     "name": "stdout",
     "output_type": "stream",
     "text": [
      "dict_keys(['humsavar', 'protherm', 'taipale'])\n"
     ]
    }
   ],
   "source": [
    "with open(op.join('load_data', 'TRAINING_SETS.pkl'), 'rb') as ifh:\n",
    "    TRAINING_SETS = pickle.load(ifh)\n",
    "print(TRAINING_SETS.keys())"
   ]
  },
  {
   "cell_type": "code",
   "execution_count": 4,
   "metadata": {
    "collapsed": true,
    "run_control": {
     "marked": false
    }
   },
   "outputs": [],
   "source": [
    "db = datapkg.DataFrameToMySQL(CONNECTION_STR, NOTEBOOK_NAME, STG_SERVER_IP, echo=False)"
   ]
  },
  {
   "cell_type": "markdown",
   "metadata": {
    "run_control": {
     "marked": false
    }
   },
   "source": [
    "## TRAINING_SETS_NONULL"
   ]
  },
  {
   "cell_type": "code",
   "execution_count": 5,
   "metadata": {
    "collapsed": false,
    "run_control": {
     "marked": false
    }
   },
   "outputs": [
    {
     "name": "stdout",
     "output_type": "stream",
     "text": [
      "humsavar\n",
      "Shape before:\t33,253\n",
      "Shape after:\t30,388\n",
      "Rows lost:\t2,865\n",
      "----------------------------------------\n",
      "protherm\n",
      "Shape before:\t3,792\n",
      "Shape after:\t3,230\n",
      "Rows lost:\t562\n",
      "----------------------------------------\n",
      "taipale\n",
      "Shape before:\t1,919\n",
      "Shape after:\t1,871\n",
      "Rows lost:\t48\n",
      "----------------------------------------\n"
     ]
    }
   ],
   "source": [
    "# Remove rows with missing features\n",
    "TRAINING_SETS_NONULL = dict()\n",
    "for key, df in TRAINING_SETS.items():\n",
    "    _shape_before = df.shape[0]\n",
    "    df = df.dropna(subset=elaspic.elaspic_predictor.FEATURE_COLUMNS_CORE, how='any')\n",
    "    df = df.dropna(subset=['ddg_exp', 'del_score_exp', 'del_class_exp'], how='all')\n",
    "    _shape_after = df.shape[0]\n",
    "    TRAINING_SETS_NONULL[key] = df\n",
    "\n",
    "    print(key)\n",
    "    print(\"Shape before:\\t{:,d}\".format(_shape_before))\n",
    "    print(\"Shape after:\\t{:,d}\".format(_shape_after))\n",
    "    print(\"Rows lost:\\t{:,d}\".format(_shape_before - _shape_after))\n",
    "    print('-' * 40)"
   ]
  },
  {
   "cell_type": "code",
   "execution_count": 6,
   "metadata": {
    "collapsed": false,
    "run_control": {
     "marked": false
    }
   },
   "outputs": [],
   "source": [
    "data_file = op.abspath(op.join(NOTEBOOK_NAME, 'TRAINING_SETS_NONULL.pkl'))\n",
    "with open(data_file, 'wb') as ofh:\n",
    "    pickle.dump(TRAINING_SETS_NONULL, ofh, pickle.HIGHEST_PROTOCOL)"
   ]
  },
  {
   "cell_type": "markdown",
   "metadata": {
    "run_control": {
     "marked": false
    }
   },
   "source": [
    "# Regression"
   ]
  },
  {
   "cell_type": "code",
   "execution_count": 7,
   "metadata": {
    "collapsed": false,
    "run_control": {
     "marked": false
    }
   },
   "outputs": [],
   "source": [
    "from sklearn import cross_validation, grid_search, ensemble"
   ]
  },
  {
   "cell_type": "code",
   "execution_count": 8,
   "metadata": {
    "collapsed": false,
    "run_control": {
     "marked": false
    }
   },
   "outputs": [
    {
     "name": "stdout",
     "output_type": "stream",
     "text": [
      "Size of the parameter grid:  3360\n"
     ]
    }
   ],
   "source": [
    "# Generate a list of parameters that we want to try...\n",
    "FEATURE_COLUMNS = elaspic.elaspic_predictor.FEATURE_COLUMNS_CORE[:]\n",
    "FEATURE_COLUMNS.remove('dg_change')\n",
    "\n",
    "parameter_grid =  {\n",
    "    'data_set': ['protherm'],\n",
    "    'n_estimators': [2000],\n",
    "    'loss': ['huber'],\n",
    "    'learning_rate': [0.1, 0.05, 0.02, 0.01],\n",
    "    'max_depth': [4, 6,   8, 10],\n",
    "    'min_samples_leaf': [3, 5, 9, 13, 17,   21, 29],\n",
    "    'max_features': [1.0, 0.3, 0.1,   0.8, 0.5],\n",
    "    'alpha': [0.99, 0.95, 0.9, 0.8, 0.7, 0.5],\n",
    "    'features': [':'.join(FEATURE_COLUMNS)],\n",
    "}\n",
    "\n",
    "def iter_system_command(parameter_grid, _previous=None):\n",
    "    if _previous is None:\n",
    "        _previous_job_ids, _previous_system_commands = set(), set()\n",
    "    else:\n",
    "        _previous_job_ids, _previous_system_commands = (set(x) for x in zip(*_previous))\n",
    "    #\n",
    "    job_id = 0\n",
    "    for param_dict in ascommon.cluster_tools.iterate_parameters(parameter_grid):\n",
    "        system_command = (\n",
    "            \"{python} {script} {args}\".format(\n",
    "                python=sys.executable,\n",
    "                script=op.abspath(op.join(NOTEBOOK_NAME, '_reg_gridsearch.py')),\n",
    "                args=' '.join(sorted(\"--{} {}\".format(*x) for x in param_dict.items())))\n",
    "        )\n",
    "        if system_command in _previous_system_commands:\n",
    "            continue\n",
    "        while job_id in _previous_job_ids:\n",
    "            job_id += 1\n",
    "        yield (job_id, system_command)\n",
    "        job_id += 1\n",
    "\n",
    "if False:\n",
    "    system_commands = list(iter_system_command(parameter_grid, system_commands_1))\n",
    "    _system_commands = list(iter_system_command(parameter_grid))\n",
    "\n",
    "    assert len(system_commands) == len(_system_commands) - len(system_commands_1), (\n",
    "        (len(system_commands), len(_system_commands) - len(system_commands_1))\n",
    "    )\n",
    "else:\n",
    "    system_commands = list(iter_system_command(parameter_grid))\n",
    "\n",
    "print(\"Size of the parameter grid: \", len(system_commands))"
   ]
  },
  {
   "cell_type": "markdown",
   "metadata": {
    "run_control": {
     "marked": false
    }
   },
   "source": [
    "## `_reg_gridsearch.py`"
   ]
  },
  {
   "cell_type": "code",
   "execution_count": 9,
   "metadata": {
    "collapsed": false,
    "run_control": {
     "marked": false
    }
   },
   "outputs": [
    {
     "name": "stdout",
     "output_type": "stream",
     "text": [
      "Overwriting core_machine_learning/_reg_gridsearch.py\n"
     ]
    }
   ],
   "source": [
    "%%file $NOTEBOOK_NAME/_reg_gridsearch.py\n",
    "import os\n",
    "import os.path as op\n",
    "import pickle\n",
    "import json\n",
    "import scipy as sp\n",
    "import pandas as pd\n",
    "import sqlalchemy as sa\n",
    "from sklearn import ensemble, cross_validation, metrics\n",
    "import elaspic\n",
    "\n",
    "\n",
    "def cross_validate(df, valids, opts, features, do_xval, target='ddg_exp', label='pfam_clan'):\n",
    "    clf = ensemble.GradientBoostingRegressor(**opts)\n",
    "    # Training\n",
    "    result = {}\n",
    "    if do_xval:\n",
    "        preds = cross_validation.cross_val_predict(\n",
    "            estimator=clf,\n",
    "            X=df[features],\n",
    "            y=df[target],\n",
    "            cv=cross_validation.LeaveOneLabelOut(df[label].fillna('')),\n",
    "            n_jobs=1,\n",
    "        )\n",
    "        result = {\n",
    "            'r2': metrics.r2_score(df[target], preds),\n",
    "            'pearson_r': sp.stats.pearsonr(df[target], preds)[0],\n",
    "            'spearman_r': sp.stats.spearmanr(df[target], preds)[0],\n",
    "        }\n",
    "    # Validation on our 'test' sets\n",
    "    clf.fit(df[features], df[target])\n",
    "    for d, df_valid in valids.items():\n",
    "        _predicted = clf.predict(df_valid[features])\n",
    "        for col_name, do_abs in [\n",
    "                ('ddg_exp', False),\n",
    "                ('del_score_exp', True),\n",
    "                ('del_class_exp', True)]:\n",
    "            if df_valid[col_name].notnull().all():\n",
    "                m = 'ddg{}_vs_{}'.format('_abs' if do_abs else '', col_name)\n",
    "                predicted = abs(_predicted) if do_abs else _predicted\n",
    "                actual = df_valid[col_name].abs() if do_abs else df_valid[col_name]\n",
    "                result['r2_{}_{}'.format(d, m)] = metrics.r2_score(actual, predicted)\n",
    "                result['pearsonr_{}_{}'.format(d, m)] = sp.stats.pearsonr(actual, predicted)[0]\n",
    "                result['spearmanr_{}_{}'.format(d, m)] = sp.stats.spearmanr(actual, predicted)[0]\n",
    "    # DONE!\n",
    "    return result\n",
    "\n",
    "\n",
    "if __name__ == '__main__':\n",
    "    import argparse\n",
    "    parser = argparse.ArgumentParser()\n",
    "    parser.add_argument('--data_set', type=str, required=True)\n",
    "    parser.add_argument('--features', type=str, default=None)\n",
    "    parser.add_argument('--do_xval', type=int, default=1)\n",
    "    # \n",
    "    parser.add_argument('--learning_rate', type=float, required=True)\n",
    "    parser.add_argument('--max_depth', type=int, required=True)\n",
    "    parser.add_argument('--min_samples_leaf', type=int, required=True)\n",
    "    parser.add_argument('--max_features', type=float, required=True)\n",
    "    parser.add_argument('--alpha', type=float, required=True)\n",
    "    #\n",
    "    parser.add_argument('--loss', type=str, default='huber')\n",
    "    parser.add_argument('--n_estimators', type=int, default=3000)\n",
    "    #\n",
    "    args = parser.parse_args()\n",
    "\n",
    "    with open('{{ data_file }}', 'rb') as ifh:\n",
    "        TRAINING_SETS = pickle.load(ifh)\n",
    "    \n",
    "    train_df = TRAINING_SETS[args.data_set]\n",
    "    validation_dfs = {key: df_valid for (key, df_valid) in TRAINING_SETS.items() if key != args.data_set}\n",
    "    clf_opts = {k: v for (k, v) in args.__dict__.items() if k not in ['data_set', 'features', 'do_xval']}\n",
    "    if args.features is None:\n",
    "        features = elaspic.elaspic_predictor.FEATURE_COLUMNS_CORE\n",
    "    else:\n",
    "        features = args.features.split(':')\n",
    "\n",
    "    clf_result = cross_validate(train_df, validation_dfs, clf_opts, features, do_xval=bool(args.do_xval))\n",
    "\n",
    "    result = {'clf_opts': clf_opts, **clf_result}\n",
    "    print(json.dumps(result))"
   ]
  },
  {
   "cell_type": "code",
   "execution_count": 10,
   "metadata": {
    "collapsed": false,
    "run_control": {
     "marked": false
    }
   },
   "outputs": [],
   "source": [
    "!sed -i 's|{{{{ data_file }}}}|$data_file|g' '$NOTEBOOK_NAME/_reg_gridsearch.py'"
   ]
  },
  {
   "cell_type": "code",
   "execution_count": 11,
   "metadata": {
    "collapsed": false,
    "run_control": {
     "marked": false
    }
   },
   "outputs": [
    {
     "name": "stdout",
     "output_type": "stream",
     "text": [
      "{\"spearmanr_taipale_ddg_vs_ddg_exp\": 0.04081403619847602, \"max_depth\": 4, \"n_estimators\": 100, \"loss\": \"huber\", \"max_features\": 1.0, \"pearsonr_taipale_ddg_vs_ddg_exp\": 0.014882219037281262, \"min_samples_leaf\": 3, \"r2_humsavar_ddg_abs_vs_del_class_exp\": -9.630203483870764, \"spearmanr_humsavar_ddg_abs_vs_del_class_exp\": 0.06434592736083841, \"pearsonr_humsavar_ddg_abs_vs_del_class_exp\": 0.010472147463413321, \"r2_taipale_ddg_vs_ddg_exp\": -0.47220379744381047, \"alpha\": 0.95, \"learning_rate\": 0.1}\r\n"
     ]
    }
   ],
   "source": [
    "!python $NOTEBOOK_NAME/_reg_gridsearch.py --data_set protherm --do_xval 0 \\\n",
    "    --learning_rate 0.1 --max_depth 4 --min_samples_leaf 3 --max_features 1.0 --alpha=0.95 --n_estimators 100"
   ]
  },
  {
   "cell_type": "markdown",
   "metadata": {
    "run_control": {
     "marked": false
    }
   },
   "source": [
    "### xv_wout_dg_change\n",
    "\n",
    "**Iterate until all have finished successfully...**\n",
    "\n",
    "The cross-validation score here is correct, but the validation scores used a wrong metric and have to be redone..."
   ]
  },
  {
   "cell_type": "code",
   "execution_count": 141,
   "metadata": {
    "collapsed": false
   },
   "outputs": [
    {
     "data": {
      "text/plain": [
       "<module 'ascommon.cluster_tools' from '/home/kimlab1/strokach/working/ascommon/ascommon/cluster_tools/__init__.py'>"
      ]
     },
     "execution_count": 141,
     "metadata": {},
     "output_type": "execute_result"
    }
   ],
   "source": [
    "reload(ascommon)\n",
    "reload(ascommon.cluster_tools)"
   ]
  },
  {
   "cell_type": "code",
   "execution_count": 143,
   "metadata": {
    "collapsed": false,
    "run_control": {
     "marked": false
    }
   },
   "outputs": [
    {
     "name": "stderr",
     "output_type": "stream",
     "text": [
      "WARNING:ascommon.cluster_tools._jobsubmitter:Using an existing folder for log output. This is dangerous!!!\n"
     ]
    }
   ],
   "source": [
    "# Run gridsearch on cluster\n",
    "log_base_dir = op.abspath(op.join(NOTEBOOK_NAME, '_reg_gridsearch'))\n",
    "\n",
    "js = ascommon.cluster_tools.JobSubmitter(\n",
    "    'xv_wout_dg_change', 'sge://:@192.168.6.201', log_base_dir,\n",
    "    email='ostrokach@gmail.com', force_new_folder=False,\n",
    "    nproc=1, queue='medium', walltime='04:00:00', mem='2G'\n",
    ")"
   ]
  },
  {
   "cell_type": "raw",
   "metadata": {
    "run_control": {
     "marked": false
    }
   },
   "source": [
    "with js.connect():\n",
    "    js.submit(system_commands)"
   ]
  },
  {
   "cell_type": "code",
   "execution_count": 144,
   "metadata": {
    "collapsed": false
   },
   "outputs": [
    {
     "name": "stdout",
     "output_type": "stream",
     "text": [
      "Counter({'done': 3360})\n"
     ]
    }
   ],
   "source": [
    "results_df = js.job_status(system_commands)\n",
    "print(Counter(results_df['status']))"
   ]
  },
  {
   "cell_type": "code",
   "execution_count": 145,
   "metadata": {
    "collapsed": false
   },
   "outputs": [
    {
     "name": "stdout",
     "output_type": "stream",
     "text": [
      "set()\n",
      "0\n"
     ]
    }
   ],
   "source": [
    "failed = (\n",
    "    set(results_df[results_df['status'] == 'running']['job_id']) |\n",
    "    set(results_df[results_df['status'] == 'missing']['job_id']) |\n",
    "    set(results_df[results_df['status'] == 'error']['job_id'])\n",
    ")\n",
    "print(failed)\n",
    "print(len(failed))"
   ]
  },
  {
   "cell_type": "code",
   "execution_count": 146,
   "metadata": {
    "collapsed": false,
    "run_control": {
     "marked": false
    }
   },
   "outputs": [
    {
     "name": "stdout",
     "output_type": "stream",
     "text": [
      "0\n"
     ]
    }
   ],
   "source": [
    "system_commands_remaining = [x for x in system_commands if x[0] in failed]\n",
    "print(len(system_commands_remaining))"
   ]
  },
  {
   "cell_type": "raw",
   "metadata": {
    "run_control": {
     "marked": false
    }
   },
   "source": [
    "# Rerun failed jobs\n",
    "with js.connect():\n",
    "    js.submit(system_commands_remaining)"
   ]
  },
  {
   "cell_type": "markdown",
   "metadata": {
    "collapsed": true,
    "run_control": {
     "marked": false
    }
   },
   "source": [
    "### xv_wout_dg_change_mod1"
   ]
  },
  {
   "cell_type": "code",
   "execution_count": 148,
   "metadata": {
    "collapsed": false
   },
   "outputs": [
    {
     "name": "stderr",
     "output_type": "stream",
     "text": [
      "WARNING:ascommon.cluster_tools._jobsubmitter:Using an existing folder for log output. This is dangerous!!!\n"
     ]
    }
   ],
   "source": [
    "# Run gridsearch on cluster\n",
    "js_mod1 = ascommon.cluster_tools.JobSubmitter(\n",
    "    'xv_wout_dg_change_mod1', 'pbs://:@192.168.233.150', log_base_dir,\n",
    "    email='ostrokach@gmail.com', force_new_folder=False,\n",
    "    nproc=1, queue='medium', walltime='02:00:00', mem='2G',\n",
    "    concurrent_job_limit=800\n",
    ")"
   ]
  },
  {
   "cell_type": "code",
   "execution_count": 149,
   "metadata": {
    "collapsed": true
   },
   "outputs": [],
   "source": [
    "parameter_grid['do_xval'] = [0]\n",
    "system_commands_mod1 = list(iter_system_command(parameter_grid))"
   ]
  },
  {
   "cell_type": "raw",
   "metadata": {},
   "source": [
    "# Run jobs\n",
    "with js_mod1.connect():\n",
    "    js_mod1.submit(system_commands_mod1)"
   ]
  },
  {
   "cell_type": "code",
   "execution_count": 150,
   "metadata": {
    "collapsed": false
   },
   "outputs": [
    {
     "name": "stdout",
     "output_type": "stream",
     "text": [
      "240\n"
     ]
    }
   ],
   "source": [
    "with js_mod1.connect():\n",
    "    print(js_mod1.get_num_running_jobs())"
   ]
  },
  {
   "cell_type": "code",
   "execution_count": 151,
   "metadata": {
    "collapsed": false
   },
   "outputs": [
    {
     "name": "stdout",
     "output_type": "stream",
     "text": [
      "Counter({'done': 3360})\n"
     ]
    }
   ],
   "source": [
    "# Get job status\n",
    "results_df_mod1 = js_mod1.job_status(system_commands)\n",
    "print(Counter(results_df_mod1['status']))"
   ]
  },
  {
   "cell_type": "code",
   "execution_count": 152,
   "metadata": {
    "collapsed": false
   },
   "outputs": [
    {
     "data": {
      "text/html": [
       "<div>\n",
       "<table border=\"1\" class=\"dataframe\">\n",
       "  <thead>\n",
       "    <tr style=\"text-align: right;\">\n",
       "      <th></th>\n",
       "      <th>alpha</th>\n",
       "      <th>job_id</th>\n",
       "      <th>learning_rate</th>\n",
       "      <th>loss</th>\n",
       "      <th>max_depth</th>\n",
       "      <th>max_features</th>\n",
       "      <th>min_samples_leaf</th>\n",
       "      <th>n_estimators</th>\n",
       "      <th>pearsonr_humsavar_ddg_abs_vs_del_class_exp</th>\n",
       "      <th>pearsonr_taipale_ddg_vs_ddg_exp</th>\n",
       "      <th>r2_humsavar_ddg_abs_vs_del_class_exp</th>\n",
       "      <th>r2_taipale_ddg_vs_ddg_exp</th>\n",
       "      <th>spearmanr_humsavar_ddg_abs_vs_del_class_exp</th>\n",
       "      <th>spearmanr_taipale_ddg_vs_ddg_exp</th>\n",
       "      <th>status</th>\n",
       "      <th>~system_command</th>\n",
       "    </tr>\n",
       "  </thead>\n",
       "  <tbody>\n",
       "    <tr>\n",
       "      <th>0</th>\n",
       "      <td>0.99</td>\n",
       "      <td>0</td>\n",
       "      <td>0.1</td>\n",
       "      <td>huber</td>\n",
       "      <td>4</td>\n",
       "      <td>1.0</td>\n",
       "      <td>3</td>\n",
       "      <td>2000</td>\n",
       "      <td>0.044119</td>\n",
       "      <td>0.036948</td>\n",
       "      <td>-14.225524</td>\n",
       "      <td>-0.478178</td>\n",
       "      <td>0.079713</td>\n",
       "      <td>0.053315</td>\n",
       "      <td>done</td>\n",
       "      <td>/home/kimlab1/strokach/anaconda/bin/python /ho...</td>\n",
       "    </tr>\n",
       "    <tr>\n",
       "      <th>1</th>\n",
       "      <td>0.99</td>\n",
       "      <td>1</td>\n",
       "      <td>0.1</td>\n",
       "      <td>huber</td>\n",
       "      <td>4</td>\n",
       "      <td>0.3</td>\n",
       "      <td>3</td>\n",
       "      <td>2000</td>\n",
       "      <td>0.053696</td>\n",
       "      <td>0.055236</td>\n",
       "      <td>-12.490475</td>\n",
       "      <td>-0.456320</td>\n",
       "      <td>0.088908</td>\n",
       "      <td>0.071719</td>\n",
       "      <td>done</td>\n",
       "      <td>/home/kimlab1/strokach/anaconda/bin/python /ho...</td>\n",
       "    </tr>\n",
       "    <tr>\n",
       "      <th>2</th>\n",
       "      <td>0.99</td>\n",
       "      <td>2</td>\n",
       "      <td>0.1</td>\n",
       "      <td>huber</td>\n",
       "      <td>4</td>\n",
       "      <td>0.1</td>\n",
       "      <td>3</td>\n",
       "      <td>2000</td>\n",
       "      <td>0.076795</td>\n",
       "      <td>0.064772</td>\n",
       "      <td>-14.073619</td>\n",
       "      <td>-0.435374</td>\n",
       "      <td>0.115523</td>\n",
       "      <td>0.101880</td>\n",
       "      <td>done</td>\n",
       "      <td>/home/kimlab1/strokach/anaconda/bin/python /ho...</td>\n",
       "    </tr>\n",
       "    <tr>\n",
       "      <th>3</th>\n",
       "      <td>0.99</td>\n",
       "      <td>3</td>\n",
       "      <td>0.1</td>\n",
       "      <td>huber</td>\n",
       "      <td>4</td>\n",
       "      <td>0.8</td>\n",
       "      <td>3</td>\n",
       "      <td>2000</td>\n",
       "      <td>0.019709</td>\n",
       "      <td>0.023142</td>\n",
       "      <td>-17.827938</td>\n",
       "      <td>-0.506776</td>\n",
       "      <td>0.056946</td>\n",
       "      <td>0.045208</td>\n",
       "      <td>done</td>\n",
       "      <td>/home/kimlab1/strokach/anaconda/bin/python /ho...</td>\n",
       "    </tr>\n",
       "    <tr>\n",
       "      <th>4</th>\n",
       "      <td>0.99</td>\n",
       "      <td>4</td>\n",
       "      <td>0.1</td>\n",
       "      <td>huber</td>\n",
       "      <td>4</td>\n",
       "      <td>0.5</td>\n",
       "      <td>3</td>\n",
       "      <td>2000</td>\n",
       "      <td>0.040589</td>\n",
       "      <td>0.034567</td>\n",
       "      <td>-12.764324</td>\n",
       "      <td>-0.499547</td>\n",
       "      <td>0.078348</td>\n",
       "      <td>0.062535</td>\n",
       "      <td>done</td>\n",
       "      <td>/home/kimlab1/strokach/anaconda/bin/python /ho...</td>\n",
       "    </tr>\n",
       "  </tbody>\n",
       "</table>\n",
       "</div>"
      ],
      "text/plain": [
       "   alpha  job_id  learning_rate   loss  max_depth  max_features  min_samples_leaf  n_estimators  pearsonr_humsavar_ddg_abs_vs_del_class_exp  pearsonr_taipale_ddg_vs_ddg_exp  r2_humsavar_ddg_abs_vs_del_class_exp  r2_taipale_ddg_vs_ddg_exp  spearmanr_humsavar_ddg_abs_vs_del_class_exp  spearmanr_taipale_ddg_vs_ddg_exp status                                    ~system_command\n",
       "0   0.99       0            0.1  huber          4           1.0                 3          2000                                    0.044119                         0.036948                            -14.225524                  -0.478178                                     0.079713                          0.053315   done  /home/kimlab1/strokach/anaconda/bin/python /ho...\n",
       "1   0.99       1            0.1  huber          4           0.3                 3          2000                                    0.053696                         0.055236                            -12.490475                  -0.456320                                     0.088908                          0.071719   done  /home/kimlab1/strokach/anaconda/bin/python /ho...\n",
       "2   0.99       2            0.1  huber          4           0.1                 3          2000                                    0.076795                         0.064772                            -14.073619                  -0.435374                                     0.115523                          0.101880   done  /home/kimlab1/strokach/anaconda/bin/python /ho...\n",
       "3   0.99       3            0.1  huber          4           0.8                 3          2000                                    0.019709                         0.023142                            -17.827938                  -0.506776                                     0.056946                          0.045208   done  /home/kimlab1/strokach/anaconda/bin/python /ho...\n",
       "4   0.99       4            0.1  huber          4           0.5                 3          2000                                    0.040589                         0.034567                            -12.764324                  -0.499547                                     0.078348                          0.062535   done  /home/kimlab1/strokach/anaconda/bin/python /ho..."
      ]
     },
     "execution_count": 152,
     "metadata": {},
     "output_type": "execute_result"
    }
   ],
   "source": [
    "results_df_mod1.head()"
   ]
  },
  {
   "cell_type": "code",
   "execution_count": 153,
   "metadata": {
    "collapsed": false
   },
   "outputs": [
    {
     "name": "stdout",
     "output_type": "stream",
     "text": [
      "0.214059223932\n",
      "0.284635659767\n"
     ]
    }
   ],
   "source": [
    "print(results_df_mod1['spearmanr_taipale_ddg_vs_ddg_exp'].max())\n",
    "print(results_df_mod1['spearmanr_humsavar_ddg_abs_vs_del_class_exp'].max())"
   ]
  },
  {
   "cell_type": "code",
   "execution_count": 154,
   "metadata": {
    "collapsed": false
   },
   "outputs": [
    {
     "name": "stdout",
     "output_type": "stream",
     "text": [
      "0\n"
     ]
    }
   ],
   "source": [
    "# Job statistics\n",
    "failed = (\n",
    "    set(results_df_mod1[results_df_mod1['status'] != 'done']['job_id'])\n",
    ")\n",
    "system_commands_mod1_remaining = [x for x in system_commands_mod1 if x[0] in failed]\n",
    "print(len(system_commands_mod1_remaining))"
   ]
  },
  {
   "cell_type": "raw",
   "metadata": {},
   "source": [
    "# Run jobs\n",
    "with js_mod1.connect():\n",
    "    js_mod1.submit(system_commands_mod1_remaining)"
   ]
  },
  {
   "cell_type": "markdown",
   "metadata": {
    "collapsed": true,
    "run_control": {
     "marked": false
    }
   },
   "source": [
    "### Results"
   ]
  },
  {
   "cell_type": "code",
   "execution_count": 155,
   "metadata": {
    "collapsed": false
   },
   "outputs": [
    {
     "name": "stdout",
     "output_type": "stream",
     "text": [
      "(3360, 34)\n",
      "(3360, 16)\n",
      "(3360, 34)\n"
     ]
    }
   ],
   "source": [
    "results_df_all = results_df_mod1.merge(results_df, on=['job_id'], suffixes=('', '_old'))\n",
    "results_df_all = results_df_all[[c for c in results_df_all.columns if not c.endswith('_old')]]\n",
    "print(results_df.shape)\n",
    "print(results_df_mod1.shape)\n",
    "print(results_df_all.shape)"
   ]
  },
  {
   "cell_type": "code",
   "execution_count": 163,
   "metadata": {
    "collapsed": false,
    "run_control": {
     "marked": false
    },
    "scrolled": true
   },
   "outputs": [
    {
     "data": {
      "text/plain": [
       "<matplotlib.collections.LineCollection at 0x7f9511075e80>"
      ]
     },
     "execution_count": 163,
     "metadata": {},
     "output_type": "execute_result"
    },
    {
     "data": {
      "image/png": "[encoded data removed]",
      "text/plain": [
       "<matplotlib.figure.Figure at 0x7f95111058d0>"
      ]
     },
     "metadata": {},
     "output_type": "display_data"
    }
   ],
   "source": [
    "df = (\n",
    "    results_df[['spearman_r', 'spearman_r_taipale', 'spearman_r_humsavar', ]]\n",
    "    .dropna()\n",
    "    .sort_values('spearman_r_humsavar', ascending=False)\n",
    ")\n",
    "df.index = range(df.shape[0])\n",
    "\n",
    "ax = (\n",
    "    df.rename(columns={\n",
    "        'spearman_r': 'Cross-validation', \n",
    "        'spearman_r_humsavar': 'Uniprot humsavar',\n",
    "        'spearman_r_taipale': 'Chaperone interaction'})\n",
    "    .plot(xticks=[])\n",
    ")\n",
    "ax.set_xlabel('Parameter space')\n",
    "ax.set_ylabel('Spearman R')\n",
    "ax.legend(loc='center left', bbox_to_anchor=(1, 0.5))\n",
    "plt.hlines(0.159, xmin=ax.get_xlim()[0], xmax=ax.get_xlim()[1], colors='k', linestyles='--')"
   ]
  },
  {
   "cell_type": "code",
   "execution_count": 165,
   "metadata": {
    "collapsed": false
   },
   "outputs": [
    {
     "data": {
      "text/plain": [
       "<matplotlib.collections.LineCollection at 0x7f95113f1f28>"
      ]
     },
     "execution_count": 165,
     "metadata": {},
     "output_type": "execute_result"
    },
    {
     "data": {
      "image/png": "[encoded data removed]",
      "text/plain": [
       "<matplotlib.figure.Figure at 0x7f95113f1e10>"
      ]
     },
     "metadata": {},
     "output_type": "display_data"
    }
   ],
   "source": [
    "df = (\n",
    "    results_df_all[['spearman_r', 'spearmanr_taipale_ddg_vs_ddg_exp', 'spearmanr_humsavar_ddg_abs_vs_del_class_exp', ]]\n",
    "#     .dropna()\n",
    "    .sort_values('spearmanr_humsavar_ddg_abs_vs_del_class_exp', ascending=False)\n",
    ")\n",
    "df.index = range(df.shape[0])\n",
    "\n",
    "ax = (\n",
    "    df\n",
    "    .rename(columns={\n",
    "        'spearman_r': 'Cross-validation', \n",
    "        'spearmanr_humsavar_ddg_abs_vs_del_class_exp': 'Uniprot humsavar',\n",
    "        'spearmanr_taipale_ddg_vs_ddg_exp': 'Chaperone interaction'})\n",
    "    .plot(xticks=[])\n",
    ")\n",
    "ax.set_xlabel('Parameter space')\n",
    "ax.set_ylabel('Spearman R')\n",
    "ax.legend(loc='center left', bbox_to_anchor=(1, 0.5))\n",
    "plt.hlines(0.159, xmin=ax.get_xlim()[0], xmax=ax.get_xlim()[1], colors='k', linestyles='--')"
   ]
  },
  {
   "cell_type": "code",
   "execution_count": 166,
   "metadata": {
    "collapsed": false,
    "run_control": {
     "marked": false
    }
   },
   "outputs": [
    {
     "name": "stdout",
     "output_type": "stream",
     "text": [
      "(3360, 5)\n"
     ]
    },
    {
     "data": {
      "text/plain": [
       "<matplotlib.collections.LineCollection at 0x7f95182973c8>"
      ]
     },
     "execution_count": 166,
     "metadata": {},
     "output_type": "execute_result"
    },
    {
     "data": {
      "image/png": "[encoded data removed]",
      "text/plain": [
       "<matplotlib.figure.Figure at 0x7f951ac3b518>"
      ]
     },
     "metadata": {},
     "output_type": "display_data"
    }
   ],
   "source": [
    "df = (\n",
    "    results_df_all[[\n",
    "        'spearman_r', 'spearman_r_taipale', 'spearman_r_humsavar', \n",
    "        'spearmanr_taipale_ddg_vs_ddg_exp', 'spearmanr_humsavar_ddg_abs_vs_del_class_exp']]\n",
    "#     .dropna()\n",
    "    .sort_values('spearmanr_humsavar_ddg_abs_vs_del_class_exp', ascending=False)\n",
    ")\n",
    "df.index = range(df.shape[0])\n",
    "print(df.shape)\n",
    "\n",
    "ax = (\n",
    "    df\n",
    "#     .rename(columns={\n",
    "#         'spearman_r': 'Cross-validation', \n",
    "#         'spearman_r_humsavar': 'Uniprot humsavar',\n",
    "#         'spearman_r_taipale': 'Chaperone interaction'})\n",
    "    .plot(xticks=[])\n",
    ")\n",
    "ax.set_xlabel('Parameter space')\n",
    "ax.set_ylabel('Spearman R')\n",
    "ax.legend(loc='center left', bbox_to_anchor=(1, 0.5))\n",
    "plt.hlines(0.159, xmin=ax.get_xlim()[0], xmax=ax.get_xlim()[1], colors='k', linestyles='--')"
   ]
  },
  {
   "cell_type": "code",
   "execution_count": 162,
   "metadata": {
    "collapsed": false
   },
   "outputs": [
    {
     "data": {
      "text/html": [
       "<div>\n",
       "<table border=\"1\" class=\"dataframe\">\n",
       "  <thead>\n",
       "    <tr style=\"text-align: right;\">\n",
       "      <th></th>\n",
       "      <th>spearman_r</th>\n",
       "      <th>spearman_r_taipale</th>\n",
       "      <th>spearman_r_humsavar</th>\n",
       "      <th>spearmanr_taipale_ddg_vs_ddg_exp</th>\n",
       "      <th>spearmanr_humsavar_ddg_abs_vs_del_class_exp</th>\n",
       "    </tr>\n",
       "  </thead>\n",
       "  <tbody>\n",
       "    <tr>\n",
       "      <th>spearman_r</th>\n",
       "      <td>1.000000</td>\n",
       "      <td>0.073764</td>\n",
       "      <td>0.302934</td>\n",
       "      <td>0.182738</td>\n",
       "      <td>0.199239</td>\n",
       "    </tr>\n",
       "    <tr>\n",
       "      <th>spearman_r_taipale</th>\n",
       "      <td>0.073764</td>\n",
       "      <td>1.000000</td>\n",
       "      <td>0.804781</td>\n",
       "      <td>0.003407</td>\n",
       "      <td>-0.054610</td>\n",
       "    </tr>\n",
       "    <tr>\n",
       "      <th>spearman_r_humsavar</th>\n",
       "      <td>0.302934</td>\n",
       "      <td>0.804781</td>\n",
       "      <td>1.000000</td>\n",
       "      <td>0.059759</td>\n",
       "      <td>0.035670</td>\n",
       "    </tr>\n",
       "    <tr>\n",
       "      <th>spearmanr_taipale_ddg_vs_ddg_exp</th>\n",
       "      <td>0.182738</td>\n",
       "      <td>0.003407</td>\n",
       "      <td>0.059759</td>\n",
       "      <td>1.000000</td>\n",
       "      <td>0.852820</td>\n",
       "    </tr>\n",
       "    <tr>\n",
       "      <th>spearmanr_humsavar_ddg_abs_vs_del_class_exp</th>\n",
       "      <td>0.199239</td>\n",
       "      <td>-0.054610</td>\n",
       "      <td>0.035670</td>\n",
       "      <td>0.852820</td>\n",
       "      <td>1.000000</td>\n",
       "    </tr>\n",
       "  </tbody>\n",
       "</table>\n",
       "</div>"
      ],
      "text/plain": [
       "                                             spearman_r  spearman_r_taipale  spearman_r_humsavar  spearmanr_taipale_ddg_vs_ddg_exp  spearmanr_humsavar_ddg_abs_vs_del_class_exp\n",
       "spearman_r                                     1.000000            0.073764             0.302934                          0.182738                                     0.199239\n",
       "spearman_r_taipale                             0.073764            1.000000             0.804781                          0.003407                                    -0.054610\n",
       "spearman_r_humsavar                            0.302934            0.804781             1.000000                          0.059759                                     0.035670\n",
       "spearmanr_taipale_ddg_vs_ddg_exp               0.182738            0.003407             0.059759                          1.000000                                     0.852820\n",
       "spearmanr_humsavar_ddg_abs_vs_del_class_exp    0.199239           -0.054610             0.035670                          0.852820                                     1.000000"
      ]
     },
     "execution_count": 162,
     "metadata": {},
     "output_type": "execute_result"
    }
   ],
   "source": [
    "df.corr()"
   ]
  },
  {
   "cell_type": "code",
   "execution_count": null,
   "metadata": {
    "collapsed": true
   },
   "outputs": [],
   "source": []
  },
  {
   "cell_type": "code",
   "execution_count": null,
   "metadata": {
    "collapsed": true
   },
   "outputs": [],
   "source": []
  },
  {
   "cell_type": "code",
   "execution_count": null,
   "metadata": {
    "collapsed": true
   },
   "outputs": [],
   "source": []
  },
  {
   "cell_type": "code",
   "execution_count": 167,
   "metadata": {
    "collapsed": false,
    "run_control": {
     "marked": false
    }
   },
   "outputs": [
    {
     "data": {
      "text/html": [
       "<div>\n",
       "<table border=\"1\" class=\"dataframe\">\n",
       "  <thead>\n",
       "    <tr style=\"text-align: right;\">\n",
       "      <th></th>\n",
       "      <th>alpha</th>\n",
       "      <th>job_id</th>\n",
       "      <th>learning_rate</th>\n",
       "      <th>loss</th>\n",
       "      <th>max_depth</th>\n",
       "      <th>max_features</th>\n",
       "      <th>min_samples_leaf</th>\n",
       "      <th>n_estimators</th>\n",
       "      <th>pearsonr_humsavar_ddg_abs_vs_del_class_exp</th>\n",
       "      <th>pearsonr_taipale_ddg_vs_ddg_exp</th>\n",
       "      <th>r2_humsavar_ddg_abs_vs_del_class_exp</th>\n",
       "      <th>r2_taipale_ddg_vs_ddg_exp</th>\n",
       "      <th>spearmanr_humsavar_ddg_abs_vs_del_class_exp</th>\n",
       "      <th>spearmanr_taipale_ddg_vs_ddg_exp</th>\n",
       "      <th>status</th>\n",
       "      <th>~system_command</th>\n",
       "      <th>pearson_r</th>\n",
       "      <th>pearson_r_humsavar</th>\n",
       "      <th>pearson_r_humsavar_del_class_exp</th>\n",
       "      <th>pearson_r_taipale</th>\n",
       "      <th>pearson_r_taipale_ddg_exp</th>\n",
       "      <th>pearson_r_uniprot_humsavar_del_class_exp</th>\n",
       "      <th>r2</th>\n",
       "      <th>r2_humsavar</th>\n",
       "      <th>r2_humsavar_del_class_exp</th>\n",
       "      <th>r2_taipale</th>\n",
       "      <th>r2_taipale_ddg_exp</th>\n",
       "      <th>r2_uniprot_humsavar_del_class_exp</th>\n",
       "      <th>spearman_r</th>\n",
       "      <th>spearman_r_humsavar</th>\n",
       "      <th>spearman_r_humsavar_del_class_exp</th>\n",
       "      <th>spearman_r_taipale</th>\n",
       "      <th>spearman_r_taipale_ddg_exp</th>\n",
       "      <th>spearman_r_uniprot_humsavar_del_class_exp</th>\n",
       "      <th>spearmanr_avg</th>\n",
       "    </tr>\n",
       "  </thead>\n",
       "  <tbody>\n",
       "    <tr>\n",
       "      <th>3250</th>\n",
       "      <td>0.9</td>\n",
       "      <td>3250</td>\n",
       "      <td>0.01</td>\n",
       "      <td>huber</td>\n",
       "      <td>4</td>\n",
       "      <td>1.0</td>\n",
       "      <td>29</td>\n",
       "      <td>2000</td>\n",
       "      <td>0.279951</td>\n",
       "      <td>0.228576</td>\n",
       "      <td>-2.900861</td>\n",
       "      <td>-0.33157</td>\n",
       "      <td>0.273475</td>\n",
       "      <td>0.214059</td>\n",
       "      <td>done</td>\n",
       "      <td>/home/kimlab1/strokach/anaconda/bin/python /ho...</td>\n",
       "      <td>0.518429</td>\n",
       "      <td>NaN</td>\n",
       "      <td>NaN</td>\n",
       "      <td>NaN</td>\n",
       "      <td>NaN</td>\n",
       "      <td>NaN</td>\n",
       "      <td>0.263522</td>\n",
       "      <td>NaN</td>\n",
       "      <td>NaN</td>\n",
       "      <td>NaN</td>\n",
       "      <td>NaN</td>\n",
       "      <td>NaN</td>\n",
       "      <td>0.518728</td>\n",
       "      <td>NaN</td>\n",
       "      <td>NaN</td>\n",
       "      <td>NaN</td>\n",
       "      <td>NaN</td>\n",
       "      <td>NaN</td>\n",
       "      <td>0.335421</td>\n",
       "    </tr>\n",
       "  </tbody>\n",
       "</table>\n",
       "</div>"
      ],
      "text/plain": [
       "      alpha  job_id  learning_rate   loss  max_depth  max_features  min_samples_leaf  n_estimators  pearsonr_humsavar_ddg_abs_vs_del_class_exp  pearsonr_taipale_ddg_vs_ddg_exp  r2_humsavar_ddg_abs_vs_del_class_exp  r2_taipale_ddg_vs_ddg_exp  spearmanr_humsavar_ddg_abs_vs_del_class_exp  spearmanr_taipale_ddg_vs_ddg_exp status                                    ~system_command  pearson_r  pearson_r_humsavar  pearson_r_humsavar_del_class_exp  pearson_r_taipale  pearson_r_taipale_ddg_exp  pearson_r_uniprot_humsavar_del_class_exp        r2  r2_humsavar  r2_humsavar_del_class_exp  r2_taipale  r2_taipale_ddg_exp  r2_uniprot_humsavar_del_class_exp  spearman_r  spearman_r_humsavar  spearman_r_humsavar_del_class_exp  spearman_r_taipale  spearman_r_taipale_ddg_exp  spearman_r_uniprot_humsavar_del_class_exp  spearmanr_avg\n",
       "3250    0.9    3250           0.01  huber          4           1.0                29          2000                                    0.279951                         0.228576                             -2.900861                   -0.33157                                     0.273475                          0.214059   done  /home/kimlab1/strokach/anaconda/bin/python /ho...   0.518429                 NaN                               NaN                NaN                        NaN                                       NaN  0.263522          NaN                        NaN         NaN                 NaN                                NaN    0.518728                  NaN                                NaN                 NaN                         NaN                                        NaN       0.335421"
      ]
     },
     "execution_count": 167,
     "metadata": {},
     "output_type": "execute_result"
    }
   ],
   "source": [
    "results_df_all['spearmanr_avg'] = (\n",
    "    results_df_all\n",
    "    [['spearman_r', 'spearmanr_taipale_ddg_vs_ddg_exp', 'spearmanr_humsavar_ddg_abs_vs_del_class_exp']]\n",
    "    .mean(axis=1, skipna=True)\n",
    ")\n",
    "\n",
    "best_row = (\n",
    "    results_df_all[\n",
    "        (results_df_all['spearmanr_avg'] == \n",
    "         results_df_all['spearmanr_avg'].max())\n",
    "    ]\n",
    ")\n",
    "best_row"
   ]
  },
  {
   "cell_type": "code",
   "execution_count": null,
   "metadata": {
    "collapsed": true
   },
   "outputs": [],
   "source": []
  },
  {
   "cell_type": "code",
   "execution_count": 168,
   "metadata": {
    "collapsed": false
   },
   "outputs": [],
   "source": [
    "clf = ensemble.GradientBoostingRegressor(\n",
    "    **best_row\n",
    "    [[c for c in best_row.columns if \n",
    "      not c.startswith('pearson') and \n",
    "      not c.startswith('spearman') and\n",
    "      not c.startswith('r2_') and\n",
    "      c not in ['job_id', 'r2', 'status', '~system_command']]]\n",
    "    .iloc[0]\n",
    ")"
   ]
  },
  {
   "cell_type": "raw",
   "metadata": {},
   "source": [
    "target = 'ddg_exp'\n",
    "label = 'pfam_clan'\n",
    "df = TRAINING_SETS_NONULL['protherm']\n",
    "preds = cross_validation.cross_val_predict(\n",
    "    estimator=clf,\n",
    "    X=df[FEATURE_COLUMNS],\n",
    "    y=df[target],\n",
    "    cv=cross_validation.LeaveOneLabelOut(df[label].fillna('')),\n",
    "    n_jobs=8,\n",
    ")"
   ]
  },
  {
   "cell_type": "code",
   "execution_count": 117,
   "metadata": {
    "collapsed": false
   },
   "outputs": [
    {
     "data": {
      "text/plain": [
       "(-5, 10)"
      ]
     },
     "execution_count": 117,
     "metadata": {},
     "output_type": "execute_result"
    },
    {
     "data": {
      "image/png": "[encoded data removed]",
      "text/plain": [
       "<matplotlib.figure.Figure at 0x7f951ab9f780>"
      ]
     },
     "metadata": {},
     "output_type": "display_data"
    }
   ],
   "source": [
    "plt.plot(\n",
    "    TRAINING_SETS_NONULL['protherm']['ddg_exp'],\n",
    "    preds,\n",
    "    'r.'\n",
    ")\n",
    "plt.xlim(-5, 10)\n",
    "plt.ylim(-5, 10)"
   ]
  },
  {
   "cell_type": "code",
   "execution_count": 118,
   "metadata": {
    "collapsed": false
   },
   "outputs": [
    {
     "data": {
      "text/plain": [
       "GradientBoostingRegressor(alpha=0.5, init=None, learning_rate=0.01,\n",
       "             loss='huber', max_depth=8, max_features=1.0,\n",
       "             max_leaf_nodes=None, min_samples_leaf=13, min_samples_split=2,\n",
       "             min_weight_fraction_leaf=0.0, n_estimators=2000,\n",
       "             presort='auto', random_state=None, subsample=1.0, verbose=0,\n",
       "             warm_start=False)"
      ]
     },
     "execution_count": 118,
     "metadata": {},
     "output_type": "execute_result"
    }
   ],
   "source": [
    "clf.fit(TRAINING_SETS_NONULL['protherm'][FEATURE_COLUMNS], TRAINING_SETS_NONULL['protherm']['ddg_exp'])"
   ]
  },
  {
   "cell_type": "code",
   "execution_count": 119,
   "metadata": {
    "collapsed": false
   },
   "outputs": [
    {
     "data": {
      "text/plain": [
       "(-5, 10)"
      ]
     },
     "execution_count": 119,
     "metadata": {},
     "output_type": "execute_result"
    },
    {
     "data": {
      "image/png": "[encoded data removed]",
      "text/plain": [
       "<matplotlib.figure.Figure at 0x7f95180bf898>"
      ]
     },
     "metadata": {},
     "output_type": "display_data"
    }
   ],
   "source": [
    "plt.plot(\n",
    "    TRAINING_SETS_NONULL['protherm']['ddg_exp'],\n",
    "    clf.predict(TRAINING_SETS_NONULL['protherm'][FEATURE_COLUMNS]),\n",
    "    'r.'\n",
    ")\n",
    "plt.xlim(-5, 10)\n",
    "plt.ylim(-5, 10)"
   ]
  },
  {
   "cell_type": "code",
   "execution_count": null,
   "metadata": {
    "collapsed": true
   },
   "outputs": [],
   "source": []
  },
  {
   "cell_type": "code",
   "execution_count": 177,
   "metadata": {
    "collapsed": false
   },
   "outputs": [
    {
     "data": {
      "text/html": [
       "<div>\n",
       "<table border=\"1\" class=\"dataframe\">\n",
       "  <thead>\n",
       "    <tr style=\"text-align: right;\">\n",
       "      <th></th>\n",
       "      <th>alpha</th>\n",
       "      <th>job_id</th>\n",
       "      <th>learning_rate</th>\n",
       "      <th>loss</th>\n",
       "      <th>max_depth</th>\n",
       "      <th>max_features</th>\n",
       "      <th>min_samples_leaf</th>\n",
       "      <th>n_estimators</th>\n",
       "      <th>pearsonr_humsavar_ddg_abs_vs_del_class_exp</th>\n",
       "      <th>pearsonr_taipale_ddg_vs_ddg_exp</th>\n",
       "      <th>r2_humsavar_ddg_abs_vs_del_class_exp</th>\n",
       "      <th>r2_taipale_ddg_vs_ddg_exp</th>\n",
       "      <th>spearmanr_humsavar_ddg_abs_vs_del_class_exp</th>\n",
       "      <th>spearmanr_taipale_ddg_vs_ddg_exp</th>\n",
       "      <th>status</th>\n",
       "      <th>~system_command</th>\n",
       "      <th>pearson_r</th>\n",
       "      <th>pearson_r_humsavar</th>\n",
       "      <th>pearson_r_humsavar_del_class_exp</th>\n",
       "      <th>pearson_r_taipale</th>\n",
       "      <th>pearson_r_taipale_ddg_exp</th>\n",
       "      <th>pearson_r_uniprot_humsavar_del_class_exp</th>\n",
       "      <th>r2</th>\n",
       "      <th>r2_humsavar</th>\n",
       "      <th>r2_humsavar_del_class_exp</th>\n",
       "      <th>r2_taipale</th>\n",
       "      <th>r2_taipale_ddg_exp</th>\n",
       "      <th>r2_uniprot_humsavar_del_class_exp</th>\n",
       "      <th>spearman_r</th>\n",
       "      <th>spearman_r_humsavar</th>\n",
       "      <th>spearman_r_humsavar_del_class_exp</th>\n",
       "      <th>spearman_r_taipale</th>\n",
       "      <th>spearman_r_taipale_ddg_exp</th>\n",
       "      <th>spearman_r_uniprot_humsavar_del_class_exp</th>\n",
       "      <th>spearmanr_avg</th>\n",
       "    </tr>\n",
       "  </thead>\n",
       "  <tbody>\n",
       "    <tr>\n",
       "      <th>1885</th>\n",
       "      <td>0.5</td>\n",
       "      <td>1885</td>\n",
       "      <td>0.01</td>\n",
       "      <td>huber</td>\n",
       "      <td>8</td>\n",
       "      <td>1.0</td>\n",
       "      <td>13</td>\n",
       "      <td>2000</td>\n",
       "      <td>0.282678</td>\n",
       "      <td>0.202577</td>\n",
       "      <td>-2.080595</td>\n",
       "      <td>-0.359478</td>\n",
       "      <td>0.284636</td>\n",
       "      <td>0.20077</td>\n",
       "      <td>done</td>\n",
       "      <td>/home/kimlab1/strokach/anaconda/bin/python /ho...</td>\n",
       "      <td>0.511779</td>\n",
       "      <td>0.145618</td>\n",
       "      <td>NaN</td>\n",
       "      <td>0.134878</td>\n",
       "      <td>NaN</td>\n",
       "      <td>NaN</td>\n",
       "      <td>0.253459</td>\n",
       "      <td>-0.765847</td>\n",
       "      <td>NaN</td>\n",
       "      <td>-0.355445</td>\n",
       "      <td>NaN</td>\n",
       "      <td>NaN</td>\n",
       "      <td>0.51078</td>\n",
       "      <td>0.145618</td>\n",
       "      <td>NaN</td>\n",
       "      <td>0.137225</td>\n",
       "      <td>NaN</td>\n",
       "      <td>NaN</td>\n",
       "      <td>0.332062</td>\n",
       "    </tr>\n",
       "  </tbody>\n",
       "</table>\n",
       "</div>"
      ],
      "text/plain": [
       "      alpha  job_id  learning_rate   loss  max_depth  max_features  min_samples_leaf  n_estimators  pearsonr_humsavar_ddg_abs_vs_del_class_exp  pearsonr_taipale_ddg_vs_ddg_exp  r2_humsavar_ddg_abs_vs_del_class_exp  r2_taipale_ddg_vs_ddg_exp  spearmanr_humsavar_ddg_abs_vs_del_class_exp  spearmanr_taipale_ddg_vs_ddg_exp status                                    ~system_command  pearson_r  pearson_r_humsavar  pearson_r_humsavar_del_class_exp  pearson_r_taipale  pearson_r_taipale_ddg_exp  pearson_r_uniprot_humsavar_del_class_exp        r2  r2_humsavar  r2_humsavar_del_class_exp  r2_taipale  r2_taipale_ddg_exp  r2_uniprot_humsavar_del_class_exp  spearman_r  spearman_r_humsavar  spearman_r_humsavar_del_class_exp  spearman_r_taipale  spearman_r_taipale_ddg_exp  spearman_r_uniprot_humsavar_del_class_exp  spearmanr_avg\n",
       "1885    0.5    1885           0.01  huber          8           1.0                13          2000                                    0.282678                         0.202577                             -2.080595                  -0.359478                                     0.284636                           0.20077   done  /home/kimlab1/strokach/anaconda/bin/python /ho...   0.511779            0.145618                               NaN           0.134878                        NaN                                       NaN  0.253459    -0.765847                        NaN   -0.355445                 NaN                                NaN     0.51078             0.145618                                NaN            0.137225                         NaN                                        NaN       0.332062"
      ]
     },
     "execution_count": 177,
     "metadata": {},
     "output_type": "execute_result"
    }
   ],
   "source": [
    "best_row = (\n",
    "    results_df_all[\n",
    "        (results_df_all['spearmanr_humsavar_ddg_abs_vs_del_class_exp'] == \n",
    "         results_df_all['spearmanr_humsavar_ddg_abs_vs_del_class_exp'].max())\n",
    "    ]\n",
    ")\n",
    "best_row"
   ]
  },
  {
   "cell_type": "code",
   "execution_count": 178,
   "metadata": {
    "collapsed": false,
    "run_control": {
     "marked": false
    }
   },
   "outputs": [
    {
     "name": "stdout",
     "output_type": "stream",
     "text": [
      "SpearmanrResult(correlation=0.4837474998380899, pvalue=3.9533130322216697e-189)\n",
      "0.546309381351\n",
      "[ 0.51078041]\n"
     ]
    }
   ],
   "source": [
    "print(sp.stats.spearmanr(\n",
    "    TRAINING_SETS_NONULL['protherm']['dg_change'],\n",
    "    TRAINING_SETS_NONULL['protherm']['ddg_exp']\n",
    ")) \n",
    "\n",
    "print(results_df['spearman_r'].max())\n",
    "print(best_row['spearman_r'].values)"
   ]
  },
  {
   "cell_type": "code",
   "execution_count": 179,
   "metadata": {
    "collapsed": false,
    "run_control": {
     "marked": false
    }
   },
   "outputs": [
    {
     "name": "stdout",
     "output_type": "stream",
     "text": [
      "SpearmanrResult(correlation=0.15824654584787676, pvalue=5.827423107227806e-12)\n",
      "0.214059223932\n",
      "[ 0.20076973]\n"
     ]
    }
   ],
   "source": [
    "print(sp.stats.spearmanr(\n",
    "    TRAINING_SETS_NONULL['taipale']['dg_change'],\n",
    "    TRAINING_SETS_NONULL['taipale']['ddg_exp']\n",
    "))\n",
    "\n",
    "print(results_df_mod1['spearmanr_taipale_ddg_vs_ddg_exp'].max())\n",
    "print(best_row['spearmanr_taipale_ddg_vs_ddg_exp'].values)"
   ]
  },
  {
   "cell_type": "code",
   "execution_count": 180,
   "metadata": {
    "collapsed": false,
    "run_control": {
     "marked": false
    }
   },
   "outputs": [
    {
     "name": "stdout",
     "output_type": "stream",
     "text": [
      "SpearmanrResult(correlation=0.2650639134545601, pvalue=0.0)\n",
      "SpearmanrResult(correlation=0.27552368346295392, pvalue=0.0)\n",
      "0.284635659767\n",
      "[ 0.28463566]\n"
     ]
    }
   ],
   "source": [
    "print(sp.stats.spearmanr(\n",
    "    TRAINING_SETS_NONULL['humsavar']['dg_change'],\n",
    "    TRAINING_SETS_NONULL['humsavar']['del_class_exp']\n",
    "))\n",
    "\n",
    "print(sp.stats.spearmanr(\n",
    "    TRAINING_SETS_NONULL['humsavar']['dg_change'].abs(),\n",
    "    TRAINING_SETS_NONULL['humsavar']['del_class_exp']\n",
    "))\n",
    "\n",
    "print(results_df_mod1['spearmanr_humsavar_ddg_abs_vs_del_class_exp'].max())\n",
    "print(best_row['spearmanr_humsavar_ddg_abs_vs_del_class_exp'].values)"
   ]
  },
  {
   "cell_type": "code",
   "execution_count": null,
   "metadata": {
    "collapsed": true,
    "run_control": {
     "marked": false
    }
   },
   "outputs": [],
   "source": []
  },
  {
   "cell_type": "code",
   "execution_count": null,
   "metadata": {
    "collapsed": true,
    "run_control": {
     "marked": false
    }
   },
   "outputs": [],
   "source": []
  },
  {
   "cell_type": "code",
   "execution_count": null,
   "metadata": {
    "collapsed": true
   },
   "outputs": [],
   "source": []
  },
  {
   "cell_type": "code",
   "execution_count": null,
   "metadata": {
    "collapsed": true
   },
   "outputs": [],
   "source": []
  },
  {
   "cell_type": "code",
   "execution_count": null,
   "metadata": {
    "collapsed": true
   },
   "outputs": [],
   "source": []
  },
  {
   "cell_type": "code",
   "execution_count": null,
   "metadata": {
    "collapsed": true
   },
   "outputs": [],
   "source": []
  },
  {
   "cell_type": "code",
   "execution_count": null,
   "metadata": {
    "collapsed": true
   },
   "outputs": [],
   "source": []
  },
  {
   "cell_type": "code",
   "execution_count": null,
   "metadata": {
    "collapsed": false,
    "run_control": {
     "marked": false
    }
   },
   "outputs": [],
   "source": [
    "# FoldX vs.\n",
    "taipale['dg_change_cls'] = ((taipale['dg_change'] < -0.5) | (taipale['dg_change'] > 1.5)).astype(int)\n",
    "sp.stats.spearmanr(taipale['ddg_exp'], taipale['dg_change_cls'])"
   ]
  },
  {
   "cell_type": "code",
   "execution_count": null,
   "metadata": {
    "collapsed": false,
    "run_control": {
     "marked": false
    }
   },
   "outputs": [],
   "source": [
    "# FoldX vs.\n",
    "humsavar['dg_change_cls'] = ((humsavar['dg_change'] < -0.5) | (humsavar['dg_change'] > 1.5)).astype(int)\n",
    "sp.stats.spearmanr(humsavar['ddg_exp'], humsavar['dg_change_cls'])"
   ]
  },
  {
   "cell_type": "code",
   "execution_count": null,
   "metadata": {
    "collapsed": false,
    "run_control": {
     "marked": false
    }
   },
   "outputs": [],
   "source": [
    "sp.stats.spearmanr(humsavar['ddg_exp'], humsavar['dg_change'].abs())"
   ]
  },
  {
   "cell_type": "code",
   "execution_count": null,
   "metadata": {
    "collapsed": true,
    "run_control": {
     "marked": false
    }
   },
   "outputs": [],
   "source": []
  },
  {
   "cell_type": "code",
   "execution_count": null,
   "metadata": {
    "collapsed": true,
    "run_control": {
     "marked": false
    }
   },
   "outputs": [],
   "source": []
  },
  {
   "cell_type": "code",
   "execution_count": null,
   "metadata": {
    "collapsed": true,
    "run_control": {
     "marked": false
    }
   },
   "outputs": [],
   "source": []
  },
  {
   "cell_type": "code",
   "execution_count": null,
   "metadata": {
    "collapsed": true,
    "run_control": {
     "marked": false
    }
   },
   "outputs": [],
   "source": []
  },
  {
   "cell_type": "code",
   "execution_count": null,
   "metadata": {
    "collapsed": false,
    "run_control": {
     "marked": false
    }
   },
   "outputs": [],
   "source": []
  },
  {
   "cell_type": "code",
   "execution_count": null,
   "metadata": {
    "collapsed": false,
    "run_control": {
     "marked": false
    }
   },
   "outputs": [],
   "source": [
    "humsavar['ddg_exp'].hist()"
   ]
  },
  {
   "cell_type": "code",
   "execution_count": null,
   "metadata": {
    "collapsed": true,
    "run_control": {
     "marked": false
    }
   },
   "outputs": [],
   "source": [
    "preds_valid = ((preds_valid < -0.5) | (preds_valid > 1.5)).astype(int)"
   ]
  },
  {
   "cell_type": "code",
   "execution_count": null,
   "metadata": {
    "collapsed": false,
    "run_control": {
     "marked": false
    }
   },
   "outputs": [],
   "source": [
    "clf_opts = dict(\n",
    "    n_estimators=2000,\n",
    "    loss='huber',\n",
    "    learning_rate=0.01,\n",
    "    max_depth=4,\n",
    "    min_samples_leaf=17,\n",
    "    max_features=0.1,\n",
    "    alpha=0.7,\n",
    ")"
   ]
  },
  {
   "cell_type": "code",
   "execution_count": null,
   "metadata": {
    "collapsed": false,
    "run_control": {
     "marked": false
    }
   },
   "outputs": [],
   "source": [
    "protherm_reg = ensemble.GradientBoostingRegressor(**clf_opts)"
   ]
  },
  {
   "cell_type": "code",
   "execution_count": null,
   "metadata": {
    "collapsed": false,
    "run_control": {
     "marked": false
    }
   },
   "outputs": [],
   "source": [
    "protherm_reg"
   ]
  },
  {
   "cell_type": "code",
   "execution_count": null,
   "metadata": {
    "collapsed": false,
    "run_control": {
     "marked": false
    }
   },
   "outputs": [],
   "source": [
    "protherm['ddg_pred'] = (\n",
    "    cross_validation.cross_val_predict(\n",
    "        protherm_reg, \n",
    "        protherm[FEATURE_COLUMNS],\n",
    "        protherm['ddg_exp'], \n",
    "        cv=cross_validation.LeaveOneLabelOut(protherm['pfam_clan']),\n",
    "        n_jobs=4)\n",
    ")"
   ]
  },
  {
   "cell_type": "code",
   "execution_count": null,
   "metadata": {
    "collapsed": false,
    "run_control": {
     "marked": false
    }
   },
   "outputs": [],
   "source": [
    "protherm_reg.fit(protherm[FEATURE_COLUMNS].values, protherm['ddg_exp'].values)"
   ]
  },
  {
   "cell_type": "code",
   "execution_count": null,
   "metadata": {
    "collapsed": false,
    "run_control": {
     "marked": false
    }
   },
   "outputs": [],
   "source": [
    "taipale['ddg_pred_protherm'] = protherm_reg.predict(taipale[FEATURE_COLUMNS])"
   ]
  },
  {
   "cell_type": "markdown",
   "metadata": {
    "run_control": {
     "marked": false
    }
   },
   "source": [
    "## Taipale"
   ]
  },
  {
   "cell_type": "markdown",
   "metadata": {
    "run_control": {
     "marked": false
    }
   },
   "source": [
    "#### Grid search"
   ]
  },
  {
   "cell_type": "code",
   "execution_count": null,
   "metadata": {
    "collapsed": false,
    "run_control": {
     "marked": false
    }
   },
   "outputs": [],
   "source": [
    "taipale_reg = ensemble.GradientBoostingRegressor(**clf_opts)"
   ]
  },
  {
   "cell_type": "code",
   "execution_count": null,
   "metadata": {
    "collapsed": false,
    "run_control": {
     "marked": false
    }
   },
   "outputs": [],
   "source": [
    "taipale_reg"
   ]
  },
  {
   "cell_type": "code",
   "execution_count": null,
   "metadata": {
    "collapsed": false,
    "run_control": {
     "marked": false
    }
   },
   "outputs": [],
   "source": [
    "gs_cv = grid_search.GridSearchCV(\n",
    "    estimator=taipale_reg, \n",
    "    param_grid=param_grid, \n",
    "    n_jobs=8,\n",
    "    cv=cross_validation.LeaveOneLabelOut(taipale['pfam_clan']),\n",
    ").fit(taipale[FEATURE_COLUMNS], taipale['ddg_exp'])"
   ]
  },
  {
   "cell_type": "code",
   "execution_count": null,
   "metadata": {
    "collapsed": true,
    "run_control": {
     "marked": false
    }
   },
   "outputs": [],
   "source": [
    "print(gs_cv.best_params_)\n",
    "# "
   ]
  },
  {
   "cell_type": "markdown",
   "metadata": {
    "run_control": {
     "marked": false
    }
   },
   "source": [
    "#### Final regressor"
   ]
  },
  {
   "cell_type": "code",
   "execution_count": null,
   "metadata": {
    "collapsed": true,
    "run_control": {
     "marked": false
    }
   },
   "outputs": [],
   "source": [
    "taipale_reg = ensemble.GradientBoostingRegressor(**clf_opts)"
   ]
  },
  {
   "cell_type": "code",
   "execution_count": null,
   "metadata": {
    "collapsed": false,
    "run_control": {
     "marked": false
    }
   },
   "outputs": [],
   "source": [
    "taipale_reg"
   ]
  },
  {
   "cell_type": "code",
   "execution_count": null,
   "metadata": {
    "collapsed": false,
    "run_control": {
     "marked": false
    }
   },
   "outputs": [],
   "source": [
    "taipale['ddg_pred'] = (\n",
    "    cross_validation.cross_val_predict(\n",
    "        taipale_reg, \n",
    "        taipale[FEATURE_COLUMNS],\n",
    "        taipale['ddg_exp'],\n",
    "        cv=cross_validation.LeaveOneLabelOut(taipale['pfam_clan']),\n",
    "        n_jobs=4)\n",
    ")"
   ]
  },
  {
   "cell_type": "code",
   "execution_count": null,
   "metadata": {
    "collapsed": false,
    "run_control": {
     "marked": false
    }
   },
   "outputs": [],
   "source": [
    "taipale_reg.fit(taipale[FEATURE_COLUMNS].values, taipale['ddg_exp'].values)"
   ]
  },
  {
   "cell_type": "code",
   "execution_count": null,
   "metadata": {
    "collapsed": false,
    "run_control": {
     "marked": false
    }
   },
   "outputs": [],
   "source": [
    "protherm['ddg_pred_taipale'] = taipale_reg.predict(protherm[FEATURE_COLUMNS])"
   ]
  },
  {
   "cell_type": "markdown",
   "metadata": {
    "run_control": {
     "marked": false
    }
   },
   "source": [
    "## Plots"
   ]
  },
  {
   "cell_type": "markdown",
   "metadata": {
    "run_control": {
     "marked": false
    }
   },
   "source": [
    "### Protherm"
   ]
  },
  {
   "cell_type": "code",
   "execution_count": null,
   "metadata": {
    "collapsed": false,
    "run_control": {
     "marked": false
    }
   },
   "outputs": [],
   "source": [
    "fg, axes = plt.subplots(2, 2, figsize=(14, 10))\n",
    "\n",
    "ascommon.plotting_tools.make_plot_with_corr('ddg_exp', 'dg_change', data=protherm, ax=axes[0, 0])\n",
    "axes[0, 0].set_ylabel('$\\Delta \\Delta G$ FoldX')\n",
    "axes[0, 0].set_xlabel('$\\Delta \\Delta G$')\n",
    "\n",
    "ascommon.plotting_tools.make_plot_with_corr('ddg_exp', 'provean_score', data=protherm, ax=axes[0, 1])\n",
    "axes[0, 1].set_ylabel('Provean score')\n",
    "axes[0, 1].set_xlabel('$\\Delta \\Delta G$')\n",
    "\n",
    "ascommon.plotting_tools.make_plot_with_corr('ddg_exp', 'ddg_pred', data=protherm, ax=axes[1, 0])\n",
    "axes[1, 0].set_ylabel('$\\Delta \\Delta G$ cross-val')\n",
    "axes[1, 0].set_xlabel('$\\Delta \\Delta G$')\n",
    "\n",
    "ascommon.plotting_tools.make_plot_with_corr('ddg_exp', 'ddg_pred_taipale', data=protherm, ax=axes[1, 1])\n",
    "axes[1, 1].set_ylabel('Taipale predictor score')\n",
    "axes[1, 1].set_xlabel('$\\Delta \\Delta G$')\n",
    "\n",
    "plt.tight_layout()"
   ]
  },
  {
   "cell_type": "code",
   "execution_count": null,
   "metadata": {
    "code_folding": [],
    "collapsed": true,
    "run_control": {
     "marked": false
    }
   },
   "outputs": [],
   "source": [
    "# 0.216"
   ]
  },
  {
   "cell_type": "markdown",
   "metadata": {
    "run_control": {
     "marked": false
    }
   },
   "source": [
    "### Taipale"
   ]
  },
  {
   "cell_type": "code",
   "execution_count": null,
   "metadata": {
    "collapsed": false,
    "run_control": {
     "marked": false
    }
   },
   "outputs": [],
   "source": [
    "fg, axes = plt.subplots(2, 2, figsize=(14, 10))\n",
    "axes[0, 0].set_ylim(-10, 40)\n",
    "ascommon.plotting_tools.make_plot_with_corr('ddg_exp', 'dg_change', data=taipale, ax=axes[0, 0])\n",
    "axes[0, 0].set_ylabel('$\\Delta \\Delta G$ FoldX')\n",
    "axes[0, 0].set_xlabel('Chaperone interaction z-score')\n",
    "\n",
    "ascommon.plotting_tools.make_plot_with_corr('ddg_exp', 'provean_score', data=taipale, ax=axes[0, 1])\n",
    "axes[0, 1].set_ylabel('Provean score')\n",
    "axes[0, 1].set_xlabel('Chaperone interaction z-score')\n",
    "\n",
    "ascommon.plotting_tools.make_plot_with_corr('ddg_exp', 'ddg_pred', data=taipale, ax=axes[1, 0])\n",
    "axes[1, 0].set_ylabel('Taipale score cross-val')\n",
    "axes[1, 0].set_xlabel('Chaperone interaction z-score')\n",
    "\n",
    "ascommon.plotting_tools.make_plot_with_corr('ddg_exp', 'ddg_pred_protherm', data=taipale, ax=axes[1, 1])\n",
    "axes[1, 1].set_ylabel('ELASPIC predictor score')\n",
    "axes[1, 1].set_xlabel('Chaperone interaction z-score')\n",
    "\n",
    "plt.tight_layout()"
   ]
  },
  {
   "cell_type": "code",
   "execution_count": null,
   "metadata": {
    "collapsed": true,
    "run_control": {
     "marked": false
    }
   },
   "outputs": [],
   "source": [
    "# 0.085"
   ]
  },
  {
   "cell_type": "markdown",
   "metadata": {
    "run_control": {
     "marked": false
    }
   },
   "source": [
    "# Classification"
   ]
  },
  {
   "cell_type": "code",
   "execution_count": null,
   "metadata": {
    "collapsed": true,
    "run_control": {
     "marked": false
    }
   },
   "outputs": [],
   "source": [
    "clf_options = dict(\n",
    "    learning_rate=0.05,\n",
    "    n_estimators=100,\n",
    "    subsample=0.8,\n",
    ")"
   ]
  },
  {
   "cell_type": "markdown",
   "metadata": {
    "run_control": {
     "marked": false
    }
   },
   "source": [
    "## Protherm"
   ]
  },
  {
   "cell_type": "code",
   "execution_count": null,
   "metadata": {
    "collapsed": false,
    "run_control": {
     "marked": false
    }
   },
   "outputs": [],
   "source": [
    "protherm_clf = GradientBoostingClassifier(**clf_options)"
   ]
  },
  {
   "cell_type": "code",
   "execution_count": null,
   "metadata": {
    "collapsed": false,
    "run_control": {
     "marked": false
    }
   },
   "outputs": [],
   "source": [
    "protherm['ddg_exp'].hist(range=(-3, 6), bins=40)\n",
    "plt.vlines(-0.5, 0, 300)\n",
    "plt.vlines( 1.5, 0, 300)\n",
    "plt.xlabel('$\\Delta \\Delta G$')"
   ]
  },
  {
   "cell_type": "code",
   "execution_count": null,
   "metadata": {
    "collapsed": false,
    "run_control": {
     "marked": false
    }
   },
   "outputs": [],
   "source": [
    "protherm['ddg_cls_exp'] = (\n",
    "    (protherm['ddg_exp'] < -0.5) |\n",
    "    (protherm['ddg_exp'] >  1.5)\n",
    ").astype(int)"
   ]
  },
  {
   "cell_type": "code",
   "execution_count": null,
   "metadata": {
    "collapsed": false,
    "run_control": {
     "marked": false
    }
   },
   "outputs": [],
   "source": [
    "protherm['ddg_cls_pred'] = (\n",
    "    cross_validation.cross_val_predict(\n",
    "        protherm_clf, \n",
    "        protherm[FEATURE_COLUMNS], \n",
    "        protherm['ddg_cls_exp'], \n",
    "        method='predict_proba',\n",
    "        cv=cross_validation.LeaveOneLabelOut(protherm['pfam_clan']),\n",
    "        n_jobs=64)\n",
    ")"
   ]
  },
  {
   "cell_type": "code",
   "execution_count": null,
   "metadata": {
    "collapsed": false,
    "run_control": {
     "marked": false
    }
   },
   "outputs": [],
   "source": [
    "protherm_clf.fit(protherm[FEATURE_COLUMNS].values, protherm['ddg_cls_exp'].values)"
   ]
  },
  {
   "cell_type": "code",
   "execution_count": null,
   "metadata": {
    "collapsed": true,
    "run_control": {
     "marked": false
    }
   },
   "outputs": [],
   "source": [
    "uniprot['ddg_cls_pred_protherm'] = protherm_clf.predict(uniprot[FEATURE_COLUMNS])"
   ]
  },
  {
   "cell_type": "code",
   "execution_count": null,
   "metadata": {
    "collapsed": true,
    "run_control": {
     "marked": false
    }
   },
   "outputs": [],
   "source": []
  },
  {
   "cell_type": "markdown",
   "metadata": {
    "run_control": {
     "marked": false
    }
   },
   "source": [
    "## Taipale"
   ]
  },
  {
   "cell_type": "code",
   "execution_count": null,
   "metadata": {
    "collapsed": true,
    "run_control": {
     "marked": false
    }
   },
   "outputs": [],
   "source": [
    "taipale_clf = GradientBoostingClassifier(**clf_options)"
   ]
  },
  {
   "cell_type": "code",
   "execution_count": null,
   "metadata": {
    "collapsed": true,
    "run_control": {
     "marked": false
    }
   },
   "outputs": [],
   "source": [
    "taipale['ddg_exp'].hist(range=(-3, 6), bins=40)\n",
    "plt.vlines(-0.5, 0, 300)\n",
    "plt.vlines( 1.5, 0, 300)"
   ]
  },
  {
   "cell_type": "code",
   "execution_count": null,
   "metadata": {
    "collapsed": true,
    "run_control": {
     "marked": false
    }
   },
   "outputs": [],
   "source": [
    "taipale['ddg_cls_exp'] = (taipale['ddg_exp'].abs() > 1.5).astype(int)"
   ]
  },
  {
   "cell_type": "code",
   "execution_count": null,
   "metadata": {
    "collapsed": true,
    "run_control": {
     "marked": false
    }
   },
   "outputs": [],
   "source": []
  },
  {
   "cell_type": "markdown",
   "metadata": {
    "run_control": {
     "marked": false
    }
   },
   "source": [
    "## UniProt"
   ]
  },
  {
   "cell_type": "code",
   "execution_count": null,
   "metadata": {
    "collapsed": true,
    "run_control": {
     "marked": false
    }
   },
   "outputs": [],
   "source": [
    "from sklearn.metrics import roc_curve, auc"
   ]
  },
  {
   "cell_type": "code",
   "execution_count": null,
   "metadata": {
    "collapsed": true,
    "run_control": {
     "marked": false
    }
   },
   "outputs": [],
   "source": [
    "uniprot_clf = GradientBoostingClassifier(**clf_options)"
   ]
  },
  {
   "cell_type": "code",
   "execution_count": null,
   "metadata": {
    "collapsed": true,
    "run_control": {
     "marked": false
    }
   },
   "outputs": [],
   "source": [
    "uniprot['ddg_cls_exp'] = uniprot['ddg_exp']"
   ]
  },
  {
   "cell_type": "code",
   "execution_count": null,
   "metadata": {
    "collapsed": false,
    "run_control": {
     "marked": false
    }
   },
   "outputs": [],
   "source": [
    "def worker(train_test):\n",
    "    train, test = train_test\n",
    "    probas_ = (\n",
    "        uniprot_clf\n",
    "        .fit(uniprot[FEATURE_COLUMNS].values[train], uniprot['ddg_cls_exp'].values[train])\n",
    "        .predict_proba(uniprot[FEATURE_COLUMNS].values[test])\n",
    "    )\n",
    "    return probas_\n",
    "\n",
    "\n",
    "if __name__ == '__main__':\n",
    "    import multiprocessing\n",
    "    with multiprocessing.Pool(64) as p:\n",
    "        probas_ = p.map(worker, list(cross_validation.LeaveOneLabelOut(uniprot['pfam_clan'])))"
   ]
  },
  {
   "cell_type": "code",
   "execution_count": null,
   "metadata": {
    "collapsed": false,
    "run_control": {
     "marked": false
    }
   },
   "outputs": [],
   "source": [
    "    np.array([[1,2,3],[4,5,6],[7,8,9]])[np.array([1,2])]"
   ]
  },
  {
   "cell_type": "code",
   "execution_count": null,
   "metadata": {
    "collapsed": true,
    "run_control": {
     "marked": false
    }
   },
   "outputs": [],
   "source": [
    "lolo = cross_validation.LeaveOneLabelOut(uniprot['pfam_clan'])"
   ]
  },
  {
   "cell_type": "code",
   "execution_count": null,
   "metadata": {
    "collapsed": false,
    "run_control": {
     "marked": false
    }
   },
   "outputs": [],
   "source": [
    "list(cross_validation.LeaveOneLabelOut(uniprot['pfam_clan']))"
   ]
  },
  {
   "cell_type": "code",
   "execution_count": null,
   "metadata": {
    "collapsed": false,
    "run_control": {
     "marked": false
    }
   },
   "outputs": [],
   "source": [
    "uniprot_clf.fit(uniprot[FEATURE_COLUMNS].values, uniprot['ddg_cls_exp'].values)"
   ]
  },
  {
   "cell_type": "code",
   "execution_count": null,
   "metadata": {
    "collapsed": true,
    "run_control": {
     "marked": false
    }
   },
   "outputs": [],
   "source": [
    "protherm['ddg_cls_pred_uniprot'] = uniprot_clf.predict(protherm[FEATURE_COLUMNS])"
   ]
  },
  {
   "cell_type": "code",
   "execution_count": null,
   "metadata": {
    "collapsed": true,
    "run_control": {
     "marked": false
    }
   },
   "outputs": [],
   "source": [
    "import multiprocessing.pool"
   ]
  },
  {
   "cell_type": "code",
   "execution_count": null,
   "metadata": {
    "collapsed": true,
    "run_control": {
     "marked": false
    }
   },
   "outputs": [],
   "source": []
  },
  {
   "cell_type": "code",
   "execution_count": null,
   "metadata": {
    "collapsed": true,
    "run_control": {
     "marked": false
    }
   },
   "outputs": [],
   "source": [
    "protherm['dg_change_cls'] = protherm['dg_change']"
   ]
  },
  {
   "cell_type": "code",
   "execution_count": null,
   "metadata": {
    "collapsed": true,
    "run_control": {
     "marked": false
    }
   },
   "outputs": [],
   "source": [
    "from sklearn import metrics"
   ]
  },
  {
   "cell_type": "code",
   "execution_count": null,
   "metadata": {
    "collapsed": false,
    "run_control": {
     "marked": false
    }
   },
   "outputs": [],
   "source": [
    "metrics.accuracy_score(protherm['ddg_cls_exp'].values, protherm['dg_change'].values)"
   ]
  },
  {
   "cell_type": "code",
   "execution_count": null,
   "metadata": {
    "collapsed": false,
    "run_control": {
     "marked": false
    }
   },
   "outputs": [],
   "source": [
    "metrics.accuracy_score(protherm['ddg_cls_exp'].values, protherm['ddg_cls_pred'].values)"
   ]
  },
  {
   "cell_type": "code",
   "execution_count": null,
   "metadata": {
    "collapsed": false,
    "run_control": {
     "marked": false
    }
   },
   "outputs": [],
   "source": [
    "metrics.accuracy_score(protherm['ddg_cls_exp'].values, protherm['ddg_cls_pred_uniprot'].values)"
   ]
  },
  {
   "cell_type": "code",
   "execution_count": null,
   "metadata": {
    "collapsed": true,
    "run_control": {
     "marked": false
    }
   },
   "outputs": [],
   "source": []
  },
  {
   "cell_type": "code",
   "execution_count": null,
   "metadata": {
    "collapsed": true,
    "run_control": {
     "marked": false
    }
   },
   "outputs": [],
   "source": []
  },
  {
   "cell_type": "code",
   "execution_count": null,
   "metadata": {
    "collapsed": true,
    "run_control": {
     "marked": false
    }
   },
   "outputs": [],
   "source": [
    "uniprot['dg_change_cls'] = (\n",
    "    (uniprot['dg_change'] < -0.5) |\n",
    "    (uniprot['dg_change'] >  1.5)\n",
    ").astype(int)"
   ]
  },
  {
   "cell_type": "code",
   "execution_count": null,
   "metadata": {
    "collapsed": true,
    "run_control": {
     "marked": false
    }
   },
   "outputs": [],
   "source": [
    "uniprot['provean_score_cls'] = (\n",
    "    (uniprot['provean_score'] < -2.5)\n",
    ").astype(int)"
   ]
  },
  {
   "cell_type": "code",
   "execution_count": null,
   "metadata": {
    "collapsed": false,
    "run_control": {
     "marked": false
    }
   },
   "outputs": [],
   "source": [
    "metrics.accuracy_score(uniprot['ddg_cls_exp'].values, uniprot['dg_change_cls'].values)"
   ]
  },
  {
   "cell_type": "code",
   "execution_count": null,
   "metadata": {
    "collapsed": false,
    "run_control": {
     "marked": false
    }
   },
   "outputs": [],
   "source": [
    "metrics.accuracy_score(uniprot['ddg_cls_exp'].values, uniprot['provean_score_cls'].values)"
   ]
  },
  {
   "cell_type": "code",
   "execution_count": null,
   "metadata": {
    "collapsed": false,
    "run_control": {
     "marked": false
    }
   },
   "outputs": [],
   "source": [
    "metrics.accuracy_score(uniprot['ddg_cls_exp'].values, uniprot['ddg_cls_pred'].values)"
   ]
  },
  {
   "cell_type": "code",
   "execution_count": null,
   "metadata": {
    "collapsed": false,
    "run_control": {
     "marked": false
    }
   },
   "outputs": [],
   "source": [
    "metrics.accuracy_score(uniprot['ddg_cls_exp'].values, uniprot['ddg_cls_pred_protherm'].values)"
   ]
  },
  {
   "cell_type": "code",
   "execution_count": null,
   "metadata": {
    "collapsed": true,
    "run_control": {
     "marked": false
    }
   },
   "outputs": [],
   "source": []
  },
  {
   "cell_type": "code",
   "execution_count": null,
   "metadata": {
    "collapsed": true,
    "run_control": {
     "marked": false
    }
   },
   "outputs": [],
   "source": []
  },
  {
   "cell_type": "code",
   "execution_count": null,
   "metadata": {
    "collapsed": false,
    "run_control": {
     "marked": false
    }
   },
   "outputs": [],
   "source": [
    "metrics.f1_score(uniprot['ddg_cls_exp'].values, uniprot['dg_change_cls'].values)"
   ]
  },
  {
   "cell_type": "code",
   "execution_count": null,
   "metadata": {
    "collapsed": false,
    "run_control": {
     "marked": false
    }
   },
   "outputs": [],
   "source": [
    "metrics.f1_score(uniprot['ddg_cls_exp'].values, uniprot['provean_score_cls'].values)"
   ]
  },
  {
   "cell_type": "code",
   "execution_count": null,
   "metadata": {
    "collapsed": false,
    "run_control": {
     "marked": false
    }
   },
   "outputs": [],
   "source": [
    "metrics.f1_score(uniprot['ddg_cls_exp'].values, uniprot['ddg_cls_pred'].values)"
   ]
  },
  {
   "cell_type": "code",
   "execution_count": null,
   "metadata": {
    "collapsed": false,
    "run_control": {
     "marked": false
    }
   },
   "outputs": [],
   "source": [
    "metrics.f1_score(uniprot['ddg_cls_exp'].values, uniprot['ddg_cls_pred_protherm'].values)"
   ]
  },
  {
   "cell_type": "code",
   "execution_count": null,
   "metadata": {
    "collapsed": true,
    "run_control": {
     "marked": false
    }
   },
   "outputs": [],
   "source": []
  },
  {
   "cell_type": "code",
   "execution_count": null,
   "metadata": {
    "collapsed": true,
    "run_control": {
     "marked": false
    }
   },
   "outputs": [],
   "source": []
  },
  {
   "cell_type": "code",
   "execution_count": null,
   "metadata": {
    "collapsed": true,
    "run_control": {
     "marked": false
    }
   },
   "outputs": [],
   "source": [
    "metrics.f1_score(uniprot['ddg_cls_exp'].values, uniprot['dg_change_cls'].values)"
   ]
  },
  {
   "cell_type": "code",
   "execution_count": null,
   "metadata": {
    "collapsed": true,
    "run_control": {
     "marked": false
    }
   },
   "outputs": [],
   "source": [
    "metrics.f1_score(uniprot['ddg_cls_exp'].values, uniprot['provean_score_cls'].values)"
   ]
  },
  {
   "cell_type": "code",
   "execution_count": null,
   "metadata": {
    "collapsed": true,
    "run_control": {
     "marked": false
    }
   },
   "outputs": [],
   "source": [
    "metrics.f1_score(uniprot['ddg_cls_exp'].values, uniprot['ddg_cls_pred'].values)"
   ]
  },
  {
   "cell_type": "code",
   "execution_count": null,
   "metadata": {
    "collapsed": true,
    "run_control": {
     "marked": false
    }
   },
   "outputs": [],
   "source": [
    "metrics.f1_score(uniprot['ddg_cls_exp'].values, uniprot['ddg_cls_pred_protherm'].values)"
   ]
  },
  {
   "cell_type": "code",
   "execution_count": null,
   "metadata": {
    "collapsed": true,
    "run_control": {
     "marked": false
    }
   },
   "outputs": [],
   "source": []
  },
  {
   "cell_type": "code",
   "execution_count": null,
   "metadata": {
    "collapsed": true,
    "run_control": {
     "marked": false
    }
   },
   "outputs": [],
   "source": []
  },
  {
   "cell_type": "code",
   "execution_count": null,
   "metadata": {
    "collapsed": false,
    "run_control": {
     "marked": false
    }
   },
   "outputs": [],
   "source": [
    "metrics.matthews_corrcoef(uniprot['ddg_cls_exp'].values, uniprot['dg_change_cls'].values)"
   ]
  },
  {
   "cell_type": "code",
   "execution_count": null,
   "metadata": {
    "collapsed": false,
    "run_control": {
     "marked": false
    }
   },
   "outputs": [],
   "source": [
    "metrics.matthews_corrcoef(uniprot['ddg_cls_exp'].values, uniprot['provean_score_cls'].values)"
   ]
  },
  {
   "cell_type": "code",
   "execution_count": null,
   "metadata": {
    "collapsed": false,
    "run_control": {
     "marked": false
    }
   },
   "outputs": [],
   "source": [
    "metrics.matthews_corrcoef(uniprot['ddg_cls_exp'].values, uniprot['ddg_cls_pred'].values)"
   ]
  },
  {
   "cell_type": "code",
   "execution_count": null,
   "metadata": {
    "collapsed": false,
    "run_control": {
     "marked": false
    }
   },
   "outputs": [],
   "source": [
    "metrics.matthews_corrcoef(uniprot['ddg_cls_exp'].values, uniprot['ddg_cls_pred_protherm'].values)"
   ]
  },
  {
   "cell_type": "code",
   "execution_count": null,
   "metadata": {
    "collapsed": true,
    "run_control": {
     "marked": false
    }
   },
   "outputs": [],
   "source": []
  },
  {
   "cell_type": "code",
   "execution_count": null,
   "metadata": {
    "collapsed": true,
    "run_control": {
     "marked": false
    }
   },
   "outputs": [],
   "source": []
  },
  {
   "cell_type": "code",
   "execution_count": null,
   "metadata": {
    "collapsed": true,
    "run_control": {
     "marked": false
    }
   },
   "outputs": [],
   "source": []
  }
 ],
 "metadata": {
  "kernelspec": {
   "display_name": "Python 3",
   "language": "python",
   "name": "python3"
  },
  "language_info": {
   "codemirror_mode": {
    "name": "ipython",
    "version": 3
   },
   "file_extension": ".py",
   "mimetype": "text/x-python",
   "name": "python",
   "nbconvert_exporter": "python",
   "pygments_lexer": "ipython3",
   "version": "3.5.1"
  }
 },
 "nbformat": 4,
 "nbformat_minor": 0
}
