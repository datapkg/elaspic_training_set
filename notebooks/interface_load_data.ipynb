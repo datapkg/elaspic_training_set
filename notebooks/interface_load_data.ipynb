{
 "cells": [
  {
   "cell_type": "markdown",
   "metadata": {
    "heading_collapsed": true,
    "level": 1,
    "nbpresent": {
     "id": "83edc0f3-9e37-4c77-a436-5efb046e2dec"
    }
   },
   "source": [
    "# Summary\n",
    "\n",
    "\n",
    "-----"
   ]
  },
  {
   "cell_type": "markdown",
   "metadata": {
    "heading_collapsed": true,
    "level": 1,
    "nbpresent": {
     "id": "b34b7bdd-ff21-4790-ae86-ede17070fd45"
    }
   },
   "source": [
    "# Imports"
   ]
  },
  {
   "cell_type": "code",
   "execution_count": 1,
   "metadata": {
    "collapsed": false,
    "hidden": true,
    "level": 7,
    "nbpresent": {
     "id": "1636f92c-01fb-48de-9006-5b6ce003fedb"
    }
   },
   "outputs": [
    {
     "name": "stdout",
     "output_type": "stream",
     "text": [
      "2016-08-11 11:47:17.846141\n"
     ]
    }
   ],
   "source": [
    "%run imports.ipynb"
   ]
  },
  {
   "cell_type": "code",
   "execution_count": 2,
   "metadata": {
    "collapsed": false,
    "hidden": true,
    "level": 7,
    "nbpresent": {
     "id": "fe68213b-8c57-46af-b883-8f4748d74d8e"
    }
   },
   "outputs": [],
   "source": [
    "NOTEBOOK_NAME = 'interface_load_data'\n",
    "os.makedirs(NOTEBOOK_NAME, exist_ok=True)\n",
    "\n",
    "os.environ['NOTEBOOK_NAME'] = NOTEBOOK_NAME\n",
    "os.environ['DB_PORT'] = '8309'"
   ]
  },
  {
   "cell_type": "code",
   "execution_count": 3,
   "metadata": {
    "collapsed": false,
    "hidden": true,
    "level": 7
   },
   "outputs": [
    {
     "name": "stderr",
     "output_type": "stream",
     "text": [
      "2016-08-11 11:47:18,162 - root - INFO - MySQL database already running...\n"
     ]
    },
    {
     "name": "stdout",
     "output_type": "stream",
     "text": [
      "The autoreload extension is already loaded. To reload it, use:\n",
      "  %reload_ext autoreload\n",
      "2016-08-11 11:47:18.151889\n"
     ]
    }
   ],
   "source": [
    "%run mysqld.ipynb"
   ]
  },
  {
   "cell_type": "code",
   "execution_count": 4,
   "metadata": {
    "code_folding": [],
    "collapsed": true,
    "hidden": true,
    "level": 7,
    "nbpresent": {
     "id": "d04cb736-f5f7-4e7c-b558-ee680cfa15b0"
    }
   },
   "outputs": [],
   "source": [
    "db_remote = datapkg.MySQL(\n",
    "    connection_string=os.environ['DATAPKG_CONNECTION_STR'] + '/elaspic', \n",
    "    shared_folder=os.environ['NOTEBOOK_NAME'], \n",
    "    storage_host=None, \n",
    "    echo=False, \n",
    "    db_engine='MyISAM')"
   ]
  },
  {
   "cell_type": "markdown",
   "metadata": {
    "level": 1,
    "nbpresent": {
     "id": "8efb8831-7743-40a2-a29c-a775f33ea438"
    }
   },
   "source": [
    "# Load data"
   ]
  },
  {
   "cell_type": "code",
   "execution_count": 5,
   "metadata": {
    "collapsed": false,
    "run_control": {
     "marked": false
    }
   },
   "outputs": [],
   "source": [
    "DATASETS = ['kortemme_baker', 'skempi', 'taipale_ppi', 'taipale_gpca']\n",
    "\n",
    "dataset_map = {\n",
    "    'taipale_ppi': 'sahni_ppi',\n",
    "    'taipale_gpca': 'sahni_gpca',\n",
    "}\n",
    "\n",
    "INPUT_DF = []\n",
    "for dataset in DATASETS:\n",
    "    df = pd.read_sql_table(dataset, db_remote.engine, schema='protein_interaction_energy')\n",
    "    df['dataset'] = dataset_map.get(dataset, dataset)\n",
    "    INPUT_DF.append(df)\n",
    "INPUT_DF = pd.concat(INPUT_DF, ignore_index=True)"
   ]
  },
  {
   "cell_type": "code",
   "execution_count": 6,
   "metadata": {
    "collapsed": true
   },
   "outputs": [],
   "source": [
    "DATA = {}"
   ]
  },
  {
   "cell_type": "markdown",
   "metadata": {
    "heading_collapsed": true,
    "level": 2
   },
   "source": [
    "## kortemme_baker"
   ]
  },
  {
   "cell_type": "code",
   "execution_count": 7,
   "metadata": {
    "collapsed": false,
    "hidden": true
   },
   "outputs": [
    {
     "data": {
      "text/html": [
       "<style type=\"text/css\">.highlight .hll { background-color: #ffffcc }\n",
       ".highlight  { background: #f8f8f8; }\n",
       ".highlight .c { color: #408080; font-style: italic } /* Comment */\n",
       ".highlight .err { border: 1px solid #FF0000 } /* Error */\n",
       ".highlight .k { color: #008000; font-weight: bold } /* Keyword */\n",
       ".highlight .o { color: #666666 } /* Operator */\n",
       ".highlight .ch { color: #408080; font-style: italic } /* Comment.Hashbang */\n",
       ".highlight .cm { color: #408080; font-style: italic } /* Comment.Multiline */\n",
       ".highlight .cp { color: #BC7A00 } /* Comment.Preproc */\n",
       ".highlight .cpf { color: #408080; font-style: italic } /* Comment.PreprocFile */\n",
       ".highlight .c1 { color: #408080; font-style: italic } /* Comment.Single */\n",
       ".highlight .cs { color: #408080; font-style: italic } /* Comment.Special */\n",
       ".highlight .gd { color: #A00000 } /* Generic.Deleted */\n",
       ".highlight .ge { font-style: italic } /* Generic.Emph */\n",
       ".highlight .gr { color: #FF0000 } /* Generic.Error */\n",
       ".highlight .gh { color: #000080; font-weight: bold } /* Generic.Heading */\n",
       ".highlight .gi { color: #00A000 } /* Generic.Inserted */\n",
       ".highlight .go { color: #888888 } /* Generic.Output */\n",
       ".highlight .gp { color: #000080; font-weight: bold } /* Generic.Prompt */\n",
       ".highlight .gs { font-weight: bold } /* Generic.Strong */\n",
       ".highlight .gu { color: #800080; font-weight: bold } /* Generic.Subheading */\n",
       ".highlight .gt { color: #0044DD } /* Generic.Traceback */\n",
       ".highlight .kc { color: #008000; font-weight: bold } /* Keyword.Constant */\n",
       ".highlight .kd { color: #008000; font-weight: bold } /* Keyword.Declaration */\n",
       ".highlight .kn { color: #008000; font-weight: bold } /* Keyword.Namespace */\n",
       ".highlight .kp { color: #008000 } /* Keyword.Pseudo */\n",
       ".highlight .kr { color: #008000; font-weight: bold } /* Keyword.Reserved */\n",
       ".highlight .kt { color: #B00040 } /* Keyword.Type */\n",
       ".highlight .m { color: #666666 } /* Literal.Number */\n",
       ".highlight .s { color: #BA2121 } /* Literal.String */\n",
       ".highlight .na { color: #7D9029 } /* Name.Attribute */\n",
       ".highlight .nb { color: #008000 } /* Name.Builtin */\n",
       ".highlight .nc { color: #0000FF; font-weight: bold } /* Name.Class */\n",
       ".highlight .no { color: #880000 } /* Name.Constant */\n",
       ".highlight .nd { color: #AA22FF } /* Name.Decorator */\n",
       ".highlight .ni { color: #999999; font-weight: bold } /* Name.Entity */\n",
       ".highlight .ne { color: #D2413A; font-weight: bold } /* Name.Exception */\n",
       ".highlight .nf { color: #0000FF } /* Name.Function */\n",
       ".highlight .nl { color: #A0A000 } /* Name.Label */\n",
       ".highlight .nn { color: #0000FF; font-weight: bold } /* Name.Namespace */\n",
       ".highlight .nt { color: #008000; font-weight: bold } /* Name.Tag */\n",
       ".highlight .nv { color: #19177C } /* Name.Variable */\n",
       ".highlight .ow { color: #AA22FF; font-weight: bold } /* Operator.Word */\n",
       ".highlight .w { color: #bbbbbb } /* Text.Whitespace */\n",
       ".highlight .mb { color: #666666 } /* Literal.Number.Bin */\n",
       ".highlight .mf { color: #666666 } /* Literal.Number.Float */\n",
       ".highlight .mh { color: #666666 } /* Literal.Number.Hex */\n",
       ".highlight .mi { color: #666666 } /* Literal.Number.Integer */\n",
       ".highlight .mo { color: #666666 } /* Literal.Number.Oct */\n",
       ".highlight .sb { color: #BA2121 } /* Literal.String.Backtick */\n",
       ".highlight .sc { color: #BA2121 } /* Literal.String.Char */\n",
       ".highlight .sd { color: #BA2121; font-style: italic } /* Literal.String.Doc */\n",
       ".highlight .s2 { color: #BA2121 } /* Literal.String.Double */\n",
       ".highlight .se { color: #BB6622; font-weight: bold } /* Literal.String.Escape */\n",
       ".highlight .sh { color: #BA2121 } /* Literal.String.Heredoc */\n",
       ".highlight .si { color: #BB6688; font-weight: bold } /* Literal.String.Interpol */\n",
       ".highlight .sx { color: #008000 } /* Literal.String.Other */\n",
       ".highlight .sr { color: #BB6688 } /* Literal.String.Regex */\n",
       ".highlight .s1 { color: #BA2121 } /* Literal.String.Single */\n",
       ".highlight .ss { color: #19177C } /* Literal.String.Symbol */\n",
       ".highlight .bp { color: #008000 } /* Name.Builtin.Pseudo */\n",
       ".highlight .vc { color: #19177C } /* Name.Variable.Class */\n",
       ".highlight .vg { color: #19177C } /* Name.Variable.Global */\n",
       ".highlight .vi { color: #19177C } /* Name.Variable.Instance */\n",
       ".highlight .il { color: #666666 } /* Literal.Number.Integer.Long */</style><div class=\"highlight\"><pre><span></span><span class=\"k\">SELECT</span> <span class=\"o\">*</span> \n",
       "<span class=\"k\">FROM</span> <span class=\"n\">elaspic_training_set</span><span class=\"p\">.</span><span class=\"n\">kortemme_baker_elaspic_scores</span>\n",
       "<span class=\"k\">WHERE</span> <span class=\"p\">(</span><span class=\"n\">pdb_id</span><span class=\"p\">,</span> <span class=\"n\">pdb_chain</span><span class=\"p\">,</span> <span class=\"n\">pdb_mutation</span><span class=\"p\">)</span> <span class=\"k\">not</span> <span class=\"k\">in</span> <span class=\"p\">(</span>\n",
       "    <span class=\"k\">SELECT</span> <span class=\"n\">pdb_id</span><span class=\"p\">,</span> <span class=\"n\">pdb_chain</span><span class=\"p\">,</span> <span class=\"n\">pdb_mutation</span> <span class=\"k\">from</span> <span class=\"n\">elaspic_training_set</span><span class=\"p\">.</span><span class=\"n\">skempi_elaspic_scores</span><span class=\"p\">);</span>\n",
       "</pre></div>\n"
      ],
      "text/plain": [
       "<IPython.core.display.HTML object>"
      ]
     },
     "metadata": {},
     "output_type": "display_data"
    }
   ],
   "source": [
    "sql_query = \"\"\"\\\n",
    "SELECT * \n",
    "FROM elaspic_training_set.kortemme_baker_elaspic_scores\n",
    "WHERE (pdb_id, pdb_chain, pdb_mutation) not in (\n",
    "    SELECT pdb_id, pdb_chain, pdb_mutation from elaspic_training_set.skempi_elaspic_scores);\n",
    "\"\"\"\n",
    "kmtools.jupyter_tools.print_sql(sql_query)\n",
    "\n",
    "kortemme_baker_results = pd.read_sql_query(sql_query, db.engine)"
   ]
  },
  {
   "cell_type": "code",
   "execution_count": 8,
   "metadata": {
    "collapsed": false,
    "hidden": true
   },
   "outputs": [
    {
     "data": {
      "text/html": [
       "<div>\n",
       "<table border=\"1\" class=\"dataframe\">\n",
       "  <thead>\n",
       "    <tr style=\"text-align: right;\">\n",
       "      <th></th>\n",
       "      <th>_index</th>\n",
       "      <th>pdb_id</th>\n",
       "      <th>pdb_chain</th>\n",
       "      <th>partner_pdb_chain</th>\n",
       "      <th>pdb_mutation</th>\n",
       "      <th>mutation</th>\n",
       "      <th>mutation_modeller</th>\n",
       "      <th>idx</th>\n",
       "      <th>idxs</th>\n",
       "      <th>alignment_coverage</th>\n",
       "      <th>alignment_identity</th>\n",
       "      <th>alignment_score</th>\n",
       "      <th>analyse_complex_energy_mut</th>\n",
       "      <th>analyse_complex_energy_wt</th>\n",
       "      <th>chain_modeller</th>\n",
       "      <th>contact_distance_mut</th>\n",
       "      <th>contact_distance_wt</th>\n",
       "      <th>ddg</th>\n",
       "      <th>interface_area_hydrophilic</th>\n",
       "      <th>interface_area_hydrophobic</th>\n",
       "      <th>interface_area_total</th>\n",
       "      <th>matrix_score</th>\n",
       "      <th>model_file_mut</th>\n",
       "      <th>model_file_wt</th>\n",
       "      <th>mutation_errors</th>\n",
       "      <th>norm_dope</th>\n",
       "      <th>physchem_mut</th>\n",
       "      <th>physchem_mut_ownchain</th>\n",
       "      <th>physchem_wt</th>\n",
       "      <th>physchem_wt_ownchain</th>\n",
       "      <th>provean_score</th>\n",
       "      <th>secondary_structure_mut</th>\n",
       "      <th>secondary_structure_wt</th>\n",
       "      <th>solvent_accessibility_mut</th>\n",
       "      <th>solvent_accessibility_wt</th>\n",
       "      <th>stability_energy_mut</th>\n",
       "      <th>stability_energy_wt</th>\n",
       "      <th>ddg_exp</th>\n",
       "    </tr>\n",
       "  </thead>\n",
       "  <tbody>\n",
       "    <tr>\n",
       "      <th>0</th>\n",
       "      <td>2</td>\n",
       "      <td>3hfm</td>\n",
       "      <td>Y</td>\n",
       "      <td>None</td>\n",
       "      <td>N93A</td>\n",
       "      <td>N93A</td>\n",
       "      <td>N307A</td>\n",
       "      <td>2</td>\n",
       "      <td>[0, 2]</td>\n",
       "      <td>100.0</td>\n",
       "      <td>100.0</td>\n",
       "      <td>1.0</td>\n",
       "      <td>43.8084,81.7971,5.04336,-1.06577,-1.71866,-4.8...</td>\n",
       "      <td>43.8147,81.7971,4.18029,-1.10015,-2.79955,-5.0...</td>\n",
       "      <td>Y</td>\n",
       "      <td>2.431894</td>\n",
       "      <td>2.431894</td>\n",
       "      <td>0.578378</td>\n",
       "      <td>168.485</td>\n",
       "      <td>67.335</td>\n",
       "      <td>235.82</td>\n",
       "      <td>-2</td>\n",
       "      <td>/home/kimlab1/database_data/biodb/recipes/prot...</td>\n",
       "      <td>/home/kimlab1/database_data/biodb/recipes/prot...</td>\n",
       "      <td></td>\n",
       "      <td>-0.404127</td>\n",
       "      <td>0,0,0,9</td>\n",
       "      <td>0,0,0,17</td>\n",
       "      <td>0,0,1,9</td>\n",
       "      <td>0,0,5,21</td>\n",
       "      <td>-1.010</td>\n",
       "      <td>H</td>\n",
       "      <td>H</td>\n",
       "      <td>50.884576</td>\n",
       "      <td>49.746769</td>\n",
       "      <td>222.206,-171.387,-100.349,-375.476,-8.89289,51...</td>\n",
       "      <td>221.244,-172.095,-102.061,-376.182,-8.89289,51...</td>\n",
       "      <td>0.6</td>\n",
       "    </tr>\n",
       "    <tr>\n",
       "      <th>1</th>\n",
       "      <td>3</td>\n",
       "      <td>3hfm</td>\n",
       "      <td>L</td>\n",
       "      <td>None</td>\n",
       "      <td>Y50A</td>\n",
       "      <td>Y50A</td>\n",
       "      <td>Y50A</td>\n",
       "      <td>0</td>\n",
       "      <td>[0, 2]</td>\n",
       "      <td>100.0</td>\n",
       "      <td>100.0</td>\n",
       "      <td>1.0</td>\n",
       "      <td>81.7939,45.0529,2.99454,-0.969862,-3.70889,-4....</td>\n",
       "      <td>81.7647,45.0424,3.65549,-1.06189,-3.13034,-4.9...</td>\n",
       "      <td>L</td>\n",
       "      <td>6.150827</td>\n",
       "      <td>2.442211</td>\n",
       "      <td>-0.599876</td>\n",
       "      <td>168.485</td>\n",
       "      <td>67.335</td>\n",
       "      <td>235.82</td>\n",
       "      <td>-2</td>\n",
       "      <td>/home/kimlab1/database_data/biodb/recipes/prot...</td>\n",
       "      <td>/home/kimlab1/database_data/biodb/recipes/prot...</td>\n",
       "      <td></td>\n",
       "      <td>-0.404127</td>\n",
       "      <td>0,0,0,2</td>\n",
       "      <td>0,0,0,20</td>\n",
       "      <td>0,0,2,12</td>\n",
       "      <td>0,0,0,22</td>\n",
       "      <td>-0.044</td>\n",
       "      <td>T</td>\n",
       "      <td>T</td>\n",
       "      <td>14.823993</td>\n",
       "      <td>50.571489</td>\n",
       "      <td>222.788,-171.878,-102.91,-374.3,-9.05566,515.3...</td>\n",
       "      <td>222.383,-171.985,-102.32,-376.183,-8.96791,516...</td>\n",
       "      <td>4.6</td>\n",
       "    </tr>\n",
       "  </tbody>\n",
       "</table>\n",
       "</div>"
      ],
      "text/plain": [
       "   _index pdb_id pdb_chain partner_pdb_chain pdb_mutation mutation mutation_modeller  idx    idxs  alignment_coverage  alignment_identity  alignment_score                         analyse_complex_energy_mut                          analyse_complex_energy_wt chain_modeller  contact_distance_mut  contact_distance_wt       ddg  interface_area_hydrophilic  interface_area_hydrophobic  interface_area_total  matrix_score                                     model_file_mut                                      model_file_wt mutation_errors  norm_dope physchem_mut physchem_mut_ownchain physchem_wt physchem_wt_ownchain  provean_score secondary_structure_mut secondary_structure_wt  solvent_accessibility_mut  solvent_accessibility_wt                               stability_energy_mut                                stability_energy_wt  ddg_exp\n",
       "0       2   3hfm         Y              None         N93A     N93A             N307A    2  [0, 2]               100.0               100.0              1.0  43.8084,81.7971,5.04336,-1.06577,-1.71866,-4.8...  43.8147,81.7971,4.18029,-1.10015,-2.79955,-5.0...              Y              2.431894             2.431894  0.578378                     168.485                      67.335                235.82            -2  /home/kimlab1/database_data/biodb/recipes/prot...  /home/kimlab1/database_data/biodb/recipes/prot...                  -0.404127      0,0,0,9              0,0,0,17     0,0,1,9             0,0,5,21         -1.010                       H                      H                  50.884576                 49.746769  222.206,-171.387,-100.349,-375.476,-8.89289,51...  221.244,-172.095,-102.061,-376.182,-8.89289,51...      0.6\n",
       "1       3   3hfm         L              None         Y50A     Y50A              Y50A    0  [0, 2]               100.0               100.0              1.0  81.7939,45.0529,2.99454,-0.969862,-3.70889,-4....  81.7647,45.0424,3.65549,-1.06189,-3.13034,-4.9...              L              6.150827             2.442211 -0.599876                     168.485                      67.335                235.82            -2  /home/kimlab1/database_data/biodb/recipes/prot...  /home/kimlab1/database_data/biodb/recipes/prot...                  -0.404127      0,0,0,2              0,0,0,20    0,0,2,12             0,0,0,22         -0.044                       T                      T                  14.823993                 50.571489  222.788,-171.878,-102.91,-374.3,-9.05566,515.3...  222.383,-171.985,-102.32,-376.183,-8.96791,516...      4.6"
      ]
     },
     "metadata": {},
     "output_type": "display_data"
    },
    {
     "name": "stdout",
     "output_type": "stream",
     "text": [
      "103\n"
     ]
    }
   ],
   "source": [
    "display(kortemme_baker_results.head(2))\n",
    "print(kortemme_baker_results.shape[0])"
   ]
  },
  {
   "cell_type": "code",
   "execution_count": 9,
   "metadata": {
    "collapsed": true,
    "hidden": true
   },
   "outputs": [],
   "source": [
    "kortemme_baker_results['alignment_identity'] = kortemme_baker_results['alignment_identity'] / 100\n",
    "kortemme_baker_results['alignment_coverage'] = kortemme_baker_results['alignment_coverage'] / 100\n",
    "kortemme_baker_results['alignment_score'] = kortemme_baker_results['alignment_score'] / 100"
   ]
  },
  {
   "cell_type": "code",
   "execution_count": 10,
   "metadata": {
    "collapsed": true,
    "hidden": true
   },
   "outputs": [],
   "source": [
    "_before = kortemme_baker_results.shape[0]\n",
    "kortemme_baker_results = (\n",
    "    kortemme_baker_results\n",
    "    .merge(\n",
    "        INPUT_DF[INPUT_DF['dataset'] == 'kortemme_baker'], \n",
    "        on=['pdb_id', 'pdb_chain', 'partner_pdb_chain', 'pdb_mutation', 'ddg_exp'])\n",
    ")\n",
    "_after = kortemme_baker_results.shape[0]\n",
    "assert _before == _after, (_before, _after)"
   ]
  },
  {
   "cell_type": "code",
   "execution_count": 11,
   "metadata": {
    "collapsed": true,
    "hidden": true
   },
   "outputs": [],
   "source": [
    "kortemme_baker_results = elaspic.elaspic_predictor.format_mutation_features(kortemme_baker_results)\n",
    "kortemme_baker_results = elaspic.elaspic_predictor.convert_features_to_differences(kortemme_baker_results)"
   ]
  },
  {
   "cell_type": "code",
   "execution_count": 12,
   "metadata": {
    "collapsed": true,
    "hidden": true
   },
   "outputs": [],
   "source": [
    "DATA['kortemme_baker'] = kortemme_baker_results.copy()"
   ]
  },
  {
   "cell_type": "markdown",
   "metadata": {
    "heading_collapsed": true,
    "level": 2
   },
   "source": [
    "## skempi"
   ]
  },
  {
   "cell_type": "code",
   "execution_count": 13,
   "metadata": {
    "collapsed": false,
    "hidden": true
   },
   "outputs": [
    {
     "data": {
      "text/html": [
       "<style type=\"text/css\">.highlight .hll { background-color: #ffffcc }\n",
       ".highlight  { background: #f8f8f8; }\n",
       ".highlight .c { color: #408080; font-style: italic } /* Comment */\n",
       ".highlight .err { border: 1px solid #FF0000 } /* Error */\n",
       ".highlight .k { color: #008000; font-weight: bold } /* Keyword */\n",
       ".highlight .o { color: #666666 } /* Operator */\n",
       ".highlight .ch { color: #408080; font-style: italic } /* Comment.Hashbang */\n",
       ".highlight .cm { color: #408080; font-style: italic } /* Comment.Multiline */\n",
       ".highlight .cp { color: #BC7A00 } /* Comment.Preproc */\n",
       ".highlight .cpf { color: #408080; font-style: italic } /* Comment.PreprocFile */\n",
       ".highlight .c1 { color: #408080; font-style: italic } /* Comment.Single */\n",
       ".highlight .cs { color: #408080; font-style: italic } /* Comment.Special */\n",
       ".highlight .gd { color: #A00000 } /* Generic.Deleted */\n",
       ".highlight .ge { font-style: italic } /* Generic.Emph */\n",
       ".highlight .gr { color: #FF0000 } /* Generic.Error */\n",
       ".highlight .gh { color: #000080; font-weight: bold } /* Generic.Heading */\n",
       ".highlight .gi { color: #00A000 } /* Generic.Inserted */\n",
       ".highlight .go { color: #888888 } /* Generic.Output */\n",
       ".highlight .gp { color: #000080; font-weight: bold } /* Generic.Prompt */\n",
       ".highlight .gs { font-weight: bold } /* Generic.Strong */\n",
       ".highlight .gu { color: #800080; font-weight: bold } /* Generic.Subheading */\n",
       ".highlight .gt { color: #0044DD } /* Generic.Traceback */\n",
       ".highlight .kc { color: #008000; font-weight: bold } /* Keyword.Constant */\n",
       ".highlight .kd { color: #008000; font-weight: bold } /* Keyword.Declaration */\n",
       ".highlight .kn { color: #008000; font-weight: bold } /* Keyword.Namespace */\n",
       ".highlight .kp { color: #008000 } /* Keyword.Pseudo */\n",
       ".highlight .kr { color: #008000; font-weight: bold } /* Keyword.Reserved */\n",
       ".highlight .kt { color: #B00040 } /* Keyword.Type */\n",
       ".highlight .m { color: #666666 } /* Literal.Number */\n",
       ".highlight .s { color: #BA2121 } /* Literal.String */\n",
       ".highlight .na { color: #7D9029 } /* Name.Attribute */\n",
       ".highlight .nb { color: #008000 } /* Name.Builtin */\n",
       ".highlight .nc { color: #0000FF; font-weight: bold } /* Name.Class */\n",
       ".highlight .no { color: #880000 } /* Name.Constant */\n",
       ".highlight .nd { color: #AA22FF } /* Name.Decorator */\n",
       ".highlight .ni { color: #999999; font-weight: bold } /* Name.Entity */\n",
       ".highlight .ne { color: #D2413A; font-weight: bold } /* Name.Exception */\n",
       ".highlight .nf { color: #0000FF } /* Name.Function */\n",
       ".highlight .nl { color: #A0A000 } /* Name.Label */\n",
       ".highlight .nn { color: #0000FF; font-weight: bold } /* Name.Namespace */\n",
       ".highlight .nt { color: #008000; font-weight: bold } /* Name.Tag */\n",
       ".highlight .nv { color: #19177C } /* Name.Variable */\n",
       ".highlight .ow { color: #AA22FF; font-weight: bold } /* Operator.Word */\n",
       ".highlight .w { color: #bbbbbb } /* Text.Whitespace */\n",
       ".highlight .mb { color: #666666 } /* Literal.Number.Bin */\n",
       ".highlight .mf { color: #666666 } /* Literal.Number.Float */\n",
       ".highlight .mh { color: #666666 } /* Literal.Number.Hex */\n",
       ".highlight .mi { color: #666666 } /* Literal.Number.Integer */\n",
       ".highlight .mo { color: #666666 } /* Literal.Number.Oct */\n",
       ".highlight .sb { color: #BA2121 } /* Literal.String.Backtick */\n",
       ".highlight .sc { color: #BA2121 } /* Literal.String.Char */\n",
       ".highlight .sd { color: #BA2121; font-style: italic } /* Literal.String.Doc */\n",
       ".highlight .s2 { color: #BA2121 } /* Literal.String.Double */\n",
       ".highlight .se { color: #BB6622; font-weight: bold } /* Literal.String.Escape */\n",
       ".highlight .sh { color: #BA2121 } /* Literal.String.Heredoc */\n",
       ".highlight .si { color: #BB6688; font-weight: bold } /* Literal.String.Interpol */\n",
       ".highlight .sx { color: #008000 } /* Literal.String.Other */\n",
       ".highlight .sr { color: #BB6688 } /* Literal.String.Regex */\n",
       ".highlight .s1 { color: #BA2121 } /* Literal.String.Single */\n",
       ".highlight .ss { color: #19177C } /* Literal.String.Symbol */\n",
       ".highlight .bp { color: #008000 } /* Name.Builtin.Pseudo */\n",
       ".highlight .vc { color: #19177C } /* Name.Variable.Class */\n",
       ".highlight .vg { color: #19177C } /* Name.Variable.Global */\n",
       ".highlight .vi { color: #19177C } /* Name.Variable.Instance */\n",
       ".highlight .il { color: #666666 } /* Literal.Number.Integer.Long */</style><div class=\"highlight\"><pre><span></span><span class=\"k\">SELECT</span> <span class=\"o\">*</span>\n",
       "<span class=\"k\">FROM</span> <span class=\"n\">elaspic_training_set</span><span class=\"p\">.</span><span class=\"n\">skempi_elaspic_scores</span>\n",
       "</pre></div>\n"
      ],
      "text/plain": [
       "<IPython.core.display.HTML object>"
      ]
     },
     "metadata": {},
     "output_type": "display_data"
    }
   ],
   "source": [
    "sql_query = \"\"\"\\\n",
    "SELECT *\n",
    "FROM elaspic_training_set.skempi_elaspic_scores\n",
    "\"\"\"\n",
    "kmtools.jupyter_tools.print_sql(sql_query)\n",
    "\n",
    "skempi_standalone_results = pd.read_sql_query(sql_query, db.engine)"
   ]
  },
  {
   "cell_type": "code",
   "execution_count": 14,
   "metadata": {
    "collapsed": false,
    "hidden": true
   },
   "outputs": [
    {
     "data": {
      "text/html": [
       "<div>\n",
       "<table border=\"1\" class=\"dataframe\">\n",
       "  <thead>\n",
       "    <tr style=\"text-align: right;\">\n",
       "      <th></th>\n",
       "      <th>_index</th>\n",
       "      <th>pdb_id</th>\n",
       "      <th>pdb_chain</th>\n",
       "      <th>partner_pdb_chain</th>\n",
       "      <th>pdb_mutation</th>\n",
       "      <th>mutation</th>\n",
       "      <th>mutation_modeller</th>\n",
       "      <th>idx</th>\n",
       "      <th>idxs</th>\n",
       "      <th>alignment_coverage</th>\n",
       "      <th>alignment_identity</th>\n",
       "      <th>alignment_score</th>\n",
       "      <th>analyse_complex_energy_mut</th>\n",
       "      <th>analyse_complex_energy_wt</th>\n",
       "      <th>chain_modeller</th>\n",
       "      <th>contact_distance_mut</th>\n",
       "      <th>contact_distance_wt</th>\n",
       "      <th>ddg</th>\n",
       "      <th>interface_area_hydrophilic</th>\n",
       "      <th>interface_area_hydrophobic</th>\n",
       "      <th>interface_area_total</th>\n",
       "      <th>matrix_score</th>\n",
       "      <th>model_file_mut</th>\n",
       "      <th>model_file_wt</th>\n",
       "      <th>mutation_errors</th>\n",
       "      <th>norm_dope</th>\n",
       "      <th>physchem_mut</th>\n",
       "      <th>physchem_mut_ownchain</th>\n",
       "      <th>physchem_wt</th>\n",
       "      <th>physchem_wt_ownchain</th>\n",
       "      <th>provean_score</th>\n",
       "      <th>secondary_structure_mut</th>\n",
       "      <th>secondary_structure_wt</th>\n",
       "      <th>solvent_accessibility_mut</th>\n",
       "      <th>solvent_accessibility_wt</th>\n",
       "      <th>stability_energy_mut</th>\n",
       "      <th>stability_energy_wt</th>\n",
       "      <th>ddg_exp</th>\n",
       "    </tr>\n",
       "  </thead>\n",
       "  <tbody>\n",
       "    <tr>\n",
       "      <th>0</th>\n",
       "      <td>1</td>\n",
       "      <td>1gc1</td>\n",
       "      <td>C</td>\n",
       "      <td>G</td>\n",
       "      <td>S42A</td>\n",
       "      <td>S42A</td>\n",
       "      <td>S339A</td>\n",
       "      <td>1</td>\n",
       "      <td>[0, 1]</td>\n",
       "      <td>100.0</td>\n",
       "      <td>100.0</td>\n",
       "      <td>1.0</td>\n",
       "      <td>41.9659,131.714,-6.54501,-4.0065,-7.56168,-18....</td>\n",
       "      <td>41.9676,131.714,-4.85885,-4.0074,-7.59593,-18....</td>\n",
       "      <td>C</td>\n",
       "      <td>2.93074</td>\n",
       "      <td>2.101380</td>\n",
       "      <td>-1.041795</td>\n",
       "      <td>256.830</td>\n",
       "      <td>430.72</td>\n",
       "      <td>687.56</td>\n",
       "      <td>1</td>\n",
       "      <td>/home/kimlab1/database_data/biodb/recipes/prot...</td>\n",
       "      <td>/home/kimlab1/database_data/biodb/recipes/prot...</td>\n",
       "      <td></td>\n",
       "      <td>-0.199640</td>\n",
       "      <td>0,0,0,20</td>\n",
       "      <td>0,0,0,14</td>\n",
       "      <td>0,0,4,20</td>\n",
       "      <td>0,0,1,14</td>\n",
       "      <td>-2.190</td>\n",
       "      <td>T</td>\n",
       "      <td>T</td>\n",
       "      <td>64.068365</td>\n",
       "      <td>61.981030</td>\n",
       "      <td>245.555,-255.403,-135.516,-553.462,-18.2303,74...</td>\n",
       "      <td>246.905,-255.404,-136.813,-553.727,-18.2333,74...</td>\n",
       "      <td>0.000000</td>\n",
       "    </tr>\n",
       "    <tr>\n",
       "      <th>1</th>\n",
       "      <td>2</td>\n",
       "      <td>2j0t</td>\n",
       "      <td>D</td>\n",
       "      <td>A</td>\n",
       "      <td>T2A</td>\n",
       "      <td>T2A</td>\n",
       "      <td>T163A</td>\n",
       "      <td>3</td>\n",
       "      <td>[0, 3]</td>\n",
       "      <td>100.0</td>\n",
       "      <td>100.0</td>\n",
       "      <td>1.0</td>\n",
       "      <td>31.5418,34.1706,-5.647,-7.83505,-2.13059,-13.6...</td>\n",
       "      <td>31.5419,34.1706,-4.7865,-7.8758,-2.64543,-14.2...</td>\n",
       "      <td>D</td>\n",
       "      <td>2.88516</td>\n",
       "      <td>2.178801</td>\n",
       "      <td>2.761585</td>\n",
       "      <td>189.175</td>\n",
       "      <td>290.78</td>\n",
       "      <td>479.96</td>\n",
       "      <td>0</td>\n",
       "      <td>/home/kimlab1/database_data/biodb/recipes/prot...</td>\n",
       "      <td>/home/kimlab1/database_data/biodb/recipes/prot...</td>\n",
       "      <td></td>\n",
       "      <td>-1.043686</td>\n",
       "      <td>0,0,0,31</td>\n",
       "      <td>0,0,0,5</td>\n",
       "      <td>0,0,1,36</td>\n",
       "      <td>0,0,1,5</td>\n",
       "      <td>-1.344</td>\n",
       "      <td>E</td>\n",
       "      <td>E</td>\n",
       "      <td>99.383511</td>\n",
       "      <td>103.129533</td>\n",
       "      <td>111.667,-155.965,-79.502,-323.272,-7.41946,448...</td>\n",
       "      <td>112.14,-156.006,-80.0168,-323.921,-7.41946,449...</td>\n",
       "      <td>4.387813</td>\n",
       "    </tr>\n",
       "  </tbody>\n",
       "</table>\n",
       "</div>"
      ],
      "text/plain": [
       "   _index pdb_id pdb_chain partner_pdb_chain pdb_mutation mutation mutation_modeller  idx    idxs  alignment_coverage  alignment_identity  alignment_score                         analyse_complex_energy_mut                          analyse_complex_energy_wt chain_modeller  contact_distance_mut  contact_distance_wt       ddg  interface_area_hydrophilic  interface_area_hydrophobic  interface_area_total  matrix_score                                     model_file_mut                                      model_file_wt mutation_errors  norm_dope physchem_mut physchem_mut_ownchain physchem_wt physchem_wt_ownchain  provean_score secondary_structure_mut secondary_structure_wt  solvent_accessibility_mut  solvent_accessibility_wt                               stability_energy_mut                                stability_energy_wt   ddg_exp\n",
       "0       1   1gc1         C                 G         S42A     S42A             S339A    1  [0, 1]               100.0               100.0              1.0  41.9659,131.714,-6.54501,-4.0065,-7.56168,-18....  41.9676,131.714,-4.85885,-4.0074,-7.59593,-18....              C               2.93074             2.101380 -1.041795                     256.830                      430.72                687.56             1  /home/kimlab1/database_data/biodb/recipes/prot...  /home/kimlab1/database_data/biodb/recipes/prot...                  -0.199640     0,0,0,20              0,0,0,14    0,0,4,20             0,0,1,14         -2.190                       T                      T                  64.068365                 61.981030  245.555,-255.403,-135.516,-553.462,-18.2303,74...  246.905,-255.404,-136.813,-553.727,-18.2333,74...  0.000000\n",
       "1       2   2j0t         D                 A          T2A      T2A             T163A    3  [0, 3]               100.0               100.0              1.0  31.5418,34.1706,-5.647,-7.83505,-2.13059,-13.6...  31.5419,34.1706,-4.7865,-7.8758,-2.64543,-14.2...              D               2.88516             2.178801  2.761585                     189.175                      290.78                479.96             0  /home/kimlab1/database_data/biodb/recipes/prot...  /home/kimlab1/database_data/biodb/recipes/prot...                  -1.043686     0,0,0,31               0,0,0,5    0,0,1,36              0,0,1,5         -1.344                       E                      E                  99.383511                103.129533  111.667,-155.965,-79.502,-323.272,-7.41946,448...  112.14,-156.006,-80.0168,-323.921,-7.41946,449...  4.387813"
      ]
     },
     "metadata": {},
     "output_type": "display_data"
    },
    {
     "name": "stdout",
     "output_type": "stream",
     "text": [
      "1415\n"
     ]
    }
   ],
   "source": [
    "display(skempi_standalone_results.head(2))\n",
    "print(skempi_standalone_results.shape[0])"
   ]
  },
  {
   "cell_type": "code",
   "execution_count": 15,
   "metadata": {
    "collapsed": true,
    "hidden": true
   },
   "outputs": [],
   "source": [
    "skempi_standalone_results['alignment_identity'] = skempi_standalone_results['alignment_identity'] / 100\n",
    "skempi_standalone_results['alignment_coverage'] = skempi_standalone_results['alignment_coverage'] / 100\n",
    "skempi_standalone_results['alignment_score'] = skempi_standalone_results['alignment_score'] / 100"
   ]
  },
  {
   "cell_type": "code",
   "execution_count": 16,
   "metadata": {
    "collapsed": true,
    "hidden": true
   },
   "outputs": [],
   "source": [
    "_before = skempi_standalone_results.shape[0]\n",
    "skempi_standalone_results = (\n",
    "    skempi_standalone_results\n",
    "    .merge(\n",
    "        INPUT_DF[INPUT_DF['dataset'] == 'skempi'], \n",
    "        on=['pdb_id', 'pdb_chain', 'partner_pdb_chain', 'pdb_mutation', 'ddg_exp'])\n",
    ")\n",
    "_after = skempi_standalone_results.shape[0]\n",
    "assert _before == _after, (_before, _after)"
   ]
  },
  {
   "cell_type": "code",
   "execution_count": 17,
   "metadata": {
    "collapsed": false,
    "hidden": true
   },
   "outputs": [],
   "source": [
    "skempi_standalone_results = elaspic.elaspic_predictor.format_mutation_features(skempi_standalone_results)\n",
    "skempi_standalone_results = elaspic.elaspic_predictor.convert_features_to_differences(skempi_standalone_results)"
   ]
  },
  {
   "cell_type": "code",
   "execution_count": 18,
   "metadata": {
    "collapsed": true,
    "hidden": true
   },
   "outputs": [],
   "source": [
    "DATA['skempi'] = skempi_standalone_results.copy()"
   ]
  },
  {
   "cell_type": "markdown",
   "metadata": {
    "level": 2
   },
   "source": [
    "## database"
   ]
  },
  {
   "cell_type": "code",
   "execution_count": 19,
   "metadata": {
    "collapsed": false
   },
   "outputs": [
    {
     "data": {
      "text/html": [
       "<style type=\"text/css\">.highlight .hll { background-color: #ffffcc }\n",
       ".highlight  { background: #f8f8f8; }\n",
       ".highlight .c { color: #408080; font-style: italic } /* Comment */\n",
       ".highlight .err { border: 1px solid #FF0000 } /* Error */\n",
       ".highlight .k { color: #008000; font-weight: bold } /* Keyword */\n",
       ".highlight .o { color: #666666 } /* Operator */\n",
       ".highlight .ch { color: #408080; font-style: italic } /* Comment.Hashbang */\n",
       ".highlight .cm { color: #408080; font-style: italic } /* Comment.Multiline */\n",
       ".highlight .cp { color: #BC7A00 } /* Comment.Preproc */\n",
       ".highlight .cpf { color: #408080; font-style: italic } /* Comment.PreprocFile */\n",
       ".highlight .c1 { color: #408080; font-style: italic } /* Comment.Single */\n",
       ".highlight .cs { color: #408080; font-style: italic } /* Comment.Special */\n",
       ".highlight .gd { color: #A00000 } /* Generic.Deleted */\n",
       ".highlight .ge { font-style: italic } /* Generic.Emph */\n",
       ".highlight .gr { color: #FF0000 } /* Generic.Error */\n",
       ".highlight .gh { color: #000080; font-weight: bold } /* Generic.Heading */\n",
       ".highlight .gi { color: #00A000 } /* Generic.Inserted */\n",
       ".highlight .go { color: #888888 } /* Generic.Output */\n",
       ".highlight .gp { color: #000080; font-weight: bold } /* Generic.Prompt */\n",
       ".highlight .gs { font-weight: bold } /* Generic.Strong */\n",
       ".highlight .gu { color: #800080; font-weight: bold } /* Generic.Subheading */\n",
       ".highlight .gt { color: #0044DD } /* Generic.Traceback */\n",
       ".highlight .kc { color: #008000; font-weight: bold } /* Keyword.Constant */\n",
       ".highlight .kd { color: #008000; font-weight: bold } /* Keyword.Declaration */\n",
       ".highlight .kn { color: #008000; font-weight: bold } /* Keyword.Namespace */\n",
       ".highlight .kp { color: #008000 } /* Keyword.Pseudo */\n",
       ".highlight .kr { color: #008000; font-weight: bold } /* Keyword.Reserved */\n",
       ".highlight .kt { color: #B00040 } /* Keyword.Type */\n",
       ".highlight .m { color: #666666 } /* Literal.Number */\n",
       ".highlight .s { color: #BA2121 } /* Literal.String */\n",
       ".highlight .na { color: #7D9029 } /* Name.Attribute */\n",
       ".highlight .nb { color: #008000 } /* Name.Builtin */\n",
       ".highlight .nc { color: #0000FF; font-weight: bold } /* Name.Class */\n",
       ".highlight .no { color: #880000 } /* Name.Constant */\n",
       ".highlight .nd { color: #AA22FF } /* Name.Decorator */\n",
       ".highlight .ni { color: #999999; font-weight: bold } /* Name.Entity */\n",
       ".highlight .ne { color: #D2413A; font-weight: bold } /* Name.Exception */\n",
       ".highlight .nf { color: #0000FF } /* Name.Function */\n",
       ".highlight .nl { color: #A0A000 } /* Name.Label */\n",
       ".highlight .nn { color: #0000FF; font-weight: bold } /* Name.Namespace */\n",
       ".highlight .nt { color: #008000; font-weight: bold } /* Name.Tag */\n",
       ".highlight .nv { color: #19177C } /* Name.Variable */\n",
       ".highlight .ow { color: #AA22FF; font-weight: bold } /* Operator.Word */\n",
       ".highlight .w { color: #bbbbbb } /* Text.Whitespace */\n",
       ".highlight .mb { color: #666666 } /* Literal.Number.Bin */\n",
       ".highlight .mf { color: #666666 } /* Literal.Number.Float */\n",
       ".highlight .mh { color: #666666 } /* Literal.Number.Hex */\n",
       ".highlight .mi { color: #666666 } /* Literal.Number.Integer */\n",
       ".highlight .mo { color: #666666 } /* Literal.Number.Oct */\n",
       ".highlight .sb { color: #BA2121 } /* Literal.String.Backtick */\n",
       ".highlight .sc { color: #BA2121 } /* Literal.String.Char */\n",
       ".highlight .sd { color: #BA2121; font-style: italic } /* Literal.String.Doc */\n",
       ".highlight .s2 { color: #BA2121 } /* Literal.String.Double */\n",
       ".highlight .se { color: #BB6622; font-weight: bold } /* Literal.String.Escape */\n",
       ".highlight .sh { color: #BA2121 } /* Literal.String.Heredoc */\n",
       ".highlight .si { color: #BB6688; font-weight: bold } /* Literal.String.Interpol */\n",
       ".highlight .sx { color: #008000 } /* Literal.String.Other */\n",
       ".highlight .sr { color: #BB6688 } /* Literal.String.Regex */\n",
       ".highlight .s1 { color: #BA2121 } /* Literal.String.Single */\n",
       ".highlight .ss { color: #19177C } /* Literal.String.Symbol */\n",
       ".highlight .bp { color: #008000 } /* Name.Builtin.Pseudo */\n",
       ".highlight .vc { color: #19177C } /* Name.Variable.Class */\n",
       ".highlight .vg { color: #19177C } /* Name.Variable.Global */\n",
       ".highlight .vi { color: #19177C } /* Name.Variable.Instance */\n",
       ".highlight .il { color: #666666 } /* Literal.Number.Integer.Long */</style><div class=\"highlight\"><pre><span></span><span class=\"k\">SELECT</span> <span class=\"o\">*</span>\n",
       "<span class=\"k\">FROM</span> <span class=\"n\">elaspic_training_interface</span><span class=\"p\">.</span><span class=\"n\">uniprot_domain_pair</span>\n",
       "<span class=\"k\">JOIN</span> <span class=\"n\">elaspic_training_interface</span><span class=\"p\">.</span><span class=\"n\">uniprot_domain_pair_template</span> <span class=\"k\">USING</span> <span class=\"p\">(</span><span class=\"n\">uniprot_domain_pair_id</span><span class=\"p\">)</span>\n",
       "<span class=\"k\">JOIN</span> <span class=\"n\">elaspic_training_interface</span><span class=\"p\">.</span><span class=\"n\">uniprot_domain_pair_model</span> <span class=\"k\">USING</span> <span class=\"p\">(</span><span class=\"n\">uniprot_domain_pair_id</span><span class=\"p\">)</span>\n",
       "<span class=\"k\">JOIN</span> <span class=\"n\">elaspic_training_interface</span><span class=\"p\">.</span><span class=\"n\">uniprot_domain_pair_mutation</span> <span class=\"k\">USING</span> <span class=\"p\">(</span><span class=\"n\">uniprot_domain_pair_id</span><span class=\"p\">)</span>\n",
       "</pre></div>\n"
      ],
      "text/plain": [
       "<IPython.core.display.HTML object>"
      ]
     },
     "metadata": {},
     "output_type": "display_data"
    }
   ],
   "source": [
    "sql_query = \"\"\"\\\n",
    "SELECT *\n",
    "FROM elaspic_training_interface.uniprot_domain_pair\n",
    "JOIN elaspic_training_interface.uniprot_domain_pair_template USING (uniprot_domain_pair_id)\n",
    "JOIN elaspic_training_interface.uniprot_domain_pair_model USING (uniprot_domain_pair_id)\n",
    "JOIN elaspic_training_interface.uniprot_domain_pair_mutation USING (uniprot_domain_pair_id)\n",
    "\"\"\"\n",
    "kmtools.jupyter_tools.print_sql(sql_query)\n",
    "\n",
    "database_results = pd.read_sql_query(sql_query, db.engine)"
   ]
  },
  {
   "cell_type": "code",
   "execution_count": 20,
   "metadata": {
    "collapsed": false
   },
   "outputs": [
    {
     "data": {
      "text/html": [
       "<div>\n",
       "<table border=\"1\" class=\"dataframe\">\n",
       "  <thead>\n",
       "    <tr style=\"text-align: right;\">\n",
       "      <th></th>\n",
       "      <th>uniprot_domain_pair_id</th>\n",
       "      <th>uniprot_domain_id_1</th>\n",
       "      <th>uniprot_domain_id_2</th>\n",
       "      <th>rigids</th>\n",
       "      <th>domain_contact_ids</th>\n",
       "      <th>path_to_data</th>\n",
       "      <th>uniprot_id_1</th>\n",
       "      <th>uniprot_id_2</th>\n",
       "      <th>max_seq_identity</th>\n",
       "      <th>uniprot_domain_pair_id_old</th>\n",
       "      <th>domain_contact_id</th>\n",
       "      <th>cath_id_1</th>\n",
       "      <th>cath_id_2</th>\n",
       "      <th>identical_1</th>\n",
       "      <th>conserved_1</th>\n",
       "      <th>coverage_1</th>\n",
       "      <th>score_1</th>\n",
       "      <th>identical_if_1</th>\n",
       "      <th>conserved_if_1</th>\n",
       "      <th>coverage_if_1</th>\n",
       "      <th>score_if_1</th>\n",
       "      <th>identical_2</th>\n",
       "      <th>conserved_2</th>\n",
       "      <th>coverage_2</th>\n",
       "      <th>score_2</th>\n",
       "      <th>identical_if_2</th>\n",
       "      <th>conserved_if_2</th>\n",
       "      <th>coverage_if_2</th>\n",
       "      <th>score_if_2</th>\n",
       "      <th>score_total</th>\n",
       "      <th>score_if_total</th>\n",
       "      <th>score_overall</th>\n",
       "      <th>t_date_modified</th>\n",
       "      <th>template_errors</th>\n",
       "      <th>model_errors</th>\n",
       "      <th>alignment_filename_1</th>\n",
       "      <th>alignment_filename_2</th>\n",
       "      <th>model_filename</th>\n",
       "      <th>chain_1</th>\n",
       "      <th>chain_2</th>\n",
       "      <th>norm_dope</th>\n",
       "      <th>interface_area_hydrophobic</th>\n",
       "      <th>interface_area_hydrophilic</th>\n",
       "      <th>interface_area_total</th>\n",
       "      <th>interface_dg</th>\n",
       "      <th>interacting_aa_1</th>\n",
       "      <th>interacting_aa_2</th>\n",
       "      <th>m_date_modified</th>\n",
       "      <th>model_domain_def_1</th>\n",
       "      <th>model_domain_def_2</th>\n",
       "      <th>uniprot_id</th>\n",
       "      <th>mutation</th>\n",
       "      <th>mutation_errors</th>\n",
       "      <th>model_filename_wt</th>\n",
       "      <th>model_filename_mut</th>\n",
       "      <th>chain_modeller</th>\n",
       "      <th>mutation_modeller</th>\n",
       "      <th>analyse_complex_energy_wt</th>\n",
       "      <th>stability_energy_wt</th>\n",
       "      <th>analyse_complex_energy_mut</th>\n",
       "      <th>stability_energy_mut</th>\n",
       "      <th>physchem_wt</th>\n",
       "      <th>physchem_wt_ownchain</th>\n",
       "      <th>physchem_mut</th>\n",
       "      <th>physchem_mut_ownchain</th>\n",
       "      <th>matrix_score</th>\n",
       "      <th>secondary_structure_wt</th>\n",
       "      <th>solvent_accessibility_wt</th>\n",
       "      <th>secondary_structure_mut</th>\n",
       "      <th>solvent_accessibility_mut</th>\n",
       "      <th>contact_distance_wt</th>\n",
       "      <th>contact_distance_mut</th>\n",
       "      <th>provean_score</th>\n",
       "      <th>ddg</th>\n",
       "      <th>mut_date_modified</th>\n",
       "    </tr>\n",
       "  </thead>\n",
       "  <tbody>\n",
       "    <tr>\n",
       "      <th>0</th>\n",
       "      <td>7</td>\n",
       "      <td>85284260</td>\n",
       "      <td>117801210</td>\n",
       "      <td>None</td>\n",
       "      <td>None</td>\n",
       "      <td>training/P00/04/P00044/Cytochrom_C.9-106/perox...</td>\n",
       "      <td>P00044</td>\n",
       "      <td>P00431</td>\n",
       "      <td>60</td>\n",
       "      <td>None</td>\n",
       "      <td>None</td>\n",
       "      <td>4gedB00</td>\n",
       "      <td>4gedA00</td>\n",
       "      <td>50.51</td>\n",
       "      <td>None</td>\n",
       "      <td>90.8257</td>\n",
       "      <td>0.481235</td>\n",
       "      <td>None</td>\n",
       "      <td>None</td>\n",
       "      <td>None</td>\n",
       "      <td>None</td>\n",
       "      <td>40.68</td>\n",
       "      <td>None</td>\n",
       "      <td>88.4354</td>\n",
       "      <td>0.385985</td>\n",
       "      <td>None</td>\n",
       "      <td>None</td>\n",
       "      <td>None</td>\n",
       "      <td>None</td>\n",
       "      <td>None</td>\n",
       "      <td>None</td>\n",
       "      <td>None</td>\n",
       "      <td>None</td>\n",
       "      <td>None</td>\n",
       "      <td>None</td>\n",
       "      <td>P00044.1:109-4GEDBAB.aln</td>\n",
       "      <td>P00431.68:361-4GEDBAA.aln</td>\n",
       "      <td>P00044.1.109_P00431.68.361-4GEDBA.pdb</td>\n",
       "      <td>B</td>\n",
       "      <td>A</td>\n",
       "      <td>-0.358981</td>\n",
       "      <td>NaN</td>\n",
       "      <td>NaN</td>\n",
       "      <td>NaN</td>\n",
       "      <td>None</td>\n",
       "      <td>11,14,15,18,19,21,22,23,33,34,75,76,78,85,86,8...</td>\n",
       "      <td>100,104,105,107,108,184,185,186,187,188,257,25...</td>\n",
       "      <td>2016-08-10 13:55:08</td>\n",
       "      <td>7:106</td>\n",
       "      <td>68:350</td>\n",
       "      <td>P00044</td>\n",
       "      <td>A87G</td>\n",
       "      <td>None</td>\n",
       "      <td>P00044_A87G/P00044.7:106-P00431.68:350-A81G-wt...</td>\n",
       "      <td>P00044_A87G/P00044.7:106-P00431.68:350-A81G-mu...</td>\n",
       "      <td>B</td>\n",
       "      <td>A81G</td>\n",
       "      <td>19.278,371.334,2.28447,-1.51458,-3.44703,-9.91...</td>\n",
       "      <td>509.522,-220.208,-102.994,-466.136,-21.0207,71...</td>\n",
       "      <td>18.9668,371.334,2.0785,-1.51458,-3.44703,-9.70...</td>\n",
       "      <td>508.957,-220.208,-102.994,-465.813,-20.9664,71...</td>\n",
       "      <td>0,0,0,7</td>\n",
       "      <td>0,0,0,10</td>\n",
       "      <td>0,0,0,0</td>\n",
       "      <td>0,0,0,0</td>\n",
       "      <td>0.0</td>\n",
       "      <td>C</td>\n",
       "      <td>96.6359</td>\n",
       "      <td>C</td>\n",
       "      <td>98.4755</td>\n",
       "      <td>4.16182</td>\n",
       "      <td>4.19789</td>\n",
       "      <td>-3.865</td>\n",
       "      <td>1.06491</td>\n",
       "      <td>2016-08-10 16:48:55</td>\n",
       "    </tr>\n",
       "    <tr>\n",
       "      <th>1</th>\n",
       "      <td>7</td>\n",
       "      <td>85284260</td>\n",
       "      <td>117801210</td>\n",
       "      <td>None</td>\n",
       "      <td>None</td>\n",
       "      <td>training/P00/04/P00044/Cytochrom_C.9-106/perox...</td>\n",
       "      <td>P00044</td>\n",
       "      <td>P00431</td>\n",
       "      <td>60</td>\n",
       "      <td>None</td>\n",
       "      <td>None</td>\n",
       "      <td>4gedB00</td>\n",
       "      <td>4gedA00</td>\n",
       "      <td>50.51</td>\n",
       "      <td>None</td>\n",
       "      <td>90.8257</td>\n",
       "      <td>0.481235</td>\n",
       "      <td>None</td>\n",
       "      <td>None</td>\n",
       "      <td>None</td>\n",
       "      <td>None</td>\n",
       "      <td>40.68</td>\n",
       "      <td>None</td>\n",
       "      <td>88.4354</td>\n",
       "      <td>0.385985</td>\n",
       "      <td>None</td>\n",
       "      <td>None</td>\n",
       "      <td>None</td>\n",
       "      <td>None</td>\n",
       "      <td>None</td>\n",
       "      <td>None</td>\n",
       "      <td>None</td>\n",
       "      <td>None</td>\n",
       "      <td>None</td>\n",
       "      <td>None</td>\n",
       "      <td>P00044.1:109-4GEDBAB.aln</td>\n",
       "      <td>P00431.68:361-4GEDBAA.aln</td>\n",
       "      <td>P00044.1.109_P00431.68.361-4GEDBA.pdb</td>\n",
       "      <td>B</td>\n",
       "      <td>A</td>\n",
       "      <td>-0.358981</td>\n",
       "      <td>NaN</td>\n",
       "      <td>NaN</td>\n",
       "      <td>NaN</td>\n",
       "      <td>None</td>\n",
       "      <td>11,14,15,18,19,21,22,23,33,34,75,76,78,85,86,8...</td>\n",
       "      <td>100,104,105,107,108,184,185,186,187,188,257,25...</td>\n",
       "      <td>2016-08-10 13:55:08</td>\n",
       "      <td>7:106</td>\n",
       "      <td>68:350</td>\n",
       "      <td>P00044</td>\n",
       "      <td>K78A</td>\n",
       "      <td>None</td>\n",
       "      <td>P00044_K78A/P00044.7:106-P00431.68:350-K72A-wt...</td>\n",
       "      <td>P00044_K78A/P00044.7:106-P00431.68:350-K72A-mu...</td>\n",
       "      <td>B</td>\n",
       "      <td>K72A</td>\n",
       "      <td>19.2083,371.334,2.71861,-1.51458,-3.44703,-9.8...</td>\n",
       "      <td>509.4,-220.22,-102.994,-466.245,-20.8648,714.7...</td>\n",
       "      <td>19.2007,371.334,2.93099,-1.51458,-3.44703,-9.7...</td>\n",
       "      <td>509.503,-220.233,-102.994,-465.714,-20.7796,71...</td>\n",
       "      <td>0,0,0,3</td>\n",
       "      <td>0,0,0,16</td>\n",
       "      <td>0,0,0,1</td>\n",
       "      <td>0,0,0,14</td>\n",
       "      <td>-1.0</td>\n",
       "      <td>H</td>\n",
       "      <td>77.9007</td>\n",
       "      <td>H</td>\n",
       "      <td>60.6590</td>\n",
       "      <td>3.54828</td>\n",
       "      <td>3.83173</td>\n",
       "      <td>-5.791</td>\n",
       "      <td>1.50549</td>\n",
       "      <td>2016-08-10 19:22:36</td>\n",
       "    </tr>\n",
       "  </tbody>\n",
       "</table>\n",
       "</div>"
      ],
      "text/plain": [
       "   uniprot_domain_pair_id  uniprot_domain_id_1  uniprot_domain_id_2 rigids domain_contact_ids                                       path_to_data uniprot_id_1 uniprot_id_2  max_seq_identity uniprot_domain_pair_id_old domain_contact_id cath_id_1 cath_id_2  identical_1 conserved_1  coverage_1   score_1 identical_if_1 conserved_if_1 coverage_if_1 score_if_1  identical_2 conserved_2  coverage_2   score_2 identical_if_2 conserved_if_2 coverage_if_2 score_if_2 score_total score_if_total score_overall t_date_modified template_errors model_errors      alignment_filename_1       alignment_filename_2                         model_filename chain_1 chain_2  norm_dope  interface_area_hydrophobic  interface_area_hydrophilic  interface_area_total interface_dg                                   interacting_aa_1                                   interacting_aa_2     m_date_modified model_domain_def_1 model_domain_def_2 uniprot_id mutation mutation_errors  \\\n",
       "0                       7             85284260            117801210   None               None  training/P00/04/P00044/Cytochrom_C.9-106/perox...       P00044       P00431                60                       None              None   4gedB00   4gedA00        50.51        None     90.8257  0.481235           None           None          None       None        40.68        None     88.4354  0.385985           None           None          None       None        None           None          None            None            None         None  P00044.1:109-4GEDBAB.aln  P00431.68:361-4GEDBAA.aln  P00044.1.109_P00431.68.361-4GEDBA.pdb       B       A  -0.358981                         NaN                         NaN                   NaN         None  11,14,15,18,19,21,22,23,33,34,75,76,78,85,86,8...  100,104,105,107,108,184,185,186,187,188,257,25... 2016-08-10 13:55:08              7:106             68:350     P00044     A87G            None   \n",
       "1                       7             85284260            117801210   None               None  training/P00/04/P00044/Cytochrom_C.9-106/perox...       P00044       P00431                60                       None              None   4gedB00   4gedA00        50.51        None     90.8257  0.481235           None           None          None       None        40.68        None     88.4354  0.385985           None           None          None       None        None           None          None            None            None         None  P00044.1:109-4GEDBAB.aln  P00431.68:361-4GEDBAA.aln  P00044.1.109_P00431.68.361-4GEDBA.pdb       B       A  -0.358981                         NaN                         NaN                   NaN         None  11,14,15,18,19,21,22,23,33,34,75,76,78,85,86,8...  100,104,105,107,108,184,185,186,187,188,257,25... 2016-08-10 13:55:08              7:106             68:350     P00044     K78A            None   \n",
       "\n",
       "                                   model_filename_wt                                 model_filename_mut chain_modeller mutation_modeller                          analyse_complex_energy_wt                                stability_energy_wt                         analyse_complex_energy_mut                               stability_energy_mut physchem_wt physchem_wt_ownchain physchem_mut physchem_mut_ownchain  matrix_score secondary_structure_wt  solvent_accessibility_wt secondary_structure_mut  solvent_accessibility_mut  contact_distance_wt  contact_distance_mut  provean_score      ddg   mut_date_modified  \n",
       "0  P00044_A87G/P00044.7:106-P00431.68:350-A81G-wt...  P00044_A87G/P00044.7:106-P00431.68:350-A81G-mu...              B              A81G  19.278,371.334,2.28447,-1.51458,-3.44703,-9.91...  509.522,-220.208,-102.994,-466.136,-21.0207,71...  18.9668,371.334,2.0785,-1.51458,-3.44703,-9.70...  508.957,-220.208,-102.994,-465.813,-20.9664,71...     0,0,0,7             0,0,0,10      0,0,0,0               0,0,0,0           0.0                      C                   96.6359                       C                    98.4755              4.16182               4.19789         -3.865  1.06491 2016-08-10 16:48:55  \n",
       "1  P00044_K78A/P00044.7:106-P00431.68:350-K72A-wt...  P00044_K78A/P00044.7:106-P00431.68:350-K72A-mu...              B              K72A  19.2083,371.334,2.71861,-1.51458,-3.44703,-9.8...  509.4,-220.22,-102.994,-466.245,-20.8648,714.7...  19.2007,371.334,2.93099,-1.51458,-3.44703,-9.7...  509.503,-220.233,-102.994,-465.714,-20.7796,71...     0,0,0,3             0,0,0,16      0,0,0,1              0,0,0,14          -1.0                      H                   77.9007                       H                    60.6590              3.54828               3.83173         -5.791  1.50549 2016-08-10 19:22:36  "
      ]
     },
     "metadata": {},
     "output_type": "display_data"
    },
    {
     "name": "stdout",
     "output_type": "stream",
     "text": [
      "1893\n"
     ]
    }
   ],
   "source": [
    "display(database_results.head(2))\n",
    "print(database_results.shape[0])"
   ]
  },
  {
   "cell_type": "code",
   "execution_count": 21,
   "metadata": {
    "collapsed": true
   },
   "outputs": [],
   "source": [
    "def get_partner_uniprot_id(uniprot_id, uniprot_id_1, uniprot_id_2):\n",
    "    if uniprot_id == uniprot_id_1:\n",
    "        return uniprot_id_2\n",
    "    return uniprot_id_1\n",
    "\n",
    "\n",
    "database_results['partner_uniprot_id'] = [\n",
    "    get_partner_uniprot_id(*x) \n",
    "    for x in database_results[['uniprot_id', 'uniprot_id_1', 'uniprot_id_2']].values\n",
    "]\n",
    "\n",
    "\n",
    "database_results = database_results.drop(pd.Index(['uniprot_id_1', 'uniprot_id_2']), axis=1)\n",
    "\n",
    "\n",
    "database_results = (\n",
    "    database_results.rename(columns={'mutation': 'uniprot_mutation'})\n",
    ")"
   ]
  },
  {
   "cell_type": "code",
   "execution_count": 22,
   "metadata": {
    "collapsed": true
   },
   "outputs": [],
   "source": [
    "database_results['alignment_identity'] = (\n",
    "    database_results['identical_1'] + database_results['identical_2']) / 2 / 100.0\n",
    "database_results['alignment_coverage'] = (\n",
    "    database_results['coverage_1'] + database_results['coverage_2']) / 2 / 100.0\n",
    "database_results['alignment_score'] = (\n",
    "    database_results['score_1'] + database_results['score_2']) / 2 / 100.0"
   ]
  },
  {
   "cell_type": "code",
   "execution_count": 23,
   "metadata": {
    "collapsed": false
   },
   "outputs": [
    {
     "name": "stdout",
     "output_type": "stream",
     "text": [
      "Rows before merging:                                        1893\n",
      "Rows after merging:                                         1998\n"
     ]
    }
   ],
   "source": [
    "_before = database_results.shape[0]\n",
    "database_results = (\n",
    "    database_results\n",
    "    .merge(INPUT_DF, on=['uniprot_id', 'partner_uniprot_id', 'uniprot_mutation'])\n",
    ")\n",
    "_after = database_results.shape[0]\n",
    "\n",
    "print2(\"Rows before merging:\", _before)\n",
    "print2(\"Rows after merging:\", _after)"
   ]
  },
  {
   "cell_type": "code",
   "execution_count": 24,
   "metadata": {
    "collapsed": true
   },
   "outputs": [],
   "source": [
    "database_results = elaspic.elaspic_predictor.format_mutation_features(database_results)\n",
    "database_results = elaspic.elaspic_predictor.convert_features_to_differences(database_results)"
   ]
  },
  {
   "cell_type": "code",
   "execution_count": 25,
   "metadata": {
    "collapsed": false
   },
   "outputs": [],
   "source": [
    "DATA['skempi_database'] = database_results[database_results['dataset'] == 'skempi'].copy()\n",
    "DATA['sahni_ppi_database'] = database_results[database_results['dataset'] == 'sahni_ppi'].copy()\n",
    "DATA['sahni_gpca_database'] = database_results[database_results['dataset'] == 'sahni_gpca'].copy()\n",
    "\n",
    "assert (\n",
    "    DATA['skempi_database'].shape[0] + \n",
    "    DATA['sahni_ppi_database'].shape[0] + \n",
    "    DATA['sahni_gpca_database'].shape[0]) == database_results.shape[0]"
   ]
  },
  {
   "cell_type": "code",
   "execution_count": 50,
   "metadata": {
    "collapsed": false
   },
   "outputs": [
    {
     "data": {
      "text/plain": [
       "<matplotlib.text.Text at 0x7ffc054c15f8>"
      ]
     },
     "execution_count": 50,
     "metadata": {},
     "output_type": "execute_result"
    },
    {
     "data": {
      "image/png": "[encoded data removed]",
      "text/plain": [
       "<matplotlib.figure.Figure at 0x7ffc08a83438>"
      ]
     },
     "metadata": {},
     "output_type": "display_data"
    }
   ],
   "source": [
    "DATA['skempi_database']['alignment_identity'].hist()\n",
    "plt.xlabel(\"Alignment identity (%)\")\n",
    "plt.ylabel(\"Number of mutations\")"
   ]
  },
  {
   "cell_type": "markdown",
   "metadata": {
    "heading_collapsed": false,
    "level": 2,
    "nbpresent": {
     "id": "c4de9c2f-4c40-4cc1-833e-dd8e2b09ac45"
    }
   },
   "source": [
    "## humsavar / clinvar / cosmic"
   ]
  },
  {
   "cell_type": "markdown",
   "metadata": {},
   "source": [
    "### Load precalculated"
   ]
  },
  {
   "cell_type": "code",
   "execution_count": 27,
   "metadata": {
    "collapsed": true
   },
   "outputs": [],
   "source": [
    "with open(op.join(NOTEBOOK_NAME, 'DATA_elaspic.pkl'), 'rb') as ifh:\n",
    "    DATA_elaspic = pickle.load(ifh)"
   ]
  },
  {
   "cell_type": "code",
   "execution_count": 28,
   "metadata": {
    "collapsed": false
   },
   "outputs": [
    {
     "data": {
      "text/plain": [
       "dict_keys(['cosmic', 'humsavar', 'clinvar'])"
      ]
     },
     "execution_count": 28,
     "metadata": {},
     "output_type": "execute_result"
    }
   ],
   "source": [
    "DATA_elaspic.keys()"
   ]
  },
  {
   "cell_type": "code",
   "execution_count": 29,
   "metadata": {
    "collapsed": true
   },
   "outputs": [],
   "source": [
    "for key in DATA_elaspic:\n",
    "    df = DATA_elaspic[key]\n",
    "    df['alignment_identity'] = (df['identical_1'] + df['identical_2']) / 2\n",
    "    df['alignment_coverage'] = (df['coverage_1'] + df['coverage_2']) / 2\n",
    "    df['alignment_score'] = (df['score_1'] + df['score_2']) / 2"
   ]
  },
  {
   "cell_type": "code",
   "execution_count": 30,
   "metadata": {
    "collapsed": true
   },
   "outputs": [],
   "source": [
    "DATA.update(DATA_elaspic)"
   ]
  },
  {
   "cell_type": "code",
   "execution_count": 31,
   "metadata": {
    "collapsed": false
   },
   "outputs": [
    {
     "data": {
      "text/plain": [
       "dict_keys(['clinvar', 'sahni_gpca_database', 'kortemme_baker', 'sahni_ppi_database', 'skempi_database', 'skempi', 'cosmic', 'humsavar'])"
      ]
     },
     "execution_count": 31,
     "metadata": {},
     "output_type": "execute_result"
    }
   ],
   "source": [
    "DATA.keys()"
   ]
  },
  {
   "cell_type": "markdown",
   "metadata": {
    "heading_collapsed": true,
    "level": 3
   },
   "source": [
    "### Construct SQL query"
   ]
  },
  {
   "cell_type": "raw",
   "metadata": {
    "code_folding": [],
    "collapsed": true,
    "hidden": true
   },
   "source": [
    "# Combine experimental mutation sets with ELASPIC features\n",
    "sql_query_template = \"\"\"\\\n",
    "SELECT *\n",
    "\n",
    "FROM ({subquery}) p\n",
    "\n",
    "LEFT JOIN {uniprot_sequence_subquery}\n",
    "JOIN {elaspic_schema}.uniprot_domain_pair_mutation mut using (uniprot_id, mutation)\n",
    "JOIN {elaspic_schema}.uniprot_domain_pair_model m using (uniprot_domain_pair_id)\n",
    "JOIN {elaspic_schema}.uniprot_domain_pair_template t using (uniprot_domain_pair_id)\n",
    "JOIN {elaspic_schema}.uniprot_domain_pair d using (uniprot_domain_pair_id)\n",
    "\n",
    "WHERE (d.uniprot_domain_pair_id is NULL OR partner_uniprot_id is NULL) OR (\n",
    "    (uniprot_id = d.uniprot_id_1 AND partner_uniprot_id = d.uniprot_id_2) OR\n",
    "    (uniprot_id = d.uniprot_id_2 AND partner_uniprot_id = d.uniprot_id_1)\n",
    ")\n",
    "\"\"\""
   ]
  },
  {
   "cell_type": "raw",
   "metadata": {
    "code_folding": [],
    "collapsed": false,
    "hidden": true
   },
   "source": [
    "# subquery\n",
    "subqueries = dict()\n",
    "\n",
    "# subqueries['protein_interaction_energy'] = \"\"\"\n",
    "# SELECT\n",
    "#     -- PDB info\n",
    "#     null pdb_id,\n",
    "#     null pdb_chain,\n",
    "#     null partner_pdb_chain,\n",
    "#     null pdb_mutation,\n",
    "#     -- \n",
    "#     uniprot_id uniprot_id,\n",
    "#     partner_uniprot_id partner_uniprot_id,\n",
    "#     uniprot_mutation mutation,\n",
    "#     ddg_exp,\n",
    "#     null del_score_exp,\n",
    "#     null del_class_exp\n",
    "# FROM protein_interaction_energy.{table_name}\n",
    "# WHERE ddg_exp is not null  -- remove mutations with no experimental ddG\n",
    "# -- AND (uniprot_mutation REGEXP '^[A-Za-z][0-9]+[A-Za-z]$')  -- remove weird mutations\n",
    "# -- AND (SUBSTRING(uniprot_mutation, 1, 1) != SUBSTRING(uniprot_mutation, -1))  -- remove synonymous mutations\n",
    "# \"\"\"\n",
    "\n",
    "\n",
    "subqueries['humsavar'] = \"\"\"\n",
    "SELECT\n",
    "    -- PDB info\n",
    "    null pdb_id,\n",
    "    null pdb_chain,\n",
    "    null partner_pdb_chain,\n",
    "    null pdb_mutation,\n",
    "    -- \n",
    "    uniprot_id uniprot_id,\n",
    "    null partner_uniprot_id,\n",
    "    uniprot_mutation mutation,\n",
    "    null ddg_exp,\n",
    "    null del_score_exp,\n",
    "    CASE type_of_variant WHEN 'Polymorphism' THEN 0 WHEN 'Disease' then 1 ELSE NULL END del_class_exp\n",
    "FROM uniprot.humsavar\n",
    "WHERE type_of_variant = 'Polymorphism' OR type_of_variant = 'Disease'\n",
    "\"\"\"\n",
    "\n",
    "\n",
    "subqueries['clinvar'] = \"\"\"\n",
    "SELECT\n",
    "    -- PDB info\n",
    "    null pdb_id,\n",
    "    null pdb_chain,\n",
    "    null partner_pdb_chain,\n",
    "    null pdb_mutation,\n",
    "    -- \n",
    "    v.mutationassessor_uniprotid uniprot_name,\n",
    "    null partner_uniprot_id,\n",
    "    v.mutationassessor_variant mutation,\n",
    "    null ddg_exp,\n",
    "    v.mutationassessor_score del_score_exp,\n",
    "    0 del_class_exp\n",
    "FROM clinvar_local.clinvar_benign c\n",
    "JOIN dbnsfp.variant v ON (c.id = v.rs_dbsnp146)\n",
    "WHERE v.mutationassessor_uniprotid IS NOT NULL AND v.mutationassessor_variant IS NOT NULL\n",
    "\n",
    "    UNION ALL\n",
    "\n",
    "SELECT \n",
    "    -- PDB info\n",
    "    null pdb_id,\n",
    "    null pdb_chain,\n",
    "    null partner_pdb_chain,\n",
    "    null pdb_mutation,\n",
    "    -- \n",
    "    v.mutationassessor_uniprotid uniprot_name,\n",
    "    null partner_uniprot_id,\n",
    "    v.mutationassessor_variant mutation,\n",
    "    null ddg_exp,\n",
    "    v.mutationassessor_score del_score_exp,\n",
    "    1 del_class_exp\n",
    "FROM clinvar_local.clinvar c\n",
    "JOIN dbnsfp.variant v ON (c.id = v.rs_dbsnp146)\n",
    "WHERE v.mutationassessor_uniprotid IS NOT NULL AND v.mutationassessor_variant IS NOT NULL\n",
    "\"\"\"\n",
    "\n",
    "\n",
    "subqueries['cosmic'] = \"\"\"\n",
    "SELECT \n",
    "    -- PDB info\n",
    "    null pdb_id,\n",
    "    null pdb_chain,\n",
    "    null partner_pdb_chain,\n",
    "    null pdb_mutation,\n",
    "    -- \n",
    "    v.mutationassessor_uniprotid uniprot_name,\n",
    "    null partner_uniprot_id,\n",
    "    v.mutationassessor_variant mutation,\n",
    "    NULL ddg_exp,\n",
    "    cme.fathmm_score del_score_exp,\n",
    "    CASE cme.fathmm_prediction WHEN 'NEUTRAL' THEN 0 WHEN 'PATHOGENIC' THEN 1 ELSE NULL END del_class_exp\n",
    "FROM cosmic_new.cosmic_coding_muts ccm \n",
    "JOIN cosmic_new.cosmic_mutant_export cme ON (cme.mutation_id = ccm.id)\n",
    "JOIN dbnsfp.variant v ON (ccm.chrom = v.chr AND ccm.pos = v.pos_1based AND ccm.ref = v.ref AND ccm.alt = v.alt)\n",
    "WHERE cme.fathmm_score IS NOT NULL AND cme.fathmm_prediction IS NOT NULL\n",
    "\"\"\"\n",
    "\n",
    "\n",
    "assert not any((';' in v) for v in subqueries.values())"
   ]
  },
  {
   "cell_type": "raw",
   "metadata": {
    "code_folding": [],
    "collapsed": false,
    "hidden": true
   },
   "source": [
    "# Functions\n",
    "def load_dataset(table_name, elaspic_schema, engine=None):\n",
    "    \"\"\"\n",
    "    \"\"\"\n",
    "    if engine is None:\n",
    "        engine = sa.create_engine(os.environ['DATAPKG_CONNECTION_STR'] + '/elaspic')\n",
    "\n",
    "    # Create sql query\n",
    "    if table_name in ['humsavar', 'clinvar', 'cosmic']:\n",
    "        subquery = subqueries[table_name]\n",
    "    else:\n",
    "        subquery = subqueries['protein_interaction_energy'].format(table_name=table_name)\n",
    "\n",
    "    if table_name in ['clinvar', 'cosmic']:\n",
    "        # Do not join on a table with splice variants if using `uniprot_name`\n",
    "        uniprot_sequence_subquery = \"\"\"\\\n",
    "(SELECT uniprot_acc uniprot_id, uniprot_id uniprot_name, uniprot_sequence \n",
    " FROM uniprot_kb_proteomes.UP000005640_9606_fasta) us USING (uniprot_name) \\\n",
    "\"\"\"\n",
    "    else:\n",
    "        uniprot_sequence_subquery = \"\"\"\\\n",
    "uniprot_kb.uniprot_sequence us USING (uniprot_id) \\\n",
    "\"\"\"\n",
    "\n",
    "    sql_query = sql_query_template.format(\n",
    "            elaspic_schema=elaspic_schema,\n",
    "            subquery=subquery, \n",
    "            uniprot_sequence_subquery=uniprot_sequence_subquery)\n",
    "\n",
    "#     cache_file = op.join(NOTEBOOK_NAME, table_name + '.tsv.gz')\n",
    "#     if op.isfile(cache_file):\n",
    "#         logger.info(\"Reading cache file '{}'...\".format(cache_file))\n",
    "#         sql_query += ' LIMIT 0'\n",
    "#         df_header = pd.read_sql_query(sql_query, engine)\n",
    "#         df = pd.read_csv(cache_file, sep='\\t', na_values=['\\\\N'], names=df_header.columns)\n",
    "#     else:\n",
    "    df = pd.read_sql_query(sql_query, engine)\n",
    "    \n",
    "    # Read sql query\n",
    "    df = df.rename(columns={'mutation': 'uniprot_mutation'})\n",
    "    # df = ascommon.df_tools.remove_duplicate_columns(df)\n",
    "    print(\"{} [{}]: ({})\".format(table_name, elaspic_schema, df.shape[0]))\n",
    "    \n",
    "    # === All these rules could be converted to SQL... ===\n",
    "    # Remove rows with null mutations\n",
    "    null_mutants_ = (df['uniprot_mutation'].isnull()) | (df['uniprot_mutation'] == '-')\n",
    "    print(\"Removing {} null mutants...\".format(null_mutants_.sum()))\n",
    "    df = df[~null_mutants_]\n",
    "\n",
    "    # Remove SIFTS errors\n",
    "    sifts_errors_ = df['uniprot_mutation'] == '?'\n",
    "    print(\"Removing {} sifts errors...\".format(sifts_errors_.sum()))\n",
    "    df = df[~sifts_errors_]\n",
    "\n",
    "    # Remove rows with weird mutations\n",
    "    multi_mutants_ = df['uniprot_mutation'].str.contains(',')\n",
    "    print(\"Removing {} multi mutants...\".format(multi_mutants_.sum()))\n",
    "    df = df[~multi_mutants_]\n",
    "\n",
    "    # Remove wild-type rows\n",
    "    wild_ = (df['uniprot_mutation'].str.lower() == 'wild')\n",
    "    print(\"Removing {} wild mutants...\".format(wild_.sum()))\n",
    "    df = df[~wild_]\n",
    "\n",
    "    # Remove synonymous mutations\n",
    "    synonymous_ = df['uniprot_mutation'].str[0] == df['uniprot_mutation'].str[-1]\n",
    "    print(\"Removing {} synonymous mutants...\".format(synonymous_.sum()))\n",
    "    df = df[~synonymous_]\n",
    "\n",
    "    # Remove sequence mismatch mutations\n",
    "    mutation_matches_sequence_ = (\n",
    "        df[['uniprot_mutation', 'uniprot_sequence']]\n",
    "        .apply(lambda x: ascommon.sequence_tools.mutation_matches_sequence(*x), axis=1)\n",
    "    )\n",
    "    mutation_matches_sequence_ = mutation_matches_sequence_.fillna(False)\n",
    "    print(\"Removing {} mutations not matching sequence...\".format((~mutation_matches_sequence_).sum()))\n",
    "    df = df[mutation_matches_sequence_]\n",
    "\n",
    "    # Convert ELASPIC features to expected format\n",
    "    shape_before = df.shape[0]\n",
    "    df = elaspic.elaspic_predictor.format_mutation_features(df)\n",
    "    df = elaspic.elaspic_predictor.convert_features_to_differences(df)\n",
    "    shape_after = df.shape[0]\n",
    "    assert shape_before == shape_after\n",
    "    \n",
    "    # DONE!\n",
    "    print('-' * 80, flush=True)\n",
    "    return df"
   ]
  },
  {
   "cell_type": "markdown",
   "metadata": {
    "heading_collapsed": true,
    "level": 3,
    "nbpresent": {
     "id": "34015671-9408-468b-b8e7-19d6e94ddd69"
    }
   },
   "source": [
    "### Run SQL query"
   ]
  },
  {
   "cell_type": "raw",
   "metadata": {
    "collapsed": true,
    "hidden": true
   },
   "source": [
    "os.makedirs(NOTEBOOK_NAME, exist_ok=True)"
   ]
  },
  {
   "cell_type": "raw",
   "metadata": {
    "collapsed": true,
    "hidden": true
   },
   "source": [
    "logger.setLevel(logging.DEBUG)"
   ]
  },
  {
   "cell_type": "raw",
   "metadata": {
    "collapsed": false,
    "hidden": true,
    "scrolled": false
   },
   "source": [
    "# DATA = {}\n",
    "params = []\n",
    "for table_name in ['humsavar', 'clinvar', 'cosmic']:\n",
    "    params.append((table_name, table_name, 'elaspic'))\n",
    "\n",
    "# Get data from database\n",
    "results = []\n",
    "for param in params:\n",
    "    print(param)\n",
    "    result = load_dataset(*param[1:])\n",
    "    results.append(result)\n",
    "\n",
    "# Combine into one dict\n",
    "DATA = DATA.update({p[0]: r for p, r in zip(params, results)})"
   ]
  },
  {
   "cell_type": "raw",
   "metadata": {
    "collapsed": false,
    "hidden": true
   },
   "source": [
    "pprint(sorted((k, v.shape) for k, v in DATA.items()))"
   ]
  },
  {
   "cell_type": "raw",
   "metadata": {
    "collapsed": true,
    "hidden": true
   },
   "source": [
    "DATA['humsavar'] = DATA['humsavar'].drop_duplicates()\n",
    "DATA['clinvar'] = DATA['clinvar'].drop_duplicates()\n",
    "DATA['cosmic'] = DATA['cosmic'].drop_duplicates()"
   ]
  },
  {
   "cell_type": "raw",
   "metadata": {
    "collapsed": false,
    "hidden": true
   },
   "source": [
    "pprint(sorted((k, v.shape) for k, v in DATA.items()))"
   ]
  },
  {
   "cell_type": "raw",
   "metadata": {
    "hidden": true
   },
   "source": [
    "with open(op.join(NOTEBOOK_NAME, 'DATA_elaspic.pkl'), 'wb') as ofh:\n",
    "    pickle.dump(DATA, ofh, pickle.HIGHEST_PROTOCOL)"
   ]
  },
  {
   "cell_type": "markdown",
   "metadata": {
    "heading_collapsed": false,
    "level": 2
   },
   "source": [
    "## Save DATA"
   ]
  },
  {
   "cell_type": "code",
   "execution_count": 32,
   "metadata": {
    "collapsed": false,
    "nbpresent": {
     "id": "6ea4be3e-d595-43a3-962c-de9476d6b6c5"
    }
   },
   "outputs": [],
   "source": [
    "with open(op.join(NOTEBOOK_NAME, 'DATA.pkl'), 'wb') as ofh:\n",
    "    pickle.dump(DATA, ofh, pickle.HIGHEST_PROTOCOL)"
   ]
  },
  {
   "cell_type": "markdown",
   "metadata": {
    "heading_collapsed": false,
    "level": 1,
    "nbpresent": {
     "id": "719ad0f0-fcd4-430b-9f09-02de5c6a6731"
    }
   },
   "source": [
    "# DATA_DF\n",
    "\n",
    "Combine data into a DataFrame.\n",
    "\n",
    "All $\\Delta \\Delta G$ datasets go into a single \"protherm\" dataset."
   ]
  },
  {
   "cell_type": "code",
   "execution_count": 33,
   "metadata": {
    "collapsed": false,
    "nbpresent": {
     "id": "adf19395-e23e-493f-abfe-9d863c3eec8f"
    },
    "run_control": {
     "marked": false
    }
   },
   "outputs": [],
   "source": [
    "# In case of duplicates, the dataset occuring FIRST has the priority\n",
    "dataset_map = {\n",
    "    # Best sequence identity\n",
    "    ('kortemme_baker', 'skempi'),\n",
    "    ('skempi', 'skempi'),\n",
    "    ('skempi_database', 'skempi'),\n",
    "    #\n",
    "    ('sahni_ppi_database', 'sahni_ppi'),\n",
    "    ('sahni_gpca_database', 'sahni_gpca'),\n",
    "    #\n",
    "    ('humsavar', 'humsavar'),\n",
    "    ('clinvar', 'clinvar'),\n",
    "    ('cosmic', 'cosmic'),\n",
    "}\n",
    "\n",
    "\n",
    "df_list = []\n",
    "for dataset_extra, dataset in dataset_map:\n",
    "    df = DATA[dataset_extra]\n",
    "    df['dataset'] = dataset\n",
    "    df_list.append(df)\n",
    "\n",
    "DATA_DF = pd.concat(df_list, ignore_index=True)\n",
    "assert DATA_DF.shape[0] == sum(df.shape[0] for df in DATA.values())"
   ]
  },
  {
   "cell_type": "code",
   "execution_count": 34,
   "metadata": {
    "collapsed": false,
    "nbpresent": {
     "id": "000dff5f-2ec8-4dc8-a80b-023a3d6571d3"
    }
   },
   "outputs": [],
   "source": [
    "for c in ['ddg_exp', 'del_score_exp', 'del_class_exp']:\n",
    "    DATA_DF[c] = DATA_DF[c].astype(float)"
   ]
  },
  {
   "cell_type": "code",
   "execution_count": 35,
   "metadata": {
    "collapsed": false
   },
   "outputs": [
    {
     "data": {
      "text/plain": [
       "(148238, 165)"
      ]
     },
     "execution_count": 35,
     "metadata": {},
     "output_type": "execute_result"
    }
   ],
   "source": [
    "DATA_DF[(DATA_DF['alignment_identity'] > 100) | (DATA_DF['alignment_identity'] <= 1)].shape"
   ]
  },
  {
   "cell_type": "code",
   "execution_count": 36,
   "metadata": {
    "collapsed": false
   },
   "outputs": [
    {
     "data": {
      "text/plain": [
       "<matplotlib.axes._subplots.AxesSubplot at 0x7ffbf80cc518>"
      ]
     },
     "execution_count": 36,
     "metadata": {},
     "output_type": "execute_result"
    },
    {
     "data": {
      "image/png": "[encoded data removed]",
      "text/plain": [
       "<matplotlib.figure.Figure at 0x7ffbf80c9ac8>"
      ]
     },
     "metadata": {},
     "output_type": "display_data"
    }
   ],
   "source": [
    "DATA_DF['alignment_identity'].hist()"
   ]
  },
  {
   "cell_type": "code",
   "execution_count": 37,
   "metadata": {
    "collapsed": true
   },
   "outputs": [],
   "source": [
    "assert (DATA_DF['alignment_identity'] > 0.1).all()"
   ]
  },
  {
   "cell_type": "code",
   "execution_count": 38,
   "metadata": {
    "collapsed": false
   },
   "outputs": [],
   "source": [
    "# Set 'max_seq_identity' where it is missing\n",
    "DATA_DF.loc[DATA_DF['max_seq_identity'].isnull(), 'max_seq_identity'] = (\n",
    "    DATA_DF[DATA_DF['max_seq_identity'].isnull()]\n",
    "    ['alignment_identity']\n",
    "    .apply(local.get_max_seq_identity)\n",
    ")"
   ]
  },
  {
   "cell_type": "code",
   "execution_count": 39,
   "metadata": {
    "collapsed": false
   },
   "outputs": [
    {
     "data": {
      "text/html": [
       "<div>\n",
       "<table border=\"1\" class=\"dataframe\">\n",
       "  <thead>\n",
       "    <tr style=\"text-align: right;\">\n",
       "      <th></th>\n",
       "      <th>_index</th>\n",
       "      <th>alignment_coverage</th>\n",
       "      <th>alignment_filename_1</th>\n",
       "      <th>alignment_filename_2</th>\n",
       "      <th>alignment_identity</th>\n",
       "      <th>alignment_score</th>\n",
       "      <th>backbone_clash_change</th>\n",
       "      <th>backbone_clash_wt</th>\n",
       "      <th>backbone_hbond_change</th>\n",
       "      <th>backbone_hbond_wt</th>\n",
       "      <th>cath_id_1</th>\n",
       "      <th>cath_id_2</th>\n",
       "      <th>chain_1</th>\n",
       "      <th>chain_2</th>\n",
       "      <th>chain_modeller</th>\n",
       "      <th>cis_bond_change</th>\n",
       "      <th>cis_bond_wt</th>\n",
       "      <th>conserved_1</th>\n",
       "      <th>conserved_2</th>\n",
       "      <th>conserved_if_1</th>\n",
       "      <th>conserved_if_2</th>\n",
       "      <th>contact_distance_change</th>\n",
       "      <th>contact_distance_wt</th>\n",
       "      <th>coverage_1</th>\n",
       "      <th>coverage_2</th>\n",
       "      <th>coverage_if_1</th>\n",
       "      <th>coverage_if_2</th>\n",
       "      <th>dataset</th>\n",
       "      <th>db</th>\n",
       "      <th>ddg</th>\n",
       "      <th>ddg_exp</th>\n",
       "      <th>del_class_exp</th>\n",
       "      <th>del_score_exp</th>\n",
       "      <th>dg_change</th>\n",
       "      <th>dg_wt</th>\n",
       "      <th>disulfide_change</th>\n",
       "      <th>disulfide_wt</th>\n",
       "      <th>domain_contact_id</th>\n",
       "      <th>domain_contact_ids</th>\n",
       "      <th>electrostatic_kon_change</th>\n",
       "      <th>electrostatic_kon_wt</th>\n",
       "      <th>electrostatics_change</th>\n",
       "      <th>electrostatics_wt</th>\n",
       "      <th>energy_ionisation_change</th>\n",
       "      <th>energy_ionisation_wt</th>\n",
       "      <th>entropy_complex_change</th>\n",
       "      <th>entropy_complex_wt</th>\n",
       "      <th>entropy_mainchain_change</th>\n",
       "      <th>entropy_mainchain_wt</th>\n",
       "      <th>entropy_sidechain_change</th>\n",
       "      <th>entropy_sidechain_wt</th>\n",
       "      <th>gene_name</th>\n",
       "      <th>helix_dipole_change</th>\n",
       "      <th>helix_dipole_wt</th>\n",
       "      <th>id</th>\n",
       "      <th>identical_1</th>\n",
       "      <th>identical_2</th>\n",
       "      <th>identical_if_1</th>\n",
       "      <th>identical_if_2</th>\n",
       "      <th>idx</th>\n",
       "      <th>idx_x</th>\n",
       "      <th>idx_y</th>\n",
       "      <th>idxs</th>\n",
       "      <th>interacting_aa_1</th>\n",
       "      <th>interacting_aa_2</th>\n",
       "      <th>interface_area_hydrophilic</th>\n",
       "      <th>interface_area_hydrophobic</th>\n",
       "      <th>interface_area_total</th>\n",
       "      <th>interface_dg</th>\n",
       "      <th>intraclashes_energy_1_change</th>\n",
       "      <th>intraclashes_energy_1_wt</th>\n",
       "      <th>intraclashes_energy_2_change</th>\n",
       "      <th>intraclashes_energy_2_wt</th>\n",
       "      <th>m_date_modified</th>\n",
       "      <th>matrix_score</th>\n",
       "      <th>max_seq_identity</th>\n",
       "      <th>mloop_entropy_change</th>\n",
       "      <th>mloop_entropy_wt</th>\n",
       "      <th>model_domain_def_1</th>\n",
       "      <th>model_domain_def_2</th>\n",
       "      <th>model_errors</th>\n",
       "      <th>model_file_mut</th>\n",
       "      <th>model_file_wt</th>\n",
       "      <th>model_filename</th>\n",
       "      <th>model_filename_mut</th>\n",
       "      <th>model_filename_wt</th>\n",
       "      <th>mut_date_modified</th>\n",
       "      <th>mutation</th>\n",
       "      <th>mutation_errors</th>\n",
       "      <th>mutation_modeller</th>\n",
       "      <th>norm_dope</th>\n",
       "      <th>number_of_residues</th>\n",
       "      <th>organism_name</th>\n",
       "      <th>partial_covalent_bonds_change</th>\n",
       "      <th>partial_covalent_bonds_wt</th>\n",
       "      <th>partner_pdb_chain</th>\n",
       "      <th>partner_uniprot_id</th>\n",
       "      <th>path_to_data</th>\n",
       "      <th>pcv_hbond_change</th>\n",
       "      <th>pcv_hbond_self_change</th>\n",
       "      <th>pcv_hbond_self_wt</th>\n",
       "      <th>pcv_hbond_wt</th>\n",
       "      <th>pcv_salt_equal_change</th>\n",
       "      <th>pcv_salt_equal_self_change</th>\n",
       "      <th>pcv_salt_equal_self_wt</th>\n",
       "      <th>pcv_salt_equal_wt</th>\n",
       "      <th>pcv_salt_opposite_change</th>\n",
       "      <th>pcv_salt_opposite_self_change</th>\n",
       "      <th>pcv_salt_opposite_self_wt</th>\n",
       "      <th>pcv_salt_opposite_wt</th>\n",
       "      <th>pcv_vdw_change</th>\n",
       "      <th>pcv_vdw_self_change</th>\n",
       "      <th>pcv_vdw_self_wt</th>\n",
       "      <th>pcv_vdw_wt</th>\n",
       "      <th>pdb_chain</th>\n",
       "      <th>pdb_id</th>\n",
       "      <th>pdb_mutation</th>\n",
       "      <th>pfam_clan</th>\n",
       "      <th>pfam_id</th>\n",
       "      <th>protein_existence</th>\n",
       "      <th>protein_name</th>\n",
       "      <th>provean_score</th>\n",
       "      <th>rigids</th>\n",
       "      <th>score_1</th>\n",
       "      <th>score_2</th>\n",
       "      <th>score_if_1</th>\n",
       "      <th>score_if_2</th>\n",
       "      <th>score_if_total</th>\n",
       "      <th>score_overall</th>\n",
       "      <th>score_total</th>\n",
       "      <th>secondary_structure_change</th>\n",
       "      <th>secondary_structure_wt</th>\n",
       "      <th>sequence_version</th>\n",
       "      <th>sidechain_hbond_change</th>\n",
       "      <th>sidechain_hbond_wt</th>\n",
       "      <th>sloop_entropy_change</th>\n",
       "      <th>sloop_entropy_wt</th>\n",
       "      <th>solvation_hydrophobic_change</th>\n",
       "      <th>solvation_hydrophobic_wt</th>\n",
       "      <th>solvation_polar_change</th>\n",
       "      <th>solvation_polar_wt</th>\n",
       "      <th>solvent_accessibility_change</th>\n",
       "      <th>solvent_accessibility_wt</th>\n",
       "      <th>stability_energy_mut</th>\n",
       "      <th>stability_energy_wt</th>\n",
       "      <th>t_date_modified</th>\n",
       "      <th>template_errors</th>\n",
       "      <th>torsional_clash_change</th>\n",
       "      <th>torsional_clash_wt</th>\n",
       "      <th>uniprot_domain_id_1</th>\n",
       "      <th>uniprot_domain_id_2</th>\n",
       "      <th>uniprot_domain_pair_id</th>\n",
       "      <th>uniprot_domain_pair_id_old</th>\n",
       "      <th>uniprot_id</th>\n",
       "      <th>uniprot_id_1</th>\n",
       "      <th>uniprot_id_2</th>\n",
       "      <th>uniprot_mutation</th>\n",
       "      <th>uniprot_name</th>\n",
       "      <th>uniprot_sequence</th>\n",
       "      <th>van_der_waals_change</th>\n",
       "      <th>van_der_waals_clashes_change</th>\n",
       "      <th>van_der_waals_clashes_wt</th>\n",
       "      <th>van_der_waals_wt</th>\n",
       "      <th>water_bridge_change</th>\n",
       "      <th>water_bridge_wt</th>\n",
       "    </tr>\n",
       "  </thead>\n",
       "  <tbody>\n",
       "    <tr>\n",
       "      <th>0</th>\n",
       "      <td>NaN</td>\n",
       "      <td>0.585218</td>\n",
       "      <td>P61077-2_4ii2C.aln</td>\n",
       "      <td>A0AVT1_4ii2A.aln</td>\n",
       "      <td>0.67565</td>\n",
       "      <td>0.467320</td>\n",
       "      <td>0.00000</td>\n",
       "      <td>5.18729</td>\n",
       "      <td>0.00000</td>\n",
       "      <td>-1.50678</td>\n",
       "      <td>4ii2C00</td>\n",
       "      <td>4ii2A01</td>\n",
       "      <td>A</td>\n",
       "      <td>B</td>\n",
       "      <td>B</td>\n",
       "      <td>0.0</td>\n",
       "      <td>0.0</td>\n",
       "      <td>NaN</td>\n",
       "      <td>NaN</td>\n",
       "      <td>NaN</td>\n",
       "      <td>NaN</td>\n",
       "      <td>1.82745</td>\n",
       "      <td>2.56738</td>\n",
       "      <td>0.993243</td>\n",
       "      <td>0.177193</td>\n",
       "      <td>NaN</td>\n",
       "      <td>NaN</td>\n",
       "      <td>clinvar</td>\n",
       "      <td>NaN</td>\n",
       "      <td>0.412316</td>\n",
       "      <td>NaN</td>\n",
       "      <td>0.0</td>\n",
       "      <td>-0.515</td>\n",
       "      <td>0.64174</td>\n",
       "      <td>2.65109</td>\n",
       "      <td>0.0</td>\n",
       "      <td>-2.84104</td>\n",
       "      <td>158108</td>\n",
       "      <td>None</td>\n",
       "      <td>0.099415</td>\n",
       "      <td>-0.245483</td>\n",
       "      <td>0.356135</td>\n",
       "      <td>0.311951</td>\n",
       "      <td>-8.881780e-16</td>\n",
       "      <td>4.440890e-16</td>\n",
       "      <td>0.0</td>\n",
       "      <td>2.384</td>\n",
       "      <td>-0.06328</td>\n",
       "      <td>5.50945</td>\n",
       "      <td>-0.63050</td>\n",
       "      <td>14.29680</td>\n",
       "      <td>NaN</td>\n",
       "      <td>0.0</td>\n",
       "      <td>-0.008930</td>\n",
       "      <td>NaN</td>\n",
       "      <td>0.8367</td>\n",
       "      <td>0.5146</td>\n",
       "      <td>NaN</td>\n",
       "      <td>NaN</td>\n",
       "      <td>NaN</td>\n",
       "      <td>NaN</td>\n",
       "      <td>NaN</td>\n",
       "      <td>NaN</td>\n",
       "      <td>7,28,29,30,58,59,63,72,77,80,81,82,83,85,86,87...</td>\n",
       "      <td>175,178,179,180,181,182,232,277,278,294,296,29...</td>\n",
       "      <td>417.71</td>\n",
       "      <td>600.475</td>\n",
       "      <td>1018.190</td>\n",
       "      <td>None</td>\n",
       "      <td>-0.0190</td>\n",
       "      <td>565.2830</td>\n",
       "      <td>-0.0675</td>\n",
       "      <td>52.3867</td>\n",
       "      <td>2014-12-29 16:27:42</td>\n",
       "      <td>0.0</td>\n",
       "      <td>80.0</td>\n",
       "      <td>0.0</td>\n",
       "      <td>0.0</td>\n",
       "      <td>1:148</td>\n",
       "      <td>35:603</td>\n",
       "      <td>None</td>\n",
       "      <td>NaN</td>\n",
       "      <td>NaN</td>\n",
       "      <td>P61077-2_A0AVT1_4ii2CA.pdb</td>\n",
       "      <td>A0AVT1_R175H/MUT_RepairPDB_P61077-2_A0AVT1_4ii...</td>\n",
       "      <td>A0AVT1_R175H/WT_RepairPDB_P61077-2_A0AVT1_4ii2...</td>\n",
       "      <td>2015-06-11 09:42:49</td>\n",
       "      <td>NaN</td>\n",
       "      <td>None</td>\n",
       "      <td>R289H</td>\n",
       "      <td>1.348910</td>\n",
       "      <td>717.0</td>\n",
       "      <td>NaN</td>\n",
       "      <td>0.0</td>\n",
       "      <td>0.0</td>\n",
       "      <td>None</td>\n",
       "      <td>None</td>\n",
       "      <td>human/P61/07/P61077-2/UQ_con.5-141/NADP_Rossma...</td>\n",
       "      <td>0</td>\n",
       "      <td>0</td>\n",
       "      <td>0</td>\n",
       "      <td>0</td>\n",
       "      <td>0</td>\n",
       "      <td>0</td>\n",
       "      <td>0</td>\n",
       "      <td>0</td>\n",
       "      <td>0</td>\n",
       "      <td>0</td>\n",
       "      <td>0</td>\n",
       "      <td>1</td>\n",
       "      <td>0</td>\n",
       "      <td>0</td>\n",
       "      <td>15</td>\n",
       "      <td>5</td>\n",
       "      <td>None</td>\n",
       "      <td>None</td>\n",
       "      <td>None</td>\n",
       "      <td>NaN</td>\n",
       "      <td>NaN</td>\n",
       "      <td>NaN</td>\n",
       "      <td>NaN</td>\n",
       "      <td>0.713</td>\n",
       "      <td>None</td>\n",
       "      <td>0.839156</td>\n",
       "      <td>0.095484</td>\n",
       "      <td>NaN</td>\n",
       "      <td>NaN</td>\n",
       "      <td>NaN</td>\n",
       "      <td>NaN</td>\n",
       "      <td>0.080126</td>\n",
       "      <td>0</td>\n",
       "      <td>0</td>\n",
       "      <td>NaN</td>\n",
       "      <td>0.78733</td>\n",
       "      <td>-7.29439</td>\n",
       "      <td>0.0</td>\n",
       "      <td>0.0</td>\n",
       "      <td>0.1819</td>\n",
       "      <td>-26.7878</td>\n",
       "      <td>-0.2860</td>\n",
       "      <td>32.4594</td>\n",
       "      <td>-7.2137</td>\n",
       "      <td>82.4454</td>\n",
       "      <td>1405.37,-228.435,-172.404,-792.687,-21.2988,12...</td>\n",
       "      <td>1404.12,-228.455,-173.219,-793.063,-21.6583,12...</td>\n",
       "      <td>2014-12-09 06:52:02</td>\n",
       "      <td>None</td>\n",
       "      <td>-0.00376</td>\n",
       "      <td>1.750310</td>\n",
       "      <td>34974532.0</td>\n",
       "      <td>94782589.0</td>\n",
       "      <td>12298584.0</td>\n",
       "      <td>NaN</td>\n",
       "      <td>A0AVT1</td>\n",
       "      <td>P61077-2</td>\n",
       "      <td>A0AVT1</td>\n",
       "      <td>R175H</td>\n",
       "      <td>UBA6_HUMAN</td>\n",
       "      <td>MEGSEPVAAHQGEEASCSSWGTGSTNKNLPIMSTASVEIDDALYSR...</td>\n",
       "      <td>0.20100</td>\n",
       "      <td>-0.00060</td>\n",
       "      <td>4.63177</td>\n",
       "      <td>-20.00810</td>\n",
       "      <td>0.0</td>\n",
       "      <td>0.0</td>\n",
       "    </tr>\n",
       "    <tr>\n",
       "      <th>1</th>\n",
       "      <td>NaN</td>\n",
       "      <td>0.571818</td>\n",
       "      <td>P61077-3_4ii2C.aln</td>\n",
       "      <td>A0AVT1_4ii2A.aln</td>\n",
       "      <td>0.66010</td>\n",
       "      <td>0.441722</td>\n",
       "      <td>-0.33725</td>\n",
       "      <td>6.32136</td>\n",
       "      <td>1.02130</td>\n",
       "      <td>-4.05745</td>\n",
       "      <td>4ii2C00</td>\n",
       "      <td>4ii2A01</td>\n",
       "      <td>A</td>\n",
       "      <td>B</td>\n",
       "      <td>B</td>\n",
       "      <td>0.0</td>\n",
       "      <td>0.0</td>\n",
       "      <td>NaN</td>\n",
       "      <td>NaN</td>\n",
       "      <td>NaN</td>\n",
       "      <td>NaN</td>\n",
       "      <td>3.22322</td>\n",
       "      <td>2.60815</td>\n",
       "      <td>0.966443</td>\n",
       "      <td>0.177193</td>\n",
       "      <td>NaN</td>\n",
       "      <td>NaN</td>\n",
       "      <td>clinvar</td>\n",
       "      <td>NaN</td>\n",
       "      <td>-0.722656</td>\n",
       "      <td>NaN</td>\n",
       "      <td>0.0</td>\n",
       "      <td>-0.515</td>\n",
       "      <td>1.16980</td>\n",
       "      <td>12.20880</td>\n",
       "      <td>0.0</td>\n",
       "      <td>-2.89869</td>\n",
       "      <td>158108</td>\n",
       "      <td>None</td>\n",
       "      <td>0.387588</td>\n",
       "      <td>-0.822247</td>\n",
       "      <td>1.291800</td>\n",
       "      <td>-3.618980</td>\n",
       "      <td>0.000000e+00</td>\n",
       "      <td>-1.110220e-16</td>\n",
       "      <td>0.0</td>\n",
       "      <td>2.384</td>\n",
       "      <td>-0.09919</td>\n",
       "      <td>7.29403</td>\n",
       "      <td>-1.35960</td>\n",
       "      <td>17.50320</td>\n",
       "      <td>NaN</td>\n",
       "      <td>0.0</td>\n",
       "      <td>-0.337648</td>\n",
       "      <td>NaN</td>\n",
       "      <td>0.8056</td>\n",
       "      <td>0.5146</td>\n",
       "      <td>NaN</td>\n",
       "      <td>NaN</td>\n",
       "      <td>NaN</td>\n",
       "      <td>NaN</td>\n",
       "      <td>NaN</td>\n",
       "      <td>NaN</td>\n",
       "      <td>29,30,31,61,64,65,66,68,71,72,74,78,79,80,81,8...</td>\n",
       "      <td>147,148,149,150,165,175,176,177,178,184,277,27...</td>\n",
       "      <td>361.87</td>\n",
       "      <td>NaN</td>\n",
       "      <td>NaN</td>\n",
       "      <td>None</td>\n",
       "      <td>-0.2160</td>\n",
       "      <td>542.5710</td>\n",
       "      <td>0.0000</td>\n",
       "      <td>62.4214</td>\n",
       "      <td>2014-12-25 13:36:54</td>\n",
       "      <td>0.0</td>\n",
       "      <td>80.0</td>\n",
       "      <td>0.0</td>\n",
       "      <td>0.0</td>\n",
       "      <td>1:149</td>\n",
       "      <td>35:603</td>\n",
       "      <td>None</td>\n",
       "      <td>NaN</td>\n",
       "      <td>NaN</td>\n",
       "      <td>P61077-3_A0AVT1_4ii2CA.pdb</td>\n",
       "      <td>A0AVT1_R175H/MUT_RepairPDB_P61077-3_A0AVT1_4ii...</td>\n",
       "      <td>A0AVT1_R175H/WT_RepairPDB_P61077-3_A0AVT1_4ii2...</td>\n",
       "      <td>2015-06-11 10:46:22</td>\n",
       "      <td>NaN</td>\n",
       "      <td>None</td>\n",
       "      <td>R290H</td>\n",
       "      <td>1.809950</td>\n",
       "      <td>718.0</td>\n",
       "      <td>NaN</td>\n",
       "      <td>0.0</td>\n",
       "      <td>0.0</td>\n",
       "      <td>None</td>\n",
       "      <td>None</td>\n",
       "      <td>human/P61/07/P61077-3/UBC.8-143/NADP_Rossmann....</td>\n",
       "      <td>0</td>\n",
       "      <td>0</td>\n",
       "      <td>0</td>\n",
       "      <td>0</td>\n",
       "      <td>0</td>\n",
       "      <td>0</td>\n",
       "      <td>0</td>\n",
       "      <td>0</td>\n",
       "      <td>0</td>\n",
       "      <td>0</td>\n",
       "      <td>0</td>\n",
       "      <td>1</td>\n",
       "      <td>0</td>\n",
       "      <td>0</td>\n",
       "      <td>17</td>\n",
       "      <td>12</td>\n",
       "      <td>None</td>\n",
       "      <td>None</td>\n",
       "      <td>None</td>\n",
       "      <td>NaN</td>\n",
       "      <td>NaN</td>\n",
       "      <td>NaN</td>\n",
       "      <td>NaN</td>\n",
       "      <td>0.713</td>\n",
       "      <td>None</td>\n",
       "      <td>0.787960</td>\n",
       "      <td>0.095484</td>\n",
       "      <td>NaN</td>\n",
       "      <td>NaN</td>\n",
       "      <td>NaN</td>\n",
       "      <td>NaN</td>\n",
       "      <td>0.0752376</td>\n",
       "      <td>0</td>\n",
       "      <td>0</td>\n",
       "      <td>NaN</td>\n",
       "      <td>1.05880</td>\n",
       "      <td>-11.18890</td>\n",
       "      <td>0.0</td>\n",
       "      <td>0.0</td>\n",
       "      <td>0.5978</td>\n",
       "      <td>-28.4627</td>\n",
       "      <td>-2.6686</td>\n",
       "      <td>38.4674</td>\n",
       "      <td>-2.2857</td>\n",
       "      <td>71.3826</td>\n",
       "      <td>1501.3,-210.019,-151.823,-746.477,-21.9636,115...</td>\n",
       "      <td>1499.6,-211.04,-152.882,-747.536,-23.2533,1155...</td>\n",
       "      <td>2014-12-09 06:52:03</td>\n",
       "      <td>None</td>\n",
       "      <td>-0.05674</td>\n",
       "      <td>3.231470</td>\n",
       "      <td>30025442.0</td>\n",
       "      <td>94782589.0</td>\n",
       "      <td>12298587.0</td>\n",
       "      <td>NaN</td>\n",
       "      <td>A0AVT1</td>\n",
       "      <td>P61077-3</td>\n",
       "      <td>A0AVT1</td>\n",
       "      <td>R175H</td>\n",
       "      <td>UBA6_HUMAN</td>\n",
       "      <td>MEGSEPVAAHQGEEASCSSWGTGSTNKNLPIMSTASVEIDDALYSR...</td>\n",
       "      <td>1.06790</td>\n",
       "      <td>-0.07140</td>\n",
       "      <td>17.19930</td>\n",
       "      <td>-22.48400</td>\n",
       "      <td>0.0</td>\n",
       "      <td>0.0</td>\n",
       "    </tr>\n",
       "    <tr>\n",
       "      <th>2</th>\n",
       "      <td>NaN</td>\n",
       "      <td>0.562623</td>\n",
       "      <td>Q9NPD8_4ii2C.aln</td>\n",
       "      <td>A0AVT1_4ii2A.aln</td>\n",
       "      <td>0.47305</td>\n",
       "      <td>0.265759</td>\n",
       "      <td>0.00000</td>\n",
       "      <td>7.90647</td>\n",
       "      <td>0.00000</td>\n",
       "      <td>-4.20821</td>\n",
       "      <td>4ii2C00</td>\n",
       "      <td>4ii2A01</td>\n",
       "      <td>A</td>\n",
       "      <td>B</td>\n",
       "      <td>B</td>\n",
       "      <td>0.0</td>\n",
       "      <td>0.0</td>\n",
       "      <td>NaN</td>\n",
       "      <td>NaN</td>\n",
       "      <td>NaN</td>\n",
       "      <td>NaN</td>\n",
       "      <td>0.46396</td>\n",
       "      <td>8.74830</td>\n",
       "      <td>0.948052</td>\n",
       "      <td>0.177193</td>\n",
       "      <td>NaN</td>\n",
       "      <td>NaN</td>\n",
       "      <td>clinvar</td>\n",
       "      <td>NaN</td>\n",
       "      <td>0.021077</td>\n",
       "      <td>NaN</td>\n",
       "      <td>0.0</td>\n",
       "      <td>-0.515</td>\n",
       "      <td>0.06980</td>\n",
       "      <td>18.13320</td>\n",
       "      <td>0.0</td>\n",
       "      <td>0.00000</td>\n",
       "      <td>158108</td>\n",
       "      <td>None</td>\n",
       "      <td>0.063795</td>\n",
       "      <td>-0.545098</td>\n",
       "      <td>0.066940</td>\n",
       "      <td>-4.727850</td>\n",
       "      <td>0.000000e+00</td>\n",
       "      <td>4.440890e-16</td>\n",
       "      <td>0.0</td>\n",
       "      <td>2.384</td>\n",
       "      <td>0.00000</td>\n",
       "      <td>5.31006</td>\n",
       "      <td>-0.06100</td>\n",
       "      <td>14.28030</td>\n",
       "      <td>NaN</td>\n",
       "      <td>0.0</td>\n",
       "      <td>-0.098222</td>\n",
       "      <td>NaN</td>\n",
       "      <td>0.4315</td>\n",
       "      <td>0.5146</td>\n",
       "      <td>NaN</td>\n",
       "      <td>NaN</td>\n",
       "      <td>NaN</td>\n",
       "      <td>NaN</td>\n",
       "      <td>NaN</td>\n",
       "      <td>NaN</td>\n",
       "      <td>27,28,60,63,64,67,69,70,71,78,80,81,82,84,85,8...</td>\n",
       "      <td>149,153,164,175,176,177,277,278,279,293,298,30...</td>\n",
       "      <td>NaN</td>\n",
       "      <td>NaN</td>\n",
       "      <td>NaN</td>\n",
       "      <td>None</td>\n",
       "      <td>-0.2960</td>\n",
       "      <td>759.7630</td>\n",
       "      <td>0.0000</td>\n",
       "      <td>132.6660</td>\n",
       "      <td>2014-12-31 07:56:18</td>\n",
       "      <td>0.0</td>\n",
       "      <td>60.0</td>\n",
       "      <td>0.0</td>\n",
       "      <td>0.0</td>\n",
       "      <td>1:154</td>\n",
       "      <td>35:603</td>\n",
       "      <td>None</td>\n",
       "      <td>NaN</td>\n",
       "      <td>NaN</td>\n",
       "      <td>Q9NPD8_A0AVT1_4ii2CA.pdb</td>\n",
       "      <td>A0AVT1_R175H/MUT_RepairPDB_Q9NPD8_A0AVT1_4ii2C...</td>\n",
       "      <td>A0AVT1_R175H/WT_RepairPDB_Q9NPD8_A0AVT1_4ii2CA...</td>\n",
       "      <td>2015-06-11 11:49:17</td>\n",
       "      <td>NaN</td>\n",
       "      <td>None</td>\n",
       "      <td>R295H</td>\n",
       "      <td>2.268230</td>\n",
       "      <td>723.0</td>\n",
       "      <td>NaN</td>\n",
       "      <td>0.0</td>\n",
       "      <td>0.0</td>\n",
       "      <td>None</td>\n",
       "      <td>None</td>\n",
       "      <td>human/Q9N/PD/Q9NPD8/UQ_con.6-146/NADP_Rossmann...</td>\n",
       "      <td>0</td>\n",
       "      <td>0</td>\n",
       "      <td>0</td>\n",
       "      <td>0</td>\n",
       "      <td>0</td>\n",
       "      <td>0</td>\n",
       "      <td>0</td>\n",
       "      <td>0</td>\n",
       "      <td>0</td>\n",
       "      <td>0</td>\n",
       "      <td>0</td>\n",
       "      <td>0</td>\n",
       "      <td>0</td>\n",
       "      <td>0</td>\n",
       "      <td>13</td>\n",
       "      <td>0</td>\n",
       "      <td>None</td>\n",
       "      <td>None</td>\n",
       "      <td>None</td>\n",
       "      <td>NaN</td>\n",
       "      <td>NaN</td>\n",
       "      <td>NaN</td>\n",
       "      <td>NaN</td>\n",
       "      <td>0.713</td>\n",
       "      <td>None</td>\n",
       "      <td>0.436033</td>\n",
       "      <td>0.095484</td>\n",
       "      <td>NaN</td>\n",
       "      <td>NaN</td>\n",
       "      <td>NaN</td>\n",
       "      <td>NaN</td>\n",
       "      <td>0.0416341</td>\n",
       "      <td>0</td>\n",
       "      <td>0</td>\n",
       "      <td>NaN</td>\n",
       "      <td>0.00000</td>\n",
       "      <td>-9.29155</td>\n",
       "      <td>0.0</td>\n",
       "      <td>0.0</td>\n",
       "      <td>0.0000</td>\n",
       "      <td>-29.8790</td>\n",
       "      <td>0.0000</td>\n",
       "      <td>45.7736</td>\n",
       "      <td>-1.5798</td>\n",
       "      <td>92.0837</td>\n",
       "      <td>1857.62,-216.556,-164.735,-778.533,-31.5374,12...</td>\n",
       "      <td>1857.29,-216.556,-164.735,-778.719,-31.5374,12...</td>\n",
       "      <td>2014-12-09 06:52:05</td>\n",
       "      <td>None</td>\n",
       "      <td>0.00000</td>\n",
       "      <td>3.346450</td>\n",
       "      <td>49872072.0</td>\n",
       "      <td>94782589.0</td>\n",
       "      <td>12298610.0</td>\n",
       "      <td>NaN</td>\n",
       "      <td>A0AVT1</td>\n",
       "      <td>Q9NPD8</td>\n",
       "      <td>A0AVT1</td>\n",
       "      <td>R175H</td>\n",
       "      <td>UBA6_HUMAN</td>\n",
       "      <td>MEGSEPVAAHQGEEASCSSWGTGSTNKNLPIMSTASVEIDDALYSR...</td>\n",
       "      <td>0.00000</td>\n",
       "      <td>0.00000</td>\n",
       "      <td>20.34880</td>\n",
       "      <td>-24.56000</td>\n",
       "      <td>0.0</td>\n",
       "      <td>0.0</td>\n",
       "    </tr>\n",
       "    <tr>\n",
       "      <th>3</th>\n",
       "      <td>NaN</td>\n",
       "      <td>0.844351</td>\n",
       "      <td>A0AVT1_4ii2A.aln</td>\n",
       "      <td>P68036-3_4ii2C.aln</td>\n",
       "      <td>0.40410</td>\n",
       "      <td>0.365241</td>\n",
       "      <td>-0.04879</td>\n",
       "      <td>2.48267</td>\n",
       "      <td>0.45472</td>\n",
       "      <td>-4.09960</td>\n",
       "      <td>4ii2A01</td>\n",
       "      <td>4ii2C00</td>\n",
       "      <td>A</td>\n",
       "      <td>B</td>\n",
       "      <td>A</td>\n",
       "      <td>0.0</td>\n",
       "      <td>0.0</td>\n",
       "      <td>NaN</td>\n",
       "      <td>NaN</td>\n",
       "      <td>NaN</td>\n",
       "      <td>NaN</td>\n",
       "      <td>5.33148</td>\n",
       "      <td>2.97044</td>\n",
       "      <td>0.917460</td>\n",
       "      <td>0.771242</td>\n",
       "      <td>NaN</td>\n",
       "      <td>NaN</td>\n",
       "      <td>clinvar</td>\n",
       "      <td>NaN</td>\n",
       "      <td>2.338130</td>\n",
       "      <td>NaN</td>\n",
       "      <td>0.0</td>\n",
       "      <td>1.995</td>\n",
       "      <td>0.64063</td>\n",
       "      <td>-10.32370</td>\n",
       "      <td>0.0</td>\n",
       "      <td>-2.96527</td>\n",
       "      <td>158108</td>\n",
       "      <td>None</td>\n",
       "      <td>0.000000</td>\n",
       "      <td>-1.150480</td>\n",
       "      <td>-0.042030</td>\n",
       "      <td>-1.959940</td>\n",
       "      <td>0.000000e+00</td>\n",
       "      <td>4.131650e-02</td>\n",
       "      <td>0.0</td>\n",
       "      <td>2.384</td>\n",
       "      <td>0.36402</td>\n",
       "      <td>2.61666</td>\n",
       "      <td>-0.72435</td>\n",
       "      <td>10.11510</td>\n",
       "      <td>NaN</td>\n",
       "      <td>0.0</td>\n",
       "      <td>0.421225</td>\n",
       "      <td>NaN</td>\n",
       "      <td>0.3880</td>\n",
       "      <td>0.4202</td>\n",
       "      <td>NaN</td>\n",
       "      <td>NaN</td>\n",
       "      <td>NaN</td>\n",
       "      <td>NaN</td>\n",
       "      <td>NaN</td>\n",
       "      <td>NaN</td>\n",
       "      <td>615,616,617,618,624,625,628,629,630,663,665,66...</td>\n",
       "      <td>118,121,122,129,131,138,139,140,142,144,174,17...</td>\n",
       "      <td>NaN</td>\n",
       "      <td>NaN</td>\n",
       "      <td>NaN</td>\n",
       "      <td>None</td>\n",
       "      <td>-0.0250</td>\n",
       "      <td>178.4020</td>\n",
       "      <td>0.0000</td>\n",
       "      <td>64.0241</td>\n",
       "      <td>2015-04-19 23:46:50</td>\n",
       "      <td>-3.0</td>\n",
       "      <td>60.0</td>\n",
       "      <td>0.0</td>\n",
       "      <td>0.0</td>\n",
       "      <td>605:893</td>\n",
       "      <td>60:209</td>\n",
       "      <td>None</td>\n",
       "      <td>NaN</td>\n",
       "      <td>NaN</td>\n",
       "      <td>A0AVT1_P68036-3_4ii2AC.pdb</td>\n",
       "      <td>A0AVT1_Y663C/MUT_RepairPDB_A0AVT1_P68036-3_4ii...</td>\n",
       "      <td>A0AVT1_Y663C/WT_RepairPDB_A0AVT1_P68036-3_4ii2...</td>\n",
       "      <td>2015-07-01 02:36:08</td>\n",
       "      <td>NaN</td>\n",
       "      <td>None</td>\n",
       "      <td>Y59C</td>\n",
       "      <td>0.370755</td>\n",
       "      <td>441.0</td>\n",
       "      <td>NaN</td>\n",
       "      <td>0.0</td>\n",
       "      <td>0.0</td>\n",
       "      <td>None</td>\n",
       "      <td>None</td>\n",
       "      <td>human/A0A/VT/A0AVT1/UBA_e1_thiolCys+UBACT.606-...</td>\n",
       "      <td>0</td>\n",
       "      <td>0</td>\n",
       "      <td>0</td>\n",
       "      <td>1</td>\n",
       "      <td>0</td>\n",
       "      <td>0</td>\n",
       "      <td>0</td>\n",
       "      <td>0</td>\n",
       "      <td>0</td>\n",
       "      <td>0</td>\n",
       "      <td>0</td>\n",
       "      <td>0</td>\n",
       "      <td>0</td>\n",
       "      <td>0</td>\n",
       "      <td>10</td>\n",
       "      <td>4</td>\n",
       "      <td>None</td>\n",
       "      <td>None</td>\n",
       "      <td>None</td>\n",
       "      <td>NaN</td>\n",
       "      <td>NaN</td>\n",
       "      <td>NaN</td>\n",
       "      <td>NaN</td>\n",
       "      <td>-4.593</td>\n",
       "      <td>None</td>\n",
       "      <td>0.384049</td>\n",
       "      <td>0.346434</td>\n",
       "      <td>NaN</td>\n",
       "      <td>NaN</td>\n",
       "      <td>NaN</td>\n",
       "      <td>NaN</td>\n",
       "      <td>0.133048</td>\n",
       "      <td>0</td>\n",
       "      <td>0</td>\n",
       "      <td>NaN</td>\n",
       "      <td>0.45473</td>\n",
       "      <td>-4.36478</td>\n",
       "      <td>0.0</td>\n",
       "      <td>0.0</td>\n",
       "      <td>0.3270</td>\n",
       "      <td>-16.7061</td>\n",
       "      <td>-0.5557</td>\n",
       "      <td>14.9046</td>\n",
       "      <td>-6.0575</td>\n",
       "      <td>94.7992</td>\n",
       "      <td>437.988,-218.703,-122.622,-496.061,-15.8462,70...</td>\n",
       "      <td>437.682,-219.016,-122.935,-496.613,-15.8041,70...</td>\n",
       "      <td>2015-01-02 10:22:42</td>\n",
       "      <td>None</td>\n",
       "      <td>0.00000</td>\n",
       "      <td>0.548275</td>\n",
       "      <td>99287022.0</td>\n",
       "      <td>124398191.0</td>\n",
       "      <td>15313729.0</td>\n",
       "      <td>NaN</td>\n",
       "      <td>A0AVT1</td>\n",
       "      <td>A0AVT1</td>\n",
       "      <td>P68036-3</td>\n",
       "      <td>Y663C</td>\n",
       "      <td>UBA6_HUMAN</td>\n",
       "      <td>MEGSEPVAAHQGEEASCSSWGTGSTNKNLPIMSTASVEIDDALYSR...</td>\n",
       "      <td>0.36230</td>\n",
       "      <td>0.00000</td>\n",
       "      <td>1.87840</td>\n",
       "      <td>-11.98720</td>\n",
       "      <td>0.0</td>\n",
       "      <td>0.0</td>\n",
       "    </tr>\n",
       "    <tr>\n",
       "      <th>4</th>\n",
       "      <td>NaN</td>\n",
       "      <td>0.761561</td>\n",
       "      <td>A0AVT1_4ii2A.aln</td>\n",
       "      <td>P68036-3_4ii2C.aln</td>\n",
       "      <td>0.39145</td>\n",
       "      <td>0.321550</td>\n",
       "      <td>0.03426</td>\n",
       "      <td>2.22270</td>\n",
       "      <td>0.00000</td>\n",
       "      <td>-3.00194</td>\n",
       "      <td>4ii2A02</td>\n",
       "      <td>4ii2C00</td>\n",
       "      <td>A</td>\n",
       "      <td>B</td>\n",
       "      <td>A</td>\n",
       "      <td>0.0</td>\n",
       "      <td>0.0</td>\n",
       "      <td>NaN</td>\n",
       "      <td>NaN</td>\n",
       "      <td>NaN</td>\n",
       "      <td>NaN</td>\n",
       "      <td>0.00000</td>\n",
       "      <td>2.92685</td>\n",
       "      <td>0.751880</td>\n",
       "      <td>0.771242</td>\n",
       "      <td>NaN</td>\n",
       "      <td>NaN</td>\n",
       "      <td>clinvar</td>\n",
       "      <td>NaN</td>\n",
       "      <td>2.497550</td>\n",
       "      <td>NaN</td>\n",
       "      <td>0.0</td>\n",
       "      <td>1.185</td>\n",
       "      <td>-0.59965</td>\n",
       "      <td>4.85432</td>\n",
       "      <td>0.0</td>\n",
       "      <td>0.00000</td>\n",
       "      <td>158126</td>\n",
       "      <td>None</td>\n",
       "      <td>0.000000</td>\n",
       "      <td>0.226270</td>\n",
       "      <td>0.000000</td>\n",
       "      <td>0.239426</td>\n",
       "      <td>0.000000e+00</td>\n",
       "      <td>4.577450e-03</td>\n",
       "      <td>0.0</td>\n",
       "      <td>2.384</td>\n",
       "      <td>-0.44521</td>\n",
       "      <td>2.59161</td>\n",
       "      <td>0.10167</td>\n",
       "      <td>5.96633</td>\n",
       "      <td>NaN</td>\n",
       "      <td>0.0</td>\n",
       "      <td>0.642019</td>\n",
       "      <td>NaN</td>\n",
       "      <td>0.3627</td>\n",
       "      <td>0.4202</td>\n",
       "      <td>NaN</td>\n",
       "      <td>NaN</td>\n",
       "      <td>NaN</td>\n",
       "      <td>NaN</td>\n",
       "      <td>NaN</td>\n",
       "      <td>NaN</td>\n",
       "      <td>984,985,987,989,990,991,992,995,996,997,998,10...</td>\n",
       "      <td>62,64,65,67,69,70,73,84,86,87,88,89,90,91</td>\n",
       "      <td>186.89</td>\n",
       "      <td>245.735</td>\n",
       "      <td>432.625</td>\n",
       "      <td>None</td>\n",
       "      <td>-0.3263</td>\n",
       "      <td>68.5938</td>\n",
       "      <td>0.0000</td>\n",
       "      <td>38.8092</td>\n",
       "      <td>2015-06-30 23:30:56</td>\n",
       "      <td>3.0</td>\n",
       "      <td>40.0</td>\n",
       "      <td>0.0</td>\n",
       "      <td>0.0</td>\n",
       "      <td>920:1047</td>\n",
       "      <td>62:209</td>\n",
       "      <td>None</td>\n",
       "      <td>NaN</td>\n",
       "      <td>NaN</td>\n",
       "      <td>A0AVT1_P68036-3_4ii2AC.pdb</td>\n",
       "      <td>A0AVT1_V997I/MUT_RepairPDB_A0AVT1_P68036-3_4ii...</td>\n",
       "      <td>A0AVT1_V997I/WT_RepairPDB_A0AVT1_P68036-3_4ii2...</td>\n",
       "      <td>2015-07-01 04:04:38</td>\n",
       "      <td>NaN</td>\n",
       "      <td>None</td>\n",
       "      <td>V78I</td>\n",
       "      <td>0.225217</td>\n",
       "      <td>276.0</td>\n",
       "      <td>NaN</td>\n",
       "      <td>0.0</td>\n",
       "      <td>0.0</td>\n",
       "      <td>None</td>\n",
       "      <td>None</td>\n",
       "      <td>human/A0A/VT/A0AVT1/UBA_e1_C.921-1039/UQ_con.6...</td>\n",
       "      <td>0</td>\n",
       "      <td>0</td>\n",
       "      <td>0</td>\n",
       "      <td>0</td>\n",
       "      <td>0</td>\n",
       "      <td>0</td>\n",
       "      <td>0</td>\n",
       "      <td>0</td>\n",
       "      <td>0</td>\n",
       "      <td>0</td>\n",
       "      <td>0</td>\n",
       "      <td>0</td>\n",
       "      <td>0</td>\n",
       "      <td>0</td>\n",
       "      <td>13</td>\n",
       "      <td>4</td>\n",
       "      <td>None</td>\n",
       "      <td>None</td>\n",
       "      <td>None</td>\n",
       "      <td>NaN</td>\n",
       "      <td>NaN</td>\n",
       "      <td>NaN</td>\n",
       "      <td>NaN</td>\n",
       "      <td>-0.190</td>\n",
       "      <td>None</td>\n",
       "      <td>0.296665</td>\n",
       "      <td>0.346434</td>\n",
       "      <td>NaN</td>\n",
       "      <td>NaN</td>\n",
       "      <td>NaN</td>\n",
       "      <td>NaN</td>\n",
       "      <td>0.102775</td>\n",
       "      <td>0</td>\n",
       "      <td>7</td>\n",
       "      <td>NaN</td>\n",
       "      <td>0.00000</td>\n",
       "      <td>-2.81301</td>\n",
       "      <td>0.0</td>\n",
       "      <td>0.0</td>\n",
       "      <td>-0.1791</td>\n",
       "      <td>-10.0388</td>\n",
       "      <td>0.0815</td>\n",
       "      <td>10.4343</td>\n",
       "      <td>-2.8060</td>\n",
       "      <td>102.9620</td>\n",
       "      <td>169.46,-144.223,-62.0781,-293.824,-5.80997,388...</td>\n",
       "      <td>169.316,-144.223,-62.0781,-293.561,-5.80997,38...</td>\n",
       "      <td>2015-01-02 10:22:42</td>\n",
       "      <td>None</td>\n",
       "      <td>-0.00552</td>\n",
       "      <td>0.186001</td>\n",
       "      <td>99287023.0</td>\n",
       "      <td>124398191.0</td>\n",
       "      <td>15313730.0</td>\n",
       "      <td>NaN</td>\n",
       "      <td>A0AVT1</td>\n",
       "      <td>A0AVT1</td>\n",
       "      <td>P68036-3</td>\n",
       "      <td>V997I</td>\n",
       "      <td>UBA6_HUMAN</td>\n",
       "      <td>MEGSEPVAAHQGEEASCSSWGTGSTNKNLPIMSTASVEIDDALYSR...</td>\n",
       "      <td>-0.09833</td>\n",
       "      <td>-0.05467</td>\n",
       "      <td>5.57588</td>\n",
       "      <td>-7.54241</td>\n",
       "      <td>0.0</td>\n",
       "      <td>0.0</td>\n",
       "    </tr>\n",
       "  </tbody>\n",
       "</table>\n",
       "</div>"
      ],
      "text/plain": [
       "   _index  alignment_coverage alignment_filename_1 alignment_filename_2  alignment_identity  alignment_score  backbone_clash_change  backbone_clash_wt  backbone_hbond_change  backbone_hbond_wt cath_id_1 cath_id_2 chain_1 chain_2 chain_modeller  cis_bond_change  cis_bond_wt conserved_1 conserved_2 conserved_if_1 conserved_if_2  contact_distance_change  contact_distance_wt  coverage_1  coverage_2 coverage_if_1 coverage_if_2  dataset   db       ddg  ddg_exp  del_class_exp  del_score_exp  dg_change     dg_wt  disulfide_change  disulfide_wt domain_contact_id domain_contact_ids  electrostatic_kon_change  electrostatic_kon_wt  electrostatics_change  electrostatics_wt  energy_ionisation_change  energy_ionisation_wt  entropy_complex_change  entropy_complex_wt  entropy_mainchain_change  entropy_mainchain_wt  entropy_sidechain_change  entropy_sidechain_wt gene_name  helix_dipole_change  helix_dipole_wt  id  identical_1  identical_2 identical_if_1 identical_if_2  idx  idx_x  idx_y idxs  \\\n",
       "0     NaN            0.585218   P61077-2_4ii2C.aln     A0AVT1_4ii2A.aln             0.67565         0.467320                0.00000            5.18729                0.00000           -1.50678   4ii2C00   4ii2A01       A       B              B              0.0          0.0         NaN         NaN            NaN            NaN                  1.82745              2.56738    0.993243    0.177193           NaN           NaN  clinvar  NaN  0.412316      NaN            0.0         -0.515    0.64174   2.65109               0.0      -2.84104            158108               None                  0.099415             -0.245483               0.356135           0.311951             -8.881780e-16          4.440890e-16                     0.0               2.384                  -0.06328               5.50945                  -0.63050              14.29680       NaN                  0.0        -0.008930 NaN       0.8367       0.5146            NaN            NaN  NaN    NaN    NaN  NaN   \n",
       "1     NaN            0.571818   P61077-3_4ii2C.aln     A0AVT1_4ii2A.aln             0.66010         0.441722               -0.33725            6.32136                1.02130           -4.05745   4ii2C00   4ii2A01       A       B              B              0.0          0.0         NaN         NaN            NaN            NaN                  3.22322              2.60815    0.966443    0.177193           NaN           NaN  clinvar  NaN -0.722656      NaN            0.0         -0.515    1.16980  12.20880               0.0      -2.89869            158108               None                  0.387588             -0.822247               1.291800          -3.618980              0.000000e+00         -1.110220e-16                     0.0               2.384                  -0.09919               7.29403                  -1.35960              17.50320       NaN                  0.0        -0.337648 NaN       0.8056       0.5146            NaN            NaN  NaN    NaN    NaN  NaN   \n",
       "2     NaN            0.562623     Q9NPD8_4ii2C.aln     A0AVT1_4ii2A.aln             0.47305         0.265759                0.00000            7.90647                0.00000           -4.20821   4ii2C00   4ii2A01       A       B              B              0.0          0.0         NaN         NaN            NaN            NaN                  0.46396              8.74830    0.948052    0.177193           NaN           NaN  clinvar  NaN  0.021077      NaN            0.0         -0.515    0.06980  18.13320               0.0       0.00000            158108               None                  0.063795             -0.545098               0.066940          -4.727850              0.000000e+00          4.440890e-16                     0.0               2.384                   0.00000               5.31006                  -0.06100              14.28030       NaN                  0.0        -0.098222 NaN       0.4315       0.5146            NaN            NaN  NaN    NaN    NaN  NaN   \n",
       "3     NaN            0.844351     A0AVT1_4ii2A.aln   P68036-3_4ii2C.aln             0.40410         0.365241               -0.04879            2.48267                0.45472           -4.09960   4ii2A01   4ii2C00       A       B              A              0.0          0.0         NaN         NaN            NaN            NaN                  5.33148              2.97044    0.917460    0.771242           NaN           NaN  clinvar  NaN  2.338130      NaN            0.0          1.995    0.64063 -10.32370               0.0      -2.96527            158108               None                  0.000000             -1.150480              -0.042030          -1.959940              0.000000e+00          4.131650e-02                     0.0               2.384                   0.36402               2.61666                  -0.72435              10.11510       NaN                  0.0         0.421225 NaN       0.3880       0.4202            NaN            NaN  NaN    NaN    NaN  NaN   \n",
       "4     NaN            0.761561     A0AVT1_4ii2A.aln   P68036-3_4ii2C.aln             0.39145         0.321550                0.03426            2.22270                0.00000           -3.00194   4ii2A02   4ii2C00       A       B              A              0.0          0.0         NaN         NaN            NaN            NaN                  0.00000              2.92685    0.751880    0.771242           NaN           NaN  clinvar  NaN  2.497550      NaN            0.0          1.185   -0.59965   4.85432               0.0       0.00000            158126               None                  0.000000              0.226270               0.000000           0.239426              0.000000e+00          4.577450e-03                     0.0               2.384                  -0.44521               2.59161                   0.10167               5.96633       NaN                  0.0         0.642019 NaN       0.3627       0.4202            NaN            NaN  NaN    NaN    NaN  NaN   \n",
       "\n",
       "                                    interacting_aa_1                                   interacting_aa_2  interface_area_hydrophilic  interface_area_hydrophobic  interface_area_total interface_dg  intraclashes_energy_1_change  intraclashes_energy_1_wt  intraclashes_energy_2_change  intraclashes_energy_2_wt     m_date_modified  matrix_score  max_seq_identity  mloop_entropy_change  mloop_entropy_wt model_domain_def_1 model_domain_def_2 model_errors model_file_mut model_file_wt              model_filename                                 model_filename_mut                                  model_filename_wt   mut_date_modified mutation mutation_errors mutation_modeller  norm_dope  number_of_residues organism_name  partial_covalent_bonds_change  partial_covalent_bonds_wt partner_pdb_chain partner_uniprot_id                                       path_to_data  pcv_hbond_change  pcv_hbond_self_change  pcv_hbond_self_wt  pcv_hbond_wt  pcv_salt_equal_change  pcv_salt_equal_self_change  \\\n",
       "0  7,28,29,30,58,59,63,72,77,80,81,82,83,85,86,87...  175,178,179,180,181,182,232,277,278,294,296,29...                      417.71                     600.475              1018.190         None                       -0.0190                  565.2830                       -0.0675                   52.3867 2014-12-29 16:27:42           0.0              80.0                   0.0               0.0              1:148             35:603         None            NaN           NaN  P61077-2_A0AVT1_4ii2CA.pdb  A0AVT1_R175H/MUT_RepairPDB_P61077-2_A0AVT1_4ii...  A0AVT1_R175H/WT_RepairPDB_P61077-2_A0AVT1_4ii2... 2015-06-11 09:42:49      NaN            None             R289H   1.348910               717.0           NaN                            0.0                        0.0              None               None  human/P61/07/P61077-2/UQ_con.5-141/NADP_Rossma...                 0                      0                  0             0                      0                           0   \n",
       "1  29,30,31,61,64,65,66,68,71,72,74,78,79,80,81,8...  147,148,149,150,165,175,176,177,178,184,277,27...                      361.87                         NaN                   NaN         None                       -0.2160                  542.5710                        0.0000                   62.4214 2014-12-25 13:36:54           0.0              80.0                   0.0               0.0              1:149             35:603         None            NaN           NaN  P61077-3_A0AVT1_4ii2CA.pdb  A0AVT1_R175H/MUT_RepairPDB_P61077-3_A0AVT1_4ii...  A0AVT1_R175H/WT_RepairPDB_P61077-3_A0AVT1_4ii2... 2015-06-11 10:46:22      NaN            None             R290H   1.809950               718.0           NaN                            0.0                        0.0              None               None  human/P61/07/P61077-3/UBC.8-143/NADP_Rossmann....                 0                      0                  0             0                      0                           0   \n",
       "2  27,28,60,63,64,67,69,70,71,78,80,81,82,84,85,8...  149,153,164,175,176,177,277,278,279,293,298,30...                         NaN                         NaN                   NaN         None                       -0.2960                  759.7630                        0.0000                  132.6660 2014-12-31 07:56:18           0.0              60.0                   0.0               0.0              1:154             35:603         None            NaN           NaN    Q9NPD8_A0AVT1_4ii2CA.pdb  A0AVT1_R175H/MUT_RepairPDB_Q9NPD8_A0AVT1_4ii2C...  A0AVT1_R175H/WT_RepairPDB_Q9NPD8_A0AVT1_4ii2CA... 2015-06-11 11:49:17      NaN            None             R295H   2.268230               723.0           NaN                            0.0                        0.0              None               None  human/Q9N/PD/Q9NPD8/UQ_con.6-146/NADP_Rossmann...                 0                      0                  0             0                      0                           0   \n",
       "3  615,616,617,618,624,625,628,629,630,663,665,66...  118,121,122,129,131,138,139,140,142,144,174,17...                         NaN                         NaN                   NaN         None                       -0.0250                  178.4020                        0.0000                   64.0241 2015-04-19 23:46:50          -3.0              60.0                   0.0               0.0            605:893             60:209         None            NaN           NaN  A0AVT1_P68036-3_4ii2AC.pdb  A0AVT1_Y663C/MUT_RepairPDB_A0AVT1_P68036-3_4ii...  A0AVT1_Y663C/WT_RepairPDB_A0AVT1_P68036-3_4ii2... 2015-07-01 02:36:08      NaN            None              Y59C   0.370755               441.0           NaN                            0.0                        0.0              None               None  human/A0A/VT/A0AVT1/UBA_e1_thiolCys+UBACT.606-...                 0                      0                  0             1                      0                           0   \n",
       "4  984,985,987,989,990,991,992,995,996,997,998,10...          62,64,65,67,69,70,73,84,86,87,88,89,90,91                      186.89                     245.735               432.625         None                       -0.3263                   68.5938                        0.0000                   38.8092 2015-06-30 23:30:56           3.0              40.0                   0.0               0.0           920:1047             62:209         None            NaN           NaN  A0AVT1_P68036-3_4ii2AC.pdb  A0AVT1_V997I/MUT_RepairPDB_A0AVT1_P68036-3_4ii...  A0AVT1_V997I/WT_RepairPDB_A0AVT1_P68036-3_4ii2... 2015-07-01 04:04:38      NaN            None              V78I   0.225217               276.0           NaN                            0.0                        0.0              None               None  human/A0A/VT/A0AVT1/UBA_e1_C.921-1039/UQ_con.6...                 0                      0                  0             0                      0                           0   \n",
       "\n",
       "   pcv_salt_equal_self_wt  pcv_salt_equal_wt  pcv_salt_opposite_change  pcv_salt_opposite_self_change  pcv_salt_opposite_self_wt  pcv_salt_opposite_wt  pcv_vdw_change  pcv_vdw_self_change  pcv_vdw_self_wt  pcv_vdw_wt pdb_chain pdb_id pdb_mutation pfam_clan pfam_id  protein_existence protein_name  provean_score rigids   score_1   score_2 score_if_1 score_if_2 score_if_total score_overall score_total  secondary_structure_change  secondary_structure_wt  sequence_version  sidechain_hbond_change  sidechain_hbond_wt  sloop_entropy_change  sloop_entropy_wt  solvation_hydrophobic_change  solvation_hydrophobic_wt  solvation_polar_change  solvation_polar_wt  solvent_accessibility_change  solvent_accessibility_wt                               stability_energy_mut                                stability_energy_wt      t_date_modified template_errors  torsional_clash_change  torsional_clash_wt  uniprot_domain_id_1  uniprot_domain_id_2  uniprot_domain_pair_id uniprot_domain_pair_id_old  \\\n",
       "0                       0                  0                         0                              0                          0                     1               0                    0               15           5      None   None         None       NaN     NaN                NaN          NaN          0.713   None  0.839156  0.095484        NaN        NaN            NaN           NaN    0.080126                           0                       0               NaN                 0.78733            -7.29439                   0.0               0.0                        0.1819                  -26.7878                 -0.2860             32.4594                       -7.2137                   82.4454  1405.37,-228.435,-172.404,-792.687,-21.2988,12...  1404.12,-228.455,-173.219,-793.063,-21.6583,12...  2014-12-09 06:52:02            None                -0.00376            1.750310           34974532.0           94782589.0              12298584.0                        NaN   \n",
       "1                       0                  0                         0                              0                          0                     1               0                    0               17          12      None   None         None       NaN     NaN                NaN          NaN          0.713   None  0.787960  0.095484        NaN        NaN            NaN           NaN   0.0752376                           0                       0               NaN                 1.05880           -11.18890                   0.0               0.0                        0.5978                  -28.4627                 -2.6686             38.4674                       -2.2857                   71.3826  1501.3,-210.019,-151.823,-746.477,-21.9636,115...  1499.6,-211.04,-152.882,-747.536,-23.2533,1155...  2014-12-09 06:52:03            None                -0.05674            3.231470           30025442.0           94782589.0              12298587.0                        NaN   \n",
       "2                       0                  0                         0                              0                          0                     0               0                    0               13           0      None   None         None       NaN     NaN                NaN          NaN          0.713   None  0.436033  0.095484        NaN        NaN            NaN           NaN   0.0416341                           0                       0               NaN                 0.00000            -9.29155                   0.0               0.0                        0.0000                  -29.8790                  0.0000             45.7736                       -1.5798                   92.0837  1857.62,-216.556,-164.735,-778.533,-31.5374,12...  1857.29,-216.556,-164.735,-778.719,-31.5374,12...  2014-12-09 06:52:05            None                 0.00000            3.346450           49872072.0           94782589.0              12298610.0                        NaN   \n",
       "3                       0                  0                         0                              0                          0                     0               0                    0               10           4      None   None         None       NaN     NaN                NaN          NaN         -4.593   None  0.384049  0.346434        NaN        NaN            NaN           NaN    0.133048                           0                       0               NaN                 0.45473            -4.36478                   0.0               0.0                        0.3270                  -16.7061                 -0.5557             14.9046                       -6.0575                   94.7992  437.988,-218.703,-122.622,-496.061,-15.8462,70...  437.682,-219.016,-122.935,-496.613,-15.8041,70...  2015-01-02 10:22:42            None                 0.00000            0.548275           99287022.0          124398191.0              15313729.0                        NaN   \n",
       "4                       0                  0                         0                              0                          0                     0               0                    0               13           4      None   None         None       NaN     NaN                NaN          NaN         -0.190   None  0.296665  0.346434        NaN        NaN            NaN           NaN    0.102775                           0                       7               NaN                 0.00000            -2.81301                   0.0               0.0                       -0.1791                  -10.0388                  0.0815             10.4343                       -2.8060                  102.9620  169.46,-144.223,-62.0781,-293.824,-5.80997,388...  169.316,-144.223,-62.0781,-293.561,-5.80997,38...  2015-01-02 10:22:42            None                -0.00552            0.186001           99287023.0          124398191.0              15313730.0                        NaN   \n",
       "\n",
       "  uniprot_id uniprot_id_1 uniprot_id_2 uniprot_mutation uniprot_name                                   uniprot_sequence  van_der_waals_change  van_der_waals_clashes_change  van_der_waals_clashes_wt  van_der_waals_wt  water_bridge_change  water_bridge_wt  \n",
       "0     A0AVT1     P61077-2       A0AVT1            R175H   UBA6_HUMAN  MEGSEPVAAHQGEEASCSSWGTGSTNKNLPIMSTASVEIDDALYSR...               0.20100                      -0.00060                   4.63177         -20.00810                  0.0              0.0  \n",
       "1     A0AVT1     P61077-3       A0AVT1            R175H   UBA6_HUMAN  MEGSEPVAAHQGEEASCSSWGTGSTNKNLPIMSTASVEIDDALYSR...               1.06790                      -0.07140                  17.19930         -22.48400                  0.0              0.0  \n",
       "2     A0AVT1       Q9NPD8       A0AVT1            R175H   UBA6_HUMAN  MEGSEPVAAHQGEEASCSSWGTGSTNKNLPIMSTASVEIDDALYSR...               0.00000                       0.00000                  20.34880         -24.56000                  0.0              0.0  \n",
       "3     A0AVT1       A0AVT1     P68036-3            Y663C   UBA6_HUMAN  MEGSEPVAAHQGEEASCSSWGTGSTNKNLPIMSTASVEIDDALYSR...               0.36230                       0.00000                   1.87840         -11.98720                  0.0              0.0  \n",
       "4     A0AVT1       A0AVT1     P68036-3            V997I   UBA6_HUMAN  MEGSEPVAAHQGEEASCSSWGTGSTNKNLPIMSTASVEIDDALYSR...              -0.09833                      -0.05467                   5.57588          -7.54241                  0.0              0.0  "
      ]
     },
     "metadata": {},
     "output_type": "display_data"
    },
    {
     "name": "stdout",
     "output_type": "stream",
     "text": [
      "(148238, 165)\n"
     ]
    }
   ],
   "source": [
    "display(DATA_DF.head())\n",
    "print(DATA_DF.shape)"
   ]
  },
  {
   "cell_type": "raw",
   "metadata": {},
   "source": [
    "DATA_DF = DATA_DF.drop_duplicates(\n",
    "    subset=['uniprot_id', 'uniprot_domain_id', 'max_seq_identity', 'uniprot_mutation', 'dataset'], \n",
    "    keep='first')\n",
    "print(DATA_DF.shape)"
   ]
  },
  {
   "cell_type": "code",
   "execution_count": 40,
   "metadata": {
    "collapsed": false
   },
   "outputs": [
    {
     "name": "stdout",
     "output_type": "stream",
     "text": [
      "{'sahni_ppi', 'clinvar', 'sahni_gpca', 'cosmic', 'skempi', 'humsavar'}\n"
     ]
    }
   ],
   "source": [
    "pprint(set(DATA_DF['dataset']))"
   ]
  },
  {
   "cell_type": "markdown",
   "metadata": {
    "heading_collapsed": false,
    "level": 2
   },
   "source": [
    "## Add a train / test split"
   ]
  },
  {
   "cell_type": "code",
   "execution_count": 41,
   "metadata": {
    "collapsed": false
   },
   "outputs": [],
   "source": [
    "TRAINING_DATASETS = [\n",
    "    'skempi',\n",
    "    'sahni_ppi',\n",
    "    'sahni_gpca',\n",
    "]\n",
    "\n",
    "VALIDATION_DATASETS = [\n",
    "    'humsavar',\n",
    "    'clinvar',\n",
    "    'cosmic',    \n",
    "]"
   ]
  },
  {
   "cell_type": "raw",
   "metadata": {},
   "source": [
    "# Make sure that '_train' in one does not appear in '_test' in other\n",
    "train_mutations = set()\n",
    "\n",
    "for dataset in VALIDATION_DATASETS:\n",
    "    \n",
    "    train_mutations |= set(\n",
    "        df_all[df_all['dataset'] == dataset + '_train']\n",
    "        [['uniprot_id', 'uniprot_mutation']]\n",
    "        .apply('.'.join, axis=1))\n",
    "\n",
    "    df_all.loc[(\n",
    "        (df_all['dataset'] == dataset + '_test') &\n",
    "        (df_all[['uniprot_id', 'uniprot_mutation']].apply('.'.join, axis=1).isin(train_mutations))), \n",
    "        'dataset'] = dataset + '_train'"
   ]
  },
  {
   "cell_type": "code",
   "execution_count": 42,
   "metadata": {
    "collapsed": false
   },
   "outputs": [],
   "source": [
    "# Add a '_train' and '_test' columns\n",
    "import math\n",
    "\n",
    "# Not enough training data to have a test set for these...\n",
    "_df1 = DATA_DF[(DATA_DF['dataset'] == 'sahni_ppi')].copy()\n",
    "_df1['dataset'] = 'sahni_ppi_train'\n",
    "_df2 = DATA_DF[(DATA_DF['dataset'] == 'sahni_gpca')].copy()\n",
    "_df2['dataset'] = 'sahni_gpca_train'\n",
    "ls_all = [_df1, _df2]\n",
    "\n",
    "DIVIDER = 2.5\n",
    "\n",
    "for dataset in VALIDATION_DATASETS:\n",
    "    ls_train = []\n",
    "    ls_test = []\n",
    "\n",
    "    df = DATA_DF[(DATA_DF['dataset'] == dataset)]\n",
    "\n",
    "    if df['ddg_exp'].notnull().all():\n",
    "        df = df.sort_values('ddg_exp')\n",
    "        df1 = df[:df.shape[0] // 2]\n",
    "        df2 = df[df.shape[0] // 2:]\n",
    "        assert df.shape[0] == (df1.shape[0] + df2.shape[0])\n",
    "    elif df['del_class_exp'].notnull().all():\n",
    "        df1 = df[df['del_class_exp'] == 0]\n",
    "        df2 = df[df['del_class_exp'] != 0]\n",
    "        assert df.shape[0] == (df1.shape[0] + df2.shape[0])\n",
    "    else:\n",
    "        raise Exception\n",
    "\n",
    "    df_train = pd.concat([\n",
    "            df1[:-math.floor(df1.shape[0] // DIVIDER)], \n",
    "            df2[:-math.floor(df2.shape[0] // DIVIDER)]], \n",
    "        ignore_index=True)\n",
    "    df_test = pd.concat([\n",
    "            df1[-math.floor(df1.shape[0] // DIVIDER):], \n",
    "            df2[-math.floor(df2.shape[0] // DIVIDER):]], \n",
    "        ignore_index=True)\n",
    "\n",
    "    df_train['dataset'] = dataset + '_train'\n",
    "    df_test['dataset'] = dataset + '_test'\n",
    "\n",
    "    assert DATA_DF[(DATA_DF['dataset'] == dataset)].shape[0] == (df_train.shape[0] + df_test.shape[0])\n",
    "\n",
    "    ls_all.extend([df_train, df_test])\n",
    "\n",
    "df_all = pd.concat(ls_all, ignore_index=True)"
   ]
  },
  {
   "cell_type": "code",
   "execution_count": 43,
   "metadata": {
    "collapsed": false
   },
   "outputs": [
    {
     "data": {
      "text/plain": [
       "['sahni_ppi_train',\n",
       " 'sahni_gpca_train',\n",
       " 'humsavar_train',\n",
       " 'humsavar_test',\n",
       " 'clinvar_train',\n",
       " 'clinvar_test',\n",
       " 'cosmic_train',\n",
       " 'cosmic_test']"
      ]
     },
     "metadata": {},
     "output_type": "display_data"
    },
    {
     "name": "stdout",
     "output_type": "stream",
     "text": [
      "sahni_ppi                   172          0     0.0000\n",
      "sahni_gpca                  105          0     0.0000\n",
      "humsavar                   8798       5864     0.3999\n",
      "clinvar                   12601       8399     0.4000\n",
      "cosmic                    65437      43623     0.4000\n"
     ]
    }
   ],
   "source": [
    "# Print stats\n",
    "display(df_all['dataset'].drop_duplicates().values.tolist())\n",
    "\n",
    "for dataset in ['sahni_ppi', 'sahni_gpca'] + VALIDATION_DATASETS:\n",
    "    n_train = df_all[df_all['dataset'] == dataset + '_train'].shape[0]\n",
    "    n_test = df_all[df_all['dataset'] == dataset + '_test'].shape[0]\n",
    "    print('{:20s} {:10d} {:10d} {:10.4f}'.format(dataset, n_train, n_test, n_test / (n_train + n_test)))"
   ]
  },
  {
   "cell_type": "code",
   "execution_count": 44,
   "metadata": {
    "collapsed": true
   },
   "outputs": [],
   "source": [
    "# Make sure that '_train' in one does not appear in '_test' in other\n",
    "train_uniprots = {\n",
    "    x \n",
    "    for dataset in TRAINING_DATASETS\n",
    "    for x in DATA_DF[(DATA_DF['dataset'] == dataset)]['uniprot_id'].values\n",
    "}\n",
    "\n",
    "for dataset in VALIDATION_DATASETS:\n",
    "    \n",
    "    train_uniprots |= set(df_all[df_all['dataset'] == dataset + '_train']['uniprot_id'])\n",
    "\n",
    "    df_all.loc[\n",
    "        (df_all['dataset'] == dataset + '_test') & df_all['uniprot_id'].isin(train_uniprots),\n",
    "        'dataset'\n",
    "    ] = dataset + '_train'"
   ]
  },
  {
   "cell_type": "code",
   "execution_count": 45,
   "metadata": {
    "collapsed": false
   },
   "outputs": [
    {
     "data": {
      "text/plain": [
       "0          sahni_ppi_train\n",
       "172       sahni_gpca_train\n",
       "277         humsavar_train\n",
       "9093         humsavar_test\n",
       "14939        clinvar_train\n",
       "27543         clinvar_test\n",
       "35939         cosmic_train\n",
       "101735         cosmic_test\n",
       "Name: dataset, dtype: object"
      ]
     },
     "metadata": {},
     "output_type": "display_data"
    },
    {
     "name": "stdout",
     "output_type": "stream",
     "text": [
      "sahni_ppi                   172          0     0.0000\n",
      "sahni_gpca                  105          0     0.0000\n",
      "humsavar                   9109       5553     0.3787\n",
      "clinvar                   16371       4629     0.2204\n",
      "cosmic                    82661      26399     0.2421\n"
     ]
    }
   ],
   "source": [
    "# Print stats\n",
    "display(df_all['dataset'].drop_duplicates())\n",
    "\n",
    "for dataset in ['sahni_ppi', 'sahni_gpca'] + VALIDATION_DATASETS:\n",
    "    n_train = df_all[df_all['dataset'] == dataset + '_train'].shape[0]\n",
    "    n_test = df_all[df_all['dataset'] == dataset + '_test'].shape[0]\n",
    "    print('{:20s} {:10d} {:10d} {:10.4f}'.format(dataset, n_train, n_test, n_test / (n_train + n_test)))"
   ]
  },
  {
   "cell_type": "code",
   "execution_count": 46,
   "metadata": {
    "collapsed": true
   },
   "outputs": [],
   "source": [
    "DATA_DF_TT = pd.concat([DATA_DF, df_all], ignore_index=True)\n",
    "assert DATA_DF_TT.shape[0] == (DATA_DF.shape[0] + df_all.shape[0])"
   ]
  },
  {
   "cell_type": "markdown",
   "metadata": {
    "heading_collapsed": false,
    "level": 2
   },
   "source": [
    "## Save"
   ]
  },
  {
   "cell_type": "code",
   "execution_count": 47,
   "metadata": {
    "collapsed": true
   },
   "outputs": [],
   "source": [
    "DATA_DF.to_pickle(op.join(NOTEBOOK_NAME, 'DATA_DF.pkl'))"
   ]
  },
  {
   "cell_type": "code",
   "execution_count": 48,
   "metadata": {
    "collapsed": true
   },
   "outputs": [],
   "source": [
    "DATA_DF_TT.to_pickle(op.join(NOTEBOOK_NAME, 'DATA_DF_TT.pkl'))"
   ]
  },
  {
   "cell_type": "code",
   "execution_count": 49,
   "metadata": {
    "collapsed": false
   },
   "outputs": [
    {
     "data": {
      "text/plain": [
       "datetime.datetime(2016, 8, 11, 11, 49, 20, 433383)"
      ]
     },
     "execution_count": 49,
     "metadata": {},
     "output_type": "execute_result"
    }
   ],
   "source": [
    "datetime.datetime.now()"
   ]
  }
 ],
 "metadata": {
  "anaconda-cloud": {
   "attach-environment": true,
   "environment": "Root",
   "summary": "testing if this works",
   "url": "https://anaconda.org/ostrokach/interface_load_data"
  },
  "kernelspec": {
   "display_name": "Python [Root]",
   "language": "python",
   "name": "Python [Root]"
  },
  "language_info": {
   "codemirror_mode": {
    "name": "ipython",
    "version": 3
   },
   "file_extension": ".py",
   "mimetype": "text/x-python",
   "name": "python",
   "nbconvert_exporter": "python",
   "pygments_lexer": "ipython3",
   "version": "3.5.2"
  },
  "latex_envs": {
   "bibliofile": "biblio.bib",
   "cite_by": "apalike",
   "current_citInitial": 1,
   "eqLabelWithNumbers": true,
   "eqNumInitial": 0
  },
  "nav_menu": {
   "height": "177px",
   "width": "293px"
  },
  "toc": {
   "navigate_menu": true,
   "number_sections": true,
   "sideBar": false,
   "threshold": 6,
   "toc_cell": false,
   "toc_section_display": "block",
   "toc_window_display": true
  },
  "toc_position": {
   "height": "417px",
   "left": "104.993px",
   "right": "20px",
   "top": "66.9896px",
   "width": "230px"
  }
 },
 "nbformat": 4,
 "nbformat_minor": 0
}
