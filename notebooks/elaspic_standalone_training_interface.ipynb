{
 "cells": [
  {
   "cell_type": "markdown",
   "metadata": {
    "run_control": {
     "marked": false
    }
   },
   "source": [
    "# Summary\n",
    "\n",
    "Create the `elaspic_training_interface` database and fill it with **interface** training data.\n",
    "\n",
    "Depends on `interface_load_data`.\n",
    "\n",
    "\n"
   ]
  },
  {
   "cell_type": "markdown",
   "metadata": {
    "run_control": {
     "marked": false
    }
   },
   "source": [
    "# Imports"
   ]
  },
  {
   "cell_type": "code",
   "execution_count": 1,
   "metadata": {
    "collapsed": false,
    "run_control": {
     "marked": false
    }
   },
   "outputs": [
    {
     "name": "stdout",
     "output_type": "stream",
     "text": [
      "2016-07-19 22:59:47.023707\n"
     ]
    }
   ],
   "source": [
    "%run imports.ipynb"
   ]
  },
  {
   "cell_type": "code",
   "execution_count": 2,
   "metadata": {
    "collapsed": true,
    "run_control": {
     "marked": false
    }
   },
   "outputs": [],
   "source": [
    "NOTEBOOK_NAME = 'elaspic_standalone_training_interface'\n",
    "os.environ['NOTEBOOK_NAME'] = NOTEBOOK_NAME\n",
    "\n",
    "os.environ['DB_PORT'] = '8309'\n",
    "\n",
    "PDB_DIR = '/home/kimlab1/database_data/pdb/data/data/structures/all/pdb'"
   ]
  },
  {
   "cell_type": "code",
   "execution_count": 3,
   "metadata": {
    "collapsed": false,
    "run_control": {
     "marked": false
    }
   },
   "outputs": [
    {
     "name": "stdout",
     "output_type": "stream",
     "text": [
      "The autoreload extension is already loaded. To reload it, use:\n",
      "  %reload_ext autoreload\n",
      "2016-07-19 22:59:47.216778\n"
     ]
    }
   ],
   "source": [
    "%run mysqld.ipynb"
   ]
  },
  {
   "cell_type": "code",
   "execution_count": 4,
   "metadata": {
    "collapsed": true,
    "run_control": {
     "marked": false
    }
   },
   "outputs": [],
   "source": [
    "os.makedirs(NOTEBOOK_NAME, exist_ok=True)"
   ]
  },
  {
   "cell_type": "markdown",
   "metadata": {
    "run_control": {
     "marked": false
    }
   },
   "source": [
    "# Load data"
   ]
  },
  {
   "cell_type": "code",
   "execution_count": 5,
   "metadata": {
    "collapsed": true,
    "run_control": {
     "marked": false
    }
   },
   "outputs": [],
   "source": [
    "db_remote = datapkg.MySQL(\n",
    "    connection_string=os.environ['DATAPKG_CONNECTION_STR'], \n",
    "    shared_folder=os.environ['NOTEBOOK_NAME'], \n",
    "    storage_host=None, \n",
    "    echo=False, \n",
    "    db_engine='InnoDB'\n",
    ")"
   ]
  },
  {
   "cell_type": "code",
   "execution_count": 6,
   "metadata": {
    "collapsed": false,
    "run_control": {
     "marked": false
    }
   },
   "outputs": [],
   "source": [
    "datasets = ['kortemme_baker', 'skempi', 'taipale_ppi', 'taipale_gpca']\n",
    "\n",
    "DATA = {}\n",
    "for dataset in datasets:\n",
    "    DATA[dataset] = pd.read_sql_table(dataset, db_remote.engine, schema='protein_interaction_energy')"
   ]
  },
  {
   "cell_type": "code",
   "execution_count": 7,
   "metadata": {
    "collapsed": false,
    "run_control": {
     "marked": false
    }
   },
   "outputs": [
    {
     "data": {
      "text/html": [
       "<div>\n",
       "<table border=\"1\" class=\"dataframe\">\n",
       "  <thead>\n",
       "    <tr style=\"text-align: right;\">\n",
       "      <th></th>\n",
       "      <th>idx</th>\n",
       "      <th>pdb_id</th>\n",
       "      <th>pdb_chain</th>\n",
       "      <th>partner_pdb_chain</th>\n",
       "      <th>pdb_mutation</th>\n",
       "      <th>uniprot_id</th>\n",
       "      <th>partner_uniprot_id</th>\n",
       "      <th>uniprot_mutation</th>\n",
       "      <th>pfam_id</th>\n",
       "      <th>pfam_clan</th>\n",
       "      <th>ddg_exp</th>\n",
       "    </tr>\n",
       "  </thead>\n",
       "  <tbody>\n",
       "    <tr>\n",
       "      <th>0</th>\n",
       "      <td>1</td>\n",
       "      <td>1a22</td>\n",
       "      <td>A</td>\n",
       "      <td>NaN</td>\n",
       "      <td>M14A</td>\n",
       "      <td>P01241</td>\n",
       "      <td>NaN</td>\n",
       "      <td>M40A</td>\n",
       "      <td>PF00103</td>\n",
       "      <td>CL0053</td>\n",
       "      <td>0.1</td>\n",
       "    </tr>\n",
       "    <tr>\n",
       "      <th>1</th>\n",
       "      <td>2</td>\n",
       "      <td>1a22</td>\n",
       "      <td>A</td>\n",
       "      <td>NaN</td>\n",
       "      <td>H18A</td>\n",
       "      <td>P01241</td>\n",
       "      <td>NaN</td>\n",
       "      <td>H44A</td>\n",
       "      <td>PF00103</td>\n",
       "      <td>CL0053</td>\n",
       "      <td>-0.5</td>\n",
       "    </tr>\n",
       "    <tr>\n",
       "      <th>2</th>\n",
       "      <td>3</td>\n",
       "      <td>1a22</td>\n",
       "      <td>A</td>\n",
       "      <td>NaN</td>\n",
       "      <td>H21A</td>\n",
       "      <td>P01241</td>\n",
       "      <td>NaN</td>\n",
       "      <td>H47A</td>\n",
       "      <td>PF00103</td>\n",
       "      <td>CL0053</td>\n",
       "      <td>0.2</td>\n",
       "    </tr>\n",
       "    <tr>\n",
       "      <th>3</th>\n",
       "      <td>4</td>\n",
       "      <td>1a22</td>\n",
       "      <td>A</td>\n",
       "      <td>NaN</td>\n",
       "      <td>Q22A</td>\n",
       "      <td>P01241</td>\n",
       "      <td>NaN</td>\n",
       "      <td>Q48A</td>\n",
       "      <td>PF00103</td>\n",
       "      <td>CL0053</td>\n",
       "      <td>-0.2</td>\n",
       "    </tr>\n",
       "    <tr>\n",
       "      <th>4</th>\n",
       "      <td>5</td>\n",
       "      <td>1a22</td>\n",
       "      <td>A</td>\n",
       "      <td>NaN</td>\n",
       "      <td>F25A</td>\n",
       "      <td>P01241</td>\n",
       "      <td>NaN</td>\n",
       "      <td>F51A</td>\n",
       "      <td>PF00103</td>\n",
       "      <td>CL0053</td>\n",
       "      <td>-0.4</td>\n",
       "    </tr>\n",
       "  </tbody>\n",
       "</table>\n",
       "</div>"
      ],
      "text/plain": [
       "   idx pdb_id pdb_chain  partner_pdb_chain pdb_mutation uniprot_id  partner_uniprot_id uniprot_mutation  pfam_id pfam_clan  ddg_exp\n",
       "0    1   1a22         A                NaN         M14A     P01241                 NaN             M40A  PF00103    CL0053      0.1\n",
       "1    2   1a22         A                NaN         H18A     P01241                 NaN             H44A  PF00103    CL0053     -0.5\n",
       "2    3   1a22         A                NaN         H21A     P01241                 NaN             H47A  PF00103    CL0053      0.2\n",
       "3    4   1a22         A                NaN         Q22A     P01241                 NaN             Q48A  PF00103    CL0053     -0.2\n",
       "4    5   1a22         A                NaN         F25A     P01241                 NaN             F51A  PF00103    CL0053     -0.4"
      ]
     },
     "execution_count": 7,
     "metadata": {},
     "output_type": "execute_result"
    }
   ],
   "source": [
    "DATA['kortemme_baker'].head()"
   ]
  },
  {
   "cell_type": "markdown",
   "metadata": {
    "run_control": {
     "marked": false
    }
   },
   "source": [
    "# Kortemme-Baker"
   ]
  },
  {
   "cell_type": "code",
   "execution_count": 8,
   "metadata": {
    "collapsed": true,
    "run_control": {
     "marked": false
    }
   },
   "outputs": [],
   "source": [
    "kortemme_baker_df = DATA['kortemme_baker'].copy()"
   ]
  },
  {
   "cell_type": "code",
   "execution_count": 9,
   "metadata": {
    "collapsed": true,
    "run_control": {
     "marked": false
    }
   },
   "outputs": [],
   "source": [
    "kortemme_baker_df['pdb_file'] = (\n",
    "    PDB_DIR + ('/pdb' + kortemme_baker_df['pdb_id'] + '.ent.gz')\n",
    ")"
   ]
  },
  {
   "cell_type": "code",
   "execution_count": 10,
   "metadata": {
    "collapsed": false,
    "run_control": {
     "marked": false
    }
   },
   "outputs": [],
   "source": [
    "kortemme_baker_df_tocalculate = (\n",
    "    kortemme_baker_df\n",
    "    .groupby(['pdb_id', 'pdb_file'])\n",
    "    .agg({'pdb_mutation': lambda x: ':'.join(ascommon.py_tools.unique(x))})\n",
    "    .reset_index()\n",
    ")"
   ]
  },
  {
   "cell_type": "code",
   "execution_count": 11,
   "metadata": {
    "collapsed": false,
    "run_control": {
     "marked": false
    }
   },
   "outputs": [
    {
     "data": {
      "text/html": [
       "<div>\n",
       "<table border=\"1\" class=\"dataframe\">\n",
       "  <thead>\n",
       "    <tr style=\"text-align: right;\">\n",
       "      <th></th>\n",
       "      <th>pdb_id</th>\n",
       "      <th>pdb_file</th>\n",
       "      <th>pdb_mutation</th>\n",
       "    </tr>\n",
       "  </thead>\n",
       "  <tbody>\n",
       "    <tr>\n",
       "      <th>0</th>\n",
       "      <td>1a22</td>\n",
       "      <td>/home/kimlab1/database_data/pdb/data/data/stru...</td>\n",
       "      <td>M14A:H18A:H21A:Q22A:F25A:D26A:Q29A:Y42A:L45A:Q...</td>\n",
       "    </tr>\n",
       "    <tr>\n",
       "      <th>1</th>\n",
       "      <td>1a4y</td>\n",
       "      <td>/home/kimlab1/database_data/pdb/data/data/stru...</td>\n",
       "      <td>W261A:W263A:E287A:S289A:W318A:K320A:E344A:W375...</td>\n",
       "    </tr>\n",
       "    <tr>\n",
       "      <th>2</th>\n",
       "      <td>1ahw</td>\n",
       "      <td>/home/kimlab1/database_data/pdb/data/data/stru...</td>\n",
       "      <td>Y156A:T167A:T170A:L176A:D178A:T197A:V198A:N199A</td>\n",
       "    </tr>\n",
       "    <tr>\n",
       "      <th>3</th>\n",
       "      <td>1brs</td>\n",
       "      <td>/home/kimlab1/database_data/pdb/data/data/stru...</td>\n",
       "      <td>K27A:D54A:N58A:R59A:E60A:E73A:R87A:H102A:Y29A:...</td>\n",
       "    </tr>\n",
       "    <tr>\n",
       "      <th>4</th>\n",
       "      <td>1bxi</td>\n",
       "      <td>/home/kimlab1/database_data/pdb/data/data/stru...</td>\n",
       "      <td>N24A:D26A:T27A:S28A:S29A:E30A:E31A:E32A:L33A:V...</td>\n",
       "    </tr>\n",
       "  </tbody>\n",
       "</table>\n",
       "</div>"
      ],
      "text/plain": [
       "  pdb_id                                           pdb_file                                       pdb_mutation\n",
       "0   1a22  /home/kimlab1/database_data/pdb/data/data/stru...  M14A:H18A:H21A:Q22A:F25A:D26A:Q29A:Y42A:L45A:Q...\n",
       "1   1a4y  /home/kimlab1/database_data/pdb/data/data/stru...  W261A:W263A:E287A:S289A:W318A:K320A:E344A:W375...\n",
       "2   1ahw  /home/kimlab1/database_data/pdb/data/data/stru...    Y156A:T167A:T170A:L176A:D178A:T197A:V198A:N199A\n",
       "3   1brs  /home/kimlab1/database_data/pdb/data/data/stru...  K27A:D54A:N58A:R59A:E60A:E73A:R87A:H102A:Y29A:...\n",
       "4   1bxi  /home/kimlab1/database_data/pdb/data/data/stru...  N24A:D26A:T27A:S28A:S29A:E30A:E31A:E32A:L33A:V..."
      ]
     },
     "metadata": {},
     "output_type": "display_data"
    },
    {
     "name": "stdout",
     "output_type": "stream",
     "text": [
      "19\n"
     ]
    }
   ],
   "source": [
    "display(kortemme_baker_df_tocalculate.head())\n",
    "print(kortemme_baker_df_tocalculate.shape[0])"
   ]
  },
  {
   "cell_type": "code",
   "execution_count": 12,
   "metadata": {
    "collapsed": false,
    "run_control": {
     "marked": false
    }
   },
   "outputs": [],
   "source": [
    "system_command_template = \"\"\"\\\n",
    "mkdir -p '{tempdir}' && \\\n",
    "cd '{tempdir}' && \\\n",
    "elaspic run -p '{pdb_file}' -m '{mutation}' -n 1 \\\n",
    "    --pdb_dir='/home/kimlab1/database_data/pdb/data/data/structures/divided/pdb/' \\\n",
    "    --blast_db_dir='/home/strokach/databases/blast/db' \\\n",
    "    --archive_dir='/home/kimlab1/database_data/elaspic_v2/'\n",
    "\"\"\"\n",
    "\n",
    "SUFFIX = '_1'\n",
    "JOB_NAME = 'elaspic_run_kortemme_baker{}'.format(SUFFIX)\n",
    "\n",
    "kortemme_baker_df_tocalculate['system_command'] = (\n",
    "    kortemme_baker_df_tocalculate.apply(\n",
    "        lambda x: system_command_template.format(\n",
    "            tempdir=op.abspath(op.join(NOTEBOOK_NAME, JOB_NAME, x['pdb_id'].lower())),\n",
    "            pdb_file=x['pdb_file'],\n",
    "            mutation=x['pdb_mutation']),\n",
    "        axis=1)\n",
    ")"
   ]
  },
  {
   "cell_type": "code",
   "execution_count": 13,
   "metadata": {
    "collapsed": false,
    "run_control": {
     "marked": false
    }
   },
   "outputs": [
    {
     "data": {
      "text/html": [
       "<div>\n",
       "<table border=\"1\" class=\"dataframe\">\n",
       "  <thead>\n",
       "    <tr style=\"text-align: right;\">\n",
       "      <th></th>\n",
       "      <th>pdb_id</th>\n",
       "      <th>pdb_file</th>\n",
       "      <th>pdb_mutation</th>\n",
       "      <th>system_command</th>\n",
       "    </tr>\n",
       "  </thead>\n",
       "  <tbody>\n",
       "    <tr>\n",
       "      <th>0</th>\n",
       "      <td>1a22</td>\n",
       "      <td>/home/kimlab1/database_data/pdb/data/data/stru...</td>\n",
       "      <td>M14A:H18A:H21A:Q22A:F25A:D26A:Q29A:Y42A:L45A:Q...</td>\n",
       "      <td>mkdir -p '/home/kimlab1/database_data/biodb/re...</td>\n",
       "    </tr>\n",
       "    <tr>\n",
       "      <th>1</th>\n",
       "      <td>1a4y</td>\n",
       "      <td>/home/kimlab1/database_data/pdb/data/data/stru...</td>\n",
       "      <td>W261A:W263A:E287A:S289A:W318A:K320A:E344A:W375...</td>\n",
       "      <td>mkdir -p '/home/kimlab1/database_data/biodb/re...</td>\n",
       "    </tr>\n",
       "    <tr>\n",
       "      <th>2</th>\n",
       "      <td>1ahw</td>\n",
       "      <td>/home/kimlab1/database_data/pdb/data/data/stru...</td>\n",
       "      <td>Y156A:T167A:T170A:L176A:D178A:T197A:V198A:N199A</td>\n",
       "      <td>mkdir -p '/home/kimlab1/database_data/biodb/re...</td>\n",
       "    </tr>\n",
       "    <tr>\n",
       "      <th>3</th>\n",
       "      <td>1brs</td>\n",
       "      <td>/home/kimlab1/database_data/pdb/data/data/stru...</td>\n",
       "      <td>K27A:D54A:N58A:R59A:E60A:E73A:R87A:H102A:Y29A:...</td>\n",
       "      <td>mkdir -p '/home/kimlab1/database_data/biodb/re...</td>\n",
       "    </tr>\n",
       "    <tr>\n",
       "      <th>4</th>\n",
       "      <td>1bxi</td>\n",
       "      <td>/home/kimlab1/database_data/pdb/data/data/stru...</td>\n",
       "      <td>N24A:D26A:T27A:S28A:S29A:E30A:E31A:E32A:L33A:V...</td>\n",
       "      <td>mkdir -p '/home/kimlab1/database_data/biodb/re...</td>\n",
       "    </tr>\n",
       "  </tbody>\n",
       "</table>\n",
       "</div>"
      ],
      "text/plain": [
       "  pdb_id                                           pdb_file                                       pdb_mutation                                     system_command\n",
       "0   1a22  /home/kimlab1/database_data/pdb/data/data/stru...  M14A:H18A:H21A:Q22A:F25A:D26A:Q29A:Y42A:L45A:Q...  mkdir -p '/home/kimlab1/database_data/biodb/re...\n",
       "1   1a4y  /home/kimlab1/database_data/pdb/data/data/stru...  W261A:W263A:E287A:S289A:W318A:K320A:E344A:W375...  mkdir -p '/home/kimlab1/database_data/biodb/re...\n",
       "2   1ahw  /home/kimlab1/database_data/pdb/data/data/stru...    Y156A:T167A:T170A:L176A:D178A:T197A:V198A:N199A  mkdir -p '/home/kimlab1/database_data/biodb/re...\n",
       "3   1brs  /home/kimlab1/database_data/pdb/data/data/stru...  K27A:D54A:N58A:R59A:E60A:E73A:R87A:H102A:Y29A:...  mkdir -p '/home/kimlab1/database_data/biodb/re...\n",
       "4   1bxi  /home/kimlab1/database_data/pdb/data/data/stru...  N24A:D26A:T27A:S28A:S29A:E30A:E31A:E32A:L33A:V...  mkdir -p '/home/kimlab1/database_data/biodb/re..."
      ]
     },
     "metadata": {},
     "output_type": "display_data"
    },
    {
     "name": "stdout",
     "output_type": "stream",
     "text": [
      "19\n"
     ]
    }
   ],
   "source": [
    "display(kortemme_baker_df_tocalculate.head())\n",
    "print(kortemme_baker_df_tocalculate.shape[0])"
   ]
  },
  {
   "cell_type": "code",
   "execution_count": 14,
   "metadata": {
    "collapsed": false,
    "run_control": {
     "marked": false
    }
   },
   "outputs": [
    {
     "name": "stdout",
     "output_type": "stream",
     "text": [
      "mkdir -p '/home/kimlab1/database_data/biodb/recipes/elaspic_training_set/notebooks/elaspic_standalone_training_interface/elaspic_run_kortemme_baker_1/1a22' && cd '/home/kimlab1/database_data/biodb/recipes/elaspic_training_set/notebooks/elaspic_standalone_training_interface/elaspic_run_kortemme_baker_1/1a22' && elaspic run -p '/home/kimlab1/database_data/pdb/data/data/structures/all/pdb/pdb1a22.ent.gz' -m 'M14A:H18A:H21A:Q22A:F25A:D26A:Q29A:Y42A:L45A:Q46A:S51A:E56A:S62A:N63A:R64A:E65A:Q68A:Y164A:R167A:K168A:D171A:K172A:E174A:T175A:F176A:R178A:I179A:R183A:E186A:R243A:E244A:R270A:R271A:T273A:Q274A:E275A:W276A:W280A:S298A:S302A:I303A:W304A:I305A:E320A:K321A:S324A:D326A:E327A:D364A:I365A:Q366A:K367A:W369A:V371A:T395A:Q416A:R417A:N418A:S419A:E242A:N272A:T277A:T301A:T394A:K415A' -n 1     --pdb_dir='/home/kimlab1/database_data/pdb/data/data/structures/divided/pdb/'     --blast_db_dir='/home/strokach/databases/blast/db'     --archive_dir='/home/kimlab1/database_data/elaspic_v2/'\n",
      "\n"
     ]
    }
   ],
   "source": [
    "system_command = kortemme_baker_df_tocalculate.loc[0, 'system_command']\n",
    "print(system_command)"
   ]
  },
  {
   "cell_type": "raw",
   "metadata": {
    "run_control": {
     "marked": false
    }
   },
   "source": [
    "!({system_command}) > $NOTEBOOK_NAME/elaspic.log 2>&1"
   ]
  },
  {
   "cell_type": "raw",
   "metadata": {
    "run_control": {
     "marked": false
    }
   },
   "source": [
    "!cat $NOTEBOOK_NAME/elaspic.log | tail -n 50"
   ]
  },
  {
   "cell_type": "markdown",
   "metadata": {
    "run_control": {
     "marked": false
    }
   },
   "source": [
    "## SGE"
   ]
  },
  {
   "cell_type": "code",
   "execution_count": 15,
   "metadata": {
    "collapsed": true,
    "run_control": {
     "marked": false
    }
   },
   "outputs": [],
   "source": [
    "PATH = (\n",
    "    '/home/kimlab1/strokach/anaconda/bin:/usr/local/bin:/bin:/usr/bin:/usr/local/sbin:/usr/sbin:/sbin'\n",
    ")\n",
    "\n",
    "js_be = ascommon.cluster_tools.JobSubmitter(\n",
    "    JOB_NAME, 'sge://:@192.168.6.201', op.abspath(NOTEBOOK_NAME),\n",
    "    email='ostrokach@gmail.com', force_new_folder=False,\n",
    "    nproc=1, queue='medium', walltime='8:00:00', mem='6G',\n",
    "    env={'PATH': PATH}\n",
    ")"
   ]
  },
  {
   "cell_type": "code",
   "execution_count": 16,
   "metadata": {
    "collapsed": false,
    "run_control": {
     "marked": false
    }
   },
   "outputs": [
    {
     "data": {
      "text/plain": [
       "'elaspic_run_kortemme_baker_1'"
      ]
     },
     "execution_count": 16,
     "metadata": {},
     "output_type": "execute_result"
    }
   ],
   "source": [
    "js_be.job_name"
   ]
  },
  {
   "cell_type": "code",
   "execution_count": 17,
   "metadata": {
    "collapsed": false,
    "run_control": {
     "marked": false
    }
   },
   "outputs": [
    {
     "data": {
      "text/plain": [
       "[['1a22',\n",
       "  \"mkdir -p '/home/kimlab1/database_data/biodb/recipes/elaspic_training_set/notebooks/elaspic_standalone_training_interface/elaspic_run_kortemme_baker_1/1a22' && cd '/home/kimlab1/database_data/biodb/recipes/elaspic_training_set/notebooks/elaspic_standalone_training_interface/elaspic_run_kortemme_baker_1/1a22' && elaspic run -p '/home/kimlab1/database_data/pdb/data/data/structures/all/pdb/pdb1a22.ent.gz' -m 'M14A:H18A:H21A:Q22A:F25A:D26A:Q29A:Y42A:L45A:Q46A:S51A:E56A:S62A:N63A:R64A:E65A:Q68A:Y164A:R167A:K168A:D171A:K172A:E174A:T175A:F176A:R178A:I179A:R183A:E186A:R243A:E244A:R270A:R271A:T273A:Q274A:E275A:W276A:W280A:S298A:S302A:I303A:W304A:I305A:E320A:K321A:S324A:D326A:E327A:D364A:I365A:Q366A:K367A:W369A:V371A:T395A:Q416A:R417A:N418A:S419A:E242A:N272A:T277A:T301A:T394A:K415A' -n 1     --pdb_dir='/home/kimlab1/database_data/pdb/data/data/structures/divided/pdb/'     --blast_db_dir='/home/strokach/databases/blast/db'     --archive_dir='/home/kimlab1/database_data/elaspic_v2/'\\n\"]]"
      ]
     },
     "execution_count": 17,
     "metadata": {},
     "output_type": "execute_result"
    }
   ],
   "source": [
    "kortemme_baker_df_tocalculate.reset_index()[['pdb_id', 'system_command']].values.tolist()[:1]"
   ]
  },
  {
   "cell_type": "raw",
   "metadata": {
    "run_control": {
     "marked": false
    }
   },
   "source": [
    "with js_beagle.connect():\n",
    "    js_beagle.submit(\n",
    "        kortemme_baker_df_tocalculate.reset_index()[['pdb_id', 'system_command']].values.tolist())"
   ]
  },
  {
   "cell_type": "raw",
   "metadata": {
    "run_control": {
     "marked": false
    }
   },
   "source": [
    "with js_beagle.connect():\n",
    "    print(js_beagle.get_num_running_jobs())"
   ]
  },
  {
   "cell_type": "markdown",
   "metadata": {
    "run_control": {
     "marked": false
    }
   },
   "source": [
    "## Resubmit failed"
   ]
  },
  {
   "cell_type": "code",
   "execution_count": 18,
   "metadata": {
    "collapsed": false,
    "run_control": {
     "marked": false
    }
   },
   "outputs": [
    {
     "name": "stdout",
     "output_type": "stream",
     "text": [
      "Counter({'misformed output': 19})\n"
     ]
    }
   ],
   "source": [
    "# Get job status\n",
    "results_df = (\n",
    "    js_be.job_status(\n",
    "        kortemme_baker_df_tocalculate.reset_index()[['pdb_id', 'system_command']].values.tolist()))\n",
    "print(Counter(results_df['status']))"
   ]
  },
  {
   "cell_type": "code",
   "execution_count": 19,
   "metadata": {
    "collapsed": false,
    "run_control": {
     "marked": false
    }
   },
   "outputs": [
    {
     "name": "stdout",
     "output_type": "stream",
     "text": [
      "0\n"
     ]
    }
   ],
   "source": [
    "# Job statistics\n",
    "failed = (\n",
    "    set(results_df[~results_df['status'].isin(['misformed output', 'done'])]['job_id'])\n",
    ")\n",
    "system_commands_remaining = (\n",
    "    kortemme_baker_df_tocalculate[\n",
    "        (kortemme_baker_df_tocalculate['pdb_id'].isin(failed))\n",
    "    ]\n",
    ")\n",
    "print(len(system_commands_remaining))"
   ]
  },
  {
   "cell_type": "code",
   "execution_count": 20,
   "metadata": {
    "collapsed": false,
    "run_control": {
     "marked": false
    }
   },
   "outputs": [],
   "source": [
    "assert system_commands_remaining.empty"
   ]
  },
  {
   "cell_type": "raw",
   "metadata": {
    "collapsed": true,
    "run_control": {
     "marked": false
    }
   },
   "source": [
    "with js_beagle.connect():\n",
    "    js_beagle.submit(\n",
    "        system_commands_remaining[['pdb_id', 'system_command']].values.tolist())"
   ]
  },
  {
   "cell_type": "code",
   "execution_count": 21,
   "metadata": {
    "collapsed": false,
    "run_control": {
     "marked": false
    }
   },
   "outputs": [
    {
     "data": {
      "text/html": [
       "<div>\n",
       "<table border=\"1\" class=\"dataframe\">\n",
       "  <thead>\n",
       "    <tr style=\"text-align: right;\">\n",
       "      <th></th>\n",
       "      <th>job_id</th>\n",
       "      <th>status</th>\n",
       "      <th>~system_command</th>\n",
       "    </tr>\n",
       "  </thead>\n",
       "  <tbody>\n",
       "    <tr>\n",
       "      <th>0</th>\n",
       "      <td>1a22</td>\n",
       "      <td>misformed output</td>\n",
       "      <td>mkdir -p '/home/kimlab1/database_data/biodb/re...</td>\n",
       "    </tr>\n",
       "    <tr>\n",
       "      <th>1</th>\n",
       "      <td>1a4y</td>\n",
       "      <td>misformed output</td>\n",
       "      <td>mkdir -p '/home/kimlab1/database_data/biodb/re...</td>\n",
       "    </tr>\n",
       "    <tr>\n",
       "      <th>2</th>\n",
       "      <td>1ahw</td>\n",
       "      <td>misformed output</td>\n",
       "      <td>mkdir -p '/home/kimlab1/database_data/biodb/re...</td>\n",
       "    </tr>\n",
       "    <tr>\n",
       "      <th>3</th>\n",
       "      <td>1brs</td>\n",
       "      <td>misformed output</td>\n",
       "      <td>mkdir -p '/home/kimlab1/database_data/biodb/re...</td>\n",
       "    </tr>\n",
       "    <tr>\n",
       "      <th>4</th>\n",
       "      <td>1bxi</td>\n",
       "      <td>misformed output</td>\n",
       "      <td>mkdir -p '/home/kimlab1/database_data/biodb/re...</td>\n",
       "    </tr>\n",
       "    <tr>\n",
       "      <th>5</th>\n",
       "      <td>1cbw</td>\n",
       "      <td>misformed output</td>\n",
       "      <td>mkdir -p '/home/kimlab1/database_data/biodb/re...</td>\n",
       "    </tr>\n",
       "    <tr>\n",
       "      <th>6</th>\n",
       "      <td>1dan</td>\n",
       "      <td>misformed output</td>\n",
       "      <td>mkdir -p '/home/kimlab1/database_data/biodb/re...</td>\n",
       "    </tr>\n",
       "    <tr>\n",
       "      <th>7</th>\n",
       "      <td>1dfj</td>\n",
       "      <td>misformed output</td>\n",
       "      <td>mkdir -p '/home/kimlab1/database_data/biodb/re...</td>\n",
       "    </tr>\n",
       "    <tr>\n",
       "      <th>8</th>\n",
       "      <td>1dn2</td>\n",
       "      <td>misformed output</td>\n",
       "      <td>mkdir -p '/home/kimlab1/database_data/biodb/re...</td>\n",
       "    </tr>\n",
       "    <tr>\n",
       "      <th>9</th>\n",
       "      <td>1f47</td>\n",
       "      <td>misformed output</td>\n",
       "      <td>mkdir -p '/home/kimlab1/database_data/biodb/re...</td>\n",
       "    </tr>\n",
       "    <tr>\n",
       "      <th>10</th>\n",
       "      <td>1fc2</td>\n",
       "      <td>misformed output</td>\n",
       "      <td>mkdir -p '/home/kimlab1/database_data/biodb/re...</td>\n",
       "    </tr>\n",
       "    <tr>\n",
       "      <th>11</th>\n",
       "      <td>1fcc</td>\n",
       "      <td>misformed output</td>\n",
       "      <td>mkdir -p '/home/kimlab1/database_data/biodb/re...</td>\n",
       "    </tr>\n",
       "    <tr>\n",
       "      <th>12</th>\n",
       "      <td>1gc1</td>\n",
       "      <td>misformed output</td>\n",
       "      <td>mkdir -p '/home/kimlab1/database_data/biodb/re...</td>\n",
       "    </tr>\n",
       "    <tr>\n",
       "      <th>13</th>\n",
       "      <td>1jck</td>\n",
       "      <td>misformed output</td>\n",
       "      <td>mkdir -p '/home/kimlab1/database_data/biodb/re...</td>\n",
       "    </tr>\n",
       "    <tr>\n",
       "      <th>14</th>\n",
       "      <td>1jrh</td>\n",
       "      <td>misformed output</td>\n",
       "      <td>mkdir -p '/home/kimlab1/database_data/biodb/re...</td>\n",
       "    </tr>\n",
       "    <tr>\n",
       "      <th>15</th>\n",
       "      <td>1nmb</td>\n",
       "      <td>misformed output</td>\n",
       "      <td>mkdir -p '/home/kimlab1/database_data/biodb/re...</td>\n",
       "    </tr>\n",
       "    <tr>\n",
       "      <th>16</th>\n",
       "      <td>1vfb</td>\n",
       "      <td>misformed output</td>\n",
       "      <td>mkdir -p '/home/kimlab1/database_data/biodb/re...</td>\n",
       "    </tr>\n",
       "    <tr>\n",
       "      <th>17</th>\n",
       "      <td>2ptc</td>\n",
       "      <td>misformed output</td>\n",
       "      <td>mkdir -p '/home/kimlab1/database_data/biodb/re...</td>\n",
       "    </tr>\n",
       "    <tr>\n",
       "      <th>18</th>\n",
       "      <td>3hfm</td>\n",
       "      <td>misformed output</td>\n",
       "      <td>mkdir -p '/home/kimlab1/database_data/biodb/re...</td>\n",
       "    </tr>\n",
       "  </tbody>\n",
       "</table>\n",
       "</div>"
      ],
      "text/plain": [
       "   job_id            status                                    ~system_command\n",
       "0    1a22  misformed output  mkdir -p '/home/kimlab1/database_data/biodb/re...\n",
       "1    1a4y  misformed output  mkdir -p '/home/kimlab1/database_data/biodb/re...\n",
       "2    1ahw  misformed output  mkdir -p '/home/kimlab1/database_data/biodb/re...\n",
       "3    1brs  misformed output  mkdir -p '/home/kimlab1/database_data/biodb/re...\n",
       "4    1bxi  misformed output  mkdir -p '/home/kimlab1/database_data/biodb/re...\n",
       "5    1cbw  misformed output  mkdir -p '/home/kimlab1/database_data/biodb/re...\n",
       "6    1dan  misformed output  mkdir -p '/home/kimlab1/database_data/biodb/re...\n",
       "7    1dfj  misformed output  mkdir -p '/home/kimlab1/database_data/biodb/re...\n",
       "8    1dn2  misformed output  mkdir -p '/home/kimlab1/database_data/biodb/re...\n",
       "9    1f47  misformed output  mkdir -p '/home/kimlab1/database_data/biodb/re...\n",
       "10   1fc2  misformed output  mkdir -p '/home/kimlab1/database_data/biodb/re...\n",
       "11   1fcc  misformed output  mkdir -p '/home/kimlab1/database_data/biodb/re...\n",
       "12   1gc1  misformed output  mkdir -p '/home/kimlab1/database_data/biodb/re...\n",
       "13   1jck  misformed output  mkdir -p '/home/kimlab1/database_data/biodb/re...\n",
       "14   1jrh  misformed output  mkdir -p '/home/kimlab1/database_data/biodb/re...\n",
       "15   1nmb  misformed output  mkdir -p '/home/kimlab1/database_data/biodb/re...\n",
       "16   1vfb  misformed output  mkdir -p '/home/kimlab1/database_data/biodb/re...\n",
       "17   2ptc  misformed output  mkdir -p '/home/kimlab1/database_data/biodb/re...\n",
       "18   3hfm  misformed output  mkdir -p '/home/kimlab1/database_data/biodb/re..."
      ]
     },
     "execution_count": 21,
     "metadata": {},
     "output_type": "execute_result"
    }
   ],
   "source": [
    "results_df"
   ]
  },
  {
   "cell_type": "markdown",
   "metadata": {
    "run_control": {
     "marked": false
    }
   },
   "source": [
    "## Results"
   ]
  },
  {
   "cell_type": "markdown",
   "metadata": {
    "run_control": {
     "marked": false
    }
   },
   "source": [
    "### Read results"
   ]
  },
  {
   "cell_type": "code",
   "execution_count": 22,
   "metadata": {
    "collapsed": false,
    "run_control": {
     "marked": false
    }
   },
   "outputs": [
    {
     "name": "stdout",
     "output_type": "stream",
     "text": [
      "1A22AB.pdb             mutation_A_Q46A.json   mutation_B_N418A.json\r\n",
      "1A22A.fasta            mutation_A_Q68A.json   mutation_B_Q274A.json\r\n",
      "1A22A.pdb              mutation_A_R167A.json  mutation_B_Q366A.json\r\n",
      "1A22B.fasta            mutation_A_R178A.json  mutation_B_Q416A.json\r\n",
      "1A22B.pdb              mutation_A_R183A.json  mutation_B_R243A.json\r\n",
      "\u001b[0m\u001b[01;34mmodel\u001b[0m/                 mutation_A_R64A.json   mutation_B_R270A.json\r\n",
      "model.json             mutation_A_S51A.json   mutation_B_R271A.json\r\n",
      "mutation_A_D171A.json  mutation_A_S62A.json   mutation_B_R417A.json\r\n",
      "mutation_A_D26A.json   mutation_A_T175A.json  mutation_B_S298A.json\r\n",
      "mutation_A_E174A.json  mutation_A_Y164A.json  mutation_B_S302A.json\r\n",
      "mutation_A_E186A.json  mutation_A_Y42A.json   mutation_B_S324A.json\r\n",
      "mutation_A_E56A.json   mutation_B_D326A.json  mutation_B_S419A.json\r\n",
      "mutation_A_E65A.json   mutation_B_D364A.json  mutation_B_T273A.json\r\n",
      "mutation_A_F176A.json  mutation_B_E242A.json  mutation_B_T277A.json\r\n",
      "mutation_A_F25A.json   mutation_B_E244A.json  mutation_B_T301A.json\r\n",
      "mutation_A_H18A.json   mutation_B_E275A.json  mutation_B_T394A.json\r\n",
      "mutation_A_H21A.json   mutation_B_E320A.json  mutation_B_T395A.json\r\n",
      "mutation_A_I179A.json  mutation_B_E327A.json  mutation_B_V371A.json\r\n",
      "mutation_A_K168A.json  mutation_B_I303A.json  mutation_B_W276A.json\r\n",
      "mutation_A_K172A.json  mutation_B_I305A.json  mutation_B_W280A.json\r\n",
      "mutation_A_L45A.json   mutation_B_I365A.json  mutation_B_W304A.json\r\n",
      "mutation_A_M14A.json   mutation_B_K321A.json  mutation_B_W369A.json\r\n",
      "mutation_A_N63A.json   mutation_B_K367A.json  \u001b[01;34msequence\u001b[0m/\r\n",
      "mutation_A_Q22A.json   mutation_B_K415A.json  sequence.json\r\n",
      "mutation_A_Q29A.json   mutation_B_N272A.json\r\n"
     ]
    }
   ],
   "source": [
    "ls $NOTEBOOK_NAME/$JOB_NAME/1a22/.elaspic"
   ]
  },
  {
   "cell_type": "code",
   "execution_count": 23,
   "metadata": {
    "code_folding": [],
    "collapsed": false,
    "run_control": {
     "marked": false
    }
   },
   "outputs": [],
   "source": [
    "def load_json(file):\n",
    "    with open(file, 'rt') as ifh:\n",
    "        return json.load(ifh)\n",
    "\n",
    "\n",
    "kortemme_baker_df['mutation_json'] = (\n",
    "    kortemme_baker_df[['pdb_id', 'pdb_chain', 'pdb_mutation']].apply(\n",
    "        lambda x: load_json(\n",
    "            op.join(\n",
    "                NOTEBOOK_NAME,\n",
    "                JOB_NAME,\n",
    "                x[0].lower(),\n",
    "                '.elaspic',\n",
    "                'mutation_{}_{}.json'.format(x[1], x[2]))), \n",
    "        axis=1)\n",
    ")"
   ]
  },
  {
   "cell_type": "code",
   "execution_count": 24,
   "metadata": {
    "collapsed": false,
    "run_control": {
     "marked": false
    }
   },
   "outputs": [
    {
     "data": {
      "text/html": [
       "<div>\n",
       "<table border=\"1\" class=\"dataframe\">\n",
       "  <thead>\n",
       "    <tr style=\"text-align: right;\">\n",
       "      <th></th>\n",
       "      <th>idx</th>\n",
       "      <th>pdb_id</th>\n",
       "      <th>pdb_chain</th>\n",
       "      <th>partner_pdb_chain</th>\n",
       "      <th>pdb_mutation</th>\n",
       "      <th>uniprot_id</th>\n",
       "      <th>partner_uniprot_id</th>\n",
       "      <th>uniprot_mutation</th>\n",
       "      <th>pfam_id</th>\n",
       "      <th>pfam_clan</th>\n",
       "      <th>ddg_exp</th>\n",
       "      <th>pdb_file</th>\n",
       "      <th>mutation_json</th>\n",
       "    </tr>\n",
       "  </thead>\n",
       "  <tbody>\n",
       "    <tr>\n",
       "      <th>0</th>\n",
       "      <td>1</td>\n",
       "      <td>1a22</td>\n",
       "      <td>A</td>\n",
       "      <td>NaN</td>\n",
       "      <td>M14A</td>\n",
       "      <td>P01241</td>\n",
       "      <td>NaN</td>\n",
       "      <td>M40A</td>\n",
       "      <td>PF00103</td>\n",
       "      <td>CL0053</td>\n",
       "      <td>0.1</td>\n",
       "      <td>/home/kimlab1/database_data/pdb/data/data/stru...</td>\n",
       "      <td>[{'matrix_score': -1, 'alignment_identity': 10...</td>\n",
       "    </tr>\n",
       "    <tr>\n",
       "      <th>1</th>\n",
       "      <td>2</td>\n",
       "      <td>1a22</td>\n",
       "      <td>A</td>\n",
       "      <td>NaN</td>\n",
       "      <td>H18A</td>\n",
       "      <td>P01241</td>\n",
       "      <td>NaN</td>\n",
       "      <td>H44A</td>\n",
       "      <td>PF00103</td>\n",
       "      <td>CL0053</td>\n",
       "      <td>-0.5</td>\n",
       "      <td>/home/kimlab1/database_data/pdb/data/data/stru...</td>\n",
       "      <td>[{'matrix_score': -2, 'alignment_identity': 10...</td>\n",
       "    </tr>\n",
       "    <tr>\n",
       "      <th>2</th>\n",
       "      <td>3</td>\n",
       "      <td>1a22</td>\n",
       "      <td>A</td>\n",
       "      <td>NaN</td>\n",
       "      <td>H21A</td>\n",
       "      <td>P01241</td>\n",
       "      <td>NaN</td>\n",
       "      <td>H47A</td>\n",
       "      <td>PF00103</td>\n",
       "      <td>CL0053</td>\n",
       "      <td>0.2</td>\n",
       "      <td>/home/kimlab1/database_data/pdb/data/data/stru...</td>\n",
       "      <td>[{'matrix_score': -2, 'alignment_identity': 10...</td>\n",
       "    </tr>\n",
       "    <tr>\n",
       "      <th>3</th>\n",
       "      <td>4</td>\n",
       "      <td>1a22</td>\n",
       "      <td>A</td>\n",
       "      <td>NaN</td>\n",
       "      <td>Q22A</td>\n",
       "      <td>P01241</td>\n",
       "      <td>NaN</td>\n",
       "      <td>Q48A</td>\n",
       "      <td>PF00103</td>\n",
       "      <td>CL0053</td>\n",
       "      <td>-0.2</td>\n",
       "      <td>/home/kimlab1/database_data/pdb/data/data/stru...</td>\n",
       "      <td>[{'matrix_score': -1, 'alignment_identity': 10...</td>\n",
       "    </tr>\n",
       "    <tr>\n",
       "      <th>4</th>\n",
       "      <td>5</td>\n",
       "      <td>1a22</td>\n",
       "      <td>A</td>\n",
       "      <td>NaN</td>\n",
       "      <td>F25A</td>\n",
       "      <td>P01241</td>\n",
       "      <td>NaN</td>\n",
       "      <td>F51A</td>\n",
       "      <td>PF00103</td>\n",
       "      <td>CL0053</td>\n",
       "      <td>-0.4</td>\n",
       "      <td>/home/kimlab1/database_data/pdb/data/data/stru...</td>\n",
       "      <td>[{'matrix_score': -3, 'alignment_identity': 10...</td>\n",
       "    </tr>\n",
       "  </tbody>\n",
       "</table>\n",
       "</div>"
      ],
      "text/plain": [
       "   idx pdb_id pdb_chain  partner_pdb_chain pdb_mutation uniprot_id  partner_uniprot_id uniprot_mutation  pfam_id pfam_clan  ddg_exp                                           pdb_file                                      mutation_json\n",
       "0    1   1a22         A                NaN         M14A     P01241                 NaN             M40A  PF00103    CL0053      0.1  /home/kimlab1/database_data/pdb/data/data/stru...  [{'matrix_score': -1, 'alignment_identity': 10...\n",
       "1    2   1a22         A                NaN         H18A     P01241                 NaN             H44A  PF00103    CL0053     -0.5  /home/kimlab1/database_data/pdb/data/data/stru...  [{'matrix_score': -2, 'alignment_identity': 10...\n",
       "2    3   1a22         A                NaN         H21A     P01241                 NaN             H47A  PF00103    CL0053      0.2  /home/kimlab1/database_data/pdb/data/data/stru...  [{'matrix_score': -2, 'alignment_identity': 10...\n",
       "3    4   1a22         A                NaN         Q22A     P01241                 NaN             Q48A  PF00103    CL0053     -0.2  /home/kimlab1/database_data/pdb/data/data/stru...  [{'matrix_score': -1, 'alignment_identity': 10...\n",
       "4    5   1a22         A                NaN         F25A     P01241                 NaN             F51A  PF00103    CL0053     -0.4  /home/kimlab1/database_data/pdb/data/data/stru...  [{'matrix_score': -3, 'alignment_identity': 10..."
      ]
     },
     "execution_count": 24,
     "metadata": {},
     "output_type": "execute_result"
    }
   ],
   "source": [
    "kortemme_baker_df.head()"
   ]
  },
  {
   "cell_type": "markdown",
   "metadata": {
    "run_control": {
     "marked": false
    }
   },
   "source": [
    "### PDB chain mapping"
   ]
  },
  {
   "cell_type": "code",
   "execution_count": 25,
   "metadata": {
    "collapsed": true
   },
   "outputs": [],
   "source": [
    "tempdir = tempfile.mkdtemp()"
   ]
  },
  {
   "cell_type": "code",
   "execution_count": 26,
   "metadata": {
    "collapsed": false,
    "run_control": {
     "marked": false
    }
   },
   "outputs": [
    {
     "name": "stdout",
     "output_type": "stream",
     "text": [
      "/tmp/strokach/tmpti6m7w_r\n"
     ]
    }
   ],
   "source": [
    "print(tempdir)"
   ]
  },
  {
   "cell_type": "code",
   "execution_count": 27,
   "metadata": {
    "collapsed": true,
    "run_control": {
     "marked": false
    }
   },
   "outputs": [],
   "source": [
    "for (pdb_id, pdb_file) in kortemme_baker_df[['pdb_id', 'pdb_file']].drop_duplicates().values:\n",
    "    with gzip.open(pdb_file) as ifh:\n",
    "        with open(op.join(tempdir, '{}.pdb'.format(pdb_id)), 'wb') as ofh:\n",
    "            ofh.write(ifh.read())"
   ]
  },
  {
   "cell_type": "code",
   "execution_count": 28,
   "metadata": {
    "collapsed": false,
    "run_control": {
     "marked": false
    }
   },
   "outputs": [],
   "source": [
    "sps = {}\n",
    "for (pdb_id, pdb_file) in kortemme_baker_df[['pdb_id', 'pdb_file']].drop_duplicates().values:\n",
    "    sp = elaspic.structure_tools.StructureParser(op.join(tempdir, pdb_id + '.pdb'))\n",
    "    sp.extract()\n",
    "    sps[pdb_id] = sp"
   ]
  },
  {
   "cell_type": "code",
   "execution_count": 29,
   "metadata": {
    "collapsed": true,
    "run_control": {
     "marked": false
    }
   },
   "outputs": [],
   "source": [
    "pdb_idx2chain = {}\n",
    "pdb_chain2idx = {}\n",
    "for pdb_id, sp in sps.items():\n",
    "    pdb_idx2chain[pdb_id] = {i: chain_id for i, chain_id in enumerate(sp.chain_ids)}\n",
    "    pdb_chain2idx[pdb_id] = {chain_id: i for i, chain_id in enumerate(sp.chain_ids)}"
   ]
  },
  {
   "cell_type": "markdown",
   "metadata": {
    "run_control": {
     "marked": false
    }
   },
   "source": [
    "### ELASPIC features"
   ]
  },
  {
   "cell_type": "code",
   "execution_count": 30,
   "metadata": {
    "collapsed": false,
    "run_control": {
     "marked": false
    }
   },
   "outputs": [
    {
     "data": {
      "text/html": [
       "<div>\n",
       "<table border=\"1\" class=\"dataframe\">\n",
       "  <thead>\n",
       "    <tr style=\"text-align: right;\">\n",
       "      <th></th>\n",
       "      <th>idx</th>\n",
       "      <th>pdb_id</th>\n",
       "      <th>pdb_chain</th>\n",
       "      <th>partner_pdb_chain</th>\n",
       "      <th>pdb_mutation</th>\n",
       "      <th>uniprot_id</th>\n",
       "      <th>partner_uniprot_id</th>\n",
       "      <th>uniprot_mutation</th>\n",
       "      <th>pfam_id</th>\n",
       "      <th>pfam_clan</th>\n",
       "      <th>ddg_exp</th>\n",
       "      <th>pdb_file</th>\n",
       "      <th>mutation_json</th>\n",
       "    </tr>\n",
       "  </thead>\n",
       "  <tbody>\n",
       "    <tr>\n",
       "      <th>0</th>\n",
       "      <td>1</td>\n",
       "      <td>1a22</td>\n",
       "      <td>A</td>\n",
       "      <td>NaN</td>\n",
       "      <td>M14A</td>\n",
       "      <td>P01241</td>\n",
       "      <td>NaN</td>\n",
       "      <td>M40A</td>\n",
       "      <td>PF00103</td>\n",
       "      <td>CL0053</td>\n",
       "      <td>0.1</td>\n",
       "      <td>/home/kimlab1/database_data/pdb/data/data/stru...</td>\n",
       "      <td>[{'matrix_score': -1, 'alignment_identity': 10...</td>\n",
       "    </tr>\n",
       "    <tr>\n",
       "      <th>1</th>\n",
       "      <td>2</td>\n",
       "      <td>1a22</td>\n",
       "      <td>A</td>\n",
       "      <td>NaN</td>\n",
       "      <td>H18A</td>\n",
       "      <td>P01241</td>\n",
       "      <td>NaN</td>\n",
       "      <td>H44A</td>\n",
       "      <td>PF00103</td>\n",
       "      <td>CL0053</td>\n",
       "      <td>-0.5</td>\n",
       "      <td>/home/kimlab1/database_data/pdb/data/data/stru...</td>\n",
       "      <td>[{'matrix_score': -2, 'alignment_identity': 10...</td>\n",
       "    </tr>\n",
       "  </tbody>\n",
       "</table>\n",
       "</div>"
      ],
      "text/plain": [
       "   idx pdb_id pdb_chain  partner_pdb_chain pdb_mutation uniprot_id  partner_uniprot_id uniprot_mutation  pfam_id pfam_clan  ddg_exp                                           pdb_file                                      mutation_json\n",
       "0    1   1a22         A                NaN         M14A     P01241                 NaN             M40A  PF00103    CL0053      0.1  /home/kimlab1/database_data/pdb/data/data/stru...  [{'matrix_score': -1, 'alignment_identity': 10...\n",
       "1    2   1a22         A                NaN         H18A     P01241                 NaN             H44A  PF00103    CL0053     -0.5  /home/kimlab1/database_data/pdb/data/data/stru...  [{'matrix_score': -2, 'alignment_identity': 10..."
      ]
     },
     "execution_count": 30,
     "metadata": {},
     "output_type": "execute_result"
    }
   ],
   "source": [
    "kortemme_baker_df.head(2)"
   ]
  },
  {
   "cell_type": "code",
   "execution_count": 31,
   "metadata": {
    "collapsed": false,
    "run_control": {
     "marked": false
    }
   },
   "outputs": [
    {
     "name": "stdout",
     "output_type": "stream",
     "text": [
      "96\n",
      "0\n"
     ]
    }
   ],
   "source": [
    "local.mutation_not_in_interface = 0\n",
    "local.mutation_interface_not_found = 0\n",
    "\n",
    "interface_mutation_features_df = pd.concat([\n",
    "    local.guess_interface_mutation_features(index, mutation_json) \n",
    "    for index, mutation_json \n",
    "    in kortemme_baker_df.reset_index()[['index', 'mutation_json']].values])\n",
    "\n",
    "print(local.mutation_not_in_interface)\n",
    "print(local.mutation_interface_not_found)"
   ]
  },
  {
   "cell_type": "code",
   "execution_count": 32,
   "metadata": {
    "collapsed": false,
    "run_control": {
     "marked": false
    }
   },
   "outputs": [
    {
     "name": "stdout",
     "output_type": "stream",
     "text": [
      "Starting number of mutations:                               380\n",
      "Starting number of mutation indexes:                        380\n",
      "Number of unique pdb id / mutations:                        377\n",
      "--------------------------------------------------------------------------------\n",
      "Number of ELASPIC PDB mutations:                            323\n",
      "Number of ELASPIC PDB mutation indexes:                     284\n",
      "Number of unique ELASPIC pdb id / mutations:                282\n",
      "--------------------------------------------------------------------------------\n",
      "Number of ELASPIC PDB mutations wddg_exp:                   323\n",
      "Number of ELASPIC PDB mutation indexes wddg_exp:            284\n",
      "Number of unique ELASPIC pdb id / mutations wddg_exp:       282\n"
     ]
    }
   ],
   "source": [
    "interface_mutation_features_df_final = (\n",
    "    interface_mutation_features_df\n",
    "    .merge(\n",
    "        kortemme_baker_df[['pdb_id', 'pdb_chain', 'partner_pdb_chain', 'pdb_mutation', 'ddg_exp']], \n",
    "        left_index=True, right_index=True)\n",
    ")\n",
    "\n",
    "print2(\"Starting number of mutations:\", kortemme_baker_df.shape[0])\n",
    "print2(\"Starting number of mutation indexes:\", len(set(kortemme_baker_df.index)))\n",
    "print2(\"Number of unique pdb id / mutations:\", \n",
    "       kortemme_baker_df[['pdb_id', 'pdb_mutation']].drop_duplicates().shape[0])\n",
    "print('-' * 80)\n",
    "\n",
    "print2(\"Number of ELASPIC PDB mutations:\", \n",
    "       interface_mutation_features_df.shape[0])\n",
    "print2(\"Number of ELASPIC PDB mutation indexes:\",\n",
    "       len(set(interface_mutation_features_df.index)))\n",
    "print2(\"Number of unique ELASPIC pdb id / mutations:\",\n",
    "       interface_mutation_features_df_final[['pdb_id', 'pdb_mutation']].drop_duplicates().shape[0])\n",
    "print('-' * 80)\n",
    "\n",
    "print2(\"Number of ELASPIC PDB mutations wddg_exp:\", \n",
    "       interface_mutation_features_df_final.shape[0])\n",
    "print2(\"Number of ELASPIC PDB mutation indexes wddg_exp:\",\n",
    "       len(set(interface_mutation_features_df_final.index)))\n",
    "print2(\"Number of unique ELASPIC pdb id / mutations wddg_exp:\",\n",
    "       interface_mutation_features_df_final[['pdb_id', 'pdb_mutation']].drop_duplicates().shape[0])"
   ]
  },
  {
   "cell_type": "markdown",
   "metadata": {
    "run_control": {
     "marked": false
    }
   },
   "source": [
    "### Correct duplicate interfaces"
   ]
  },
  {
   "cell_type": "code",
   "execution_count": 33,
   "metadata": {
    "collapsed": false,
    "run_control": {
     "marked": false
    }
   },
   "outputs": [
    {
     "data": {
      "text/html": [
       "<div>\n",
       "<table border=\"1\" class=\"dataframe\">\n",
       "  <thead>\n",
       "    <tr style=\"text-align: right;\">\n",
       "      <th></th>\n",
       "      <th>alignment_coverage</th>\n",
       "      <th>alignment_identity</th>\n",
       "      <th>alignment_score</th>\n",
       "      <th>analyse_complex_energy_mut</th>\n",
       "      <th>analyse_complex_energy_wt</th>\n",
       "      <th>chain_modeller</th>\n",
       "      <th>contact_distance_mut</th>\n",
       "      <th>contact_distance_wt</th>\n",
       "      <th>ddg</th>\n",
       "      <th>idx</th>\n",
       "      <th>idxs</th>\n",
       "      <th>interface_area_hydrophilic</th>\n",
       "      <th>interface_area_hydrophobic</th>\n",
       "      <th>interface_area_total</th>\n",
       "      <th>matrix_score</th>\n",
       "      <th>model_file_mut</th>\n",
       "      <th>model_file_wt</th>\n",
       "      <th>mutation</th>\n",
       "      <th>mutation_errors</th>\n",
       "      <th>mutation_modeller</th>\n",
       "      <th>norm_dope</th>\n",
       "      <th>physchem_mut</th>\n",
       "      <th>physchem_mut_ownchain</th>\n",
       "      <th>physchem_wt</th>\n",
       "      <th>physchem_wt_ownchain</th>\n",
       "      <th>provean_score</th>\n",
       "      <th>secondary_structure_mut</th>\n",
       "      <th>secondary_structure_wt</th>\n",
       "      <th>solvent_accessibility_mut</th>\n",
       "      <th>solvent_accessibility_wt</th>\n",
       "      <th>stability_energy_mut</th>\n",
       "      <th>stability_energy_wt</th>\n",
       "      <th>pdb_id</th>\n",
       "      <th>pdb_chain</th>\n",
       "      <th>partner_pdb_chain</th>\n",
       "      <th>pdb_mutation</th>\n",
       "      <th>ddg_exp</th>\n",
       "    </tr>\n",
       "  </thead>\n",
       "  <tbody>\n",
       "    <tr>\n",
       "      <th>378</th>\n",
       "      <td>100.0</td>\n",
       "      <td>100.0</td>\n",
       "      <td>1.0</td>\n",
       "      <td>45.039,82.1211,3.93443,-1.02381,-2.99442,-4.88...</td>\n",
       "      <td>45.0547,82.1211,3.93432,-1.02381,-2.99442,-4.8...</td>\n",
       "      <td>Y</td>\n",
       "      <td>7.340844</td>\n",
       "      <td>7.340844</td>\n",
       "      <td>0.044928</td>\n",
       "      <td>2</td>\n",
       "      <td>[0, 2]</td>\n",
       "      <td>168.485</td>\n",
       "      <td>67.335</td>\n",
       "      <td>235.820</td>\n",
       "      <td>1</td>\n",
       "      <td>/home/kimlab1/database_data/biodb/recipes/prot...</td>\n",
       "      <td>/home/kimlab1/database_data/biodb/recipes/prot...</td>\n",
       "      <td>S100A</td>\n",
       "      <td></td>\n",
       "      <td>S314A</td>\n",
       "      <td>-0.404127</td>\n",
       "      <td>0,0,0,0</td>\n",
       "      <td>0,0,0,17</td>\n",
       "      <td>0,0,0,0</td>\n",
       "      <td>0,0,2,17</td>\n",
       "      <td>-0.635</td>\n",
       "      <td>C</td>\n",
       "      <td>C</td>\n",
       "      <td>48.167022</td>\n",
       "      <td>50.705408</td>\n",
       "      <td>223.389,-171.344,-101.563,-376.08,-8.93093,516...</td>\n",
       "      <td>222.881,-171.937,-102.145,-376.199,-8.93093,51...</td>\n",
       "      <td>3hfm</td>\n",
       "      <td>Y</td>\n",
       "      <td>NaN</td>\n",
       "      <td>S100A</td>\n",
       "      <td>0.25</td>\n",
       "    </tr>\n",
       "    <tr>\n",
       "      <th>145</th>\n",
       "      <td>100.0</td>\n",
       "      <td>100.0</td>\n",
       "      <td>1.0</td>\n",
       "      <td>21.7857,45.7301,-3.25022,-3.49693,-2.67631,-7....</td>\n",
       "      <td>21.9115,45.7301,-3.25898,-3.49693,-2.67631,-7....</td>\n",
       "      <td>D</td>\n",
       "      <td>8.316217</td>\n",
       "      <td>7.817202</td>\n",
       "      <td>1.271829</td>\n",
       "      <td>3</td>\n",
       "      <td>[1, 3]</td>\n",
       "      <td>213.355</td>\n",
       "      <td>151.805</td>\n",
       "      <td>365.165</td>\n",
       "      <td>0</td>\n",
       "      <td>/home/kimlab1/database_data/biodb/recipes/prot...</td>\n",
       "      <td>/home/kimlab1/database_data/biodb/recipes/prot...</td>\n",
       "      <td>T11A</td>\n",
       "      <td></td>\n",
       "      <td>T142A</td>\n",
       "      <td>0.671374</td>\n",
       "      <td>0,0,0,0</td>\n",
       "      <td>0,0,0,14</td>\n",
       "      <td>0,0,0,0</td>\n",
       "      <td>0,0,1,19</td>\n",
       "      <td>-3.701</td>\n",
       "      <td>C</td>\n",
       "      <td>C</td>\n",
       "      <td>49.546642</td>\n",
       "      <td>50.522438</td>\n",
       "      <td>117.561,-81.7956,-47.9699,-180.525,-2.25363,24...</td>\n",
       "      <td>117.779,-82.0406,-48.2149,-180.762,-2.25363,24...</td>\n",
       "      <td>1cbw</td>\n",
       "      <td>D</td>\n",
       "      <td>NaN</td>\n",
       "      <td>T11A</td>\n",
       "      <td>0.20</td>\n",
       "    </tr>\n",
       "  </tbody>\n",
       "</table>\n",
       "</div>"
      ],
      "text/plain": [
       "     alignment_coverage  alignment_identity  alignment_score                         analyse_complex_energy_mut                          analyse_complex_energy_wt chain_modeller  contact_distance_mut  contact_distance_wt       ddg  idx    idxs  interface_area_hydrophilic  interface_area_hydrophobic  interface_area_total  matrix_score                                     model_file_mut                                      model_file_wt mutation mutation_errors mutation_modeller  norm_dope physchem_mut physchem_mut_ownchain physchem_wt physchem_wt_ownchain  provean_score secondary_structure_mut secondary_structure_wt  solvent_accessibility_mut  solvent_accessibility_wt                               stability_energy_mut                                stability_energy_wt pdb_id pdb_chain  partner_pdb_chain pdb_mutation  ddg_exp\n",
       "378               100.0               100.0              1.0  45.039,82.1211,3.93443,-1.02381,-2.99442,-4.88...  45.0547,82.1211,3.93432,-1.02381,-2.99442,-4.8...              Y              7.340844             7.340844  0.044928    2  [0, 2]                     168.485                      67.335               235.820             1  /home/kimlab1/database_data/biodb/recipes/prot...  /home/kimlab1/database_data/biodb/recipes/prot...    S100A                             S314A  -0.404127      0,0,0,0              0,0,0,17     0,0,0,0             0,0,2,17         -0.635                       C                      C                  48.167022                 50.705408  223.389,-171.344,-101.563,-376.08,-8.93093,516...  222.881,-171.937,-102.145,-376.199,-8.93093,51...   3hfm         Y                NaN        S100A     0.25\n",
       "145               100.0               100.0              1.0  21.7857,45.7301,-3.25022,-3.49693,-2.67631,-7....  21.9115,45.7301,-3.25898,-3.49693,-2.67631,-7....              D              8.316217             7.817202  1.271829    3  [1, 3]                     213.355                     151.805               365.165             0  /home/kimlab1/database_data/biodb/recipes/prot...  /home/kimlab1/database_data/biodb/recipes/prot...     T11A                             T142A   0.671374      0,0,0,0              0,0,0,14     0,0,0,0             0,0,1,19         -3.701                       C                      C                  49.546642                 50.522438  117.561,-81.7956,-47.9699,-180.525,-2.25363,24...  117.779,-82.0406,-48.2149,-180.762,-2.25363,24...   1cbw         D                NaN         T11A     0.20"
      ]
     },
     "execution_count": 33,
     "metadata": {},
     "output_type": "execute_result"
    }
   ],
   "source": [
    "interface_mutation_features_df_final = (\n",
    "    interface_mutation_features_df_final.sort_values('contact_distance_wt', ascending=True))\n",
    "interface_mutation_features_df_final.tail(2)"
   ]
  },
  {
   "cell_type": "code",
   "execution_count": 34,
   "metadata": {
    "collapsed": false,
    "run_control": {
     "marked": false
    }
   },
   "outputs": [
    {
     "data": {
      "text/plain": [
       "<matplotlib.axes._subplots.AxesSubplot at 0x7faa6c82f6d8>"
      ]
     },
     "execution_count": 34,
     "metadata": {},
     "output_type": "execute_result"
    },
    {
     "data": {
      "image/png": "[encoded data removed]",
      "text/plain": [
       "<matplotlib.figure.Figure at 0x7faa701eb128>"
      ]
     },
     "metadata": {},
     "output_type": "display_data"
    }
   ],
   "source": [
    "interface_mutation_features_df_final['contact_distance_wt'].hist(range=(1, 8.0))"
   ]
  },
  {
   "cell_type": "code",
   "execution_count": 35,
   "metadata": {
    "collapsed": false,
    "run_control": {
     "marked": false
    }
   },
   "outputs": [
    {
     "data": {
      "text/plain": [
       "<matplotlib.axes._subplots.AxesSubplot at 0x7faa701eb3c8>"
      ]
     },
     "execution_count": 35,
     "metadata": {},
     "output_type": "execute_result"
    },
    {
     "data": {
      "image/png": "[encoded data removed]",
      "text/plain": [
       "<matplotlib.figure.Figure at 0x7faa6c594208>"
      ]
     },
     "metadata": {},
     "output_type": "display_data"
    }
   ],
   "source": [
    "interface_mutation_features_df_final = (\n",
    "    interface_mutation_features_df_final.drop_duplicates(['pdb_id', 'pdb_mutation']))\n",
    "interface_mutation_features_df_final['contact_distance_wt'].hist(range=(1, 8.0))"
   ]
  },
  {
   "cell_type": "code",
   "execution_count": 36,
   "metadata": {
    "collapsed": false,
    "run_control": {
     "marked": false
    }
   },
   "outputs": [
    {
     "name": "stdout",
     "output_type": "stream",
     "text": [
      "Number of ELASPIC PDB mutations wddg_exp:                   282\n",
      "Number of ELASPIC PDB mutation indexes wddg_exp:            282\n",
      "Number of unique ELASPIC pdb id / mutations wddg_exp:       282\n"
     ]
    }
   ],
   "source": [
    "print2(\"Number of ELASPIC PDB mutations wddg_exp:\", \n",
    "       interface_mutation_features_df_final.shape[0])\n",
    "print2(\"Number of ELASPIC PDB mutation indexes wddg_exp:\",\n",
    "       len(set(interface_mutation_features_df_final.index)))\n",
    "print2(\"Number of unique ELASPIC pdb id / mutations wddg_exp:\",\n",
    "       interface_mutation_features_df_final[['pdb_id', 'pdb_mutation']].drop_duplicates().shape[0])"
   ]
  },
  {
   "cell_type": "markdown",
   "metadata": {
    "run_control": {
     "marked": false
    }
   },
   "source": [
    "## Save to database"
   ]
  },
  {
   "cell_type": "code",
   "execution_count": 37,
   "metadata": {
    "collapsed": true,
    "run_control": {
     "marked": false
    }
   },
   "outputs": [],
   "source": [
    "_header_columns = [\n",
    "    'pdb_id', 'pdb_chain', 'partner_pdb_chain', 'pdb_mutation', 'mutation', 'mutation_modeller', 'idx', 'idxs',\n",
    "]"
   ]
  },
  {
   "cell_type": "code",
   "execution_count": 38,
   "metadata": {
    "collapsed": false,
    "run_control": {
     "marked": false
    }
   },
   "outputs": [
    {
     "data": {
      "text/html": [
       "<div>\n",
       "<table border=\"1\" class=\"dataframe\">\n",
       "  <thead>\n",
       "    <tr style=\"text-align: right;\">\n",
       "      <th></th>\n",
       "      <th>pdb_id</th>\n",
       "      <th>pdb_chain</th>\n",
       "      <th>partner_pdb_chain</th>\n",
       "      <th>pdb_mutation</th>\n",
       "      <th>mutation</th>\n",
       "      <th>mutation_modeller</th>\n",
       "      <th>idx</th>\n",
       "      <th>idxs</th>\n",
       "      <th>alignment_coverage</th>\n",
       "      <th>alignment_identity</th>\n",
       "      <th>alignment_score</th>\n",
       "      <th>analyse_complex_energy_mut</th>\n",
       "      <th>analyse_complex_energy_wt</th>\n",
       "      <th>chain_modeller</th>\n",
       "      <th>contact_distance_mut</th>\n",
       "      <th>contact_distance_wt</th>\n",
       "      <th>ddg</th>\n",
       "      <th>interface_area_hydrophilic</th>\n",
       "      <th>interface_area_hydrophobic</th>\n",
       "      <th>interface_area_total</th>\n",
       "      <th>matrix_score</th>\n",
       "      <th>model_file_mut</th>\n",
       "      <th>model_file_wt</th>\n",
       "      <th>mutation_errors</th>\n",
       "      <th>norm_dope</th>\n",
       "      <th>physchem_mut</th>\n",
       "      <th>physchem_mut_ownchain</th>\n",
       "      <th>physchem_wt</th>\n",
       "      <th>physchem_wt_ownchain</th>\n",
       "      <th>provean_score</th>\n",
       "      <th>secondary_structure_mut</th>\n",
       "      <th>secondary_structure_wt</th>\n",
       "      <th>solvent_accessibility_mut</th>\n",
       "      <th>solvent_accessibility_wt</th>\n",
       "      <th>stability_energy_mut</th>\n",
       "      <th>stability_energy_wt</th>\n",
       "      <th>ddg_exp</th>\n",
       "    </tr>\n",
       "  </thead>\n",
       "  <tbody>\n",
       "    <tr>\n",
       "      <th>256</th>\n",
       "      <td>1gc1</td>\n",
       "      <td>C</td>\n",
       "      <td>NaN</td>\n",
       "      <td>S42A</td>\n",
       "      <td>S42A</td>\n",
       "      <td>S339A</td>\n",
       "      <td>1</td>\n",
       "      <td>[0, 1]</td>\n",
       "      <td>100.0</td>\n",
       "      <td>100.0</td>\n",
       "      <td>1.0</td>\n",
       "      <td>41.9659,131.714,-6.54501,-4.0065,-7.56168,-18....</td>\n",
       "      <td>41.9676,131.714,-4.85885,-4.0074,-7.59593,-18....</td>\n",
       "      <td>C</td>\n",
       "      <td>2.930740</td>\n",
       "      <td>2.101380</td>\n",
       "      <td>-1.041795</td>\n",
       "      <td>256.830</td>\n",
       "      <td>430.720</td>\n",
       "      <td>687.56</td>\n",
       "      <td>1</td>\n",
       "      <td>/home/kimlab1/database_data/biodb/recipes/prot...</td>\n",
       "      <td>/home/kimlab1/database_data/biodb/recipes/prot...</td>\n",
       "      <td></td>\n",
       "      <td>-0.199640</td>\n",
       "      <td>0,0,0,20</td>\n",
       "      <td>0,0,0,14</td>\n",
       "      <td>0,0,4,20</td>\n",
       "      <td>0,0,1,14</td>\n",
       "      <td>-2.19</td>\n",
       "      <td>T</td>\n",
       "      <td>T</td>\n",
       "      <td>64.068365</td>\n",
       "      <td>61.981030</td>\n",
       "      <td>245.555,-255.403,-135.516,-553.462,-18.2303,74...</td>\n",
       "      <td>246.905,-255.404,-136.813,-553.727,-18.2333,74...</td>\n",
       "      <td>0.0</td>\n",
       "    </tr>\n",
       "    <tr>\n",
       "      <th>374</th>\n",
       "      <td>3hfm</td>\n",
       "      <td>Y</td>\n",
       "      <td>NaN</td>\n",
       "      <td>N93A</td>\n",
       "      <td>N93A</td>\n",
       "      <td>N307A</td>\n",
       "      <td>2</td>\n",
       "      <td>[0, 2]</td>\n",
       "      <td>100.0</td>\n",
       "      <td>100.0</td>\n",
       "      <td>1.0</td>\n",
       "      <td>43.8084,81.7971,5.04336,-1.06577,-1.71866,-4.8...</td>\n",
       "      <td>43.8147,81.7971,4.18029,-1.10015,-2.79955,-5.0...</td>\n",
       "      <td>Y</td>\n",
       "      <td>2.431894</td>\n",
       "      <td>2.431894</td>\n",
       "      <td>0.578378</td>\n",
       "      <td>168.485</td>\n",
       "      <td>67.335</td>\n",
       "      <td>235.82</td>\n",
       "      <td>-2</td>\n",
       "      <td>/home/kimlab1/database_data/biodb/recipes/prot...</td>\n",
       "      <td>/home/kimlab1/database_data/biodb/recipes/prot...</td>\n",
       "      <td></td>\n",
       "      <td>-0.404127</td>\n",
       "      <td>0,0,0,9</td>\n",
       "      <td>0,0,0,17</td>\n",
       "      <td>0,0,1,9</td>\n",
       "      <td>0,0,5,21</td>\n",
       "      <td>-1.01</td>\n",
       "      <td>H</td>\n",
       "      <td>H</td>\n",
       "      <td>50.884576</td>\n",
       "      <td>49.746769</td>\n",
       "      <td>222.206,-171.387,-100.349,-375.476,-8.89289,51...</td>\n",
       "      <td>221.244,-172.095,-102.061,-376.182,-8.89289,51...</td>\n",
       "      <td>0.6</td>\n",
       "    </tr>\n",
       "  </tbody>\n",
       "</table>\n",
       "</div>"
      ],
      "text/plain": [
       "    pdb_id pdb_chain  partner_pdb_chain pdb_mutation mutation mutation_modeller  idx    idxs  alignment_coverage  alignment_identity  alignment_score                         analyse_complex_energy_mut                          analyse_complex_energy_wt chain_modeller  contact_distance_mut  contact_distance_wt       ddg  interface_area_hydrophilic  interface_area_hydrophobic  interface_area_total  matrix_score                                     model_file_mut                                      model_file_wt mutation_errors  norm_dope physchem_mut physchem_mut_ownchain physchem_wt physchem_wt_ownchain  provean_score secondary_structure_mut secondary_structure_wt  solvent_accessibility_mut  solvent_accessibility_wt                               stability_energy_mut                                stability_energy_wt  ddg_exp\n",
       "256   1gc1         C                NaN         S42A     S42A             S339A    1  [0, 1]               100.0               100.0              1.0  41.9659,131.714,-6.54501,-4.0065,-7.56168,-18....  41.9676,131.714,-4.85885,-4.0074,-7.59593,-18....              C              2.930740             2.101380 -1.041795                     256.830                     430.720                687.56             1  /home/kimlab1/database_data/biodb/recipes/prot...  /home/kimlab1/database_data/biodb/recipes/prot...                  -0.199640     0,0,0,20              0,0,0,14    0,0,4,20             0,0,1,14          -2.19                       T                      T                  64.068365                 61.981030  245.555,-255.403,-135.516,-553.462,-18.2303,74...  246.905,-255.404,-136.813,-553.727,-18.2333,74...      0.0\n",
       "374   3hfm         Y                NaN         N93A     N93A             N307A    2  [0, 2]               100.0               100.0              1.0  43.8084,81.7971,5.04336,-1.06577,-1.71866,-4.8...  43.8147,81.7971,4.18029,-1.10015,-2.79955,-5.0...              Y              2.431894             2.431894  0.578378                     168.485                      67.335                235.82            -2  /home/kimlab1/database_data/biodb/recipes/prot...  /home/kimlab1/database_data/biodb/recipes/prot...                  -0.404127      0,0,0,9              0,0,0,17     0,0,1,9             0,0,5,21          -1.01                       H                      H                  50.884576                 49.746769  222.206,-171.387,-100.349,-375.476,-8.89289,51...  221.244,-172.095,-102.061,-376.182,-8.89289,51...      0.6"
      ]
     },
     "execution_count": 38,
     "metadata": {},
     "output_type": "execute_result"
    }
   ],
   "source": [
    "interface_mutation_features_df_final[\n",
    "    _header_columns + [c for c in interface_mutation_features_df_final.columns if c not in _header_columns]\n",
    "].head(2)"
   ]
  },
  {
   "cell_type": "code",
   "execution_count": 39,
   "metadata": {
    "collapsed": true,
    "run_control": {
     "marked": false
    }
   },
   "outputs": [],
   "source": [
    "t = db.import_df(\n",
    "    interface_mutation_features_df_final\n",
    "    [_header_columns + [c for c in interface_mutation_features_df_final.columns if c not in _header_columns]],\n",
    "    'kortemme_baker_elaspic_scores',\n",
    ")"
   ]
  },
  {
   "cell_type": "code",
   "execution_count": 40,
   "metadata": {
    "collapsed": false,
    "run_control": {
     "marked": false
    }
   },
   "outputs": [
    {
     "data": {
      "text/plain": [
       "'kortemme_baker_elaspic_scores'"
      ]
     },
     "execution_count": 40,
     "metadata": {},
     "output_type": "execute_result"
    }
   ],
   "source": [
    "t.name"
   ]
  },
  {
   "cell_type": "code",
   "execution_count": 41,
   "metadata": {
    "collapsed": true,
    "run_control": {
     "marked": false
    }
   },
   "outputs": [],
   "source": [
    "db.create_indexes(\n",
    "    t.name,\n",
    "    [(['pdb_id', 'pdb_chain', 'partner_pdb_chain', 'pdb_mutation'], True)]\n",
    ")"
   ]
  },
  {
   "cell_type": "code",
   "execution_count": 42,
   "metadata": {
    "collapsed": false,
    "run_control": {
     "marked": false
    }
   },
   "outputs": [
    {
     "data": {
      "text/plain": [
       "282"
      ]
     },
     "execution_count": 42,
     "metadata": {},
     "output_type": "execute_result"
    }
   ],
   "source": [
    "db.add_idx_column(t.name, '_index')"
   ]
  },
  {
   "cell_type": "markdown",
   "metadata": {},
   "source": [
    "----"
   ]
  },
  {
   "cell_type": "markdown",
   "metadata": {
    "run_control": {
     "marked": false
    }
   },
   "source": [
    "# Skempi"
   ]
  },
  {
   "cell_type": "code",
   "execution_count": 43,
   "metadata": {
    "collapsed": true,
    "run_control": {
     "marked": false
    }
   },
   "outputs": [],
   "source": [
    "skempi_df = DATA['skempi'].copy()"
   ]
  },
  {
   "cell_type": "code",
   "execution_count": 44,
   "metadata": {
    "collapsed": false,
    "scrolled": true
   },
   "outputs": [
    {
     "data": {
      "text/plain": [
       "(2213, 11)"
      ]
     },
     "execution_count": 44,
     "metadata": {},
     "output_type": "execute_result"
    }
   ],
   "source": [
    "skempi_df.shape"
   ]
  },
  {
   "cell_type": "code",
   "execution_count": 45,
   "metadata": {
    "collapsed": true
   },
   "outputs": [],
   "source": [
    "skempi_df['pdb_file'] = (\n",
    "    PDB_DIR + ('/pdb' + skempi_df['pdb_id'] + '.ent.gz')\n",
    ")"
   ]
  },
  {
   "cell_type": "code",
   "execution_count": 46,
   "metadata": {
    "collapsed": false
   },
   "outputs": [
    {
     "data": {
      "text/html": [
       "<div>\n",
       "<table border=\"1\" class=\"dataframe\">\n",
       "  <thead>\n",
       "    <tr style=\"text-align: right;\">\n",
       "      <th></th>\n",
       "      <th>pdb_id</th>\n",
       "      <th>pdb_file</th>\n",
       "      <th>pdb_mutation</th>\n",
       "    </tr>\n",
       "  </thead>\n",
       "  <tbody>\n",
       "    <tr>\n",
       "      <th>0</th>\n",
       "      <td>1a22</td>\n",
       "      <td>/home/kimlab1/database_data/pdb/data/data/stru...</td>\n",
       "      <td>C182A:D171A:D26A:E174A:E186A:E56A:E65A:E66A:F1...</td>\n",
       "    </tr>\n",
       "    <tr>\n",
       "      <th>1</th>\n",
       "      <td>1a4y</td>\n",
       "      <td>/home/kimlab1/database_data/pdb/data/data/stru...</td>\n",
       "      <td>E108A:H84A:H114A:H8A:H13A:K40G:K40Q:N68A:Q12A:...</td>\n",
       "    </tr>\n",
       "    <tr>\n",
       "      <th>2</th>\n",
       "      <td>1acb</td>\n",
       "      <td>/home/kimlab1/database_data/pdb/data/data/stru...</td>\n",
       "      <td>L45D:L45E:L45G:L45I:L45P:L45S</td>\n",
       "    </tr>\n",
       "    <tr>\n",
       "      <th>3</th>\n",
       "      <td>1ahw</td>\n",
       "      <td>/home/kimlab1/database_data/pdb/data/data/stru...</td>\n",
       "      <td>D178A:K149A,D150A:K165A,K166A:L176A:N199A:T121...</td>\n",
       "    </tr>\n",
       "    <tr>\n",
       "      <th>4</th>\n",
       "      <td>1ak4</td>\n",
       "      <td>/home/kimlab1/database_data/pdb/data/data/stru...</td>\n",
       "      <td>A488G:A488V:A492G:A492V:G489A:G489V:H487A:H487...</td>\n",
       "    </tr>\n",
       "  </tbody>\n",
       "</table>\n",
       "</div>"
      ],
      "text/plain": [
       "  pdb_id                                           pdb_file                                       pdb_mutation\n",
       "0   1a22  /home/kimlab1/database_data/pdb/data/data/stru...  C182A:D171A:D26A:E174A:E186A:E56A:E65A:E66A:F1...\n",
       "1   1a4y  /home/kimlab1/database_data/pdb/data/data/stru...  E108A:H84A:H114A:H8A:H13A:K40G:K40Q:N68A:Q12A:...\n",
       "2   1acb  /home/kimlab1/database_data/pdb/data/data/stru...                      L45D:L45E:L45G:L45I:L45P:L45S\n",
       "3   1ahw  /home/kimlab1/database_data/pdb/data/data/stru...  D178A:K149A,D150A:K165A,K166A:L176A:N199A:T121...\n",
       "4   1ak4  /home/kimlab1/database_data/pdb/data/data/stru...  A488G:A488V:A492G:A492V:G489A:G489V:H487A:H487..."
      ]
     },
     "metadata": {},
     "output_type": "display_data"
    },
    {
     "name": "stdout",
     "output_type": "stream",
     "text": [
      "72\n"
     ]
    }
   ],
   "source": [
    "skempi_df_tocalculate = (\n",
    "    skempi_df\n",
    "    .groupby(['pdb_id', 'pdb_file'])\n",
    "    .agg({'pdb_mutation': lambda x: ':'.join(ascommon.py_tools.unique(x))})\n",
    "    .reset_index()\n",
    ")\n",
    "\n",
    "display(skempi_df_tocalculate.head())\n",
    "print(skempi_df_tocalculate.shape[0])"
   ]
  },
  {
   "cell_type": "code",
   "execution_count": 47,
   "metadata": {
    "collapsed": true
   },
   "outputs": [],
   "source": [
    "system_command_template = \"\"\"\\\n",
    "mkdir -p '{tempdir}' && \\\n",
    "cd '{tempdir}' && \\\n",
    "elaspic run -p '{pdb_file}' -m '{mutation}' -n 1 \\\n",
    "    --pdb_dir='/home/kimlab1/database_data/pdb/data/data/structures/divided/pdb/' \\\n",
    "    --blast_db_dir='/home/strokach/databases/blast/db' \\\n",
    "    --archive_dir='/home/kimlab1/database_data/elaspic_v2/'\n",
    "\"\"\"\n",
    "\n",
    "SUFFIX = '_1'\n",
    "JOB_NAME = 'elaspic_run_skempi{}'.format(SUFFIX)\n",
    "\n",
    "skempi_df_tocalculate['system_command'] = (\n",
    "    skempi_df_tocalculate.apply(\n",
    "        lambda x: system_command_template.format(\n",
    "            tempdir=op.abspath(op.join(NOTEBOOK_NAME, JOB_NAME, x['pdb_id'].lower())),\n",
    "            pdb_file=x['pdb_file'],\n",
    "            mutation=x['pdb_mutation']),\n",
    "        axis=1)\n",
    ")"
   ]
  },
  {
   "cell_type": "code",
   "execution_count": 48,
   "metadata": {
    "collapsed": false
   },
   "outputs": [
    {
     "data": {
      "text/html": [
       "<div>\n",
       "<table border=\"1\" class=\"dataframe\">\n",
       "  <thead>\n",
       "    <tr style=\"text-align: right;\">\n",
       "      <th></th>\n",
       "      <th>pdb_id</th>\n",
       "      <th>pdb_file</th>\n",
       "      <th>pdb_mutation</th>\n",
       "      <th>system_command</th>\n",
       "    </tr>\n",
       "  </thead>\n",
       "  <tbody>\n",
       "    <tr>\n",
       "      <th>0</th>\n",
       "      <td>1a22</td>\n",
       "      <td>/home/kimlab1/database_data/pdb/data/data/stru...</td>\n",
       "      <td>C182A:D171A:D26A:E174A:E186A:E56A:E65A:E66A:F1...</td>\n",
       "      <td>mkdir -p '/home/kimlab1/database_data/biodb/re...</td>\n",
       "    </tr>\n",
       "    <tr>\n",
       "      <th>1</th>\n",
       "      <td>1a4y</td>\n",
       "      <td>/home/kimlab1/database_data/pdb/data/data/stru...</td>\n",
       "      <td>E108A:H84A:H114A:H8A:H13A:K40G:K40Q:N68A:Q12A:...</td>\n",
       "      <td>mkdir -p '/home/kimlab1/database_data/biodb/re...</td>\n",
       "    </tr>\n",
       "    <tr>\n",
       "      <th>2</th>\n",
       "      <td>1acb</td>\n",
       "      <td>/home/kimlab1/database_data/pdb/data/data/stru...</td>\n",
       "      <td>L45D:L45E:L45G:L45I:L45P:L45S</td>\n",
       "      <td>mkdir -p '/home/kimlab1/database_data/biodb/re...</td>\n",
       "    </tr>\n",
       "    <tr>\n",
       "      <th>3</th>\n",
       "      <td>1ahw</td>\n",
       "      <td>/home/kimlab1/database_data/pdb/data/data/stru...</td>\n",
       "      <td>D178A:K149A,D150A:K165A,K166A:L176A:N199A:T121...</td>\n",
       "      <td>mkdir -p '/home/kimlab1/database_data/biodb/re...</td>\n",
       "    </tr>\n",
       "    <tr>\n",
       "      <th>4</th>\n",
       "      <td>1ak4</td>\n",
       "      <td>/home/kimlab1/database_data/pdb/data/data/stru...</td>\n",
       "      <td>A488G:A488V:A492G:A492V:G489A:G489V:H487A:H487...</td>\n",
       "      <td>mkdir -p '/home/kimlab1/database_data/biodb/re...</td>\n",
       "    </tr>\n",
       "  </tbody>\n",
       "</table>\n",
       "</div>"
      ],
      "text/plain": [
       "  pdb_id                                           pdb_file                                       pdb_mutation                                     system_command\n",
       "0   1a22  /home/kimlab1/database_data/pdb/data/data/stru...  C182A:D171A:D26A:E174A:E186A:E56A:E65A:E66A:F1...  mkdir -p '/home/kimlab1/database_data/biodb/re...\n",
       "1   1a4y  /home/kimlab1/database_data/pdb/data/data/stru...  E108A:H84A:H114A:H8A:H13A:K40G:K40Q:N68A:Q12A:...  mkdir -p '/home/kimlab1/database_data/biodb/re...\n",
       "2   1acb  /home/kimlab1/database_data/pdb/data/data/stru...                      L45D:L45E:L45G:L45I:L45P:L45S  mkdir -p '/home/kimlab1/database_data/biodb/re...\n",
       "3   1ahw  /home/kimlab1/database_data/pdb/data/data/stru...  D178A:K149A,D150A:K165A,K166A:L176A:N199A:T121...  mkdir -p '/home/kimlab1/database_data/biodb/re...\n",
       "4   1ak4  /home/kimlab1/database_data/pdb/data/data/stru...  A488G:A488V:A492G:A492V:G489A:G489V:H487A:H487...  mkdir -p '/home/kimlab1/database_data/biodb/re..."
      ]
     },
     "metadata": {},
     "output_type": "display_data"
    },
    {
     "name": "stdout",
     "output_type": "stream",
     "text": [
      "72\n"
     ]
    }
   ],
   "source": [
    "display(skempi_df_tocalculate.head())\n",
    "print(skempi_df_tocalculate.shape[0])"
   ]
  },
  {
   "cell_type": "code",
   "execution_count": 49,
   "metadata": {
    "collapsed": false
   },
   "outputs": [
    {
     "name": "stdout",
     "output_type": "stream",
     "text": [
      "mkdir -p '/home/kimlab1/database_data/biodb/recipes/elaspic_training_set/notebooks/elaspic_standalone_training_interface/elaspic_run_skempi_1/1a22' && cd '/home/kimlab1/database_data/biodb/recipes/elaspic_training_set/notebooks/elaspic_standalone_training_interface/elaspic_run_skempi_1/1a22' && elaspic run -p '/home/kimlab1/database_data/pdb/data/data/structures/all/pdb/pdb1a22.ent.gz' -m 'C182A:D171A:D26A:E174A:E186A:E56A:E65A:E66A:F176A:F191A:F10A:F25A:F25A,Y42A,Q46A:F54A:G187A:H18A:H21A:I179A:I4A:I58A:K168A:K172A:K70A:L6A:L9A:L15A:L45A:L73A:M14A:N12A:N63A:P5A:P48A:P59A:P61A:Q181A:Q22A:Q29A:Q46A:Q68A:Q69A:R167A:R178A:R183A:R8A:R16A:R19A:R64A:S184A:S188A:S7A:S51A:S55A:S57A:S62A:S71A:T175A:T3A:V180A:V185A:Y164A:Y42A:Y42A,Q46A:C308A:C322A:D319A,E320A,K321A:D326A:D332A:D352A,R356A,E358A:D364A:D405A:E282A:E291A:E320A:E327A:E373A:E375A:E380A:E383A,K385A,K387A,D390A:E407A:E409A:E424A:E242A:E244A:E275A:E279A:F296S:F300A:I303A:I305A:I328A:I365A:K310A:K321A:K367A:K379A:K403A:K403A,D405A,K406A,E407A,E409A:K406A:K415A:K234A,K237A:K281A:N297A:N418A:N272A:P306A:P241A:Q330A:Q366A:Q416A:Q274A:Q278A:R361A,D364A,K367A:R411A:R413A:R417A:R239A:R243A:R243L:R243M:R270A:R270A,R271A,E275A:R271A:S298A:S299A:S302A:S324A:S419A:S247A:T301A:T394A:T395A:T251A:T273A:T277A:V325A:V329A:V371A:W304F:W276A:W280A:Y295A' -n 1     --pdb_dir='/home/kimlab1/database_data/pdb/data/data/structures/divided/pdb/'     --blast_db_dir='/home/strokach/databases/blast/db'     --archive_dir='/home/kimlab1/database_data/elaspic_v2/'\n",
      "\n"
     ]
    }
   ],
   "source": [
    "system_command = skempi_df_tocalculate.loc[0, 'system_command']\n",
    "print(system_command)"
   ]
  },
  {
   "cell_type": "raw",
   "metadata": {},
   "source": [
    "!({system_command}) > $NOTEBOOK_NAME/elaspic.log 2>&1"
   ]
  },
  {
   "cell_type": "raw",
   "metadata": {
    "collapsed": true,
    "run_control": {
     "marked": false
    }
   },
   "source": [
    "!cat $NOTEBOOK_NAME/elaspic.log | tail -n 50"
   ]
  },
  {
   "cell_type": "markdown",
   "metadata": {
    "run_control": {
     "marked": false
    }
   },
   "source": [
    "## SGE"
   ]
  },
  {
   "cell_type": "code",
   "execution_count": 50,
   "metadata": {
    "collapsed": true
   },
   "outputs": [],
   "source": [
    "PATH = (\n",
    "    '/home/kimlab1/strokach/anaconda/bin:/usr/local/bin:/bin:/usr/bin:/usr/local/sbin:/usr/sbin:/sbin'\n",
    ")\n",
    "\n",
    "js_beagle = ascommon.cluster_tools.JobSubmitter(\n",
    "    JOB_NAME, 'sge://:@192.168.6.201', op.abspath(NOTEBOOK_NAME),\n",
    "    email='ostrokach@gmail.com', force_new_folder=False,\n",
    "    nproc=1, queue='medium', walltime='8:00:00', mem='6G',\n",
    "    env={'PATH': PATH}\n",
    ")"
   ]
  },
  {
   "cell_type": "code",
   "execution_count": 51,
   "metadata": {
    "collapsed": false
   },
   "outputs": [
    {
     "data": {
      "text/plain": [
       "'elaspic_run_skempi_1'"
      ]
     },
     "execution_count": 51,
     "metadata": {},
     "output_type": "execute_result"
    }
   ],
   "source": [
    "js_beagle.job_name"
   ]
  },
  {
   "cell_type": "code",
   "execution_count": 52,
   "metadata": {
    "collapsed": true
   },
   "outputs": [],
   "source": [
    "skempi_df_tocalculate['PDB_ID'] = skempi_df_tocalculate['pdb_id'].str.upper()"
   ]
  },
  {
   "cell_type": "code",
   "execution_count": 53,
   "metadata": {
    "collapsed": false
   },
   "outputs": [
    {
     "data": {
      "text/plain": [
       "[['1A22',\n",
       "  \"mkdir -p '/home/kimlab1/database_data/biodb/recipes/elaspic_training_set/notebooks/elaspic_standalone_training_interface/elaspic_run_skempi_1/1a22' && cd '/home/kimlab1/database_data/biodb/recipes/elaspic_training_set/notebooks/elaspic_standalone_training_interface/elaspic_run_skempi_1/1a22' && elaspic run -p '/home/kimlab1/database_data/pdb/data/data/structures/all/pdb/pdb1a22.ent.gz' -m 'C182A:D171A:D26A:E174A:E186A:E56A:E65A:E66A:F176A:F191A:F10A:F25A:F25A,Y42A,Q46A:F54A:G187A:H18A:H21A:I179A:I4A:I58A:K168A:K172A:K70A:L6A:L9A:L15A:L45A:L73A:M14A:N12A:N63A:P5A:P48A:P59A:P61A:Q181A:Q22A:Q29A:Q46A:Q68A:Q69A:R167A:R178A:R183A:R8A:R16A:R19A:R64A:S184A:S188A:S7A:S51A:S55A:S57A:S62A:S71A:T175A:T3A:V180A:V185A:Y164A:Y42A:Y42A,Q46A:C308A:C322A:D319A,E320A,K321A:D326A:D332A:D352A,R356A,E358A:D364A:D405A:E282A:E291A:E320A:E327A:E373A:E375A:E380A:E383A,K385A,K387A,D390A:E407A:E409A:E424A:E242A:E244A:E275A:E279A:F296S:F300A:I303A:I305A:I328A:I365A:K310A:K321A:K367A:K379A:K403A:K403A,D405A,K406A,E407A,E409A:K406A:K415A:K234A,K237A:K281A:N297A:N418A:N272A:P306A:P241A:Q330A:Q366A:Q416A:Q274A:Q278A:R361A,D364A,K367A:R411A:R413A:R417A:R239A:R243A:R243L:R243M:R270A:R270A,R271A,E275A:R271A:S298A:S299A:S302A:S324A:S419A:S247A:T301A:T394A:T395A:T251A:T273A:T277A:V325A:V329A:V371A:W304F:W276A:W280A:Y295A' -n 1     --pdb_dir='/home/kimlab1/database_data/pdb/data/data/structures/divided/pdb/'     --blast_db_dir='/home/strokach/databases/blast/db'     --archive_dir='/home/kimlab1/database_data/elaspic_v2/'\\n\"]]"
      ]
     },
     "execution_count": 53,
     "metadata": {},
     "output_type": "execute_result"
    }
   ],
   "source": [
    "skempi_df_tocalculate.reset_index()[['PDB_ID', 'system_command']].values.tolist()[:1]"
   ]
  },
  {
   "cell_type": "raw",
   "metadata": {},
   "source": [
    "with js_beagle.connect():\n",
    "    js_beagle.submit(\n",
    "        skempi_df_tocalculate.reset_index()[['pdb_id', 'system_command']].values.tolist())"
   ]
  },
  {
   "cell_type": "raw",
   "metadata": {
    "collapsed": true,
    "run_control": {
     "marked": false
    }
   },
   "source": [
    "with js_beagle.connect():\n",
    "    print(js_beagle.get_num_running_jobs())"
   ]
  },
  {
   "cell_type": "markdown",
   "metadata": {
    "run_control": {
     "marked": false
    }
   },
   "source": [
    "## Resubmit failed"
   ]
  },
  {
   "cell_type": "code",
   "execution_count": 54,
   "metadata": {
    "collapsed": false
   },
   "outputs": [
    {
     "name": "stdout",
     "output_type": "stream",
     "text": [
      "Counter({'misformed output': 70, 'missing': 2})\n"
     ]
    }
   ],
   "source": [
    "# Get job status\n",
    "results_df = (\n",
    "    js_beagle.job_status(\n",
    "        skempi_df_tocalculate.reset_index()[['PDB_ID', 'system_command']].values.tolist()))\n",
    "print(Counter(results_df['status']))"
   ]
  },
  {
   "cell_type": "code",
   "execution_count": 55,
   "metadata": {
    "collapsed": false
   },
   "outputs": [
    {
     "name": "stdout",
     "output_type": "stream",
     "text": [
      "2\n"
     ]
    }
   ],
   "source": [
    "# Job statistics\n",
    "failed = (\n",
    "    set(results_df[~results_df['status'].isin(['done', 'misformed output'])]['job_id'])\n",
    ")\n",
    "system_commands_remaining = (\n",
    "    skempi_df_tocalculate[\n",
    "        (skempi_df_tocalculate['PDB_ID'].isin(failed))\n",
    "    ]\n",
    ")\n",
    "print(len(system_commands_remaining))"
   ]
  },
  {
   "cell_type": "code",
   "execution_count": 56,
   "metadata": {
    "collapsed": false
   },
   "outputs": [
    {
     "data": {
      "text/plain": [
       "\"mkdir -p '/home/kimlab1/database_data/biodb/recipes/elaspic_training_set/notebooks/elaspic_standalone_training_interface/elaspic_run_skempi_1/2qj9' && cd '/home/kimlab1/database_data/biodb/recipes/elaspic_training_set/notebooks/elaspic_standalone_training_interface/elaspic_run_skempi_1/2qj9' && elaspic run -p '/home/kimlab1/database_data/pdb/data/data/structures/all/pdb/pdb2qj9.ent.gz' -m 'A74T,M78L,K79G,Y80L:A74T,M78L,K79G,Y80L,G42H,D46E,A61T,I62M' -n 1     --pdb_dir='/home/kimlab1/database_data/pdb/data/data/structures/divided/pdb/'     --blast_db_dir='/home/strokach/databases/blast/db'     --archive_dir='/home/kimlab1/database_data/elaspic_v2/'\\n\""
      ]
     },
     "execution_count": 56,
     "metadata": {},
     "output_type": "execute_result"
    }
   ],
   "source": [
    "system_commands_remaining['system_command'].values[0]"
   ]
  },
  {
   "cell_type": "markdown",
   "metadata": {},
   "source": [
    "Mutations affecting multiple amino acids will not be calculated. I think this is some of the mutations failed."
   ]
  },
  {
   "cell_type": "raw",
   "metadata": {
    "collapsed": true,
    "run_control": {
     "marked": false
    }
   },
   "source": [
    "with js_beagle.connect():\n",
    "    js_beagle.submit(\n",
    "        system_commands_remaining[['pdb_id', 'system_command']].values.tolist())"
   ]
  },
  {
   "cell_type": "markdown",
   "metadata": {
    "run_control": {
     "marked": false
    }
   },
   "source": [
    "## Results\n",
    "\n",
    "This part is a hack on top of a hack because ELASPIC does not save chain ids...\n",
    "We remove mutations that affect multiple interfaces in the PDB (using 4.25 A as the threshold for duplicate)."
   ]
  },
  {
   "cell_type": "markdown",
   "metadata": {
    "run_control": {
     "marked": false
    }
   },
   "source": [
    "### Read results"
   ]
  },
  {
   "cell_type": "code",
   "execution_count": 57,
   "metadata": {
    "collapsed": false
   },
   "outputs": [
    {
     "name": "stdout",
     "output_type": "stream",
     "text": [
      "1A22AB.pdb\r\n",
      "1A22A.fasta\r\n",
      "1A22A.pdb\r\n",
      "1A22B.fasta\r\n",
      "1A22B.pdb\r\n",
      "\u001b[0m\u001b[01;34mmodel\u001b[0m/\r\n",
      "model.json\r\n",
      "mutation_A_C182A.json\r\n",
      "mutation_A_D171A.json\r\n",
      "mutation_A_D26A.json\r\n"
     ]
    }
   ],
   "source": [
    "ls $NOTEBOOK_NAME/$JOB_NAME/1a22/.elaspic | head"
   ]
  },
  {
   "cell_type": "code",
   "execution_count": 58,
   "metadata": {
    "collapsed": false,
    "run_control": {
     "marked": false
    },
    "scrolled": true
   },
   "outputs": [
    {
     "name": "stdout",
     "output_type": "stream",
     "text": [
      "elaspic_standalone_training_interface/elaspic_run_skempi_1/1brs/.elaspic/mutation_A_H102Q,R59A.json\n",
      "elaspic_standalone_training_interface/elaspic_run_skempi_1/1brs/.elaspic/mutation_A_H102Q,R59K.json\n",
      "elaspic_standalone_training_interface/elaspic_run_skempi_1/2j0t/.elaspic/mutation_D_C1S,F12Y.json\n",
      "elaspic_standalone_training_interface/elaspic_run_skempi_1/2j0t/.elaspic/mutation_D_T2L,V4S.json\n",
      "elaspic_standalone_training_interface/elaspic_run_skempi_1/2j0t/.elaspic/mutation_D_T2L,V4S,S68A.json\n",
      "elaspic_standalone_training_interface/elaspic_run_skempi_1/2j0t/.elaspic/mutation_D_T2S,V4A.json\n",
      "elaspic_standalone_training_interface/elaspic_run_skempi_1/2j0t/.elaspic/mutation_D_T2S,V4A,S68Y.json\n",
      "elaspic_standalone_training_interface/elaspic_run_skempi_1/2j0t/.elaspic/mutation_D_V69A,A103V.json\n",
      "elaspic_standalone_training_interface/elaspic_run_skempi_1/1a22/.elaspic/mutation_A_F25A,Y42A,Q46A.json\n",
      "elaspic_standalone_training_interface/elaspic_run_skempi_1/1a22/.elaspic/mutation_A_Y42A,Q46A.json\n",
      "elaspic_standalone_training_interface/elaspic_run_skempi_1/1gc1/.elaspic/mutation_C_Q40A,D63A.json\n",
      "elaspic_standalone_training_interface/elaspic_run_skempi_1/1gc1/.elaspic/mutation_C_Q40A,D63A,Q89L.json\n",
      "elaspic_standalone_training_interface/elaspic_run_skempi_1/2wpt/.elaspic/mutation_A_D32E,D33L,N34V,R38T,E39H,R42E,L43M.json\n",
      "elaspic_standalone_training_interface/elaspic_run_skempi_1/2wpt/.elaspic/mutation_A_D32E,D33L,N34V,R38T,E39H,R42E,L43M,D48S,R57K,D58E,D59G,R60D,E61D.json\n",
      "elaspic_standalone_training_interface/elaspic_run_skempi_1/2wpt/.elaspic/mutation_A_D33L,N34V,R38T.json\n",
      "elaspic_standalone_training_interface/elaspic_run_skempi_1/2wpt/.elaspic/mutation_A_E17Q,F18L,K20T,K21T,R24N,E26D,G27T,A28S,T29S.json\n",
      "elaspic_standalone_training_interface/elaspic_run_skempi_1/2wpt/.elaspic/mutation_A_E17Q,F18L,K20T,K21T,R24N,E26D,G27T,A28S,T29S,D32E,D33L,N34V,R38T,E39H,R42E,L43M.json\n",
      "elaspic_standalone_training_interface/elaspic_run_skempi_1/2wpt/.elaspic/mutation_A_E17Q,F18L,K20T,K21T,R24N,E26D,G27T,A28S,T29S,D32E,D33L,N34V,R38T,E39H,R42E,L43M,D48S,R57K,D58E,D59G,R60D,E61D.json\n",
      "elaspic_standalone_training_interface/elaspic_run_skempi_1/2wpt/.elaspic/mutation_A_E17Q,F18L,K20T,K21T,R24N,E26D,G27T,A28S,T29S,D32E,D33L,N34V,R38T,E39H,R42E,L43M,D48S,R57K,D58E,D59G,R60D,E61D,E65S,K69N,E70T,I71V,E73Q.json\n",
      "elaspic_standalone_training_interface/elaspic_run_skempi_1/2wpt/.elaspic/mutation_A_E26D,G27T,A28S,T29S,D32E,D33L,N34V,R38T,E39H,R42E,L43M.json\n",
      "elaspic_standalone_training_interface/elaspic_run_skempi_1/2wpt/.elaspic/mutation_A_K20T,K21T,R24N,E26D,G27T,A28S,T29S,D32E,D33L,N34V,R38T,E39H,R42E,L43M.json\n",
      "elaspic_standalone_training_interface/elaspic_run_skempi_1/2wpt/.elaspic/mutation_A_N34V,R38T.json\n",
      "elaspic_standalone_training_interface/elaspic_run_skempi_1/2wpt/.elaspic/mutation_A_N34V,R38T,E39H,R42E.json\n",
      "elaspic_standalone_training_interface/elaspic_run_skempi_1/2wpt/.elaspic/mutation_A_N34V,R38T,R42E.json\n",
      "elaspic_standalone_training_interface/elaspic_run_skempi_1/1efn/.elaspic/mutation_A_T97H,E98H.json\n",
      "elaspic_standalone_training_interface/elaspic_run_skempi_1/1a22/.elaspic/mutation_B_D319A,E320A,K321A.json\n",
      "elaspic_standalone_training_interface/elaspic_run_skempi_1/1a22/.elaspic/mutation_B_D352A,R356A,E358A.json\n",
      "elaspic_standalone_training_interface/elaspic_run_skempi_1/1a22/.elaspic/mutation_B_E383A,K385A,K387A,D390A.json\n",
      "elaspic_standalone_training_interface/elaspic_run_skempi_1/1a22/.elaspic/mutation_B_K403A,D405A,K406A,E407A,E409A.json\n",
      "elaspic_standalone_training_interface/elaspic_run_skempi_1/1a22/.elaspic/mutation_B_K234A,K237A.json\n",
      "elaspic_standalone_training_interface/elaspic_run_skempi_1/1a22/.elaspic/mutation_B_R361A,D364A,K367A.json\n",
      "elaspic_standalone_training_interface/elaspic_run_skempi_1/1a22/.elaspic/mutation_B_R270A,R271A,E275A.json\n",
      "elaspic_standalone_training_interface/elaspic_run_skempi_1/1rew/.elaspic/mutation_A_A34D,A34D.json\n",
      "elaspic_standalone_training_interface/elaspic_run_skempi_1/1rew/.elaspic/mutation_A_A34D,D53A,A34D,D53A.json\n",
      "elaspic_standalone_training_interface/elaspic_run_skempi_1/1rew/.elaspic/mutation_A_D30A,A34D,D30A,A34D.json\n",
      "elaspic_standalone_training_interface/elaspic_run_skempi_1/1rew/.elaspic/mutation_A_D30A,D30A.json\n",
      "elaspic_standalone_training_interface/elaspic_run_skempi_1/1rew/.elaspic/mutation_A_D30A,W31A,D30A,W31A.json\n",
      "elaspic_standalone_training_interface/elaspic_run_skempi_1/1rew/.elaspic/mutation_A_D53A,D53A.json\n",
      "elaspic_standalone_training_interface/elaspic_run_skempi_1/1rew/.elaspic/mutation_A_D53A,E109R,D53A,E109R.json\n",
      "elaspic_standalone_training_interface/elaspic_run_skempi_1/1rew/.elaspic/mutation_A_D53P,D53P.json\n",
      "elaspic_standalone_training_interface/elaspic_run_skempi_1/1rew/.elaspic/mutation_A_E109R,E109R.json\n",
      "elaspic_standalone_training_interface/elaspic_run_skempi_1/1rew/.elaspic/mutation_A_F49A,F49A.json\n",
      "elaspic_standalone_training_interface/elaspic_run_skempi_1/1rew/.elaspic/mutation_A_F49A,P50A,F49A,P50A.json\n",
      "elaspic_standalone_training_interface/elaspic_run_skempi_1/1rew/.elaspic/mutation_A_H39D,H39D.json\n",
      "elaspic_standalone_training_interface/elaspic_run_skempi_1/1rew/.elaspic/mutation_A_H39D,L100A,H39D,L100A.json\n",
      "elaspic_standalone_training_interface/elaspic_run_skempi_1/1rew/.elaspic/mutation_A_H39D,S88A,H39D,S88A.json\n",
      "elaspic_standalone_training_interface/elaspic_run_skempi_1/1rew/.elaspic/mutation_A_L100A,L100A.json\n",
      "elaspic_standalone_training_interface/elaspic_run_skempi_1/1rew/.elaspic/mutation_A_P50A,P50A.json\n",
      "elaspic_standalone_training_interface/elaspic_run_skempi_1/1rew/.elaspic/mutation_A_S69R,S69R.json\n",
      "elaspic_standalone_training_interface/elaspic_run_skempi_1/1rew/.elaspic/mutation_A_S88A,S88A.json\n",
      "elaspic_standalone_training_interface/elaspic_run_skempi_1/1rew/.elaspic/mutation_A_W28F,W28F.json\n",
      "elaspic_standalone_training_interface/elaspic_run_skempi_1/1rew/.elaspic/mutation_A_W31A,W31A.json\n",
      "elaspic_standalone_training_interface/elaspic_run_skempi_1/1rew/.elaspic/mutation_A_Y103A,Y103A.json\n",
      "elaspic_standalone_training_interface/elaspic_run_skempi_1/1emv/.elaspic/mutation_A_E32D,L33D,V34N,T38R,H39E,E42R,M43L,S48D,K57R,E58D,G59D,D60R,D61E,S65E,N69K,T70E,V71I,Q73E.json\n",
      "elaspic_standalone_training_interface/elaspic_run_skempi_1/1emv/.elaspic/mutation_A_Q17E,L18F,S48D,K57R,E58D,G59D,D60R,D61E,S65E,N69K,T70E,V71I,Q73E.json\n",
      "elaspic_standalone_training_interface/elaspic_run_skempi_1/1emv/.elaspic/mutation_A_Q17E,L18F,T20K,T21K,N24R,D26E,T27G,S28A,S29T,E32D,L33D,V34N,T38R,H39E,E42R,M43L,S48D,K57R,E58D,G59D,D60R,D61E,S65E,N69K,T70E,V71I,Q73E.json\n",
      "elaspic_standalone_training_interface/elaspic_run_skempi_1/1emv/.elaspic/mutation_A_Q17E,L18F,T20K,T21K,N24R,D26E,T27G,S28A,S29T,S48D,K57R,E58D,G59D,D60R,D61E,S65E,N69K,T70E,V71I,Q73E.json\n",
      "elaspic_standalone_training_interface/elaspic_run_skempi_1/1emv/.elaspic/mutation_A_Q17E,L18F,T20K,T21K,N24R,D26E,T27G,S28A,S29T,S65E,N69K,T70E,V71I,Q73E.json\n",
      "elaspic_standalone_training_interface/elaspic_run_skempi_1/1emv/.elaspic/mutation_A_Q17E,L18F,T20K,T21K,N24R,S48D,K57R,E58D,G59D,D60R,D61E,S65E,N69K,T70E,V71I,Q73E.json\n",
      "elaspic_standalone_training_interface/elaspic_run_skempi_1/1emv/.elaspic/mutation_A_S48D,K57R,E58D,G59D,D60R,D61E,S65E,N69K,T70E,V71I,Q73E.json\n",
      "elaspic_standalone_training_interface/elaspic_run_skempi_1/1emv/.elaspic/mutation_A_S65E,N69K,T70E,V71I,Q73E.json\n",
      "elaspic_standalone_training_interface/elaspic_run_skempi_1/1a4y/.elaspic/mutation_A_Q430A,V432A.json\n",
      "elaspic_standalone_training_interface/elaspic_run_skempi_1/1a4y/.elaspic/mutation_A_W438A,S439A,E440A.json\n",
      "elaspic_standalone_training_interface/elaspic_run_skempi_1/1a4y/.elaspic/mutation_A_Y434A,D435A.json\n",
      "elaspic_standalone_training_interface/elaspic_run_skempi_1/1a4y/.elaspic/mutation_A_Y434A,Y437A.json\n",
      "elaspic_standalone_training_interface/elaspic_run_skempi_1/1z7x/.elaspic/mutation_W_Q430A,V432A.json\n",
      "elaspic_standalone_training_interface/elaspic_run_skempi_1/1z7x/.elaspic/mutation_W_W438A,S439A,E440A.json\n",
      "elaspic_standalone_training_interface/elaspic_run_skempi_1/1z7x/.elaspic/mutation_W_Y434A,D435A.json\n",
      "elaspic_standalone_training_interface/elaspic_run_skempi_1/1z7x/.elaspic/mutation_W_Y434A,Y437A.json\n",
      "elaspic_standalone_training_interface/elaspic_run_skempi_1/1ahw/.elaspic/mutation_C_K149A,D150A.json\n",
      "elaspic_standalone_training_interface/elaspic_run_skempi_1/1ahw/.elaspic/mutation_C_K165A,K166A.json\n",
      "elaspic_standalone_training_interface/elaspic_run_skempi_1/1ahw/.elaspic/mutation_C_T121A,K122K.json\n",
      "elaspic_standalone_training_interface/elaspic_run_skempi_1/1dan/.elaspic/mutation_T_C49S,C57S.json\n",
      "elaspic_standalone_training_interface/elaspic_run_skempi_1/1dan/.elaspic/mutation_T_D44A,D58A.json\n",
      "elaspic_standalone_training_interface/elaspic_run_skempi_1/1dan/.elaspic/mutation_T_D44A,K20A.json\n",
      "elaspic_standalone_training_interface/elaspic_run_skempi_1/1dan/.elaspic/mutation_T_D44A,T60A.json\n",
      "elaspic_standalone_training_interface/elaspic_run_skempi_1/1dan/.elaspic/mutation_T_D44A,W45A.json\n",
      "elaspic_standalone_training_interface/elaspic_run_skempi_1/1dan/.elaspic/mutation_T_D54A,E56A.json\n",
      "elaspic_standalone_training_interface/elaspic_run_skempi_1/1dan/.elaspic/mutation_T_D61A,E62A.json\n",
      "elaspic_standalone_training_interface/elaspic_run_skempi_1/1dan/.elaspic/mutation_U_E130A,R131F.json\n",
      "elaspic_standalone_training_interface/elaspic_run_skempi_1/1dan/.elaspic/mutation_U_E183A,N184A.json\n",
      "elaspic_standalone_training_interface/elaspic_run_skempi_1/1dan/.elaspic/mutation_T_K68A,Q69A.json\n",
      "elaspic_standalone_training_interface/elaspic_run_skempi_1/1dan/.elaspic/mutation_U_K149A,D150A.json\n",
      "elaspic_standalone_training_interface/elaspic_run_skempi_1/1dan/.elaspic/mutation_U_K165A,K166A.json\n",
      "elaspic_standalone_training_interface/elaspic_run_skempi_1/1dan/.elaspic/mutation_U_K201A,D204A.json\n",
      "elaspic_standalone_training_interface/elaspic_run_skempi_1/1dan/.elaspic/mutation_T_K41A,D44A.json\n",
      "elaspic_standalone_training_interface/elaspic_run_skempi_1/1dan/.elaspic/mutation_T_K46A,K48A.json\n",
      "elaspic_standalone_training_interface/elaspic_run_skempi_1/1dan/.elaspic/mutation_T_K65A,D66A.json\n",
      "elaspic_standalone_training_interface/elaspic_run_skempi_1/1dan/.elaspic/mutation_U_L104A,E105A.json\n",
      "elaspic_standalone_training_interface/elaspic_run_skempi_1/1dan/.elaspic/mutation_U_N107A,Q110A.json\n",
      "elaspic_standalone_training_interface/elaspic_run_skempi_1/1dan/.elaspic/mutation_U_N173A,E174A.json\n",
      "elaspic_standalone_training_interface/elaspic_run_skempi_1/1dan/.elaspic/mutation_U_N199A,R200A.json\n",
      "elaspic_standalone_training_interface/elaspic_run_skempi_1/1dan/.elaspic/mutation_U_Q114A,E117A.json\n",
      "elaspic_standalone_training_interface/elaspic_run_skempi_1/1dan/.elaspic/mutation_U_R136A,N137A,N138A.json\n",
      "elaspic_standalone_training_interface/elaspic_run_skempi_1/1dan/.elaspic/mutation_U_S195A,R196A.json\n",
      "elaspic_standalone_training_interface/elaspic_run_skempi_1/1dan/.elaspic/mutation_U_T197A,V198A.json\n",
      "elaspic_standalone_training_interface/elaspic_run_skempi_1/1dan/.elaspic/mutation_T_T60A,K20A.json\n",
      "elaspic_standalone_training_interface/elaspic_run_skempi_1/1dan/.elaspic/mutation_T_W45R,S47G.json\n",
      "elaspic_standalone_training_interface/elaspic_run_skempi_1/1jrh/.elaspic/mutation_I_A95D,K98R,E100K.json\n",
      "elaspic_standalone_training_interface/elaspic_run_skempi_1/1jrh/.elaspic/mutation_I_A103L,V104M.json\n",
      "elaspic_standalone_training_interface/elaspic_run_skempi_1/1jrh/.elaspic/mutation_I_A59S,I61T,H65D.json\n",
      "elaspic_standalone_training_interface/elaspic_run_skempi_1/1jrh/.elaspic/mutation_I_E55P,I57L.json\n",
      "elaspic_standalone_training_interface/elaspic_run_skempi_1/1jrh/.elaspic/mutation_I_E55P,I57R.json\n",
      "elaspic_standalone_training_interface/elaspic_run_skempi_1/1jrh/.elaspic/mutation_I_I35N,P37S,V39T,V41I.json\n",
      "elaspic_standalone_training_interface/elaspic_run_skempi_1/1jrh/.elaspic/mutation_I_M25L,I28V.json\n",
      "elaspic_standalone_training_interface/elaspic_run_skempi_1/1jrh/.elaspic/mutation_I_S54G,E55G,I57R.json\n",
      "elaspic_standalone_training_interface/elaspic_run_skempi_1/1jrh/.elaspic/mutation_I_S54G,E55P,I57K.json\n",
      "elaspic_standalone_training_interface/elaspic_run_skempi_1/1jrh/.elaspic/mutation_I_S71Y,D72E,H73Q,V74I,G75M,D76Y,S78D,N79V,L81A.json\n",
      "elaspic_standalone_training_interface/elaspic_run_skempi_1/1jrh/.elaspic/mutation_I_T19L,E21K.json\n",
      "elaspic_standalone_training_interface/elaspic_run_skempi_1/1jrh/.elaspic/mutation_I_V83A,R88K.json\n",
      "elaspic_standalone_training_interface/elaspic_run_skempi_1/1fcc/.elaspic/mutation_C_T44A,Y45A.json\n",
      "elaspic_standalone_training_interface/elaspic_run_skempi_1/1mah/.elaspic/mutation_A_Y72N,W286R.json\n",
      "elaspic_standalone_training_interface/elaspic_run_skempi_1/1mah/.elaspic/mutation_A_Y72N,Y124Q.json\n",
      "elaspic_standalone_training_interface/elaspic_run_skempi_1/1mah/.elaspic/mutation_A_Y72N,Y124Q,W286R.json\n",
      "elaspic_standalone_training_interface/elaspic_run_skempi_1/1mah/.elaspic/mutation_A_Y124Q,W286R.json\n",
      "elaspic_standalone_training_interface/elaspic_run_skempi_1/2g2u/.elaspic/mutation_B_E73A,Y143A.json\n",
      "elaspic_standalone_training_interface/elaspic_run_skempi_1/2g2u/.elaspic/mutation_B_E73A,Y50A.json\n",
      "elaspic_standalone_training_interface/elaspic_run_skempi_1/2g2u/.elaspic/mutation_B_E73M,F142W,Y143F.json\n",
      "elaspic_standalone_training_interface/elaspic_run_skempi_1/2g2u/.elaspic/mutation_B_E73M,S130K.json\n",
      "elaspic_standalone_training_interface/elaspic_run_skempi_1/2g2u/.elaspic/mutation_B_E73M,S130K,F142W,Y143F.json\n",
      "elaspic_standalone_training_interface/elaspic_run_skempi_1/2g2u/.elaspic/mutation_B_E73M,S130K,F142W,Y143F,S146M.json\n",
      "elaspic_standalone_training_interface/elaspic_run_skempi_1/2g2u/.elaspic/mutation_B_E73M,S130K,S146M.json\n",
      "elaspic_standalone_training_interface/elaspic_run_skempi_1/2g2u/.elaspic/mutation_B_E73M,Y143F.json\n",
      "elaspic_standalone_training_interface/elaspic_run_skempi_1/2g2u/.elaspic/mutation_B_W112A,Y143A.json\n",
      "elaspic_standalone_training_interface/elaspic_run_skempi_1/2g2u/.elaspic/mutation_B_W150A,Y143A.json\n",
      "elaspic_standalone_training_interface/elaspic_run_skempi_1/2g2u/.elaspic/mutation_B_Y50A,Y143A.json\n",
      "elaspic_standalone_training_interface/elaspic_run_skempi_1/1jtg/.elaspic/mutation_B_D163K,D135K,V134K.json\n",
      "elaspic_standalone_training_interface/elaspic_run_skempi_1/1jtg/.elaspic/mutation_B_D49A,S130A.json\n",
      "elaspic_standalone_training_interface/elaspic_run_skempi_1/1jtg/.elaspic/mutation_B_F142A,S130A.json\n",
      "elaspic_standalone_training_interface/elaspic_run_skempi_1/1jtg/.elaspic/mutation_B_F142A,Y143A.json\n",
      "elaspic_standalone_training_interface/elaspic_run_skempi_1/1jtg/.elaspic/mutation_B_F142A,Y143A,S130A.json\n",
      "elaspic_standalone_training_interface/elaspic_run_skempi_1/1jtg/.elaspic/mutation_B_K74A,F142A.json\n",
      "elaspic_standalone_training_interface/elaspic_run_skempi_1/1jtg/.elaspic/mutation_B_K74A,F142A,S130A.json\n",
      "elaspic_standalone_training_interface/elaspic_run_skempi_1/1jtg/.elaspic/mutation_B_K74A,F142A,Y143A.json\n",
      "elaspic_standalone_training_interface/elaspic_run_skempi_1/1jtg/.elaspic/mutation_B_K74A,F142A,Y143A,S130A.json\n",
      "elaspic_standalone_training_interface/elaspic_run_skempi_1/1jtg/.elaspic/mutation_B_K74A,S130A.json\n",
      "elaspic_standalone_training_interface/elaspic_run_skempi_1/1jtg/.elaspic/mutation_B_K74A,Y143A.json\n",
      "elaspic_standalone_training_interface/elaspic_run_skempi_1/1jtg/.elaspic/mutation_B_K74A,Y143A,S130A.json\n",
      "elaspic_standalone_training_interface/elaspic_run_skempi_1/1jtg/.elaspic/mutation_B_S71A,S113A.json\n",
      "elaspic_standalone_training_interface/elaspic_run_skempi_1/1jtg/.elaspic/mutation_B_T140K,Q157K.json\n",
      "elaspic_standalone_training_interface/elaspic_run_skempi_1/1jtg/.elaspic/mutation_B_V165K,D163K,D135K,N89K.json\n",
      "elaspic_standalone_training_interface/elaspic_run_skempi_1/1jtg/.elaspic/mutation_B_V165K,D163K,N89K.json\n",
      "elaspic_standalone_training_interface/elaspic_run_skempi_1/1jtg/.elaspic/mutation_B_Y143A,S130A.json\n",
      "elaspic_standalone_training_interface/elaspic_run_skempi_1/2qj9/.elaspic/mutation_C_A74T,M78L,K79G,Y80L.json\n",
      "elaspic_standalone_training_interface/elaspic_run_skempi_1/2qj9/.elaspic/mutation_C_A74T,M78L,K79G,Y80L,G42H,D46E,A61T,I62M.json\n",
      "elaspic_standalone_training_interface/elaspic_run_skempi_1/2qja/.elaspic/mutation_C_G42H,D46E,A61T,I62M.json\n",
      "elaspic_standalone_training_interface/elaspic_run_skempi_1/1rew/.elaspic/mutation_C_K88R,S90T,K92I,A93P,Q94H,L95Q,T98D.json\n",
      "elaspic_standalone_training_interface/elaspic_run_skempi_1/1rew/.elaspic/mutation_C_K88R,S90T,K92I,A93P,Q94H,L95Q,T98D,A74T,M78L,K79G,Y80L.json\n",
      "elaspic_standalone_training_interface/elaspic_run_skempi_1/1rew/.elaspic/mutation_C_K88R,S90T,K92I,A93P,Q94H,L95Q,T98D,A74T,M78L,K79G,Y80L,G42H,D46E,A61T,I62M.json\n",
      "elaspic_standalone_training_interface/elaspic_run_skempi_1/1jtg/.elaspic/mutation_A_E104A,Y105A.json\n",
      "elaspic_standalone_training_interface/elaspic_run_skempi_1/1jtg/.elaspic/mutation_A_K234A,S130A.json\n",
      "elaspic_standalone_training_interface/elaspic_run_skempi_1/1jtg/.elaspic/mutation_A_K234A,S130A,R243A.json\n",
      "elaspic_standalone_training_interface/elaspic_run_skempi_1/1jtg/.elaspic/mutation_A_K234A,S235A,S130A,R243A.json\n",
      "elaspic_standalone_training_interface/elaspic_run_skempi_1/1jtg/.elaspic/mutation_A_R243A,K234A.json\n",
      "elaspic_standalone_training_interface/elaspic_run_skempi_1/1jtg/.elaspic/mutation_A_R243A,S130A.json\n",
      "elaspic_standalone_training_interface/elaspic_run_skempi_1/1jtg/.elaspic/mutation_A_R243A,S235A.json\n",
      "elaspic_standalone_training_interface/elaspic_run_skempi_1/1jtg/.elaspic/mutation_A_R243A,S235A,K234A.json\n",
      "elaspic_standalone_training_interface/elaspic_run_skempi_1/1jtg/.elaspic/mutation_A_R243A,S235A,S130A.json\n",
      "elaspic_standalone_training_interface/elaspic_run_skempi_1/1jtg/.elaspic/mutation_A_S235A,K234A.json\n",
      "elaspic_standalone_training_interface/elaspic_run_skempi_1/1jtg/.elaspic/mutation_A_S235A,S130A.json\n",
      "elaspic_standalone_training_interface/elaspic_run_skempi_1/1jtg/.elaspic/mutation_A_S235A,S130A,K234A.json\n",
      "elaspic_standalone_training_interface/elaspic_run_skempi_1/1cho/.elaspic/mutation_I_A15D,G32A.json\n",
      "elaspic_standalone_training_interface/elaspic_run_skempi_1/1cho/.elaspic/mutation_I_A15D,G32A,N33S.json\n",
      "elaspic_standalone_training_interface/elaspic_run_skempi_1/1cho/.elaspic/mutation_I_A15D,L18A.json\n",
      "elaspic_standalone_training_interface/elaspic_run_skempi_1/1cho/.elaspic/mutation_I_A15D,L18A,Y20D.json\n",
      "elaspic_standalone_training_interface/elaspic_run_skempi_1/1cho/.elaspic/mutation_I_A15G,L18M,L23V,K29I,E43K.json\n",
      "elaspic_standalone_training_interface/elaspic_run_skempi_1/1cho/.elaspic/mutation_I_A15G,T17M,L18M,Y20R,R21L,G32N,N33D,S51N,K55E.json\n",
      "elaspic_standalone_training_interface/elaspic_run_skempi_1/1cho/.elaspic/mutation_I_A15R,L18R.json\n",
      "elaspic_standalone_training_interface/elaspic_run_skempi_1/1cho/.elaspic/mutation_I_A15R,T17K,L18R.json\n",
      "elaspic_standalone_training_interface/elaspic_run_skempi_1/1cho/.elaspic/mutation_I_A15R,T17K,L18R,E19S.json\n",
      "elaspic_standalone_training_interface/elaspic_run_skempi_1/1cho/.elaspic/mutation_I_A15R,T17P,L18R.json\n",
      "elaspic_standalone_training_interface/elaspic_run_skempi_1/1cho/.elaspic/mutation_I_A15T,L18M.json\n",
      "elaspic_standalone_training_interface/elaspic_run_skempi_1/1cho/.elaspic/mutation_I_A15V,T17S.json\n",
      "elaspic_standalone_training_interface/elaspic_run_skempi_1/1cho/.elaspic/mutation_I_A15V,T17S,R21M,N28S,K29Q,G32S,K34E,E43D.json\n",
      "elaspic_standalone_training_interface/elaspic_run_skempi_1/1cho/.elaspic/mutation_I_D7N,E10D,A15V,T17S,E19L,R21M,V42A,E43D.json\n",
      "elaspic_standalone_training_interface/elaspic_run_skempi_1/1cho/.elaspic/mutation_I_D7N,E10G,L18M,R21M,E43D,K55E.json\n",
      "elaspic_standalone_training_interface/elaspic_run_skempi_1/1cho/.elaspic/mutation_I_E10D,A15V,E19D,R21M,G32S,E43D,L48I,K55R.json\n",
      "elaspic_standalone_training_interface/elaspic_run_skempi_1/1cho/.elaspic/mutation_I_E10D,A15V,E19D,R21M,K29T,G32S,E43D,L48I.json\n",
      "elaspic_standalone_training_interface/elaspic_run_skempi_1/1cho/.elaspic/mutation_I_E10D,A15V,T17P,E19D,R21M,N28S,G32S,N45S,S51R.json\n",
      "elaspic_standalone_training_interface/elaspic_run_skempi_1/1cho/.elaspic/mutation_I_E10D,A15V,T17S,E19D,R21M,K29T,G32N,N36I,E43D,L48I.json\n",
      "elaspic_standalone_training_interface/elaspic_run_skempi_1/1cho/.elaspic/mutation_I_E10D,A15V,T17S,R21M,N28S,G32N,N36D,S51G.json\n",
      "elaspic_standalone_training_interface/elaspic_run_skempi_1/1cho/.elaspic/mutation_I_E10D,A15V,T17S,R21M,N28S,G32S,E43D.json\n",
      "elaspic_standalone_training_interface/elaspic_run_skempi_1/1cho/.elaspic/mutation_I_E10D,A15V,T17S,R21M,N28S,G32S,N36D,E43D.json\n",
      "elaspic_standalone_training_interface/elaspic_run_skempi_1/1cho/.elaspic/mutation_I_E10D,A15V,T17S,R21M,N28S,G32S,N36D,E43D,T49N.json\n",
      "elaspic_standalone_training_interface/elaspic_run_skempi_1/1cho/.elaspic/mutation_I_E10D,A15V,T17S,R21M,N28S,G32S,N36D,V41F,E43D,T49S.json\n",
      "elaspic_standalone_training_interface/elaspic_run_skempi_1/1cho/.elaspic/mutation_I_E10D,A15V,T17S,R21M,N28S,G32S,V42A,E43D.json\n",
      "elaspic_standalone_training_interface/elaspic_run_skempi_1/1cho/.elaspic/mutation_I_E10D,A15V,T17S,R21M,V42A,E43D.json\n",
      "elaspic_standalone_training_interface/elaspic_run_skempi_1/1cho/.elaspic/mutation_I_E10D,A15V,Y20E,R21M,E43D.json\n",
      "elaspic_standalone_training_interface/elaspic_run_skempi_1/1cho/.elaspic/mutation_I_E10D,K13M,L18M,L23V.json\n",
      "elaspic_standalone_training_interface/elaspic_run_skempi_1/1cho/.elaspic/mutation_I_E10D,K13R,A15D,R21M,E43D.json\n",
      "elaspic_standalone_training_interface/elaspic_run_skempi_1/1cho/.elaspic/mutation_I_E10D,K13R,A15V,E19D,R21M,G32S,E43D,L48I,K55R.json\n",
      "elaspic_standalone_training_interface/elaspic_run_skempi_1/1cho/.elaspic/mutation_I_E10D,L18F,R21M,E43D.json\n",
      "elaspic_standalone_training_interface/elaspic_run_skempi_1/1cho/.elaspic/mutation_I_E10D,L18M,R21M,E43D.json\n",
      "elaspic_standalone_training_interface/elaspic_run_skempi_1/1cho/.elaspic/mutation_I_E10D,L18M,R21M,G32D,E43D.json\n",
      "elaspic_standalone_training_interface/elaspic_run_skempi_1/1cho/.elaspic/mutation_I_E10D,L18V,R21M,E43D.json\n",
      "elaspic_standalone_training_interface/elaspic_run_skempi_1/1cho/.elaspic/mutation_I_E10D,L18V,R21M,G32D,E43D.json\n",
      "elaspic_standalone_training_interface/elaspic_run_skempi_1/1cho/.elaspic/mutation_I_E10D,R21M,E43D.json\n",
      "elaspic_standalone_training_interface/elaspic_run_skempi_1/1cho/.elaspic/mutation_I_E10D,R21M,K29Q,G32S,N36S,E43D.json\n",
      "elaspic_standalone_training_interface/elaspic_run_skempi_1/1cho/.elaspic/mutation_I_E10D,R21M,K34R,E43D.json\n",
      "elaspic_standalone_training_interface/elaspic_run_skempi_1/1cho/.elaspic/mutation_I_E10D,R21M,L23F,N28S,G32S,E43D.json\n",
      "elaspic_standalone_training_interface/elaspic_run_skempi_1/1cho/.elaspic/mutation_I_E10D,T17L,R21M,G32D,N36S,E43D,T49S.json\n",
      "elaspic_standalone_training_interface/elaspic_run_skempi_1/1cho/.elaspic/mutation_I_E10D,T17R,L18M,R21M,E43D.json\n",
      "elaspic_standalone_training_interface/elaspic_run_skempi_1/1cho/.elaspic/mutation_I_E10D,T17S,E19D,R21M,N28S,G32S,E43D,G54E.json\n",
      "elaspic_standalone_training_interface/elaspic_run_skempi_1/1cho/.elaspic/mutation_I_E10D,Y11H,A15V,T17S,R21M,N28S,G32S,N36D.json\n",
      "elaspic_standalone_training_interface/elaspic_run_skempi_1/1cho/.elaspic/mutation_I_E10D,Y11H,T17L,L18Q,Y20Q,R21K,G32D,N36S,E43D.json\n",
      "elaspic_standalone_training_interface/elaspic_run_skempi_1/1cho/.elaspic/mutation_I_E10D,Y11H,T17L,L18Q,Y20Q,R21K,L23I,G32D,N36S,E43D.json\n",
      "elaspic_standalone_training_interface/elaspic_run_skempi_1/1cho/.elaspic/mutation_I_E10G,K13Q,P14S,T17P,L18Q,E19D,R21V,L23F,G32S,V42A,E43D.json\n",
      "elaspic_standalone_training_interface/elaspic_run_skempi_1/1cho/.elaspic/mutation_I_E10G,K13Q,T17S,R21V,L23F,G32S,N36D,V42A,E43D.json\n",
      "elaspic_standalone_training_interface/elaspic_run_skempi_1/1cho/.elaspic/mutation_I_E10G,L18M,R21M,E43D.json\n",
      "elaspic_standalone_training_interface/elaspic_run_skempi_1/1cho/.elaspic/mutation_I_E10G,L18M,R21M,E43D,K55E.json\n",
      "elaspic_standalone_training_interface/elaspic_run_skempi_1/1cho/.elaspic/mutation_I_E10G,L18M,Y20S,L23I,K29T,G32S,H52Y,F53P,K55V.json\n",
      "elaspic_standalone_training_interface/elaspic_run_skempi_1/1cho/.elaspic/mutation_I_K13R,A15R,T17K,L18R.json\n",
      "elaspic_standalone_training_interface/elaspic_run_skempi_1/1cho/.elaspic/mutation_I_K13R,P14F,A15R,T17K,L18R.json\n",
      "elaspic_standalone_training_interface/elaspic_run_skempi_1/1cho/.elaspic/mutation_I_L18M,G32D.json\n",
      "elaspic_standalone_training_interface/elaspic_run_skempi_1/1cho/.elaspic/mutation_I_L18M,H52R.json\n",
      "elaspic_standalone_training_interface/elaspic_run_skempi_1/1cho/.elaspic/mutation_I_L18M,H52R,K55E.json\n",
      "elaspic_standalone_training_interface/elaspic_run_skempi_1/1cho/.elaspic/mutation_I_L18M,L23V,K29I,E43K.json\n",
      "elaspic_standalone_training_interface/elaspic_run_skempi_1/1cho/.elaspic/mutation_I_L18M,N36D,S51N.json\n",
      "elaspic_standalone_training_interface/elaspic_run_skempi_1/1cho/.elaspic/mutation_I_L18M,S51N.json\n",
      "elaspic_standalone_training_interface/elaspic_run_skempi_1/1cho/.elaspic/mutation_I_L18M,S51N,H52R,K55Q.json\n",
      "elaspic_standalone_training_interface/elaspic_run_skempi_1/1cho/.elaspic/mutation_I_L18M,T30S,G32D.json\n",
      "elaspic_standalone_training_interface/elaspic_run_skempi_1/1cho/.elaspic/mutation_I_L18M,T49N,K55T.json\n",
      "elaspic_standalone_training_interface/elaspic_run_skempi_1/1cho/.elaspic/mutation_I_L18M,Y20H,K29Q,G32D.json\n",
      "elaspic_standalone_training_interface/elaspic_run_skempi_1/1cho/.elaspic/mutation_I_L18M,Y20Q.json\n",
      "elaspic_standalone_training_interface/elaspic_run_skempi_1/1cho/.elaspic/mutation_I_L18S,R21V,L23I.json\n",
      "elaspic_standalone_training_interface/elaspic_run_skempi_1/1cho/.elaspic/mutation_I_N28S,G32A.json\n",
      "elaspic_standalone_training_interface/elaspic_run_skempi_1/1cho/.elaspic/mutation_I_P14S,A15L,T17K,L18R.json\n",
      "elaspic_standalone_training_interface/elaspic_run_skempi_1/1cho/.elaspic/mutation_I_P14S,A15R,T17P,L18R.json\n",
      "elaspic_standalone_training_interface/elaspic_run_skempi_1/1cho/.elaspic/mutation_I_R21M,K29Q,G32S,E43D.json\n",
      "elaspic_standalone_training_interface/elaspic_run_skempi_1/1cho/.elaspic/mutation_I_R21V,L23I.json\n",
      "elaspic_standalone_training_interface/elaspic_run_skempi_1/1cho/.elaspic/mutation_I_T17K,L18R.json\n",
      "elaspic_standalone_training_interface/elaspic_run_skempi_1/1cho/.elaspic/mutation_I_T17M,L18S,G32V.json\n",
      "elaspic_standalone_training_interface/elaspic_run_skempi_1/1cho/.elaspic/mutation_I_T17P,L18K.json\n",
      "elaspic_standalone_training_interface/elaspic_run_skempi_1/1cho/.elaspic/mutation_I_T17P,L18K,E19D,L23V,G32S,S51N.json\n",
      "elaspic_standalone_training_interface/elaspic_run_skempi_1/1cho/.elaspic/mutation_I_T17P,L18K,E19D,L23V,S51N.json\n",
      "elaspic_standalone_training_interface/elaspic_run_skempi_1/1cho/.elaspic/mutation_I_T17P,L18K,E19D,L23V,S51N,H52R.json\n",
      "elaspic_standalone_training_interface/elaspic_run_skempi_1/1cho/.elaspic/mutation_I_T17P,L18K,G32D.json\n",
      "elaspic_standalone_training_interface/elaspic_run_skempi_1/1cho/.elaspic/mutation_I_T17R,L18R.json\n",
      "elaspic_standalone_training_interface/elaspic_run_skempi_1/1cho/.elaspic/mutation_I_V6I,E10D,A15V,T17S,R21M,N28S,G32S,E43D,T49I.json\n",
      "elaspic_standalone_training_interface/elaspic_run_skempi_1/1cho/.elaspic/mutation_I_Y11H,E19D,L23I,N28S,G32S,N36D,V42M,E43D.json\n",
      "elaspic_standalone_training_interface/elaspic_run_skempi_1/1cho/.elaspic/mutation_I_Y11H,Y20D,T30I,G32S,N36D,V42L.json\n",
      "elaspic_standalone_training_interface/elaspic_run_skempi_1/3sgb/.elaspic/mutation_I_A15D,G32A.json\n",
      "elaspic_standalone_training_interface/elaspic_run_skempi_1/3sgb/.elaspic/mutation_I_A15D,G32A,N33S.json\n",
      "elaspic_standalone_training_interface/elaspic_run_skempi_1/3sgb/.elaspic/mutation_I_A15D,L18A.json\n",
      "elaspic_standalone_training_interface/elaspic_run_skempi_1/3sgb/.elaspic/mutation_I_A15D,L18A,Y20D.json\n",
      "elaspic_standalone_training_interface/elaspic_run_skempi_1/3sgb/.elaspic/mutation_I_A15G,L18M,L23V,K29I,E43K.json\n",
      "elaspic_standalone_training_interface/elaspic_run_skempi_1/3sgb/.elaspic/mutation_I_A15G,T17M,L18M,Y20R,R21L,G32N,N33D,S51N,K55E.json\n",
      "elaspic_standalone_training_interface/elaspic_run_skempi_1/3sgb/.elaspic/mutation_I_A15R,L18R.json\n",
      "elaspic_standalone_training_interface/elaspic_run_skempi_1/3sgb/.elaspic/mutation_I_A15R,T17K,L18R.json\n",
      "elaspic_standalone_training_interface/elaspic_run_skempi_1/3sgb/.elaspic/mutation_I_A15R,T17K,L18R,E19S.json\n",
      "elaspic_standalone_training_interface/elaspic_run_skempi_1/3sgb/.elaspic/mutation_I_A15R,T17K,L18R,R21L.json\n",
      "elaspic_standalone_training_interface/elaspic_run_skempi_1/3sgb/.elaspic/mutation_I_A15R,T17P,L18R.json\n",
      "elaspic_standalone_training_interface/elaspic_run_skempi_1/3sgb/.elaspic/mutation_I_A15T,L18M.json\n",
      "elaspic_standalone_training_interface/elaspic_run_skempi_1/3sgb/.elaspic/mutation_I_A15V,T17S.json\n",
      "elaspic_standalone_training_interface/elaspic_run_skempi_1/3sgb/.elaspic/mutation_I_A15V,T17S,R21M,N28S,K29Q,G32S,K34E,E43D.json\n",
      "elaspic_standalone_training_interface/elaspic_run_skempi_1/3sgb/.elaspic/mutation_I_D7N,E10D,A15V,T17S,E19L,R21M,V42A,E43D.json\n",
      "elaspic_standalone_training_interface/elaspic_run_skempi_1/3sgb/.elaspic/mutation_I_D7N,E10G,L18M,R21M,E43D,K55E.json\n",
      "elaspic_standalone_training_interface/elaspic_run_skempi_1/3sgb/.elaspic/mutation_I_E10D,A15V,E19D,R21M,G32S,E43D,L48I,K55R.json\n",
      "elaspic_standalone_training_interface/elaspic_run_skempi_1/3sgb/.elaspic/mutation_I_E10D,A15V,E19D,R21M,K29T,G32S,E43D,L48I.json\n",
      "elaspic_standalone_training_interface/elaspic_run_skempi_1/3sgb/.elaspic/mutation_I_E10D,A15V,T17P,E19D,R21M,N28S,G32S,N45S,S51R.json\n",
      "elaspic_standalone_training_interface/elaspic_run_skempi_1/3sgb/.elaspic/mutation_I_E10D,A15V,T17S,E19D,R21M,K29T,G32N,N36I,E43D,L48I.json\n",
      "elaspic_standalone_training_interface/elaspic_run_skempi_1/3sgb/.elaspic/mutation_I_E10D,A15V,T17S,R21M,N28S,G32N,N36D,S51G.json\n",
      "elaspic_standalone_training_interface/elaspic_run_skempi_1/3sgb/.elaspic/mutation_I_E10D,A15V,T17S,R21M,N28S,G32S,E43D.json\n",
      "elaspic_standalone_training_interface/elaspic_run_skempi_1/3sgb/.elaspic/mutation_I_E10D,A15V,T17S,R21M,N28S,G32S,E43D,T49I.json\n",
      "elaspic_standalone_training_interface/elaspic_run_skempi_1/3sgb/.elaspic/mutation_I_E10D,A15V,T17S,R21M,N28S,G32S,N36D,E43D.json\n",
      "elaspic_standalone_training_interface/elaspic_run_skempi_1/3sgb/.elaspic/mutation_I_E10D,A15V,T17S,R21M,N28S,G32S,N36D,E43D,T49N.json\n",
      "elaspic_standalone_training_interface/elaspic_run_skempi_1/3sgb/.elaspic/mutation_I_E10D,A15V,T17S,R21M,N28S,G32S,N36D,V41F,E43D,T49S.json\n",
      "elaspic_standalone_training_interface/elaspic_run_skempi_1/3sgb/.elaspic/mutation_I_E10D,A15V,T17S,R21M,N28S,G32S,V42A,E43D.json\n",
      "elaspic_standalone_training_interface/elaspic_run_skempi_1/3sgb/.elaspic/mutation_I_E10D,A15V,T17S,R21M,V42A,E43D.json\n",
      "elaspic_standalone_training_interface/elaspic_run_skempi_1/3sgb/.elaspic/mutation_I_E10D,A15V,T17S,Y20D,R21M,N28S,G32S,E43D.json\n",
      "elaspic_standalone_training_interface/elaspic_run_skempi_1/3sgb/.elaspic/mutation_I_E10D,A15V,Y20D,R21M,K29I,G32H,N36Y,V42A,E43H,L50F.json\n",
      "elaspic_standalone_training_interface/elaspic_run_skempi_1/3sgb/.elaspic/mutation_I_E10D,A15V,Y20E,R21M,E43D.json\n",
      "elaspic_standalone_training_interface/elaspic_run_skempi_1/3sgb/.elaspic/mutation_I_E10D,K13M,L18M,L23V.json\n",
      "elaspic_standalone_training_interface/elaspic_run_skempi_1/3sgb/.elaspic/mutation_I_E10D,K13Q,A15V,T17M,L18G,E19D,R21M,N28S,G32S,E43D,S51N.json\n",
      "elaspic_standalone_training_interface/elaspic_run_skempi_1/3sgb/.elaspic/mutation_I_E10D,K13R,A15D,R21M,E43D.json\n",
      "elaspic_standalone_training_interface/elaspic_run_skempi_1/3sgb/.elaspic/mutation_I_E10D,K13R,A15V,E19D,R21M,G32S,E43D,L48I,K55R.json\n",
      "elaspic_standalone_training_interface/elaspic_run_skempi_1/3sgb/.elaspic/mutation_I_E10D,L18F,R21M,E43D.json\n",
      "elaspic_standalone_training_interface/elaspic_run_skempi_1/3sgb/.elaspic/mutation_I_E10D,L18M,R21M,E43D.json\n",
      "elaspic_standalone_training_interface/elaspic_run_skempi_1/3sgb/.elaspic/mutation_I_E10D,L18M,R21M,G32D,E43D.json\n",
      "elaspic_standalone_training_interface/elaspic_run_skempi_1/3sgb/.elaspic/mutation_I_E10D,L18V,R21M,E43D.json\n",
      "elaspic_standalone_training_interface/elaspic_run_skempi_1/3sgb/.elaspic/mutation_I_E10D,L18V,R21M,G32D,E43D.json\n",
      "elaspic_standalone_training_interface/elaspic_run_skempi_1/3sgb/.elaspic/mutation_I_E10D,R21M,E43D.json\n",
      "elaspic_standalone_training_interface/elaspic_run_skempi_1/3sgb/.elaspic/mutation_I_E10D,R21M,K29Q,G32S,N36S,E43D.json\n",
      "elaspic_standalone_training_interface/elaspic_run_skempi_1/3sgb/.elaspic/mutation_I_E10D,R21M,K34R,E43D.json\n",
      "elaspic_standalone_training_interface/elaspic_run_skempi_1/3sgb/.elaspic/mutation_I_E10D,R21M,L23F,N28S,G32S,E43D.json\n",
      "elaspic_standalone_training_interface/elaspic_run_skempi_1/3sgb/.elaspic/mutation_I_E10D,T17L,R21M,G32D,N36S,E43D,T49S.json\n",
      "elaspic_standalone_training_interface/elaspic_run_skempi_1/3sgb/.elaspic/mutation_I_E10D,T17R,L18M,R21M,E43D.json\n",
      "elaspic_standalone_training_interface/elaspic_run_skempi_1/3sgb/.elaspic/mutation_I_E10D,T17S,E19D,R21M,N28S,G32S,E43D,G54E.json\n",
      "elaspic_standalone_training_interface/elaspic_run_skempi_1/3sgb/.elaspic/mutation_I_E10D,Y11H,A15V,T17S,R21M,N28S,G32S,N36D.json\n",
      "elaspic_standalone_training_interface/elaspic_run_skempi_1/3sgb/.elaspic/mutation_I_E10D,Y11H,T17L,L18Q,Y20Q,R21K,G32D,N36S,E43D.json\n",
      "elaspic_standalone_training_interface/elaspic_run_skempi_1/3sgb/.elaspic/mutation_I_E10D,Y11H,T17L,L18Q,Y20Q,R21K,L23I,G32D,N36S,E43D.json\n",
      "elaspic_standalone_training_interface/elaspic_run_skempi_1/3sgb/.elaspic/mutation_I_E10G,K13Q,P14S,T17P,L18Q,E19D,R21V,L23F,G32S,V42A,E43D.json\n",
      "elaspic_standalone_training_interface/elaspic_run_skempi_1/3sgb/.elaspic/mutation_I_E10G,K13Q,T17S,R21V,L23F,G32S,N36D,V42A,E43D.json\n",
      "elaspic_standalone_training_interface/elaspic_run_skempi_1/3sgb/.elaspic/mutation_I_E10G,L18M,R21M,E43D.json\n",
      "elaspic_standalone_training_interface/elaspic_run_skempi_1/3sgb/.elaspic/mutation_I_E10G,L18M,R21M,E43D,K55E.json\n",
      "elaspic_standalone_training_interface/elaspic_run_skempi_1/3sgb/.elaspic/mutation_I_E10G,L18M,Y20S,L23I,K29T,G32S,H52Y,F53P,K55V.json\n",
      "elaspic_standalone_training_interface/elaspic_run_skempi_1/3sgb/.elaspic/mutation_I_K13R,A15R,T17K,L18R.json\n",
      "elaspic_standalone_training_interface/elaspic_run_skempi_1/3sgb/.elaspic/mutation_I_K13R,P14F,A15R,T17K,L18R.json\n",
      "elaspic_standalone_training_interface/elaspic_run_skempi_1/3sgb/.elaspic/mutation_I_L18I,G32D.json\n",
      "elaspic_standalone_training_interface/elaspic_run_skempi_1/3sgb/.elaspic/mutation_I_L18M,G32D.json\n",
      "elaspic_standalone_training_interface/elaspic_run_skempi_1/3sgb/.elaspic/mutation_I_L18M,H52R.json\n",
      "elaspic_standalone_training_interface/elaspic_run_skempi_1/3sgb/.elaspic/mutation_I_L18M,H52R,K55E.json\n",
      "elaspic_standalone_training_interface/elaspic_run_skempi_1/3sgb/.elaspic/mutation_I_L18M,L23V,K29I,E43K.json\n",
      "elaspic_standalone_training_interface/elaspic_run_skempi_1/3sgb/.elaspic/mutation_I_L18M,N36D,S51N.json\n",
      "elaspic_standalone_training_interface/elaspic_run_skempi_1/3sgb/.elaspic/mutation_I_L18M,S51N.json\n",
      "elaspic_standalone_training_interface/elaspic_run_skempi_1/3sgb/.elaspic/mutation_I_L18M,S51N,H52R,K55Q.json\n",
      "elaspic_standalone_training_interface/elaspic_run_skempi_1/3sgb/.elaspic/mutation_I_L18M,T30S,G32D.json\n",
      "elaspic_standalone_training_interface/elaspic_run_skempi_1/3sgb/.elaspic/mutation_I_L18M,T49N,K55T.json\n",
      "elaspic_standalone_training_interface/elaspic_run_skempi_1/3sgb/.elaspic/mutation_I_L18M,Y20Q.json\n",
      "elaspic_standalone_training_interface/elaspic_run_skempi_1/3sgb/.elaspic/mutation_I_L18S,R21V,L23I.json\n",
      "elaspic_standalone_training_interface/elaspic_run_skempi_1/3sgb/.elaspic/mutation_I_N28S,G32A.json\n",
      "elaspic_standalone_training_interface/elaspic_run_skempi_1/3sgb/.elaspic/mutation_I_P14S,A15L,T17K,L18R.json\n",
      "elaspic_standalone_training_interface/elaspic_run_skempi_1/3sgb/.elaspic/mutation_I_P14S,A15R,T17P,L18R.json\n",
      "elaspic_standalone_training_interface/elaspic_run_skempi_1/3sgb/.elaspic/mutation_I_R21M,K29Q,G32S,E43D.json\n",
      "elaspic_standalone_training_interface/elaspic_run_skempi_1/3sgb/.elaspic/mutation_I_R21V,L23I.json\n",
      "elaspic_standalone_training_interface/elaspic_run_skempi_1/3sgb/.elaspic/mutation_I_T17K,L18R.json\n",
      "elaspic_standalone_training_interface/elaspic_run_skempi_1/3sgb/.elaspic/mutation_I_T17M,L18S,G32V.json\n",
      "elaspic_standalone_training_interface/elaspic_run_skempi_1/3sgb/.elaspic/mutation_I_T17P,L18K.json\n",
      "elaspic_standalone_training_interface/elaspic_run_skempi_1/3sgb/.elaspic/mutation_I_T17P,L18K,E19D,L23V,G32S,S51N.json\n",
      "elaspic_standalone_training_interface/elaspic_run_skempi_1/3sgb/.elaspic/mutation_I_T17P,L18K,E19D,L23V,S51N.json\n",
      "elaspic_standalone_training_interface/elaspic_run_skempi_1/3sgb/.elaspic/mutation_I_T17P,L18K,E19D,L23V,S51N,H52R.json\n",
      "elaspic_standalone_training_interface/elaspic_run_skempi_1/3sgb/.elaspic/mutation_I_T17P,L18K,G32D.json\n",
      "elaspic_standalone_training_interface/elaspic_run_skempi_1/3sgb/.elaspic/mutation_I_T17R,L18R.json\n",
      "elaspic_standalone_training_interface/elaspic_run_skempi_1/3sgb/.elaspic/mutation_I_Y11H,E19D,L23I,N28S,G32S,N36D,V42M,E43D.json\n",
      "elaspic_standalone_training_interface/elaspic_run_skempi_1/3sgb/.elaspic/mutation_I_Y11H,Y20D,T30I,G32S,N36D,V42L.json\n",
      "elaspic_standalone_training_interface/elaspic_run_skempi_1/1r0r/.elaspic/mutation_I_A15D,G32A.json\n",
      "elaspic_standalone_training_interface/elaspic_run_skempi_1/1r0r/.elaspic/mutation_I_A15D,G32A,N33S.json\n",
      "elaspic_standalone_training_interface/elaspic_run_skempi_1/1r0r/.elaspic/mutation_I_A15D,L18A.json\n",
      "elaspic_standalone_training_interface/elaspic_run_skempi_1/1r0r/.elaspic/mutation_I_A15D,L18A,Y20D.json\n",
      "elaspic_standalone_training_interface/elaspic_run_skempi_1/1r0r/.elaspic/mutation_I_A15G,L18M,L23V,K29I,E43K.json\n",
      "elaspic_standalone_training_interface/elaspic_run_skempi_1/1r0r/.elaspic/mutation_I_A15R,L18R.json\n",
      "elaspic_standalone_training_interface/elaspic_run_skempi_1/1r0r/.elaspic/mutation_I_A15R,T17K,L18R.json\n",
      "elaspic_standalone_training_interface/elaspic_run_skempi_1/1r0r/.elaspic/mutation_I_A15T,L18M.json\n",
      "elaspic_standalone_training_interface/elaspic_run_skempi_1/1r0r/.elaspic/mutation_I_A15V,T17S.json\n",
      "elaspic_standalone_training_interface/elaspic_run_skempi_1/1r0r/.elaspic/mutation_I_A15V,T17S,L18P,R21M,N28S,G32N,N36D,N39S,S51G.json\n",
      "elaspic_standalone_training_interface/elaspic_run_skempi_1/1r0r/.elaspic/mutation_I_A15V,T17S,R21M,N28S,K29Q,G32S,K34E,E43D.json\n",
      "elaspic_standalone_training_interface/elaspic_run_skempi_1/1r0r/.elaspic/mutation_I_D7N,E10D,A15V,T17S,E19L,R21M,V42A,E43D.json\n",
      "elaspic_standalone_training_interface/elaspic_run_skempi_1/1r0r/.elaspic/mutation_I_D7N,E10G,L18M,R21M,E43D,K55E.json\n",
      "elaspic_standalone_training_interface/elaspic_run_skempi_1/1r0r/.elaspic/mutation_I_E10D,A15V,E19D,R21M,G32S,E43D,L48I,K55R.json\n",
      "elaspic_standalone_training_interface/elaspic_run_skempi_1/1r0r/.elaspic/mutation_I_E10D,A15V,E19D,R21M,K29T,G32S,E43D,L48I.json\n",
      "elaspic_standalone_training_interface/elaspic_run_skempi_1/1r0r/.elaspic/mutation_I_E10D,A15V,T17P,E19D,R21M,N28S,G32S,N45S,S51R.json\n",
      "elaspic_standalone_training_interface/elaspic_run_skempi_1/1r0r/.elaspic/mutation_I_E10D,A15V,T17S,E19D,R21M,K29T,G32N,N36I,E43D,L48I.json\n",
      "elaspic_standalone_training_interface/elaspic_run_skempi_1/1r0r/.elaspic/mutation_I_E10D,A15V,T17S,R21M,N28S,G32N,N36D,S51G.json\n",
      "elaspic_standalone_training_interface/elaspic_run_skempi_1/1r0r/.elaspic/mutation_I_E10D,A15V,T17S,R21M,N28S,G32S,E43D.json\n",
      "elaspic_standalone_training_interface/elaspic_run_skempi_1/1r0r/.elaspic/mutation_I_E10D,A15V,T17S,R21M,N28S,G32S,N36D,E43D.json\n",
      "elaspic_standalone_training_interface/elaspic_run_skempi_1/1r0r/.elaspic/mutation_I_E10D,A15V,T17S,R21M,N28S,G32S,N36D,E43D,T49N.json\n",
      "elaspic_standalone_training_interface/elaspic_run_skempi_1/1r0r/.elaspic/mutation_I_E10D,A15V,T17S,R21M,N28S,G32S,N36D,V41F,E43D,T49S.json\n",
      "elaspic_standalone_training_interface/elaspic_run_skempi_1/1r0r/.elaspic/mutation_I_E10D,A15V,T17S,R21M,N28S,G32S,V42A,E43D.json\n",
      "elaspic_standalone_training_interface/elaspic_run_skempi_1/1r0r/.elaspic/mutation_I_E10D,A15V,T17S,R21M,V42A,E43D.json\n",
      "elaspic_standalone_training_interface/elaspic_run_skempi_1/1r0r/.elaspic/mutation_I_E10D,A15V,T17S,Y20D,R21M,N28S,G32S,E43D.json\n",
      "elaspic_standalone_training_interface/elaspic_run_skempi_1/1r0r/.elaspic/mutation_I_E10D,A15V,Y20D,R21M,K29I,G32H,N36Y,V42A,E43H,L50F.json\n",
      "elaspic_standalone_training_interface/elaspic_run_skempi_1/1r0r/.elaspic/mutation_I_E10D,A15V,Y20E,R21M,E43D.json\n",
      "elaspic_standalone_training_interface/elaspic_run_skempi_1/1r0r/.elaspic/mutation_I_E10D,K13M,L18M,L23V.json\n",
      "elaspic_standalone_training_interface/elaspic_run_skempi_1/1r0r/.elaspic/mutation_I_E10D,K13Q,A15V,T17M,L18G,E19D,R21M,N28S,G32S,E43D,S51N.json\n",
      "elaspic_standalone_training_interface/elaspic_run_skempi_1/1r0r/.elaspic/mutation_I_E10D,K13R,A15D,R21M,E43D.json\n",
      "elaspic_standalone_training_interface/elaspic_run_skempi_1/1r0r/.elaspic/mutation_I_E10D,K13R,A15V,E19D,R21M,G32S,E43D,L48I,K55R.json\n",
      "elaspic_standalone_training_interface/elaspic_run_skempi_1/1r0r/.elaspic/mutation_I_E10D,L18F,R21M,E43D.json\n",
      "elaspic_standalone_training_interface/elaspic_run_skempi_1/1r0r/.elaspic/mutation_I_E10D,L18M,R21M,E43D.json\n",
      "elaspic_standalone_training_interface/elaspic_run_skempi_1/1r0r/.elaspic/mutation_I_E10D,L18M,R21M,G32D,E43D.json\n",
      "elaspic_standalone_training_interface/elaspic_run_skempi_1/1r0r/.elaspic/mutation_I_E10D,L18V,R21M,E43D.json\n",
      "elaspic_standalone_training_interface/elaspic_run_skempi_1/1r0r/.elaspic/mutation_I_E10D,L18V,R21M,G32D,E43D.json\n",
      "elaspic_standalone_training_interface/elaspic_run_skempi_1/1r0r/.elaspic/mutation_I_E10D,R21M,E43D.json\n",
      "elaspic_standalone_training_interface/elaspic_run_skempi_1/1r0r/.elaspic/mutation_I_E10D,R21M,K29Q,G32S,N36S,E43D.json\n",
      "elaspic_standalone_training_interface/elaspic_run_skempi_1/1r0r/.elaspic/mutation_I_E10D,R21M,K34R,E43D.json\n",
      "elaspic_standalone_training_interface/elaspic_run_skempi_1/1r0r/.elaspic/mutation_I_E10D,R21M,L23F,N28S,G32S,E43D.json\n",
      "elaspic_standalone_training_interface/elaspic_run_skempi_1/1r0r/.elaspic/mutation_I_E10D,T17L,R21M,G32D,N36S,E43D,T49S.json\n",
      "elaspic_standalone_training_interface/elaspic_run_skempi_1/1r0r/.elaspic/mutation_I_E10D,T17R,L18M,R21M,E43D.json\n",
      "elaspic_standalone_training_interface/elaspic_run_skempi_1/1r0r/.elaspic/mutation_I_E10D,T17S,E19D,R21M,N28S,G32S,E43D,G54E.json\n",
      "elaspic_standalone_training_interface/elaspic_run_skempi_1/1r0r/.elaspic/mutation_I_E10D,Y11H,A15V,T17S,R21M,N28S,G32S,N36D.json\n",
      "elaspic_standalone_training_interface/elaspic_run_skempi_1/1r0r/.elaspic/mutation_I_E10G,K13Q,P14S,T17P,L18Q,E19D,R21V,L23F,G32S,V42A,E43D.json\n",
      "elaspic_standalone_training_interface/elaspic_run_skempi_1/1r0r/.elaspic/mutation_I_E10G,K13Q,T17S,R21V,L23F,G32S,N36D,V42A,E43D.json\n",
      "elaspic_standalone_training_interface/elaspic_run_skempi_1/1r0r/.elaspic/mutation_I_E10G,L18M,R21M,E43D.json\n",
      "elaspic_standalone_training_interface/elaspic_run_skempi_1/1r0r/.elaspic/mutation_I_E10G,L18M,R21M,E43D,K55E.json\n",
      "elaspic_standalone_training_interface/elaspic_run_skempi_1/1r0r/.elaspic/mutation_I_E10G,L18M,Y20S,L23I,K29T,G32S,H52Y,F53P,K55V.json\n",
      "elaspic_standalone_training_interface/elaspic_run_skempi_1/1r0r/.elaspic/mutation_I_L18I,G32D.json\n",
      "elaspic_standalone_training_interface/elaspic_run_skempi_1/1r0r/.elaspic/mutation_I_L18M,G32D.json\n",
      "elaspic_standalone_training_interface/elaspic_run_skempi_1/1r0r/.elaspic/mutation_I_L18M,H52R.json\n",
      "elaspic_standalone_training_interface/elaspic_run_skempi_1/1r0r/.elaspic/mutation_I_L18M,H52R,K55E.json\n",
      "elaspic_standalone_training_interface/elaspic_run_skempi_1/1r0r/.elaspic/mutation_I_L18M,L23V,K29I,E43K.json\n",
      "elaspic_standalone_training_interface/elaspic_run_skempi_1/1r0r/.elaspic/mutation_I_L18M,N36D,S51N.json\n",
      "elaspic_standalone_training_interface/elaspic_run_skempi_1/1r0r/.elaspic/mutation_I_L18M,S51N.json\n",
      "elaspic_standalone_training_interface/elaspic_run_skempi_1/1r0r/.elaspic/mutation_I_L18M,S51N,H52R,K55Q.json\n",
      "elaspic_standalone_training_interface/elaspic_run_skempi_1/1r0r/.elaspic/mutation_I_L18M,T30S,G32D.json\n",
      "elaspic_standalone_training_interface/elaspic_run_skempi_1/1r0r/.elaspic/mutation_I_L18M,T49N,K55T.json\n",
      "elaspic_standalone_training_interface/elaspic_run_skempi_1/1r0r/.elaspic/mutation_I_L18M,Y20Q.json\n",
      "elaspic_standalone_training_interface/elaspic_run_skempi_1/1r0r/.elaspic/mutation_I_L18S,R21V,L23I.json\n",
      "elaspic_standalone_training_interface/elaspic_run_skempi_1/1r0r/.elaspic/mutation_I_N28S,G32A.json\n",
      "elaspic_standalone_training_interface/elaspic_run_skempi_1/1r0r/.elaspic/mutation_I_P14S,A15L,T17K,L18R.json\n",
      "elaspic_standalone_training_interface/elaspic_run_skempi_1/1r0r/.elaspic/mutation_I_R21M,K29Q,G32S,E43D.json\n",
      "elaspic_standalone_training_interface/elaspic_run_skempi_1/1r0r/.elaspic/mutation_I_R21V,L23I.json\n",
      "elaspic_standalone_training_interface/elaspic_run_skempi_1/1r0r/.elaspic/mutation_I_T17K,L18R.json\n",
      "elaspic_standalone_training_interface/elaspic_run_skempi_1/1r0r/.elaspic/mutation_I_T17M,L18S,G32V.json\n",
      "elaspic_standalone_training_interface/elaspic_run_skempi_1/1r0r/.elaspic/mutation_I_T17P,L18K,E19D,L23V,G32S,S51N.json\n",
      "elaspic_standalone_training_interface/elaspic_run_skempi_1/1r0r/.elaspic/mutation_I_T17P,L18K,E19D,L23V,S51N.json\n",
      "elaspic_standalone_training_interface/elaspic_run_skempi_1/1r0r/.elaspic/mutation_I_T17R,L18R.json\n",
      "elaspic_standalone_training_interface/elaspic_run_skempi_1/1r0r/.elaspic/mutation_I_V6I,E10D,A15V,T17S,R21M,N28S,G32S,E43D,T49I.json\n",
      "elaspic_standalone_training_interface/elaspic_run_skempi_1/1r0r/.elaspic/mutation_I_Y11H,E19D,L23I,N28S,G32S,N36D,V42M,E43D.json\n",
      "elaspic_standalone_training_interface/elaspic_run_skempi_1/1ppf/.elaspic/mutation_I_A15D,G32A.json\n",
      "elaspic_standalone_training_interface/elaspic_run_skempi_1/1ppf/.elaspic/mutation_I_A15D,L18A,Y20D.json\n",
      "elaspic_standalone_training_interface/elaspic_run_skempi_1/1ppf/.elaspic/mutation_I_A15G,L18M,L23V,K29I,E43K.json\n",
      "elaspic_standalone_training_interface/elaspic_run_skempi_1/1ppf/.elaspic/mutation_I_A15R,L18R.json\n",
      "elaspic_standalone_training_interface/elaspic_run_skempi_1/1ppf/.elaspic/mutation_I_A15T,L18M.json\n",
      "elaspic_standalone_training_interface/elaspic_run_skempi_1/1ppf/.elaspic/mutation_I_A15V,T17S.json\n",
      "elaspic_standalone_training_interface/elaspic_run_skempi_1/1ppf/.elaspic/mutation_I_A15V,T17S,L18P,R21M,N28S,G32N,N36D,N39S,S51G.json\n",
      "elaspic_standalone_training_interface/elaspic_run_skempi_1/1ppf/.elaspic/mutation_I_A15V,T17S,R21M,N28S,K29Q,G32S,K34E,E43D.json\n",
      "elaspic_standalone_training_interface/elaspic_run_skempi_1/1ppf/.elaspic/mutation_I_D7N,E10D,A15V,T17S,E19L,R21M,V42A,E43D.json\n",
      "elaspic_standalone_training_interface/elaspic_run_skempi_1/1ppf/.elaspic/mutation_I_D7N,E10G,L18M,R21M,E43D,K55E.json\n",
      "elaspic_standalone_training_interface/elaspic_run_skempi_1/1ppf/.elaspic/mutation_I_E10D,A15V,E19D,R21M,G32S,E43D,L48I,K55R.json\n",
      "elaspic_standalone_training_interface/elaspic_run_skempi_1/1ppf/.elaspic/mutation_I_E10D,A15V,E19D,R21M,K29T,G32S,E43D,L48I.json\n",
      "elaspic_standalone_training_interface/elaspic_run_skempi_1/1ppf/.elaspic/mutation_I_E10D,A15V,T17P,E19D,R21M,N28S,G32S,N45S,S51R.json\n",
      "elaspic_standalone_training_interface/elaspic_run_skempi_1/1ppf/.elaspic/mutation_I_E10D,A15V,T17S,E19D,R21M,K29T,G32N,N36I,E43D,L48I.json\n",
      "elaspic_standalone_training_interface/elaspic_run_skempi_1/1ppf/.elaspic/mutation_I_E10D,A15V,T17S,R21M,N28S,G32N,N36D,S51G.json\n",
      "elaspic_standalone_training_interface/elaspic_run_skempi_1/1ppf/.elaspic/mutation_I_E10D,A15V,T17S,R21M,N28S,G32S,E43D.json\n",
      "elaspic_standalone_training_interface/elaspic_run_skempi_1/1ppf/.elaspic/mutation_I_E10D,A15V,T17S,R21M,N28S,G32S,N36D,E43D.json\n",
      "elaspic_standalone_training_interface/elaspic_run_skempi_1/1ppf/.elaspic/mutation_I_E10D,A15V,T17S,R21M,N28S,G32S,V42A,E43D.json\n",
      "elaspic_standalone_training_interface/elaspic_run_skempi_1/1ppf/.elaspic/mutation_I_E10D,A15V,T17S,R21M,V42A,E43D.json\n",
      "elaspic_standalone_training_interface/elaspic_run_skempi_1/1ppf/.elaspic/mutation_I_E10D,A15V,T17S,Y20D,R21M,N28S,G32S,E43D.json\n",
      "elaspic_standalone_training_interface/elaspic_run_skempi_1/1ppf/.elaspic/mutation_I_E10D,A15V,Y20D,R21M,K29I,G32H,N36Y,V42A,E43H,L50F.json\n",
      "elaspic_standalone_training_interface/elaspic_run_skempi_1/1ppf/.elaspic/mutation_I_E10D,A15V,Y20E,R21M,E43D.json\n",
      "elaspic_standalone_training_interface/elaspic_run_skempi_1/1ppf/.elaspic/mutation_I_E10D,K13M,L18M,L23V.json\n",
      "elaspic_standalone_training_interface/elaspic_run_skempi_1/1ppf/.elaspic/mutation_I_E10D,K13R,A15D,R21M,E43D.json\n",
      "elaspic_standalone_training_interface/elaspic_run_skempi_1/1ppf/.elaspic/mutation_I_E10D,K13R,A15V,E19D,R21M,G32S,E43D,L48I,K55R.json\n",
      "elaspic_standalone_training_interface/elaspic_run_skempi_1/1ppf/.elaspic/mutation_I_E10D,L18F,R21M,E43D.json\n",
      "elaspic_standalone_training_interface/elaspic_run_skempi_1/1ppf/.elaspic/mutation_I_E10D,L18M,R21M,E43D.json\n",
      "elaspic_standalone_training_interface/elaspic_run_skempi_1/1ppf/.elaspic/mutation_I_E10D,L18V,R21M,E43D.json\n",
      "elaspic_standalone_training_interface/elaspic_run_skempi_1/1ppf/.elaspic/mutation_I_E10D,L18V,R21M,G32D,E43D.json\n",
      "elaspic_standalone_training_interface/elaspic_run_skempi_1/1ppf/.elaspic/mutation_I_E10D,R21M,E43D.json\n",
      "elaspic_standalone_training_interface/elaspic_run_skempi_1/1ppf/.elaspic/mutation_I_E10D,R21M,K29Q,G32S,N36S,E43D.json\n",
      "elaspic_standalone_training_interface/elaspic_run_skempi_1/1ppf/.elaspic/mutation_I_E10D,R21M,L23F,N28S,G32S,E43D.json\n",
      "elaspic_standalone_training_interface/elaspic_run_skempi_1/1ppf/.elaspic/mutation_I_E10D,T17L,R21M,G32D,N36S,E43D,T49S.json\n",
      "elaspic_standalone_training_interface/elaspic_run_skempi_1/1ppf/.elaspic/mutation_I_E10D,T17R,L18M,R21M,E43D.json\n",
      "elaspic_standalone_training_interface/elaspic_run_skempi_1/1ppf/.elaspic/mutation_I_E10D,T17S,E19D,R21M,N28S,G32S,E43D,G54E.json\n",
      "elaspic_standalone_training_interface/elaspic_run_skempi_1/1ppf/.elaspic/mutation_I_E10D,Y11H,A15V,T17S,R21M,N28S,G32S,N36D.json\n",
      "elaspic_standalone_training_interface/elaspic_run_skempi_1/1ppf/.elaspic/mutation_I_E10G,K13Q,P14S,T17P,L18Q,E19D,R21V,L23F,G32S,V42A,E43D.json\n",
      "elaspic_standalone_training_interface/elaspic_run_skempi_1/1ppf/.elaspic/mutation_I_E10G,K13Q,T17S,R21V,L23F,G32S,N36D,V42A,E43D.json\n",
      "elaspic_standalone_training_interface/elaspic_run_skempi_1/1ppf/.elaspic/mutation_I_E10G,L18M,R21M,E43D,K55E.json\n",
      "elaspic_standalone_training_interface/elaspic_run_skempi_1/1ppf/.elaspic/mutation_I_E10G,L18M,Y20S,L23I,K29T,G32S,H52Y,F53P,K55V.json\n",
      "elaspic_standalone_training_interface/elaspic_run_skempi_1/1ppf/.elaspic/mutation_I_L18I,G32D.json\n",
      "elaspic_standalone_training_interface/elaspic_run_skempi_1/1ppf/.elaspic/mutation_I_L18M,G32D.json\n",
      "elaspic_standalone_training_interface/elaspic_run_skempi_1/1ppf/.elaspic/mutation_I_L18M,H52R.json\n",
      "elaspic_standalone_training_interface/elaspic_run_skempi_1/1ppf/.elaspic/mutation_I_L18M,L23V,K29I,E43K.json\n",
      "elaspic_standalone_training_interface/elaspic_run_skempi_1/1ppf/.elaspic/mutation_I_L18M,N36D,S51N.json\n",
      "elaspic_standalone_training_interface/elaspic_run_skempi_1/1ppf/.elaspic/mutation_I_L18M,S51N.json\n",
      "elaspic_standalone_training_interface/elaspic_run_skempi_1/1ppf/.elaspic/mutation_I_L18M,T30S,G32D.json\n",
      "elaspic_standalone_training_interface/elaspic_run_skempi_1/1ppf/.elaspic/mutation_I_L18M,Y20Q.json\n",
      "**OUTPUT MUTED**"
     ]
    }
   ],
   "source": [
    "def load_json(file):\n",
    "    try:\n",
    "        with open(file, 'rt') as ifh:\n",
    "            return json.load(ifh)\n",
    "    except:\n",
    "        print(file)\n",
    "        return {}\n",
    "\n",
    "\n",
    "skempi_df['mutation_json'] = (\n",
    "    skempi_df[['pdb_id', 'pdb_chain', 'pdb_mutation']].apply(\n",
    "        lambda x: load_json(\n",
    "            op.join(\n",
    "                NOTEBOOK_NAME,\n",
    "                JOB_NAME,\n",
    "                x[0].lower(),\n",
    "                '.elaspic',\n",
    "                'mutation_{}_{}.json'.format(x[1], x[2]))),\n",
    "        axis=1)\n",
    ")"
   ]
  },
  {
   "cell_type": "code",
   "execution_count": 59,
   "metadata": {
    "collapsed": false
   },
   "outputs": [
    {
     "data": {
      "text/html": [
       "<div>\n",
       "<table border=\"1\" class=\"dataframe\">\n",
       "  <thead>\n",
       "    <tr style=\"text-align: right;\">\n",
       "      <th></th>\n",
       "      <th>id</th>\n",
       "      <th>uniprot_id</th>\n",
       "      <th>partner_uniprot_id</th>\n",
       "      <th>uniprot_mutation</th>\n",
       "      <th>pdb_id</th>\n",
       "      <th>pdb_chain</th>\n",
       "      <th>partner_pdb_chain</th>\n",
       "      <th>pdb_mutation</th>\n",
       "      <th>pfam_id</th>\n",
       "      <th>pfam_clan</th>\n",
       "      <th>ddg_exp</th>\n",
       "      <th>pdb_file</th>\n",
       "      <th>mutation_json</th>\n",
       "    </tr>\n",
       "  </thead>\n",
       "  <tbody>\n",
       "    <tr>\n",
       "      <th>0</th>\n",
       "      <td>1</td>\n",
       "      <td>A0NA69</td>\n",
       "      <td>P01820</td>\n",
       "      <td>D71A</td>\n",
       "      <td>1dvf</td>\n",
       "      <td>D</td>\n",
       "      <td>B</td>\n",
       "      <td>D52A</td>\n",
       "      <td>None</td>\n",
       "      <td>None</td>\n",
       "      <td>1.682290</td>\n",
       "      <td>/home/kimlab1/database_data/pdb/data/data/stru...</td>\n",
       "      <td>[{'matrix_score': -2, 'alignment_identity': 10...</td>\n",
       "    </tr>\n",
       "    <tr>\n",
       "      <th>1</th>\n",
       "      <td>2</td>\n",
       "      <td>A0NA69</td>\n",
       "      <td>P01820</td>\n",
       "      <td>K49A</td>\n",
       "      <td>1dvf</td>\n",
       "      <td>D</td>\n",
       "      <td>B</td>\n",
       "      <td>K30A</td>\n",
       "      <td>None</td>\n",
       "      <td>None</td>\n",
       "      <td>1.003517</td>\n",
       "      <td>/home/kimlab1/database_data/pdb/data/data/stru...</td>\n",
       "      <td>[{'matrix_score': -1, 'alignment_identity': 10...</td>\n",
       "    </tr>\n",
       "  </tbody>\n",
       "</table>\n",
       "</div>"
      ],
      "text/plain": [
       "   id uniprot_id partner_uniprot_id uniprot_mutation pdb_id pdb_chain partner_pdb_chain pdb_mutation pfam_id pfam_clan   ddg_exp                                           pdb_file                                      mutation_json\n",
       "0   1     A0NA69             P01820             D71A   1dvf         D                 B         D52A    None      None  1.682290  /home/kimlab1/database_data/pdb/data/data/stru...  [{'matrix_score': -2, 'alignment_identity': 10...\n",
       "1   2     A0NA69             P01820             K49A   1dvf         D                 B         K30A    None      None  1.003517  /home/kimlab1/database_data/pdb/data/data/stru...  [{'matrix_score': -1, 'alignment_identity': 10..."
      ]
     },
     "execution_count": 59,
     "metadata": {},
     "output_type": "execute_result"
    }
   ],
   "source": [
    "skempi_df.head(2)"
   ]
  },
  {
   "cell_type": "markdown",
   "metadata": {
    "run_control": {
     "marked": false
    }
   },
   "source": [
    "### PDB chain mapping"
   ]
  },
  {
   "cell_type": "code",
   "execution_count": 60,
   "metadata": {
    "collapsed": true,
    "run_control": {
     "marked": false
    }
   },
   "outputs": [],
   "source": [
    "tempdir = tempfile.mkdtemp()"
   ]
  },
  {
   "cell_type": "code",
   "execution_count": 61,
   "metadata": {
    "collapsed": false,
    "run_control": {
     "marked": false
    }
   },
   "outputs": [
    {
     "name": "stdout",
     "output_type": "stream",
     "text": [
      "/tmp/strokach/tmp5ekc1o86\n"
     ]
    }
   ],
   "source": [
    "print(tempdir)"
   ]
  },
  {
   "cell_type": "code",
   "execution_count": 62,
   "metadata": {
    "collapsed": true,
    "run_control": {
     "marked": false
    }
   },
   "outputs": [],
   "source": [
    "for (pdb_id, pdb_file) in skempi_df[['pdb_id', 'pdb_file']].drop_duplicates().values:\n",
    "    with gzip.open(pdb_file) as ifh:\n",
    "        with open(op.join(tempdir, '{}.pdb'.format(pdb_id)), 'wb') as ofh:\n",
    "            ofh.write(ifh.read())"
   ]
  },
  {
   "cell_type": "code",
   "execution_count": 63,
   "metadata": {
    "collapsed": true,
    "run_control": {
     "marked": false
    }
   },
   "outputs": [],
   "source": [
    "sps = {}\n",
    "for (pdb_id, pdb_file) in skempi_df[['pdb_id', 'pdb_file']].drop_duplicates().values:\n",
    "    sp = elaspic.structure_tools.StructureParser(op.join(tempdir, pdb_id + '.pdb'))\n",
    "    sp.extract()\n",
    "    sps[pdb_id] = sp"
   ]
  },
  {
   "cell_type": "code",
   "execution_count": 64,
   "metadata": {
    "collapsed": true,
    "run_control": {
     "marked": false
    }
   },
   "outputs": [],
   "source": [
    "pdb_idx2chain = {}\n",
    "pdb_chain2idx = {}\n",
    "for pdb_id, sp in sps.items():\n",
    "    pdb_idx2chain[pdb_id] = {i: chain_id for i, chain_id in enumerate(sp.chain_ids)}\n",
    "    pdb_chain2idx[pdb_id] = {chain_id: i for i, chain_id in enumerate(sp.chain_ids)}"
   ]
  },
  {
   "cell_type": "markdown",
   "metadata": {
    "run_control": {
     "marked": false
    }
   },
   "source": [
    "### ELASPIC features"
   ]
  },
  {
   "cell_type": "code",
   "execution_count": 65,
   "metadata": {
    "collapsed": false
   },
   "outputs": [
    {
     "data": {
      "text/html": [
       "<div>\n",
       "<table border=\"1\" class=\"dataframe\">\n",
       "  <thead>\n",
       "    <tr style=\"text-align: right;\">\n",
       "      <th></th>\n",
       "      <th>id</th>\n",
       "      <th>uniprot_id</th>\n",
       "      <th>partner_uniprot_id</th>\n",
       "      <th>uniprot_mutation</th>\n",
       "      <th>pdb_id</th>\n",
       "      <th>pdb_chain</th>\n",
       "      <th>partner_pdb_chain</th>\n",
       "      <th>pdb_mutation</th>\n",
       "      <th>pfam_id</th>\n",
       "      <th>pfam_clan</th>\n",
       "      <th>ddg_exp</th>\n",
       "      <th>pdb_file</th>\n",
       "      <th>mutation_json</th>\n",
       "    </tr>\n",
       "  </thead>\n",
       "  <tbody>\n",
       "    <tr>\n",
       "      <th>0</th>\n",
       "      <td>1</td>\n",
       "      <td>A0NA69</td>\n",
       "      <td>P01820</td>\n",
       "      <td>D71A</td>\n",
       "      <td>1dvf</td>\n",
       "      <td>D</td>\n",
       "      <td>B</td>\n",
       "      <td>D52A</td>\n",
       "      <td>None</td>\n",
       "      <td>None</td>\n",
       "      <td>1.682290</td>\n",
       "      <td>/home/kimlab1/database_data/pdb/data/data/stru...</td>\n",
       "      <td>[{'matrix_score': -2, 'alignment_identity': 10...</td>\n",
       "    </tr>\n",
       "    <tr>\n",
       "      <th>1</th>\n",
       "      <td>2</td>\n",
       "      <td>A0NA69</td>\n",
       "      <td>P01820</td>\n",
       "      <td>K49A</td>\n",
       "      <td>1dvf</td>\n",
       "      <td>D</td>\n",
       "      <td>B</td>\n",
       "      <td>K30A</td>\n",
       "      <td>None</td>\n",
       "      <td>None</td>\n",
       "      <td>1.003517</td>\n",
       "      <td>/home/kimlab1/database_data/pdb/data/data/stru...</td>\n",
       "      <td>[{'matrix_score': -1, 'alignment_identity': 10...</td>\n",
       "    </tr>\n",
       "  </tbody>\n",
       "</table>\n",
       "</div>"
      ],
      "text/plain": [
       "   id uniprot_id partner_uniprot_id uniprot_mutation pdb_id pdb_chain partner_pdb_chain pdb_mutation pfam_id pfam_clan   ddg_exp                                           pdb_file                                      mutation_json\n",
       "0   1     A0NA69             P01820             D71A   1dvf         D                 B         D52A    None      None  1.682290  /home/kimlab1/database_data/pdb/data/data/stru...  [{'matrix_score': -2, 'alignment_identity': 10...\n",
       "1   2     A0NA69             P01820             K49A   1dvf         D                 B         K30A    None      None  1.003517  /home/kimlab1/database_data/pdb/data/data/stru...  [{'matrix_score': -1, 'alignment_identity': 10..."
      ]
     },
     "execution_count": 65,
     "metadata": {},
     "output_type": "execute_result"
    }
   ],
   "source": [
    "skempi_df.head(2)"
   ]
  },
  {
   "cell_type": "code",
   "execution_count": 66,
   "metadata": {
    "collapsed": false
   },
   "outputs": [
    {
     "name": "stdout",
     "output_type": "stream",
     "text": [
      "mutation_not_in_interface: 795\n",
      "mutation_interface_not_found 0\n"
     ]
    }
   ],
   "source": [
    "local.mutation_not_in_interface = 0\n",
    "local.mutation_interface_not_found = 0\n",
    "\n",
    "interface_mutation_features_df = pd.concat([\n",
    "    local.guess_interface_mutation_features(index, mutation_json) \n",
    "    for index, mutation_json \n",
    "    in skempi_df.reset_index()[['index', 'mutation_json']].values])\n",
    "\n",
    "print('mutation_not_in_interface:', local.mutation_not_in_interface)\n",
    "print('mutation_interface_not_found', local.mutation_interface_not_found)"
   ]
  },
  {
   "cell_type": "code",
   "execution_count": 67,
   "metadata": {
    "collapsed": false
   },
   "outputs": [
    {
     "data": {
      "text/html": [
       "<div>\n",
       "<table border=\"1\" class=\"dataframe\">\n",
       "  <thead>\n",
       "    <tr style=\"text-align: right;\">\n",
       "      <th></th>\n",
       "      <th>alignment_coverage</th>\n",
       "      <th>alignment_identity</th>\n",
       "      <th>alignment_score</th>\n",
       "      <th>analyse_complex_energy_mut</th>\n",
       "      <th>analyse_complex_energy_wt</th>\n",
       "      <th>chain_modeller</th>\n",
       "      <th>contact_distance_mut</th>\n",
       "      <th>contact_distance_wt</th>\n",
       "      <th>ddg</th>\n",
       "      <th>idx</th>\n",
       "      <th>idxs</th>\n",
       "      <th>interface_area_hydrophilic</th>\n",
       "      <th>interface_area_hydrophobic</th>\n",
       "      <th>interface_area_total</th>\n",
       "      <th>matrix_score</th>\n",
       "      <th>model_file_mut</th>\n",
       "      <th>model_file_wt</th>\n",
       "      <th>mutation</th>\n",
       "      <th>mutation_errors</th>\n",
       "      <th>mutation_modeller</th>\n",
       "      <th>norm_dope</th>\n",
       "      <th>physchem_mut</th>\n",
       "      <th>physchem_mut_ownchain</th>\n",
       "      <th>physchem_wt</th>\n",
       "      <th>physchem_wt_ownchain</th>\n",
       "      <th>provean_score</th>\n",
       "      <th>secondary_structure_mut</th>\n",
       "      <th>secondary_structure_wt</th>\n",
       "      <th>solvent_accessibility_mut</th>\n",
       "      <th>solvent_accessibility_wt</th>\n",
       "      <th>stability_energy_mut</th>\n",
       "      <th>stability_energy_wt</th>\n",
       "    </tr>\n",
       "  </thead>\n",
       "  <tbody>\n",
       "    <tr>\n",
       "      <th>0</th>\n",
       "      <td>100.0</td>\n",
       "      <td>100.0</td>\n",
       "      <td>1.0</td>\n",
       "      <td>20.6551,19.4474,-12.2334,-4.50859,-8.71871,-10...</td>\n",
       "      <td>21.4336,19.4474,-11.9096,-4.50859,-8.74835,-10...</td>\n",
       "      <td>D</td>\n",
       "      <td>5.406324</td>\n",
       "      <td>3.272212</td>\n",
       "      <td>1.048552</td>\n",
       "      <td>3</td>\n",
       "      <td>[1, 3]</td>\n",
       "      <td>949.465</td>\n",
       "      <td>207.72</td>\n",
       "      <td>1157.19</td>\n",
       "      <td>-2</td>\n",
       "      <td>/home/kimlab1/database_data/biodb/recipes/prot...</td>\n",
       "      <td>/home/kimlab1/database_data/biodb/recipes/prot...</td>\n",
       "      <td>D52A</td>\n",
       "      <td></td>\n",
       "      <td>D168A</td>\n",
       "      <td>-1.284799</td>\n",
       "      <td>0,0,0,0</td>\n",
       "      <td>0,0,0,26</td>\n",
       "      <td>1,0,0,2</td>\n",
       "      <td>0,0,0,29</td>\n",
       "      <td>-4.954</td>\n",
       "      <td>E</td>\n",
       "      <td>E</td>\n",
       "      <td>5.740528</td>\n",
       "      <td>13.791581</td>\n",
       "      <td>18.9585,-146.063,-80.8575,-266.194,-11.7789,36...</td>\n",
       "      <td>13.4651,-146.696,-81.5276,-267.103,-13.1652,36...</td>\n",
       "    </tr>\n",
       "    <tr>\n",
       "      <th>1</th>\n",
       "      <td>100.0</td>\n",
       "      <td>100.0</td>\n",
       "      <td>1.0</td>\n",
       "      <td>21.3695,19.4474,-11.9612,-4.50859,-8.74835,-10...</td>\n",
       "      <td>21.441,19.4474,-11.9096,-4.50859,-8.74835,-10....</td>\n",
       "      <td>D</td>\n",
       "      <td>3.448053</td>\n",
       "      <td>3.448053</td>\n",
       "      <td>0.583188</td>\n",
       "      <td>3</td>\n",
       "      <td>[1, 3]</td>\n",
       "      <td>949.465</td>\n",
       "      <td>207.72</td>\n",
       "      <td>1157.19</td>\n",
       "      <td>-1</td>\n",
       "      <td>/home/kimlab1/database_data/biodb/recipes/prot...</td>\n",
       "      <td>/home/kimlab1/database_data/biodb/recipes/prot...</td>\n",
       "      <td>K30A</td>\n",
       "      <td></td>\n",
       "      <td>K146A</td>\n",
       "      <td>-1.284799</td>\n",
       "      <td>0,0,0,0</td>\n",
       "      <td>0,0,0,21</td>\n",
       "      <td>0,0,0,0</td>\n",
       "      <td>0,0,0,23</td>\n",
       "      <td>-2.385</td>\n",
       "      <td>G</td>\n",
       "      <td>G</td>\n",
       "      <td>32.530987</td>\n",
       "      <td>53.794731</td>\n",
       "      <td>14.0401,-146.637,-79.8456,-266.328,-13.0643,36...</td>\n",
       "      <td>13.4592,-146.696,-81.5634,-267.087,-13.1653,36...</td>\n",
       "    </tr>\n",
       "  </tbody>\n",
       "</table>\n",
       "</div>"
      ],
      "text/plain": [
       "   alignment_coverage  alignment_identity  alignment_score                         analyse_complex_energy_mut                          analyse_complex_energy_wt chain_modeller  contact_distance_mut  contact_distance_wt       ddg  idx    idxs  interface_area_hydrophilic  interface_area_hydrophobic  interface_area_total  matrix_score                                     model_file_mut                                      model_file_wt mutation mutation_errors mutation_modeller  norm_dope physchem_mut physchem_mut_ownchain physchem_wt physchem_wt_ownchain  provean_score secondary_structure_mut secondary_structure_wt  solvent_accessibility_mut  solvent_accessibility_wt                               stability_energy_mut                                stability_energy_wt\n",
       "0               100.0               100.0              1.0  20.6551,19.4474,-12.2334,-4.50859,-8.71871,-10...  21.4336,19.4474,-11.9096,-4.50859,-8.74835,-10...              D              5.406324             3.272212  1.048552    3  [1, 3]                     949.465                      207.72               1157.19            -2  /home/kimlab1/database_data/biodb/recipes/prot...  /home/kimlab1/database_data/biodb/recipes/prot...     D52A                             D168A  -1.284799      0,0,0,0              0,0,0,26     1,0,0,2             0,0,0,29         -4.954                       E                      E                   5.740528                 13.791581  18.9585,-146.063,-80.8575,-266.194,-11.7789,36...  13.4651,-146.696,-81.5276,-267.103,-13.1652,36...\n",
       "1               100.0               100.0              1.0  21.3695,19.4474,-11.9612,-4.50859,-8.74835,-10...  21.441,19.4474,-11.9096,-4.50859,-8.74835,-10....              D              3.448053             3.448053  0.583188    3  [1, 3]                     949.465                      207.72               1157.19            -1  /home/kimlab1/database_data/biodb/recipes/prot...  /home/kimlab1/database_data/biodb/recipes/prot...     K30A                             K146A  -1.284799      0,0,0,0              0,0,0,21     0,0,0,0             0,0,0,23         -2.385                       G                      G                  32.530987                 53.794731  14.0401,-146.637,-79.8456,-266.328,-13.0643,36...  13.4592,-146.696,-81.5634,-267.087,-13.1653,36..."
      ]
     },
     "execution_count": 67,
     "metadata": {},
     "output_type": "execute_result"
    }
   ],
   "source": [
    "interface_mutation_features_df.head(2)"
   ]
  },
  {
   "cell_type": "code",
   "execution_count": 68,
   "metadata": {
    "collapsed": false,
    "run_control": {
     "marked": false
    }
   },
   "outputs": [
    {
     "name": "stdout",
     "output_type": "stream",
     "text": [
      "Starting number of mutations:                               2213\n",
      "Starting number of mutation indexes:                        2213\n",
      "Number of unique pdb id / mutations:                        2210\n",
      "--------------------------------------------------------------------------------\n",
      "Number of ELASPIC PDB mutations:                            1577\n",
      "Number of ELASPIC PDB mutation indexes:                     1418\n",
      "Number of unique ELASPIC pdb id / mutations:                1415\n",
      "--------------------------------------------------------------------------------\n",
      "Number of ELASPIC PDB mutations wddg_exp:                   1577\n",
      "Number of ELASPIC PDB mutation indexes wddg_exp:            1418\n",
      "Number of unique ELASPIC pdb id / mutations wddg_exp:       1415\n"
     ]
    }
   ],
   "source": [
    "interface_mutation_features_df_final = (\n",
    "    interface_mutation_features_df\n",
    "    .merge(\n",
    "        skempi_df[['pdb_id', 'pdb_chain', 'partner_pdb_chain', 'pdb_mutation', 'ddg_exp']],\n",
    "        left_index=True, right_index=True)\n",
    ")\n",
    "\n",
    "print2(\"Starting number of mutations:\", skempi_df.shape[0])\n",
    "print2(\"Starting number of mutation indexes:\", len(set(skempi_df.index)))\n",
    "print2(\"Number of unique pdb id / mutations:\", \n",
    "       skempi_df[['pdb_id', 'pdb_mutation']].drop_duplicates().shape[0])\n",
    "print('-' * 80)\n",
    "\n",
    "print2(\"Number of ELASPIC PDB mutations:\", \n",
    "       interface_mutation_features_df.shape[0])\n",
    "print2(\"Number of ELASPIC PDB mutation indexes:\",\n",
    "       len(set(interface_mutation_features_df.index)))\n",
    "print2(\"Number of unique ELASPIC pdb id / mutations:\",\n",
    "       interface_mutation_features_df_final[['pdb_id', 'pdb_mutation']].drop_duplicates().shape[0])\n",
    "print('-' * 80)\n",
    "\n",
    "print2(\"Number of ELASPIC PDB mutations wddg_exp:\", \n",
    "       interface_mutation_features_df_final.shape[0])\n",
    "print2(\"Number of ELASPIC PDB mutation indexes wddg_exp:\",\n",
    "       len(set(interface_mutation_features_df_final.index)))\n",
    "print2(\"Number of unique ELASPIC pdb id / mutations wddg_exp:\",\n",
    "       interface_mutation_features_df_final[['pdb_id', 'pdb_mutation']].drop_duplicates().shape[0])"
   ]
  },
  {
   "cell_type": "markdown",
   "metadata": {
    "collapsed": true,
    "run_control": {
     "marked": false
    }
   },
   "source": [
    "### Correct duplicate interfaces"
   ]
  },
  {
   "cell_type": "code",
   "execution_count": 69,
   "metadata": {
    "collapsed": false
   },
   "outputs": [
    {
     "data": {
      "text/html": [
       "<div>\n",
       "<table border=\"1\" class=\"dataframe\">\n",
       "  <thead>\n",
       "    <tr style=\"text-align: right;\">\n",
       "      <th></th>\n",
       "      <th>alignment_coverage</th>\n",
       "      <th>alignment_identity</th>\n",
       "      <th>alignment_score</th>\n",
       "      <th>analyse_complex_energy_mut</th>\n",
       "      <th>analyse_complex_energy_wt</th>\n",
       "      <th>chain_modeller</th>\n",
       "      <th>contact_distance_mut</th>\n",
       "      <th>contact_distance_wt</th>\n",
       "      <th>ddg</th>\n",
       "      <th>idx</th>\n",
       "      <th>idxs</th>\n",
       "      <th>interface_area_hydrophilic</th>\n",
       "      <th>interface_area_hydrophobic</th>\n",
       "      <th>interface_area_total</th>\n",
       "      <th>matrix_score</th>\n",
       "      <th>model_file_mut</th>\n",
       "      <th>model_file_wt</th>\n",
       "      <th>mutation</th>\n",
       "      <th>mutation_errors</th>\n",
       "      <th>mutation_modeller</th>\n",
       "      <th>norm_dope</th>\n",
       "      <th>physchem_mut</th>\n",
       "      <th>physchem_mut_ownchain</th>\n",
       "      <th>physchem_wt</th>\n",
       "      <th>physchem_wt_ownchain</th>\n",
       "      <th>provean_score</th>\n",
       "      <th>secondary_structure_mut</th>\n",
       "      <th>secondary_structure_wt</th>\n",
       "      <th>solvent_accessibility_mut</th>\n",
       "      <th>solvent_accessibility_wt</th>\n",
       "      <th>stability_energy_mut</th>\n",
       "      <th>stability_energy_wt</th>\n",
       "      <th>pdb_id</th>\n",
       "      <th>pdb_chain</th>\n",
       "      <th>partner_pdb_chain</th>\n",
       "      <th>pdb_mutation</th>\n",
       "      <th>ddg_exp</th>\n",
       "    </tr>\n",
       "  </thead>\n",
       "  <tbody>\n",
       "    <tr>\n",
       "      <th>45</th>\n",
       "      <td>100.0</td>\n",
       "      <td>100.0</td>\n",
       "      <td>1.0</td>\n",
       "      <td>55.7309,26.2422,-3.57341,-2.55825,-8.28319,-6....</td>\n",
       "      <td>55.9494,26.2422,-4.39967,-2.57344,-8.28319,-6....</td>\n",
       "      <td>C</td>\n",
       "      <td>8.408519</td>\n",
       "      <td>7.103505</td>\n",
       "      <td>0.395374</td>\n",
       "      <td>2</td>\n",
       "      <td>[1, 2]</td>\n",
       "      <td>848.47</td>\n",
       "      <td>97.840</td>\n",
       "      <td>946.305</td>\n",
       "      <td>-2</td>\n",
       "      <td>/home/kimlab1/database_data/biodb/recipes/prot...</td>\n",
       "      <td>/home/kimlab1/database_data/biodb/recipes/prot...</td>\n",
       "      <td>R125A</td>\n",
       "      <td></td>\n",
       "      <td>R241A</td>\n",
       "      <td>-1.018821</td>\n",
       "      <td>0,0,0,0</td>\n",
       "      <td>0,0,0,11</td>\n",
       "      <td>0,0,0,0</td>\n",
       "      <td>0,0,1,13</td>\n",
       "      <td>-1.768</td>\n",
       "      <td>T</td>\n",
       "      <td>T</td>\n",
       "      <td>67.433627</td>\n",
       "      <td>76.037737</td>\n",
       "      <td>77.8161,-151.151,-88.7621,-285.268,-6.12651,39...</td>\n",
       "      <td>77.2316,-151.198,-91.6007,-285.844,-6.53069,39...</td>\n",
       "      <td>1vfb</td>\n",
       "      <td>C</td>\n",
       "      <td>A</td>\n",
       "      <td>R125A</td>\n",
       "      <td>1.836900</td>\n",
       "    </tr>\n",
       "    <tr>\n",
       "      <th>489</th>\n",
       "      <td>100.0</td>\n",
       "      <td>100.0</td>\n",
       "      <td>1.0</td>\n",
       "      <td>70.6751,54.9888,-19.3333,-3.57726,-11.0745,-23...</td>\n",
       "      <td>70.9956,54.9888,-18.7396,-3.57703,-11.0715,-23...</td>\n",
       "      <td>B</td>\n",
       "      <td>8.620477</td>\n",
       "      <td>7.844493</td>\n",
       "      <td>0.624938</td>\n",
       "      <td>1</td>\n",
       "      <td>[0, 1]</td>\n",
       "      <td>984.92</td>\n",
       "      <td>418.785</td>\n",
       "      <td>1403.705</td>\n",
       "      <td>-1</td>\n",
       "      <td>/home/kimlab1/database_data/biodb/recipes/prot...</td>\n",
       "      <td>/home/kimlab1/database_data/biodb/recipes/prot...</td>\n",
       "      <td>E128A</td>\n",
       "      <td></td>\n",
       "      <td>E308A</td>\n",
       "      <td>-0.806891</td>\n",
       "      <td>0,0,0,0</td>\n",
       "      <td>0,0,0,29</td>\n",
       "      <td>0,0,0,0</td>\n",
       "      <td>0,2,0,36</td>\n",
       "      <td>-3.767</td>\n",
       "      <td>E</td>\n",
       "      <td>E</td>\n",
       "      <td>8.180547</td>\n",
       "      <td>5.665254</td>\n",
       "      <td>90.9283,-231.001,-125.215,-457.878,-13.5018,60...</td>\n",
       "      <td>91.5803,-232.002,-125.746,-459.682,-15.2834,60...</td>\n",
       "      <td>1a22</td>\n",
       "      <td>B</td>\n",
       "      <td>A</td>\n",
       "      <td>E373A</td>\n",
       "      <td>0.082765</td>\n",
       "    </tr>\n",
       "  </tbody>\n",
       "</table>\n",
       "</div>"
      ],
      "text/plain": [
       "     alignment_coverage  alignment_identity  alignment_score                         analyse_complex_energy_mut                          analyse_complex_energy_wt chain_modeller  contact_distance_mut  contact_distance_wt       ddg  idx    idxs  interface_area_hydrophilic  interface_area_hydrophobic  interface_area_total  matrix_score                                     model_file_mut                                      model_file_wt mutation mutation_errors mutation_modeller  norm_dope physchem_mut physchem_mut_ownchain physchem_wt physchem_wt_ownchain  provean_score secondary_structure_mut secondary_structure_wt  solvent_accessibility_mut  solvent_accessibility_wt                               stability_energy_mut                                stability_energy_wt pdb_id pdb_chain partner_pdb_chain pdb_mutation   ddg_exp\n",
       "45                100.0               100.0              1.0  55.7309,26.2422,-3.57341,-2.55825,-8.28319,-6....  55.9494,26.2422,-4.39967,-2.57344,-8.28319,-6....              C              8.408519             7.103505  0.395374    2  [1, 2]                      848.47                      97.840               946.305            -2  /home/kimlab1/database_data/biodb/recipes/prot...  /home/kimlab1/database_data/biodb/recipes/prot...    R125A                             R241A  -1.018821      0,0,0,0              0,0,0,11     0,0,0,0             0,0,1,13         -1.768                       T                      T                  67.433627                 76.037737  77.8161,-151.151,-88.7621,-285.268,-6.12651,39...  77.2316,-151.198,-91.6007,-285.844,-6.53069,39...   1vfb         C                 A        R125A  1.836900\n",
       "489               100.0               100.0              1.0  70.6751,54.9888,-19.3333,-3.57726,-11.0745,-23...  70.9956,54.9888,-18.7396,-3.57703,-11.0715,-23...              B              8.620477             7.844493  0.624938    1  [0, 1]                      984.92                     418.785              1403.705            -1  /home/kimlab1/database_data/biodb/recipes/prot...  /home/kimlab1/database_data/biodb/recipes/prot...    E128A                             E308A  -0.806891      0,0,0,0              0,0,0,29     0,0,0,0             0,2,0,36         -3.767                       E                      E                   8.180547                  5.665254  90.9283,-231.001,-125.215,-457.878,-13.5018,60...  91.5803,-232.002,-125.746,-459.682,-15.2834,60...   1a22         B                 A        E373A  0.082765"
      ]
     },
     "execution_count": 69,
     "metadata": {},
     "output_type": "execute_result"
    }
   ],
   "source": [
    "interface_mutation_features_df_final = (\n",
    "    interface_mutation_features_df_final.sort_values('contact_distance_wt', ascending=True))\n",
    "interface_mutation_features_df_final.tail(2)"
   ]
  },
  {
   "cell_type": "code",
   "execution_count": 70,
   "metadata": {
    "collapsed": false
   },
   "outputs": [
    {
     "data": {
      "text/plain": [
       "<matplotlib.axes._subplots.AxesSubplot at 0x7faa6317d048>"
      ]
     },
     "execution_count": 70,
     "metadata": {},
     "output_type": "execute_result"
    },
    {
     "data": {
      "image/png": "[encoded data removed]",
      "text/plain": [
       "<matplotlib.figure.Figure at 0x7faa633c4fd0>"
      ]
     },
     "metadata": {},
     "output_type": "display_data"
    }
   ],
   "source": [
    "interface_mutation_features_df_final['contact_distance_wt'].hist(range=(1, 8.0))"
   ]
  },
  {
   "cell_type": "code",
   "execution_count": 71,
   "metadata": {
    "collapsed": false
   },
   "outputs": [
    {
     "data": {
      "text/plain": [
       "<matplotlib.axes._subplots.AxesSubplot at 0x7faa61023278>"
      ]
     },
     "execution_count": 71,
     "metadata": {},
     "output_type": "execute_result"
    },
    {
     "data": {
      "image/png": "[encoded data removed]",
      "text/plain": [
       "<matplotlib.figure.Figure at 0x7faa60f658d0>"
      ]
     },
     "metadata": {},
     "output_type": "display_data"
    }
   ],
   "source": [
    "interface_mutation_features_df_final = (\n",
    "    interface_mutation_features_df_final.drop_duplicates(['pdb_id', 'pdb_mutation']))\n",
    "interface_mutation_features_df_final['contact_distance_wt'].hist(range=(1, 8.0))"
   ]
  },
  {
   "cell_type": "code",
   "execution_count": 72,
   "metadata": {
    "collapsed": false
   },
   "outputs": [
    {
     "name": "stdout",
     "output_type": "stream",
     "text": [
      "Number of ELASPIC PDB mutations wddg_exp:                   1415\n",
      "Number of ELASPIC PDB mutation indexes wddg_exp:            1415\n",
      "Number of unique ELASPIC pdb id / mutations wddg_exp:       1415\n"
     ]
    }
   ],
   "source": [
    "print2(\"Number of ELASPIC PDB mutations wddg_exp:\", \n",
    "       interface_mutation_features_df_final.shape[0])\n",
    "print2(\"Number of ELASPIC PDB mutation indexes wddg_exp:\",\n",
    "       len(set(interface_mutation_features_df_final.index)))\n",
    "print2(\"Number of unique ELASPIC pdb id / mutations wddg_exp:\",\n",
    "       interface_mutation_features_df_final[['pdb_id', 'pdb_mutation']].drop_duplicates().shape[0])"
   ]
  },
  {
   "cell_type": "markdown",
   "metadata": {},
   "source": [
    "## Save to database"
   ]
  },
  {
   "cell_type": "code",
   "execution_count": 73,
   "metadata": {
    "collapsed": true
   },
   "outputs": [],
   "source": [
    "_header_columns = [\n",
    "    'pdb_id', 'pdb_chain', 'partner_pdb_chain', 'pdb_mutation', 'mutation', 'mutation_modeller', 'idx', 'idxs',\n",
    "]"
   ]
  },
  {
   "cell_type": "code",
   "execution_count": 74,
   "metadata": {
    "collapsed": false
   },
   "outputs": [
    {
     "data": {
      "text/html": [
       "<div>\n",
       "<table border=\"1\" class=\"dataframe\">\n",
       "  <thead>\n",
       "    <tr style=\"text-align: right;\">\n",
       "      <th></th>\n",
       "      <th>pdb_id</th>\n",
       "      <th>pdb_chain</th>\n",
       "      <th>partner_pdb_chain</th>\n",
       "      <th>pdb_mutation</th>\n",
       "      <th>mutation</th>\n",
       "      <th>mutation_modeller</th>\n",
       "      <th>idx</th>\n",
       "      <th>idxs</th>\n",
       "      <th>alignment_coverage</th>\n",
       "      <th>alignment_identity</th>\n",
       "      <th>alignment_score</th>\n",
       "      <th>analyse_complex_energy_mut</th>\n",
       "      <th>analyse_complex_energy_wt</th>\n",
       "      <th>chain_modeller</th>\n",
       "      <th>contact_distance_mut</th>\n",
       "      <th>contact_distance_wt</th>\n",
       "      <th>ddg</th>\n",
       "      <th>interface_area_hydrophilic</th>\n",
       "      <th>interface_area_hydrophobic</th>\n",
       "      <th>interface_area_total</th>\n",
       "      <th>matrix_score</th>\n",
       "      <th>model_file_mut</th>\n",
       "      <th>model_file_wt</th>\n",
       "      <th>mutation_errors</th>\n",
       "      <th>norm_dope</th>\n",
       "      <th>physchem_mut</th>\n",
       "      <th>physchem_mut_ownchain</th>\n",
       "      <th>physchem_wt</th>\n",
       "      <th>physchem_wt_ownchain</th>\n",
       "      <th>provean_score</th>\n",
       "      <th>secondary_structure_mut</th>\n",
       "      <th>secondary_structure_wt</th>\n",
       "      <th>solvent_accessibility_mut</th>\n",
       "      <th>solvent_accessibility_wt</th>\n",
       "      <th>stability_energy_mut</th>\n",
       "      <th>stability_energy_wt</th>\n",
       "      <th>ddg_exp</th>\n",
       "    </tr>\n",
       "  </thead>\n",
       "  <tbody>\n",
       "    <tr>\n",
       "      <th>293</th>\n",
       "      <td>1gc1</td>\n",
       "      <td>C</td>\n",
       "      <td>G</td>\n",
       "      <td>S42A</td>\n",
       "      <td>S42A</td>\n",
       "      <td>S339A</td>\n",
       "      <td>1</td>\n",
       "      <td>[0, 1]</td>\n",
       "      <td>100.0</td>\n",
       "      <td>100.0</td>\n",
       "      <td>1.0</td>\n",
       "      <td>41.9659,131.714,-6.54501,-4.0065,-7.56168,-18....</td>\n",
       "      <td>41.9676,131.714,-4.85885,-4.0074,-7.59593,-18....</td>\n",
       "      <td>C</td>\n",
       "      <td>2.93074</td>\n",
       "      <td>2.101380</td>\n",
       "      <td>-1.041795</td>\n",
       "      <td>256.830</td>\n",
       "      <td>430.72</td>\n",
       "      <td>687.56</td>\n",
       "      <td>1</td>\n",
       "      <td>/home/kimlab1/database_data/biodb/recipes/prot...</td>\n",
       "      <td>/home/kimlab1/database_data/biodb/recipes/prot...</td>\n",
       "      <td></td>\n",
       "      <td>-0.199640</td>\n",
       "      <td>0,0,0,20</td>\n",
       "      <td>0,0,0,14</td>\n",
       "      <td>0,0,4,20</td>\n",
       "      <td>0,0,1,14</td>\n",
       "      <td>-2.190</td>\n",
       "      <td>T</td>\n",
       "      <td>T</td>\n",
       "      <td>64.068365</td>\n",
       "      <td>61.981030</td>\n",
       "      <td>245.555,-255.403,-135.516,-553.462,-18.2303,74...</td>\n",
       "      <td>246.905,-255.404,-136.813,-553.727,-18.2333,74...</td>\n",
       "      <td>0.000000</td>\n",
       "    </tr>\n",
       "    <tr>\n",
       "      <th>130</th>\n",
       "      <td>2j0t</td>\n",
       "      <td>D</td>\n",
       "      <td>A</td>\n",
       "      <td>T2A</td>\n",
       "      <td>T2A</td>\n",
       "      <td>T163A</td>\n",
       "      <td>3</td>\n",
       "      <td>[0, 3]</td>\n",
       "      <td>100.0</td>\n",
       "      <td>100.0</td>\n",
       "      <td>1.0</td>\n",
       "      <td>31.5418,34.1706,-5.647,-7.83505,-2.13059,-13.6...</td>\n",
       "      <td>31.5419,34.1706,-4.7865,-7.8758,-2.64543,-14.2...</td>\n",
       "      <td>D</td>\n",
       "      <td>2.88516</td>\n",
       "      <td>2.178801</td>\n",
       "      <td>2.761585</td>\n",
       "      <td>189.175</td>\n",
       "      <td>290.78</td>\n",
       "      <td>479.96</td>\n",
       "      <td>0</td>\n",
       "      <td>/home/kimlab1/database_data/biodb/recipes/prot...</td>\n",
       "      <td>/home/kimlab1/database_data/biodb/recipes/prot...</td>\n",
       "      <td></td>\n",
       "      <td>-1.043686</td>\n",
       "      <td>0,0,0,31</td>\n",
       "      <td>0,0,0,5</td>\n",
       "      <td>0,0,1,36</td>\n",
       "      <td>0,0,1,5</td>\n",
       "      <td>-1.344</td>\n",
       "      <td>E</td>\n",
       "      <td>E</td>\n",
       "      <td>99.383511</td>\n",
       "      <td>103.129533</td>\n",
       "      <td>111.667,-155.965,-79.502,-323.272,-7.41946,448...</td>\n",
       "      <td>112.14,-156.006,-80.0168,-323.921,-7.41946,449...</td>\n",
       "      <td>4.387813</td>\n",
       "    </tr>\n",
       "  </tbody>\n",
       "</table>\n",
       "</div>"
      ],
      "text/plain": [
       "    pdb_id pdb_chain partner_pdb_chain pdb_mutation mutation mutation_modeller  idx    idxs  alignment_coverage  alignment_identity  alignment_score                         analyse_complex_energy_mut                          analyse_complex_energy_wt chain_modeller  contact_distance_mut  contact_distance_wt       ddg  interface_area_hydrophilic  interface_area_hydrophobic  interface_area_total  matrix_score                                     model_file_mut                                      model_file_wt mutation_errors  norm_dope physchem_mut physchem_mut_ownchain physchem_wt physchem_wt_ownchain  provean_score secondary_structure_mut secondary_structure_wt  solvent_accessibility_mut  solvent_accessibility_wt                               stability_energy_mut                                stability_energy_wt   ddg_exp\n",
       "293   1gc1         C                 G         S42A     S42A             S339A    1  [0, 1]               100.0               100.0              1.0  41.9659,131.714,-6.54501,-4.0065,-7.56168,-18....  41.9676,131.714,-4.85885,-4.0074,-7.59593,-18....              C               2.93074             2.101380 -1.041795                     256.830                      430.72                687.56             1  /home/kimlab1/database_data/biodb/recipes/prot...  /home/kimlab1/database_data/biodb/recipes/prot...                  -0.199640     0,0,0,20              0,0,0,14    0,0,4,20             0,0,1,14         -2.190                       T                      T                  64.068365                 61.981030  245.555,-255.403,-135.516,-553.462,-18.2303,74...  246.905,-255.404,-136.813,-553.727,-18.2333,74...  0.000000\n",
       "130   2j0t         D                 A          T2A      T2A             T163A    3  [0, 3]               100.0               100.0              1.0  31.5418,34.1706,-5.647,-7.83505,-2.13059,-13.6...  31.5419,34.1706,-4.7865,-7.8758,-2.64543,-14.2...              D               2.88516             2.178801  2.761585                     189.175                      290.78                479.96             0  /home/kimlab1/database_data/biodb/recipes/prot...  /home/kimlab1/database_data/biodb/recipes/prot...                  -1.043686     0,0,0,31               0,0,0,5    0,0,1,36              0,0,1,5         -1.344                       E                      E                  99.383511                103.129533  111.667,-155.965,-79.502,-323.272,-7.41946,448...  112.14,-156.006,-80.0168,-323.921,-7.41946,449...  4.387813"
      ]
     },
     "execution_count": 74,
     "metadata": {},
     "output_type": "execute_result"
    }
   ],
   "source": [
    "interface_mutation_features_df_final[\n",
    "    _header_columns + [c for c in interface_mutation_features_df_final.columns if c not in _header_columns]\n",
    "].head(2)"
   ]
  },
  {
   "cell_type": "code",
   "execution_count": 75,
   "metadata": {
    "collapsed": true
   },
   "outputs": [],
   "source": [
    "t = db.import_df(\n",
    "    interface_mutation_features_df_final\n",
    "    [_header_columns + [c for c in interface_mutation_features_df_final.columns if c not in _header_columns]],\n",
    "    'skempi_elaspic_scores',\n",
    ")"
   ]
  },
  {
   "cell_type": "code",
   "execution_count": 76,
   "metadata": {
    "collapsed": false
   },
   "outputs": [
    {
     "data": {
      "text/plain": [
       "'skempi_elaspic_scores'"
      ]
     },
     "execution_count": 76,
     "metadata": {},
     "output_type": "execute_result"
    }
   ],
   "source": [
    "t.name"
   ]
  },
  {
   "cell_type": "code",
   "execution_count": 77,
   "metadata": {
    "collapsed": true
   },
   "outputs": [],
   "source": [
    "db.create_indexes(\n",
    "    t.name,\n",
    "    [(['pdb_id', 'pdb_chain', 'partner_pdb_chain', 'pdb_mutation'], True)]\n",
    ")"
   ]
  },
  {
   "cell_type": "code",
   "execution_count": 78,
   "metadata": {
    "collapsed": false
   },
   "outputs": [
    {
     "data": {
      "text/plain": [
       "1415"
      ]
     },
     "execution_count": 78,
     "metadata": {},
     "output_type": "execute_result"
    }
   ],
   "source": [
    "db.add_idx_column(t.name, '_index')"
   ]
  }
 ],
 "metadata": {
  "anaconda-cloud": {},
  "kernelspec": {
   "display_name": "Python [Root]",
   "language": "python",
   "name": "Python [Root]"
  },
  "language_info": {
   "codemirror_mode": {
    "name": "ipython",
    "version": 3
   },
   "file_extension": ".py",
   "mimetype": "text/x-python",
   "name": "python",
   "nbconvert_exporter": "python",
   "pygments_lexer": "ipython3",
   "version": "3.5.2"
  },
  "nav_menu": {},
  "toc": {
   "navigate_menu": true,
   "number_sections": true,
   "sideBar": false,
   "threshold": 6,
   "toc_cell": false,
   "toc_section_display": "block",
   "toc_window_display": true
  },
  "toc_position": {
   "height": "479px",
   "left": "91.9792px",
   "right": "20px",
   "top": "54.9653px",
   "width": "230px"
  }
 },
 "nbformat": 4,
 "nbformat_minor": 0
}
