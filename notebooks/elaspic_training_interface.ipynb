{
 "cells": [
  {
   "cell_type": "markdown",
   "metadata": {
    "run_control": {
     "marked": false
    }
   },
   "source": [
    "# Summary\n",
    "\n",
    "Create the `elaspic_training_interface` database and fill it with **interface** training data.\n",
    "\n",
    "Depends on `interface_load_data`.\n",
    "\n",
    "\n",
    "**TODO** : Make sure that the engine used is InnoDB\n",
    "\n",
    "----"
   ]
  },
  {
   "cell_type": "markdown",
   "metadata": {
    "run_control": {
     "marked": false
    }
   },
   "source": [
    "# Imports"
   ]
  },
  {
   "cell_type": "code",
   "execution_count": 1,
   "metadata": {
    "collapsed": false,
    "run_control": {
     "marked": false
    }
   },
   "outputs": [
    {
     "name": "stdout",
     "output_type": "stream",
     "text": [
      "2016-08-09 15:02:37.440576\n"
     ]
    }
   ],
   "source": [
    "%run imports.ipynb"
   ]
  },
  {
   "cell_type": "code",
   "execution_count": 2,
   "metadata": {
    "collapsed": false,
    "run_control": {
     "marked": false
    }
   },
   "outputs": [],
   "source": [
    "NOTEBOOK_NAME = 'elaspic_training_interface'\n",
    "os.makedirs(NOTEBOOK_NAME, exist_ok=True)\n",
    "\n",
    "os.environ['NOTEBOOK_NAME'] = NOTEBOOK_NAME\n",
    "os.environ['DB_PORT'] = '8309'"
   ]
  },
  {
   "cell_type": "code",
   "execution_count": 3,
   "metadata": {
    "collapsed": false,
    "run_control": {
     "marked": false
    },
    "scrolled": false
   },
   "outputs": [
    {
     "name": "stderr",
     "output_type": "stream",
     "text": [
      "2016-08-09 15:02:37,938 - root - INFO - MySQL database already running...\n"
     ]
    },
    {
     "name": "stdout",
     "output_type": "stream",
     "text": [
      "The autoreload extension is already loaded. To reload it, use:\n",
      "  %reload_ext autoreload\n",
      "2016-08-09 15:02:37.926784\n"
     ]
    }
   ],
   "source": [
    "%run mysqld.ipynb"
   ]
  },
  {
   "cell_type": "code",
   "execution_count": 4,
   "metadata": {
    "collapsed": false,
    "run_control": {
     "marked": false
    }
   },
   "outputs": [],
   "source": [
    "db_remote = datapkg.MySQL(\n",
    "    connection_string=os.environ['DATAPKG_CONNECTION_STR'], \n",
    "    shared_folder=os.environ['NOTEBOOK_NAME'], \n",
    "    storage_host=None, \n",
    "    echo=False, \n",
    "    db_engine='InnoDB'\n",
    ")"
   ]
  },
  {
   "cell_type": "code",
   "execution_count": 5,
   "metadata": {
    "collapsed": false,
    "run_control": {
     "marked": false
    }
   },
   "outputs": [],
   "source": [
    "elaspic.conf.read_configuration_file(DATABASE={'connection_string': db.connection_string})"
   ]
  },
  {
   "cell_type": "code",
   "execution_count": 6,
   "metadata": {
    "collapsed": true,
    "run_control": {
     "marked": false
    }
   },
   "outputs": [],
   "source": [
    "import elaspic.elaspic_database_tables"
   ]
  },
  {
   "cell_type": "code",
   "execution_count": 7,
   "metadata": {
    "collapsed": true,
    "run_control": {
     "marked": false
    }
   },
   "outputs": [],
   "source": [
    "PDB_DIR = '/home/kimlab1/database_data/pdb/data/data/structures/all/pdb'"
   ]
  },
  {
   "cell_type": "code",
   "execution_count": 8,
   "metadata": {
    "collapsed": false,
    "run_control": {
     "marked": false
    }
   },
   "outputs": [
    {
     "name": "stdout",
     "output_type": "stream",
     "text": [
      "The autoreload extension is already loaded. To reload it, use:\n",
      "  %reload_ext autoreload\n",
      "2016-08-09 15:02:39.568621\n"
     ]
    }
   ],
   "source": [
    "# Reload logging after elaspic screws it up\n",
    "%run imports.ipynb"
   ]
  },
  {
   "cell_type": "code",
   "execution_count": 9,
   "metadata": {
    "collapsed": true,
    "run_control": {
     "marked": false
    }
   },
   "outputs": [],
   "source": [
    "logger.setLevel(logging.DEBUG)"
   ]
  },
  {
   "cell_type": "code",
   "execution_count": 10,
   "metadata": {
    "collapsed": false,
    "run_control": {
     "marked": false
    }
   },
   "outputs": [
    {
     "name": "stderr",
     "output_type": "stream",
     "text": [
      "2016-08-09 15:02:39,882 - root - DEBUG - xx\n"
     ]
    }
   ],
   "source": [
    "logger.debug('xx')"
   ]
  },
  {
   "cell_type": "markdown",
   "metadata": {
    "code_folding": [],
    "run_control": {
     "marked": false
    }
   },
   "source": [
    "# Load data"
   ]
  },
  {
   "cell_type": "code",
   "execution_count": 11,
   "metadata": {
    "collapsed": false,
    "run_control": {
     "marked": false
    }
   },
   "outputs": [],
   "source": [
    "DATASETS = ['skempi', 'taipale_ppi', 'taipale_gpca']\n",
    "\n",
    "DATA = {}\n",
    "for dataset in DATASETS:\n",
    "    DATA[dataset] = pd.read_sql_table(dataset, db_remote.engine, schema='protein_interaction_energy')"
   ]
  },
  {
   "cell_type": "code",
   "execution_count": 12,
   "metadata": {
    "collapsed": false,
    "run_control": {
     "marked": false
    }
   },
   "outputs": [
    {
     "data": {
      "text/html": [
       "<div>\n",
       "<table border=\"1\" class=\"dataframe\">\n",
       "  <thead>\n",
       "    <tr style=\"text-align: right;\">\n",
       "      <th></th>\n",
       "      <th>id</th>\n",
       "      <th>uniprot_id</th>\n",
       "      <th>partner_uniprot_id</th>\n",
       "      <th>uniprot_mutation</th>\n",
       "      <th>pdb_id</th>\n",
       "      <th>pdb_chain</th>\n",
       "      <th>partner_pdb_chain</th>\n",
       "      <th>pdb_mutation</th>\n",
       "      <th>pfam_id</th>\n",
       "      <th>pfam_clan</th>\n",
       "      <th>ddg_exp</th>\n",
       "    </tr>\n",
       "  </thead>\n",
       "  <tbody>\n",
       "    <tr>\n",
       "      <th>0</th>\n",
       "      <td>1</td>\n",
       "      <td>A0NA69</td>\n",
       "      <td>P01820</td>\n",
       "      <td>D71A</td>\n",
       "      <td>1dvf</td>\n",
       "      <td>D</td>\n",
       "      <td>B</td>\n",
       "      <td>D52A</td>\n",
       "      <td>None</td>\n",
       "      <td>None</td>\n",
       "      <td>1.682290</td>\n",
       "    </tr>\n",
       "    <tr>\n",
       "      <th>1</th>\n",
       "      <td>2</td>\n",
       "      <td>A0NA69</td>\n",
       "      <td>P01820</td>\n",
       "      <td>K49A</td>\n",
       "      <td>1dvf</td>\n",
       "      <td>D</td>\n",
       "      <td>B</td>\n",
       "      <td>K30A</td>\n",
       "      <td>None</td>\n",
       "      <td>None</td>\n",
       "      <td>1.003517</td>\n",
       "    </tr>\n",
       "  </tbody>\n",
       "</table>\n",
       "</div>"
      ],
      "text/plain": [
       "   id uniprot_id partner_uniprot_id uniprot_mutation pdb_id pdb_chain partner_pdb_chain pdb_mutation pfam_id pfam_clan   ddg_exp\n",
       "0   1     A0NA69             P01820             D71A   1dvf         D                 B         D52A    None      None  1.682290\n",
       "1   2     A0NA69             P01820             K49A   1dvf         D                 B         K30A    None      None  1.003517"
      ]
     },
     "metadata": {},
     "output_type": "display_data"
    },
    {
     "name": "stdout",
     "output_type": "stream",
     "text": [
      "2213\n"
     ]
    }
   ],
   "source": [
    "display(DATA['skempi'].head(2))\n",
    "print(DATA['skempi'].shape[0])"
   ]
  },
  {
   "cell_type": "code",
   "execution_count": 13,
   "metadata": {
    "collapsed": false,
    "run_control": {
     "marked": false
    }
   },
   "outputs": [
    {
     "name": "stdout",
     "output_type": "stream",
     "text": [
      "skempi\n",
      "Number of rows:                                                            2,213\n",
      "Number of unique rows:                                                     2,213\n",
      "Number of null mutations:                                                      0\n",
      "Number of unique mutations:                                                2,213\n",
      "taipale_ppi\n",
      "Number of rows:                                                            2,348\n",
      "Number of unique rows:                                                     2,348\n",
      "Number of null mutations:                                                      0\n",
      "Number of unique mutations:                                                2,348\n",
      "taipale_gpca\n",
      "Number of rows:                                                              742\n",
      "Number of unique rows:                                                       742\n",
      "Number of null mutations:                                                      0\n",
      "Number of unique mutations:                                                  742\n"
     ]
    }
   ],
   "source": [
    "for dataset in DATASETS:\n",
    "    print(dataset); sys.stdout.flush()\n",
    "    print2(\n",
    "        \"Number of rows:\",\n",
    "        \"{:20,d}\".format(DATA[dataset].shape[0]))\n",
    "    print2(\n",
    "        \"Number of unique rows:\",\n",
    "        \"{:20,d}\".format(DATA[dataset].drop_duplicates().shape[0]))\n",
    "    print2(\n",
    "        \"Number of null mutations:\",\n",
    "        \"{:20,d}\".format(DATA[dataset]['uniprot_mutation'].isnull().sum()))\n",
    "    print2(\n",
    "        \"Number of unique mutations:\",\n",
    "        \"{:20,d}\".format(\n",
    "            DATA[dataset][['uniprot_id', 'partner_uniprot_id', 'uniprot_mutation']]\n",
    "            .drop_duplicates().shape[0]))"
   ]
  },
  {
   "cell_type": "markdown",
   "metadata": {
    "run_control": {
     "marked": false
    }
   },
   "source": [
    "# === Creating the database ===\n",
    "\n",
    "Can skim this step f you have done it already..."
   ]
  },
  {
   "cell_type": "code",
   "execution_count": 14,
   "metadata": {
    "code_folding": [],
    "collapsed": false,
    "run_control": {
     "marked": false
    }
   },
   "outputs": [
    {
     "name": "stdout",
     "output_type": "stream",
     "text": [
      "skempi: 114\n",
      "taipale_ppi: 889\n",
      "taipale_gpca: 889\n"
     ]
    }
   ],
   "source": [
    "# Collect uniprot_ids for all datasets\n",
    "sql_query_template = \"\"\"\\\n",
    "SELECT uniprot_id \n",
    "from protein_interaction_energy.{0}\n",
    "UNION\n",
    "SELECT partner_uniprot_id uniprot_id\n",
    "from protein_interaction_energy.{0}\n",
    "\"\"\"\n",
    "\n",
    "uniprot_ids = set()\n",
    "for dataset in DATASETS:\n",
    "    print(dataset, end=': ')\n",
    "    uniprot_ids |= set(pd.read_sql_query(sql_query_template.format(dataset), db.engine)['uniprot_id'])\n",
    "    print(len(uniprot_ids))\n",
    "uniprot_ids = sorted(uniprot_ids)"
   ]
  },
  {
   "cell_type": "markdown",
   "metadata": {
    "run_control": {
     "marked": false
    }
   },
   "source": [
    "# Create database"
   ]
  },
  {
   "cell_type": "code",
   "execution_count": 15,
   "metadata": {
    "collapsed": false,
    "run_control": {
     "marked": false
    }
   },
   "outputs": [
    {
     "name": "stdout",
     "output_type": "stream",
     "text": [
      "mysql://root@localhost:8309/elaspic_training_interface?unix_socket=/tmp/strokach/elaspic_training_set/mysql.sock\n"
     ]
    }
   ],
   "source": [
    "CONNECTION_STRING = (\n",
    "    kmtools.db_tools.make_connection_string(**{\n",
    "        **kmtools.db_tools.parse_connection_string(db.connection_string),\n",
    "        'db_schema': NOTEBOOK_NAME\n",
    "    }))\n",
    "print(CONNECTION_STRING)"
   ]
  },
  {
   "cell_type": "raw",
   "metadata": {
    "run_control": {
     "marked": false
    }
   },
   "source": [
    "Dangerous code below will completely wipe the database!!!"
   ]
  },
  {
   "cell_type": "raw",
   "metadata": {
    "collapsed": false,
    "run_control": {
     "marked": false
    }
   },
   "source": [
    "!elaspic database --connection_string=\"$CONNECTION_STRING\" create --drop_schema"
   ]
  },
  {
   "cell_type": "raw",
   "metadata": {
    "collapsed": false,
    "run_control": {
     "marked": false
    },
    "scrolled": false
   },
   "source": [
    "for chunk in pd.read_sql_table('domain', db_remote.engine, schema='elaspic', chunksize=1000):\n",
    "    chunk.to_sql(\n",
    "        'domain', db.engine, schema='elaspic_training_interface', if_exists='append', index=False)"
   ]
  },
  {
   "cell_type": "raw",
   "metadata": {
    "collapsed": true,
    "run_control": {
     "marked": false
    }
   },
   "source": [
    "for chunk in pd.read_sql_table('domain_contact', db_remote.engine, schema='elaspic', chunksize=1000):\n",
    "    chunk.to_sql(\n",
    "        'domain_contact', db.engine, schema='elaspic_training_interface', if_exists='append', index=False)"
   ]
  },
  {
   "cell_type": "raw",
   "metadata": {
    "collapsed": false,
    "run_control": {
     "marked": false
    },
    "scrolled": true
   },
   "source": [
    "sql_command = \"\"\"\\\n",
    "ALTER TABLE {schema_name}.uniprot_domain\n",
    "MODIFY COLUMN uniprot_domain_id INT NOT NULL AUTO_INCREMENT,\n",
    "# ADD COLUMN max_seq_identity int,  -- ELASPIC does this already\n",
    "ADD COLUMN uniprot_domain_id_old int,\n",
    "ADD INDEX Z (uniprot_domain_id_old);\n",
    "\"\"\".format(schema_name=NOTEBOOK_NAME)\n",
    "\n",
    "db.engine.execute(sql_command)"
   ]
  },
  {
   "cell_type": "raw",
   "metadata": {
    "collapsed": false,
    "run_control": {
     "marked": false
    }
   },
   "source": [
    "sql_command = \"\"\"\\\n",
    "ALTER TABLE {schema_name}.uniprot_domain_pair\n",
    "MODIFY COLUMN uniprot_domain_pair_id INT NOT NULL AUTO_INCREMENT,\n",
    "# ADD COLUMN max_seq_identity INT,  -- ELASPIC does this already\n",
    "ADD COLUMN uniprot_domain_pair_id_old INT,\n",
    "ADD INDEX Z (uniprot_domain_pair_id_old);\n",
    "\"\"\".format(schema_name=NOTEBOOK_NAME)\n",
    "\n",
    "db.engine.execute(sql_command)"
   ]
  },
  {
   "cell_type": "markdown",
   "metadata": {
    "run_control": {
     "marked": false
    }
   },
   "source": [
    "# UniProt domains"
   ]
  },
  {
   "cell_type": "code",
   "execution_count": 16,
   "metadata": {
    "code_folding": [],
    "collapsed": false,
    "run_control": {
     "marked": false
    }
   },
   "outputs": [],
   "source": [
    "# Obtain ELASPIC protein domains\n",
    "sql_query = \"\"\"\\\n",
    "SELECT * \n",
    "FROM elaspic.uniprot_domain\n",
    "JOIN elaspic.uniprot_domain_template USING (uniprot_domain_id)\n",
    "LEFT JOIN elaspic.uniprot_domain_model USING (uniprot_domain_id)\n",
    "WHERE uniprot_id in ('{}')\n",
    "\"\"\".format(\"', '\".join(uniprot_ids))\n",
    "\n",
    "uniprot_domain_extened = pd.read_sql_query(sql_query, db_remote.engine)"
   ]
  },
  {
   "cell_type": "code",
   "execution_count": 17,
   "metadata": {
    "collapsed": true,
    "run_control": {
     "marked": false
    }
   },
   "outputs": [],
   "source": [
    "uniprot_domain_extened['max_seq_identity'] = 100.0"
   ]
  },
  {
   "cell_type": "markdown",
   "metadata": {
    "run_control": {
     "marked": false
    }
   },
   "source": [
    "## Set path_to_data"
   ]
  },
  {
   "cell_type": "code",
   "execution_count": 18,
   "metadata": {
    "collapsed": true,
    "run_control": {
     "marked": false
    }
   },
   "outputs": [],
   "source": [
    "uniprot_domain_extened['path_to_data_old'] = uniprot_domain_extened['path_to_data']"
   ]
  },
  {
   "cell_type": "code",
   "execution_count": 19,
   "metadata": {
    "collapsed": true,
    "run_control": {
     "marked": false
    }
   },
   "outputs": [],
   "source": [
    "ARCHIVE_DIR_OLD = '/home/kimlab1/database_data/elaspic_v2'\n",
    "ARCHIVE_DIR = op.abspath(op.join(NOTEBOOK_NAME, 'elaspic'))\n",
    "os.makedirs(ARCHIVE_DIR, exist_ok=True)"
   ]
  },
  {
   "cell_type": "code",
   "execution_count": 20,
   "metadata": {
    "collapsed": false,
    "run_control": {
     "marked": false
    }
   },
   "outputs": [],
   "source": [
    "def make_path_to_data(path_to_data_old):\n",
    "    prefix = 'training'\n",
    "    if pd.isnull(path_to_data_old):\n",
    "        return np.nan\n",
    "    path_to_data_old_full = op.abspath(op.join(ARCHIVE_DIR_OLD, path_to_data_old))\n",
    "    if not op.isdir(path_to_data_old_full) and not path_to_data_old.startswith(prefix):\n",
    "        print(\"Path to data is missing: '{}'\".format(path_to_data_old))\n",
    "        return np.nan\n",
    "    path_to_data_new = prefix + path_to_data_old[path_to_data_old.find('/'):].replace('*', '.')\n",
    "    return path_to_data_new\n",
    "\n",
    "\n",
    "assert make_path_to_data('human/B2R/86/B2R862/RING*16-62/') == 'training/B2R/86/B2R862/RING.16-62/'"
   ]
  },
  {
   "cell_type": "code",
   "execution_count": 21,
   "metadata": {
    "collapsed": false,
    "run_control": {
     "marked": false
    }
   },
   "outputs": [
    {
     "name": "stdout",
     "output_type": "stream",
     "text": [
      "Path to data is missing: 'hv1n5/P12/49/P12497/Integrase_Zn.1155-1194/'\n",
      "Path to data is missing: 'hv1n5/P12/49/P12497/zf-CCHC.391-406/'\n",
      "Path to data is missing: 'hv1n5/P12/49/P12497/zf-CCHC.412-428/'\n",
      "Path to data is missing: 'hv1n5/P12/49/P12497/RVP.493-586/'\n",
      "Path to data is missing: 'hv1n5/P12/49/P12497/RVT_1.650-821/'\n",
      "Path to data is missing: 'hv1n5/P12/49/P12497/RVT_thumb.825-894/'\n",
      "Path to data is missing: 'hv1n5/P12/49/P12497/RVT_connect.904-1006/'\n",
      "Path to data is missing: 'hv1n5/P12/49/P12497/RNase_H.1024-1143/'\n",
      "Path to data is missing: 'hv1n5/P12/49/P12497/rve.1203-1308/'\n",
      "Path to data is missing: 'hv1n5/P12/49/P12497/IN_DBD_C.1368-1417/'\n"
     ]
    }
   ],
   "source": [
    "uniprot_domain_extened['path_to_data'] = uniprot_domain_extened['path_to_data'].apply(make_path_to_data)"
   ]
  },
  {
   "cell_type": "code",
   "execution_count": 22,
   "metadata": {
    "collapsed": false,
    "run_control": {
     "marked": false
    }
   },
   "outputs": [
    {
     "data": {
      "text/html": [
       "<div>\n",
       "<table border=\"1\" class=\"dataframe\">\n",
       "  <thead>\n",
       "    <tr style=\"text-align: right;\">\n",
       "      <th></th>\n",
       "      <th>path_to_data_old</th>\n",
       "      <th>path_to_data</th>\n",
       "    </tr>\n",
       "  </thead>\n",
       "  <tbody>\n",
       "    <tr>\n",
       "      <th>0</th>\n",
       "      <td>human/B2R/86/B2R862/RING*16-62/</td>\n",
       "      <td>training/B2R/86/B2R862/RING.16-62/</td>\n",
       "    </tr>\n",
       "    <tr>\n",
       "      <th>1</th>\n",
       "      <td>human/B3K/NS/B3KNS9/KRAB*22-62/</td>\n",
       "      <td>training/B3K/NS/B3KNS9/KRAB.22-62/</td>\n",
       "    </tr>\n",
       "    <tr>\n",
       "      <th>2</th>\n",
       "      <td>human/B3K/VA/B3KVA4/HLH*565-618/</td>\n",
       "      <td>training/B3K/VA/B3KVA4/HLH.565-618/</td>\n",
       "    </tr>\n",
       "    <tr>\n",
       "      <th>3</th>\n",
       "      <td>human/B3K/WQ/B3KWQ3/Actin_ATPase*1-253/</td>\n",
       "      <td>training/B3K/WQ/B3KWQ3/Actin_ATPase.1-253/</td>\n",
       "    </tr>\n",
       "    <tr>\n",
       "      <th>4</th>\n",
       "      <td>human/B7Z/C3/B7ZC38/SH3*347-397/</td>\n",
       "      <td>training/B7Z/C3/B7ZC38/SH3.347-397/</td>\n",
       "    </tr>\n",
       "  </tbody>\n",
       "</table>\n",
       "</div>"
      ],
      "text/plain": [
       "                          path_to_data_old                                path_to_data\n",
       "0          human/B2R/86/B2R862/RING*16-62/          training/B2R/86/B2R862/RING.16-62/\n",
       "1          human/B3K/NS/B3KNS9/KRAB*22-62/          training/B3K/NS/B3KNS9/KRAB.22-62/\n",
       "2         human/B3K/VA/B3KVA4/HLH*565-618/         training/B3K/VA/B3KVA4/HLH.565-618/\n",
       "3  human/B3K/WQ/B3KWQ3/Actin_ATPase*1-253/  training/B3K/WQ/B3KWQ3/Actin_ATPase.1-253/\n",
       "4         human/B7Z/C3/B7ZC38/SH3*347-397/         training/B7Z/C3/B7ZC38/SH3.347-397/"
      ]
     },
     "execution_count": 22,
     "metadata": {},
     "output_type": "execute_result"
    }
   ],
   "source": [
    "uniprot_domain_extened[['path_to_data_old', 'path_to_data']].head()"
   ]
  },
  {
   "cell_type": "code",
   "execution_count": 23,
   "metadata": {
    "collapsed": false,
    "run_control": {
     "marked": false
    }
   },
   "outputs": [
    {
     "data": {
      "text/plain": [
       "1163"
      ]
     },
     "execution_count": 23,
     "metadata": {},
     "output_type": "execute_result"
    }
   ],
   "source": [
    "uniprot_domain_extened['path_to_data'].notnull().sum()"
   ]
  },
  {
   "cell_type": "markdown",
   "metadata": {
    "run_control": {
     "marked": false
    }
   },
   "source": [
    "## Copy precalculated files"
   ]
  },
  {
   "cell_type": "code",
   "execution_count": 24,
   "metadata": {
    "collapsed": false,
    "run_control": {
     "marked": false
    }
   },
   "outputs": [],
   "source": [
    "path_to_data_stubs = sorted({\n",
    "    (op.dirname(op.dirname(x[0])), op.dirname(op.dirname(x[1])))\n",
    "    for x in (\n",
    "        uniprot_domain_extened[['path_to_data_old', 'path_to_data']]\n",
    "        .dropna()\n",
    "        .drop_duplicates()\n",
    "        .values\n",
    "        .tolist()\n",
    "    )\n",
    "})"
   ]
  },
  {
   "cell_type": "code",
   "execution_count": 25,
   "metadata": {
    "collapsed": false,
    "run_control": {
     "marked": false
    }
   },
   "outputs": [
    {
     "data": {
      "text/plain": [
       "('bacam/P00/64/P00648', 'training/P00/64/P00648')"
      ]
     },
     "execution_count": 25,
     "metadata": {},
     "output_type": "execute_result"
    }
   ],
   "source": [
    "path_to_data_stubs[0]"
   ]
  },
  {
   "cell_type": "code",
   "execution_count": 26,
   "metadata": {
    "collapsed": false,
    "run_control": {
     "marked": false
    }
   },
   "outputs": [],
   "source": [
    "MY_RE = re.compile('.*_[GVALICMFWPDESTYQNKRH]+[1-9]+[0-9]*[GVALICMFWPDESTYQNKRH]+_.*')\n",
    "\n",
    "\n",
    "def _get_files(path):\n",
    "    files = [\n",
    "        f for f in os.listdir(path) \n",
    "        if op.isfile(op.join(path, f)) and not MY_RE.findall(f)\n",
    "    ]\n",
    "    return files\n",
    "\n",
    "\n",
    "def _get_folders(path, uniprot_id):\n",
    "    folders = [\n",
    "        d for d in os.listdir(path)\n",
    "        if op.isdir(op.join(path, d)) and not d.startswith(uniprot_id) and not d.endswith('.training')\n",
    "    ]\n",
    "    return folders\n",
    "\n",
    "\n",
    "def copy_path_to_data_stub(path_to_data_old, path_to_data_new):\n",
    "    uniprot_id = op.basename(path_to_data_old)\n",
    "    ptd_old = op.abspath(op.join(ARCHIVE_DIR_OLD, path_to_data_old))\n",
    "    ptd_new = op.abspath(op.join(ARCHIVE_DIR, path_to_data_new))\n",
    "    # print(uniprot_id)\n",
    "    # print(ptd_old)\n",
    "    # print(ptd_new)\n",
    "\n",
    "    os.makedirs(ptd_new, exist_ok=True)\n",
    "    for file in _get_files(ptd_old):\n",
    "        # print(op.relpath(op.join(ptd_new, file), ptd_new))\n",
    "        shutil.copy2(op.join(ptd_old, file), \n",
    "                     op.join(ptd_new, file.replace('*', '.')))\n",
    "\n",
    "    for folder in _get_folders(ptd_old, uniprot_id):\n",
    "        ptd_old_folder = op.join(ptd_old, folder)\n",
    "        ptd_new_folder = op.join(ptd_new, folder)\n",
    "        os.makedirs(ptd_new_folder.replace('*', '.'), exist_ok=True)\n",
    "        for file in _get_files(ptd_old_folder):\n",
    "            # print(op.relpath(op.join(ptd_new_folder, file), ptd_new))\n",
    "            shutil.copy2(op.join(ptd_old_folder, file), \n",
    "                         op.join(ptd_new_folder.replace('*', '.'), file.replace('*', '.')))\n",
    "\n",
    "copy_path_to_data_stub('bacam/P00/64/P00648', 'training/P00/64/P00648')"
   ]
  },
  {
   "cell_type": "raw",
   "metadata": {
    "collapsed": true,
    "run_control": {
     "marked": false
    }
   },
   "source": [
    "# Copy files to the notebook elaspic folder\n",
    "# This takes too long and has to be optimized...\n",
    "for path_to_data_stub_old, path_to_data_stub_new in path_to_data_stubs:\n",
    "    print(path_to_data_stub_old, '\\t', path_to_data_stub_new)\n",
    "    copy_path_to_data_stub(path_to_data_stub_old, path_to_data_stub_new)"
   ]
  },
  {
   "cell_type": "markdown",
   "metadata": {
    "run_control": {
     "marked": false
    }
   },
   "source": [
    "# UniProt proteins"
   ]
  },
  {
   "cell_type": "code",
   "execution_count": 27,
   "metadata": {
    "collapsed": true,
    "run_control": {
     "marked": false
    }
   },
   "outputs": [],
   "source": [
    "# Obtain ELASPIC protein domains\n",
    "sql_query = \"\"\"\\\n",
    "SELECT * \n",
    "FROM elaspic.uniprot_sequence\n",
    "LEFT JOIN elaspic.provean USING (uniprot_id)\n",
    "WHERE uniprot_id in ('{}')\n",
    "\"\"\".format(\"', '\".join(uniprot_ids))\n",
    "\n",
    "uniprot_extened = pd.read_sql_query(sql_query, db_remote.engine)"
   ]
  },
  {
   "cell_type": "code",
   "execution_count": 28,
   "metadata": {
    "collapsed": true,
    "run_control": {
     "marked": false
    }
   },
   "outputs": [],
   "source": [
    "uniprot_extened['uniprot_name'] = uniprot_extened['uniprot_id'] + '_training'"
   ]
  },
  {
   "cell_type": "markdown",
   "metadata": {
    "run_control": {
     "marked": false
    }
   },
   "source": [
    "## Save to database"
   ]
  },
  {
   "cell_type": "raw",
   "metadata": {
    "collapsed": true,
    "run_control": {
     "marked": false
    }
   },
   "source": [
    "uniprot_sequence = (\n",
    "    uniprot_extened\n",
    "    [[c.name for c in elaspic.elaspic_database_tables.UniprotSequence.__table__.columns]]\n",
    ")\n",
    "\n",
    "uniprot_sequence.to_sql(\n",
    "    'uniprot_sequence', db.engine, schema=NOTEBOOK_NAME, if_exists='append', index=False)"
   ]
  },
  {
   "cell_type": "raw",
   "metadata": {
    "collapsed": true,
    "run_control": {
     "marked": false
    }
   },
   "source": [
    "provean = (\n",
    "    uniprot_extened\n",
    "    [[c.name for c in elaspic.elaspic_database_tables.Provean.__table__.columns]]\n",
    "    .dropna(subset=['provean_supset_filename'])\n",
    ")\n",
    "\n",
    "provean.to_sql(\n",
    "    'provean', db.engine, schema=NOTEBOOK_NAME, if_exists='append', index=False)"
   ]
  },
  {
   "cell_type": "raw",
   "metadata": {
    "collapsed": false,
    "run_control": {
     "marked": false
    }
   },
   "source": [
    "uniprot_domain = (\n",
    "    uniprot_domain_extened\n",
    "    [[c.name for c in elaspic.elaspic_database_tables.UniprotDomain.__table__.columns]]\n",
    ")\n",
    "\n",
    "uniprot_domain.to_sql(\n",
    "    'uniprot_domain', db.engine, schema=NOTEBOOK_NAME, if_exists='append', index=False)"
   ]
  },
  {
   "cell_type": "raw",
   "metadata": {
    "collapsed": true,
    "run_control": {
     "marked": false
    }
   },
   "source": [
    "uniprot_domain_template = (\n",
    "    uniprot_domain_extened\n",
    "    [[c.name for c in elaspic.elaspic_database_tables.UniprotDomainTemplate.__table__.columns]]\n",
    ")\n",
    "\n",
    "uniprot_domain_template.to_sql(\n",
    "    'uniprot_domain_template', db.engine, schema=NOTEBOOK_NAME, if_exists='append', index=False)"
   ]
  },
  {
   "cell_type": "raw",
   "metadata": {
    "collapsed": true,
    "run_control": {
     "marked": false
    }
   },
   "source": [
    "uniprot_domain_model = (\n",
    "    uniprot_domain_extened\n",
    "    [[c.name for c in elaspic.elaspic_database_tables.UniprotDomainModel.__table__.columns]]\n",
    "    .dropna(subset=['model_filename'])\n",
    ")\n",
    "\n",
    "uniprot_domain_model.to_sql(\n",
    "    'uniprot_domain_model', db.engine, schema=NOTEBOOK_NAME, if_exists='append', index=False)"
   ]
  },
  {
   "cell_type": "markdown",
   "metadata": {
    "run_control": {
     "marked": false
    }
   },
   "source": [
    "# UniProt domain pairs"
   ]
  },
  {
   "cell_type": "markdown",
   "metadata": {
    "run_control": {
     "marked": false
    }
   },
   "source": [
    "## Domain templates\n",
    "\n",
    "`uniprot_domain_sequence` -> `structural_templates`"
   ]
  },
  {
   "cell_type": "code",
   "execution_count": 29,
   "metadata": {
    "collapsed": false,
    "run_control": {
     "marked": false
    }
   },
   "outputs": [],
   "source": [
    "sql_query = \"\"\"\\\n",
    "SELECT *\n",
    "FROM elaspic_training_interface.uniprot_domain\n",
    "JOIN elaspic_training_interface.uniprot_domain_template USING (uniprot_domain_id)\n",
    "JOIN elaspic_training_interface.uniprot_sequence USING (uniprot_id)\n",
    "\"\"\"\n",
    "uniprot_domain_sequence = pd.read_sql_query(sql_query, db.engine)"
   ]
  },
  {
   "cell_type": "code",
   "execution_count": 30,
   "metadata": {
    "collapsed": false,
    "run_control": {
     "marked": false
    }
   },
   "outputs": [],
   "source": [
    "import elaspic_utils\n",
    "\n",
    "uniprot_domain_sequence['uniprot_domain_sequence'] = (\n",
    "    uniprot_domain_sequence[['uniprot_sequence', 'domain_def']]\n",
    "    .apply(lambda x: elaspic_utils.build_database.get_domain_sequence(*x), axis=1)\n",
    ")"
   ]
  },
  {
   "cell_type": "code",
   "execution_count": 31,
   "metadata": {
    "collapsed": false,
    "run_control": {
     "marked": false
    }
   },
   "outputs": [
    {
     "data": {
      "text/html": [
       "<div>\n",
       "<table border=\"1\" class=\"dataframe\">\n",
       "  <thead>\n",
       "    <tr style=\"text-align: right;\">\n",
       "      <th></th>\n",
       "      <th>uniprot_id</th>\n",
       "      <th>uniprot_domain_id</th>\n",
       "      <th>pdbfam_name</th>\n",
       "      <th>pdbfam_idx</th>\n",
       "      <th>pfam_clan</th>\n",
       "      <th>alignment_def</th>\n",
       "      <th>pfam_names</th>\n",
       "      <th>alignment_subdefs</th>\n",
       "      <th>path_to_data</th>\n",
       "      <th>max_seq_identity</th>\n",
       "      <th>uniprot_domain_id_old</th>\n",
       "      <th>template_errors</th>\n",
       "      <th>cath_id</th>\n",
       "      <th>domain_start</th>\n",
       "      <th>domain_end</th>\n",
       "      <th>domain_def</th>\n",
       "      <th>alignment_identity</th>\n",
       "      <th>alignment_coverage</th>\n",
       "      <th>alignment_score</th>\n",
       "      <th>t_date_modified</th>\n",
       "      <th>db</th>\n",
       "      <th>uniprot_name</th>\n",
       "      <th>protein_name</th>\n",
       "      <th>organism_name</th>\n",
       "      <th>gene_name</th>\n",
       "      <th>protein_existence</th>\n",
       "      <th>sequence_version</th>\n",
       "      <th>uniprot_sequence</th>\n",
       "      <th>uniprot_domain_sequence</th>\n",
       "    </tr>\n",
       "  </thead>\n",
       "  <tbody>\n",
       "    <tr>\n",
       "      <th>0</th>\n",
       "      <td>A0NA69</td>\n",
       "      <td>51959162</td>\n",
       "      <td>V-set</td>\n",
       "      <td>1</td>\n",
       "      <td>V-set</td>\n",
       "      <td>22:117</td>\n",
       "      <td>V-set|1</td>\n",
       "      <td>22:117</td>\n",
       "      <td>None</td>\n",
       "      <td>100</td>\n",
       "      <td>None</td>\n",
       "      <td>None</td>\n",
       "      <td>1aj7H00</td>\n",
       "      <td>20</td>\n",
       "      <td>122</td>\n",
       "      <td>20:122</td>\n",
       "      <td>97.96</td>\n",
       "      <td>100.0</td>\n",
       "      <td>0.980620</td>\n",
       "      <td>2015-09-01 05:12:36</td>\n",
       "      <td>tr</td>\n",
       "      <td>A0NA69_training</td>\n",
       "      <td>VDJ complex (Fragment)</td>\n",
       "      <td>Mus musculus</td>\n",
       "      <td>None</td>\n",
       "      <td>1</td>\n",
       "      <td>1</td>\n",
       "      <td>MKCSWVIFFLMAVVTGVNSEVQLQQSGAELVKPGASVKLSCTASGF...</td>\n",
       "      <td>EVQLQQSGAELVKPGASVKLSCTASGFNIKDTYMHWVKQRPEQGLE...</td>\n",
       "    </tr>\n",
       "    <tr>\n",
       "      <th>1</th>\n",
       "      <td>A0PJJ9</td>\n",
       "      <td>32391418</td>\n",
       "      <td>G_glu_transpept</td>\n",
       "      <td>1</td>\n",
       "      <td>G_glu_transpept</td>\n",
       "      <td>155:590</td>\n",
       "      <td>G_glu_transpept|1</td>\n",
       "      <td>155:590</td>\n",
       "      <td>training/A0P/JJ/A0PJJ9/G_glu_transpept.155-590/</td>\n",
       "      <td>100</td>\n",
       "      <td>None</td>\n",
       "      <td>None</td>\n",
       "      <td>2e0wA00</td>\n",
       "      <td>134</td>\n",
       "      <td>592</td>\n",
       "      <td>134:592</td>\n",
       "      <td>32.99</td>\n",
       "      <td>100.0</td>\n",
       "      <td>0.363405</td>\n",
       "      <td>2015-09-01 05:12:36</td>\n",
       "      <td>tr</td>\n",
       "      <td>A0PJJ9_training</td>\n",
       "      <td>GGT7 protein (Fragment)</td>\n",
       "      <td>Homo sapiens</td>\n",
       "      <td>GGT7</td>\n",
       "      <td>2</td>\n",
       "      <td>1</td>\n",
       "      <td>MAAENEASQESALGAYSPVDYMSITSFPRLPEDEPAPAAPLRGRKD...</td>\n",
       "      <td>PQIFQQGAVVTDAARCTSLGIEVLSKQGSSVDAAVAAALCLGIVAP...</td>\n",
       "    </tr>\n",
       "  </tbody>\n",
       "</table>\n",
       "</div>"
      ],
      "text/plain": [
       "  uniprot_id  uniprot_domain_id      pdbfam_name  pdbfam_idx        pfam_clan alignment_def         pfam_names alignment_subdefs                                     path_to_data  max_seq_identity uniprot_domain_id_old template_errors  cath_id  domain_start  domain_end domain_def  alignment_identity  alignment_coverage  alignment_score     t_date_modified  db     uniprot_name             protein_name organism_name gene_name  protein_existence  sequence_version                                   uniprot_sequence                            uniprot_domain_sequence\n",
       "0     A0NA69           51959162            V-set           1            V-set        22:117            V-set|1            22:117                                             None               100                  None            None  1aj7H00            20         122     20:122               97.96               100.0         0.980620 2015-09-01 05:12:36  tr  A0NA69_training   VDJ complex (Fragment)  Mus musculus      None                  1                 1  MKCSWVIFFLMAVVTGVNSEVQLQQSGAELVKPGASVKLSCTASGF...  EVQLQQSGAELVKPGASVKLSCTASGFNIKDTYMHWVKQRPEQGLE...\n",
       "1     A0PJJ9           32391418  G_glu_transpept           1  G_glu_transpept       155:590  G_glu_transpept|1           155:590  training/A0P/JJ/A0PJJ9/G_glu_transpept.155-590/               100                  None            None  2e0wA00           134         592    134:592               32.99               100.0         0.363405 2015-09-01 05:12:36  tr  A0PJJ9_training  GGT7 protein (Fragment)  Homo sapiens      GGT7                  2                 1  MAAENEASQESALGAYSPVDYMSITSFPRLPEDEPAPAAPLRGRKD...  PQIFQQGAVVTDAARCTSLGIEVLSKQGSSVDAAVAAALCLGIVAP..."
      ]
     },
     "metadata": {},
     "output_type": "display_data"
    },
    {
     "name": "stdout",
     "output_type": "stream",
     "text": [
      "1260\n"
     ]
    }
   ],
   "source": [
    "display(uniprot_domain_sequence.head(2))\n",
    "print(uniprot_domain_sequence.shape[0])"
   ]
  },
  {
   "cell_type": "markdown",
   "metadata": {
    "run_control": {
     "marked": false
    }
   },
   "source": [
    "### BLAST for PDB templates"
   ]
  },
  {
   "cell_type": "code",
   "execution_count": 32,
   "metadata": {
    "collapsed": false,
    "run_control": {
     "marked": false
    },
    "scrolled": true
   },
   "outputs": [
    {
     "name": "stderr",
     "output_type": "stream",
     "text": [
      "2016-08-09 15:02:47,160 - kmtools.sequence_tools._blast - DEBUG - blastp -db /home/kimlab1/database_data/biodb/recipes/profs/output/libraries_all_together_db/libraries_all -outfmt '6 qacc sacc pident length mismatch gapopen qstart qend sstart send evalue bitscore qseq sseq' -evalue 0.001 -max_target_seqs 100000\n"
     ]
    },
    {
     "name": "stdout",
     "output_type": "stream",
     "text": [
      "/home/kimlab1/database_data/biodb/recipes/profs/output/libraries_all_together_db/libraries_all\n"
     ]
    },
    {
     "data": {
      "text/html": [
       "<div>\n",
       "<table border=\"1\" class=\"dataframe\">\n",
       "  <thead>\n",
       "    <tr style=\"text-align: right;\">\n",
       "      <th></th>\n",
       "      <th>query_id</th>\n",
       "      <th>subject_id</th>\n",
       "      <th>pc_identity</th>\n",
       "      <th>alignment_length</th>\n",
       "      <th>mismatches</th>\n",
       "      <th>gap_opens</th>\n",
       "      <th>q_start</th>\n",
       "      <th>q_end</th>\n",
       "      <th>s_start</th>\n",
       "      <th>s_end</th>\n",
       "      <th>evalue</th>\n",
       "      <th>bitscore</th>\n",
       "      <th>qseq</th>\n",
       "      <th>sseq</th>\n",
       "      <th>a2b</th>\n",
       "      <th>b2a</th>\n",
       "      <th>pdb_id</th>\n",
       "      <th>pdb_chain</th>\n",
       "      <th>pdb_pdbfam_name</th>\n",
       "      <th>pdb_pdbfam_idx</th>\n",
       "      <th>pdb_pfam_clan</th>\n",
       "      <th>pdb_domain_def</th>\n",
       "      <th>pdb_cath_id</th>\n",
       "      <th>alignment_identity</th>\n",
       "      <th>alignment_coverage</th>\n",
       "      <th>alignment_score</th>\n",
       "      <th>domain_start_new</th>\n",
       "      <th>domain_end_new</th>\n",
       "      <th>domain_def_new</th>\n",
       "      <th>t_date_modified</th>\n",
       "      <th>uniprot_id</th>\n",
       "      <th>uniprot_domain_id</th>\n",
       "      <th>uniprot_sequence</th>\n",
       "      <th>uniprot_domain_sequence</th>\n",
       "    </tr>\n",
       "  </thead>\n",
       "  <tbody>\n",
       "    <tr>\n",
       "      <th>0</th>\n",
       "      <td>unnamed</td>\n",
       "      <td>2rcs_H|V-set|1|Ig|1:113|2rcsH00</td>\n",
       "      <td>97.96</td>\n",
       "      <td>98</td>\n",
       "      <td>2</td>\n",
       "      <td>0</td>\n",
       "      <td>1</td>\n",
       "      <td>98</td>\n",
       "      <td>1</td>\n",
       "      <td>98</td>\n",
       "      <td>1.000000e-67</td>\n",
       "      <td>202.0</td>\n",
       "      <td>EVQLQQSGAELVKPGASVKLSCTASGFNIKDTYMHWVKQRPEQGLE...</td>\n",
       "      <td>QVQLQQSGAELVKPGASVKLSCTASGFNIKDTYMHWVKQRPEQGLE...</td>\n",
       "      <td>1,2,3,4,5,6,7,8,9,10,11,12,13,14,15,16,17,18,1...</td>\n",
       "      <td>1,2,3,4,5,6,7,8,9,10,11,12,13,14,15,16,17,18,1...</td>\n",
       "      <td>2rcs</td>\n",
       "      <td>H</td>\n",
       "      <td>V-set</td>\n",
       "      <td>1</td>\n",
       "      <td>Ig</td>\n",
       "      <td>1:113</td>\n",
       "      <td>2rcsH00</td>\n",
       "      <td>97.96</td>\n",
       "      <td>95.145631</td>\n",
       "      <td>0.933017</td>\n",
       "      <td>20</td>\n",
       "      <td>117</td>\n",
       "      <td>20:117</td>\n",
       "      <td>2016-08-09 15:02:53.252323</td>\n",
       "      <td>A0NA69</td>\n",
       "      <td>51959162</td>\n",
       "      <td>MKCSWVIFFLMAVVTGVNSEVQLQQSGAELVKPGASVKLSCTASGF...</td>\n",
       "      <td>EVQLQQSGAELVKPGASVKLSCTASGFNIKDTYMHWVKQRPEQGLE...</td>\n",
       "    </tr>\n",
       "    <tr>\n",
       "      <th>1</th>\n",
       "      <td>unnamed</td>\n",
       "      <td>2rcs_H|V-set+C1-set|1|Ig|1:213|2rcsH02</td>\n",
       "      <td>97.96</td>\n",
       "      <td>98</td>\n",
       "      <td>2</td>\n",
       "      <td>0</td>\n",
       "      <td>1</td>\n",
       "      <td>98</td>\n",
       "      <td>1</td>\n",
       "      <td>98</td>\n",
       "      <td>1.000000e-66</td>\n",
       "      <td>204.0</td>\n",
       "      <td>EVQLQQSGAELVKPGASVKLSCTASGFNIKDTYMHWVKQRPEQGLE...</td>\n",
       "      <td>QVQLQQSGAELVKPGASVKLSCTASGFNIKDTYMHWVKQRPEQGLE...</td>\n",
       "      <td>1,2,3,4,5,6,7,8,9,10,11,12,13,14,15,16,17,18,1...</td>\n",
       "      <td>1,2,3,4,5,6,7,8,9,10,11,12,13,14,15,16,17,18,1...</td>\n",
       "      <td>2rcs</td>\n",
       "      <td>H</td>\n",
       "      <td>V-set+C1-set</td>\n",
       "      <td>1</td>\n",
       "      <td>Ig</td>\n",
       "      <td>1:213</td>\n",
       "      <td>2rcsH02</td>\n",
       "      <td>97.96</td>\n",
       "      <td>95.145631</td>\n",
       "      <td>0.933017</td>\n",
       "      <td>20</td>\n",
       "      <td>117</td>\n",
       "      <td>20:117</td>\n",
       "      <td>2016-08-09 15:02:53.252323</td>\n",
       "      <td>A0NA69</td>\n",
       "      <td>51959162</td>\n",
       "      <td>MKCSWVIFFLMAVVTGVNSEVQLQQSGAELVKPGASVKLSCTASGF...</td>\n",
       "      <td>EVQLQQSGAELVKPGASVKLSCTASGFNIKDTYMHWVKQRPEQGLE...</td>\n",
       "    </tr>\n",
       "  </tbody>\n",
       "</table>\n",
       "</div>"
      ],
      "text/plain": [
       "  query_id                              subject_id  pc_identity  alignment_length  mismatches  gap_opens  q_start  q_end  s_start  s_end        evalue  bitscore                                               qseq                                               sseq                                                a2b                                                b2a pdb_id pdb_chain pdb_pdbfam_name  pdb_pdbfam_idx pdb_pfam_clan pdb_domain_def pdb_cath_id  alignment_identity  alignment_coverage  alignment_score  domain_start_new  domain_end_new domain_def_new            t_date_modified uniprot_id  uniprot_domain_id                                   uniprot_sequence                            uniprot_domain_sequence\n",
       "0  unnamed         2rcs_H|V-set|1|Ig|1:113|2rcsH00        97.96                98           2          0        1     98        1     98  1.000000e-67     202.0  EVQLQQSGAELVKPGASVKLSCTASGFNIKDTYMHWVKQRPEQGLE...  QVQLQQSGAELVKPGASVKLSCTASGFNIKDTYMHWVKQRPEQGLE...  1,2,3,4,5,6,7,8,9,10,11,12,13,14,15,16,17,18,1...  1,2,3,4,5,6,7,8,9,10,11,12,13,14,15,16,17,18,1...   2rcs         H           V-set               1            Ig          1:113     2rcsH00               97.96           95.145631         0.933017                20             117         20:117 2016-08-09 15:02:53.252323     A0NA69           51959162  MKCSWVIFFLMAVVTGVNSEVQLQQSGAELVKPGASVKLSCTASGF...  EVQLQQSGAELVKPGASVKLSCTASGFNIKDTYMHWVKQRPEQGLE...\n",
       "1  unnamed  2rcs_H|V-set+C1-set|1|Ig|1:213|2rcsH02        97.96                98           2          0        1     98        1     98  1.000000e-66     204.0  EVQLQQSGAELVKPGASVKLSCTASGFNIKDTYMHWVKQRPEQGLE...  QVQLQQSGAELVKPGASVKLSCTASGFNIKDTYMHWVKQRPEQGLE...  1,2,3,4,5,6,7,8,9,10,11,12,13,14,15,16,17,18,1...  1,2,3,4,5,6,7,8,9,10,11,12,13,14,15,16,17,18,1...   2rcs         H    V-set+C1-set               1            Ig          1:213     2rcsH02               97.96           95.145631         0.933017                20             117         20:117 2016-08-09 15:02:53.252323     A0NA69           51959162  MKCSWVIFFLMAVVTGVNSEVQLQQSGAELVKPGASVKLSCTASGF...  EVQLQQSGAELVKPGASVKLSCTASGFNIKDTYMHWVKQRPEQGLE..."
      ]
     },
     "metadata": {},
     "output_type": "display_data"
    }
   ],
   "source": [
    "# Run BLAST to find templates for all domains (mutant and partner)\n",
    "import concurrent.futures\n",
    "\n",
    "SHARED_COLUMNS = ['uniprot_id', 'uniprot_domain_id', 'uniprot_sequence', 'uniprot_domain_sequence']\n",
    "DATAPKG_DIR = op.dirname(op.dirname(op.dirname(op.abspath(NOTEBOOK_NAME))))\n",
    "BLAST_DB = op.abspath(op.join(DATAPKG_DIR, 'profs', 'output', 'libraries_all_together_db', 'libraries_all'))\n",
    "# BLAST_DB = op.abspath(op.join(DATAPKG_DIR, 'profs', 'output', 'libraries', 'libraries'))\n",
    "# BLAST_DB = op.abspath('/home/kimlab1/database_data/blast/db/pdbaa')\n",
    "print(BLAST_DB)\n",
    "\n",
    "blastp = functools.lru_cache(maxsize=1024, typed=False)(kmtools.sequence_tools.blastp)\n",
    "\n",
    "def worker(x):\n",
    "    i, row = x\n",
    "    results_df = blastp(\n",
    "        sequence=row['uniprot_domain_sequence'], db=BLAST_DB, evalue=0.001, max_target_seqs=100000)\n",
    "    results_df = local.annotate_blast_results(\n",
    "        results_df, \n",
    "        domain_start=int(row['domain_def'].split(':')[0]), \n",
    "        domain_sequence_length=len(row['uniprot_domain_sequence']))\n",
    "    for column in SHARED_COLUMNS:\n",
    "        results_df[column] = row[column]\n",
    "    return results_df\n",
    "\n",
    "tmp = worker([0, uniprot_domain_sequence.iloc[0]])\n",
    "display(tmp.head(2))"
   ]
  },
  {
   "cell_type": "code",
   "execution_count": 33,
   "metadata": {
    "collapsed": false,
    "run_control": {
     "marked": false
    }
   },
   "outputs": [
    {
     "data": {
      "text/html": [
       "<div>\n",
       "<table border=\"1\" class=\"dataframe\">\n",
       "  <thead>\n",
       "    <tr style=\"text-align: right;\">\n",
       "      <th></th>\n",
       "      <th>query_id</th>\n",
       "      <th>subject_id</th>\n",
       "      <th>pc_identity</th>\n",
       "      <th>alignment_length</th>\n",
       "      <th>mismatches</th>\n",
       "      <th>gap_opens</th>\n",
       "      <th>q_start</th>\n",
       "      <th>q_end</th>\n",
       "      <th>s_start</th>\n",
       "      <th>s_end</th>\n",
       "      <th>evalue</th>\n",
       "      <th>bitscore</th>\n",
       "      <th>qseq</th>\n",
       "      <th>sseq</th>\n",
       "      <th>a2b</th>\n",
       "      <th>b2a</th>\n",
       "      <th>pdb_id</th>\n",
       "      <th>pdb_chain</th>\n",
       "      <th>pdb_pdbfam_name</th>\n",
       "      <th>pdb_pdbfam_idx</th>\n",
       "      <th>pdb_pfam_clan</th>\n",
       "      <th>pdb_domain_def</th>\n",
       "      <th>pdb_cath_id</th>\n",
       "      <th>alignment_identity</th>\n",
       "      <th>alignment_coverage</th>\n",
       "      <th>alignment_score</th>\n",
       "      <th>domain_start_new</th>\n",
       "      <th>domain_end_new</th>\n",
       "      <th>domain_def_new</th>\n",
       "      <th>t_date_modified</th>\n",
       "      <th>uniprot_id</th>\n",
       "      <th>uniprot_domain_id</th>\n",
       "      <th>uniprot_sequence</th>\n",
       "      <th>uniprot_domain_sequence</th>\n",
       "    </tr>\n",
       "  </thead>\n",
       "  <tbody>\n",
       "    <tr>\n",
       "      <th>3097</th>\n",
       "      <td>unnamed</td>\n",
       "      <td>4a6y_A|V-set+C1-set|1|Ig|1:211|4a6yA02</td>\n",
       "      <td>28.12</td>\n",
       "      <td>96</td>\n",
       "      <td>59</td>\n",
       "      <td>4</td>\n",
       "      <td>4</td>\n",
       "      <td>97</td>\n",
       "      <td>4</td>\n",
       "      <td>91</td>\n",
       "      <td>0.001</td>\n",
       "      <td>37.7</td>\n",
       "      <td>LQQSGAELVKPGASVKLSCTAS-GFNIKDTYMHWVKQRPEQGLEWI...</td>\n",
       "      <td>VTQESALTTSPGETVTLTCRSSTGAVTTSNYANWVQEKPDHLF--T...</td>\n",
       "      <td>1,2,3,4,5,6,7,8,9,10,11,12,13,14,15,16,17,18,1...</td>\n",
       "      <td>1,2,3,4,5,6,7,8,9,10,11,12,13,14,15,16,17,18,1...</td>\n",
       "      <td>4a6y</td>\n",
       "      <td>A</td>\n",
       "      <td>V-set+C1-set</td>\n",
       "      <td>1</td>\n",
       "      <td>Ig</td>\n",
       "      <td>1:211</td>\n",
       "      <td>4a6yA02</td>\n",
       "      <td>28.12</td>\n",
       "      <td>91.262136</td>\n",
       "      <td>0.289429</td>\n",
       "      <td>23</td>\n",
       "      <td>116</td>\n",
       "      <td>23:116</td>\n",
       "      <td>2016-08-09 15:02:53.252323</td>\n",
       "      <td>A0NA69</td>\n",
       "      <td>51959162</td>\n",
       "      <td>MKCSWVIFFLMAVVTGVNSEVQLQQSGAELVKPGASVKLSCTASGF...</td>\n",
       "      <td>EVQLQQSGAELVKPGASVKLSCTASGFNIKDTYMHWVKQRPEQGLE...</td>\n",
       "    </tr>\n",
       "    <tr>\n",
       "      <th>3098</th>\n",
       "      <td>unnamed</td>\n",
       "      <td>1yuh_L|V-set+C1-set|1|Ig|2:210|1yuhL02</td>\n",
       "      <td>28.12</td>\n",
       "      <td>96</td>\n",
       "      <td>59</td>\n",
       "      <td>4</td>\n",
       "      <td>4</td>\n",
       "      <td>97</td>\n",
       "      <td>3</td>\n",
       "      <td>90</td>\n",
       "      <td>0.001</td>\n",
       "      <td>37.7</td>\n",
       "      <td>LQQSGAELVKPGASVKLSCTAS-GFNIKDTYMHWVKQRPEQGLEWI...</td>\n",
       "      <td>VTQESALTTSPGETVTLTCRSSTGAVTTSNYANWVQEKPDR--LFT...</td>\n",
       "      <td>1,2,3,4,5,6,7,8,9,10,11,12,13,14,15,16,17,18,1...</td>\n",
       "      <td>1,2,3,4,5,6,7,8,9,10,11,12,13,14,15,16,17,18,1...</td>\n",
       "      <td>1yuh</td>\n",
       "      <td>L</td>\n",
       "      <td>V-set+C1-set</td>\n",
       "      <td>1</td>\n",
       "      <td>Ig</td>\n",
       "      <td>2:210</td>\n",
       "      <td>1yuhL02</td>\n",
       "      <td>28.12</td>\n",
       "      <td>91.262136</td>\n",
       "      <td>0.289429</td>\n",
       "      <td>23</td>\n",
       "      <td>116</td>\n",
       "      <td>23:116</td>\n",
       "      <td>2016-08-09 15:02:53.252323</td>\n",
       "      <td>A0NA69</td>\n",
       "      <td>51959162</td>\n",
       "      <td>MKCSWVIFFLMAVVTGVNSEVQLQQSGAELVKPGASVKLSCTASGF...</td>\n",
       "      <td>EVQLQQSGAELVKPGASVKLSCTASGFNIKDTYMHWVKQRPEQGLE...</td>\n",
       "    </tr>\n",
       "    <tr>\n",
       "      <th>3099</th>\n",
       "      <td>unnamed</td>\n",
       "      <td>3qeh_H|V-set|1|Ig|2:106|3qehH00</td>\n",
       "      <td>29.35</td>\n",
       "      <td>92</td>\n",
       "      <td>47</td>\n",
       "      <td>4</td>\n",
       "      <td>12</td>\n",
       "      <td>96</td>\n",
       "      <td>12</td>\n",
       "      <td>92</td>\n",
       "      <td>0.001</td>\n",
       "      <td>36.6</td>\n",
       "      <td>VKPGASVKLSCTAS-------GFNIKDTYMHWVKQRPEQGLEWIGR...</td>\n",
       "      <td>VTPGEAASISCRSSQSLLHTNGFQ----YLDWYLQKPGQSPQLLIY...</td>\n",
       "      <td>1,2,3,4,5,6,7,8,9,10,11,12,13,14,,,,,,,,15,16,...</td>\n",
       "      <td>1,2,3,4,5,6,7,8,9,10,11,12,13,14,22,23,24,,,,,...</td>\n",
       "      <td>3qeh</td>\n",
       "      <td>H</td>\n",
       "      <td>V-set</td>\n",
       "      <td>1</td>\n",
       "      <td>Ig</td>\n",
       "      <td>2:106</td>\n",
       "      <td>3qehH00</td>\n",
       "      <td>29.35</td>\n",
       "      <td>82.524272</td>\n",
       "      <td>0.271360</td>\n",
       "      <td>31</td>\n",
       "      <td>115</td>\n",
       "      <td>31:115</td>\n",
       "      <td>2016-08-09 15:02:53.252323</td>\n",
       "      <td>A0NA69</td>\n",
       "      <td>51959162</td>\n",
       "      <td>MKCSWVIFFLMAVVTGVNSEVQLQQSGAELVKPGASVKLSCTASGF...</td>\n",
       "      <td>EVQLQQSGAELVKPGASVKLSCTASGFNIKDTYMHWVKQRPEQGLE...</td>\n",
       "    </tr>\n",
       "    <tr>\n",
       "      <th>3100</th>\n",
       "      <td>unnamed</td>\n",
       "      <td>1rjl_A|V-set|1|Ig|1:108|1rjlA00</td>\n",
       "      <td>29.90</td>\n",
       "      <td>97</td>\n",
       "      <td>58</td>\n",
       "      <td>5</td>\n",
       "      <td>1</td>\n",
       "      <td>96</td>\n",
       "      <td>1</td>\n",
       "      <td>88</td>\n",
       "      <td>0.001</td>\n",
       "      <td>36.2</td>\n",
       "      <td>EVQLQQSGAEL-VKPGASVKLSCTASGFNIKDTYMHWVKQRPEQGL...</td>\n",
       "      <td>DIQMNQSPSSLSASLGDTITITCHASQ-NI-NVWLNWFQQKPGSIP...</td>\n",
       "      <td>1,2,3,4,5,6,7,8,9,10,11,,12,13,14,15,16,17,18,...</td>\n",
       "      <td>1,2,3,4,5,6,7,8,9,10,11,13,14,15,16,17,18,19,2...</td>\n",
       "      <td>1rjl</td>\n",
       "      <td>A</td>\n",
       "      <td>V-set</td>\n",
       "      <td>1</td>\n",
       "      <td>Ig</td>\n",
       "      <td>1:108</td>\n",
       "      <td>1rjlA00</td>\n",
       "      <td>29.90</td>\n",
       "      <td>93.203883</td>\n",
       "      <td>0.311348</td>\n",
       "      <td>20</td>\n",
       "      <td>115</td>\n",
       "      <td>20:115</td>\n",
       "      <td>2016-08-09 15:02:53.252323</td>\n",
       "      <td>A0NA69</td>\n",
       "      <td>51959162</td>\n",
       "      <td>MKCSWVIFFLMAVVTGVNSEVQLQQSGAELVKPGASVKLSCTASGF...</td>\n",
       "      <td>EVQLQQSGAELVKPGASVKLSCTASGFNIKDTYMHWVKQRPEQGLE...</td>\n",
       "    </tr>\n",
       "    <tr>\n",
       "      <th>3101</th>\n",
       "      <td>unnamed</td>\n",
       "      <td>3s36_L|V-set+C1-set|1|V-set+C1-set|1:214|3s36L02</td>\n",
       "      <td>29.90</td>\n",
       "      <td>97</td>\n",
       "      <td>58</td>\n",
       "      <td>4</td>\n",
       "      <td>1</td>\n",
       "      <td>96</td>\n",
       "      <td>1</td>\n",
       "      <td>88</td>\n",
       "      <td>0.001</td>\n",
       "      <td>37.7</td>\n",
       "      <td>EVQLQQSGAEL-VKPGASVKLSCTASGFNIKDTYMHWVKQRPEQGL...</td>\n",
       "      <td>DIQMTQSPSSVSASIGDRVTITCRAS--QGIDNWLGWYQQKPGKAP...</td>\n",
       "      <td>1,2,3,4,5,6,7,8,9,10,11,,12,13,14,15,16,17,18,...</td>\n",
       "      <td>1,2,3,4,5,6,7,8,9,10,11,13,14,15,16,17,18,19,2...</td>\n",
       "      <td>3s36</td>\n",
       "      <td>L</td>\n",
       "      <td>V-set+C1-set</td>\n",
       "      <td>1</td>\n",
       "      <td>V-set+C1-set</td>\n",
       "      <td>1:214</td>\n",
       "      <td>3s36L02</td>\n",
       "      <td>29.90</td>\n",
       "      <td>93.203883</td>\n",
       "      <td>0.311348</td>\n",
       "      <td>20</td>\n",
       "      <td>115</td>\n",
       "      <td>20:115</td>\n",
       "      <td>2016-08-09 15:02:53.252323</td>\n",
       "      <td>A0NA69</td>\n",
       "      <td>51959162</td>\n",
       "      <td>MKCSWVIFFLMAVVTGVNSEVQLQQSGAELVKPGASVKLSCTASGF...</td>\n",
       "      <td>EVQLQQSGAELVKPGASVKLSCTASGFNIKDTYMHWVKQRPEQGLE...</td>\n",
       "    </tr>\n",
       "  </tbody>\n",
       "</table>\n",
       "</div>"
      ],
      "text/plain": [
       "     query_id                                        subject_id  pc_identity  alignment_length  mismatches  gap_opens  q_start  q_end  s_start  s_end  evalue  bitscore                                               qseq                                               sseq                                                a2b                                                b2a pdb_id pdb_chain pdb_pdbfam_name  pdb_pdbfam_idx pdb_pfam_clan pdb_domain_def pdb_cath_id  alignment_identity  alignment_coverage  alignment_score  domain_start_new  domain_end_new domain_def_new            t_date_modified uniprot_id  uniprot_domain_id                                   uniprot_sequence                            uniprot_domain_sequence\n",
       "3097  unnamed            4a6y_A|V-set+C1-set|1|Ig|1:211|4a6yA02        28.12                96          59          4        4     97        4     91   0.001      37.7  LQQSGAELVKPGASVKLSCTAS-GFNIKDTYMHWVKQRPEQGLEWI...  VTQESALTTSPGETVTLTCRSSTGAVTTSNYANWVQEKPDHLF--T...  1,2,3,4,5,6,7,8,9,10,11,12,13,14,15,16,17,18,1...  1,2,3,4,5,6,7,8,9,10,11,12,13,14,15,16,17,18,1...   4a6y         A    V-set+C1-set               1            Ig          1:211     4a6yA02               28.12           91.262136         0.289429                23             116         23:116 2016-08-09 15:02:53.252323     A0NA69           51959162  MKCSWVIFFLMAVVTGVNSEVQLQQSGAELVKPGASVKLSCTASGF...  EVQLQQSGAELVKPGASVKLSCTASGFNIKDTYMHWVKQRPEQGLE...\n",
       "3098  unnamed            1yuh_L|V-set+C1-set|1|Ig|2:210|1yuhL02        28.12                96          59          4        4     97        3     90   0.001      37.7  LQQSGAELVKPGASVKLSCTAS-GFNIKDTYMHWVKQRPEQGLEWI...  VTQESALTTSPGETVTLTCRSSTGAVTTSNYANWVQEKPDR--LFT...  1,2,3,4,5,6,7,8,9,10,11,12,13,14,15,16,17,18,1...  1,2,3,4,5,6,7,8,9,10,11,12,13,14,15,16,17,18,1...   1yuh         L    V-set+C1-set               1            Ig          2:210     1yuhL02               28.12           91.262136         0.289429                23             116         23:116 2016-08-09 15:02:53.252323     A0NA69           51959162  MKCSWVIFFLMAVVTGVNSEVQLQQSGAELVKPGASVKLSCTASGF...  EVQLQQSGAELVKPGASVKLSCTASGFNIKDTYMHWVKQRPEQGLE...\n",
       "3099  unnamed                   3qeh_H|V-set|1|Ig|2:106|3qehH00        29.35                92          47          4       12     96       12     92   0.001      36.6  VKPGASVKLSCTAS-------GFNIKDTYMHWVKQRPEQGLEWIGR...  VTPGEAASISCRSSQSLLHTNGFQ----YLDWYLQKPGQSPQLLIY...  1,2,3,4,5,6,7,8,9,10,11,12,13,14,,,,,,,,15,16,...  1,2,3,4,5,6,7,8,9,10,11,12,13,14,22,23,24,,,,,...   3qeh         H           V-set               1            Ig          2:106     3qehH00               29.35           82.524272         0.271360                31             115         31:115 2016-08-09 15:02:53.252323     A0NA69           51959162  MKCSWVIFFLMAVVTGVNSEVQLQQSGAELVKPGASVKLSCTASGF...  EVQLQQSGAELVKPGASVKLSCTASGFNIKDTYMHWVKQRPEQGLE...\n",
       "3100  unnamed                   1rjl_A|V-set|1|Ig|1:108|1rjlA00        29.90                97          58          5        1     96        1     88   0.001      36.2  EVQLQQSGAEL-VKPGASVKLSCTASGFNIKDTYMHWVKQRPEQGL...  DIQMNQSPSSLSASLGDTITITCHASQ-NI-NVWLNWFQQKPGSIP...  1,2,3,4,5,6,7,8,9,10,11,,12,13,14,15,16,17,18,...  1,2,3,4,5,6,7,8,9,10,11,13,14,15,16,17,18,19,2...   1rjl         A           V-set               1            Ig          1:108     1rjlA00               29.90           93.203883         0.311348                20             115         20:115 2016-08-09 15:02:53.252323     A0NA69           51959162  MKCSWVIFFLMAVVTGVNSEVQLQQSGAELVKPGASVKLSCTASGF...  EVQLQQSGAELVKPGASVKLSCTASGFNIKDTYMHWVKQRPEQGLE...\n",
       "3101  unnamed  3s36_L|V-set+C1-set|1|V-set+C1-set|1:214|3s36L02        29.90                97          58          4        1     96        1     88   0.001      37.7  EVQLQQSGAEL-VKPGASVKLSCTASGFNIKDTYMHWVKQRPEQGL...  DIQMTQSPSSVSASIGDRVTITCRAS--QGIDNWLGWYQQKPGKAP...  1,2,3,4,5,6,7,8,9,10,11,,12,13,14,15,16,17,18,...  1,2,3,4,5,6,7,8,9,10,11,13,14,15,16,17,18,19,2...   3s36         L    V-set+C1-set               1  V-set+C1-set          1:214     3s36L02               29.90           93.203883         0.311348                20             115         20:115 2016-08-09 15:02:53.252323     A0NA69           51959162  MKCSWVIFFLMAVVTGVNSEVQLQQSGAELVKPGASVKLSCTASGF...  EVQLQQSGAELVKPGASVKLSCTASGFNIKDTYMHWVKQRPEQGLE..."
      ]
     },
     "execution_count": 33,
     "metadata": {},
     "output_type": "execute_result"
    }
   ],
   "source": [
    "tmp.tail()"
   ]
  },
  {
   "cell_type": "code",
   "execution_count": 34,
   "metadata": {
    "collapsed": false,
    "run_control": {
     "marked": false
    }
   },
   "outputs": [
    {
     "name": "stdout",
     "output_type": "stream",
     "text": [
      "LQQSGAELVKPGASVKLSCTAS-GFNIKDTYMHWVKQRPEQGLEWIGRIDPANGNTKYDP-KFQGKATITADTSSNTAYLQLSSLTSEDTAVYYCA\n",
      "VTQESALTTSPGETVTLTCRSSTGAVTTSNYANWVQEKPDHLF--TGLIGGTNNRAPGVPARFSGSLI------GDKAALTITGAQTEDEAIYFCA\n"
     ]
    }
   ],
   "source": [
    "print(tmp.loc[3097, 'qseq'])\n",
    "print(tmp.loc[3097, 'sseq'])"
   ]
  },
  {
   "cell_type": "code",
   "execution_count": 35,
   "metadata": {
    "collapsed": true,
    "run_control": {
     "marked": false
    }
   },
   "outputs": [],
   "source": [
    "logging.getLogger('kmtools.sequence_tools').setLevel(logging.DEBUG)"
   ]
  },
  {
   "cell_type": "code",
   "execution_count": 36,
   "metadata": {
    "collapsed": false,
    "run_control": {
     "marked": false
    }
   },
   "outputs": [
    {
     "name": "stderr",
     "output_type": "stream",
     "text": [
      "2016-08-09 15:02:54,016 - root - INFO - Loading from file...\n"
     ]
    }
   ],
   "source": [
    "structural_templates_file = op.join(NOTEBOOK_NAME, 'structural_templates.pkl')\n",
    "if not op.isfile(structural_templates_file):\n",
    "    with concurrent.futures.ProcessPoolExecutor() as p:\n",
    "        results_df_all = list(p.map(worker, uniprot_domain_sequence.iterrows()))\n",
    "        with open(op.join(NOTEBOOK_NAME, 'results_df_all.pkl'), 'wb') as ofh:\n",
    "            pickle.dump(results_df_all, ofh)\n",
    "        structural_templates = pd.concat(results_df_all, ignore_index=True)\n",
    "        structural_templates.to_pickle(structural_templates_file)\n",
    "else:\n",
    "    logger.info('Loading from file...')\n",
    "    with open(op.join(NOTEBOOK_NAME, 'results_df_all.pkl'), 'rb') as ifh:\n",
    "        results_df_all = pickle.load(ifh)\n",
    "    structural_templates = pd.read_pickle(structural_templates_file)"
   ]
  },
  {
   "cell_type": "code",
   "execution_count": 37,
   "metadata": {
    "collapsed": false,
    "run_control": {
     "marked": false
    }
   },
   "outputs": [
    {
     "data": {
      "text/html": [
       "<div>\n",
       "<table border=\"1\" class=\"dataframe\">\n",
       "  <thead>\n",
       "    <tr style=\"text-align: right;\">\n",
       "      <th></th>\n",
       "      <th>alignment_coverage</th>\n",
       "      <th>alignment_identity</th>\n",
       "      <th>alignment_length</th>\n",
       "      <th>alignment_score</th>\n",
       "      <th>bitscore</th>\n",
       "      <th>domain_def_new</th>\n",
       "      <th>domain_end_new</th>\n",
       "      <th>domain_start_new</th>\n",
       "      <th>evalue</th>\n",
       "      <th>gap_opens</th>\n",
       "      <th>mismatches</th>\n",
       "      <th>pc_identity</th>\n",
       "      <th>pdb_cath_id</th>\n",
       "      <th>pdb_chain</th>\n",
       "      <th>pdb_domain_def</th>\n",
       "      <th>pdb_id</th>\n",
       "      <th>pdb_pdbfam_idx</th>\n",
       "      <th>pdb_pdbfam_name</th>\n",
       "      <th>pdb_pfam_clan</th>\n",
       "      <th>q_end</th>\n",
       "      <th>q_start</th>\n",
       "      <th>qseq</th>\n",
       "      <th>query_id</th>\n",
       "      <th>s_end</th>\n",
       "      <th>s_start</th>\n",
       "      <th>sseq</th>\n",
       "      <th>subject_id</th>\n",
       "      <th>t_date_modified</th>\n",
       "      <th>uniprot_domain_id</th>\n",
       "      <th>uniprot_domain_sequence</th>\n",
       "      <th>uniprot_id</th>\n",
       "      <th>uniprot_sequence</th>\n",
       "    </tr>\n",
       "  </thead>\n",
       "  <tbody>\n",
       "    <tr>\n",
       "      <th>0</th>\n",
       "      <td>88.311688</td>\n",
       "      <td>39.71</td>\n",
       "      <td>68.0</td>\n",
       "      <td>0.377307</td>\n",
       "      <td>59.3</td>\n",
       "      <td>10:77</td>\n",
       "      <td>77.0</td>\n",
       "      <td>10.0</td>\n",
       "      <td>2.000000e-12</td>\n",
       "      <td>1.0</td>\n",
       "      <td>38.0</td>\n",
       "      <td>39.71</td>\n",
       "      <td>2ecvA00</td>\n",
       "      <td>A</td>\n",
       "      <td>1:85</td>\n",
       "      <td>2ecv</td>\n",
       "      <td>1.0</td>\n",
       "      <td>zf-C3HC4_4</td>\n",
       "      <td>RING</td>\n",
       "      <td>77.0</td>\n",
       "      <td>10.0</td>\n",
       "      <td>MMEEATCSICLSLMTNPVSINCGHSYCHLCITDFFKNPSQKQLRQE...</td>\n",
       "      <td>unnamed</td>\n",
       "      <td>80.0</td>\n",
       "      <td>16.0</td>\n",
       "      <td>VKEEVTCPICLELLTQPLSLDCGHSFCQACLT---ANHKKSMLDKG...</td>\n",
       "      <td>2ecv_A|zf-C3HC4_4|1|RING|1:85|2ecvA00</td>\n",
       "      <td>2016-08-02 10:43:11.905879</td>\n",
       "      <td>3288098</td>\n",
       "      <td>MASTTSTKKMMEEATCSICLSLMTNPVSINCGHSYCHLCITDFFKN...</td>\n",
       "      <td>B2R862</td>\n",
       "      <td>MASTTSTKKMMEEATCSICLSLMTNPVSINCGHSYCHLCITDFFKN...</td>\n",
       "    </tr>\n",
       "    <tr>\n",
       "      <th>1</th>\n",
       "      <td>98.701299</td>\n",
       "      <td>36.84</td>\n",
       "      <td>76.0</td>\n",
       "      <td>0.394785</td>\n",
       "      <td>55.5</td>\n",
       "      <td>2:77</td>\n",
       "      <td>77.0</td>\n",
       "      <td>2.0</td>\n",
       "      <td>6.000000e-11</td>\n",
       "      <td>1.0</td>\n",
       "      <td>46.0</td>\n",
       "      <td>36.84</td>\n",
       "      <td>2egpA00</td>\n",
       "      <td>A</td>\n",
       "      <td>1:79</td>\n",
       "      <td>2egp</td>\n",
       "      <td>1.0</td>\n",
       "      <td>zf-C3HC4_4</td>\n",
       "      <td>RING</td>\n",
       "      <td>77.0</td>\n",
       "      <td>2.0</td>\n",
       "      <td>ASTTSTKKMMEEATCSICLSLMTNPVSINCGHSYCHLCITDFFKNP...</td>\n",
       "      <td>unnamed</td>\n",
       "      <td>74.0</td>\n",
       "      <td>1.0</td>\n",
       "      <td>GSSGSSGNVQEEVTCPICLELLTEPLSLDCGHSLCRACITVSNKEA...</td>\n",
       "      <td>2egp_A|zf-C3HC4_4|1|RING|1:79|2egpA00</td>\n",
       "      <td>2016-08-02 10:43:11.905879</td>\n",
       "      <td>3288098</td>\n",
       "      <td>MASTTSTKKMMEEATCSICLSLMTNPVSINCGHSYCHLCITDFFKN...</td>\n",
       "      <td>B2R862</td>\n",
       "      <td>MASTTSTKKMMEEATCSICLSLMTNPVSINCGHSYCHLCITDFFKN...</td>\n",
       "    </tr>\n",
       "    <tr>\n",
       "      <th>2</th>\n",
       "      <td>84.415584</td>\n",
       "      <td>40.00</td>\n",
       "      <td>65.0</td>\n",
       "      <td>0.362987</td>\n",
       "      <td>54.7</td>\n",
       "      <td>10:74</td>\n",
       "      <td>74.0</td>\n",
       "      <td>10.0</td>\n",
       "      <td>1.000000e-10</td>\n",
       "      <td>1.0</td>\n",
       "      <td>36.0</td>\n",
       "      <td>40.00</td>\n",
       "      <td>2ecwA00</td>\n",
       "      <td>A</td>\n",
       "      <td>1:85</td>\n",
       "      <td>2ecw</td>\n",
       "      <td>1.0</td>\n",
       "      <td>zf-C3HC4_4</td>\n",
       "      <td>RING</td>\n",
       "      <td>74.0</td>\n",
       "      <td>10.0</td>\n",
       "      <td>MMEEATCSICLSLMTNPVSINCGHSYCHLCITDFFKNPSQKQLRQE...</td>\n",
       "      <td>unnamed</td>\n",
       "      <td>77.0</td>\n",
       "      <td>16.0</td>\n",
       "      <td>IKEEVTCPICLELLKEPVSADCNHSFCRACITLNYESNRNTDGKGN...</td>\n",
       "      <td>2ecw_A|zf-C3HC4_4|1|RING|1:85|2ecwA00</td>\n",
       "      <td>2016-08-02 10:43:11.905879</td>\n",
       "      <td>3288098</td>\n",
       "      <td>MASTTSTKKMMEEATCSICLSLMTNPVSINCGHSYCHLCITDFFKN...</td>\n",
       "      <td>B2R862</td>\n",
       "      <td>MASTTSTKKMMEEATCSICLSLMTNPVSINCGHSYCHLCITDFFKN...</td>\n",
       "    </tr>\n",
       "    <tr>\n",
       "      <th>3</th>\n",
       "      <td>79.220779</td>\n",
       "      <td>34.43</td>\n",
       "      <td>61.0</td>\n",
       "      <td>0.298730</td>\n",
       "      <td>47.4</td>\n",
       "      <td>2:62</td>\n",
       "      <td>62.0</td>\n",
       "      <td>2.0</td>\n",
       "      <td>4.000000e-08</td>\n",
       "      <td>1.0</td>\n",
       "      <td>34.0</td>\n",
       "      <td>34.43</td>\n",
       "      <td>2ecjA00</td>\n",
       "      <td>A</td>\n",
       "      <td>1:58</td>\n",
       "      <td>2ecj</td>\n",
       "      <td>1.0</td>\n",
       "      <td>zf-C3HC4_4</td>\n",
       "      <td>RING</td>\n",
       "      <td>62.0</td>\n",
       "      <td>2.0</td>\n",
       "      <td>ASTTSTKKMMEEATCSICLSLMTNPVSINCGHSYCHLCITDFFKNP...</td>\n",
       "      <td>unnamed</td>\n",
       "      <td>58.0</td>\n",
       "      <td>4.0</td>\n",
       "      <td>GSSGALENLQVEASCSVCLEYLKEPVIIECGHNFCKACITRWWED-...</td>\n",
       "      <td>2ecj_A|zf-C3HC4_4|1|RING|1:58|2ecjA00</td>\n",
       "      <td>2016-08-02 10:43:11.905879</td>\n",
       "      <td>3288098</td>\n",
       "      <td>MASTTSTKKMMEEATCSICLSLMTNPVSINCGHSYCHLCITDFFKN...</td>\n",
       "      <td>B2R862</td>\n",
       "      <td>MASTTSTKKMMEEATCSICLSLMTNPVSINCGHSYCHLCITDFFKN...</td>\n",
       "    </tr>\n",
       "    <tr>\n",
       "      <th>4</th>\n",
       "      <td>85.714286</td>\n",
       "      <td>33.33</td>\n",
       "      <td>66.0</td>\n",
       "      <td>0.314259</td>\n",
       "      <td>45.8</td>\n",
       "      <td>7:72</td>\n",
       "      <td>72.0</td>\n",
       "      <td>7.0</td>\n",
       "      <td>2.000000e-07</td>\n",
       "      <td>1.0</td>\n",
       "      <td>38.0</td>\n",
       "      <td>33.33</td>\n",
       "      <td>2yslA00</td>\n",
       "      <td>A</td>\n",
       "      <td>1:73</td>\n",
       "      <td>2ysl</td>\n",
       "      <td>1.0</td>\n",
       "      <td>zf-C3HC4_4</td>\n",
       "      <td>RING</td>\n",
       "      <td>72.0</td>\n",
       "      <td>7.0</td>\n",
       "      <td>TKKMMEEATCSICLSLMTNPVSINCGHSYCHLCITDFFKNPSQKQL...</td>\n",
       "      <td>unnamed</td>\n",
       "      <td>73.0</td>\n",
       "      <td>14.0</td>\n",
       "      <td>VNKLQEEVICPICLDILQKPVTIDCGHNFCLKCITQIGETSCG---...</td>\n",
       "      <td>2ysl_A|zf-C3HC4_4|1|RING|1:73|2yslA00</td>\n",
       "      <td>2016-08-02 10:43:11.905879</td>\n",
       "      <td>3288098</td>\n",
       "      <td>MASTTSTKKMMEEATCSICLSLMTNPVSINCGHSYCHLCITDFFKN...</td>\n",
       "      <td>B2R862</td>\n",
       "      <td>MASTTSTKKMMEEATCSICLSLMTNPVSINCGHSYCHLCITDFFKN...</td>\n",
       "    </tr>\n",
       "  </tbody>\n",
       "</table>\n",
       "</div>"
      ],
      "text/plain": [
       "   alignment_coverage  alignment_identity  alignment_length  alignment_score  bitscore domain_def_new  domain_end_new  domain_start_new        evalue  gap_opens  mismatches  pc_identity pdb_cath_id pdb_chain pdb_domain_def pdb_id  pdb_pdbfam_idx pdb_pdbfam_name pdb_pfam_clan  q_end  q_start                                               qseq query_id  s_end  s_start                                               sseq                             subject_id            t_date_modified  uniprot_domain_id                            uniprot_domain_sequence uniprot_id                                   uniprot_sequence\n",
       "0           88.311688               39.71              68.0         0.377307      59.3          10:77            77.0              10.0  2.000000e-12        1.0        38.0        39.71     2ecvA00         A           1:85   2ecv             1.0      zf-C3HC4_4          RING   77.0     10.0  MMEEATCSICLSLMTNPVSINCGHSYCHLCITDFFKNPSQKQLRQE...  unnamed   80.0     16.0  VKEEVTCPICLELLTQPLSLDCGHSFCQACLT---ANHKKSMLDKG...  2ecv_A|zf-C3HC4_4|1|RING|1:85|2ecvA00 2016-08-02 10:43:11.905879            3288098  MASTTSTKKMMEEATCSICLSLMTNPVSINCGHSYCHLCITDFFKN...     B2R862  MASTTSTKKMMEEATCSICLSLMTNPVSINCGHSYCHLCITDFFKN...\n",
       "1           98.701299               36.84              76.0         0.394785      55.5           2:77            77.0               2.0  6.000000e-11        1.0        46.0        36.84     2egpA00         A           1:79   2egp             1.0      zf-C3HC4_4          RING   77.0      2.0  ASTTSTKKMMEEATCSICLSLMTNPVSINCGHSYCHLCITDFFKNP...  unnamed   74.0      1.0  GSSGSSGNVQEEVTCPICLELLTEPLSLDCGHSLCRACITVSNKEA...  2egp_A|zf-C3HC4_4|1|RING|1:79|2egpA00 2016-08-02 10:43:11.905879            3288098  MASTTSTKKMMEEATCSICLSLMTNPVSINCGHSYCHLCITDFFKN...     B2R862  MASTTSTKKMMEEATCSICLSLMTNPVSINCGHSYCHLCITDFFKN...\n",
       "2           84.415584               40.00              65.0         0.362987      54.7          10:74            74.0              10.0  1.000000e-10        1.0        36.0        40.00     2ecwA00         A           1:85   2ecw             1.0      zf-C3HC4_4          RING   74.0     10.0  MMEEATCSICLSLMTNPVSINCGHSYCHLCITDFFKNPSQKQLRQE...  unnamed   77.0     16.0  IKEEVTCPICLELLKEPVSADCNHSFCRACITLNYESNRNTDGKGN...  2ecw_A|zf-C3HC4_4|1|RING|1:85|2ecwA00 2016-08-02 10:43:11.905879            3288098  MASTTSTKKMMEEATCSICLSLMTNPVSINCGHSYCHLCITDFFKN...     B2R862  MASTTSTKKMMEEATCSICLSLMTNPVSINCGHSYCHLCITDFFKN...\n",
       "3           79.220779               34.43              61.0         0.298730      47.4           2:62            62.0               2.0  4.000000e-08        1.0        34.0        34.43     2ecjA00         A           1:58   2ecj             1.0      zf-C3HC4_4          RING   62.0      2.0  ASTTSTKKMMEEATCSICLSLMTNPVSINCGHSYCHLCITDFFKNP...  unnamed   58.0      4.0  GSSGALENLQVEASCSVCLEYLKEPVIIECGHNFCKACITRWWED-...  2ecj_A|zf-C3HC4_4|1|RING|1:58|2ecjA00 2016-08-02 10:43:11.905879            3288098  MASTTSTKKMMEEATCSICLSLMTNPVSINCGHSYCHLCITDFFKN...     B2R862  MASTTSTKKMMEEATCSICLSLMTNPVSINCGHSYCHLCITDFFKN...\n",
       "4           85.714286               33.33              66.0         0.314259      45.8           7:72            72.0               7.0  2.000000e-07        1.0        38.0        33.33     2yslA00         A           1:73   2ysl             1.0      zf-C3HC4_4          RING   72.0      7.0  TKKMMEEATCSICLSLMTNPVSINCGHSYCHLCITDFFKNPSQKQL...  unnamed   73.0     14.0  VNKLQEEVICPICLDILQKPVTIDCGHNFCLKCITQIGETSCG---...  2ysl_A|zf-C3HC4_4|1|RING|1:73|2yslA00 2016-08-02 10:43:11.905879            3288098  MASTTSTKKMMEEATCSICLSLMTNPVSINCGHSYCHLCITDFFKN...     B2R862  MASTTSTKKMMEEATCSICLSLMTNPVSINCGHSYCHLCITDFFKN..."
      ]
     },
     "metadata": {},
     "output_type": "display_data"
    },
    {
     "name": "stdout",
     "output_type": "stream",
     "text": [
      "(177795, 32)\n"
     ]
    }
   ],
   "source": [
    "display(structural_templates.head())\n",
    "print(structural_templates.shape)"
   ]
  },
  {
   "cell_type": "code",
   "execution_count": 38,
   "metadata": {
    "collapsed": false,
    "run_control": {
     "marked": false
    }
   },
   "outputs": [
    {
     "name": "stdout",
     "output_type": "stream",
     "text": [
      "{'Ank_2',\n",
      " 'Arm',\n",
      " 'BIR',\n",
      " 'BNR_2',\n",
      " 'BRCT',\n",
      " 'Filamin',\n",
      " 'IBB+Arm',\n",
      " 'Ion_trans',\n",
      " 'Kelch_1',\n",
      " 'LRR_6',\n",
      " 'MIF4G',\n",
      " 'NHL',\n",
      " 'RCC1',\n",
      " 'TPR_1',\n",
      " 'WD40',\n",
      " 'zf-C2H2',\n",
      " 'zf-H2C2_2+zf-C2H2'}\n"
     ]
    }
   ],
   "source": [
    "pdbfam_names = set(os.listdir('/home/kimlab1/afgiraldofo/Experimentos/Uniprot5/E_DB_Libraries_nr'))\n",
    "pprint(set(uniprot_domain_sequence['pdbfam_name']) - pdbfam_names)"
   ]
  },
  {
   "cell_type": "code",
   "execution_count": 39,
   "metadata": {
    "collapsed": false,
    "run_control": {
     "marked": false
    }
   },
   "outputs": [
    {
     "data": {
      "text/plain": [
       "<matplotlib.text.Text at 0x7f36fae02198>"
      ]
     },
     "execution_count": 39,
     "metadata": {},
     "output_type": "execute_result"
    },
    {
     "data": {
      "image/png": "[encoded data removed]",
      "text/plain": [
       "<matplotlib.figure.Figure at 0x7f36fadde160>"
      ]
     },
     "metadata": {},
     "output_type": "display_data"
    }
   ],
   "source": [
    "num_hits = [df.shape[0] for df in results_df_all]\n",
    "plt.hist(num_hits, range=(0, 100), bins=100)\n",
    "plt.xticks(rotation='vertical')\n",
    "plt.xlabel(\"Hits per protein\")\n",
    "plt.ylabel(\"Number of proteins\")"
   ]
  },
  {
   "cell_type": "code",
   "execution_count": 40,
   "metadata": {
    "collapsed": false,
    "run_control": {
     "marked": false
    }
   },
   "outputs": [
    {
     "data": {
      "text/plain": [
       "<matplotlib.text.Text at 0x7f36faa66e10>"
      ]
     },
     "execution_count": 40,
     "metadata": {},
     "output_type": "execute_result"
    },
    {
     "data": {
      "image/png": "[encoded data removed]",
      "text/plain": [
       "<matplotlib.figure.Figure at 0x7f36fadd9e48>"
      ]
     },
     "metadata": {},
     "output_type": "display_data"
    }
   ],
   "source": [
    "structural_templates['alignment_identity'].hist(range=(0, 100))\n",
    "plt.xlabel('Sequence identity (%)')\n",
    "plt.ylabel('Number of domains')"
   ]
  },
  {
   "cell_type": "code",
   "execution_count": 41,
   "metadata": {
    "collapsed": true,
    "run_control": {
     "marked": false
    }
   },
   "outputs": [],
   "source": [
    "structural_templates_bak = structural_templates.copy()"
   ]
  },
  {
   "cell_type": "markdown",
   "metadata": {
    "run_control": {
     "marked": false
    }
   },
   "source": [
    "## Domain pair templates"
   ]
  },
  {
   "cell_type": "code",
   "execution_count": 73,
   "metadata": {
    "collapsed": true,
    "run_control": {
     "marked": false
    }
   },
   "outputs": [],
   "source": [
    "# Domain templates\n",
    "structural_templates = structural_templates_bak.copy()"
   ]
  },
  {
   "cell_type": "code",
   "execution_count": 74,
   "metadata": {
    "collapsed": false,
    "run_control": {
     "marked": false
    }
   },
   "outputs": [
    {
     "data": {
      "text/html": [
       "<div>\n",
       "<table border=\"1\" class=\"dataframe\">\n",
       "  <thead>\n",
       "    <tr style=\"text-align: right;\">\n",
       "      <th></th>\n",
       "      <th>alignment_coverage</th>\n",
       "      <th>alignment_identity</th>\n",
       "      <th>alignment_length</th>\n",
       "      <th>alignment_score</th>\n",
       "      <th>bitscore</th>\n",
       "      <th>domain_def_new</th>\n",
       "      <th>domain_end_new</th>\n",
       "      <th>domain_start_new</th>\n",
       "      <th>evalue</th>\n",
       "      <th>gap_opens</th>\n",
       "      <th>mismatches</th>\n",
       "      <th>pc_identity</th>\n",
       "      <th>pdb_cath_id</th>\n",
       "      <th>pdb_chain</th>\n",
       "      <th>pdb_domain_def</th>\n",
       "      <th>pdb_id</th>\n",
       "      <th>pdb_pdbfam_idx</th>\n",
       "      <th>pdb_pdbfam_name</th>\n",
       "      <th>pdb_pfam_clan</th>\n",
       "      <th>q_end</th>\n",
       "      <th>q_start</th>\n",
       "      <th>qseq</th>\n",
       "      <th>query_id</th>\n",
       "      <th>s_end</th>\n",
       "      <th>s_start</th>\n",
       "      <th>sseq</th>\n",
       "      <th>subject_id</th>\n",
       "      <th>t_date_modified</th>\n",
       "      <th>uniprot_domain_id</th>\n",
       "      <th>uniprot_domain_sequence</th>\n",
       "      <th>uniprot_id</th>\n",
       "      <th>uniprot_sequence</th>\n",
       "    </tr>\n",
       "  </thead>\n",
       "  <tbody>\n",
       "    <tr>\n",
       "      <th>0</th>\n",
       "      <td>88.311688</td>\n",
       "      <td>39.71</td>\n",
       "      <td>68.0</td>\n",
       "      <td>0.377307</td>\n",
       "      <td>59.3</td>\n",
       "      <td>10:77</td>\n",
       "      <td>77.0</td>\n",
       "      <td>10.0</td>\n",
       "      <td>2.000000e-12</td>\n",
       "      <td>1.0</td>\n",
       "      <td>38.0</td>\n",
       "      <td>39.71</td>\n",
       "      <td>2ecvA00</td>\n",
       "      <td>A</td>\n",
       "      <td>1:85</td>\n",
       "      <td>2ecv</td>\n",
       "      <td>1.0</td>\n",
       "      <td>zf-C3HC4_4</td>\n",
       "      <td>RING</td>\n",
       "      <td>77.0</td>\n",
       "      <td>10.0</td>\n",
       "      <td>MMEEATCSICLSLMTNPVSINCGHSYCHLCITDFFKNPSQKQLRQE...</td>\n",
       "      <td>unnamed</td>\n",
       "      <td>80.0</td>\n",
       "      <td>16.0</td>\n",
       "      <td>VKEEVTCPICLELLTQPLSLDCGHSFCQACLT---ANHKKSMLDKG...</td>\n",
       "      <td>2ecv_A|zf-C3HC4_4|1|RING|1:85|2ecvA00</td>\n",
       "      <td>2016-08-02 10:43:11.905879</td>\n",
       "      <td>3288098</td>\n",
       "      <td>MASTTSTKKMMEEATCSICLSLMTNPVSINCGHSYCHLCITDFFKN...</td>\n",
       "      <td>B2R862</td>\n",
       "      <td>MASTTSTKKMMEEATCSICLSLMTNPVSINCGHSYCHLCITDFFKN...</td>\n",
       "    </tr>\n",
       "    <tr>\n",
       "      <th>1</th>\n",
       "      <td>98.701299</td>\n",
       "      <td>36.84</td>\n",
       "      <td>76.0</td>\n",
       "      <td>0.394785</td>\n",
       "      <td>55.5</td>\n",
       "      <td>2:77</td>\n",
       "      <td>77.0</td>\n",
       "      <td>2.0</td>\n",
       "      <td>6.000000e-11</td>\n",
       "      <td>1.0</td>\n",
       "      <td>46.0</td>\n",
       "      <td>36.84</td>\n",
       "      <td>2egpA00</td>\n",
       "      <td>A</td>\n",
       "      <td>1:79</td>\n",
       "      <td>2egp</td>\n",
       "      <td>1.0</td>\n",
       "      <td>zf-C3HC4_4</td>\n",
       "      <td>RING</td>\n",
       "      <td>77.0</td>\n",
       "      <td>2.0</td>\n",
       "      <td>ASTTSTKKMMEEATCSICLSLMTNPVSINCGHSYCHLCITDFFKNP...</td>\n",
       "      <td>unnamed</td>\n",
       "      <td>74.0</td>\n",
       "      <td>1.0</td>\n",
       "      <td>GSSGSSGNVQEEVTCPICLELLTEPLSLDCGHSLCRACITVSNKEA...</td>\n",
       "      <td>2egp_A|zf-C3HC4_4|1|RING|1:79|2egpA00</td>\n",
       "      <td>2016-08-02 10:43:11.905879</td>\n",
       "      <td>3288098</td>\n",
       "      <td>MASTTSTKKMMEEATCSICLSLMTNPVSINCGHSYCHLCITDFFKN...</td>\n",
       "      <td>B2R862</td>\n",
       "      <td>MASTTSTKKMMEEATCSICLSLMTNPVSINCGHSYCHLCITDFFKN...</td>\n",
       "    </tr>\n",
       "  </tbody>\n",
       "</table>\n",
       "</div>"
      ],
      "text/plain": [
       "   alignment_coverage  alignment_identity  alignment_length  alignment_score  bitscore domain_def_new  domain_end_new  domain_start_new        evalue  gap_opens  mismatches  pc_identity pdb_cath_id pdb_chain pdb_domain_def pdb_id  pdb_pdbfam_idx pdb_pdbfam_name pdb_pfam_clan  q_end  q_start                                               qseq query_id  s_end  s_start                                               sseq                             subject_id            t_date_modified  uniprot_domain_id                            uniprot_domain_sequence uniprot_id                                   uniprot_sequence\n",
       "0           88.311688               39.71              68.0         0.377307      59.3          10:77            77.0              10.0  2.000000e-12        1.0        38.0        39.71     2ecvA00         A           1:85   2ecv             1.0      zf-C3HC4_4          RING   77.0     10.0  MMEEATCSICLSLMTNPVSINCGHSYCHLCITDFFKNPSQKQLRQE...  unnamed   80.0     16.0  VKEEVTCPICLELLTQPLSLDCGHSFCQACLT---ANHKKSMLDKG...  2ecv_A|zf-C3HC4_4|1|RING|1:85|2ecvA00 2016-08-02 10:43:11.905879            3288098  MASTTSTKKMMEEATCSICLSLMTNPVSINCGHSYCHLCITDFFKN...     B2R862  MASTTSTKKMMEEATCSICLSLMTNPVSINCGHSYCHLCITDFFKN...\n",
       "1           98.701299               36.84              76.0         0.394785      55.5           2:77            77.0               2.0  6.000000e-11        1.0        46.0        36.84     2egpA00         A           1:79   2egp             1.0      zf-C3HC4_4          RING   77.0      2.0  ASTTSTKKMMEEATCSICLSLMTNPVSINCGHSYCHLCITDFFKNP...  unnamed   74.0      1.0  GSSGSSGNVQEEVTCPICLELLTEPLSLDCGHSLCRACITVSNKEA...  2egp_A|zf-C3HC4_4|1|RING|1:79|2egpA00 2016-08-02 10:43:11.905879            3288098  MASTTSTKKMMEEATCSICLSLMTNPVSINCGHSYCHLCITDFFKN...     B2R862  MASTTSTKKMMEEATCSICLSLMTNPVSINCGHSYCHLCITDFFKN..."
      ]
     },
     "metadata": {},
     "output_type": "display_data"
    },
    {
     "name": "stdout",
     "output_type": "stream",
     "text": [
      "177795\n",
      "1196\n"
     ]
    }
   ],
   "source": [
    "display(structural_templates.head(2))\n",
    "print(structural_templates.shape[0])\n",
    "print(structural_templates.drop_duplicates(subset=['uniprot_id', 'uniprot_domain_id']).shape[0])"
   ]
  },
  {
   "cell_type": "markdown",
   "metadata": {
    "run_control": {
     "marked": false
    }
   },
   "source": [
    "### a2b / b2a"
   ]
  },
  {
   "cell_type": "code",
   "execution_count": 75,
   "metadata": {
    "collapsed": true,
    "run_control": {
     "marked": false
    }
   },
   "outputs": [],
   "source": [
    "structural_templates['a2b'], structural_templates['b2a'] = list(zip(*(\n",
    "    kmtools.sequence_tools.get_crossmapping(alignment_ref, alignment_alt, skip_mismatch=False)\n",
    "    for alignment_ref, alignment_alt\n",
    "    in structural_templates[['qseq', 'sseq']].values)))"
   ]
  },
  {
   "cell_type": "code",
   "execution_count": 76,
   "metadata": {
    "collapsed": false,
    "run_control": {
     "marked": false
    }
   },
   "outputs": [
    {
     "data": {
      "text/html": [
       "<div>\n",
       "<table border=\"1\" class=\"dataframe\">\n",
       "  <thead>\n",
       "    <tr style=\"text-align: right;\">\n",
       "      <th></th>\n",
       "      <th>alignment_coverage</th>\n",
       "      <th>alignment_identity</th>\n",
       "      <th>alignment_length</th>\n",
       "      <th>alignment_score</th>\n",
       "      <th>bitscore</th>\n",
       "      <th>domain_def_new</th>\n",
       "      <th>domain_end_new</th>\n",
       "      <th>domain_start_new</th>\n",
       "      <th>evalue</th>\n",
       "      <th>gap_opens</th>\n",
       "      <th>mismatches</th>\n",
       "      <th>pc_identity</th>\n",
       "      <th>pdb_cath_id</th>\n",
       "      <th>pdb_chain</th>\n",
       "      <th>pdb_domain_def</th>\n",
       "      <th>pdb_id</th>\n",
       "      <th>pdb_pdbfam_idx</th>\n",
       "      <th>pdb_pdbfam_name</th>\n",
       "      <th>pdb_pfam_clan</th>\n",
       "      <th>q_end</th>\n",
       "      <th>q_start</th>\n",
       "      <th>qseq</th>\n",
       "      <th>query_id</th>\n",
       "      <th>s_end</th>\n",
       "      <th>s_start</th>\n",
       "      <th>sseq</th>\n",
       "      <th>subject_id</th>\n",
       "      <th>t_date_modified</th>\n",
       "      <th>uniprot_domain_id</th>\n",
       "      <th>uniprot_domain_sequence</th>\n",
       "      <th>uniprot_id</th>\n",
       "      <th>uniprot_sequence</th>\n",
       "      <th>a2b</th>\n",
       "      <th>b2a</th>\n",
       "    </tr>\n",
       "  </thead>\n",
       "  <tbody>\n",
       "    <tr>\n",
       "      <th>0</th>\n",
       "      <td>88.311688</td>\n",
       "      <td>39.71</td>\n",
       "      <td>68.0</td>\n",
       "      <td>0.377307</td>\n",
       "      <td>59.3</td>\n",
       "      <td>10:77</td>\n",
       "      <td>77.0</td>\n",
       "      <td>10.0</td>\n",
       "      <td>2.000000e-12</td>\n",
       "      <td>1.0</td>\n",
       "      <td>38.0</td>\n",
       "      <td>39.71</td>\n",
       "      <td>2ecvA00</td>\n",
       "      <td>A</td>\n",
       "      <td>1:85</td>\n",
       "      <td>2ecv</td>\n",
       "      <td>1.0</td>\n",
       "      <td>zf-C3HC4_4</td>\n",
       "      <td>RING</td>\n",
       "      <td>77.0</td>\n",
       "      <td>10.0</td>\n",
       "      <td>MMEEATCSICLSLMTNPVSINCGHSYCHLCITDFFKNPSQKQLRQE...</td>\n",
       "      <td>unnamed</td>\n",
       "      <td>80.0</td>\n",
       "      <td>16.0</td>\n",
       "      <td>VKEEVTCPICLELLTQPLSLDCGHSFCQACLT---ANHKKSMLDKG...</td>\n",
       "      <td>2ecv_A|zf-C3HC4_4|1|RING|1:85|2ecvA00</td>\n",
       "      <td>2016-08-02 10:43:11.905879</td>\n",
       "      <td>3288098</td>\n",
       "      <td>MASTTSTKKMMEEATCSICLSLMTNPVSINCGHSYCHLCITDFFKN...</td>\n",
       "      <td>B2R862</td>\n",
       "      <td>MASTTSTKKMMEEATCSICLSLMTNPVSINCGHSYCHLCITDFFKN...</td>\n",
       "      <td>1,2,3,4,5,6,7,8,9,10,11,12,13,14,15,16,17,18,1...</td>\n",
       "      <td>1,2,3,4,5,6,7,8,9,10,11,12,13,14,15,16,17,18,1...</td>\n",
       "    </tr>\n",
       "    <tr>\n",
       "      <th>1</th>\n",
       "      <td>98.701299</td>\n",
       "      <td>36.84</td>\n",
       "      <td>76.0</td>\n",
       "      <td>0.394785</td>\n",
       "      <td>55.5</td>\n",
       "      <td>2:77</td>\n",
       "      <td>77.0</td>\n",
       "      <td>2.0</td>\n",
       "      <td>6.000000e-11</td>\n",
       "      <td>1.0</td>\n",
       "      <td>46.0</td>\n",
       "      <td>36.84</td>\n",
       "      <td>2egpA00</td>\n",
       "      <td>A</td>\n",
       "      <td>1:79</td>\n",
       "      <td>2egp</td>\n",
       "      <td>1.0</td>\n",
       "      <td>zf-C3HC4_4</td>\n",
       "      <td>RING</td>\n",
       "      <td>77.0</td>\n",
       "      <td>2.0</td>\n",
       "      <td>ASTTSTKKMMEEATCSICLSLMTNPVSINCGHSYCHLCITDFFKNP...</td>\n",
       "      <td>unnamed</td>\n",
       "      <td>74.0</td>\n",
       "      <td>1.0</td>\n",
       "      <td>GSSGSSGNVQEEVTCPICLELLTEPLSLDCGHSLCRACITVSNKEA...</td>\n",
       "      <td>2egp_A|zf-C3HC4_4|1|RING|1:79|2egpA00</td>\n",
       "      <td>2016-08-02 10:43:11.905879</td>\n",
       "      <td>3288098</td>\n",
       "      <td>MASTTSTKKMMEEATCSICLSLMTNPVSINCGHSYCHLCITDFFKN...</td>\n",
       "      <td>B2R862</td>\n",
       "      <td>MASTTSTKKMMEEATCSICLSLMTNPVSINCGHSYCHLCITDFFKN...</td>\n",
       "      <td>1,2,3,4,5,6,7,8,9,10,11,12,13,14,15,16,17,18,1...</td>\n",
       "      <td>1,2,3,4,5,6,7,8,9,10,11,12,13,14,15,16,17,18,1...</td>\n",
       "    </tr>\n",
       "  </tbody>\n",
       "</table>\n",
       "</div>"
      ],
      "text/plain": [
       "   alignment_coverage  alignment_identity  alignment_length  alignment_score  bitscore domain_def_new  domain_end_new  domain_start_new        evalue  gap_opens  mismatches  pc_identity pdb_cath_id pdb_chain pdb_domain_def pdb_id  pdb_pdbfam_idx pdb_pdbfam_name pdb_pfam_clan  q_end  q_start                                               qseq query_id  s_end  s_start                                               sseq                             subject_id            t_date_modified  uniprot_domain_id                            uniprot_domain_sequence uniprot_id                                   uniprot_sequence                                                a2b                                                b2a\n",
       "0           88.311688               39.71              68.0         0.377307      59.3          10:77            77.0              10.0  2.000000e-12        1.0        38.0        39.71     2ecvA00         A           1:85   2ecv             1.0      zf-C3HC4_4          RING   77.0     10.0  MMEEATCSICLSLMTNPVSINCGHSYCHLCITDFFKNPSQKQLRQE...  unnamed   80.0     16.0  VKEEVTCPICLELLTQPLSLDCGHSFCQACLT---ANHKKSMLDKG...  2ecv_A|zf-C3HC4_4|1|RING|1:85|2ecvA00 2016-08-02 10:43:11.905879            3288098  MASTTSTKKMMEEATCSICLSLMTNPVSINCGHSYCHLCITDFFKN...     B2R862  MASTTSTKKMMEEATCSICLSLMTNPVSINCGHSYCHLCITDFFKN...  1,2,3,4,5,6,7,8,9,10,11,12,13,14,15,16,17,18,1...  1,2,3,4,5,6,7,8,9,10,11,12,13,14,15,16,17,18,1...\n",
       "1           98.701299               36.84              76.0         0.394785      55.5           2:77            77.0               2.0  6.000000e-11        1.0        46.0        36.84     2egpA00         A           1:79   2egp             1.0      zf-C3HC4_4          RING   77.0      2.0  ASTTSTKKMMEEATCSICLSLMTNPVSINCGHSYCHLCITDFFKNP...  unnamed   74.0      1.0  GSSGSSGNVQEEVTCPICLELLTEPLSLDCGHSLCRACITVSNKEA...  2egp_A|zf-C3HC4_4|1|RING|1:79|2egpA00 2016-08-02 10:43:11.905879            3288098  MASTTSTKKMMEEATCSICLSLMTNPVSINCGHSYCHLCITDFFKN...     B2R862  MASTTSTKKMMEEATCSICLSLMTNPVSINCGHSYCHLCITDFFKN...  1,2,3,4,5,6,7,8,9,10,11,12,13,14,15,16,17,18,1...  1,2,3,4,5,6,7,8,9,10,11,12,13,14,15,16,17,18,1..."
      ]
     },
     "execution_count": 76,
     "metadata": {},
     "output_type": "execute_result"
    }
   ],
   "source": [
    "structural_templates.head(2)"
   ]
  },
  {
   "cell_type": "markdown",
   "metadata": {
    "run_control": {
     "marked": false
    }
   },
   "source": [
    "### uniprot_pairs"
   ]
  },
  {
   "cell_type": "code",
   "execution_count": 77,
   "metadata": {
    "collapsed": false,
    "run_control": {
     "marked": false
    }
   },
   "outputs": [],
   "source": [
    "# Protein pairs\n",
    "uniprot_pairs = []\n",
    "for dataset in DATASETS:\n",
    "    uniprot_pairs.append(DATA[dataset][['uniprot_id', 'partner_uniprot_id']])\n",
    "uniprot_pairs = pd.concat(uniprot_pairs).drop_duplicates()"
   ]
  },
  {
   "cell_type": "code",
   "execution_count": 45,
   "metadata": {
    "collapsed": false,
    "run_control": {
     "marked": false
    }
   },
   "outputs": [
    {
     "data": {
      "text/html": [
       "<div>\n",
       "<table border=\"1\" class=\"dataframe\">\n",
       "  <thead>\n",
       "    <tr style=\"text-align: right;\">\n",
       "      <th></th>\n",
       "      <th>uniprot_id</th>\n",
       "      <th>partner_uniprot_id</th>\n",
       "    </tr>\n",
       "  </thead>\n",
       "  <tbody>\n",
       "    <tr>\n",
       "      <th>0</th>\n",
       "      <td>A0NA69</td>\n",
       "      <td>P01820</td>\n",
       "    </tr>\n",
       "    <tr>\n",
       "      <th>3</th>\n",
       "      <td>P00044</td>\n",
       "      <td>P00431</td>\n",
       "    </tr>\n",
       "    <tr>\n",
       "      <th>6</th>\n",
       "      <td>P00431</td>\n",
       "      <td>P00004</td>\n",
       "    </tr>\n",
       "    <tr>\n",
       "      <th>12</th>\n",
       "      <td>P00431</td>\n",
       "      <td>P00044</td>\n",
       "    </tr>\n",
       "    <tr>\n",
       "      <th>15</th>\n",
       "      <td>P00648</td>\n",
       "      <td>P11540</td>\n",
       "    </tr>\n",
       "  </tbody>\n",
       "</table>\n",
       "</div>"
      ],
      "text/plain": [
       "   uniprot_id partner_uniprot_id\n",
       "0      A0NA69             P01820\n",
       "3      P00044             P00431\n",
       "6      P00431             P00004\n",
       "12     P00431             P00044\n",
       "15     P00648             P11540"
      ]
     },
     "metadata": {},
     "output_type": "display_data"
    },
    {
     "name": "stdout",
     "output_type": "stream",
     "text": [
      "999\n"
     ]
    }
   ],
   "source": [
    "display(uniprot_pairs.head())\n",
    "print(uniprot_pairs.shape[0])"
   ]
  },
  {
   "cell_type": "code",
   "execution_count": 46,
   "metadata": {
    "collapsed": false,
    "run_control": {
     "marked": false
    }
   },
   "outputs": [
    {
     "name": "stdout",
     "output_type": "stream",
     "text": [
      "Rows:                                                       999\n",
      "Protein pairs:                                              999\n"
     ]
    }
   ],
   "source": [
    "# All uniprot pairs from training set\n",
    "print2(\"Rows:\", uniprot_pairs.shape[0])\n",
    "print2(\"Protein pairs:\", uniprot_pairs.drop_duplicates(['uniprot_id', 'partner_uniprot_id']).shape[0])"
   ]
  },
  {
   "cell_type": "markdown",
   "metadata": {
    "run_control": {
     "marked": false
    }
   },
   "source": [
    "### uniprot_pairs_wtemplates"
   ]
  },
  {
   "cell_type": "code",
   "execution_count": 78,
   "metadata": {
    "collapsed": true,
    "run_control": {
     "marked": false
    }
   },
   "outputs": [],
   "source": [
    "uniprot_pairs_wtemplates = (\n",
    "    uniprot_pairs\n",
    "    .merge(\n",
    "        structural_templates,\n",
    "        on=['uniprot_id'])\n",
    "    .merge(\n",
    "        structural_templates.rename(columns={'uniprot_id': 'partner_uniprot_id'}),\n",
    "        on=['partner_uniprot_id'],\n",
    "        suffixes=('_1', '_2'))\n",
    ")"
   ]
  },
  {
   "cell_type": "code",
   "execution_count": 79,
   "metadata": {
    "collapsed": false,
    "run_control": {
     "marked": false
    }
   },
   "outputs": [
    {
     "name": "stdout",
     "output_type": "stream",
     "text": [
      "Rows:                                                       65384472\n",
      "Protein pairs:                                              649\n",
      "Protein domain pairs:                                       1752\n",
      "Domain pairs:                                               1752\n"
     ]
    }
   ],
   "source": [
    "# Pairs where each protein has at least one domain with a template\n",
    "print2(\"Rows:\", uniprot_pairs_wtemplates.shape[0])\n",
    "print2(\"Protein pairs:\", uniprot_pairs_wtemplates.drop_duplicates(\n",
    "        ['uniprot_id', 'partner_uniprot_id']).shape[0])\n",
    "print2(\"Protein domain pairs:\", uniprot_pairs_wtemplates.drop_duplicates(\n",
    "        ['uniprot_id', 'partner_uniprot_id', 'uniprot_domain_id_1', 'uniprot_domain_id_2']).shape[0])\n",
    "print2(\"Domain pairs:\", uniprot_pairs_wtemplates.drop_duplicates(\n",
    "        ['uniprot_domain_id_1', 'uniprot_domain_id_2']).shape[0])"
   ]
  },
  {
   "cell_type": "markdown",
   "metadata": {
    "run_control": {
     "marked": false
    }
   },
   "source": [
    "### uniprot_pairs_samepdb"
   ]
  },
  {
   "cell_type": "code",
   "execution_count": 80,
   "metadata": {
    "collapsed": true,
    "run_control": {
     "marked": false
    }
   },
   "outputs": [],
   "source": [
    "uniprot_pairs_samepdb = (\n",
    "    uniprot_pairs_wtemplates[\n",
    "        (uniprot_pairs_wtemplates['pdb_id_1'] == uniprot_pairs_wtemplates['pdb_id_2']) &\n",
    "        (uniprot_pairs_wtemplates['pdb_chain_1'] != uniprot_pairs_wtemplates['pdb_chain_2'])\n",
    "    ]\n",
    ")"
   ]
  },
  {
   "cell_type": "code",
   "execution_count": 81,
   "metadata": {
    "collapsed": false,
    "run_control": {
     "marked": false
    }
   },
   "outputs": [
    {
     "name": "stdout",
     "output_type": "stream",
     "text": [
      "Rows:                                                       32654\n",
      "Protein pairs:                                              191\n",
      "Protein domain pairs:                                       278\n",
      "Domain pairs:                                               278\n"
     ]
    }
   ],
   "source": [
    "print2(\"Rows:\", uniprot_pairs_samepdb.shape[0])\n",
    "print2(\"Protein pairs:\", uniprot_pairs_samepdb.drop_duplicates(\n",
    "        ['uniprot_id', 'partner_uniprot_id']).shape[0])  # 191\n",
    "print2(\"Protein domain pairs:\", uniprot_pairs_samepdb.drop_duplicates(\n",
    "        ['uniprot_id', 'partner_uniprot_id', 'uniprot_domain_id_1', 'uniprot_domain_id_2']).shape[0])\n",
    "print2(\"Domain pairs:\", uniprot_pairs_samepdb.drop_duplicates(\n",
    "        ['uniprot_domain_id_1', 'uniprot_domain_id_2']).shape[0])"
   ]
  },
  {
   "cell_type": "code",
   "execution_count": 82,
   "metadata": {
    "collapsed": false,
    "run_control": {
     "marked": false
    }
   },
   "outputs": [
    {
     "data": {
      "text/html": [
       "<div>\n",
       "<table border=\"1\" class=\"dataframe\">\n",
       "  <thead>\n",
       "    <tr style=\"text-align: right;\">\n",
       "      <th></th>\n",
       "      <th>uniprot_id</th>\n",
       "      <th>partner_uniprot_id</th>\n",
       "      <th>alignment_coverage_1</th>\n",
       "      <th>alignment_identity_1</th>\n",
       "      <th>alignment_length_1</th>\n",
       "      <th>alignment_score_1</th>\n",
       "      <th>bitscore_1</th>\n",
       "      <th>domain_def_new_1</th>\n",
       "      <th>domain_end_new_1</th>\n",
       "      <th>domain_start_new_1</th>\n",
       "      <th>evalue_1</th>\n",
       "      <th>gap_opens_1</th>\n",
       "      <th>mismatches_1</th>\n",
       "      <th>pc_identity_1</th>\n",
       "      <th>pdb_cath_id_1</th>\n",
       "      <th>pdb_chain_1</th>\n",
       "      <th>pdb_domain_def_1</th>\n",
       "      <th>pdb_id_1</th>\n",
       "      <th>pdb_pdbfam_idx_1</th>\n",
       "      <th>pdb_pdbfam_name_1</th>\n",
       "      <th>pdb_pfam_clan_1</th>\n",
       "      <th>q_end_1</th>\n",
       "      <th>q_start_1</th>\n",
       "      <th>qseq_1</th>\n",
       "      <th>query_id_1</th>\n",
       "      <th>s_end_1</th>\n",
       "      <th>s_start_1</th>\n",
       "      <th>sseq_1</th>\n",
       "      <th>subject_id_1</th>\n",
       "      <th>t_date_modified_1</th>\n",
       "      <th>uniprot_domain_id_1</th>\n",
       "      <th>uniprot_domain_sequence_1</th>\n",
       "      <th>uniprot_sequence_1</th>\n",
       "      <th>a2b_1</th>\n",
       "      <th>b2a_1</th>\n",
       "      <th>alignment_coverage_2</th>\n",
       "      <th>alignment_identity_2</th>\n",
       "      <th>alignment_length_2</th>\n",
       "      <th>alignment_score_2</th>\n",
       "      <th>bitscore_2</th>\n",
       "      <th>domain_def_new_2</th>\n",
       "      <th>domain_end_new_2</th>\n",
       "      <th>domain_start_new_2</th>\n",
       "      <th>evalue_2</th>\n",
       "      <th>gap_opens_2</th>\n",
       "      <th>mismatches_2</th>\n",
       "      <th>pc_identity_2</th>\n",
       "      <th>pdb_cath_id_2</th>\n",
       "      <th>pdb_chain_2</th>\n",
       "      <th>pdb_domain_def_2</th>\n",
       "      <th>pdb_id_2</th>\n",
       "      <th>pdb_pdbfam_idx_2</th>\n",
       "      <th>pdb_pdbfam_name_2</th>\n",
       "      <th>pdb_pfam_clan_2</th>\n",
       "      <th>q_end_2</th>\n",
       "      <th>q_start_2</th>\n",
       "      <th>qseq_2</th>\n",
       "      <th>query_id_2</th>\n",
       "      <th>s_end_2</th>\n",
       "      <th>s_start_2</th>\n",
       "      <th>sseq_2</th>\n",
       "      <th>subject_id_2</th>\n",
       "      <th>t_date_modified_2</th>\n",
       "      <th>uniprot_domain_id_2</th>\n",
       "      <th>uniprot_domain_sequence_2</th>\n",
       "      <th>uniprot_sequence_2</th>\n",
       "      <th>a2b_2</th>\n",
       "      <th>b2a_2</th>\n",
       "    </tr>\n",
       "  </thead>\n",
       "  <tbody>\n",
       "    <tr>\n",
       "      <th>11002</th>\n",
       "      <td>A0NA69</td>\n",
       "      <td>P01820</td>\n",
       "      <td>94.174757</td>\n",
       "      <td>98.97</td>\n",
       "      <td>97.0</td>\n",
       "      <td>0.932533</td>\n",
       "      <td>202.0</td>\n",
       "      <td>20:116</td>\n",
       "      <td>116.0</td>\n",
       "      <td>20.0</td>\n",
       "      <td>5.000000e-66</td>\n",
       "      <td>0.0</td>\n",
       "      <td>1.0</td>\n",
       "      <td>98.97</td>\n",
       "      <td>4k2uI00</td>\n",
       "      <td>I</td>\n",
       "      <td>1:213</td>\n",
       "      <td>4k2u</td>\n",
       "      <td>1.0</td>\n",
       "      <td>V-set+C1-set</td>\n",
       "      <td>Ig</td>\n",
       "      <td>97.0</td>\n",
       "      <td>1.0</td>\n",
       "      <td>EVQLQQSGAELVKPGASVKLSCTASGFNIKDTYMHWVKQRPEQGLE...</td>\n",
       "      <td>unnamed</td>\n",
       "      <td>97.0</td>\n",
       "      <td>1.0</td>\n",
       "      <td>EVQLQQSGAELVKPGASVKLSCTASGFNIKDNYMHWVKQRPEQGLE...</td>\n",
       "      <td>4k2u_I|V-set+C1-set|1|Ig|1:213|4k2uI00</td>\n",
       "      <td>2016-08-02 10:43:20.429652</td>\n",
       "      <td>51959162</td>\n",
       "      <td>EVQLQQSGAELVKPGASVKLSCTASGFNIKDTYMHWVKQRPEQGLE...</td>\n",
       "      <td>MKCSWVIFFLMAVVTGVNSEVQLQQSGAELVKPGASVKLSCTASGF...</td>\n",
       "      <td>1,2,3,4,5,6,7,8,9,10,11,12,13,14,15,16,17,18,1...</td>\n",
       "      <td>1,2,3,4,5,6,7,8,9,10,11,12,13,14,15,16,17,18,1...</td>\n",
       "      <td>100.000000</td>\n",
       "      <td>40.21</td>\n",
       "      <td>97.0</td>\n",
       "      <td>0.431995</td>\n",
       "      <td>80.1</td>\n",
       "      <td>20:115</td>\n",
       "      <td>115.0</td>\n",
       "      <td>20.0</td>\n",
       "      <td>5.000000e-19</td>\n",
       "      <td>2.0</td>\n",
       "      <td>54.0</td>\n",
       "      <td>40.21</td>\n",
       "      <td>4k2uH00</td>\n",
       "      <td>H</td>\n",
       "      <td>1:212</td>\n",
       "      <td>4k2u</td>\n",
       "      <td>1.0</td>\n",
       "      <td>V-set+C1-set</td>\n",
       "      <td>Ig</td>\n",
       "      <td>96.0</td>\n",
       "      <td>1.0</td>\n",
       "      <td>QVQLKESGPGLVAPSQSLSITCTVSGFSLTGYGVNWVRQPPGKGLE...</td>\n",
       "      <td>unnamed</td>\n",
       "      <td>94.0</td>\n",
       "      <td>1.0</td>\n",
       "      <td>EVQLQQSGAELVKPGASVKLSCTASGFNIKDNYMHWVKQRP---LE...</td>\n",
       "      <td>4k2u_H|V-set+C1-set|1|Ig|1:212|4k2uH00</td>\n",
       "      <td>2016-08-02 10:43:23.217894</td>\n",
       "      <td>70394142</td>\n",
       "      <td>QVQLKESGPGLVAPSQSLSITCTVSGFSLTGYGVNWVRQPPGKGLE...</td>\n",
       "      <td>MAVLALLFCLVTFPSCILSQVQLKESGPGLVAPSQSLSITCTVSGF...</td>\n",
       "      <td>1,2,3,4,5,6,7,8,9,10,11,12,13,14,15,16,17,18,1...</td>\n",
       "      <td>1,2,3,4,5,6,7,8,9,10,11,12,13,14,15,16,17,18,1...</td>\n",
       "    </tr>\n",
       "    <tr>\n",
       "      <th>19196</th>\n",
       "      <td>A0NA69</td>\n",
       "      <td>P01820</td>\n",
       "      <td>93.203883</td>\n",
       "      <td>97.92</td>\n",
       "      <td>96.0</td>\n",
       "      <td>0.913622</td>\n",
       "      <td>196.0</td>\n",
       "      <td>20:115</td>\n",
       "      <td>115.0</td>\n",
       "      <td>20.0</td>\n",
       "      <td>4.000000e-65</td>\n",
       "      <td>0.0</td>\n",
       "      <td>2.0</td>\n",
       "      <td>97.92</td>\n",
       "      <td>3t3pH00</td>\n",
       "      <td>H</td>\n",
       "      <td>1:119</td>\n",
       "      <td>3t3p</td>\n",
       "      <td>1.0</td>\n",
       "      <td>V-set</td>\n",
       "      <td>Ig</td>\n",
       "      <td>96.0</td>\n",
       "      <td>1.0</td>\n",
       "      <td>EVQLQQSGAELVKPGASVKLSCTASGFNIKDTYMHWVKQRPEQGLE...</td>\n",
       "      <td>unnamed</td>\n",
       "      <td>96.0</td>\n",
       "      <td>1.0</td>\n",
       "      <td>EVQLQQSGAELVKPGASVKLSCTASGFNIKDTYVHWVKQRPEQGLE...</td>\n",
       "      <td>3t3p_H|V-set|1|Ig|1:119|3t3pH00</td>\n",
       "      <td>2016-08-02 10:43:20.429652</td>\n",
       "      <td>51959162</td>\n",
       "      <td>EVQLQQSGAELVKPGASVKLSCTASGFNIKDTYMHWVKQRPEQGLE...</td>\n",
       "      <td>MKCSWVIFFLMAVVTGVNSEVQLQQSGAELVKPGASVKLSCTASGF...</td>\n",
       "      <td>1,2,3,4,5,6,7,8,9,10,11,12,13,14,15,16,17,18,1...</td>\n",
       "      <td>1,2,3,4,5,6,7,8,9,10,11,12,13,14,15,16,17,18,1...</td>\n",
       "      <td>98.958333</td>\n",
       "      <td>41.67</td>\n",
       "      <td>96.0</td>\n",
       "      <td>0.441221</td>\n",
       "      <td>86.7</td>\n",
       "      <td>20:114</td>\n",
       "      <td>114.0</td>\n",
       "      <td>20.0</td>\n",
       "      <td>2.000000e-21</td>\n",
       "      <td>1.0</td>\n",
       "      <td>55.0</td>\n",
       "      <td>41.67</td>\n",
       "      <td>3t3pE02</td>\n",
       "      <td>E</td>\n",
       "      <td>1:216</td>\n",
       "      <td>3t3p</td>\n",
       "      <td>1.0</td>\n",
       "      <td>V-set+C1-set</td>\n",
       "      <td>V-set+C1-set</td>\n",
       "      <td>95.0</td>\n",
       "      <td>1.0</td>\n",
       "      <td>QVQLKESGPGLVAPSQSLSITCTVSGFSLTGYGVNWVRQPPGKGLE...</td>\n",
       "      <td>unnamed</td>\n",
       "      <td>96.0</td>\n",
       "      <td>1.0</td>\n",
       "      <td>EVQLQQSGAELVKPGASVKLSCTASGFNIKDTYVHWVKQRPEQGLE...</td>\n",
       "      <td>3t3p_E|V-set+C1-set|1|V-set+C1-set|1:216|3t3pE02</td>\n",
       "      <td>2016-08-02 10:43:23.217894</td>\n",
       "      <td>70394142</td>\n",
       "      <td>QVQLKESGPGLVAPSQSLSITCTVSGFSLTGYGVNWVRQPPGKGLE...</td>\n",
       "      <td>MAVLALLFCLVTFPSCILSQVQLKESGPGLVAPSQSLSITCTVSGF...</td>\n",
       "      <td>1,2,3,4,5,6,7,8,9,10,11,12,13,14,15,16,17,18,1...</td>\n",
       "      <td>1,2,3,4,5,6,7,8,9,10,11,12,13,14,15,16,17,18,1...</td>\n",
       "    </tr>\n",
       "  </tbody>\n",
       "</table>\n",
       "</div>"
      ],
      "text/plain": [
       "      uniprot_id partner_uniprot_id  alignment_coverage_1  alignment_identity_1  alignment_length_1  alignment_score_1  bitscore_1 domain_def_new_1  domain_end_new_1  domain_start_new_1      evalue_1  gap_opens_1  mismatches_1  pc_identity_1 pdb_cath_id_1 pdb_chain_1 pdb_domain_def_1 pdb_id_1  pdb_pdbfam_idx_1 pdb_pdbfam_name_1 pdb_pfam_clan_1  q_end_1  q_start_1                                             qseq_1 query_id_1  s_end_1  s_start_1                                             sseq_1                            subject_id_1          t_date_modified_1  uniprot_domain_id_1                          uniprot_domain_sequence_1                                 uniprot_sequence_1                                              a2b_1                                              b2a_1  alignment_coverage_2  alignment_identity_2  alignment_length_2  alignment_score_2  bitscore_2 domain_def_new_2  domain_end_new_2  domain_start_new_2      evalue_2  gap_opens_2  mismatches_2  pc_identity_2  \\\n",
       "11002     A0NA69             P01820             94.174757                 98.97                97.0           0.932533       202.0           20:116             116.0                20.0  5.000000e-66          0.0           1.0          98.97       4k2uI00           I            1:213     4k2u               1.0      V-set+C1-set              Ig     97.0        1.0  EVQLQQSGAELVKPGASVKLSCTASGFNIKDTYMHWVKQRPEQGLE...    unnamed     97.0        1.0  EVQLQQSGAELVKPGASVKLSCTASGFNIKDNYMHWVKQRPEQGLE...  4k2u_I|V-set+C1-set|1|Ig|1:213|4k2uI00 2016-08-02 10:43:20.429652             51959162  EVQLQQSGAELVKPGASVKLSCTASGFNIKDTYMHWVKQRPEQGLE...  MKCSWVIFFLMAVVTGVNSEVQLQQSGAELVKPGASVKLSCTASGF...  1,2,3,4,5,6,7,8,9,10,11,12,13,14,15,16,17,18,1...  1,2,3,4,5,6,7,8,9,10,11,12,13,14,15,16,17,18,1...            100.000000                 40.21                97.0           0.431995        80.1           20:115             115.0                20.0  5.000000e-19          2.0          54.0          40.21   \n",
       "19196     A0NA69             P01820             93.203883                 97.92                96.0           0.913622       196.0           20:115             115.0                20.0  4.000000e-65          0.0           2.0          97.92       3t3pH00           H            1:119     3t3p               1.0             V-set              Ig     96.0        1.0  EVQLQQSGAELVKPGASVKLSCTASGFNIKDTYMHWVKQRPEQGLE...    unnamed     96.0        1.0  EVQLQQSGAELVKPGASVKLSCTASGFNIKDTYVHWVKQRPEQGLE...         3t3p_H|V-set|1|Ig|1:119|3t3pH00 2016-08-02 10:43:20.429652             51959162  EVQLQQSGAELVKPGASVKLSCTASGFNIKDTYMHWVKQRPEQGLE...  MKCSWVIFFLMAVVTGVNSEVQLQQSGAELVKPGASVKLSCTASGF...  1,2,3,4,5,6,7,8,9,10,11,12,13,14,15,16,17,18,1...  1,2,3,4,5,6,7,8,9,10,11,12,13,14,15,16,17,18,1...             98.958333                 41.67                96.0           0.441221        86.7           20:114             114.0                20.0  2.000000e-21          1.0          55.0          41.67   \n",
       "\n",
       "      pdb_cath_id_2 pdb_chain_2 pdb_domain_def_2 pdb_id_2  pdb_pdbfam_idx_2 pdb_pdbfam_name_2 pdb_pfam_clan_2  q_end_2  q_start_2                                             qseq_2 query_id_2  s_end_2  s_start_2                                             sseq_2                                      subject_id_2          t_date_modified_2  uniprot_domain_id_2                          uniprot_domain_sequence_2                                 uniprot_sequence_2                                              a2b_2                                              b2a_2  \n",
       "11002       4k2uH00           H            1:212     4k2u               1.0      V-set+C1-set              Ig     96.0        1.0  QVQLKESGPGLVAPSQSLSITCTVSGFSLTGYGVNWVRQPPGKGLE...    unnamed     94.0        1.0  EVQLQQSGAELVKPGASVKLSCTASGFNIKDNYMHWVKQRP---LE...            4k2u_H|V-set+C1-set|1|Ig|1:212|4k2uH00 2016-08-02 10:43:23.217894             70394142  QVQLKESGPGLVAPSQSLSITCTVSGFSLTGYGVNWVRQPPGKGLE...  MAVLALLFCLVTFPSCILSQVQLKESGPGLVAPSQSLSITCTVSGF...  1,2,3,4,5,6,7,8,9,10,11,12,13,14,15,16,17,18,1...  1,2,3,4,5,6,7,8,9,10,11,12,13,14,15,16,17,18,1...  \n",
       "19196       3t3pE02           E            1:216     3t3p               1.0      V-set+C1-set    V-set+C1-set     95.0        1.0  QVQLKESGPGLVAPSQSLSITCTVSGFSLTGYGVNWVRQPPGKGLE...    unnamed     96.0        1.0  EVQLQQSGAELVKPGASVKLSCTASGFNIKDTYVHWVKQRPEQGLE...  3t3p_E|V-set+C1-set|1|V-set+C1-set|1:216|3t3pE02 2016-08-02 10:43:23.217894             70394142  QVQLKESGPGLVAPSQSLSITCTVSGFSLTGYGVNWVRQPPGKGLE...  MAVLALLFCLVTFPSCILSQVQLKESGPGLVAPSQSLSITCTVSGF...  1,2,3,4,5,6,7,8,9,10,11,12,13,14,15,16,17,18,1...  1,2,3,4,5,6,7,8,9,10,11,12,13,14,15,16,17,18,1...  "
      ]
     },
     "execution_count": 82,
     "metadata": {},
     "output_type": "execute_result"
    }
   ],
   "source": [
    "uniprot_pairs_samepdb.head(2)"
   ]
  },
  {
   "cell_type": "markdown",
   "metadata": {
    "run_control": {
     "marked": false
    }
   },
   "source": [
    "### uniprot_pairs_interacting\n",
    "\n",
    "Interacting on the *PDB chain level*."
   ]
  },
  {
   "cell_type": "code",
   "execution_count": 692,
   "metadata": {
    "collapsed": true,
    "run_control": {
     "marked": false
    }
   },
   "outputs": [],
   "source": [
    "pdb_ids = uniprot_pairs_samepdb['pdb_id_1'].drop_duplicates().values.tolist()"
   ]
  },
  {
   "cell_type": "code",
   "execution_count": 53,
   "metadata": {
    "collapsed": false,
    "run_control": {
     "marked": false
    }
   },
   "outputs": [],
   "source": [
    "# Read all PDB structures (this takes a loong time....)\n",
    "pdb_structures = {\n",
    "    pdb_id: (\n",
    "        elaspic.structure_tools.get_pdb_structure(\n",
    "            op.join(PDB_DIR, 'pdb' + pdb_id + '.ent.gz'), pdb_id, True))\n",
    "    for pdb_id in pdb_ids\n",
    "}"
   ]
  },
  {
   "cell_type": "code",
   "execution_count": 693,
   "metadata": {
    "collapsed": false,
    "run_control": {
     "marked": false
    }
   },
   "outputs": [
    {
     "data": {
      "text/plain": [
       "1723"
      ]
     },
     "execution_count": 693,
     "metadata": {},
     "output_type": "execute_result"
    }
   ],
   "source": [
    "len(pdb_structures)"
   ]
  },
  {
   "cell_type": "code",
   "execution_count": 55,
   "metadata": {
    "collapsed": false,
    "run_control": {
     "marked": false
    }
   },
   "outputs": [],
   "source": [
    "pdb_interactions = {\n",
    "    pdb_id: elaspic.structure_tools.get_interacting_residues(\n",
    "        pdb_structures[pdb_id].child_list[0], r_cutoff=6, skip_hetatm_chains=False)\n",
    "    for pdb_id in pdb_ids\n",
    "}"
   ]
  },
  {
   "cell_type": "code",
   "execution_count": 694,
   "metadata": {
    "collapsed": false,
    "run_control": {
     "marked": false
    },
    "scrolled": true
   },
   "outputs": [],
   "source": [
    "columns = [\n",
    "    'pdb_id_1', 'chain_idx_1', 'pdb_chain_1', 'residue_idx_1', 'residue_resname_1', 'residue_aa_1',\n",
    "    'pdb_id_2', 'chain_idx_2', 'pdb_chain_2', 'residue_idx_2', 'residue_resname_2', 'residue_aa_2',\n",
    "]\n",
    "rows = []\n",
    "\n",
    "for pdb_id in pdb_ids:\n",
    "    for chain_1 in pdb_interactions[pdb_id].keys():\n",
    "        for chain_2 in pdb_interactions[pdb_id][chain_1]:\n",
    "            row = [pdb_id] + list(chain_1) + [pdb_id] + list(chain_2)\n",
    "            rows.append(row)\n",
    "            row = [pdb_id] + list(chain_2) + [pdb_id] + list(chain_1)\n",
    "            rows.append(row)\n",
    "\n",
    "pdb_chain_interactions = pd.DataFrame(rows, columns=columns)"
   ]
  },
  {
   "cell_type": "code",
   "execution_count": 695,
   "metadata": {
    "collapsed": false,
    "run_control": {
     "marked": false
    },
    "scrolled": true
   },
   "outputs": [
    {
     "data": {
      "text/html": [
       "<div>\n",
       "<table border=\"1\" class=\"dataframe\">\n",
       "  <thead>\n",
       "    <tr style=\"text-align: right;\">\n",
       "      <th></th>\n",
       "      <th>pdb_id_1</th>\n",
       "      <th>chain_idx_1</th>\n",
       "      <th>pdb_chain_1</th>\n",
       "      <th>residue_idx_1</th>\n",
       "      <th>residue_resname_1</th>\n",
       "      <th>residue_aa_1</th>\n",
       "      <th>pdb_id_2</th>\n",
       "      <th>chain_idx_2</th>\n",
       "      <th>pdb_chain_2</th>\n",
       "      <th>residue_idx_2</th>\n",
       "      <th>residue_resname_2</th>\n",
       "      <th>residue_aa_2</th>\n",
       "    </tr>\n",
       "  </thead>\n",
       "  <tbody>\n",
       "    <tr>\n",
       "      <th>0</th>\n",
       "      <td>4k2u</td>\n",
       "      <td>0</td>\n",
       "      <td>A</td>\n",
       "      <td>143</td>\n",
       "      <td>160</td>\n",
       "      <td>K</td>\n",
       "      <td>4k2u</td>\n",
       "      <td>2</td>\n",
       "      <td>H</td>\n",
       "      <td>32</td>\n",
       "      <td>33</td>\n",
       "      <td>Y</td>\n",
       "    </tr>\n",
       "    <tr>\n",
       "      <th>1</th>\n",
       "      <td>4k2u</td>\n",
       "      <td>2</td>\n",
       "      <td>H</td>\n",
       "      <td>32</td>\n",
       "      <td>33</td>\n",
       "      <td>Y</td>\n",
       "      <td>4k2u</td>\n",
       "      <td>0</td>\n",
       "      <td>A</td>\n",
       "      <td>143</td>\n",
       "      <td>160</td>\n",
       "      <td>K</td>\n",
       "    </tr>\n",
       "  </tbody>\n",
       "</table>\n",
       "</div>"
      ],
      "text/plain": [
       "  pdb_id_1  chain_idx_1 pdb_chain_1  residue_idx_1 residue_resname_1 residue_aa_1 pdb_id_2  chain_idx_2 pdb_chain_2  residue_idx_2 residue_resname_2 residue_aa_2\n",
       "0     4k2u            0           A            143               160            K     4k2u            2           H             32                33            Y\n",
       "1     4k2u            2           H             32                33            Y     4k2u            0           A            143               160            K"
      ]
     },
     "metadata": {},
     "output_type": "display_data"
    },
    {
     "name": "stdout",
     "output_type": "stream",
     "text": [
      "1540754\n"
     ]
    }
   ],
   "source": [
    "display(pdb_chain_interactions.head(2))\n",
    "print(pdb_chain_interactions.shape[0])"
   ]
  },
  {
   "cell_type": "code",
   "execution_count": 696,
   "metadata": {
    "collapsed": false,
    "run_control": {
     "marked": false
    }
   },
   "outputs": [],
   "source": [
    "assert (uniprot_pairs_samepdb['pdb_id_1'] == uniprot_pairs_samepdb['pdb_id_2']).all()"
   ]
  },
  {
   "cell_type": "code",
   "execution_count": 697,
   "metadata": {
    "collapsed": true,
    "run_control": {
     "marked": false
    }
   },
   "outputs": [],
   "source": [
    "uniprot_pairs_interacting = (\n",
    "    uniprot_pairs_samepdb\n",
    "    .merge(pdb_chain_interactions, on=['pdb_id_1', 'pdb_chain_1', 'pdb_id_2', 'pdb_chain_2'])\n",
    ")"
   ]
  },
  {
   "cell_type": "code",
   "execution_count": 698,
   "metadata": {
    "collapsed": false,
    "run_control": {
     "marked": false
    }
   },
   "outputs": [
    {
     "data": {
      "text/plain": [
       "1953292"
      ]
     },
     "execution_count": 698,
     "metadata": {},
     "output_type": "execute_result"
    }
   ],
   "source": [
    "uniprot_pairs_interacting.shape[0]\n",
    "# 1953292"
   ]
  },
  {
   "cell_type": "code",
   "execution_count": 699,
   "metadata": {
    "collapsed": false,
    "run_control": {
     "marked": false
    }
   },
   "outputs": [
    {
     "name": "stdout",
     "output_type": "stream",
     "text": [
      "Rows:                                                       1953292\n",
      "Protein pairs:                                              185 <--\n",
      "Protein domain pairs:                                       269\n",
      "Domain pairs:                                               269\n"
     ]
    }
   ],
   "source": [
    "print2(\"Rows:\", uniprot_pairs_interacting.shape[0])\n",
    "print2(\"Protein pairs:\", uniprot_pairs_interacting.drop_duplicates(\n",
    "        ['uniprot_id', 'partner_uniprot_id']).shape[0], '<--')  # 185\n",
    "print2(\"Protein domain pairs:\", uniprot_pairs_interacting.drop_duplicates(\n",
    "        ['uniprot_id', 'partner_uniprot_id', 'uniprot_domain_id_1', 'uniprot_domain_id_2']).shape[0])\n",
    "print2(\"Domain pairs:\", uniprot_pairs_interacting.drop_duplicates(\n",
    "        ['uniprot_domain_id_1', 'uniprot_domain_id_2']).shape[0])"
   ]
  },
  {
   "cell_type": "code",
   "execution_count": 700,
   "metadata": {
    "collapsed": true,
    "run_control": {
     "marked": false
    }
   },
   "outputs": [],
   "source": [
    "uniprot_pairs_interacting_bak = uniprot_pairs_interacting.copy()"
   ]
  },
  {
   "cell_type": "markdown",
   "metadata": {
    "run_control": {
     "marked": false
    }
   },
   "source": [
    "### uniprot_pairs_interacting_2\n",
    "\n",
    "Interacting on the *PDB domain level*."
   ]
  },
  {
   "cell_type": "code",
   "execution_count": 701,
   "metadata": {
    "collapsed": true,
    "run_control": {
     "marked": false
    }
   },
   "outputs": [],
   "source": [
    "uniprot_pairs_interacting = uniprot_pairs_interacting_bak.copy()"
   ]
  },
  {
   "cell_type": "code",
   "execution_count": 702,
   "metadata": {
    "collapsed": false,
    "run_control": {
     "marked": false
    }
   },
   "outputs": [],
   "source": [
    "pdb_resnum2idx = {}\n",
    "for pdb_id in pdb_ids:\n",
    "    pdb_resnum2idx[pdb_id] = {}\n",
    "    structure = pdb_structures[pdb_id]\n",
    "    for chain in structure.child_list[0].child_list:\n",
    "        # print(chain.id)\n",
    "        pdb_resnum2idx[pdb_id][chain.id] = {}\n",
    "        for residue_idx, residue in enumerate(chain.child_list):\n",
    "            resnum = (str(residue.id[1]) + residue.id[2]).strip()\n",
    "            pdb_resnum2idx[pdb_id][chain.id][resnum] = residue_idx"
   ]
  },
  {
   "cell_type": "code",
   "execution_count": 703,
   "metadata": {
    "collapsed": true,
    "run_control": {
     "marked": false
    }
   },
   "outputs": [],
   "source": [
    "def residue_in_domain(pdb_id, pdb_chain, residue_idx, domain_def):\n",
    "    \"\"\"Check if residue in Profs domain!\n",
    "    \n",
    "    Parameters\n",
    "    ----------\n",
    "    ...\n",
    "    domain_def : str\n",
    "        Profs domain definitions.\n",
    "    s_start : int, float, str\n",
    "        Alignment start for `domain_def`.\n",
    "    s_end : int, float, str\n",
    "    \"\"\"\n",
    "    domain_range = set()\n",
    "    for subdomain_def in domain_def.split(','):\n",
    "        domain_start, domain_end = subdomain_def.split(':')\n",
    "        domain_start_idx = pdb_resnum2idx[pdb_id][pdb_chain][domain_start]\n",
    "        domain_end_idx = pdb_resnum2idx[pdb_id][pdb_chain][domain_end]\n",
    "        domain_range |= set(range(domain_start_idx, domain_end_idx + 1))\n",
    "    return residue_idx in domain_range"
   ]
  },
  {
   "cell_type": "code",
   "execution_count": 704,
   "metadata": {
    "collapsed": false,
    "run_control": {
     "marked": false
    }
   },
   "outputs": [],
   "source": [
    "uniprot_pairs_interacting['residue_1_in_domain'] = (\n",
    "    uniprot_pairs_interacting[[\n",
    "        'pdb_id_1', 'pdb_chain_1', 'residue_idx_1', 'pdb_domain_def_1']]\n",
    "    .apply(lambda x: residue_in_domain(*x), axis=1)\n",
    ")"
   ]
  },
  {
   "cell_type": "code",
   "execution_count": 705,
   "metadata": {
    "collapsed": false,
    "run_control": {
     "marked": false
    }
   },
   "outputs": [],
   "source": [
    "uniprot_pairs_interacting['residue_2_in_domain'] = (\n",
    "    uniprot_pairs_interacting[[\n",
    "        'pdb_id_2', 'pdb_chain_2', 'residue_idx_2', 'pdb_domain_def_2']]\n",
    "    .apply(lambda x: residue_in_domain(*x), axis=1)\n",
    ")"
   ]
  },
  {
   "cell_type": "code",
   "execution_count": 706,
   "metadata": {
    "collapsed": false,
    "run_control": {
     "marked": false
    }
   },
   "outputs": [],
   "source": [
    "uniprot_pairs_interacting_2 = (\n",
    "    uniprot_pairs_interacting[\n",
    "        uniprot_pairs_interacting['residue_1_in_domain'] & \n",
    "        uniprot_pairs_interacting['residue_2_in_domain']\n",
    "    ]\n",
    ")"
   ]
  },
  {
   "cell_type": "code",
   "execution_count": 707,
   "metadata": {
    "collapsed": false,
    "run_control": {
     "marked": false
    }
   },
   "outputs": [
    {
     "name": "stdout",
     "output_type": "stream",
     "text": [
      "Rows:                                                       1477733\n",
      "Protein pairs:                                              185 <--\n",
      "Protein domain pairs:                                       264\n",
      "Domain pairs:                                               264\n"
     ]
    }
   ],
   "source": [
    "print2(\"Rows:\", uniprot_pairs_interacting_2.shape[0])  # 1477733\n",
    "print2(\"Protein pairs:\", uniprot_pairs_interacting_2.drop_duplicates(\n",
    "        ['uniprot_id', 'partner_uniprot_id']).shape[0], '<--')  # 185\n",
    "print2(\"Protein domain pairs:\", uniprot_pairs_interacting_2.drop_duplicates(\n",
    "        ['uniprot_id', 'partner_uniprot_id', 'uniprot_domain_id_1', 'uniprot_domain_id_2']).shape[0])\n",
    "print2(\"Domain pairs:\", uniprot_pairs_interacting_2.drop_duplicates(\n",
    "        ['uniprot_domain_id_1', 'uniprot_domain_id_2']).shape[0])"
   ]
  },
  {
   "cell_type": "code",
   "execution_count": 708,
   "metadata": {
    "collapsed": true,
    "run_control": {
     "marked": false
    }
   },
   "outputs": [],
   "source": [
    "uniprot_pairs_interacting_2_bak = uniprot_pairs_interacting_2.copy()"
   ]
  },
  {
   "cell_type": "markdown",
   "metadata": {
    "run_control": {
     "marked": false
    }
   },
   "source": [
    "### uniprot_pairs_interacting_3\n",
    "\n",
    "Residue falls in interface"
   ]
  },
  {
   "cell_type": "code",
   "execution_count": 709,
   "metadata": {
    "collapsed": true,
    "run_control": {
     "marked": false
    }
   },
   "outputs": [],
   "source": [
    "uniprot_pairs_interacting_2 = uniprot_pairs_interacting_2_bak.copy()"
   ]
  },
  {
   "cell_type": "code",
   "execution_count": 710,
   "metadata": {
    "collapsed": false,
    "run_control": {
     "marked": false
    }
   },
   "outputs": [],
   "source": [
    "mutations_list = []\n",
    "for dataset in DATASETS:\n",
    "    df = DATA[dataset]\n",
    "    assert df[['uniprot_id', 'partner_uniprot_id', 'uniprot_mutation']].notnull().all().all()\n",
    "    mutations_list.append(df[['uniprot_id', 'partner_uniprot_id', 'uniprot_mutation']])\n",
    "mutations_df = pd.concat(mutations_list, ignore_index=True)"
   ]
  },
  {
   "cell_type": "code",
   "execution_count": 711,
   "metadata": {
    "collapsed": false,
    "run_control": {
     "marked": false
    }
   },
   "outputs": [],
   "source": [
    "uniprot_pairs_interacting_3 = (\n",
    "    uniprot_pairs_interacting_2\n",
    "    .merge(mutations_df, on=['uniprot_id', 'partner_uniprot_id'], how='left')\n",
    ")\n",
    "assert uniprot_pairs_interacting_3['uniprot_mutation'].notnull().all()"
   ]
  },
  {
   "cell_type": "code",
   "execution_count": 712,
   "metadata": {
    "collapsed": true,
    "run_control": {
     "marked": false
    }
   },
   "outputs": [],
   "source": [
    "uniprot_pairs_interacting_3 = (\n",
    "    uniprot_pairs_interacting_3[\n",
    "        ~uniprot_pairs_interacting_3['uniprot_mutation'].str.contains(',')\n",
    "    ]\n",
    ")"
   ]
  },
  {
   "cell_type": "code",
   "execution_count": 713,
   "metadata": {
    "collapsed": false,
    "run_control": {
     "marked": false
    }
   },
   "outputs": [],
   "source": [
    "def residue_in_interface(\n",
    "        uniprot_mutation, domain_def_new, a2b, \n",
    "        pdb_id, pdb_chain, residue_aa, residue_idx, domain_def, s_start, s_end):\n",
    "    \"\"\"\n",
    "    Parameters\n",
    "    ----------\n",
    "    \"\"\"\n",
    "    uniprot_mutation_ref = uniprot_mutation[0]\n",
    "    uniprot_mutation_pos = int(uniprot_mutation[1:-1])\n",
    "    uniprot_mutation_alt = uniprot_mutation[-1]\n",
    "    uniprot_domain_start = int(domain_def_new.split(':')[0])\n",
    "    uniprot_domain_end = int(domain_def_new.split(':')[1])\n",
    "    uniprot_mutation_domain_idx = uniprot_mutation_pos - uniprot_domain_start + 1  # 1-based\n",
    "    uniprot_mutation_pdb_idx = kmtools.sequence_tools.find_in_set(uniprot_mutation_domain_idx, a2b)  # 1-based\n",
    "\n",
    "    pdb_domain_start = domain_def.split(',')[0].split(':')[0]\n",
    "    pdb_domain_start_idx = pdb_resnum2idx[pdb_id][pdb_chain][pdb_domain_start]\n",
    "    pdb_domain_start_idx += s_start - 1\n",
    "    pdb_domain_residue_idx = pdb_domain_start_idx + residue_idx # 0-based\n",
    "    \n",
    "    if uniprot_mutation_pdb_idx == (pdb_domain_residue_idx + 1):\n",
    "        if uniprot_mutation_ref == residue_aa:\n",
    "            return True\n",
    "        else:\n",
    "#             logger.warning(\"params: {}\".format((\n",
    "#                 uniprot_mutation, domain_def_new, a2b,\n",
    "#                 pdb_id, pdb_chain, residue_aa, residue_idx, domain_def, s_start, s_end,\n",
    "#                 uniprot_mutation_pdb_idx, pdb_domain_residue_idx, uniprot_mutation_ref, residue_aa,)))\n",
    "            return np.nan\n",
    "    return False"
   ]
  },
  {
   "cell_type": "code",
   "execution_count": 714,
   "metadata": {
    "collapsed": false,
    "run_control": {
     "marked": false
    }
   },
   "outputs": [],
   "source": [
    "uniprot_pairs_interacting_3['mutation_in_interface'] = (\n",
    "    uniprot_pairs_interacting_3[[\n",
    "        'uniprot_mutation', 'domain_def_new_1', 'a2b_1',\n",
    "        'pdb_id_1', 'pdb_chain_1', 'residue_aa_1', 'residue_idx_1', 'pdb_domain_def_1', \n",
    "        's_start_1', 's_end_1']]\n",
    "    .apply(lambda x: residue_in_interface(*x), axis=1)\n",
    ")"
   ]
  },
  {
   "cell_type": "code",
   "execution_count": 715,
   "metadata": {
    "collapsed": false,
    "run_control": {
     "marked": false
    }
   },
   "outputs": [
    {
     "data": {
      "text/html": [
       "<div>\n",
       "<table border=\"1\" class=\"dataframe\">\n",
       "  <thead>\n",
       "    <tr style=\"text-align: right;\">\n",
       "      <th></th>\n",
       "      <th>uniprot_id</th>\n",
       "      <th>partner_uniprot_id</th>\n",
       "      <th>alignment_coverage_1</th>\n",
       "      <th>alignment_identity_1</th>\n",
       "      <th>alignment_length_1</th>\n",
       "      <th>alignment_score_1</th>\n",
       "      <th>bitscore_1</th>\n",
       "      <th>domain_def_new_1</th>\n",
       "      <th>domain_end_new_1</th>\n",
       "      <th>domain_start_new_1</th>\n",
       "      <th>evalue_1</th>\n",
       "      <th>gap_opens_1</th>\n",
       "      <th>mismatches_1</th>\n",
       "      <th>pc_identity_1</th>\n",
       "      <th>pdb_cath_id_1</th>\n",
       "      <th>pdb_chain_1</th>\n",
       "      <th>pdb_domain_def_1</th>\n",
       "      <th>pdb_id_1</th>\n",
       "      <th>pdb_pdbfam_idx_1</th>\n",
       "      <th>pdb_pdbfam_name_1</th>\n",
       "      <th>pdb_pfam_clan_1</th>\n",
       "      <th>q_end_1</th>\n",
       "      <th>q_start_1</th>\n",
       "      <th>qseq_1</th>\n",
       "      <th>query_id_1</th>\n",
       "      <th>s_end_1</th>\n",
       "      <th>s_start_1</th>\n",
       "      <th>sseq_1</th>\n",
       "      <th>subject_id_1</th>\n",
       "      <th>t_date_modified_1</th>\n",
       "      <th>uniprot_domain_id_1</th>\n",
       "      <th>uniprot_domain_sequence_1</th>\n",
       "      <th>uniprot_sequence_1</th>\n",
       "      <th>a2b_1</th>\n",
       "      <th>b2a_1</th>\n",
       "      <th>alignment_coverage_2</th>\n",
       "      <th>alignment_identity_2</th>\n",
       "      <th>alignment_length_2</th>\n",
       "      <th>alignment_score_2</th>\n",
       "      <th>bitscore_2</th>\n",
       "      <th>domain_def_new_2</th>\n",
       "      <th>domain_end_new_2</th>\n",
       "      <th>domain_start_new_2</th>\n",
       "      <th>evalue_2</th>\n",
       "      <th>gap_opens_2</th>\n",
       "      <th>mismatches_2</th>\n",
       "      <th>pc_identity_2</th>\n",
       "      <th>pdb_cath_id_2</th>\n",
       "      <th>pdb_chain_2</th>\n",
       "      <th>pdb_domain_def_2</th>\n",
       "      <th>pdb_id_2</th>\n",
       "      <th>pdb_pdbfam_idx_2</th>\n",
       "      <th>pdb_pdbfam_name_2</th>\n",
       "      <th>pdb_pfam_clan_2</th>\n",
       "      <th>q_end_2</th>\n",
       "      <th>q_start_2</th>\n",
       "      <th>qseq_2</th>\n",
       "      <th>query_id_2</th>\n",
       "      <th>s_end_2</th>\n",
       "      <th>s_start_2</th>\n",
       "      <th>sseq_2</th>\n",
       "      <th>subject_id_2</th>\n",
       "      <th>t_date_modified_2</th>\n",
       "      <th>uniprot_domain_id_2</th>\n",
       "      <th>uniprot_domain_sequence_2</th>\n",
       "      <th>uniprot_sequence_2</th>\n",
       "      <th>a2b_2</th>\n",
       "      <th>b2a_2</th>\n",
       "      <th>chain_idx_1</th>\n",
       "      <th>residue_idx_1</th>\n",
       "      <th>residue_resname_1</th>\n",
       "      <th>residue_aa_1</th>\n",
       "      <th>chain_idx_2</th>\n",
       "      <th>residue_idx_2</th>\n",
       "      <th>residue_resname_2</th>\n",
       "      <th>residue_aa_2</th>\n",
       "      <th>residue_1_in_domain</th>\n",
       "      <th>residue_2_in_domain</th>\n",
       "      <th>uniprot_mutation</th>\n",
       "      <th>mutation_in_interface</th>\n",
       "    </tr>\n",
       "  </thead>\n",
       "  <tbody>\n",
       "    <tr>\n",
       "      <th>373</th>\n",
       "      <td>P01820</td>\n",
       "      <td>A0NA69</td>\n",
       "      <td>100.0</td>\n",
       "      <td>40.21</td>\n",
       "      <td>97.0</td>\n",
       "      <td>0.431995</td>\n",
       "      <td>82.8</td>\n",
       "      <td>20:115</td>\n",
       "      <td>115.0</td>\n",
       "      <td>20.0</td>\n",
       "      <td>1.000000e-20</td>\n",
       "      <td>1.0</td>\n",
       "      <td>57.0</td>\n",
       "      <td>40.21</td>\n",
       "      <td>1ap2D00</td>\n",
       "      <td>D</td>\n",
       "      <td>1:123</td>\n",
       "      <td>1ap2</td>\n",
       "      <td>1.0</td>\n",
       "      <td>V-set</td>\n",
       "      <td>Ig</td>\n",
       "      <td>96.0</td>\n",
       "      <td>1.0</td>\n",
       "      <td>QVQLKESGPGLVAPSQSLSITCTVSGFSLTGYGVNWVRQPPGKGLE...</td>\n",
       "      <td>unnamed</td>\n",
       "      <td>97.0</td>\n",
       "      <td>1.0</td>\n",
       "      <td>EVQLQQSGAELVRPGASVKLSCTASGFNIKDDFMHWVKQRPEQGLE...</td>\n",
       "      <td>1ap2_D|V-set|1|Ig|1:123|1ap2D00</td>\n",
       "      <td>2016-08-02 10:43:23.217894</td>\n",
       "      <td>70394142</td>\n",
       "      <td>QVQLKESGPGLVAPSQSLSITCTVSGFSLTGYGVNWVRQPPGKGLE...</td>\n",
       "      <td>MAVLALLFCLVTFPSCILSQVQLKESGPGLVAPSQSLSITCTVSGF...</td>\n",
       "      <td>1,2,3,4,5,6,7,8,9,10,11,12,13,14,15,16,17,18,1...</td>\n",
       "      <td>1,2,3,4,5,6,7,8,9,10,11,12,13,14,15,16,17,18,1...</td>\n",
       "      <td>94.174757</td>\n",
       "      <td>92.78</td>\n",
       "      <td>97.0</td>\n",
       "      <td>0.877153</td>\n",
       "      <td>189.0</td>\n",
       "      <td>20:116</td>\n",
       "      <td>116.0</td>\n",
       "      <td>20.0</td>\n",
       "      <td>4.000000e-62</td>\n",
       "      <td>0.0</td>\n",
       "      <td>7.0</td>\n",
       "      <td>92.78</td>\n",
       "      <td>1ap2B00</td>\n",
       "      <td>B</td>\n",
       "      <td>1:120</td>\n",
       "      <td>1ap2</td>\n",
       "      <td>1.0</td>\n",
       "      <td>V-set</td>\n",
       "      <td>Ig</td>\n",
       "      <td>97.0</td>\n",
       "      <td>1.0</td>\n",
       "      <td>EVQLQQSGAELVKPGASVKLSCTASGFNIKDTYMHWVKQRPEQGLE...</td>\n",
       "      <td>unnamed</td>\n",
       "      <td>97.0</td>\n",
       "      <td>1.0</td>\n",
       "      <td>EVQLQQSGAELVRPGASVKLSCTASGFNIKDDFMHWVKQRPEQGLE...</td>\n",
       "      <td>1ap2_B|V-set|1|Ig|1:120|1ap2B00</td>\n",
       "      <td>2016-08-02 10:43:20.429652</td>\n",
       "      <td>51959162</td>\n",
       "      <td>EVQLQQSGAELVKPGASVKLSCTASGFNIKDTYMHWVKQRPEQGLE...</td>\n",
       "      <td>MKCSWVIFFLMAVVTGVNSEVQLQQSGAELVKPGASVKLSCTASGF...</td>\n",
       "      <td>1,2,3,4,5,6,7,8,9,10,11,12,13,14,15,16,17,18,1...</td>\n",
       "      <td>1,2,3,4,5,6,7,8,9,10,11,12,13,14,15,16,17,18,1...</td>\n",
       "      <td>3</td>\n",
       "      <td>29</td>\n",
       "      <td>30</td>\n",
       "      <td>K</td>\n",
       "      <td>1</td>\n",
       "      <td>101</td>\n",
       "      <td>102</td>\n",
       "      <td>Y</td>\n",
       "      <td>True</td>\n",
       "      <td>True</td>\n",
       "      <td>T49A</td>\n",
       "      <td>NaN</td>\n",
       "    </tr>\n",
       "    <tr>\n",
       "      <th>445</th>\n",
       "      <td>P01820</td>\n",
       "      <td>A0NA69</td>\n",
       "      <td>100.0</td>\n",
       "      <td>40.21</td>\n",
       "      <td>97.0</td>\n",
       "      <td>0.431995</td>\n",
       "      <td>80.1</td>\n",
       "      <td>20:115</td>\n",
       "      <td>115.0</td>\n",
       "      <td>20.0</td>\n",
       "      <td>5.000000e-19</td>\n",
       "      <td>2.0</td>\n",
       "      <td>54.0</td>\n",
       "      <td>40.21</td>\n",
       "      <td>4k2uH00</td>\n",
       "      <td>H</td>\n",
       "      <td>1:212</td>\n",
       "      <td>4k2u</td>\n",
       "      <td>1.0</td>\n",
       "      <td>V-set+C1-set</td>\n",
       "      <td>Ig</td>\n",
       "      <td>96.0</td>\n",
       "      <td>1.0</td>\n",
       "      <td>QVQLKESGPGLVAPSQSLSITCTVSGFSLTGYGVNWVRQPPGKGLE...</td>\n",
       "      <td>unnamed</td>\n",
       "      <td>94.0</td>\n",
       "      <td>1.0</td>\n",
       "      <td>EVQLQQSGAELVKPGASVKLSCTASGFNIKDNYMHWVKQRP---LE...</td>\n",
       "      <td>4k2u_H|V-set+C1-set|1|Ig|1:212|4k2uH00</td>\n",
       "      <td>2016-08-02 10:43:23.217894</td>\n",
       "      <td>70394142</td>\n",
       "      <td>QVQLKESGPGLVAPSQSLSITCTVSGFSLTGYGVNWVRQPPGKGLE...</td>\n",
       "      <td>MAVLALLFCLVTFPSCILSQVQLKESGPGLVAPSQSLSITCTVSGF...</td>\n",
       "      <td>1,2,3,4,5,6,7,8,9,10,11,12,13,14,15,16,17,18,1...</td>\n",
       "      <td>1,2,3,4,5,6,7,8,9,10,11,12,13,14,15,16,17,18,1...</td>\n",
       "      <td>94.174757</td>\n",
       "      <td>98.97</td>\n",
       "      <td>97.0</td>\n",
       "      <td>0.932533</td>\n",
       "      <td>202.0</td>\n",
       "      <td>20:116</td>\n",
       "      <td>116.0</td>\n",
       "      <td>20.0</td>\n",
       "      <td>5.000000e-66</td>\n",
       "      <td>0.0</td>\n",
       "      <td>1.0</td>\n",
       "      <td>98.97</td>\n",
       "      <td>4k2uI00</td>\n",
       "      <td>I</td>\n",
       "      <td>1:213</td>\n",
       "      <td>4k2u</td>\n",
       "      <td>1.0</td>\n",
       "      <td>V-set+C1-set</td>\n",
       "      <td>Ig</td>\n",
       "      <td>97.0</td>\n",
       "      <td>1.0</td>\n",
       "      <td>EVQLQQSGAELVKPGASVKLSCTASGFNIKDTYMHWVKQRPEQGLE...</td>\n",
       "      <td>unnamed</td>\n",
       "      <td>97.0</td>\n",
       "      <td>1.0</td>\n",
       "      <td>EVQLQQSGAELVKPGASVKLSCTASGFNIKDNYMHWVKQRPEQGLE...</td>\n",
       "      <td>4k2u_I|V-set+C1-set|1|Ig|1:213|4k2uI00</td>\n",
       "      <td>2016-08-02 10:43:20.429652</td>\n",
       "      <td>51959162</td>\n",
       "      <td>EVQLQQSGAELVKPGASVKLSCTASGFNIKDTYMHWVKQRPEQGLE...</td>\n",
       "      <td>MKCSWVIFFLMAVVTGVNSEVQLQQSGAELVKPGASVKLSCTASGF...</td>\n",
       "      <td>1,2,3,4,5,6,7,8,9,10,11,12,13,14,15,16,17,18,1...</td>\n",
       "      <td>1,2,3,4,5,6,7,8,9,10,11,12,13,14,15,16,17,18,1...</td>\n",
       "      <td>2</td>\n",
       "      <td>29</td>\n",
       "      <td>30</td>\n",
       "      <td>K</td>\n",
       "      <td>3</td>\n",
       "      <td>74</td>\n",
       "      <td>74</td>\n",
       "      <td>S</td>\n",
       "      <td>True</td>\n",
       "      <td>True</td>\n",
       "      <td>T49A</td>\n",
       "      <td>NaN</td>\n",
       "    </tr>\n",
       "  </tbody>\n",
       "</table>\n",
       "</div>"
      ],
      "text/plain": [
       "    uniprot_id partner_uniprot_id  alignment_coverage_1  alignment_identity_1  alignment_length_1  alignment_score_1  bitscore_1 domain_def_new_1  domain_end_new_1  domain_start_new_1      evalue_1  gap_opens_1  mismatches_1  pc_identity_1 pdb_cath_id_1 pdb_chain_1 pdb_domain_def_1 pdb_id_1  pdb_pdbfam_idx_1 pdb_pdbfam_name_1 pdb_pfam_clan_1  q_end_1  q_start_1                                             qseq_1 query_id_1  s_end_1  s_start_1                                             sseq_1                            subject_id_1          t_date_modified_1  uniprot_domain_id_1                          uniprot_domain_sequence_1                                 uniprot_sequence_1                                              a2b_1                                              b2a_1  alignment_coverage_2  alignment_identity_2  alignment_length_2  alignment_score_2  bitscore_2 domain_def_new_2  domain_end_new_2  domain_start_new_2      evalue_2  gap_opens_2  mismatches_2  pc_identity_2  \\\n",
       "373     P01820             A0NA69                 100.0                 40.21                97.0           0.431995        82.8           20:115             115.0                20.0  1.000000e-20          1.0          57.0          40.21       1ap2D00           D            1:123     1ap2               1.0             V-set              Ig     96.0        1.0  QVQLKESGPGLVAPSQSLSITCTVSGFSLTGYGVNWVRQPPGKGLE...    unnamed     97.0        1.0  EVQLQQSGAELVRPGASVKLSCTASGFNIKDDFMHWVKQRPEQGLE...         1ap2_D|V-set|1|Ig|1:123|1ap2D00 2016-08-02 10:43:23.217894             70394142  QVQLKESGPGLVAPSQSLSITCTVSGFSLTGYGVNWVRQPPGKGLE...  MAVLALLFCLVTFPSCILSQVQLKESGPGLVAPSQSLSITCTVSGF...  1,2,3,4,5,6,7,8,9,10,11,12,13,14,15,16,17,18,1...  1,2,3,4,5,6,7,8,9,10,11,12,13,14,15,16,17,18,1...             94.174757                 92.78                97.0           0.877153       189.0           20:116             116.0                20.0  4.000000e-62          0.0           7.0          92.78   \n",
       "445     P01820             A0NA69                 100.0                 40.21                97.0           0.431995        80.1           20:115             115.0                20.0  5.000000e-19          2.0          54.0          40.21       4k2uH00           H            1:212     4k2u               1.0      V-set+C1-set              Ig     96.0        1.0  QVQLKESGPGLVAPSQSLSITCTVSGFSLTGYGVNWVRQPPGKGLE...    unnamed     94.0        1.0  EVQLQQSGAELVKPGASVKLSCTASGFNIKDNYMHWVKQRP---LE...  4k2u_H|V-set+C1-set|1|Ig|1:212|4k2uH00 2016-08-02 10:43:23.217894             70394142  QVQLKESGPGLVAPSQSLSITCTVSGFSLTGYGVNWVRQPPGKGLE...  MAVLALLFCLVTFPSCILSQVQLKESGPGLVAPSQSLSITCTVSGF...  1,2,3,4,5,6,7,8,9,10,11,12,13,14,15,16,17,18,1...  1,2,3,4,5,6,7,8,9,10,11,12,13,14,15,16,17,18,1...             94.174757                 98.97                97.0           0.932533       202.0           20:116             116.0                20.0  5.000000e-66          0.0           1.0          98.97   \n",
       "\n",
       "    pdb_cath_id_2 pdb_chain_2 pdb_domain_def_2 pdb_id_2  pdb_pdbfam_idx_2 pdb_pdbfam_name_2 pdb_pfam_clan_2  q_end_2  q_start_2                                             qseq_2 query_id_2  s_end_2  s_start_2                                             sseq_2                            subject_id_2          t_date_modified_2  uniprot_domain_id_2                          uniprot_domain_sequence_2                                 uniprot_sequence_2                                              a2b_2                                              b2a_2  chain_idx_1  residue_idx_1 residue_resname_1 residue_aa_1  chain_idx_2  residue_idx_2 residue_resname_2 residue_aa_2 residue_1_in_domain residue_2_in_domain uniprot_mutation mutation_in_interface  \n",
       "373       1ap2B00           B            1:120     1ap2               1.0             V-set              Ig     97.0        1.0  EVQLQQSGAELVKPGASVKLSCTASGFNIKDTYMHWVKQRPEQGLE...    unnamed     97.0        1.0  EVQLQQSGAELVRPGASVKLSCTASGFNIKDDFMHWVKQRPEQGLE...         1ap2_B|V-set|1|Ig|1:120|1ap2B00 2016-08-02 10:43:20.429652             51959162  EVQLQQSGAELVKPGASVKLSCTASGFNIKDTYMHWVKQRPEQGLE...  MKCSWVIFFLMAVVTGVNSEVQLQQSGAELVKPGASVKLSCTASGF...  1,2,3,4,5,6,7,8,9,10,11,12,13,14,15,16,17,18,1...  1,2,3,4,5,6,7,8,9,10,11,12,13,14,15,16,17,18,1...            3             29                30            K            1            101               102            Y                True                True             T49A                   NaN  \n",
       "445       4k2uI00           I            1:213     4k2u               1.0      V-set+C1-set              Ig     97.0        1.0  EVQLQQSGAELVKPGASVKLSCTASGFNIKDTYMHWVKQRPEQGLE...    unnamed     97.0        1.0  EVQLQQSGAELVKPGASVKLSCTASGFNIKDNYMHWVKQRPEQGLE...  4k2u_I|V-set+C1-set|1|Ig|1:213|4k2uI00 2016-08-02 10:43:20.429652             51959162  EVQLQQSGAELVKPGASVKLSCTASGFNIKDTYMHWVKQRPEQGLE...  MKCSWVIFFLMAVVTGVNSEVQLQQSGAELVKPGASVKLSCTASGF...  1,2,3,4,5,6,7,8,9,10,11,12,13,14,15,16,17,18,1...  1,2,3,4,5,6,7,8,9,10,11,12,13,14,15,16,17,18,1...            2             29                30            K            3             74                74            S                True                True             T49A                   NaN  "
      ]
     },
     "execution_count": 715,
     "metadata": {},
     "output_type": "execute_result"
    }
   ],
   "source": [
    "uniprot_pairs_interacting_3[uniprot_pairs_interacting_3['mutation_in_interface'].isnull()].head(2)"
   ]
  },
  {
   "cell_type": "code",
   "execution_count": 716,
   "metadata": {
    "collapsed": false,
    "run_control": {
     "marked": false
    }
   },
   "outputs": [
    {
     "name": "stdout",
     "output_type": "stream",
     "text": [
      "Mapped mutation:                                            24697\n",
      "Mapped position:                                            19884\n",
      "Not mapped:                                                 4959349\n"
     ]
    }
   ],
   "source": [
    "print2(\"Mapped mutation:\", uniprot_pairs_interacting_3['mutation_in_interface'].dropna().sum())  # 24697\n",
    "print2(\"Mapped position:\", uniprot_pairs_interacting_3['mutation_in_interface'].isnull().sum())  # 19884\n",
    "print2(\"Not mapped:\", (uniprot_pairs_interacting_3['mutation_in_interface'].dropna() == False).sum())\n",
    "# 4959349"
   ]
  },
  {
   "cell_type": "code",
   "execution_count": 717,
   "metadata": {
    "collapsed": false,
    "run_control": {
     "marked": false
    }
   },
   "outputs": [],
   "source": [
    "uniprot_pairs_interacting_3f = (\n",
    "    uniprot_pairs_interacting_3[\n",
    "        (uniprot_pairs_interacting_3['mutation_in_interface'] == True) | \n",
    "        (uniprot_pairs_interacting_3['mutation_in_interface'].isnull())\n",
    "    ]\n",
    ")\n",
    "\n",
    "uniprot_pairs_interacting_3f = (\n",
    "    uniprot_pairs_interacting_3f\n",
    "    .drop_duplicates(subset=[c for c in uniprot_pairs_interacting_3f.columns if c != 'uniprot_mutation'])\n",
    ")"
   ]
  },
  {
   "cell_type": "code",
   "execution_count": 718,
   "metadata": {
    "collapsed": false,
    "run_control": {
     "marked": false
    }
   },
   "outputs": [
    {
     "name": "stdout",
     "output_type": "stream",
     "text": [
      "Mapped mutation:                                            15154\n",
      "Mapped position:                                            11729\n",
      "Not mapped:                                                 0\n"
     ]
    }
   ],
   "source": [
    "print2(\"Mapped mutation:\", uniprot_pairs_interacting_3f['mutation_in_interface'].dropna().sum())  # 15154\n",
    "print2(\"Mapped position:\", uniprot_pairs_interacting_3f['mutation_in_interface'].isnull().sum())  # 11729\n",
    "print2(\"Not mapped:\", (uniprot_pairs_interacting_3f['mutation_in_interface'].dropna() == False).sum())"
   ]
  },
  {
   "cell_type": "markdown",
   "metadata": {
    "run_control": {
     "marked": false
    }
   },
   "source": [
    "### uniprot_pairs_final\n",
    "\n",
    "Keep one from each `max_seq_identity` bin."
   ]
  },
  {
   "cell_type": "code",
   "execution_count": 690,
   "metadata": {
    "collapsed": false,
    "run_control": {
     "marked": false
    }
   },
   "outputs": [],
   "source": [
    "uniprot_pairs_final = (\n",
    "    uniprot_pairs_interacting_3f\n",
    "    .sort_values('alignment_identity_avg', ascending=False)\n",
    "    .drop_duplicates([\n",
    "        'uniprot_domain_id_1', 'uniprot_domain_id_2', 'max_seq_identity', \n",
    "        'pdb_id_1', 'pdb_chain_1', 'pdb_chain_2'])\n",
    "    .sort_values(\n",
    "        ['uniprot_id', 'partner_uniprot_id', 'uniprot_domain_id_1', 'uniprot_domain_id_2', 'max_seq_identity'],\n",
    "        ascending=True)\n",
    ")"
   ]
  },
  {
   "cell_type": "code",
   "execution_count": 691,
   "metadata": {
    "collapsed": false,
    "run_control": {
     "marked": false
    }
   },
   "outputs": [
    {
     "name": "stdout",
     "output_type": "stream",
     "text": [
      "Rows:                                                       2442\n",
      "Protein pairs:                                              132 <--\n",
      "Protein domain pairs:                                       148\n",
      "Domain pairs:                                               148\n"
     ]
    }
   ],
   "source": [
    "print2(\"Rows:\", uniprot_pairs_final.shape[0])\n",
    "print2(\"Protein pairs:\", uniprot_pairs_final.drop_duplicates(\n",
    "        ['uniprot_id', 'partner_uniprot_id']).shape[0], '<--')\n",
    "print2(\"Protein domain pairs:\", uniprot_pairs_final.drop_duplicates(\n",
    "        ['uniprot_id', 'partner_uniprot_id', 'uniprot_domain_id_1', 'uniprot_domain_id_2']).shape[0])\n",
    "print2(\"Domain pairs:\", uniprot_pairs_final.drop_duplicates(\n",
    "        ['uniprot_domain_id_1', 'uniprot_domain_id_2']).shape[0])"
   ]
  },
  {
   "cell_type": "code",
   "execution_count": 635,
   "metadata": {
    "collapsed": false,
    "run_control": {
     "marked": false
    }
   },
   "outputs": [],
   "source": [
    "uniprot_pairs_final_bak = uniprot_pairs_final.copy()"
   ]
  },
  {
   "cell_type": "markdown",
   "metadata": {
    "run_control": {
     "marked": false
    }
   },
   "source": [
    "## Stats"
   ]
  },
  {
   "cell_type": "markdown",
   "metadata": {},
   "source": [
    "### alignment_coverage_avg"
   ]
  },
  {
   "cell_type": "code",
   "execution_count": 637,
   "metadata": {
    "collapsed": false
   },
   "outputs": [
    {
     "data": {
      "text/plain": [
       "<matplotlib.text.Text at 0x7f36cdae8240>"
      ]
     },
     "execution_count": 637,
     "metadata": {},
     "output_type": "execute_result"
    },
    {
     "data": {
      "image/png": "[encoded data removed]",
      "text/plain": [
       "<matplotlib.figure.Figure at 0x7f36cdaf33c8>"
      ]
     },
     "metadata": {},
     "output_type": "display_data"
    }
   ],
   "source": [
    "uniprot_pairs_interacting_2['alignment_coverage_avg'] = np.sqrt(\n",
    "    (uniprot_pairs_interacting_2['alignment_coverage_1'] / 100) *\n",
    "    (uniprot_pairs_interacting_2['alignment_coverage_2'] / 100))\n",
    "uniprot_pairs_interacting_2['alignment_coverage_avg'].hist()\n",
    "plt.xlabel('alignment_coverage_avg')\n",
    "plt.ylabel('Number of domain pairs')"
   ]
  },
  {
   "cell_type": "code",
   "execution_count": 638,
   "metadata": {
    "collapsed": false,
    "run_control": {
     "marked": false
    }
   },
   "outputs": [
    {
     "data": {
      "text/plain": [
       "<matplotlib.text.Text at 0x7f36cda072b0>"
      ]
     },
     "execution_count": 638,
     "metadata": {},
     "output_type": "execute_result"
    },
    {
     "data": {
      "image/png": "[encoded data removed]",
      "text/plain": [
       "<matplotlib.figure.Figure at 0x7f36cd9fc860>"
      ]
     },
     "metadata": {},
     "output_type": "display_data"
    }
   ],
   "source": [
    "uniprot_pairs_interacting_3f['alignment_coverage_avg'] = np.sqrt(\n",
    "    (uniprot_pairs_interacting_3f['alignment_coverage_1'] / 100) *\n",
    "    (uniprot_pairs_interacting_3f['alignment_coverage_2'] / 100))\n",
    "uniprot_pairs_interacting_3f['alignment_coverage_avg'].hist()\n",
    "plt.xlabel('alignment_coverage_avg')\n",
    "plt.ylabel('Number of domain pairs')"
   ]
  },
  {
   "cell_type": "code",
   "execution_count": 641,
   "metadata": {
    "collapsed": false
   },
   "outputs": [
    {
     "data": {
      "text/plain": [
       "<matplotlib.text.Text at 0x7f36cd6cf1d0>"
      ]
     },
     "execution_count": 641,
     "metadata": {},
     "output_type": "execute_result"
    },
    {
     "data": {
      "image/png": "[encoded data removed]",
      "text/plain": [
       "<matplotlib.figure.Figure at 0x7f36cdb80a20>"
      ]
     },
     "metadata": {},
     "output_type": "display_data"
    }
   ],
   "source": [
    "uniprot_pairs_final['alignment_coverage_avg'] = np.sqrt(\n",
    "    (uniprot_pairs_final['alignment_coverage_1'] / 100) * \n",
    "    (uniprot_pairs_final['alignment_coverage_2'] / 100))\n",
    "uniprot_pairs_final['alignment_coverage_avg'].hist()\n",
    "plt.xlabel('alignment_coverage_avg')\n",
    "plt.ylabel('Number of domain pairs')"
   ]
  },
  {
   "cell_type": "markdown",
   "metadata": {},
   "source": [
    "### alignment_identity_avg"
   ]
  },
  {
   "cell_type": "code",
   "execution_count": 656,
   "metadata": {
    "collapsed": false,
    "run_control": {
     "marked": false
    }
   },
   "outputs": [
    {
     "data": {
      "text/plain": [
       "<matplotlib.text.Text at 0x7f36cd08ac88>"
      ]
     },
     "execution_count": 656,
     "metadata": {},
     "output_type": "execute_result"
    },
    {
     "data": {
      "image/png": "[encoded data removed]",
      "text/plain": [
       "<matplotlib.figure.Figure at 0x7f36cd45ab00>"
      ]
     },
     "metadata": {},
     "output_type": "display_data"
    }
   ],
   "source": [
    "uniprot_pairs_interacting_2['alignment_identity_avg'] = np.sqrt(\n",
    "    (uniprot_pairs_interacting_2['alignment_identity_1'] / 100) *\n",
    "    (uniprot_pairs_interacting_2['alignment_identity_2'] / 100))\n",
    "uniprot_pairs_interacting_2['alignment_identity_avg'].hist()\n",
    "plt.xlabel('alignment_identity_avg')\n",
    "plt.ylabel('Number of domain pairs')"
   ]
  },
  {
   "cell_type": "code",
   "execution_count": 657,
   "metadata": {
    "collapsed": false,
    "run_control": {
     "marked": false
    }
   },
   "outputs": [
    {
     "data": {
      "text/plain": [
       "<matplotlib.text.Text at 0x7f36cd06f630>"
      ]
     },
     "execution_count": 657,
     "metadata": {},
     "output_type": "execute_result"
    },
    {
     "data": {
      "image/png": "[encoded data removed]",
      "text/plain": [
       "<matplotlib.figure.Figure at 0x7f36cd077b38>"
      ]
     },
     "metadata": {},
     "output_type": "display_data"
    }
   ],
   "source": [
    "uniprot_pairs_interacting_3f['alignment_identity_avg'] = np.sqrt(\n",
    "    (uniprot_pairs_interacting_3f['alignment_identity_1'] / 100) *\n",
    "    (uniprot_pairs_interacting_3f['alignment_identity_2'] / 100))\n",
    "uniprot_pairs_interacting_3f['alignment_identity_avg'].hist()\n",
    "plt.xlabel('alignment_identity_avg')\n",
    "plt.ylabel('Number of domain pairs')"
   ]
  },
  {
   "cell_type": "code",
   "execution_count": 660,
   "metadata": {
    "collapsed": false
   },
   "outputs": [
    {
     "data": {
      "text/plain": [
       "<matplotlib.text.Text at 0x7f36ccef0828>"
      ]
     },
     "execution_count": 660,
     "metadata": {},
     "output_type": "execute_result"
    },
    {
     "data": {
      "image/png": "[encoded data removed]",
      "text/plain": [
       "<matplotlib.figure.Figure at 0x7f36cceb0c50>"
      ]
     },
     "metadata": {},
     "output_type": "display_data"
    }
   ],
   "source": [
    "uniprot_pairs_final['alignment_identity_avg'] = np.sqrt(\n",
    "    (uniprot_pairs_final['alignment_identity_1'] / 100) *\n",
    "    (uniprot_pairs_final['alignment_identity_2'] / 100))\n",
    "uniprot_pairs_final['alignment_identity_avg'].hist()\n",
    "plt.xlabel('alignment_identity_avg')\n",
    "plt.ylabel('Number of domain pairs')"
   ]
  },
  {
   "cell_type": "markdown",
   "metadata": {},
   "source": [
    "### alignment_score_avg"
   ]
  },
  {
   "cell_type": "code",
   "execution_count": 678,
   "metadata": {
    "collapsed": false
   },
   "outputs": [
    {
     "data": {
      "text/plain": [
       "<matplotlib.text.Text at 0x7f34f2082ef0>"
      ]
     },
     "execution_count": 678,
     "metadata": {},
     "output_type": "execute_result"
    },
    {
     "data": {
      "image/png": "[encoded data removed]",
      "text/plain": [
       "<matplotlib.figure.Figure at 0x7f34f1eb9fd0>"
      ]
     },
     "metadata": {},
     "output_type": "display_data"
    }
   ],
   "source": [
    "# alignment_score_all\n",
    "uniprot_pairs_interacting_2['alignment_score_avg'] = np.sqrt(\n",
    "    (uniprot_pairs_interacting_2['alignment_score_1']) *\n",
    "    (uniprot_pairs_interacting_2['alignment_score_2']))\n",
    "uniprot_pairs_interacting_2['alignment_score_avg'].hist(range=(0, 1))\n",
    "plt.xlabel('alignment_score_avg')\n",
    "plt.ylabel('Number of domain pairs')"
   ]
  },
  {
   "cell_type": "code",
   "execution_count": 679,
   "metadata": {
    "collapsed": false,
    "run_control": {
     "marked": false
    }
   },
   "outputs": [
    {
     "data": {
      "text/plain": [
       "<matplotlib.text.Text at 0x7f34f1e8c048>"
      ]
     },
     "execution_count": 679,
     "metadata": {},
     "output_type": "execute_result"
    },
    {
     "data": {
      "image/png": "[encoded data removed]",
      "text/plain": [
       "<matplotlib.figure.Figure at 0x7f34f1e419b0>"
      ]
     },
     "metadata": {},
     "output_type": "display_data"
    }
   ],
   "source": [
    "# alignment_score_all\n",
    "uniprot_pairs_interacting_3f['alignment_score_avg'] = np.sqrt(\n",
    "    (uniprot_pairs_interacting_2['alignment_score_1']) *\n",
    "    (uniprot_pairs_interacting_2['alignment_score_2']))\n",
    "uniprot_pairs_interacting_3f['alignment_score_avg'].hist(range=(0, 1))\n",
    "plt.xlabel('alignment_score_avg')\n",
    "plt.ylabel('Number of domain pairs')"
   ]
  },
  {
   "cell_type": "code",
   "execution_count": 680,
   "metadata": {
    "collapsed": false
   },
   "outputs": [
    {
     "data": {
      "text/plain": [
       "<matplotlib.text.Text at 0x7f34f1d36780>"
      ]
     },
     "execution_count": 680,
     "metadata": {},
     "output_type": "execute_result"
    },
    {
     "data": {
      "image/png": "[encoded data removed]",
      "text/plain": [
       "<matplotlib.figure.Figure at 0x7f34f1d98f98>"
      ]
     },
     "metadata": {},
     "output_type": "display_data"
    }
   ],
   "source": [
    "# alignment_score_all\n",
    "uniprot_pairs_final['alignment_score_avg'] = np.sqrt(\n",
    "    (uniprot_pairs_interacting_2['alignment_score_1']) *\n",
    "    (uniprot_pairs_interacting_2['alignment_score_2']))\n",
    "uniprot_pairs_final['alignment_score_avg'].hist(range=(0, 1))\n",
    "plt.xlabel('alignment_score_avg')\n",
    "plt.ylabel('Number of domain pairs')"
   ]
  },
  {
   "cell_type": "markdown",
   "metadata": {},
   "source": [
    "### max_seq_identity"
   ]
  },
  {
   "cell_type": "code",
   "execution_count": 681,
   "metadata": {
    "collapsed": false,
    "run_control": {
     "marked": false
    }
   },
   "outputs": [
    {
     "data": {
      "text/plain": [
       "<matplotlib.text.Text at 0x7f34f1d8f8d0>"
      ]
     },
     "execution_count": 681,
     "metadata": {},
     "output_type": "execute_result"
    },
    {
     "data": {
      "image/png": "[encoded data removed]",
      "text/plain": [
       "<matplotlib.figure.Figure at 0x7f34f1d33898>"
      ]
     },
     "metadata": {},
     "output_type": "display_data"
    }
   ],
   "source": [
    "# max_seq_identity\n",
    "uniprot_pairs_interacting_2['max_seq_identity'] = (\n",
    "    uniprot_pairs_interacting_2['alignment_identity_avg'].apply(local.get_max_seq_identity)\n",
    ")\n",
    "(uniprot_pairs_interacting_2['max_seq_identity'] - 1).hist(range=(0, 100), bins=10)\n",
    "plt.xlabel('max_seq_identity')\n",
    "plt.ylabel('Number of domain pairs')"
   ]
  },
  {
   "cell_type": "code",
   "execution_count": 682,
   "metadata": {
    "collapsed": false,
    "run_control": {
     "marked": false
    }
   },
   "outputs": [
    {
     "data": {
      "text/plain": [
       "<matplotlib.text.Text at 0x7f34f1f96a90>"
      ]
     },
     "execution_count": 682,
     "metadata": {},
     "output_type": "execute_result"
    },
    {
     "data": {
      "image/png": "[encoded data removed]",
      "text/plain": [
       "<matplotlib.figure.Figure at 0x7f34f1c7c438>"
      ]
     },
     "metadata": {},
     "output_type": "display_data"
    }
   ],
   "source": [
    "# max_seq_identity\n",
    "uniprot_pairs_interacting_3f['max_seq_identity'] = (\n",
    "    uniprot_pairs_interacting_3f['alignment_identity_avg'].apply(local.get_max_seq_identity)\n",
    ")\n",
    "(uniprot_pairs_interacting_3f['max_seq_identity'] - 1).hist(range=(0, 100), bins=10)\n",
    "plt.xlabel('max_seq_identity')\n",
    "plt.ylabel('Number of domain pairs')"
   ]
  },
  {
   "cell_type": "code",
   "execution_count": 683,
   "metadata": {
    "collapsed": false
   },
   "outputs": [
    {
     "data": {
      "text/plain": [
       "<matplotlib.text.Text at 0x7f34f1c52208>"
      ]
     },
     "execution_count": 683,
     "metadata": {},
     "output_type": "execute_result"
    },
    {
     "data": {
      "image/png": "[encoded data removed]",
      "text/plain": [
       "<matplotlib.figure.Figure at 0x7f34f1d1b5f8>"
      ]
     },
     "metadata": {},
     "output_type": "display_data"
    }
   ],
   "source": [
    "# max_seq_identity\n",
    "uniprot_pairs_final['max_seq_identity'] = (\n",
    "    uniprot_pairs_final['alignment_identity_avg'].apply(local.get_max_seq_identity)\n",
    ")\n",
    "(uniprot_pairs_final['max_seq_identity'] - 1).hist(range=(0, 100), bins=10)\n",
    "plt.xlabel('max_seq_identity')\n",
    "plt.ylabel('Number of domain pairs')"
   ]
  },
  {
   "cell_type": "markdown",
   "metadata": {
    "collapsed": true,
    "run_control": {
     "marked": false
    }
   },
   "source": [
    "## Save to database"
   ]
  },
  {
   "cell_type": "markdown",
   "metadata": {
    "run_control": {
     "marked": false
    }
   },
   "source": [
    "### uniprot_domain_pair"
   ]
  },
  {
   "cell_type": "code",
   "execution_count": 285,
   "metadata": {
    "collapsed": false,
    "run_control": {
     "marked": false
    }
   },
   "outputs": [],
   "source": [
    "uniprot_pairs_final = uniprot_pairs_final_bak.copy()"
   ]
  },
  {
   "cell_type": "code",
   "execution_count": 286,
   "metadata": {
    "collapsed": true,
    "run_control": {
     "marked": false
    }
   },
   "outputs": [],
   "source": [
    "uniprot_pairs_final['uniprot_domain_pair_id'] = range(1, len(uniprot_pairs_final) + 1)"
   ]
  },
  {
   "cell_type": "code",
   "execution_count": 287,
   "metadata": {
    "collapsed": true,
    "run_control": {
     "marked": false
    }
   },
   "outputs": [],
   "source": [
    "uniprot_pairs_final['uniprot_id_1'] = uniprot_pairs_final['uniprot_id']\n",
    "uniprot_pairs_final['uniprot_id_2'] = uniprot_pairs_final['partner_uniprot_id']"
   ]
  },
  {
   "cell_type": "code",
   "execution_count": 288,
   "metadata": {
    "collapsed": false,
    "run_control": {
     "marked": false
    }
   },
   "outputs": [],
   "source": [
    "# Change the uniprot_id_1, uniprot_id_2 order if it is wrong\n",
    "uniprot_pairs_final.loc[\n",
    "    uniprot_pairs_final['uniprot_id'] > uniprot_pairs_final['partner_uniprot_id'],\n",
    "    'uniprot_id_1'\n",
    "] = uniprot_pairs_final.loc[\n",
    "    uniprot_pairs_final['uniprot_id'] > uniprot_pairs_final['partner_uniprot_id'],\n",
    "    'partner_uniprot_id'\n",
    "]\n",
    "\n",
    "uniprot_pairs_final.loc[\n",
    "    uniprot_pairs_final['uniprot_id'] > uniprot_pairs_final['partner_uniprot_id'],\n",
    "    'uniprot_id_2'\n",
    "] = uniprot_pairs_final.loc[\n",
    "    uniprot_pairs_final['uniprot_id'] > uniprot_pairs_final['partner_uniprot_id'],\n",
    "    'uniprot_id'\n",
    "]"
   ]
  },
  {
   "cell_type": "code",
   "execution_count": 289,
   "metadata": {
    "collapsed": false,
    "run_control": {
     "marked": false
    },
    "scrolled": false
   },
   "outputs": [
    {
     "data": {
      "text/html": [
       "<div>\n",
       "<table border=\"1\" class=\"dataframe\">\n",
       "  <thead>\n",
       "    <tr style=\"text-align: right;\">\n",
       "      <th></th>\n",
       "      <th>uniprot_id</th>\n",
       "      <th>partner_uniprot_id</th>\n",
       "      <th>alignment_coverage_1</th>\n",
       "      <th>alignment_identity_1</th>\n",
       "      <th>alignment_length_1</th>\n",
       "      <th>alignment_score_1</th>\n",
       "      <th>bitscore_1</th>\n",
       "      <th>domain_def_new_1</th>\n",
       "      <th>domain_end_new_1</th>\n",
       "      <th>domain_start_new_1</th>\n",
       "      <th>evalue_1</th>\n",
       "      <th>gap_opens_1</th>\n",
       "      <th>mismatches_1</th>\n",
       "      <th>pc_identity_1</th>\n",
       "      <th>pdb_cath_id_1</th>\n",
       "      <th>pdb_chain_1</th>\n",
       "      <th>pdb_domain_def_1</th>\n",
       "      <th>pdb_id_1</th>\n",
       "      <th>pdb_pdbfam_idx_1</th>\n",
       "      <th>pdb_pdbfam_name_1</th>\n",
       "      <th>pdb_pfam_clan_1</th>\n",
       "      <th>q_end_1</th>\n",
       "      <th>q_start_1</th>\n",
       "      <th>qseq_1</th>\n",
       "      <th>query_id_1</th>\n",
       "      <th>s_end_1</th>\n",
       "      <th>s_start_1</th>\n",
       "      <th>sseq_1</th>\n",
       "      <th>subject_id_1</th>\n",
       "      <th>t_date_modified_1</th>\n",
       "      <th>uniprot_domain_id_1</th>\n",
       "      <th>uniprot_domain_sequence_1</th>\n",
       "      <th>uniprot_sequence_1</th>\n",
       "      <th>a2b_1</th>\n",
       "      <th>b2a_1</th>\n",
       "      <th>alignment_coverage_2</th>\n",
       "      <th>alignment_identity_2</th>\n",
       "      <th>alignment_length_2</th>\n",
       "      <th>alignment_score_2</th>\n",
       "      <th>bitscore_2</th>\n",
       "      <th>domain_def_new_2</th>\n",
       "      <th>domain_end_new_2</th>\n",
       "      <th>domain_start_new_2</th>\n",
       "      <th>evalue_2</th>\n",
       "      <th>gap_opens_2</th>\n",
       "      <th>mismatches_2</th>\n",
       "      <th>pc_identity_2</th>\n",
       "      <th>pdb_cath_id_2</th>\n",
       "      <th>pdb_chain_2</th>\n",
       "      <th>pdb_domain_def_2</th>\n",
       "      <th>pdb_id_2</th>\n",
       "      <th>pdb_pdbfam_idx_2</th>\n",
       "      <th>pdb_pdbfam_name_2</th>\n",
       "      <th>pdb_pfam_clan_2</th>\n",
       "      <th>q_end_2</th>\n",
       "      <th>q_start_2</th>\n",
       "      <th>qseq_2</th>\n",
       "      <th>query_id_2</th>\n",
       "      <th>s_end_2</th>\n",
       "      <th>s_start_2</th>\n",
       "      <th>sseq_2</th>\n",
       "      <th>subject_id_2</th>\n",
       "      <th>t_date_modified_2</th>\n",
       "      <th>uniprot_domain_id_2</th>\n",
       "      <th>uniprot_domain_sequence_2</th>\n",
       "      <th>uniprot_sequence_2</th>\n",
       "      <th>a2b_2</th>\n",
       "      <th>b2a_2</th>\n",
       "      <th>chain_idx_1</th>\n",
       "      <th>residue_idx_1</th>\n",
       "      <th>residue_resname_1</th>\n",
       "      <th>residue_aa_1</th>\n",
       "      <th>chain_idx_2</th>\n",
       "      <th>residue_idx_2</th>\n",
       "      <th>residue_resname_2</th>\n",
       "      <th>residue_aa_2</th>\n",
       "      <th>residue_1_in_domain</th>\n",
       "      <th>residue_2_in_domain</th>\n",
       "      <th>uniprot_mutation</th>\n",
       "      <th>mutation_in_interface</th>\n",
       "      <th>alignment_coverage_avg</th>\n",
       "      <th>alignment_identity_avg</th>\n",
       "      <th>alignment_score_avg</th>\n",
       "      <th>max_seq_identity</th>\n",
       "      <th>uniprot_domain_pair_id</th>\n",
       "      <th>uniprot_id_1</th>\n",
       "      <th>uniprot_id_2</th>\n",
       "    </tr>\n",
       "  </thead>\n",
       "  <tbody>\n",
       "    <tr>\n",
       "      <th>426</th>\n",
       "      <td>A0NA69</td>\n",
       "      <td>P01820</td>\n",
       "      <td>94.174757</td>\n",
       "      <td>95.88</td>\n",
       "      <td>97.0</td>\n",
       "      <td>0.904888</td>\n",
       "      <td>190.0</td>\n",
       "      <td>20:116</td>\n",
       "      <td>116.0</td>\n",
       "      <td>20.0</td>\n",
       "      <td>2.000000e-61</td>\n",
       "      <td>1.0</td>\n",
       "      <td>1.0</td>\n",
       "      <td>95.88</td>\n",
       "      <td>4k2uH00</td>\n",
       "      <td>H</td>\n",
       "      <td>1:212</td>\n",
       "      <td>4k2u</td>\n",
       "      <td>1.0</td>\n",
       "      <td>V-set+C1-set</td>\n",
       "      <td>Ig</td>\n",
       "      <td>97.0</td>\n",
       "      <td>1.0</td>\n",
       "      <td>EVQLQQSGAELVKPGASVKLSCTASGFNIKDTYMHWVKQRPEQGLE...</td>\n",
       "      <td>unnamed</td>\n",
       "      <td>94.0</td>\n",
       "      <td>1.0</td>\n",
       "      <td>EVQLQQSGAELVKPGASVKLSCTASGFNIKDNYMHWVKQRP---LE...</td>\n",
       "      <td>4k2u_H|V-set+C1-set|1|Ig|1:212|4k2uH00</td>\n",
       "      <td>2016-08-02 10:43:20.429652</td>\n",
       "      <td>51959162</td>\n",
       "      <td>EVQLQQSGAELVKPGASVKLSCTASGFNIKDTYMHWVKQRPEQGLE...</td>\n",
       "      <td>MKCSWVIFFLMAVVTGVNSEVQLQQSGAELVKPGASVKLSCTASGF...</td>\n",
       "      <td>1,2,3,4,5,6,7,8,9,10,11,12,13,14,15,16,17,18,1...</td>\n",
       "      <td>1,2,3,4,5,6,7,8,9,10,11,12,13,14,15,16,17,18,1...</td>\n",
       "      <td>100.0</td>\n",
       "      <td>41.24</td>\n",
       "      <td>97.0</td>\n",
       "      <td>0.44178</td>\n",
       "      <td>87.4</td>\n",
       "      <td>20:115</td>\n",
       "      <td>115.0</td>\n",
       "      <td>20.0</td>\n",
       "      <td>1.000000e-21</td>\n",
       "      <td>1.0</td>\n",
       "      <td>56.0</td>\n",
       "      <td>41.24</td>\n",
       "      <td>4k2uI00</td>\n",
       "      <td>I</td>\n",
       "      <td>1:213</td>\n",
       "      <td>4k2u</td>\n",
       "      <td>1.0</td>\n",
       "      <td>V-set+C1-set</td>\n",
       "      <td>Ig</td>\n",
       "      <td>96.0</td>\n",
       "      <td>1.0</td>\n",
       "      <td>QVQLKESGPGLVAPSQSLSITCTVSGFSLTGYGVNWVRQPPGKGLE...</td>\n",
       "      <td>unnamed</td>\n",
       "      <td>97.0</td>\n",
       "      <td>1.0</td>\n",
       "      <td>EVQLQQSGAELVKPGASVKLSCTASGFNIKDNYMHWVKQRPEQGLE...</td>\n",
       "      <td>4k2u_I|V-set+C1-set|1|Ig|1:213|4k2uI00</td>\n",
       "      <td>2016-08-02 10:43:23.217894</td>\n",
       "      <td>70394142</td>\n",
       "      <td>QVQLKESGPGLVAPSQSLSITCTVSGFSLTGYGVNWVRQPPGKGLE...</td>\n",
       "      <td>MAVLALLFCLVTFPSCILSQVQLKESGPGLVAPSQSLSITCTVSGF...</td>\n",
       "      <td>1,2,3,4,5,6,7,8,9,10,11,12,13,14,15,16,17,18,1...</td>\n",
       "      <td>1,2,3,4,5,6,7,8,9,10,11,12,13,14,15,16,17,18,1...</td>\n",
       "      <td>2</td>\n",
       "      <td>29</td>\n",
       "      <td>30</td>\n",
       "      <td>K</td>\n",
       "      <td>3</td>\n",
       "      <td>74</td>\n",
       "      <td>74</td>\n",
       "      <td>S</td>\n",
       "      <td>True</td>\n",
       "      <td>True</td>\n",
       "      <td>K49A</td>\n",
       "      <td>True</td>\n",
       "      <td>0.970874</td>\n",
       "      <td>0.6856</td>\n",
       "      <td>0.673334</td>\n",
       "      <td>80</td>\n",
       "      <td>3</td>\n",
       "      <td>A0NA69</td>\n",
       "      <td>P01820</td>\n",
       "    </tr>\n",
       "  </tbody>\n",
       "</table>\n",
       "</div>"
      ],
      "text/plain": [
       "    uniprot_id partner_uniprot_id  alignment_coverage_1  alignment_identity_1  alignment_length_1  alignment_score_1  bitscore_1 domain_def_new_1  domain_end_new_1  domain_start_new_1      evalue_1  gap_opens_1  mismatches_1  pc_identity_1 pdb_cath_id_1 pdb_chain_1 pdb_domain_def_1 pdb_id_1  pdb_pdbfam_idx_1 pdb_pdbfam_name_1 pdb_pfam_clan_1  q_end_1  q_start_1                                             qseq_1 query_id_1  s_end_1  s_start_1                                             sseq_1                            subject_id_1          t_date_modified_1  uniprot_domain_id_1                          uniprot_domain_sequence_1                                 uniprot_sequence_1                                              a2b_1                                              b2a_1  alignment_coverage_2  alignment_identity_2  alignment_length_2  alignment_score_2  bitscore_2 domain_def_new_2  domain_end_new_2  domain_start_new_2      evalue_2  gap_opens_2  mismatches_2  pc_identity_2  \\\n",
       "426     A0NA69             P01820             94.174757                 95.88                97.0           0.904888       190.0           20:116             116.0                20.0  2.000000e-61          1.0           1.0          95.88       4k2uH00           H            1:212     4k2u               1.0      V-set+C1-set              Ig     97.0        1.0  EVQLQQSGAELVKPGASVKLSCTASGFNIKDTYMHWVKQRPEQGLE...    unnamed     94.0        1.0  EVQLQQSGAELVKPGASVKLSCTASGFNIKDNYMHWVKQRP---LE...  4k2u_H|V-set+C1-set|1|Ig|1:212|4k2uH00 2016-08-02 10:43:20.429652             51959162  EVQLQQSGAELVKPGASVKLSCTASGFNIKDTYMHWVKQRPEQGLE...  MKCSWVIFFLMAVVTGVNSEVQLQQSGAELVKPGASVKLSCTASGF...  1,2,3,4,5,6,7,8,9,10,11,12,13,14,15,16,17,18,1...  1,2,3,4,5,6,7,8,9,10,11,12,13,14,15,16,17,18,1...                 100.0                 41.24                97.0            0.44178        87.4           20:115             115.0                20.0  1.000000e-21          1.0          56.0          41.24   \n",
       "\n",
       "    pdb_cath_id_2 pdb_chain_2 pdb_domain_def_2 pdb_id_2  pdb_pdbfam_idx_2 pdb_pdbfam_name_2 pdb_pfam_clan_2  q_end_2  q_start_2                                             qseq_2 query_id_2  s_end_2  s_start_2                                             sseq_2                            subject_id_2          t_date_modified_2  uniprot_domain_id_2                          uniprot_domain_sequence_2                                 uniprot_sequence_2                                              a2b_2                                              b2a_2  chain_idx_1  residue_idx_1 residue_resname_1 residue_aa_1  chain_idx_2  residue_idx_2 residue_resname_2 residue_aa_2 residue_1_in_domain residue_2_in_domain uniprot_mutation mutation_in_interface  alignment_coverage_avg  alignment_identity_avg  alignment_score_avg  max_seq_identity  uniprot_domain_pair_id uniprot_id_1 uniprot_id_2  \n",
       "426       4k2uI00           I            1:213     4k2u               1.0      V-set+C1-set              Ig     96.0        1.0  QVQLKESGPGLVAPSQSLSITCTVSGFSLTGYGVNWVRQPPGKGLE...    unnamed     97.0        1.0  EVQLQQSGAELVKPGASVKLSCTASGFNIKDNYMHWVKQRPEQGLE...  4k2u_I|V-set+C1-set|1|Ig|1:213|4k2uI00 2016-08-02 10:43:23.217894             70394142  QVQLKESGPGLVAPSQSLSITCTVSGFSLTGYGVNWVRQPPGKGLE...  MAVLALLFCLVTFPSCILSQVQLKESGPGLVAPSQSLSITCTVSGF...  1,2,3,4,5,6,7,8,9,10,11,12,13,14,15,16,17,18,1...  1,2,3,4,5,6,7,8,9,10,11,12,13,14,15,16,17,18,1...            2             29                30            K            3             74                74            S                True                True             K49A                  True                0.970874                  0.6856             0.673334                80                       3       A0NA69       P01820  "
      ]
     },
     "execution_count": 289,
     "metadata": {},
     "output_type": "execute_result"
    }
   ],
   "source": [
    "uniprot_pairs_final[\n",
    "    (uniprot_pairs_final['uniprot_domain_id_1'] == 51959162) &\n",
    "    (uniprot_pairs_final['uniprot_domain_id_2'] == 70394142) & \n",
    "    (uniprot_pairs_final['max_seq_identity'] == 80)\n",
    "]"
   ]
  },
  {
   "cell_type": "code",
   "execution_count": 292,
   "metadata": {
    "code_folding": [],
    "collapsed": false,
    "run_control": {
     "marked": false
    }
   },
   "outputs": [
    {
     "name": "stdout",
     "output_type": "stream",
     "text": [
      "rigids\n",
      "domain_contact_ids\n",
      "path_to_data\n"
     ]
    }
   ],
   "source": [
    "# Fill `uniprot_domain_pair` table\n",
    "sql_command = \"\"\"\\\n",
    "SET FOREIGN_KEY_CHECKS=0;\n",
    "TRUNCATE TABLE elaspic_training_interface.uniprot_domain_pair;\n",
    "SET FOREIGN_KEY_CHECKS=1;\n",
    "\"\"\"\n",
    "db.engine.execute(sql_command)\n",
    "\n",
    "columns = [\n",
    "    c.name for c in elaspic.elaspic_database_tables.UniprotDomainPair.__table__.columns\n",
    "]\n",
    "uniprot_domain_pair = (\n",
    "    uniprot_pairs_final\n",
    "    [[c for c in columns if c in uniprot_pairs_final.columns or print(c)]]\n",
    ")\n",
    "\n",
    "uniprot_domain_pair.to_sql(\n",
    "    'uniprot_domain_pair', db.engine, schema=NOTEBOOK_NAME, if_exists='append', index=False)"
   ]
  },
  {
   "cell_type": "markdown",
   "metadata": {
    "run_control": {
     "marked": false
    }
   },
   "source": [
    "### uniprot_domain_pair_template"
   ]
  },
  {
   "cell_type": "code",
   "execution_count": 293,
   "metadata": {
    "collapsed": false,
    "run_control": {
     "marked": false
    }
   },
   "outputs": [
    {
     "data": {
      "text/html": [
       "<div>\n",
       "<table border=\"1\" class=\"dataframe\">\n",
       "  <thead>\n",
       "    <tr style=\"text-align: right;\">\n",
       "      <th></th>\n",
       "      <th>uniprot_id</th>\n",
       "      <th>partner_uniprot_id</th>\n",
       "      <th>alignment_coverage_1</th>\n",
       "      <th>alignment_identity_1</th>\n",
       "      <th>alignment_length_1</th>\n",
       "      <th>alignment_score_1</th>\n",
       "      <th>bitscore_1</th>\n",
       "      <th>domain_def_new_1</th>\n",
       "      <th>domain_end_new_1</th>\n",
       "      <th>domain_start_new_1</th>\n",
       "      <th>evalue_1</th>\n",
       "      <th>gap_opens_1</th>\n",
       "      <th>mismatches_1</th>\n",
       "      <th>pc_identity_1</th>\n",
       "      <th>pdb_cath_id_1</th>\n",
       "      <th>pdb_chain_1</th>\n",
       "      <th>pdb_domain_def_1</th>\n",
       "      <th>pdb_id_1</th>\n",
       "      <th>pdb_pdbfam_idx_1</th>\n",
       "      <th>pdb_pdbfam_name_1</th>\n",
       "      <th>pdb_pfam_clan_1</th>\n",
       "      <th>q_end_1</th>\n",
       "      <th>q_start_1</th>\n",
       "      <th>qseq_1</th>\n",
       "      <th>query_id_1</th>\n",
       "      <th>s_end_1</th>\n",
       "      <th>s_start_1</th>\n",
       "      <th>sseq_1</th>\n",
       "      <th>subject_id_1</th>\n",
       "      <th>t_date_modified_1</th>\n",
       "      <th>uniprot_domain_id_1</th>\n",
       "      <th>uniprot_domain_sequence_1</th>\n",
       "      <th>uniprot_sequence_1</th>\n",
       "      <th>a2b_1</th>\n",
       "      <th>b2a_1</th>\n",
       "      <th>alignment_coverage_2</th>\n",
       "      <th>alignment_identity_2</th>\n",
       "      <th>alignment_length_2</th>\n",
       "      <th>alignment_score_2</th>\n",
       "      <th>bitscore_2</th>\n",
       "      <th>domain_def_new_2</th>\n",
       "      <th>domain_end_new_2</th>\n",
       "      <th>domain_start_new_2</th>\n",
       "      <th>evalue_2</th>\n",
       "      <th>gap_opens_2</th>\n",
       "      <th>mismatches_2</th>\n",
       "      <th>pc_identity_2</th>\n",
       "      <th>pdb_cath_id_2</th>\n",
       "      <th>pdb_chain_2</th>\n",
       "      <th>pdb_domain_def_2</th>\n",
       "      <th>pdb_id_2</th>\n",
       "      <th>pdb_pdbfam_idx_2</th>\n",
       "      <th>pdb_pdbfam_name_2</th>\n",
       "      <th>pdb_pfam_clan_2</th>\n",
       "      <th>q_end_2</th>\n",
       "      <th>q_start_2</th>\n",
       "      <th>qseq_2</th>\n",
       "      <th>query_id_2</th>\n",
       "      <th>s_end_2</th>\n",
       "      <th>s_start_2</th>\n",
       "      <th>sseq_2</th>\n",
       "      <th>subject_id_2</th>\n",
       "      <th>t_date_modified_2</th>\n",
       "      <th>uniprot_domain_id_2</th>\n",
       "      <th>uniprot_domain_sequence_2</th>\n",
       "      <th>uniprot_sequence_2</th>\n",
       "      <th>a2b_2</th>\n",
       "      <th>b2a_2</th>\n",
       "      <th>chain_idx_1</th>\n",
       "      <th>residue_idx_1</th>\n",
       "      <th>residue_resname_1</th>\n",
       "      <th>residue_aa_1</th>\n",
       "      <th>chain_idx_2</th>\n",
       "      <th>residue_idx_2</th>\n",
       "      <th>residue_resname_2</th>\n",
       "      <th>residue_aa_2</th>\n",
       "      <th>residue_1_in_domain</th>\n",
       "      <th>residue_2_in_domain</th>\n",
       "      <th>uniprot_mutation</th>\n",
       "      <th>mutation_in_interface</th>\n",
       "      <th>alignment_coverage_avg</th>\n",
       "      <th>alignment_identity_avg</th>\n",
       "      <th>alignment_score_avg</th>\n",
       "      <th>max_seq_identity</th>\n",
       "      <th>uniprot_domain_pair_id</th>\n",
       "      <th>uniprot_id_1</th>\n",
       "      <th>uniprot_id_2</th>\n",
       "    </tr>\n",
       "  </thead>\n",
       "  <tbody>\n",
       "    <tr>\n",
       "      <th>360036</th>\n",
       "      <td>A0NA69</td>\n",
       "      <td>P01820</td>\n",
       "      <td>93.203883</td>\n",
       "      <td>37.11</td>\n",
       "      <td>97.0</td>\n",
       "      <td>0.375188</td>\n",
       "      <td>46.6</td>\n",
       "      <td>20:115</td>\n",
       "      <td>115.0</td>\n",
       "      <td>20.0</td>\n",
       "      <td>2.000000e-07</td>\n",
       "      <td>4.0</td>\n",
       "      <td>51.0</td>\n",
       "      <td>37.11</td>\n",
       "      <td>4jdvL00</td>\n",
       "      <td>L</td>\n",
       "      <td>1:104</td>\n",
       "      <td>4jdv</td>\n",
       "      <td>1.0</td>\n",
       "      <td>V-set</td>\n",
       "      <td>Ig</td>\n",
       "      <td>96.0</td>\n",
       "      <td>1.0</td>\n",
       "      <td>EVQLQQSGAEL-VKPGASVKLSCTASGFNIKDTYMHWVKQRPEQGL...</td>\n",
       "      <td>unnamed</td>\n",
       "      <td>88.0</td>\n",
       "      <td>1.0</td>\n",
       "      <td>EIVLTQSPATLSLSPGERATLSCRAS--QSVSSYLAWYQQKPGQAP...</td>\n",
       "      <td>4jdv_L|V-set|1|Ig|1:104|4jdvL00</td>\n",
       "      <td>2016-08-02 10:43:20.429652</td>\n",
       "      <td>51959162</td>\n",
       "      <td>EVQLQQSGAELVKPGASVKLSCTASGFNIKDTYMHWVKQRPEQGLE...</td>\n",
       "      <td>MKCSWVIFFLMAVVTGVNSEVQLQQSGAELVKPGASVKLSCTASGF...</td>\n",
       "      <td>1,2,3,4,5,6,7,8,9,10,11,,12,13,14,15,16,17,18,...</td>\n",
       "      <td>1,2,3,4,5,6,7,8,9,10,11,13,14,15,16,17,18,19,2...</td>\n",
       "      <td>98.958333</td>\n",
       "      <td>42.71</td>\n",
       "      <td>96.0</td>\n",
       "      <td>0.450998</td>\n",
       "      <td>92.4</td>\n",
       "      <td>21:115</td>\n",
       "      <td>115.0</td>\n",
       "      <td>21.0</td>\n",
       "      <td>1.000000e-23</td>\n",
       "      <td>1.0</td>\n",
       "      <td>54.0</td>\n",
       "      <td>42.71</td>\n",
       "      <td>4jdvH02</td>\n",
       "      <td>H</td>\n",
       "      <td>2:217</td>\n",
       "      <td>4jdv</td>\n",
       "      <td>1.0</td>\n",
       "      <td>V-set+C1-set</td>\n",
       "      <td>Ig</td>\n",
       "      <td>96.0</td>\n",
       "      <td>2.0</td>\n",
       "      <td>VQLKESGPGLVAPSQSLSITCTVSGFSLTGYGVNWVRQPPGKGLEW...</td>\n",
       "      <td>unnamed</td>\n",
       "      <td>96.0</td>\n",
       "      <td>1.0</td>\n",
       "      <td>VQLVQSGAEVKKPGASVKVSCKASGYTFTGYYMHWVRQAPGQGLEW...</td>\n",
       "      <td>4jdv_H|V-set+C1-set|1|Ig|2:217|4jdvH02</td>\n",
       "      <td>2016-08-02 10:43:23.217894</td>\n",
       "      <td>70394142</td>\n",
       "      <td>QVQLKESGPGLVAPSQSLSITCTVSGFSLTGYGVNWVRQPPGKGLE...</td>\n",
       "      <td>MAVLALLFCLVTFPSCILSQVQLKESGPGLVAPSQSLSITCTVSGF...</td>\n",
       "      <td>1,2,3,4,5,6,7,8,9,10,11,12,13,14,15,16,17,18,1...</td>\n",
       "      <td>1,2,3,4,5,6,7,8,9,10,11,12,13,14,15,16,17,18,1...</td>\n",
       "      <td>3</td>\n",
       "      <td>49</td>\n",
       "      <td>50</td>\n",
       "      <td>D</td>\n",
       "      <td>2</td>\n",
       "      <td>109</td>\n",
       "      <td>103</td>\n",
       "      <td>D</td>\n",
       "      <td>True</td>\n",
       "      <td>True</td>\n",
       "      <td>D71A</td>\n",
       "      <td>True</td>\n",
       "      <td>0.960811</td>\n",
       "      <td>0.39910</td>\n",
       "      <td>0.413093</td>\n",
       "      <td>40</td>\n",
       "      <td>1</td>\n",
       "      <td>A0NA69</td>\n",
       "      <td>P01820</td>\n",
       "    </tr>\n",
       "    <tr>\n",
       "      <th>11336</th>\n",
       "      <td>A0NA69</td>\n",
       "      <td>P01820</td>\n",
       "      <td>95.145631</td>\n",
       "      <td>72.45</td>\n",
       "      <td>98.0</td>\n",
       "      <td>0.702436</td>\n",
       "      <td>153.0</td>\n",
       "      <td>20:117</td>\n",
       "      <td>117.0</td>\n",
       "      <td>20.0</td>\n",
       "      <td>5.000000e-47</td>\n",
       "      <td>0.0</td>\n",
       "      <td>27.0</td>\n",
       "      <td>72.45</td>\n",
       "      <td>1xgyI02</td>\n",
       "      <td>I</td>\n",
       "      <td>1:214</td>\n",
       "      <td>1xgy</td>\n",
       "      <td>1.0</td>\n",
       "      <td>V-set+C1-set</td>\n",
       "      <td>Ig</td>\n",
       "      <td>98.0</td>\n",
       "      <td>1.0</td>\n",
       "      <td>EVQLQQSGAELVKPGASVKLSCTASGFNIKDTYMHWVKQRPEQGLE...</td>\n",
       "      <td>unnamed</td>\n",
       "      <td>98.0</td>\n",
       "      <td>1.0</td>\n",
       "      <td>QVQLQQSGPELVRPGASVKISCKASGYTFTDYYINWVKQRPGQGLE...</td>\n",
       "      <td>1xgy_I|V-set+C1-set|1|Ig|1:214|1xgyI02</td>\n",
       "      <td>2016-08-02 10:43:20.429652</td>\n",
       "      <td>51959162</td>\n",
       "      <td>EVQLQQSGAELVKPGASVKLSCTASGFNIKDTYMHWVKQRPEQGLE...</td>\n",
       "      <td>MKCSWVIFFLMAVVTGVNSEVQLQQSGAELVKPGASVKLSCTASGF...</td>\n",
       "      <td>1,2,3,4,5,6,7,8,9,10,11,12,13,14,15,16,17,18,1...</td>\n",
       "      <td>1,2,3,4,5,6,7,8,9,10,11,12,13,14,15,16,17,18,1...</td>\n",
       "      <td>100.000000</td>\n",
       "      <td>46.39</td>\n",
       "      <td>97.0</td>\n",
       "      <td>0.490705</td>\n",
       "      <td>102.0</td>\n",
       "      <td>20:115</td>\n",
       "      <td>115.0</td>\n",
       "      <td>20.0</td>\n",
       "      <td>4.000000e-27</td>\n",
       "      <td>1.0</td>\n",
       "      <td>51.0</td>\n",
       "      <td>46.39</td>\n",
       "      <td>1xgyH02</td>\n",
       "      <td>H</td>\n",
       "      <td>1:214</td>\n",
       "      <td>1xgy</td>\n",
       "      <td>1.0</td>\n",
       "      <td>V-set+C1-set</td>\n",
       "      <td>Ig</td>\n",
       "      <td>96.0</td>\n",
       "      <td>1.0</td>\n",
       "      <td>QVQLKESGPGLVAPSQSLSITCTVSGFSLTGYGVNWVRQPPGKGLE...</td>\n",
       "      <td>unnamed</td>\n",
       "      <td>97.0</td>\n",
       "      <td>1.0</td>\n",
       "      <td>QVQLQQSGPELVRPGASVKISCKASGYTFTDYYINWVKQRPGQGLE...</td>\n",
       "      <td>1xgy_H|V-set+C1-set|1|Ig|1:214|1xgyH02</td>\n",
       "      <td>2016-08-02 10:43:23.217894</td>\n",
       "      <td>70394142</td>\n",
       "      <td>QVQLKESGPGLVAPSQSLSITCTVSGFSLTGYGVNWVRQPPGKGLE...</td>\n",
       "      <td>MAVLALLFCLVTFPSCILSQVQLKESGPGLVAPSQSLSITCTVSGF...</td>\n",
       "      <td>1,2,3,4,5,6,7,8,9,10,11,12,13,14,15,16,17,18,1...</td>\n",
       "      <td>1,2,3,4,5,6,7,8,9,10,11,12,13,14,15,16,17,18,1...</td>\n",
       "      <td>3</td>\n",
       "      <td>51</td>\n",
       "      <td>52</td>\n",
       "      <td>F</td>\n",
       "      <td>1</td>\n",
       "      <td>118</td>\n",
       "      <td>115</td>\n",
       "      <td>K</td>\n",
       "      <td>True</td>\n",
       "      <td>True</td>\n",
       "      <td>D71A</td>\n",
       "      <td>NaN</td>\n",
       "      <td>0.975728</td>\n",
       "      <td>0.59420</td>\n",
       "      <td>0.596571</td>\n",
       "      <td>60</td>\n",
       "      <td>2</td>\n",
       "      <td>A0NA69</td>\n",
       "      <td>P01820</td>\n",
       "    </tr>\n",
       "    <tr>\n",
       "      <th>426</th>\n",
       "      <td>A0NA69</td>\n",
       "      <td>P01820</td>\n",
       "      <td>94.174757</td>\n",
       "      <td>95.88</td>\n",
       "      <td>97.0</td>\n",
       "      <td>0.904888</td>\n",
       "      <td>190.0</td>\n",
       "      <td>20:116</td>\n",
       "      <td>116.0</td>\n",
       "      <td>20.0</td>\n",
       "      <td>2.000000e-61</td>\n",
       "      <td>1.0</td>\n",
       "      <td>1.0</td>\n",
       "      <td>95.88</td>\n",
       "      <td>4k2uH00</td>\n",
       "      <td>H</td>\n",
       "      <td>1:212</td>\n",
       "      <td>4k2u</td>\n",
       "      <td>1.0</td>\n",
       "      <td>V-set+C1-set</td>\n",
       "      <td>Ig</td>\n",
       "      <td>97.0</td>\n",
       "      <td>1.0</td>\n",
       "      <td>EVQLQQSGAELVKPGASVKLSCTASGFNIKDTYMHWVKQRPEQGLE...</td>\n",
       "      <td>unnamed</td>\n",
       "      <td>94.0</td>\n",
       "      <td>1.0</td>\n",
       "      <td>EVQLQQSGAELVKPGASVKLSCTASGFNIKDNYMHWVKQRP---LE...</td>\n",
       "      <td>4k2u_H|V-set+C1-set|1|Ig|1:212|4k2uH00</td>\n",
       "      <td>2016-08-02 10:43:20.429652</td>\n",
       "      <td>51959162</td>\n",
       "      <td>EVQLQQSGAELVKPGASVKLSCTASGFNIKDTYMHWVKQRPEQGLE...</td>\n",
       "      <td>MKCSWVIFFLMAVVTGVNSEVQLQQSGAELVKPGASVKLSCTASGF...</td>\n",
       "      <td>1,2,3,4,5,6,7,8,9,10,11,12,13,14,15,16,17,18,1...</td>\n",
       "      <td>1,2,3,4,5,6,7,8,9,10,11,12,13,14,15,16,17,18,1...</td>\n",
       "      <td>100.000000</td>\n",
       "      <td>41.24</td>\n",
       "      <td>97.0</td>\n",
       "      <td>0.441780</td>\n",
       "      <td>87.4</td>\n",
       "      <td>20:115</td>\n",
       "      <td>115.0</td>\n",
       "      <td>20.0</td>\n",
       "      <td>1.000000e-21</td>\n",
       "      <td>1.0</td>\n",
       "      <td>56.0</td>\n",
       "      <td>41.24</td>\n",
       "      <td>4k2uI00</td>\n",
       "      <td>I</td>\n",
       "      <td>1:213</td>\n",
       "      <td>4k2u</td>\n",
       "      <td>1.0</td>\n",
       "      <td>V-set+C1-set</td>\n",
       "      <td>Ig</td>\n",
       "      <td>96.0</td>\n",
       "      <td>1.0</td>\n",
       "      <td>QVQLKESGPGLVAPSQSLSITCTVSGFSLTGYGVNWVRQPPGKGLE...</td>\n",
       "      <td>unnamed</td>\n",
       "      <td>97.0</td>\n",
       "      <td>1.0</td>\n",
       "      <td>EVQLQQSGAELVKPGASVKLSCTASGFNIKDNYMHWVKQRPEQGLE...</td>\n",
       "      <td>4k2u_I|V-set+C1-set|1|Ig|1:213|4k2uI00</td>\n",
       "      <td>2016-08-02 10:43:23.217894</td>\n",
       "      <td>70394142</td>\n",
       "      <td>QVQLKESGPGLVAPSQSLSITCTVSGFSLTGYGVNWVRQPPGKGLE...</td>\n",
       "      <td>MAVLALLFCLVTFPSCILSQVQLKESGPGLVAPSQSLSITCTVSGF...</td>\n",
       "      <td>1,2,3,4,5,6,7,8,9,10,11,12,13,14,15,16,17,18,1...</td>\n",
       "      <td>1,2,3,4,5,6,7,8,9,10,11,12,13,14,15,16,17,18,1...</td>\n",
       "      <td>2</td>\n",
       "      <td>29</td>\n",
       "      <td>30</td>\n",
       "      <td>K</td>\n",
       "      <td>3</td>\n",
       "      <td>74</td>\n",
       "      <td>74</td>\n",
       "      <td>S</td>\n",
       "      <td>True</td>\n",
       "      <td>True</td>\n",
       "      <td>K49A</td>\n",
       "      <td>True</td>\n",
       "      <td>0.970874</td>\n",
       "      <td>0.68560</td>\n",
       "      <td>0.673334</td>\n",
       "      <td>80</td>\n",
       "      <td>3</td>\n",
       "      <td>A0NA69</td>\n",
       "      <td>P01820</td>\n",
       "    </tr>\n",
       "    <tr>\n",
       "      <th>5143715</th>\n",
       "      <td>O00204</td>\n",
       "      <td>O43704</td>\n",
       "      <td>63.605442</td>\n",
       "      <td>25.12</td>\n",
       "      <td>203.0</td>\n",
       "      <td>0.183591</td>\n",
       "      <td>48.1</td>\n",
       "      <td>64:250</td>\n",
       "      <td>250.0</td>\n",
       "      <td>64.0</td>\n",
       "      <td>5.000000e-06</td>\n",
       "      <td>10.0</td>\n",
       "      <td>130.0</td>\n",
       "      <td>25.12</td>\n",
       "      <td>4eecA00</td>\n",
       "      <td>A</td>\n",
       "      <td>2:269</td>\n",
       "      <td>4eec</td>\n",
       "      <td>1.0</td>\n",
       "      <td>Sulfotransfer_1</td>\n",
       "      <td>P-loop_NTPase</td>\n",
       "      <td>233.0</td>\n",
       "      <td>47.0</td>\n",
       "      <td>FIITYPKSGTTWMIEIICLILK--EGDPSWIRSVP-IWERAPWCET...</td>\n",
       "      <td>unnamed</td>\n",
       "      <td>201.0</td>\n",
       "      <td>5.0</td>\n",
       "      <td>WIASYPKAGGHWLR---CMLTSYVTGEP--VETWPGIQAGVPHLEG...</td>\n",
       "      <td>4eec_A|Sulfotransfer_1|1|P-loop_NTPase|2:269|4...</td>\n",
       "      <td>2016-08-02 10:43:19.732525</td>\n",
       "      <td>69745909</td>\n",
       "      <td>DDISEISQKLPGEYFRYKGVPFPVGLYSLESISLAENTQDVRDDDI...</td>\n",
       "      <td>MDGPAEPQIPGLWDTYEDDISEISQKLPGEYFRYKGVPFPVGLYSL...</td>\n",
       "      <td>1,2,3,4,5,6,7,8,9,10,11,12,13,14,18,19,20,21,2...</td>\n",
       "      <td>1,2,3,4,5,6,7,8,9,10,11,12,13,14,,,,15,16,17,1...</td>\n",
       "      <td>65.202703</td>\n",
       "      <td>25.37</td>\n",
       "      <td>205.0</td>\n",
       "      <td>0.189750</td>\n",
       "      <td>55.8</td>\n",
       "      <td>43:235</td>\n",
       "      <td>235.0</td>\n",
       "      <td>43.0</td>\n",
       "      <td>1.000000e-08</td>\n",
       "      <td>10.0</td>\n",
       "      <td>133.0</td>\n",
       "      <td>25.37</td>\n",
       "      <td>4eecB00</td>\n",
       "      <td>B</td>\n",
       "      <td>2:269</td>\n",
       "      <td>4eec</td>\n",
       "      <td>1.0</td>\n",
       "      <td>Sulfotransfer_1</td>\n",
       "      <td>P-loop_NTPase</td>\n",
       "      <td>235.0</td>\n",
       "      <td>43.0</td>\n",
       "      <td>IATYPKSGTTWVSEIIDMILNDGDIEKCKRGFITEKVPMLEMTLPG...</td>\n",
       "      <td>unnamed</td>\n",
       "      <td>202.0</td>\n",
       "      <td>6.0</td>\n",
       "      <td>IASYPKAGGHWLRCMLTSYVTGEPVETWPG--IQAGVPHLE----G...</td>\n",
       "      <td>4eec_B|Sulfotransfer_1|1|P-loop_NTPase|2:269|4...</td>\n",
       "      <td>2016-08-02 10:43:14.723279</td>\n",
       "      <td>37196578</td>\n",
       "      <td>MLSPKDILRKDLKLVHGYPMTCAFASNWEKIEQFHSRPDDIVIATY...</td>\n",
       "      <td>MLSPKDILRKDLKLVHGYPMTCAFASNWEKIEQFHSRPDDIVIATY...</td>\n",
       "      <td>1,2,3,4,5,6,7,8,9,10,11,12,13,14,15,16,17,18,1...</td>\n",
       "      <td>1,2,3,4,5,6,7,8,9,10,11,12,13,14,15,16,17,18,1...</td>\n",
       "      <td>0</td>\n",
       "      <td>130</td>\n",
       "      <td>132</td>\n",
       "      <td>W</td>\n",
       "      <td>1</td>\n",
       "      <td>47</td>\n",
       "      <td>49</td>\n",
       "      <td>R</td>\n",
       "      <td>True</td>\n",
       "      <td>True</td>\n",
       "      <td>D191N</td>\n",
       "      <td>NaN</td>\n",
       "      <td>0.644041</td>\n",
       "      <td>0.25245</td>\n",
       "      <td>0.186670</td>\n",
       "      <td>40</td>\n",
       "      <td>4</td>\n",
       "      <td>O00204</td>\n",
       "      <td>O43704</td>\n",
       "    </tr>\n",
       "    <tr>\n",
       "      <th>4394023</th>\n",
       "      <td>O15344</td>\n",
       "      <td>Q9UJV3</td>\n",
       "      <td>81.052632</td>\n",
       "      <td>30.19</td>\n",
       "      <td>159.0</td>\n",
       "      <td>0.272989</td>\n",
       "      <td>66.6</td>\n",
       "      <td>488:641</td>\n",
       "      <td>641.0</td>\n",
       "      <td>488.0</td>\n",
       "      <td>2.000000e-13</td>\n",
       "      <td>5.0</td>\n",
       "      <td>102.0</td>\n",
       "      <td>30.19</td>\n",
       "      <td>2fbeA00</td>\n",
       "      <td>A</td>\n",
       "      <td>1:188</td>\n",
       "      <td>2fbe</td>\n",
       "      <td>1.0</td>\n",
       "      <td>PRY+SPRY</td>\n",
       "      <td>PRY+SPRY</td>\n",
       "      <td>164.0</td>\n",
       "      <td>11.0</td>\n",
       "      <td>LDPKSAHRKLKVSHDNLTVERDESSSKKSHTPERFTSQGSYGVAGN...</td>\n",
       "      <td>unnamed</td>\n",
       "      <td>168.0</td>\n",
       "      <td>14.0</td>\n",
       "      <td>FDVDTANNYLIISEDLRSFRSGDLSQNRKEQAERFDT--ALCVLGT...</td>\n",
       "      <td>2fbe_A|PRY+SPRY|1|PRY+SPRY|1:188|2fbeA00</td>\n",
       "      <td>2016-08-02 10:43:28.489511</td>\n",
       "      <td>125496688</td>\n",
       "      <td>KLKTNSQPFKLDPKSAHRKLKVSHDNLTVERDESSSKKSHTPERFT...</td>\n",
       "      <td>METLESELTCPICLELFEDPLLLPCAHSLCFNCAHRILVSHCATNE...</td>\n",
       "      <td>1,2,3,4,5,6,7,8,9,10,11,12,13,14,15,16,17,18,1...</td>\n",
       "      <td>1,2,3,4,5,6,7,8,9,10,11,12,13,14,15,16,17,18,1...</td>\n",
       "      <td>77.835052</td>\n",
       "      <td>26.80</td>\n",
       "      <td>153.0</td>\n",
       "      <td>0.237086</td>\n",
       "      <td>55.8</td>\n",
       "      <td>538:688</td>\n",
       "      <td>688.0</td>\n",
       "      <td>538.0</td>\n",
       "      <td>2.000000e-09</td>\n",
       "      <td>4.0</td>\n",
       "      <td>105.0</td>\n",
       "      <td>26.80</td>\n",
       "      <td>2fbeB00</td>\n",
       "      <td>B</td>\n",
       "      <td>1:198</td>\n",
       "      <td>2fbe</td>\n",
       "      <td>1.0</td>\n",
       "      <td>PRY+SPRY</td>\n",
       "      <td>PRY+SPRY</td>\n",
       "      <td>175.0</td>\n",
       "      <td>25.0</td>\n",
       "      <td>LDPKMTHKKLKISNDGLQMEKDESSLKKSHTPERFSGTGCYGAAGN...</td>\n",
       "      <td>unnamed</td>\n",
       "      <td>161.0</td>\n",
       "      <td>14.0</td>\n",
       "      <td>FDVDTANNYLIISEDLRSFRSGDLSQNRKEQAERFDTALC--VLGT...</td>\n",
       "      <td>2fbe_B|PRY+SPRY|1|PRY+SPRY|1:198|2fbeB00</td>\n",
       "      <td>2016-08-02 10:43:33.045279</td>\n",
       "      <td>116933042</td>\n",
       "      <td>KAINQAGSRNSEPTRLKTNSQPFKLDPKMTHKKLKISNDGLQMEKD...</td>\n",
       "      <td>MGESPASVVLNASGGLFSLKMETLESELTCPICLELFEDPLLLPCA...</td>\n",
       "      <td>1,2,3,4,5,6,7,8,9,10,11,12,13,14,15,16,17,18,1...</td>\n",
       "      <td>1,2,3,4,5,6,7,8,9,10,11,12,13,14,15,16,17,18,1...</td>\n",
       "      <td>0</td>\n",
       "      <td>125</td>\n",
       "      <td>126</td>\n",
       "      <td>Q</td>\n",
       "      <td>1</td>\n",
       "      <td>121</td>\n",
       "      <td>122</td>\n",
       "      <td>W</td>\n",
       "      <td>True</td>\n",
       "      <td>True</td>\n",
       "      <td>L626P</td>\n",
       "      <td>NaN</td>\n",
       "      <td>0.794438</td>\n",
       "      <td>0.28495</td>\n",
       "      <td>0.255037</td>\n",
       "      <td>40</td>\n",
       "      <td>5</td>\n",
       "      <td>O15344</td>\n",
       "      <td>Q9UJV3</td>\n",
       "    </tr>\n",
       "  </tbody>\n",
       "</table>\n",
       "</div>"
      ],
      "text/plain": [
       "        uniprot_id partner_uniprot_id  alignment_coverage_1  alignment_identity_1  alignment_length_1  alignment_score_1  bitscore_1 domain_def_new_1  domain_end_new_1  domain_start_new_1      evalue_1  gap_opens_1  mismatches_1  pc_identity_1 pdb_cath_id_1 pdb_chain_1 pdb_domain_def_1 pdb_id_1  pdb_pdbfam_idx_1 pdb_pdbfam_name_1 pdb_pfam_clan_1  q_end_1  q_start_1                                             qseq_1 query_id_1  s_end_1  s_start_1                                             sseq_1                                       subject_id_1          t_date_modified_1  uniprot_domain_id_1                          uniprot_domain_sequence_1                                 uniprot_sequence_1                                              a2b_1                                              b2a_1  alignment_coverage_2  alignment_identity_2  alignment_length_2  alignment_score_2  bitscore_2 domain_def_new_2  domain_end_new_2  domain_start_new_2      evalue_2  gap_opens_2  mismatches_2  \\\n",
       "360036      A0NA69             P01820             93.203883                 37.11                97.0           0.375188        46.6           20:115             115.0                20.0  2.000000e-07          4.0          51.0          37.11       4jdvL00           L            1:104     4jdv               1.0             V-set              Ig     96.0        1.0  EVQLQQSGAEL-VKPGASVKLSCTASGFNIKDTYMHWVKQRPEQGL...    unnamed     88.0        1.0  EIVLTQSPATLSLSPGERATLSCRAS--QSVSSYLAWYQQKPGQAP...                    4jdv_L|V-set|1|Ig|1:104|4jdvL00 2016-08-02 10:43:20.429652             51959162  EVQLQQSGAELVKPGASVKLSCTASGFNIKDTYMHWVKQRPEQGLE...  MKCSWVIFFLMAVVTGVNSEVQLQQSGAELVKPGASVKLSCTASGF...  1,2,3,4,5,6,7,8,9,10,11,,12,13,14,15,16,17,18,...  1,2,3,4,5,6,7,8,9,10,11,13,14,15,16,17,18,19,2...             98.958333                 42.71                96.0           0.450998        92.4           21:115             115.0                21.0  1.000000e-23          1.0          54.0   \n",
       "11336       A0NA69             P01820             95.145631                 72.45                98.0           0.702436       153.0           20:117             117.0                20.0  5.000000e-47          0.0          27.0          72.45       1xgyI02           I            1:214     1xgy               1.0      V-set+C1-set              Ig     98.0        1.0  EVQLQQSGAELVKPGASVKLSCTASGFNIKDTYMHWVKQRPEQGLE...    unnamed     98.0        1.0  QVQLQQSGPELVRPGASVKISCKASGYTFTDYYINWVKQRPGQGLE...             1xgy_I|V-set+C1-set|1|Ig|1:214|1xgyI02 2016-08-02 10:43:20.429652             51959162  EVQLQQSGAELVKPGASVKLSCTASGFNIKDTYMHWVKQRPEQGLE...  MKCSWVIFFLMAVVTGVNSEVQLQQSGAELVKPGASVKLSCTASGF...  1,2,3,4,5,6,7,8,9,10,11,12,13,14,15,16,17,18,1...  1,2,3,4,5,6,7,8,9,10,11,12,13,14,15,16,17,18,1...            100.000000                 46.39                97.0           0.490705       102.0           20:115             115.0                20.0  4.000000e-27          1.0          51.0   \n",
       "426         A0NA69             P01820             94.174757                 95.88                97.0           0.904888       190.0           20:116             116.0                20.0  2.000000e-61          1.0           1.0          95.88       4k2uH00           H            1:212     4k2u               1.0      V-set+C1-set              Ig     97.0        1.0  EVQLQQSGAELVKPGASVKLSCTASGFNIKDTYMHWVKQRPEQGLE...    unnamed     94.0        1.0  EVQLQQSGAELVKPGASVKLSCTASGFNIKDNYMHWVKQRP---LE...             4k2u_H|V-set+C1-set|1|Ig|1:212|4k2uH00 2016-08-02 10:43:20.429652             51959162  EVQLQQSGAELVKPGASVKLSCTASGFNIKDTYMHWVKQRPEQGLE...  MKCSWVIFFLMAVVTGVNSEVQLQQSGAELVKPGASVKLSCTASGF...  1,2,3,4,5,6,7,8,9,10,11,12,13,14,15,16,17,18,1...  1,2,3,4,5,6,7,8,9,10,11,12,13,14,15,16,17,18,1...            100.000000                 41.24                97.0           0.441780        87.4           20:115             115.0                20.0  1.000000e-21          1.0          56.0   \n",
       "5143715     O00204             O43704             63.605442                 25.12               203.0           0.183591        48.1           64:250             250.0                64.0  5.000000e-06         10.0         130.0          25.12       4eecA00           A            2:269     4eec               1.0   Sulfotransfer_1   P-loop_NTPase    233.0       47.0  FIITYPKSGTTWMIEIICLILK--EGDPSWIRSVP-IWERAPWCET...    unnamed    201.0        5.0  WIASYPKAGGHWLR---CMLTSYVTGEP--VETWPGIQAGVPHLEG...  4eec_A|Sulfotransfer_1|1|P-loop_NTPase|2:269|4... 2016-08-02 10:43:19.732525             69745909  DDISEISQKLPGEYFRYKGVPFPVGLYSLESISLAENTQDVRDDDI...  MDGPAEPQIPGLWDTYEDDISEISQKLPGEYFRYKGVPFPVGLYSL...  1,2,3,4,5,6,7,8,9,10,11,12,13,14,18,19,20,21,2...  1,2,3,4,5,6,7,8,9,10,11,12,13,14,,,,15,16,17,1...             65.202703                 25.37               205.0           0.189750        55.8           43:235             235.0                43.0  1.000000e-08         10.0         133.0   \n",
       "4394023     O15344             Q9UJV3             81.052632                 30.19               159.0           0.272989        66.6          488:641             641.0               488.0  2.000000e-13          5.0         102.0          30.19       2fbeA00           A            1:188     2fbe               1.0          PRY+SPRY        PRY+SPRY    164.0       11.0  LDPKSAHRKLKVSHDNLTVERDESSSKKSHTPERFTSQGSYGVAGN...    unnamed    168.0       14.0  FDVDTANNYLIISEDLRSFRSGDLSQNRKEQAERFDT--ALCVLGT...           2fbe_A|PRY+SPRY|1|PRY+SPRY|1:188|2fbeA00 2016-08-02 10:43:28.489511            125496688  KLKTNSQPFKLDPKSAHRKLKVSHDNLTVERDESSSKKSHTPERFT...  METLESELTCPICLELFEDPLLLPCAHSLCFNCAHRILVSHCATNE...  1,2,3,4,5,6,7,8,9,10,11,12,13,14,15,16,17,18,1...  1,2,3,4,5,6,7,8,9,10,11,12,13,14,15,16,17,18,1...             77.835052                 26.80               153.0           0.237086        55.8          538:688             688.0               538.0  2.000000e-09          4.0         105.0   \n",
       "\n",
       "         pc_identity_2 pdb_cath_id_2 pdb_chain_2 pdb_domain_def_2 pdb_id_2  pdb_pdbfam_idx_2 pdb_pdbfam_name_2 pdb_pfam_clan_2  q_end_2  q_start_2                                             qseq_2 query_id_2  s_end_2  s_start_2                                             sseq_2                                       subject_id_2          t_date_modified_2  uniprot_domain_id_2                          uniprot_domain_sequence_2                                 uniprot_sequence_2                                              a2b_2                                              b2a_2  chain_idx_1  residue_idx_1 residue_resname_1 residue_aa_1  chain_idx_2  residue_idx_2 residue_resname_2 residue_aa_2 residue_1_in_domain residue_2_in_domain uniprot_mutation mutation_in_interface  alignment_coverage_avg  alignment_identity_avg  alignment_score_avg  max_seq_identity  uniprot_domain_pair_id uniprot_id_1 uniprot_id_2  \n",
       "360036           42.71       4jdvH02           H            2:217     4jdv               1.0      V-set+C1-set              Ig     96.0        2.0  VQLKESGPGLVAPSQSLSITCTVSGFSLTGYGVNWVRQPPGKGLEW...    unnamed     96.0        1.0  VQLVQSGAEVKKPGASVKVSCKASGYTFTGYYMHWVRQAPGQGLEW...             4jdv_H|V-set+C1-set|1|Ig|2:217|4jdvH02 2016-08-02 10:43:23.217894             70394142  QVQLKESGPGLVAPSQSLSITCTVSGFSLTGYGVNWVRQPPGKGLE...  MAVLALLFCLVTFPSCILSQVQLKESGPGLVAPSQSLSITCTVSGF...  1,2,3,4,5,6,7,8,9,10,11,12,13,14,15,16,17,18,1...  1,2,3,4,5,6,7,8,9,10,11,12,13,14,15,16,17,18,1...            3             49                50            D            2            109               103            D                True                True             D71A                  True                0.960811                 0.39910             0.413093                40                       1       A0NA69       P01820  \n",
       "11336            46.39       1xgyH02           H            1:214     1xgy               1.0      V-set+C1-set              Ig     96.0        1.0  QVQLKESGPGLVAPSQSLSITCTVSGFSLTGYGVNWVRQPPGKGLE...    unnamed     97.0        1.0  QVQLQQSGPELVRPGASVKISCKASGYTFTDYYINWVKQRPGQGLE...             1xgy_H|V-set+C1-set|1|Ig|1:214|1xgyH02 2016-08-02 10:43:23.217894             70394142  QVQLKESGPGLVAPSQSLSITCTVSGFSLTGYGVNWVRQPPGKGLE...  MAVLALLFCLVTFPSCILSQVQLKESGPGLVAPSQSLSITCTVSGF...  1,2,3,4,5,6,7,8,9,10,11,12,13,14,15,16,17,18,1...  1,2,3,4,5,6,7,8,9,10,11,12,13,14,15,16,17,18,1...            3             51                52            F            1            118               115            K                True                True             D71A                   NaN                0.975728                 0.59420             0.596571                60                       2       A0NA69       P01820  \n",
       "426              41.24       4k2uI00           I            1:213     4k2u               1.0      V-set+C1-set              Ig     96.0        1.0  QVQLKESGPGLVAPSQSLSITCTVSGFSLTGYGVNWVRQPPGKGLE...    unnamed     97.0        1.0  EVQLQQSGAELVKPGASVKLSCTASGFNIKDNYMHWVKQRPEQGLE...             4k2u_I|V-set+C1-set|1|Ig|1:213|4k2uI00 2016-08-02 10:43:23.217894             70394142  QVQLKESGPGLVAPSQSLSITCTVSGFSLTGYGVNWVRQPPGKGLE...  MAVLALLFCLVTFPSCILSQVQLKESGPGLVAPSQSLSITCTVSGF...  1,2,3,4,5,6,7,8,9,10,11,12,13,14,15,16,17,18,1...  1,2,3,4,5,6,7,8,9,10,11,12,13,14,15,16,17,18,1...            2             29                30            K            3             74                74            S                True                True             K49A                  True                0.970874                 0.68560             0.673334                80                       3       A0NA69       P01820  \n",
       "5143715          25.37       4eecB00           B            2:269     4eec               1.0   Sulfotransfer_1   P-loop_NTPase    235.0       43.0  IATYPKSGTTWVSEIIDMILNDGDIEKCKRGFITEKVPMLEMTLPG...    unnamed    202.0        6.0  IASYPKAGGHWLRCMLTSYVTGEPVETWPG--IQAGVPHLE----G...  4eec_B|Sulfotransfer_1|1|P-loop_NTPase|2:269|4... 2016-08-02 10:43:14.723279             37196578  MLSPKDILRKDLKLVHGYPMTCAFASNWEKIEQFHSRPDDIVIATY...  MLSPKDILRKDLKLVHGYPMTCAFASNWEKIEQFHSRPDDIVIATY...  1,2,3,4,5,6,7,8,9,10,11,12,13,14,15,16,17,18,1...  1,2,3,4,5,6,7,8,9,10,11,12,13,14,15,16,17,18,1...            0            130               132            W            1             47                49            R                True                True            D191N                   NaN                0.644041                 0.25245             0.186670                40                       4       O00204       O43704  \n",
       "4394023          26.80       2fbeB00           B            1:198     2fbe               1.0          PRY+SPRY        PRY+SPRY    175.0       25.0  LDPKMTHKKLKISNDGLQMEKDESSLKKSHTPERFSGTGCYGAAGN...    unnamed    161.0       14.0  FDVDTANNYLIISEDLRSFRSGDLSQNRKEQAERFDTALC--VLGT...           2fbe_B|PRY+SPRY|1|PRY+SPRY|1:198|2fbeB00 2016-08-02 10:43:33.045279            116933042  KAINQAGSRNSEPTRLKTNSQPFKLDPKMTHKKLKISNDGLQMEKD...  MGESPASVVLNASGGLFSLKMETLESELTCPICLELFEDPLLLPCA...  1,2,3,4,5,6,7,8,9,10,11,12,13,14,15,16,17,18,1...  1,2,3,4,5,6,7,8,9,10,11,12,13,14,15,16,17,18,1...            0            125               126            Q            1            121               122            W                True                True            L626P                   NaN                0.794438                 0.28495             0.255037                40                       5       O15344       Q9UJV3  "
      ]
     },
     "execution_count": 293,
     "metadata": {},
     "output_type": "execute_result"
    }
   ],
   "source": [
    "uniprot_pairs_final.head()"
   ]
  },
  {
   "cell_type": "code",
   "execution_count": 294,
   "metadata": {
    "collapsed": true,
    "run_control": {
     "marked": false
    }
   },
   "outputs": [],
   "source": [
    "uniprot_pairs_final = (\n",
    "    uniprot_pairs_final\n",
    "    .rename(\n",
    "        columns={\n",
    "            'pdb_cath_id_1': 'cath_id_1',\n",
    "            'alignment_coverage_1': 'coverage_1',\n",
    "            'alignment_identity_1': 'identical_1',\n",
    "            'alignment_score_1': 'score_1',\n",
    "            \n",
    "            'pdb_cath_id_2': 'cath_id_2',\n",
    "            'alignment_coverage_2': 'coverage_2',\n",
    "            'alignment_identity_2': 'identical_2',\n",
    "            'alignment_score_2': 'score_2',\n",
    "        })\n",
    ")"
   ]
  },
  {
   "cell_type": "code",
   "execution_count": 295,
   "metadata": {
    "collapsed": false,
    "run_control": {
     "marked": false
    }
   },
   "outputs": [],
   "source": [
    "null_columns = [\n",
    "    'domain_contact_id', 'template_errors', 't_date_modified', \n",
    "    'conserved_1', 'identical_if_1', 'conserved_if_1', 'coverage_if_1', 'score_if_1', \n",
    "    'conserved_2', 'identical_if_2', 'conserved_if_2', 'coverage_if_2', 'score_if_2', \n",
    "    'score_total', 'score_if_total', 'score_overall'\n",
    "]\n",
    "for column in null_columns:\n",
    "    uniprot_pairs_final[column] = np.nan"
   ]
  },
  {
   "cell_type": "code",
   "execution_count": 297,
   "metadata": {
    "collapsed": false,
    "run_control": {
     "marked": false
    }
   },
   "outputs": [
    {
     "name": "stderr",
     "output_type": "stream",
     "text": [
      "/home/kimlab1/strokach/anaconda/lib/python3.5/site-packages/sqlalchemy/dialects/mysql/mysqldb.py:95: Warning: Column 't_date_modified' cannot be null\n",
      "  rowcount = cursor.executemany(statement, parameters)\n"
     ]
    }
   ],
   "source": [
    "# Fill `uniprot_domain_pair` table\n",
    "sql_command = \"\"\"\\\n",
    "SET FOREIGN_KEY_CHECKS=0;\n",
    "TRUNCATE TABLE elaspic_training_interface.uniprot_domain_pair_template;\n",
    "SET FOREIGN_KEY_CHECKS=1;\n",
    "\"\"\"\n",
    "db.engine.execute(sql_command)\n",
    "\n",
    "uniprot_domain_pair_template = (\n",
    "    uniprot_pairs_final\n",
    "    [[c.name for c in elaspic.elaspic_database_tables.UniprotDomainPairTemplate.__table__.columns]]\n",
    ")\n",
    "\n",
    "uniprot_domain_pair_template.to_sql(\n",
    "    'uniprot_domain_pair_template', db.engine, schema=NOTEBOOK_NAME, if_exists='append', index=False)"
   ]
  },
  {
   "cell_type": "markdown",
   "metadata": {
    "collapsed": true,
    "run_control": {
     "marked": false
    }
   },
   "source": [
    "# === Run mutations ==="
   ]
  },
  {
   "cell_type": "markdown",
   "metadata": {
    "run_control": {
     "marked": false
    }
   },
   "source": [
    "# Run database mutations"
   ]
  },
  {
   "cell_type": "markdown",
   "metadata": {
    "run_control": {
     "marked": false
    }
   },
   "source": [
    "## templates"
   ]
  },
  {
   "cell_type": "code",
   "execution_count": 539,
   "metadata": {
    "collapsed": false,
    "run_control": {
     "marked": false
    }
   },
   "outputs": [
    {
     "data": {
      "text/html": [
       "<style type=\"text/css\">.highlight .hll { background-color: #ffffcc }\n",
       ".highlight  { background: #f8f8f8; }\n",
       ".highlight .c { color: #408080; font-style: italic } /* Comment */\n",
       ".highlight .err { border: 1px solid #FF0000 } /* Error */\n",
       ".highlight .k { color: #008000; font-weight: bold } /* Keyword */\n",
       ".highlight .o { color: #666666 } /* Operator */\n",
       ".highlight .ch { color: #408080; font-style: italic } /* Comment.Hashbang */\n",
       ".highlight .cm { color: #408080; font-style: italic } /* Comment.Multiline */\n",
       ".highlight .cp { color: #BC7A00 } /* Comment.Preproc */\n",
       ".highlight .cpf { color: #408080; font-style: italic } /* Comment.PreprocFile */\n",
       ".highlight .c1 { color: #408080; font-style: italic } /* Comment.Single */\n",
       ".highlight .cs { color: #408080; font-style: italic } /* Comment.Special */\n",
       ".highlight .gd { color: #A00000 } /* Generic.Deleted */\n",
       ".highlight .ge { font-style: italic } /* Generic.Emph */\n",
       ".highlight .gr { color: #FF0000 } /* Generic.Error */\n",
       ".highlight .gh { color: #000080; font-weight: bold } /* Generic.Heading */\n",
       ".highlight .gi { color: #00A000 } /* Generic.Inserted */\n",
       ".highlight .go { color: #888888 } /* Generic.Output */\n",
       ".highlight .gp { color: #000080; font-weight: bold } /* Generic.Prompt */\n",
       ".highlight .gs { font-weight: bold } /* Generic.Strong */\n",
       ".highlight .gu { color: #800080; font-weight: bold } /* Generic.Subheading */\n",
       ".highlight .gt { color: #0044DD } /* Generic.Traceback */\n",
       ".highlight .kc { color: #008000; font-weight: bold } /* Keyword.Constant */\n",
       ".highlight .kd { color: #008000; font-weight: bold } /* Keyword.Declaration */\n",
       ".highlight .kn { color: #008000; font-weight: bold } /* Keyword.Namespace */\n",
       ".highlight .kp { color: #008000 } /* Keyword.Pseudo */\n",
       ".highlight .kr { color: #008000; font-weight: bold } /* Keyword.Reserved */\n",
       ".highlight .kt { color: #B00040 } /* Keyword.Type */\n",
       ".highlight .m { color: #666666 } /* Literal.Number */\n",
       ".highlight .s { color: #BA2121 } /* Literal.String */\n",
       ".highlight .na { color: #7D9029 } /* Name.Attribute */\n",
       ".highlight .nb { color: #008000 } /* Name.Builtin */\n",
       ".highlight .nc { color: #0000FF; font-weight: bold } /* Name.Class */\n",
       ".highlight .no { color: #880000 } /* Name.Constant */\n",
       ".highlight .nd { color: #AA22FF } /* Name.Decorator */\n",
       ".highlight .ni { color: #999999; font-weight: bold } /* Name.Entity */\n",
       ".highlight .ne { color: #D2413A; font-weight: bold } /* Name.Exception */\n",
       ".highlight .nf { color: #0000FF } /* Name.Function */\n",
       ".highlight .nl { color: #A0A000 } /* Name.Label */\n",
       ".highlight .nn { color: #0000FF; font-weight: bold } /* Name.Namespace */\n",
       ".highlight .nt { color: #008000; font-weight: bold } /* Name.Tag */\n",
       ".highlight .nv { color: #19177C } /* Name.Variable */\n",
       ".highlight .ow { color: #AA22FF; font-weight: bold } /* Operator.Word */\n",
       ".highlight .w { color: #bbbbbb } /* Text.Whitespace */\n",
       ".highlight .mb { color: #666666 } /* Literal.Number.Bin */\n",
       ".highlight .mf { color: #666666 } /* Literal.Number.Float */\n",
       ".highlight .mh { color: #666666 } /* Literal.Number.Hex */\n",
       ".highlight .mi { color: #666666 } /* Literal.Number.Integer */\n",
       ".highlight .mo { color: #666666 } /* Literal.Number.Oct */\n",
       ".highlight .sb { color: #BA2121 } /* Literal.String.Backtick */\n",
       ".highlight .sc { color: #BA2121 } /* Literal.String.Char */\n",
       ".highlight .sd { color: #BA2121; font-style: italic } /* Literal.String.Doc */\n",
       ".highlight .s2 { color: #BA2121 } /* Literal.String.Double */\n",
       ".highlight .se { color: #BB6622; font-weight: bold } /* Literal.String.Escape */\n",
       ".highlight .sh { color: #BA2121 } /* Literal.String.Heredoc */\n",
       ".highlight .si { color: #BB6688; font-weight: bold } /* Literal.String.Interpol */\n",
       ".highlight .sx { color: #008000 } /* Literal.String.Other */\n",
       ".highlight .sr { color: #BB6688 } /* Literal.String.Regex */\n",
       ".highlight .s1 { color: #BA2121 } /* Literal.String.Single */\n",
       ".highlight .ss { color: #19177C } /* Literal.String.Symbol */\n",
       ".highlight .bp { color: #008000 } /* Name.Builtin.Pseudo */\n",
       ".highlight .vc { color: #19177C } /* Name.Variable.Class */\n",
       ".highlight .vg { color: #19177C } /* Name.Variable.Global */\n",
       ".highlight .vi { color: #19177C } /* Name.Variable.Instance */\n",
       ".highlight .il { color: #666666 } /* Literal.Number.Integer.Long */</style><div class=\"highlight\"><pre><span></span><span class=\"k\">SELECT</span> <span class=\"o\">*</span>\n",
       "<span class=\"k\">FROM</span> <span class=\"n\">elaspic_training_interface</span><span class=\"p\">.</span><span class=\"n\">uniprot_domain_pair</span>\n",
       "<span class=\"k\">JOIN</span> <span class=\"n\">elaspic_training_interface</span><span class=\"p\">.</span><span class=\"n\">uniprot_domain_pair_template</span> <span class=\"k\">USING</span> <span class=\"p\">(</span><span class=\"n\">uniprot_domain_pair_id</span><span class=\"p\">)</span>\n",
       "</pre></div>\n"
      ],
      "text/plain": [
       "<IPython.core.display.HTML object>"
      ]
     },
     "metadata": {},
     "output_type": "display_data"
    }
   ],
   "source": [
    "# uniprot_domain_pair_wtemplate\n",
    "sql_query = \"\"\"\\\n",
    "SELECT *\n",
    "FROM elaspic_training_interface.uniprot_domain_pair\n",
    "JOIN elaspic_training_interface.uniprot_domain_pair_template USING (uniprot_domain_pair_id)\n",
    "\"\"\"\n",
    "kmtools.jupyter_tools.print_sql(sql_query)\n",
    "\n",
    "uniprot_domain_pair_wtemplate = pd.read_sql_query(sql_query, db.engine) "
   ]
  },
  {
   "cell_type": "code",
   "execution_count": 540,
   "metadata": {
    "collapsed": false,
    "run_control": {
     "marked": false
    }
   },
   "outputs": [
    {
     "data": {
      "text/html": [
       "<div>\n",
       "<table border=\"1\" class=\"dataframe\">\n",
       "  <thead>\n",
       "    <tr style=\"text-align: right;\">\n",
       "      <th></th>\n",
       "      <th>uniprot_domain_pair_id</th>\n",
       "      <th>uniprot_domain_id_1</th>\n",
       "      <th>uniprot_domain_id_2</th>\n",
       "      <th>rigids</th>\n",
       "      <th>domain_contact_ids</th>\n",
       "      <th>path_to_data</th>\n",
       "      <th>uniprot_id_1</th>\n",
       "      <th>uniprot_id_2</th>\n",
       "      <th>max_seq_identity</th>\n",
       "      <th>uniprot_domain_pair_id_old</th>\n",
       "      <th>domain_contact_id</th>\n",
       "      <th>cath_id_1</th>\n",
       "      <th>cath_id_2</th>\n",
       "      <th>identical_1</th>\n",
       "      <th>conserved_1</th>\n",
       "      <th>coverage_1</th>\n",
       "      <th>score_1</th>\n",
       "      <th>identical_if_1</th>\n",
       "      <th>conserved_if_1</th>\n",
       "      <th>coverage_if_1</th>\n",
       "      <th>score_if_1</th>\n",
       "      <th>identical_2</th>\n",
       "      <th>conserved_2</th>\n",
       "      <th>coverage_2</th>\n",
       "      <th>score_2</th>\n",
       "      <th>identical_if_2</th>\n",
       "      <th>conserved_if_2</th>\n",
       "      <th>coverage_if_2</th>\n",
       "      <th>score_if_2</th>\n",
       "      <th>score_total</th>\n",
       "      <th>score_if_total</th>\n",
       "      <th>score_overall</th>\n",
       "      <th>t_date_modified</th>\n",
       "      <th>template_errors</th>\n",
       "    </tr>\n",
       "  </thead>\n",
       "  <tbody>\n",
       "    <tr>\n",
       "      <th>0</th>\n",
       "      <td>1</td>\n",
       "      <td>51959162</td>\n",
       "      <td>70394142</td>\n",
       "      <td>None</td>\n",
       "      <td>None</td>\n",
       "      <td>training/A0N/A6/A0NA69/V-set.22-117/V-set.20-1...</td>\n",
       "      <td>A0NA69</td>\n",
       "      <td>P01820</td>\n",
       "      <td>40</td>\n",
       "      <td>None</td>\n",
       "      <td>None</td>\n",
       "      <td>4jdvL00</td>\n",
       "      <td>4jdvH02</td>\n",
       "      <td>37.11</td>\n",
       "      <td>None</td>\n",
       "      <td>93.2039</td>\n",
       "      <td>0.375188</td>\n",
       "      <td>None</td>\n",
       "      <td>None</td>\n",
       "      <td>None</td>\n",
       "      <td>None</td>\n",
       "      <td>42.71</td>\n",
       "      <td>None</td>\n",
       "      <td>98.9583</td>\n",
       "      <td>0.450998</td>\n",
       "      <td>None</td>\n",
       "      <td>None</td>\n",
       "      <td>None</td>\n",
       "      <td>None</td>\n",
       "      <td>None</td>\n",
       "      <td>None</td>\n",
       "      <td>None</td>\n",
       "      <td>None</td>\n",
       "      <td>None</td>\n",
       "    </tr>\n",
       "    <tr>\n",
       "      <th>1</th>\n",
       "      <td>2</td>\n",
       "      <td>51959162</td>\n",
       "      <td>70394142</td>\n",
       "      <td>None</td>\n",
       "      <td>None</td>\n",
       "      <td>training/A0N/A6/A0NA69/V-set.22-117/V-set.20-1...</td>\n",
       "      <td>A0NA69</td>\n",
       "      <td>P01820</td>\n",
       "      <td>60</td>\n",
       "      <td>None</td>\n",
       "      <td>None</td>\n",
       "      <td>1xgyI02</td>\n",
       "      <td>1xgyH02</td>\n",
       "      <td>72.45</td>\n",
       "      <td>None</td>\n",
       "      <td>95.1456</td>\n",
       "      <td>0.702436</td>\n",
       "      <td>None</td>\n",
       "      <td>None</td>\n",
       "      <td>None</td>\n",
       "      <td>None</td>\n",
       "      <td>46.39</td>\n",
       "      <td>None</td>\n",
       "      <td>100.0000</td>\n",
       "      <td>0.490705</td>\n",
       "      <td>None</td>\n",
       "      <td>None</td>\n",
       "      <td>None</td>\n",
       "      <td>None</td>\n",
       "      <td>None</td>\n",
       "      <td>None</td>\n",
       "      <td>None</td>\n",
       "      <td>None</td>\n",
       "      <td>None</td>\n",
       "    </tr>\n",
       "  </tbody>\n",
       "</table>\n",
       "</div>"
      ],
      "text/plain": [
       "   uniprot_domain_pair_id  uniprot_domain_id_1  uniprot_domain_id_2 rigids domain_contact_ids                                       path_to_data uniprot_id_1 uniprot_id_2  max_seq_identity uniprot_domain_pair_id_old domain_contact_id cath_id_1 cath_id_2  identical_1 conserved_1  coverage_1   score_1 identical_if_1 conserved_if_1 coverage_if_1 score_if_1  identical_2 conserved_2  coverage_2   score_2 identical_if_2 conserved_if_2 coverage_if_2 score_if_2 score_total score_if_total score_overall t_date_modified template_errors\n",
       "0                       1             51959162             70394142   None               None  training/A0N/A6/A0NA69/V-set.22-117/V-set.20-1...       A0NA69       P01820                40                       None              None   4jdvL00   4jdvH02        37.11        None     93.2039  0.375188           None           None          None       None        42.71        None     98.9583  0.450998           None           None          None       None        None           None          None            None            None\n",
       "1                       2             51959162             70394142   None               None  training/A0N/A6/A0NA69/V-set.22-117/V-set.20-1...       A0NA69       P01820                60                       None              None   1xgyI02   1xgyH02        72.45        None     95.1456  0.702436           None           None          None       None        46.39        None    100.0000  0.490705           None           None          None       None        None           None          None            None            None"
      ]
     },
     "metadata": {},
     "output_type": "display_data"
    },
    {
     "name": "stdout",
     "output_type": "stream",
     "text": [
      "282\n"
     ]
    }
   ],
   "source": [
    "display(uniprot_domain_pair_wtemplate.head(2))\n",
    "print(uniprot_domain_pair_wtemplate.shape[0])"
   ]
  },
  {
   "cell_type": "markdown",
   "metadata": {
    "run_control": {
     "marked": false
    }
   },
   "source": [
    "## mutations_wtemplates"
   ]
  },
  {
   "cell_type": "code",
   "execution_count": 541,
   "metadata": {
    "collapsed": false,
    "run_control": {
     "marked": false
    },
    "scrolled": true
   },
   "outputs": [
    {
     "data": {
      "text/html": [
       "<div>\n",
       "<table border=\"1\" class=\"dataframe\">\n",
       "  <thead>\n",
       "    <tr style=\"text-align: right;\">\n",
       "      <th></th>\n",
       "      <th>id</th>\n",
       "      <th>uniprot_id</th>\n",
       "      <th>partner_uniprot_id</th>\n",
       "      <th>uniprot_mutation</th>\n",
       "      <th>pdb_id</th>\n",
       "      <th>pdb_chain</th>\n",
       "      <th>partner_pdb_chain</th>\n",
       "      <th>pdb_mutation</th>\n",
       "      <th>pfam_id</th>\n",
       "      <th>pfam_clan</th>\n",
       "      <th>ddg_exp</th>\n",
       "    </tr>\n",
       "  </thead>\n",
       "  <tbody>\n",
       "    <tr>\n",
       "      <th>0</th>\n",
       "      <td>1</td>\n",
       "      <td>A0NA69</td>\n",
       "      <td>P01820</td>\n",
       "      <td>D71A</td>\n",
       "      <td>1dvf</td>\n",
       "      <td>D</td>\n",
       "      <td>B</td>\n",
       "      <td>D52A</td>\n",
       "      <td>None</td>\n",
       "      <td>None</td>\n",
       "      <td>1.682290</td>\n",
       "    </tr>\n",
       "    <tr>\n",
       "      <th>1</th>\n",
       "      <td>2</td>\n",
       "      <td>A0NA69</td>\n",
       "      <td>P01820</td>\n",
       "      <td>K49A</td>\n",
       "      <td>1dvf</td>\n",
       "      <td>D</td>\n",
       "      <td>B</td>\n",
       "      <td>K30A</td>\n",
       "      <td>None</td>\n",
       "      <td>None</td>\n",
       "      <td>1.003517</td>\n",
       "    </tr>\n",
       "  </tbody>\n",
       "</table>\n",
       "</div>"
      ],
      "text/plain": [
       "   id uniprot_id partner_uniprot_id uniprot_mutation pdb_id pdb_chain partner_pdb_chain pdb_mutation pfam_id pfam_clan   ddg_exp\n",
       "0   1     A0NA69             P01820             D71A   1dvf         D                 B         D52A    None      None  1.682290\n",
       "1   2     A0NA69             P01820             K49A   1dvf         D                 B         K30A    None      None  1.003517"
      ]
     },
     "metadata": {},
     "output_type": "display_data"
    },
    {
     "name": "stdout",
     "output_type": "stream",
     "text": [
      "(2213, 11)\n",
      "(2213, 11)\n",
      "(2213, 11)\n"
     ]
    }
   ],
   "source": [
    "display(DATA['skempi'].head(2))\n",
    "print(DATA['skempi'].shape)\n",
    "print(DATA['skempi'].drop_duplicates().shape)\n",
    "print(DATA['skempi'].drop_duplicates(['uniprot_id', 'partner_uniprot_id', 'uniprot_mutation']).shape)"
   ]
  },
  {
   "cell_type": "code",
   "execution_count": 542,
   "metadata": {
    "collapsed": false
   },
   "outputs": [
    {
     "data": {
      "text/html": [
       "<div>\n",
       "<table border=\"1\" class=\"dataframe\">\n",
       "  <thead>\n",
       "    <tr style=\"text-align: right;\">\n",
       "      <th></th>\n",
       "      <th>idx</th>\n",
       "      <th>uniprot_id</th>\n",
       "      <th>partner_uniprot_id</th>\n",
       "      <th>uniprot_mutation</th>\n",
       "      <th>ddg_exp</th>\n",
       "    </tr>\n",
       "  </thead>\n",
       "  <tbody>\n",
       "    <tr>\n",
       "      <th>0</th>\n",
       "      <td>1</td>\n",
       "      <td>Q16613</td>\n",
       "      <td>B1AKB6</td>\n",
       "      <td>A129T</td>\n",
       "      <td>0.322069</td>\n",
       "    </tr>\n",
       "    <tr>\n",
       "      <th>1</th>\n",
       "      <td>2</td>\n",
       "      <td>Q16613</td>\n",
       "      <td>Q99750</td>\n",
       "      <td>A129T</td>\n",
       "      <td>0.322069</td>\n",
       "    </tr>\n",
       "  </tbody>\n",
       "</table>\n",
       "</div>"
      ],
      "text/plain": [
       "   idx uniprot_id partner_uniprot_id uniprot_mutation   ddg_exp\n",
       "0    1     Q16613             B1AKB6            A129T  0.322069\n",
       "1    2     Q16613             Q99750            A129T  0.322069"
      ]
     },
     "metadata": {},
     "output_type": "display_data"
    },
    {
     "name": "stdout",
     "output_type": "stream",
     "text": [
      "(742, 5)\n",
      "(742, 5)\n",
      "(742, 5)\n"
     ]
    }
   ],
   "source": [
    "column = 'taipale_gpca'\n",
    "display(DATA[column].head(2))\n",
    "print(DATA[column].shape)\n",
    "print(DATA[column].drop_duplicates().shape)\n",
    "print(DATA[column].drop_duplicates(['uniprot_id', 'partner_uniprot_id', 'uniprot_mutation', 'ddg_exp']).shape)"
   ]
  },
  {
   "cell_type": "raw",
   "metadata": {
    "collapsed": true,
    "run_control": {
     "marked": false
    }
   },
   "source": [
    "uniprot_domain_pair_wtemplate['uniprot_id'] = uniprot_domain_pair_wtemplate['uniprot_id_1']\n",
    "uniprot_domain_pair_wtemplate['partner_uniprot_id'] = uniprot_domain_pair_wtemplate['uniprot_id_2']"
   ]
  },
  {
   "cell_type": "code",
   "execution_count": 543,
   "metadata": {
    "collapsed": false
   },
   "outputs": [
    {
     "data": {
      "text/plain": [
       "['skempi', 'taipale_ppi', 'taipale_gpca']"
      ]
     },
     "execution_count": 543,
     "metadata": {},
     "output_type": "execute_result"
    }
   ],
   "source": [
    "DATASETS"
   ]
  },
  {
   "cell_type": "code",
   "execution_count": 544,
   "metadata": {
    "collapsed": false
   },
   "outputs": [
    {
     "data": {
      "text/plain": [
       "True"
      ]
     },
     "execution_count": 544,
     "metadata": {},
     "output_type": "execute_result"
    }
   ],
   "source": [
    "'idx' in DATA['taipale_gpca'].columns"
   ]
  },
  {
   "cell_type": "code",
   "execution_count": 545,
   "metadata": {
    "collapsed": false,
    "run_control": {
     "marked": false
    }
   },
   "outputs": [
    {
     "name": "stdout",
     "output_type": "stream",
     "text": [
      "skempi\n",
      "Removed multi-mutants:                                      463\n",
      "Unique interface mutations:                                 1750\n",
      "Unique interface mutations with templates:                  1238\n",
      "taipale_ppi\n",
      "Removed multi-mutants:                                      0\n",
      "Unique interface mutations:                                 2348\n",
      "Unique interface mutations with templates:                  252\n",
      "taipale_gpca\n",
      "Removed multi-mutants:                                      0\n",
      "Unique interface mutations:                                 742\n",
      "Unique interface mutations with templates:                  142\n"
     ]
    }
   ],
   "source": [
    "DATA_WTEMPLATES = {}\n",
    "\n",
    "def mutation_in_domain(\n",
    "        uniprot_id, uniprot_id_1, domain_def_1, uniprot_id_2, domain_def_2, uniprot_mutation):\n",
    "    if (uniprot_id == uniprot_id_1 and \n",
    "            kmtools.sequence_tools.mutation_in_domain(uniprot_mutation, domain_def_1)):\n",
    "        return True\n",
    "    if (uniprot_id == uniprot_id_2):\n",
    "        return kmtools.sequence_tools.mutation_in_domain(uniprot_mutation, domain_def_2)\n",
    "    raise Exception\n",
    "\n",
    "\n",
    "dataset_columns = ['uniprot_id', 'partner_uniprot_id', 'uniprot_mutation']\n",
    "\n",
    "for dataset in DATASETS:\n",
    "    print(dataset)\n",
    "    df = DATA[dataset][dataset_columns]\n",
    "    # df['dataset'] = dataset\n",
    "\n",
    "    # Remove multi-mutations\n",
    "    _before = df.shape[0]\n",
    "    df = df[~df['uniprot_mutation'].str.contains(',')]\n",
    "    print2(\"Removed multi-mutants:\", _before - df.shape[0])\n",
    "\n",
    "    print2(\n",
    "        \"Unique interface mutations:\", \n",
    "        df[['uniprot_id', 'partner_uniprot_id', 'uniprot_mutation']].drop_duplicates().shape[0])\n",
    "\n",
    "    df_wtemplates = (\n",
    "        pd.concat([\n",
    "            df.merge(\n",
    "                uniprot_domain_pair_wtemplate.rename(\n",
    "                    columns={'uniprot_id_1': 'uniprot_id', 'uniprot_id_2': 'partner_uniprot_id'}),\n",
    "                on=['uniprot_id', 'partner_uniprot_id']),\n",
    "            df.merge(\n",
    "                uniprot_domain_pair_wtemplate.rename(\n",
    "                    columns={'uniprot_id_2': 'uniprot_id', 'uniprot_id_1': 'partner_uniprot_id'}),\n",
    "                on=['uniprot_id', 'partner_uniprot_id']),\n",
    "        ])\n",
    "        .drop_duplicates(['uniprot_domain_pair_id'] + dataset_columns)\n",
    "    )\n",
    "    print2(\n",
    "        \"Unique interface mutations with templates:\", \n",
    "        df_wtemplates[['uniprot_id', 'partner_uniprot_id', 'uniprot_mutation']].drop_duplicates().shape[0])\n",
    "\n",
    "    DATA_WTEMPLATES[dataset] = df_wtemplates"
   ]
  },
  {
   "cell_type": "code",
   "execution_count": 546,
   "metadata": {
    "collapsed": false,
    "run_control": {
     "marked": false
    }
   },
   "outputs": [],
   "source": [
    "mutations_wtemplates = pd.concat(DATA_WTEMPLATES.values(), ignore_index=True)"
   ]
  },
  {
   "cell_type": "code",
   "execution_count": 547,
   "metadata": {
    "collapsed": false
   },
   "outputs": [
    {
     "data": {
      "text/plain": [
       "['uniprot_id', 'partner_uniprot_id', 'uniprot_mutation']"
      ]
     },
     "execution_count": 547,
     "metadata": {},
     "output_type": "execute_result"
    }
   ],
   "source": [
    "dataset_columns"
   ]
  },
  {
   "cell_type": "code",
   "execution_count": 552,
   "metadata": {
    "collapsed": true
   },
   "outputs": [],
   "source": [
    "assert mutations_wtemplates.drop_duplicates().shape[0] == (\n",
    "    mutations_wtemplates.drop_duplicates(['uniprot_domain_pair_id'] + dataset_columns).shape[0]\n",
    ")\n",
    "mutations_wtemplates = mutations_wtemplates.drop_duplicates(['uniprot_domain_pair_id'] + dataset_columns)"
   ]
  },
  {
   "cell_type": "code",
   "execution_count": 553,
   "metadata": {
    "collapsed": false,
    "run_control": {
     "marked": false
    }
   },
   "outputs": [
    {
     "data": {
      "text/html": [
       "<div>\n",
       "<table border=\"1\" class=\"dataframe\">\n",
       "  <thead>\n",
       "    <tr style=\"text-align: right;\">\n",
       "      <th></th>\n",
       "      <th>uniprot_id</th>\n",
       "      <th>partner_uniprot_id</th>\n",
       "      <th>uniprot_mutation</th>\n",
       "      <th>uniprot_domain_pair_id</th>\n",
       "      <th>uniprot_domain_id_1</th>\n",
       "      <th>uniprot_domain_id_2</th>\n",
       "      <th>rigids</th>\n",
       "      <th>domain_contact_ids</th>\n",
       "      <th>path_to_data</th>\n",
       "      <th>max_seq_identity</th>\n",
       "      <th>uniprot_domain_pair_id_old</th>\n",
       "      <th>domain_contact_id</th>\n",
       "      <th>cath_id_1</th>\n",
       "      <th>cath_id_2</th>\n",
       "      <th>identical_1</th>\n",
       "      <th>conserved_1</th>\n",
       "      <th>coverage_1</th>\n",
       "      <th>score_1</th>\n",
       "      <th>identical_if_1</th>\n",
       "      <th>conserved_if_1</th>\n",
       "      <th>coverage_if_1</th>\n",
       "      <th>score_if_1</th>\n",
       "      <th>identical_2</th>\n",
       "      <th>conserved_2</th>\n",
       "      <th>coverage_2</th>\n",
       "      <th>score_2</th>\n",
       "      <th>identical_if_2</th>\n",
       "      <th>conserved_if_2</th>\n",
       "      <th>coverage_if_2</th>\n",
       "      <th>score_if_2</th>\n",
       "      <th>score_total</th>\n",
       "      <th>score_if_total</th>\n",
       "      <th>score_overall</th>\n",
       "      <th>t_date_modified</th>\n",
       "      <th>template_errors</th>\n",
       "    </tr>\n",
       "  </thead>\n",
       "  <tbody>\n",
       "    <tr>\n",
       "      <th>0</th>\n",
       "      <td>P60709</td>\n",
       "      <td>P60709</td>\n",
       "      <td>R183W</td>\n",
       "      <td>233</td>\n",
       "      <td>32639633</td>\n",
       "      <td>32639633</td>\n",
       "      <td>None</td>\n",
       "      <td>None</td>\n",
       "      <td>training/P60/70/P60709/Actin.3-375/Actin.3-375...</td>\n",
       "      <td>60</td>\n",
       "      <td>None</td>\n",
       "      <td>None</td>\n",
       "      <td>3dxkA00</td>\n",
       "      <td>3dxkB00</td>\n",
       "      <td>36.34</td>\n",
       "      <td>None</td>\n",
       "      <td>97.3333</td>\n",
       "      <td>0.384691</td>\n",
       "      <td>None</td>\n",
       "      <td>None</td>\n",
       "      <td>None</td>\n",
       "      <td>None</td>\n",
       "      <td>50.47</td>\n",
       "      <td>None</td>\n",
       "      <td>53.6000</td>\n",
       "      <td>0.283793</td>\n",
       "      <td>None</td>\n",
       "      <td>None</td>\n",
       "      <td>None</td>\n",
       "      <td>None</td>\n",
       "      <td>None</td>\n",
       "      <td>None</td>\n",
       "      <td>None</td>\n",
       "      <td>None</td>\n",
       "      <td>None</td>\n",
       "    </tr>\n",
       "    <tr>\n",
       "      <th>1</th>\n",
       "      <td>P60709</td>\n",
       "      <td>P60709</td>\n",
       "      <td>R183W</td>\n",
       "      <td>234</td>\n",
       "      <td>32639633</td>\n",
       "      <td>32639633</td>\n",
       "      <td>None</td>\n",
       "      <td>None</td>\n",
       "      <td>training/P60/70/P60709/Actin.3-375/Actin.3-375...</td>\n",
       "      <td>100</td>\n",
       "      <td>None</td>\n",
       "      <td>None</td>\n",
       "      <td>2oanA00</td>\n",
       "      <td>2oanB00</td>\n",
       "      <td>97.27</td>\n",
       "      <td>None</td>\n",
       "      <td>97.6000</td>\n",
       "      <td>0.950687</td>\n",
       "      <td>None</td>\n",
       "      <td>None</td>\n",
       "      <td>None</td>\n",
       "      <td>None</td>\n",
       "      <td>97.30</td>\n",
       "      <td>None</td>\n",
       "      <td>98.9333</td>\n",
       "      <td>0.963957</td>\n",
       "      <td>None</td>\n",
       "      <td>None</td>\n",
       "      <td>None</td>\n",
       "      <td>None</td>\n",
       "      <td>None</td>\n",
       "      <td>None</td>\n",
       "      <td>None</td>\n",
       "      <td>None</td>\n",
       "      <td>None</td>\n",
       "    </tr>\n",
       "  </tbody>\n",
       "</table>\n",
       "</div>"
      ],
      "text/plain": [
       "  uniprot_id partner_uniprot_id uniprot_mutation  uniprot_domain_pair_id  uniprot_domain_id_1  uniprot_domain_id_2 rigids domain_contact_ids                                       path_to_data  max_seq_identity uniprot_domain_pair_id_old domain_contact_id cath_id_1 cath_id_2  identical_1 conserved_1  coverage_1   score_1 identical_if_1 conserved_if_1 coverage_if_1 score_if_1  identical_2 conserved_2  coverage_2   score_2 identical_if_2 conserved_if_2 coverage_if_2 score_if_2 score_total score_if_total score_overall t_date_modified template_errors\n",
       "0     P60709             P60709            R183W                     233             32639633             32639633   None               None  training/P60/70/P60709/Actin.3-375/Actin.3-375...                60                       None              None   3dxkA00   3dxkB00        36.34        None     97.3333  0.384691           None           None          None       None        50.47        None     53.6000  0.283793           None           None          None       None        None           None          None            None            None\n",
       "1     P60709             P60709            R183W                     234             32639633             32639633   None               None  training/P60/70/P60709/Actin.3-375/Actin.3-375...               100                       None              None   2oanA00   2oanB00        97.27        None     97.6000  0.950687           None           None          None       None        97.30        None     98.9333  0.963957           None           None          None       None        None           None          None            None            None"
      ]
     },
     "metadata": {},
     "output_type": "display_data"
    },
    {
     "name": "stdout",
     "output_type": "stream",
     "text": [
      "3832\n",
      "3832\n",
      "3832\n",
      "1490\n"
     ]
    }
   ],
   "source": [
    "display(mutations_wtemplates.head(2))\n",
    "print(mutations_wtemplates.shape[0])\n",
    "print(mutations_wtemplates.drop_duplicates().shape[0])\n",
    "print(mutations_wtemplates.drop_duplicates(['uniprot_domain_pair_id'] + dataset_columns).shape[0])\n",
    "print(mutations_wtemplates.drop_duplicates(dataset_columns).shape[0])"
   ]
  },
  {
   "cell_type": "code",
   "execution_count": 554,
   "metadata": {
    "collapsed": true,
    "run_control": {
     "marked": false
    }
   },
   "outputs": [],
   "source": [
    "mutations_wtemplates_bak = mutations_wtemplates.copy()"
   ]
  },
  {
   "cell_type": "markdown",
   "metadata": {
    "run_control": {
     "marked": false
    }
   },
   "source": [
    "## qsub"
   ]
  },
  {
   "cell_type": "markdown",
   "metadata": {
    "run_control": {
     "marked": false
    }
   },
   "source": [
    "First run with `-t 6` and only UniProt IDs to calculate Provean and domain models.\n",
    "\n",
    "Next run with `-t 5` and `-i {uniprot_domain_pair_id}` to calculate mutations. \n",
    "\n",
    "  - You need to specify `{uniprot_domain_pair_id}` because the pipeline was not designed to work\n",
    "    with the same domain pairs at different sequence identities."
   ]
  },
  {
   "cell_type": "code",
   "execution_count": 555,
   "metadata": {
    "collapsed": false,
    "run_control": {
     "marked": false
    }
   },
   "outputs": [
    {
     "name": "stdout",
     "output_type": "stream",
     "text": [
      "3\n"
     ]
    }
   ],
   "source": [
    "RUN_NUMBER = 3  # 1: Provean and domain models, 2: Interface models, 3: Mutations\n",
    "print(RUN_NUMBER)\n",
    "\n",
    "mutations_wtemplates = mutations_wtemplates_bak.copy()\n",
    "\n",
    "if RUN_NUMBER == 1:\n",
    "    system_command_template = \"\"\"\\\n",
    "    elaspic run \\\n",
    "        --pdb_dir='/home/kimlab1/database_data/pdb/data/data/structures/divided/pdb/' \\\n",
    "        --blast_db_dir='/home/strokach/databases/blast/db' \\\n",
    "        --archive_dir='{archive_dir}' \\\n",
    "        --connection_string='{connection_string}' \\\n",
    "        -vvv \\\n",
    "        -u '{uniprot_id}' \\\n",
    "        -i 0 \\\n",
    "        -t 6 \\\n",
    "        # {uniprot_domain_pair_id} {uniprot_mutations}\n",
    "    \"\"\"\n",
    "    mutations_wtemplates = mutations_wtemplates.drop_duplicates('uniprot_id')\n",
    "\n",
    "elif RUN_NUMBER == 2:\n",
    "    system_command_template = \"\"\"\\\n",
    "    elaspic run \\\n",
    "        --pdb_dir='/home/kimlab1/database_data/pdb/data/data/structures/divided/pdb/' \\\n",
    "        --blast_db_dir='/home/kimlab1/database_data/blast/db' \\\n",
    "        --archive_dir='{archive_dir}' \\\n",
    "        --connection_string='{connection_string}' \\\n",
    "        -vvv \\\n",
    "        -u '{uniprot_id}' \\\n",
    "        -i {uniprot_domain_pair_id} \\\n",
    "        -t 6\n",
    "        # -m '{uniprot_mutations}' \\\n",
    "    \"\"\"\n",
    "    mutations_wtemplates = mutations_wtemplates.drop_duplicates('uniprot_domain_pair_id')\n",
    "    \n",
    "elif RUN_NUMBER == 3:\n",
    "    system_command_template = \"\"\"\\\n",
    "    elaspic run \\\n",
    "        --pdb_dir='/home/kimlab1/database_data/pdb/data/data/structures/divided/pdb/' \\\n",
    "        --blast_db_dir='/home/kimlab1/database_data/blast/db' \\\n",
    "        --archive_dir='{archive_dir}' \\\n",
    "        --connection_string='{connection_string}' \\\n",
    "        -vvv \\\n",
    "        -u '{uniprot_id}' \\\n",
    "        -i {uniprot_domain_pair_id} \\\n",
    "        -m '{uniprot_mutations}' \\\n",
    "    \"\"\"\n"
   ]
  },
  {
   "cell_type": "code",
   "execution_count": 557,
   "metadata": {
    "collapsed": false,
    "run_control": {
     "marked": false
    }
   },
   "outputs": [
    {
     "data": {
      "text/html": [
       "<div>\n",
       "<table border=\"1\" class=\"dataframe\">\n",
       "  <thead>\n",
       "    <tr style=\"text-align: right;\">\n",
       "      <th></th>\n",
       "      <th>uniprot_id</th>\n",
       "      <th>partner_uniprot_id</th>\n",
       "      <th>uniprot_mutation</th>\n",
       "      <th>uniprot_domain_pair_id</th>\n",
       "      <th>uniprot_domain_id_1</th>\n",
       "      <th>uniprot_domain_id_2</th>\n",
       "      <th>rigids</th>\n",
       "      <th>domain_contact_ids</th>\n",
       "      <th>path_to_data</th>\n",
       "      <th>max_seq_identity</th>\n",
       "      <th>uniprot_domain_pair_id_old</th>\n",
       "      <th>domain_contact_id</th>\n",
       "      <th>cath_id_1</th>\n",
       "      <th>cath_id_2</th>\n",
       "      <th>identical_1</th>\n",
       "      <th>conserved_1</th>\n",
       "      <th>coverage_1</th>\n",
       "      <th>score_1</th>\n",
       "      <th>identical_if_1</th>\n",
       "      <th>conserved_if_1</th>\n",
       "      <th>coverage_if_1</th>\n",
       "      <th>score_if_1</th>\n",
       "      <th>identical_2</th>\n",
       "      <th>conserved_2</th>\n",
       "      <th>coverage_2</th>\n",
       "      <th>score_2</th>\n",
       "      <th>identical_if_2</th>\n",
       "      <th>conserved_if_2</th>\n",
       "      <th>coverage_if_2</th>\n",
       "      <th>score_if_2</th>\n",
       "      <th>score_total</th>\n",
       "      <th>score_if_total</th>\n",
       "      <th>score_overall</th>\n",
       "      <th>t_date_modified</th>\n",
       "      <th>template_errors</th>\n",
       "    </tr>\n",
       "  </thead>\n",
       "  <tbody>\n",
       "    <tr>\n",
       "      <th>0</th>\n",
       "      <td>P60709</td>\n",
       "      <td>P60709</td>\n",
       "      <td>R183W</td>\n",
       "      <td>233</td>\n",
       "      <td>32639633</td>\n",
       "      <td>32639633</td>\n",
       "      <td>None</td>\n",
       "      <td>None</td>\n",
       "      <td>training/P60/70/P60709/Actin.3-375/Actin.3-375...</td>\n",
       "      <td>60</td>\n",
       "      <td>None</td>\n",
       "      <td>None</td>\n",
       "      <td>3dxkA00</td>\n",
       "      <td>3dxkB00</td>\n",
       "      <td>36.34</td>\n",
       "      <td>None</td>\n",
       "      <td>97.3333</td>\n",
       "      <td>0.384691</td>\n",
       "      <td>None</td>\n",
       "      <td>None</td>\n",
       "      <td>None</td>\n",
       "      <td>None</td>\n",
       "      <td>50.47</td>\n",
       "      <td>None</td>\n",
       "      <td>53.6000</td>\n",
       "      <td>0.283793</td>\n",
       "      <td>None</td>\n",
       "      <td>None</td>\n",
       "      <td>None</td>\n",
       "      <td>None</td>\n",
       "      <td>None</td>\n",
       "      <td>None</td>\n",
       "      <td>None</td>\n",
       "      <td>None</td>\n",
       "      <td>None</td>\n",
       "    </tr>\n",
       "    <tr>\n",
       "      <th>1</th>\n",
       "      <td>P60709</td>\n",
       "      <td>P60709</td>\n",
       "      <td>R183W</td>\n",
       "      <td>234</td>\n",
       "      <td>32639633</td>\n",
       "      <td>32639633</td>\n",
       "      <td>None</td>\n",
       "      <td>None</td>\n",
       "      <td>training/P60/70/P60709/Actin.3-375/Actin.3-375...</td>\n",
       "      <td>100</td>\n",
       "      <td>None</td>\n",
       "      <td>None</td>\n",
       "      <td>2oanA00</td>\n",
       "      <td>2oanB00</td>\n",
       "      <td>97.27</td>\n",
       "      <td>None</td>\n",
       "      <td>97.6000</td>\n",
       "      <td>0.950687</td>\n",
       "      <td>None</td>\n",
       "      <td>None</td>\n",
       "      <td>None</td>\n",
       "      <td>None</td>\n",
       "      <td>97.30</td>\n",
       "      <td>None</td>\n",
       "      <td>98.9333</td>\n",
       "      <td>0.963957</td>\n",
       "      <td>None</td>\n",
       "      <td>None</td>\n",
       "      <td>None</td>\n",
       "      <td>None</td>\n",
       "      <td>None</td>\n",
       "      <td>None</td>\n",
       "      <td>None</td>\n",
       "      <td>None</td>\n",
       "      <td>None</td>\n",
       "    </tr>\n",
       "  </tbody>\n",
       "</table>\n",
       "</div>"
      ],
      "text/plain": [
       "  uniprot_id partner_uniprot_id uniprot_mutation  uniprot_domain_pair_id  uniprot_domain_id_1  uniprot_domain_id_2 rigids domain_contact_ids                                       path_to_data  max_seq_identity uniprot_domain_pair_id_old domain_contact_id cath_id_1 cath_id_2  identical_1 conserved_1  coverage_1   score_1 identical_if_1 conserved_if_1 coverage_if_1 score_if_1  identical_2 conserved_2  coverage_2   score_2 identical_if_2 conserved_if_2 coverage_if_2 score_if_2 score_total score_if_total score_overall t_date_modified template_errors\n",
       "0     P60709             P60709            R183W                     233             32639633             32639633   None               None  training/P60/70/P60709/Actin.3-375/Actin.3-375...                60                       None              None   3dxkA00   3dxkB00        36.34        None     97.3333  0.384691           None           None          None       None        50.47        None     53.6000  0.283793           None           None          None       None        None           None          None            None            None\n",
       "1     P60709             P60709            R183W                     234             32639633             32639633   None               None  training/P60/70/P60709/Actin.3-375/Actin.3-375...               100                       None              None   2oanA00   2oanB00        97.27        None     97.6000  0.950687           None           None          None       None        97.30        None     98.9333  0.963957           None           None          None       None        None           None          None            None            None"
      ]
     },
     "metadata": {},
     "output_type": "display_data"
    },
    {
     "name": "stdout",
     "output_type": "stream",
     "text": [
      "3832\n",
      "3832\n"
     ]
    }
   ],
   "source": [
    "display(mutations_wtemplates.head(2))\n",
    "print(mutations_wtemplates.shape[0])\n",
    "print(mutations_wtemplates\n",
    "      .drop_duplicates(['uniprot_domain_pair_id', 'uniprot_id', 'partner_uniprot_id', 'uniprot_mutation'])\n",
    "      .shape[0])"
   ]
  },
  {
   "cell_type": "code",
   "execution_count": 558,
   "metadata": {
    "collapsed": false
   },
   "outputs": [
    {
     "name": "stdout",
     "output_type": "stream",
     "text": [
      "The autoreload extension is already loaded. To reload it, use:\n",
      "  %reload_ext autoreload\n",
      "2016-08-11 14:39:42.201591\n"
     ]
    }
   ],
   "source": [
    "%run imports.ipynb"
   ]
  },
  {
   "cell_type": "code",
   "execution_count": 559,
   "metadata": {
    "collapsed": true
   },
   "outputs": [],
   "source": [
    "logger.setLevel(logging.DEBUG)"
   ]
  },
  {
   "cell_type": "code",
   "execution_count": 560,
   "metadata": {
    "collapsed": false
   },
   "outputs": [
    {
     "name": "stderr",
     "output_type": "stream",
     "text": [
      "2016-08-11 14:39:42,716 - root - DEBUG - xx\n"
     ]
    }
   ],
   "source": [
    "logger.debug('xx')"
   ]
  },
  {
   "cell_type": "code",
   "execution_count": 561,
   "metadata": {
    "collapsed": false,
    "run_control": {
     "marked": false
    }
   },
   "outputs": [],
   "source": [
    "SUFFIX = '_11'\n",
    "JOB_NAME = 'database_mutations{}'.format(SUFFIX)\n",
    "\n",
    "mutations_wtemplates['system_command'] = [\n",
    "    system_command_template\n",
    "    .format(\n",
    "        archive_dir=op.abspath(op.join('elaspic_training_interface', 'elaspic')),\n",
    "        connection_string=mysqld.get_connection_string(db_schema='elaspic_training_interface', db_url=None),\n",
    "        uniprot_id=uniprot_id,\n",
    "        uniprot_mutations=uniprot_mutation,\n",
    "        uniprot_domain_pair_id=uniprot_domain_pair_id\n",
    "    )\n",
    "    for uniprot_domain_pair_id, uniprot_id, uniprot_mutation\n",
    "    in (\n",
    "        mutations_wtemplates\n",
    "        [['uniprot_domain_pair_id', 'uniprot_id', 'uniprot_mutation']].values\n",
    "    )\n",
    "]"
   ]
  },
  {
   "cell_type": "code",
   "execution_count": 562,
   "metadata": {
    "collapsed": false,
    "run_control": {
     "marked": false
    }
   },
   "outputs": [
    {
     "data": {
      "text/html": [
       "<div>\n",
       "<table border=\"1\" class=\"dataframe\">\n",
       "  <thead>\n",
       "    <tr style=\"text-align: right;\">\n",
       "      <th></th>\n",
       "      <th>uniprot_id</th>\n",
       "      <th>partner_uniprot_id</th>\n",
       "      <th>uniprot_mutation</th>\n",
       "      <th>uniprot_domain_pair_id</th>\n",
       "      <th>uniprot_domain_id_1</th>\n",
       "      <th>uniprot_domain_id_2</th>\n",
       "      <th>rigids</th>\n",
       "      <th>domain_contact_ids</th>\n",
       "      <th>path_to_data</th>\n",
       "      <th>max_seq_identity</th>\n",
       "      <th>uniprot_domain_pair_id_old</th>\n",
       "      <th>domain_contact_id</th>\n",
       "      <th>cath_id_1</th>\n",
       "      <th>cath_id_2</th>\n",
       "      <th>identical_1</th>\n",
       "      <th>conserved_1</th>\n",
       "      <th>coverage_1</th>\n",
       "      <th>score_1</th>\n",
       "      <th>identical_if_1</th>\n",
       "      <th>conserved_if_1</th>\n",
       "      <th>coverage_if_1</th>\n",
       "      <th>score_if_1</th>\n",
       "      <th>identical_2</th>\n",
       "      <th>conserved_2</th>\n",
       "      <th>coverage_2</th>\n",
       "      <th>score_2</th>\n",
       "      <th>identical_if_2</th>\n",
       "      <th>conserved_if_2</th>\n",
       "      <th>coverage_if_2</th>\n",
       "      <th>score_if_2</th>\n",
       "      <th>score_total</th>\n",
       "      <th>score_if_total</th>\n",
       "      <th>score_overall</th>\n",
       "      <th>t_date_modified</th>\n",
       "      <th>template_errors</th>\n",
       "      <th>system_command</th>\n",
       "    </tr>\n",
       "  </thead>\n",
       "  <tbody>\n",
       "    <tr>\n",
       "      <th>0</th>\n",
       "      <td>P60709</td>\n",
       "      <td>P60709</td>\n",
       "      <td>R183W</td>\n",
       "      <td>233</td>\n",
       "      <td>32639633</td>\n",
       "      <td>32639633</td>\n",
       "      <td>None</td>\n",
       "      <td>None</td>\n",
       "      <td>training/P60/70/P60709/Actin.3-375/Actin.3-375...</td>\n",
       "      <td>60</td>\n",
       "      <td>None</td>\n",
       "      <td>None</td>\n",
       "      <td>3dxkA00</td>\n",
       "      <td>3dxkB00</td>\n",
       "      <td>36.34</td>\n",
       "      <td>None</td>\n",
       "      <td>97.3333</td>\n",
       "      <td>0.384691</td>\n",
       "      <td>None</td>\n",
       "      <td>None</td>\n",
       "      <td>None</td>\n",
       "      <td>None</td>\n",
       "      <td>50.47</td>\n",
       "      <td>None</td>\n",
       "      <td>53.6000</td>\n",
       "      <td>0.283793</td>\n",
       "      <td>None</td>\n",
       "      <td>None</td>\n",
       "      <td>None</td>\n",
       "      <td>None</td>\n",
       "      <td>None</td>\n",
       "      <td>None</td>\n",
       "      <td>None</td>\n",
       "      <td>None</td>\n",
       "      <td>None</td>\n",
       "      <td>elaspic run         --pdb_dir='/home/kimla...</td>\n",
       "    </tr>\n",
       "    <tr>\n",
       "      <th>1</th>\n",
       "      <td>P60709</td>\n",
       "      <td>P60709</td>\n",
       "      <td>R183W</td>\n",
       "      <td>234</td>\n",
       "      <td>32639633</td>\n",
       "      <td>32639633</td>\n",
       "      <td>None</td>\n",
       "      <td>None</td>\n",
       "      <td>training/P60/70/P60709/Actin.3-375/Actin.3-375...</td>\n",
       "      <td>100</td>\n",
       "      <td>None</td>\n",
       "      <td>None</td>\n",
       "      <td>2oanA00</td>\n",
       "      <td>2oanB00</td>\n",
       "      <td>97.27</td>\n",
       "      <td>None</td>\n",
       "      <td>97.6000</td>\n",
       "      <td>0.950687</td>\n",
       "      <td>None</td>\n",
       "      <td>None</td>\n",
       "      <td>None</td>\n",
       "      <td>None</td>\n",
       "      <td>97.30</td>\n",
       "      <td>None</td>\n",
       "      <td>98.9333</td>\n",
       "      <td>0.963957</td>\n",
       "      <td>None</td>\n",
       "      <td>None</td>\n",
       "      <td>None</td>\n",
       "      <td>None</td>\n",
       "      <td>None</td>\n",
       "      <td>None</td>\n",
       "      <td>None</td>\n",
       "      <td>None</td>\n",
       "      <td>None</td>\n",
       "      <td>elaspic run         --pdb_dir='/home/kimla...</td>\n",
       "    </tr>\n",
       "    <tr>\n",
       "      <th>2</th>\n",
       "      <td>P60709</td>\n",
       "      <td>P60709</td>\n",
       "      <td>E364K</td>\n",
       "      <td>233</td>\n",
       "      <td>32639633</td>\n",
       "      <td>32639633</td>\n",
       "      <td>None</td>\n",
       "      <td>None</td>\n",
       "      <td>training/P60/70/P60709/Actin.3-375/Actin.3-375...</td>\n",
       "      <td>60</td>\n",
       "      <td>None</td>\n",
       "      <td>None</td>\n",
       "      <td>3dxkA00</td>\n",
       "      <td>3dxkB00</td>\n",
       "      <td>36.34</td>\n",
       "      <td>None</td>\n",
       "      <td>97.3333</td>\n",
       "      <td>0.384691</td>\n",
       "      <td>None</td>\n",
       "      <td>None</td>\n",
       "      <td>None</td>\n",
       "      <td>None</td>\n",
       "      <td>50.47</td>\n",
       "      <td>None</td>\n",
       "      <td>53.6000</td>\n",
       "      <td>0.283793</td>\n",
       "      <td>None</td>\n",
       "      <td>None</td>\n",
       "      <td>None</td>\n",
       "      <td>None</td>\n",
       "      <td>None</td>\n",
       "      <td>None</td>\n",
       "      <td>None</td>\n",
       "      <td>None</td>\n",
       "      <td>None</td>\n",
       "      <td>elaspic run         --pdb_dir='/home/kimla...</td>\n",
       "    </tr>\n",
       "    <tr>\n",
       "      <th>3</th>\n",
       "      <td>P60709</td>\n",
       "      <td>P60709</td>\n",
       "      <td>E364K</td>\n",
       "      <td>234</td>\n",
       "      <td>32639633</td>\n",
       "      <td>32639633</td>\n",
       "      <td>None</td>\n",
       "      <td>None</td>\n",
       "      <td>training/P60/70/P60709/Actin.3-375/Actin.3-375...</td>\n",
       "      <td>100</td>\n",
       "      <td>None</td>\n",
       "      <td>None</td>\n",
       "      <td>2oanA00</td>\n",
       "      <td>2oanB00</td>\n",
       "      <td>97.27</td>\n",
       "      <td>None</td>\n",
       "      <td>97.6000</td>\n",
       "      <td>0.950687</td>\n",
       "      <td>None</td>\n",
       "      <td>None</td>\n",
       "      <td>None</td>\n",
       "      <td>None</td>\n",
       "      <td>97.30</td>\n",
       "      <td>None</td>\n",
       "      <td>98.9333</td>\n",
       "      <td>0.963957</td>\n",
       "      <td>None</td>\n",
       "      <td>None</td>\n",
       "      <td>None</td>\n",
       "      <td>None</td>\n",
       "      <td>None</td>\n",
       "      <td>None</td>\n",
       "      <td>None</td>\n",
       "      <td>None</td>\n",
       "      <td>None</td>\n",
       "      <td>elaspic run         --pdb_dir='/home/kimla...</td>\n",
       "    </tr>\n",
       "    <tr>\n",
       "      <th>4</th>\n",
       "      <td>P60709</td>\n",
       "      <td>Q1KLZ0</td>\n",
       "      <td>R183W</td>\n",
       "      <td>235</td>\n",
       "      <td>32639633</td>\n",
       "      <td>32639638</td>\n",
       "      <td>None</td>\n",
       "      <td>None</td>\n",
       "      <td>training/P60/70/P60709/Actin.3-375/Actin.3-375...</td>\n",
       "      <td>60</td>\n",
       "      <td>None</td>\n",
       "      <td>None</td>\n",
       "      <td>3dxkA00</td>\n",
       "      <td>3dxkB00</td>\n",
       "      <td>36.34</td>\n",
       "      <td>None</td>\n",
       "      <td>97.3333</td>\n",
       "      <td>0.384691</td>\n",
       "      <td>None</td>\n",
       "      <td>None</td>\n",
       "      <td>None</td>\n",
       "      <td>None</td>\n",
       "      <td>50.47</td>\n",
       "      <td>None</td>\n",
       "      <td>53.6000</td>\n",
       "      <td>0.283793</td>\n",
       "      <td>None</td>\n",
       "      <td>None</td>\n",
       "      <td>None</td>\n",
       "      <td>None</td>\n",
       "      <td>None</td>\n",
       "      <td>None</td>\n",
       "      <td>None</td>\n",
       "      <td>None</td>\n",
       "      <td>None</td>\n",
       "      <td>elaspic run         --pdb_dir='/home/kimla...</td>\n",
       "    </tr>\n",
       "  </tbody>\n",
       "</table>\n",
       "</div>"
      ],
      "text/plain": [
       "  uniprot_id partner_uniprot_id uniprot_mutation  uniprot_domain_pair_id  uniprot_domain_id_1  uniprot_domain_id_2 rigids domain_contact_ids                                       path_to_data  max_seq_identity uniprot_domain_pair_id_old domain_contact_id cath_id_1 cath_id_2  identical_1 conserved_1  coverage_1   score_1 identical_if_1 conserved_if_1 coverage_if_1 score_if_1  identical_2 conserved_2  coverage_2   score_2 identical_if_2 conserved_if_2 coverage_if_2 score_if_2 score_total score_if_total score_overall t_date_modified template_errors                                     system_command\n",
       "0     P60709             P60709            R183W                     233             32639633             32639633   None               None  training/P60/70/P60709/Actin.3-375/Actin.3-375...                60                       None              None   3dxkA00   3dxkB00        36.34        None     97.3333  0.384691           None           None          None       None        50.47        None     53.6000  0.283793           None           None          None       None        None           None          None            None            None      elaspic run         --pdb_dir='/home/kimla...\n",
       "1     P60709             P60709            R183W                     234             32639633             32639633   None               None  training/P60/70/P60709/Actin.3-375/Actin.3-375...               100                       None              None   2oanA00   2oanB00        97.27        None     97.6000  0.950687           None           None          None       None        97.30        None     98.9333  0.963957           None           None          None       None        None           None          None            None            None      elaspic run         --pdb_dir='/home/kimla...\n",
       "2     P60709             P60709            E364K                     233             32639633             32639633   None               None  training/P60/70/P60709/Actin.3-375/Actin.3-375...                60                       None              None   3dxkA00   3dxkB00        36.34        None     97.3333  0.384691           None           None          None       None        50.47        None     53.6000  0.283793           None           None          None       None        None           None          None            None            None      elaspic run         --pdb_dir='/home/kimla...\n",
       "3     P60709             P60709            E364K                     234             32639633             32639633   None               None  training/P60/70/P60709/Actin.3-375/Actin.3-375...               100                       None              None   2oanA00   2oanB00        97.27        None     97.6000  0.950687           None           None          None       None        97.30        None     98.9333  0.963957           None           None          None       None        None           None          None            None            None      elaspic run         --pdb_dir='/home/kimla...\n",
       "4     P60709             Q1KLZ0            R183W                     235             32639633             32639638   None               None  training/P60/70/P60709/Actin.3-375/Actin.3-375...                60                       None              None   3dxkA00   3dxkB00        36.34        None     97.3333  0.384691           None           None          None       None        50.47        None     53.6000  0.283793           None           None          None       None        None           None          None            None            None      elaspic run         --pdb_dir='/home/kimla..."
      ]
     },
     "metadata": {},
     "output_type": "display_data"
    },
    {
     "name": "stdout",
     "output_type": "stream",
     "text": [
      "3832\n"
     ]
    }
   ],
   "source": [
    "display(mutations_wtemplates.head())\n",
    "print(mutations_wtemplates.shape[0])"
   ]
  },
  {
   "cell_type": "code",
   "execution_count": 563,
   "metadata": {
    "collapsed": false,
    "run_control": {
     "marked": false
    }
   },
   "outputs": [
    {
     "name": "stdout",
     "output_type": "stream",
     "text": [
      "elaspic run --pdb_dir=/home/kimlab1/database_data/pdb/data/data/structures/divided/pdb/ --blast_db_dir=/home/kimlab1/database_data/blast/db --archive_dir=/home/kimlab1/database_data/biodb/recipes/elaspic_training_set/notebooks/elaspic_training_interface/elaspic --connection_string=mysql://root@192.168.6.210:8309/elaspic_training_interface -vvv -u P60709 -i 233 -m R183W\r\n"
     ]
    }
   ],
   "source": [
    "!echo {mutations_wtemplates.loc[0, 'system_command']}"
   ]
  },
  {
   "cell_type": "raw",
   "metadata": {
    "collapsed": false,
    "run_control": {
     "marked": false
    },
    "scrolled": false
   },
   "source": [
    "!{mutations_wtemplates.loc[0, 'system_command']}"
   ]
  },
  {
   "cell_type": "raw",
   "metadata": {
    "collapsed": false,
    "run_control": {
     "marked": false
    }
   },
   "source": [
    "PATH = (\n",
    "    '/home/kimlab1/strokach/anaconda/bin:/usr/local/bin:/bin:/usr/bin:/usr/local/sbin:/usr/sbin:/sbin'\n",
    ")\n",
    "\n",
    "js = jobsubmitter.JobSubmitter(\n",
    "    JOB_NAME, 'sge://:@192.168.6.201', op.abspath(NOTEBOOK_NAME),\n",
    "    email='ostrokach@gmail.com', force_new_folder=False,\n",
    "    nproc=1, queue='medium', walltime='8:00:00', mem='6G',\n",
    "    env={'PATH': PATH}\n",
    ")"
   ]
  },
  {
   "cell_type": "code",
   "execution_count": 564,
   "metadata": {
    "collapsed": false
   },
   "outputs": [],
   "source": [
    "PATH = (\n",
    "    '/home/kimlab1/strokach/anaconda/bin:/usr/local/bin:/bin:/usr/bin:/usr/local/sbin:/usr/sbin:/sbin'\n",
    ")\n",
    "\n",
    "js = jobsubmitter.JobSubmitter(\n",
    "    JOB_NAME, 'pbs://:@192.168.233.150', op.abspath(NOTEBOOK_NAME),\n",
    "    email='ostrokach@gmail.com', force_new_folder=False,\n",
    "    nproc=1, queue='medium', walltime='8:00:00', mem='6G',\n",
    "    env={'PATH': PATH},\n",
    "    concurrent_job_limit=800,\n",
    ")"
   ]
  },
  {
   "cell_type": "code",
   "execution_count": 565,
   "metadata": {
    "collapsed": false,
    "run_control": {
     "marked": false
    }
   },
   "outputs": [
    {
     "data": {
      "text/plain": [
       "'database_mutations_11'"
      ]
     },
     "execution_count": 565,
     "metadata": {},
     "output_type": "execute_result"
    }
   ],
   "source": [
    "js.job_name"
   ]
  },
  {
   "cell_type": "code",
   "execution_count": 566,
   "metadata": {
    "collapsed": false,
    "run_control": {
     "marked": false
    }
   },
   "outputs": [],
   "source": [
    "logging.getLogger('jobsubmitter').setLevel(logging.INFO)"
   ]
  },
  {
   "cell_type": "code",
   "execution_count": 567,
   "metadata": {
    "collapsed": false,
    "run_control": {
     "marked": false
    }
   },
   "outputs": [
    {
     "name": "stderr",
     "output_type": "stream",
     "text": [
      "2016-08-11 14:42:38,066 - jobsubmitter.jobsubmitter - INFO - 'concurrent_job_limit' reached! Sleeping for 2 minutes...\n",
      "2016-08-11 14:47:50,362 - jobsubmitter.jobsubmitter - INFO - 'concurrent_job_limit' reached! Sleeping for 2 minutes...\n"
     ]
    }
   ],
   "source": [
    "with js.connect():\n",
    "    js.submit(\n",
    "        mutations_wtemplates.reset_index()[['index', 'system_command']].values.tolist())"
   ]
  },
  {
   "cell_type": "code",
   "execution_count": 427,
   "metadata": {
    "collapsed": false,
    "run_control": {
     "marked": false
    }
   },
   "outputs": [
    {
     "name": "stdout",
     "output_type": "stream",
     "text": [
      "6\n"
     ]
    }
   ],
   "source": [
    "with js.connect():\n",
    "    print(js.get_num_running_jobs())"
   ]
  },
  {
   "cell_type": "code",
   "execution_count": 568,
   "metadata": {
    "collapsed": false,
    "run_control": {
     "marked": false
    }
   },
   "outputs": [
    {
     "name": "stdout",
     "output_type": "stream",
     "text": [
      "Counter({'misformed output': 3832})\n"
     ]
    }
   ],
   "source": [
    "# Get job status\n",
    "results_df = (\n",
    "    js.job_status(mutations_wtemplates.reset_index()[['index', 'system_command']].values.tolist()))\n",
    "print(Counter(results_df['status']))"
   ]
  },
  {
   "cell_type": "code",
   "execution_count": 569,
   "metadata": {
    "collapsed": false
   },
   "outputs": [
    {
     "data": {
      "text/html": [
       "<div>\n",
       "<table border=\"1\" class=\"dataframe\">\n",
       "  <thead>\n",
       "    <tr style=\"text-align: right;\">\n",
       "      <th></th>\n",
       "      <th>uniprot_id</th>\n",
       "      <th>partner_uniprot_id</th>\n",
       "      <th>uniprot_mutation</th>\n",
       "      <th>uniprot_domain_pair_id</th>\n",
       "      <th>uniprot_domain_id_1</th>\n",
       "      <th>uniprot_domain_id_2</th>\n",
       "      <th>rigids</th>\n",
       "      <th>domain_contact_ids</th>\n",
       "      <th>path_to_data</th>\n",
       "      <th>max_seq_identity</th>\n",
       "      <th>uniprot_domain_pair_id_old</th>\n",
       "      <th>domain_contact_id</th>\n",
       "      <th>cath_id_1</th>\n",
       "      <th>cath_id_2</th>\n",
       "      <th>identical_1</th>\n",
       "      <th>conserved_1</th>\n",
       "      <th>coverage_1</th>\n",
       "      <th>score_1</th>\n",
       "      <th>identical_if_1</th>\n",
       "      <th>conserved_if_1</th>\n",
       "      <th>coverage_if_1</th>\n",
       "      <th>score_if_1</th>\n",
       "      <th>identical_2</th>\n",
       "      <th>conserved_2</th>\n",
       "      <th>coverage_2</th>\n",
       "      <th>score_2</th>\n",
       "      <th>identical_if_2</th>\n",
       "      <th>conserved_if_2</th>\n",
       "      <th>coverage_if_2</th>\n",
       "      <th>score_if_2</th>\n",
       "      <th>score_total</th>\n",
       "      <th>score_if_total</th>\n",
       "      <th>score_overall</th>\n",
       "      <th>t_date_modified</th>\n",
       "      <th>template_errors</th>\n",
       "      <th>system_command</th>\n",
       "    </tr>\n",
       "  </thead>\n",
       "  <tbody>\n",
       "    <tr>\n",
       "      <th>0</th>\n",
       "      <td>P60709</td>\n",
       "      <td>P60709</td>\n",
       "      <td>R183W</td>\n",
       "      <td>233</td>\n",
       "      <td>32639633</td>\n",
       "      <td>32639633</td>\n",
       "      <td>None</td>\n",
       "      <td>None</td>\n",
       "      <td>training/P60/70/P60709/Actin.3-375/Actin.3-375...</td>\n",
       "      <td>60</td>\n",
       "      <td>None</td>\n",
       "      <td>None</td>\n",
       "      <td>3dxkA00</td>\n",
       "      <td>3dxkB00</td>\n",
       "      <td>36.34</td>\n",
       "      <td>None</td>\n",
       "      <td>97.3333</td>\n",
       "      <td>0.384691</td>\n",
       "      <td>None</td>\n",
       "      <td>None</td>\n",
       "      <td>None</td>\n",
       "      <td>None</td>\n",
       "      <td>50.47</td>\n",
       "      <td>None</td>\n",
       "      <td>53.6000</td>\n",
       "      <td>0.283793</td>\n",
       "      <td>None</td>\n",
       "      <td>None</td>\n",
       "      <td>None</td>\n",
       "      <td>None</td>\n",
       "      <td>None</td>\n",
       "      <td>None</td>\n",
       "      <td>None</td>\n",
       "      <td>None</td>\n",
       "      <td>None</td>\n",
       "      <td>elaspic run         --pdb_dir='/home/kimla...</td>\n",
       "    </tr>\n",
       "    <tr>\n",
       "      <th>1</th>\n",
       "      <td>P60709</td>\n",
       "      <td>P60709</td>\n",
       "      <td>R183W</td>\n",
       "      <td>234</td>\n",
       "      <td>32639633</td>\n",
       "      <td>32639633</td>\n",
       "      <td>None</td>\n",
       "      <td>None</td>\n",
       "      <td>training/P60/70/P60709/Actin.3-375/Actin.3-375...</td>\n",
       "      <td>100</td>\n",
       "      <td>None</td>\n",
       "      <td>None</td>\n",
       "      <td>2oanA00</td>\n",
       "      <td>2oanB00</td>\n",
       "      <td>97.27</td>\n",
       "      <td>None</td>\n",
       "      <td>97.6000</td>\n",
       "      <td>0.950687</td>\n",
       "      <td>None</td>\n",
       "      <td>None</td>\n",
       "      <td>None</td>\n",
       "      <td>None</td>\n",
       "      <td>97.30</td>\n",
       "      <td>None</td>\n",
       "      <td>98.9333</td>\n",
       "      <td>0.963957</td>\n",
       "      <td>None</td>\n",
       "      <td>None</td>\n",
       "      <td>None</td>\n",
       "      <td>None</td>\n",
       "      <td>None</td>\n",
       "      <td>None</td>\n",
       "      <td>None</td>\n",
       "      <td>None</td>\n",
       "      <td>None</td>\n",
       "      <td>elaspic run         --pdb_dir='/home/kimla...</td>\n",
       "    </tr>\n",
       "    <tr>\n",
       "      <th>2</th>\n",
       "      <td>P60709</td>\n",
       "      <td>P60709</td>\n",
       "      <td>E364K</td>\n",
       "      <td>233</td>\n",
       "      <td>32639633</td>\n",
       "      <td>32639633</td>\n",
       "      <td>None</td>\n",
       "      <td>None</td>\n",
       "      <td>training/P60/70/P60709/Actin.3-375/Actin.3-375...</td>\n",
       "      <td>60</td>\n",
       "      <td>None</td>\n",
       "      <td>None</td>\n",
       "      <td>3dxkA00</td>\n",
       "      <td>3dxkB00</td>\n",
       "      <td>36.34</td>\n",
       "      <td>None</td>\n",
       "      <td>97.3333</td>\n",
       "      <td>0.384691</td>\n",
       "      <td>None</td>\n",
       "      <td>None</td>\n",
       "      <td>None</td>\n",
       "      <td>None</td>\n",
       "      <td>50.47</td>\n",
       "      <td>None</td>\n",
       "      <td>53.6000</td>\n",
       "      <td>0.283793</td>\n",
       "      <td>None</td>\n",
       "      <td>None</td>\n",
       "      <td>None</td>\n",
       "      <td>None</td>\n",
       "      <td>None</td>\n",
       "      <td>None</td>\n",
       "      <td>None</td>\n",
       "      <td>None</td>\n",
       "      <td>None</td>\n",
       "      <td>elaspic run         --pdb_dir='/home/kimla...</td>\n",
       "    </tr>\n",
       "    <tr>\n",
       "      <th>3</th>\n",
       "      <td>P60709</td>\n",
       "      <td>P60709</td>\n",
       "      <td>E364K</td>\n",
       "      <td>234</td>\n",
       "      <td>32639633</td>\n",
       "      <td>32639633</td>\n",
       "      <td>None</td>\n",
       "      <td>None</td>\n",
       "      <td>training/P60/70/P60709/Actin.3-375/Actin.3-375...</td>\n",
       "      <td>100</td>\n",
       "      <td>None</td>\n",
       "      <td>None</td>\n",
       "      <td>2oanA00</td>\n",
       "      <td>2oanB00</td>\n",
       "      <td>97.27</td>\n",
       "      <td>None</td>\n",
       "      <td>97.6000</td>\n",
       "      <td>0.950687</td>\n",
       "      <td>None</td>\n",
       "      <td>None</td>\n",
       "      <td>None</td>\n",
       "      <td>None</td>\n",
       "      <td>97.30</td>\n",
       "      <td>None</td>\n",
       "      <td>98.9333</td>\n",
       "      <td>0.963957</td>\n",
       "      <td>None</td>\n",
       "      <td>None</td>\n",
       "      <td>None</td>\n",
       "      <td>None</td>\n",
       "      <td>None</td>\n",
       "      <td>None</td>\n",
       "      <td>None</td>\n",
       "      <td>None</td>\n",
       "      <td>None</td>\n",
       "      <td>elaspic run         --pdb_dir='/home/kimla...</td>\n",
       "    </tr>\n",
       "    <tr>\n",
       "      <th>4</th>\n",
       "      <td>P60709</td>\n",
       "      <td>Q1KLZ0</td>\n",
       "      <td>R183W</td>\n",
       "      <td>235</td>\n",
       "      <td>32639633</td>\n",
       "      <td>32639638</td>\n",
       "      <td>None</td>\n",
       "      <td>None</td>\n",
       "      <td>training/P60/70/P60709/Actin.3-375/Actin.3-375...</td>\n",
       "      <td>60</td>\n",
       "      <td>None</td>\n",
       "      <td>None</td>\n",
       "      <td>3dxkA00</td>\n",
       "      <td>3dxkB00</td>\n",
       "      <td>36.34</td>\n",
       "      <td>None</td>\n",
       "      <td>97.3333</td>\n",
       "      <td>0.384691</td>\n",
       "      <td>None</td>\n",
       "      <td>None</td>\n",
       "      <td>None</td>\n",
       "      <td>None</td>\n",
       "      <td>50.47</td>\n",
       "      <td>None</td>\n",
       "      <td>53.6000</td>\n",
       "      <td>0.283793</td>\n",
       "      <td>None</td>\n",
       "      <td>None</td>\n",
       "      <td>None</td>\n",
       "      <td>None</td>\n",
       "      <td>None</td>\n",
       "      <td>None</td>\n",
       "      <td>None</td>\n",
       "      <td>None</td>\n",
       "      <td>None</td>\n",
       "      <td>elaspic run         --pdb_dir='/home/kimla...</td>\n",
       "    </tr>\n",
       "  </tbody>\n",
       "</table>\n",
       "</div>"
      ],
      "text/plain": [
       "  uniprot_id partner_uniprot_id uniprot_mutation  uniprot_domain_pair_id  uniprot_domain_id_1  uniprot_domain_id_2 rigids domain_contact_ids                                       path_to_data  max_seq_identity uniprot_domain_pair_id_old domain_contact_id cath_id_1 cath_id_2  identical_1 conserved_1  coverage_1   score_1 identical_if_1 conserved_if_1 coverage_if_1 score_if_1  identical_2 conserved_2  coverage_2   score_2 identical_if_2 conserved_if_2 coverage_if_2 score_if_2 score_total score_if_total score_overall t_date_modified template_errors                                     system_command\n",
       "0     P60709             P60709            R183W                     233             32639633             32639633   None               None  training/P60/70/P60709/Actin.3-375/Actin.3-375...                60                       None              None   3dxkA00   3dxkB00        36.34        None     97.3333  0.384691           None           None          None       None        50.47        None     53.6000  0.283793           None           None          None       None        None           None          None            None            None      elaspic run         --pdb_dir='/home/kimla...\n",
       "1     P60709             P60709            R183W                     234             32639633             32639633   None               None  training/P60/70/P60709/Actin.3-375/Actin.3-375...               100                       None              None   2oanA00   2oanB00        97.27        None     97.6000  0.950687           None           None          None       None        97.30        None     98.9333  0.963957           None           None          None       None        None           None          None            None            None      elaspic run         --pdb_dir='/home/kimla...\n",
       "2     P60709             P60709            E364K                     233             32639633             32639633   None               None  training/P60/70/P60709/Actin.3-375/Actin.3-375...                60                       None              None   3dxkA00   3dxkB00        36.34        None     97.3333  0.384691           None           None          None       None        50.47        None     53.6000  0.283793           None           None          None       None        None           None          None            None            None      elaspic run         --pdb_dir='/home/kimla...\n",
       "3     P60709             P60709            E364K                     234             32639633             32639633   None               None  training/P60/70/P60709/Actin.3-375/Actin.3-375...               100                       None              None   2oanA00   2oanB00        97.27        None     97.6000  0.950687           None           None          None       None        97.30        None     98.9333  0.963957           None           None          None       None        None           None          None            None            None      elaspic run         --pdb_dir='/home/kimla...\n",
       "4     P60709             Q1KLZ0            R183W                     235             32639633             32639638   None               None  training/P60/70/P60709/Actin.3-375/Actin.3-375...                60                       None              None   3dxkA00   3dxkB00        36.34        None     97.3333  0.384691           None           None          None       None        50.47        None     53.6000  0.283793           None           None          None       None        None           None          None            None            None      elaspic run         --pdb_dir='/home/kimla..."
      ]
     },
     "execution_count": 569,
     "metadata": {},
     "output_type": "execute_result"
    }
   ],
   "source": [
    "mutations_wtemplates.head()"
   ]
  },
  {
   "cell_type": "code",
   "execution_count": 588,
   "metadata": {
    "collapsed": false
   },
   "outputs": [
    {
     "name": "stdout",
     "output_type": "stream",
     "text": [
      "Rows:                                                       3832\n",
      "Interface mutations:                                        3832\n",
      "Mutations:                                                  1490\n"
     ]
    }
   ],
   "source": [
    "print2(\"Rows:\", mutations_wtemplates.shape[0])\n",
    "print2(\"Interface mutations:\", mutations_wtemplates.drop_duplicates(\n",
    "    ['uniprot_domain_pair_id', 'uniprot_id', 'partner_uniprot_id', 'uniprot_mutation']).shape[0])\n",
    "print2(\"Mutations:\", mutations_wtemplates.drop_duplicates(\n",
    "    ['uniprot_id', 'partner_uniprot_id', 'uniprot_mutation']).shape[0])\n"
   ]
  },
  {
   "cell_type": "code",
   "execution_count": 589,
   "metadata": {
    "collapsed": false
   },
   "outputs": [],
   "source": [
    "sql_query = \"\"\"\\\n",
    "SELECT * \\\n",
    "FROM elaspic_training_interface.uniprot_domain_pair_mutation \\\n",
    "\"\"\"\n",
    "mutations_wtemplates_calculated = pd.read_sql_query(sql_query, db.engine)"
   ]
  },
  {
   "cell_type": "code",
   "execution_count": 590,
   "metadata": {
    "collapsed": false
   },
   "outputs": [
    {
     "name": "stdout",
     "output_type": "stream",
     "text": [
      "Rows:                                                       1893\n",
      "Rows with ddg:                                              1893\n"
     ]
    }
   ],
   "source": [
    "print2(\"Rows:\", mutations_wtemplates_calculated.shape[0])\n",
    "print2(\"Rows with ddg:\", mutations_wtemplates_calculated.dropna(subset=['ddg']).shape[0])"
   ]
  },
  {
   "cell_type": "code",
   "execution_count": 597,
   "metadata": {
    "collapsed": false
   },
   "outputs": [],
   "source": [
    "mutations_wtemplates_wresults = (\n",
    "    mutations_wtemplates\n",
    "    .merge(mutations_wtemplates_calculated.rename(columns={'mutation': 'uniprot_mutation'})\n",
    "           [['uniprot_domain_pair_id', 'uniprot_id', 'uniprot_mutation', 'ddg']], \n",
    "           on=['uniprot_domain_pair_id', 'uniprot_id', 'uniprot_mutation'],\n",
    "           how='left',)\n",
    ")"
   ]
  },
  {
   "cell_type": "code",
   "execution_count": 598,
   "metadata": {
    "collapsed": false
   },
   "outputs": [
    {
     "data": {
      "text/html": [
       "<div>\n",
       "<table border=\"1\" class=\"dataframe\">\n",
       "  <thead>\n",
       "    <tr style=\"text-align: right;\">\n",
       "      <th></th>\n",
       "      <th>uniprot_id</th>\n",
       "      <th>partner_uniprot_id</th>\n",
       "      <th>uniprot_mutation</th>\n",
       "      <th>uniprot_domain_pair_id</th>\n",
       "      <th>uniprot_domain_id_1</th>\n",
       "      <th>uniprot_domain_id_2</th>\n",
       "      <th>rigids</th>\n",
       "      <th>domain_contact_ids</th>\n",
       "      <th>path_to_data</th>\n",
       "      <th>max_seq_identity</th>\n",
       "      <th>uniprot_domain_pair_id_old</th>\n",
       "      <th>domain_contact_id</th>\n",
       "      <th>cath_id_1</th>\n",
       "      <th>cath_id_2</th>\n",
       "      <th>identical_1</th>\n",
       "      <th>conserved_1</th>\n",
       "      <th>coverage_1</th>\n",
       "      <th>score_1</th>\n",
       "      <th>identical_if_1</th>\n",
       "      <th>conserved_if_1</th>\n",
       "      <th>coverage_if_1</th>\n",
       "      <th>score_if_1</th>\n",
       "      <th>identical_2</th>\n",
       "      <th>conserved_2</th>\n",
       "      <th>coverage_2</th>\n",
       "      <th>score_2</th>\n",
       "      <th>identical_if_2</th>\n",
       "      <th>conserved_if_2</th>\n",
       "      <th>coverage_if_2</th>\n",
       "      <th>score_if_2</th>\n",
       "      <th>score_total</th>\n",
       "      <th>score_if_total</th>\n",
       "      <th>score_overall</th>\n",
       "      <th>t_date_modified</th>\n",
       "      <th>template_errors</th>\n",
       "      <th>system_command</th>\n",
       "      <th>ddg</th>\n",
       "    </tr>\n",
       "  </thead>\n",
       "  <tbody>\n",
       "    <tr>\n",
       "      <th>0</th>\n",
       "      <td>P60709</td>\n",
       "      <td>P60709</td>\n",
       "      <td>R183W</td>\n",
       "      <td>233</td>\n",
       "      <td>32639633</td>\n",
       "      <td>32639633</td>\n",
       "      <td>None</td>\n",
       "      <td>None</td>\n",
       "      <td>training/P60/70/P60709/Actin.3-375/Actin.3-375...</td>\n",
       "      <td>60</td>\n",
       "      <td>None</td>\n",
       "      <td>None</td>\n",
       "      <td>3dxkA00</td>\n",
       "      <td>3dxkB00</td>\n",
       "      <td>36.34</td>\n",
       "      <td>None</td>\n",
       "      <td>97.3333</td>\n",
       "      <td>0.384691</td>\n",
       "      <td>None</td>\n",
       "      <td>None</td>\n",
       "      <td>None</td>\n",
       "      <td>None</td>\n",
       "      <td>50.47</td>\n",
       "      <td>None</td>\n",
       "      <td>53.6000</td>\n",
       "      <td>0.283793</td>\n",
       "      <td>None</td>\n",
       "      <td>None</td>\n",
       "      <td>None</td>\n",
       "      <td>None</td>\n",
       "      <td>None</td>\n",
       "      <td>None</td>\n",
       "      <td>None</td>\n",
       "      <td>None</td>\n",
       "      <td>None</td>\n",
       "      <td>elaspic run         --pdb_dir='/home/kimla...</td>\n",
       "      <td>NaN</td>\n",
       "    </tr>\n",
       "    <tr>\n",
       "      <th>1</th>\n",
       "      <td>P60709</td>\n",
       "      <td>P60709</td>\n",
       "      <td>R183W</td>\n",
       "      <td>234</td>\n",
       "      <td>32639633</td>\n",
       "      <td>32639633</td>\n",
       "      <td>None</td>\n",
       "      <td>None</td>\n",
       "      <td>training/P60/70/P60709/Actin.3-375/Actin.3-375...</td>\n",
       "      <td>100</td>\n",
       "      <td>None</td>\n",
       "      <td>None</td>\n",
       "      <td>2oanA00</td>\n",
       "      <td>2oanB00</td>\n",
       "      <td>97.27</td>\n",
       "      <td>None</td>\n",
       "      <td>97.6000</td>\n",
       "      <td>0.950687</td>\n",
       "      <td>None</td>\n",
       "      <td>None</td>\n",
       "      <td>None</td>\n",
       "      <td>None</td>\n",
       "      <td>97.30</td>\n",
       "      <td>None</td>\n",
       "      <td>98.9333</td>\n",
       "      <td>0.963957</td>\n",
       "      <td>None</td>\n",
       "      <td>None</td>\n",
       "      <td>None</td>\n",
       "      <td>None</td>\n",
       "      <td>None</td>\n",
       "      <td>None</td>\n",
       "      <td>None</td>\n",
       "      <td>None</td>\n",
       "      <td>None</td>\n",
       "      <td>elaspic run         --pdb_dir='/home/kimla...</td>\n",
       "      <td>NaN</td>\n",
       "    </tr>\n",
       "  </tbody>\n",
       "</table>\n",
       "</div>"
      ],
      "text/plain": [
       "  uniprot_id partner_uniprot_id uniprot_mutation  uniprot_domain_pair_id  uniprot_domain_id_1  uniprot_domain_id_2 rigids domain_contact_ids                                       path_to_data  max_seq_identity uniprot_domain_pair_id_old domain_contact_id cath_id_1 cath_id_2  identical_1 conserved_1  coverage_1   score_1 identical_if_1 conserved_if_1 coverage_if_1 score_if_1  identical_2 conserved_2  coverage_2   score_2 identical_if_2 conserved_if_2 coverage_if_2 score_if_2 score_total score_if_total score_overall t_date_modified template_errors                                     system_command  ddg\n",
       "0     P60709             P60709            R183W                     233             32639633             32639633   None               None  training/P60/70/P60709/Actin.3-375/Actin.3-375...                60                       None              None   3dxkA00   3dxkB00        36.34        None     97.3333  0.384691           None           None          None       None        50.47        None     53.6000  0.283793           None           None          None       None        None           None          None            None            None      elaspic run         --pdb_dir='/home/kimla...  NaN\n",
       "1     P60709             P60709            R183W                     234             32639633             32639633   None               None  training/P60/70/P60709/Actin.3-375/Actin.3-375...               100                       None              None   2oanA00   2oanB00        97.27        None     97.6000  0.950687           None           None          None       None        97.30        None     98.9333  0.963957           None           None          None       None        None           None          None            None            None      elaspic run         --pdb_dir='/home/kimla...  NaN"
      ]
     },
     "execution_count": 598,
     "metadata": {},
     "output_type": "execute_result"
    }
   ],
   "source": [
    "mutations_wtemplates_wresults.head(2)"
   ]
  },
  {
   "cell_type": "code",
   "execution_count": 604,
   "metadata": {
    "collapsed": false
   },
   "outputs": [
    {
     "name": "stdout",
     "output_type": "stream",
     "text": [
      "Rows:                                                       3832\n",
      "Interface mutations:                                        3832\n",
      "Mutations:                                                  1490\n",
      "--------------------------------------------------------------------------------\n",
      "Calculated interface mutations:                             1893\n",
      "Calculated mutations:                                       903\n"
     ]
    }
   ],
   "source": [
    "print2(\"Rows:\", mutations_wtemplates_wresults.shape[0])\n",
    "print2(\"Interface mutations:\", mutations_wtemplates_wresults.drop_duplicates(\n",
    "    ['uniprot_domain_pair_id', 'uniprot_id', 'partner_uniprot_id', 'uniprot_mutation']).shape[0])\n",
    "print2(\"Mutations:\", mutations_wtemplates_wresults.drop_duplicates(\n",
    "    ['uniprot_id', 'partner_uniprot_id', 'uniprot_mutation']).shape[0])\n",
    "\n",
    "print('-' * 80)\n",
    "print2(\"Calculated interface mutations:\", \n",
    "       mutations_wtemplates_wresults\n",
    "       .drop_duplicates(\n",
    "            ['uniprot_domain_pair_id', 'uniprot_id', 'partner_uniprot_id', 'uniprot_mutation'])\n",
    "       .dropna(subset=['ddg'])\n",
    "       .shape[0])\n",
    "print2(\"Calculated mutations:\", \n",
    "       mutations_wtemplates_wresults\n",
    "       .drop_duplicates(\n",
    "            ['uniprot_id', 'partner_uniprot_id', 'uniprot_mutation'])\n",
    "       .dropna(subset=['ddg'])\n",
    "       .shape[0])"
   ]
  },
  {
   "cell_type": "code",
   "execution_count": 605,
   "metadata": {
    "collapsed": false
   },
   "outputs": [
    {
     "data": {
      "text/html": [
       "<div>\n",
       "<table border=\"1\" class=\"dataframe\">\n",
       "  <thead>\n",
       "    <tr style=\"text-align: right;\">\n",
       "      <th></th>\n",
       "      <th>uniprot_id</th>\n",
       "      <th>partner_uniprot_id</th>\n",
       "      <th>uniprot_mutation</th>\n",
       "      <th>uniprot_domain_pair_id</th>\n",
       "      <th>uniprot_domain_id_1</th>\n",
       "      <th>uniprot_domain_id_2</th>\n",
       "      <th>rigids</th>\n",
       "      <th>domain_contact_ids</th>\n",
       "      <th>path_to_data</th>\n",
       "      <th>max_seq_identity</th>\n",
       "      <th>uniprot_domain_pair_id_old</th>\n",
       "      <th>domain_contact_id</th>\n",
       "      <th>cath_id_1</th>\n",
       "      <th>cath_id_2</th>\n",
       "      <th>identical_1</th>\n",
       "      <th>conserved_1</th>\n",
       "      <th>coverage_1</th>\n",
       "      <th>score_1</th>\n",
       "      <th>identical_if_1</th>\n",
       "      <th>conserved_if_1</th>\n",
       "      <th>coverage_if_1</th>\n",
       "      <th>score_if_1</th>\n",
       "      <th>identical_2</th>\n",
       "      <th>conserved_2</th>\n",
       "      <th>coverage_2</th>\n",
       "      <th>score_2</th>\n",
       "      <th>identical_if_2</th>\n",
       "      <th>conserved_if_2</th>\n",
       "      <th>coverage_if_2</th>\n",
       "      <th>score_if_2</th>\n",
       "      <th>score_total</th>\n",
       "      <th>score_if_total</th>\n",
       "      <th>score_overall</th>\n",
       "      <th>t_date_modified</th>\n",
       "      <th>template_errors</th>\n",
       "      <th>system_command</th>\n",
       "      <th>ddg</th>\n",
       "    </tr>\n",
       "  </thead>\n",
       "  <tbody>\n",
       "    <tr>\n",
       "      <th>0</th>\n",
       "      <td>P60709</td>\n",
       "      <td>P60709</td>\n",
       "      <td>R183W</td>\n",
       "      <td>233</td>\n",
       "      <td>32639633</td>\n",
       "      <td>32639633</td>\n",
       "      <td>None</td>\n",
       "      <td>None</td>\n",
       "      <td>training/P60/70/P60709/Actin.3-375/Actin.3-375...</td>\n",
       "      <td>60</td>\n",
       "      <td>None</td>\n",
       "      <td>None</td>\n",
       "      <td>3dxkA00</td>\n",
       "      <td>3dxkB00</td>\n",
       "      <td>36.34</td>\n",
       "      <td>None</td>\n",
       "      <td>97.3333</td>\n",
       "      <td>0.384691</td>\n",
       "      <td>None</td>\n",
       "      <td>None</td>\n",
       "      <td>None</td>\n",
       "      <td>None</td>\n",
       "      <td>50.47</td>\n",
       "      <td>None</td>\n",
       "      <td>53.6000</td>\n",
       "      <td>0.283793</td>\n",
       "      <td>None</td>\n",
       "      <td>None</td>\n",
       "      <td>None</td>\n",
       "      <td>None</td>\n",
       "      <td>None</td>\n",
       "      <td>None</td>\n",
       "      <td>None</td>\n",
       "      <td>None</td>\n",
       "      <td>None</td>\n",
       "      <td>elaspic run         --pdb_dir='/home/kimla...</td>\n",
       "      <td>NaN</td>\n",
       "    </tr>\n",
       "    <tr>\n",
       "      <th>1</th>\n",
       "      <td>P60709</td>\n",
       "      <td>P60709</td>\n",
       "      <td>R183W</td>\n",
       "      <td>234</td>\n",
       "      <td>32639633</td>\n",
       "      <td>32639633</td>\n",
       "      <td>None</td>\n",
       "      <td>None</td>\n",
       "      <td>training/P60/70/P60709/Actin.3-375/Actin.3-375...</td>\n",
       "      <td>100</td>\n",
       "      <td>None</td>\n",
       "      <td>None</td>\n",
       "      <td>2oanA00</td>\n",
       "      <td>2oanB00</td>\n",
       "      <td>97.27</td>\n",
       "      <td>None</td>\n",
       "      <td>97.6000</td>\n",
       "      <td>0.950687</td>\n",
       "      <td>None</td>\n",
       "      <td>None</td>\n",
       "      <td>None</td>\n",
       "      <td>None</td>\n",
       "      <td>97.30</td>\n",
       "      <td>None</td>\n",
       "      <td>98.9333</td>\n",
       "      <td>0.963957</td>\n",
       "      <td>None</td>\n",
       "      <td>None</td>\n",
       "      <td>None</td>\n",
       "      <td>None</td>\n",
       "      <td>None</td>\n",
       "      <td>None</td>\n",
       "      <td>None</td>\n",
       "      <td>None</td>\n",
       "      <td>None</td>\n",
       "      <td>elaspic run         --pdb_dir='/home/kimla...</td>\n",
       "      <td>NaN</td>\n",
       "    </tr>\n",
       "    <tr>\n",
       "      <th>2</th>\n",
       "      <td>P60709</td>\n",
       "      <td>P60709</td>\n",
       "      <td>E364K</td>\n",
       "      <td>233</td>\n",
       "      <td>32639633</td>\n",
       "      <td>32639633</td>\n",
       "      <td>None</td>\n",
       "      <td>None</td>\n",
       "      <td>training/P60/70/P60709/Actin.3-375/Actin.3-375...</td>\n",
       "      <td>60</td>\n",
       "      <td>None</td>\n",
       "      <td>None</td>\n",
       "      <td>3dxkA00</td>\n",
       "      <td>3dxkB00</td>\n",
       "      <td>36.34</td>\n",
       "      <td>None</td>\n",
       "      <td>97.3333</td>\n",
       "      <td>0.384691</td>\n",
       "      <td>None</td>\n",
       "      <td>None</td>\n",
       "      <td>None</td>\n",
       "      <td>None</td>\n",
       "      <td>50.47</td>\n",
       "      <td>None</td>\n",
       "      <td>53.6000</td>\n",
       "      <td>0.283793</td>\n",
       "      <td>None</td>\n",
       "      <td>None</td>\n",
       "      <td>None</td>\n",
       "      <td>None</td>\n",
       "      <td>None</td>\n",
       "      <td>None</td>\n",
       "      <td>None</td>\n",
       "      <td>None</td>\n",
       "      <td>None</td>\n",
       "      <td>elaspic run         --pdb_dir='/home/kimla...</td>\n",
       "      <td>NaN</td>\n",
       "    </tr>\n",
       "    <tr>\n",
       "      <th>3</th>\n",
       "      <td>P60709</td>\n",
       "      <td>P60709</td>\n",
       "      <td>E364K</td>\n",
       "      <td>234</td>\n",
       "      <td>32639633</td>\n",
       "      <td>32639633</td>\n",
       "      <td>None</td>\n",
       "      <td>None</td>\n",
       "      <td>training/P60/70/P60709/Actin.3-375/Actin.3-375...</td>\n",
       "      <td>100</td>\n",
       "      <td>None</td>\n",
       "      <td>None</td>\n",
       "      <td>2oanA00</td>\n",
       "      <td>2oanB00</td>\n",
       "      <td>97.27</td>\n",
       "      <td>None</td>\n",
       "      <td>97.6000</td>\n",
       "      <td>0.950687</td>\n",
       "      <td>None</td>\n",
       "      <td>None</td>\n",
       "      <td>None</td>\n",
       "      <td>None</td>\n",
       "      <td>97.30</td>\n",
       "      <td>None</td>\n",
       "      <td>98.9333</td>\n",
       "      <td>0.963957</td>\n",
       "      <td>None</td>\n",
       "      <td>None</td>\n",
       "      <td>None</td>\n",
       "      <td>None</td>\n",
       "      <td>None</td>\n",
       "      <td>None</td>\n",
       "      <td>None</td>\n",
       "      <td>None</td>\n",
       "      <td>None</td>\n",
       "      <td>elaspic run         --pdb_dir='/home/kimla...</td>\n",
       "      <td>NaN</td>\n",
       "    </tr>\n",
       "    <tr>\n",
       "      <th>4</th>\n",
       "      <td>P60709</td>\n",
       "      <td>Q1KLZ0</td>\n",
       "      <td>R183W</td>\n",
       "      <td>235</td>\n",
       "      <td>32639633</td>\n",
       "      <td>32639638</td>\n",
       "      <td>None</td>\n",
       "      <td>None</td>\n",
       "      <td>training/P60/70/P60709/Actin.3-375/Actin.3-375...</td>\n",
       "      <td>60</td>\n",
       "      <td>None</td>\n",
       "      <td>None</td>\n",
       "      <td>3dxkA00</td>\n",
       "      <td>3dxkB00</td>\n",
       "      <td>36.34</td>\n",
       "      <td>None</td>\n",
       "      <td>97.3333</td>\n",
       "      <td>0.384691</td>\n",
       "      <td>None</td>\n",
       "      <td>None</td>\n",
       "      <td>None</td>\n",
       "      <td>None</td>\n",
       "      <td>50.47</td>\n",
       "      <td>None</td>\n",
       "      <td>53.6000</td>\n",
       "      <td>0.283793</td>\n",
       "      <td>None</td>\n",
       "      <td>None</td>\n",
       "      <td>None</td>\n",
       "      <td>None</td>\n",
       "      <td>None</td>\n",
       "      <td>None</td>\n",
       "      <td>None</td>\n",
       "      <td>None</td>\n",
       "      <td>None</td>\n",
       "      <td>elaspic run         --pdb_dir='/home/kimla...</td>\n",
       "      <td>NaN</td>\n",
       "    </tr>\n",
       "  </tbody>\n",
       "</table>\n",
       "</div>"
      ],
      "text/plain": [
       "  uniprot_id partner_uniprot_id uniprot_mutation  uniprot_domain_pair_id  uniprot_domain_id_1  uniprot_domain_id_2 rigids domain_contact_ids                                       path_to_data  max_seq_identity uniprot_domain_pair_id_old domain_contact_id cath_id_1 cath_id_2  identical_1 conserved_1  coverage_1   score_1 identical_if_1 conserved_if_1 coverage_if_1 score_if_1  identical_2 conserved_2  coverage_2   score_2 identical_if_2 conserved_if_2 coverage_if_2 score_if_2 score_total score_if_total score_overall t_date_modified template_errors                                     system_command  ddg\n",
       "0     P60709             P60709            R183W                     233             32639633             32639633   None               None  training/P60/70/P60709/Actin.3-375/Actin.3-375...                60                       None              None   3dxkA00   3dxkB00        36.34        None     97.3333  0.384691           None           None          None       None        50.47        None     53.6000  0.283793           None           None          None       None        None           None          None            None            None      elaspic run         --pdb_dir='/home/kimla...  NaN\n",
       "1     P60709             P60709            R183W                     234             32639633             32639633   None               None  training/P60/70/P60709/Actin.3-375/Actin.3-375...               100                       None              None   2oanA00   2oanB00        97.27        None     97.6000  0.950687           None           None          None       None        97.30        None     98.9333  0.963957           None           None          None       None        None           None          None            None            None      elaspic run         --pdb_dir='/home/kimla...  NaN\n",
       "2     P60709             P60709            E364K                     233             32639633             32639633   None               None  training/P60/70/P60709/Actin.3-375/Actin.3-375...                60                       None              None   3dxkA00   3dxkB00        36.34        None     97.3333  0.384691           None           None          None       None        50.47        None     53.6000  0.283793           None           None          None       None        None           None          None            None            None      elaspic run         --pdb_dir='/home/kimla...  NaN\n",
       "3     P60709             P60709            E364K                     234             32639633             32639633   None               None  training/P60/70/P60709/Actin.3-375/Actin.3-375...               100                       None              None   2oanA00   2oanB00        97.27        None     97.6000  0.950687           None           None          None       None        97.30        None     98.9333  0.963957           None           None          None       None        None           None          None            None            None      elaspic run         --pdb_dir='/home/kimla...  NaN\n",
       "4     P60709             Q1KLZ0            R183W                     235             32639633             32639638   None               None  training/P60/70/P60709/Actin.3-375/Actin.3-375...                60                       None              None   3dxkA00   3dxkB00        36.34        None     97.3333  0.384691           None           None          None       None        50.47        None     53.6000  0.283793           None           None          None       None        None           None          None            None            None      elaspic run         --pdb_dir='/home/kimla...  NaN"
      ]
     },
     "execution_count": 605,
     "metadata": {},
     "output_type": "execute_result"
    }
   ],
   "source": [
    "mutations_wtemplates_wresults[mutations_wtemplates_wresults['ddg'].isnull()].head()"
   ]
  },
  {
   "cell_type": "code",
   "execution_count": 607,
   "metadata": {
    "collapsed": false
   },
   "outputs": [
    {
     "name": "stdout",
     "output_type": "stream",
     "text": [
      "    elaspic run         --pdb_dir='/home/kimlab1/database_data/pdb/data/data/structures/divided/pdb/'         --blast_db_dir='/home/kimlab1/database_data/blast/db'         --archive_dir='/home/kimlab1/database_data/biodb/recipes/elaspic_training_set/notebooks/elaspic_training_interface/elaspic'         --connection_string='mysql://root@192.168.6.210:8309/elaspic_training_interface'         -vvv         -u 'P60709'         -i 233         -m 'R183W'     \n"
     ]
    }
   ],
   "source": [
    "system_command = (\n",
    "    mutations_wtemplates_wresults[mutations_wtemplates_wresults['ddg'].isnull()].iloc[0]['system_command']\n",
    ")\n",
    "print(system_command)"
   ]
  },
  {
   "cell_type": "code",
   "execution_count": 615,
   "metadata": {
    "collapsed": false,
    "scrolled": false
   },
   "outputs": [
    {
     "name": "stdout",
     "output_type": "stream",
     "text": [
      "Creating 'model_dir' folder: /tmp/strokach/elaspic/o_hn8c32/model...\n",
      "Creating 'pdb_dir' folder: /home/kimlab1/database_data/pdb/data/data/structures/divided/pdb/...\n",
      "Creating 'blast_db_dir' folder: /home/kimlab1/database_data/blast/db...\n",
      "Creating 'provean_temp_dir' folder: /tmp/strokach/elaspic/o_hn8c32/sequence/provean_temp...\n",
      "Creating 'tcoffee_dir' folder: /tmp/strokach/elaspic/o_hn8c32/model/tcoffee...\n",
      "Creating 'sequence_dir' folder: /tmp/strokach/elaspic/o_hn8c32/sequence...\n",
      "Creating 'data_dir' folder: /home/kimlab1/strokach/working/elaspic/elaspic/data...\n",
      "Creating 'temp_dir' folder: /tmp/strokach/elaspic...\n",
      "Creating 'archive_temp_dir' folder: /tmp/strokach/elaspic/archive...\n",
      "Creating 'unique_temp_dir' folder: /tmp/strokach/elaspic/o_hn8c32...\n",
      "Creating 'archive_dir' folder: /home/kimlab1/database_data/biodb/recipes/elaspic_training_set/notebooks/elaspic_training_interface/elaspic...\n",
      "Creating 'modeller_dir' folder: /tmp/strokach/elaspic/o_hn8c32/model/modeller...\n",
      "uniprot_domain_pair_ids: 14\n",
      "\n",
      "\n",
      "8888888888 888             d8888  .d8888b.  8888888b. 8888888 .d8888b.\n",
      "888        888            d88888 d88P  Y88b 888   Y88b  888  d88P  Y88b\n",
      "888        888           d88P888 Y88b.      888    888  888  888    888\n",
      "8888888    888          d88P 888  \"Y888b.   888   d88P  888  888\n",
      "888        888         d88P  888     \"Y88b. 8888888P\"   888  888\n",
      "888        888        d88P   888       \"888 888         888  888    888\n",
      "888        888       d8888888888 Y88b  d88P 888         888  Y88b  d88P\n",
      "8888888888 88888888 d88P     888  \"Y8888P\"  888       8888888 \"Y8888P\"\n",
      "\n",
      "\n",
      "================================================================================\n",
      "## Input parameters\n",
      "uniprot_id: P00698\n",
      "mutations: I142A\n",
      "run_type: 5\n",
      "uniprot_domain_pair_ids: [14]\n",
      "unique_temp_dir: /tmp/strokach/elaspic/o_hn8c32\n",
      "db_schema: elaspic_training_interface\n",
      "temp_dir: /tmp/strokach/elaspic\n",
      "================================================================================\n",
      "\n",
      "Opened database connection using engine: 'Engine(mysql://root@192.168.6.210:8309/elaspic_training_interface)'\n",
      "Using precalculated data from the following folder: '/home/kimlab1/database_data/biodb/recipes/elaspic_training_set/notebooks/elaspic_training_interface/elaspic'\n",
      "Obtaining protein domain information...\n",
      "Found 1 domains.\n",
      "\n",
      "\n",
      "\n",
      "**************************************************************************************************************\n",
      "Computing provean...\n",
      "--------------------------------------------------------------------------------\n",
      "get_sequence(<elaspic.elaspic_database_tables.UniprotDomain object at 0x7f190c505e48>)\n",
      "Initialising a Sequence instance with parameters:\n",
      "sequence_file: /tmp/strokach/elaspic/o_hn8c32/sequence/P00698.fasta\n",
      "provean_supset_file: /tmp/strokach/elaspic/archive/training/P00/69/P00698/P00698_provean_supset_0\n",
      "Provean supset is already calculated!\n",
      "\n",
      "\n",
      "\n",
      "**************************************************************************************************************\n",
      "Obtaining protein domain pair information...\n",
      "Found 1 interfaces.\n",
      "\n",
      "\n",
      "\n",
      "**************************************************************************************************************\n",
      "Building models...\n",
      "--------------------------------------------------------------------------------\n",
      "get_model(<elaspic.elaspic_database_tables.UniprotDomain object at 0x7f190c505e48>)\n",
      "================================================================================\n",
      "uniprot_domain_id: 122238361\n",
      "Model already calculated.\n",
      "Extracting pdb_id: 4CJ2, chain_ids: ['B']...\n",
      "domain_def: [[['1', '129']]], domain_start_idxs: (0,), domain_end_idxs: (127,)\n",
      "Adding hetatm chain of length 118\n",
      "PDB 4CJ2 extracted successfully.\n",
      "Skipping chain_2 with idx 1 because it contains only hetatms.\n",
      "Skipping chain_1 with idx 1 because it contains only hetatms.\n",
      "Initialising a Model instance with parameters:\n",
      "sequence_file: /tmp/strokach/elaspic/o_hn8c32/P00698.19:147.fasta:\n",
      "structure_file: /tmp/strokach/elaspic/o_hn8c32/4CJ2B.pdb:\n",
      "sequence_seqrecords: [SeqRecord(seq=Seq('KVFGRCELAAAMKRHGLDNYRGYSLGNWVCAAKFESNFNTQATNRNTDGSTDYG...CRL', SingleLetterAlphabet()), id='P00698.19:147', name='P00698.19:147', description='P00698.19:147 <unknown description>', dbxrefs=[])]\n",
      "structure_seqrecords: [SeqRecord(seq=Seq('KVFGRCELAAAMKRHGLDNYRGYSLGNWVCAAKFESNFNTQATNRNTDGSTDYG...CRL', Alphabet()), id='4CJ2BB', name='<unknown name>', description='<unknown description>', dbxrefs=[]), SeqRecord(seq=Seq('............................................................', Alphabet()), id='4CJ2BZ', name='<unknown name>', description='<unknown description>', dbxrefs=[])]\n",
      "Copying precalculated modeller results file from /tmp/strokach/elaspic/o_hn8c32/model/122238361_modeller_results.json to /tmp/strokach/elaspic/o_hn8c32/model/P00698.19.147-4CJ2B.json...\n",
      "Loading precalculated modeller results from file: /tmp/strokach/elaspic/o_hn8c32/model/P00698.19.147-4CJ2B.json\n",
      "Extracting pdb_id: P00698_4CJ2B, chain_ids: ['A', 'B']...\n",
      "domain_def: [], domain_start_idxs: None, domain_end_idxs: None\n",
      "domain_def: [], domain_start_idxs: None, domain_end_idxs: None\n",
      "Chain B is empty! Removing...\n",
      "Adding hetatm chain of length 1\n",
      "PDB P00698_4CJ2B extracted successfully.\n",
      "Skipping chain_2 with idx 1 because it contains only hetatms.\n",
      "Skipping chain_1 with idx 1 because it contains only hetatms.\n",
      "msms system command 1: pdb_to_xyzrn /tmp/strokach/elaspic/o_hn8c32/model/modeller/P00698_4CJ2BA.pdb\n",
      "msms system command 2: msms -probe_radius 1.4 -surface ases -if '/tmp/strokach/elaspic/tmpvh2pxeek' -af '/tmp/strokach/elaspic/o_hn8c32/model/modeller/P00698_4CJ2BA.area' \n",
      "--------------------------------------------------------------------------------\n",
      "get_model(<elaspic.elaspic_database_tables.UniprotDomainPair object at 0x7f190c493ba8>)\n",
      "================================================================================\n",
      "uniprot_domain_pair_id: 14\n",
      "Model already calculated.\n",
      "Extracting pdb_id: 1A2Y, chain_ids: ['C', 'A']...\n",
      "domain_def: [[['1', '129']], [['1', '107']]], domain_start_idxs: (0,), domain_end_idxs: (128,)\n",
      "domain_def: [[['1', '129']], [['1', '107']]], domain_start_idxs: (0,), domain_end_idxs: (106,)\n",
      "Adding hetatm chain of length 315\n",
      "PDB 1A2Y extracted successfully.\n",
      "Skipping chain_2 with idx 2 because it contains only hetatms.\n",
      "Skipping chain_2 with idx 2 because it contains only hetatms.\n",
      "Skipping chain_1 with idx 2 because it contains only hetatms.\n",
      "Initialising a Model instance with parameters:\n",
      "sequence_file: /tmp/strokach/elaspic/o_hn8c32/P00698.19:147_P01635.21:115.fasta:\n",
      "structure_file: /tmp/strokach/elaspic/o_hn8c32/1A2YCA.pdb:\n",
      "sequence_seqrecords: [SeqRecord(seq=Seq('KVFGRCELAAAMKRHGLDNYRGYSLGNWVCAAKFESNFNTQATNRNTDGSTDYG...CRL', SingleLetterAlphabet()), id='P00698.19:147', name='P00698.19:147', description='P00698.19:147 <unknown description>', dbxrefs=[]), SeqRecord(seq=Seq('DIQMTQSPASLSASVGETVTITCRASGNIHNYLAWYQQKQGKSPQLLVYNAKTL...STP', SingleLetterAlphabet()), id='P01635.21:115', name='P01635.21:115', description='P01635.21:115 <unknown description>', dbxrefs=[])]\n",
      "structure_seqrecords: [SeqRecord(seq=Seq('KVFGRCELAAAMKRHGLANYRGYSLGNWVCAAKFESNFNTQATNRNTDGSTDYG...CRL', Alphabet()), id='1A2YCAC', name='<unknown name>', description='<unknown description>', dbxrefs=[]), SeqRecord(seq=Seq('DIVLTQSPASLSASVGETVTITCRASGNIHNYLAWYQQKQGKSPQLLVYYTTTL...EIK', Alphabet()), id='1A2YCAA', name='<unknown name>', description='<unknown description>', dbxrefs=[]), SeqRecord(seq=Seq('............................................................', Alphabet()), id='1A2YCAZ', name='<unknown name>', description='<unknown description>', dbxrefs=[])]\n",
      "Copying precalculated modeller results file from /tmp/strokach/elaspic/o_hn8c32/model/14_modeller_results.json to /tmp/strokach/elaspic/o_hn8c32/model/P00698.19.147_P01635.21.115-1A2YCA.json...\n",
      "Loading precalculated modeller results from file: /tmp/strokach/elaspic/o_hn8c32/model/P00698.19.147_P01635.21.115-1A2YCA.json\n",
      "Extracting pdb_id: P00698.18.147_P01635.21.115-1A2YCA, chain_ids: ['C', 'A', 'Z']...\n",
      "domain_def: [], domain_start_idxs: None, domain_end_idxs: None\n",
      "domain_def: [], domain_start_idxs: None, domain_end_idxs: None\n",
      "domain_def: [], domain_start_idxs: None, domain_end_idxs: None\n",
      "Chain Z is empty! Removing...\n",
      "Adding hetatm chain of length 312\n",
      "PDB P00698.18.147_P01635.21.115-1A2YCA extracted successfully.\n",
      "Skipping chain_2 with idx 2 because it contains only hetatms.\n",
      "Skipping chain_2 with idx 2 because it contains only hetatms.\n",
      "Skipping chain_1 with idx 2 because it contains only hetatms.\n",
      "msms system command 1: pdb_to_xyzrn /tmp/strokach/elaspic/o_hn8c32/model/modeller/P00698.18.147_P01635.21.115-1A2YCACA.pdb\n",
      "msms system command 2: msms -probe_radius 1.4 -surface ases -if '/tmp/strokach/elaspic/tmp7ag1dvou' -af '/tmp/strokach/elaspic/o_hn8c32/model/modeller/P00698.18.147_P01635.21.115-1A2YCACA.area' \n",
      "msms system command 1: pdb_to_xyzrn /tmp/strokach/elaspic/o_hn8c32/model/modeller/P00698.18.147_P01635.21.115-1A2YCAC.pdb\n",
      "msms system command 2: msms -probe_radius 1.4 -surface ases -if '/tmp/strokach/elaspic/tmpy2xfcmzk' -af '/tmp/strokach/elaspic/o_hn8c32/model/modeller/P00698.18.147_P01635.21.115-1A2YCAC.area' \n",
      "msms system command 1: pdb_to_xyzrn /tmp/strokach/elaspic/o_hn8c32/model/modeller/P00698.18.147_P01635.21.115-1A2YCAA.pdb\n",
      "msms system command 2: msms -probe_radius 1.4 -surface ases -if '/tmp/strokach/elaspic/tmpba9mv0od' -af '/tmp/strokach/elaspic/o_hn8c32/model/modeller/P00698.18.147_P01635.21.115-1A2YCAA.area' \n",
      "Skipping chain_2 with idx 2 because it contains only hetatms.\n",
      "Skipping chain_2 with idx 2 because it contains only hetatms.\n",
      "Skipping chain_1 with idx 2 because it contains only hetatms.\n",
      "Validating chain 0 interacting AA...\n",
      "interface_aa_a: GQDGDLRRRNIGLS\n",
      "interface_aa_b: GQDGDLRRRNIGLS\n",
      "a2b_contacts: {(125, '126', 'G'), (120, '121', 'Q'), (118, '119', 'D'), (21, '22', 'G'), (17, '18', 'D'), (128, '129', 'L'), (20, '21', 'R'), (127, '128', 'R'), (124, '125', 'R'), (18, '19', 'N'), (123, '124', 'I'), (25, '26', 'G'), (24, '25', 'L'), (23, '24', 'S')}\n",
      "self.sequence_seqrecords[chain_idx].seq: KVFGRCELAAAMKRHGLDNYRGYSLGNWVCAAKFESNFNTQATNRNTDGSTDYGILQINSRWWCNDGRTPGSRNLCNIPCSALLSSDITASVNCAKKIVSDGNGMNAWVAWRNRCKGTDVQAWIRGCRL\n",
      "domain_def_offsets: [[0, 0], [0, 0]]\n",
      "Validating chain 1 interacting AA...\n",
      "interface_aa_a: NHITYYWFS\n",
      "interface_aa_b: NHITYYWFS\n",
      "a2b_contacts: {(49, '179', 'N'), (29, '159', 'H'), (28, '158', 'I'), (52, '182', 'T'), (48, '178', 'Y'), (31, '161', 'Y'), (91, '221', 'W'), (90, '220', 'F'), (92, '222', 'S')}\n",
      "self.sequence_seqrecords[chain_idx].seq: DIQMTQSPASLSASVGETVTITCRASGNIHNYLAWYQQKQGKSPQLLVYNAKTLADGVPSRFSGSGSGTQYSLKINSLQPEDFGSYYCQHFWSTP\n",
      "domain_def_offsets: [[0, 0], [0, 0]]\n",
      "Extracting pdb_id: P00698.18.147_P01635.21.115-1A2YCA, chain_ids: ['C', 'A', 'Z']...\n",
      "domain_def: [], domain_start_idxs: None, domain_end_idxs: None\n",
      "domain_def: [], domain_start_idxs: None, domain_end_idxs: None\n",
      "domain_def: [], domain_start_idxs: None, domain_end_idxs: None\n",
      "Chain Z is empty! Removing...\n",
      "Adding hetatm chain of length 312\n",
      "PDB P00698.18.147_P01635.21.115-1A2YCA extracted successfully.\n",
      "Skipping chain_2 with idx 2 because it contains only hetatms.\n",
      "Skipping chain_2 with idx 2 because it contains only hetatms.\n",
      "Skipping chain_1 with idx 2 because it contains only hetatms.\n",
      "pops --chainOut --pdb /tmp/strokach/elaspic/o_hn8c32/model/modeller/P00698.18.147_P01635.21.115-1A2YCACA.pdb --popsOut /tmp/strokach/elaspic/o_hn8c32/model/modeller/P00698.18.147_P01635.21.115-1A2YCACA.pdb.out\n",
      "pops rc: 0\n",
      "pops --chainOut --pdb /tmp/strokach/elaspic/o_hn8c32/model/modeller/P00698.18.147_P01635.21.115-1A2YCAC.pdb --popsOut /tmp/strokach/elaspic/o_hn8c32/model/modeller/P00698.18.147_P01635.21.115-1A2YCAC.pdb.out\n",
      "pops rc: 0\n",
      "pops --chainOut --pdb /tmp/strokach/elaspic/o_hn8c32/model/modeller/P00698.18.147_P01635.21.115-1A2YCAA.pdb --popsOut /tmp/strokach/elaspic/o_hn8c32/model/modeller/P00698.18.147_P01635.21.115-1A2YCAA.pdb.out\n",
      "pops rc: 0\n",
      "Finished processing all models for P00698 ['I142A']\n",
      "\n",
      "\n",
      "\n",
      "**************************************************************************************************************\n",
      "Analyzing mutations...\n",
      "--------------------------------------------------------------------------------\n",
      "get_mutation_score(<elaspic.elaspic_database_tables.UniprotDomain object at 0x7f190c505e48>, I142A)\n",
      "--------------------------------------------------------------------------------\n",
      "get_sequence(<elaspic.elaspic_database_tables.UniprotDomain object at 0x7f190c505e48>)\n",
      "--------------------------------------------------------------------------------\n",
      "get_model(<elaspic.elaspic_database_tables.UniprotDomain object at 0x7f190c505e48>)\n",
      "================================================================================\n",
      "uniprot_domain_id: 122238361\n",
      "Have the following precalculated mutation: <elaspic.elaspic_database_tables.UniprotDomainMutation object at 0x7f190c0a6240>\n",
      "Mutation has already been completely evaluated. Skipping...\n",
      "--------------------------------------------------------------------------------\n",
      "get_mutation_score(<elaspic.elaspic_database_tables.UniprotDomainPair object at 0x7f190c493ba8>, I142A)\n",
      "--------------------------------------------------------------------------------\n",
      "get_sequence(<elaspic.elaspic_database_tables.UniprotDomain object at 0x7f190c4935c0>)\n",
      "Initialising a Sequence instance with parameters:\n",
      "sequence_file: /tmp/strokach/elaspic/o_hn8c32/sequence/P00698.fasta\n",
      "provean_supset_file: /tmp/strokach/elaspic/archive/training/P00/69/P00698/P00698_provean_supset_0\n",
      "Provean supset is already calculated!\n",
      "--------------------------------------------------------------------------------\n",
      "get_model(<elaspic.elaspic_database_tables.UniprotDomainPair object at 0x7f190c493ba8>)\n",
      "================================================================================\n",
      "uniprot_domain_pair_id: 14\n",
      "Have the following precalculated mutation: None\n",
      "sequence: MRSLLILVLCFLPLAALGKVFGRCELAAAMKRHGLDNYRGYSLGNWVCAAKFESNFNTQATNRNTDGSTDYGILQINSRWWCNDGRTPGSRNLCNIPCSALLSSDITASVNCAKKIVSDGNGMNAWVAWRNRCKGTDVQAWIRGCRL\n",
      "Mutation is inside the first domain.\n",
      "model_domain_def: 19:147\n",
      "provean  -q '/tmp/strokach/elaspic/o_hn8c32/sequence/P00698.fasta'  -v '/tmp/strokach/elaspic/o_hn8c32/sequence/I142A.var'  -d /home/kimlab1/database_data/blast/db/nr --tmp_dir '/tmp/strokach/elaspic/o_hn8c32/sequence/provean_temp'  --num_threads 1  --psiblast '/home/kimlab1/strokach/anaconda/bin/psiblast'  --blastdbcmd '/home/kimlab1/strokach/anaconda/bin/blastdbcmd'  --cdhit '/home/kimlab1/strokach/anaconda/bin/cd-hit'  --supporting_set '/tmp/strokach/elaspic/o_hn8c32/sequence/P00698_provean_supset' \n",
      "Parent group id: 21220\n",
      "Child group id: 21220\n",
      "## PROVEAN v1.1 output ##\n",
      "## Input Arguments ##\n",
      "provean -q /tmp/strokach/elaspic/o_hn8c32/sequence/P00698.fasta -v /tmp/strokach/elaspic/o_hn8c32/sequence/I142A.var -d /home/kimlab1/database_data/blast/db/nr --tmp_dir /tmp/strokach/elaspic/o_hn8c32/sequence/provean_temp --num_threads 1 --psiblast /home/kimlab1/strokach/anaconda/bin/psiblast --blastdbcmd /home/kimlab1/strokach/anaconda/bin/blastdbcmd --cdhit /home/kimlab1/strokach/anaconda/bin/cd-hit --supporting_set /tmp/strokach/elaspic/o_hn8c32/sequence/P00698_provean_supset \n",
      "\n",
      "## Parameters ##\n",
      "# Query sequence file:\t/tmp/strokach/elaspic/o_hn8c32/sequence/P00698.fasta\n",
      "# Variation file:\t/tmp/strokach/elaspic/o_hn8c32/sequence/I142A.var\n",
      "# Protein database:\t/home/kimlab1/database_data/blast/db/nr\n",
      "# Supporting sequence set file (optional):\t/tmp/strokach/elaspic/o_hn8c32/sequence/P00698_provean_supset\n",
      "# Supporting sequence set file for storing (optional):\tNot provided\n",
      "# Substitution matrix:\tBLOSUM62\n",
      "# Gap costs:\t10, 1\n",
      "# Clustering threshold:\t0.750\n",
      "# Maximum number of clusters:\t30\n",
      "\n",
      "[15:33:10] loading query sequence from a FASTA file...\n",
      "[15:33:10] loading variations...\n",
      "[15:33:10] retrieving supporting sequences & cluster information...\n",
      "[15:34:11] loading subject sequences from a FASTA file...\n",
      "# Number of clusters:\t30\n",
      "# Number of supporting sequences used:\t585\n",
      "[15:34:11] computing delta alignment scores...\n",
      "[15:34:12] printing PROVEAN scores...\n",
      "## PROVEAN scores ##\n",
      "# VARIATION\tSCORE\n",
      "I142A\t-3.005\n",
      "chain_numbering: ['1', '2', '3', '4', '5', '6', '7', '8', '9', '10', '11', '12', '13', '14', '15', '16', '17', '18', '19', '20', '21', '22', '23', '24', '25', '26', '27', '28', '29', '30', '31', '32', '33', '34', '35', '36', '37', '38', '39', '40', '41', '42', '43', '44', '45', '46', '47', '48', '49', '50', '51', '52', '53', '54', '55', '56', '57', '58', '59', '60', '61', '62', '63', '64', '65', '66', '67', '68', '69', '70', '71', '72', '73', '74', '75', '76', '77', '78', '79', '80', '81', '82', '83', '84', '85', '86', '87', '88', '89', '90', '91', '92', '93', '94', '95', '96', '97', '98', '99', '100', '101', '102', '103', '104', '105', '106', '107', '108', '109', '110', '111', '112', '113', '114', '115', '116', '117', '118', '119', '120', '121', '122', '123', '124', '125', '126', '127', '128', '129']\n",
      "positions: [124]\n",
      "mutation: I124A\n",
      "position_modeller: 124\n",
      "mutation_modeller: I124A\n",
      "sequence_idx: 0\n",
      "partner_chain_idx: 1\n",
      "interacting_aa_1: [18, 19, 21, 22, 24, 25, 26, 119, 121, 124, 125, 126, 128, 129]\n",
      "Running mutation with mutation_id: P00698.19:147-P01635.21:115-I124A\n",
      "chain_id: C\n",
      "partner_chain_id: A\n",
      "Running FoldX RepairPDB\n",
      "FoldX system command: 'foldx -runfile '/tmp/strokach/elaspic/o_hn8c32/model/mutations/P00698.19:147-P01635.21:115-I124A/runfile_FoldX.txt''\n",
      "Mutcodes for foldx: ['IC124A']\n",
      "Running FoldX BuildModel\n",
      "FoldX system command: 'foldx -runfile '/tmp/strokach/elaspic/o_hn8c32/model/mutations/P00698.19:147-P01635.21:115-I124A/runfile_FoldX.txt''\n",
      "repairedPDB_wt_list: ['/tmp/strokach/elaspic/o_hn8c32/model/mutations/P00698.19:147-P01635.21:115-I124A/WT_RepairPDB_P00698.18.147_P01635.21.115-1A2YCA_1.pdb']\n",
      "repairedPDB_mut_list: ['/tmp/strokach/elaspic/o_hn8c32/model/mutations/P00698.19:147-P01635.21:115-I124A/RepairPDB_P00698.18.147_P01635.21.115-1A2YCA_1.pdb']\n",
      "wt_chain_sequences: defaultdict(<class 'list'>, {'C': 'KVFGRCELAAAMKRHGLDNYRGYSLGNWVCAAKFESNFNTQATNRNTDGSTDYGILQINSRWWCNDGRTPGSRNLCNIPCSALLSSDITASVNCAKKIVSDGNGMNAWVAWRNRCKGTDVQAWIRGCRL', 'A': 'DIQMTQSPASLSASVGETVTITCRASGNIHNYLAWYQQKQGKSPQLLVYNAKTLADGVPSRFSGSGSGTQYSLKINSLQPEDFGSYYCQHFWSTP'})\n",
      "mut_chain_sequences: defaultdict(<class 'list'>, {'C': 'KVFGRCELAAAMKRHGLDNYRGYSLGNWVCAAKFESNFNTQATNRNTDGSTDYGILQINSRWWCNDGRTPGSRNLCNIPCSALLSSDITASVNCAKKIVSDGNGMNAWVAWRNRCKGTDVQAWARGCRL', 'A': 'DIQMTQSPASLSASVGETVTITCRASGNIHNYLAWYQQKQGKSPQLLVYNAKTLADGVPSRFSGSGSGTQYSLKINSLQPEDFGSYYCQHFWSTP'})\n",
      "Running FoldX Stability\n",
      "FoldX system command: 'foldx -runfile '/tmp/strokach/elaspic/o_hn8c32/model/mutations/P00698.19:147-P01635.21:115-I124A/runfile_FoldX.txt''\n",
      "Running FoldX Stability\n",
      "FoldX system command: 'foldx -runfile '/tmp/strokach/elaspic/o_hn8c32/model/mutations/P00698.19:147-P01635.21:115-I124A/runfile_FoldX.txt''\n",
      "Running FoldX AnalyseComplex\n",
      "FoldX system command: 'foldx -runfile '/tmp/strokach/elaspic/o_hn8c32/model/mutations/P00698.19:147-P01635.21:115-I124A/runfile_FoldX.txt''\n",
      "Running FoldX AnalyseComplex\n",
      "FoldX system command: 'foldx -runfile '/tmp/strokach/elaspic/o_hn8c32/model/mutations/P00698.19:147-P01635.21:115-I124A/runfile_FoldX.txt''\n",
      "Extracting pdb_id: WT_REPAIRPDB_P00698.18.147_P01635.21.115-1A2YCA_1, chain_ids: ['C', 'A']...\n",
      "domain_def: [], domain_start_idxs: None, domain_end_idxs: None\n",
      "domain_def: [], domain_start_idxs: None, domain_end_idxs: None\n",
      "PDB WT_REPAIRPDB_P00698.18.147_P01635.21.115-1A2YCA_1 extracted successfully.\n",
      "msms system command 1: pdb_to_xyzrn /tmp/strokach/elaspic/o_hn8c32/model/mutations/P00698.19:147-P01635.21:115-I124A/WT_REPAIRPDB_P00698.18.147_P01635.21.115-1A2YCA_1CA.pdb\n",
      "msms system command 2: msms -probe_radius 1.4 -surface ases -if '/tmp/strokach/elaspic/tmpvkupnmn8' -af '/tmp/strokach/elaspic/o_hn8c32/model/mutations/P00698.19:147-P01635.21:115-I124A/WT_REPAIRPDB_P00698.18.147_P01635.21.115-1A2YCA_1CA.area' \n",
      "msms system command 1: pdb_to_xyzrn /tmp/strokach/elaspic/o_hn8c32/model/mutations/P00698.19:147-P01635.21:115-I124A/WT_REPAIRPDB_P00698.18.147_P01635.21.115-1A2YCA_1C.pdb\n",
      "msms system command 2: msms -probe_radius 1.4 -surface ases -if '/tmp/strokach/elaspic/tmphbhg6xq4' -af '/tmp/strokach/elaspic/o_hn8c32/model/mutations/P00698.19:147-P01635.21:115-I124A/WT_REPAIRPDB_P00698.18.147_P01635.21.115-1A2YCA_1C.area' \n",
      "msms system command 1: pdb_to_xyzrn /tmp/strokach/elaspic/o_hn8c32/model/mutations/P00698.19:147-P01635.21:115-I124A/WT_REPAIRPDB_P00698.18.147_P01635.21.115-1A2YCA_1A.pdb\n",
      "msms system command 2: msms -probe_radius 1.4 -surface ases -if '/tmp/strokach/elaspic/tmptv1waqge' -af '/tmp/strokach/elaspic/o_hn8c32/model/mutations/P00698.19:147-P01635.21:115-I124A/WT_REPAIRPDB_P00698.18.147_P01635.21.115-1A2YCA_1A.area' \n",
      "stride system command: stride /tmp/strokach/elaspic/o_hn8c32/model/mutations/P00698.19:147-P01635.21:115-I124A/WT_REPAIRPDB_P00698.18.147_P01635.21.115-1A2YCA_1CA.pdb -f/tmp/strokach/elaspic/o_hn8c32/model/mutations/P00698.19:147-P01635.21:115-I124A/WT_REPAIRPDB_P00698.18.147_P01635.21.115-1A2YCA_1CA_stride_results.txt\n",
      "stride return code: 0\n",
      "stride result: \n",
      "stride error: \n",
      "Calculated interchain distances between chain C and chains A.\n",
      "Calculated interchain distances between chain A and chains C.\n",
      "The shortest interchain distance between chain C and chain A is 3.8829571817067667\n",
      "Extracting pdb_id: REPAIRPDB_P00698.18.147_P01635.21.115-1A2YCA_1, chain_ids: ['C', 'A']...\n",
      "domain_def: [], domain_start_idxs: None, domain_end_idxs: None\n",
      "domain_def: [], domain_start_idxs: None, domain_end_idxs: None\n",
      "PDB REPAIRPDB_P00698.18.147_P01635.21.115-1A2YCA_1 extracted successfully.\n",
      "msms system command 1: pdb_to_xyzrn /tmp/strokach/elaspic/o_hn8c32/model/mutations/P00698.19:147-P01635.21:115-I124A/REPAIRPDB_P00698.18.147_P01635.21.115-1A2YCA_1CA.pdb\n",
      "msms system command 2: msms -probe_radius 1.4 -surface ases -if '/tmp/strokach/elaspic/tmp9ysm4abk' -af '/tmp/strokach/elaspic/o_hn8c32/model/mutations/P00698.19:147-P01635.21:115-I124A/REPAIRPDB_P00698.18.147_P01635.21.115-1A2YCA_1CA.area' \n",
      "msms system command 1: pdb_to_xyzrn /tmp/strokach/elaspic/o_hn8c32/model/mutations/P00698.19:147-P01635.21:115-I124A/REPAIRPDB_P00698.18.147_P01635.21.115-1A2YCA_1C.pdb\n",
      "msms system command 2: msms -probe_radius 1.4 -surface ases -if '/tmp/strokach/elaspic/tmpruc6h6ej' -af '/tmp/strokach/elaspic/o_hn8c32/model/mutations/P00698.19:147-P01635.21:115-I124A/REPAIRPDB_P00698.18.147_P01635.21.115-1A2YCA_1C.area' \n",
      "msms system command 1: pdb_to_xyzrn /tmp/strokach/elaspic/o_hn8c32/model/mutations/P00698.19:147-P01635.21:115-I124A/REPAIRPDB_P00698.18.147_P01635.21.115-1A2YCA_1A.pdb\n",
      "msms system command 2: msms -probe_radius 1.4 -surface ases -if '/tmp/strokach/elaspic/tmpsai76gdt' -af '/tmp/strokach/elaspic/o_hn8c32/model/mutations/P00698.19:147-P01635.21:115-I124A/REPAIRPDB_P00698.18.147_P01635.21.115-1A2YCA_1A.area' \n",
      "stride system command: stride /tmp/strokach/elaspic/o_hn8c32/model/mutations/P00698.19:147-P01635.21:115-I124A/REPAIRPDB_P00698.18.147_P01635.21.115-1A2YCA_1CA.pdb -f/tmp/strokach/elaspic/o_hn8c32/model/mutations/P00698.19:147-P01635.21:115-I124A/REPAIRPDB_P00698.18.147_P01635.21.115-1A2YCA_1CA_stride_results.txt\n",
      "stride return code: 0\n",
      "stride result: \n",
      "stride error: \n",
      "Calculated interchain distances between chain C and chains A.\n",
      "Calculated interchain distances between chain A and chains C.\n",
      "The shortest interchain distance between chain C and chain A is 5.7143829099027545\n",
      "analyze_structure_results_wt: {'contact_distance': 3.8829571817067667, 'solvent_accessibility': 20.380025125628137, 'secondary_structure': 'H', 'physchem': [0, 0, 0, 9], 'physchem_ownchain': [0, 0, 0, 35]}\n",
      "analyze_structure_results_mut: {'contact_distance': 5.7143829099027545, 'solvent_accessibility': 11.897730430754979, 'secondary_structure': 'H', 'physchem': [0, 0, 0, 1], 'physchem_ownchain': [0, 0, 0, 19]}\n",
      "feature_dict: {'contact_distance_mut': 5.7143829099027545, 'model_filename_wt': 'P00698_I142A/P00698.19:147-P01635.21:115-I124A-wt.pdb', 'norm_dope': -1.05071, 'stability_energy_mut': '60.9242,-120.617,-75.5899,-233.747,-6.53861,323.488,-295.885,20.523,131.787,320.306,0,0,2.24811,16.0263,134.965,-1.84117,0,-19.9302,-0.033174,0,0.728555,0,224', 'physchem_mut': '0,0,0,1', 'secondary_structure_mut': 'H', 'physchem_mut_ownchain': '0,0,0,19', 'pfam_name_2': 'V-set', 'secondary_structure_wt': 'H', 'contact_distance_wt': 3.8829571817067667, 'mutation_modeller': 'I124A', 'alignment_identity': 96.97999999999999, 'alignment_score': 0.9674925000000001, 'model_filename_mut': 'P00698_I142A/P00698.19:147-P01635.21:115-I124A-mut.pdb', 'clan_name_2': 'V-set', 'm_date_modified': datetime.datetime(2016, 8, 10, 13, 55, 37), 'pfam_name_1': 'Lys', 'analyse_complex_energy_wt': '19.7321,17.0569,-1.68321,-0.485495,-3.47301,-3.55243,-0.268951,4.73638,-3.78423,0.122332,2.35308,0.128542,0,0,0,0.216513,0.49251,-0.0267651,0,0,-0.033174,0,5.55112e-17,2.384,224', 'solvent_accessibility_mut': 11.897730430754979, 'interface_area_total': 1039.57, 'uniprot_domain_pair_id': 14, 'interface_area_hydrophobic': 56.785, 'chain_modeller': 'C', 'provean_score': -3.005, 'cath_id_1': '1a2yC00', 'cath_id_2': '1a2yA00', 't_date_modified': None, 'stability_energy_wt': '59.0197,-120.648,-75.5899,-235.382,-6.53861,324.423,-298.812,20.834,132.763,320.503,0,0,2.24811,16.2938,135.733,-1.84117,0,-19.9302,-0.033174,0,0.728555,0,224', 'uniprot_id': 'P00698', 'alignment_coverage': 99.6154, 'matrix_score': -2, 'physchem_wt': '0,0,0,9', 'analyse_complex_energy_mut': '19.181,17.0569,-1.15355,-0.485495,-3.47301,-3.27284,-0.268951,4.60592,-3.32192,0.0989574,2.29879,0.128542,0,0,0,0.212379,0.471797,-0.0267651,0,0,-0.033174,0,5.55112e-17,2.384,224', 'clan_name_1': 'Lys', 'physchem_wt_ownchain': '0,0,0,35', 'solvent_accessibility_wt': 20.380025125628137, 'mutation': 'I142A', 'interface_area_hydrophilic': 982.79}\n",
      "index: 0\n",
      "Predicted ddg: 0.6933249083181414\n",
      "Adding mutation I142A\n",
      "Mergin mutation data with the database...\n",
      "Done merging mutation data!\n"
     ]
    }
   ],
   "source": [
    "!elaspic run \\\n",
    "    --pdb_dir='/home/kimlab1/database_data/pdb/data/data/structures/divided/pdb/' \\\n",
    "    --blast_db_dir='/home/kimlab1/database_data/blast/db' \\\n",
    "    --archive_dir='/home/kimlab1/database_data/biodb/recipes/elaspic_training_set/notebooks/elaspic_training_interface/elaspic' \\\n",
    "    --connection_string='mysql://root@192.168.6.210:8309/elaspic_training_interface' \\\n",
    "    -vvv         -u 'P00698'         -i 14         -m 'I142A' "
   ]
  },
  {
   "cell_type": "code",
   "execution_count": 621,
   "metadata": {
    "collapsed": false
   },
   "outputs": [
    {
     "data": {
      "text/plain": [
       "0.455"
      ]
     },
     "execution_count": 621,
     "metadata": {},
     "output_type": "execute_result"
    }
   ],
   "source": [
    "(0.9 + 0.01) / 2"
   ]
  },
  {
   "cell_type": "code",
   "execution_count": 622,
   "metadata": {
    "collapsed": false
   },
   "outputs": [
    {
     "data": {
      "text/plain": [
       "0.094868329805051388"
      ]
     },
     "execution_count": 622,
     "metadata": {},
     "output_type": "execute_result"
    }
   ],
   "source": [
    "np.sqrt(0.9 * 0.01)"
   ]
  },
  {
   "cell_type": "code",
   "execution_count": 447,
   "metadata": {
    "collapsed": false,
    "run_control": {
     "marked": false
    }
   },
   "outputs": [
    {
     "name": "stdout",
     "output_type": "stream",
     "text": [
      "0\n"
     ]
    }
   ],
   "source": [
    "# Job statistics\n",
    "failed = set(results_df[results_df['status'].isin(['error'])]['job_id'])\n",
    "\n",
    "system_commands_remaining = (\n",
    "    mutations_wtemplates[\n",
    "        (mutations_wtemplates.index.isin(failed))\n",
    "    ]\n",
    ")\n",
    "print(len(system_commands_remaining))"
   ]
  },
  {
   "cell_type": "raw",
   "metadata": {
    "collapsed": false,
    "run_control": {
     "marked": false
    }
   },
   "source": [
    "print(\", \".join(sorted(str(x) for x in system_commands_remaining['uniprot_domain_pair_id'])))"
   ]
  },
  {
   "cell_type": "code",
   "execution_count": 448,
   "metadata": {
    "collapsed": false,
    "run_control": {
     "marked": false
    }
   },
   "outputs": [
    {
     "data": {
      "text/html": [
       "<div>\n",
       "<table border=\"1\" class=\"dataframe\">\n",
       "  <thead>\n",
       "    <tr style=\"text-align: right;\">\n",
       "      <th></th>\n",
       "      <th>cath_id_1</th>\n",
       "      <th>cath_id_2</th>\n",
       "      <th>conserved_1</th>\n",
       "      <th>conserved_2</th>\n",
       "      <th>conserved_if_1</th>\n",
       "      <th>conserved_if_2</th>\n",
       "      <th>coverage_1</th>\n",
       "      <th>coverage_2</th>\n",
       "      <th>coverage_if_1</th>\n",
       "      <th>coverage_if_2</th>\n",
       "      <th>ddg_exp</th>\n",
       "      <th>domain_contact_id</th>\n",
       "      <th>domain_contact_ids</th>\n",
       "      <th>id</th>\n",
       "      <th>identical_1</th>\n",
       "      <th>identical_2</th>\n",
       "      <th>identical_if_1</th>\n",
       "      <th>identical_if_2</th>\n",
       "      <th>idx</th>\n",
       "      <th>max_seq_identity</th>\n",
       "      <th>partner_pdb_chain</th>\n",
       "      <th>partner_uniprot_id</th>\n",
       "      <th>path_to_data</th>\n",
       "      <th>pdb_chain</th>\n",
       "      <th>pdb_id</th>\n",
       "      <th>pdb_mutation</th>\n",
       "      <th>pfam_clan</th>\n",
       "      <th>pfam_id</th>\n",
       "      <th>rigids</th>\n",
       "      <th>score_1</th>\n",
       "      <th>score_2</th>\n",
       "      <th>score_if_1</th>\n",
       "      <th>score_if_2</th>\n",
       "      <th>score_if_total</th>\n",
       "      <th>score_overall</th>\n",
       "      <th>score_total</th>\n",
       "      <th>t_date_modified</th>\n",
       "      <th>template_errors</th>\n",
       "      <th>uniprot_domain_id_1</th>\n",
       "      <th>uniprot_domain_id_2</th>\n",
       "      <th>uniprot_domain_pair_id</th>\n",
       "      <th>uniprot_domain_pair_id_old</th>\n",
       "      <th>uniprot_id</th>\n",
       "      <th>uniprot_mutation</th>\n",
       "      <th>system_command</th>\n",
       "    </tr>\n",
       "  </thead>\n",
       "  <tbody>\n",
       "  </tbody>\n",
       "</table>\n",
       "</div>"
      ],
      "text/plain": [
       "Empty DataFrame\n",
       "Columns: [cath_id_1, cath_id_2, conserved_1, conserved_2, conserved_if_1, conserved_if_2, coverage_1, coverage_2, coverage_if_1, coverage_if_2, ddg_exp, domain_contact_id, domain_contact_ids, id, identical_1, identical_2, identical_if_1, identical_if_2, idx, max_seq_identity, partner_pdb_chain, partner_uniprot_id, path_to_data, pdb_chain, pdb_id, pdb_mutation, pfam_clan, pfam_id, rigids, score_1, score_2, score_if_1, score_if_2, score_if_total, score_overall, score_total, t_date_modified, template_errors, uniprot_domain_id_1, uniprot_domain_id_2, uniprot_domain_pair_id, uniprot_domain_pair_id_old, uniprot_id, uniprot_mutation, system_command]\n",
       "Index: []"
      ]
     },
     "execution_count": 448,
     "metadata": {},
     "output_type": "execute_result"
    }
   ],
   "source": [
    "system_commands_remaining[:10]"
   ]
  },
  {
   "cell_type": "code",
   "execution_count": 449,
   "metadata": {
    "collapsed": false,
    "run_control": {
     "marked": false
    }
   },
   "outputs": [],
   "source": [
    "assert system_commands_remaining.empty"
   ]
  },
  {
   "cell_type": "code",
   "execution_count": 452,
   "metadata": {
    "collapsed": false,
    "run_control": {
     "marked": false
    }
   },
   "outputs": [],
   "source": [
    "with js.connect():\n",
    "    js.submit(system_commands_remaining.reset_index()[['index', 'system_command']].values.tolist())"
   ]
  },
  {
   "cell_type": "code",
   "execution_count": null,
   "metadata": {
    "collapsed": true
   },
   "outputs": [],
   "source": []
  }
 ],
 "metadata": {
  "anaconda-cloud": {},
  "kernelspec": {
   "display_name": "Python [Root]",
   "language": "python",
   "name": "Python [Root]"
  },
  "language_info": {
   "codemirror_mode": {
    "name": "ipython",
    "version": 3
   },
   "file_extension": ".py",
   "mimetype": "text/x-python",
   "name": "python",
   "nbconvert_exporter": "python",
   "pygments_lexer": "ipython3",
   "version": "3.5.2"
  },
  "nav_menu": {},
  "toc": {
   "navigate_menu": true,
   "number_sections": true,
   "sideBar": false,
   "threshold": 6,
   "toc_cell": false,
   "toc_section_display": "block",
   "toc_window_display": true
  },
  "toc_position": {
   "height": "774px",
   "left": "37.9861px",
   "right": "20px",
   "top": "75.9896px",
   "width": "230px"
  }
 },
 "nbformat": 4,
 "nbformat_minor": 0
}
