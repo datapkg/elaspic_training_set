{
 "cells": [
  {
   "cell_type": "markdown",
   "metadata": {},
   "source": [
    "# Summary\n",
    "\n",
    "This is where we find structural templates for our training set, at different sequence identity cutoffs.\n",
    "\n",
    "max_seq_identity | function\n",
    "-----------------|--------------\n",
    "100              | > 80\n",
    "80               | > 60 & <= 80\n",
    "60               | > 40 & <= 60\n",
    "40               | <= 40\n",
    "\n",
    "We create the `elaspic_training` database and fill it with training data.\n",
    "\n",
    "We do this for the following training sets only:\n",
    "\n",
    "  - protherm\n",
    "  - taipale\n",
    "\n",
    "----"
   ]
  },
  {
   "cell_type": "markdown",
   "metadata": {},
   "source": [
    "# Imports"
   ]
  },
  {
   "cell_type": "code",
   "execution_count": 1,
   "metadata": {
    "collapsed": false
   },
   "outputs": [
    {
     "name": "stdout",
     "output_type": "stream",
     "text": [
      "elaspic_training_set\n",
      "2016-06-09 22:37:56.237604\n"
     ]
    }
   ],
   "source": [
    "%run imports.ipynb"
   ]
  },
  {
   "cell_type": "code",
   "execution_count": 2,
   "metadata": {
    "collapsed": true
   },
   "outputs": [],
   "source": [
    "NOTEBOOK_NAME = 'core_database'"
   ]
  },
  {
   "cell_type": "code",
   "execution_count": 3,
   "metadata": {
    "collapsed": true
   },
   "outputs": [],
   "source": [
    "os.makedirs(NOTEBOOK_NAME, exist_ok=True)"
   ]
  },
  {
   "cell_type": "markdown",
   "metadata": {},
   "source": [
    "# Load data"
   ]
  },
  {
   "cell_type": "code",
   "execution_count": 4,
   "metadata": {
    "collapsed": false
   },
   "outputs": [
    {
     "name": "stdout",
     "output_type": "stream",
     "text": [
      "dict_keys(['protherm', 'humsavar', 'taipale'])\n"
     ]
    }
   ],
   "source": [
    "with open(op.join('load_data', 'TRAINING_SETS.pkl'), 'rb') as ifh:\n",
    "    TRAINING_SETS = pickle.load(ifh)\n",
    "print(TRAINING_SETS.keys())"
   ]
  },
  {
   "cell_type": "code",
   "execution_count": 5,
   "metadata": {
    "collapsed": false
   },
   "outputs": [],
   "source": [
    "db = datapkg.DataFrameToMySQL(CONNECTION_STR, NOTEBOOK_NAME, STG_SERVER_IP, echo=False)"
   ]
  },
  {
   "cell_type": "code",
   "execution_count": 6,
   "metadata": {
    "collapsed": false
   },
   "outputs": [
    {
     "data": {
      "text/plain": [
       "dict_keys(['protherm', 'humsavar', 'taipale'])"
      ]
     },
     "execution_count": 6,
     "metadata": {},
     "output_type": "execute_result"
    }
   ],
   "source": [
    "TRAINING_SETS.keys()"
   ]
  },
  {
   "cell_type": "code",
   "execution_count": 7,
   "metadata": {
    "collapsed": false
   },
   "outputs": [
    {
     "data": {
      "text/html": [
       "<div>\n",
       "<table border=\"1\" class=\"dataframe\">\n",
       "  <thead>\n",
       "    <tr style=\"text-align: right;\">\n",
       "      <th></th>\n",
       "      <th>uniprot_id</th>\n",
       "      <th>uniprot_mutation</th>\n",
       "      <th>ddg_exp</th>\n",
       "      <th>del_score_exp</th>\n",
       "      <th>del_class_exp</th>\n",
       "      <th>uniprot_sequence</th>\n",
       "      <th>uniprot_domain_id</th>\n",
       "      <th>pfam_clan</th>\n",
       "      <th>alignment_identity</th>\n",
       "      <th>alignment_coverage</th>\n",
       "      <th>alignment_score</th>\n",
       "      <th>norm_dope</th>\n",
       "      <th>matrix_score</th>\n",
       "      <th>secondary_structure_wt</th>\n",
       "      <th>solvent_accessibility_wt</th>\n",
       "      <th>secondary_structure_change</th>\n",
       "      <th>solvent_accessibility_change</th>\n",
       "      <th>provean_score</th>\n",
       "      <th>ddg</th>\n",
       "      <th>dg_wt</th>\n",
       "      <th>backbone_hbond_wt</th>\n",
       "      <th>sidechain_hbond_wt</th>\n",
       "      <th>van_der_waals_wt</th>\n",
       "      <th>electrostatics_wt</th>\n",
       "      <th>solvation_polar_wt</th>\n",
       "      <th>solvation_hydrophobic_wt</th>\n",
       "      <th>van_der_waals_clashes_wt</th>\n",
       "      <th>entropy_sidechain_wt</th>\n",
       "      <th>entropy_mainchain_wt</th>\n",
       "      <th>sloop_entropy_wt</th>\n",
       "      <th>mloop_entropy_wt</th>\n",
       "      <th>cis_bond_wt</th>\n",
       "      <th>torsional_clash_wt</th>\n",
       "      <th>backbone_clash_wt</th>\n",
       "      <th>helix_dipole_wt</th>\n",
       "      <th>water_bridge_wt</th>\n",
       "      <th>disulfide_wt</th>\n",
       "      <th>electrostatic_kon_wt</th>\n",
       "      <th>partial_covalent_bonds_wt</th>\n",
       "      <th>energy_ionisation_wt</th>\n",
       "      <th>entropy_complex_wt</th>\n",
       "      <th>number_of_residues</th>\n",
       "      <th>dg_change</th>\n",
       "      <th>backbone_hbond_change</th>\n",
       "      <th>sidechain_hbond_change</th>\n",
       "      <th>van_der_waals_change</th>\n",
       "      <th>electrostatics_change</th>\n",
       "      <th>solvation_polar_change</th>\n",
       "      <th>solvation_hydrophobic_change</th>\n",
       "      <th>van_der_waals_clashes_change</th>\n",
       "      <th>entropy_sidechain_change</th>\n",
       "      <th>entropy_mainchain_change</th>\n",
       "      <th>sloop_entropy_change</th>\n",
       "      <th>mloop_entropy_change</th>\n",
       "      <th>cis_bond_change</th>\n",
       "      <th>torsional_clash_change</th>\n",
       "      <th>backbone_clash_change</th>\n",
       "      <th>helix_dipole_change</th>\n",
       "      <th>water_bridge_change</th>\n",
       "      <th>disulfide_change</th>\n",
       "      <th>electrostatic_kon_change</th>\n",
       "      <th>partial_covalent_bonds_change</th>\n",
       "      <th>energy_ionisation_change</th>\n",
       "      <th>entropy_complex_change</th>\n",
       "      <th>pcv_salt_equal_wt</th>\n",
       "      <th>pcv_salt_equal_self_wt</th>\n",
       "      <th>pcv_salt_equal_change</th>\n",
       "      <th>pcv_salt_equal_self_change</th>\n",
       "      <th>pcv_salt_opposite_wt</th>\n",
       "      <th>pcv_salt_opposite_self_wt</th>\n",
       "      <th>pcv_salt_opposite_change</th>\n",
       "      <th>pcv_salt_opposite_self_change</th>\n",
       "      <th>pcv_hbond_wt</th>\n",
       "      <th>pcv_hbond_self_wt</th>\n",
       "      <th>pcv_hbond_change</th>\n",
       "      <th>pcv_hbond_self_change</th>\n",
       "      <th>pcv_vdw_wt</th>\n",
       "      <th>pcv_vdw_self_wt</th>\n",
       "      <th>pcv_vdw_change</th>\n",
       "      <th>pcv_vdw_self_change</th>\n",
       "      <th>dataset</th>\n",
       "    </tr>\n",
       "  </thead>\n",
       "  <tbody>\n",
       "    <tr>\n",
       "      <th>0</th>\n",
       "      <td>P00648</td>\n",
       "      <td>Q151A</td>\n",
       "      <td>0.09</td>\n",
       "      <td>None</td>\n",
       "      <td>None</td>\n",
       "      <td>MMKMEGIALKKRLSWISVCLLVLVSAAGMLFSTAAKTETSSHKAHT...</td>\n",
       "      <td>24447509</td>\n",
       "      <td>Ribonuclease</td>\n",
       "      <td>100.0</td>\n",
       "      <td>100.0</td>\n",
       "      <td>1.0</td>\n",
       "      <td>-1.33777</td>\n",
       "      <td>-1.0</td>\n",
       "      <td>6.0</td>\n",
       "      <td>67.1770</td>\n",
       "      <td>0</td>\n",
       "      <td>-18.0192</td>\n",
       "      <td>-2.160</td>\n",
       "      <td>0.829500</td>\n",
       "      <td>41.52</td>\n",
       "      <td>-55.36</td>\n",
       "      <td>-26.85</td>\n",
       "      <td>-120.88</td>\n",
       "      <td>-7.04</td>\n",
       "      <td>159.06</td>\n",
       "      <td>-158.13</td>\n",
       "      <td>23.57</td>\n",
       "      <td>63.15</td>\n",
       "      <td>151.88</td>\n",
       "      <td>0.0</td>\n",
       "      <td>0.0</td>\n",
       "      <td>0.0</td>\n",
       "      <td>13.70</td>\n",
       "      <td>63.13</td>\n",
       "      <td>-1.96</td>\n",
       "      <td>0.0</td>\n",
       "      <td>0.0</td>\n",
       "      <td>0.0</td>\n",
       "      <td>0.0</td>\n",
       "      <td>0.36</td>\n",
       "      <td>0.0</td>\n",
       "      <td>110.0</td>\n",
       "      <td>-0.58</td>\n",
       "      <td>-0.02</td>\n",
       "      <td>0.78</td>\n",
       "      <td>0.43</td>\n",
       "      <td>0.00</td>\n",
       "      <td>-0.80</td>\n",
       "      <td>0.47</td>\n",
       "      <td>-0.28</td>\n",
       "      <td>-0.85</td>\n",
       "      <td>-0.28</td>\n",
       "      <td>0.0</td>\n",
       "      <td>0.0</td>\n",
       "      <td>0.0</td>\n",
       "      <td>-0.01</td>\n",
       "      <td>-0.11</td>\n",
       "      <td>0.00</td>\n",
       "      <td>0.0</td>\n",
       "      <td>0.0</td>\n",
       "      <td>0.0</td>\n",
       "      <td>0.0</td>\n",
       "      <td>0.0</td>\n",
       "      <td>0.0</td>\n",
       "      <td>0.0</td>\n",
       "      <td>0.0</td>\n",
       "      <td>0.0</td>\n",
       "      <td>0.0</td>\n",
       "      <td>0.0</td>\n",
       "      <td>0.0</td>\n",
       "      <td>0.0</td>\n",
       "      <td>0.0</td>\n",
       "      <td>0.0</td>\n",
       "      <td>0.0</td>\n",
       "      <td>0.0</td>\n",
       "      <td>0.0</td>\n",
       "      <td>0.0</td>\n",
       "      <td>14.0</td>\n",
       "      <td>0.0</td>\n",
       "      <td>0.0</td>\n",
       "      <td>alascan_gpk</td>\n",
       "    </tr>\n",
       "    <tr>\n",
       "      <th>1</th>\n",
       "      <td>P00648</td>\n",
       "      <td>I156A</td>\n",
       "      <td>1.63</td>\n",
       "      <td>None</td>\n",
       "      <td>None</td>\n",
       "      <td>MMKMEGIALKKRLSWISVCLLVLVSAAGMLFSTAAKTETSSHKAHT...</td>\n",
       "      <td>24447509</td>\n",
       "      <td>Ribonuclease</td>\n",
       "      <td>100.0</td>\n",
       "      <td>100.0</td>\n",
       "      <td>1.0</td>\n",
       "      <td>-1.33777</td>\n",
       "      <td>-2.0</td>\n",
       "      <td>0.0</td>\n",
       "      <td>13.6620</td>\n",
       "      <td>0</td>\n",
       "      <td>5.9086</td>\n",
       "      <td>-2.917</td>\n",
       "      <td>0.244914</td>\n",
       "      <td>41.46</td>\n",
       "      <td>-56.00</td>\n",
       "      <td>-27.66</td>\n",
       "      <td>-121.42</td>\n",
       "      <td>-6.92</td>\n",
       "      <td>159.87</td>\n",
       "      <td>-158.81</td>\n",
       "      <td>24.91</td>\n",
       "      <td>63.42</td>\n",
       "      <td>151.98</td>\n",
       "      <td>0.0</td>\n",
       "      <td>0.0</td>\n",
       "      <td>0.0</td>\n",
       "      <td>13.69</td>\n",
       "      <td>63.28</td>\n",
       "      <td>-1.96</td>\n",
       "      <td>0.0</td>\n",
       "      <td>0.0</td>\n",
       "      <td>0.0</td>\n",
       "      <td>0.0</td>\n",
       "      <td>0.36</td>\n",
       "      <td>0.0</td>\n",
       "      <td>110.0</td>\n",
       "      <td>-3.04</td>\n",
       "      <td>0.08</td>\n",
       "      <td>0.00</td>\n",
       "      <td>1.73</td>\n",
       "      <td>0.03</td>\n",
       "      <td>-1.25</td>\n",
       "      <td>3.03</td>\n",
       "      <td>-4.68</td>\n",
       "      <td>-1.21</td>\n",
       "      <td>-0.23</td>\n",
       "      <td>0.0</td>\n",
       "      <td>0.0</td>\n",
       "      <td>0.0</td>\n",
       "      <td>-0.55</td>\n",
       "      <td>-0.40</td>\n",
       "      <td>0.00</td>\n",
       "      <td>0.0</td>\n",
       "      <td>0.0</td>\n",
       "      <td>0.0</td>\n",
       "      <td>0.0</td>\n",
       "      <td>0.0</td>\n",
       "      <td>0.0</td>\n",
       "      <td>0.0</td>\n",
       "      <td>0.0</td>\n",
       "      <td>0.0</td>\n",
       "      <td>0.0</td>\n",
       "      <td>0.0</td>\n",
       "      <td>0.0</td>\n",
       "      <td>0.0</td>\n",
       "      <td>0.0</td>\n",
       "      <td>0.0</td>\n",
       "      <td>0.0</td>\n",
       "      <td>0.0</td>\n",
       "      <td>0.0</td>\n",
       "      <td>0.0</td>\n",
       "      <td>36.0</td>\n",
       "      <td>0.0</td>\n",
       "      <td>0.0</td>\n",
       "      <td>alascan_gpk</td>\n",
       "    </tr>\n",
       "    <tr>\n",
       "      <th>2</th>\n",
       "      <td>P00648</td>\n",
       "      <td>V57A</td>\n",
       "      <td>3.47</td>\n",
       "      <td>None</td>\n",
       "      <td>None</td>\n",
       "      <td>MMKMEGIALKKRLSWISVCLLVLVSAAGMLFSTAAKTETSSHKAHT...</td>\n",
       "      <td>24447509</td>\n",
       "      <td>Ribonuclease</td>\n",
       "      <td>100.0</td>\n",
       "      <td>100.0</td>\n",
       "      <td>1.0</td>\n",
       "      <td>-1.33777</td>\n",
       "      <td>0.0</td>\n",
       "      <td>4.0</td>\n",
       "      <td>0.0000</td>\n",
       "      <td>0</td>\n",
       "      <td>0.0000</td>\n",
       "      <td>-3.993</td>\n",
       "      <td>0.602505</td>\n",
       "      <td>42.11</td>\n",
       "      <td>-55.95</td>\n",
       "      <td>-27.66</td>\n",
       "      <td>-121.16</td>\n",
       "      <td>-7.00</td>\n",
       "      <td>159.86</td>\n",
       "      <td>-158.30</td>\n",
       "      <td>24.97</td>\n",
       "      <td>63.32</td>\n",
       "      <td>151.97</td>\n",
       "      <td>0.0</td>\n",
       "      <td>0.0</td>\n",
       "      <td>0.0</td>\n",
       "      <td>13.66</td>\n",
       "      <td>63.31</td>\n",
       "      <td>-1.96</td>\n",
       "      <td>0.0</td>\n",
       "      <td>0.0</td>\n",
       "      <td>0.0</td>\n",
       "      <td>0.0</td>\n",
       "      <td>0.36</td>\n",
       "      <td>0.0</td>\n",
       "      <td>110.0</td>\n",
       "      <td>1.03</td>\n",
       "      <td>0.01</td>\n",
       "      <td>0.02</td>\n",
       "      <td>1.04</td>\n",
       "      <td>0.00</td>\n",
       "      <td>-0.37</td>\n",
       "      <td>2.09</td>\n",
       "      <td>-0.26</td>\n",
       "      <td>-0.47</td>\n",
       "      <td>-0.22</td>\n",
       "      <td>0.0</td>\n",
       "      <td>0.0</td>\n",
       "      <td>0.0</td>\n",
       "      <td>-0.81</td>\n",
       "      <td>-0.06</td>\n",
       "      <td>0.00</td>\n",
       "      <td>0.0</td>\n",
       "      <td>0.0</td>\n",
       "      <td>0.0</td>\n",
       "      <td>0.0</td>\n",
       "      <td>0.0</td>\n",
       "      <td>0.0</td>\n",
       "      <td>0.0</td>\n",
       "      <td>0.0</td>\n",
       "      <td>0.0</td>\n",
       "      <td>0.0</td>\n",
       "      <td>0.0</td>\n",
       "      <td>0.0</td>\n",
       "      <td>0.0</td>\n",
       "      <td>0.0</td>\n",
       "      <td>0.0</td>\n",
       "      <td>0.0</td>\n",
       "      <td>0.0</td>\n",
       "      <td>0.0</td>\n",
       "      <td>0.0</td>\n",
       "      <td>54.0</td>\n",
       "      <td>0.0</td>\n",
       "      <td>0.0</td>\n",
       "      <td>alascan_gpk</td>\n",
       "    </tr>\n",
       "    <tr>\n",
       "      <th>3</th>\n",
       "      <td>P00648</td>\n",
       "      <td>D59A</td>\n",
       "      <td>0.39</td>\n",
       "      <td>None</td>\n",
       "      <td>None</td>\n",
       "      <td>MMKMEGIALKKRLSWISVCLLVLVSAAGMLFSTAAKTETSSHKAHT...</td>\n",
       "      <td>24447509</td>\n",
       "      <td>Ribonuclease</td>\n",
       "      <td>100.0</td>\n",
       "      <td>100.0</td>\n",
       "      <td>1.0</td>\n",
       "      <td>-1.33777</td>\n",
       "      <td>-2.0</td>\n",
       "      <td>4.0</td>\n",
       "      <td>52.7104</td>\n",
       "      <td>0</td>\n",
       "      <td>-4.6990</td>\n",
       "      <td>-4.217</td>\n",
       "      <td>1.360210</td>\n",
       "      <td>41.92</td>\n",
       "      <td>-56.37</td>\n",
       "      <td>-27.11</td>\n",
       "      <td>-121.18</td>\n",
       "      <td>-7.31</td>\n",
       "      <td>160.00</td>\n",
       "      <td>-158.13</td>\n",
       "      <td>24.97</td>\n",
       "      <td>63.01</td>\n",
       "      <td>152.13</td>\n",
       "      <td>0.0</td>\n",
       "      <td>0.0</td>\n",
       "      <td>0.0</td>\n",
       "      <td>13.58</td>\n",
       "      <td>63.11</td>\n",
       "      <td>-2.03</td>\n",
       "      <td>0.0</td>\n",
       "      <td>0.0</td>\n",
       "      <td>0.0</td>\n",
       "      <td>0.0</td>\n",
       "      <td>0.38</td>\n",
       "      <td>0.0</td>\n",
       "      <td>110.0</td>\n",
       "      <td>0.02</td>\n",
       "      <td>0.07</td>\n",
       "      <td>0.48</td>\n",
       "      <td>0.23</td>\n",
       "      <td>0.46</td>\n",
       "      <td>-0.73</td>\n",
       "      <td>0.09</td>\n",
       "      <td>0.00</td>\n",
       "      <td>-0.54</td>\n",
       "      <td>-0.24</td>\n",
       "      <td>0.0</td>\n",
       "      <td>0.0</td>\n",
       "      <td>0.0</td>\n",
       "      <td>-0.01</td>\n",
       "      <td>-0.18</td>\n",
       "      <td>0.19</td>\n",
       "      <td>0.0</td>\n",
       "      <td>0.0</td>\n",
       "      <td>0.0</td>\n",
       "      <td>0.0</td>\n",
       "      <td>0.0</td>\n",
       "      <td>0.0</td>\n",
       "      <td>0.0</td>\n",
       "      <td>0.0</td>\n",
       "      <td>0.0</td>\n",
       "      <td>0.0</td>\n",
       "      <td>0.0</td>\n",
       "      <td>1.0</td>\n",
       "      <td>0.0</td>\n",
       "      <td>0.0</td>\n",
       "      <td>0.0</td>\n",
       "      <td>0.0</td>\n",
       "      <td>0.0</td>\n",
       "      <td>0.0</td>\n",
       "      <td>0.0</td>\n",
       "      <td>17.0</td>\n",
       "      <td>0.0</td>\n",
       "      <td>0.0</td>\n",
       "      <td>alascan_gpk</td>\n",
       "    </tr>\n",
       "    <tr>\n",
       "      <th>4</th>\n",
       "      <td>P00648</td>\n",
       "      <td>Y60A</td>\n",
       "      <td>3</td>\n",
       "      <td>None</td>\n",
       "      <td>None</td>\n",
       "      <td>MMKMEGIALKKRLSWISVCLLVLVSAAGMLFSTAAKTETSSHKAHT...</td>\n",
       "      <td>24447509</td>\n",
       "      <td>Ribonuclease</td>\n",
       "      <td>100.0</td>\n",
       "      <td>100.0</td>\n",
       "      <td>1.0</td>\n",
       "      <td>-1.33777</td>\n",
       "      <td>-2.0</td>\n",
       "      <td>4.0</td>\n",
       "      <td>35.8754</td>\n",
       "      <td>0</td>\n",
       "      <td>-23.5427</td>\n",
       "      <td>-8.450</td>\n",
       "      <td>0.438801</td>\n",
       "      <td>41.49</td>\n",
       "      <td>-55.89</td>\n",
       "      <td>-27.55</td>\n",
       "      <td>-120.34</td>\n",
       "      <td>-6.98</td>\n",
       "      <td>158.39</td>\n",
       "      <td>-157.41</td>\n",
       "      <td>24.98</td>\n",
       "      <td>62.78</td>\n",
       "      <td>151.48</td>\n",
       "      <td>0.0</td>\n",
       "      <td>0.0</td>\n",
       "      <td>0.0</td>\n",
       "      <td>13.64</td>\n",
       "      <td>63.13</td>\n",
       "      <td>-1.98</td>\n",
       "      <td>0.0</td>\n",
       "      <td>0.0</td>\n",
       "      <td>0.0</td>\n",
       "      <td>0.0</td>\n",
       "      <td>0.36</td>\n",
       "      <td>0.0</td>\n",
       "      <td>110.0</td>\n",
       "      <td>1.71</td>\n",
       "      <td>0.15</td>\n",
       "      <td>0.00</td>\n",
       "      <td>1.36</td>\n",
       "      <td>-0.03</td>\n",
       "      <td>-0.35</td>\n",
       "      <td>2.38</td>\n",
       "      <td>-0.02</td>\n",
       "      <td>-1.27</td>\n",
       "      <td>-0.50</td>\n",
       "      <td>0.0</td>\n",
       "      <td>0.0</td>\n",
       "      <td>0.0</td>\n",
       "      <td>-0.01</td>\n",
       "      <td>-0.10</td>\n",
       "      <td>0.00</td>\n",
       "      <td>0.0</td>\n",
       "      <td>0.0</td>\n",
       "      <td>0.0</td>\n",
       "      <td>0.0</td>\n",
       "      <td>0.0</td>\n",
       "      <td>0.0</td>\n",
       "      <td>0.0</td>\n",
       "      <td>0.0</td>\n",
       "      <td>0.0</td>\n",
       "      <td>0.0</td>\n",
       "      <td>0.0</td>\n",
       "      <td>0.0</td>\n",
       "      <td>0.0</td>\n",
       "      <td>0.0</td>\n",
       "      <td>0.0</td>\n",
       "      <td>0.0</td>\n",
       "      <td>0.0</td>\n",
       "      <td>0.0</td>\n",
       "      <td>0.0</td>\n",
       "      <td>37.0</td>\n",
       "      <td>0.0</td>\n",
       "      <td>0.0</td>\n",
       "      <td>alascan_gpk</td>\n",
       "    </tr>\n",
       "  </tbody>\n",
       "</table>\n",
       "</div>"
      ],
      "text/plain": [
       "  uniprot_id uniprot_mutation ddg_exp del_score_exp del_class_exp                                   uniprot_sequence  uniprot_domain_id     pfam_clan  alignment_identity  alignment_coverage  alignment_score  norm_dope  matrix_score  secondary_structure_wt  solvent_accessibility_wt  secondary_structure_change  solvent_accessibility_change  provean_score       ddg  dg_wt  backbone_hbond_wt  sidechain_hbond_wt  van_der_waals_wt  electrostatics_wt  solvation_polar_wt  solvation_hydrophobic_wt  van_der_waals_clashes_wt  entropy_sidechain_wt  entropy_mainchain_wt  sloop_entropy_wt  mloop_entropy_wt  cis_bond_wt  torsional_clash_wt  backbone_clash_wt  helix_dipole_wt  water_bridge_wt  disulfide_wt  electrostatic_kon_wt  partial_covalent_bonds_wt  energy_ionisation_wt  entropy_complex_wt  number_of_residues  dg_change  backbone_hbond_change  sidechain_hbond_change  van_der_waals_change  electrostatics_change  solvation_polar_change  solvation_hydrophobic_change  van_der_waals_clashes_change  \\\n",
       "0     P00648            Q151A    0.09          None          None  MMKMEGIALKKRLSWISVCLLVLVSAAGMLFSTAAKTETSSHKAHT...           24447509  Ribonuclease               100.0               100.0              1.0   -1.33777          -1.0                     6.0                   67.1770                           0                      -18.0192         -2.160  0.829500  41.52             -55.36              -26.85           -120.88              -7.04              159.06                   -158.13                     23.57                 63.15                151.88               0.0               0.0          0.0               13.70              63.13            -1.96              0.0           0.0                   0.0                        0.0                  0.36                 0.0               110.0      -0.58                  -0.02                    0.78                  0.43                   0.00                   -0.80                          0.47                         -0.28   \n",
       "1     P00648            I156A    1.63          None          None  MMKMEGIALKKRLSWISVCLLVLVSAAGMLFSTAAKTETSSHKAHT...           24447509  Ribonuclease               100.0               100.0              1.0   -1.33777          -2.0                     0.0                   13.6620                           0                        5.9086         -2.917  0.244914  41.46             -56.00              -27.66           -121.42              -6.92              159.87                   -158.81                     24.91                 63.42                151.98               0.0               0.0          0.0               13.69              63.28            -1.96              0.0           0.0                   0.0                        0.0                  0.36                 0.0               110.0      -3.04                   0.08                    0.00                  1.73                   0.03                   -1.25                          3.03                         -4.68   \n",
       "2     P00648             V57A    3.47          None          None  MMKMEGIALKKRLSWISVCLLVLVSAAGMLFSTAAKTETSSHKAHT...           24447509  Ribonuclease               100.0               100.0              1.0   -1.33777           0.0                     4.0                    0.0000                           0                        0.0000         -3.993  0.602505  42.11             -55.95              -27.66           -121.16              -7.00              159.86                   -158.30                     24.97                 63.32                151.97               0.0               0.0          0.0               13.66              63.31            -1.96              0.0           0.0                   0.0                        0.0                  0.36                 0.0               110.0       1.03                   0.01                    0.02                  1.04                   0.00                   -0.37                          2.09                         -0.26   \n",
       "3     P00648             D59A    0.39          None          None  MMKMEGIALKKRLSWISVCLLVLVSAAGMLFSTAAKTETSSHKAHT...           24447509  Ribonuclease               100.0               100.0              1.0   -1.33777          -2.0                     4.0                   52.7104                           0                       -4.6990         -4.217  1.360210  41.92             -56.37              -27.11           -121.18              -7.31              160.00                   -158.13                     24.97                 63.01                152.13               0.0               0.0          0.0               13.58              63.11            -2.03              0.0           0.0                   0.0                        0.0                  0.38                 0.0               110.0       0.02                   0.07                    0.48                  0.23                   0.46                   -0.73                          0.09                          0.00   \n",
       "4     P00648             Y60A       3          None          None  MMKMEGIALKKRLSWISVCLLVLVSAAGMLFSTAAKTETSSHKAHT...           24447509  Ribonuclease               100.0               100.0              1.0   -1.33777          -2.0                     4.0                   35.8754                           0                      -23.5427         -8.450  0.438801  41.49             -55.89              -27.55           -120.34              -6.98              158.39                   -157.41                     24.98                 62.78                151.48               0.0               0.0          0.0               13.64              63.13            -1.98              0.0           0.0                   0.0                        0.0                  0.36                 0.0               110.0       1.71                   0.15                    0.00                  1.36                  -0.03                   -0.35                          2.38                         -0.02   \n",
       "\n",
       "   entropy_sidechain_change  entropy_mainchain_change  sloop_entropy_change  mloop_entropy_change  cis_bond_change  torsional_clash_change  backbone_clash_change  helix_dipole_change  water_bridge_change  disulfide_change  electrostatic_kon_change  partial_covalent_bonds_change  energy_ionisation_change  entropy_complex_change  pcv_salt_equal_wt  pcv_salt_equal_self_wt  pcv_salt_equal_change  pcv_salt_equal_self_change  pcv_salt_opposite_wt  pcv_salt_opposite_self_wt  pcv_salt_opposite_change  pcv_salt_opposite_self_change  pcv_hbond_wt  pcv_hbond_self_wt  pcv_hbond_change  pcv_hbond_self_change  pcv_vdw_wt  pcv_vdw_self_wt  pcv_vdw_change  pcv_vdw_self_change      dataset  \n",
       "0                     -0.85                     -0.28                   0.0                   0.0              0.0                   -0.01                  -0.11                 0.00                  0.0               0.0                       0.0                            0.0                       0.0                     0.0                0.0                     0.0                    0.0                         0.0                   0.0                        0.0                       0.0                            0.0           0.0                0.0               0.0                    0.0         0.0             14.0             0.0                  0.0  alascan_gpk  \n",
       "1                     -1.21                     -0.23                   0.0                   0.0              0.0                   -0.55                  -0.40                 0.00                  0.0               0.0                       0.0                            0.0                       0.0                     0.0                0.0                     0.0                    0.0                         0.0                   0.0                        0.0                       0.0                            0.0           0.0                0.0               0.0                    0.0         0.0             36.0             0.0                  0.0  alascan_gpk  \n",
       "2                     -0.47                     -0.22                   0.0                   0.0              0.0                   -0.81                  -0.06                 0.00                  0.0               0.0                       0.0                            0.0                       0.0                     0.0                0.0                     0.0                    0.0                         0.0                   0.0                        0.0                       0.0                            0.0           0.0                0.0               0.0                    0.0         0.0             54.0             0.0                  0.0  alascan_gpk  \n",
       "3                     -0.54                     -0.24                   0.0                   0.0              0.0                   -0.01                  -0.18                 0.19                  0.0               0.0                       0.0                            0.0                       0.0                     0.0                0.0                     0.0                    0.0                         0.0                   0.0                        1.0                       0.0                            0.0           0.0                0.0               0.0                    0.0         0.0             17.0             0.0                  0.0  alascan_gpk  \n",
       "4                     -1.27                     -0.50                   0.0                   0.0              0.0                   -0.01                  -0.10                 0.00                  0.0               0.0                       0.0                            0.0                       0.0                     0.0                0.0                     0.0                    0.0                         0.0                   0.0                        0.0                       0.0                            0.0           0.0                0.0               0.0                    0.0         0.0             37.0             0.0                  0.0  alascan_gpk  "
      ]
     },
     "execution_count": 7,
     "metadata": {},
     "output_type": "execute_result"
    }
   ],
   "source": [
    "TRAINING_SETS['protherm'].head()"
   ]
  },
  {
   "cell_type": "markdown",
   "metadata": {},
   "source": [
    "## all_mutations_ddg"
   ]
  },
  {
   "cell_type": "code",
   "execution_count": 8,
   "metadata": {
    "collapsed": true
   },
   "outputs": [],
   "source": [
    "all_mutations_ddg = pd.concat([\n",
    "    TRAINING_SETS['protherm'],\n",
    "    TRAINING_SETS['taipale'],\n",
    "], ignore_index=True)\n",
    "\n",
    "assert all_mutations_ddg.drop_duplicates().shape[0] == all_mutations_ddg.shape[0]"
   ]
  },
  {
   "cell_type": "code",
   "execution_count": 9,
   "metadata": {
    "collapsed": false
   },
   "outputs": [
    {
     "data": {
      "text/html": [
       "<div>\n",
       "<table border=\"1\" class=\"dataframe\">\n",
       "  <thead>\n",
       "    <tr style=\"text-align: right;\">\n",
       "      <th></th>\n",
       "      <th>uniprot_id</th>\n",
       "      <th>uniprot_mutation</th>\n",
       "      <th>ddg_exp</th>\n",
       "      <th>del_score_exp</th>\n",
       "      <th>del_class_exp</th>\n",
       "      <th>uniprot_sequence</th>\n",
       "      <th>uniprot_domain_id</th>\n",
       "      <th>pfam_clan</th>\n",
       "      <th>alignment_identity</th>\n",
       "      <th>alignment_coverage</th>\n",
       "      <th>alignment_score</th>\n",
       "      <th>norm_dope</th>\n",
       "      <th>matrix_score</th>\n",
       "      <th>secondary_structure_wt</th>\n",
       "      <th>solvent_accessibility_wt</th>\n",
       "      <th>secondary_structure_change</th>\n",
       "      <th>solvent_accessibility_change</th>\n",
       "      <th>provean_score</th>\n",
       "      <th>ddg</th>\n",
       "      <th>dg_wt</th>\n",
       "      <th>backbone_hbond_wt</th>\n",
       "      <th>sidechain_hbond_wt</th>\n",
       "      <th>van_der_waals_wt</th>\n",
       "      <th>electrostatics_wt</th>\n",
       "      <th>solvation_polar_wt</th>\n",
       "      <th>solvation_hydrophobic_wt</th>\n",
       "      <th>van_der_waals_clashes_wt</th>\n",
       "      <th>entropy_sidechain_wt</th>\n",
       "      <th>entropy_mainchain_wt</th>\n",
       "      <th>sloop_entropy_wt</th>\n",
       "      <th>mloop_entropy_wt</th>\n",
       "      <th>cis_bond_wt</th>\n",
       "      <th>torsional_clash_wt</th>\n",
       "      <th>backbone_clash_wt</th>\n",
       "      <th>helix_dipole_wt</th>\n",
       "      <th>water_bridge_wt</th>\n",
       "      <th>disulfide_wt</th>\n",
       "      <th>electrostatic_kon_wt</th>\n",
       "      <th>partial_covalent_bonds_wt</th>\n",
       "      <th>energy_ionisation_wt</th>\n",
       "      <th>entropy_complex_wt</th>\n",
       "      <th>number_of_residues</th>\n",
       "      <th>dg_change</th>\n",
       "      <th>backbone_hbond_change</th>\n",
       "      <th>sidechain_hbond_change</th>\n",
       "      <th>van_der_waals_change</th>\n",
       "      <th>electrostatics_change</th>\n",
       "      <th>solvation_polar_change</th>\n",
       "      <th>solvation_hydrophobic_change</th>\n",
       "      <th>van_der_waals_clashes_change</th>\n",
       "      <th>entropy_sidechain_change</th>\n",
       "      <th>entropy_mainchain_change</th>\n",
       "      <th>sloop_entropy_change</th>\n",
       "      <th>mloop_entropy_change</th>\n",
       "      <th>cis_bond_change</th>\n",
       "      <th>torsional_clash_change</th>\n",
       "      <th>backbone_clash_change</th>\n",
       "      <th>helix_dipole_change</th>\n",
       "      <th>water_bridge_change</th>\n",
       "      <th>disulfide_change</th>\n",
       "      <th>electrostatic_kon_change</th>\n",
       "      <th>partial_covalent_bonds_change</th>\n",
       "      <th>energy_ionisation_change</th>\n",
       "      <th>entropy_complex_change</th>\n",
       "      <th>pcv_salt_equal_wt</th>\n",
       "      <th>pcv_salt_equal_self_wt</th>\n",
       "      <th>pcv_salt_equal_change</th>\n",
       "      <th>pcv_salt_equal_self_change</th>\n",
       "      <th>pcv_salt_opposite_wt</th>\n",
       "      <th>pcv_salt_opposite_self_wt</th>\n",
       "      <th>pcv_salt_opposite_change</th>\n",
       "      <th>pcv_salt_opposite_self_change</th>\n",
       "      <th>pcv_hbond_wt</th>\n",
       "      <th>pcv_hbond_self_wt</th>\n",
       "      <th>pcv_hbond_change</th>\n",
       "      <th>pcv_hbond_self_change</th>\n",
       "      <th>pcv_vdw_wt</th>\n",
       "      <th>pcv_vdw_self_wt</th>\n",
       "      <th>pcv_vdw_change</th>\n",
       "      <th>pcv_vdw_self_change</th>\n",
       "      <th>dataset</th>\n",
       "    </tr>\n",
       "  </thead>\n",
       "  <tbody>\n",
       "    <tr>\n",
       "      <th>0</th>\n",
       "      <td>P00648</td>\n",
       "      <td>Q151A</td>\n",
       "      <td>0.09</td>\n",
       "      <td>None</td>\n",
       "      <td>None</td>\n",
       "      <td>MMKMEGIALKKRLSWISVCLLVLVSAAGMLFSTAAKTETSSHKAHT...</td>\n",
       "      <td>24447509</td>\n",
       "      <td>Ribonuclease</td>\n",
       "      <td>100.0</td>\n",
       "      <td>100.0</td>\n",
       "      <td>1.0</td>\n",
       "      <td>-1.33777</td>\n",
       "      <td>-1.0</td>\n",
       "      <td>6.0</td>\n",
       "      <td>67.1770</td>\n",
       "      <td>0</td>\n",
       "      <td>-18.0192</td>\n",
       "      <td>-2.160</td>\n",
       "      <td>0.829500</td>\n",
       "      <td>41.52</td>\n",
       "      <td>-55.36</td>\n",
       "      <td>-26.85</td>\n",
       "      <td>-120.88</td>\n",
       "      <td>-7.04</td>\n",
       "      <td>159.06</td>\n",
       "      <td>-158.13</td>\n",
       "      <td>23.57</td>\n",
       "      <td>63.15</td>\n",
       "      <td>151.88</td>\n",
       "      <td>0.0</td>\n",
       "      <td>0.0</td>\n",
       "      <td>0.0</td>\n",
       "      <td>13.70</td>\n",
       "      <td>63.13</td>\n",
       "      <td>-1.96</td>\n",
       "      <td>0.0</td>\n",
       "      <td>0.0</td>\n",
       "      <td>0.0</td>\n",
       "      <td>0.0</td>\n",
       "      <td>0.36</td>\n",
       "      <td>0.0</td>\n",
       "      <td>110.0</td>\n",
       "      <td>-0.58</td>\n",
       "      <td>-0.02</td>\n",
       "      <td>0.78</td>\n",
       "      <td>0.43</td>\n",
       "      <td>0.00</td>\n",
       "      <td>-0.80</td>\n",
       "      <td>0.47</td>\n",
       "      <td>-0.28</td>\n",
       "      <td>-0.85</td>\n",
       "      <td>-0.28</td>\n",
       "      <td>0.0</td>\n",
       "      <td>0.0</td>\n",
       "      <td>0.0</td>\n",
       "      <td>-0.01</td>\n",
       "      <td>-0.11</td>\n",
       "      <td>0.00</td>\n",
       "      <td>0.0</td>\n",
       "      <td>0.0</td>\n",
       "      <td>0.0</td>\n",
       "      <td>0.0</td>\n",
       "      <td>0.0</td>\n",
       "      <td>0.0</td>\n",
       "      <td>0.0</td>\n",
       "      <td>0.0</td>\n",
       "      <td>0.0</td>\n",
       "      <td>0.0</td>\n",
       "      <td>0.0</td>\n",
       "      <td>0.0</td>\n",
       "      <td>0.0</td>\n",
       "      <td>0.0</td>\n",
       "      <td>0.0</td>\n",
       "      <td>0.0</td>\n",
       "      <td>0.0</td>\n",
       "      <td>0.0</td>\n",
       "      <td>0.0</td>\n",
       "      <td>14.0</td>\n",
       "      <td>0.0</td>\n",
       "      <td>0.0</td>\n",
       "      <td>alascan_gpk</td>\n",
       "    </tr>\n",
       "    <tr>\n",
       "      <th>1</th>\n",
       "      <td>P00648</td>\n",
       "      <td>I156A</td>\n",
       "      <td>1.63</td>\n",
       "      <td>None</td>\n",
       "      <td>None</td>\n",
       "      <td>MMKMEGIALKKRLSWISVCLLVLVSAAGMLFSTAAKTETSSHKAHT...</td>\n",
       "      <td>24447509</td>\n",
       "      <td>Ribonuclease</td>\n",
       "      <td>100.0</td>\n",
       "      <td>100.0</td>\n",
       "      <td>1.0</td>\n",
       "      <td>-1.33777</td>\n",
       "      <td>-2.0</td>\n",
       "      <td>0.0</td>\n",
       "      <td>13.6620</td>\n",
       "      <td>0</td>\n",
       "      <td>5.9086</td>\n",
       "      <td>-2.917</td>\n",
       "      <td>0.244914</td>\n",
       "      <td>41.46</td>\n",
       "      <td>-56.00</td>\n",
       "      <td>-27.66</td>\n",
       "      <td>-121.42</td>\n",
       "      <td>-6.92</td>\n",
       "      <td>159.87</td>\n",
       "      <td>-158.81</td>\n",
       "      <td>24.91</td>\n",
       "      <td>63.42</td>\n",
       "      <td>151.98</td>\n",
       "      <td>0.0</td>\n",
       "      <td>0.0</td>\n",
       "      <td>0.0</td>\n",
       "      <td>13.69</td>\n",
       "      <td>63.28</td>\n",
       "      <td>-1.96</td>\n",
       "      <td>0.0</td>\n",
       "      <td>0.0</td>\n",
       "      <td>0.0</td>\n",
       "      <td>0.0</td>\n",
       "      <td>0.36</td>\n",
       "      <td>0.0</td>\n",
       "      <td>110.0</td>\n",
       "      <td>-3.04</td>\n",
       "      <td>0.08</td>\n",
       "      <td>0.00</td>\n",
       "      <td>1.73</td>\n",
       "      <td>0.03</td>\n",
       "      <td>-1.25</td>\n",
       "      <td>3.03</td>\n",
       "      <td>-4.68</td>\n",
       "      <td>-1.21</td>\n",
       "      <td>-0.23</td>\n",
       "      <td>0.0</td>\n",
       "      <td>0.0</td>\n",
       "      <td>0.0</td>\n",
       "      <td>-0.55</td>\n",
       "      <td>-0.40</td>\n",
       "      <td>0.00</td>\n",
       "      <td>0.0</td>\n",
       "      <td>0.0</td>\n",
       "      <td>0.0</td>\n",
       "      <td>0.0</td>\n",
       "      <td>0.0</td>\n",
       "      <td>0.0</td>\n",
       "      <td>0.0</td>\n",
       "      <td>0.0</td>\n",
       "      <td>0.0</td>\n",
       "      <td>0.0</td>\n",
       "      <td>0.0</td>\n",
       "      <td>0.0</td>\n",
       "      <td>0.0</td>\n",
       "      <td>0.0</td>\n",
       "      <td>0.0</td>\n",
       "      <td>0.0</td>\n",
       "      <td>0.0</td>\n",
       "      <td>0.0</td>\n",
       "      <td>0.0</td>\n",
       "      <td>36.0</td>\n",
       "      <td>0.0</td>\n",
       "      <td>0.0</td>\n",
       "      <td>alascan_gpk</td>\n",
       "    </tr>\n",
       "    <tr>\n",
       "      <th>2</th>\n",
       "      <td>P00648</td>\n",
       "      <td>V57A</td>\n",
       "      <td>3.47</td>\n",
       "      <td>None</td>\n",
       "      <td>None</td>\n",
       "      <td>MMKMEGIALKKRLSWISVCLLVLVSAAGMLFSTAAKTETSSHKAHT...</td>\n",
       "      <td>24447509</td>\n",
       "      <td>Ribonuclease</td>\n",
       "      <td>100.0</td>\n",
       "      <td>100.0</td>\n",
       "      <td>1.0</td>\n",
       "      <td>-1.33777</td>\n",
       "      <td>0.0</td>\n",
       "      <td>4.0</td>\n",
       "      <td>0.0000</td>\n",
       "      <td>0</td>\n",
       "      <td>0.0000</td>\n",
       "      <td>-3.993</td>\n",
       "      <td>0.602505</td>\n",
       "      <td>42.11</td>\n",
       "      <td>-55.95</td>\n",
       "      <td>-27.66</td>\n",
       "      <td>-121.16</td>\n",
       "      <td>-7.00</td>\n",
       "      <td>159.86</td>\n",
       "      <td>-158.30</td>\n",
       "      <td>24.97</td>\n",
       "      <td>63.32</td>\n",
       "      <td>151.97</td>\n",
       "      <td>0.0</td>\n",
       "      <td>0.0</td>\n",
       "      <td>0.0</td>\n",
       "      <td>13.66</td>\n",
       "      <td>63.31</td>\n",
       "      <td>-1.96</td>\n",
       "      <td>0.0</td>\n",
       "      <td>0.0</td>\n",
       "      <td>0.0</td>\n",
       "      <td>0.0</td>\n",
       "      <td>0.36</td>\n",
       "      <td>0.0</td>\n",
       "      <td>110.0</td>\n",
       "      <td>1.03</td>\n",
       "      <td>0.01</td>\n",
       "      <td>0.02</td>\n",
       "      <td>1.04</td>\n",
       "      <td>0.00</td>\n",
       "      <td>-0.37</td>\n",
       "      <td>2.09</td>\n",
       "      <td>-0.26</td>\n",
       "      <td>-0.47</td>\n",
       "      <td>-0.22</td>\n",
       "      <td>0.0</td>\n",
       "      <td>0.0</td>\n",
       "      <td>0.0</td>\n",
       "      <td>-0.81</td>\n",
       "      <td>-0.06</td>\n",
       "      <td>0.00</td>\n",
       "      <td>0.0</td>\n",
       "      <td>0.0</td>\n",
       "      <td>0.0</td>\n",
       "      <td>0.0</td>\n",
       "      <td>0.0</td>\n",
       "      <td>0.0</td>\n",
       "      <td>0.0</td>\n",
       "      <td>0.0</td>\n",
       "      <td>0.0</td>\n",
       "      <td>0.0</td>\n",
       "      <td>0.0</td>\n",
       "      <td>0.0</td>\n",
       "      <td>0.0</td>\n",
       "      <td>0.0</td>\n",
       "      <td>0.0</td>\n",
       "      <td>0.0</td>\n",
       "      <td>0.0</td>\n",
       "      <td>0.0</td>\n",
       "      <td>0.0</td>\n",
       "      <td>54.0</td>\n",
       "      <td>0.0</td>\n",
       "      <td>0.0</td>\n",
       "      <td>alascan_gpk</td>\n",
       "    </tr>\n",
       "    <tr>\n",
       "      <th>3</th>\n",
       "      <td>P00648</td>\n",
       "      <td>D59A</td>\n",
       "      <td>0.39</td>\n",
       "      <td>None</td>\n",
       "      <td>None</td>\n",
       "      <td>MMKMEGIALKKRLSWISVCLLVLVSAAGMLFSTAAKTETSSHKAHT...</td>\n",
       "      <td>24447509</td>\n",
       "      <td>Ribonuclease</td>\n",
       "      <td>100.0</td>\n",
       "      <td>100.0</td>\n",
       "      <td>1.0</td>\n",
       "      <td>-1.33777</td>\n",
       "      <td>-2.0</td>\n",
       "      <td>4.0</td>\n",
       "      <td>52.7104</td>\n",
       "      <td>0</td>\n",
       "      <td>-4.6990</td>\n",
       "      <td>-4.217</td>\n",
       "      <td>1.360210</td>\n",
       "      <td>41.92</td>\n",
       "      <td>-56.37</td>\n",
       "      <td>-27.11</td>\n",
       "      <td>-121.18</td>\n",
       "      <td>-7.31</td>\n",
       "      <td>160.00</td>\n",
       "      <td>-158.13</td>\n",
       "      <td>24.97</td>\n",
       "      <td>63.01</td>\n",
       "      <td>152.13</td>\n",
       "      <td>0.0</td>\n",
       "      <td>0.0</td>\n",
       "      <td>0.0</td>\n",
       "      <td>13.58</td>\n",
       "      <td>63.11</td>\n",
       "      <td>-2.03</td>\n",
       "      <td>0.0</td>\n",
       "      <td>0.0</td>\n",
       "      <td>0.0</td>\n",
       "      <td>0.0</td>\n",
       "      <td>0.38</td>\n",
       "      <td>0.0</td>\n",
       "      <td>110.0</td>\n",
       "      <td>0.02</td>\n",
       "      <td>0.07</td>\n",
       "      <td>0.48</td>\n",
       "      <td>0.23</td>\n",
       "      <td>0.46</td>\n",
       "      <td>-0.73</td>\n",
       "      <td>0.09</td>\n",
       "      <td>0.00</td>\n",
       "      <td>-0.54</td>\n",
       "      <td>-0.24</td>\n",
       "      <td>0.0</td>\n",
       "      <td>0.0</td>\n",
       "      <td>0.0</td>\n",
       "      <td>-0.01</td>\n",
       "      <td>-0.18</td>\n",
       "      <td>0.19</td>\n",
       "      <td>0.0</td>\n",
       "      <td>0.0</td>\n",
       "      <td>0.0</td>\n",
       "      <td>0.0</td>\n",
       "      <td>0.0</td>\n",
       "      <td>0.0</td>\n",
       "      <td>0.0</td>\n",
       "      <td>0.0</td>\n",
       "      <td>0.0</td>\n",
       "      <td>0.0</td>\n",
       "      <td>0.0</td>\n",
       "      <td>1.0</td>\n",
       "      <td>0.0</td>\n",
       "      <td>0.0</td>\n",
       "      <td>0.0</td>\n",
       "      <td>0.0</td>\n",
       "      <td>0.0</td>\n",
       "      <td>0.0</td>\n",
       "      <td>0.0</td>\n",
       "      <td>17.0</td>\n",
       "      <td>0.0</td>\n",
       "      <td>0.0</td>\n",
       "      <td>alascan_gpk</td>\n",
       "    </tr>\n",
       "    <tr>\n",
       "      <th>4</th>\n",
       "      <td>P00648</td>\n",
       "      <td>Y60A</td>\n",
       "      <td>3</td>\n",
       "      <td>None</td>\n",
       "      <td>None</td>\n",
       "      <td>MMKMEGIALKKRLSWISVCLLVLVSAAGMLFSTAAKTETSSHKAHT...</td>\n",
       "      <td>24447509</td>\n",
       "      <td>Ribonuclease</td>\n",
       "      <td>100.0</td>\n",
       "      <td>100.0</td>\n",
       "      <td>1.0</td>\n",
       "      <td>-1.33777</td>\n",
       "      <td>-2.0</td>\n",
       "      <td>4.0</td>\n",
       "      <td>35.8754</td>\n",
       "      <td>0</td>\n",
       "      <td>-23.5427</td>\n",
       "      <td>-8.450</td>\n",
       "      <td>0.438801</td>\n",
       "      <td>41.49</td>\n",
       "      <td>-55.89</td>\n",
       "      <td>-27.55</td>\n",
       "      <td>-120.34</td>\n",
       "      <td>-6.98</td>\n",
       "      <td>158.39</td>\n",
       "      <td>-157.41</td>\n",
       "      <td>24.98</td>\n",
       "      <td>62.78</td>\n",
       "      <td>151.48</td>\n",
       "      <td>0.0</td>\n",
       "      <td>0.0</td>\n",
       "      <td>0.0</td>\n",
       "      <td>13.64</td>\n",
       "      <td>63.13</td>\n",
       "      <td>-1.98</td>\n",
       "      <td>0.0</td>\n",
       "      <td>0.0</td>\n",
       "      <td>0.0</td>\n",
       "      <td>0.0</td>\n",
       "      <td>0.36</td>\n",
       "      <td>0.0</td>\n",
       "      <td>110.0</td>\n",
       "      <td>1.71</td>\n",
       "      <td>0.15</td>\n",
       "      <td>0.00</td>\n",
       "      <td>1.36</td>\n",
       "      <td>-0.03</td>\n",
       "      <td>-0.35</td>\n",
       "      <td>2.38</td>\n",
       "      <td>-0.02</td>\n",
       "      <td>-1.27</td>\n",
       "      <td>-0.50</td>\n",
       "      <td>0.0</td>\n",
       "      <td>0.0</td>\n",
       "      <td>0.0</td>\n",
       "      <td>-0.01</td>\n",
       "      <td>-0.10</td>\n",
       "      <td>0.00</td>\n",
       "      <td>0.0</td>\n",
       "      <td>0.0</td>\n",
       "      <td>0.0</td>\n",
       "      <td>0.0</td>\n",
       "      <td>0.0</td>\n",
       "      <td>0.0</td>\n",
       "      <td>0.0</td>\n",
       "      <td>0.0</td>\n",
       "      <td>0.0</td>\n",
       "      <td>0.0</td>\n",
       "      <td>0.0</td>\n",
       "      <td>0.0</td>\n",
       "      <td>0.0</td>\n",
       "      <td>0.0</td>\n",
       "      <td>0.0</td>\n",
       "      <td>0.0</td>\n",
       "      <td>0.0</td>\n",
       "      <td>0.0</td>\n",
       "      <td>0.0</td>\n",
       "      <td>37.0</td>\n",
       "      <td>0.0</td>\n",
       "      <td>0.0</td>\n",
       "      <td>alascan_gpk</td>\n",
       "    </tr>\n",
       "  </tbody>\n",
       "</table>\n",
       "</div>"
      ],
      "text/plain": [
       "  uniprot_id uniprot_mutation ddg_exp del_score_exp del_class_exp                                   uniprot_sequence  uniprot_domain_id     pfam_clan  alignment_identity  alignment_coverage  alignment_score  norm_dope  matrix_score  secondary_structure_wt  solvent_accessibility_wt  secondary_structure_change  solvent_accessibility_change  provean_score       ddg  dg_wt  backbone_hbond_wt  sidechain_hbond_wt  van_der_waals_wt  electrostatics_wt  solvation_polar_wt  solvation_hydrophobic_wt  van_der_waals_clashes_wt  entropy_sidechain_wt  entropy_mainchain_wt  sloop_entropy_wt  mloop_entropy_wt  cis_bond_wt  torsional_clash_wt  backbone_clash_wt  helix_dipole_wt  water_bridge_wt  disulfide_wt  electrostatic_kon_wt  partial_covalent_bonds_wt  energy_ionisation_wt  entropy_complex_wt  number_of_residues  dg_change  backbone_hbond_change  sidechain_hbond_change  van_der_waals_change  electrostatics_change  solvation_polar_change  solvation_hydrophobic_change  van_der_waals_clashes_change  \\\n",
       "0     P00648            Q151A    0.09          None          None  MMKMEGIALKKRLSWISVCLLVLVSAAGMLFSTAAKTETSSHKAHT...           24447509  Ribonuclease               100.0               100.0              1.0   -1.33777          -1.0                     6.0                   67.1770                           0                      -18.0192         -2.160  0.829500  41.52             -55.36              -26.85           -120.88              -7.04              159.06                   -158.13                     23.57                 63.15                151.88               0.0               0.0          0.0               13.70              63.13            -1.96              0.0           0.0                   0.0                        0.0                  0.36                 0.0               110.0      -0.58                  -0.02                    0.78                  0.43                   0.00                   -0.80                          0.47                         -0.28   \n",
       "1     P00648            I156A    1.63          None          None  MMKMEGIALKKRLSWISVCLLVLVSAAGMLFSTAAKTETSSHKAHT...           24447509  Ribonuclease               100.0               100.0              1.0   -1.33777          -2.0                     0.0                   13.6620                           0                        5.9086         -2.917  0.244914  41.46             -56.00              -27.66           -121.42              -6.92              159.87                   -158.81                     24.91                 63.42                151.98               0.0               0.0          0.0               13.69              63.28            -1.96              0.0           0.0                   0.0                        0.0                  0.36                 0.0               110.0      -3.04                   0.08                    0.00                  1.73                   0.03                   -1.25                          3.03                         -4.68   \n",
       "2     P00648             V57A    3.47          None          None  MMKMEGIALKKRLSWISVCLLVLVSAAGMLFSTAAKTETSSHKAHT...           24447509  Ribonuclease               100.0               100.0              1.0   -1.33777           0.0                     4.0                    0.0000                           0                        0.0000         -3.993  0.602505  42.11             -55.95              -27.66           -121.16              -7.00              159.86                   -158.30                     24.97                 63.32                151.97               0.0               0.0          0.0               13.66              63.31            -1.96              0.0           0.0                   0.0                        0.0                  0.36                 0.0               110.0       1.03                   0.01                    0.02                  1.04                   0.00                   -0.37                          2.09                         -0.26   \n",
       "3     P00648             D59A    0.39          None          None  MMKMEGIALKKRLSWISVCLLVLVSAAGMLFSTAAKTETSSHKAHT...           24447509  Ribonuclease               100.0               100.0              1.0   -1.33777          -2.0                     4.0                   52.7104                           0                       -4.6990         -4.217  1.360210  41.92             -56.37              -27.11           -121.18              -7.31              160.00                   -158.13                     24.97                 63.01                152.13               0.0               0.0          0.0               13.58              63.11            -2.03              0.0           0.0                   0.0                        0.0                  0.38                 0.0               110.0       0.02                   0.07                    0.48                  0.23                   0.46                   -0.73                          0.09                          0.00   \n",
       "4     P00648             Y60A       3          None          None  MMKMEGIALKKRLSWISVCLLVLVSAAGMLFSTAAKTETSSHKAHT...           24447509  Ribonuclease               100.0               100.0              1.0   -1.33777          -2.0                     4.0                   35.8754                           0                      -23.5427         -8.450  0.438801  41.49             -55.89              -27.55           -120.34              -6.98              158.39                   -157.41                     24.98                 62.78                151.48               0.0               0.0          0.0               13.64              63.13            -1.98              0.0           0.0                   0.0                        0.0                  0.36                 0.0               110.0       1.71                   0.15                    0.00                  1.36                  -0.03                   -0.35                          2.38                         -0.02   \n",
       "\n",
       "   entropy_sidechain_change  entropy_mainchain_change  sloop_entropy_change  mloop_entropy_change  cis_bond_change  torsional_clash_change  backbone_clash_change  helix_dipole_change  water_bridge_change  disulfide_change  electrostatic_kon_change  partial_covalent_bonds_change  energy_ionisation_change  entropy_complex_change  pcv_salt_equal_wt  pcv_salt_equal_self_wt  pcv_salt_equal_change  pcv_salt_equal_self_change  pcv_salt_opposite_wt  pcv_salt_opposite_self_wt  pcv_salt_opposite_change  pcv_salt_opposite_self_change  pcv_hbond_wt  pcv_hbond_self_wt  pcv_hbond_change  pcv_hbond_self_change  pcv_vdw_wt  pcv_vdw_self_wt  pcv_vdw_change  pcv_vdw_self_change      dataset  \n",
       "0                     -0.85                     -0.28                   0.0                   0.0              0.0                   -0.01                  -0.11                 0.00                  0.0               0.0                       0.0                            0.0                       0.0                     0.0                0.0                     0.0                    0.0                         0.0                   0.0                        0.0                       0.0                            0.0           0.0                0.0               0.0                    0.0         0.0             14.0             0.0                  0.0  alascan_gpk  \n",
       "1                     -1.21                     -0.23                   0.0                   0.0              0.0                   -0.55                  -0.40                 0.00                  0.0               0.0                       0.0                            0.0                       0.0                     0.0                0.0                     0.0                    0.0                         0.0                   0.0                        0.0                       0.0                            0.0           0.0                0.0               0.0                    0.0         0.0             36.0             0.0                  0.0  alascan_gpk  \n",
       "2                     -0.47                     -0.22                   0.0                   0.0              0.0                   -0.81                  -0.06                 0.00                  0.0               0.0                       0.0                            0.0                       0.0                     0.0                0.0                     0.0                    0.0                         0.0                   0.0                        0.0                       0.0                            0.0           0.0                0.0               0.0                    0.0         0.0             54.0             0.0                  0.0  alascan_gpk  \n",
       "3                     -0.54                     -0.24                   0.0                   0.0              0.0                   -0.01                  -0.18                 0.19                  0.0               0.0                       0.0                            0.0                       0.0                     0.0                0.0                     0.0                    0.0                         0.0                   0.0                        1.0                       0.0                            0.0           0.0                0.0               0.0                    0.0         0.0             17.0             0.0                  0.0  alascan_gpk  \n",
       "4                     -1.27                     -0.50                   0.0                   0.0              0.0                   -0.01                  -0.10                 0.00                  0.0               0.0                       0.0                            0.0                       0.0                     0.0                0.0                     0.0                    0.0                         0.0                   0.0                        0.0                       0.0                            0.0           0.0                0.0               0.0                    0.0         0.0             37.0             0.0                  0.0  alascan_gpk  "
      ]
     },
     "execution_count": 9,
     "metadata": {},
     "output_type": "execute_result"
    }
   ],
   "source": [
    "all_mutations_ddg.head()"
   ]
  },
  {
   "cell_type": "markdown",
   "metadata": {},
   "source": [
    "## all_training_data\n",
    "\n",
    "We can only get models of different sequence identities for $\\Delta \\Delta G$ predictor."
   ]
  },
  {
   "cell_type": "code",
   "execution_count": 10,
   "metadata": {
    "collapsed": false
   },
   "outputs": [],
   "source": [
    "all_training_data = (\n",
    "    all_mutations_ddg\n",
    "    [['uniprot_id', 'uniprot_domain_id', 'uniprot_sequence']]\n",
    "    .drop_duplicates()\n",
    ")"
   ]
  },
  {
   "cell_type": "code",
   "execution_count": 11,
   "metadata": {
    "collapsed": false
   },
   "outputs": [
    {
     "data": {
      "text/html": [
       "<div>\n",
       "<table border=\"1\" class=\"dataframe\">\n",
       "  <thead>\n",
       "    <tr style=\"text-align: right;\">\n",
       "      <th></th>\n",
       "      <th>uniprot_id</th>\n",
       "      <th>uniprot_domain_id</th>\n",
       "      <th>uniprot_sequence</th>\n",
       "    </tr>\n",
       "  </thead>\n",
       "  <tbody>\n",
       "    <tr>\n",
       "      <th>0</th>\n",
       "      <td>P00648</td>\n",
       "      <td>24447509</td>\n",
       "      <td>MMKMEGIALKKRLSWISVCLLVLVSAAGMLFSTAAKTETSSHKAHT...</td>\n",
       "    </tr>\n",
       "    <tr>\n",
       "      <th>39</th>\n",
       "      <td>P0AEX9</td>\n",
       "      <td>76764849</td>\n",
       "      <td>MKIKTGARILALSALTTMMFSASALAKIEEGKLVIWINGDKGYNGL...</td>\n",
       "    </tr>\n",
       "    <tr>\n",
       "      <th>40</th>\n",
       "      <td>P48052</td>\n",
       "      <td>42174584</td>\n",
       "      <td>MAMRLILFFGALFGHIYCLETFVGDQVLEIVPSNEEQIKNLLQLEA...</td>\n",
       "    </tr>\n",
       "    <tr>\n",
       "      <th>49</th>\n",
       "      <td>P00257</td>\n",
       "      <td>73958266</td>\n",
       "      <td>MAARLLRVASAALGDTAGRWRLLARPRAGAGGLRGSRGPGLGGGAV...</td>\n",
       "    </tr>\n",
       "    <tr>\n",
       "      <th>50</th>\n",
       "      <td>P96110</td>\n",
       "      <td>52854031</td>\n",
       "      <td>MPEKSLYEMAVEQFNRAASLMDLESDLAEVLRRPKRVLIVEFPVRM...</td>\n",
       "    </tr>\n",
       "  </tbody>\n",
       "</table>\n",
       "</div>"
      ],
      "text/plain": [
       "   uniprot_id  uniprot_domain_id                                   uniprot_sequence\n",
       "0      P00648           24447509  MMKMEGIALKKRLSWISVCLLVLVSAAGMLFSTAAKTETSSHKAHT...\n",
       "39     P0AEX9           76764849  MKIKTGARILALSALTTMMFSASALAKIEEGKLVIWINGDKGYNGL...\n",
       "40     P48052           42174584  MAMRLILFFGALFGHIYCLETFVGDQVLEIVPSNEEQIKNLLQLEA...\n",
       "49     P00257           73958266  MAARLLRVASAALGDTAGRWRLLARPRAGAGGLRGSRGPGLGGGAV...\n",
       "50     P96110           52854031  MPEKSLYEMAVEQFNRAASLMDLESDLAEVLRRPKRVLIVEFPVRM..."
      ]
     },
     "metadata": {},
     "output_type": "display_data"
    },
    {
     "name": "stdout",
     "output_type": "stream",
     "text": [
      "1133\n"
     ]
    }
   ],
   "source": [
    "display(all_training_data.head())\n",
    "print(all_training_data.shape[0])"
   ]
  },
  {
   "cell_type": "markdown",
   "metadata": {},
   "source": [
    "## all_training_data_2\n",
    "\n",
    "Add domain and sequence info."
   ]
  },
  {
   "cell_type": "code",
   "execution_count": 12,
   "metadata": {
    "collapsed": false
   },
   "outputs": [],
   "source": [
    "sql_query = \"\"\"\\\n",
    "select *\n",
    "from elaspic.uniprot_domain ud\n",
    "join elaspic.uniprot_domain_template udm using (uniprot_domain_id)\n",
    "join (select uniprot_id, uniprot_name from uniprot_kb.uniprot_sequence) us using (uniprot_id)\n",
    "where uniprot_domain_id in ({});\n",
    "\"\"\".format(\", \".join(str(i) for i in set(all_training_data['uniprot_domain_id'])))"
   ]
  },
  {
   "cell_type": "code",
   "execution_count": 13,
   "metadata": {
    "collapsed": false
   },
   "outputs": [
    {
     "name": "stdout",
     "output_type": "stream",
     "text": [
      "select *\n",
      "from elaspic.uniprot_domain ud\n",
      "join elaspic.uniprot_domain_template udm using (uniprot_domain_id)\n",
      "join (select uniprot_id, uniprot_name from uniprot_kb.uniprot_sequence) us using (uniprot_id) ...\n"
     ]
    }
   ],
   "source": [
    "print(sql_query[:200], '...')"
   ]
  },
  {
   "cell_type": "code",
   "execution_count": 14,
   "metadata": {
    "collapsed": false
   },
   "outputs": [],
   "source": [
    "uniprot_sequence = pd.read_sql_query(sql_query, db.engine)"
   ]
  },
  {
   "cell_type": "code",
   "execution_count": 15,
   "metadata": {
    "collapsed": false
   },
   "outputs": [
    {
     "data": {
      "text/html": [
       "<div>\n",
       "<table border=\"1\" class=\"dataframe\">\n",
       "  <thead>\n",
       "    <tr style=\"text-align: right;\">\n",
       "      <th></th>\n",
       "      <th>uniprot_id</th>\n",
       "      <th>uniprot_domain_id</th>\n",
       "      <th>pdbfam_name</th>\n",
       "      <th>pdbfam_idx</th>\n",
       "      <th>pfam_clan</th>\n",
       "      <th>alignment_def</th>\n",
       "      <th>pfam_names</th>\n",
       "      <th>alignment_subdefs</th>\n",
       "      <th>path_to_data</th>\n",
       "      <th>template_errors</th>\n",
       "      <th>cath_id</th>\n",
       "      <th>domain_start</th>\n",
       "      <th>domain_end</th>\n",
       "      <th>domain_def</th>\n",
       "      <th>alignment_identity</th>\n",
       "      <th>alignment_coverage</th>\n",
       "      <th>alignment_score</th>\n",
       "      <th>t_date_modified</th>\n",
       "      <th>uniprot_name</th>\n",
       "    </tr>\n",
       "  </thead>\n",
       "  <tbody>\n",
       "    <tr>\n",
       "      <th>0</th>\n",
       "      <td>A6NJC3</td>\n",
       "      <td>1569578</td>\n",
       "      <td>UDPGT</td>\n",
       "      <td>1</td>\n",
       "      <td>GT-B</td>\n",
       "      <td>28:441</td>\n",
       "      <td>UDPGT</td>\n",
       "      <td>28:441</td>\n",
       "      <td>human/A6N/JC/A6NJC3/GT-B*28-441/</td>\n",
       "      <td>None</td>\n",
       "      <td>2o6lB00</td>\n",
       "      <td>270</td>\n",
       "      <td>444</td>\n",
       "      <td>270:444</td>\n",
       "      <td>56.77</td>\n",
       "      <td>37.2881</td>\n",
       "      <td>0.219745</td>\n",
       "      <td>2015-09-01 05:12:36</td>\n",
       "      <td>A6NJC3_HUMAN</td>\n",
       "    </tr>\n",
       "    <tr>\n",
       "      <th>1</th>\n",
       "      <td>A8K957</td>\n",
       "      <td>2071626</td>\n",
       "      <td>GST_N_3+GST_C_2</td>\n",
       "      <td>1</td>\n",
       "      <td>Thioredoxin+GST_C</td>\n",
       "      <td>28:282</td>\n",
       "      <td>GST_N_3,GST_C_2</td>\n",
       "      <td>28:105,168:282</td>\n",
       "      <td>human/A8K/95/A8K957/Thioredoxin+GST_C*28-282/</td>\n",
       "      <td>None</td>\n",
       "      <td>4mf5A00</td>\n",
       "      <td>1</td>\n",
       "      <td>234</td>\n",
       "      <td>1:234</td>\n",
       "      <td>26.67</td>\n",
       "      <td>32.6772</td>\n",
       "      <td>0.099131</td>\n",
       "      <td>2015-09-01 05:12:36</td>\n",
       "      <td>A8K957_HUMAN</td>\n",
       "    </tr>\n",
       "    <tr>\n",
       "      <th>2</th>\n",
       "      <td>A8K8M0</td>\n",
       "      <td>2075383</td>\n",
       "      <td>Crisp</td>\n",
       "      <td>1</td>\n",
       "      <td>ShK-like</td>\n",
       "      <td>189:243</td>\n",
       "      <td>Crisp</td>\n",
       "      <td>189:243</td>\n",
       "      <td>human/A8K/8M/A8K8M0/ShK-like*189-243/</td>\n",
       "      <td>None</td>\n",
       "      <td>2a05A00</td>\n",
       "      <td>196</td>\n",
       "      <td>243</td>\n",
       "      <td>196:243</td>\n",
       "      <td>69.64</td>\n",
       "      <td>100.0000</td>\n",
       "      <td>0.711580</td>\n",
       "      <td>2015-09-01 05:12:36</td>\n",
       "      <td>A8K8M0_HUMAN</td>\n",
       "    </tr>\n",
       "    <tr>\n",
       "      <th>3</th>\n",
       "      <td>A8K2X8</td>\n",
       "      <td>2079353</td>\n",
       "      <td>Cpn60_TCP1</td>\n",
       "      <td>1</td>\n",
       "      <td>Cpn60_TCP1</td>\n",
       "      <td>44:537</td>\n",
       "      <td>Cpn60_TCP1</td>\n",
       "      <td>44:537</td>\n",
       "      <td>human/A8K/2X/A8K2X8/Cpn60_TCP1*44-537/</td>\n",
       "      <td>None</td>\n",
       "      <td>4b2tE00</td>\n",
       "      <td>1</td>\n",
       "      <td>541</td>\n",
       "      <td>1:541</td>\n",
       "      <td>97.04</td>\n",
       "      <td>100.0000</td>\n",
       "      <td>0.971880</td>\n",
       "      <td>2015-09-01 05:12:36</td>\n",
       "      <td>A8K2X8_HUMAN</td>\n",
       "    </tr>\n",
       "    <tr>\n",
       "      <th>4</th>\n",
       "      <td>B2R5P7</td>\n",
       "      <td>3286480</td>\n",
       "      <td>E1_dh</td>\n",
       "      <td>1</td>\n",
       "      <td>THDP-binding</td>\n",
       "      <td>66:362</td>\n",
       "      <td>E1_dh</td>\n",
       "      <td>66:362</td>\n",
       "      <td>human/B2R/5P/B2R5P7/THDP-binding*66-362/</td>\n",
       "      <td>None</td>\n",
       "      <td>3exeA00</td>\n",
       "      <td>28</td>\n",
       "      <td>390</td>\n",
       "      <td>28:390</td>\n",
       "      <td>99.72</td>\n",
       "      <td>100.0000</td>\n",
       "      <td>0.997340</td>\n",
       "      <td>2015-09-01 05:12:36</td>\n",
       "      <td>B2R5P7_HUMAN</td>\n",
       "    </tr>\n",
       "  </tbody>\n",
       "</table>\n",
       "</div>"
      ],
      "text/plain": [
       "  uniprot_id  uniprot_domain_id      pdbfam_name  pdbfam_idx          pfam_clan alignment_def       pfam_names alignment_subdefs                                   path_to_data template_errors  cath_id  domain_start  domain_end domain_def  alignment_identity  alignment_coverage  alignment_score     t_date_modified  uniprot_name\n",
       "0     A6NJC3            1569578            UDPGT           1               GT-B        28:441            UDPGT            28:441               human/A6N/JC/A6NJC3/GT-B*28-441/            None  2o6lB00           270         444    270:444               56.77             37.2881         0.219745 2015-09-01 05:12:36  A6NJC3_HUMAN\n",
       "1     A8K957            2071626  GST_N_3+GST_C_2           1  Thioredoxin+GST_C        28:282  GST_N_3,GST_C_2    28:105,168:282  human/A8K/95/A8K957/Thioredoxin+GST_C*28-282/            None  4mf5A00             1         234      1:234               26.67             32.6772         0.099131 2015-09-01 05:12:36  A8K957_HUMAN\n",
       "2     A8K8M0            2075383            Crisp           1           ShK-like       189:243            Crisp           189:243          human/A8K/8M/A8K8M0/ShK-like*189-243/            None  2a05A00           196         243    196:243               69.64            100.0000         0.711580 2015-09-01 05:12:36  A8K8M0_HUMAN\n",
       "3     A8K2X8            2079353       Cpn60_TCP1           1         Cpn60_TCP1        44:537       Cpn60_TCP1            44:537         human/A8K/2X/A8K2X8/Cpn60_TCP1*44-537/            None  4b2tE00             1         541      1:541               97.04            100.0000         0.971880 2015-09-01 05:12:36  A8K2X8_HUMAN\n",
       "4     B2R5P7            3286480            E1_dh           1       THDP-binding        66:362            E1_dh            66:362       human/B2R/5P/B2R5P7/THDP-binding*66-362/            None  3exeA00            28         390     28:390               99.72            100.0000         0.997340 2015-09-01 05:12:36  B2R5P7_HUMAN"
      ]
     },
     "metadata": {},
     "output_type": "display_data"
    },
    {
     "name": "stdout",
     "output_type": "stream",
     "text": [
      "(1133, 19)\n"
     ]
    }
   ],
   "source": [
    "display(uniprot_sequence.head())\n",
    "print(uniprot_sequence.shape)"
   ]
  },
  {
   "cell_type": "code",
   "execution_count": 16,
   "metadata": {
    "collapsed": false
   },
   "outputs": [],
   "source": [
    "all_training_data_2 = all_training_data.merge(uniprot_sequence)"
   ]
  },
  {
   "cell_type": "code",
   "execution_count": 17,
   "metadata": {
    "collapsed": false
   },
   "outputs": [
    {
     "data": {
      "text/html": [
       "<div>\n",
       "<table border=\"1\" class=\"dataframe\">\n",
       "  <thead>\n",
       "    <tr style=\"text-align: right;\">\n",
       "      <th></th>\n",
       "      <th>uniprot_id</th>\n",
       "      <th>uniprot_domain_id</th>\n",
       "      <th>uniprot_sequence</th>\n",
       "      <th>pdbfam_name</th>\n",
       "      <th>pdbfam_idx</th>\n",
       "      <th>pfam_clan</th>\n",
       "      <th>alignment_def</th>\n",
       "      <th>pfam_names</th>\n",
       "      <th>alignment_subdefs</th>\n",
       "      <th>path_to_data</th>\n",
       "      <th>template_errors</th>\n",
       "      <th>cath_id</th>\n",
       "      <th>domain_start</th>\n",
       "      <th>domain_end</th>\n",
       "      <th>domain_def</th>\n",
       "      <th>alignment_identity</th>\n",
       "      <th>alignment_coverage</th>\n",
       "      <th>alignment_score</th>\n",
       "      <th>t_date_modified</th>\n",
       "      <th>uniprot_name</th>\n",
       "    </tr>\n",
       "  </thead>\n",
       "  <tbody>\n",
       "    <tr>\n",
       "      <th>0</th>\n",
       "      <td>P00648</td>\n",
       "      <td>24447509</td>\n",
       "      <td>MMKMEGIALKKRLSWISVCLLVLVSAAGMLFSTAAKTETSSHKAHT...</td>\n",
       "      <td>Ribonuclease</td>\n",
       "      <td>1</td>\n",
       "      <td>Ribonuclease</td>\n",
       "      <td>67:156</td>\n",
       "      <td>Ribonuclease</td>\n",
       "      <td>67:156</td>\n",
       "      <td>bacam/P00/64/P00648/Ribonuclease*67-156/</td>\n",
       "      <td>None</td>\n",
       "      <td>1b27A00</td>\n",
       "      <td>48</td>\n",
       "      <td>157</td>\n",
       "      <td>48:157</td>\n",
       "      <td>100.0</td>\n",
       "      <td>100.0</td>\n",
       "      <td>1.0</td>\n",
       "      <td>2015-09-01 05:12:36</td>\n",
       "      <td>RNBR_BACAM</td>\n",
       "    </tr>\n",
       "    <tr>\n",
       "      <th>1</th>\n",
       "      <td>P0AEX9</td>\n",
       "      <td>76764849</td>\n",
       "      <td>MKIKTGARILALSALTTMMFSASALAKIEEGKLVIWINGDKGYNGL...</td>\n",
       "      <td>SBP_bac_1</td>\n",
       "      <td>1</td>\n",
       "      <td>SBP_bac_1</td>\n",
       "      <td>45:315</td>\n",
       "      <td>SBP_bac_1|1</td>\n",
       "      <td>45:315</td>\n",
       "      <td>ecoli/P0A/EX/P0AEX9/SBP_bac_1.45-315/</td>\n",
       "      <td>None</td>\n",
       "      <td>2d21A00</td>\n",
       "      <td>27</td>\n",
       "      <td>396</td>\n",
       "      <td>27:396</td>\n",
       "      <td>100.0</td>\n",
       "      <td>100.0</td>\n",
       "      <td>1.0</td>\n",
       "      <td>2015-09-01 05:12:36</td>\n",
       "      <td>MALE_ECOLI</td>\n",
       "    </tr>\n",
       "  </tbody>\n",
       "</table>\n",
       "</div>"
      ],
      "text/plain": [
       "  uniprot_id  uniprot_domain_id                                   uniprot_sequence   pdbfam_name  pdbfam_idx     pfam_clan alignment_def    pfam_names alignment_subdefs                              path_to_data template_errors  cath_id  domain_start  domain_end domain_def  alignment_identity  alignment_coverage  alignment_score     t_date_modified uniprot_name\n",
       "0     P00648           24447509  MMKMEGIALKKRLSWISVCLLVLVSAAGMLFSTAAKTETSSHKAHT...  Ribonuclease           1  Ribonuclease        67:156  Ribonuclease            67:156  bacam/P00/64/P00648/Ribonuclease*67-156/            None  1b27A00            48         157     48:157               100.0               100.0              1.0 2015-09-01 05:12:36   RNBR_BACAM\n",
       "1     P0AEX9           76764849  MKIKTGARILALSALTTMMFSASALAKIEEGKLVIWINGDKGYNGL...     SBP_bac_1           1     SBP_bac_1        45:315   SBP_bac_1|1            45:315     ecoli/P0A/EX/P0AEX9/SBP_bac_1.45-315/            None  2d21A00            27         396     27:396               100.0               100.0              1.0 2015-09-01 05:12:36   MALE_ECOLI"
      ]
     },
     "execution_count": 17,
     "metadata": {},
     "output_type": "execute_result"
    }
   ],
   "source": [
    "all_training_data_2.head(2)"
   ]
  },
  {
   "cell_type": "code",
   "execution_count": 18,
   "metadata": {
    "collapsed": true
   },
   "outputs": [],
   "source": [
    "def get_domain_sequence(sequence, domain_def):\n",
    "    domain_start, domain_end = [int(x) for x in domain_def.split(':')]\n",
    "    domain_sequence = sequence[domain_start - 1:domain_end]\n",
    "    return domain_sequence\n",
    "\n",
    "assert get_domain_sequence('ABCDEFG', '1:3') == 'ABC'\n",
    "assert get_domain_sequence('ABCDEFG', '1:7') == 'ABCDEFG'\n",
    "assert get_domain_sequence('ABCDEFG', '4:7') == 'DEFG'"
   ]
  },
  {
   "cell_type": "code",
   "execution_count": 19,
   "metadata": {
    "collapsed": true
   },
   "outputs": [],
   "source": [
    "all_training_data_2['uniprot_domain_sequence'] = (\n",
    "    all_training_data_2[['uniprot_sequence', 'domain_def']]\n",
    "    .apply(lambda x: get_domain_sequence(*x), axis=1)\n",
    ")"
   ]
  },
  {
   "cell_type": "code",
   "execution_count": 20,
   "metadata": {
    "collapsed": false
   },
   "outputs": [
    {
     "data": {
      "text/html": [
       "<div>\n",
       "<table border=\"1\" class=\"dataframe\">\n",
       "  <thead>\n",
       "    <tr style=\"text-align: right;\">\n",
       "      <th></th>\n",
       "      <th>uniprot_id</th>\n",
       "      <th>uniprot_domain_id</th>\n",
       "      <th>uniprot_sequence</th>\n",
       "      <th>pdbfam_name</th>\n",
       "      <th>pdbfam_idx</th>\n",
       "      <th>pfam_clan</th>\n",
       "      <th>alignment_def</th>\n",
       "      <th>pfam_names</th>\n",
       "      <th>alignment_subdefs</th>\n",
       "      <th>path_to_data</th>\n",
       "      <th>template_errors</th>\n",
       "      <th>cath_id</th>\n",
       "      <th>domain_start</th>\n",
       "      <th>domain_end</th>\n",
       "      <th>domain_def</th>\n",
       "      <th>alignment_identity</th>\n",
       "      <th>alignment_coverage</th>\n",
       "      <th>alignment_score</th>\n",
       "      <th>t_date_modified</th>\n",
       "      <th>uniprot_name</th>\n",
       "      <th>uniprot_domain_sequence</th>\n",
       "    </tr>\n",
       "  </thead>\n",
       "  <tbody>\n",
       "    <tr>\n",
       "      <th>0</th>\n",
       "      <td>P00648</td>\n",
       "      <td>24447509</td>\n",
       "      <td>MMKMEGIALKKRLSWISVCLLVLVSAAGMLFSTAAKTETSSHKAHT...</td>\n",
       "      <td>Ribonuclease</td>\n",
       "      <td>1</td>\n",
       "      <td>Ribonuclease</td>\n",
       "      <td>67:156</td>\n",
       "      <td>Ribonuclease</td>\n",
       "      <td>67:156</td>\n",
       "      <td>bacam/P00/64/P00648/Ribonuclease*67-156/</td>\n",
       "      <td>None</td>\n",
       "      <td>1b27A00</td>\n",
       "      <td>48</td>\n",
       "      <td>157</td>\n",
       "      <td>48:157</td>\n",
       "      <td>100.00</td>\n",
       "      <td>100.0000</td>\n",
       "      <td>1.000000</td>\n",
       "      <td>2015-09-01 05:12:36</td>\n",
       "      <td>RNBR_BACAM</td>\n",
       "      <td>AQVINTFDGVADYLQTYHKLPDNYITKSEAQALGWVASKGNLADVA...</td>\n",
       "    </tr>\n",
       "    <tr>\n",
       "      <th>1</th>\n",
       "      <td>P0AEX9</td>\n",
       "      <td>76764849</td>\n",
       "      <td>MKIKTGARILALSALTTMMFSASALAKIEEGKLVIWINGDKGYNGL...</td>\n",
       "      <td>SBP_bac_1</td>\n",
       "      <td>1</td>\n",
       "      <td>SBP_bac_1</td>\n",
       "      <td>45:315</td>\n",
       "      <td>SBP_bac_1|1</td>\n",
       "      <td>45:315</td>\n",
       "      <td>ecoli/P0A/EX/P0AEX9/SBP_bac_1.45-315/</td>\n",
       "      <td>None</td>\n",
       "      <td>2d21A00</td>\n",
       "      <td>27</td>\n",
       "      <td>396</td>\n",
       "      <td>27:396</td>\n",
       "      <td>100.00</td>\n",
       "      <td>100.0000</td>\n",
       "      <td>1.000000</td>\n",
       "      <td>2015-09-01 05:12:36</td>\n",
       "      <td>MALE_ECOLI</td>\n",
       "      <td>KIEEGKLVIWINGDKGYNGLAEVGKKFEKDTGIKVTVEHPDKLEEK...</td>\n",
       "    </tr>\n",
       "    <tr>\n",
       "      <th>2</th>\n",
       "      <td>P48052</td>\n",
       "      <td>42174584</td>\n",
       "      <td>MAMRLILFFGALFGHIYCLETFVGDQVLEIVPSNEEQIKNLLQLEA...</td>\n",
       "      <td>Propep_M14</td>\n",
       "      <td>1</td>\n",
       "      <td>Propep_M14</td>\n",
       "      <td>29:103</td>\n",
       "      <td>Propep_M14|1</td>\n",
       "      <td>29:103</td>\n",
       "      <td>human/P48/05/P48052/Propep_M14.29-103/</td>\n",
       "      <td>None</td>\n",
       "      <td>1ayeA00</td>\n",
       "      <td>19</td>\n",
       "      <td>117</td>\n",
       "      <td>19:117</td>\n",
       "      <td>100.00</td>\n",
       "      <td>100.0000</td>\n",
       "      <td>1.000000</td>\n",
       "      <td>2015-09-01 05:12:36</td>\n",
       "      <td>CBPA2_HUMAN</td>\n",
       "      <td>LETFVGDQVLEIVPSNEEQIKNLLQLEAQEHLQLDFWKSPTTPGET...</td>\n",
       "    </tr>\n",
       "    <tr>\n",
       "      <th>3</th>\n",
       "      <td>P00257</td>\n",
       "      <td>73958266</td>\n",
       "      <td>MAARLLRVASAALGDTAGRWRLLARPRAGAGGLRGSRGPGLGGGAV...</td>\n",
       "      <td>Fer2</td>\n",
       "      <td>1</td>\n",
       "      <td>Fer2</td>\n",
       "      <td>71:154</td>\n",
       "      <td>Fer2|1</td>\n",
       "      <td>71:154</td>\n",
       "      <td>None</td>\n",
       "      <td>None</td>\n",
       "      <td>1e6eB00</td>\n",
       "      <td>63</td>\n",
       "      <td>186</td>\n",
       "      <td>63:186</td>\n",
       "      <td>100.00</td>\n",
       "      <td>100.0000</td>\n",
       "      <td>1.000000</td>\n",
       "      <td>2015-09-01 05:12:36</td>\n",
       "      <td>ADX_BOVIN</td>\n",
       "      <td>DKITVHFINRDGETLTTKGKIGDSLLDVVVQNNLDIDGFGACEGTL...</td>\n",
       "    </tr>\n",
       "    <tr>\n",
       "      <th>4</th>\n",
       "      <td>P96110</td>\n",
       "      <td>52854031</td>\n",
       "      <td>MPEKSLYEMAVEQFNRAASLMDLESDLAEVLRRPKRVLIVEFPVRM...</td>\n",
       "      <td>ELFV_dehydrog_N+ELFV_dehydrog</td>\n",
       "      <td>1</td>\n",
       "      <td>ELFV_dehydrog_N+ELFV_dehydrog</td>\n",
       "      <td>34:413</td>\n",
       "      <td>ELFV_dehydrog_N|1,ELFV_dehydrog|1</td>\n",
       "      <td>34:162,180:413</td>\n",
       "      <td>thema/P96/11/P96110/ELFV_dehydrog_N+ELFV_dehyd...</td>\n",
       "      <td>None</td>\n",
       "      <td>1b26A00</td>\n",
       "      <td>34</td>\n",
       "      <td>416</td>\n",
       "      <td>34:416</td>\n",
       "      <td>99.74</td>\n",
       "      <td>99.4723</td>\n",
       "      <td>0.992266</td>\n",
       "      <td>2015-09-01 05:12:36</td>\n",
       "      <td>DHE3_THEMA</td>\n",
       "      <td>PKRVLIVEFPVRMDDGHVEVFTGYRVQHNVARGPAKGGIRYHPDVT...</td>\n",
       "    </tr>\n",
       "  </tbody>\n",
       "</table>\n",
       "</div>"
      ],
      "text/plain": [
       "  uniprot_id  uniprot_domain_id                                   uniprot_sequence                    pdbfam_name  pdbfam_idx                      pfam_clan alignment_def                         pfam_names alignment_subdefs                                       path_to_data template_errors  cath_id  domain_start  domain_end domain_def  alignment_identity  alignment_coverage  alignment_score     t_date_modified uniprot_name                            uniprot_domain_sequence\n",
       "0     P00648           24447509  MMKMEGIALKKRLSWISVCLLVLVSAAGMLFSTAAKTETSSHKAHT...                   Ribonuclease           1                   Ribonuclease        67:156                       Ribonuclease            67:156           bacam/P00/64/P00648/Ribonuclease*67-156/            None  1b27A00            48         157     48:157              100.00            100.0000         1.000000 2015-09-01 05:12:36   RNBR_BACAM  AQVINTFDGVADYLQTYHKLPDNYITKSEAQALGWVASKGNLADVA...\n",
       "1     P0AEX9           76764849  MKIKTGARILALSALTTMMFSASALAKIEEGKLVIWINGDKGYNGL...                      SBP_bac_1           1                      SBP_bac_1        45:315                        SBP_bac_1|1            45:315              ecoli/P0A/EX/P0AEX9/SBP_bac_1.45-315/            None  2d21A00            27         396     27:396              100.00            100.0000         1.000000 2015-09-01 05:12:36   MALE_ECOLI  KIEEGKLVIWINGDKGYNGLAEVGKKFEKDTGIKVTVEHPDKLEEK...\n",
       "2     P48052           42174584  MAMRLILFFGALFGHIYCLETFVGDQVLEIVPSNEEQIKNLLQLEA...                     Propep_M14           1                     Propep_M14        29:103                       Propep_M14|1            29:103             human/P48/05/P48052/Propep_M14.29-103/            None  1ayeA00            19         117     19:117              100.00            100.0000         1.000000 2015-09-01 05:12:36  CBPA2_HUMAN  LETFVGDQVLEIVPSNEEQIKNLLQLEAQEHLQLDFWKSPTTPGET...\n",
       "3     P00257           73958266  MAARLLRVASAALGDTAGRWRLLARPRAGAGGLRGSRGPGLGGGAV...                           Fer2           1                           Fer2        71:154                             Fer2|1            71:154                                               None            None  1e6eB00            63         186     63:186              100.00            100.0000         1.000000 2015-09-01 05:12:36    ADX_BOVIN  DKITVHFINRDGETLTTKGKIGDSLLDVVVQNNLDIDGFGACEGTL...\n",
       "4     P96110           52854031  MPEKSLYEMAVEQFNRAASLMDLESDLAEVLRRPKRVLIVEFPVRM...  ELFV_dehydrog_N+ELFV_dehydrog           1  ELFV_dehydrog_N+ELFV_dehydrog        34:413  ELFV_dehydrog_N|1,ELFV_dehydrog|1    34:162,180:413  thema/P96/11/P96110/ELFV_dehydrog_N+ELFV_dehyd...            None  1b26A00            34         416     34:416               99.74             99.4723         0.992266 2015-09-01 05:12:36   DHE3_THEMA  PKRVLIVEFPVRMDDGHVEVFTGYRVQHNVARGPAKGGIRYHPDVT..."
      ]
     },
     "metadata": {},
     "output_type": "display_data"
    },
    {
     "name": "stdout",
     "output_type": "stream",
     "text": [
      "1133\n"
     ]
    }
   ],
   "source": [
    "display(all_training_data_2.head())\n",
    "print(all_training_data_2.shape[0])"
   ]
  },
  {
   "cell_type": "code",
   "execution_count": 21,
   "metadata": {
    "collapsed": false
   },
   "outputs": [
    {
     "data": {
      "text/plain": [
       "<matplotlib.axes._subplots.AxesSubplot at 0x7f02fa865ac8>"
      ]
     },
     "execution_count": 21,
     "metadata": {},
     "output_type": "execute_result"
    },
    {
     "data": {
      "image/png": "[encoded data removed]",
      "text/plain": [
       "<matplotlib.figure.Figure at 0x7f02fa859eb8>"
      ]
     },
     "metadata": {},
     "output_type": "display_data"
    }
   ],
   "source": [
    "all_training_data_2['alignment_identity'].hist()"
   ]
  },
  {
   "cell_type": "code",
   "execution_count": 22,
   "metadata": {
    "collapsed": true
   },
   "outputs": [],
   "source": [
    "all_training_data_2_bak = all_training_data_2.copy()"
   ]
  },
  {
   "cell_type": "markdown",
   "metadata": {},
   "source": [
    "## structural_templates"
   ]
  },
  {
   "cell_type": "code",
   "execution_count": 23,
   "metadata": {
    "collapsed": true
   },
   "outputs": [],
   "source": [
    "all_training_data_2 = all_training_data_2_bak.copy()"
   ]
  },
  {
   "cell_type": "code",
   "execution_count": 24,
   "metadata": {
    "collapsed": true
   },
   "outputs": [],
   "source": [
    "SHARED_COLUMNS = ['uniprot_id', 'uniprot_domain_id', 'uniprot_sequence', 'uniprot_domain_sequence']"
   ]
  },
  {
   "cell_type": "code",
   "execution_count": 25,
   "metadata": {
    "collapsed": false
   },
   "outputs": [
    {
     "name": "stderr",
     "output_type": "stream",
     "text": [
      "INFO:root:Loading from file...\n"
     ]
    },
    {
     "name": "stdout",
     "output_type": "stream",
     "text": [
      "/home/kimlab1/database_data/biodb/recipes/profs/output/libraries_all_together_db/libraries_all\n"
     ]
    }
   ],
   "source": [
    "import concurrent.futures\n",
    "\n",
    "DATAPKG_DIR = op.dirname(op.dirname(op.dirname(op.abspath(NOTEBOOK_NAME))))\n",
    "BLAST_DB = op.abspath(op.join(DATAPKG_DIR, 'profs', 'output', 'libraries_all_together_db', 'libraries_all'))\n",
    "print(BLAST_DB)\n",
    "\n",
    "\n",
    "def worker(x):\n",
    "    i, row = x\n",
    "    results_df = ascommon.sequence_tools.blastp(\n",
    "        sequence=row['uniprot_domain_sequence'], db=BLAST_DB, evalue=0.001, max_target_seqs=100000)\n",
    "    results_df = local.annotate_blast_results(\n",
    "        results_df, \n",
    "        domain_start=int(row['domain_def'].split(':')[0]), \n",
    "        domain_sequence_length=len(row['uniprot_domain_sequence']))\n",
    "    for column in SHARED_COLUMNS:\n",
    "        results_df[column] = row[column]\n",
    "    return results_df\n",
    "\n",
    "\n",
    "structural_templates_file = op.join(NOTEBOOK_NAME, 'structural_templates.pkl')\n",
    "\n",
    "if not op.isfile(structural_templates_file):\n",
    "    with concurrent.futures.ProcessPoolExecutor() as p:\n",
    "        results_df_all = p.map(worker, all_training_data_2.iterrows())\n",
    "        structural_templates = pd.concat(results_df_all, ignore_index=True)\n",
    "        structural_templates.to_pickle(structural_templates_file)\n",
    "else:\n",
    "    logger.info('Loading from file...')\n",
    "    structural_templates = pd.read_pickle(structural_templates_file)"
   ]
  },
  {
   "cell_type": "code",
   "execution_count": 26,
   "metadata": {
    "collapsed": false,
    "run_control": {
     "marked": false
    }
   },
   "outputs": [],
   "source": [
    "_before = structural_templates.drop_duplicates(subset=['uniprot_id', 'uniprot_domain_id']).shape[0]\n",
    "structural_templates = structural_templates.merge(all_training_data_2, on=SHARED_COLUMNS, suffixes=('', '_old'))\n",
    "_after = structural_templates.drop_duplicates(subset=['uniprot_id', 'uniprot_domain_id']).shape[0]\n",
    "\n",
    "assert _before == _after"
   ]
  },
  {
   "cell_type": "code",
   "execution_count": 27,
   "metadata": {
    "collapsed": false
   },
   "outputs": [
    {
     "data": {
      "text/html": [
       "<div>\n",
       "<table border=\"1\" class=\"dataframe\">\n",
       "  <thead>\n",
       "    <tr style=\"text-align: right;\">\n",
       "      <th></th>\n",
       "      <th>alignment_coverage</th>\n",
       "      <th>alignment_identity</th>\n",
       "      <th>alignment_length</th>\n",
       "      <th>alignment_score</th>\n",
       "      <th>bitscore</th>\n",
       "      <th>domain_def_new</th>\n",
       "      <th>domain_end_new</th>\n",
       "      <th>domain_start_new</th>\n",
       "      <th>evalue</th>\n",
       "      <th>gap_opens</th>\n",
       "      <th>mismatches</th>\n",
       "      <th>pc_identity</th>\n",
       "      <th>pdb_cath_id</th>\n",
       "      <th>pdb_chain</th>\n",
       "      <th>pdb_domain_def</th>\n",
       "      <th>pdb_id</th>\n",
       "      <th>pdb_pdbfam_idx</th>\n",
       "      <th>pdb_pdbfam_name</th>\n",
       "      <th>pdb_pfam_clan</th>\n",
       "      <th>q_end</th>\n",
       "      <th>q_start</th>\n",
       "      <th>qseq</th>\n",
       "      <th>query_id</th>\n",
       "      <th>s_end</th>\n",
       "      <th>s_start</th>\n",
       "      <th>sseq</th>\n",
       "      <th>subject_id</th>\n",
       "      <th>t_date_modified</th>\n",
       "      <th>uniprot_domain_id</th>\n",
       "      <th>uniprot_domain_sequence</th>\n",
       "      <th>uniprot_id</th>\n",
       "      <th>uniprot_sequence</th>\n",
       "      <th>pdbfam_name</th>\n",
       "      <th>pdbfam_idx</th>\n",
       "      <th>pfam_clan</th>\n",
       "      <th>alignment_def</th>\n",
       "      <th>pfam_names</th>\n",
       "      <th>alignment_subdefs</th>\n",
       "      <th>path_to_data</th>\n",
       "      <th>template_errors</th>\n",
       "      <th>cath_id</th>\n",
       "      <th>domain_start</th>\n",
       "      <th>domain_end</th>\n",
       "      <th>domain_def</th>\n",
       "      <th>alignment_identity_old</th>\n",
       "      <th>alignment_coverage_old</th>\n",
       "      <th>alignment_score_old</th>\n",
       "      <th>t_date_modified_old</th>\n",
       "      <th>uniprot_name</th>\n",
       "    </tr>\n",
       "  </thead>\n",
       "  <tbody>\n",
       "    <tr>\n",
       "      <th>0</th>\n",
       "      <td>100.000000</td>\n",
       "      <td>100.00</td>\n",
       "      <td>110.0</td>\n",
       "      <td>1.000000</td>\n",
       "      <td>228.0</td>\n",
       "      <td>48:157</td>\n",
       "      <td>157.0</td>\n",
       "      <td>48.0</td>\n",
       "      <td>2.000000e-77</td>\n",
       "      <td>0.0</td>\n",
       "      <td>0.0</td>\n",
       "      <td>100.00</td>\n",
       "      <td>1brsB00</td>\n",
       "      <td>B</td>\n",
       "      <td>1:110</td>\n",
       "      <td>1brs</td>\n",
       "      <td>1.0</td>\n",
       "      <td>Ribonuclease</td>\n",
       "      <td>Ribonuclease</td>\n",
       "      <td>110.0</td>\n",
       "      <td>1.0</td>\n",
       "      <td>AQVINTFDGVADYLQTYHKLPDNYITKSEAQALGWVASKGNLADVA...</td>\n",
       "      <td>unnamed</td>\n",
       "      <td>110.0</td>\n",
       "      <td>1.0</td>\n",
       "      <td>AQVINTFDGVADYLQTYHKLPDNYITKSEAQALGWVASKGNLADVA...</td>\n",
       "      <td>1brs_B|Ribonuclease|1|Ribonuclease|1:110|1brsB00</td>\n",
       "      <td>2016-06-08 13:07:48.088652</td>\n",
       "      <td>24447509</td>\n",
       "      <td>AQVINTFDGVADYLQTYHKLPDNYITKSEAQALGWVASKGNLADVA...</td>\n",
       "      <td>P00648</td>\n",
       "      <td>MMKMEGIALKKRLSWISVCLLVLVSAAGMLFSTAAKTETSSHKAHT...</td>\n",
       "      <td>Ribonuclease</td>\n",
       "      <td>1</td>\n",
       "      <td>Ribonuclease</td>\n",
       "      <td>67:156</td>\n",
       "      <td>Ribonuclease</td>\n",
       "      <td>67:156</td>\n",
       "      <td>bacam/P00/64/P00648/Ribonuclease*67-156/</td>\n",
       "      <td>None</td>\n",
       "      <td>1b27A00</td>\n",
       "      <td>48</td>\n",
       "      <td>157</td>\n",
       "      <td>48:157</td>\n",
       "      <td>100.0</td>\n",
       "      <td>100.0</td>\n",
       "      <td>1.0</td>\n",
       "      <td>2015-09-01 05:12:36</td>\n",
       "      <td>RNBR_BACAM</td>\n",
       "    </tr>\n",
       "    <tr>\n",
       "      <th>1</th>\n",
       "      <td>99.090909</td>\n",
       "      <td>100.00</td>\n",
       "      <td>109.0</td>\n",
       "      <td>0.990909</td>\n",
       "      <td>226.0</td>\n",
       "      <td>49:157</td>\n",
       "      <td>157.0</td>\n",
       "      <td>49.0</td>\n",
       "      <td>1.000000e-76</td>\n",
       "      <td>0.0</td>\n",
       "      <td>0.0</td>\n",
       "      <td>100.00</td>\n",
       "      <td>1x1wC00</td>\n",
       "      <td>C</td>\n",
       "      <td>2:110</td>\n",
       "      <td>1x1w</td>\n",
       "      <td>1.0</td>\n",
       "      <td>Ribonuclease</td>\n",
       "      <td>Ribonuclease</td>\n",
       "      <td>110.0</td>\n",
       "      <td>2.0</td>\n",
       "      <td>QVINTFDGVADYLQTYHKLPDNYITKSEAQALGWVASKGNLADVAP...</td>\n",
       "      <td>unnamed</td>\n",
       "      <td>109.0</td>\n",
       "      <td>1.0</td>\n",
       "      <td>QVINTFDGVADYLQTYHKLPDNYITKSEAQALGWVASKGNLADVAP...</td>\n",
       "      <td>1x1w_C|Ribonuclease|1|Ribonuclease|2:110|1x1wC00</td>\n",
       "      <td>2016-06-08 13:07:48.088652</td>\n",
       "      <td>24447509</td>\n",
       "      <td>AQVINTFDGVADYLQTYHKLPDNYITKSEAQALGWVASKGNLADVA...</td>\n",
       "      <td>P00648</td>\n",
       "      <td>MMKMEGIALKKRLSWISVCLLVLVSAAGMLFSTAAKTETSSHKAHT...</td>\n",
       "      <td>Ribonuclease</td>\n",
       "      <td>1</td>\n",
       "      <td>Ribonuclease</td>\n",
       "      <td>67:156</td>\n",
       "      <td>Ribonuclease</td>\n",
       "      <td>67:156</td>\n",
       "      <td>bacam/P00/64/P00648/Ribonuclease*67-156/</td>\n",
       "      <td>None</td>\n",
       "      <td>1b27A00</td>\n",
       "      <td>48</td>\n",
       "      <td>157</td>\n",
       "      <td>48:157</td>\n",
       "      <td>100.0</td>\n",
       "      <td>100.0</td>\n",
       "      <td>1.0</td>\n",
       "      <td>2015-09-01 05:12:36</td>\n",
       "      <td>RNBR_BACAM</td>\n",
       "    </tr>\n",
       "    <tr>\n",
       "      <th>2</th>\n",
       "      <td>100.000000</td>\n",
       "      <td>99.09</td>\n",
       "      <td>110.0</td>\n",
       "      <td>0.991355</td>\n",
       "      <td>226.0</td>\n",
       "      <td>48:157</td>\n",
       "      <td>157.0</td>\n",
       "      <td>48.0</td>\n",
       "      <td>1.000000e-76</td>\n",
       "      <td>0.0</td>\n",
       "      <td>1.0</td>\n",
       "      <td>99.09</td>\n",
       "      <td>1b2sA00</td>\n",
       "      <td>A</td>\n",
       "      <td>1:110</td>\n",
       "      <td>1b2s</td>\n",
       "      <td>1.0</td>\n",
       "      <td>Ribonuclease</td>\n",
       "      <td>Ribonuclease</td>\n",
       "      <td>110.0</td>\n",
       "      <td>1.0</td>\n",
       "      <td>AQVINTFDGVADYLQTYHKLPDNYITKSEAQALGWVASKGNLADVA...</td>\n",
       "      <td>unnamed</td>\n",
       "      <td>110.0</td>\n",
       "      <td>1.0</td>\n",
       "      <td>AQVINTFDGVADYLQTYHKLPDNYITASEAQALGWVASKGNLADVA...</td>\n",
       "      <td>1b2s_A|Ribonuclease|1|Ribonuclease|1:110|1b2sA00</td>\n",
       "      <td>2016-06-08 13:07:48.088652</td>\n",
       "      <td>24447509</td>\n",
       "      <td>AQVINTFDGVADYLQTYHKLPDNYITKSEAQALGWVASKGNLADVA...</td>\n",
       "      <td>P00648</td>\n",
       "      <td>MMKMEGIALKKRLSWISVCLLVLVSAAGMLFSTAAKTETSSHKAHT...</td>\n",
       "      <td>Ribonuclease</td>\n",
       "      <td>1</td>\n",
       "      <td>Ribonuclease</td>\n",
       "      <td>67:156</td>\n",
       "      <td>Ribonuclease</td>\n",
       "      <td>67:156</td>\n",
       "      <td>bacam/P00/64/P00648/Ribonuclease*67-156/</td>\n",
       "      <td>None</td>\n",
       "      <td>1b27A00</td>\n",
       "      <td>48</td>\n",
       "      <td>157</td>\n",
       "      <td>48:157</td>\n",
       "      <td>100.0</td>\n",
       "      <td>100.0</td>\n",
       "      <td>1.0</td>\n",
       "      <td>2015-09-01 05:12:36</td>\n",
       "      <td>RNBR_BACAM</td>\n",
       "    </tr>\n",
       "    <tr>\n",
       "      <th>3</th>\n",
       "      <td>100.000000</td>\n",
       "      <td>99.09</td>\n",
       "      <td>110.0</td>\n",
       "      <td>0.991355</td>\n",
       "      <td>225.0</td>\n",
       "      <td>48:157</td>\n",
       "      <td>157.0</td>\n",
       "      <td>48.0</td>\n",
       "      <td>2.000000e-76</td>\n",
       "      <td>0.0</td>\n",
       "      <td>1.0</td>\n",
       "      <td>99.09</td>\n",
       "      <td>1x1yB00</td>\n",
       "      <td>B</td>\n",
       "      <td>1:110</td>\n",
       "      <td>1x1y</td>\n",
       "      <td>1.0</td>\n",
       "      <td>Ribonuclease</td>\n",
       "      <td>Ribonuclease</td>\n",
       "      <td>110.0</td>\n",
       "      <td>1.0</td>\n",
       "      <td>AQVINTFDGVADYLQTYHKLPDNYITKSEAQALGWVASKGNLADVA...</td>\n",
       "      <td>unnamed</td>\n",
       "      <td>110.0</td>\n",
       "      <td>1.0</td>\n",
       "      <td>AAVINTFDGVADYLQTYHKLPDNYITKSEAQALGWVASKGNLADVA...</td>\n",
       "      <td>1x1y_B|Ribonuclease|1|Ribonuclease|1:110|1x1yB00</td>\n",
       "      <td>2016-06-08 13:07:48.088652</td>\n",
       "      <td>24447509</td>\n",
       "      <td>AQVINTFDGVADYLQTYHKLPDNYITKSEAQALGWVASKGNLADVA...</td>\n",
       "      <td>P00648</td>\n",
       "      <td>MMKMEGIALKKRLSWISVCLLVLVSAAGMLFSTAAKTETSSHKAHT...</td>\n",
       "      <td>Ribonuclease</td>\n",
       "      <td>1</td>\n",
       "      <td>Ribonuclease</td>\n",
       "      <td>67:156</td>\n",
       "      <td>Ribonuclease</td>\n",
       "      <td>67:156</td>\n",
       "      <td>bacam/P00/64/P00648/Ribonuclease*67-156/</td>\n",
       "      <td>None</td>\n",
       "      <td>1b27A00</td>\n",
       "      <td>48</td>\n",
       "      <td>157</td>\n",
       "      <td>48:157</td>\n",
       "      <td>100.0</td>\n",
       "      <td>100.0</td>\n",
       "      <td>1.0</td>\n",
       "      <td>2015-09-01 05:12:36</td>\n",
       "      <td>RNBR_BACAM</td>\n",
       "    </tr>\n",
       "    <tr>\n",
       "      <th>4</th>\n",
       "      <td>99.090909</td>\n",
       "      <td>99.08</td>\n",
       "      <td>109.0</td>\n",
       "      <td>0.982249</td>\n",
       "      <td>225.0</td>\n",
       "      <td>49:157</td>\n",
       "      <td>157.0</td>\n",
       "      <td>49.0</td>\n",
       "      <td>3.000000e-76</td>\n",
       "      <td>0.0</td>\n",
       "      <td>1.0</td>\n",
       "      <td>99.08</td>\n",
       "      <td>1banC00</td>\n",
       "      <td>C</td>\n",
       "      <td>2:110</td>\n",
       "      <td>1ban</td>\n",
       "      <td>1.0</td>\n",
       "      <td>Ribonuclease</td>\n",
       "      <td>Ribonuclease</td>\n",
       "      <td>110.0</td>\n",
       "      <td>2.0</td>\n",
       "      <td>QVINTFDGVADYLQTYHKLPDNYITKSEAQALGWVASKGNLADVAP...</td>\n",
       "      <td>unnamed</td>\n",
       "      <td>109.0</td>\n",
       "      <td>1.0</td>\n",
       "      <td>QVINTFDGVADYLQTYHKLPDNYITKSEAQALGWVASKGNLADVAP...</td>\n",
       "      <td>1ban_C|Ribonuclease|1|Ribonuclease|2:110|1banC00</td>\n",
       "      <td>2016-06-08 13:07:48.088652</td>\n",
       "      <td>24447509</td>\n",
       "      <td>AQVINTFDGVADYLQTYHKLPDNYITKSEAQALGWVASKGNLADVA...</td>\n",
       "      <td>P00648</td>\n",
       "      <td>MMKMEGIALKKRLSWISVCLLVLVSAAGMLFSTAAKTETSSHKAHT...</td>\n",
       "      <td>Ribonuclease</td>\n",
       "      <td>1</td>\n",
       "      <td>Ribonuclease</td>\n",
       "      <td>67:156</td>\n",
       "      <td>Ribonuclease</td>\n",
       "      <td>67:156</td>\n",
       "      <td>bacam/P00/64/P00648/Ribonuclease*67-156/</td>\n",
       "      <td>None</td>\n",
       "      <td>1b27A00</td>\n",
       "      <td>48</td>\n",
       "      <td>157</td>\n",
       "      <td>48:157</td>\n",
       "      <td>100.0</td>\n",
       "      <td>100.0</td>\n",
       "      <td>1.0</td>\n",
       "      <td>2015-09-01 05:12:36</td>\n",
       "      <td>RNBR_BACAM</td>\n",
       "    </tr>\n",
       "  </tbody>\n",
       "</table>\n",
       "</div>"
      ],
      "text/plain": [
       "   alignment_coverage  alignment_identity  alignment_length  alignment_score  bitscore domain_def_new  domain_end_new  domain_start_new        evalue  gap_opens  mismatches  pc_identity pdb_cath_id pdb_chain pdb_domain_def pdb_id  pdb_pdbfam_idx pdb_pdbfam_name pdb_pfam_clan  q_end  q_start                                               qseq query_id  s_end  s_start                                               sseq                                        subject_id            t_date_modified  uniprot_domain_id                            uniprot_domain_sequence uniprot_id                                   uniprot_sequence   pdbfam_name  pdbfam_idx     pfam_clan alignment_def    pfam_names alignment_subdefs                              path_to_data template_errors  cath_id  domain_start  domain_end domain_def  alignment_identity_old  alignment_coverage_old  alignment_score_old t_date_modified_old uniprot_name\n",
       "0          100.000000              100.00             110.0         1.000000     228.0         48:157           157.0              48.0  2.000000e-77        0.0         0.0       100.00     1brsB00         B          1:110   1brs             1.0    Ribonuclease  Ribonuclease  110.0      1.0  AQVINTFDGVADYLQTYHKLPDNYITKSEAQALGWVASKGNLADVA...  unnamed  110.0      1.0  AQVINTFDGVADYLQTYHKLPDNYITKSEAQALGWVASKGNLADVA...  1brs_B|Ribonuclease|1|Ribonuclease|1:110|1brsB00 2016-06-08 13:07:48.088652           24447509  AQVINTFDGVADYLQTYHKLPDNYITKSEAQALGWVASKGNLADVA...     P00648  MMKMEGIALKKRLSWISVCLLVLVSAAGMLFSTAAKTETSSHKAHT...  Ribonuclease           1  Ribonuclease        67:156  Ribonuclease            67:156  bacam/P00/64/P00648/Ribonuclease*67-156/            None  1b27A00            48         157     48:157                   100.0                   100.0                  1.0 2015-09-01 05:12:36   RNBR_BACAM\n",
       "1           99.090909              100.00             109.0         0.990909     226.0         49:157           157.0              49.0  1.000000e-76        0.0         0.0       100.00     1x1wC00         C          2:110   1x1w             1.0    Ribonuclease  Ribonuclease  110.0      2.0  QVINTFDGVADYLQTYHKLPDNYITKSEAQALGWVASKGNLADVAP...  unnamed  109.0      1.0  QVINTFDGVADYLQTYHKLPDNYITKSEAQALGWVASKGNLADVAP...  1x1w_C|Ribonuclease|1|Ribonuclease|2:110|1x1wC00 2016-06-08 13:07:48.088652           24447509  AQVINTFDGVADYLQTYHKLPDNYITKSEAQALGWVASKGNLADVA...     P00648  MMKMEGIALKKRLSWISVCLLVLVSAAGMLFSTAAKTETSSHKAHT...  Ribonuclease           1  Ribonuclease        67:156  Ribonuclease            67:156  bacam/P00/64/P00648/Ribonuclease*67-156/            None  1b27A00            48         157     48:157                   100.0                   100.0                  1.0 2015-09-01 05:12:36   RNBR_BACAM\n",
       "2          100.000000               99.09             110.0         0.991355     226.0         48:157           157.0              48.0  1.000000e-76        0.0         1.0        99.09     1b2sA00         A          1:110   1b2s             1.0    Ribonuclease  Ribonuclease  110.0      1.0  AQVINTFDGVADYLQTYHKLPDNYITKSEAQALGWVASKGNLADVA...  unnamed  110.0      1.0  AQVINTFDGVADYLQTYHKLPDNYITASEAQALGWVASKGNLADVA...  1b2s_A|Ribonuclease|1|Ribonuclease|1:110|1b2sA00 2016-06-08 13:07:48.088652           24447509  AQVINTFDGVADYLQTYHKLPDNYITKSEAQALGWVASKGNLADVA...     P00648  MMKMEGIALKKRLSWISVCLLVLVSAAGMLFSTAAKTETSSHKAHT...  Ribonuclease           1  Ribonuclease        67:156  Ribonuclease            67:156  bacam/P00/64/P00648/Ribonuclease*67-156/            None  1b27A00            48         157     48:157                   100.0                   100.0                  1.0 2015-09-01 05:12:36   RNBR_BACAM\n",
       "3          100.000000               99.09             110.0         0.991355     225.0         48:157           157.0              48.0  2.000000e-76        0.0         1.0        99.09     1x1yB00         B          1:110   1x1y             1.0    Ribonuclease  Ribonuclease  110.0      1.0  AQVINTFDGVADYLQTYHKLPDNYITKSEAQALGWVASKGNLADVA...  unnamed  110.0      1.0  AAVINTFDGVADYLQTYHKLPDNYITKSEAQALGWVASKGNLADVA...  1x1y_B|Ribonuclease|1|Ribonuclease|1:110|1x1yB00 2016-06-08 13:07:48.088652           24447509  AQVINTFDGVADYLQTYHKLPDNYITKSEAQALGWVASKGNLADVA...     P00648  MMKMEGIALKKRLSWISVCLLVLVSAAGMLFSTAAKTETSSHKAHT...  Ribonuclease           1  Ribonuclease        67:156  Ribonuclease            67:156  bacam/P00/64/P00648/Ribonuclease*67-156/            None  1b27A00            48         157     48:157                   100.0                   100.0                  1.0 2015-09-01 05:12:36   RNBR_BACAM\n",
       "4           99.090909               99.08             109.0         0.982249     225.0         49:157           157.0              49.0  3.000000e-76        0.0         1.0        99.08     1banC00         C          2:110   1ban             1.0    Ribonuclease  Ribonuclease  110.0      2.0  QVINTFDGVADYLQTYHKLPDNYITKSEAQALGWVASKGNLADVAP...  unnamed  109.0      1.0  QVINTFDGVADYLQTYHKLPDNYITKSEAQALGWVASKGNLADVAP...  1ban_C|Ribonuclease|1|Ribonuclease|2:110|1banC00 2016-06-08 13:07:48.088652           24447509  AQVINTFDGVADYLQTYHKLPDNYITKSEAQALGWVASKGNLADVA...     P00648  MMKMEGIALKKRLSWISVCLLVLVSAAGMLFSTAAKTETSSHKAHT...  Ribonuclease           1  Ribonuclease        67:156  Ribonuclease            67:156  bacam/P00/64/P00648/Ribonuclease*67-156/            None  1b27A00            48         157     48:157                   100.0                   100.0                  1.0 2015-09-01 05:12:36   RNBR_BACAM"
      ]
     },
     "metadata": {},
     "output_type": "display_data"
    },
    {
     "name": "stdout",
     "output_type": "stream",
     "text": [
      "191396\n",
      "1104\n"
     ]
    }
   ],
   "source": [
    "display(structural_templates.head())\n",
    "print(structural_templates.shape[0])\n",
    "print(structural_templates.drop_duplicates(subset=['uniprot_id', 'uniprot_domain_id']).shape[0])"
   ]
  },
  {
   "cell_type": "code",
   "execution_count": 28,
   "metadata": {
    "collapsed": false
   },
   "outputs": [
    {
     "data": {
      "text/plain": [
       "<matplotlib.axes._subplots.AxesSubplot at 0x7f02e99e4da0>"
      ]
     },
     "execution_count": 28,
     "metadata": {},
     "output_type": "execute_result"
    },
    {
     "data": {
      "image/png": "[encoded data removed]",
      "text/plain": [
       "<matplotlib.figure.Figure at 0x7f02f8375cc0>"
      ]
     },
     "metadata": {},
     "output_type": "display_data"
    }
   ],
   "source": [
    "structural_templates['alignment_identity'].hist()"
   ]
  },
  {
   "cell_type": "code",
   "execution_count": 29,
   "metadata": {
    "collapsed": true
   },
   "outputs": [],
   "source": [
    "structural_templates_bak = structural_templates.copy()"
   ]
  },
  {
   "cell_type": "markdown",
   "metadata": {},
   "source": [
    "# Find *structural templates*"
   ]
  },
  {
   "cell_type": "code",
   "execution_count": 30,
   "metadata": {
    "collapsed": true
   },
   "outputs": [],
   "source": [
    "structural_templates_2 = structural_templates_bak.copy()"
   ]
  },
  {
   "cell_type": "code",
   "execution_count": 31,
   "metadata": {
    "collapsed": false
   },
   "outputs": [],
   "source": [
    "def get_max_seq_identity(alignment_identity):\n",
    "    assert (alignment_identity <= 100) & (alignment_identity > 1.0)\n",
    "    if alignment_identity > 80:\n",
    "        return 100\n",
    "    elif alignment_identity > 60:\n",
    "        return 80\n",
    "    elif alignment_identity > 40:\n",
    "        return 60\n",
    "    return 40\n",
    "\n",
    "assert get_max_seq_identity(90.63) == 100\n",
    "assert get_max_seq_identity(81.54) == 100\n",
    "assert get_max_seq_identity(71.2) == 80\n",
    "assert get_max_seq_identity(59.3) == 60\n",
    "assert get_max_seq_identity(11.1) == 40"
   ]
  },
  {
   "cell_type": "code",
   "execution_count": 32,
   "metadata": {
    "collapsed": false
   },
   "outputs": [],
   "source": [
    "structural_templates_2['max_seq_identity'] = (\n",
    "    structural_templates_2['alignment_identity'].apply(get_max_seq_identity)\n",
    ")"
   ]
  },
  {
   "cell_type": "code",
   "execution_count": 33,
   "metadata": {
    "collapsed": false
   },
   "outputs": [
    {
     "data": {
      "text/plain": [
       "<matplotlib.axes._subplots.AxesSubplot at 0x7f02e9974da0>"
      ]
     },
     "execution_count": 33,
     "metadata": {},
     "output_type": "execute_result"
    },
    {
     "data": {
      "image/png": "[encoded data removed]",
      "text/plain": [
       "<matplotlib.figure.Figure at 0x7f02e99a4f28>"
      ]
     },
     "metadata": {},
     "output_type": "display_data"
    }
   ],
   "source": [
    "structural_templates_2['max_seq_identity'].hist()"
   ]
  },
  {
   "cell_type": "code",
   "execution_count": 34,
   "metadata": {
    "collapsed": false
   },
   "outputs": [
    {
     "data": {
      "text/plain": [
       "<matplotlib.axes._subplots.AxesSubplot at 0x7f02e9997780>"
      ]
     },
     "execution_count": 34,
     "metadata": {},
     "output_type": "execute_result"
    },
    {
     "data": {
      "image/png": "[encoded data removed]",
      "text/plain": [
       "<matplotlib.figure.Figure at 0x7f02e98fc320>"
      ]
     },
     "metadata": {},
     "output_type": "display_data"
    }
   ],
   "source": [
    "structural_templates_2.plot(kind='scatter', x='alignment_identity', y='max_seq_identity')"
   ]
  },
  {
   "cell_type": "code",
   "execution_count": 35,
   "metadata": {
    "collapsed": false
   },
   "outputs": [
    {
     "data": {
      "text/html": [
       "<div>\n",
       "<table border=\"1\" class=\"dataframe\">\n",
       "  <thead>\n",
       "    <tr style=\"text-align: right;\">\n",
       "      <th></th>\n",
       "      <th>alignment_coverage</th>\n",
       "      <th>alignment_identity</th>\n",
       "      <th>alignment_length</th>\n",
       "      <th>alignment_score</th>\n",
       "      <th>bitscore</th>\n",
       "      <th>domain_def_new</th>\n",
       "      <th>domain_end_new</th>\n",
       "      <th>domain_start_new</th>\n",
       "      <th>evalue</th>\n",
       "      <th>gap_opens</th>\n",
       "      <th>mismatches</th>\n",
       "      <th>pc_identity</th>\n",
       "      <th>pdb_cath_id</th>\n",
       "      <th>pdb_chain</th>\n",
       "      <th>pdb_domain_def</th>\n",
       "      <th>pdb_id</th>\n",
       "      <th>pdb_pdbfam_idx</th>\n",
       "      <th>pdb_pdbfam_name</th>\n",
       "      <th>pdb_pfam_clan</th>\n",
       "      <th>q_end</th>\n",
       "      <th>q_start</th>\n",
       "      <th>qseq</th>\n",
       "      <th>query_id</th>\n",
       "      <th>s_end</th>\n",
       "      <th>s_start</th>\n",
       "      <th>sseq</th>\n",
       "      <th>subject_id</th>\n",
       "      <th>t_date_modified</th>\n",
       "      <th>uniprot_domain_id</th>\n",
       "      <th>uniprot_domain_sequence</th>\n",
       "      <th>uniprot_id</th>\n",
       "      <th>uniprot_sequence</th>\n",
       "      <th>pdbfam_name</th>\n",
       "      <th>pdbfam_idx</th>\n",
       "      <th>pfam_clan</th>\n",
       "      <th>alignment_def</th>\n",
       "      <th>pfam_names</th>\n",
       "      <th>alignment_subdefs</th>\n",
       "      <th>path_to_data</th>\n",
       "      <th>template_errors</th>\n",
       "      <th>cath_id</th>\n",
       "      <th>domain_start</th>\n",
       "      <th>domain_end</th>\n",
       "      <th>domain_def</th>\n",
       "      <th>alignment_identity_old</th>\n",
       "      <th>alignment_coverage_old</th>\n",
       "      <th>alignment_score_old</th>\n",
       "      <th>t_date_modified_old</th>\n",
       "      <th>uniprot_name</th>\n",
       "      <th>max_seq_identity</th>\n",
       "    </tr>\n",
       "  </thead>\n",
       "  <tbody>\n",
       "    <tr>\n",
       "      <th>0</th>\n",
       "      <td>100.000000</td>\n",
       "      <td>100.00</td>\n",
       "      <td>110.0</td>\n",
       "      <td>1.000000</td>\n",
       "      <td>228.0</td>\n",
       "      <td>48:157</td>\n",
       "      <td>157.0</td>\n",
       "      <td>48.0</td>\n",
       "      <td>2.000000e-77</td>\n",
       "      <td>0.0</td>\n",
       "      <td>0.0</td>\n",
       "      <td>100.00</td>\n",
       "      <td>1brsB00</td>\n",
       "      <td>B</td>\n",
       "      <td>1:110</td>\n",
       "      <td>1brs</td>\n",
       "      <td>1.0</td>\n",
       "      <td>Ribonuclease</td>\n",
       "      <td>Ribonuclease</td>\n",
       "      <td>110.0</td>\n",
       "      <td>1.0</td>\n",
       "      <td>AQVINTFDGVADYLQTYHKLPDNYITKSEAQALGWVASKGNLADVA...</td>\n",
       "      <td>unnamed</td>\n",
       "      <td>110.0</td>\n",
       "      <td>1.0</td>\n",
       "      <td>AQVINTFDGVADYLQTYHKLPDNYITKSEAQALGWVASKGNLADVA...</td>\n",
       "      <td>1brs_B|Ribonuclease|1|Ribonuclease|1:110|1brsB00</td>\n",
       "      <td>2016-06-08 13:07:48.088652</td>\n",
       "      <td>24447509</td>\n",
       "      <td>AQVINTFDGVADYLQTYHKLPDNYITKSEAQALGWVASKGNLADVA...</td>\n",
       "      <td>P00648</td>\n",
       "      <td>MMKMEGIALKKRLSWISVCLLVLVSAAGMLFSTAAKTETSSHKAHT...</td>\n",
       "      <td>Ribonuclease</td>\n",
       "      <td>1</td>\n",
       "      <td>Ribonuclease</td>\n",
       "      <td>67:156</td>\n",
       "      <td>Ribonuclease</td>\n",
       "      <td>67:156</td>\n",
       "      <td>bacam/P00/64/P00648/Ribonuclease*67-156/</td>\n",
       "      <td>None</td>\n",
       "      <td>1b27A00</td>\n",
       "      <td>48</td>\n",
       "      <td>157</td>\n",
       "      <td>48:157</td>\n",
       "      <td>100.0</td>\n",
       "      <td>100.0</td>\n",
       "      <td>1.0</td>\n",
       "      <td>2015-09-01 05:12:36</td>\n",
       "      <td>RNBR_BACAM</td>\n",
       "      <td>100</td>\n",
       "    </tr>\n",
       "    <tr>\n",
       "      <th>1</th>\n",
       "      <td>99.090909</td>\n",
       "      <td>100.00</td>\n",
       "      <td>109.0</td>\n",
       "      <td>0.990909</td>\n",
       "      <td>226.0</td>\n",
       "      <td>49:157</td>\n",
       "      <td>157.0</td>\n",
       "      <td>49.0</td>\n",
       "      <td>1.000000e-76</td>\n",
       "      <td>0.0</td>\n",
       "      <td>0.0</td>\n",
       "      <td>100.00</td>\n",
       "      <td>1x1wC00</td>\n",
       "      <td>C</td>\n",
       "      <td>2:110</td>\n",
       "      <td>1x1w</td>\n",
       "      <td>1.0</td>\n",
       "      <td>Ribonuclease</td>\n",
       "      <td>Ribonuclease</td>\n",
       "      <td>110.0</td>\n",
       "      <td>2.0</td>\n",
       "      <td>QVINTFDGVADYLQTYHKLPDNYITKSEAQALGWVASKGNLADVAP...</td>\n",
       "      <td>unnamed</td>\n",
       "      <td>109.0</td>\n",
       "      <td>1.0</td>\n",
       "      <td>QVINTFDGVADYLQTYHKLPDNYITKSEAQALGWVASKGNLADVAP...</td>\n",
       "      <td>1x1w_C|Ribonuclease|1|Ribonuclease|2:110|1x1wC00</td>\n",
       "      <td>2016-06-08 13:07:48.088652</td>\n",
       "      <td>24447509</td>\n",
       "      <td>AQVINTFDGVADYLQTYHKLPDNYITKSEAQALGWVASKGNLADVA...</td>\n",
       "      <td>P00648</td>\n",
       "      <td>MMKMEGIALKKRLSWISVCLLVLVSAAGMLFSTAAKTETSSHKAHT...</td>\n",
       "      <td>Ribonuclease</td>\n",
       "      <td>1</td>\n",
       "      <td>Ribonuclease</td>\n",
       "      <td>67:156</td>\n",
       "      <td>Ribonuclease</td>\n",
       "      <td>67:156</td>\n",
       "      <td>bacam/P00/64/P00648/Ribonuclease*67-156/</td>\n",
       "      <td>None</td>\n",
       "      <td>1b27A00</td>\n",
       "      <td>48</td>\n",
       "      <td>157</td>\n",
       "      <td>48:157</td>\n",
       "      <td>100.0</td>\n",
       "      <td>100.0</td>\n",
       "      <td>1.0</td>\n",
       "      <td>2015-09-01 05:12:36</td>\n",
       "      <td>RNBR_BACAM</td>\n",
       "      <td>100</td>\n",
       "    </tr>\n",
       "    <tr>\n",
       "      <th>2</th>\n",
       "      <td>100.000000</td>\n",
       "      <td>99.09</td>\n",
       "      <td>110.0</td>\n",
       "      <td>0.991355</td>\n",
       "      <td>226.0</td>\n",
       "      <td>48:157</td>\n",
       "      <td>157.0</td>\n",
       "      <td>48.0</td>\n",
       "      <td>1.000000e-76</td>\n",
       "      <td>0.0</td>\n",
       "      <td>1.0</td>\n",
       "      <td>99.09</td>\n",
       "      <td>1b2sA00</td>\n",
       "      <td>A</td>\n",
       "      <td>1:110</td>\n",
       "      <td>1b2s</td>\n",
       "      <td>1.0</td>\n",
       "      <td>Ribonuclease</td>\n",
       "      <td>Ribonuclease</td>\n",
       "      <td>110.0</td>\n",
       "      <td>1.0</td>\n",
       "      <td>AQVINTFDGVADYLQTYHKLPDNYITKSEAQALGWVASKGNLADVA...</td>\n",
       "      <td>unnamed</td>\n",
       "      <td>110.0</td>\n",
       "      <td>1.0</td>\n",
       "      <td>AQVINTFDGVADYLQTYHKLPDNYITASEAQALGWVASKGNLADVA...</td>\n",
       "      <td>1b2s_A|Ribonuclease|1|Ribonuclease|1:110|1b2sA00</td>\n",
       "      <td>2016-06-08 13:07:48.088652</td>\n",
       "      <td>24447509</td>\n",
       "      <td>AQVINTFDGVADYLQTYHKLPDNYITKSEAQALGWVASKGNLADVA...</td>\n",
       "      <td>P00648</td>\n",
       "      <td>MMKMEGIALKKRLSWISVCLLVLVSAAGMLFSTAAKTETSSHKAHT...</td>\n",
       "      <td>Ribonuclease</td>\n",
       "      <td>1</td>\n",
       "      <td>Ribonuclease</td>\n",
       "      <td>67:156</td>\n",
       "      <td>Ribonuclease</td>\n",
       "      <td>67:156</td>\n",
       "      <td>bacam/P00/64/P00648/Ribonuclease*67-156/</td>\n",
       "      <td>None</td>\n",
       "      <td>1b27A00</td>\n",
       "      <td>48</td>\n",
       "      <td>157</td>\n",
       "      <td>48:157</td>\n",
       "      <td>100.0</td>\n",
       "      <td>100.0</td>\n",
       "      <td>1.0</td>\n",
       "      <td>2015-09-01 05:12:36</td>\n",
       "      <td>RNBR_BACAM</td>\n",
       "      <td>100</td>\n",
       "    </tr>\n",
       "    <tr>\n",
       "      <th>3</th>\n",
       "      <td>100.000000</td>\n",
       "      <td>99.09</td>\n",
       "      <td>110.0</td>\n",
       "      <td>0.991355</td>\n",
       "      <td>225.0</td>\n",
       "      <td>48:157</td>\n",
       "      <td>157.0</td>\n",
       "      <td>48.0</td>\n",
       "      <td>2.000000e-76</td>\n",
       "      <td>0.0</td>\n",
       "      <td>1.0</td>\n",
       "      <td>99.09</td>\n",
       "      <td>1x1yB00</td>\n",
       "      <td>B</td>\n",
       "      <td>1:110</td>\n",
       "      <td>1x1y</td>\n",
       "      <td>1.0</td>\n",
       "      <td>Ribonuclease</td>\n",
       "      <td>Ribonuclease</td>\n",
       "      <td>110.0</td>\n",
       "      <td>1.0</td>\n",
       "      <td>AQVINTFDGVADYLQTYHKLPDNYITKSEAQALGWVASKGNLADVA...</td>\n",
       "      <td>unnamed</td>\n",
       "      <td>110.0</td>\n",
       "      <td>1.0</td>\n",
       "      <td>AAVINTFDGVADYLQTYHKLPDNYITKSEAQALGWVASKGNLADVA...</td>\n",
       "      <td>1x1y_B|Ribonuclease|1|Ribonuclease|1:110|1x1yB00</td>\n",
       "      <td>2016-06-08 13:07:48.088652</td>\n",
       "      <td>24447509</td>\n",
       "      <td>AQVINTFDGVADYLQTYHKLPDNYITKSEAQALGWVASKGNLADVA...</td>\n",
       "      <td>P00648</td>\n",
       "      <td>MMKMEGIALKKRLSWISVCLLVLVSAAGMLFSTAAKTETSSHKAHT...</td>\n",
       "      <td>Ribonuclease</td>\n",
       "      <td>1</td>\n",
       "      <td>Ribonuclease</td>\n",
       "      <td>67:156</td>\n",
       "      <td>Ribonuclease</td>\n",
       "      <td>67:156</td>\n",
       "      <td>bacam/P00/64/P00648/Ribonuclease*67-156/</td>\n",
       "      <td>None</td>\n",
       "      <td>1b27A00</td>\n",
       "      <td>48</td>\n",
       "      <td>157</td>\n",
       "      <td>48:157</td>\n",
       "      <td>100.0</td>\n",
       "      <td>100.0</td>\n",
       "      <td>1.0</td>\n",
       "      <td>2015-09-01 05:12:36</td>\n",
       "      <td>RNBR_BACAM</td>\n",
       "      <td>100</td>\n",
       "    </tr>\n",
       "    <tr>\n",
       "      <th>4</th>\n",
       "      <td>99.090909</td>\n",
       "      <td>99.08</td>\n",
       "      <td>109.0</td>\n",
       "      <td>0.982249</td>\n",
       "      <td>225.0</td>\n",
       "      <td>49:157</td>\n",
       "      <td>157.0</td>\n",
       "      <td>49.0</td>\n",
       "      <td>3.000000e-76</td>\n",
       "      <td>0.0</td>\n",
       "      <td>1.0</td>\n",
       "      <td>99.08</td>\n",
       "      <td>1banC00</td>\n",
       "      <td>C</td>\n",
       "      <td>2:110</td>\n",
       "      <td>1ban</td>\n",
       "      <td>1.0</td>\n",
       "      <td>Ribonuclease</td>\n",
       "      <td>Ribonuclease</td>\n",
       "      <td>110.0</td>\n",
       "      <td>2.0</td>\n",
       "      <td>QVINTFDGVADYLQTYHKLPDNYITKSEAQALGWVASKGNLADVAP...</td>\n",
       "      <td>unnamed</td>\n",
       "      <td>109.0</td>\n",
       "      <td>1.0</td>\n",
       "      <td>QVINTFDGVADYLQTYHKLPDNYITKSEAQALGWVASKGNLADVAP...</td>\n",
       "      <td>1ban_C|Ribonuclease|1|Ribonuclease|2:110|1banC00</td>\n",
       "      <td>2016-06-08 13:07:48.088652</td>\n",
       "      <td>24447509</td>\n",
       "      <td>AQVINTFDGVADYLQTYHKLPDNYITKSEAQALGWVASKGNLADVA...</td>\n",
       "      <td>P00648</td>\n",
       "      <td>MMKMEGIALKKRLSWISVCLLVLVSAAGMLFSTAAKTETSSHKAHT...</td>\n",
       "      <td>Ribonuclease</td>\n",
       "      <td>1</td>\n",
       "      <td>Ribonuclease</td>\n",
       "      <td>67:156</td>\n",
       "      <td>Ribonuclease</td>\n",
       "      <td>67:156</td>\n",
       "      <td>bacam/P00/64/P00648/Ribonuclease*67-156/</td>\n",
       "      <td>None</td>\n",
       "      <td>1b27A00</td>\n",
       "      <td>48</td>\n",
       "      <td>157</td>\n",
       "      <td>48:157</td>\n",
       "      <td>100.0</td>\n",
       "      <td>100.0</td>\n",
       "      <td>1.0</td>\n",
       "      <td>2015-09-01 05:12:36</td>\n",
       "      <td>RNBR_BACAM</td>\n",
       "      <td>100</td>\n",
       "    </tr>\n",
       "  </tbody>\n",
       "</table>\n",
       "</div>"
      ],
      "text/plain": [
       "   alignment_coverage  alignment_identity  alignment_length  alignment_score  bitscore domain_def_new  domain_end_new  domain_start_new        evalue  gap_opens  mismatches  pc_identity pdb_cath_id pdb_chain pdb_domain_def pdb_id  pdb_pdbfam_idx pdb_pdbfam_name pdb_pfam_clan  q_end  q_start                                               qseq query_id  s_end  s_start                                               sseq                                        subject_id            t_date_modified  uniprot_domain_id                            uniprot_domain_sequence uniprot_id                                   uniprot_sequence   pdbfam_name  pdbfam_idx     pfam_clan alignment_def    pfam_names alignment_subdefs                              path_to_data template_errors  cath_id  domain_start  domain_end domain_def  alignment_identity_old  alignment_coverage_old  alignment_score_old t_date_modified_old uniprot_name  max_seq_identity\n",
       "0          100.000000              100.00             110.0         1.000000     228.0         48:157           157.0              48.0  2.000000e-77        0.0         0.0       100.00     1brsB00         B          1:110   1brs             1.0    Ribonuclease  Ribonuclease  110.0      1.0  AQVINTFDGVADYLQTYHKLPDNYITKSEAQALGWVASKGNLADVA...  unnamed  110.0      1.0  AQVINTFDGVADYLQTYHKLPDNYITKSEAQALGWVASKGNLADVA...  1brs_B|Ribonuclease|1|Ribonuclease|1:110|1brsB00 2016-06-08 13:07:48.088652           24447509  AQVINTFDGVADYLQTYHKLPDNYITKSEAQALGWVASKGNLADVA...     P00648  MMKMEGIALKKRLSWISVCLLVLVSAAGMLFSTAAKTETSSHKAHT...  Ribonuclease           1  Ribonuclease        67:156  Ribonuclease            67:156  bacam/P00/64/P00648/Ribonuclease*67-156/            None  1b27A00            48         157     48:157                   100.0                   100.0                  1.0 2015-09-01 05:12:36   RNBR_BACAM               100\n",
       "1           99.090909              100.00             109.0         0.990909     226.0         49:157           157.0              49.0  1.000000e-76        0.0         0.0       100.00     1x1wC00         C          2:110   1x1w             1.0    Ribonuclease  Ribonuclease  110.0      2.0  QVINTFDGVADYLQTYHKLPDNYITKSEAQALGWVASKGNLADVAP...  unnamed  109.0      1.0  QVINTFDGVADYLQTYHKLPDNYITKSEAQALGWVASKGNLADVAP...  1x1w_C|Ribonuclease|1|Ribonuclease|2:110|1x1wC00 2016-06-08 13:07:48.088652           24447509  AQVINTFDGVADYLQTYHKLPDNYITKSEAQALGWVASKGNLADVA...     P00648  MMKMEGIALKKRLSWISVCLLVLVSAAGMLFSTAAKTETSSHKAHT...  Ribonuclease           1  Ribonuclease        67:156  Ribonuclease            67:156  bacam/P00/64/P00648/Ribonuclease*67-156/            None  1b27A00            48         157     48:157                   100.0                   100.0                  1.0 2015-09-01 05:12:36   RNBR_BACAM               100\n",
       "2          100.000000               99.09             110.0         0.991355     226.0         48:157           157.0              48.0  1.000000e-76        0.0         1.0        99.09     1b2sA00         A          1:110   1b2s             1.0    Ribonuclease  Ribonuclease  110.0      1.0  AQVINTFDGVADYLQTYHKLPDNYITKSEAQALGWVASKGNLADVA...  unnamed  110.0      1.0  AQVINTFDGVADYLQTYHKLPDNYITASEAQALGWVASKGNLADVA...  1b2s_A|Ribonuclease|1|Ribonuclease|1:110|1b2sA00 2016-06-08 13:07:48.088652           24447509  AQVINTFDGVADYLQTYHKLPDNYITKSEAQALGWVASKGNLADVA...     P00648  MMKMEGIALKKRLSWISVCLLVLVSAAGMLFSTAAKTETSSHKAHT...  Ribonuclease           1  Ribonuclease        67:156  Ribonuclease            67:156  bacam/P00/64/P00648/Ribonuclease*67-156/            None  1b27A00            48         157     48:157                   100.0                   100.0                  1.0 2015-09-01 05:12:36   RNBR_BACAM               100\n",
       "3          100.000000               99.09             110.0         0.991355     225.0         48:157           157.0              48.0  2.000000e-76        0.0         1.0        99.09     1x1yB00         B          1:110   1x1y             1.0    Ribonuclease  Ribonuclease  110.0      1.0  AQVINTFDGVADYLQTYHKLPDNYITKSEAQALGWVASKGNLADVA...  unnamed  110.0      1.0  AAVINTFDGVADYLQTYHKLPDNYITKSEAQALGWVASKGNLADVA...  1x1y_B|Ribonuclease|1|Ribonuclease|1:110|1x1yB00 2016-06-08 13:07:48.088652           24447509  AQVINTFDGVADYLQTYHKLPDNYITKSEAQALGWVASKGNLADVA...     P00648  MMKMEGIALKKRLSWISVCLLVLVSAAGMLFSTAAKTETSSHKAHT...  Ribonuclease           1  Ribonuclease        67:156  Ribonuclease            67:156  bacam/P00/64/P00648/Ribonuclease*67-156/            None  1b27A00            48         157     48:157                   100.0                   100.0                  1.0 2015-09-01 05:12:36   RNBR_BACAM               100\n",
       "4           99.090909               99.08             109.0         0.982249     225.0         49:157           157.0              49.0  3.000000e-76        0.0         1.0        99.08     1banC00         C          2:110   1ban             1.0    Ribonuclease  Ribonuclease  110.0      2.0  QVINTFDGVADYLQTYHKLPDNYITKSEAQALGWVASKGNLADVAP...  unnamed  109.0      1.0  QVINTFDGVADYLQTYHKLPDNYITKSEAQALGWVASKGNLADVAP...  1ban_C|Ribonuclease|1|Ribonuclease|2:110|1banC00 2016-06-08 13:07:48.088652           24447509  AQVINTFDGVADYLQTYHKLPDNYITKSEAQALGWVASKGNLADVA...     P00648  MMKMEGIALKKRLSWISVCLLVLVSAAGMLFSTAAKTETSSHKAHT...  Ribonuclease           1  Ribonuclease        67:156  Ribonuclease            67:156  bacam/P00/64/P00648/Ribonuclease*67-156/            None  1b27A00            48         157     48:157                   100.0                   100.0                  1.0 2015-09-01 05:12:36   RNBR_BACAM               100"
      ]
     },
     "metadata": {},
     "output_type": "display_data"
    },
    {
     "name": "stdout",
     "output_type": "stream",
     "text": [
      "(191396, 50)\n"
     ]
    }
   ],
   "source": [
    "display(structural_templates_2.head())\n",
    "print(structural_templates_2.shape)"
   ]
  },
  {
   "cell_type": "code",
   "execution_count": 36,
   "metadata": {
    "collapsed": true
   },
   "outputs": [],
   "source": [
    "structural_templates_2 = structural_templates_2.sort_values('alignment_score', ascending=False)\n",
    "structural_templates_2 = structural_templates_2.drop_duplicates(subset=['uniprot_domain_id', 'max_seq_identity'])"
   ]
  },
  {
   "cell_type": "code",
   "execution_count": 37,
   "metadata": {
    "collapsed": false
   },
   "outputs": [
    {
     "name": "stdout",
     "output_type": "stream",
     "text": [
      "(1133, 21)\n",
      "(2814, 50)\n"
     ]
    }
   ],
   "source": [
    "print(all_training_data_2.shape)\n",
    "print(structural_templates_2.shape)"
   ]
  },
  {
   "cell_type": "code",
   "execution_count": 38,
   "metadata": {
    "collapsed": false
   },
   "outputs": [
    {
     "data": {
      "text/plain": [
       "<matplotlib.axes._subplots.AxesSubplot at 0x7f02e88c1a58>"
      ]
     },
     "execution_count": 38,
     "metadata": {},
     "output_type": "execute_result"
    },
    {
     "data": {
      "image/png": "[encoded data removed]",
      "text/plain": [
       "<matplotlib.figure.Figure at 0x7f02e88d3518>"
      ]
     },
     "metadata": {},
     "output_type": "display_data"
    }
   ],
   "source": [
    "structural_templates_2['alignment_identity'].hist()"
   ]
  },
  {
   "cell_type": "code",
   "execution_count": 39,
   "metadata": {
    "collapsed": true
   },
   "outputs": [],
   "source": [
    "structural_templates_2_bak = structural_templates_2.copy()"
   ]
  },
  {
   "cell_type": "markdown",
   "metadata": {},
   "source": [
    "# Save to database"
   ]
  },
  {
   "cell_type": "code",
   "execution_count": 40,
   "metadata": {
    "collapsed": true
   },
   "outputs": [],
   "source": [
    "structural_templates_3 = structural_templates_2.copy()\n",
    "\n",
    "structural_templates_3['uniprot_domain_id_old'] = structural_templates_3['uniprot_domain_id']\n",
    "structural_templates_3['uniprot_domain_id'] = range(structural_templates_3.shape[0])"
   ]
  },
  {
   "cell_type": "markdown",
   "metadata": {},
   "source": [
    "### Set *path_to_data*"
   ]
  },
  {
   "cell_type": "code",
   "execution_count": 42,
   "metadata": {
    "collapsed": true
   },
   "outputs": [],
   "source": [
    "import elaspic.elaspic_database\n",
    "\n",
    "def get_path_to_data(X):\n",
    "    uniprot_name, uniprot_id, pfam_clan, alignment_def = X\n",
    "    # This is same as always so that we can retreive Provean supsets\n",
    "    prefix = elaspic.elaspic_database.get_uniprot_base_path(uniprot_name=uniprot_name, uniprot_id=uniprot_id)\n",
    "    # Add '.training' suffix so this never gets confused with anything in real life\n",
    "    suffix = elaspic.elaspic_database.get_uniprot_domain_path(pfam_clan=pfam_clan, alignment_def=alignment_def + '.training')\n",
    "    return prefix + suffix"
   ]
  },
  {
   "cell_type": "code",
   "execution_count": 43,
   "metadata": {
    "collapsed": false
   },
   "outputs": [],
   "source": [
    "structural_templates_3['path_to_data'] = (\n",
    "    structural_templates_3[['uniprot_name', 'uniprot_id', 'pfam_clan', 'alignment_def']]\n",
    "    .apply(get_path_to_data, axis=1)\n",
    ")"
   ]
  },
  {
   "cell_type": "code",
   "execution_count": 44,
   "metadata": {
    "collapsed": false
   },
   "outputs": [
    {
     "data": {
      "text/plain": [
       "0         bacam/P00/64/P00648/Ribonuclease.67-156.training/\n",
       "149521     human/O95/29/O95292/Motile_Sperm.8-110.training/\n",
       "23511     human/P11/31/P11310/Acyl-CoA_dh_N+Acyl-CoA_dh_...\n",
       "51945               human/P15/53/P15531/NDK.5-138.training/\n",
       "51871         human/Q00/60/Q00604/Cys_knot.47-132.training/\n",
       "Name: path_to_data, dtype: object"
      ]
     },
     "execution_count": 44,
     "metadata": {},
     "output_type": "execute_result"
    }
   ],
   "source": [
    "structural_templates_3['path_to_data'].head()"
   ]
  },
  {
   "cell_type": "code",
   "execution_count": 45,
   "metadata": {
    "collapsed": false
   },
   "outputs": [],
   "source": [
    "!mysql -u strokach -h 192.168.6.19 elaspic_training < ../scripts/create_database.sql"
   ]
  },
  {
   "cell_type": "code",
   "execution_count": 46,
   "metadata": {
    "collapsed": true
   },
   "outputs": [],
   "source": [
    "engine_et = sa.create_engine('mysql://strokach:@192.168.6.19/elaspic_training')"
   ]
  },
  {
   "cell_type": "code",
   "execution_count": 47,
   "metadata": {
    "collapsed": false,
    "run_control": {
     "marked": false
    }
   },
   "outputs": [],
   "source": [
    "_uniprot_domain = pd.read_sql_query('select * from uniprot_domain limit 0', engine_et)\n",
    "_uniprot_domain_template = pd.read_sql_query('select * from uniprot_domain_template limit 0', engine_et)\n",
    "_uniprot_domain_model = pd.read_sql_query('select * from uniprot_domain_model limit 0', engine_et)\n",
    "_uniprot_domain_mutation = pd.read_sql_query('select * from uniprot_domain_mutation limit 0', engine_et)"
   ]
  },
  {
   "cell_type": "code",
   "execution_count": 48,
   "metadata": {
    "collapsed": false
   },
   "outputs": [
    {
     "data": {
      "text/plain": [
       "set()"
      ]
     },
     "execution_count": 48,
     "metadata": {},
     "output_type": "execute_result"
    }
   ],
   "source": [
    "assert not set(_uniprot_domain.columns) - set(structural_templates_3.columns)"
   ]
  },
  {
   "cell_type": "code",
   "execution_count": 49,
   "metadata": {
    "collapsed": false
   },
   "outputs": [
    {
     "data": {
      "text/plain": [
       "set()"
      ]
     },
     "execution_count": 49,
     "metadata": {},
     "output_type": "execute_result"
    }
   ],
   "source": [
    "assert not set(_uniprot_domain_template.columns) - set(structural_templates_3.columns)"
   ]
  },
  {
   "cell_type": "code",
   "execution_count": 50,
   "metadata": {
    "collapsed": false
   },
   "outputs": [],
   "source": [
    "assert (structural_templates_3['uniprot_domain_id'].shape == \n",
    "        structural_templates_3['uniprot_domain_id'].drop_duplicates().shape)"
   ]
  },
  {
   "cell_type": "code",
   "execution_count": 51,
   "metadata": {
    "collapsed": false
   },
   "outputs": [],
   "source": [
    "structural_templates_3[_uniprot_domain.columns].to_sql(\n",
    "    'uniprot_domain', engine_et, schema='elaspic_training', index=False, chunksize=1000, if_exists='append')"
   ]
  },
  {
   "cell_type": "code",
   "execution_count": 52,
   "metadata": {
    "collapsed": false,
    "run_control": {
     "marked": false
    }
   },
   "outputs": [],
   "source": [
    "structural_templates_3[_uniprot_domain_template.columns].to_sql(\n",
    "    'uniprot_domain_template', engine_et, schema='elaspic_training', index=False, chunksize=1000, if_exists='append')"
   ]
  },
  {
   "cell_type": "markdown",
   "metadata": {},
   "source": [
    "# Run *elaspic* on training data"
   ]
  },
  {
   "cell_type": "code",
   "execution_count": 85,
   "metadata": {
    "collapsed": false
   },
   "outputs": [
    {
     "data": {
      "text/plain": [
       "'/home/kimlab1/database_data/biodb/recipes/elaspic_training_set/scripts/config_file_training.ini'"
      ]
     },
     "execution_count": 85,
     "metadata": {},
     "output_type": "execute_result"
    }
   ],
   "source": [
    "CONFIG_FILE_TRAINING = op.abspath('../scripts/config_file_training.ini')\n",
    "CONFIG_FILE_TRAINING"
   ]
  },
  {
   "cell_type": "code",
   "execution_count": 86,
   "metadata": {
    "collapsed": false
   },
   "outputs": [
    {
     "data": {
      "text/plain": [
       "'elaspic run -u {uniprot_id} -m {uniprot_mutation} -c /home/kimlab1/database_data/biodb/recipes/elaspic_training_set/scripts/config_file_training.ini'"
      ]
     },
     "execution_count": 86,
     "metadata": {},
     "output_type": "execute_result"
    }
   ],
   "source": [
    "SYSTEM_COMMAND_TEMPLATE = (\n",
    "    \"elaspic run -u {{uniprot_id}} -m {{uniprot_mutation}} -c {config_file_training}\"\n",
    "    .format(config_file_training=CONFIG_FILE_TRAINING)\n",
    ")\n",
    "SYSTEM_COMMAND_TEMPLATE"
   ]
  },
  {
   "cell_type": "code",
   "execution_count": 87,
   "metadata": {
    "collapsed": false
   },
   "outputs": [
    {
     "data": {
      "text/html": [
       "<div>\n",
       "<table border=\"1\" class=\"dataframe\">\n",
       "  <thead>\n",
       "    <tr style=\"text-align: right;\">\n",
       "      <th></th>\n",
       "      <th>uniprot_id</th>\n",
       "      <th>uniprot_mutation</th>\n",
       "    </tr>\n",
       "  </thead>\n",
       "  <tbody>\n",
       "    <tr>\n",
       "      <th>0</th>\n",
       "      <td>P00648</td>\n",
       "      <td>Q151A</td>\n",
       "    </tr>\n",
       "    <tr>\n",
       "      <th>1</th>\n",
       "      <td>P00648</td>\n",
       "      <td>I156A</td>\n",
       "    </tr>\n",
       "    <tr>\n",
       "      <th>2</th>\n",
       "      <td>P00648</td>\n",
       "      <td>V57A</td>\n",
       "    </tr>\n",
       "    <tr>\n",
       "      <th>3</th>\n",
       "      <td>P00648</td>\n",
       "      <td>D59A</td>\n",
       "    </tr>\n",
       "    <tr>\n",
       "      <th>4</th>\n",
       "      <td>P00648</td>\n",
       "      <td>Y60A</td>\n",
       "    </tr>\n",
       "  </tbody>\n",
       "</table>\n",
       "</div>"
      ],
      "text/plain": [
       "  uniprot_id uniprot_mutation\n",
       "0     P00648            Q151A\n",
       "1     P00648            I156A\n",
       "2     P00648             V57A\n",
       "3     P00648             D59A\n",
       "4     P00648             Y60A"
      ]
     },
     "execution_count": 87,
     "metadata": {},
     "output_type": "execute_result"
    }
   ],
   "source": [
    "df = (\n",
    "    all_mutations_ddg\n",
    "    [['uniprot_id', 'uniprot_mutation']]\n",
    "    .drop_duplicates()\n",
    ")\n",
    "assert len(df.index) == len(set(df.index))\n",
    "df.head()"
   ]
  },
  {
   "cell_type": "code",
   "execution_count": 88,
   "metadata": {
    "collapsed": false
   },
   "outputs": [],
   "source": [
    "system_commands = list(zip(\n",
    "    df.index,\n",
    "    df.apply(lambda x: SYSTEM_COMMAND_TEMPLATE.format(**x), axis=1)\n",
    "))"
   ]
  },
  {
   "cell_type": "code",
   "execution_count": 89,
   "metadata": {
    "collapsed": false
   },
   "outputs": [
    {
     "data": {
      "text/plain": [
       "[(0,\n",
       "  'elaspic run -u P00648 -m Q151A -c /home/kimlab1/database_data/biodb/recipes/elaspic_training_set/scripts/config_file_training.ini'),\n",
       " (1,\n",
       "  'elaspic run -u P00648 -m I156A -c /home/kimlab1/database_data/biodb/recipes/elaspic_training_set/scripts/config_file_training.ini')]"
      ]
     },
     "execution_count": 89,
     "metadata": {},
     "output_type": "execute_result"
    }
   ],
   "source": [
    "system_commands[:2]"
   ]
  },
  {
   "cell_type": "code",
   "execution_count": 141,
   "metadata": {
    "collapsed": true
   },
   "outputs": [],
   "source": [
    "logging.getLogger().setLevel(logging.INFO)"
   ]
  },
  {
   "cell_type": "code",
   "execution_count": 142,
   "metadata": {
    "collapsed": false
   },
   "outputs": [
    {
     "data": {
      "text/plain": [
       "<module 'ascommon.cluster_tools._jobsubmitter' from '/home/kimlab1/strokach/working/ascommon/ascommon/cluster_tools/_jobsubmitter.py'>"
      ]
     },
     "execution_count": 142,
     "metadata": {},
     "output_type": "execute_result"
    }
   ],
   "source": [
    "reload(ascommon)\n",
    "reload(ascommon.cluster_tools)\n",
    "reload(ascommon.cluster_tools._jobsubmitter)"
   ]
  },
  {
   "cell_type": "code",
   "execution_count": 143,
   "metadata": {
    "collapsed": false
   },
   "outputs": [
    {
     "name": "stderr",
     "output_type": "stream",
     "text": [
      "WARNING:ascommon.cluster_tools._jobsubmitter:Using an existing folder for log output. This is dangerous!!!\n"
     ]
    }
   ],
   "source": [
    "# Run gridsearch on cluster\n",
    "js = ascommon.cluster_tools.JobSubmitter(\n",
    "    job_name='_elaspic_training', \n",
    "    # connection_string='pbs://:@192.168.233.150', \n",
    "    connection_string='sge://:@192.168.6.201', \n",
    "    log_root_path=op.abspath(NOTEBOOK_NAME),\n",
    "    #\n",
    "    email='ostrokach@gmail.com', force_new_folder=False,\n",
    "    nproc=1, queue='medium', walltime='04:00:00', mem='10G', vmem='12G',\n",
    "    concurrent_job_limit=800,\n",
    "    env={'PATH': os.environ['PATH'], 'KEY_MODELLER': os.environ['KEY_MODELLER']}\n",
    ")"
   ]
  },
  {
   "cell_type": "raw",
   "metadata": {},
   "source": [
    "with js.connect():\n",
    "    js.submit(system_commands)"
   ]
  },
  {
   "cell_type": "code",
   "execution_count": 151,
   "metadata": {
    "collapsed": false
   },
   "outputs": [
    {
     "name": "stdout",
     "output_type": "stream",
     "text": [
      "Counter({'done': 5659, 'error': 35, 'running': 17})\n"
     ]
    }
   ],
   "source": [
    "# Get job status\n",
    "results_df = js.job_status(system_commands)\n",
    "print(Counter(results_df['status']))"
   ]
  },
  {
   "cell_type": "code",
   "execution_count": 152,
   "metadata": {
    "collapsed": false
   },
   "outputs": [
    {
     "name": "stdout",
     "output_type": "stream",
     "text": [
      "52\n"
     ]
    }
   ],
   "source": [
    "# Job statistics\n",
    "failed = (\n",
    "    set(results_df[results_df['status'] != 'done']['job_id'])\n",
    ")\n",
    "system_commands_remaining = [x for x in system_commands if x[0] in failed]\n",
    "print(len(system_commands_remaining))"
   ]
  },
  {
   "cell_type": "code",
   "execution_count": 153,
   "metadata": {
    "collapsed": false
   },
   "outputs": [],
   "source": [
    "with js.connect():\n",
    "    js.submit(system_commands_remaining)"
   ]
  },
  {
   "cell_type": "code",
   "execution_count": null,
   "metadata": {
    "collapsed": true
   },
   "outputs": [],
   "source": []
  },
  {
   "cell_type": "markdown",
   "metadata": {},
   "source": [
    "# Done"
   ]
  },
  {
   "cell_type": "code",
   "execution_count": null,
   "metadata": {
    "collapsed": true
   },
   "outputs": [],
   "source": []
  },
  {
   "cell_type": "code",
   "execution_count": null,
   "metadata": {
    "collapsed": true
   },
   "outputs": [],
   "source": [
    "!elaspic run -u P61981 -m E90G -c ../scripts/config_file.ini"
   ]
  },
  {
   "cell_type": "code",
   "execution_count": null,
   "metadata": {
    "collapsed": false
   },
   "outputs": [],
   "source": []
  },
  {
   "cell_type": "code",
   "execution_count": null,
   "metadata": {
    "collapsed": false,
    "scrolled": false
   },
   "outputs": [],
   "source": [
    "!elaspic run -u P00648 -m Q151A -c ../scripts/config_file_training.ini"
   ]
  },
  {
   "cell_type": "code",
   "execution_count": null,
   "metadata": {
    "collapsed": true
   },
   "outputs": [],
   "source": []
  },
  {
   "cell_type": "code",
   "execution_count": null,
   "metadata": {
    "collapsed": true
   },
   "outputs": [],
   "source": []
  },
  {
   "cell_type": "code",
   "execution_count": null,
   "metadata": {
    "collapsed": false
   },
   "outputs": [],
   "source": [
    "display(structural_templates_2.head())\n",
    "print(structural_templates_2.shape)"
   ]
  },
  {
   "cell_type": "code",
   "execution_count": null,
   "metadata": {
    "collapsed": true
   },
   "outputs": [],
   "source": []
  },
  {
   "cell_type": "code",
   "execution_count": null,
   "metadata": {
    "collapsed": false
   },
   "outputs": [],
   "source": [
    "max_seq_identity_df = pd.DataFrame([40, 60, 80, 100], columns=['max_seq_identity'])\n",
    "max_seq_identity_df['tmp'] = 1\n",
    "max_seq_identity_df"
   ]
  },
  {
   "cell_type": "code",
   "execution_count": null,
   "metadata": {
    "collapsed": true
   },
   "outputs": [],
   "source": []
  },
  {
   "cell_type": "code",
   "execution_count": null,
   "metadata": {
    "collapsed": true
   },
   "outputs": [],
   "source": []
  },
  {
   "cell_type": "code",
   "execution_count": null,
   "metadata": {
    "collapsed": true
   },
   "outputs": [],
   "source": []
  },
  {
   "cell_type": "code",
   "execution_count": null,
   "metadata": {
    "collapsed": true
   },
   "outputs": [],
   "source": []
  }
 ],
 "metadata": {
  "kernelspec": {
   "display_name": "Python 3",
   "language": "python",
   "name": "python3"
  }
 },
 "nbformat": 4,
 "nbformat_minor": 0
}
