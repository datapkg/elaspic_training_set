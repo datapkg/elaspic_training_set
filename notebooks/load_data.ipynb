{
 "cells": [
  {
   "cell_type": "markdown",
   "metadata": {},
   "source": [
    "# Summary\n",
    "\n",
    "-----"
   ]
  },
  {
   "cell_type": "markdown",
   "metadata": {},
   "source": [
    "# Imports"
   ]
  },
  {
   "cell_type": "code",
   "execution_count": 1,
   "metadata": {
    "collapsed": true
   },
   "outputs": [],
   "source": [
    "NOTEBOOK_NAME = 'load_data'"
   ]
  },
  {
   "cell_type": "code",
   "execution_count": 2,
   "metadata": {
    "collapsed": false
   },
   "outputs": [
    {
     "name": "stdout",
     "output_type": "stream",
     "text": [
      "elaspic_training_set\n",
      "2016-06-09 23:52:08.456316\n"
     ]
    }
   ],
   "source": [
    "%run imports.ipynb"
   ]
  },
  {
   "cell_type": "markdown",
   "metadata": {},
   "source": [
    "# Load data"
   ]
  },
  {
   "cell_type": "markdown",
   "metadata": {},
   "source": [
    "## Setup"
   ]
  },
  {
   "cell_type": "code",
   "execution_count": 3,
   "metadata": {
    "collapsed": false
   },
   "outputs": [
    {
     "data": {
      "text/plain": [
       "'mysql://strokach:@192.168.6.19:3306/elaspic_training_set'"
      ]
     },
     "execution_count": 3,
     "metadata": {},
     "output_type": "execute_result"
    }
   ],
   "source": [
    "CONNECTION_STR"
   ]
  },
  {
   "cell_type": "code",
   "execution_count": 4,
   "metadata": {
    "collapsed": false
   },
   "outputs": [],
   "source": [
    "db = datapkg.DataFrameToMySQL(CONNECTION_STR, NOTEBOOK_NAME, STG_SERVER_IP, echo=False)"
   ]
  },
  {
   "cell_type": "code",
   "execution_count": 5,
   "metadata": {
    "collapsed": true
   },
   "outputs": [],
   "source": [
    "# Combine experimental mutation sets with ELASPIC features\n",
    "sql_query_template = \"\"\"\\\n",
    "SELECT \n",
    "\n",
    "    p.*,\n",
    "\n",
    "    us.uniprot_sequence,\n",
    "\n",
    "    d.uniprot_domain_id,\n",
    "    d.pfam_clan,\n",
    "    t.alignment_identity,\n",
    "    t.alignment_coverage,\n",
    "    t.alignment_score,\n",
    "    m.norm_dope,\n",
    "    mut.stability_energy_wt, mut.stability_energy_mut,\n",
    "    mut.physchem_wt, mut.physchem_wt_ownchain, mut.physchem_mut, mut.physchem_mut_ownchain, \n",
    "    mut.matrix_score, \n",
    "    mut.secondary_structure_wt, mut.solvent_accessibility_wt, \n",
    "    mut.secondary_structure_mut, mut.solvent_accessibility_mut, \n",
    "    mut.provean_score, mut.ddg\n",
    "\n",
    "FROM ({subquery}) p\n",
    "JOIN uniprot_kb.uniprot_sequence us using (uniprot_id)\n",
    "JOIN elaspic.uniprot_domain d using (uniprot_id)\n",
    "LEFT JOIN elaspic.uniprot_domain_template t using (uniprot_domain_id)\n",
    "LEFT JOIN elaspic.uniprot_domain_model m using (uniprot_domain_id)\n",
    "LEFT JOIN elaspic.uniprot_domain_mutation mut using (uniprot_id, uniprot_domain_id, mutation)\n",
    "\n",
    "-- These two lines control whether we include mutations which fall outside domain\n",
    "WHERE (model_domain_def is not NULL and elaspic.MUTATION_IN_DOMAIN(mutation, model_domain_def))\n",
    "OR (model_domain_def is NULL and elaspic.MUTATION_IN_DOMAIN(mutation, domain_def));\n",
    "\"\"\""
   ]
  },
  {
   "cell_type": "code",
   "execution_count": 6,
   "metadata": {
    "collapsed": true
   },
   "outputs": [],
   "source": [
    "subqueries = dict()\n",
    "\n",
    "subqueries['protein_folding_energy'] = \"\"\"\n",
    "SELECT\n",
    "    uniprot_id,\n",
    "    uniprot_mutation mutation,\n",
    "    ddg_exp,\n",
    "    null del_score_exp,\n",
    "    null del_class_exp\n",
    "FROM protein_folding_energy.{table_name}\n",
    "WHERE ddg_exp is not null  -- remove mutations with no experimental ddG\n",
    "AND (uniprot_mutation REGEXP '^[A-Za-z][0-9]+[A-Za-z]$')  -- remove weird mutations\n",
    "AND (SUBSTRING(uniprot_mutation, 1, 1) != SUBSTRING(uniprot_mutation, -1))  -- remove synonymous mutations\n",
    "\"\"\"\n",
    "\n",
    "subqueries['protein_interface_energy'] = \"\"\"\n",
    "\"\"\"\n",
    "\n",
    "\n",
    "subqueries['humsavar'] = \"\"\"\n",
    "SELECT\n",
    "    uniprot_id,\n",
    "    uniprot_mutation mutation,\n",
    "    null ddg_exp,\n",
    "    null del_score_exp,\n",
    "    CASE type_of_variant WHEN 'Polymorphism' THEN 0 WHEN 'Disease' then 1 ELSE NULL END del_class_exp\n",
    "FROM uniprot.humsavar\n",
    "WHERE type_of_variant = 'Polymorphism' OR type_of_variant = 'Disease'\n",
    "\"\"\"\n",
    "\n",
    "\n",
    "subqueries['clinvar'] = \"\"\"\n",
    "SELECT\n",
    "    us.uniprot_acc uniprot_id,\n",
    "    d.mutationassessor_variant mutation,\n",
    "    null ddg_exp,\n",
    "    d.metalr_score del_score_exp,\n",
    "    0 del_class_exp\n",
    "FROM clinvar.clinvar_benign c\n",
    "JOIN dbnsfp.variant d ON (c.id = d.rs_dbsnp146)\n",
    "JOIN uniprot_kb_proteomes.UP000005640_9606_fasta us ON (us.uniprot_id = d.mutationassessor_uniprotid)\n",
    "WHERE d.mutationassessor_variant IS NOT NULL\n",
    "    UNION ALL\n",
    "SELECT \n",
    "    us.uniprot_acc uniprot_id,\n",
    "    d.mutationassessor_variant mutation,\n",
    "    null ddg_exp,\n",
    "    d.metalr_score del_score_exp,\n",
    "    1 del_class_exp\n",
    "FROM clinvar.clinvar c\n",
    "JOIN dbnsfp.variant d ON (c.id = d.rs_dbsnp146)\n",
    "JOIN uniprot_kb_proteomes.UP000005640_9606_fasta us ON (us.uniprot_id = d.mutationassessor_uniprotid)\n",
    "WHERE d.mutationassessor_variant IS NOT NULL\n",
    "\"\"\"\n",
    "\n",
    "\n",
    "\n",
    "SELECT\n",
    "    us.uniprot_acc uniprot_id,\n",
    "    d.mutationassessor_variant mutation,\n",
    "    null ddg_exp,\n",
    "    d.metalr_score del_score_exp,\n",
    "    0 del_class_exp\n",
    "FROM clinvar.clinvar_benign c\n",
    "JOIN dbnsfp.variant d ON (c.id = d.rs_dbsnp146)\n",
    "JOIN uniprot_kb.uniprot_acc2uniprot_id us ON (us.uniprot_id = d.mutationassessor_uniprotid)\n",
    "WHERE d.mutationassessor_variant IS NOT NULL\n",
    "    UNION ALL\n",
    "SELECT \n",
    "    us.uniprot_acc uniprot_id,\n",
    "    d.mutationassessor_variant mutation,\n",
    "    null ddg_exp,\n",
    "    d.metalr_score del_score_exp,\n",
    "    1 del_class_exp\n",
    "FROM clinvar.clinvar c\n",
    "JOIN dbnsfp.variant d ON (c.id = d.rs_dbsnp146)\n",
    "JOIN uniprot_kb.uniprot_acc2uniprot_id us ON (us.uniprot_id = d.mutationassessor_uniprotid)\n",
    "WHERE d.mutationassessor_variant IS NOT NULL\n",
    "\n",
    "\n",
    "\n",
    "\n",
    "\n",
    "\n",
    "subqueries['cosmic'] = \"\"\"\n",
    "SELECT \n",
    "    us.uniprot_id, \n",
    "    d.mutationassessor_variant mutation,\n",
    "    NULL ddg_exp,\n",
    "    `FATHMM score` del_score_exp,\n",
    "    CASE `FATHMM prediction` WHEN 'NEUTRAL' THEN 0 WHEN 'PATHOGENIC' THEN 1 ELSE NULL END del_class_exp\n",
    "FROM cosmic.CosmicCodingMuts ccm\n",
    "JOIN cosmic.CosmicMutantExport cme ON (cme.`Mutation ID` = ccm.ID)\n",
    "JOIN dbnsfp.variant d ON (ccm.CHROM = d.chr AND ccm.POS = d.pos_1based AND ccm.REF = d.ref AND ccm.ALT = d.alt)\n",
    "JOIN uniprot_kb.uniprot_sequence us ON (us.uniprot_name = d.mutationassessor_uniprotid)\n",
    "WHERE us.uniprot_id not like '%-%' AND mutation IS NOT NULL AND `FATHMM prediction` IS NOT NULL;\n",
    "\"\"\""
   ]
  },
  {
   "cell_type": "code",
   "execution_count": 7,
   "metadata": {
    "collapsed": true
   },
   "outputs": [],
   "source": [
    "def load_dataset(table_name=None, engine=None):\n",
    "    \"\"\"\n",
    "    \"\"\"\n",
    "    # Create sql query\n",
    "    if table_name in ['humsavar', 'clinvar', 'cosmic']:\n",
    "        subquery = subqueries[table_name]\n",
    "    else:\n",
    "        subquery = subqueries['protein_folding_energy'].format(table_name=table_name)\n",
    "    sql_query = sql_query_template.format(subquery=subquery)\n",
    "    \n",
    "    # Read sql query\n",
    "    df = pd.read_sql_query(sql_query, engine)\n",
    "    df = df.rename(columns={'mutation': 'uniprot_mutation'})\n",
    "    # df = ascommon.df_tools.remove_duplicate_columns(df)\n",
    "    print(\"{}: ({})\".format(table_name, df.shape[0]))\n",
    "    \n",
    "    # === All these rules could be converted to SQL... ===\n",
    "    # Remove rows with null mutations\n",
    "    null_mutants_ = (df['uniprot_mutation'].isnull()) | (df['uniprot_mutation'] == '-')\n",
    "    print(\"Removing {} null mutants...\".format(null_mutants_.sum()))\n",
    "    df = df[~null_mutants_]\n",
    "\n",
    "    # Remove SIFTS errors\n",
    "    sifts_errors_ = df['uniprot_mutation'] == '?'\n",
    "    print(\"Removing {} sifts errors...\".format(sifts_errors_.sum()))\n",
    "    df = df[~sifts_errors_]\n",
    "\n",
    "    # Remove rows with weird mutations\n",
    "    multi_mutants_ = df['uniprot_mutation'].str.contains(',')\n",
    "    print(\"Removing {} multi mutants...\".format(multi_mutants_.sum()))\n",
    "    df = df[~multi_mutants_]\n",
    "\n",
    "    # Remove wild-type rows\n",
    "    wild_ = (df['uniprot_mutation'].str.lower() == 'wild')\n",
    "    print(\"Removing {} wild mutants...\".format(wild_.sum()))\n",
    "    df = df[~wild_]\n",
    "\n",
    "    # Remove synonymous mutations\n",
    "    synonymous_ = df['uniprot_mutation'].str[0] == df['uniprot_mutation'].str[-1]\n",
    "    print(\"Removing {} synonymous mutants...\".format(synonymous_.sum()))\n",
    "    df = df[~synonymous_]\n",
    "\n",
    "    # Remove sequence mismatch mutations\n",
    "    mutation_matches_sequence_ = (\n",
    "        df[['uniprot_mutation', 'uniprot_sequence']]\n",
    "        .apply(lambda x: ascommon.sequence_tools.mutation_matches_sequence(*x), axis=1)\n",
    "    )\n",
    "    mutation_matches_sequence_ = mutation_matches_sequence_.fillna(False)\n",
    "    print(\"Removing {} mutations not matching sequence...\".format((~mutation_matches_sequence_).sum()))\n",
    "    df = df[mutation_matches_sequence_]\n",
    "\n",
    "    # Convert ELASPIC features to expected format\n",
    "    shape_before = df.shape[0]\n",
    "    df = elaspic.elaspic_predictor.format_mutation_features(df, 'core')\n",
    "    df = elaspic.elaspic_predictor.convert_features_to_differences(df)\n",
    "    shape_after = df.shape[0]\n",
    "    assert shape_before == shape_after\n",
    "    \n",
    "    # DONE!\n",
    "    print('-' * 80)\n",
    "    return df"
   ]
  },
  {
   "cell_type": "markdown",
   "metadata": {},
   "source": [
    "## Run"
   ]
  },
  {
   "cell_type": "code",
   "execution_count": 8,
   "metadata": {
    "collapsed": true
   },
   "outputs": [],
   "source": [
    "os.makedirs(NOTEBOOK_NAME, exist_ok=True)"
   ]
  },
  {
   "cell_type": "markdown",
   "metadata": {},
   "source": [
    "### DATASETS"
   ]
  },
  {
   "cell_type": "code",
   "execution_count": 9,
   "metadata": {
    "collapsed": true
   },
   "outputs": [],
   "source": [
    "DATASETS = [\n",
    "    'alascan_gpk',\n",
    "    'curatedprotherm',\n",
    "    'guerois',\n",
    "    'kellogg',\n",
    "    'potapov',\n",
    "    'protherm',\n",
    "    'taipale',\n",
    "    'humsavar',\n",
    "    'clinvar',\n",
    "    'cosmic',\n",
    "]"
   ]
  },
  {
   "cell_type": "markdown",
   "metadata": {},
   "source": [
    "### DATA"
   ]
  },
  {
   "cell_type": "code",
   "execution_count": 10,
   "metadata": {
    "collapsed": false,
    "scrolled": false
   },
   "outputs": [
    {
     "name": "stdout",
     "output_type": "stream",
     "text": [
      "alascan_gpk: (766)\n",
      "Removing 0 null mutants...\n",
      "Removing 0 sifts errors...\n",
      "Removing 0 multi mutants...\n",
      "Removing 0 wild mutants...\n",
      "Removing 0 synonymous mutants...\n",
      "Removing 3 mutations not matching sequence...\n",
      "--------------------------------------------------------------------------------\n",
      "curatedprotherm: (2923)\n",
      "Removing 0 null mutants...\n",
      "Removing 0 sifts errors...\n",
      "Removing 0 multi mutants...\n",
      "Removing 0 wild mutants...\n",
      "Removing 0 synonymous mutants...\n",
      "Removing 4 mutations not matching sequence...\n",
      "--------------------------------------------------------------------------------\n",
      "guerois: (939)\n",
      "Removing 0 null mutants...\n",
      "Removing 0 sifts errors...\n",
      "Removing 0 multi mutants...\n",
      "Removing 0 wild mutants...\n",
      "Removing 0 synonymous mutants...\n",
      "Removing 1 mutations not matching sequence...\n",
      "--------------------------------------------------------------------------------\n",
      "kellogg: (1145)\n",
      "Removing 0 null mutants...\n",
      "Removing 0 sifts errors...\n",
      "Removing 0 multi mutants...\n",
      "Removing 0 wild mutants...\n",
      "Removing 0 synonymous mutants...\n",
      "Removing 1 mutations not matching sequence...\n",
      "--------------------------------------------------------------------------------\n",
      "potapov: (2122)\n",
      "Removing 0 null mutants...\n",
      "Removing 0 sifts errors...\n",
      "Removing 0 multi mutants...\n",
      "Removing 0 wild mutants...\n",
      "Removing 0 synonymous mutants...\n",
      "Removing 3 mutations not matching sequence...\n",
      "--------------------------------------------------------------------------------\n",
      "protherm: (5839)\n",
      "Removing 0 null mutants...\n",
      "Removing 0 sifts errors...\n",
      "Removing 0 multi mutants...\n",
      "Removing 0 wild mutants...\n",
      "Removing 0 synonymous mutants...\n",
      "Removing 10 mutations not matching sequence...\n",
      "--------------------------------------------------------------------------------\n",
      "taipale: (1920)\n",
      "Removing 0 null mutants...\n",
      "Removing 0 sifts errors...\n",
      "Removing 0 multi mutants...\n",
      "Removing 0 wild mutants...\n",
      "Removing 0 synonymous mutants...\n",
      "Removing 0 mutations not matching sequence...\n",
      "--------------------------------------------------------------------------------\n",
      "humsavar: (34500)\n",
      "Removing 0 null mutants...\n",
      "Removing 0 sifts errors...\n",
      "Removing 0 multi mutants...\n",
      "Removing 0 wild mutants...\n",
      "Removing 0 synonymous mutants...\n",
      "Removing 231 mutations not matching sequence...\n",
      "--------------------------------------------------------------------------------\n"
     ]
    },
    {
     "ename": "KeyboardInterrupt",
     "evalue": "",
     "output_type": "error",
     "traceback": [
      "\u001b[1;31m---------------------------------------------------------------------------\u001b[0m",
      "\u001b[1;31mOperationalError\u001b[0m                          Traceback (most recent call last)",
      "\u001b[1;32m/home/kimlab1/strokach/anaconda/lib/python3.5/site-packages/MySQLdb/cursors.py\u001b[0m in \u001b[0;36mexecute\u001b[1;34m(self, query, args)\u001b[0m\n\u001b[0;32m    216\u001b[0m         \u001b[1;32mtry\u001b[0m\u001b[1;33m:\u001b[0m\u001b[1;33m\u001b[0m\u001b[0m\n\u001b[1;32m--> 217\u001b[1;33m             \u001b[0mres\u001b[0m \u001b[1;33m=\u001b[0m \u001b[0mself\u001b[0m\u001b[1;33m.\u001b[0m\u001b[0m_query\u001b[0m\u001b[1;33m(\u001b[0m\u001b[0mquery\u001b[0m\u001b[1;33m)\u001b[0m\u001b[1;33m\u001b[0m\u001b[0m\n\u001b[0m\u001b[0;32m    218\u001b[0m         \u001b[1;32mexcept\u001b[0m \u001b[0mTypeError\u001b[0m \u001b[1;32mas\u001b[0m \u001b[0mm\u001b[0m\u001b[1;33m:\u001b[0m\u001b[1;33m\u001b[0m\u001b[0m\n",
      "\u001b[1;32m/home/kimlab1/strokach/anaconda/lib/python3.5/site-packages/MySQLdb/cursors.py\u001b[0m in \u001b[0;36m_query\u001b[1;34m(self, q)\u001b[0m\n\u001b[0;32m    377\u001b[0m     \u001b[1;32mdef\u001b[0m \u001b[0m_query\u001b[0m\u001b[1;33m(\u001b[0m\u001b[0mself\u001b[0m\u001b[1;33m,\u001b[0m \u001b[0mq\u001b[0m\u001b[1;33m)\u001b[0m\u001b[1;33m:\u001b[0m\u001b[1;33m\u001b[0m\u001b[0m\n\u001b[1;32m--> 378\u001b[1;33m         \u001b[0mrowcount\u001b[0m \u001b[1;33m=\u001b[0m \u001b[0mself\u001b[0m\u001b[1;33m.\u001b[0m\u001b[0m_do_query\u001b[0m\u001b[1;33m(\u001b[0m\u001b[0mq\u001b[0m\u001b[1;33m)\u001b[0m\u001b[1;33m\u001b[0m\u001b[0m\n\u001b[0m\u001b[0;32m    379\u001b[0m         \u001b[0mself\u001b[0m\u001b[1;33m.\u001b[0m\u001b[0m_post_get_result\u001b[0m\u001b[1;33m(\u001b[0m\u001b[1;33m)\u001b[0m\u001b[1;33m\u001b[0m\u001b[0m\n",
      "\u001b[1;32m/home/kimlab1/strokach/anaconda/lib/python3.5/site-packages/MySQLdb/cursors.py\u001b[0m in \u001b[0;36m_do_query\u001b[1;34m(self, q)\u001b[0m\n\u001b[0;32m    340\u001b[0m         \u001b[0mself\u001b[0m\u001b[1;33m.\u001b[0m\u001b[0m_last_executed\u001b[0m \u001b[1;33m=\u001b[0m \u001b[0mq\u001b[0m\u001b[1;33m\u001b[0m\u001b[0m\n\u001b[1;32m--> 341\u001b[1;33m         \u001b[0mdb\u001b[0m\u001b[1;33m.\u001b[0m\u001b[0mquery\u001b[0m\u001b[1;33m(\u001b[0m\u001b[0mq\u001b[0m\u001b[1;33m)\u001b[0m\u001b[1;33m\u001b[0m\u001b[0m\n\u001b[0m\u001b[0;32m    342\u001b[0m         \u001b[0mself\u001b[0m\u001b[1;33m.\u001b[0m\u001b[0m_do_get_result\u001b[0m\u001b[1;33m(\u001b[0m\u001b[1;33m)\u001b[0m\u001b[1;33m\u001b[0m\u001b[0m\n",
      "\u001b[1;32m/home/kimlab1/strokach/anaconda/lib/python3.5/site-packages/MySQLdb/connections.py\u001b[0m in \u001b[0;36mquery\u001b[1;34m(self, query)\u001b[0m\n\u001b[0;32m    279\u001b[0m         \u001b[1;32melse\u001b[0m\u001b[1;33m:\u001b[0m\u001b[1;33m\u001b[0m\u001b[0m\n\u001b[1;32m--> 280\u001b[1;33m             \u001b[0m_mysql\u001b[0m\u001b[1;33m.\u001b[0m\u001b[0mconnection\u001b[0m\u001b[1;33m.\u001b[0m\u001b[0mquery\u001b[0m\u001b[1;33m(\u001b[0m\u001b[0mself\u001b[0m\u001b[1;33m,\u001b[0m \u001b[0mquery\u001b[0m\u001b[1;33m)\u001b[0m\u001b[1;33m\u001b[0m\u001b[0m\n\u001b[0m\u001b[0;32m    281\u001b[0m \u001b[1;33m\u001b[0m\u001b[0m\n",
      "\u001b[1;31mOperationalError\u001b[0m: (2013, 'Lost connection to MySQL server during query')",
      "\nDuring handling of the above exception, another exception occurred:\n",
      "\u001b[1;31mKeyboardInterrupt\u001b[0m                         Traceback (most recent call last)",
      "\u001b[1;32m<ipython-input-10-2a678bb2f17f>\u001b[0m in \u001b[0;36m<module>\u001b[1;34m()\u001b[0m\n\u001b[0;32m      1\u001b[0m DATA = {\n\u001b[0;32m      2\u001b[0m     \u001b[0mtable_name\u001b[0m\u001b[1;33m:\u001b[0m \u001b[0mload_dataset\u001b[0m\u001b[1;33m(\u001b[0m\u001b[0mtable_name\u001b[0m\u001b[1;33m=\u001b[0m\u001b[0mtable_name\u001b[0m\u001b[1;33m,\u001b[0m \u001b[0mengine\u001b[0m\u001b[1;33m=\u001b[0m\u001b[0mdb\u001b[0m\u001b[1;33m.\u001b[0m\u001b[0mengine\u001b[0m\u001b[1;33m)\u001b[0m\u001b[1;33m\u001b[0m\u001b[0m\n\u001b[1;32m----> 3\u001b[1;33m     \u001b[1;32mfor\u001b[0m \u001b[0mtable_name\u001b[0m \u001b[1;32min\u001b[0m \u001b[0mDATASETS\u001b[0m\u001b[1;33m\u001b[0m\u001b[0m\n\u001b[0m\u001b[0;32m      4\u001b[0m }\n",
      "\u001b[1;32m<ipython-input-10-2a678bb2f17f>\u001b[0m in \u001b[0;36m<dictcomp>\u001b[1;34m(.0)\u001b[0m\n\u001b[0;32m      1\u001b[0m DATA = {\n\u001b[0;32m      2\u001b[0m     \u001b[0mtable_name\u001b[0m\u001b[1;33m:\u001b[0m \u001b[0mload_dataset\u001b[0m\u001b[1;33m(\u001b[0m\u001b[0mtable_name\u001b[0m\u001b[1;33m=\u001b[0m\u001b[0mtable_name\u001b[0m\u001b[1;33m,\u001b[0m \u001b[0mengine\u001b[0m\u001b[1;33m=\u001b[0m\u001b[0mdb\u001b[0m\u001b[1;33m.\u001b[0m\u001b[0mengine\u001b[0m\u001b[1;33m)\u001b[0m\u001b[1;33m\u001b[0m\u001b[0m\n\u001b[1;32m----> 3\u001b[1;33m     \u001b[1;32mfor\u001b[0m \u001b[0mtable_name\u001b[0m \u001b[1;32min\u001b[0m \u001b[0mDATASETS\u001b[0m\u001b[1;33m\u001b[0m\u001b[0m\n\u001b[0m\u001b[0;32m      4\u001b[0m }\n",
      "\u001b[1;32m<ipython-input-7-650995380f3d>\u001b[0m in \u001b[0;36mload_dataset\u001b[1;34m(table_name, engine)\u001b[0m\n\u001b[0;32m     10\u001b[0m \u001b[1;33m\u001b[0m\u001b[0m\n\u001b[0;32m     11\u001b[0m     \u001b[1;31m# Read sql query\u001b[0m\u001b[1;33m\u001b[0m\u001b[1;33m\u001b[0m\u001b[0m\n\u001b[1;32m---> 12\u001b[1;33m     \u001b[0mdf\u001b[0m \u001b[1;33m=\u001b[0m \u001b[0mpd\u001b[0m\u001b[1;33m.\u001b[0m\u001b[0mread_sql_query\u001b[0m\u001b[1;33m(\u001b[0m\u001b[0msql_query\u001b[0m\u001b[1;33m,\u001b[0m \u001b[0mengine\u001b[0m\u001b[1;33m)\u001b[0m\u001b[1;33m\u001b[0m\u001b[0m\n\u001b[0m\u001b[0;32m     13\u001b[0m     \u001b[0mdf\u001b[0m \u001b[1;33m=\u001b[0m \u001b[0mdf\u001b[0m\u001b[1;33m.\u001b[0m\u001b[0mrename\u001b[0m\u001b[1;33m(\u001b[0m\u001b[0mcolumns\u001b[0m\u001b[1;33m=\u001b[0m\u001b[1;33m{\u001b[0m\u001b[1;34m'mutation'\u001b[0m\u001b[1;33m:\u001b[0m \u001b[1;34m'uniprot_mutation'\u001b[0m\u001b[1;33m}\u001b[0m\u001b[1;33m)\u001b[0m\u001b[1;33m\u001b[0m\u001b[0m\n\u001b[0;32m     14\u001b[0m     \u001b[1;31m# df = ascommon.df_tools.remove_duplicate_columns(df)\u001b[0m\u001b[1;33m\u001b[0m\u001b[1;33m\u001b[0m\u001b[0m\n",
      "\u001b[1;32m/home/kimlab1/strokach/anaconda/lib/python3.5/site-packages/pandas/io/sql.py\u001b[0m in \u001b[0;36mread_sql_query\u001b[1;34m(sql, con, index_col, coerce_float, params, parse_dates, chunksize)\u001b[0m\n\u001b[0;32m    429\u001b[0m     return pandas_sql.read_query(\n\u001b[0;32m    430\u001b[0m         \u001b[0msql\u001b[0m\u001b[1;33m,\u001b[0m \u001b[0mindex_col\u001b[0m\u001b[1;33m=\u001b[0m\u001b[0mindex_col\u001b[0m\u001b[1;33m,\u001b[0m \u001b[0mparams\u001b[0m\u001b[1;33m=\u001b[0m\u001b[0mparams\u001b[0m\u001b[1;33m,\u001b[0m \u001b[0mcoerce_float\u001b[0m\u001b[1;33m=\u001b[0m\u001b[0mcoerce_float\u001b[0m\u001b[1;33m,\u001b[0m\u001b[1;33m\u001b[0m\u001b[0m\n\u001b[1;32m--> 431\u001b[1;33m         parse_dates=parse_dates, chunksize=chunksize)\n\u001b[0m\u001b[0;32m    432\u001b[0m \u001b[1;33m\u001b[0m\u001b[0m\n\u001b[0;32m    433\u001b[0m \u001b[1;33m\u001b[0m\u001b[0m\n",
      "\u001b[1;32m/home/kimlab1/strokach/anaconda/lib/python3.5/site-packages/pandas/io/sql.py\u001b[0m in \u001b[0;36mread_query\u001b[1;34m(self, sql, index_col, coerce_float, parse_dates, params, chunksize)\u001b[0m\n\u001b[0;32m   1188\u001b[0m         \u001b[0margs\u001b[0m \u001b[1;33m=\u001b[0m \u001b[0m_convert_params\u001b[0m\u001b[1;33m(\u001b[0m\u001b[0msql\u001b[0m\u001b[1;33m,\u001b[0m \u001b[0mparams\u001b[0m\u001b[1;33m)\u001b[0m\u001b[1;33m\u001b[0m\u001b[0m\n\u001b[0;32m   1189\u001b[0m \u001b[1;33m\u001b[0m\u001b[0m\n\u001b[1;32m-> 1190\u001b[1;33m         \u001b[0mresult\u001b[0m \u001b[1;33m=\u001b[0m \u001b[0mself\u001b[0m\u001b[1;33m.\u001b[0m\u001b[0mexecute\u001b[0m\u001b[1;33m(\u001b[0m\u001b[1;33m*\u001b[0m\u001b[0margs\u001b[0m\u001b[1;33m)\u001b[0m\u001b[1;33m\u001b[0m\u001b[0m\n\u001b[0m\u001b[0;32m   1191\u001b[0m         \u001b[0mcolumns\u001b[0m \u001b[1;33m=\u001b[0m \u001b[0mresult\u001b[0m\u001b[1;33m.\u001b[0m\u001b[0mkeys\u001b[0m\u001b[1;33m(\u001b[0m\u001b[1;33m)\u001b[0m\u001b[1;33m\u001b[0m\u001b[0m\n\u001b[0;32m   1192\u001b[0m \u001b[1;33m\u001b[0m\u001b[0m\n",
      "\u001b[1;32m/home/kimlab1/strokach/anaconda/lib/python3.5/site-packages/pandas/io/sql.py\u001b[0m in \u001b[0;36mexecute\u001b[1;34m(self, *args, **kwargs)\u001b[0m\n\u001b[0;32m   1079\u001b[0m     \u001b[1;32mdef\u001b[0m \u001b[0mexecute\u001b[0m\u001b[1;33m(\u001b[0m\u001b[0mself\u001b[0m\u001b[1;33m,\u001b[0m \u001b[1;33m*\u001b[0m\u001b[0margs\u001b[0m\u001b[1;33m,\u001b[0m \u001b[1;33m**\u001b[0m\u001b[0mkwargs\u001b[0m\u001b[1;33m)\u001b[0m\u001b[1;33m:\u001b[0m\u001b[1;33m\u001b[0m\u001b[0m\n\u001b[0;32m   1080\u001b[0m         \u001b[1;34m\"\"\"Simple passthrough to SQLAlchemy connectable\"\"\"\u001b[0m\u001b[1;33m\u001b[0m\u001b[0m\n\u001b[1;32m-> 1081\u001b[1;33m         \u001b[1;32mreturn\u001b[0m \u001b[0mself\u001b[0m\u001b[1;33m.\u001b[0m\u001b[0mconnectable\u001b[0m\u001b[1;33m.\u001b[0m\u001b[0mexecute\u001b[0m\u001b[1;33m(\u001b[0m\u001b[1;33m*\u001b[0m\u001b[0margs\u001b[0m\u001b[1;33m,\u001b[0m \u001b[1;33m**\u001b[0m\u001b[0mkwargs\u001b[0m\u001b[1;33m)\u001b[0m\u001b[1;33m\u001b[0m\u001b[0m\n\u001b[0m\u001b[0;32m   1082\u001b[0m \u001b[1;33m\u001b[0m\u001b[0m\n\u001b[0;32m   1083\u001b[0m     def read_table(self, table_name, index_col=None, coerce_float=True,\n",
      "\u001b[1;32m/home/kimlab1/strokach/anaconda/lib/python3.5/site-packages/sqlalchemy/engine/base.py\u001b[0m in \u001b[0;36mexecute\u001b[1;34m(self, statement, *multiparams, **params)\u001b[0m\n\u001b[0;32m   1989\u001b[0m \u001b[1;33m\u001b[0m\u001b[0m\n\u001b[0;32m   1990\u001b[0m         \u001b[0mconnection\u001b[0m \u001b[1;33m=\u001b[0m \u001b[0mself\u001b[0m\u001b[1;33m.\u001b[0m\u001b[0mcontextual_connect\u001b[0m\u001b[1;33m(\u001b[0m\u001b[0mclose_with_result\u001b[0m\u001b[1;33m=\u001b[0m\u001b[1;32mTrue\u001b[0m\u001b[1;33m)\u001b[0m\u001b[1;33m\u001b[0m\u001b[0m\n\u001b[1;32m-> 1991\u001b[1;33m         \u001b[1;32mreturn\u001b[0m \u001b[0mconnection\u001b[0m\u001b[1;33m.\u001b[0m\u001b[0mexecute\u001b[0m\u001b[1;33m(\u001b[0m\u001b[0mstatement\u001b[0m\u001b[1;33m,\u001b[0m \u001b[1;33m*\u001b[0m\u001b[0mmultiparams\u001b[0m\u001b[1;33m,\u001b[0m \u001b[1;33m**\u001b[0m\u001b[0mparams\u001b[0m\u001b[1;33m)\u001b[0m\u001b[1;33m\u001b[0m\u001b[0m\n\u001b[0m\u001b[0;32m   1992\u001b[0m \u001b[1;33m\u001b[0m\u001b[0m\n\u001b[0;32m   1993\u001b[0m     \u001b[1;32mdef\u001b[0m \u001b[0mscalar\u001b[0m\u001b[1;33m(\u001b[0m\u001b[0mself\u001b[0m\u001b[1;33m,\u001b[0m \u001b[0mstatement\u001b[0m\u001b[1;33m,\u001b[0m \u001b[1;33m*\u001b[0m\u001b[0mmultiparams\u001b[0m\u001b[1;33m,\u001b[0m \u001b[1;33m**\u001b[0m\u001b[0mparams\u001b[0m\u001b[1;33m)\u001b[0m\u001b[1;33m:\u001b[0m\u001b[1;33m\u001b[0m\u001b[0m\n",
      "\u001b[1;32m/home/kimlab1/strokach/anaconda/lib/python3.5/site-packages/sqlalchemy/engine/base.py\u001b[0m in \u001b[0;36mexecute\u001b[1;34m(self, object, *multiparams, **params)\u001b[0m\n\u001b[0;32m    904\u001b[0m         \"\"\"\n\u001b[0;32m    905\u001b[0m         \u001b[1;32mif\u001b[0m \u001b[0misinstance\u001b[0m\u001b[1;33m(\u001b[0m\u001b[0mobject\u001b[0m\u001b[1;33m,\u001b[0m \u001b[0mutil\u001b[0m\u001b[1;33m.\u001b[0m\u001b[0mstring_types\u001b[0m\u001b[1;33m[\u001b[0m\u001b[1;36m0\u001b[0m\u001b[1;33m]\u001b[0m\u001b[1;33m)\u001b[0m\u001b[1;33m:\u001b[0m\u001b[1;33m\u001b[0m\u001b[0m\n\u001b[1;32m--> 906\u001b[1;33m             \u001b[1;32mreturn\u001b[0m \u001b[0mself\u001b[0m\u001b[1;33m.\u001b[0m\u001b[0m_execute_text\u001b[0m\u001b[1;33m(\u001b[0m\u001b[0mobject\u001b[0m\u001b[1;33m,\u001b[0m \u001b[0mmultiparams\u001b[0m\u001b[1;33m,\u001b[0m \u001b[0mparams\u001b[0m\u001b[1;33m)\u001b[0m\u001b[1;33m\u001b[0m\u001b[0m\n\u001b[0m\u001b[0;32m    907\u001b[0m         \u001b[1;32mtry\u001b[0m\u001b[1;33m:\u001b[0m\u001b[1;33m\u001b[0m\u001b[0m\n\u001b[0;32m    908\u001b[0m             \u001b[0mmeth\u001b[0m \u001b[1;33m=\u001b[0m \u001b[0mobject\u001b[0m\u001b[1;33m.\u001b[0m\u001b[0m_execute_on_connection\u001b[0m\u001b[1;33m\u001b[0m\u001b[0m\n",
      "\u001b[1;32m/home/kimlab1/strokach/anaconda/lib/python3.5/site-packages/sqlalchemy/engine/base.py\u001b[0m in \u001b[0;36m_execute_text\u001b[1;34m(self, statement, multiparams, params)\u001b[0m\n\u001b[0;32m   1052\u001b[0m             \u001b[0mstatement\u001b[0m\u001b[1;33m,\u001b[0m\u001b[1;33m\u001b[0m\u001b[0m\n\u001b[0;32m   1053\u001b[0m             \u001b[0mparameters\u001b[0m\u001b[1;33m,\u001b[0m\u001b[1;33m\u001b[0m\u001b[0m\n\u001b[1;32m-> 1054\u001b[1;33m             \u001b[0mstatement\u001b[0m\u001b[1;33m,\u001b[0m \u001b[0mparameters\u001b[0m\u001b[1;33m\u001b[0m\u001b[0m\n\u001b[0m\u001b[0;32m   1055\u001b[0m         )\n\u001b[0;32m   1056\u001b[0m         \u001b[1;32mif\u001b[0m \u001b[0mself\u001b[0m\u001b[1;33m.\u001b[0m\u001b[0m_has_events\u001b[0m \u001b[1;32mor\u001b[0m \u001b[0mself\u001b[0m\u001b[1;33m.\u001b[0m\u001b[0mengine\u001b[0m\u001b[1;33m.\u001b[0m\u001b[0m_has_events\u001b[0m\u001b[1;33m:\u001b[0m\u001b[1;33m\u001b[0m\u001b[0m\n",
      "\u001b[1;32m/home/kimlab1/strokach/anaconda/lib/python3.5/site-packages/sqlalchemy/engine/base.py\u001b[0m in \u001b[0;36m_execute_context\u001b[1;34m(self, dialect, constructor, statement, parameters, *args)\u001b[0m\n\u001b[0;32m   1137\u001b[0m                         \u001b[0mstatement\u001b[0m\u001b[1;33m,\u001b[0m\u001b[1;33m\u001b[0m\u001b[0m\n\u001b[0;32m   1138\u001b[0m                         \u001b[0mparameters\u001b[0m\u001b[1;33m,\u001b[0m\u001b[1;33m\u001b[0m\u001b[0m\n\u001b[1;32m-> 1139\u001b[1;33m                         context)\n\u001b[0m\u001b[0;32m   1140\u001b[0m         \u001b[1;32mexcept\u001b[0m \u001b[0mException\u001b[0m \u001b[1;32mas\u001b[0m \u001b[0me\u001b[0m\u001b[1;33m:\u001b[0m\u001b[1;33m\u001b[0m\u001b[0m\n\u001b[0;32m   1141\u001b[0m             self._handle_dbapi_exception(\n",
      "\u001b[1;32m/home/kimlab1/strokach/anaconda/lib/python3.5/site-packages/sqlalchemy/engine/default.py\u001b[0m in \u001b[0;36mdo_execute\u001b[1;34m(self, cursor, statement, parameters, context)\u001b[0m\n\u001b[0;32m    448\u001b[0m \u001b[1;33m\u001b[0m\u001b[0m\n\u001b[0;32m    449\u001b[0m     \u001b[1;32mdef\u001b[0m \u001b[0mdo_execute\u001b[0m\u001b[1;33m(\u001b[0m\u001b[0mself\u001b[0m\u001b[1;33m,\u001b[0m \u001b[0mcursor\u001b[0m\u001b[1;33m,\u001b[0m \u001b[0mstatement\u001b[0m\u001b[1;33m,\u001b[0m \u001b[0mparameters\u001b[0m\u001b[1;33m,\u001b[0m \u001b[0mcontext\u001b[0m\u001b[1;33m=\u001b[0m\u001b[1;32mNone\u001b[0m\u001b[1;33m)\u001b[0m\u001b[1;33m:\u001b[0m\u001b[1;33m\u001b[0m\u001b[0m\n\u001b[1;32m--> 450\u001b[1;33m         \u001b[0mcursor\u001b[0m\u001b[1;33m.\u001b[0m\u001b[0mexecute\u001b[0m\u001b[1;33m(\u001b[0m\u001b[0mstatement\u001b[0m\u001b[1;33m,\u001b[0m \u001b[0mparameters\u001b[0m\u001b[1;33m)\u001b[0m\u001b[1;33m\u001b[0m\u001b[0m\n\u001b[0m\u001b[0;32m    451\u001b[0m \u001b[1;33m\u001b[0m\u001b[0m\n\u001b[0;32m    452\u001b[0m     \u001b[1;32mdef\u001b[0m \u001b[0mdo_execute_no_params\u001b[0m\u001b[1;33m(\u001b[0m\u001b[0mself\u001b[0m\u001b[1;33m,\u001b[0m \u001b[0mcursor\u001b[0m\u001b[1;33m,\u001b[0m \u001b[0mstatement\u001b[0m\u001b[1;33m,\u001b[0m \u001b[0mcontext\u001b[0m\u001b[1;33m=\u001b[0m\u001b[1;32mNone\u001b[0m\u001b[1;33m)\u001b[0m\u001b[1;33m:\u001b[0m\u001b[1;33m\u001b[0m\u001b[0m\n",
      "\u001b[1;32m/home/kimlab1/strokach/anaconda/lib/python3.5/site-packages/MySQLdb/cursors.py\u001b[0m in \u001b[0;36mexecute\u001b[1;34m(self, query, args)\u001b[0m\n\u001b[0;32m    215\u001b[0m         \u001b[0mres\u001b[0m \u001b[1;33m=\u001b[0m \u001b[1;32mNone\u001b[0m\u001b[1;33m\u001b[0m\u001b[0m\n\u001b[0;32m    216\u001b[0m         \u001b[1;32mtry\u001b[0m\u001b[1;33m:\u001b[0m\u001b[1;33m\u001b[0m\u001b[0m\n\u001b[1;32m--> 217\u001b[1;33m             \u001b[0mres\u001b[0m \u001b[1;33m=\u001b[0m \u001b[0mself\u001b[0m\u001b[1;33m.\u001b[0m\u001b[0m_query\u001b[0m\u001b[1;33m(\u001b[0m\u001b[0mquery\u001b[0m\u001b[1;33m)\u001b[0m\u001b[1;33m\u001b[0m\u001b[0m\n\u001b[0m\u001b[0;32m    218\u001b[0m         \u001b[1;32mexcept\u001b[0m \u001b[0mTypeError\u001b[0m \u001b[1;32mas\u001b[0m \u001b[0mm\u001b[0m\u001b[1;33m:\u001b[0m\u001b[1;33m\u001b[0m\u001b[0m\n\u001b[0;32m    219\u001b[0m             if m.args[0] in (\"not enough arguments for format string\",\n",
      "\u001b[1;31mKeyboardInterrupt\u001b[0m: "
     ]
    }
   ],
   "source": [
    "DATA = {\n",
    "    table_name: load_dataset(table_name=table_name, engine=db.engine)\n",
    "    for table_name in DATASETS\n",
    "}"
   ]
  },
  {
   "cell_type": "code",
   "execution_count": null,
   "metadata": {
    "collapsed": true
   },
   "outputs": [],
   "source": [
    "with open(op.join(NOTEBOOK_NAME, 'DATA.pkl'), 'wb') as ofh:\n",
    "    pickle.dump(DATA, ofh, pickle.HIGHEST_PROTOCOL)"
   ]
  },
  {
   "cell_type": "markdown",
   "metadata": {},
   "source": [
    "### DF"
   ]
  },
  {
   "cell_type": "code",
   "execution_count": null,
   "metadata": {
    "collapsed": false,
    "run_control": {
     "marked": false
    }
   },
   "outputs": [],
   "source": [
    "# In case of duplicates, the dataset occuring FIRST has the priority\n",
    "df_list = []\n",
    "for key in DATASETS:\n",
    "    df = DATA[key]\n",
    "    df['dataset'] = key\n",
    "    df_list.append(df)\n",
    "DF = pd.concat(df_list, ignore_index=True)"
   ]
  },
  {
   "cell_type": "code",
   "execution_count": null,
   "metadata": {
    "collapsed": false
   },
   "outputs": [],
   "source": [
    "print(DF.shape)"
   ]
  },
  {
   "cell_type": "code",
   "execution_count": null,
   "metadata": {
    "collapsed": false
   },
   "outputs": [],
   "source": [
    "DF = DF.drop_duplicates(subset=['uniprot_id', 'uniprot_mutation'], keep='first')\n",
    "print(DF.shape)"
   ]
  },
  {
   "cell_type": "code",
   "execution_count": null,
   "metadata": {
    "collapsed": false
   },
   "outputs": [],
   "source": [
    "DF.to_pickle(op.join(NOTEBOOK_NAME, 'DF.pkl'))"
   ]
  },
  {
   "cell_type": "markdown",
   "metadata": {},
   "source": [
    "### TRAINING_SETS"
   ]
  },
  {
   "cell_type": "code",
   "execution_count": null,
   "metadata": {
    "collapsed": true
   },
   "outputs": [],
   "source": [
    "TRAINING_SETS = {\n",
    "    'protherm': DF[DF['dataset'].isin(\n",
    "        {'alascan_gpk', 'curatedprotherm', 'guerois', 'kellogg', 'potapov', 'protherm'})],\n",
    "    'taipale': DF[DF['dataset'] == 'taipale'],\n",
    "    'humsavar': DF[DF['dataset'] == 'humsavar'],\n",
    "}\n",
    "assert sum(df.shape[0] for df in TRAINING_SETS.values()) == DF.shape[0]"
   ]
  },
  {
   "cell_type": "code",
   "execution_count": null,
   "metadata": {
    "collapsed": true
   },
   "outputs": [],
   "source": [
    "with open(op.join(NOTEBOOK_NAME, 'TRAINING_SETS.pkl'), 'wb') as ofh:\n",
    "    pickle.dump(TRAINING_SETS, ofh, pickle.HIGHEST_PROTOCOL)"
   ]
  },
  {
   "cell_type": "code",
   "execution_count": null,
   "metadata": {
    "collapsed": true
   },
   "outputs": [],
   "source": []
  }
 ],
 "metadata": {
  "kernelspec": {
   "display_name": "Python 3",
   "language": "python",
   "name": "python3"
  },
  "language_info": {
   "codemirror_mode": {
    "name": "ipython",
    "version": 3
   },
   "file_extension": ".py",
   "mimetype": "text/x-python",
   "name": "python",
   "nbconvert_exporter": "python",
   "pygments_lexer": "ipython3",
   "version": "3.5.1"
  }
 },
 "nbformat": 4,
 "nbformat_minor": 0
}
