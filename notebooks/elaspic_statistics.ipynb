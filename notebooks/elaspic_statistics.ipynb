{
 "cells": [
  {
   "cell_type": "markdown",
   "metadata": {},
   "source": [
    "# Summary\n",
    "\n",
    "----"
   ]
  },
  {
   "cell_type": "markdown",
   "metadata": {
    "hide_input": false,
    "run_control": {
     "marked": false
    }
   },
   "source": [
    "# Imports"
   ]
  },
  {
   "cell_type": "code",
   "execution_count": 1,
   "metadata": {
    "collapsed": false,
    "hide_input": false,
    "run_control": {
     "marked": false
    }
   },
   "outputs": [
    {
     "name": "stdout",
     "output_type": "stream",
     "text": [
      "2016-09-21 13:21:14.708211\n"
     ]
    }
   ],
   "source": [
    "%run imports.ipynb"
   ]
  },
  {
   "cell_type": "code",
   "execution_count": 2,
   "metadata": {
    "collapsed": false
   },
   "outputs": [
    {
     "name": "stderr",
     "output_type": "stream",
     "text": [
      "MySQL database already running...\n"
     ]
    },
    {
     "name": "stdout",
     "output_type": "stream",
     "text": [
      "The autoreload extension is already loaded. To reload it, use:\n",
      "  %reload_ext autoreload\n",
      "2016-09-21 13:21:14.876705\n"
     ]
    }
   ],
   "source": [
    "%run db.ipynb"
   ]
  },
  {
   "cell_type": "code",
   "execution_count": 3,
   "metadata": {
    "collapsed": false
   },
   "outputs": [],
   "source": [
    "import kmtools.jupyter_tools\n",
    "print_sql = kmtools.jupyter_tools.print_sql"
   ]
  },
  {
   "cell_type": "code",
   "execution_count": 4,
   "metadata": {
    "collapsed": false,
    "hide_input": false,
    "run_control": {
     "marked": false
    }
   },
   "outputs": [],
   "source": [
    "NOTEBOOK_NAME = 'elaspic_statistics'\n",
    "os.makedirs(NOTEBOOK_NAME, exist_ok=True)"
   ]
  },
  {
   "cell_type": "raw",
   "metadata": {
    "collapsed": true,
    "hide_input": false,
    "run_control": {
     "marked": false
    }
   },
   "source": [
    "sns.set_context('notebook', font_scale=2)\n",
    "sns.set_style('whitegrid')"
   ]
  },
  {
   "cell_type": "raw",
   "metadata": {
    "collapsed": false
   },
   "source": [
    "sns.set_palette(\"Set1\", 9)\n",
    "sns.palplot(sns.color_palette())"
   ]
  },
  {
   "cell_type": "code",
   "execution_count": 5,
   "metadata": {
    "collapsed": false
   },
   "outputs": [
    {
     "data": {
      "image/png": "[encoded data removed]",
      "text/plain": [
       "<matplotlib.figure.Figure at 0x7f476340f6a0>"
      ]
     },
     "metadata": {},
     "output_type": "display_data"
    }
   ],
   "source": [
    "flatui = [\"#e74c3c\", \"#3498db\", \"#2ecc71\", \"#9b59b6\",  \"#95a5a6\", \"#34495e\"]\n",
    "sns.palplot(flatui)"
   ]
  },
  {
   "cell_type": "raw",
   "metadata": {
    "collapsed": false
   },
   "source": [
    "greys = [\"#95a5a6\", \"#34495e\"]\n",
    "sns.palplot(greys)"
   ]
  },
  {
   "cell_type": "raw",
   "metadata": {
    "code_folding": [],
    "collapsed": false,
    "hide_input": false,
    "hide_output": false,
    "run_control": {
     "marked": false
    }
   },
   "source": [
    "# Code highlighting for printed SQL\n",
    "from pygments import highlight\n",
    "from pygments.lexers import SqlLexer\n",
    "from pygments.formatters import HtmlFormatter\n",
    "from pygments.styles import get_all_styles\n",
    "\n",
    "print('Possible styles:')\n",
    "print(', '.join(sorted(get_all_styles())))\n",
    "\n",
    "# Print SQL code with syntax highlighting\n",
    "def print_sql(sql_query, style='default'):\n",
    "    formatter = HtmlFormatter(style=style)\n",
    "    display(HTML('<style type=\"text/css\">{}</style>{}'.format(\n",
    "        formatter.get_style_defs('.highlight'),\n",
    "        highlight(sql_query, SqlLexer(), formatter))))"
   ]
  },
  {
   "cell_type": "markdown",
   "metadata": {
    "collapsed": true,
    "hide_input": false,
    "run_control": {
     "marked": false
    }
   },
   "source": [
    "# **Calculated**"
   ]
  },
  {
   "cell_type": "code",
   "execution_count": 6,
   "metadata": {
    "collapsed": true,
    "hide_input": false,
    "run_control": {
     "marked": false
    }
   },
   "outputs": [],
   "source": [
    "comment_in_splice_variants = ''  # {'', '--'}\n",
    "comment_in_trembl = ''  # {'', '--'}"
   ]
  },
  {
   "cell_type": "markdown",
   "metadata": {
    "hide_input": false,
    "run_control": {
     "marked": false
    }
   },
   "source": [
    "## PROTEIN: missing domain or template"
   ]
  },
  {
   "cell_type": "code",
   "execution_count": 7,
   "metadata": {
    "code_folding": [
     0
    ],
    "collapsed": false,
    "deletable": true,
    "hide_input": false,
    "hide_output": false,
    "locked": false,
    "run_control": {
     "marked": false
    }
   },
   "outputs": [
    {
     "data": {
      "text/html": [
       "<style type=\"text/css\">.highlight .hll { background-color: #ffffcc }\n",
       ".highlight  { background: #f8f8f8; }\n",
       ".highlight .c { color: #408080; font-style: italic } /* Comment */\n",
       ".highlight .err { border: 1px solid #FF0000 } /* Error */\n",
       ".highlight .k { color: #008000; font-weight: bold } /* Keyword */\n",
       ".highlight .o { color: #666666 } /* Operator */\n",
       ".highlight .ch { color: #408080; font-style: italic } /* Comment.Hashbang */\n",
       ".highlight .cm { color: #408080; font-style: italic } /* Comment.Multiline */\n",
       ".highlight .cp { color: #BC7A00 } /* Comment.Preproc */\n",
       ".highlight .cpf { color: #408080; font-style: italic } /* Comment.PreprocFile */\n",
       ".highlight .c1 { color: #408080; font-style: italic } /* Comment.Single */\n",
       ".highlight .cs { color: #408080; font-style: italic } /* Comment.Special */\n",
       ".highlight .gd { color: #A00000 } /* Generic.Deleted */\n",
       ".highlight .ge { font-style: italic } /* Generic.Emph */\n",
       ".highlight .gr { color: #FF0000 } /* Generic.Error */\n",
       ".highlight .gh { color: #000080; font-weight: bold } /* Generic.Heading */\n",
       ".highlight .gi { color: #00A000 } /* Generic.Inserted */\n",
       ".highlight .go { color: #888888 } /* Generic.Output */\n",
       ".highlight .gp { color: #000080; font-weight: bold } /* Generic.Prompt */\n",
       ".highlight .gs { font-weight: bold } /* Generic.Strong */\n",
       ".highlight .gu { color: #800080; font-weight: bold } /* Generic.Subheading */\n",
       ".highlight .gt { color: #0044DD } /* Generic.Traceback */\n",
       ".highlight .kc { color: #008000; font-weight: bold } /* Keyword.Constant */\n",
       ".highlight .kd { color: #008000; font-weight: bold } /* Keyword.Declaration */\n",
       ".highlight .kn { color: #008000; font-weight: bold } /* Keyword.Namespace */\n",
       ".highlight .kp { color: #008000 } /* Keyword.Pseudo */\n",
       ".highlight .kr { color: #008000; font-weight: bold } /* Keyword.Reserved */\n",
       ".highlight .kt { color: #B00040 } /* Keyword.Type */\n",
       ".highlight .m { color: #666666 } /* Literal.Number */\n",
       ".highlight .s { color: #BA2121 } /* Literal.String */\n",
       ".highlight .na { color: #7D9029 } /* Name.Attribute */\n",
       ".highlight .nb { color: #008000 } /* Name.Builtin */\n",
       ".highlight .nc { color: #0000FF; font-weight: bold } /* Name.Class */\n",
       ".highlight .no { color: #880000 } /* Name.Constant */\n",
       ".highlight .nd { color: #AA22FF } /* Name.Decorator */\n",
       ".highlight .ni { color: #999999; font-weight: bold } /* Name.Entity */\n",
       ".highlight .ne { color: #D2413A; font-weight: bold } /* Name.Exception */\n",
       ".highlight .nf { color: #0000FF } /* Name.Function */\n",
       ".highlight .nl { color: #A0A000 } /* Name.Label */\n",
       ".highlight .nn { color: #0000FF; font-weight: bold } /* Name.Namespace */\n",
       ".highlight .nt { color: #008000; font-weight: bold } /* Name.Tag */\n",
       ".highlight .nv { color: #19177C } /* Name.Variable */\n",
       ".highlight .ow { color: #AA22FF; font-weight: bold } /* Operator.Word */\n",
       ".highlight .w { color: #bbbbbb } /* Text.Whitespace */\n",
       ".highlight .mb { color: #666666 } /* Literal.Number.Bin */\n",
       ".highlight .mf { color: #666666 } /* Literal.Number.Float */\n",
       ".highlight .mh { color: #666666 } /* Literal.Number.Hex */\n",
       ".highlight .mi { color: #666666 } /* Literal.Number.Integer */\n",
       ".highlight .mo { color: #666666 } /* Literal.Number.Oct */\n",
       ".highlight .sb { color: #BA2121 } /* Literal.String.Backtick */\n",
       ".highlight .sc { color: #BA2121 } /* Literal.String.Char */\n",
       ".highlight .sd { color: #BA2121; font-style: italic } /* Literal.String.Doc */\n",
       ".highlight .s2 { color: #BA2121 } /* Literal.String.Double */\n",
       ".highlight .se { color: #BB6622; font-weight: bold } /* Literal.String.Escape */\n",
       ".highlight .sh { color: #BA2121 } /* Literal.String.Heredoc */\n",
       ".highlight .si { color: #BB6688; font-weight: bold } /* Literal.String.Interpol */\n",
       ".highlight .sx { color: #008000 } /* Literal.String.Other */\n",
       ".highlight .sr { color: #BB6688 } /* Literal.String.Regex */\n",
       ".highlight .s1 { color: #BA2121 } /* Literal.String.Single */\n",
       ".highlight .ss { color: #19177C } /* Literal.String.Symbol */\n",
       ".highlight .bp { color: #008000 } /* Name.Builtin.Pseudo */\n",
       ".highlight .vc { color: #19177C } /* Name.Variable.Class */\n",
       ".highlight .vg { color: #19177C } /* Name.Variable.Global */\n",
       ".highlight .vi { color: #19177C } /* Name.Variable.Instance */\n",
       ".highlight .il { color: #666666 } /* Literal.Number.Integer.Long */</style><div class=\"highlight\"><pre><span></span><span class=\"k\">SELECT</span> <span class=\"k\">COUNT</span><span class=\"p\">(</span><span class=\"k\">DISTINCT</span> <span class=\"n\">uniprot_id</span><span class=\"p\">)</span> <span class=\"n\">uniprots_total</span>\n",
       "<span class=\"k\">FROM</span> <span class=\"n\">uniprot_kb</span><span class=\"p\">.</span><span class=\"n\">uniprot_sequence</span>\n",
       "<span class=\"k\">WHERE</span> <span class=\"n\">organism_name</span> <span class=\"o\">=</span> <span class=\"s1\">&#39;Homo sapiens&#39;</span>\n",
       " <span class=\"k\">AND</span> <span class=\"n\">uniprot_id</span> <span class=\"k\">NOT</span> <span class=\"k\">LIKE</span> <span class=\"s1\">&#39;%%-%%&#39;</span>\n",
       " <span class=\"k\">AND</span> <span class=\"n\">db</span> <span class=\"o\">=</span> <span class=\"s1\">&#39;sp&#39;</span>\n",
       "<span class=\"o\">#</span> <span class=\"mi\">20270</span><span class=\"p\">;</span>\n",
       "</pre></div>\n"
      ],
      "text/plain": [
       "<IPython.core.display.HTML object>"
      ]
     },
     "metadata": {},
     "output_type": "display_data"
    },
    {
     "name": "stdout",
     "output_type": "stream",
     "text": [
      "20270\n"
     ]
    }
   ],
   "source": [
    "# Number of human proteins in `uniprot_kb`\n",
    "sql_query = r\"\"\"\n",
    "SELECT COUNT(DISTINCT uniprot_id) uniprots_total\n",
    "FROM uniprot_kb.uniprot_sequence\n",
    "WHERE organism_name = 'Homo sapiens'\n",
    "{0} AND uniprot_id NOT LIKE '%%-%%'\n",
    "{1} AND db = 'sp'\n",
    "# 20270;\n",
    "\"\"\".format(comment_in_splice_variants, comment_in_trembl)\n",
    "print_sql(sql_query)\n",
    "uniprots_total = int(pd.read_sql_query(sql_query, db_remote.engine).values)\n",
    "print(uniprots_total)"
   ]
  },
  {
   "cell_type": "code",
   "execution_count": 8,
   "metadata": {
    "code_folding": [
     0
    ],
    "collapsed": false,
    "deletable": true,
    "hide_input": false,
    "hide_output": false,
    "locked": false,
    "run_control": {
     "marked": false
    }
   },
   "outputs": [
    {
     "data": {
      "text/html": [
       "<style type=\"text/css\">.highlight .hll { background-color: #ffffcc }\n",
       ".highlight  { background: #f8f8f8; }\n",
       ".highlight .c { color: #408080; font-style: italic } /* Comment */\n",
       ".highlight .err { border: 1px solid #FF0000 } /* Error */\n",
       ".highlight .k { color: #008000; font-weight: bold } /* Keyword */\n",
       ".highlight .o { color: #666666 } /* Operator */\n",
       ".highlight .ch { color: #408080; font-style: italic } /* Comment.Hashbang */\n",
       ".highlight .cm { color: #408080; font-style: italic } /* Comment.Multiline */\n",
       ".highlight .cp { color: #BC7A00 } /* Comment.Preproc */\n",
       ".highlight .cpf { color: #408080; font-style: italic } /* Comment.PreprocFile */\n",
       ".highlight .c1 { color: #408080; font-style: italic } /* Comment.Single */\n",
       ".highlight .cs { color: #408080; font-style: italic } /* Comment.Special */\n",
       ".highlight .gd { color: #A00000 } /* Generic.Deleted */\n",
       ".highlight .ge { font-style: italic } /* Generic.Emph */\n",
       ".highlight .gr { color: #FF0000 } /* Generic.Error */\n",
       ".highlight .gh { color: #000080; font-weight: bold } /* Generic.Heading */\n",
       ".highlight .gi { color: #00A000 } /* Generic.Inserted */\n",
       ".highlight .go { color: #888888 } /* Generic.Output */\n",
       ".highlight .gp { color: #000080; font-weight: bold } /* Generic.Prompt */\n",
       ".highlight .gs { font-weight: bold } /* Generic.Strong */\n",
       ".highlight .gu { color: #800080; font-weight: bold } /* Generic.Subheading */\n",
       ".highlight .gt { color: #0044DD } /* Generic.Traceback */\n",
       ".highlight .kc { color: #008000; font-weight: bold } /* Keyword.Constant */\n",
       ".highlight .kd { color: #008000; font-weight: bold } /* Keyword.Declaration */\n",
       ".highlight .kn { color: #008000; font-weight: bold } /* Keyword.Namespace */\n",
       ".highlight .kp { color: #008000 } /* Keyword.Pseudo */\n",
       ".highlight .kr { color: #008000; font-weight: bold } /* Keyword.Reserved */\n",
       ".highlight .kt { color: #B00040 } /* Keyword.Type */\n",
       ".highlight .m { color: #666666 } /* Literal.Number */\n",
       ".highlight .s { color: #BA2121 } /* Literal.String */\n",
       ".highlight .na { color: #7D9029 } /* Name.Attribute */\n",
       ".highlight .nb { color: #008000 } /* Name.Builtin */\n",
       ".highlight .nc { color: #0000FF; font-weight: bold } /* Name.Class */\n",
       ".highlight .no { color: #880000 } /* Name.Constant */\n",
       ".highlight .nd { color: #AA22FF } /* Name.Decorator */\n",
       ".highlight .ni { color: #999999; font-weight: bold } /* Name.Entity */\n",
       ".highlight .ne { color: #D2413A; font-weight: bold } /* Name.Exception */\n",
       ".highlight .nf { color: #0000FF } /* Name.Function */\n",
       ".highlight .nl { color: #A0A000 } /* Name.Label */\n",
       ".highlight .nn { color: #0000FF; font-weight: bold } /* Name.Namespace */\n",
       ".highlight .nt { color: #008000; font-weight: bold } /* Name.Tag */\n",
       ".highlight .nv { color: #19177C } /* Name.Variable */\n",
       ".highlight .ow { color: #AA22FF; font-weight: bold } /* Operator.Word */\n",
       ".highlight .w { color: #bbbbbb } /* Text.Whitespace */\n",
       ".highlight .mb { color: #666666 } /* Literal.Number.Bin */\n",
       ".highlight .mf { color: #666666 } /* Literal.Number.Float */\n",
       ".highlight .mh { color: #666666 } /* Literal.Number.Hex */\n",
       ".highlight .mi { color: #666666 } /* Literal.Number.Integer */\n",
       ".highlight .mo { color: #666666 } /* Literal.Number.Oct */\n",
       ".highlight .sb { color: #BA2121 } /* Literal.String.Backtick */\n",
       ".highlight .sc { color: #BA2121 } /* Literal.String.Char */\n",
       ".highlight .sd { color: #BA2121; font-style: italic } /* Literal.String.Doc */\n",
       ".highlight .s2 { color: #BA2121 } /* Literal.String.Double */\n",
       ".highlight .se { color: #BB6622; font-weight: bold } /* Literal.String.Escape */\n",
       ".highlight .sh { color: #BA2121 } /* Literal.String.Heredoc */\n",
       ".highlight .si { color: #BB6688; font-weight: bold } /* Literal.String.Interpol */\n",
       ".highlight .sx { color: #008000 } /* Literal.String.Other */\n",
       ".highlight .sr { color: #BB6688 } /* Literal.String.Regex */\n",
       ".highlight .s1 { color: #BA2121 } /* Literal.String.Single */\n",
       ".highlight .ss { color: #19177C } /* Literal.String.Symbol */\n",
       ".highlight .bp { color: #008000 } /* Name.Builtin.Pseudo */\n",
       ".highlight .vc { color: #19177C } /* Name.Variable.Class */\n",
       ".highlight .vg { color: #19177C } /* Name.Variable.Global */\n",
       ".highlight .vi { color: #19177C } /* Name.Variable.Instance */\n",
       ".highlight .il { color: #666666 } /* Literal.Number.Integer.Long */</style><div class=\"highlight\"><pre><span></span><span class=\"k\">SELECT</span> <span class=\"k\">COUNT</span><span class=\"p\">(</span><span class=\"k\">DISTINCT</span> <span class=\"n\">uniprot_id</span><span class=\"p\">)</span> <span class=\"n\">uniprots_with_pfam</span>\n",
       "<span class=\"k\">FROM</span> <span class=\"n\">uniprot_kb</span><span class=\"p\">.</span><span class=\"n\">uniprot_sequence</span>\n",
       "<span class=\"k\">JOIN</span> <span class=\"n\">elaspic</span><span class=\"p\">.</span><span class=\"n\">uniprot_domain</span> <span class=\"n\">d</span> <span class=\"k\">USING</span> <span class=\"p\">(</span><span class=\"n\">uniprot_id</span><span class=\"p\">)</span>\n",
       "<span class=\"k\">WHERE</span> <span class=\"n\">organism_name</span> <span class=\"o\">=</span> <span class=\"s1\">&#39;Homo sapiens&#39;</span>\n",
       " <span class=\"k\">AND</span> <span class=\"n\">uniprot_id</span> <span class=\"k\">NOT</span> <span class=\"k\">LIKE</span> <span class=\"s1\">&#39;%%-%%&#39;</span>\n",
       " <span class=\"k\">AND</span> <span class=\"n\">db</span> <span class=\"o\">=</span> <span class=\"s1\">&#39;sp&#39;</span>\n",
       "<span class=\"o\">#</span> <span class=\"mi\">18355</span><span class=\"p\">;</span>\n",
       "</pre></div>\n"
      ],
      "text/plain": [
       "<IPython.core.display.HTML object>"
      ]
     },
     "metadata": {},
     "output_type": "display_data"
    },
    {
     "name": "stdout",
     "output_type": "stream",
     "text": [
      "18355\n"
     ]
    }
   ],
   "source": [
    "# Number of human proteins in `elaspic`\n",
    "sql_query = r\"\"\"\n",
    "SELECT COUNT(DISTINCT uniprot_id) uniprots_with_pfam\n",
    "FROM uniprot_kb.uniprot_sequence\n",
    "JOIN elaspic.uniprot_domain d USING (uniprot_id)\n",
    "WHERE organism_name = 'Homo sapiens'\n",
    "{0} AND uniprot_id NOT LIKE '%%-%%'\n",
    "{1} AND db = 'sp'\n",
    "# 18355;\n",
    "\"\"\".format(comment_in_splice_variants, comment_in_trembl)\n",
    "print_sql(sql_query)\n",
    "uniprots_with_pfam = int(pd.read_sql_query(sql_query, db_remote.engine).values)\n",
    "print(uniprots_with_pfam)  "
   ]
  },
  {
   "cell_type": "code",
   "execution_count": 9,
   "metadata": {
    "code_folding": [
     0
    ],
    "collapsed": false,
    "deletable": true,
    "hide_input": false,
    "hide_output": false,
    "locked": false,
    "run_control": {
     "marked": false
    }
   },
   "outputs": [
    {
     "data": {
      "text/html": [
       "<style type=\"text/css\">.highlight .hll { background-color: #ffffcc }\n",
       ".highlight  { background: #f8f8f8; }\n",
       ".highlight .c { color: #408080; font-style: italic } /* Comment */\n",
       ".highlight .err { border: 1px solid #FF0000 } /* Error */\n",
       ".highlight .k { color: #008000; font-weight: bold } /* Keyword */\n",
       ".highlight .o { color: #666666 } /* Operator */\n",
       ".highlight .ch { color: #408080; font-style: italic } /* Comment.Hashbang */\n",
       ".highlight .cm { color: #408080; font-style: italic } /* Comment.Multiline */\n",
       ".highlight .cp { color: #BC7A00 } /* Comment.Preproc */\n",
       ".highlight .cpf { color: #408080; font-style: italic } /* Comment.PreprocFile */\n",
       ".highlight .c1 { color: #408080; font-style: italic } /* Comment.Single */\n",
       ".highlight .cs { color: #408080; font-style: italic } /* Comment.Special */\n",
       ".highlight .gd { color: #A00000 } /* Generic.Deleted */\n",
       ".highlight .ge { font-style: italic } /* Generic.Emph */\n",
       ".highlight .gr { color: #FF0000 } /* Generic.Error */\n",
       ".highlight .gh { color: #000080; font-weight: bold } /* Generic.Heading */\n",
       ".highlight .gi { color: #00A000 } /* Generic.Inserted */\n",
       ".highlight .go { color: #888888 } /* Generic.Output */\n",
       ".highlight .gp { color: #000080; font-weight: bold } /* Generic.Prompt */\n",
       ".highlight .gs { font-weight: bold } /* Generic.Strong */\n",
       ".highlight .gu { color: #800080; font-weight: bold } /* Generic.Subheading */\n",
       ".highlight .gt { color: #0044DD } /* Generic.Traceback */\n",
       ".highlight .kc { color: #008000; font-weight: bold } /* Keyword.Constant */\n",
       ".highlight .kd { color: #008000; font-weight: bold } /* Keyword.Declaration */\n",
       ".highlight .kn { color: #008000; font-weight: bold } /* Keyword.Namespace */\n",
       ".highlight .kp { color: #008000 } /* Keyword.Pseudo */\n",
       ".highlight .kr { color: #008000; font-weight: bold } /* Keyword.Reserved */\n",
       ".highlight .kt { color: #B00040 } /* Keyword.Type */\n",
       ".highlight .m { color: #666666 } /* Literal.Number */\n",
       ".highlight .s { color: #BA2121 } /* Literal.String */\n",
       ".highlight .na { color: #7D9029 } /* Name.Attribute */\n",
       ".highlight .nb { color: #008000 } /* Name.Builtin */\n",
       ".highlight .nc { color: #0000FF; font-weight: bold } /* Name.Class */\n",
       ".highlight .no { color: #880000 } /* Name.Constant */\n",
       ".highlight .nd { color: #AA22FF } /* Name.Decorator */\n",
       ".highlight .ni { color: #999999; font-weight: bold } /* Name.Entity */\n",
       ".highlight .ne { color: #D2413A; font-weight: bold } /* Name.Exception */\n",
       ".highlight .nf { color: #0000FF } /* Name.Function */\n",
       ".highlight .nl { color: #A0A000 } /* Name.Label */\n",
       ".highlight .nn { color: #0000FF; font-weight: bold } /* Name.Namespace */\n",
       ".highlight .nt { color: #008000; font-weight: bold } /* Name.Tag */\n",
       ".highlight .nv { color: #19177C } /* Name.Variable */\n",
       ".highlight .ow { color: #AA22FF; font-weight: bold } /* Operator.Word */\n",
       ".highlight .w { color: #bbbbbb } /* Text.Whitespace */\n",
       ".highlight .mb { color: #666666 } /* Literal.Number.Bin */\n",
       ".highlight .mf { color: #666666 } /* Literal.Number.Float */\n",
       ".highlight .mh { color: #666666 } /* Literal.Number.Hex */\n",
       ".highlight .mi { color: #666666 } /* Literal.Number.Integer */\n",
       ".highlight .mo { color: #666666 } /* Literal.Number.Oct */\n",
       ".highlight .sb { color: #BA2121 } /* Literal.String.Backtick */\n",
       ".highlight .sc { color: #BA2121 } /* Literal.String.Char */\n",
       ".highlight .sd { color: #BA2121; font-style: italic } /* Literal.String.Doc */\n",
       ".highlight .s2 { color: #BA2121 } /* Literal.String.Double */\n",
       ".highlight .se { color: #BB6622; font-weight: bold } /* Literal.String.Escape */\n",
       ".highlight .sh { color: #BA2121 } /* Literal.String.Heredoc */\n",
       ".highlight .si { color: #BB6688; font-weight: bold } /* Literal.String.Interpol */\n",
       ".highlight .sx { color: #008000 } /* Literal.String.Other */\n",
       ".highlight .sr { color: #BB6688 } /* Literal.String.Regex */\n",
       ".highlight .s1 { color: #BA2121 } /* Literal.String.Single */\n",
       ".highlight .ss { color: #19177C } /* Literal.String.Symbol */\n",
       ".highlight .bp { color: #008000 } /* Name.Builtin.Pseudo */\n",
       ".highlight .vc { color: #19177C } /* Name.Variable.Class */\n",
       ".highlight .vg { color: #19177C } /* Name.Variable.Global */\n",
       ".highlight .vi { color: #19177C } /* Name.Variable.Instance */\n",
       ".highlight .il { color: #666666 } /* Literal.Number.Integer.Long */</style><div class=\"highlight\"><pre><span></span><span class=\"k\">SELECT</span> <span class=\"k\">COUNT</span><span class=\"p\">(</span><span class=\"k\">DISTINCT</span> <span class=\"n\">uniprot_id</span><span class=\"p\">)</span> <span class=\"n\">uniprots_with_template</span>\n",
       "<span class=\"k\">FROM</span> <span class=\"n\">uniprot_kb</span><span class=\"p\">.</span><span class=\"n\">uniprot_sequence</span>\n",
       "<span class=\"k\">JOIN</span> <span class=\"n\">elaspic</span><span class=\"p\">.</span><span class=\"n\">uniprot_domain</span> <span class=\"n\">d</span> <span class=\"k\">USING</span> <span class=\"p\">(</span><span class=\"n\">uniprot_id</span><span class=\"p\">)</span>\n",
       "<span class=\"k\">JOIN</span> <span class=\"n\">elaspic</span><span class=\"p\">.</span><span class=\"n\">uniprot_domain_template</span> <span class=\"k\">USING</span> <span class=\"p\">(</span><span class=\"n\">uniprot_domain_id</span><span class=\"p\">)</span>\n",
       "<span class=\"k\">WHERE</span> <span class=\"n\">organism_name</span> <span class=\"o\">=</span> <span class=\"s1\">&#39;Homo sapiens&#39;</span>\n",
       " <span class=\"k\">AND</span> <span class=\"n\">uniprot_id</span> <span class=\"k\">NOT</span> <span class=\"k\">LIKE</span> <span class=\"s1\">&#39;%%-%%&#39;</span>\n",
       " <span class=\"k\">AND</span> <span class=\"n\">db</span> <span class=\"o\">=</span> <span class=\"s1\">&#39;sp&#39;</span>\n",
       "<span class=\"o\">#</span> <span class=\"mi\">14015</span><span class=\"p\">;</span>\n",
       "</pre></div>\n"
      ],
      "text/plain": [
       "<IPython.core.display.HTML object>"
      ]
     },
     "metadata": {},
     "output_type": "display_data"
    },
    {
     "name": "stdout",
     "output_type": "stream",
     "text": [
      "14015\n"
     ]
    }
   ],
   "source": [
    "# Number of human proteins in `elaspic` with templates\n",
    "sql_query = r\"\"\"\n",
    "SELECT COUNT(DISTINCT uniprot_id) uniprots_with_template\n",
    "FROM uniprot_kb.uniprot_sequence\n",
    "JOIN elaspic.uniprot_domain d USING (uniprot_id)\n",
    "JOIN elaspic.uniprot_domain_template USING (uniprot_domain_id)\n",
    "WHERE organism_name = 'Homo sapiens'\n",
    "{0} AND uniprot_id NOT LIKE '%%-%%'\n",
    "{1} AND db = 'sp'\n",
    "# 14015;\n",
    "\"\"\".format(comment_in_splice_variants, comment_in_trembl)\n",
    "print_sql(sql_query)\n",
    "uniprots_with_template = int(pd.read_sql_query(sql_query, db_remote.engine).values)\n",
    "print(uniprots_with_template)"
   ]
  },
  {
   "cell_type": "code",
   "execution_count": 10,
   "metadata": {
    "code_folding": [],
    "collapsed": false,
    "hide_input": false,
    "run_control": {
     "marked": false
    }
   },
   "outputs": [
    {
     "data": {
      "image/png": "[encoded data removed]",
      "text/plain": [
       "<matplotlib.figure.Figure at 0x7f47634032b0>"
      ]
     },
     "metadata": {},
     "output_type": "display_data"
    }
   ],
   "source": [
    "# Plot\n",
    "fg, ax = plt.subplots()\n",
    "sns.barplot(\n",
    "    x=['All human\\nSwissProt', 'with Profs\\ndimain(s)', 'with PDB\\ntemplate(s)'],\n",
    "    y=[uniprots_total, uniprots_with_pfam, uniprots_with_template],\n",
    "    color=flatui[5],\n",
    "    ax=ax,\n",
    ")\n",
    "ax.set_ylabel('Number of proteins')\n",
    "plt.savefig(op.join(NOTEBOOK_NAME, 'missing_template.pdf'), bbox_inches='tight')\n",
    "plt.savefig(op.join(NOTEBOOK_NAME, 'missing_template.png'), dpi=150, bbox_inches='tight')"
   ]
  },
  {
   "cell_type": "code",
   "execution_count": 11,
   "metadata": {
    "collapsed": false
   },
   "outputs": [
    {
     "data": {
      "text/plain": [
       "(20270, 18355, 14015)"
      ]
     },
     "execution_count": 11,
     "metadata": {},
     "output_type": "execute_result"
    }
   ],
   "source": [
    "uniprots_total, uniprots_with_pfam, uniprots_with_template"
   ]
  },
  {
   "cell_type": "markdown",
   "metadata": {
    "hide_input": false,
    "run_control": {
     "marked": false
    }
   },
   "source": [
    "## PROTEIN: missing Provean"
   ]
  },
  {
   "cell_type": "code",
   "execution_count": 12,
   "metadata": {
    "code_folding": [
     0
    ],
    "collapsed": false,
    "deletable": true,
    "hide_input": false,
    "hide_output": false,
    "locked": false,
    "run_control": {
     "marked": false
    }
   },
   "outputs": [
    {
     "data": {
      "text/html": [
       "<style type=\"text/css\">.highlight .hll { background-color: #ffffcc }\n",
       ".highlight  { background: #f8f8f8; }\n",
       ".highlight .c { color: #408080; font-style: italic } /* Comment */\n",
       ".highlight .err { border: 1px solid #FF0000 } /* Error */\n",
       ".highlight .k { color: #008000; font-weight: bold } /* Keyword */\n",
       ".highlight .o { color: #666666 } /* Operator */\n",
       ".highlight .ch { color: #408080; font-style: italic } /* Comment.Hashbang */\n",
       ".highlight .cm { color: #408080; font-style: italic } /* Comment.Multiline */\n",
       ".highlight .cp { color: #BC7A00 } /* Comment.Preproc */\n",
       ".highlight .cpf { color: #408080; font-style: italic } /* Comment.PreprocFile */\n",
       ".highlight .c1 { color: #408080; font-style: italic } /* Comment.Single */\n",
       ".highlight .cs { color: #408080; font-style: italic } /* Comment.Special */\n",
       ".highlight .gd { color: #A00000 } /* Generic.Deleted */\n",
       ".highlight .ge { font-style: italic } /* Generic.Emph */\n",
       ".highlight .gr { color: #FF0000 } /* Generic.Error */\n",
       ".highlight .gh { color: #000080; font-weight: bold } /* Generic.Heading */\n",
       ".highlight .gi { color: #00A000 } /* Generic.Inserted */\n",
       ".highlight .go { color: #888888 } /* Generic.Output */\n",
       ".highlight .gp { color: #000080; font-weight: bold } /* Generic.Prompt */\n",
       ".highlight .gs { font-weight: bold } /* Generic.Strong */\n",
       ".highlight .gu { color: #800080; font-weight: bold } /* Generic.Subheading */\n",
       ".highlight .gt { color: #0044DD } /* Generic.Traceback */\n",
       ".highlight .kc { color: #008000; font-weight: bold } /* Keyword.Constant */\n",
       ".highlight .kd { color: #008000; font-weight: bold } /* Keyword.Declaration */\n",
       ".highlight .kn { color: #008000; font-weight: bold } /* Keyword.Namespace */\n",
       ".highlight .kp { color: #008000 } /* Keyword.Pseudo */\n",
       ".highlight .kr { color: #008000; font-weight: bold } /* Keyword.Reserved */\n",
       ".highlight .kt { color: #B00040 } /* Keyword.Type */\n",
       ".highlight .m { color: #666666 } /* Literal.Number */\n",
       ".highlight .s { color: #BA2121 } /* Literal.String */\n",
       ".highlight .na { color: #7D9029 } /* Name.Attribute */\n",
       ".highlight .nb { color: #008000 } /* Name.Builtin */\n",
       ".highlight .nc { color: #0000FF; font-weight: bold } /* Name.Class */\n",
       ".highlight .no { color: #880000 } /* Name.Constant */\n",
       ".highlight .nd { color: #AA22FF } /* Name.Decorator */\n",
       ".highlight .ni { color: #999999; font-weight: bold } /* Name.Entity */\n",
       ".highlight .ne { color: #D2413A; font-weight: bold } /* Name.Exception */\n",
       ".highlight .nf { color: #0000FF } /* Name.Function */\n",
       ".highlight .nl { color: #A0A000 } /* Name.Label */\n",
       ".highlight .nn { color: #0000FF; font-weight: bold } /* Name.Namespace */\n",
       ".highlight .nt { color: #008000; font-weight: bold } /* Name.Tag */\n",
       ".highlight .nv { color: #19177C } /* Name.Variable */\n",
       ".highlight .ow { color: #AA22FF; font-weight: bold } /* Operator.Word */\n",
       ".highlight .w { color: #bbbbbb } /* Text.Whitespace */\n",
       ".highlight .mb { color: #666666 } /* Literal.Number.Bin */\n",
       ".highlight .mf { color: #666666 } /* Literal.Number.Float */\n",
       ".highlight .mh { color: #666666 } /* Literal.Number.Hex */\n",
       ".highlight .mi { color: #666666 } /* Literal.Number.Integer */\n",
       ".highlight .mo { color: #666666 } /* Literal.Number.Oct */\n",
       ".highlight .sb { color: #BA2121 } /* Literal.String.Backtick */\n",
       ".highlight .sc { color: #BA2121 } /* Literal.String.Char */\n",
       ".highlight .sd { color: #BA2121; font-style: italic } /* Literal.String.Doc */\n",
       ".highlight .s2 { color: #BA2121 } /* Literal.String.Double */\n",
       ".highlight .se { color: #BB6622; font-weight: bold } /* Literal.String.Escape */\n",
       ".highlight .sh { color: #BA2121 } /* Literal.String.Heredoc */\n",
       ".highlight .si { color: #BB6688; font-weight: bold } /* Literal.String.Interpol */\n",
       ".highlight .sx { color: #008000 } /* Literal.String.Other */\n",
       ".highlight .sr { color: #BB6688 } /* Literal.String.Regex */\n",
       ".highlight .s1 { color: #BA2121 } /* Literal.String.Single */\n",
       ".highlight .ss { color: #19177C } /* Literal.String.Symbol */\n",
       ".highlight .bp { color: #008000 } /* Name.Builtin.Pseudo */\n",
       ".highlight .vc { color: #19177C } /* Name.Variable.Class */\n",
       ".highlight .vg { color: #19177C } /* Name.Variable.Global */\n",
       ".highlight .vi { color: #19177C } /* Name.Variable.Instance */\n",
       ".highlight .il { color: #666666 } /* Literal.Number.Integer.Long */</style><div class=\"highlight\"><pre><span></span><span class=\"k\">SELECT</span> <span class=\"k\">COUNT</span><span class=\"p\">(</span><span class=\"k\">DISTINCT</span> <span class=\"n\">uniprot_id</span><span class=\"p\">)</span> <span class=\"n\">uniprots_with_provean</span>\n",
       "<span class=\"k\">FROM</span> <span class=\"n\">uniprot_kb</span><span class=\"p\">.</span><span class=\"n\">uniprot_sequence</span>\n",
       "<span class=\"k\">JOIN</span> <span class=\"n\">elaspic</span><span class=\"p\">.</span><span class=\"n\">uniprot_domain</span> <span class=\"n\">d</span> <span class=\"k\">USING</span> <span class=\"p\">(</span><span class=\"n\">uniprot_id</span><span class=\"p\">)</span>\n",
       "<span class=\"k\">JOIN</span> <span class=\"n\">elaspic</span><span class=\"p\">.</span><span class=\"n\">uniprot_domain_template</span> <span class=\"k\">USING</span> <span class=\"p\">(</span><span class=\"n\">uniprot_domain_id</span><span class=\"p\">)</span>\n",
       "<span class=\"k\">LEFT</span> <span class=\"k\">JOIN</span> <span class=\"n\">elaspic</span><span class=\"p\">.</span><span class=\"n\">provean</span> <span class=\"k\">USING</span> <span class=\"p\">(</span><span class=\"n\">uniprot_id</span><span class=\"p\">)</span>\n",
       "<span class=\"k\">WHERE</span> <span class=\"n\">organism_name</span> <span class=\"o\">=</span> <span class=\"s1\">&#39;Homo sapiens&#39;</span>\n",
       " <span class=\"k\">AND</span> <span class=\"n\">uniprot_id</span> <span class=\"k\">NOT</span> <span class=\"k\">LIKE</span> <span class=\"s1\">&#39;%%-%%&#39;</span>\n",
       " <span class=\"k\">AND</span> <span class=\"n\">db</span> <span class=\"o\">=</span> <span class=\"s1\">&#39;sp&#39;</span>\n",
       "<span class=\"k\">AND</span> <span class=\"n\">provean_supset_filename</span> <span class=\"k\">IS</span> <span class=\"k\">NOT</span> <span class=\"k\">NULL</span>\n",
       "<span class=\"o\">#</span> <span class=\"mi\">14015</span><span class=\"p\">;</span>\n",
       "</pre></div>\n"
      ],
      "text/plain": [
       "<IPython.core.display.HTML object>"
      ]
     },
     "metadata": {},
     "output_type": "display_data"
    },
    {
     "name": "stdout",
     "output_type": "stream",
     "text": [
      "14015\n"
     ]
    }
   ],
   "source": [
    "# Have Provean\n",
    "sql_query = r\"\"\"\n",
    "SELECT COUNT(DISTINCT uniprot_id) uniprots_with_provean\n",
    "FROM uniprot_kb.uniprot_sequence\n",
    "JOIN elaspic.uniprot_domain d USING (uniprot_id)\n",
    "JOIN elaspic.uniprot_domain_template USING (uniprot_domain_id)\n",
    "LEFT JOIN elaspic.provean USING (uniprot_id)\n",
    "WHERE organism_name = 'Homo sapiens'\n",
    "{0} AND uniprot_id NOT LIKE '%%-%%'\n",
    "{1} AND db = 'sp'\n",
    "AND provean_supset_filename IS NOT NULL\n",
    "# 14015;\n",
    "\"\"\".format(comment_in_splice_variants, comment_in_trembl)\n",
    "print_sql(sql_query)\n",
    "uniprots_with_provean = int(pd.read_sql_query(sql_query, db_remote.engine).values)\n",
    "print(uniprots_with_provean)"
   ]
  },
  {
   "cell_type": "code",
   "execution_count": 13,
   "metadata": {
    "code_folding": [
     0
    ],
    "collapsed": false,
    "deletable": true,
    "hide_input": false,
    "hide_output": false,
    "locked": false,
    "run_control": {
     "marked": false
    }
   },
   "outputs": [
    {
     "data": {
      "text/html": [
       "<style type=\"text/css\">.highlight .hll { background-color: #ffffcc }\n",
       ".highlight  { background: #f8f8f8; }\n",
       ".highlight .c { color: #408080; font-style: italic } /* Comment */\n",
       ".highlight .err { border: 1px solid #FF0000 } /* Error */\n",
       ".highlight .k { color: #008000; font-weight: bold } /* Keyword */\n",
       ".highlight .o { color: #666666 } /* Operator */\n",
       ".highlight .ch { color: #408080; font-style: italic } /* Comment.Hashbang */\n",
       ".highlight .cm { color: #408080; font-style: italic } /* Comment.Multiline */\n",
       ".highlight .cp { color: #BC7A00 } /* Comment.Preproc */\n",
       ".highlight .cpf { color: #408080; font-style: italic } /* Comment.PreprocFile */\n",
       ".highlight .c1 { color: #408080; font-style: italic } /* Comment.Single */\n",
       ".highlight .cs { color: #408080; font-style: italic } /* Comment.Special */\n",
       ".highlight .gd { color: #A00000 } /* Generic.Deleted */\n",
       ".highlight .ge { font-style: italic } /* Generic.Emph */\n",
       ".highlight .gr { color: #FF0000 } /* Generic.Error */\n",
       ".highlight .gh { color: #000080; font-weight: bold } /* Generic.Heading */\n",
       ".highlight .gi { color: #00A000 } /* Generic.Inserted */\n",
       ".highlight .go { color: #888888 } /* Generic.Output */\n",
       ".highlight .gp { color: #000080; font-weight: bold } /* Generic.Prompt */\n",
       ".highlight .gs { font-weight: bold } /* Generic.Strong */\n",
       ".highlight .gu { color: #800080; font-weight: bold } /* Generic.Subheading */\n",
       ".highlight .gt { color: #0044DD } /* Generic.Traceback */\n",
       ".highlight .kc { color: #008000; font-weight: bold } /* Keyword.Constant */\n",
       ".highlight .kd { color: #008000; font-weight: bold } /* Keyword.Declaration */\n",
       ".highlight .kn { color: #008000; font-weight: bold } /* Keyword.Namespace */\n",
       ".highlight .kp { color: #008000 } /* Keyword.Pseudo */\n",
       ".highlight .kr { color: #008000; font-weight: bold } /* Keyword.Reserved */\n",
       ".highlight .kt { color: #B00040 } /* Keyword.Type */\n",
       ".highlight .m { color: #666666 } /* Literal.Number */\n",
       ".highlight .s { color: #BA2121 } /* Literal.String */\n",
       ".highlight .na { color: #7D9029 } /* Name.Attribute */\n",
       ".highlight .nb { color: #008000 } /* Name.Builtin */\n",
       ".highlight .nc { color: #0000FF; font-weight: bold } /* Name.Class */\n",
       ".highlight .no { color: #880000 } /* Name.Constant */\n",
       ".highlight .nd { color: #AA22FF } /* Name.Decorator */\n",
       ".highlight .ni { color: #999999; font-weight: bold } /* Name.Entity */\n",
       ".highlight .ne { color: #D2413A; font-weight: bold } /* Name.Exception */\n",
       ".highlight .nf { color: #0000FF } /* Name.Function */\n",
       ".highlight .nl { color: #A0A000 } /* Name.Label */\n",
       ".highlight .nn { color: #0000FF; font-weight: bold } /* Name.Namespace */\n",
       ".highlight .nt { color: #008000; font-weight: bold } /* Name.Tag */\n",
       ".highlight .nv { color: #19177C } /* Name.Variable */\n",
       ".highlight .ow { color: #AA22FF; font-weight: bold } /* Operator.Word */\n",
       ".highlight .w { color: #bbbbbb } /* Text.Whitespace */\n",
       ".highlight .mb { color: #666666 } /* Literal.Number.Bin */\n",
       ".highlight .mf { color: #666666 } /* Literal.Number.Float */\n",
       ".highlight .mh { color: #666666 } /* Literal.Number.Hex */\n",
       ".highlight .mi { color: #666666 } /* Literal.Number.Integer */\n",
       ".highlight .mo { color: #666666 } /* Literal.Number.Oct */\n",
       ".highlight .sb { color: #BA2121 } /* Literal.String.Backtick */\n",
       ".highlight .sc { color: #BA2121 } /* Literal.String.Char */\n",
       ".highlight .sd { color: #BA2121; font-style: italic } /* Literal.String.Doc */\n",
       ".highlight .s2 { color: #BA2121 } /* Literal.String.Double */\n",
       ".highlight .se { color: #BB6622; font-weight: bold } /* Literal.String.Escape */\n",
       ".highlight .sh { color: #BA2121 } /* Literal.String.Heredoc */\n",
       ".highlight .si { color: #BB6688; font-weight: bold } /* Literal.String.Interpol */\n",
       ".highlight .sx { color: #008000 } /* Literal.String.Other */\n",
       ".highlight .sr { color: #BB6688 } /* Literal.String.Regex */\n",
       ".highlight .s1 { color: #BA2121 } /* Literal.String.Single */\n",
       ".highlight .ss { color: #19177C } /* Literal.String.Symbol */\n",
       ".highlight .bp { color: #008000 } /* Name.Builtin.Pseudo */\n",
       ".highlight .vc { color: #19177C } /* Name.Variable.Class */\n",
       ".highlight .vg { color: #19177C } /* Name.Variable.Global */\n",
       ".highlight .vi { color: #19177C } /* Name.Variable.Instance */\n",
       ".highlight .il { color: #666666 } /* Literal.Number.Integer.Long */</style><div class=\"highlight\"><pre><span></span><span class=\"k\">SELECT</span> <span class=\"k\">COUNT</span><span class=\"p\">(</span><span class=\"k\">DISTINCT</span> <span class=\"n\">uniprot_id</span><span class=\"p\">)</span> <span class=\"n\">uniprots_without_provean</span>\n",
       "<span class=\"k\">FROM</span> <span class=\"n\">uniprot_kb</span><span class=\"p\">.</span><span class=\"n\">uniprot_sequence</span>\n",
       "<span class=\"k\">JOIN</span> <span class=\"n\">elaspic</span><span class=\"p\">.</span><span class=\"n\">uniprot_domain</span> <span class=\"n\">d</span> <span class=\"k\">USING</span> <span class=\"p\">(</span><span class=\"n\">uniprot_id</span><span class=\"p\">)</span>\n",
       "<span class=\"k\">JOIN</span> <span class=\"n\">elaspic</span><span class=\"p\">.</span><span class=\"n\">uniprot_domain_template</span> <span class=\"k\">USING</span> <span class=\"p\">(</span><span class=\"n\">uniprot_domain_id</span><span class=\"p\">)</span>\n",
       "<span class=\"k\">LEFT</span> <span class=\"k\">JOIN</span> <span class=\"n\">elaspic</span><span class=\"p\">.</span><span class=\"n\">provean</span> <span class=\"k\">USING</span> <span class=\"p\">(</span><span class=\"n\">uniprot_id</span><span class=\"p\">)</span>\n",
       "<span class=\"k\">WHERE</span> <span class=\"n\">organism_name</span> <span class=\"o\">=</span> <span class=\"s1\">&#39;Homo sapiens&#39;</span>\n",
       " <span class=\"k\">AND</span> <span class=\"n\">uniprot_id</span> <span class=\"k\">NOT</span> <span class=\"k\">LIKE</span> <span class=\"s1\">&#39;%%-%%&#39;</span>\n",
       " <span class=\"k\">AND</span> <span class=\"n\">db</span> <span class=\"o\">=</span> <span class=\"s1\">&#39;sp&#39;</span>\n",
       "<span class=\"k\">AND</span> <span class=\"n\">provean_supset_filename</span> <span class=\"k\">IS</span> <span class=\"k\">NULL</span>\n",
       "<span class=\"o\">#</span> <span class=\"mi\">0</span>\n",
       "</pre></div>\n"
      ],
      "text/plain": [
       "<IPython.core.display.HTML object>"
      ]
     },
     "metadata": {},
     "output_type": "display_data"
    },
    {
     "name": "stdout",
     "output_type": "stream",
     "text": [
      "0\n"
     ]
    }
   ],
   "source": [
    "# Missing Provean\n",
    "sql_query = r\"\"\"\n",
    "SELECT COUNT(DISTINCT uniprot_id) uniprots_without_provean\n",
    "FROM uniprot_kb.uniprot_sequence\n",
    "JOIN elaspic.uniprot_domain d USING (uniprot_id)\n",
    "JOIN elaspic.uniprot_domain_template USING (uniprot_domain_id)\n",
    "LEFT JOIN elaspic.provean USING (uniprot_id)\n",
    "WHERE organism_name = 'Homo sapiens'\n",
    "{0} AND uniprot_id NOT LIKE '%%-%%'\n",
    "{1} AND db = 'sp'\n",
    "AND provean_supset_filename IS NULL\n",
    "# 0\n",
    "\"\"\".format(comment_in_splice_variants, comment_in_trembl)\n",
    "print_sql(sql_query)\n",
    "uniprots_without_provean = int(pd.read_sql_query(sql_query, db_remote.engine).values)\n",
    "print(uniprots_without_provean)"
   ]
  },
  {
   "cell_type": "code",
   "execution_count": 14,
   "metadata": {
    "code_folding": [
     0
    ],
    "collapsed": false,
    "hide_input": false,
    "run_control": {
     "marked": false
    }
   },
   "outputs": [
    {
     "data": {
      "image/png": "[encoded data removed]",
      "text/plain": [
       "<matplotlib.figure.Figure at 0x7f476161f5f8>"
      ]
     },
     "metadata": {},
     "output_type": "display_data"
    }
   ],
   "source": [
    "# Plot\n",
    "fg, ax = plt.subplots()\n",
    "sns.barplot(\n",
    "    x=['Calculated', 'Missing'],\n",
    "    y=[uniprots_with_provean, uniprots_without_provean],\n",
    "    color=flatui[5],\n",
    "    ax=ax,\n",
    ")\n",
    "ax.set_ylabel('Number of proteins')\n",
    "plt.savefig(op.join(NOTEBOOK_NAME, 'missing_provean.pdf'), bbox_inches='tight')\n",
    "plt.savefig(op.join(NOTEBOOK_NAME, 'missing_provean.png'), dpi=150, bbox_inches='tight')"
   ]
  },
  {
   "cell_type": "markdown",
   "metadata": {
    "hide_input": false,
    "run_control": {
     "marked": false
    }
   },
   "source": [
    "## PROTEIN: missing at least one model "
   ]
  },
  {
   "cell_type": "raw",
   "metadata": {
    "code_folding": [],
    "collapsed": false,
    "deletable": true,
    "hide_input": false,
    "hide_output": false,
    "locked": false,
    "run_control": {
     "marked": false
    }
   },
   "source": [
    "# Number of uniprots\n",
    "sql_query = r\"\"\"\n",
    "SELECT COUNT(DISTINCT uniprot_id) uniprots_total\n",
    "FROM uniprot_kb.uniprot_sequence\n",
    "JOIN elaspic.uniprot_domain d USING (uniprot_id)\n",
    "JOIN elaspic.uniprot_domain_template USING (uniprot_domain_id)\n",
    "LEFT JOIN elaspic.uniprot_domain_model USING (uniprot_domain_id)\n",
    "WHERE organism_name = 'Homo sapiens'\n",
    "{0} AND uniprot_id NOT LIKE '%%-%%'\n",
    "{1} AND db = 'sp'\n",
    "# 14015;\n",
    "\"\"\".format(comment_in_splice_variants, comment_in_trembl)\n",
    "print_sql(sql_query)\n",
    "uniprots_total = int(pd.read_sql_query(sql_query, db_remote.engine).values)\n",
    "print(uniprots_total)"
   ]
  },
  {
   "cell_type": "code",
   "execution_count": 15,
   "metadata": {
    "code_folding": [
     0
    ],
    "collapsed": false,
    "deletable": true,
    "hide_input": false,
    "hide_output": false,
    "locked": false,
    "run_control": {
     "marked": false
    }
   },
   "outputs": [
    {
     "data": {
      "text/html": [
       "<style type=\"text/css\">.highlight .hll { background-color: #ffffcc }\n",
       ".highlight  { background: #f8f8f8; }\n",
       ".highlight .c { color: #408080; font-style: italic } /* Comment */\n",
       ".highlight .err { border: 1px solid #FF0000 } /* Error */\n",
       ".highlight .k { color: #008000; font-weight: bold } /* Keyword */\n",
       ".highlight .o { color: #666666 } /* Operator */\n",
       ".highlight .ch { color: #408080; font-style: italic } /* Comment.Hashbang */\n",
       ".highlight .cm { color: #408080; font-style: italic } /* Comment.Multiline */\n",
       ".highlight .cp { color: #BC7A00 } /* Comment.Preproc */\n",
       ".highlight .cpf { color: #408080; font-style: italic } /* Comment.PreprocFile */\n",
       ".highlight .c1 { color: #408080; font-style: italic } /* Comment.Single */\n",
       ".highlight .cs { color: #408080; font-style: italic } /* Comment.Special */\n",
       ".highlight .gd { color: #A00000 } /* Generic.Deleted */\n",
       ".highlight .ge { font-style: italic } /* Generic.Emph */\n",
       ".highlight .gr { color: #FF0000 } /* Generic.Error */\n",
       ".highlight .gh { color: #000080; font-weight: bold } /* Generic.Heading */\n",
       ".highlight .gi { color: #00A000 } /* Generic.Inserted */\n",
       ".highlight .go { color: #888888 } /* Generic.Output */\n",
       ".highlight .gp { color: #000080; font-weight: bold } /* Generic.Prompt */\n",
       ".highlight .gs { font-weight: bold } /* Generic.Strong */\n",
       ".highlight .gu { color: #800080; font-weight: bold } /* Generic.Subheading */\n",
       ".highlight .gt { color: #0044DD } /* Generic.Traceback */\n",
       ".highlight .kc { color: #008000; font-weight: bold } /* Keyword.Constant */\n",
       ".highlight .kd { color: #008000; font-weight: bold } /* Keyword.Declaration */\n",
       ".highlight .kn { color: #008000; font-weight: bold } /* Keyword.Namespace */\n",
       ".highlight .kp { color: #008000 } /* Keyword.Pseudo */\n",
       ".highlight .kr { color: #008000; font-weight: bold } /* Keyword.Reserved */\n",
       ".highlight .kt { color: #B00040 } /* Keyword.Type */\n",
       ".highlight .m { color: #666666 } /* Literal.Number */\n",
       ".highlight .s { color: #BA2121 } /* Literal.String */\n",
       ".highlight .na { color: #7D9029 } /* Name.Attribute */\n",
       ".highlight .nb { color: #008000 } /* Name.Builtin */\n",
       ".highlight .nc { color: #0000FF; font-weight: bold } /* Name.Class */\n",
       ".highlight .no { color: #880000 } /* Name.Constant */\n",
       ".highlight .nd { color: #AA22FF } /* Name.Decorator */\n",
       ".highlight .ni { color: #999999; font-weight: bold } /* Name.Entity */\n",
       ".highlight .ne { color: #D2413A; font-weight: bold } /* Name.Exception */\n",
       ".highlight .nf { color: #0000FF } /* Name.Function */\n",
       ".highlight .nl { color: #A0A000 } /* Name.Label */\n",
       ".highlight .nn { color: #0000FF; font-weight: bold } /* Name.Namespace */\n",
       ".highlight .nt { color: #008000; font-weight: bold } /* Name.Tag */\n",
       ".highlight .nv { color: #19177C } /* Name.Variable */\n",
       ".highlight .ow { color: #AA22FF; font-weight: bold } /* Operator.Word */\n",
       ".highlight .w { color: #bbbbbb } /* Text.Whitespace */\n",
       ".highlight .mb { color: #666666 } /* Literal.Number.Bin */\n",
       ".highlight .mf { color: #666666 } /* Literal.Number.Float */\n",
       ".highlight .mh { color: #666666 } /* Literal.Number.Hex */\n",
       ".highlight .mi { color: #666666 } /* Literal.Number.Integer */\n",
       ".highlight .mo { color: #666666 } /* Literal.Number.Oct */\n",
       ".highlight .sb { color: #BA2121 } /* Literal.String.Backtick */\n",
       ".highlight .sc { color: #BA2121 } /* Literal.String.Char */\n",
       ".highlight .sd { color: #BA2121; font-style: italic } /* Literal.String.Doc */\n",
       ".highlight .s2 { color: #BA2121 } /* Literal.String.Double */\n",
       ".highlight .se { color: #BB6622; font-weight: bold } /* Literal.String.Escape */\n",
       ".highlight .sh { color: #BA2121 } /* Literal.String.Heredoc */\n",
       ".highlight .si { color: #BB6688; font-weight: bold } /* Literal.String.Interpol */\n",
       ".highlight .sx { color: #008000 } /* Literal.String.Other */\n",
       ".highlight .sr { color: #BB6688 } /* Literal.String.Regex */\n",
       ".highlight .s1 { color: #BA2121 } /* Literal.String.Single */\n",
       ".highlight .ss { color: #19177C } /* Literal.String.Symbol */\n",
       ".highlight .bp { color: #008000 } /* Name.Builtin.Pseudo */\n",
       ".highlight .vc { color: #19177C } /* Name.Variable.Class */\n",
       ".highlight .vg { color: #19177C } /* Name.Variable.Global */\n",
       ".highlight .vi { color: #19177C } /* Name.Variable.Instance */\n",
       ".highlight .il { color: #666666 } /* Literal.Number.Integer.Long */</style><div class=\"highlight\"><pre><span></span><span class=\"k\">SELECT</span> <span class=\"k\">COUNT</span><span class=\"p\">(</span><span class=\"k\">DISTINCT</span> <span class=\"n\">uniprot_id</span><span class=\"p\">)</span> <span class=\"n\">uniprots_with_model</span>\n",
       "<span class=\"k\">FROM</span> <span class=\"n\">uniprot_kb</span><span class=\"p\">.</span><span class=\"n\">uniprot_sequence</span>\n",
       "<span class=\"k\">JOIN</span> <span class=\"n\">elaspic</span><span class=\"p\">.</span><span class=\"n\">uniprot_domain</span> <span class=\"n\">d</span> <span class=\"k\">USING</span> <span class=\"p\">(</span><span class=\"n\">uniprot_id</span><span class=\"p\">)</span>\n",
       "<span class=\"k\">JOIN</span> <span class=\"n\">elaspic</span><span class=\"p\">.</span><span class=\"n\">uniprot_domain_template</span> <span class=\"k\">USING</span> <span class=\"p\">(</span><span class=\"n\">uniprot_domain_id</span><span class=\"p\">)</span>\n",
       "<span class=\"k\">LEFT</span> <span class=\"k\">JOIN</span> <span class=\"n\">elaspic</span><span class=\"p\">.</span><span class=\"n\">uniprot_domain_model</span> <span class=\"k\">USING</span> <span class=\"p\">(</span><span class=\"n\">uniprot_domain_id</span><span class=\"p\">)</span>\n",
       "<span class=\"k\">WHERE</span> <span class=\"n\">organism_name</span> <span class=\"o\">=</span> <span class=\"s1\">&#39;Homo sapiens&#39;</span>\n",
       " <span class=\"k\">AND</span> <span class=\"n\">uniprot_id</span> <span class=\"k\">NOT</span> <span class=\"k\">LIKE</span> <span class=\"s1\">&#39;%%-%%&#39;</span>\n",
       " <span class=\"k\">AND</span> <span class=\"n\">db</span> <span class=\"o\">=</span> <span class=\"s1\">&#39;sp&#39;</span>\n",
       "<span class=\"k\">AND</span> <span class=\"n\">model_filename</span> <span class=\"k\">IS</span> <span class=\"k\">NOT</span> <span class=\"k\">NULL</span><span class=\"p\">;</span>\n",
       "<span class=\"o\">#</span> <span class=\"mi\">13781</span><span class=\"p\">;</span>\n",
       "</pre></div>\n"
      ],
      "text/plain": [
       "<IPython.core.display.HTML object>"
      ]
     },
     "metadata": {},
     "output_type": "display_data"
    },
    {
     "name": "stdout",
     "output_type": "stream",
     "text": [
      "13796\n"
     ]
    }
   ],
   "source": [
    "# Number of uniprots with at least one model\n",
    "sql_query = r\"\"\"\n",
    "SELECT COUNT(DISTINCT uniprot_id) uniprots_with_model\n",
    "FROM uniprot_kb.uniprot_sequence\n",
    "JOIN elaspic.uniprot_domain d USING (uniprot_id)\n",
    "JOIN elaspic.uniprot_domain_template USING (uniprot_domain_id)\n",
    "LEFT JOIN elaspic.uniprot_domain_model USING (uniprot_domain_id)\n",
    "WHERE organism_name = 'Homo sapiens'\n",
    "{0} AND uniprot_id NOT LIKE '%%-%%'\n",
    "{1} AND db = 'sp'\n",
    "AND model_filename IS NOT NULL;\n",
    "# 13781;\n",
    "\"\"\".format(comment_in_splice_variants, comment_in_trembl)\n",
    "print_sql(sql_query)\n",
    "uniprots_with_model = int(pd.read_sql_query(sql_query, db_remote.engine).values)\n",
    "print(uniprots_with_model)"
   ]
  },
  {
   "cell_type": "code",
   "execution_count": 16,
   "metadata": {
    "code_folding": [],
    "collapsed": false,
    "hide_input": false,
    "run_control": {
     "marked": false
    }
   },
   "outputs": [
    {
     "name": "stdout",
     "output_type": "stream",
     "text": [
      "6474\n"
     ]
    },
    {
     "data": {
      "image/png": "[encoded data removed]",
      "text/plain": [
       "<matplotlib.figure.Figure at 0x7f4761091160>"
      ]
     },
     "metadata": {},
     "output_type": "display_data"
    }
   ],
   "source": [
    "# Plot\n",
    "uniprots_without_model = uniprots_total - uniprots_with_model\n",
    "print(uniprots_without_model)\n",
    "\n",
    "fg, ax = plt.subplots()\n",
    "sns.barplot(\n",
    "    x=['Calculated', 'Missing'],\n",
    "    y=[uniprots_with_model, uniprots_without_model],\n",
    "    color=flatui[5],\n",
    "    ax=ax,\n",
    ")\n",
    "ax.set_ylabel('Number of proteins')\n",
    "plt.savefig(op.join(NOTEBOOK_NAME, 'missing_model_protein.pdf'), bbox_inches='tight')\n",
    "plt.savefig(op.join(NOTEBOOK_NAME, 'missing_model_protein.png'), dpi=150, bbox_inches='tight')"
   ]
  },
  {
   "cell_type": "code",
   "execution_count": 17,
   "metadata": {
    "collapsed": false
   },
   "outputs": [
    {
     "data": {
      "image/png": "[encoded data removed]",
      "text/plain": [
       "<matplotlib.figure.Figure at 0x7f47610a9a90>"
      ]
     },
     "metadata": {},
     "output_type": "display_data"
    }
   ],
   "source": [
    "# Plot\n",
    "fg, ax = plt.subplots(figsize=(3, 6))\n",
    "ax.set_ylabel('Number of proteins')\n",
    "sns.barplot(y=[uniprots_total], color=flatui[1], label='No Pfam domains')\n",
    "sns.barplot(y=[uniprots_with_pfam], color=flatui[2], label='No PDB templates')\n",
    "sns.barplot(y=[uniprots_with_template], color=flatui[3], label='No homology models')\n",
    "sns.barplot(y=[uniprots_with_model], color=flatui[5], label='At least one homology model')\n",
    "plt.ylim(0, 22000)\n",
    "plt.legend(loc=(1.1, 0.6), ncol=1)\n",
    "plt.savefig(op.join(NOTEBOOK_NAME, 'protein_statistics.pdf'), bbox_inches='tight')\n",
    "plt.savefig(op.join(NOTEBOOK_NAME, 'protein_statistics.png'), dpi=150, bbox_inches='tight')"
   ]
  },
  {
   "cell_type": "markdown",
   "metadata": {
    "hide_input": false,
    "run_control": {
     "marked": false
    }
   },
   "source": [
    "## PROTEIN: homology model coverage"
   ]
  },
  {
   "cell_type": "code",
   "execution_count": 18,
   "metadata": {
    "code_folding": [
     0
    ],
    "collapsed": false,
    "deletable": true,
    "hide_input": false,
    "hide_output": false,
    "locked": false,
    "run_control": {
     "marked": false
    }
   },
   "outputs": [
    {
     "name": "stderr",
     "output_type": "stream",
     "text": [
      "/home/kimlab1/strokach/anaconda/lib/python3.5/site-packages/sqlalchemy/engine/default.py:450: Warning: Changing sql mode 'NO_AUTO_CREATE_USER' is deprecated. It will be removed in a future release.\n",
      "  cursor.execute(statement, parameters)\n"
     ]
    },
    {
     "data": {
      "text/html": [
       "<style type=\"text/css\">.highlight .hll { background-color: #ffffcc }\n",
       ".highlight  { background: #f8f8f8; }\n",
       ".highlight .c { color: #408080; font-style: italic } /* Comment */\n",
       ".highlight .err { border: 1px solid #FF0000 } /* Error */\n",
       ".highlight .k { color: #008000; font-weight: bold } /* Keyword */\n",
       ".highlight .o { color: #666666 } /* Operator */\n",
       ".highlight .ch { color: #408080; font-style: italic } /* Comment.Hashbang */\n",
       ".highlight .cm { color: #408080; font-style: italic } /* Comment.Multiline */\n",
       ".highlight .cp { color: #BC7A00 } /* Comment.Preproc */\n",
       ".highlight .cpf { color: #408080; font-style: italic } /* Comment.PreprocFile */\n",
       ".highlight .c1 { color: #408080; font-style: italic } /* Comment.Single */\n",
       ".highlight .cs { color: #408080; font-style: italic } /* Comment.Special */\n",
       ".highlight .gd { color: #A00000 } /* Generic.Deleted */\n",
       ".highlight .ge { font-style: italic } /* Generic.Emph */\n",
       ".highlight .gr { color: #FF0000 } /* Generic.Error */\n",
       ".highlight .gh { color: #000080; font-weight: bold } /* Generic.Heading */\n",
       ".highlight .gi { color: #00A000 } /* Generic.Inserted */\n",
       ".highlight .go { color: #888888 } /* Generic.Output */\n",
       ".highlight .gp { color: #000080; font-weight: bold } /* Generic.Prompt */\n",
       ".highlight .gs { font-weight: bold } /* Generic.Strong */\n",
       ".highlight .gu { color: #800080; font-weight: bold } /* Generic.Subheading */\n",
       ".highlight .gt { color: #0044DD } /* Generic.Traceback */\n",
       ".highlight .kc { color: #008000; font-weight: bold } /* Keyword.Constant */\n",
       ".highlight .kd { color: #008000; font-weight: bold } /* Keyword.Declaration */\n",
       ".highlight .kn { color: #008000; font-weight: bold } /* Keyword.Namespace */\n",
       ".highlight .kp { color: #008000 } /* Keyword.Pseudo */\n",
       ".highlight .kr { color: #008000; font-weight: bold } /* Keyword.Reserved */\n",
       ".highlight .kt { color: #B00040 } /* Keyword.Type */\n",
       ".highlight .m { color: #666666 } /* Literal.Number */\n",
       ".highlight .s { color: #BA2121 } /* Literal.String */\n",
       ".highlight .na { color: #7D9029 } /* Name.Attribute */\n",
       ".highlight .nb { color: #008000 } /* Name.Builtin */\n",
       ".highlight .nc { color: #0000FF; font-weight: bold } /* Name.Class */\n",
       ".highlight .no { color: #880000 } /* Name.Constant */\n",
       ".highlight .nd { color: #AA22FF } /* Name.Decorator */\n",
       ".highlight .ni { color: #999999; font-weight: bold } /* Name.Entity */\n",
       ".highlight .ne { color: #D2413A; font-weight: bold } /* Name.Exception */\n",
       ".highlight .nf { color: #0000FF } /* Name.Function */\n",
       ".highlight .nl { color: #A0A000 } /* Name.Label */\n",
       ".highlight .nn { color: #0000FF; font-weight: bold } /* Name.Namespace */\n",
       ".highlight .nt { color: #008000; font-weight: bold } /* Name.Tag */\n",
       ".highlight .nv { color: #19177C } /* Name.Variable */\n",
       ".highlight .ow { color: #AA22FF; font-weight: bold } /* Operator.Word */\n",
       ".highlight .w { color: #bbbbbb } /* Text.Whitespace */\n",
       ".highlight .mb { color: #666666 } /* Literal.Number.Bin */\n",
       ".highlight .mf { color: #666666 } /* Literal.Number.Float */\n",
       ".highlight .mh { color: #666666 } /* Literal.Number.Hex */\n",
       ".highlight .mi { color: #666666 } /* Literal.Number.Integer */\n",
       ".highlight .mo { color: #666666 } /* Literal.Number.Oct */\n",
       ".highlight .sb { color: #BA2121 } /* Literal.String.Backtick */\n",
       ".highlight .sc { color: #BA2121 } /* Literal.String.Char */\n",
       ".highlight .sd { color: #BA2121; font-style: italic } /* Literal.String.Doc */\n",
       ".highlight .s2 { color: #BA2121 } /* Literal.String.Double */\n",
       ".highlight .se { color: #BB6622; font-weight: bold } /* Literal.String.Escape */\n",
       ".highlight .sh { color: #BA2121 } /* Literal.String.Heredoc */\n",
       ".highlight .si { color: #BB6688; font-weight: bold } /* Literal.String.Interpol */\n",
       ".highlight .sx { color: #008000 } /* Literal.String.Other */\n",
       ".highlight .sr { color: #BB6688 } /* Literal.String.Regex */\n",
       ".highlight .s1 { color: #BA2121 } /* Literal.String.Single */\n",
       ".highlight .ss { color: #19177C } /* Literal.String.Symbol */\n",
       ".highlight .bp { color: #008000 } /* Name.Builtin.Pseudo */\n",
       ".highlight .vc { color: #19177C } /* Name.Variable.Class */\n",
       ".highlight .vg { color: #19177C } /* Name.Variable.Global */\n",
       ".highlight .vi { color: #19177C } /* Name.Variable.Instance */\n",
       ".highlight .il { color: #666666 } /* Literal.Number.Integer.Long */</style><div class=\"highlight\"><pre><span></span><span class=\"k\">select</span> \n",
       "<span class=\"n\">uniprot_id</span><span class=\"p\">,</span> \n",
       "<span class=\"k\">char_length</span><span class=\"p\">(</span><span class=\"n\">uniprot_sequence</span><span class=\"p\">)</span> <span class=\"n\">uniprot_length</span><span class=\"p\">,</span> \n",
       "<span class=\"n\">group_concat</span><span class=\"p\">(</span><span class=\"n\">model_domain_def</span><span class=\"p\">)</span> <span class=\"n\">domain_defs</span>\n",
       "<span class=\"k\">from</span> <span class=\"n\">elaspic</span><span class=\"p\">.</span><span class=\"n\">uniprot_domain</span>\n",
       "<span class=\"k\">join</span> <span class=\"n\">uniprot_kb</span><span class=\"p\">.</span><span class=\"n\">uniprot_sequence</span> <span class=\"k\">using</span> <span class=\"p\">(</span><span class=\"n\">uniprot_id</span><span class=\"p\">)</span>\n",
       "<span class=\"k\">join</span> <span class=\"n\">elaspic</span><span class=\"p\">.</span><span class=\"n\">uniprot_domain_model</span> <span class=\"k\">using</span> <span class=\"p\">(</span><span class=\"n\">uniprot_domain_id</span><span class=\"p\">)</span>\n",
       "<span class=\"k\">where</span> <span class=\"n\">organism_name</span> <span class=\"o\">=</span> <span class=\"s1\">&#39;Homo sapiens&#39;</span>\n",
       " <span class=\"k\">and</span> <span class=\"n\">uniprot_id</span> <span class=\"k\">not</span> <span class=\"k\">like</span> <span class=\"s1\">&#39;%%-%%&#39;</span>\n",
       " <span class=\"k\">and</span> <span class=\"n\">db</span> <span class=\"o\">=</span> <span class=\"s1\">&#39;sp&#39;</span>\n",
       "<span class=\"k\">and</span> <span class=\"n\">model_domain_def</span> <span class=\"k\">is</span> <span class=\"k\">not</span> <span class=\"k\">null</span>\n",
       "<span class=\"k\">group</span> <span class=\"k\">by</span> <span class=\"n\">uniprot_id</span>\n",
       "<span class=\"o\">#</span> <span class=\"mi\">13824</span><span class=\"p\">;</span>\n",
       "</pre></div>\n"
      ],
      "text/plain": [
       "<IPython.core.display.HTML object>"
      ]
     },
     "metadata": {},
     "output_type": "display_data"
    },
    {
     "name": "stdout",
     "output_type": "stream",
     "text": [
      "13837\n"
     ]
    }
   ],
   "source": [
    "# Proteins with homology models\n",
    "db_remote.engine.execute(\"SET SQL_MODE = ''\")\n",
    "db_remote.engine.execute(\"SET SESSION group_concat_max_len = 10000000;\")\n",
    "sql_query = \"\"\"\n",
    "select \n",
    "uniprot_id, \n",
    "char_length(uniprot_sequence) uniprot_length, \n",
    "group_concat(model_domain_def) domain_defs\n",
    "from elaspic.uniprot_domain\n",
    "join uniprot_kb.uniprot_sequence using (uniprot_id)\n",
    "join elaspic.uniprot_domain_model using (uniprot_domain_id)\n",
    "where organism_name = 'Homo sapiens'\n",
    "{0} and uniprot_id not like '%%-%%'\n",
    "{1} and db = 'sp'\n",
    "and model_domain_def is not null\n",
    "group by uniprot_id\n",
    "# 13824;\"\"\".format(comment_in_splice_variants, comment_in_trembl)\n",
    "print_sql(sql_query)\n",
    "df = pd.read_sql_query(sql_query, db_remote.engine)\n",
    "print(len(df))"
   ]
  },
  {
   "cell_type": "code",
   "execution_count": 19,
   "metadata": {
    "code_folding": [
     0
    ],
    "collapsed": false,
    "hide_input": false,
    "run_control": {
     "marked": false
    }
   },
   "outputs": [
    {
     "data": {
      "image/png": "[encoded data removed]",
      "text/plain": [
       "<matplotlib.figure.Figure at 0x7f4760c7f9e8>"
      ]
     },
     "metadata": {},
     "output_type": "display_data"
    }
   ],
   "source": [
    "# Plot\n",
    "def get_coverage(domain_defs):\n",
    "    domain_cov = set()\n",
    "    for domain_def in domain_defs.split(','):\n",
    "        start, end = [int(x) for x in domain_def.split(':')]\n",
    "        domain_cov.update(range(start, end+1))\n",
    "    return domain_cov\n",
    "\n",
    "assert get_coverage('1:10') == set(range(1,11))\n",
    "assert get_coverage('1:10,11:100') == set(range(1,101))\n",
    "assert get_coverage('1:10,91:100') == set(range(1,11)) | set(range(91,101))\n",
    "\n",
    "df['num_domains'] = df['domain_defs'].str.count(',') + 1\n",
    "df['structural_coverage'] = df['domain_defs'].apply(get_coverage)\n",
    "df['coverage_length'] = df['structural_coverage'].apply(len)\n",
    "df['coverage_percent'] = df['coverage_length'] / df['uniprot_length'] * 100\n",
    "\n",
    "fg, ax = plt.subplots()\n",
    "df['coverage_percent'].hist(range=(0,100), bins=20, color=flatui[5], ax=ax)\n",
    "ax.set_xlabel('Percent structural coverage')\n",
    "ax.set_ylabel('Number of proteins')\n",
    "plt.savefig(op.join(NOTEBOOK_NAME, 'structural_coverage_hist.pdf'), bbox_inches='tight')\n",
    "plt.savefig(op.join(NOTEBOOK_NAME, 'structural_coverage_hist.png'), dpi=150, bbox_inches='tight')\n",
    "plt.show()"
   ]
  },
  {
   "cell_type": "markdown",
   "metadata": {
    "collapsed": true,
    "hide_input": false,
    "run_control": {
     "marked": false
    }
   },
   "source": [
    "## DOMAIN: missing model"
   ]
  },
  {
   "cell_type": "code",
   "execution_count": 20,
   "metadata": {
    "code_folding": [
     0
    ],
    "collapsed": false,
    "deletable": true,
    "hide_input": false,
    "hide_output": false,
    "locked": false,
    "run_control": {
     "marked": false
    }
   },
   "outputs": [
    {
     "data": {
      "text/html": [
       "<style type=\"text/css\">.highlight .hll { background-color: #ffffcc }\n",
       ".highlight  { background: #f8f8f8; }\n",
       ".highlight .c { color: #408080; font-style: italic } /* Comment */\n",
       ".highlight .err { border: 1px solid #FF0000 } /* Error */\n",
       ".highlight .k { color: #008000; font-weight: bold } /* Keyword */\n",
       ".highlight .o { color: #666666 } /* Operator */\n",
       ".highlight .ch { color: #408080; font-style: italic } /* Comment.Hashbang */\n",
       ".highlight .cm { color: #408080; font-style: italic } /* Comment.Multiline */\n",
       ".highlight .cp { color: #BC7A00 } /* Comment.Preproc */\n",
       ".highlight .cpf { color: #408080; font-style: italic } /* Comment.PreprocFile */\n",
       ".highlight .c1 { color: #408080; font-style: italic } /* Comment.Single */\n",
       ".highlight .cs { color: #408080; font-style: italic } /* Comment.Special */\n",
       ".highlight .gd { color: #A00000 } /* Generic.Deleted */\n",
       ".highlight .ge { font-style: italic } /* Generic.Emph */\n",
       ".highlight .gr { color: #FF0000 } /* Generic.Error */\n",
       ".highlight .gh { color: #000080; font-weight: bold } /* Generic.Heading */\n",
       ".highlight .gi { color: #00A000 } /* Generic.Inserted */\n",
       ".highlight .go { color: #888888 } /* Generic.Output */\n",
       ".highlight .gp { color: #000080; font-weight: bold } /* Generic.Prompt */\n",
       ".highlight .gs { font-weight: bold } /* Generic.Strong */\n",
       ".highlight .gu { color: #800080; font-weight: bold } /* Generic.Subheading */\n",
       ".highlight .gt { color: #0044DD } /* Generic.Traceback */\n",
       ".highlight .kc { color: #008000; font-weight: bold } /* Keyword.Constant */\n",
       ".highlight .kd { color: #008000; font-weight: bold } /* Keyword.Declaration */\n",
       ".highlight .kn { color: #008000; font-weight: bold } /* Keyword.Namespace */\n",
       ".highlight .kp { color: #008000 } /* Keyword.Pseudo */\n",
       ".highlight .kr { color: #008000; font-weight: bold } /* Keyword.Reserved */\n",
       ".highlight .kt { color: #B00040 } /* Keyword.Type */\n",
       ".highlight .m { color: #666666 } /* Literal.Number */\n",
       ".highlight .s { color: #BA2121 } /* Literal.String */\n",
       ".highlight .na { color: #7D9029 } /* Name.Attribute */\n",
       ".highlight .nb { color: #008000 } /* Name.Builtin */\n",
       ".highlight .nc { color: #0000FF; font-weight: bold } /* Name.Class */\n",
       ".highlight .no { color: #880000 } /* Name.Constant */\n",
       ".highlight .nd { color: #AA22FF } /* Name.Decorator */\n",
       ".highlight .ni { color: #999999; font-weight: bold } /* Name.Entity */\n",
       ".highlight .ne { color: #D2413A; font-weight: bold } /* Name.Exception */\n",
       ".highlight .nf { color: #0000FF } /* Name.Function */\n",
       ".highlight .nl { color: #A0A000 } /* Name.Label */\n",
       ".highlight .nn { color: #0000FF; font-weight: bold } /* Name.Namespace */\n",
       ".highlight .nt { color: #008000; font-weight: bold } /* Name.Tag */\n",
       ".highlight .nv { color: #19177C } /* Name.Variable */\n",
       ".highlight .ow { color: #AA22FF; font-weight: bold } /* Operator.Word */\n",
       ".highlight .w { color: #bbbbbb } /* Text.Whitespace */\n",
       ".highlight .mb { color: #666666 } /* Literal.Number.Bin */\n",
       ".highlight .mf { color: #666666 } /* Literal.Number.Float */\n",
       ".highlight .mh { color: #666666 } /* Literal.Number.Hex */\n",
       ".highlight .mi { color: #666666 } /* Literal.Number.Integer */\n",
       ".highlight .mo { color: #666666 } /* Literal.Number.Oct */\n",
       ".highlight .sb { color: #BA2121 } /* Literal.String.Backtick */\n",
       ".highlight .sc { color: #BA2121 } /* Literal.String.Char */\n",
       ".highlight .sd { color: #BA2121; font-style: italic } /* Literal.String.Doc */\n",
       ".highlight .s2 { color: #BA2121 } /* Literal.String.Double */\n",
       ".highlight .se { color: #BB6622; font-weight: bold } /* Literal.String.Escape */\n",
       ".highlight .sh { color: #BA2121 } /* Literal.String.Heredoc */\n",
       ".highlight .si { color: #BB6688; font-weight: bold } /* Literal.String.Interpol */\n",
       ".highlight .sx { color: #008000 } /* Literal.String.Other */\n",
       ".highlight .sr { color: #BB6688 } /* Literal.String.Regex */\n",
       ".highlight .s1 { color: #BA2121 } /* Literal.String.Single */\n",
       ".highlight .ss { color: #19177C } /* Literal.String.Symbol */\n",
       ".highlight .bp { color: #008000 } /* Name.Builtin.Pseudo */\n",
       ".highlight .vc { color: #19177C } /* Name.Variable.Class */\n",
       ".highlight .vg { color: #19177C } /* Name.Variable.Global */\n",
       ".highlight .vi { color: #19177C } /* Name.Variable.Instance */\n",
       ".highlight .il { color: #666666 } /* Literal.Number.Integer.Long */</style><div class=\"highlight\"><pre><span></span><span class=\"k\">SELECT</span> <span class=\"k\">COUNT</span><span class=\"p\">(</span><span class=\"k\">DISTINCT</span> <span class=\"n\">uniprot_domain_id</span><span class=\"p\">)</span> <span class=\"n\">domains_with_models</span>\n",
       "<span class=\"k\">FROM</span> <span class=\"n\">elaspic</span><span class=\"p\">.</span><span class=\"n\">uniprot_domain</span> <span class=\"n\">d</span>\n",
       "<span class=\"k\">JOIN</span> <span class=\"n\">uniprot_kb</span><span class=\"p\">.</span><span class=\"n\">uniprot_sequence</span> <span class=\"k\">USING</span> <span class=\"p\">(</span><span class=\"n\">uniprot_id</span><span class=\"p\">)</span>\n",
       "<span class=\"k\">LEFT</span> <span class=\"k\">JOIN</span> <span class=\"n\">elaspic</span><span class=\"p\">.</span><span class=\"n\">uniprot_domain_model</span> <span class=\"k\">USING</span> <span class=\"p\">(</span><span class=\"n\">uniprot_domain_id</span><span class=\"p\">)</span>\n",
       "<span class=\"k\">WHERE</span> <span class=\"n\">organism_name</span> <span class=\"o\">=</span> <span class=\"s1\">&#39;Homo sapiens&#39;</span>\n",
       " <span class=\"k\">AND</span> <span class=\"n\">uniprot_id</span> <span class=\"k\">NOT</span> <span class=\"k\">LIKE</span> <span class=\"s1\">&#39;%%-%%&#39;</span>\n",
       " <span class=\"k\">AND</span> <span class=\"n\">db</span> <span class=\"o\">=</span> <span class=\"s1\">&#39;sp&#39;</span>\n",
       "<span class=\"k\">AND</span> <span class=\"n\">model_filename</span> <span class=\"k\">IS</span> <span class=\"k\">NOT</span> <span class=\"k\">NULL</span><span class=\"p\">;</span>\n",
       "<span class=\"o\">#</span> <span class=\"mi\">29171</span>\n",
       "</pre></div>\n"
      ],
      "text/plain": [
       "<IPython.core.display.HTML object>"
      ]
     },
     "metadata": {},
     "output_type": "display_data"
    },
    {
     "name": "stdout",
     "output_type": "stream",
     "text": [
      "29201\n"
     ]
    }
   ],
   "source": [
    "# Domains with models\n",
    "sql_query = r\"\"\"\n",
    "SELECT COUNT(DISTINCT uniprot_domain_id) domains_with_models\n",
    "FROM elaspic.uniprot_domain d\n",
    "JOIN uniprot_kb.uniprot_sequence USING (uniprot_id)\n",
    "LEFT JOIN elaspic.uniprot_domain_model USING (uniprot_domain_id)\n",
    "WHERE organism_name = 'Homo sapiens'\n",
    "{0} AND uniprot_id NOT LIKE '%%-%%'\n",
    "{1} AND db = 'sp'\n",
    "AND model_filename IS NOT NULL;\n",
    "# 29171\"\"\".format(comment_in_splice_variants, comment_in_trembl)\n",
    "print_sql(sql_query)\n",
    "domains_with_models = int(pd.read_sql_query(sql_query, db_remote.engine).values)\n",
    "print(domains_with_models)"
   ]
  },
  {
   "cell_type": "code",
   "execution_count": 21,
   "metadata": {
    "code_folding": [
     0
    ],
    "collapsed": false,
    "deletable": true,
    "hide_input": false,
    "hide_output": false,
    "locked": false,
    "run_control": {
     "marked": false
    }
   },
   "outputs": [
    {
     "data": {
      "text/html": [
       "<style type=\"text/css\">.highlight .hll { background-color: #ffffcc }\n",
       ".highlight  { background: #f8f8f8; }\n",
       ".highlight .c { color: #408080; font-style: italic } /* Comment */\n",
       ".highlight .err { border: 1px solid #FF0000 } /* Error */\n",
       ".highlight .k { color: #008000; font-weight: bold } /* Keyword */\n",
       ".highlight .o { color: #666666 } /* Operator */\n",
       ".highlight .ch { color: #408080; font-style: italic } /* Comment.Hashbang */\n",
       ".highlight .cm { color: #408080; font-style: italic } /* Comment.Multiline */\n",
       ".highlight .cp { color: #BC7A00 } /* Comment.Preproc */\n",
       ".highlight .cpf { color: #408080; font-style: italic } /* Comment.PreprocFile */\n",
       ".highlight .c1 { color: #408080; font-style: italic } /* Comment.Single */\n",
       ".highlight .cs { color: #408080; font-style: italic } /* Comment.Special */\n",
       ".highlight .gd { color: #A00000 } /* Generic.Deleted */\n",
       ".highlight .ge { font-style: italic } /* Generic.Emph */\n",
       ".highlight .gr { color: #FF0000 } /* Generic.Error */\n",
       ".highlight .gh { color: #000080; font-weight: bold } /* Generic.Heading */\n",
       ".highlight .gi { color: #00A000 } /* Generic.Inserted */\n",
       ".highlight .go { color: #888888 } /* Generic.Output */\n",
       ".highlight .gp { color: #000080; font-weight: bold } /* Generic.Prompt */\n",
       ".highlight .gs { font-weight: bold } /* Generic.Strong */\n",
       ".highlight .gu { color: #800080; font-weight: bold } /* Generic.Subheading */\n",
       ".highlight .gt { color: #0044DD } /* Generic.Traceback */\n",
       ".highlight .kc { color: #008000; font-weight: bold } /* Keyword.Constant */\n",
       ".highlight .kd { color: #008000; font-weight: bold } /* Keyword.Declaration */\n",
       ".highlight .kn { color: #008000; font-weight: bold } /* Keyword.Namespace */\n",
       ".highlight .kp { color: #008000 } /* Keyword.Pseudo */\n",
       ".highlight .kr { color: #008000; font-weight: bold } /* Keyword.Reserved */\n",
       ".highlight .kt { color: #B00040 } /* Keyword.Type */\n",
       ".highlight .m { color: #666666 } /* Literal.Number */\n",
       ".highlight .s { color: #BA2121 } /* Literal.String */\n",
       ".highlight .na { color: #7D9029 } /* Name.Attribute */\n",
       ".highlight .nb { color: #008000 } /* Name.Builtin */\n",
       ".highlight .nc { color: #0000FF; font-weight: bold } /* Name.Class */\n",
       ".highlight .no { color: #880000 } /* Name.Constant */\n",
       ".highlight .nd { color: #AA22FF } /* Name.Decorator */\n",
       ".highlight .ni { color: #999999; font-weight: bold } /* Name.Entity */\n",
       ".highlight .ne { color: #D2413A; font-weight: bold } /* Name.Exception */\n",
       ".highlight .nf { color: #0000FF } /* Name.Function */\n",
       ".highlight .nl { color: #A0A000 } /* Name.Label */\n",
       ".highlight .nn { color: #0000FF; font-weight: bold } /* Name.Namespace */\n",
       ".highlight .nt { color: #008000; font-weight: bold } /* Name.Tag */\n",
       ".highlight .nv { color: #19177C } /* Name.Variable */\n",
       ".highlight .ow { color: #AA22FF; font-weight: bold } /* Operator.Word */\n",
       ".highlight .w { color: #bbbbbb } /* Text.Whitespace */\n",
       ".highlight .mb { color: #666666 } /* Literal.Number.Bin */\n",
       ".highlight .mf { color: #666666 } /* Literal.Number.Float */\n",
       ".highlight .mh { color: #666666 } /* Literal.Number.Hex */\n",
       ".highlight .mi { color: #666666 } /* Literal.Number.Integer */\n",
       ".highlight .mo { color: #666666 } /* Literal.Number.Oct */\n",
       ".highlight .sb { color: #BA2121 } /* Literal.String.Backtick */\n",
       ".highlight .sc { color: #BA2121 } /* Literal.String.Char */\n",
       ".highlight .sd { color: #BA2121; font-style: italic } /* Literal.String.Doc */\n",
       ".highlight .s2 { color: #BA2121 } /* Literal.String.Double */\n",
       ".highlight .se { color: #BB6622; font-weight: bold } /* Literal.String.Escape */\n",
       ".highlight .sh { color: #BA2121 } /* Literal.String.Heredoc */\n",
       ".highlight .si { color: #BB6688; font-weight: bold } /* Literal.String.Interpol */\n",
       ".highlight .sx { color: #008000 } /* Literal.String.Other */\n",
       ".highlight .sr { color: #BB6688 } /* Literal.String.Regex */\n",
       ".highlight .s1 { color: #BA2121 } /* Literal.String.Single */\n",
       ".highlight .ss { color: #19177C } /* Literal.String.Symbol */\n",
       ".highlight .bp { color: #008000 } /* Name.Builtin.Pseudo */\n",
       ".highlight .vc { color: #19177C } /* Name.Variable.Class */\n",
       ".highlight .vg { color: #19177C } /* Name.Variable.Global */\n",
       ".highlight .vi { color: #19177C } /* Name.Variable.Instance */\n",
       ".highlight .il { color: #666666 } /* Literal.Number.Integer.Long */</style><div class=\"highlight\"><pre><span></span><span class=\"k\">SELECT</span> <span class=\"k\">COUNT</span><span class=\"p\">(</span><span class=\"k\">DISTINCT</span> <span class=\"n\">uniprot_domain_id</span><span class=\"p\">)</span> <span class=\"n\">domains_without_models</span>\n",
       "<span class=\"k\">FROM</span> <span class=\"n\">elaspic</span><span class=\"p\">.</span><span class=\"n\">uniprot_domain</span> <span class=\"n\">d</span>\n",
       "<span class=\"k\">JOIN</span> <span class=\"n\">uniprot_kb</span><span class=\"p\">.</span><span class=\"n\">uniprot_sequence</span> <span class=\"k\">USING</span> <span class=\"p\">(</span><span class=\"n\">uniprot_id</span><span class=\"p\">)</span>\n",
       "<span class=\"k\">LEFT</span> <span class=\"k\">JOIN</span> <span class=\"n\">elaspic</span><span class=\"p\">.</span><span class=\"n\">uniprot_domain_model</span> <span class=\"k\">USING</span> <span class=\"p\">(</span><span class=\"n\">uniprot_domain_id</span><span class=\"p\">)</span>\n",
       "<span class=\"k\">WHERE</span> <span class=\"n\">organism_name</span> <span class=\"o\">=</span> <span class=\"s1\">&#39;Homo sapiens&#39;</span>\n",
       " <span class=\"k\">AND</span> <span class=\"n\">uniprot_id</span> <span class=\"k\">NOT</span> <span class=\"k\">LIKE</span> <span class=\"s1\">&#39;%%-%%&#39;</span>\n",
       " <span class=\"k\">AND</span> <span class=\"n\">db</span> <span class=\"o\">=</span> <span class=\"s1\">&#39;sp&#39;</span>\n",
       "<span class=\"k\">AND</span> <span class=\"n\">model_filename</span> <span class=\"k\">IS</span> <span class=\"k\">NULL</span><span class=\"p\">;</span>\n",
       "<span class=\"o\">#</span> <span class=\"mi\">9072</span>\n",
       "</pre></div>\n"
      ],
      "text/plain": [
       "<IPython.core.display.HTML object>"
      ]
     },
     "metadata": {},
     "output_type": "display_data"
    },
    {
     "name": "stdout",
     "output_type": "stream",
     "text": [
      "9042\n"
     ]
    }
   ],
   "source": [
    "# Domains without models\n",
    "sql_query = r\"\"\"\n",
    "SELECT COUNT(DISTINCT uniprot_domain_id) domains_without_models\n",
    "FROM elaspic.uniprot_domain d\n",
    "JOIN uniprot_kb.uniprot_sequence USING (uniprot_id)\n",
    "LEFT JOIN elaspic.uniprot_domain_model USING (uniprot_domain_id)\n",
    "WHERE organism_name = 'Homo sapiens'\n",
    "{0} AND uniprot_id NOT LIKE '%%-%%'\n",
    "{1} AND db = 'sp'\n",
    "AND model_filename IS NULL;\n",
    "# 9072\"\"\".format(comment_in_splice_variants, comment_in_trembl)\n",
    "print_sql(sql_query)\n",
    "domains_without_models = int(pd.read_sql_query(sql_query, db_remote.engine).values)\n",
    "print(domains_without_models)"
   ]
  },
  {
   "cell_type": "code",
   "execution_count": 22,
   "metadata": {
    "code_folding": [
     0
    ],
    "collapsed": false,
    "hide_input": false,
    "run_control": {
     "marked": false
    }
   },
   "outputs": [
    {
     "data": {
      "image/png": "[encoded data removed]",
      "text/plain": [
       "<matplotlib.figure.Figure at 0x7f47633ffdd8>"
      ]
     },
     "metadata": {},
     "output_type": "display_data"
    }
   ],
   "source": [
    "# Plot\n",
    "fg, ax = plt.subplots()\n",
    "sns.barplot(\n",
    "    x=['Calculated', 'Missing'],\n",
    "    y=[domains_with_models, domains_without_models],\n",
    "    color=flatui[5],\n",
    "    ax=ax,\n",
    ")\n",
    "ax.set_ylabel('Number of domains')\n",
    "plt.savefig(op.join(NOTEBOOK_NAME, 'missing_model_domain.pdf'), bbox_inches='tight')\n",
    "plt.savefig(op.join(NOTEBOOK_NAME, 'missing_model_domain.png'), dpi=150, bbox_inches='tight')"
   ]
  },
  {
   "cell_type": "code",
   "execution_count": 23,
   "metadata": {
    "collapsed": false
   },
   "outputs": [
    {
     "data": {
      "image/png": "[encoded data removed]",
      "text/plain": [
       "<matplotlib.figure.Figure at 0x7f475baa2588>"
      ]
     },
     "metadata": {},
     "output_type": "display_data"
    }
   ],
   "source": [
    "# Plot\n",
    "fg, ax = plt.subplots(figsize=(3, 6))\n",
    "ax.set_ylabel('Number of domain')\n",
    "sns.barplot(\n",
    "    y=[domains_with_models + domains_without_models], \n",
    "    color=flatui[3], \n",
    "    label='Failed to make homology model')\n",
    "sns.barplot(\n",
    "    y=[domains_with_models], \n",
    "    color=flatui[5], \n",
    "    label='Complete homology model')\n",
    "# plt.ylim(0, 22000)\n",
    "plt.legend(loc=(1.1, 0.8), ncol=1)\n",
    "plt.savefig(op.join(NOTEBOOK_NAME, 'domain_statistics.pdf'), bbox_inches='tight')\n",
    "plt.savefig(op.join(NOTEBOOK_NAME, 'domain_statistics.png'), dpi=150, bbox_inches='tight')"
   ]
  },
  {
   "cell_type": "markdown",
   "metadata": {
    "collapsed": true,
    "hide_input": false,
    "run_control": {
     "marked": false
    }
   },
   "source": [
    "## PROTEIN PAIR: missing model"
   ]
  },
  {
   "cell_type": "code",
   "execution_count": 24,
   "metadata": {
    "code_folding": [
     0
    ],
    "collapsed": false,
    "deletable": true,
    "hide_input": false,
    "hide_output": false,
    "locked": false,
    "run_control": {
     "marked": false
    }
   },
   "outputs": [
    {
     "data": {
      "text/html": [
       "<style type=\"text/css\">.highlight .hll { background-color: #ffffcc }\n",
       ".highlight  { background: #f8f8f8; }\n",
       ".highlight .c { color: #408080; font-style: italic } /* Comment */\n",
       ".highlight .err { border: 1px solid #FF0000 } /* Error */\n",
       ".highlight .k { color: #008000; font-weight: bold } /* Keyword */\n",
       ".highlight .o { color: #666666 } /* Operator */\n",
       ".highlight .ch { color: #408080; font-style: italic } /* Comment.Hashbang */\n",
       ".highlight .cm { color: #408080; font-style: italic } /* Comment.Multiline */\n",
       ".highlight .cp { color: #BC7A00 } /* Comment.Preproc */\n",
       ".highlight .cpf { color: #408080; font-style: italic } /* Comment.PreprocFile */\n",
       ".highlight .c1 { color: #408080; font-style: italic } /* Comment.Single */\n",
       ".highlight .cs { color: #408080; font-style: italic } /* Comment.Special */\n",
       ".highlight .gd { color: #A00000 } /* Generic.Deleted */\n",
       ".highlight .ge { font-style: italic } /* Generic.Emph */\n",
       ".highlight .gr { color: #FF0000 } /* Generic.Error */\n",
       ".highlight .gh { color: #000080; font-weight: bold } /* Generic.Heading */\n",
       ".highlight .gi { color: #00A000 } /* Generic.Inserted */\n",
       ".highlight .go { color: #888888 } /* Generic.Output */\n",
       ".highlight .gp { color: #000080; font-weight: bold } /* Generic.Prompt */\n",
       ".highlight .gs { font-weight: bold } /* Generic.Strong */\n",
       ".highlight .gu { color: #800080; font-weight: bold } /* Generic.Subheading */\n",
       ".highlight .gt { color: #0044DD } /* Generic.Traceback */\n",
       ".highlight .kc { color: #008000; font-weight: bold } /* Keyword.Constant */\n",
       ".highlight .kd { color: #008000; font-weight: bold } /* Keyword.Declaration */\n",
       ".highlight .kn { color: #008000; font-weight: bold } /* Keyword.Namespace */\n",
       ".highlight .kp { color: #008000 } /* Keyword.Pseudo */\n",
       ".highlight .kr { color: #008000; font-weight: bold } /* Keyword.Reserved */\n",
       ".highlight .kt { color: #B00040 } /* Keyword.Type */\n",
       ".highlight .m { color: #666666 } /* Literal.Number */\n",
       ".highlight .s { color: #BA2121 } /* Literal.String */\n",
       ".highlight .na { color: #7D9029 } /* Name.Attribute */\n",
       ".highlight .nb { color: #008000 } /* Name.Builtin */\n",
       ".highlight .nc { color: #0000FF; font-weight: bold } /* Name.Class */\n",
       ".highlight .no { color: #880000 } /* Name.Constant */\n",
       ".highlight .nd { color: #AA22FF } /* Name.Decorator */\n",
       ".highlight .ni { color: #999999; font-weight: bold } /* Name.Entity */\n",
       ".highlight .ne { color: #D2413A; font-weight: bold } /* Name.Exception */\n",
       ".highlight .nf { color: #0000FF } /* Name.Function */\n",
       ".highlight .nl { color: #A0A000 } /* Name.Label */\n",
       ".highlight .nn { color: #0000FF; font-weight: bold } /* Name.Namespace */\n",
       ".highlight .nt { color: #008000; font-weight: bold } /* Name.Tag */\n",
       ".highlight .nv { color: #19177C } /* Name.Variable */\n",
       ".highlight .ow { color: #AA22FF; font-weight: bold } /* Operator.Word */\n",
       ".highlight .w { color: #bbbbbb } /* Text.Whitespace */\n",
       ".highlight .mb { color: #666666 } /* Literal.Number.Bin */\n",
       ".highlight .mf { color: #666666 } /* Literal.Number.Float */\n",
       ".highlight .mh { color: #666666 } /* Literal.Number.Hex */\n",
       ".highlight .mi { color: #666666 } /* Literal.Number.Integer */\n",
       ".highlight .mo { color: #666666 } /* Literal.Number.Oct */\n",
       ".highlight .sb { color: #BA2121 } /* Literal.String.Backtick */\n",
       ".highlight .sc { color: #BA2121 } /* Literal.String.Char */\n",
       ".highlight .sd { color: #BA2121; font-style: italic } /* Literal.String.Doc */\n",
       ".highlight .s2 { color: #BA2121 } /* Literal.String.Double */\n",
       ".highlight .se { color: #BB6622; font-weight: bold } /* Literal.String.Escape */\n",
       ".highlight .sh { color: #BA2121 } /* Literal.String.Heredoc */\n",
       ".highlight .si { color: #BB6688; font-weight: bold } /* Literal.String.Interpol */\n",
       ".highlight .sx { color: #008000 } /* Literal.String.Other */\n",
       ".highlight .sr { color: #BB6688 } /* Literal.String.Regex */\n",
       ".highlight .s1 { color: #BA2121 } /* Literal.String.Single */\n",
       ".highlight .ss { color: #19177C } /* Literal.String.Symbol */\n",
       ".highlight .bp { color: #008000 } /* Name.Builtin.Pseudo */\n",
       ".highlight .vc { color: #19177C } /* Name.Variable.Class */\n",
       ".highlight .vg { color: #19177C } /* Name.Variable.Global */\n",
       ".highlight .vi { color: #19177C } /* Name.Variable.Instance */\n",
       ".highlight .il { color: #666666 } /* Literal.Number.Integer.Long */</style><div class=\"highlight\"><pre><span></span><span class=\"k\">SELECT</span> \n",
       "<span class=\"n\">uniprot_domain_pair_id</span><span class=\"p\">,</span> \n",
       "<span class=\"n\">d1</span><span class=\"p\">.</span><span class=\"n\">uniprot_id</span> <span class=\"n\">uniprot_id_1</span><span class=\"p\">,</span> \n",
       "<span class=\"n\">d2</span><span class=\"p\">.</span><span class=\"n\">uniprot_id</span> <span class=\"n\">uniprot_id_2</span><span class=\"p\">,</span> \n",
       "<span class=\"n\">model_filename</span>\n",
       "<span class=\"k\">FROM</span> <span class=\"n\">elaspic</span><span class=\"p\">.</span><span class=\"n\">uniprot_domain_pair</span> <span class=\"n\">dp</span>\n",
       "<span class=\"k\">JOIN</span> <span class=\"n\">elaspic</span><span class=\"p\">.</span><span class=\"n\">uniprot_domain_pair_template</span> <span class=\"n\">dpt</span> <span class=\"k\">USING</span> <span class=\"p\">(</span><span class=\"n\">uniprot_domain_pair_id</span><span class=\"p\">)</span>\n",
       "<span class=\"k\">JOIN</span> <span class=\"n\">elaspic</span><span class=\"p\">.</span><span class=\"n\">uniprot_domain</span> <span class=\"n\">d1</span> <span class=\"k\">ON</span> <span class=\"p\">(</span><span class=\"n\">d1</span><span class=\"p\">.</span><span class=\"n\">uniprot_domain_id</span> <span class=\"o\">=</span> <span class=\"n\">dp</span><span class=\"p\">.</span><span class=\"n\">uniprot_domain_id_1</span><span class=\"p\">)</span>\n",
       "<span class=\"k\">JOIN</span> <span class=\"n\">elaspic</span><span class=\"p\">.</span><span class=\"n\">uniprot_domain</span> <span class=\"n\">d2</span> <span class=\"k\">ON</span> <span class=\"p\">(</span><span class=\"n\">d2</span><span class=\"p\">.</span><span class=\"n\">uniprot_domain_id</span> <span class=\"o\">=</span> <span class=\"n\">dp</span><span class=\"p\">.</span><span class=\"n\">uniprot_domain_id_2</span><span class=\"p\">)</span>\n",
       "<span class=\"k\">JOIN</span> <span class=\"n\">uniprot_kb</span><span class=\"p\">.</span><span class=\"n\">uniprot_sequence</span> <span class=\"n\">us</span> <span class=\"k\">ON</span> <span class=\"p\">(</span><span class=\"n\">us</span><span class=\"p\">.</span><span class=\"n\">uniprot_id</span> <span class=\"o\">=</span> <span class=\"n\">d1</span><span class=\"p\">.</span><span class=\"n\">uniprot_id</span><span class=\"p\">)</span>\n",
       "<span class=\"k\">LEFT</span> <span class=\"k\">JOIN</span> <span class=\"n\">elaspic</span><span class=\"p\">.</span><span class=\"n\">uniprot_domain_pair_model</span> <span class=\"k\">USING</span> <span class=\"p\">(</span><span class=\"n\">uniprot_domain_pair_id</span><span class=\"p\">)</span>\n",
       "<span class=\"k\">WHERE</span> <span class=\"n\">organism_name</span> <span class=\"o\">=</span> <span class=\"s1\">&#39;Homo sapiens&#39;</span><span class=\"p\">;</span>\n",
       "</pre></div>\n"
      ],
      "text/plain": [
       "<IPython.core.display.HTML object>"
      ]
     },
     "metadata": {},
     "output_type": "display_data"
    },
    {
     "data": {
      "text/html": [
       "<div>\n",
       "<table border=\"1\" class=\"dataframe\">\n",
       "  <thead>\n",
       "    <tr style=\"text-align: right;\">\n",
       "      <th></th>\n",
       "      <th>uniprot_domain_pair_id</th>\n",
       "      <th>uniprot_id_1</th>\n",
       "      <th>uniprot_id_2</th>\n",
       "      <th>model_filename</th>\n",
       "    </tr>\n",
       "  </thead>\n",
       "  <tbody>\n",
       "    <tr>\n",
       "      <th>0</th>\n",
       "      <td>1386</td>\n",
       "      <td>A8K8M6</td>\n",
       "      <td>A8K8M6</td>\n",
       "      <td>None</td>\n",
       "    </tr>\n",
       "    <tr>\n",
       "      <th>1</th>\n",
       "      <td>2460</td>\n",
       "      <td>B4DWA2</td>\n",
       "      <td>B4DWA2</td>\n",
       "      <td>B4DWA2.60.311_B4DWA2.60.311-3SIRAD.pdb</td>\n",
       "    </tr>\n",
       "  </tbody>\n",
       "</table>\n",
       "</div>"
      ],
      "text/plain": [
       "   uniprot_domain_pair_id uniprot_id_1 uniprot_id_2                          model_filename\n",
       "0                    1386       A8K8M6       A8K8M6                                    None\n",
       "1                    2460       B4DWA2       B4DWA2  B4DWA2.60.311_B4DWA2.60.311-3SIRAD.pdb"
      ]
     },
     "metadata": {},
     "output_type": "display_data"
    }
   ],
   "source": [
    "# \n",
    "sql_query = r\"\"\"\n",
    "SELECT \n",
    "uniprot_domain_pair_id, \n",
    "d1.uniprot_id uniprot_id_1, \n",
    "d2.uniprot_id uniprot_id_2, \n",
    "model_filename\n",
    "FROM elaspic.uniprot_domain_pair dp\n",
    "JOIN elaspic.uniprot_domain_pair_template dpt USING (uniprot_domain_pair_id)\n",
    "JOIN elaspic.uniprot_domain d1 ON (d1.uniprot_domain_id = dp.uniprot_domain_id_1)\n",
    "JOIN elaspic.uniprot_domain d2 ON (d2.uniprot_domain_id = dp.uniprot_domain_id_2)\n",
    "JOIN uniprot_kb.uniprot_sequence us ON (us.uniprot_id = d1.uniprot_id)\n",
    "LEFT JOIN elaspic.uniprot_domain_pair_model USING (uniprot_domain_pair_id)\n",
    "WHERE organism_name = 'Homo sapiens';\n",
    "\"\"\".format(comment_in_splice_variants, comment_in_trembl)\n",
    "print_sql(sql_query)\n",
    "df = pd.read_sql_query(sql_query, db_remote.engine)\n",
    "display(df.head(2))\n",
    "df_bak = df.copy()"
   ]
  },
  {
   "cell_type": "code",
   "execution_count": 25,
   "metadata": {
    "collapsed": false,
    "hide_input": false,
    "run_control": {
     "marked": false
    }
   },
   "outputs": [],
   "source": [
    "group_by_protein_pair = True\n",
    "ignore_splice_variants = True"
   ]
  },
  {
   "cell_type": "code",
   "execution_count": 26,
   "metadata": {
    "code_folding": [],
    "collapsed": false,
    "run_control": {
     "marked": false
    }
   },
   "outputs": [
    {
     "name": "stdout",
     "output_type": "stream",
     "text": [
      "ALL protein dimers excluding splice variants\n"
     ]
    },
    {
     "data": {
      "image/png": "[encoded data removed]",
      "text/plain": [
       "<matplotlib.figure.Figure at 0x7f47560a1978>"
      ]
     },
     "metadata": {},
     "output_type": "display_data"
    },
    {
     "name": "stdout",
     "output_type": "stream",
     "text": [
      "Protein HOMODIMERS excluding splice variants\n"
     ]
    },
    {
     "data": {
      "image/png": "[encoded data removed]",
      "text/plain": [
       "<matplotlib.figure.Figure at 0x7f475f382a58>"
      ]
     },
     "metadata": {},
     "output_type": "display_data"
    },
    {
     "name": "stdout",
     "output_type": "stream",
     "text": [
      "Protein HETERODIMERS excluding splice variants\n"
     ]
    },
    {
     "data": {
      "image/png": "[encoded data removed]",
      "text/plain": [
       "<matplotlib.figure.Figure at 0x7f475f3f6320>"
      ]
     },
     "metadata": {},
     "output_type": "display_data"
    },
    {
     "name": "stdout",
     "output_type": "stream",
     "text": [
      "Protein HOMO- and HETERO-DIMERS excluding splice variants\n"
     ]
    },
    {
     "data": {
      "image/png": "[encoded data removed]",
      "text/plain": [
       "<matplotlib.figure.Figure at 0x7f4757dffa90>"
      ]
     },
     "metadata": {},
     "output_type": "display_data"
    }
   ],
   "source": [
    "# Plots for protein pairs:\n",
    "df = df_bak.copy()\n",
    "\n",
    "# Prepare data\n",
    "df['uniprot_id_1_canon'] = df['uniprot_id_1'].apply(lambda x: x.split('-')[0])\n",
    "df['uniprot_id_2_canon'] = df['uniprot_id_2'].apply(lambda x: x.split('-')[0])\n",
    "\n",
    "if group_by_protein_pair:\n",
    "    df['unique'] = df[['uniprot_id_1', 'uniprot_id_2']].apply(lambda x: '_'.join(sorted(x)), axis=1)\n",
    "else:\n",
    "    df['unique'] = df['uniprot_domain_pair_id']\n",
    "    \n",
    "if ignore_splice_variants:\n",
    "    df = df[\n",
    "        (~df['uniprot_id_1'].str.contains('-')) &\n",
    "        (~df['uniprot_id_2'].str.contains('-'))\n",
    "    ].copy()\n",
    "\n",
    "y_label = \"Number of {} pairs\".format(\"protein\" if group_by_protein_pair else \"domain\")\n",
    "\n",
    "# All dimers\n",
    "print('ALL protein dimers excluding splice variants')\n",
    "dimers_all = len(set(df['unique']))\n",
    "dimers_with_model = len(set(df[~pd.isnull(df['model_filename'])]['unique']))\n",
    "dimers_without_model = dimers_all - dimers_with_model\n",
    "\n",
    "fg, ax = plt.subplots()\n",
    "sns.barplot(\n",
    "    x=['Calculated', 'Missing'],\n",
    "    y=[dimers_with_model, dimers_without_model],\n",
    "    color=flatui[5],\n",
    "    ax=ax,\n",
    ")\n",
    "ax.set_ylabel(y_label)\n",
    "plt.show()\n",
    "\n",
    "# Homodimers\n",
    "print('Protein HOMODIMERS excluding splice variants')\n",
    "df_homo = df[\n",
    "    df['uniprot_id_1_canon'] == df['uniprot_id_2_canon']\n",
    "]\n",
    "homodimers_all = len(set(df_homo['unique']))\n",
    "homodimers_with_model = len(set(df_homo[~pd.isnull(df_homo['model_filename'])]['unique']))\n",
    "homodimers_without_model = homodimers_all - homodimers_with_model\n",
    "\n",
    "fg, ax = plt.subplots()\n",
    "sns.barplot(\n",
    "    x=['Calculated', 'Missing'],\n",
    "    y=[homodimers_with_model, homodimers_without_model],\n",
    "    color=flatui[5],\n",
    "    ax=ax,\n",
    ")\n",
    "ax.set_ylabel(y_label)\n",
    "plt.show()\n",
    "\n",
    "\n",
    "# Heterodimers\n",
    "print('Protein HETERODIMERS excluding splice variants')\n",
    "df_hetero = df[\n",
    "    df['uniprot_id_1_canon'] != df['uniprot_id_2_canon']\n",
    "]\n",
    "heterodimers_all = len(set(df_hetero['unique']))\n",
    "heterodimers_with_model = len(set(df_hetero[~pd.isnull(df_hetero['model_filename'])]['unique']))\n",
    "heterodimers_without_model = heterodimers_all - heterodimers_with_model\n",
    "\n",
    "fg, ax = plt.subplots()\n",
    "sns.barplot(\n",
    "    x=['Calculated', 'Missing'],\n",
    "    y=[heterodimers_with_model, heterodimers_without_model],\n",
    "    color=flatui[5],\n",
    "    ax=ax,\n",
    ")\n",
    "ax.set_ylabel(y_label)\n",
    "plt.show()\n",
    "\n",
    "\n",
    "# Stacked Homo- and Hetero-dimer\n",
    "print('Protein HOMO- and HETERO-DIMERS excluding splice variants')\n",
    "fg, ax = plt.subplots()\n",
    "sns.barplot(\n",
    "    x=['Calculated', 'Missing'],\n",
    "    y=[dimers_with_model, dimers_without_model],\n",
    "    color=sns.color_palette(\"Set1\", 9)[0],\n",
    "    ax=ax,\n",
    "    label='Homodimer',\n",
    ")\n",
    "sns.barplot(\n",
    "    x=['Calculated', 'Missing'],\n",
    "    y=[heterodimers_with_model, heterodimers_without_model],\n",
    "    color=flatui[5],\n",
    "    ax=ax,\n",
    "    label='Heterodimer',\n",
    ")\n",
    "ax.set_ylabel(y_label)\n",
    "ax.legend(loc='upper right' if dimers_with_model > dimers_without_model else 'upper left')\n",
    "plt.savefig(\n",
    "    op.join(NOTEBOOK_NAME, 'missing_model_{}_pair_{}.pdf').format(\n",
    "        'protein' if group_by_protein_pair else 'domain',\n",
    "        'novarsplice' if ignore_splice_variants else 'varsplice',\n",
    "    ), bbox_inches='tight')\n",
    "plt.savefig(\n",
    "    op.join(NOTEBOOK_NAME, 'missing_model_{}_pair_{}.png').format(\n",
    "        'protein' if group_by_protein_pair else 'domain',\n",
    "        'novarsplice' if ignore_splice_variants else 'varsplice',\n",
    "    ), dpi=150, bbox_inches='tight')\n",
    "plt.show()\n",
    "\n",
    "\n",
    "assert len(df) == (len(df_homo) + len(df_hetero))"
   ]
  },
  {
   "cell_type": "code",
   "execution_count": 35,
   "metadata": {
    "collapsed": false
   },
   "outputs": [
    {
     "data": {
      "text/plain": [
       "(19964, 18956, 1008, 0.9495091164095372)"
      ]
     },
     "execution_count": 35,
     "metadata": {},
     "output_type": "execute_result"
    }
   ],
   "source": [
    "dimers_with_model + dimers_without_model, dimers_with_model, dimers_without_model, \\\n",
    "dimers_with_model / (dimers_with_model + dimers_without_model)"
   ]
  },
  {
   "cell_type": "markdown",
   "metadata": {
    "hide_input": false,
    "run_control": {
     "marked": false
    }
   },
   "source": [
    "## DOMAIN PAIR: missing model"
   ]
  },
  {
   "cell_type": "code",
   "execution_count": 27,
   "metadata": {
    "collapsed": true
   },
   "outputs": [],
   "source": [
    "comment_in_splice_variants = ''  # {'', '--'}"
   ]
  },
  {
   "cell_type": "code",
   "execution_count": 28,
   "metadata": {
    "code_folding": [
     0
    ],
    "collapsed": false
   },
   "outputs": [
    {
     "data": {
      "text/html": [
       "<style type=\"text/css\">.highlight .hll { background-color: #ffffcc }\n",
       ".highlight  { background: #f8f8f8; }\n",
       ".highlight .c { color: #408080; font-style: italic } /* Comment */\n",
       ".highlight .err { border: 1px solid #FF0000 } /* Error */\n",
       ".highlight .k { color: #008000; font-weight: bold } /* Keyword */\n",
       ".highlight .o { color: #666666 } /* Operator */\n",
       ".highlight .ch { color: #408080; font-style: italic } /* Comment.Hashbang */\n",
       ".highlight .cm { color: #408080; font-style: italic } /* Comment.Multiline */\n",
       ".highlight .cp { color: #BC7A00 } /* Comment.Preproc */\n",
       ".highlight .cpf { color: #408080; font-style: italic } /* Comment.PreprocFile */\n",
       ".highlight .c1 { color: #408080; font-style: italic } /* Comment.Single */\n",
       ".highlight .cs { color: #408080; font-style: italic } /* Comment.Special */\n",
       ".highlight .gd { color: #A00000 } /* Generic.Deleted */\n",
       ".highlight .ge { font-style: italic } /* Generic.Emph */\n",
       ".highlight .gr { color: #FF0000 } /* Generic.Error */\n",
       ".highlight .gh { color: #000080; font-weight: bold } /* Generic.Heading */\n",
       ".highlight .gi { color: #00A000 } /* Generic.Inserted */\n",
       ".highlight .go { color: #888888 } /* Generic.Output */\n",
       ".highlight .gp { color: #000080; font-weight: bold } /* Generic.Prompt */\n",
       ".highlight .gs { font-weight: bold } /* Generic.Strong */\n",
       ".highlight .gu { color: #800080; font-weight: bold } /* Generic.Subheading */\n",
       ".highlight .gt { color: #0044DD } /* Generic.Traceback */\n",
       ".highlight .kc { color: #008000; font-weight: bold } /* Keyword.Constant */\n",
       ".highlight .kd { color: #008000; font-weight: bold } /* Keyword.Declaration */\n",
       ".highlight .kn { color: #008000; font-weight: bold } /* Keyword.Namespace */\n",
       ".highlight .kp { color: #008000 } /* Keyword.Pseudo */\n",
       ".highlight .kr { color: #008000; font-weight: bold } /* Keyword.Reserved */\n",
       ".highlight .kt { color: #B00040 } /* Keyword.Type */\n",
       ".highlight .m { color: #666666 } /* Literal.Number */\n",
       ".highlight .s { color: #BA2121 } /* Literal.String */\n",
       ".highlight .na { color: #7D9029 } /* Name.Attribute */\n",
       ".highlight .nb { color: #008000 } /* Name.Builtin */\n",
       ".highlight .nc { color: #0000FF; font-weight: bold } /* Name.Class */\n",
       ".highlight .no { color: #880000 } /* Name.Constant */\n",
       ".highlight .nd { color: #AA22FF } /* Name.Decorator */\n",
       ".highlight .ni { color: #999999; font-weight: bold } /* Name.Entity */\n",
       ".highlight .ne { color: #D2413A; font-weight: bold } /* Name.Exception */\n",
       ".highlight .nf { color: #0000FF } /* Name.Function */\n",
       ".highlight .nl { color: #A0A000 } /* Name.Label */\n",
       ".highlight .nn { color: #0000FF; font-weight: bold } /* Name.Namespace */\n",
       ".highlight .nt { color: #008000; font-weight: bold } /* Name.Tag */\n",
       ".highlight .nv { color: #19177C } /* Name.Variable */\n",
       ".highlight .ow { color: #AA22FF; font-weight: bold } /* Operator.Word */\n",
       ".highlight .w { color: #bbbbbb } /* Text.Whitespace */\n",
       ".highlight .mb { color: #666666 } /* Literal.Number.Bin */\n",
       ".highlight .mf { color: #666666 } /* Literal.Number.Float */\n",
       ".highlight .mh { color: #666666 } /* Literal.Number.Hex */\n",
       ".highlight .mi { color: #666666 } /* Literal.Number.Integer */\n",
       ".highlight .mo { color: #666666 } /* Literal.Number.Oct */\n",
       ".highlight .sb { color: #BA2121 } /* Literal.String.Backtick */\n",
       ".highlight .sc { color: #BA2121 } /* Literal.String.Char */\n",
       ".highlight .sd { color: #BA2121; font-style: italic } /* Literal.String.Doc */\n",
       ".highlight .s2 { color: #BA2121 } /* Literal.String.Double */\n",
       ".highlight .se { color: #BB6622; font-weight: bold } /* Literal.String.Escape */\n",
       ".highlight .sh { color: #BA2121 } /* Literal.String.Heredoc */\n",
       ".highlight .si { color: #BB6688; font-weight: bold } /* Literal.String.Interpol */\n",
       ".highlight .sx { color: #008000 } /* Literal.String.Other */\n",
       ".highlight .sr { color: #BB6688 } /* Literal.String.Regex */\n",
       ".highlight .s1 { color: #BA2121 } /* Literal.String.Single */\n",
       ".highlight .ss { color: #19177C } /* Literal.String.Symbol */\n",
       ".highlight .bp { color: #008000 } /* Name.Builtin.Pseudo */\n",
       ".highlight .vc { color: #19177C } /* Name.Variable.Class */\n",
       ".highlight .vg { color: #19177C } /* Name.Variable.Global */\n",
       ".highlight .vi { color: #19177C } /* Name.Variable.Instance */\n",
       ".highlight .il { color: #666666 } /* Literal.Number.Integer.Long */</style><div class=\"highlight\"><pre><span></span><span class=\"k\">SELECT</span> <span class=\"k\">COUNT</span><span class=\"p\">(</span><span class=\"k\">DISTINCT</span> <span class=\"n\">uniprot_domain_pair_id</span><span class=\"p\">)</span> <span class=\"n\">domain_pairs_with_models</span>\n",
       "<span class=\"k\">FROM</span> <span class=\"n\">elaspic</span><span class=\"p\">.</span><span class=\"n\">uniprot_domain_pair</span> <span class=\"n\">dp</span>\n",
       "<span class=\"k\">JOIN</span> <span class=\"n\">elaspic</span><span class=\"p\">.</span><span class=\"n\">uniprot_domain_pair_template</span> <span class=\"n\">dpt</span> <span class=\"k\">USING</span> <span class=\"p\">(</span><span class=\"n\">uniprot_domain_pair_id</span><span class=\"p\">)</span>\n",
       "<span class=\"k\">JOIN</span> <span class=\"n\">elaspic</span><span class=\"p\">.</span><span class=\"n\">uniprot_domain</span> <span class=\"n\">d1</span> <span class=\"k\">ON</span> <span class=\"p\">(</span><span class=\"n\">d1</span><span class=\"p\">.</span><span class=\"n\">uniprot_domain_id</span> <span class=\"o\">=</span> <span class=\"n\">dp</span><span class=\"p\">.</span><span class=\"n\">uniprot_domain_id_1</span><span class=\"p\">)</span>\n",
       "<span class=\"k\">JOIN</span> <span class=\"n\">elaspic</span><span class=\"p\">.</span><span class=\"n\">uniprot_domain</span> <span class=\"n\">d2</span> <span class=\"k\">ON</span> <span class=\"p\">(</span><span class=\"n\">d2</span><span class=\"p\">.</span><span class=\"n\">uniprot_domain_id</span> <span class=\"o\">=</span> <span class=\"n\">dp</span><span class=\"p\">.</span><span class=\"n\">uniprot_domain_id_2</span><span class=\"p\">)</span>\n",
       "<span class=\"k\">JOIN</span> <span class=\"n\">uniprot_kb</span><span class=\"p\">.</span><span class=\"n\">uniprot_sequence</span> <span class=\"n\">us</span> <span class=\"k\">ON</span> <span class=\"p\">(</span><span class=\"n\">us</span><span class=\"p\">.</span><span class=\"n\">uniprot_id</span> <span class=\"o\">=</span> <span class=\"n\">d1</span><span class=\"p\">.</span><span class=\"n\">uniprot_id</span><span class=\"p\">)</span>\n",
       "<span class=\"k\">LEFT</span> <span class=\"k\">JOIN</span> <span class=\"n\">elaspic</span><span class=\"p\">.</span><span class=\"n\">uniprot_domain_pair_model</span> <span class=\"k\">USING</span> <span class=\"p\">(</span><span class=\"n\">uniprot_domain_pair_id</span><span class=\"p\">)</span>\n",
       "<span class=\"k\">WHERE</span> <span class=\"n\">organism_name</span> <span class=\"o\">=</span> <span class=\"s1\">&#39;Homo sapiens&#39;</span>\n",
       " <span class=\"k\">AND</span> <span class=\"n\">d1</span><span class=\"p\">.</span><span class=\"n\">uniprot_id</span> <span class=\"k\">NOT</span> <span class=\"k\">LIKE</span> <span class=\"s1\">&#39;%%-%%&#39;</span>\n",
       " <span class=\"k\">AND</span> <span class=\"n\">d2</span><span class=\"p\">.</span><span class=\"n\">uniprot_id</span> <span class=\"k\">NOT</span> <span class=\"k\">LIKE</span> <span class=\"s1\">&#39;%%-%%&#39;</span>\n",
       " <span class=\"k\">AND</span> <span class=\"n\">db</span> <span class=\"o\">=</span> <span class=\"s1\">&#39;sp&#39;</span>\n",
       "<span class=\"k\">AND</span> <span class=\"n\">model_filename</span> <span class=\"k\">IS</span> <span class=\"k\">NOT</span> <span class=\"k\">NULL</span><span class=\"p\">;</span>\n",
       "<span class=\"o\">#</span> <span class=\"mi\">43134</span>\n",
       "</pre></div>\n"
      ],
      "text/plain": [
       "<IPython.core.display.HTML object>"
      ]
     },
     "metadata": {},
     "output_type": "display_data"
    },
    {
     "name": "stdout",
     "output_type": "stream",
     "text": [
      "43137\n"
     ]
    }
   ],
   "source": [
    "# Domain pairs with models\n",
    "sql_query = r\"\"\"\n",
    "SELECT COUNT(DISTINCT uniprot_domain_pair_id) domain_pairs_with_models\n",
    "FROM elaspic.uniprot_domain_pair dp\n",
    "JOIN elaspic.uniprot_domain_pair_template dpt USING (uniprot_domain_pair_id)\n",
    "JOIN elaspic.uniprot_domain d1 ON (d1.uniprot_domain_id = dp.uniprot_domain_id_1)\n",
    "JOIN elaspic.uniprot_domain d2 ON (d2.uniprot_domain_id = dp.uniprot_domain_id_2)\n",
    "JOIN uniprot_kb.uniprot_sequence us ON (us.uniprot_id = d1.uniprot_id)\n",
    "LEFT JOIN elaspic.uniprot_domain_pair_model USING (uniprot_domain_pair_id)\n",
    "WHERE organism_name = 'Homo sapiens'\n",
    "{0} AND d1.uniprot_id NOT LIKE '%%-%%'\n",
    "{0} AND d2.uniprot_id NOT LIKE '%%-%%'\n",
    "{1} AND db = 'sp'\n",
    "AND model_filename IS NOT NULL;\n",
    "# 43134\"\"\".format(comment_in_splice_variants, comment_in_trembl)\n",
    "print_sql(sql_query)\n",
    "domain_pairs_with_models = int(pd.read_sql_query(sql_query, db_remote.engine).values)\n",
    "print(domain_pairs_with_models)"
   ]
  },
  {
   "cell_type": "code",
   "execution_count": 29,
   "metadata": {
    "code_folding": [
     0
    ],
    "collapsed": false
   },
   "outputs": [
    {
     "data": {
      "text/html": [
       "<style type=\"text/css\">.highlight .hll { background-color: #ffffcc }\n",
       ".highlight  { background: #f8f8f8; }\n",
       ".highlight .c { color: #408080; font-style: italic } /* Comment */\n",
       ".highlight .err { border: 1px solid #FF0000 } /* Error */\n",
       ".highlight .k { color: #008000; font-weight: bold } /* Keyword */\n",
       ".highlight .o { color: #666666 } /* Operator */\n",
       ".highlight .ch { color: #408080; font-style: italic } /* Comment.Hashbang */\n",
       ".highlight .cm { color: #408080; font-style: italic } /* Comment.Multiline */\n",
       ".highlight .cp { color: #BC7A00 } /* Comment.Preproc */\n",
       ".highlight .cpf { color: #408080; font-style: italic } /* Comment.PreprocFile */\n",
       ".highlight .c1 { color: #408080; font-style: italic } /* Comment.Single */\n",
       ".highlight .cs { color: #408080; font-style: italic } /* Comment.Special */\n",
       ".highlight .gd { color: #A00000 } /* Generic.Deleted */\n",
       ".highlight .ge { font-style: italic } /* Generic.Emph */\n",
       ".highlight .gr { color: #FF0000 } /* Generic.Error */\n",
       ".highlight .gh { color: #000080; font-weight: bold } /* Generic.Heading */\n",
       ".highlight .gi { color: #00A000 } /* Generic.Inserted */\n",
       ".highlight .go { color: #888888 } /* Generic.Output */\n",
       ".highlight .gp { color: #000080; font-weight: bold } /* Generic.Prompt */\n",
       ".highlight .gs { font-weight: bold } /* Generic.Strong */\n",
       ".highlight .gu { color: #800080; font-weight: bold } /* Generic.Subheading */\n",
       ".highlight .gt { color: #0044DD } /* Generic.Traceback */\n",
       ".highlight .kc { color: #008000; font-weight: bold } /* Keyword.Constant */\n",
       ".highlight .kd { color: #008000; font-weight: bold } /* Keyword.Declaration */\n",
       ".highlight .kn { color: #008000; font-weight: bold } /* Keyword.Namespace */\n",
       ".highlight .kp { color: #008000 } /* Keyword.Pseudo */\n",
       ".highlight .kr { color: #008000; font-weight: bold } /* Keyword.Reserved */\n",
       ".highlight .kt { color: #B00040 } /* Keyword.Type */\n",
       ".highlight .m { color: #666666 } /* Literal.Number */\n",
       ".highlight .s { color: #BA2121 } /* Literal.String */\n",
       ".highlight .na { color: #7D9029 } /* Name.Attribute */\n",
       ".highlight .nb { color: #008000 } /* Name.Builtin */\n",
       ".highlight .nc { color: #0000FF; font-weight: bold } /* Name.Class */\n",
       ".highlight .no { color: #880000 } /* Name.Constant */\n",
       ".highlight .nd { color: #AA22FF } /* Name.Decorator */\n",
       ".highlight .ni { color: #999999; font-weight: bold } /* Name.Entity */\n",
       ".highlight .ne { color: #D2413A; font-weight: bold } /* Name.Exception */\n",
       ".highlight .nf { color: #0000FF } /* Name.Function */\n",
       ".highlight .nl { color: #A0A000 } /* Name.Label */\n",
       ".highlight .nn { color: #0000FF; font-weight: bold } /* Name.Namespace */\n",
       ".highlight .nt { color: #008000; font-weight: bold } /* Name.Tag */\n",
       ".highlight .nv { color: #19177C } /* Name.Variable */\n",
       ".highlight .ow { color: #AA22FF; font-weight: bold } /* Operator.Word */\n",
       ".highlight .w { color: #bbbbbb } /* Text.Whitespace */\n",
       ".highlight .mb { color: #666666 } /* Literal.Number.Bin */\n",
       ".highlight .mf { color: #666666 } /* Literal.Number.Float */\n",
       ".highlight .mh { color: #666666 } /* Literal.Number.Hex */\n",
       ".highlight .mi { color: #666666 } /* Literal.Number.Integer */\n",
       ".highlight .mo { color: #666666 } /* Literal.Number.Oct */\n",
       ".highlight .sb { color: #BA2121 } /* Literal.String.Backtick */\n",
       ".highlight .sc { color: #BA2121 } /* Literal.String.Char */\n",
       ".highlight .sd { color: #BA2121; font-style: italic } /* Literal.String.Doc */\n",
       ".highlight .s2 { color: #BA2121 } /* Literal.String.Double */\n",
       ".highlight .se { color: #BB6622; font-weight: bold } /* Literal.String.Escape */\n",
       ".highlight .sh { color: #BA2121 } /* Literal.String.Heredoc */\n",
       ".highlight .si { color: #BB6688; font-weight: bold } /* Literal.String.Interpol */\n",
       ".highlight .sx { color: #008000 } /* Literal.String.Other */\n",
       ".highlight .sr { color: #BB6688 } /* Literal.String.Regex */\n",
       ".highlight .s1 { color: #BA2121 } /* Literal.String.Single */\n",
       ".highlight .ss { color: #19177C } /* Literal.String.Symbol */\n",
       ".highlight .bp { color: #008000 } /* Name.Builtin.Pseudo */\n",
       ".highlight .vc { color: #19177C } /* Name.Variable.Class */\n",
       ".highlight .vg { color: #19177C } /* Name.Variable.Global */\n",
       ".highlight .vi { color: #19177C } /* Name.Variable.Instance */\n",
       ".highlight .il { color: #666666 } /* Literal.Number.Integer.Long */</style><div class=\"highlight\"><pre><span></span><span class=\"k\">SELECT</span> <span class=\"k\">COUNT</span><span class=\"p\">(</span><span class=\"k\">DISTINCT</span> <span class=\"n\">uniprot_domain_pair_id</span><span class=\"p\">)</span> <span class=\"n\">domain_pairs_without_models</span>\n",
       "<span class=\"k\">FROM</span> <span class=\"n\">elaspic</span><span class=\"p\">.</span><span class=\"n\">uniprot_domain_pair</span> <span class=\"n\">dp</span>\n",
       "<span class=\"k\">JOIN</span> <span class=\"n\">elaspic</span><span class=\"p\">.</span><span class=\"n\">uniprot_domain_pair_template</span> <span class=\"n\">dpt</span> <span class=\"k\">USING</span> <span class=\"p\">(</span><span class=\"n\">uniprot_domain_pair_id</span><span class=\"p\">)</span>\n",
       "<span class=\"k\">JOIN</span> <span class=\"n\">elaspic</span><span class=\"p\">.</span><span class=\"n\">uniprot_domain</span> <span class=\"n\">d1</span> <span class=\"k\">ON</span> <span class=\"p\">(</span><span class=\"n\">d1</span><span class=\"p\">.</span><span class=\"n\">uniprot_domain_id</span> <span class=\"o\">=</span> <span class=\"n\">dp</span><span class=\"p\">.</span><span class=\"n\">uniprot_domain_id_1</span><span class=\"p\">)</span>\n",
       "<span class=\"k\">JOIN</span> <span class=\"n\">elaspic</span><span class=\"p\">.</span><span class=\"n\">uniprot_domain</span> <span class=\"n\">d2</span> <span class=\"k\">ON</span> <span class=\"p\">(</span><span class=\"n\">d2</span><span class=\"p\">.</span><span class=\"n\">uniprot_domain_id</span> <span class=\"o\">=</span> <span class=\"n\">dp</span><span class=\"p\">.</span><span class=\"n\">uniprot_domain_id_2</span><span class=\"p\">)</span>\n",
       "<span class=\"k\">JOIN</span> <span class=\"n\">uniprot_kb</span><span class=\"p\">.</span><span class=\"n\">uniprot_sequence</span> <span class=\"n\">us</span> <span class=\"k\">ON</span> <span class=\"p\">(</span><span class=\"n\">us</span><span class=\"p\">.</span><span class=\"n\">uniprot_id</span> <span class=\"o\">=</span> <span class=\"n\">d1</span><span class=\"p\">.</span><span class=\"n\">uniprot_id</span><span class=\"p\">)</span>\n",
       "<span class=\"k\">LEFT</span> <span class=\"k\">JOIN</span> <span class=\"n\">elaspic</span><span class=\"p\">.</span><span class=\"n\">uniprot_domain_pair_model</span> <span class=\"k\">USING</span> <span class=\"p\">(</span><span class=\"n\">uniprot_domain_pair_id</span><span class=\"p\">)</span>\n",
       "<span class=\"k\">WHERE</span> <span class=\"n\">organism_name</span> <span class=\"o\">=</span> <span class=\"s1\">&#39;Homo sapiens&#39;</span>\n",
       " <span class=\"k\">AND</span> <span class=\"n\">d1</span><span class=\"p\">.</span><span class=\"n\">uniprot_id</span> <span class=\"k\">NOT</span> <span class=\"k\">LIKE</span> <span class=\"s1\">&#39;%%-%%&#39;</span>\n",
       " <span class=\"k\">AND</span> <span class=\"n\">d2</span><span class=\"p\">.</span><span class=\"n\">uniprot_id</span> <span class=\"k\">NOT</span> <span class=\"k\">LIKE</span> <span class=\"s1\">&#39;%%-%%&#39;</span>\n",
       " <span class=\"k\">AND</span> <span class=\"n\">db</span> <span class=\"o\">=</span> <span class=\"s1\">&#39;sp&#39;</span>\n",
       "<span class=\"k\">AND</span> <span class=\"n\">model_filename</span> <span class=\"k\">IS</span> <span class=\"k\">NULL</span><span class=\"p\">;</span>\n",
       "<span class=\"o\">#</span> <span class=\"mi\">7169</span>\n",
       "</pre></div>\n"
      ],
      "text/plain": [
       "<IPython.core.display.HTML object>"
      ]
     },
     "metadata": {},
     "output_type": "display_data"
    },
    {
     "name": "stdout",
     "output_type": "stream",
     "text": [
      "7166\n"
     ]
    }
   ],
   "source": [
    "# Domain pairs without models\n",
    "sql_query = r\"\"\"\n",
    "SELECT COUNT(DISTINCT uniprot_domain_pair_id) domain_pairs_without_models\n",
    "FROM elaspic.uniprot_domain_pair dp\n",
    "JOIN elaspic.uniprot_domain_pair_template dpt USING (uniprot_domain_pair_id)\n",
    "JOIN elaspic.uniprot_domain d1 ON (d1.uniprot_domain_id = dp.uniprot_domain_id_1)\n",
    "JOIN elaspic.uniprot_domain d2 ON (d2.uniprot_domain_id = dp.uniprot_domain_id_2)\n",
    "JOIN uniprot_kb.uniprot_sequence us ON (us.uniprot_id = d1.uniprot_id)\n",
    "LEFT JOIN elaspic.uniprot_domain_pair_model USING (uniprot_domain_pair_id)\n",
    "WHERE organism_name = 'Homo sapiens'\n",
    "{0} AND d1.uniprot_id NOT LIKE '%%-%%'\n",
    "{0} AND d2.uniprot_id NOT LIKE '%%-%%'\n",
    "{1} AND db = 'sp'\n",
    "AND model_filename IS NULL;\n",
    "# 7169\"\"\".format(comment_in_splice_variants, comment_in_trembl)\n",
    "print_sql(sql_query)\n",
    "domain_pairs_without_models = int(pd.read_sql_query(sql_query, db_remote.engine).values)\n",
    "print(domain_pairs_without_models)"
   ]
  },
  {
   "cell_type": "code",
   "execution_count": 30,
   "metadata": {
    "code_folding": [
     0
    ],
    "collapsed": false,
    "deletable": true,
    "hide_input": false,
    "hide_output": false,
    "locked": false,
    "run_control": {
     "marked": false
    },
    "scrolled": false
   },
   "outputs": [
    {
     "name": "stdout",
     "output_type": "stream",
     "text": [
      "Uniprot domain pairs excluding splice variants\n"
     ]
    },
    {
     "data": {
      "image/png": "[encoded data removed]",
      "text/plain": [
       "<matplotlib.figure.Figure at 0x7f4761126550>"
      ]
     },
     "metadata": {},
     "output_type": "display_data"
    }
   ],
   "source": [
    "# Plot\n",
    "print(\"Uniprot domain pairs {} splice variants\".format(\n",
    "    \"including\" if comment_in_splice_variants else \"excluding\"))\n",
    "fg, ax = plt.subplots()\n",
    "sns.barplot(\n",
    "    x=['Calculated', 'Missing'],\n",
    "    y=[domain_pairs_with_models, domain_pairs_without_models],\n",
    "    color=flatui[5],\n",
    "    ax=ax,\n",
    ")\n",
    "ax.set_ylabel('Number of proteins')\n",
    "plt.show()"
   ]
  },
  {
   "cell_type": "markdown",
   "metadata": {
    "collapsed": true,
    "hide_input": false,
    "run_control": {
     "marked": false
    }
   },
   "source": [
    "# **To calculate**"
   ]
  },
  {
   "cell_type": "code",
   "execution_count": 31,
   "metadata": {
    "code_folding": [
     0
    ],
    "collapsed": false,
    "deletable": true,
    "hide_input": false,
    "hide_output": false,
    "locked": false,
    "run_control": {
     "marked": false
    }
   },
   "outputs": [
    {
     "data": {
      "text/html": [
       "<style type=\"text/css\">.highlight .hll { background-color: #ffffcc }\n",
       ".highlight  { background: #f8f8f8; }\n",
       ".highlight .c { color: #408080; font-style: italic } /* Comment */\n",
       ".highlight .err { border: 1px solid #FF0000 } /* Error */\n",
       ".highlight .k { color: #008000; font-weight: bold } /* Keyword */\n",
       ".highlight .o { color: #666666 } /* Operator */\n",
       ".highlight .ch { color: #408080; font-style: italic } /* Comment.Hashbang */\n",
       ".highlight .cm { color: #408080; font-style: italic } /* Comment.Multiline */\n",
       ".highlight .cp { color: #BC7A00 } /* Comment.Preproc */\n",
       ".highlight .cpf { color: #408080; font-style: italic } /* Comment.PreprocFile */\n",
       ".highlight .c1 { color: #408080; font-style: italic } /* Comment.Single */\n",
       ".highlight .cs { color: #408080; font-style: italic } /* Comment.Special */\n",
       ".highlight .gd { color: #A00000 } /* Generic.Deleted */\n",
       ".highlight .ge { font-style: italic } /* Generic.Emph */\n",
       ".highlight .gr { color: #FF0000 } /* Generic.Error */\n",
       ".highlight .gh { color: #000080; font-weight: bold } /* Generic.Heading */\n",
       ".highlight .gi { color: #00A000 } /* Generic.Inserted */\n",
       ".highlight .go { color: #888888 } /* Generic.Output */\n",
       ".highlight .gp { color: #000080; font-weight: bold } /* Generic.Prompt */\n",
       ".highlight .gs { font-weight: bold } /* Generic.Strong */\n",
       ".highlight .gu { color: #800080; font-weight: bold } /* Generic.Subheading */\n",
       ".highlight .gt { color: #0044DD } /* Generic.Traceback */\n",
       ".highlight .kc { color: #008000; font-weight: bold } /* Keyword.Constant */\n",
       ".highlight .kd { color: #008000; font-weight: bold } /* Keyword.Declaration */\n",
       ".highlight .kn { color: #008000; font-weight: bold } /* Keyword.Namespace */\n",
       ".highlight .kp { color: #008000 } /* Keyword.Pseudo */\n",
       ".highlight .kr { color: #008000; font-weight: bold } /* Keyword.Reserved */\n",
       ".highlight .kt { color: #B00040 } /* Keyword.Type */\n",
       ".highlight .m { color: #666666 } /* Literal.Number */\n",
       ".highlight .s { color: #BA2121 } /* Literal.String */\n",
       ".highlight .na { color: #7D9029 } /* Name.Attribute */\n",
       ".highlight .nb { color: #008000 } /* Name.Builtin */\n",
       ".highlight .nc { color: #0000FF; font-weight: bold } /* Name.Class */\n",
       ".highlight .no { color: #880000 } /* Name.Constant */\n",
       ".highlight .nd { color: #AA22FF } /* Name.Decorator */\n",
       ".highlight .ni { color: #999999; font-weight: bold } /* Name.Entity */\n",
       ".highlight .ne { color: #D2413A; font-weight: bold } /* Name.Exception */\n",
       ".highlight .nf { color: #0000FF } /* Name.Function */\n",
       ".highlight .nl { color: #A0A000 } /* Name.Label */\n",
       ".highlight .nn { color: #0000FF; font-weight: bold } /* Name.Namespace */\n",
       ".highlight .nt { color: #008000; font-weight: bold } /* Name.Tag */\n",
       ".highlight .nv { color: #19177C } /* Name.Variable */\n",
       ".highlight .ow { color: #AA22FF; font-weight: bold } /* Operator.Word */\n",
       ".highlight .w { color: #bbbbbb } /* Text.Whitespace */\n",
       ".highlight .mb { color: #666666 } /* Literal.Number.Bin */\n",
       ".highlight .mf { color: #666666 } /* Literal.Number.Float */\n",
       ".highlight .mh { color: #666666 } /* Literal.Number.Hex */\n",
       ".highlight .mi { color: #666666 } /* Literal.Number.Integer */\n",
       ".highlight .mo { color: #666666 } /* Literal.Number.Oct */\n",
       ".highlight .sb { color: #BA2121 } /* Literal.String.Backtick */\n",
       ".highlight .sc { color: #BA2121 } /* Literal.String.Char */\n",
       ".highlight .sd { color: #BA2121; font-style: italic } /* Literal.String.Doc */\n",
       ".highlight .s2 { color: #BA2121 } /* Literal.String.Double */\n",
       ".highlight .se { color: #BB6622; font-weight: bold } /* Literal.String.Escape */\n",
       ".highlight .sh { color: #BA2121 } /* Literal.String.Heredoc */\n",
       ".highlight .si { color: #BB6688; font-weight: bold } /* Literal.String.Interpol */\n",
       ".highlight .sx { color: #008000 } /* Literal.String.Other */\n",
       ".highlight .sr { color: #BB6688 } /* Literal.String.Regex */\n",
       ".highlight .s1 { color: #BA2121 } /* Literal.String.Single */\n",
       ".highlight .ss { color: #19177C } /* Literal.String.Symbol */\n",
       ".highlight .bp { color: #008000 } /* Name.Builtin.Pseudo */\n",
       ".highlight .vc { color: #19177C } /* Name.Variable.Class */\n",
       ".highlight .vg { color: #19177C } /* Name.Variable.Global */\n",
       ".highlight .vi { color: #19177C } /* Name.Variable.Instance */\n",
       ".highlight .il { color: #666666 } /* Literal.Number.Integer.Long */</style><div class=\"highlight\"><pre><span></span><span class=\"k\">SELECT</span> <span class=\"k\">DISTINCT</span> <span class=\"n\">d1</span><span class=\"p\">.</span><span class=\"n\">uniprot_id</span><span class=\"p\">,</span> <span class=\"k\">count</span><span class=\"p\">(</span><span class=\"k\">distinct</span> <span class=\"n\">uniprot_domain_pair_id</span><span class=\"p\">)</span> <span class=\"n\">number_of_interactions</span>\n",
       "<span class=\"k\">FROM</span> <span class=\"n\">elaspic</span><span class=\"p\">.</span><span class=\"n\">uniprot_domain_pair</span> <span class=\"n\">dp</span>\n",
       "<span class=\"k\">JOIN</span> <span class=\"n\">elaspic</span><span class=\"p\">.</span><span class=\"n\">uniprot_domain_pair_template</span> <span class=\"n\">dpt</span> <span class=\"k\">USING</span> <span class=\"p\">(</span><span class=\"n\">uniprot_domain_pair_id</span><span class=\"p\">)</span>\n",
       "<span class=\"k\">JOIN</span> <span class=\"n\">elaspic</span><span class=\"p\">.</span><span class=\"n\">uniprot_domain</span> <span class=\"n\">d1</span> <span class=\"k\">ON</span> <span class=\"p\">(</span><span class=\"n\">d1</span><span class=\"p\">.</span><span class=\"n\">uniprot_domain_id</span> <span class=\"o\">=</span> <span class=\"n\">dp</span><span class=\"p\">.</span><span class=\"n\">uniprot_domain_id_1</span><span class=\"p\">)</span>\n",
       "<span class=\"k\">JOIN</span> <span class=\"n\">elaspic</span><span class=\"p\">.</span><span class=\"n\">uniprot_domain</span> <span class=\"n\">d2</span> <span class=\"k\">ON</span> <span class=\"p\">(</span><span class=\"n\">d2</span><span class=\"p\">.</span><span class=\"n\">uniprot_domain_id</span> <span class=\"o\">=</span> <span class=\"n\">dp</span><span class=\"p\">.</span><span class=\"n\">uniprot_domain_id_2</span><span class=\"p\">)</span>\n",
       "<span class=\"k\">JOIN</span> <span class=\"n\">uniprot_kb</span><span class=\"p\">.</span><span class=\"n\">uniprot_sequence</span> <span class=\"n\">us</span> <span class=\"k\">ON</span> <span class=\"p\">(</span><span class=\"n\">us</span><span class=\"p\">.</span><span class=\"n\">uniprot_id</span> <span class=\"o\">=</span> <span class=\"n\">d1</span><span class=\"p\">.</span><span class=\"n\">uniprot_id</span><span class=\"p\">)</span>\n",
       "<span class=\"k\">WHERE</span> <span class=\"n\">organism_name</span> <span class=\"o\">=</span> <span class=\"s1\">&#39;Homo sapiens&#39;</span>\n",
       "<span class=\"c1\">-- AND d1.uniprot_id NOT LIKE &#39;%%-%%&#39;</span>\n",
       "<span class=\"c1\">-- AND d2.uniprot_id NOT LIKE &#39;%%-%%&#39;</span>\n",
       "<span class=\"k\">AND</span> <span class=\"n\">uniprot_domain_pair_id</span> <span class=\"k\">NOT</span> <span class=\"k\">IN</span> <span class=\"p\">(</span>\n",
       "    <span class=\"k\">SELECT</span> <span class=\"n\">uniprot_domain_pair_id</span>\n",
       "    <span class=\"k\">FROM</span> <span class=\"n\">elaspic</span><span class=\"p\">.</span><span class=\"n\">uniprot_domain_pair_model</span>\n",
       "    <span class=\"k\">WHERE</span> <span class=\"n\">model_filename</span> <span class=\"k\">IS</span> <span class=\"k\">NOT</span> <span class=\"k\">NULL</span>\n",
       "<span class=\"p\">)</span> <span class=\"k\">group</span> <span class=\"k\">by</span> <span class=\"n\">d1</span><span class=\"p\">.</span><span class=\"n\">uniprot_id</span><span class=\"p\">;</span>\n",
       "<span class=\"o\">#</span> <span class=\"nb\">Number</span> <span class=\"k\">of</span> <span class=\"k\">rows</span><span class=\"p\">:</span> <span class=\"mi\">2858</span>\n",
       "</pre></div>\n"
      ],
      "text/plain": [
       "<IPython.core.display.HTML object>"
      ]
     },
     "metadata": {},
     "output_type": "display_data"
    },
    {
     "data": {
      "text/html": [
       "<div>\n",
       "<table border=\"1\" class=\"dataframe\">\n",
       "  <thead>\n",
       "    <tr style=\"text-align: right;\">\n",
       "      <th></th>\n",
       "      <th>uniprot_id</th>\n",
       "      <th>number_of_interactions</th>\n",
       "    </tr>\n",
       "  </thead>\n",
       "  <tbody>\n",
       "    <tr>\n",
       "      <th>0</th>\n",
       "      <td>A0AVT1</td>\n",
       "      <td>1</td>\n",
       "    </tr>\n",
       "    <tr>\n",
       "      <th>1</th>\n",
       "      <td>A1A4E9</td>\n",
       "      <td>1</td>\n",
       "    </tr>\n",
       "    <tr>\n",
       "      <th>2</th>\n",
       "      <td>A2RUF7</td>\n",
       "      <td>2</td>\n",
       "    </tr>\n",
       "    <tr>\n",
       "      <th>3</th>\n",
       "      <td>A5PKW4-2</td>\n",
       "      <td>1</td>\n",
       "    </tr>\n",
       "    <tr>\n",
       "      <th>4</th>\n",
       "      <td>A5YKK6-3</td>\n",
       "      <td>1</td>\n",
       "    </tr>\n",
       "  </tbody>\n",
       "</table>\n",
       "</div>"
      ],
      "text/plain": [
       "  uniprot_id  number_of_interactions\n",
       "0     A0AVT1                       1\n",
       "1     A1A4E9                       1\n",
       "2     A2RUF7                       2\n",
       "3   A5PKW4-2                       1\n",
       "4   A5YKK6-3                       1"
      ]
     },
     "metadata": {},
     "output_type": "display_data"
    },
    {
     "name": "stdout",
     "output_type": "stream",
     "text": [
      "Number of rows: 2853\n"
     ]
    }
   ],
   "source": [
    "# Missing proteins and interactions\n",
    "sql_query = r\"\"\"\n",
    "SELECT DISTINCT d1.uniprot_id, count(distinct uniprot_domain_pair_id) number_of_interactions\n",
    "FROM elaspic.uniprot_domain_pair dp\n",
    "JOIN elaspic.uniprot_domain_pair_template dpt USING (uniprot_domain_pair_id)\n",
    "JOIN elaspic.uniprot_domain d1 ON (d1.uniprot_domain_id = dp.uniprot_domain_id_1)\n",
    "JOIN elaspic.uniprot_domain d2 ON (d2.uniprot_domain_id = dp.uniprot_domain_id_2)\n",
    "JOIN uniprot_kb.uniprot_sequence us ON (us.uniprot_id = d1.uniprot_id)\n",
    "WHERE organism_name = 'Homo sapiens'\n",
    "-- AND d1.uniprot_id NOT LIKE '%%-%%'\n",
    "-- AND d2.uniprot_id NOT LIKE '%%-%%'\n",
    "AND uniprot_domain_pair_id NOT IN (\n",
    "    SELECT uniprot_domain_pair_id\n",
    "    FROM elaspic.uniprot_domain_pair_model\n",
    "    WHERE model_filename IS NOT NULL\n",
    ") group by d1.uniprot_id;\n",
    "# Number of rows: 2858\"\"\"\n",
    "uniprot_domain_pair_model = pd.read_sql_query(sql_query, db_remote.engine)\n",
    "print_sql(sql_query)\n",
    "display(uniprot_domain_pair_model.head())\n",
    "print('Number of rows:', len(uniprot_domain_pair_model))"
   ]
  },
  {
   "cell_type": "code",
   "execution_count": 32,
   "metadata": {
    "code_folding": [
     0
    ],
    "collapsed": false,
    "deletable": true,
    "hide_input": false,
    "hide_output": false,
    "locked": false,
    "run_control": {
     "marked": false
    }
   },
   "outputs": [
    {
     "data": {
      "text/html": [
       "<style type=\"text/css\">.highlight .hll { background-color: #ffffcc }\n",
       ".highlight  { background: #f8f8f8; }\n",
       ".highlight .c { color: #408080; font-style: italic } /* Comment */\n",
       ".highlight .err { border: 1px solid #FF0000 } /* Error */\n",
       ".highlight .k { color: #008000; font-weight: bold } /* Keyword */\n",
       ".highlight .o { color: #666666 } /* Operator */\n",
       ".highlight .ch { color: #408080; font-style: italic } /* Comment.Hashbang */\n",
       ".highlight .cm { color: #408080; font-style: italic } /* Comment.Multiline */\n",
       ".highlight .cp { color: #BC7A00 } /* Comment.Preproc */\n",
       ".highlight .cpf { color: #408080; font-style: italic } /* Comment.PreprocFile */\n",
       ".highlight .c1 { color: #408080; font-style: italic } /* Comment.Single */\n",
       ".highlight .cs { color: #408080; font-style: italic } /* Comment.Special */\n",
       ".highlight .gd { color: #A00000 } /* Generic.Deleted */\n",
       ".highlight .ge { font-style: italic } /* Generic.Emph */\n",
       ".highlight .gr { color: #FF0000 } /* Generic.Error */\n",
       ".highlight .gh { color: #000080; font-weight: bold } /* Generic.Heading */\n",
       ".highlight .gi { color: #00A000 } /* Generic.Inserted */\n",
       ".highlight .go { color: #888888 } /* Generic.Output */\n",
       ".highlight .gp { color: #000080; font-weight: bold } /* Generic.Prompt */\n",
       ".highlight .gs { font-weight: bold } /* Generic.Strong */\n",
       ".highlight .gu { color: #800080; font-weight: bold } /* Generic.Subheading */\n",
       ".highlight .gt { color: #0044DD } /* Generic.Traceback */\n",
       ".highlight .kc { color: #008000; font-weight: bold } /* Keyword.Constant */\n",
       ".highlight .kd { color: #008000; font-weight: bold } /* Keyword.Declaration */\n",
       ".highlight .kn { color: #008000; font-weight: bold } /* Keyword.Namespace */\n",
       ".highlight .kp { color: #008000 } /* Keyword.Pseudo */\n",
       ".highlight .kr { color: #008000; font-weight: bold } /* Keyword.Reserved */\n",
       ".highlight .kt { color: #B00040 } /* Keyword.Type */\n",
       ".highlight .m { color: #666666 } /* Literal.Number */\n",
       ".highlight .s { color: #BA2121 } /* Literal.String */\n",
       ".highlight .na { color: #7D9029 } /* Name.Attribute */\n",
       ".highlight .nb { color: #008000 } /* Name.Builtin */\n",
       ".highlight .nc { color: #0000FF; font-weight: bold } /* Name.Class */\n",
       ".highlight .no { color: #880000 } /* Name.Constant */\n",
       ".highlight .nd { color: #AA22FF } /* Name.Decorator */\n",
       ".highlight .ni { color: #999999; font-weight: bold } /* Name.Entity */\n",
       ".highlight .ne { color: #D2413A; font-weight: bold } /* Name.Exception */\n",
       ".highlight .nf { color: #0000FF } /* Name.Function */\n",
       ".highlight .nl { color: #A0A000 } /* Name.Label */\n",
       ".highlight .nn { color: #0000FF; font-weight: bold } /* Name.Namespace */\n",
       ".highlight .nt { color: #008000; font-weight: bold } /* Name.Tag */\n",
       ".highlight .nv { color: #19177C } /* Name.Variable */\n",
       ".highlight .ow { color: #AA22FF; font-weight: bold } /* Operator.Word */\n",
       ".highlight .w { color: #bbbbbb } /* Text.Whitespace */\n",
       ".highlight .mb { color: #666666 } /* Literal.Number.Bin */\n",
       ".highlight .mf { color: #666666 } /* Literal.Number.Float */\n",
       ".highlight .mh { color: #666666 } /* Literal.Number.Hex */\n",
       ".highlight .mi { color: #666666 } /* Literal.Number.Integer */\n",
       ".highlight .mo { color: #666666 } /* Literal.Number.Oct */\n",
       ".highlight .sb { color: #BA2121 } /* Literal.String.Backtick */\n",
       ".highlight .sc { color: #BA2121 } /* Literal.String.Char */\n",
       ".highlight .sd { color: #BA2121; font-style: italic } /* Literal.String.Doc */\n",
       ".highlight .s2 { color: #BA2121 } /* Literal.String.Double */\n",
       ".highlight .se { color: #BB6622; font-weight: bold } /* Literal.String.Escape */\n",
       ".highlight .sh { color: #BA2121 } /* Literal.String.Heredoc */\n",
       ".highlight .si { color: #BB6688; font-weight: bold } /* Literal.String.Interpol */\n",
       ".highlight .sx { color: #008000 } /* Literal.String.Other */\n",
       ".highlight .sr { color: #BB6688 } /* Literal.String.Regex */\n",
       ".highlight .s1 { color: #BA2121 } /* Literal.String.Single */\n",
       ".highlight .ss { color: #19177C } /* Literal.String.Symbol */\n",
       ".highlight .bp { color: #008000 } /* Name.Builtin.Pseudo */\n",
       ".highlight .vc { color: #19177C } /* Name.Variable.Class */\n",
       ".highlight .vg { color: #19177C } /* Name.Variable.Global */\n",
       ".highlight .vi { color: #19177C } /* Name.Variable.Instance */\n",
       ".highlight .il { color: #666666 } /* Literal.Number.Integer.Long */</style><div class=\"highlight\"><pre><span></span><span class=\"c1\">-- set sql_mode = &#39;&#39;;</span>\n",
       "<span class=\"c1\">-- set session group_concat_max_len = 1000000;</span>\n",
       "\n",
       "<span class=\"k\">select</span> <span class=\"n\">uniprot_id</span><span class=\"p\">,</span> <span class=\"n\">uniprot_sequence</span><span class=\"p\">,</span> <span class=\"n\">group_concat</span><span class=\"p\">(</span><span class=\"n\">interacting_aa</span><span class=\"p\">)</span> <span class=\"n\">interacting_aa_all</span>\n",
       "<span class=\"k\">from</span> <span class=\"p\">(</span>\n",
       "    <span class=\"k\">select</span> <span class=\"n\">d1</span><span class=\"p\">.</span><span class=\"n\">uniprot_id</span> <span class=\"n\">uniprot_id</span><span class=\"p\">,</span> <span class=\"n\">dm</span><span class=\"p\">.</span><span class=\"n\">interacting_aa_1</span> <span class=\"n\">interacting_aa</span>\n",
       "    <span class=\"k\">from</span> <span class=\"n\">elaspic</span><span class=\"p\">.</span><span class=\"n\">uniprot_domain_pair</span> <span class=\"n\">dp</span>\n",
       "    <span class=\"k\">join</span> <span class=\"n\">elaspic</span><span class=\"p\">.</span><span class=\"n\">uniprot_domain_pair_model</span> <span class=\"n\">dm</span> <span class=\"k\">using</span> <span class=\"p\">(</span><span class=\"n\">uniprot_domain_pair_id</span><span class=\"p\">)</span>\n",
       "    <span class=\"k\">join</span> <span class=\"n\">elaspic</span><span class=\"p\">.</span><span class=\"n\">uniprot_domain</span> <span class=\"n\">d1</span> <span class=\"k\">on</span> <span class=\"p\">(</span><span class=\"n\">d1</span><span class=\"p\">.</span><span class=\"n\">uniprot_domain_id</span> <span class=\"o\">=</span> <span class=\"n\">dp</span><span class=\"p\">.</span><span class=\"n\">uniprot_domain_id_1</span><span class=\"p\">)</span>\n",
       "    <span class=\"k\">where</span> <span class=\"n\">uniprot_id</span> <span class=\"k\">not</span> <span class=\"k\">like</span> <span class=\"s1\">&#39;%%-%%&#39;</span>\n",
       "        <span class=\"k\">union</span>\n",
       "    <span class=\"k\">select</span> <span class=\"n\">d2</span><span class=\"p\">.</span><span class=\"n\">uniprot_id</span> <span class=\"n\">uniprot_id</span><span class=\"p\">,</span> <span class=\"n\">dm</span><span class=\"p\">.</span><span class=\"n\">interacting_aa_2</span> <span class=\"n\">interacting_aa</span>\n",
       "    <span class=\"k\">from</span> <span class=\"n\">elaspic</span><span class=\"p\">.</span><span class=\"n\">uniprot_domain_pair</span> <span class=\"n\">dp</span>\n",
       "    <span class=\"k\">join</span> <span class=\"n\">elaspic</span><span class=\"p\">.</span><span class=\"n\">uniprot_domain_pair_model</span> <span class=\"n\">dm</span> <span class=\"k\">using</span> <span class=\"p\">(</span><span class=\"n\">uniprot_domain_pair_id</span><span class=\"p\">)</span>\n",
       "    <span class=\"k\">join</span> <span class=\"n\">elaspic</span><span class=\"p\">.</span><span class=\"n\">uniprot_domain</span> <span class=\"n\">d2</span> <span class=\"k\">on</span> <span class=\"p\">(</span><span class=\"n\">d2</span><span class=\"p\">.</span><span class=\"n\">uniprot_domain_id</span> <span class=\"o\">=</span> <span class=\"n\">dp</span><span class=\"p\">.</span><span class=\"n\">uniprot_domain_id_2</span><span class=\"p\">)</span>\n",
       "    <span class=\"k\">where</span> <span class=\"n\">uniprot_id</span> <span class=\"k\">not</span> <span class=\"k\">like</span> <span class=\"s1\">&#39;%%-%%&#39;</span>\n",
       "<span class=\"p\">)</span> <span class=\"n\">t1</span>\n",
       "<span class=\"k\">join</span> <span class=\"n\">uniprot_kb</span><span class=\"p\">.</span><span class=\"n\">uniprot_sequence</span> <span class=\"k\">using</span> <span class=\"p\">(</span><span class=\"n\">uniprot_id</span><span class=\"p\">)</span>\n",
       "<span class=\"k\">where</span> <span class=\"n\">organism_name</span> <span class=\"o\">=</span> <span class=\"s1\">&#39;Homo sapiens&#39;</span> <span class=\"k\">AND</span> <span class=\"n\">db</span> <span class=\"o\">=</span> <span class=\"s1\">&#39;sp&#39;</span>\n",
       "<span class=\"k\">group</span> <span class=\"k\">by</span> <span class=\"n\">uniprot_id</span><span class=\"p\">,</span> <span class=\"n\">uniprot_sequence</span><span class=\"p\">;</span>\n",
       "</pre></div>\n"
      ],
      "text/plain": [
       "<IPython.core.display.HTML object>"
      ]
     },
     "metadata": {},
     "output_type": "display_data"
    },
    {
     "data": {
      "text/html": [
       "<div>\n",
       "<table border=\"1\" class=\"dataframe\">\n",
       "  <thead>\n",
       "    <tr style=\"text-align: right;\">\n",
       "      <th></th>\n",
       "      <th>uniprot_id</th>\n",
       "      <th>uniprot_sequence</th>\n",
       "      <th>interacting_aa_all</th>\n",
       "    </tr>\n",
       "  </thead>\n",
       "  <tbody>\n",
       "    <tr>\n",
       "      <th>0</th>\n",
       "      <td>A0A5B9</td>\n",
       "      <td>DLKNVFPPEVAVFEPSEAEISHTQKATLVCLATGFYPDHVELSWWV...</td>\n",
       "      <td>10,11,12,13,14,15,16,18,19,22,23,25,27,28,29,3...</td>\n",
       "    </tr>\n",
       "    <tr>\n",
       "      <th>1</th>\n",
       "      <td>A0AV96</td>\n",
       "      <td>MTAEDSTAAMSSDSAAGSSAKVPEGVAGAPNEAALLALMERTGYSM...</td>\n",
       "      <td>258,259,260,263,273,274,275,281,289,258,259,26...</td>\n",
       "    </tr>\n",
       "    <tr>\n",
       "      <th>2</th>\n",
       "      <td>A0AVT1</td>\n",
       "      <td>MEGSEPVAAHQGEEASCSSWGTGSTNKNLPIMSTASVEIDDALYSR...</td>\n",
       "      <td>575,579,601,603,615,616,617,618,624,625,628,62...</td>\n",
       "    </tr>\n",
       "    <tr>\n",
       "      <th>3</th>\n",
       "      <td>A0FGR8</td>\n",
       "      <td>MTANRDAALSSHRHPGCAQRPRTPTFASSSQRRSAFGFDDGNFPGL...</td>\n",
       "      <td>824,826,828,831,832,833,834,835,838,861,863,86...</td>\n",
       "    </tr>\n",
       "    <tr>\n",
       "      <th>4</th>\n",
       "      <td>A0FGR9</td>\n",
       "      <td>MRAEEPCAPGAPSALGAQRTPGPELRLSSQLLPELCTFVVRVLFYL...</td>\n",
       "      <td>792,794,798,799,800,801,802,803,806,808,829,83...</td>\n",
       "    </tr>\n",
       "  </tbody>\n",
       "</table>\n",
       "</div>"
      ],
      "text/plain": [
       "  uniprot_id                                   uniprot_sequence                                 interacting_aa_all\n",
       "0     A0A5B9  DLKNVFPPEVAVFEPSEAEISHTQKATLVCLATGFYPDHVELSWWV...  10,11,12,13,14,15,16,18,19,22,23,25,27,28,29,3...\n",
       "1     A0AV96  MTAEDSTAAMSSDSAAGSSAKVPEGVAGAPNEAALLALMERTGYSM...  258,259,260,263,273,274,275,281,289,258,259,26...\n",
       "2     A0AVT1  MEGSEPVAAHQGEEASCSSWGTGSTNKNLPIMSTASVEIDDALYSR...  575,579,601,603,615,616,617,618,624,625,628,62...\n",
       "3     A0FGR8  MTANRDAALSSHRHPGCAQRPRTPTFASSSQRRSAFGFDDGNFPGL...  824,826,828,831,832,833,834,835,838,861,863,86...\n",
       "4     A0FGR9  MRAEEPCAPGAPSALGAQRTPGPELRLSSQLLPELCTFVVRVLFYL...  792,794,798,799,800,801,802,803,806,808,829,83..."
      ]
     },
     "metadata": {},
     "output_type": "display_data"
    },
    {
     "name": "stdout",
     "output_type": "stream",
     "text": [
      "Number of rows: 5538\n"
     ]
    }
   ],
   "source": [
    "# Amino acids mediating interactions\n",
    "con = db_remote.engine.connect()\n",
    "con.begin()\n",
    "con.execute(\"set sql_mode = ''\")\n",
    "con.execute(\"set session group_concat_max_len = 100000000;\")\n",
    "\n",
    "sql_query = r\"\"\"\n",
    "-- set sql_mode = '';\n",
    "-- set session group_concat_max_len = 1000000;\n",
    "\n",
    "select uniprot_id, uniprot_sequence, group_concat(interacting_aa) interacting_aa_all\n",
    "from (\n",
    "    select d1.uniprot_id uniprot_id, dm.interacting_aa_1 interacting_aa\n",
    "    from elaspic.uniprot_domain_pair dp\n",
    "    join elaspic.uniprot_domain_pair_model dm using (uniprot_domain_pair_id)\n",
    "    join elaspic.uniprot_domain d1 on (d1.uniprot_domain_id = dp.uniprot_domain_id_1)\n",
    "    where uniprot_id not like '%%-%%'\n",
    "        union\n",
    "    select d2.uniprot_id uniprot_id, dm.interacting_aa_2 interacting_aa\n",
    "    from elaspic.uniprot_domain_pair dp\n",
    "    join elaspic.uniprot_domain_pair_model dm using (uniprot_domain_pair_id)\n",
    "    join elaspic.uniprot_domain d2 on (d2.uniprot_domain_id = dp.uniprot_domain_id_2)\n",
    "    where uniprot_id not like '%%-%%'\n",
    ") t1\n",
    "join uniprot_kb.uniprot_sequence using (uniprot_id)\n",
    "where organism_name = 'Homo sapiens' AND db = 'sp'\n",
    "group by uniprot_id, uniprot_sequence;\n",
    "\"\"\"\n",
    "print_sql(sql_query)\n",
    "interacting_aa_df = pd.read_sql_query(sql_query, con)\n",
    "display(interacting_aa_df.head())\n",
    "print('Number of rows:', len(interacting_aa_df))\n",
    "\n",
    "con.close()"
   ]
  },
  {
   "cell_type": "code",
   "execution_count": null,
   "metadata": {
    "collapsed": false,
    "hide_input": false,
    "run_control": {
     "marked": false
    }
   },
   "outputs": [],
   "source": []
  },
  {
   "cell_type": "code",
   "execution_count": null,
   "metadata": {
    "collapsed": true,
    "hide_input": false,
    "run_control": {
     "marked": false
    }
   },
   "outputs": [],
   "source": []
  }
 ],
 "metadata": {
  "anaconda-cloud": {},
  "kernelspec": {
   "display_name": "Python [Root]",
   "language": "python",
   "name": "Python [Root]"
  },
  "language_info": {
   "codemirror_mode": {
    "name": "ipython",
    "version": 3
   },
   "file_extension": ".py",
   "mimetype": "text/x-python",
   "name": "python",
   "nbconvert_exporter": "python",
   "pygments_lexer": "ipython3",
   "version": "3.5.2"
  },
  "toc": {
   "navigate_menu": false,
   "number_sections": true,
   "sideBar": false,
   "threshold": 6,
   "toc_cell": false,
   "toc_section_display": "block",
   "toc_window_display": true
  },
  "toc_position": {
   "height": "316px",
   "left": "109.323px",
   "right": "20px",
   "top": "75.9896px",
   "width": "230px"
  }
 },
 "nbformat": 4,
 "nbformat_minor": 0
}
