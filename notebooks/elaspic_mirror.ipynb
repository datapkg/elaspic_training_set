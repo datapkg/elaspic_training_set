{
 "cells": [
  {
   "cell_type": "markdown",
   "metadata": {},
   "source": [
    "# Summary\n",
    "\n",
    "----"
   ]
  },
  {
   "cell_type": "markdown",
   "metadata": {},
   "source": [
    "# Imports"
   ]
  },
  {
   "cell_type": "code",
   "execution_count": 1,
   "metadata": {
    "collapsed": false
   },
   "outputs": [
    {
     "name": "stdout",
     "output_type": "stream",
     "text": [
      "2016-07-20 13:44:16.978333\n"
     ]
    }
   ],
   "source": [
    "%run imports.ipynb"
   ]
  },
  {
   "cell_type": "code",
   "execution_count": 2,
   "metadata": {
    "collapsed": true
   },
   "outputs": [],
   "source": [
    "NOTEBOOK_NAME = 'elaspic_mirror'\n",
    "os.makedirs(NOTEBOOK_NAME, exist_ok=True)\n",
    "os.environ['NOTEBOOK_NAME'] = NOTEBOOK_NAME\n",
    "\n",
    "os.environ['DB_PORT'] = '8309'"
   ]
  },
  {
   "cell_type": "code",
   "execution_count": 3,
   "metadata": {
    "collapsed": false
   },
   "outputs": [
    {
     "name": "stdout",
     "output_type": "stream",
     "text": [
      "The autoreload extension is already loaded. To reload it, use:\n",
      "  %reload_ext autoreload\n",
      "2016-07-20 13:44:17.226184\n"
     ]
    }
   ],
   "source": [
    "%run mysqld.ipynb"
   ]
  },
  {
   "cell_type": "markdown",
   "metadata": {},
   "source": [
    "# Run"
   ]
  },
  {
   "cell_type": "code",
   "execution_count": 4,
   "metadata": {
    "collapsed": false
   },
   "outputs": [],
   "source": [
    "SCRIPT_NAME = 'elaspic_mirror.sql'\n",
    "DATAPKG_CONNECTION_STRING = os.environ['DATAPKG_CONNECTION_STR']  # os.environ['DATAPKG_CONNECTION_STR']"
   ]
  },
  {
   "cell_type": "code",
   "execution_count": 5,
   "metadata": {
    "collapsed": true
   },
   "outputs": [],
   "source": [
    "!cp ../scripts/$SCRIPT_NAME $NOTEBOOK_NAME/$SCRIPT_NAME"
   ]
  },
  {
   "cell_type": "code",
   "execution_count": 6,
   "metadata": {
    "collapsed": false
   },
   "outputs": [],
   "source": [
    "!sed -i \"s|{{{{ datapkg_connection_string }}}}|$DATAPKG_CONNECTION_STRING|g\" \\\n",
    "    $NOTEBOOK_NAME/$SCRIPT_NAME"
   ]
  },
  {
   "cell_type": "code",
   "execution_count": 7,
   "metadata": {
    "collapsed": false
   },
   "outputs": [
    {
     "name": "stdout",
     "output_type": "stream",
     "text": [
      "--------------\n",
      "INSTALL SONAME 'ha_connect'\n",
      "--------------\n",
      "\n",
      "Query OK, 0 rows affected (0.00 sec)\n",
      "\n",
      "--------------\n",
      "DROP SCHEMA IF EXISTS elaspic\n",
      "--------------\n",
      "\n",
      "Query OK, 12 rows affected (0.04 sec)\n",
      "\n",
      "--------------\n",
      "CREATE SCHEMA elaspic\n",
      "--------------\n",
      "\n",
      "Query OK, 1 row affected (0.01 sec)\n",
      "\n",
      "--------------\n",
      "SET connect_type_conv=YES\n",
      "--------------\n",
      "\n",
      "Query OK, 0 rows affected (0.00 sec)\n",
      "\n",
      "--------------\n",
      "SET connect_conv_size = 8192\n",
      "--------------\n",
      "\n",
      "Query OK, 0 rows affected (0.00 sec)\n",
      "\n",
      "--------------\n",
      "CREATE TABLE domain engine=CONNECT table_type=MYSQL\n",
      "connection='mysql://strokach:@192.168.6.19:3306/elaspic/domain'\n",
      "--------------\n",
      "\n",
      "Query OK, 0 rows affected, 1 warning (0.00 sec)\n",
      "\n",
      "--------------\n",
      "CREATE TABLE domain_contact engine=CONNECT table_type=MYSQL\n",
      "connection='mysql://strokach:@192.168.6.19:3306/elaspic/domain_contact'\n",
      "--------------\n",
      "\n",
      "Query OK, 0 rows affected, 3 warnings (0.01 sec)\n",
      "\n",
      "--------------\n",
      "CREATE TABLE uniprot_sequence engine=CONNECT table_type=MYSQL\n",
      "connection='mysql://strokach:@192.168.6.19:3306/uniprot_kb/uniprot_sequence'\n",
      "--------------\n",
      "\n",
      "Query OK, 0 rows affected, 1 warning (0.00 sec)\n",
      "\n",
      "--------------\n",
      "CREATE TABLE provean engine=CONNECT table_type=MYSQL\n",
      "connection='mysql://strokach:@192.168.6.19:3306/elaspic/provean'\n",
      "--------------\n",
      "\n",
      "Query OK, 0 rows affected, 1 warning (0.00 sec)\n",
      "\n",
      "--------------\n",
      "CREATE TABLE uniprot_domain engine=CONNECT table_type=MYSQL\n",
      "connection='mysql://strokach:@192.168.6.19:3306/elaspic/uniprot_domain'\n",
      "--------------\n",
      "\n",
      "Query OK, 0 rows affected, 3 warnings (0.01 sec)\n",
      "\n",
      "--------------\n",
      "CREATE TABLE uniprot_domain_template engine=CONNECT table_type=MYSQL\n",
      "connection='mysql://strokach:@192.168.6.19:3306/elaspic/uniprot_domain_template'\n",
      "--------------\n",
      "\n",
      "Query OK, 0 rows affected, 1 warning (0.00 sec)\n",
      "\n",
      "--------------\n",
      "CREATE TABLE uniprot_domain_model engine=CONNECT table_type=MYSQL\n",
      "connection='mysql://strokach:@192.168.6.19:3306/elaspic/uniprot_domain_model'\n",
      "--------------\n",
      "\n",
      "Query OK, 0 rows affected, 2 warnings (0.01 sec)\n",
      "\n",
      "--------------\n",
      "CREATE TABLE uniprot_domain_pair engine=CONNECT table_type=MYSQL\n",
      "connection='mysql://strokach:@192.168.6.19:3306/elaspic/uniprot_domain_pair'\n",
      "--------------\n",
      "\n",
      "Query OK, 0 rows affected, 3 warnings (0.00 sec)\n",
      "\n",
      "--------------\n",
      "CREATE TABLE uniprot_domain_pair_template engine=CONNECT table_type=MYSQL\n",
      "connection='mysql://strokach:@192.168.6.19:3306/elaspic/uniprot_domain_pair_template'\n",
      "--------------\n",
      "\n",
      "Query OK, 0 rows affected, 1 warning (0.00 sec)\n",
      "\n",
      "--------------\n",
      "CREATE TABLE uniprot_domain_pair_model engine=CONNECT table_type=MYSQL\n",
      "connection='mysql://strokach:@192.168.6.19:3306/elaspic/uniprot_domain_pair_model'\n",
      "--------------\n",
      "\n",
      "Query OK, 0 rows affected, 3 warnings (0.01 sec)\n",
      "\n",
      "--------------\n",
      "SET connect_conv_size = 4096\n",
      "--------------\n",
      "\n",
      "Query OK, 0 rows affected (0.00 sec)\n",
      "\n",
      "--------------\n",
      "CREATE TABLE uniprot_domain_mutation engine=CONNECT table_type=MYSQL\n",
      "connection='mysql://strokach:@192.168.6.19:3306/elaspic/uniprot_domain_mutation'\n",
      "--------------\n",
      "\n",
      "Query OK, 0 rows affected, 9 warnings (0.00 sec)\n",
      "\n",
      "--------------\n",
      "CREATE TABLE uniprot_domain_pair_mutation engine=CONNECT table_type=MYSQL\n",
      "connection='mysql://strokach:@192.168.6.19:3306/elaspic/uniprot_domain_pair_mutation'\n",
      "--------------\n",
      "\n",
      "Query OK, 0 rows affected, 11 warnings (0.00 sec)\n",
      "\n",
      "Bye\n"
     ]
    }
   ],
   "source": [
    "!mysql -vvv -u root --socket '{mysqld.socket}' < \"$NOTEBOOK_NAME/$SCRIPT_NAME\""
   ]
  },
  {
   "cell_type": "code",
   "execution_count": null,
   "metadata": {
    "collapsed": true
   },
   "outputs": [],
   "source": []
  }
 ],
 "metadata": {
  "anaconda-cloud": {},
  "kernelspec": {
   "display_name": "Python [Root]",
   "language": "python",
   "name": "Python [Root]"
  },
  "language_info": {
   "codemirror_mode": {
    "name": "ipython",
    "version": 3
   },
   "file_extension": ".py",
   "mimetype": "text/x-python",
   "name": "python",
   "nbconvert_exporter": "python",
   "pygments_lexer": "ipython3",
   "version": "3.5.2"
  },
  "toc": {
   "navigate_menu": false,
   "number_sections": true,
   "sideBar": false,
   "threshold": 6,
   "toc_cell": false,
   "toc_section_display": "block",
   "toc_window_display": true
  },
  "toc_position": {
   "height": "304px",
   "left": "148.611px",
   "right": "20px",
   "top": "96.9965px",
   "width": "230px"
  }
 },
 "nbformat": 4,
 "nbformat_minor": 0
}
