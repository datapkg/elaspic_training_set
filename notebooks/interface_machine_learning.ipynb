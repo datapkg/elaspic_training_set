{
 "cells": [
  {
   "cell_type": "markdown",
   "metadata": {
    "collapsed": true,
    "run_control": {
     "marked": false
    }
   },
   "source": [
    "# Summary\n",
    "\n",
    "\n",
    "Depends on `elaspic_training_interface`.\n",
    "\n",
    "----"
   ]
  },
  {
   "cell_type": "markdown",
   "metadata": {
    "run_control": {
     "marked": false
    }
   },
   "source": [
    "# Imports"
   ]
  },
  {
   "cell_type": "code",
   "execution_count": 255,
   "metadata": {
    "collapsed": false,
    "run_control": {
     "marked": false
    }
   },
   "outputs": [
    {
     "name": "stdout",
     "output_type": "stream",
     "text": [
      "The autoreload extension is already loaded. To reload it, use:\n",
      "  %reload_ext autoreload\n",
      "2016-08-04 09:16:07.762980\n"
     ]
    }
   ],
   "source": [
    "%run imports.ipynb"
   ]
  },
  {
   "cell_type": "code",
   "execution_count": 256,
   "metadata": {
    "collapsed": true,
    "run_control": {
     "marked": false
    }
   },
   "outputs": [],
   "source": [
    "NOTEBOOK_NAME = 'interface_machine_learning'\n",
    "os.makedirs(NOTEBOOK_NAME, exist_ok=True)\n",
    "\n",
    "os.environ['NOTEBOOK_NAME'] = NOTEBOOK_NAME\n",
    "os.environ['DB_PORT'] = '8309'"
   ]
  },
  {
   "cell_type": "code",
   "execution_count": 257,
   "metadata": {
    "collapsed": false,
    "run_control": {
     "marked": false
    }
   },
   "outputs": [
    {
     "name": "stderr",
     "output_type": "stream",
     "text": [
      "2016-08-04 09:16:08,223 - root - INFO - MySQL database already running...\n"
     ]
    },
    {
     "name": "stdout",
     "output_type": "stream",
     "text": [
      "The autoreload extension is already loaded. To reload it, use:\n",
      "  %reload_ext autoreload\n",
      "2016-08-04 09:16:08.146122\n"
     ]
    }
   ],
   "source": [
    "%run mysqld.ipynb"
   ]
  },
  {
   "cell_type": "code",
   "execution_count": 259,
   "metadata": {
    "collapsed": true,
    "run_control": {
     "marked": false
    }
   },
   "outputs": [],
   "source": [
    "db_remote = datapkg.MySQL(\n",
    "    connection_string=os.environ['DATAPKG_CONNECTION_STR'], \n",
    "    shared_folder=os.environ['NOTEBOOK_NAME'], \n",
    "    storage_host=None, \n",
    "    echo=False, \n",
    "    db_engine='InnoDB'\n",
    ")"
   ]
  },
  {
   "cell_type": "markdown",
   "metadata": {
    "collapsed": false,
    "run_control": {
     "marked": false
    }
   },
   "source": [
    "# Load data"
   ]
  },
  {
   "cell_type": "code",
   "execution_count": null,
   "metadata": {
    "collapsed": true
   },
   "outputs": [],
   "source": [
    "DATA_DF = pd.read_pickle(op.join('interface_load_data', 'DATA_DF_TT.pkl'))  # with test / train split"
   ]
  },
  {
   "cell_type": "markdown",
   "metadata": {
    "run_control": {
     "marked": false
    }
   },
   "source": [
    "## Leave class out group"
   ]
  },
  {
   "cell_type": "code",
   "execution_count": 451,
   "metadata": {
    "collapsed": true,
    "run_control": {
     "marked": false
    }
   },
   "outputs": [],
   "source": [
    "all_results = all_results_bak.copy()"
   ]
  },
  {
   "cell_type": "code",
   "execution_count": 452,
   "metadata": {
    "collapsed": true,
    "run_control": {
     "marked": false
    }
   },
   "outputs": [],
   "source": [
    "def get_lco_id(pfam_clan, uniprot_id, pdb_id):\n",
    "    if pd.notnull(pfam_clan):\n",
    "        return pfam_clan\n",
    "    elif pd.notnull(uniprot_id):\n",
    "        return uniprot_id\n",
    "    elif pd.notnull(pdb_id):\n",
    "        return pdb_id\n",
    "\n",
    "\n",
    "all_results['lco_id'] = [\n",
    "    get_lco_id(*x)\n",
    "    for x in all_results[['pfam_clan', 'uniprot_id', 'pdb_id']].values\n",
    "]"
   ]
  },
  {
   "cell_type": "code",
   "execution_count": 453,
   "metadata": {
    "collapsed": false,
    "run_control": {
     "marked": false
    }
   },
   "outputs": [
    {
     "name": "stdout",
     "output_type": "stream",
     "text": [
      "1043\n",
      "0\n"
     ]
    }
   ],
   "source": [
    "print(sum(all_results['pfam_clan'].isnull()))\n",
    "print(sum(all_results['lco_id'].isnull()))"
   ]
  },
  {
   "cell_type": "code",
   "execution_count": 454,
   "metadata": {
    "collapsed": true,
    "run_control": {
     "marked": false
    }
   },
   "outputs": [],
   "source": [
    "lco_id_counts = [tuple(x) for x in Counter(all_results['lco_id']).items()]\n",
    "lco_id_counts.sort(key=lambda x: x[1], reverse=True)"
   ]
  },
  {
   "cell_type": "code",
   "execution_count": 455,
   "metadata": {
    "collapsed": false,
    "run_control": {
     "marked": false
    }
   },
   "outputs": [],
   "source": [
    "x, y = list(zip(*lco_id_counts))"
   ]
  },
  {
   "cell_type": "code",
   "execution_count": 456,
   "metadata": {
    "collapsed": false,
    "run_control": {
     "marked": false
    }
   },
   "outputs": [
    {
     "data": {
      "text/plain": [
       "<matplotlib.text.Text at 0x7fecc0521160>"
      ]
     },
     "execution_count": 456,
     "metadata": {},
     "output_type": "execute_result"
    },
    {
     "data": {
      "image/png": "[encoded data removed]",
      "text/plain": [
       "<matplotlib.figure.Figure at 0x7fecc1bf2b38>"
      ]
     },
     "metadata": {},
     "output_type": "display_data"
    }
   ],
   "source": [
    "plt.bar(range(len(y)), y)\n",
    "plt.xlabel('Number of domains')\n",
    "plt.ylabel('Number of mutations')"
   ]
  },
  {
   "cell_type": "code",
   "execution_count": 457,
   "metadata": {
    "collapsed": true,
    "run_control": {
     "marked": false
    }
   },
   "outputs": [],
   "source": [
    "def get_class_sets(n_classes=6, **args):\n",
    "    \"\"\"\n",
    "    args : Counter\n",
    "        key : num rows assigned to that key\n",
    "    \"\"\"\n",
    "    args = sorted(args.items(), key=lambda x: x[1], reverse=True)\n",
    "    num_rows = sum(v[1] for v in args)\n",
    "    print2('num_rows:', num_rows)\n",
    "    rows_per_class = num_rows // n_classes + 1\n",
    "    # If the first class is very big, make some adjustments\n",
    "    first_class_size = args[0][1]\n",
    "    if first_class_size >= rows_per_class:\n",
    "        rows_per_class = (num_rows - first_class_size) // (n_classes - 1) + 1\n",
    "\n",
    "    class_sets = []\n",
    "    for i in range(n_classes):\n",
    "        class_set = {args.pop(0)}\n",
    "        while sum(v[1] for v in class_set) < rows_per_class:\n",
    "            try:\n",
    "                class_set.add(args.pop(-1))\n",
    "            except IndexError:\n",
    "                break\n",
    "        class_sets.append(class_set)\n",
    "    assert not args\n",
    "    return class_sets"
   ]
  },
  {
   "cell_type": "code",
   "execution_count": 458,
   "metadata": {
    "collapsed": false,
    "run_control": {
     "marked": false
    }
   },
   "outputs": [
    {
     "name": "stdout",
     "output_type": "stream",
     "text": [
      "num_rows:                                                   2643\n"
     ]
    }
   ],
   "source": [
    "class_sets = get_class_sets(**Counter(all_results['lco_id']))"
   ]
  },
  {
   "cell_type": "code",
   "execution_count": 459,
   "metadata": {
    "collapsed": false,
    "run_control": {
     "marked": false
    }
   },
   "outputs": [
    {
     "name": "stdout",
     "output_type": "stream",
     "text": [
      "[764, 379, 400, 411, 390, 299]\n"
     ]
    }
   ],
   "source": [
    "print([sum(v[1] for v in x) for x in class_sets])"
   ]
  },
  {
   "cell_type": "code",
   "execution_count": 460,
   "metadata": {
    "collapsed": false,
    "run_control": {
     "marked": false
    }
   },
   "outputs": [
    {
     "name": "stdout",
     "output_type": "stream",
     "text": [
      "0:\t{'CL0005'}\n",
      "1:\t{'P68799', 'P19429', 'Q65914', 'A0NA69', 'P80060', 'CL0304', 'P02545', 'P07363', 'Q9UI10', 'Q8JGG7', 'CL0454', 'CL0022', 'P23827', 'P07195', 'P04075', 'Q03405', 'P15260', 'CL0108', 'P45381', 'P02792', 'P10912', 'P15879', 'Q9HXB1', 'CL0117', 'Q03393', 'P46672', 'Q8H0K8', 'CL0096', 'P59594', 'Q13426', 'P19909', 'P01552', 'CL0202', 'P27870', 'P14136', 'P0AD64', 'Q13951', 'CL0431', 'Q13191', 'CL0028', 'P38507', 'P69786', 'P02511', 'P13726', 'P01062', 'CL0023', 'P36711', 'P00698', 'CL0010', 'P46655'}\n",
      "2:\t{'P11540', 'P12497', 'P00431', 'P62593', 'Q5D734', 'CL0159', 'P01006', 'P02538', 'P35908', 'P00648', 'P0A9A6', 'CL0318', 'P09467', 'P01051', 'Q7A260', 'P60891', 'CL0079'}\n",
      "3:\t{'P04482', 'CL0124', 'P35804', 'CL0072', 'CL0353', 'P37173', 'P03950', 'Q40059'}\n",
      "4:\t{'P13479', 'CL0208', 'P09883', 'P11802', 'CL0037'}\n",
      "5:\t{'CL0053', 'P13489', 'CL0011'}\n"
     ]
    }
   ],
   "source": [
    "all_results['lco_group'] = None\n",
    "\n",
    "for i, class_set in enumerate(class_sets):\n",
    "    cs = {k[0] for k in class_set}\n",
    "    print('{:d}:\\t{}'.format(i, cs))\n",
    "    all_results.loc[all_results['lco_id'].isin(cs), 'lco_group'] = i\n",
    "\n",
    "assert not all_results['lco_group'].isnull().any()"
   ]
  },
  {
   "cell_type": "code",
   "execution_count": 461,
   "metadata": {
    "collapsed": true,
    "run_control": {
     "marked": false
    }
   },
   "outputs": [],
   "source": [
    "all_results_bak_2 = all_results.copy()"
   ]
  },
  {
   "cell_type": "code",
   "execution_count": 462,
   "metadata": {
    "collapsed": true,
    "run_control": {
     "marked": false
    }
   },
   "outputs": [],
   "source": [
    "all_results = all_results_bak_2.copy()"
   ]
  },
  {
   "cell_type": "markdown",
   "metadata": {
    "run_control": {
     "marked": false
    }
   },
   "source": [
    "## TRAINING_SETS_NONULL"
   ]
  },
  {
   "cell_type": "code",
   "execution_count": 463,
   "metadata": {
    "collapsed": false,
    "run_control": {
     "marked": false
    }
   },
   "outputs": [
    {
     "name": "stdout",
     "output_type": "stream",
     "text": [
      "skempi\n",
      "Shape before:       2,465\n",
      "Shape after:        2,465\n",
      "Rows lost:          0\n",
      "----------------------------------------\n",
      "taipale_ppi\n",
      "Shape before:       108\n",
      "Shape after:        108\n",
      "Rows lost:          0\n",
      "----------------------------------------\n",
      "taipale_gpca\n",
      "Shape before:       70\n",
      "Shape after:        70\n",
      "Rows lost:          0\n",
      "----------------------------------------\n"
     ]
    }
   ],
   "source": [
    "# Remove rows with missing features\n",
    "TRAINING_SETS_NONULL = OrderedDict()\n",
    "for dataset in DATASETS:\n",
    "    df = all_results[all_results['dataset'] == dataset]\n",
    "    df = elaspic.elaspic_predictor.format_mutation_features(df)\n",
    "    # Keep mut, remove it in next step\n",
    "    df = elaspic.elaspic_predictor.convert_features_to_differences(df, True)\n",
    "    _shape_before = df.shape[0]\n",
    "    for f in elaspic.elaspic_predictor.FEATURE_COLUMNS_CORE + ['ddg_exp']:\n",
    "        num_null = df[f].isnull().sum()\n",
    "        if num_null:\n",
    "            print2(\"Null column: '{}'\".format(f), num_null, x=40)\n",
    "    df = df.dropna(subset=elaspic.elaspic_predictor.FEATURE_COLUMNS_CORE, how='any')\n",
    "    df = df.dropna(subset=['ddg_exp'], how='all')\n",
    "    _shape_after = df.shape[0]\n",
    "    TRAINING_SETS_NONULL[dataset] = df\n",
    "\n",
    "    print(dataset)\n",
    "    print2(\"Shape before:\", \"{:,d}\".format(_shape_before), x=20)\n",
    "    print2(\"Shape after:\", \"{:,d}\".format(_shape_after), x=20)\n",
    "    print2(\"Rows lost:\", \"{:,d}\".format(_shape_before - _shape_after), x=20)\n",
    "    print('-' * 40)"
   ]
  },
  {
   "cell_type": "code",
   "execution_count": 464,
   "metadata": {
    "collapsed": false,
    "run_control": {
     "marked": false
    }
   },
   "outputs": [],
   "source": [
    "with open(op.join(NOTEBOOK_NAME, 'TRAINING_SETS_NONULL.pkl'), 'wb') as ofh:\n",
    "    pickle.dump(TRAINING_SETS_NONULL, ofh)"
   ]
  },
  {
   "cell_type": "markdown",
   "metadata": {},
   "source": [
    "# Cross-validation"
   ]
  },
  {
   "cell_type": "markdown",
   "metadata": {
    "run_control": {
     "marked": false
    }
   },
   "source": [
    "## system_commands"
   ]
  },
  {
   "cell_type": "code",
   "execution_count": 465,
   "metadata": {
    "code_folding": [],
    "collapsed": false,
    "run_control": {
     "marked": false
    }
   },
   "outputs": [
    {
     "name": "stdout",
     "output_type": "stream",
     "text": [
      "Size of the parameter grid:  3360\n"
     ]
    }
   ],
   "source": [
    "# Generate a list of parameters that we want to try...\n",
    "FEATURE_COLUMNS = elaspic.elaspic_predictor.FEATURE_COLUMNS_CORE[:]\n",
    "FEATURE_COLUMNS.remove('dg_change')\n",
    "\n",
    "parameter_grid =  {\n",
    "    'data_set': ['skempi'],\n",
    "    'data_file': [op.abspath(op.join(NOTEBOOK_NAME, 'TRAINING_SETS_NONULL.pkl'))],\n",
    "    'n_estimators': [2000],\n",
    "    'loss': ['huber'],\n",
    "    'learning_rate': [0.1, 0.05, 0.02, 0.01],\n",
    "    'max_depth': [4, 6,   8, 10],\n",
    "    'min_samples_leaf': [3, 5, 9, 13, 17,   21, 29],\n",
    "    'max_features': [1.0, 0.3, 0.1,   0.8, 0.5],\n",
    "    'alpha': [0.99, 0.95, 0.9, 0.8, 0.7, 0.5],\n",
    "    'features': [':'.join(FEATURE_COLUMNS)],\n",
    "}\n",
    "\n",
    "\n",
    "def get_system_command(**params):\n",
    "    system_command = (\n",
    "        \"{python} {script} {args}\".format(\n",
    "            python=sys.executable,\n",
    "            script=op.abspath(op.join(NOTEBOOK_NAME, 'gridsearch.py')),\n",
    "            args=' '.join(sorted(\"--{} {}\".format(*x) for x in params.items())))\n",
    "    )\n",
    "    return system_command\n",
    "\n",
    "\n",
    "system_commands = [\n",
    "    (i, get_system_command(**params)) \n",
    "    for i, params \n",
    "    in enumerate(jobsubmitter.iterate_parameters(**parameter_grid))\n",
    "]\n",
    "\n",
    "print(\"Size of the parameter grid: \", len(system_commands))"
   ]
  },
  {
   "cell_type": "code",
   "execution_count": 366,
   "metadata": {
    "collapsed": false,
    "run_control": {
     "marked": false
    }
   },
   "outputs": [
    {
     "data": {
      "text/plain": [
       "(0,\n",
       " '/home/kimlab1/strokach/anaconda/bin/python /home/kimlab1/database_data/biodb/recipes/elaspic_training_set/notebooks/interface_machine_learning/gridsearch.py --alpha 0.99 --data_file /home/kimlab1/database_data/biodb/recipes/elaspic_training_set/notebooks/interface_machine_learning/TRAINING_SETS_NONULL.pkl --data_set skempi --features dg_wt:backbone_hbond_wt:sidechain_hbond_wt:van_der_waals_wt:electrostatics_wt:solvation_polar_wt:solvation_hydrophobic_wt:van_der_waals_clashes_wt:entropy_sidechain_wt:entropy_mainchain_wt:sloop_entropy_wt:mloop_entropy_wt:cis_bond_wt:torsional_clash_wt:backbone_clash_wt:helix_dipole_wt:water_bridge_wt:disulfide_wt:electrostatic_kon_wt:partial_covalent_bonds_wt:energy_ionisation_wt:entropy_complex_wt:number_of_residues:backbone_hbond_change:sidechain_hbond_change:van_der_waals_change:electrostatics_change:solvation_polar_change:solvation_hydrophobic_change:van_der_waals_clashes_change:entropy_sidechain_change:entropy_mainchain_change:sloop_entropy_change:mloop_entropy_change:cis_bond_change:torsional_clash_change:backbone_clash_change:helix_dipole_change:water_bridge_change:disulfide_change:electrostatic_kon_change:partial_covalent_bonds_change:energy_ionisation_change:entropy_complex_change:pcv_salt_equal_wt:pcv_salt_opposite_wt:pcv_hbond_wt:pcv_vdw_wt:pcv_salt_equal_self_wt:pcv_salt_opposite_self_wt:pcv_hbond_self_wt:pcv_vdw_self_wt:pcv_salt_equal_change:pcv_salt_opposite_change:pcv_hbond_change:pcv_vdw_change:pcv_salt_equal_self_change:pcv_salt_opposite_self_change:pcv_hbond_self_change:pcv_vdw_self_change:provean_score:secondary_structure_wt:secondary_structure_change:alignment_identity:alignment_coverage:alignment_score:matrix_score:norm_dope:solvent_accessibility_wt:solvent_accessibility_change --learning_rate 0.1 --loss huber --max_depth 4 --max_features 1.0 --min_samples_leaf 3 --n_estimators 2000')"
      ]
     },
     "execution_count": 366,
     "metadata": {},
     "output_type": "execute_result"
    }
   ],
   "source": [
    "system_commands[0]"
   ]
  },
  {
   "cell_type": "markdown",
   "metadata": {
    "run_control": {
     "marked": false
    }
   },
   "source": [
    "## gridsearch.py"
   ]
  },
  {
   "cell_type": "code",
   "execution_count": 466,
   "metadata": {
    "collapsed": false,
    "run_control": {
     "marked": false
    }
   },
   "outputs": [
    {
     "name": "stdout",
     "output_type": "stream",
     "text": [
      "Writing interface_machine_learning/gridsearch.py\n"
     ]
    }
   ],
   "source": [
    "%%file $NOTEBOOK_NAME/gridsearch.py\n",
    "import os\n",
    "import os.path as op\n",
    "import pickle\n",
    "import json\n",
    "import scipy as sp\n",
    "import pandas as pd\n",
    "import sqlalchemy as sa\n",
    "from sklearn import ensemble, cross_validation, metrics\n",
    "import elaspic\n",
    "\n",
    "\n",
    "def cross_validate(train_df, valid_dfs, opts, features, do_xval, target='ddg_exp', label='lco_group'):\n",
    "    # Initialize classifier\n",
    "    clf = ensemble.GradientBoostingRegressor(**opts)\n",
    "    \n",
    "    # Keep track of results\n",
    "    result = {}\n",
    "    def add_stats(actual, predicted, suffix=''):\n",
    "        result.update({\n",
    "                'r2{}'.format(suffix): metrics.r2_score(actual, predicted),\n",
    "                'pearsonr{}'.format(suffix): sp.stats.pearsonr(actual, predicted)[0],\n",
    "                'spearmanr{}'.format(suffix): sp.stats.spearmanr(actual, predicted)[0],\n",
    "            })\n",
    "\n",
    "    # Cross-validation        \n",
    "    if do_xval:\n",
    "        preds = cross_validation.cross_val_predict(\n",
    "            estimator=clf,\n",
    "            X=train_df[features],\n",
    "            y=train_df[target],\n",
    "            cv=cross_validation.LeaveOneLabelOut(train_df[label].fillna('')),\n",
    "            n_jobs=1,\n",
    "        )\n",
    "        add_stats(train_df[target], preds)\n",
    "\n",
    "    # Fit the classifier\n",
    "    clf.fit(train_df[features], train_df[target])\n",
    "\n",
    "    # Validation on our 'test' sets\n",
    "    for valid_name, valid_df in valid_dfs.items():\n",
    "        valid_df['pred'] = clf.predict(valid_df[features])\n",
    "        for col_name, do_abs in [\n",
    "                ('ddg_exp', False),\n",
    "                ('del_score_exp', True),\n",
    "                ('del_class_exp', True)]:\n",
    "            if not valid_df[col_name].notnull().all():\n",
    "                continue\n",
    "            actual = valid_df[col_name].abs() if do_abs else valid_df[col_name]\n",
    "            predicted = valid_df['pred'].abs() if do_abs else valid_df['pred']\n",
    "            suffix = '_{}_{}_vs_ddg{}'.format(valid_name, col_name, '_abs' if do_abs else '')\n",
    "            add_stats(actual, predicted, suffix)\n",
    "            for cutoff_name, cutoff_func in [\n",
    "                    ('gt80', lambda x: x > 80),\n",
    "                    ('40to80', lambda x: (x <= 80) & (x > 40)),\n",
    "                    ('lt40', lambda x: x <= 40)]:\n",
    "                keep_idx = valid_df['alignment_identity'].apply(cutoff_func)\n",
    "                add_stats(actual[keep_idx], predicted[keep_idx], suffix + '_' + cutoff_name)\n",
    "\n",
    "    # DONE!\n",
    "    return result\n",
    "\n",
    "\n",
    "if __name__ == '__main__':\n",
    "    import argparse\n",
    "    parser = argparse.ArgumentParser()\n",
    "    parser.add_argument('--data_set', type=str, required=True)\n",
    "    parser.add_argument('--data_file', type=str, required=True)\n",
    "    parser.add_argument('--features', type=str, default=None)\n",
    "    parser.add_argument('--do_xval', type=int, default=1)\n",
    "    # \n",
    "    parser.add_argument('--learning_rate', type=float, required=True)\n",
    "    parser.add_argument('--max_depth', type=int, required=True)\n",
    "    parser.add_argument('--min_samples_leaf', type=int, required=True)\n",
    "    parser.add_argument('--max_features', type=float, required=True)\n",
    "    parser.add_argument('--alpha', type=float, required=True)\n",
    "    #\n",
    "    parser.add_argument('--loss', type=str, default='huber')\n",
    "    parser.add_argument('--n_estimators', type=int, default=3000)\n",
    "    #\n",
    "    args = parser.parse_args()\n",
    "\n",
    "    with open(args.data_file, 'rb') as ifh:\n",
    "        TRAINING_SETS = pickle.load(ifh)\n",
    "    \n",
    "    train_df = TRAINING_SETS[args.data_set]\n",
    "    validation_dfs = {\n",
    "        # Training / validation datasets\n",
    "        **{\n",
    "            key.replace('_train', ''): df_valid \n",
    "            for (key, df_valid) in TRAINING_SETS.items()\n",
    "            if key.endswith('_train')\n",
    "        },\n",
    "        # Test datasets\n",
    "        **{\n",
    "            key: df_valid \n",
    "            for (key, df_valid) in TRAINING_SETS.items()\n",
    "            if key.endswith('_test')\n",
    "        },\n",
    "    }\n",
    "    clf_opts = {\n",
    "        k: v for (k, v) in args.__dict__.items()\n",
    "        if k not in ['data_set', 'data_file', 'features', 'do_xval']\n",
    "    }\n",
    "    features = args.features.split(':')\n",
    "        \n",
    "    clf_result = cross_validate(train_df, validation_dfs, clf_opts, features, do_xval=bool(args.do_xval))\n",
    "\n",
    "    result = {'clf_opts': clf_opts, 'features': args.features, **clf_result}\n",
    "    print(json.dumps(result))"
   ]
  },
  {
   "cell_type": "code",
   "execution_count": 467,
   "metadata": {
    "collapsed": false,
    "run_control": {
     "marked": false
    }
   },
   "outputs": [
    {
     "name": "stdout",
     "output_type": "stream",
     "text": [
      "/home/kimlab1/strokach/anaconda/bin/python /home/kimlab1/database_data/biodb/recipes/elaspic_training_set/notebooks/interface_machine_learning/gridsearch.py --alpha 0.99 --data_file /home/kimlab1/database_data/biodb/recipes/elaspic_training_set/notebooks/interface_machine_learning/TRAINING_SETS_NONULL.pkl --data_set skempi --features dg_wt:backbone_hbond_wt:sidechain_hbond_wt:van_der_waals_wt:electrostatics_wt:solvation_polar_wt:solvation_hydrophobic_wt:van_der_waals_clashes_wt:entropy_sidechain_wt:entropy_mainchain_wt:sloop_entropy_wt:mloop_entropy_wt:cis_bond_wt:torsional_clash_wt:backbone_clash_wt:helix_dipole_wt:water_bridge_wt:disulfide_wt:electrostatic_kon_wt:partial_covalent_bonds_wt:energy_ionisation_wt:entropy_complex_wt:number_of_residues:backbone_hbond_change:sidechain_hbond_change:van_der_waals_change:electrostatics_change:solvation_polar_change:solvation_hydrophobic_change:van_der_waals_clashes_change:entropy_sidechain_change:entropy_mainchain_change:sloop_entropy_change:mloop_entropy_change:cis_bond_change:torsional_clash_change:backbone_clash_change:helix_dipole_change:water_bridge_change:disulfide_change:electrostatic_kon_change:partial_covalent_bonds_change:energy_ionisation_change:entropy_complex_change:pcv_salt_equal_wt:pcv_salt_opposite_wt:pcv_hbond_wt:pcv_vdw_wt:pcv_salt_equal_self_wt:pcv_salt_opposite_self_wt:pcv_hbond_self_wt:pcv_vdw_self_wt:pcv_salt_equal_change:pcv_salt_opposite_change:pcv_hbond_change:pcv_vdw_change:pcv_salt_equal_self_change:pcv_salt_opposite_self_change:pcv_hbond_self_change:pcv_vdw_self_change:provean_score:secondary_structure_wt:secondary_structure_change:alignment_identity:alignment_coverage:alignment_score:matrix_score:norm_dope:solvent_accessibility_wt:solvent_accessibility_change --learning_rate 0.1 --loss huber --max_depth 4 --max_features 1.0 --min_samples_leaf 3 --n_estimators 2000\r\n"
     ]
    }
   ],
   "source": [
    "!echo {system_commands[0][1]}"
   ]
  },
  {
   "cell_type": "code",
   "execution_count": 468,
   "metadata": {
    "collapsed": false,
    "run_control": {
     "marked": false
    }
   },
   "outputs": [
    {
     "name": "stdout",
     "output_type": "stream",
     "text": [
      "{\"pearsonr\": 0.35963027642580675, \"clf_opts\": {\"n_estimators\": 2000, \"alpha\": 0.99, \"max_features\": 1.0, \"loss\": \"huber\", \"max_depth\": 4, \"learning_rate\": 0.1, \"min_samples_leaf\": 3}, \"r2\": 0.09396079202960161, \"features\": \"dg_wt:backbone_hbond_wt:sidechain_hbond_wt:van_der_waals_wt:electrostatics_wt:solvation_polar_wt:solvation_hydrophobic_wt:van_der_waals_clashes_wt:entropy_sidechain_wt:entropy_mainchain_wt:sloop_entropy_wt:mloop_entropy_wt:cis_bond_wt:torsional_clash_wt:backbone_clash_wt:helix_dipole_wt:water_bridge_wt:disulfide_wt:electrostatic_kon_wt:partial_covalent_bonds_wt:energy_ionisation_wt:entropy_complex_wt:number_of_residues:backbone_hbond_change:sidechain_hbond_change:van_der_waals_change:electrostatics_change:solvation_polar_change:solvation_hydrophobic_change:van_der_waals_clashes_change:entropy_sidechain_change:entropy_mainchain_change:sloop_entropy_change:mloop_entropy_change:cis_bond_change:torsional_clash_change:backbone_clash_change:helix_dipole_change:water_bridge_change:disulfide_change:electrostatic_kon_change:partial_covalent_bonds_change:energy_ionisation_change:entropy_complex_change:pcv_salt_equal_wt:pcv_salt_opposite_wt:pcv_hbond_wt:pcv_vdw_wt:pcv_salt_equal_self_wt:pcv_salt_opposite_self_wt:pcv_hbond_self_wt:pcv_vdw_self_wt:pcv_salt_equal_change:pcv_salt_opposite_change:pcv_hbond_change:pcv_vdw_change:pcv_salt_equal_self_change:pcv_salt_opposite_self_change:pcv_hbond_self_change:pcv_vdw_self_change:provean_score:secondary_structure_wt:secondary_structure_change:alignment_identity:alignment_coverage:alignment_score:matrix_score:norm_dope:solvent_accessibility_wt:solvent_accessibility_change\", \"spearmanr\": 0.303632578420863}\r\n"
     ]
    }
   ],
   "source": [
    "!{system_commands[0][1]}"
   ]
  },
  {
   "cell_type": "code",
   "execution_count": 342,
   "metadata": {
    "collapsed": false,
    "run_control": {
     "marked": false
    }
   },
   "outputs": [
    {
     "ename": "Exception",
     "evalue": "",
     "output_type": "error",
     "traceback": [
      "\u001b[1;31m---------------------------------------------------------------------------\u001b[0m",
      "\u001b[1;31mException\u001b[0m                                 Traceback (most recent call last)",
      "\u001b[1;32m<ipython-input-342-fca2ab0ca76b>\u001b[0m in \u001b[0;36m<module>\u001b[1;34m()\u001b[0m\n\u001b[1;32m----> 1\u001b[1;33m \u001b[1;32mraise\u001b[0m \u001b[0mException\u001b[0m\u001b[1;33m\u001b[0m\u001b[0m\n\u001b[0m",
      "\u001b[1;31mException\u001b[0m: "
     ]
    }
   ],
   "source": [
    "raise Exception"
   ]
  },
  {
   "cell_type": "code",
   "execution_count": null,
   "metadata": {
    "collapsed": true,
    "run_control": {
     "marked": false
    }
   },
   "outputs": [],
   "source": [
    "p = elaspic.elaspic_predictor.InterfacePredictor()\n",
    "p.train(all_results, {\n",
    "        'features': elaspic.elaspic_predictor.FEATURE_COLUMNS_INTERFACE})"
   ]
  },
  {
   "cell_type": "code",
   "execution_count": null,
   "metadata": {
    "collapsed": true,
    "run_control": {
     "marked": false
    }
   },
   "outputs": [],
   "source": []
  },
  {
   "cell_type": "code",
   "execution_count": null,
   "metadata": {
    "collapsed": true,
    "run_control": {
     "marked": false
    }
   },
   "outputs": [],
   "source": []
  },
  {
   "cell_type": "code",
   "execution_count": null,
   "metadata": {
    "collapsed": true,
    "run_control": {
     "marked": false
    }
   },
   "outputs": [],
   "source": []
  },
  {
   "cell_type": "code",
   "execution_count": null,
   "metadata": {
    "collapsed": true,
    "run_control": {
     "marked": false
    }
   },
   "outputs": [],
   "source": []
  },
  {
   "cell_type": "code",
   "execution_count": null,
   "metadata": {
    "collapsed": true,
    "run_control": {
     "marked": false
    }
   },
   "outputs": [],
   "source": []
  },
  {
   "cell_type": "markdown",
   "metadata": {
    "run_control": {
     "marked": false
    }
   },
   "source": [
    "# Feature elimination"
   ]
  },
  {
   "cell_type": "code",
   "execution_count": null,
   "metadata": {
    "collapsed": true,
    "run_control": {
     "marked": false
    }
   },
   "outputs": [],
   "source": []
  },
  {
   "cell_type": "code",
   "execution_count": null,
   "metadata": {
    "collapsed": true,
    "run_control": {
     "marked": false
    }
   },
   "outputs": [],
   "source": []
  },
  {
   "cell_type": "code",
   "execution_count": null,
   "metadata": {
    "collapsed": true,
    "run_control": {
     "marked": false
    }
   },
   "outputs": [],
   "source": []
  },
  {
   "cell_type": "code",
   "execution_count": null,
   "metadata": {
    "collapsed": true,
    "run_control": {
     "marked": false
    }
   },
   "outputs": [],
   "source": []
  }
 ],
 "metadata": {
  "anaconda-cloud": {},
  "kernelspec": {
   "display_name": "Python [Root]",
   "language": "python",
   "name": "Python [Root]"
  },
  "language_info": {
   "codemirror_mode": {
    "name": "ipython",
    "version": 3
   },
   "file_extension": ".py",
   "mimetype": "text/x-python",
   "name": "python",
   "nbconvert_exporter": "python",
   "pygments_lexer": "ipython3",
   "version": "3.5.2"
  },
  "toc": {
   "navigate_menu": false,
   "number_sections": true,
   "sideBar": false,
   "threshold": 6,
   "toc_cell": false,
   "toc_section_display": "block",
   "toc_window_display": true
  },
  "toc_position": {
   "height": "456px",
   "left": "117.587px",
   "right": "20px",
   "top": "95.9826px",
   "width": "230px"
  }
 },
 "nbformat": 4,
 "nbformat_minor": 0
}
