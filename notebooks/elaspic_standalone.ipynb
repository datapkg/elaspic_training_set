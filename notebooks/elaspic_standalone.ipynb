{
 "cells": [
  {
   "cell_type": "markdown",
   "metadata": {
    "run_control": {
     "marked": false
    }
   },
   "source": [
    "# Summary\n",
    "\n",
    "Run ELASPIC on a set of CORE or INTERFACE PDBs.\n",
    "\n",
    "----"
   ]
  },
  {
   "cell_type": "markdown",
   "metadata": {
    "run_control": {
     "marked": false
    }
   },
   "source": [
    "# Imports"
   ]
  },
  {
   "cell_type": "code",
   "execution_count": 1,
   "metadata": {
    "collapsed": false,
    "run_control": {
     "marked": false
    }
   },
   "outputs": [
    {
     "name": "stdout",
     "output_type": "stream",
     "text": [
      "2016-09-07 12:02:47.315441\n"
     ]
    }
   ],
   "source": [
    "%run imports.ipynb"
   ]
  },
  {
   "cell_type": "code",
   "execution_count": 2,
   "metadata": {
    "collapsed": false,
    "run_control": {
     "marked": false
    }
   },
   "outputs": [
    {
     "name": "stderr",
     "output_type": "stream",
     "text": [
      "MySQL database already running...\n"
     ]
    },
    {
     "name": "stdout",
     "output_type": "stream",
     "text": [
      "The autoreload extension is already loaded. To reload it, use:\n",
      "  %reload_ext autoreload\n",
      "2016-09-07 12:02:47.459530\n"
     ]
    }
   ],
   "source": [
    "%run db.ipynb"
   ]
  },
  {
   "cell_type": "code",
   "execution_count": 3,
   "metadata": {
    "collapsed": true,
    "run_control": {
     "marked": false
    }
   },
   "outputs": [],
   "source": [
    "NOTEBOOK_NAME = 'elaspic_standalone'\n",
    "os.makedirs(NOTEBOOK_NAME, exist_ok=True)"
   ]
  },
  {
   "cell_type": "code",
   "execution_count": 4,
   "metadata": {
    "collapsed": true
   },
   "outputs": [],
   "source": [
    "# Start a database connection\n",
    "db_local = datapkg.MySQLConnection(\n",
    "    connection_string=db_daemon.get_connection_string(NOTEBOOK_NAME),\n",
    "    shared_folder=os.environ['DB_TEMPDIR'],\n",
    "    storage_host=None,\n",
    "    datadir=db_daemon.datadir,\n",
    "    echo=False,\n",
    "    db_engine='MyISAM',\n",
    ")"
   ]
  },
  {
   "cell_type": "code",
   "execution_count": 5,
   "metadata": {
    "collapsed": true,
    "run_control": {
     "marked": false
    }
   },
   "outputs": [],
   "source": [
    "PDB_DIR = '/home/kimlab1/database_data/pdb/data/data/structures/all/pdb'\n",
    "# BLAST_DB_DIR = '/home/kimlab1/database_data/blast/db'\n",
    "BLAST_DB_DIR = '/home/strokach/databases/blast/db'\n",
    "ARCHIVE_DIR = '/home/kimlab1/database_data/elaspic_v2'"
   ]
  },
  {
   "cell_type": "markdown",
   "metadata": {
    "run_control": {
     "marked": false
    }
   },
   "source": [
    "# Load data"
   ]
  },
  {
   "cell_type": "code",
   "execution_count": 6,
   "metadata": {
    "collapsed": true
   },
   "outputs": [],
   "source": [
    "CORE_DATASETS = [\n",
    "    'protherm', 'protherm_star',\n",
    "]\n",
    "    \n",
    "INTERFACE_DATASETS = [\n",
    "    # No partner uniprot provided:\n",
    "    'ab_bind', 'benedix_et_al', 'hiv_escape_mutations',\n",
    "    #\n",
    "    'kortemme_baker', 'skempi',\n",
    "]\n",
    "\n",
    "assert not (set(CORE_DATASETS) & set(INTERFACE_DATASETS))"
   ]
  },
  {
   "cell_type": "code",
   "execution_count": 7,
   "metadata": {
    "collapsed": false,
    "run_control": {
     "marked": false
    }
   },
   "outputs": [],
   "source": [
    "DATA = {}\n",
    "\n",
    "for dataset in CORE_DATASETS:\n",
    "    DATA[dataset] = pd.read_sql_table(dataset, db.engine, schema='protein_folding_energy')\n",
    "\n",
    "for dataset in INTERFACE_DATASETS:\n",
    "    DATA[dataset] = pd.read_sql_table(dataset, db.engine, schema='protein_interaction_energy')"
   ]
  },
  {
   "cell_type": "code",
   "execution_count": 8,
   "metadata": {
    "collapsed": false,
    "run_control": {
     "marked": false
    }
   },
   "outputs": [
    {
     "data": {
      "text/html": [
       "<div>\n",
       "<table border=\"1\" class=\"dataframe\">\n",
       "  <thead>\n",
       "    <tr style=\"text-align: right;\">\n",
       "      <th></th>\n",
       "      <th>idx</th>\n",
       "      <th>pdb_id</th>\n",
       "      <th>pdb_chain</th>\n",
       "      <th>pdb_mutation</th>\n",
       "      <th>uniprot_id</th>\n",
       "      <th>uniprot_mutation</th>\n",
       "      <th>pfam_id</th>\n",
       "      <th>ddg_exp</th>\n",
       "      <th>ddg_exp_pstar</th>\n",
       "    </tr>\n",
       "  </thead>\n",
       "  <tbody>\n",
       "    <tr>\n",
       "      <th>0</th>\n",
       "      <td>1</td>\n",
       "      <td>1a23</td>\n",
       "      <td>A</td>\n",
       "      <td>A_C30S</td>\n",
       "      <td>P0AEG4</td>\n",
       "      <td>C49S</td>\n",
       "      <td>PF01323</td>\n",
       "      <td>1.80</td>\n",
       "      <td>NaN</td>\n",
       "    </tr>\n",
       "    <tr>\n",
       "      <th>1</th>\n",
       "      <td>2</td>\n",
       "      <td>1a23</td>\n",
       "      <td>A</td>\n",
       "      <td>A_C30S.A_C33S</td>\n",
       "      <td>P0AEG4</td>\n",
       "      <td>C49S.C52S</td>\n",
       "      <td>PF01323</td>\n",
       "      <td>2.00</td>\n",
       "      <td>NaN</td>\n",
       "    </tr>\n",
       "    <tr>\n",
       "      <th>2</th>\n",
       "      <td>3</td>\n",
       "      <td>1a23</td>\n",
       "      <td>A</td>\n",
       "      <td>A_C33S</td>\n",
       "      <td>P0AEG4</td>\n",
       "      <td>C52S</td>\n",
       "      <td>PF01323</td>\n",
       "      <td>1.10</td>\n",
       "      <td>NaN</td>\n",
       "    </tr>\n",
       "    <tr>\n",
       "      <th>3</th>\n",
       "      <td>4</td>\n",
       "      <td>1a23</td>\n",
       "      <td>A</td>\n",
       "      <td>A_H32L</td>\n",
       "      <td>P0AEG4</td>\n",
       "      <td>H51L</td>\n",
       "      <td>PF01323</td>\n",
       "      <td>-4.95</td>\n",
       "      <td>NaN</td>\n",
       "    </tr>\n",
       "    <tr>\n",
       "      <th>4</th>\n",
       "      <td>5</td>\n",
       "      <td>1a23</td>\n",
       "      <td>A</td>\n",
       "      <td>A_H32S</td>\n",
       "      <td>P0AEG4</td>\n",
       "      <td>H51S</td>\n",
       "      <td>PF01323</td>\n",
       "      <td>-4.40</td>\n",
       "      <td>NaN</td>\n",
       "    </tr>\n",
       "  </tbody>\n",
       "</table>\n",
       "</div>"
      ],
      "text/plain": [
       "   idx pdb_id pdb_chain   pdb_mutation uniprot_id uniprot_mutation  pfam_id  ddg_exp  ddg_exp_pstar\n",
       "0    1   1a23         A         A_C30S     P0AEG4             C49S  PF01323     1.80            NaN\n",
       "1    2   1a23         A  A_C30S.A_C33S     P0AEG4        C49S.C52S  PF01323     2.00            NaN\n",
       "2    3   1a23         A         A_C33S     P0AEG4             C52S  PF01323     1.10            NaN\n",
       "3    4   1a23         A         A_H32L     P0AEG4             H51L  PF01323    -4.95            NaN\n",
       "4    5   1a23         A         A_H32S     P0AEG4             H51S  PF01323    -4.40            NaN"
      ]
     },
     "metadata": {},
     "output_type": "display_data"
    },
    {
     "name": "stdout",
     "output_type": "stream",
     "text": [
      "4467\n"
     ]
    }
   ],
   "source": [
    "display(DATA['protherm'].head())\n",
    "print(DATA['protherm'].shape[0])"
   ]
  },
  {
   "cell_type": "markdown",
   "metadata": {
    "run_control": {
     "marked": false
    }
   },
   "source": [
    "# RUN"
   ]
  },
  {
   "cell_type": "code",
   "execution_count": 9,
   "metadata": {
    "collapsed": true,
    "run_control": {
     "marked": false
    }
   },
   "outputs": [],
   "source": [
    "DATASET = 'protherm_star'\n",
    "SUFFIX = '_2'\n",
    "\n",
    "JOB_NAME = DATASET + SUFFIX"
   ]
  },
  {
   "cell_type": "code",
   "execution_count": 10,
   "metadata": {
    "collapsed": false
   },
   "outputs": [
    {
     "name": "stdout",
     "output_type": "stream",
     "text": [
      "protherm_star\n",
      "_2\n",
      "protherm_star_2\n"
     ]
    }
   ],
   "source": [
    "print(DATASET)\n",
    "print(SUFFIX)\n",
    "print(JOB_NAME)"
   ]
  },
  {
   "cell_type": "code",
   "execution_count": 11,
   "metadata": {
    "collapsed": false,
    "run_control": {
     "marked": false
    }
   },
   "outputs": [
    {
     "name": "stdout",
     "output_type": "stream",
     "text": [
      "3636\n"
     ]
    }
   ],
   "source": [
    "DF = DATA[DATASET].copy()\n",
    "print(DF.shape[0])"
   ]
  },
  {
   "cell_type": "code",
   "execution_count": 12,
   "metadata": {
    "collapsed": false,
    "run_control": {
     "marked": false
    }
   },
   "outputs": [
    {
     "name": "stdout",
     "output_type": "stream",
     "text": [
      "Lost 24 multi-mutant rows.\n"
     ]
    }
   ],
   "source": [
    "# Remove multi-mutants (for now)\n",
    "_before = DF.shape[0]\n",
    "DF = DF[DF['pdb_mutation'].notnull()]\n",
    "DF = DF[~DF['pdb_mutation'].str.contains('\\.')]\n",
    "DF = DF[~DF['pdb_mutation'].str.contains(',')]\n",
    "print(\"Lost {} multi-mutant rows.\".format(_before - DF.shape[0]))"
   ]
  },
  {
   "cell_type": "code",
   "execution_count": 13,
   "metadata": {
    "collapsed": false
   },
   "outputs": [],
   "source": [
    "if not DF['pdb_mutation'].str.contains('_').all():\n",
    "    print(\"Adding 'pdb_chain' to 'pdb_mutation'\")\n",
    "    DF['pdb_mutation'] = DF['pdb_chain'] + '_' + DF['pdb_mutation']"
   ]
  },
  {
   "cell_type": "code",
   "execution_count": 14,
   "metadata": {
    "collapsed": true
   },
   "outputs": [],
   "source": [
    "if 'partner_pdb_chain' not in DF.columns:\n",
    "    DF['partner_pdb_chain'] = np.nan\n",
    "    \n",
    "if 'partner_uniprot_id' not in DF.columns:\n",
    "    DF['partner_uniprot_id'] = np.nan\n"
   ]
  },
  {
   "cell_type": "code",
   "execution_count": 15,
   "metadata": {
    "collapsed": false,
    "run_control": {
     "marked": false
    }
   },
   "outputs": [
    {
     "name": "stdout",
     "output_type": "stream",
     "text": [
      "3612\n"
     ]
    }
   ],
   "source": [
    "print(DF.shape[0])"
   ]
  },
  {
   "cell_type": "code",
   "execution_count": 16,
   "metadata": {
    "collapsed": true,
    "run_control": {
     "marked": false
    }
   },
   "outputs": [],
   "source": [
    "DF['pdb_file'] = PDB_DIR + ('/pdb' + DF['pdb_id'] + '.ent.gz')"
   ]
  },
  {
   "cell_type": "code",
   "execution_count": 17,
   "metadata": {
    "collapsed": false
   },
   "outputs": [
    {
     "data": {
      "text/plain": [
       "(3612, 10)"
      ]
     },
     "execution_count": 17,
     "metadata": {},
     "output_type": "execute_result"
    }
   ],
   "source": [
    "DF.shape"
   ]
  },
  {
   "cell_type": "code",
   "execution_count": 18,
   "metadata": {
    "collapsed": false
   },
   "outputs": [
    {
     "name": "stdout",
     "output_type": "stream",
     "text": [
      "Run stage: 2\n"
     ]
    }
   ],
   "source": [
    "RUN_STAGE = 2  # 1: Provean and homology models, 2: Mutations\n",
    "print(\"Run stage: {}\".format(RUN_STAGE))\n",
    "\n",
    "try:\n",
    "    del DF_TO_CALCULATE, SYSTEM_COMMAND_TEMPLATE\n",
    "except NameError:\n",
    "    pass"
   ]
  },
  {
   "cell_type": "code",
   "execution_count": 19,
   "metadata": {
    "collapsed": false
   },
   "outputs": [],
   "source": [
    "if RUN_STAGE == 1:\n",
    "    DF_TO_CALCULATE = DF.drop_duplicates('pdb_file')\n",
    "    print(\"Analysing {} unique proteins...\".format(len(DF_TO_CALCULATE)))\n",
    "\n",
    "    SYSTEM_COMMAND_TEMPLATE = \"\"\"\\\n",
    "mkdir -p '{tempdir}' && \\\n",
    "cd '{tempdir}' && \\\n",
    "elaspic run -p '{pdb_file}' -t 'sequence.model' -vvv \\\n",
    "    --pdb_dir='%s/' \\\n",
    "    --blast_db_dir='%s' \\\n",
    "    --archive_dir='%s/' \\\n",
    "    # Decoys: {mutation} \n",
    "\"\"\" % (PDB_DIR, BLAST_DB_DIR, ARCHIVE_DIR)"
   ]
  },
  {
   "cell_type": "code",
   "execution_count": 20,
   "metadata": {
    "collapsed": false,
    "run_control": {
     "marked": false
    }
   },
   "outputs": [
    {
     "name": "stdout",
     "output_type": "stream",
     "text": [
      "Analysing 3612 unique mutations...\n"
     ]
    }
   ],
   "source": [
    "if RUN_STAGE == 2:\n",
    "    DF_TO_CALCULATE = DF.drop_duplicates(['pdb_file', 'pdb_mutation'])\n",
    "    print(\"Analysing {} unique mutations...\".format(len(DF_TO_CALCULATE)))\n",
    "\n",
    "    # NB: `-n` is \"mutation_format\"\n",
    "    SYSTEM_COMMAND_TEMPLATE = \"\"\"\\\n",
    "mkdir -p '{tempdir}' && \\\n",
    "cd '{tempdir}' && \\\n",
    "elaspic run -p '{pdb_file}' -t 'mutation' -m '{mutation}' -n 1 -vvv \\\n",
    "    --pdb_dir='%s/' \\\n",
    "    --blast_db_dir='%s' \\\n",
    "    --archive_dir='%s/'\n",
    "\"\"\" % (PDB_DIR, BLAST_DB_DIR, ARCHIVE_DIR)"
   ]
  },
  {
   "cell_type": "code",
   "execution_count": 21,
   "metadata": {
    "collapsed": false,
    "run_control": {
     "marked": false
    }
   },
   "outputs": [
    {
     "data": {
      "text/html": [
       "<div>\n",
       "<table border=\"1\" class=\"dataframe\">\n",
       "  <thead>\n",
       "    <tr style=\"text-align: right;\">\n",
       "      <th></th>\n",
       "      <th>pdb_id</th>\n",
       "      <th>pdb_chain</th>\n",
       "      <th>pdb_mutation</th>\n",
       "      <th>uniprot_id</th>\n",
       "      <th>uniprot_mutation</th>\n",
       "      <th>pfam_id</th>\n",
       "      <th>ddg_exp</th>\n",
       "      <th>partner_pdb_chain</th>\n",
       "      <th>partner_uniprot_id</th>\n",
       "      <th>pdb_file</th>\n",
       "    </tr>\n",
       "  </thead>\n",
       "  <tbody>\n",
       "    <tr>\n",
       "      <th>0</th>\n",
       "      <td>107l</td>\n",
       "      <td>A</td>\n",
       "      <td>A_G44S</td>\n",
       "      <td>None</td>\n",
       "      <td>None</td>\n",
       "      <td>None</td>\n",
       "      <td>-0.53</td>\n",
       "      <td>NaN</td>\n",
       "      <td>NaN</td>\n",
       "      <td>/home/kimlab1/database_data/pdb/data/data/stru...</td>\n",
       "    </tr>\n",
       "    <tr>\n",
       "      <th>1</th>\n",
       "      <td>160l</td>\n",
       "      <td>A</td>\n",
       "      <td>A_A120M</td>\n",
       "      <td>None</td>\n",
       "      <td>None</td>\n",
       "      <td>None</td>\n",
       "      <td>-0.20</td>\n",
       "      <td>NaN</td>\n",
       "      <td>NaN</td>\n",
       "      <td>/home/kimlab1/database_data/pdb/data/data/stru...</td>\n",
       "    </tr>\n",
       "    <tr>\n",
       "      <th>2</th>\n",
       "      <td>161l</td>\n",
       "      <td>A</td>\n",
       "      <td>A_A116N</td>\n",
       "      <td>None</td>\n",
       "      <td>None</td>\n",
       "      <td>None</td>\n",
       "      <td>0.17</td>\n",
       "      <td>NaN</td>\n",
       "      <td>NaN</td>\n",
       "      <td>/home/kimlab1/database_data/pdb/data/data/stru...</td>\n",
       "    </tr>\n",
       "    <tr>\n",
       "      <th>3</th>\n",
       "      <td>162l</td>\n",
       "      <td>A</td>\n",
       "      <td>A_A122Q</td>\n",
       "      <td>None</td>\n",
       "      <td>None</td>\n",
       "      <td>None</td>\n",
       "      <td>-0.24</td>\n",
       "      <td>NaN</td>\n",
       "      <td>NaN</td>\n",
       "      <td>/home/kimlab1/database_data/pdb/data/data/stru...</td>\n",
       "    </tr>\n",
       "    <tr>\n",
       "      <th>4</th>\n",
       "      <td>163l</td>\n",
       "      <td>A</td>\n",
       "      <td>A_A123Q</td>\n",
       "      <td>None</td>\n",
       "      <td>None</td>\n",
       "      <td>None</td>\n",
       "      <td>-0.22</td>\n",
       "      <td>NaN</td>\n",
       "      <td>NaN</td>\n",
       "      <td>/home/kimlab1/database_data/pdb/data/data/stru...</td>\n",
       "    </tr>\n",
       "  </tbody>\n",
       "</table>\n",
       "</div>"
      ],
      "text/plain": [
       "  pdb_id pdb_chain pdb_mutation uniprot_id uniprot_mutation pfam_id  ddg_exp  partner_pdb_chain  partner_uniprot_id                                           pdb_file\n",
       "0   107l         A       A_G44S       None             None    None    -0.53                NaN                 NaN  /home/kimlab1/database_data/pdb/data/data/stru...\n",
       "1   160l         A      A_A120M       None             None    None    -0.20                NaN                 NaN  /home/kimlab1/database_data/pdb/data/data/stru...\n",
       "2   161l         A      A_A116N       None             None    None     0.17                NaN                 NaN  /home/kimlab1/database_data/pdb/data/data/stru...\n",
       "3   162l         A      A_A122Q       None             None    None    -0.24                NaN                 NaN  /home/kimlab1/database_data/pdb/data/data/stru...\n",
       "4   163l         A      A_A123Q       None             None    None    -0.22                NaN                 NaN  /home/kimlab1/database_data/pdb/data/data/stru..."
      ]
     },
     "metadata": {},
     "output_type": "display_data"
    },
    {
     "name": "stdout",
     "output_type": "stream",
     "text": [
      "3612\n"
     ]
    }
   ],
   "source": [
    "display(DF_TO_CALCULATE.head())\n",
    "print(DF_TO_CALCULATE.shape[0])"
   ]
  },
  {
   "cell_type": "code",
   "execution_count": 22,
   "metadata": {
    "collapsed": false,
    "run_control": {
     "marked": false
    }
   },
   "outputs": [],
   "source": [
    "DF_TO_CALCULATE['system_command'] = (\n",
    "    DF_TO_CALCULATE.apply(\n",
    "        lambda x: SYSTEM_COMMAND_TEMPLATE.format(\n",
    "            tempdir=op.abspath(op.join(NOTEBOOK_NAME, JOB_NAME, x['pdb_id'].lower())),\n",
    "            pdb_file=x['pdb_file'],\n",
    "            mutation=x['pdb_mutation']),\n",
    "        axis=1)\n",
    ")"
   ]
  },
  {
   "cell_type": "code",
   "execution_count": 23,
   "metadata": {
    "collapsed": false,
    "run_control": {
     "marked": false
    }
   },
   "outputs": [
    {
     "data": {
      "text/html": [
       "<div>\n",
       "<table border=\"1\" class=\"dataframe\">\n",
       "  <thead>\n",
       "    <tr style=\"text-align: right;\">\n",
       "      <th></th>\n",
       "      <th>pdb_id</th>\n",
       "      <th>pdb_chain</th>\n",
       "      <th>pdb_mutation</th>\n",
       "      <th>uniprot_id</th>\n",
       "      <th>uniprot_mutation</th>\n",
       "      <th>pfam_id</th>\n",
       "      <th>ddg_exp</th>\n",
       "      <th>partner_pdb_chain</th>\n",
       "      <th>partner_uniprot_id</th>\n",
       "      <th>pdb_file</th>\n",
       "      <th>system_command</th>\n",
       "    </tr>\n",
       "  </thead>\n",
       "  <tbody>\n",
       "    <tr>\n",
       "      <th>0</th>\n",
       "      <td>107l</td>\n",
       "      <td>A</td>\n",
       "      <td>A_G44S</td>\n",
       "      <td>None</td>\n",
       "      <td>None</td>\n",
       "      <td>None</td>\n",
       "      <td>-0.53</td>\n",
       "      <td>NaN</td>\n",
       "      <td>NaN</td>\n",
       "      <td>/home/kimlab1/database_data/pdb/data/data/stru...</td>\n",
       "      <td>mkdir -p '/home/kimlab1/database_data/biodb/re...</td>\n",
       "    </tr>\n",
       "    <tr>\n",
       "      <th>1</th>\n",
       "      <td>160l</td>\n",
       "      <td>A</td>\n",
       "      <td>A_A120M</td>\n",
       "      <td>None</td>\n",
       "      <td>None</td>\n",
       "      <td>None</td>\n",
       "      <td>-0.20</td>\n",
       "      <td>NaN</td>\n",
       "      <td>NaN</td>\n",
       "      <td>/home/kimlab1/database_data/pdb/data/data/stru...</td>\n",
       "      <td>mkdir -p '/home/kimlab1/database_data/biodb/re...</td>\n",
       "    </tr>\n",
       "    <tr>\n",
       "      <th>2</th>\n",
       "      <td>161l</td>\n",
       "      <td>A</td>\n",
       "      <td>A_A116N</td>\n",
       "      <td>None</td>\n",
       "      <td>None</td>\n",
       "      <td>None</td>\n",
       "      <td>0.17</td>\n",
       "      <td>NaN</td>\n",
       "      <td>NaN</td>\n",
       "      <td>/home/kimlab1/database_data/pdb/data/data/stru...</td>\n",
       "      <td>mkdir -p '/home/kimlab1/database_data/biodb/re...</td>\n",
       "    </tr>\n",
       "    <tr>\n",
       "      <th>3</th>\n",
       "      <td>162l</td>\n",
       "      <td>A</td>\n",
       "      <td>A_A122Q</td>\n",
       "      <td>None</td>\n",
       "      <td>None</td>\n",
       "      <td>None</td>\n",
       "      <td>-0.24</td>\n",
       "      <td>NaN</td>\n",
       "      <td>NaN</td>\n",
       "      <td>/home/kimlab1/database_data/pdb/data/data/stru...</td>\n",
       "      <td>mkdir -p '/home/kimlab1/database_data/biodb/re...</td>\n",
       "    </tr>\n",
       "    <tr>\n",
       "      <th>4</th>\n",
       "      <td>163l</td>\n",
       "      <td>A</td>\n",
       "      <td>A_A123Q</td>\n",
       "      <td>None</td>\n",
       "      <td>None</td>\n",
       "      <td>None</td>\n",
       "      <td>-0.22</td>\n",
       "      <td>NaN</td>\n",
       "      <td>NaN</td>\n",
       "      <td>/home/kimlab1/database_data/pdb/data/data/stru...</td>\n",
       "      <td>mkdir -p '/home/kimlab1/database_data/biodb/re...</td>\n",
       "    </tr>\n",
       "  </tbody>\n",
       "</table>\n",
       "</div>"
      ],
      "text/plain": [
       "  pdb_id pdb_chain pdb_mutation uniprot_id uniprot_mutation pfam_id  ddg_exp  partner_pdb_chain  partner_uniprot_id                                           pdb_file                                     system_command\n",
       "0   107l         A       A_G44S       None             None    None    -0.53                NaN                 NaN  /home/kimlab1/database_data/pdb/data/data/stru...  mkdir -p '/home/kimlab1/database_data/biodb/re...\n",
       "1   160l         A      A_A120M       None             None    None    -0.20                NaN                 NaN  /home/kimlab1/database_data/pdb/data/data/stru...  mkdir -p '/home/kimlab1/database_data/biodb/re...\n",
       "2   161l         A      A_A116N       None             None    None     0.17                NaN                 NaN  /home/kimlab1/database_data/pdb/data/data/stru...  mkdir -p '/home/kimlab1/database_data/biodb/re...\n",
       "3   162l         A      A_A122Q       None             None    None    -0.24                NaN                 NaN  /home/kimlab1/database_data/pdb/data/data/stru...  mkdir -p '/home/kimlab1/database_data/biodb/re...\n",
       "4   163l         A      A_A123Q       None             None    None    -0.22                NaN                 NaN  /home/kimlab1/database_data/pdb/data/data/stru...  mkdir -p '/home/kimlab1/database_data/biodb/re..."
      ]
     },
     "metadata": {},
     "output_type": "display_data"
    },
    {
     "name": "stdout",
     "output_type": "stream",
     "text": [
      "3612\n"
     ]
    }
   ],
   "source": [
    "display(DF_TO_CALCULATE.head())\n",
    "print(DF_TO_CALCULATE.shape[0])"
   ]
  },
  {
   "cell_type": "code",
   "execution_count": 24,
   "metadata": {
    "collapsed": false,
    "run_control": {
     "marked": false
    }
   },
   "outputs": [
    {
     "data": {
      "text/plain": [
       "\"mkdir -p '/home/kimlab1/database_data/biodb/recipes/elaspic_training_set/notebooks/elaspic_standalone/protherm_star_2/107l' && cd '/home/kimlab1/database_data/biodb/recipes/elaspic_training_set/notebooks/elaspic_standalone/protherm_star_2/107l' && elaspic run -p '/home/kimlab1/database_data/pdb/data/data/structures/all/pdb/pdb107l.ent.gz' -t 'mutation' -m 'A_G44S' -n 1 -vvv     --pdb_dir='/home/kimlab1/database_data/pdb/data/data/structures/all/pdb/'     --blast_db_dir='/home/strokach/databases/blast/db'     --archive_dir='/home/kimlab1/database_data/elaspic_v2/'\\n\""
      ]
     },
     "execution_count": 24,
     "metadata": {},
     "output_type": "execute_result"
    }
   ],
   "source": [
    "DF_TO_CALCULATE.loc[0, 'system_command']"
   ]
  },
  {
   "cell_type": "raw",
   "metadata": {},
   "source": [
    "!{DF_TO_CALCULATE.loc[0, 'system_command']}"
   ]
  },
  {
   "cell_type": "markdown",
   "metadata": {
    "run_control": {
     "marked": false
    }
   },
   "source": [
    "## QSUB"
   ]
  },
  {
   "cell_type": "code",
   "execution_count": 25,
   "metadata": {
    "collapsed": true
   },
   "outputs": [],
   "source": [
    "PATH = (\n",
    "    '/home/kimlab1/strokach/anaconda/bin:/usr/local/bin:/bin:/usr/bin:/usr/local/sbin:/usr/sbin:/sbin'\n",
    ")"
   ]
  },
  {
   "cell_type": "raw",
   "metadata": {
    "collapsed": false,
    "run_control": {
     "marked": false
    }
   },
   "source": [
    "js = jobsubmitter.JobSubmitter(\n",
    "    JOB_NAME,\n",
    "    'pbs://:@192.168.233.150',\n",
    "    op.abspath(NOTEBOOK_NAME),\n",
    "    force_new_folder=False,\n",
    "    email='ostrokach@gmail.com',\n",
    "    nproc=1, queue='medium', walltime='8:00:00', mem='6G',\n",
    "    env={'PATH': PATH},\n",
    "    concurrent_job_limit=800,\n",
    ")"
   ]
  },
  {
   "cell_type": "code",
   "execution_count": 26,
   "metadata": {
    "collapsed": false
   },
   "outputs": [
    {
     "name": "stderr",
     "output_type": "stream",
     "text": [
      "Using an existing folder for log output. This is dangerous!!!\n"
     ]
    }
   ],
   "source": [
    "js = jobsubmitter.JobSubmitter(\n",
    "    JOB_NAME, \n",
    "    'sge://:@192.168.6.201', \n",
    "    op.abspath(NOTEBOOK_NAME),\n",
    "    force_new_folder=False,\n",
    "    email='ostrokach@gmail.com', \n",
    "    nproc=1, queue='medium', walltime='8:00:00', mem='6G',\n",
    "    env={'PATH': PATH},\n",
    ")"
   ]
  },
  {
   "cell_type": "code",
   "execution_count": 27,
   "metadata": {
    "collapsed": false,
    "run_control": {
     "marked": false
    }
   },
   "outputs": [
    {
     "data": {
      "text/plain": [
       "'protherm_star_2'"
      ]
     },
     "execution_count": 27,
     "metadata": {},
     "output_type": "execute_result"
    }
   ],
   "source": [
    "js.job_name"
   ]
  },
  {
   "cell_type": "code",
   "execution_count": 28,
   "metadata": {
    "collapsed": false,
    "run_control": {
     "marked": false
    }
   },
   "outputs": [
    {
     "data": {
      "text/plain": [
       "[['107l',\n",
       "  \"mkdir -p '/home/kimlab1/database_data/biodb/recipes/elaspic_training_set/notebooks/elaspic_standalone/protherm_star_2/107l' && cd '/home/kimlab1/database_data/biodb/recipes/elaspic_training_set/notebooks/elaspic_standalone/protherm_star_2/107l' && elaspic run -p '/home/kimlab1/database_data/pdb/data/data/structures/all/pdb/pdb107l.ent.gz' -t 'mutation' -m 'A_G44S' -n 1 -vvv     --pdb_dir='/home/kimlab1/database_data/pdb/data/data/structures/all/pdb/'     --blast_db_dir='/home/strokach/databases/blast/db'     --archive_dir='/home/kimlab1/database_data/elaspic_v2/'\\n\"]]"
      ]
     },
     "execution_count": 28,
     "metadata": {},
     "output_type": "execute_result"
    }
   ],
   "source": [
    "DF_TO_CALCULATE[['pdb_id', 'system_command']].values.tolist()[:1]"
   ]
  },
  {
   "cell_type": "raw",
   "metadata": {
    "collapsed": true,
    "run_control": {
     "marked": false
    }
   },
   "source": [
    "if RUN_STAGE == 1:\n",
    "    with js.connect():\n",
    "        js.submit(DF_TO_CALCULATE[['pdb_id', 'system_command']].values.tolist())"
   ]
  },
  {
   "cell_type": "raw",
   "metadata": {
    "collapsed": true
   },
   "source": [
    "if RUN_STAGE == 2:\n",
    "    with js.connect():\n",
    "        js.submit(DF_TO_CALCULATE.reset_index()[['index', 'system_command']].values.tolist())"
   ]
  },
  {
   "cell_type": "markdown",
   "metadata": {
    "collapsed": true,
    "run_control": {
     "marked": false
    }
   },
   "source": [
    "## Resubmit failed"
   ]
  },
  {
   "cell_type": "code",
   "execution_count": 29,
   "metadata": {
    "collapsed": false
   },
   "outputs": [
    {
     "data": {
      "text/plain": [
       "2"
      ]
     },
     "execution_count": 29,
     "metadata": {},
     "output_type": "execute_result"
    }
   ],
   "source": [
    "RUN_STAGE"
   ]
  },
  {
   "cell_type": "code",
   "execution_count": 30,
   "metadata": {
    "collapsed": false,
    "run_control": {
     "marked": false
    }
   },
   "outputs": [
    {
     "name": "stdout",
     "output_type": "stream",
     "text": [
      "Counter({'misformed output': 3606, 'error': 6})\n"
     ]
    }
   ],
   "source": [
    "# Get job status\n",
    "if RUN_STAGE == 1:\n",
    "    results_df = js.job_status(DF_TO_CALCULATE[['pdb_id', 'system_command']].values.tolist())\n",
    "elif RUN_STAGE == 2:\n",
    "    results_df = js.job_status(DF_TO_CALCULATE.reset_index()[['index', 'system_command']].values.tolist())\n",
    "\n",
    "print(Counter(results_df['status']))"
   ]
  },
  {
   "cell_type": "code",
   "execution_count": 31,
   "metadata": {
    "collapsed": false,
    "run_control": {
     "marked": false
    },
    "scrolled": true
   },
   "outputs": [
    {
     "data": {
      "text/html": [
       "<div>\n",
       "<table border=\"1\" class=\"dataframe\">\n",
       "  <thead>\n",
       "    <tr style=\"text-align: right;\">\n",
       "      <th></th>\n",
       "      <th>job_id</th>\n",
       "      <th>status</th>\n",
       "      <th>system_command</th>\n",
       "    </tr>\n",
       "  </thead>\n",
       "  <tbody>\n",
       "    <tr>\n",
       "      <th>3607</th>\n",
       "      <td>3631</td>\n",
       "      <td>misformed output</td>\n",
       "      <td>mkdir -p '/home/kimlab1/database_data/biodb/re...</td>\n",
       "    </tr>\n",
       "    <tr>\n",
       "      <th>3608</th>\n",
       "      <td>3632</td>\n",
       "      <td>misformed output</td>\n",
       "      <td>mkdir -p '/home/kimlab1/database_data/biodb/re...</td>\n",
       "    </tr>\n",
       "    <tr>\n",
       "      <th>3609</th>\n",
       "      <td>3633</td>\n",
       "      <td>misformed output</td>\n",
       "      <td>mkdir -p '/home/kimlab1/database_data/biodb/re...</td>\n",
       "    </tr>\n",
       "    <tr>\n",
       "      <th>3610</th>\n",
       "      <td>3634</td>\n",
       "      <td>misformed output</td>\n",
       "      <td>mkdir -p '/home/kimlab1/database_data/biodb/re...</td>\n",
       "    </tr>\n",
       "    <tr>\n",
       "      <th>3611</th>\n",
       "      <td>3635</td>\n",
       "      <td>misformed output</td>\n",
       "      <td>mkdir -p '/home/kimlab1/database_data/biodb/re...</td>\n",
       "    </tr>\n",
       "  </tbody>\n",
       "</table>\n",
       "</div>"
      ],
      "text/plain": [
       "      job_id            status                                     system_command\n",
       "3607    3631  misformed output  mkdir -p '/home/kimlab1/database_data/biodb/re...\n",
       "3608    3632  misformed output  mkdir -p '/home/kimlab1/database_data/biodb/re...\n",
       "3609    3633  misformed output  mkdir -p '/home/kimlab1/database_data/biodb/re...\n",
       "3610    3634  misformed output  mkdir -p '/home/kimlab1/database_data/biodb/re...\n",
       "3611    3635  misformed output  mkdir -p '/home/kimlab1/database_data/biodb/re..."
      ]
     },
     "execution_count": 31,
     "metadata": {},
     "output_type": "execute_result"
    }
   ],
   "source": [
    "results_df.tail()"
   ]
  },
  {
   "cell_type": "code",
   "execution_count": 32,
   "metadata": {
    "collapsed": true
   },
   "outputs": [],
   "source": [
    "system_commands_remaining = results_df[results_df['status'].isin(['error', 'missing'])]"
   ]
  },
  {
   "cell_type": "code",
   "execution_count": 33,
   "metadata": {
    "collapsed": false
   },
   "outputs": [
    {
     "data": {
      "text/html": [
       "<div>\n",
       "<table border=\"1\" class=\"dataframe\">\n",
       "  <thead>\n",
       "    <tr style=\"text-align: right;\">\n",
       "      <th></th>\n",
       "      <th>job_id</th>\n",
       "      <th>status</th>\n",
       "      <th>system_command</th>\n",
       "    </tr>\n",
       "  </thead>\n",
       "  <tbody>\n",
       "    <tr>\n",
       "      <th>1451</th>\n",
       "      <td>1474</td>\n",
       "      <td>error</td>\n",
       "      <td>mkdir -p '/home/kimlab1/database_data/biodb/re...</td>\n",
       "    </tr>\n",
       "    <tr>\n",
       "      <th>1452</th>\n",
       "      <td>1475</td>\n",
       "      <td>error</td>\n",
       "      <td>mkdir -p '/home/kimlab1/database_data/biodb/re...</td>\n",
       "    </tr>\n",
       "    <tr>\n",
       "      <th>1453</th>\n",
       "      <td>1476</td>\n",
       "      <td>error</td>\n",
       "      <td>mkdir -p '/home/kimlab1/database_data/biodb/re...</td>\n",
       "    </tr>\n",
       "    <tr>\n",
       "      <th>1455</th>\n",
       "      <td>1478</td>\n",
       "      <td>error</td>\n",
       "      <td>mkdir -p '/home/kimlab1/database_data/biodb/re...</td>\n",
       "    </tr>\n",
       "    <tr>\n",
       "      <th>1457</th>\n",
       "      <td>1480</td>\n",
       "      <td>error</td>\n",
       "      <td>mkdir -p '/home/kimlab1/database_data/biodb/re...</td>\n",
       "    </tr>\n",
       "  </tbody>\n",
       "</table>\n",
       "</div>"
      ],
      "text/plain": [
       "      job_id status                                     system_command\n",
       "1451    1474  error  mkdir -p '/home/kimlab1/database_data/biodb/re...\n",
       "1452    1475  error  mkdir -p '/home/kimlab1/database_data/biodb/re...\n",
       "1453    1476  error  mkdir -p '/home/kimlab1/database_data/biodb/re...\n",
       "1455    1478  error  mkdir -p '/home/kimlab1/database_data/biodb/re...\n",
       "1457    1480  error  mkdir -p '/home/kimlab1/database_data/biodb/re..."
      ]
     },
     "execution_count": 33,
     "metadata": {},
     "output_type": "execute_result"
    }
   ],
   "source": [
    "system_commands_remaining.head()"
   ]
  },
  {
   "cell_type": "raw",
   "metadata": {
    "collapsed": false
   },
   "source": [
    "assert system_commands_remaining.empty"
   ]
  },
  {
   "cell_type": "code",
   "execution_count": 34,
   "metadata": {
    "collapsed": false
   },
   "outputs": [
    {
     "name": "stdout",
     "output_type": "stream",
     "text": [
      "/bin/sh: 1: {system_commands_remaining.loc[0,: not found\r\n"
     ]
    }
   ],
   "source": [
    "!{system_commands_remaining.loc[0, 'system_command']}"
   ]
  },
  {
   "cell_type": "code",
   "execution_count": 35,
   "metadata": {
    "collapsed": true
   },
   "outputs": [],
   "source": [
    "with js.connect():\n",
    "    js.submit(system_commands_remaining[['job_id', 'system_command']].values.tolist())"
   ]
  },
  {
   "cell_type": "markdown",
   "metadata": {
    "collapsed": true,
    "run_control": {
     "marked": false
    }
   },
   "source": [
    "# Results"
   ]
  },
  {
   "cell_type": "markdown",
   "metadata": {
    "collapsed": true,
    "run_control": {
     "marked": false
    }
   },
   "source": [
    "## Read results"
   ]
  },
  {
   "cell_type": "code",
   "execution_count": 36,
   "metadata": {
    "collapsed": false,
    "run_control": {
     "marked": false
    }
   },
   "outputs": [
    {
     "name": "stdout",
     "output_type": "stream",
     "text": [
      "0.err\r\n",
      "0.out\r\n",
      "1000.err\r\n",
      "1000.out\r\n",
      "1001.err\r\n",
      "1001.out\r\n",
      "1002.err\r\n",
      "1002.out\r\n",
      "1003.err\r\n",
      "1003.out\r\n",
      "ls: write error\r\n"
     ]
    }
   ],
   "source": [
    "ls $NOTEBOOK_NAME/$JOB_NAME/ | head"
   ]
  },
  {
   "cell_type": "code",
   "execution_count": 37,
   "metadata": {
    "code_folding": [],
    "collapsed": false,
    "run_control": {
     "marked": false
    }
   },
   "outputs": [],
   "source": [
    "def load_json(file):\n",
    "    try:\n",
    "        ifh = open(file, 'rt')\n",
    "    except FileNotFoundError:\n",
    "        data = np.nan\n",
    "    else:\n",
    "        data = json.load(ifh)\n",
    "        ifh.close()\n",
    "    return data\n",
    "\n",
    "        \n",
    "DF_TO_CALCULATE['mutation_json'] = [\n",
    "    load_json(op.join(NOTEBOOK_NAME, JOB_NAME, x[0].lower(), '.elaspic', 'mutation_{}.json'.format(x[1])))\n",
    "    for x in DF_TO_CALCULATE[['pdb_id', 'pdb_mutation']].values\n",
    "]"
   ]
  },
  {
   "cell_type": "code",
   "execution_count": 38,
   "metadata": {
    "collapsed": false,
    "run_control": {
     "marked": false
    },
    "scrolled": true
   },
   "outputs": [
    {
     "data": {
      "text/html": [
       "<div>\n",
       "<table border=\"1\" class=\"dataframe\">\n",
       "  <thead>\n",
       "    <tr style=\"text-align: right;\">\n",
       "      <th></th>\n",
       "      <th>pdb_id</th>\n",
       "      <th>pdb_chain</th>\n",
       "      <th>pdb_mutation</th>\n",
       "      <th>uniprot_id</th>\n",
       "      <th>uniprot_mutation</th>\n",
       "      <th>pfam_id</th>\n",
       "      <th>ddg_exp</th>\n",
       "      <th>partner_pdb_chain</th>\n",
       "      <th>partner_uniprot_id</th>\n",
       "      <th>pdb_file</th>\n",
       "      <th>system_command</th>\n",
       "      <th>mutation_json</th>\n",
       "    </tr>\n",
       "  </thead>\n",
       "  <tbody>\n",
       "    <tr>\n",
       "      <th>0</th>\n",
       "      <td>107l</td>\n",
       "      <td>A</td>\n",
       "      <td>A_G44S</td>\n",
       "      <td>None</td>\n",
       "      <td>None</td>\n",
       "      <td>None</td>\n",
       "      <td>-0.53</td>\n",
       "      <td>NaN</td>\n",
       "      <td>NaN</td>\n",
       "      <td>/home/kimlab1/database_data/pdb/data/data/stru...</td>\n",
       "      <td>mkdir -p '/home/kimlab1/database_data/biodb/re...</td>\n",
       "      <td>[{'norm_dope': -2.0018329171607454, 'alignment...</td>\n",
       "    </tr>\n",
       "    <tr>\n",
       "      <th>1</th>\n",
       "      <td>160l</td>\n",
       "      <td>A</td>\n",
       "      <td>A_A120M</td>\n",
       "      <td>None</td>\n",
       "      <td>None</td>\n",
       "      <td>None</td>\n",
       "      <td>-0.20</td>\n",
       "      <td>NaN</td>\n",
       "      <td>NaN</td>\n",
       "      <td>/home/kimlab1/database_data/pdb/data/data/stru...</td>\n",
       "      <td>mkdir -p '/home/kimlab1/database_data/biodb/re...</td>\n",
       "      <td>[{'norm_dope': -1.9925931570468185, 'alignment...</td>\n",
       "    </tr>\n",
       "    <tr>\n",
       "      <th>2</th>\n",
       "      <td>161l</td>\n",
       "      <td>A</td>\n",
       "      <td>A_A116N</td>\n",
       "      <td>None</td>\n",
       "      <td>None</td>\n",
       "      <td>None</td>\n",
       "      <td>0.17</td>\n",
       "      <td>NaN</td>\n",
       "      <td>NaN</td>\n",
       "      <td>/home/kimlab1/database_data/pdb/data/data/stru...</td>\n",
       "      <td>mkdir -p '/home/kimlab1/database_data/biodb/re...</td>\n",
       "      <td>[{'norm_dope': -1.9343246663978828, 'alignment...</td>\n",
       "    </tr>\n",
       "    <tr>\n",
       "      <th>3</th>\n",
       "      <td>162l</td>\n",
       "      <td>A</td>\n",
       "      <td>A_A122Q</td>\n",
       "      <td>None</td>\n",
       "      <td>None</td>\n",
       "      <td>None</td>\n",
       "      <td>-0.24</td>\n",
       "      <td>NaN</td>\n",
       "      <td>NaN</td>\n",
       "      <td>/home/kimlab1/database_data/pdb/data/data/stru...</td>\n",
       "      <td>mkdir -p '/home/kimlab1/database_data/biodb/re...</td>\n",
       "      <td>[{'norm_dope': -1.8505366413567899, 'alignment...</td>\n",
       "    </tr>\n",
       "    <tr>\n",
       "      <th>4</th>\n",
       "      <td>163l</td>\n",
       "      <td>A</td>\n",
       "      <td>A_A123Q</td>\n",
       "      <td>None</td>\n",
       "      <td>None</td>\n",
       "      <td>None</td>\n",
       "      <td>-0.22</td>\n",
       "      <td>NaN</td>\n",
       "      <td>NaN</td>\n",
       "      <td>/home/kimlab1/database_data/pdb/data/data/stru...</td>\n",
       "      <td>mkdir -p '/home/kimlab1/database_data/biodb/re...</td>\n",
       "      <td>[{'norm_dope': -1.9602884955037838, 'alignment...</td>\n",
       "    </tr>\n",
       "  </tbody>\n",
       "</table>\n",
       "</div>"
      ],
      "text/plain": [
       "  pdb_id pdb_chain pdb_mutation uniprot_id uniprot_mutation pfam_id  ddg_exp  partner_pdb_chain  partner_uniprot_id                                           pdb_file                                     system_command                                      mutation_json\n",
       "0   107l         A       A_G44S       None             None    None    -0.53                NaN                 NaN  /home/kimlab1/database_data/pdb/data/data/stru...  mkdir -p '/home/kimlab1/database_data/biodb/re...  [{'norm_dope': -2.0018329171607454, 'alignment...\n",
       "1   160l         A      A_A120M       None             None    None    -0.20                NaN                 NaN  /home/kimlab1/database_data/pdb/data/data/stru...  mkdir -p '/home/kimlab1/database_data/biodb/re...  [{'norm_dope': -1.9925931570468185, 'alignment...\n",
       "2   161l         A      A_A116N       None             None    None     0.17                NaN                 NaN  /home/kimlab1/database_data/pdb/data/data/stru...  mkdir -p '/home/kimlab1/database_data/biodb/re...  [{'norm_dope': -1.9343246663978828, 'alignment...\n",
       "3   162l         A      A_A122Q       None             None    None    -0.24                NaN                 NaN  /home/kimlab1/database_data/pdb/data/data/stru...  mkdir -p '/home/kimlab1/database_data/biodb/re...  [{'norm_dope': -1.8505366413567899, 'alignment...\n",
       "4   163l         A      A_A123Q       None             None    None    -0.22                NaN                 NaN  /home/kimlab1/database_data/pdb/data/data/stru...  mkdir -p '/home/kimlab1/database_data/biodb/re...  [{'norm_dope': -1.9602884955037838, 'alignment..."
      ]
     },
     "metadata": {},
     "output_type": "display_data"
    },
    {
     "name": "stdout",
     "output_type": "stream",
     "text": [
      "3612\n",
      "32\n"
     ]
    }
   ],
   "source": [
    "display(DF_TO_CALCULATE.head())\n",
    "print(DF_TO_CALCULATE.shape[0])\n",
    "print(DF_TO_CALCULATE['mutation_json'].isnull().sum())"
   ]
  },
  {
   "cell_type": "code",
   "execution_count": 39,
   "metadata": {
    "collapsed": false
   },
   "outputs": [
    {
     "data": {
      "text/plain": [
       "[{'alignment_coverage': 1.0,\n",
       "  'alignment_identity': 1.0,\n",
       "  'alignment_score': 1.0,\n",
       "  'chain_modeller': 'A',\n",
       "  'ddg': -0.7629896999436561,\n",
       "  'idx': 0,\n",
       "  'matrix_score': -1,\n",
       "  'model_file_mut': '/home/kimlab1/database_data/biodb/recipes/elaspic_training_set/notebooks/elaspic_standalone/protherm_star_2/107l/.elaspic/model/mutations/pdb107l.entA_0--G44S/pdb107l.entA_0--G44S-mut.pdb',\n",
       "  'model_file_wt': '/home/kimlab1/database_data/biodb/recipes/elaspic_training_set/notebooks/elaspic_standalone/protherm_star_2/107l/.elaspic/model/mutations/pdb107l.entA_0--G44S/pdb107l.entA_0--G44S-wt.pdb',\n",
       "  'mutation': 'G44S',\n",
       "  'mutation_errors': '',\n",
       "  'mutation_modeller': 'G44S',\n",
       "  'norm_dope': -2.0018329171607454,\n",
       "  'physchem_mut': '0,0,0,0',\n",
       "  'physchem_mut_ownchain': '0,0,3,18',\n",
       "  'physchem_wt': '0,0,0,0',\n",
       "  'physchem_wt_ownchain': '0,0,0,0',\n",
       "  'provean_score': 3.145,\n",
       "  'secondary_structure_mut': 'H',\n",
       "  'secondary_structure_wt': 'H',\n",
       "  'solvent_accessibility_mut': 40.80781115879829,\n",
       "  'solvent_accessibility_wt': 33.61560549313358,\n",
       "  'stability_energy_mut': '1.05483,-123.522,-45.9071,-191.216,-7.16952,254.646,-253.256,15.2605,102.746,237.476,0,0,0,17.4661,155.153,-5.55727,0,0,0,0,0.0880626,0,162',\n",
       "  'stability_energy_wt': '1.73694,-122.908,-45.2756,-190.703,-7.1521,253.6,-252.928,15.2311,102.126,237.75,0,0,0,17.4653,154.702,-5.55727,0,0,0,0,0.0880626,0,162'}]"
      ]
     },
     "execution_count": 39,
     "metadata": {},
     "output_type": "execute_result"
    }
   ],
   "source": [
    "DF_TO_CALCULATE.loc[0, 'mutation_json']"
   ]
  },
  {
   "cell_type": "markdown",
   "metadata": {
    "collapsed": true,
    "run_control": {
     "marked": false
    }
   },
   "source": [
    "## PDB chain mapping"
   ]
  },
  {
   "cell_type": "code",
   "execution_count": 40,
   "metadata": {
    "collapsed": true,
    "run_control": {
     "marked": false
    }
   },
   "outputs": [],
   "source": [
    "tempdir = tempfile.mkdtemp()"
   ]
  },
  {
   "cell_type": "code",
   "execution_count": 41,
   "metadata": {
    "collapsed": false,
    "run_control": {
     "marked": false
    }
   },
   "outputs": [
    {
     "name": "stdout",
     "output_type": "stream",
     "text": [
      "/tmp/strokach/tmp106wnspr\n"
     ]
    }
   ],
   "source": [
    "print(tempdir)"
   ]
  },
  {
   "cell_type": "code",
   "execution_count": 42,
   "metadata": {
    "collapsed": false,
    "run_control": {
     "marked": false
    }
   },
   "outputs": [],
   "source": [
    "for (pdb_id, pdb_file) in DF_TO_CALCULATE[['pdb_id', 'pdb_file']].drop_duplicates().values:\n",
    "    with gzip.open(pdb_file) as ifh:\n",
    "        with open(op.join(tempdir, '{}.pdb'.format(pdb_id)), 'wb') as ofh:\n",
    "            ofh.write(ifh.read())"
   ]
  },
  {
   "cell_type": "code",
   "execution_count": 43,
   "metadata": {
    "collapsed": false,
    "run_control": {
     "marked": false
    }
   },
   "outputs": [],
   "source": [
    "sps = {}\n",
    "for (pdb_id, pdb_file) in DF_TO_CALCULATE[['pdb_id', 'pdb_file']].drop_duplicates().values:\n",
    "    sp = elaspic.structure_tools.StructureParser(op.join(tempdir, pdb_id + '.pdb'))\n",
    "    sp.extract()\n",
    "    sps[pdb_id] = sp"
   ]
  },
  {
   "cell_type": "code",
   "execution_count": 44,
   "metadata": {
    "collapsed": true,
    "run_control": {
     "marked": false
    }
   },
   "outputs": [],
   "source": [
    "pdb_idx2chain = {}\n",
    "pdb_chain2idx = {}\n",
    "for pdb_id, sp in sps.items():\n",
    "    pdb_idx2chain[pdb_id] = {i: chain_id for i, chain_id in enumerate(sp.chain_ids)}\n",
    "    pdb_chain2idx[pdb_id] = {chain_id: i for i, chain_id in enumerate(sp.chain_ids)}"
   ]
  },
  {
   "cell_type": "markdown",
   "metadata": {},
   "source": [
    "## Core mutation features"
   ]
  },
  {
   "cell_type": "code",
   "execution_count": 45,
   "metadata": {
    "collapsed": false
   },
   "outputs": [
    {
     "data": {
      "text/html": [
       "<div>\n",
       "<table border=\"1\" class=\"dataframe\">\n",
       "  <thead>\n",
       "    <tr style=\"text-align: right;\">\n",
       "      <th></th>\n",
       "      <th>pdb_id</th>\n",
       "      <th>pdb_chain</th>\n",
       "      <th>pdb_mutation</th>\n",
       "      <th>uniprot_id</th>\n",
       "      <th>uniprot_mutation</th>\n",
       "      <th>pfam_id</th>\n",
       "      <th>ddg_exp</th>\n",
       "      <th>partner_pdb_chain</th>\n",
       "      <th>partner_uniprot_id</th>\n",
       "      <th>pdb_file</th>\n",
       "      <th>system_command</th>\n",
       "      <th>mutation_json</th>\n",
       "    </tr>\n",
       "  </thead>\n",
       "  <tbody>\n",
       "    <tr>\n",
       "      <th>3631</th>\n",
       "      <td>5cro</td>\n",
       "      <td>A</td>\n",
       "      <td>A_Y26H</td>\n",
       "      <td>P03040</td>\n",
       "      <td>Y26H</td>\n",
       "      <td>PF09048</td>\n",
       "      <td>-1.9</td>\n",
       "      <td>NaN</td>\n",
       "      <td>NaN</td>\n",
       "      <td>/home/kimlab1/database_data/pdb/data/data/stru...</td>\n",
       "      <td>mkdir -p '/home/kimlab1/database_data/biodb/re...</td>\n",
       "      <td>[{'norm_dope': -0.7823058193098019, 'alignment...</td>\n",
       "    </tr>\n",
       "    <tr>\n",
       "      <th>3632</th>\n",
       "      <td>5cro</td>\n",
       "      <td>A</td>\n",
       "      <td>A_Y26L</td>\n",
       "      <td>P03040</td>\n",
       "      <td>Y26L</td>\n",
       "      <td>PF09048</td>\n",
       "      <td>-1.1</td>\n",
       "      <td>NaN</td>\n",
       "      <td>NaN</td>\n",
       "      <td>/home/kimlab1/database_data/pdb/data/data/stru...</td>\n",
       "      <td>mkdir -p '/home/kimlab1/database_data/biodb/re...</td>\n",
       "      <td>[{'norm_dope': -0.7823058193098019, 'alignment...</td>\n",
       "    </tr>\n",
       "    <tr>\n",
       "      <th>3633</th>\n",
       "      <td>5cro</td>\n",
       "      <td>A</td>\n",
       "      <td>A_Y26Q</td>\n",
       "      <td>P03040</td>\n",
       "      <td>Y26Q</td>\n",
       "      <td>PF09048</td>\n",
       "      <td>-1.4</td>\n",
       "      <td>NaN</td>\n",
       "      <td>NaN</td>\n",
       "      <td>/home/kimlab1/database_data/pdb/data/data/stru...</td>\n",
       "      <td>mkdir -p '/home/kimlab1/database_data/biodb/re...</td>\n",
       "      <td>[{'norm_dope': -0.7823058193098019, 'alignment...</td>\n",
       "    </tr>\n",
       "    <tr>\n",
       "      <th>3634</th>\n",
       "      <td>5cro</td>\n",
       "      <td>A</td>\n",
       "      <td>A_Y26V</td>\n",
       "      <td>P03040</td>\n",
       "      <td>Y26V</td>\n",
       "      <td>PF09048</td>\n",
       "      <td>-0.9</td>\n",
       "      <td>NaN</td>\n",
       "      <td>NaN</td>\n",
       "      <td>/home/kimlab1/database_data/pdb/data/data/stru...</td>\n",
       "      <td>mkdir -p '/home/kimlab1/database_data/biodb/re...</td>\n",
       "      <td>[{'norm_dope': -0.7823058193098019, 'alignment...</td>\n",
       "    </tr>\n",
       "    <tr>\n",
       "      <th>3635</th>\n",
       "      <td>5cro</td>\n",
       "      <td>A</td>\n",
       "      <td>A_Y26W</td>\n",
       "      <td>P03040</td>\n",
       "      <td>Y26W</td>\n",
       "      <td>PF09048</td>\n",
       "      <td>0.1</td>\n",
       "      <td>NaN</td>\n",
       "      <td>NaN</td>\n",
       "      <td>/home/kimlab1/database_data/pdb/data/data/stru...</td>\n",
       "      <td>mkdir -p '/home/kimlab1/database_data/biodb/re...</td>\n",
       "      <td>[{'norm_dope': -0.7823058193098019, 'alignment...</td>\n",
       "    </tr>\n",
       "  </tbody>\n",
       "</table>\n",
       "</div>"
      ],
      "text/plain": [
       "     pdb_id pdb_chain pdb_mutation uniprot_id uniprot_mutation  pfam_id  ddg_exp  partner_pdb_chain  partner_uniprot_id                                           pdb_file                                     system_command                                      mutation_json\n",
       "3631   5cro         A       A_Y26H     P03040             Y26H  PF09048     -1.9                NaN                 NaN  /home/kimlab1/database_data/pdb/data/data/stru...  mkdir -p '/home/kimlab1/database_data/biodb/re...  [{'norm_dope': -0.7823058193098019, 'alignment...\n",
       "3632   5cro         A       A_Y26L     P03040             Y26L  PF09048     -1.1                NaN                 NaN  /home/kimlab1/database_data/pdb/data/data/stru...  mkdir -p '/home/kimlab1/database_data/biodb/re...  [{'norm_dope': -0.7823058193098019, 'alignment...\n",
       "3633   5cro         A       A_Y26Q     P03040             Y26Q  PF09048     -1.4                NaN                 NaN  /home/kimlab1/database_data/pdb/data/data/stru...  mkdir -p '/home/kimlab1/database_data/biodb/re...  [{'norm_dope': -0.7823058193098019, 'alignment...\n",
       "3634   5cro         A       A_Y26V     P03040             Y26V  PF09048     -0.9                NaN                 NaN  /home/kimlab1/database_data/pdb/data/data/stru...  mkdir -p '/home/kimlab1/database_data/biodb/re...  [{'norm_dope': -0.7823058193098019, 'alignment...\n",
       "3635   5cro         A       A_Y26W     P03040             Y26W  PF09048      0.1                NaN                 NaN  /home/kimlab1/database_data/pdb/data/data/stru...  mkdir -p '/home/kimlab1/database_data/biodb/re...  [{'norm_dope': -0.7823058193098019, 'alignment..."
      ]
     },
     "execution_count": 45,
     "metadata": {},
     "output_type": "execute_result"
    }
   ],
   "source": [
    "DF_TO_CALCULATE.tail()"
   ]
  },
  {
   "cell_type": "code",
   "execution_count": 46,
   "metadata": {
    "collapsed": false
   },
   "outputs": [],
   "source": [
    "for idx, row in DF_TO_CALCULATE.dropna(subset=['mutation_json']).iterrows():\n",
    "    df = pd.DataFrame(row['mutation_json'])\n",
    "    if 'idxs' in df.columns:\n",
    "        df = df[df['idxs'].isnull()]\n",
    "    else:\n",
    "        df['mutation_in_interface'] = False\n",
    "    if len(df) > 1:\n",
    "        display(df)\n",
    "        break"
   ]
  },
  {
   "cell_type": "code",
   "execution_count": 47,
   "metadata": {
    "collapsed": false
   },
   "outputs": [],
   "source": [
    "def mutation_json_to_core_df(index, mutation_json):\n",
    "    df = pd.DataFrame(mutation_json)\n",
    "    if 'idxs' in df.columns:\n",
    "        df_interface = (\n",
    "            df[\n",
    "                df['idxs'].notnull() &\n",
    "                (df['contact_distance_wt'] < 6) &\n",
    "                (df['contact_distance_mut'] < 6)\n",
    "            ]\n",
    "        )\n",
    "        if not df_interface.empty:\n",
    "            df['mutation_in_interface'] = 1\n",
    "        else:\n",
    "            df['mutation_in_interface'] = 0\n",
    "        df = df[df['idxs'].isnull()]\n",
    "        assert len(df) == 1\n",
    "    else:\n",
    "        df['mutation_in_interface'] = 0\n",
    "    df.index = [index]\n",
    "    return df\n",
    "\n",
    "\n",
    "core_mutation_features = [\n",
    "    mutation_json_to_core_df(index, mutation_json)\n",
    "    for index, mutation_json \n",
    "    in DF_TO_CALCULATE.reset_index()[['index', 'mutation_json']].dropna().values\n",
    "]\n",
    "\n",
    "core_mutation_features_df = pd.concat(core_mutation_features)"
   ]
  },
  {
   "cell_type": "code",
   "execution_count": 48,
   "metadata": {
    "collapsed": false
   },
   "outputs": [
    {
     "data": {
      "text/plain": [
       "153"
      ]
     },
     "execution_count": 48,
     "metadata": {},
     "output_type": "execute_result"
    }
   ],
   "source": [
    "core_mutation_features_df['mutation_in_interface'].sum()"
   ]
  },
  {
   "cell_type": "code",
   "execution_count": 49,
   "metadata": {
    "collapsed": false
   },
   "outputs": [
    {
     "data": {
      "text/html": [
       "<div>\n",
       "<table border=\"1\" class=\"dataframe\">\n",
       "  <thead>\n",
       "    <tr style=\"text-align: right;\">\n",
       "      <th></th>\n",
       "      <th>alignment_coverage</th>\n",
       "      <th>alignment_identity</th>\n",
       "      <th>alignment_score</th>\n",
       "      <th>analyse_complex_energy_mut</th>\n",
       "      <th>analyse_complex_energy_wt</th>\n",
       "      <th>chain_modeller</th>\n",
       "      <th>contact_distance_mut</th>\n",
       "      <th>contact_distance_wt</th>\n",
       "      <th>ddg</th>\n",
       "      <th>idx</th>\n",
       "      <th>idxs</th>\n",
       "      <th>interface_area_hydrophilic</th>\n",
       "      <th>interface_area_hydrophobic</th>\n",
       "      <th>interface_area_total</th>\n",
       "      <th>matrix_score</th>\n",
       "      <th>model_file_mut</th>\n",
       "      <th>model_file_wt</th>\n",
       "      <th>mutation</th>\n",
       "      <th>mutation_errors</th>\n",
       "      <th>mutation_in_interface</th>\n",
       "      <th>mutation_modeller</th>\n",
       "      <th>norm_dope</th>\n",
       "      <th>physchem_mut</th>\n",
       "      <th>physchem_mut_ownchain</th>\n",
       "      <th>physchem_wt</th>\n",
       "      <th>physchem_wt_ownchain</th>\n",
       "      <th>provean_score</th>\n",
       "      <th>secondary_structure_mut</th>\n",
       "      <th>secondary_structure_wt</th>\n",
       "      <th>solvent_accessibility_mut</th>\n",
       "      <th>solvent_accessibility_wt</th>\n",
       "      <th>stability_energy_mut</th>\n",
       "      <th>stability_energy_wt</th>\n",
       "    </tr>\n",
       "  </thead>\n",
       "  <tbody>\n",
       "    <tr>\n",
       "      <th>0</th>\n",
       "      <td>1.0</td>\n",
       "      <td>1.0</td>\n",
       "      <td>1.0</td>\n",
       "      <td>NaN</td>\n",
       "      <td>NaN</td>\n",
       "      <td>A</td>\n",
       "      <td>NaN</td>\n",
       "      <td>NaN</td>\n",
       "      <td>-0.762990</td>\n",
       "      <td>0</td>\n",
       "      <td>NaN</td>\n",
       "      <td>NaN</td>\n",
       "      <td>NaN</td>\n",
       "      <td>NaN</td>\n",
       "      <td>-1</td>\n",
       "      <td>/home/kimlab1/database_data/biodb/recipes/elas...</td>\n",
       "      <td>/home/kimlab1/database_data/biodb/recipes/elas...</td>\n",
       "      <td>G44S</td>\n",
       "      <td></td>\n",
       "      <td>0</td>\n",
       "      <td>G44S</td>\n",
       "      <td>-2.001833</td>\n",
       "      <td>0,0,0,0</td>\n",
       "      <td>0,0,3,18</td>\n",
       "      <td>0,0,0,0</td>\n",
       "      <td>0,0,0,0</td>\n",
       "      <td>3.145</td>\n",
       "      <td>H</td>\n",
       "      <td>H</td>\n",
       "      <td>40.807811</td>\n",
       "      <td>33.615605</td>\n",
       "      <td>1.05483,-123.522,-45.9071,-191.216,-7.16952,25...</td>\n",
       "      <td>1.73694,-122.908,-45.2756,-190.703,-7.1521,253...</td>\n",
       "    </tr>\n",
       "    <tr>\n",
       "      <th>1</th>\n",
       "      <td>1.0</td>\n",
       "      <td>1.0</td>\n",
       "      <td>1.0</td>\n",
       "      <td>NaN</td>\n",
       "      <td>NaN</td>\n",
       "      <td>A</td>\n",
       "      <td>NaN</td>\n",
       "      <td>NaN</td>\n",
       "      <td>-1.683732</td>\n",
       "      <td>0</td>\n",
       "      <td>NaN</td>\n",
       "      <td>NaN</td>\n",
       "      <td>NaN</td>\n",
       "      <td>NaN</td>\n",
       "      <td>-1</td>\n",
       "      <td>/home/kimlab1/database_data/biodb/recipes/elas...</td>\n",
       "      <td>/home/kimlab1/database_data/biodb/recipes/elas...</td>\n",
       "      <td>A120M</td>\n",
       "      <td></td>\n",
       "      <td>0</td>\n",
       "      <td>A120M</td>\n",
       "      <td>-1.992593</td>\n",
       "      <td>0,0,0,0</td>\n",
       "      <td>0,0,0,37</td>\n",
       "      <td>0,0,0,0</td>\n",
       "      <td>0,0,0,27</td>\n",
       "      <td>4.550</td>\n",
       "      <td>H</td>\n",
       "      <td>H</td>\n",
       "      <td>16.565388</td>\n",
       "      <td>10.762297</td>\n",
       "      <td>-16.7144,-128.097,-46.7544,-192.124,-7.50993,2...</td>\n",
       "      <td>-15.5497,-127.91,-46.7544,-190.972,-7.6429,253...</td>\n",
       "    </tr>\n",
       "    <tr>\n",
       "      <th>2</th>\n",
       "      <td>1.0</td>\n",
       "      <td>1.0</td>\n",
       "      <td>1.0</td>\n",
       "      <td>NaN</td>\n",
       "      <td>NaN</td>\n",
       "      <td>A</td>\n",
       "      <td>NaN</td>\n",
       "      <td>NaN</td>\n",
       "      <td>-0.135820</td>\n",
       "      <td>0</td>\n",
       "      <td>NaN</td>\n",
       "      <td>NaN</td>\n",
       "      <td>NaN</td>\n",
       "      <td>NaN</td>\n",
       "      <td>-2</td>\n",
       "      <td>/home/kimlab1/database_data/biodb/recipes/elas...</td>\n",
       "      <td>/home/kimlab1/database_data/biodb/recipes/elas...</td>\n",
       "      <td>A116N</td>\n",
       "      <td></td>\n",
       "      <td>0</td>\n",
       "      <td>A116N</td>\n",
       "      <td>-1.934325</td>\n",
       "      <td>0,0,0,0</td>\n",
       "      <td>0,0,0,14</td>\n",
       "      <td>0,0,0,0</td>\n",
       "      <td>0,0,0,13</td>\n",
       "      <td>6.336</td>\n",
       "      <td>H</td>\n",
       "      <td>H</td>\n",
       "      <td>60.815965</td>\n",
       "      <td>39.766188</td>\n",
       "      <td>-11.2,-129.203,-42.4975,-192.739,-7.04209,256....</td>\n",
       "      <td>-11.6756,-129.118,-42.4975,-192.564,-7.04209,2...</td>\n",
       "    </tr>\n",
       "    <tr>\n",
       "      <th>3</th>\n",
       "      <td>1.0</td>\n",
       "      <td>1.0</td>\n",
       "      <td>1.0</td>\n",
       "      <td>NaN</td>\n",
       "      <td>NaN</td>\n",
       "      <td>A</td>\n",
       "      <td>NaN</td>\n",
       "      <td>NaN</td>\n",
       "      <td>-0.546105</td>\n",
       "      <td>0</td>\n",
       "      <td>NaN</td>\n",
       "      <td>NaN</td>\n",
       "      <td>NaN</td>\n",
       "      <td>NaN</td>\n",
       "      <td>-1</td>\n",
       "      <td>/home/kimlab1/database_data/biodb/recipes/elas...</td>\n",
       "      <td>/home/kimlab1/database_data/biodb/recipes/elas...</td>\n",
       "      <td>A122Q</td>\n",
       "      <td></td>\n",
       "      <td>0</td>\n",
       "      <td>A122Q</td>\n",
       "      <td>-1.850537</td>\n",
       "      <td>0,0,0,0</td>\n",
       "      <td>0,0,1,21</td>\n",
       "      <td>0,0,0,0</td>\n",
       "      <td>0,0,0,21</td>\n",
       "      <td>3.745</td>\n",
       "      <td>H</td>\n",
       "      <td>H</td>\n",
       "      <td>38.913445</td>\n",
       "      <td>36.030662</td>\n",
       "      <td>-8.41518,-127.762,-46.2082,-191.764,-7.13749,2...</td>\n",
       "      <td>-8.28184,-127.751,-45.7622,-191.255,-7.13749,2...</td>\n",
       "    </tr>\n",
       "    <tr>\n",
       "      <th>4</th>\n",
       "      <td>1.0</td>\n",
       "      <td>1.0</td>\n",
       "      <td>1.0</td>\n",
       "      <td>NaN</td>\n",
       "      <td>NaN</td>\n",
       "      <td>A</td>\n",
       "      <td>NaN</td>\n",
       "      <td>NaN</td>\n",
       "      <td>-0.130828</td>\n",
       "      <td>0</td>\n",
       "      <td>NaN</td>\n",
       "      <td>NaN</td>\n",
       "      <td>NaN</td>\n",
       "      <td>NaN</td>\n",
       "      <td>-1</td>\n",
       "      <td>/home/kimlab1/database_data/biodb/recipes/elas...</td>\n",
       "      <td>/home/kimlab1/database_data/biodb/recipes/elas...</td>\n",
       "      <td>A123Q</td>\n",
       "      <td></td>\n",
       "      <td>0</td>\n",
       "      <td>A123Q</td>\n",
       "      <td>-1.960288</td>\n",
       "      <td>0,0,0,0</td>\n",
       "      <td>0,0,0,22</td>\n",
       "      <td>0,0,0,0</td>\n",
       "      <td>0,0,0,17</td>\n",
       "      <td>3.384</td>\n",
       "      <td>H</td>\n",
       "      <td>H</td>\n",
       "      <td>66.838936</td>\n",
       "      <td>59.842983</td>\n",
       "      <td>-10.0753,-127.028,-44.5209,-192.071,-8.38965,2...</td>\n",
       "      <td>-10.105,-126.983,-44.5209,-191.695,-8.38965,25...</td>\n",
       "    </tr>\n",
       "  </tbody>\n",
       "</table>\n",
       "</div>"
      ],
      "text/plain": [
       "   alignment_coverage  alignment_identity  alignment_score analyse_complex_energy_mut analyse_complex_energy_wt chain_modeller  contact_distance_mut  contact_distance_wt       ddg  idx idxs  interface_area_hydrophilic  interface_area_hydrophobic  interface_area_total  matrix_score                                     model_file_mut                                      model_file_wt mutation mutation_errors  mutation_in_interface mutation_modeller  norm_dope physchem_mut physchem_mut_ownchain physchem_wt physchem_wt_ownchain  provean_score secondary_structure_mut secondary_structure_wt  solvent_accessibility_mut  solvent_accessibility_wt                               stability_energy_mut                                stability_energy_wt\n",
       "0                 1.0                 1.0              1.0                        NaN                       NaN              A                   NaN                  NaN -0.762990    0  NaN                         NaN                         NaN                   NaN            -1  /home/kimlab1/database_data/biodb/recipes/elas...  /home/kimlab1/database_data/biodb/recipes/elas...     G44S                                      0              G44S  -2.001833      0,0,0,0              0,0,3,18     0,0,0,0              0,0,0,0          3.145                       H                      H                  40.807811                 33.615605  1.05483,-123.522,-45.9071,-191.216,-7.16952,25...  1.73694,-122.908,-45.2756,-190.703,-7.1521,253...\n",
       "1                 1.0                 1.0              1.0                        NaN                       NaN              A                   NaN                  NaN -1.683732    0  NaN                         NaN                         NaN                   NaN            -1  /home/kimlab1/database_data/biodb/recipes/elas...  /home/kimlab1/database_data/biodb/recipes/elas...    A120M                                      0             A120M  -1.992593      0,0,0,0              0,0,0,37     0,0,0,0             0,0,0,27          4.550                       H                      H                  16.565388                 10.762297  -16.7144,-128.097,-46.7544,-192.124,-7.50993,2...  -15.5497,-127.91,-46.7544,-190.972,-7.6429,253...\n",
       "2                 1.0                 1.0              1.0                        NaN                       NaN              A                   NaN                  NaN -0.135820    0  NaN                         NaN                         NaN                   NaN            -2  /home/kimlab1/database_data/biodb/recipes/elas...  /home/kimlab1/database_data/biodb/recipes/elas...    A116N                                      0             A116N  -1.934325      0,0,0,0              0,0,0,14     0,0,0,0             0,0,0,13          6.336                       H                      H                  60.815965                 39.766188  -11.2,-129.203,-42.4975,-192.739,-7.04209,256....  -11.6756,-129.118,-42.4975,-192.564,-7.04209,2...\n",
       "3                 1.0                 1.0              1.0                        NaN                       NaN              A                   NaN                  NaN -0.546105    0  NaN                         NaN                         NaN                   NaN            -1  /home/kimlab1/database_data/biodb/recipes/elas...  /home/kimlab1/database_data/biodb/recipes/elas...    A122Q                                      0             A122Q  -1.850537      0,0,0,0              0,0,1,21     0,0,0,0             0,0,0,21          3.745                       H                      H                  38.913445                 36.030662  -8.41518,-127.762,-46.2082,-191.764,-7.13749,2...  -8.28184,-127.751,-45.7622,-191.255,-7.13749,2...\n",
       "4                 1.0                 1.0              1.0                        NaN                       NaN              A                   NaN                  NaN -0.130828    0  NaN                         NaN                         NaN                   NaN            -1  /home/kimlab1/database_data/biodb/recipes/elas...  /home/kimlab1/database_data/biodb/recipes/elas...    A123Q                                      0             A123Q  -1.960288      0,0,0,0              0,0,0,22     0,0,0,0             0,0,0,17          3.384                       H                      H                  66.838936                 59.842983  -10.0753,-127.028,-44.5209,-192.071,-8.38965,2...  -10.105,-126.983,-44.5209,-191.695,-8.38965,25..."
      ]
     },
     "execution_count": 49,
     "metadata": {},
     "output_type": "execute_result"
    }
   ],
   "source": [
    "core_mutation_features_df.head()"
   ]
  },
  {
   "cell_type": "code",
   "execution_count": 50,
   "metadata": {
    "collapsed": false
   },
   "outputs": [],
   "source": [
    "core_mutation_features_df_final = (\n",
    "    core_mutation_features_df\n",
    "    .merge(\n",
    "        DF_TO_CALCULATE[[\n",
    "            'pdb_id', 'pdb_chain', 'pdb_mutation', 'ddg_exp',\n",
    "            'uniprot_id', 'uniprot_mutation', 'pfam_id',\n",
    "            # 'partner_pdb_chain', 'partner_uniprot_id'\n",
    "        ]], \n",
    "        left_index=True, right_index=True)\n",
    ")"
   ]
  },
  {
   "cell_type": "code",
   "execution_count": 51,
   "metadata": {
    "collapsed": false
   },
   "outputs": [
    {
     "name": "stdout",
     "output_type": "stream",
     "text": [
      "Before:                                                     3612\n",
      "After:                                                      3580\n",
      "Mutations missing ΔΔG information:                          32\n"
     ]
    }
   ],
   "source": [
    "print2(\"Before:\", DF_TO_CALCULATE.shape[0])\n",
    "print2(\"After:\", core_mutation_features_df_final.shape[0])\n",
    "print2(\n",
    "    \"Mutations missing ΔΔG information:\", \n",
    "    DF_TO_CALCULATE.shape[0] - core_mutation_features_df_final.shape[0]\n",
    ")"
   ]
  },
  {
   "cell_type": "code",
   "execution_count": 52,
   "metadata": {
    "collapsed": false
   },
   "outputs": [],
   "source": [
    "assert not core_mutation_features_df_final['mutation_in_interface'].isnull().sum()"
   ]
  },
  {
   "cell_type": "markdown",
   "metadata": {
    "collapsed": true,
    "run_control": {
     "marked": false
    }
   },
   "source": [
    "## Interface mutation features"
   ]
  },
  {
   "cell_type": "code",
   "execution_count": 53,
   "metadata": {
    "collapsed": false,
    "run_control": {
     "marked": false
    },
    "scrolled": true
   },
   "outputs": [
    {
     "data": {
      "text/html": [
       "<div>\n",
       "<table border=\"1\" class=\"dataframe\">\n",
       "  <thead>\n",
       "    <tr style=\"text-align: right;\">\n",
       "      <th></th>\n",
       "      <th>pdb_id</th>\n",
       "      <th>pdb_chain</th>\n",
       "      <th>pdb_mutation</th>\n",
       "      <th>uniprot_id</th>\n",
       "      <th>uniprot_mutation</th>\n",
       "      <th>pfam_id</th>\n",
       "      <th>ddg_exp</th>\n",
       "      <th>partner_pdb_chain</th>\n",
       "      <th>partner_uniprot_id</th>\n",
       "      <th>pdb_file</th>\n",
       "      <th>system_command</th>\n",
       "      <th>mutation_json</th>\n",
       "    </tr>\n",
       "  </thead>\n",
       "  <tbody>\n",
       "    <tr>\n",
       "      <th>0</th>\n",
       "      <td>107l</td>\n",
       "      <td>A</td>\n",
       "      <td>A_G44S</td>\n",
       "      <td>None</td>\n",
       "      <td>None</td>\n",
       "      <td>None</td>\n",
       "      <td>-0.53</td>\n",
       "      <td>NaN</td>\n",
       "      <td>NaN</td>\n",
       "      <td>/home/kimlab1/database_data/pdb/data/data/stru...</td>\n",
       "      <td>mkdir -p '/home/kimlab1/database_data/biodb/re...</td>\n",
       "      <td>[{'norm_dope': -2.0018329171607454, 'alignment...</td>\n",
       "    </tr>\n",
       "    <tr>\n",
       "      <th>1</th>\n",
       "      <td>160l</td>\n",
       "      <td>A</td>\n",
       "      <td>A_A120M</td>\n",
       "      <td>None</td>\n",
       "      <td>None</td>\n",
       "      <td>None</td>\n",
       "      <td>-0.20</td>\n",
       "      <td>NaN</td>\n",
       "      <td>NaN</td>\n",
       "      <td>/home/kimlab1/database_data/pdb/data/data/stru...</td>\n",
       "      <td>mkdir -p '/home/kimlab1/database_data/biodb/re...</td>\n",
       "      <td>[{'norm_dope': -1.9925931570468185, 'alignment...</td>\n",
       "    </tr>\n",
       "  </tbody>\n",
       "</table>\n",
       "</div>"
      ],
      "text/plain": [
       "  pdb_id pdb_chain pdb_mutation uniprot_id uniprot_mutation pfam_id  ddg_exp  partner_pdb_chain  partner_uniprot_id                                           pdb_file                                     system_command                                      mutation_json\n",
       "0   107l         A       A_G44S       None             None    None    -0.53                NaN                 NaN  /home/kimlab1/database_data/pdb/data/data/stru...  mkdir -p '/home/kimlab1/database_data/biodb/re...  [{'norm_dope': -2.0018329171607454, 'alignment...\n",
       "1   160l         A      A_A120M       None             None    None    -0.20                NaN                 NaN  /home/kimlab1/database_data/pdb/data/data/stru...  mkdir -p '/home/kimlab1/database_data/biodb/re...  [{'norm_dope': -1.9925931570468185, 'alignment..."
      ]
     },
     "execution_count": 53,
     "metadata": {},
     "output_type": "execute_result"
    }
   ],
   "source": [
    "DF_TO_CALCULATE.head(2)"
   ]
  },
  {
   "cell_type": "code",
   "execution_count": 54,
   "metadata": {
    "code_folding": [],
    "collapsed": false,
    "run_control": {
     "marked": false
    }
   },
   "outputs": [
    {
     "name": "stdout",
     "output_type": "stream",
     "text": [
      "3411\n",
      "0\n"
     ]
    }
   ],
   "source": [
    "imf = local.InterfaceMutationFeatures()\n",
    "\n",
    "interface_mutation_features = [\n",
    "    imf.guess(index, mutation_json)\n",
    "    for index, mutation_json \n",
    "    in DF_TO_CALCULATE.reset_index()[['index', 'mutation_json']].dropna().values\n",
    "]\n",
    "\n",
    "interface_mutation_features_df = pd.concat(interface_mutation_features)\n",
    "\n",
    "print(imf._num_mutations_not_in_interface)\n",
    "print(imf._num_mutations_interface_not_found)"
   ]
  },
  {
   "cell_type": "code",
   "execution_count": 55,
   "metadata": {
    "collapsed": false
   },
   "outputs": [
    {
     "data": {
      "text/html": [
       "<div>\n",
       "<table border=\"1\" class=\"dataframe\">\n",
       "  <thead>\n",
       "    <tr style=\"text-align: right;\">\n",
       "      <th></th>\n",
       "      <th>alignment_coverage</th>\n",
       "      <th>alignment_identity</th>\n",
       "      <th>alignment_score</th>\n",
       "      <th>analyse_complex_energy_mut</th>\n",
       "      <th>analyse_complex_energy_wt</th>\n",
       "      <th>chain_modeller</th>\n",
       "      <th>contact_distance_mut</th>\n",
       "      <th>contact_distance_wt</th>\n",
       "      <th>ddg</th>\n",
       "      <th>idx</th>\n",
       "      <th>idxs</th>\n",
       "      <th>interface_area_hydrophilic</th>\n",
       "      <th>interface_area_hydrophobic</th>\n",
       "      <th>interface_area_total</th>\n",
       "      <th>matrix_score</th>\n",
       "      <th>model_file_mut</th>\n",
       "      <th>model_file_wt</th>\n",
       "      <th>mutation</th>\n",
       "      <th>mutation_errors</th>\n",
       "      <th>mutation_modeller</th>\n",
       "      <th>norm_dope</th>\n",
       "      <th>physchem_mut</th>\n",
       "      <th>physchem_mut_ownchain</th>\n",
       "      <th>physchem_wt</th>\n",
       "      <th>physchem_wt_ownchain</th>\n",
       "      <th>provean_score</th>\n",
       "      <th>secondary_structure_mut</th>\n",
       "      <th>secondary_structure_wt</th>\n",
       "      <th>solvent_accessibility_mut</th>\n",
       "      <th>solvent_accessibility_wt</th>\n",
       "      <th>stability_energy_mut</th>\n",
       "      <th>stability_energy_wt</th>\n",
       "    </tr>\n",
       "  </thead>\n",
       "  <tbody>\n",
       "    <tr>\n",
       "      <th>30</th>\n",
       "      <td>1.0</td>\n",
       "      <td>1.0</td>\n",
       "      <td>1.0</td>\n",
       "      <td>30.6394,34.7091,1.38135,-2.84217e-14,1.42109e-...</td>\n",
       "      <td>30.6368,34.7091,1.40362,-1.42109e-14,2.13163e-...</td>\n",
       "      <td>A</td>\n",
       "      <td>5.105706</td>\n",
       "      <td>4.196977</td>\n",
       "      <td>-1.235212</td>\n",
       "      <td>0</td>\n",
       "      <td>[0, 2]</td>\n",
       "      <td>770.82</td>\n",
       "      <td>17.305</td>\n",
       "      <td>788.13</td>\n",
       "      <td>-4</td>\n",
       "      <td>/home/kimlab1/database_data/biodb/recipes/elas...</td>\n",
       "      <td>/home/kimlab1/database_data/biodb/recipes/elas...</td>\n",
       "      <td>D20M</td>\n",
       "      <td></td>\n",
       "      <td>D20M</td>\n",
       "      <td>-0.788709</td>\n",
       "      <td>0,0,0,4</td>\n",
       "      <td>0,0,0,14</td>\n",
       "      <td>0,0,0,3</td>\n",
       "      <td>0,0,0,6</td>\n",
       "      <td>0.000</td>\n",
       "      <td>T</td>\n",
       "      <td>T</td>\n",
       "      <td>80.32341</td>\n",
       "      <td>102.749769</td>\n",
       "      <td>69.6725,-125.625,-70.4985,-240.866,-15.8323,33...</td>\n",
       "      <td>70.1188,-125.608,-70.5071,-240.374,-16.0015,33...</td>\n",
       "    </tr>\n",
       "    <tr>\n",
       "      <th>100</th>\n",
       "      <td>1.0</td>\n",
       "      <td>1.0</td>\n",
       "      <td>1.0</td>\n",
       "      <td>30.7525,35.513,1.68252,-2.84217e-14,2.13163e-1...</td>\n",
       "      <td>30.7415,35.513,1.43064,-2.84217e-14,1.42109e-1...</td>\n",
       "      <td>A</td>\n",
       "      <td>4.085117</td>\n",
       "      <td>4.179362</td>\n",
       "      <td>0.327748</td>\n",
       "      <td>0</td>\n",
       "      <td>[0, 2]</td>\n",
       "      <td>NaN</td>\n",
       "      <td>NaN</td>\n",
       "      <td>NaN</td>\n",
       "      <td>-3</td>\n",
       "      <td>/home/kimlab1/database_data/biodb/recipes/elas...</td>\n",
       "      <td>/home/kimlab1/database_data/biodb/recipes/elas...</td>\n",
       "      <td>L31Q</td>\n",
       "      <td></td>\n",
       "      <td>L31Q</td>\n",
       "      <td>-0.788709</td>\n",
       "      <td>0,0,0,4</td>\n",
       "      <td>0,0,2,28</td>\n",
       "      <td>0,0,0,6</td>\n",
       "      <td>0,0,0,32</td>\n",
       "      <td>-4.567</td>\n",
       "      <td>H</td>\n",
       "      <td>H</td>\n",
       "      <td>49.26381</td>\n",
       "      <td>52.410625</td>\n",
       "      <td>71.9998,-126.544,-70.1494,-240.289,-15.9253,33...</td>\n",
       "      <td>71.0904,-126.001,-69.6655,-240.374,-15.928,336...</td>\n",
       "    </tr>\n",
       "  </tbody>\n",
       "</table>\n",
       "</div>"
      ],
      "text/plain": [
       "     alignment_coverage  alignment_identity  alignment_score                         analyse_complex_energy_mut                          analyse_complex_energy_wt chain_modeller  contact_distance_mut  contact_distance_wt       ddg  idx    idxs  interface_area_hydrophilic  interface_area_hydrophobic  interface_area_total  matrix_score                                     model_file_mut                                      model_file_wt mutation mutation_errors mutation_modeller  norm_dope physchem_mut physchem_mut_ownchain physchem_wt physchem_wt_ownchain  provean_score secondary_structure_mut secondary_structure_wt  solvent_accessibility_mut  solvent_accessibility_wt                               stability_energy_mut                                stability_energy_wt\n",
       "30                  1.0                 1.0              1.0  30.6394,34.7091,1.38135,-2.84217e-14,1.42109e-...  30.6368,34.7091,1.40362,-1.42109e-14,2.13163e-...              A              5.105706             4.196977 -1.235212    0  [0, 2]                      770.82                      17.305                788.13            -4  /home/kimlab1/database_data/biodb/recipes/elas...  /home/kimlab1/database_data/biodb/recipes/elas...     D20M                              D20M  -0.788709      0,0,0,4              0,0,0,14     0,0,0,3              0,0,0,6          0.000                       T                      T                   80.32341                102.749769  69.6725,-125.625,-70.4985,-240.866,-15.8323,33...  70.1188,-125.608,-70.5071,-240.374,-16.0015,33...\n",
       "100                 1.0                 1.0              1.0  30.7525,35.513,1.68252,-2.84217e-14,2.13163e-1...  30.7415,35.513,1.43064,-2.84217e-14,1.42109e-1...              A              4.085117             4.179362  0.327748    0  [0, 2]                         NaN                         NaN                   NaN            -3  /home/kimlab1/database_data/biodb/recipes/elas...  /home/kimlab1/database_data/biodb/recipes/elas...     L31Q                              L31Q  -0.788709      0,0,0,4              0,0,2,28     0,0,0,6             0,0,0,32         -4.567                       H                      H                   49.26381                 52.410625  71.9998,-126.544,-70.1494,-240.289,-15.9253,33...  71.0904,-126.001,-69.6655,-240.374,-15.928,336..."
      ]
     },
     "execution_count": 55,
     "metadata": {},
     "output_type": "execute_result"
    }
   ],
   "source": [
    "interface_mutation_features_df.head(2)"
   ]
  },
  {
   "cell_type": "code",
   "execution_count": 56,
   "metadata": {
    "collapsed": false,
    "run_control": {
     "marked": false
    }
   },
   "outputs": [
    {
     "name": "stdout",
     "output_type": "stream",
     "text": [
      "Starting number of mutations:                               3612\n",
      "Starting number of mutation indexes:                        3612\n",
      "Number of unique pdb id / mutations:                        3612\n",
      "--------------------------------------------------------------------------------\n",
      "Number of ELASPIC PDB mutations:                            188\n",
      "Number of ELASPIC PDB mutation indexes:                     169\n",
      "Number of unique ELASPIC pdb id / mutations:                169\n",
      "--------------------------------------------------------------------------------\n",
      "Number of ELASPIC PDB mutations wddg_exp:                   188\n",
      "Number of ELASPIC PDB mutation indexes wddg_exp:            169\n",
      "Number of unique ELASPIC pdb id / mutations wddg_exp:       169\n"
     ]
    }
   ],
   "source": [
    "interface_mutation_features_df_final = (\n",
    "    interface_mutation_features_df\n",
    "    .merge(\n",
    "        DF_TO_CALCULATE[[\n",
    "            'pdb_id', 'pdb_chain', 'pdb_mutation', 'ddg_exp',\n",
    "            'uniprot_id', 'uniprot_mutation', 'pfam_id',\n",
    "            'partner_pdb_chain', 'partner_uniprot_id'\n",
    "        ]], \n",
    "        left_index=True, right_index=True)\n",
    ")\n",
    "\n",
    "# DF_TO_CALCULATE\n",
    "print2(\"Starting number of mutations:\",\n",
    "       DF_TO_CALCULATE.shape[0])\n",
    "print2(\"Starting number of mutation indexes:\",\n",
    "       DF_TO_CALCULATE.index.drop_duplicates().shape[0])\n",
    "print2(\"Number of unique pdb id / mutations:\",\n",
    "       DF_TO_CALCULATE[['pdb_id', 'pdb_mutation']].drop_duplicates().shape[0])\n",
    "print('-' * 80)\n",
    "\n",
    "# results_df\n",
    "print2(\"Number of ELASPIC PDB mutations:\", \n",
    "       interface_mutation_features_df.shape[0])\n",
    "print2(\"Number of ELASPIC PDB mutation indexes:\",\n",
    "       len(set(interface_mutation_features_df.index)))\n",
    "print2(\"Number of unique ELASPIC pdb id / mutations:\",\n",
    "       interface_mutation_features_df[['idx', 'mutation']].drop_duplicates().shape[0])\n",
    "print('-' * 80)\n",
    "\n",
    "# interface_mutation_features_df_final\n",
    "print2(\"Number of ELASPIC PDB mutations wddg_exp:\", \n",
    "       interface_mutation_features_df_final.shape[0])\n",
    "print2(\"Number of ELASPIC PDB mutation indexes wddg_exp:\",\n",
    "       len(set(interface_mutation_features_df_final.index)))\n",
    "print2(\"Number of unique ELASPIC pdb id / mutations wddg_exp:\",\n",
    "       interface_mutation_features_df_final[['pdb_id', 'pdb_mutation']].drop_duplicates().shape[0])"
   ]
  },
  {
   "cell_type": "markdown",
   "metadata": {
    "collapsed": true,
    "run_control": {
     "marked": false
    }
   },
   "source": [
    "## Correct duplicate interfaces\n",
    "\n",
    "And remove **> 6 A**."
   ]
  },
  {
   "cell_type": "code",
   "execution_count": 57,
   "metadata": {
    "collapsed": false,
    "run_control": {
     "marked": false
    }
   },
   "outputs": [
    {
     "data": {
      "text/html": [
       "<div>\n",
       "<table border=\"1\" class=\"dataframe\">\n",
       "  <thead>\n",
       "    <tr style=\"text-align: right;\">\n",
       "      <th></th>\n",
       "      <th>alignment_coverage</th>\n",
       "      <th>alignment_identity</th>\n",
       "      <th>alignment_score</th>\n",
       "      <th>analyse_complex_energy_mut</th>\n",
       "      <th>analyse_complex_energy_wt</th>\n",
       "      <th>chain_modeller</th>\n",
       "      <th>contact_distance_mut</th>\n",
       "      <th>contact_distance_wt</th>\n",
       "      <th>ddg</th>\n",
       "      <th>idx</th>\n",
       "      <th>idxs</th>\n",
       "      <th>interface_area_hydrophilic</th>\n",
       "      <th>interface_area_hydrophobic</th>\n",
       "      <th>interface_area_total</th>\n",
       "      <th>matrix_score</th>\n",
       "      <th>model_file_mut</th>\n",
       "      <th>model_file_wt</th>\n",
       "      <th>mutation</th>\n",
       "      <th>mutation_errors</th>\n",
       "      <th>mutation_modeller</th>\n",
       "      <th>norm_dope</th>\n",
       "      <th>physchem_mut</th>\n",
       "      <th>physchem_mut_ownchain</th>\n",
       "      <th>physchem_wt</th>\n",
       "      <th>physchem_wt_ownchain</th>\n",
       "      <th>provean_score</th>\n",
       "      <th>secondary_structure_mut</th>\n",
       "      <th>secondary_structure_wt</th>\n",
       "      <th>solvent_accessibility_mut</th>\n",
       "      <th>solvent_accessibility_wt</th>\n",
       "      <th>stability_energy_mut</th>\n",
       "      <th>stability_energy_wt</th>\n",
       "      <th>pdb_id</th>\n",
       "      <th>pdb_chain</th>\n",
       "      <th>pdb_mutation</th>\n",
       "      <th>ddg_exp</th>\n",
       "      <th>uniprot_id</th>\n",
       "      <th>uniprot_mutation</th>\n",
       "      <th>pfam_id</th>\n",
       "      <th>partner_pdb_chain</th>\n",
       "      <th>partner_uniprot_id</th>\n",
       "    </tr>\n",
       "  </thead>\n",
       "  <tbody>\n",
       "    <tr>\n",
       "      <th>2781</th>\n",
       "      <td>1.0</td>\n",
       "      <td>1.0</td>\n",
       "      <td>1.0</td>\n",
       "      <td>50.37,69.9185,1.79633,-4.67429,-7.63925,-11.42...</td>\n",
       "      <td>50.646,69.9185,1.82645,-4.67429,-7.63925,-11.4...</td>\n",
       "      <td>A</td>\n",
       "      <td>8.623775</td>\n",
       "      <td>7.717416</td>\n",
       "      <td>2.102523</td>\n",
       "      <td>0</td>\n",
       "      <td>[0, 1]</td>\n",
       "      <td>264.370</td>\n",
       "      <td>260.03</td>\n",
       "      <td>524.395</td>\n",
       "      <td>-1</td>\n",
       "      <td>/home/kimlab1/database_data/biodb/recipes/elas...</td>\n",
       "      <td>/home/kimlab1/database_data/biodb/recipes/elas...</td>\n",
       "      <td>R156S</td>\n",
       "      <td></td>\n",
       "      <td>R156S</td>\n",
       "      <td>-0.576835</td>\n",
       "      <td>0,0,0,0</td>\n",
       "      <td>0,0,2,32</td>\n",
       "      <td>0,0,0,0</td>\n",
       "      <td>0,0,2,35</td>\n",
       "      <td>-5.456</td>\n",
       "      <td>T</td>\n",
       "      <td>T</td>\n",
       "      <td>8.998884</td>\n",
       "      <td>41.190652</td>\n",
       "      <td>151.186,-207.147,-122.535,-466.83,-24.5649,628...</td>\n",
       "      <td>150.23,-206.854,-123.677,-467.765,-24.5511,629...</td>\n",
       "      <td>1tup</td>\n",
       "      <td>A</td>\n",
       "      <td>A_R249S</td>\n",
       "      <td>1.95</td>\n",
       "      <td>P04637</td>\n",
       "      <td>R249S</td>\n",
       "      <td>PF00870</td>\n",
       "      <td>NaN</td>\n",
       "      <td>NaN</td>\n",
       "    </tr>\n",
       "    <tr>\n",
       "      <th>1057</th>\n",
       "      <td>1.0</td>\n",
       "      <td>1.0</td>\n",
       "      <td>1.0</td>\n",
       "      <td>18.8342,23.7022,2.76261,-6.39488e-14,-7.10543e...</td>\n",
       "      <td>18.7035,23.7022,3.14396,-5.68434e-14,-1.06581e...</td>\n",
       "      <td>A</td>\n",
       "      <td>8.617739</td>\n",
       "      <td>8.861695</td>\n",
       "      <td>0.767448</td>\n",
       "      <td>0</td>\n",
       "      <td>[0, 1]</td>\n",
       "      <td>238.725</td>\n",
       "      <td>0.53</td>\n",
       "      <td>239.255</td>\n",
       "      <td>1</td>\n",
       "      <td>/home/kimlab1/database_data/biodb/recipes/elas...</td>\n",
       "      <td>/home/kimlab1/database_data/biodb/recipes/elas...</td>\n",
       "      <td>E95K</td>\n",
       "      <td></td>\n",
       "      <td>E95K</td>\n",
       "      <td>-0.511584</td>\n",
       "      <td>0,0,0,0</td>\n",
       "      <td>0,0,0,19</td>\n",
       "      <td>0,0,0,0</td>\n",
       "      <td>0,0,0,13</td>\n",
       "      <td>-3.307</td>\n",
       "      <td>G</td>\n",
       "      <td>G</td>\n",
       "      <td>68.412081</td>\n",
       "      <td>77.859100</td>\n",
       "      <td>43.2495,-119.151,-53.0041,-211.267,-0.78645,27...</td>\n",
       "      <td>44.1636,-119.101,-52.9175,-210.727,-0.0397297,...</td>\n",
       "      <td>1fxa</td>\n",
       "      <td>A</td>\n",
       "      <td>A_E95K</td>\n",
       "      <td>-1.00</td>\n",
       "      <td>P0A3C7</td>\n",
       "      <td>E96K</td>\n",
       "      <td>None</td>\n",
       "      <td>NaN</td>\n",
       "      <td>NaN</td>\n",
       "    </tr>\n",
       "  </tbody>\n",
       "</table>\n",
       "</div>"
      ],
      "text/plain": [
       "      alignment_coverage  alignment_identity  alignment_score                         analyse_complex_energy_mut                          analyse_complex_energy_wt chain_modeller  contact_distance_mut  contact_distance_wt       ddg  idx    idxs  interface_area_hydrophilic  interface_area_hydrophobic  interface_area_total  matrix_score                                     model_file_mut                                      model_file_wt mutation mutation_errors mutation_modeller  norm_dope physchem_mut physchem_mut_ownchain physchem_wt physchem_wt_ownchain  provean_score secondary_structure_mut secondary_structure_wt  solvent_accessibility_mut  solvent_accessibility_wt                               stability_energy_mut                                stability_energy_wt pdb_id pdb_chain pdb_mutation  ddg_exp uniprot_id uniprot_mutation  pfam_id  partner_pdb_chain  partner_uniprot_id\n",
       "2781                 1.0                 1.0              1.0  50.37,69.9185,1.79633,-4.67429,-7.63925,-11.42...  50.646,69.9185,1.82645,-4.67429,-7.63925,-11.4...              A              8.623775             7.717416  2.102523    0  [0, 1]                     264.370                      260.03               524.395            -1  /home/kimlab1/database_data/biodb/recipes/elas...  /home/kimlab1/database_data/biodb/recipes/elas...    R156S                             R156S  -0.576835      0,0,0,0              0,0,2,32     0,0,0,0             0,0,2,35         -5.456                       T                      T                   8.998884                 41.190652  151.186,-207.147,-122.535,-466.83,-24.5649,628...  150.23,-206.854,-123.677,-467.765,-24.5511,629...   1tup         A      A_R249S     1.95     P04637            R249S  PF00870                NaN                 NaN\n",
       "1057                 1.0                 1.0              1.0  18.8342,23.7022,2.76261,-6.39488e-14,-7.10543e...  18.7035,23.7022,3.14396,-5.68434e-14,-1.06581e...              A              8.617739             8.861695  0.767448    0  [0, 1]                     238.725                        0.53               239.255             1  /home/kimlab1/database_data/biodb/recipes/elas...  /home/kimlab1/database_data/biodb/recipes/elas...     E95K                              E95K  -0.511584      0,0,0,0              0,0,0,19     0,0,0,0             0,0,0,13         -3.307                       G                      G                  68.412081                 77.859100  43.2495,-119.151,-53.0041,-211.267,-0.78645,27...  44.1636,-119.101,-52.9175,-210.727,-0.0397297,...   1fxa         A       A_E95K    -1.00     P0A3C7             E96K     None                NaN                 NaN"
      ]
     },
     "execution_count": 57,
     "metadata": {},
     "output_type": "execute_result"
    }
   ],
   "source": [
    "interface_mutation_features_df_final = (\n",
    "    interface_mutation_features_df_final.sort_values('contact_distance_wt', ascending=True))\n",
    "interface_mutation_features_df_final.tail(2)"
   ]
  },
  {
   "cell_type": "code",
   "execution_count": 58,
   "metadata": {
    "collapsed": false,
    "run_control": {
     "marked": false
    },
    "scrolled": true
   },
   "outputs": [
    {
     "data": {
      "text/plain": [
       "<matplotlib.axes._subplots.AxesSubplot at 0x7f3f7bcd7dd8>"
      ]
     },
     "execution_count": 58,
     "metadata": {},
     "output_type": "execute_result"
    },
    {
     "data": {
      "image/png": "[encoded data removed]",
      "text/plain": [
       "<matplotlib.figure.Figure at 0x7f3f79d2fcf8>"
      ]
     },
     "metadata": {},
     "output_type": "display_data"
    }
   ],
   "source": [
    "interface_mutation_features_df_final['contact_distance_wt'].hist(range=(1, 8.0))"
   ]
  },
  {
   "cell_type": "code",
   "execution_count": 59,
   "metadata": {
    "collapsed": false,
    "run_control": {
     "marked": false
    }
   },
   "outputs": [
    {
     "data": {
      "text/plain": [
       "<matplotlib.axes._subplots.AxesSubplot at 0x7f3f79abd048>"
      ]
     },
     "execution_count": 59,
     "metadata": {},
     "output_type": "execute_result"
    },
    {
     "data": {
      "image/png": "[encoded data removed]",
      "text/plain": [
       "<matplotlib.figure.Figure at 0x7f3f798fb710>"
      ]
     },
     "metadata": {},
     "output_type": "display_data"
    }
   ],
   "source": [
    "interface_mutation_features_df_final = (\n",
    "    interface_mutation_features_df_final.drop_duplicates(['pdb_id', 'pdb_mutation']))\n",
    "\n",
    "interface_mutation_features_df_final = (\n",
    "    interface_mutation_features_df_final[\n",
    "        (interface_mutation_features_df_final['contact_distance_wt'] < 6) |\n",
    "        (interface_mutation_features_df_final['contact_distance_mut'] < 6)\n",
    "    ]\n",
    ")\n",
    "interface_mutation_features_df_final['contact_distance_wt'].hist(range=(1, 8.0))"
   ]
  },
  {
   "cell_type": "code",
   "execution_count": 60,
   "metadata": {
    "collapsed": false,
    "run_control": {
     "marked": false
    }
   },
   "outputs": [
    {
     "name": "stdout",
     "output_type": "stream",
     "text": [
      "Number of ELASPIC PDB mutations wddg_exp:                   162\n",
      "Number of ELASPIC PDB mutation indexes wddg_exp:            162\n",
      "Number of unique ELASPIC pdb id / mutations wddg_exp:       162\n"
     ]
    }
   ],
   "source": [
    "print2(\"Number of ELASPIC PDB mutations wddg_exp:\", \n",
    "       interface_mutation_features_df_final.shape[0])\n",
    "print2(\"Number of ELASPIC PDB mutation indexes wddg_exp:\",\n",
    "       len(set(interface_mutation_features_df_final.index)))\n",
    "print2(\"Number of unique ELASPIC pdb id / mutations wddg_exp:\",\n",
    "       interface_mutation_features_df_final[['pdb_id', 'pdb_mutation']].drop_duplicates().shape[0])"
   ]
  },
  {
   "cell_type": "markdown",
   "metadata": {
    "collapsed": true,
    "run_control": {
     "marked": false
    }
   },
   "source": [
    "# Save to database"
   ]
  },
  {
   "cell_type": "markdown",
   "metadata": {},
   "source": [
    "## Core"
   ]
  },
  {
   "cell_type": "code",
   "execution_count": 61,
   "metadata": {
    "collapsed": true
   },
   "outputs": [],
   "source": [
    "_header_columns = [\n",
    "    'pdb_id', 'pdb_chain', 'pdb_mutation', 'mutation', 'mutation_modeller', 'idx',\n",
    "]"
   ]
  },
  {
   "cell_type": "code",
   "execution_count": 62,
   "metadata": {
    "collapsed": false
   },
   "outputs": [
    {
     "data": {
      "text/html": [
       "<div>\n",
       "<table border=\"1\" class=\"dataframe\">\n",
       "  <thead>\n",
       "    <tr style=\"text-align: right;\">\n",
       "      <th></th>\n",
       "      <th>pdb_id</th>\n",
       "      <th>pdb_chain</th>\n",
       "      <th>pdb_mutation</th>\n",
       "      <th>mutation</th>\n",
       "      <th>mutation_modeller</th>\n",
       "      <th>idx</th>\n",
       "      <th>alignment_coverage</th>\n",
       "      <th>alignment_identity</th>\n",
       "      <th>alignment_score</th>\n",
       "      <th>analyse_complex_energy_mut</th>\n",
       "      <th>analyse_complex_energy_wt</th>\n",
       "      <th>chain_modeller</th>\n",
       "      <th>contact_distance_mut</th>\n",
       "      <th>contact_distance_wt</th>\n",
       "      <th>ddg</th>\n",
       "      <th>idxs</th>\n",
       "      <th>interface_area_hydrophilic</th>\n",
       "      <th>interface_area_hydrophobic</th>\n",
       "      <th>interface_area_total</th>\n",
       "      <th>matrix_score</th>\n",
       "      <th>model_file_mut</th>\n",
       "      <th>model_file_wt</th>\n",
       "      <th>mutation_errors</th>\n",
       "      <th>mutation_in_interface</th>\n",
       "      <th>norm_dope</th>\n",
       "      <th>physchem_mut</th>\n",
       "      <th>physchem_mut_ownchain</th>\n",
       "      <th>physchem_wt</th>\n",
       "      <th>physchem_wt_ownchain</th>\n",
       "      <th>provean_score</th>\n",
       "      <th>secondary_structure_mut</th>\n",
       "      <th>secondary_structure_wt</th>\n",
       "      <th>solvent_accessibility_mut</th>\n",
       "      <th>solvent_accessibility_wt</th>\n",
       "      <th>stability_energy_mut</th>\n",
       "      <th>stability_energy_wt</th>\n",
       "      <th>ddg_exp</th>\n",
       "      <th>uniprot_id</th>\n",
       "      <th>uniprot_mutation</th>\n",
       "      <th>pfam_id</th>\n",
       "    </tr>\n",
       "  </thead>\n",
       "  <tbody>\n",
       "    <tr>\n",
       "      <th>0</th>\n",
       "      <td>107l</td>\n",
       "      <td>A</td>\n",
       "      <td>A_G44S</td>\n",
       "      <td>G44S</td>\n",
       "      <td>G44S</td>\n",
       "      <td>0</td>\n",
       "      <td>1.0</td>\n",
       "      <td>1.0</td>\n",
       "      <td>1.0</td>\n",
       "      <td>NaN</td>\n",
       "      <td>NaN</td>\n",
       "      <td>A</td>\n",
       "      <td>NaN</td>\n",
       "      <td>NaN</td>\n",
       "      <td>-0.762990</td>\n",
       "      <td>NaN</td>\n",
       "      <td>NaN</td>\n",
       "      <td>NaN</td>\n",
       "      <td>NaN</td>\n",
       "      <td>-1</td>\n",
       "      <td>/home/kimlab1/database_data/biodb/recipes/elas...</td>\n",
       "      <td>/home/kimlab1/database_data/biodb/recipes/elas...</td>\n",
       "      <td></td>\n",
       "      <td>0</td>\n",
       "      <td>-2.001833</td>\n",
       "      <td>0,0,0,0</td>\n",
       "      <td>0,0,3,18</td>\n",
       "      <td>0,0,0,0</td>\n",
       "      <td>0,0,0,0</td>\n",
       "      <td>3.145</td>\n",
       "      <td>H</td>\n",
       "      <td>H</td>\n",
       "      <td>40.807811</td>\n",
       "      <td>33.615605</td>\n",
       "      <td>1.05483,-123.522,-45.9071,-191.216,-7.16952,25...</td>\n",
       "      <td>1.73694,-122.908,-45.2756,-190.703,-7.1521,253...</td>\n",
       "      <td>-0.53</td>\n",
       "      <td>None</td>\n",
       "      <td>None</td>\n",
       "      <td>None</td>\n",
       "    </tr>\n",
       "    <tr>\n",
       "      <th>1</th>\n",
       "      <td>160l</td>\n",
       "      <td>A</td>\n",
       "      <td>A_A120M</td>\n",
       "      <td>A120M</td>\n",
       "      <td>A120M</td>\n",
       "      <td>0</td>\n",
       "      <td>1.0</td>\n",
       "      <td>1.0</td>\n",
       "      <td>1.0</td>\n",
       "      <td>NaN</td>\n",
       "      <td>NaN</td>\n",
       "      <td>A</td>\n",
       "      <td>NaN</td>\n",
       "      <td>NaN</td>\n",
       "      <td>-1.683732</td>\n",
       "      <td>NaN</td>\n",
       "      <td>NaN</td>\n",
       "      <td>NaN</td>\n",
       "      <td>NaN</td>\n",
       "      <td>-1</td>\n",
       "      <td>/home/kimlab1/database_data/biodb/recipes/elas...</td>\n",
       "      <td>/home/kimlab1/database_data/biodb/recipes/elas...</td>\n",
       "      <td></td>\n",
       "      <td>0</td>\n",
       "      <td>-1.992593</td>\n",
       "      <td>0,0,0,0</td>\n",
       "      <td>0,0,0,37</td>\n",
       "      <td>0,0,0,0</td>\n",
       "      <td>0,0,0,27</td>\n",
       "      <td>4.550</td>\n",
       "      <td>H</td>\n",
       "      <td>H</td>\n",
       "      <td>16.565388</td>\n",
       "      <td>10.762297</td>\n",
       "      <td>-16.7144,-128.097,-46.7544,-192.124,-7.50993,2...</td>\n",
       "      <td>-15.5497,-127.91,-46.7544,-190.972,-7.6429,253...</td>\n",
       "      <td>-0.20</td>\n",
       "      <td>None</td>\n",
       "      <td>None</td>\n",
       "      <td>None</td>\n",
       "    </tr>\n",
       "  </tbody>\n",
       "</table>\n",
       "</div>"
      ],
      "text/plain": [
       "  pdb_id pdb_chain pdb_mutation mutation mutation_modeller  idx  alignment_coverage  alignment_identity  alignment_score analyse_complex_energy_mut analyse_complex_energy_wt chain_modeller  contact_distance_mut  contact_distance_wt       ddg idxs  interface_area_hydrophilic  interface_area_hydrophobic  interface_area_total  matrix_score                                     model_file_mut                                      model_file_wt mutation_errors  mutation_in_interface  norm_dope physchem_mut physchem_mut_ownchain physchem_wt physchem_wt_ownchain  provean_score secondary_structure_mut secondary_structure_wt  solvent_accessibility_mut  solvent_accessibility_wt                               stability_energy_mut                                stability_energy_wt  ddg_exp uniprot_id uniprot_mutation pfam_id\n",
       "0   107l         A       A_G44S     G44S              G44S    0                 1.0                 1.0              1.0                        NaN                       NaN              A                   NaN                  NaN -0.762990  NaN                         NaN                         NaN                   NaN            -1  /home/kimlab1/database_data/biodb/recipes/elas...  /home/kimlab1/database_data/biodb/recipes/elas...                                      0  -2.001833      0,0,0,0              0,0,3,18     0,0,0,0              0,0,0,0          3.145                       H                      H                  40.807811                 33.615605  1.05483,-123.522,-45.9071,-191.216,-7.16952,25...  1.73694,-122.908,-45.2756,-190.703,-7.1521,253...    -0.53       None             None    None\n",
       "1   160l         A      A_A120M    A120M             A120M    0                 1.0                 1.0              1.0                        NaN                       NaN              A                   NaN                  NaN -1.683732  NaN                         NaN                         NaN                   NaN            -1  /home/kimlab1/database_data/biodb/recipes/elas...  /home/kimlab1/database_data/biodb/recipes/elas...                                      0  -1.992593      0,0,0,0              0,0,0,37     0,0,0,0             0,0,0,27          4.550                       H                      H                  16.565388                 10.762297  -16.7144,-128.097,-46.7544,-192.124,-7.50993,2...  -15.5497,-127.91,-46.7544,-190.972,-7.6429,253...    -0.20       None             None    None"
      ]
     },
     "execution_count": 62,
     "metadata": {},
     "output_type": "execute_result"
    }
   ],
   "source": [
    "df = (\n",
    "    core_mutation_features_df_final[\n",
    "        _header_columns + [c for c in core_mutation_features_df_final.columns if c not in _header_columns]\n",
    "    ]\n",
    ")\n",
    "\n",
    "df.head(2)"
   ]
  },
  {
   "cell_type": "code",
   "execution_count": 63,
   "metadata": {
    "collapsed": false
   },
   "outputs": [
    {
     "data": {
      "text/plain": [
       "'protherm_star'"
      ]
     },
     "execution_count": 63,
     "metadata": {},
     "output_type": "execute_result"
    }
   ],
   "source": [
    "DATASET"
   ]
  },
  {
   "cell_type": "code",
   "execution_count": 64,
   "metadata": {
    "collapsed": false
   },
   "outputs": [],
   "source": [
    "t = db_local.import_df(\n",
    "    df,\n",
    "    DATASET + '_core',\n",
    ")"
   ]
  },
  {
   "cell_type": "code",
   "execution_count": 65,
   "metadata": {
    "collapsed": false
   },
   "outputs": [
    {
     "data": {
      "text/plain": [
       "'protherm_star_core'"
      ]
     },
     "execution_count": 65,
     "metadata": {},
     "output_type": "execute_result"
    }
   ],
   "source": [
    "t.name"
   ]
  },
  {
   "cell_type": "code",
   "execution_count": 66,
   "metadata": {
    "collapsed": false
   },
   "outputs": [],
   "source": [
    "t.create_indexes([\n",
    "    (['pdb_id', 'pdb_chain', 'pdb_mutation'], True),\n",
    "    (['uniprot_id', 'uniprot_mutation'], False)\n",
    "])"
   ]
  },
  {
   "cell_type": "code",
   "execution_count": 67,
   "metadata": {
    "collapsed": false
   },
   "outputs": [
    {
     "data": {
      "text/plain": [
       "3580"
      ]
     },
     "execution_count": 67,
     "metadata": {},
     "output_type": "execute_result"
    }
   ],
   "source": [
    "t.add_idx_column('_index')"
   ]
  },
  {
   "cell_type": "code",
   "execution_count": 68,
   "metadata": {
    "collapsed": false
   },
   "outputs": [
    {
     "name": "stderr",
     "output_type": "stream",
     "text": [
      "File size before: 2.85 MB\n",
      "File size after: 1.47 MB\n",
      "File size savings: 1.47 MB (51.51 %)\n"
     ]
    }
   ],
   "source": [
    "t.compress()"
   ]
  },
  {
   "cell_type": "markdown",
   "metadata": {},
   "source": [
    "## Interface"
   ]
  },
  {
   "cell_type": "code",
   "execution_count": 69,
   "metadata": {
    "collapsed": true,
    "run_control": {
     "marked": false
    }
   },
   "outputs": [],
   "source": [
    "_if_header_columns = [\n",
    "    'partner_pdb_chain', 'partner_uniprot_id', 'idxs',\n",
    "]"
   ]
  },
  {
   "cell_type": "code",
   "execution_count": 70,
   "metadata": {
    "collapsed": false,
    "run_control": {
     "marked": false
    }
   },
   "outputs": [
    {
     "data": {
      "text/html": [
       "<div>\n",
       "<table border=\"1\" class=\"dataframe\">\n",
       "  <thead>\n",
       "    <tr style=\"text-align: right;\">\n",
       "      <th></th>\n",
       "      <th>pdb_id</th>\n",
       "      <th>pdb_chain</th>\n",
       "      <th>pdb_mutation</th>\n",
       "      <th>mutation</th>\n",
       "      <th>mutation_modeller</th>\n",
       "      <th>idx</th>\n",
       "      <th>partner_pdb_chain</th>\n",
       "      <th>partner_uniprot_id</th>\n",
       "      <th>idxs</th>\n",
       "      <th>alignment_coverage</th>\n",
       "      <th>alignment_identity</th>\n",
       "      <th>alignment_score</th>\n",
       "      <th>analyse_complex_energy_mut</th>\n",
       "      <th>analyse_complex_energy_wt</th>\n",
       "      <th>chain_modeller</th>\n",
       "      <th>contact_distance_mut</th>\n",
       "      <th>contact_distance_wt</th>\n",
       "      <th>ddg</th>\n",
       "      <th>interface_area_hydrophilic</th>\n",
       "      <th>interface_area_hydrophobic</th>\n",
       "      <th>interface_area_total</th>\n",
       "      <th>matrix_score</th>\n",
       "      <th>model_file_mut</th>\n",
       "      <th>model_file_wt</th>\n",
       "      <th>mutation_errors</th>\n",
       "      <th>norm_dope</th>\n",
       "      <th>physchem_mut</th>\n",
       "      <th>physchem_mut_ownchain</th>\n",
       "      <th>physchem_wt</th>\n",
       "      <th>physchem_wt_ownchain</th>\n",
       "      <th>provean_score</th>\n",
       "      <th>secondary_structure_mut</th>\n",
       "      <th>secondary_structure_wt</th>\n",
       "      <th>solvent_accessibility_mut</th>\n",
       "      <th>solvent_accessibility_wt</th>\n",
       "      <th>stability_energy_mut</th>\n",
       "      <th>stability_energy_wt</th>\n",
       "      <th>ddg_exp</th>\n",
       "      <th>uniprot_id</th>\n",
       "      <th>uniprot_mutation</th>\n",
       "      <th>pfam_id</th>\n",
       "    </tr>\n",
       "  </thead>\n",
       "  <tbody>\n",
       "    <tr>\n",
       "      <th>1182</th>\n",
       "      <td>1hz6</td>\n",
       "      <td>A</td>\n",
       "      <td>A_T25A</td>\n",
       "      <td>T28A</td>\n",
       "      <td>T28A</td>\n",
       "      <td>0</td>\n",
       "      <td>NaN</td>\n",
       "      <td>NaN</td>\n",
       "      <td>[0, 1]</td>\n",
       "      <td>1.0</td>\n",
       "      <td>1.0</td>\n",
       "      <td>1.0</td>\n",
       "      <td>9.48767,9.04285,-1.86375,-3.12468,-4.28188,-8....</td>\n",
       "      <td>9.48114,9.06237,-1.34241,-2.99394,-4.07192,-8....</td>\n",
       "      <td>A</td>\n",
       "      <td>2.960603</td>\n",
       "      <td>2.586546</td>\n",
       "      <td>0.327134</td>\n",
       "      <td>344.795</td>\n",
       "      <td>227.805</td>\n",
       "      <td>572.60</td>\n",
       "      <td>0</td>\n",
       "      <td>/home/kimlab1/database_data/biodb/recipes/elas...</td>\n",
       "      <td>/home/kimlab1/database_data/biodb/recipes/elas...</td>\n",
       "      <td></td>\n",
       "      <td>-1.012759</td>\n",
       "      <td>0,0,0,4</td>\n",
       "      <td>0,0,0,18</td>\n",
       "      <td>0,0,0,7</td>\n",
       "      <td>0,0,1,17</td>\n",
       "      <td>-5.00</td>\n",
       "      <td>C</td>\n",
       "      <td>C</td>\n",
       "      <td>22.772950</td>\n",
       "      <td>36.685072</td>\n",
       "      <td>10.617,-90.8421,-30.2506,-135.932,-1.58107,186...</td>\n",
       "      <td>10.9364,-91.3005,-30.6523,-136.067,-1.4978,186...</td>\n",
       "      <td>1.25</td>\n",
       "      <td>Q51912</td>\n",
       "      <td>T134A</td>\n",
       "      <td>PF02246</td>\n",
       "    </tr>\n",
       "    <tr>\n",
       "      <th>661</th>\n",
       "      <td>1cdc</td>\n",
       "      <td>A</td>\n",
       "      <td>A_L16V</td>\n",
       "      <td>L13V</td>\n",
       "      <td>L109V</td>\n",
       "      <td>1</td>\n",
       "      <td>NaN</td>\n",
       "      <td>NaN</td>\n",
       "      <td>[0, 1]</td>\n",
       "      <td>1.0</td>\n",
       "      <td>1.0</td>\n",
       "      <td>1.0</td>\n",
       "      <td>10.6788,12.4485,-101.173,-53.4043,-16.5584,-91...</td>\n",
       "      <td>10.6669,12.4485,-102.643,-53.4348,-16.5987,-92...</td>\n",
       "      <td>A</td>\n",
       "      <td>2.605022</td>\n",
       "      <td>2.605022</td>\n",
       "      <td>1.277084</td>\n",
       "      <td>2844.425</td>\n",
       "      <td>1972.590</td>\n",
       "      <td>4817.02</td>\n",
       "      <td>1</td>\n",
       "      <td>/home/kimlab1/database_data/biodb/recipes/elas...</td>\n",
       "      <td>/home/kimlab1/database_data/biodb/recipes/elas...</td>\n",
       "      <td></td>\n",
       "      <td>-0.996992</td>\n",
       "      <td>0,0,0,29</td>\n",
       "      <td>0,0,0,18</td>\n",
       "      <td>0,0,0,37</td>\n",
       "      <td>0,0,0,18</td>\n",
       "      <td>-2.95</td>\n",
       "      <td>E</td>\n",
       "      <td>E</td>\n",
       "      <td>51.239501</td>\n",
       "      <td>58.767676</td>\n",
       "      <td>26.3147,-116.363,-56.5455,-215.684,-19.4612,29...</td>\n",
       "      <td>24.5747,-116.394,-56.5858,-216.475,-19.4612,29...</td>\n",
       "      <td>2.20</td>\n",
       "      <td>P08921</td>\n",
       "      <td>L38V</td>\n",
       "      <td>PF07686</td>\n",
       "    </tr>\n",
       "  </tbody>\n",
       "</table>\n",
       "</div>"
      ],
      "text/plain": [
       "     pdb_id pdb_chain pdb_mutation mutation mutation_modeller  idx  partner_pdb_chain  partner_uniprot_id    idxs  alignment_coverage  alignment_identity  alignment_score                         analyse_complex_energy_mut                          analyse_complex_energy_wt chain_modeller  contact_distance_mut  contact_distance_wt       ddg  interface_area_hydrophilic  interface_area_hydrophobic  interface_area_total  matrix_score                                     model_file_mut                                      model_file_wt mutation_errors  norm_dope physchem_mut physchem_mut_ownchain physchem_wt physchem_wt_ownchain  provean_score secondary_structure_mut secondary_structure_wt  solvent_accessibility_mut  solvent_accessibility_wt                               stability_energy_mut                                stability_energy_wt  ddg_exp uniprot_id uniprot_mutation  pfam_id\n",
       "1182   1hz6         A       A_T25A     T28A              T28A    0                NaN                 NaN  [0, 1]                 1.0                 1.0              1.0  9.48767,9.04285,-1.86375,-3.12468,-4.28188,-8....  9.48114,9.06237,-1.34241,-2.99394,-4.07192,-8....              A              2.960603             2.586546  0.327134                     344.795                     227.805                572.60             0  /home/kimlab1/database_data/biodb/recipes/elas...  /home/kimlab1/database_data/biodb/recipes/elas...                  -1.012759      0,0,0,4              0,0,0,18     0,0,0,7             0,0,1,17          -5.00                       C                      C                  22.772950                 36.685072  10.617,-90.8421,-30.2506,-135.932,-1.58107,186...  10.9364,-91.3005,-30.6523,-136.067,-1.4978,186...     1.25     Q51912            T134A  PF02246\n",
       "661    1cdc         A       A_L16V     L13V             L109V    1                NaN                 NaN  [0, 1]                 1.0                 1.0              1.0  10.6788,12.4485,-101.173,-53.4043,-16.5584,-91...  10.6669,12.4485,-102.643,-53.4348,-16.5987,-92...              A              2.605022             2.605022  1.277084                    2844.425                    1972.590               4817.02             1  /home/kimlab1/database_data/biodb/recipes/elas...  /home/kimlab1/database_data/biodb/recipes/elas...                  -0.996992     0,0,0,29              0,0,0,18    0,0,0,37             0,0,0,18          -2.95                       E                      E                  51.239501                 58.767676  26.3147,-116.363,-56.5455,-215.684,-19.4612,29...  24.5747,-116.394,-56.5858,-216.475,-19.4612,29...     2.20     P08921             L38V  PF07686"
      ]
     },
     "execution_count": 70,
     "metadata": {},
     "output_type": "execute_result"
    }
   ],
   "source": [
    "df = (\n",
    "    interface_mutation_features_df_final[\n",
    "        _header_columns + _if_header_columns + [\n",
    "            c for c in interface_mutation_features_df_final.columns \n",
    "             if c not in (_header_columns + _if_header_columns)\n",
    "        ]\n",
    "    ]\n",
    ")\n",
    "\n",
    "df.head(2)"
   ]
  },
  {
   "cell_type": "code",
   "execution_count": 71,
   "metadata": {
    "collapsed": false,
    "run_control": {
     "marked": false
    }
   },
   "outputs": [],
   "source": [
    "t = db_local.import_df(\n",
    "    df,\n",
    "    DATASET + '_interface',\n",
    ")"
   ]
  },
  {
   "cell_type": "code",
   "execution_count": 72,
   "metadata": {
    "collapsed": false,
    "run_control": {
     "marked": false
    },
    "scrolled": true
   },
   "outputs": [
    {
     "data": {
      "text/plain": [
       "'protherm_star_interface'"
      ]
     },
     "execution_count": 72,
     "metadata": {},
     "output_type": "execute_result"
    }
   ],
   "source": [
    "t.name"
   ]
  },
  {
   "cell_type": "code",
   "execution_count": 73,
   "metadata": {
    "collapsed": false,
    "run_control": {
     "marked": false
    }
   },
   "outputs": [],
   "source": [
    "t.create_indexes([\n",
    "    (['pdb_id', 'pdb_chain', 'partner_pdb_chain', 'pdb_mutation'], True),\n",
    "    (['uniprot_id', 'partner_uniprot_id', 'uniprot_mutation'], False),\n",
    "])"
   ]
  },
  {
   "cell_type": "code",
   "execution_count": 74,
   "metadata": {
    "collapsed": false,
    "run_control": {
     "marked": false
    }
   },
   "outputs": [
    {
     "data": {
      "text/plain": [
       "162"
      ]
     },
     "execution_count": 74,
     "metadata": {},
     "output_type": "execute_result"
    }
   ],
   "source": [
    "t.add_idx_column('_index')"
   ]
  },
  {
   "cell_type": "code",
   "execution_count": 75,
   "metadata": {
    "collapsed": false
   },
   "outputs": [
    {
     "name": "stderr",
     "output_type": "stream",
     "text": [
      "File size before: 0.20 MB\n",
      "File size after: 0.10 MB\n",
      "File size savings: 0.10 MB (52.62 %)\n"
     ]
    }
   ],
   "source": [
    "t.compress()"
   ]
  },
  {
   "cell_type": "markdown",
   "metadata": {},
   "source": [
    "# Done"
   ]
  },
  {
   "cell_type": "code",
   "execution_count": 76,
   "metadata": {
    "collapsed": false
   },
   "outputs": [
    {
     "data": {
      "text/plain": [
       "datetime.datetime(2016, 9, 7, 12, 5, 16, 46379)"
      ]
     },
     "execution_count": 76,
     "metadata": {},
     "output_type": "execute_result"
    }
   ],
   "source": [
    "datetime.datetime.now()"
   ]
  },
  {
   "cell_type": "code",
   "execution_count": 77,
   "metadata": {
    "collapsed": false
   },
   "outputs": [
    {
     "data": {
      "text/plain": [
       "'/tmp/strokach'"
      ]
     },
     "execution_count": 77,
     "metadata": {},
     "output_type": "execute_result"
    }
   ],
   "source": [
    "os.environ['TMPDIR']"
   ]
  },
  {
   "cell_type": "code",
   "execution_count": null,
   "metadata": {
    "collapsed": true
   },
   "outputs": [],
   "source": []
  }
 ],
 "metadata": {
  "anaconda-cloud": {},
  "kernelspec": {
   "display_name": "Python [Root]",
   "language": "python",
   "name": "Python [Root]"
  },
  "language_info": {
   "codemirror_mode": {
    "name": "ipython",
    "version": 3
   },
   "file_extension": ".py",
   "mimetype": "text/x-python",
   "name": "python",
   "nbconvert_exporter": "python",
   "pygments_lexer": "ipython3",
   "version": "3.5.2"
  },
  "nav_menu": {
   "height": "391px",
   "width": "297px"
  },
  "toc": {
   "navigate_menu": true,
   "number_sections": true,
   "sideBar": false,
   "threshold": 6,
   "toc_cell": false,
   "toc_section_display": "block",
   "toc_window_display": true
  },
  "toc_position": {
   "height": "594px",
   "left": "85px",
   "right": "20px",
   "top": "70.9896px",
   "width": "230px"
  }
 },
 "nbformat": 4,
 "nbformat_minor": 0
}
