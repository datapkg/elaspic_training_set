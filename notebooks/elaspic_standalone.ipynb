{
 "cells": [
  {
   "cell_type": "markdown",
   "metadata": {
    "run_control": {
     "marked": false
    }
   },
   "source": [
    "# Summary\n",
    "\n",
    "Create `elaspic_standalone_core` and `elaspic_training_interface` databases and fill them with training data.\n",
    "\n",
    "----"
   ]
  },
  {
   "cell_type": "markdown",
   "metadata": {
    "run_control": {
     "marked": false
    }
   },
   "source": [
    "# Imports"
   ]
  },
  {
   "cell_type": "code",
   "execution_count": 1,
   "metadata": {
    "collapsed": false,
    "run_control": {
     "marked": false
    }
   },
   "outputs": [
    {
     "name": "stdout",
     "output_type": "stream",
     "text": [
      "2016-08-27 20:27:48.638462\n"
     ]
    }
   ],
   "source": [
    "%run imports.ipynb"
   ]
  },
  {
   "cell_type": "code",
   "execution_count": 2,
   "metadata": {
    "collapsed": false,
    "run_control": {
     "marked": false
    }
   },
   "outputs": [
    {
     "name": "stderr",
     "output_type": "stream",
     "text": [
      "MySQL database already running...\n"
     ]
    },
    {
     "name": "stdout",
     "output_type": "stream",
     "text": [
      "The autoreload extension is already loaded. To reload it, use:\n",
      "  %reload_ext autoreload\n",
      "2016-08-27 20:27:48.784160\n"
     ]
    }
   ],
   "source": [
    "%run db.ipynb"
   ]
  },
  {
   "cell_type": "code",
   "execution_count": 3,
   "metadata": {
    "collapsed": true,
    "run_control": {
     "marked": false
    }
   },
   "outputs": [],
   "source": [
    "NOTEBOOK_NAME = 'elaspic_standalone'\n",
    "os.makedirs(NOTEBOOK_NAME, exist_ok=True)"
   ]
  },
  {
   "cell_type": "code",
   "execution_count": 4,
   "metadata": {
    "collapsed": true
   },
   "outputs": [],
   "source": [
    "# Start a database connection\n",
    "db_local = datapkg.MySQLConnection(\n",
    "    connection_string=db_daemon.get_connection_string(NOTEBOOK_NAME),\n",
    "    shared_folder=os.environ['DB_TEMPDIR'],\n",
    "    storage_host=None,\n",
    "    datadir=db_daemon.datadir,\n",
    "    echo=False,\n",
    "    db_engine='MyISAM',\n",
    ")"
   ]
  },
  {
   "cell_type": "code",
   "execution_count": 5,
   "metadata": {
    "collapsed": true,
    "run_control": {
     "marked": false
    }
   },
   "outputs": [],
   "source": [
    "PDB_DIR = '/home/kimlab1/database_data/pdb/data/data/structures/all/pdb'\n",
    "# BLAST_DB_DIR = '/home/kimlab1/database_data/blast/db'\n",
    "BLAST_DB_DIR = '/home/strokach/databases/blast/db'\n",
    "ARCHIVE_DIR = '/home/kimlab1/database_data/elaspic_v2'"
   ]
  },
  {
   "cell_type": "markdown",
   "metadata": {
    "run_control": {
     "marked": false
    }
   },
   "source": [
    "# Load data"
   ]
  },
  {
   "cell_type": "code",
   "execution_count": 660,
   "metadata": {
    "collapsed": true
   },
   "outputs": [],
   "source": [
    "CORE_DATASETS = [\n",
    "    'protherm', 'protherm_star',\n",
    "]\n",
    "    \n",
    "INTERFACE_DATASETS = [\n",
    "    # No partner uniprot provided:\n",
    "    'ab_bind', 'benedix_et_al', 'hiv_escape_mutations',\n",
    "    #\n",
    "    'kortemme_baker', 'skempi',\n",
    "]\n",
    "\n",
    "assert not (set(CORE_DATASETS) & set(INTERFACE_DATASETS))"
   ]
  },
  {
   "cell_type": "code",
   "execution_count": 661,
   "metadata": {
    "collapsed": false,
    "run_control": {
     "marked": false
    }
   },
   "outputs": [],
   "source": [
    "DATA = {}\n",
    "\n",
    "for dataset in CORE_DATASETS:\n",
    "    DATA[dataset] = pd.read_sql_table(dataset, db.engine, schema='protein_folding_energy')\n",
    "\n",
    "for dataset in INTERFACE_DATASETS:\n",
    "    DATA[dataset] = pd.read_sql_table(dataset, db.engine, schema='protein_interaction_energy')"
   ]
  },
  {
   "cell_type": "code",
   "execution_count": 662,
   "metadata": {
    "collapsed": false,
    "run_control": {
     "marked": false
    }
   },
   "outputs": [
    {
     "data": {
      "text/html": [
       "<div>\n",
       "<table border=\"1\" class=\"dataframe\">\n",
       "  <thead>\n",
       "    <tr style=\"text-align: right;\">\n",
       "      <th></th>\n",
       "      <th>idx</th>\n",
       "      <th>RecordID</th>\n",
       "      <th>PDBFileID</th>\n",
       "      <th>Mutations</th>\n",
       "      <th>DDG</th>\n",
       "      <th>ResidueExposures</th>\n",
       "      <th>DSSPTypes</th>\n",
       "      <th>DSSPSimpleTypes</th>\n",
       "      <th>IndividualDDGs</th>\n",
       "      <th>pdb_id</th>\n",
       "      <th>pdb_chain</th>\n",
       "      <th>pdb_mutation</th>\n",
       "      <th>ddg_exp</th>\n",
       "      <th>uniprot_id</th>\n",
       "      <th>uniprot_mutation</th>\n",
       "      <th>pfam_id</th>\n",
       "      <th>pdb_chain_sifts</th>\n",
       "      <th>pdb_mutation_sifts</th>\n",
       "      <th>dataset</th>\n",
       "    </tr>\n",
       "  </thead>\n",
       "  <tbody>\n",
       "    <tr>\n",
       "      <th>0</th>\n",
       "      <td>1</td>\n",
       "      <td>69</td>\n",
       "      <td>1A2P</td>\n",
       "      <td>A Q 104 A</td>\n",
       "      <td>0.09</td>\n",
       "      <td>0.671957671958</td>\n",
       "      <td>S</td>\n",
       "      <td>O</td>\n",
       "      <td>0.16_0.02</td>\n",
       "      <td>1a2p</td>\n",
       "      <td>A</td>\n",
       "      <td>A_Q104A</td>\n",
       "      <td>0.09</td>\n",
       "      <td>P00648</td>\n",
       "      <td>Q151A</td>\n",
       "      <td>PF00545</td>\n",
       "      <td>A</td>\n",
       "      <td>Q104A</td>\n",
       "      <td>alascan_gpk</td>\n",
       "    </tr>\n",
       "    <tr>\n",
       "      <th>1</th>\n",
       "      <td>2</td>\n",
       "      <td>68</td>\n",
       "      <td>1A2P</td>\n",
       "      <td>A I 109 A</td>\n",
       "      <td>1.63</td>\n",
       "      <td>0.214285714286</td>\n",
       "      <td></td>\n",
       "      <td>O</td>\n",
       "      <td>1.27_2.22_1.4</td>\n",
       "      <td>1a2p</td>\n",
       "      <td>A</td>\n",
       "      <td>A_I109A</td>\n",
       "      <td>1.63</td>\n",
       "      <td>P00648</td>\n",
       "      <td>I156A</td>\n",
       "      <td>None</td>\n",
       "      <td>A</td>\n",
       "      <td>I109A</td>\n",
       "      <td>alascan_gpk</td>\n",
       "    </tr>\n",
       "    <tr>\n",
       "      <th>2</th>\n",
       "      <td>3</td>\n",
       "      <td>80</td>\n",
       "      <td>1A2P</td>\n",
       "      <td>A V 10 A</td>\n",
       "      <td>3.47</td>\n",
       "      <td>0</td>\n",
       "      <td>H</td>\n",
       "      <td>H</td>\n",
       "      <td>3.47</td>\n",
       "      <td>1a2p</td>\n",
       "      <td>A</td>\n",
       "      <td>A_V10A</td>\n",
       "      <td>3.47</td>\n",
       "      <td>P00648</td>\n",
       "      <td>V57A</td>\n",
       "      <td>None</td>\n",
       "      <td>A</td>\n",
       "      <td>V10A</td>\n",
       "      <td>alascan_gpk</td>\n",
       "    </tr>\n",
       "    <tr>\n",
       "      <th>3</th>\n",
       "      <td>4</td>\n",
       "      <td>71</td>\n",
       "      <td>1A2P</td>\n",
       "      <td>A R 110 A</td>\n",
       "      <td>-0.07</td>\n",
       "      <td>0.315352697095</td>\n",
       "      <td></td>\n",
       "      <td>O</td>\n",
       "      <td>-0.07</td>\n",
       "      <td>1a2p</td>\n",
       "      <td>A</td>\n",
       "      <td>A_R110A</td>\n",
       "      <td>-0.07</td>\n",
       "      <td>P00648</td>\n",
       "      <td>R157A</td>\n",
       "      <td>None</td>\n",
       "      <td>A</td>\n",
       "      <td>R110A</td>\n",
       "      <td>alascan_gpk</td>\n",
       "    </tr>\n",
       "    <tr>\n",
       "      <th>4</th>\n",
       "      <td>5</td>\n",
       "      <td>83</td>\n",
       "      <td>1A2P</td>\n",
       "      <td>A D 12 A</td>\n",
       "      <td>0.39</td>\n",
       "      <td>0.529801324503</td>\n",
       "      <td>H</td>\n",
       "      <td>H</td>\n",
       "      <td>0.39</td>\n",
       "      <td>1a2p</td>\n",
       "      <td>A</td>\n",
       "      <td>A_D12A</td>\n",
       "      <td>0.39</td>\n",
       "      <td>P00648</td>\n",
       "      <td>D59A</td>\n",
       "      <td>None</td>\n",
       "      <td>A</td>\n",
       "      <td>D12A</td>\n",
       "      <td>alascan_gpk</td>\n",
       "    </tr>\n",
       "  </tbody>\n",
       "</table>\n",
       "</div>"
      ],
      "text/plain": [
       "   idx  RecordID PDBFileID  Mutations   DDG ResidueExposures DSSPTypes DSSPSimpleTypes IndividualDDGs pdb_id pdb_chain pdb_mutation  ddg_exp uniprot_id uniprot_mutation  pfam_id pdb_chain_sifts pdb_mutation_sifts      dataset\n",
       "0    1        69      1A2P  A Q 104 A  0.09   0.671957671958         S               O      0.16_0.02   1a2p         A      A_Q104A     0.09     P00648            Q151A  PF00545               A              Q104A  alascan_gpk\n",
       "1    2        68      1A2P  A I 109 A  1.63   0.214285714286                         O  1.27_2.22_1.4   1a2p         A      A_I109A     1.63     P00648            I156A     None               A              I109A  alascan_gpk\n",
       "2    3        80      1A2P   A V 10 A  3.47                0         H               H           3.47   1a2p         A       A_V10A     3.47     P00648             V57A     None               A               V10A  alascan_gpk\n",
       "3    4        71      1A2P  A R 110 A -0.07   0.315352697095                         O          -0.07   1a2p         A      A_R110A    -0.07     P00648            R157A     None               A              R110A  alascan_gpk\n",
       "4    5        83      1A2P   A D 12 A  0.39   0.529801324503         H               H           0.39   1a2p         A       A_D12A     0.39     P00648             D59A     None               A               D12A  alascan_gpk"
      ]
     },
     "metadata": {},
     "output_type": "display_data"
    },
    {
     "name": "stdout",
     "output_type": "stream",
     "text": [
      "8098\n"
     ]
    }
   ],
   "source": [
    "display(DATA['protherm_star'].head())\n",
    "print(DATA['protherm_star'].shape[0])"
   ]
  },
  {
   "cell_type": "markdown",
   "metadata": {
    "run_control": {
     "marked": false
    }
   },
   "source": [
    "# RUN"
   ]
  },
  {
   "cell_type": "code",
   "execution_count": 1057,
   "metadata": {
    "collapsed": true,
    "run_control": {
     "marked": false
    }
   },
   "outputs": [],
   "source": [
    "DATASET = 'skempi'\n",
    "SUFFIX = '_2'\n",
    "\n",
    "dataset_map = {\n",
    "    'protherm_star': 'protherm'\n",
    "}\n",
    "JOB_NAME = (dataset_map.get(DATASET, DATASET) + SUFFIX)"
   ]
  },
  {
   "cell_type": "code",
   "execution_count": 1058,
   "metadata": {
    "collapsed": false
   },
   "outputs": [
    {
     "name": "stdout",
     "output_type": "stream",
     "text": [
      "skempi\n",
      "_2\n",
      "skempi_2\n"
     ]
    }
   ],
   "source": [
    "print(DATASET)\n",
    "print(SUFFIX)\n",
    "print(JOB_NAME)"
   ]
  },
  {
   "cell_type": "code",
   "execution_count": 1059,
   "metadata": {
    "collapsed": false,
    "run_control": {
     "marked": false
    }
   },
   "outputs": [],
   "source": [
    "DF = DATA[DATASET].copy()"
   ]
  },
  {
   "cell_type": "code",
   "execution_count": 1060,
   "metadata": {
    "collapsed": false,
    "run_control": {
     "marked": false
    }
   },
   "outputs": [
    {
     "name": "stdout",
     "output_type": "stream",
     "text": [
      "Lost 463 multi-mutant rows.\n"
     ]
    }
   ],
   "source": [
    "# Remove multi-mutants (for now)\n",
    "_before = DF.shape[0]\n",
    "DF = DF[~DF['pdb_mutation'].str.contains('\\.')]\n",
    "DF = DF[~DF['pdb_mutation'].str.contains(',')]\n",
    "print(\"Lost {} multi-mutant rows.\".format(_before - DF.shape[0]))"
   ]
  },
  {
   "cell_type": "code",
   "execution_count": 1061,
   "metadata": {
    "collapsed": false
   },
   "outputs": [
    {
     "name": "stdout",
     "output_type": "stream",
     "text": [
      "Adding 'pdb_chain' to 'pdb_mutation'\n"
     ]
    }
   ],
   "source": [
    "if not DF['pdb_mutation'].str.contains('_').all():\n",
    "    print(\"Adding 'pdb_chain' to 'pdb_mutation'\")\n",
    "    DF['pdb_mutation'] = DF['pdb_chain'] + '_' + DF['pdb_mutation']"
   ]
  },
  {
   "cell_type": "code",
   "execution_count": 1062,
   "metadata": {
    "collapsed": false,
    "run_control": {
     "marked": false
    }
   },
   "outputs": [
    {
     "name": "stdout",
     "output_type": "stream",
     "text": [
      "1750\n"
     ]
    }
   ],
   "source": [
    "print(DF.shape[0])"
   ]
  },
  {
   "cell_type": "code",
   "execution_count": 1063,
   "metadata": {
    "collapsed": true,
    "run_control": {
     "marked": false
    }
   },
   "outputs": [],
   "source": [
    "DF['pdb_file'] = PDB_DIR + ('/pdb' + DF['pdb_id'] + '.ent.gz')"
   ]
  },
  {
   "cell_type": "code",
   "execution_count": 1064,
   "metadata": {
    "collapsed": false
   },
   "outputs": [
    {
     "data": {
      "text/plain": [
       "(1750, 12)"
      ]
     },
     "execution_count": 1064,
     "metadata": {},
     "output_type": "execute_result"
    }
   ],
   "source": [
    "DF.shape"
   ]
  },
  {
   "cell_type": "code",
   "execution_count": 1065,
   "metadata": {
    "collapsed": false
   },
   "outputs": [
    {
     "name": "stdout",
     "output_type": "stream",
     "text": [
      "Run stage: 2\n"
     ]
    }
   ],
   "source": [
    "RUN_STAGE = 2  # 1: Provean and homology models, 2: Mutations\n",
    "print(\"Run stage: {}\".format(RUN_STAGE))\n",
    "\n",
    "try:\n",
    "    del DF_TO_CALCULATE, SYSTEM_COMMAND_TEMPLATE\n",
    "except NameError:\n",
    "    pass"
   ]
  },
  {
   "cell_type": "code",
   "execution_count": 1066,
   "metadata": {
    "collapsed": false
   },
   "outputs": [],
   "source": [
    "if RUN_STAGE == 1:\n",
    "    DF_TO_CALCULATE = DF.drop_duplicates('pdb_file')\n",
    "    print(\"Analysing {} unique proteins...\".format(len(DF_TO_CALCULATE)))\n",
    "\n",
    "    SYSTEM_COMMAND_TEMPLATE = \"\"\"\\\n",
    "mkdir -p '{tempdir}' && \\\n",
    "cd '{tempdir}' && \\\n",
    "elaspic run -p '{pdb_file}' -t 'sequence.model' -vvv \\\n",
    "    --pdb_dir='%s/' \\\n",
    "    --blast_db_dir='%s' \\\n",
    "    --archive_dir='%s/' \\\n",
    "    # Decoys: {mutation} \n",
    "\"\"\" % (PDB_DIR, BLAST_DB_DIR, ARCHIVE_DIR)"
   ]
  },
  {
   "cell_type": "code",
   "execution_count": 1067,
   "metadata": {
    "collapsed": false,
    "run_control": {
     "marked": false
    }
   },
   "outputs": [
    {
     "name": "stdout",
     "output_type": "stream",
     "text": [
      "Analysing 1750 unique mutations...\n"
     ]
    }
   ],
   "source": [
    "if RUN_STAGE == 2:\n",
    "    DF_TO_CALCULATE = DF.drop_duplicates(['pdb_file', 'pdb_mutation'])\n",
    "    print(\"Analysing {} unique mutations...\".format(len(DF_TO_CALCULATE)))\n",
    "\n",
    "    # NB: `-n` is \"mutation_format\"\n",
    "    SYSTEM_COMMAND_TEMPLATE = \"\"\"\\\n",
    "mkdir -p '{tempdir}' && \\\n",
    "cd '{tempdir}' && \\\n",
    "elaspic run -p '{pdb_file}' -t 'mutation' -m '{mutation}' -n 1 -vvv \\\n",
    "    --pdb_dir='%s/' \\\n",
    "    --blast_db_dir='%s' \\\n",
    "    --archive_dir='%s/'\n",
    "\"\"\" % (PDB_DIR, BLAST_DB_DIR, ARCHIVE_DIR)"
   ]
  },
  {
   "cell_type": "code",
   "execution_count": 1068,
   "metadata": {
    "collapsed": false,
    "run_control": {
     "marked": false
    }
   },
   "outputs": [
    {
     "data": {
      "text/html": [
       "<div>\n",
       "<table border=\"1\" class=\"dataframe\">\n",
       "  <thead>\n",
       "    <tr style=\"text-align: right;\">\n",
       "      <th></th>\n",
       "      <th>id</th>\n",
       "      <th>uniprot_id</th>\n",
       "      <th>partner_uniprot_id</th>\n",
       "      <th>uniprot_mutation</th>\n",
       "      <th>pdb_id</th>\n",
       "      <th>pdb_chain</th>\n",
       "      <th>partner_pdb_chain</th>\n",
       "      <th>pdb_mutation</th>\n",
       "      <th>pfam_id</th>\n",
       "      <th>pfam_clan</th>\n",
       "      <th>ddg_exp</th>\n",
       "      <th>pdb_file</th>\n",
       "    </tr>\n",
       "  </thead>\n",
       "  <tbody>\n",
       "    <tr>\n",
       "      <th>0</th>\n",
       "      <td>1</td>\n",
       "      <td>A0NA69</td>\n",
       "      <td>P01820</td>\n",
       "      <td>D71A</td>\n",
       "      <td>1dvf</td>\n",
       "      <td>D</td>\n",
       "      <td>B</td>\n",
       "      <td>D_D52A</td>\n",
       "      <td>None</td>\n",
       "      <td>None</td>\n",
       "      <td>1.682290</td>\n",
       "      <td>/home/kimlab1/database_data/pdb/data/data/stru...</td>\n",
       "    </tr>\n",
       "    <tr>\n",
       "      <th>1</th>\n",
       "      <td>2</td>\n",
       "      <td>A0NA69</td>\n",
       "      <td>P01820</td>\n",
       "      <td>K49A</td>\n",
       "      <td>1dvf</td>\n",
       "      <td>D</td>\n",
       "      <td>B</td>\n",
       "      <td>D_K30A</td>\n",
       "      <td>None</td>\n",
       "      <td>None</td>\n",
       "      <td>1.003517</td>\n",
       "      <td>/home/kimlab1/database_data/pdb/data/data/stru...</td>\n",
       "    </tr>\n",
       "    <tr>\n",
       "      <th>2</th>\n",
       "      <td>3</td>\n",
       "      <td>A0NA69</td>\n",
       "      <td>P01820</td>\n",
       "      <td>N74A</td>\n",
       "      <td>1dvf</td>\n",
       "      <td>D</td>\n",
       "      <td>B</td>\n",
       "      <td>D_N54A</td>\n",
       "      <td>None</td>\n",
       "      <td>None</td>\n",
       "      <td>1.860601</td>\n",
       "      <td>/home/kimlab1/database_data/pdb/data/data/stru...</td>\n",
       "    </tr>\n",
       "    <tr>\n",
       "      <th>3</th>\n",
       "      <td>4</td>\n",
       "      <td>P00044</td>\n",
       "      <td>P00431</td>\n",
       "      <td>A87G</td>\n",
       "      <td>2pcc</td>\n",
       "      <td>B</td>\n",
       "      <td>A</td>\n",
       "      <td>B_A81G</td>\n",
       "      <td>PF00034</td>\n",
       "      <td>CL0318</td>\n",
       "      <td>1.901004</td>\n",
       "      <td>/home/kimlab1/database_data/pdb/data/data/stru...</td>\n",
       "    </tr>\n",
       "    <tr>\n",
       "      <th>4</th>\n",
       "      <td>5</td>\n",
       "      <td>P00044</td>\n",
       "      <td>P00431</td>\n",
       "      <td>K78A</td>\n",
       "      <td>2pcc</td>\n",
       "      <td>B</td>\n",
       "      <td>A</td>\n",
       "      <td>B_K72A</td>\n",
       "      <td>PF00034</td>\n",
       "      <td>CL0318</td>\n",
       "      <td>0.303533</td>\n",
       "      <td>/home/kimlab1/database_data/pdb/data/data/stru...</td>\n",
       "    </tr>\n",
       "  </tbody>\n",
       "</table>\n",
       "</div>"
      ],
      "text/plain": [
       "   id uniprot_id partner_uniprot_id uniprot_mutation pdb_id pdb_chain partner_pdb_chain pdb_mutation  pfam_id pfam_clan   ddg_exp                                           pdb_file\n",
       "0   1     A0NA69             P01820             D71A   1dvf         D                 B       D_D52A     None      None  1.682290  /home/kimlab1/database_data/pdb/data/data/stru...\n",
       "1   2     A0NA69             P01820             K49A   1dvf         D                 B       D_K30A     None      None  1.003517  /home/kimlab1/database_data/pdb/data/data/stru...\n",
       "2   3     A0NA69             P01820             N74A   1dvf         D                 B       D_N54A     None      None  1.860601  /home/kimlab1/database_data/pdb/data/data/stru...\n",
       "3   4     P00044             P00431             A87G   2pcc         B                 A       B_A81G  PF00034    CL0318  1.901004  /home/kimlab1/database_data/pdb/data/data/stru...\n",
       "4   5     P00044             P00431             K78A   2pcc         B                 A       B_K72A  PF00034    CL0318  0.303533  /home/kimlab1/database_data/pdb/data/data/stru..."
      ]
     },
     "metadata": {},
     "output_type": "display_data"
    },
    {
     "name": "stdout",
     "output_type": "stream",
     "text": [
      "1750\n"
     ]
    }
   ],
   "source": [
    "display(DF_TO_CALCULATE.head())\n",
    "print(DF_TO_CALCULATE.shape[0])"
   ]
  },
  {
   "cell_type": "code",
   "execution_count": 1069,
   "metadata": {
    "collapsed": false,
    "run_control": {
     "marked": false
    }
   },
   "outputs": [],
   "source": [
    "DF_TO_CALCULATE['system_command'] = (\n",
    "    DF_TO_CALCULATE.apply(\n",
    "        lambda x: SYSTEM_COMMAND_TEMPLATE.format(\n",
    "            tempdir=op.abspath(op.join(NOTEBOOK_NAME, JOB_NAME, x['pdb_id'].lower())),\n",
    "            pdb_file=x['pdb_file'],\n",
    "            mutation=x['pdb_mutation']),\n",
    "        axis=1)\n",
    ")"
   ]
  },
  {
   "cell_type": "code",
   "execution_count": 1070,
   "metadata": {
    "collapsed": false,
    "run_control": {
     "marked": false
    }
   },
   "outputs": [
    {
     "data": {
      "text/html": [
       "<div>\n",
       "<table border=\"1\" class=\"dataframe\">\n",
       "  <thead>\n",
       "    <tr style=\"text-align: right;\">\n",
       "      <th></th>\n",
       "      <th>id</th>\n",
       "      <th>uniprot_id</th>\n",
       "      <th>partner_uniprot_id</th>\n",
       "      <th>uniprot_mutation</th>\n",
       "      <th>pdb_id</th>\n",
       "      <th>pdb_chain</th>\n",
       "      <th>partner_pdb_chain</th>\n",
       "      <th>pdb_mutation</th>\n",
       "      <th>pfam_id</th>\n",
       "      <th>pfam_clan</th>\n",
       "      <th>ddg_exp</th>\n",
       "      <th>pdb_file</th>\n",
       "      <th>system_command</th>\n",
       "    </tr>\n",
       "  </thead>\n",
       "  <tbody>\n",
       "    <tr>\n",
       "      <th>0</th>\n",
       "      <td>1</td>\n",
       "      <td>A0NA69</td>\n",
       "      <td>P01820</td>\n",
       "      <td>D71A</td>\n",
       "      <td>1dvf</td>\n",
       "      <td>D</td>\n",
       "      <td>B</td>\n",
       "      <td>D_D52A</td>\n",
       "      <td>None</td>\n",
       "      <td>None</td>\n",
       "      <td>1.682290</td>\n",
       "      <td>/home/kimlab1/database_data/pdb/data/data/stru...</td>\n",
       "      <td>mkdir -p '/home/kimlab1/database_data/biodb/re...</td>\n",
       "    </tr>\n",
       "    <tr>\n",
       "      <th>1</th>\n",
       "      <td>2</td>\n",
       "      <td>A0NA69</td>\n",
       "      <td>P01820</td>\n",
       "      <td>K49A</td>\n",
       "      <td>1dvf</td>\n",
       "      <td>D</td>\n",
       "      <td>B</td>\n",
       "      <td>D_K30A</td>\n",
       "      <td>None</td>\n",
       "      <td>None</td>\n",
       "      <td>1.003517</td>\n",
       "      <td>/home/kimlab1/database_data/pdb/data/data/stru...</td>\n",
       "      <td>mkdir -p '/home/kimlab1/database_data/biodb/re...</td>\n",
       "    </tr>\n",
       "    <tr>\n",
       "      <th>2</th>\n",
       "      <td>3</td>\n",
       "      <td>A0NA69</td>\n",
       "      <td>P01820</td>\n",
       "      <td>N74A</td>\n",
       "      <td>1dvf</td>\n",
       "      <td>D</td>\n",
       "      <td>B</td>\n",
       "      <td>D_N54A</td>\n",
       "      <td>None</td>\n",
       "      <td>None</td>\n",
       "      <td>1.860601</td>\n",
       "      <td>/home/kimlab1/database_data/pdb/data/data/stru...</td>\n",
       "      <td>mkdir -p '/home/kimlab1/database_data/biodb/re...</td>\n",
       "    </tr>\n",
       "    <tr>\n",
       "      <th>3</th>\n",
       "      <td>4</td>\n",
       "      <td>P00044</td>\n",
       "      <td>P00431</td>\n",
       "      <td>A87G</td>\n",
       "      <td>2pcc</td>\n",
       "      <td>B</td>\n",
       "      <td>A</td>\n",
       "      <td>B_A81G</td>\n",
       "      <td>PF00034</td>\n",
       "      <td>CL0318</td>\n",
       "      <td>1.901004</td>\n",
       "      <td>/home/kimlab1/database_data/pdb/data/data/stru...</td>\n",
       "      <td>mkdir -p '/home/kimlab1/database_data/biodb/re...</td>\n",
       "    </tr>\n",
       "    <tr>\n",
       "      <th>4</th>\n",
       "      <td>5</td>\n",
       "      <td>P00044</td>\n",
       "      <td>P00431</td>\n",
       "      <td>K78A</td>\n",
       "      <td>2pcc</td>\n",
       "      <td>B</td>\n",
       "      <td>A</td>\n",
       "      <td>B_K72A</td>\n",
       "      <td>PF00034</td>\n",
       "      <td>CL0318</td>\n",
       "      <td>0.303533</td>\n",
       "      <td>/home/kimlab1/database_data/pdb/data/data/stru...</td>\n",
       "      <td>mkdir -p '/home/kimlab1/database_data/biodb/re...</td>\n",
       "    </tr>\n",
       "  </tbody>\n",
       "</table>\n",
       "</div>"
      ],
      "text/plain": [
       "   id uniprot_id partner_uniprot_id uniprot_mutation pdb_id pdb_chain partner_pdb_chain pdb_mutation  pfam_id pfam_clan   ddg_exp                                           pdb_file                                     system_command\n",
       "0   1     A0NA69             P01820             D71A   1dvf         D                 B       D_D52A     None      None  1.682290  /home/kimlab1/database_data/pdb/data/data/stru...  mkdir -p '/home/kimlab1/database_data/biodb/re...\n",
       "1   2     A0NA69             P01820             K49A   1dvf         D                 B       D_K30A     None      None  1.003517  /home/kimlab1/database_data/pdb/data/data/stru...  mkdir -p '/home/kimlab1/database_data/biodb/re...\n",
       "2   3     A0NA69             P01820             N74A   1dvf         D                 B       D_N54A     None      None  1.860601  /home/kimlab1/database_data/pdb/data/data/stru...  mkdir -p '/home/kimlab1/database_data/biodb/re...\n",
       "3   4     P00044             P00431             A87G   2pcc         B                 A       B_A81G  PF00034    CL0318  1.901004  /home/kimlab1/database_data/pdb/data/data/stru...  mkdir -p '/home/kimlab1/database_data/biodb/re...\n",
       "4   5     P00044             P00431             K78A   2pcc         B                 A       B_K72A  PF00034    CL0318  0.303533  /home/kimlab1/database_data/pdb/data/data/stru...  mkdir -p '/home/kimlab1/database_data/biodb/re..."
      ]
     },
     "metadata": {},
     "output_type": "display_data"
    },
    {
     "name": "stdout",
     "output_type": "stream",
     "text": [
      "1750\n"
     ]
    }
   ],
   "source": [
    "display(DF_TO_CALCULATE.head())\n",
    "print(DF_TO_CALCULATE.shape[0])"
   ]
  },
  {
   "cell_type": "code",
   "execution_count": 1071,
   "metadata": {
    "collapsed": false,
    "run_control": {
     "marked": false
    }
   },
   "outputs": [
    {
     "data": {
      "text/plain": [
       "\"mkdir -p '/home/kimlab1/database_data/biodb/recipes/elaspic_training_set/notebooks/elaspic_standalone/skempi_2/1dvf' && cd '/home/kimlab1/database_data/biodb/recipes/elaspic_training_set/notebooks/elaspic_standalone/skempi_2/1dvf' && elaspic run -p '/home/kimlab1/database_data/pdb/data/data/structures/all/pdb/pdb1dvf.ent.gz' -t 'mutation' -m 'D_D52A' -n 1 -vvv     --pdb_dir='/home/kimlab1/database_data/pdb/data/data/structures/all/pdb/'     --blast_db_dir='/home/strokach/databases/blast/db'     --archive_dir='/home/kimlab1/database_data/elaspic_v2/'\\n\""
      ]
     },
     "execution_count": 1071,
     "metadata": {},
     "output_type": "execute_result"
    }
   ],
   "source": [
    "DF_TO_CALCULATE.loc[0, 'system_command']"
   ]
  },
  {
   "cell_type": "raw",
   "metadata": {},
   "source": [
    "!{DF_TO_CALCULATE.loc[76, 'system_command']}"
   ]
  },
  {
   "cell_type": "markdown",
   "metadata": {
    "run_control": {
     "marked": false
    }
   },
   "source": [
    "## QSUB"
   ]
  },
  {
   "cell_type": "code",
   "execution_count": 1072,
   "metadata": {
    "collapsed": true
   },
   "outputs": [],
   "source": [
    "PATH = (\n",
    "    '/home/kimlab1/strokach/anaconda/bin:/usr/local/bin:/bin:/usr/bin:/usr/local/sbin:/usr/sbin:/sbin'\n",
    ")"
   ]
  },
  {
   "cell_type": "raw",
   "metadata": {
    "collapsed": false,
    "run_control": {
     "marked": false
    }
   },
   "source": [
    "js = jobsubmitter.JobSubmitter(\n",
    "    JOB_NAME,\n",
    "    'pbs://:@192.168.233.150',\n",
    "    op.abspath(NOTEBOOK_NAME),\n",
    "    force_new_folder=False,\n",
    "    email='ostrokach@gmail.com',\n",
    "    nproc=1, queue='medium', walltime='8:00:00', mem='6G',\n",
    "    env={'PATH': PATH},\n",
    "    concurrent_job_limit=800,\n",
    ")"
   ]
  },
  {
   "cell_type": "code",
   "execution_count": 1073,
   "metadata": {
    "collapsed": false
   },
   "outputs": [
    {
     "name": "stderr",
     "output_type": "stream",
     "text": [
      "Using an existing folder for log output. This is dangerous!!!\n"
     ]
    }
   ],
   "source": [
    "js = jobsubmitter.JobSubmitter(\n",
    "    JOB_NAME, \n",
    "    'sge://:@192.168.6.201', \n",
    "    op.abspath(NOTEBOOK_NAME),\n",
    "    force_new_folder=False,\n",
    "    email='ostrokach@gmail.com', \n",
    "    nproc=1, queue='medium', walltime='8:00:00', mem='6G',\n",
    "    env={'PATH': PATH},\n",
    ")"
   ]
  },
  {
   "cell_type": "code",
   "execution_count": 1074,
   "metadata": {
    "collapsed": false,
    "run_control": {
     "marked": false
    }
   },
   "outputs": [
    {
     "data": {
      "text/plain": [
       "'skempi_2'"
      ]
     },
     "execution_count": 1074,
     "metadata": {},
     "output_type": "execute_result"
    }
   ],
   "source": [
    "js.job_name"
   ]
  },
  {
   "cell_type": "code",
   "execution_count": 1075,
   "metadata": {
    "collapsed": false,
    "run_control": {
     "marked": false
    }
   },
   "outputs": [
    {
     "data": {
      "text/plain": [
       "[['1dvf',\n",
       "  \"mkdir -p '/home/kimlab1/database_data/biodb/recipes/elaspic_training_set/notebooks/elaspic_standalone/skempi_2/1dvf' && cd '/home/kimlab1/database_data/biodb/recipes/elaspic_training_set/notebooks/elaspic_standalone/skempi_2/1dvf' && elaspic run -p '/home/kimlab1/database_data/pdb/data/data/structures/all/pdb/pdb1dvf.ent.gz' -t 'mutation' -m 'D_D52A' -n 1 -vvv     --pdb_dir='/home/kimlab1/database_data/pdb/data/data/structures/all/pdb/'     --blast_db_dir='/home/strokach/databases/blast/db'     --archive_dir='/home/kimlab1/database_data/elaspic_v2/'\\n\"]]"
      ]
     },
     "execution_count": 1075,
     "metadata": {},
     "output_type": "execute_result"
    }
   ],
   "source": [
    "DF_TO_CALCULATE[['pdb_id', 'system_command']].values.tolist()[:1]"
   ]
  },
  {
   "cell_type": "raw",
   "metadata": {
    "collapsed": true,
    "run_control": {
     "marked": false
    }
   },
   "source": [
    "if RUN_STAGE == 1:\n",
    "    with js.connect():\n",
    "        js.submit(DF_TO_CALCULATE[['pdb_id', 'system_command']].values.tolist())"
   ]
  },
  {
   "cell_type": "raw",
   "metadata": {
    "collapsed": true
   },
   "source": [
    "if RUN_STAGE == 2:\n",
    "    with js.connect():\n",
    "        js.submit(DF_TO_CALCULATE.reset_index()[['index', 'system_command']].values.tolist())"
   ]
  },
  {
   "cell_type": "markdown",
   "metadata": {
    "collapsed": true,
    "run_control": {
     "marked": false
    }
   },
   "source": [
    "## Resubmit failed"
   ]
  },
  {
   "cell_type": "code",
   "execution_count": 1076,
   "metadata": {
    "collapsed": false
   },
   "outputs": [
    {
     "data": {
      "text/plain": [
       "2"
      ]
     },
     "execution_count": 1076,
     "metadata": {},
     "output_type": "execute_result"
    }
   ],
   "source": [
    "RUN_STAGE"
   ]
  },
  {
   "cell_type": "code",
   "execution_count": 1077,
   "metadata": {
    "collapsed": false
   },
   "outputs": [
    {
     "data": {
      "text/plain": [
       "'None'"
      ]
     },
     "execution_count": 1077,
     "metadata": {},
     "output_type": "execute_result"
    }
   ],
   "source": [
    "str(None)"
   ]
  },
  {
   "cell_type": "code",
   "execution_count": 1078,
   "metadata": {
    "collapsed": false,
    "run_control": {
     "marked": false
    }
   },
   "outputs": [
    {
     "name": "stdout",
     "output_type": "stream",
     "text": [
      "Counter({'misformed output': 1733, 'frozen': 16, 'error': 1})\n"
     ]
    }
   ],
   "source": [
    "# Get job status\n",
    "if RUN_STAGE == 1:\n",
    "    results_df = js.job_status(DF_TO_CALCULATE[['pdb_id', 'system_command']].values.tolist())\n",
    "elif RUN_STAGE == 2:\n",
    "    results_df = js.job_status(DF_TO_CALCULATE.reset_index()[['index', 'system_command']].values.tolist())\n",
    "\n",
    "print(Counter(results_df['status']))"
   ]
  },
  {
   "cell_type": "code",
   "execution_count": 1079,
   "metadata": {
    "collapsed": false,
    "run_control": {
     "marked": false
    },
    "scrolled": true
   },
   "outputs": [
    {
     "data": {
      "text/html": [
       "<div>\n",
       "<table border=\"1\" class=\"dataframe\">\n",
       "  <thead>\n",
       "    <tr style=\"text-align: right;\">\n",
       "      <th></th>\n",
       "      <th>job_id</th>\n",
       "      <th>status</th>\n",
       "      <th>system_command</th>\n",
       "    </tr>\n",
       "  </thead>\n",
       "  <tbody>\n",
       "    <tr>\n",
       "      <th>1745</th>\n",
       "      <td>2208</td>\n",
       "      <td>misformed output</td>\n",
       "      <td>mkdir -p '/home/kimlab1/database_data/biodb/re...</td>\n",
       "    </tr>\n",
       "    <tr>\n",
       "      <th>1746</th>\n",
       "      <td>2209</td>\n",
       "      <td>misformed output</td>\n",
       "      <td>mkdir -p '/home/kimlab1/database_data/biodb/re...</td>\n",
       "    </tr>\n",
       "    <tr>\n",
       "      <th>1747</th>\n",
       "      <td>2210</td>\n",
       "      <td>misformed output</td>\n",
       "      <td>mkdir -p '/home/kimlab1/database_data/biodb/re...</td>\n",
       "    </tr>\n",
       "    <tr>\n",
       "      <th>1748</th>\n",
       "      <td>2211</td>\n",
       "      <td>misformed output</td>\n",
       "      <td>mkdir -p '/home/kimlab1/database_data/biodb/re...</td>\n",
       "    </tr>\n",
       "    <tr>\n",
       "      <th>1749</th>\n",
       "      <td>2212</td>\n",
       "      <td>misformed output</td>\n",
       "      <td>mkdir -p '/home/kimlab1/database_data/biodb/re...</td>\n",
       "    </tr>\n",
       "  </tbody>\n",
       "</table>\n",
       "</div>"
      ],
      "text/plain": [
       "      job_id            status                                     system_command\n",
       "1745    2208  misformed output  mkdir -p '/home/kimlab1/database_data/biodb/re...\n",
       "1746    2209  misformed output  mkdir -p '/home/kimlab1/database_data/biodb/re...\n",
       "1747    2210  misformed output  mkdir -p '/home/kimlab1/database_data/biodb/re...\n",
       "1748    2211  misformed output  mkdir -p '/home/kimlab1/database_data/biodb/re...\n",
       "1749    2212  misformed output  mkdir -p '/home/kimlab1/database_data/biodb/re..."
      ]
     },
     "execution_count": 1079,
     "metadata": {},
     "output_type": "execute_result"
    }
   ],
   "source": [
    "results_df.tail()"
   ]
  },
  {
   "cell_type": "code",
   "execution_count": 1080,
   "metadata": {
    "collapsed": true
   },
   "outputs": [],
   "source": [
    "system_commands_remaining = results_df[results_df['status'].isin(['error', 'missing'])]"
   ]
  },
  {
   "cell_type": "code",
   "execution_count": 1081,
   "metadata": {
    "collapsed": false
   },
   "outputs": [
    {
     "data": {
      "text/html": [
       "<div>\n",
       "<table border=\"1\" class=\"dataframe\">\n",
       "  <thead>\n",
       "    <tr style=\"text-align: right;\">\n",
       "      <th></th>\n",
       "      <th>job_id</th>\n",
       "      <th>status</th>\n",
       "      <th>system_command</th>\n",
       "    </tr>\n",
       "  </thead>\n",
       "  <tbody>\n",
       "    <tr>\n",
       "      <th>602</th>\n",
       "      <td>667</td>\n",
       "      <td>error</td>\n",
       "      <td>mkdir -p '/home/kimlab1/database_data/biodb/re...</td>\n",
       "    </tr>\n",
       "  </tbody>\n",
       "</table>\n",
       "</div>"
      ],
      "text/plain": [
       "     job_id status                                     system_command\n",
       "602     667  error  mkdir -p '/home/kimlab1/database_data/biodb/re..."
      ]
     },
     "execution_count": 1081,
     "metadata": {},
     "output_type": "execute_result"
    }
   ],
   "source": [
    "system_commands_remaining.head()"
   ]
  },
  {
   "cell_type": "raw",
   "metadata": {
    "collapsed": false
   },
   "source": [
    "assert system_commands_remaining.empty"
   ]
  },
  {
   "cell_type": "raw",
   "metadata": {
    "collapsed": false
   },
   "source": [
    "!{system_commands_remaining.loc[0, 'system_command']}"
   ]
  },
  {
   "cell_type": "code",
   "execution_count": 1082,
   "metadata": {
    "collapsed": true
   },
   "outputs": [],
   "source": [
    "with js.connect():\n",
    "    js.submit(system_commands_remaining[['job_id', 'system_command']].values.tolist())"
   ]
  },
  {
   "cell_type": "raw",
   "metadata": {},
   "source": [
    "raise Exception"
   ]
  },
  {
   "cell_type": "markdown",
   "metadata": {
    "collapsed": true,
    "run_control": {
     "marked": false
    }
   },
   "source": [
    "# Results"
   ]
  },
  {
   "cell_type": "markdown",
   "metadata": {
    "collapsed": true,
    "run_control": {
     "marked": false
    }
   },
   "source": [
    "## Read results"
   ]
  },
  {
   "cell_type": "code",
   "execution_count": 1083,
   "metadata": {
    "collapsed": false,
    "run_control": {
     "marked": false
    }
   },
   "outputs": [
    {
     "name": "stdout",
     "output_type": "stream",
     "text": [
      "1AK4ABCD.pdb  1AK4D.fasta            mutation_D_H487Q.json\r\n",
      "1AK4AD.pdb    1AK4D.pdb              mutation_D_H487R.json\r\n",
      "1AK4A.fasta   \u001b[0m\u001b[01;34mmodel\u001b[0m/                 mutation_D_I491A.json\r\n",
      "1AK4A.pdb     model.json             mutation_D_I491V.json\r\n",
      "1AK4BC.pdb    mutation_D_A488G.json  mutation_D_P485A.json\r\n",
      "1AK4BD.pdb    mutation_D_A488V.json  mutation_D_P490A.json\r\n",
      "1AK4B.fasta   mutation_D_A492G.json  mutation_D_P493A.json\r\n",
      "1AK4B.pdb     mutation_D_A492V.json  mutation_D_V486A.json\r\n",
      "1AK4CD.pdb    mutation_D_G489A.json  \u001b[01;34msequence\u001b[0m/\r\n",
      "1AK4C.fasta   mutation_D_G489V.json  sequence.json\r\n",
      "1AK4C.pdb     mutation_D_H487A.json\r\n"
     ]
    }
   ],
   "source": [
    "ls $NOTEBOOK_NAME/$JOB_NAME/1ak4/.elaspic"
   ]
  },
  {
   "cell_type": "code",
   "execution_count": 1085,
   "metadata": {
    "code_folding": [],
    "collapsed": false,
    "run_control": {
     "marked": false
    }
   },
   "outputs": [],
   "source": [
    "def load_json(file):\n",
    "    try:\n",
    "        ifh = open(file, 'rt')\n",
    "    except FileNotFoundError:\n",
    "        data = np.nan\n",
    "    else:\n",
    "        data = json.load(ifh)\n",
    "        ifh.close()\n",
    "    return data\n",
    "\n",
    "        \n",
    "DF_TO_CALCULATE['mutation_json'] = (\n",
    "    DF_TO_CALCULATE[['pdb_id', 'pdb_mutation']].apply(\n",
    "        lambda x: load_json(\n",
    "            op.join(\n",
    "                NOTEBOOK_NAME,\n",
    "                JOB_NAME,\n",
    "                x[0].lower(),\n",
    "                '.elaspic',\n",
    "                'mutation_{}.json'.format(x[1]))), \n",
    "        axis=1)\n",
    ")"
   ]
  },
  {
   "cell_type": "code",
   "execution_count": 1086,
   "metadata": {
    "collapsed": false,
    "run_control": {
     "marked": false
    },
    "scrolled": true
   },
   "outputs": [
    {
     "data": {
      "text/html": [
       "<div>\n",
       "<table border=\"1\" class=\"dataframe\">\n",
       "  <thead>\n",
       "    <tr style=\"text-align: right;\">\n",
       "      <th></th>\n",
       "      <th>id</th>\n",
       "      <th>uniprot_id</th>\n",
       "      <th>partner_uniprot_id</th>\n",
       "      <th>uniprot_mutation</th>\n",
       "      <th>pdb_id</th>\n",
       "      <th>pdb_chain</th>\n",
       "      <th>partner_pdb_chain</th>\n",
       "      <th>pdb_mutation</th>\n",
       "      <th>pfam_id</th>\n",
       "      <th>pfam_clan</th>\n",
       "      <th>ddg_exp</th>\n",
       "      <th>pdb_file</th>\n",
       "      <th>system_command</th>\n",
       "      <th>mutation_json</th>\n",
       "    </tr>\n",
       "  </thead>\n",
       "  <tbody>\n",
       "    <tr>\n",
       "      <th>0</th>\n",
       "      <td>1</td>\n",
       "      <td>A0NA69</td>\n",
       "      <td>P01820</td>\n",
       "      <td>D71A</td>\n",
       "      <td>1dvf</td>\n",
       "      <td>D</td>\n",
       "      <td>B</td>\n",
       "      <td>D_D52A</td>\n",
       "      <td>None</td>\n",
       "      <td>None</td>\n",
       "      <td>1.682290</td>\n",
       "      <td>/home/kimlab1/database_data/pdb/data/data/stru...</td>\n",
       "      <td>mkdir -p '/home/kimlab1/database_data/biodb/re...</td>\n",
       "      <td>[{'stability_energy_mut': '15.1283,-73.6586,-3...</td>\n",
       "    </tr>\n",
       "    <tr>\n",
       "      <th>1</th>\n",
       "      <td>2</td>\n",
       "      <td>A0NA69</td>\n",
       "      <td>P01820</td>\n",
       "      <td>K49A</td>\n",
       "      <td>1dvf</td>\n",
       "      <td>D</td>\n",
       "      <td>B</td>\n",
       "      <td>D_K30A</td>\n",
       "      <td>None</td>\n",
       "      <td>None</td>\n",
       "      <td>1.003517</td>\n",
       "      <td>/home/kimlab1/database_data/pdb/data/data/stru...</td>\n",
       "      <td>mkdir -p '/home/kimlab1/database_data/biodb/re...</td>\n",
       "      <td>[{'solvent_accessibility_mut': 37.410375173691...</td>\n",
       "    </tr>\n",
       "    <tr>\n",
       "      <th>2</th>\n",
       "      <td>3</td>\n",
       "      <td>A0NA69</td>\n",
       "      <td>P01820</td>\n",
       "      <td>N74A</td>\n",
       "      <td>1dvf</td>\n",
       "      <td>D</td>\n",
       "      <td>B</td>\n",
       "      <td>D_N54A</td>\n",
       "      <td>None</td>\n",
       "      <td>None</td>\n",
       "      <td>1.860601</td>\n",
       "      <td>/home/kimlab1/database_data/pdb/data/data/stru...</td>\n",
       "      <td>mkdir -p '/home/kimlab1/database_data/biodb/re...</td>\n",
       "      <td>[{'solvent_accessibility_mut': 68.039184807781...</td>\n",
       "    </tr>\n",
       "    <tr>\n",
       "      <th>3</th>\n",
       "      <td>4</td>\n",
       "      <td>P00044</td>\n",
       "      <td>P00431</td>\n",
       "      <td>A87G</td>\n",
       "      <td>2pcc</td>\n",
       "      <td>B</td>\n",
       "      <td>A</td>\n",
       "      <td>B_A81G</td>\n",
       "      <td>PF00034</td>\n",
       "      <td>CL0318</td>\n",
       "      <td>1.901004</td>\n",
       "      <td>/home/kimlab1/database_data/pdb/data/data/stru...</td>\n",
       "      <td>mkdir -p '/home/kimlab1/database_data/biodb/re...</td>\n",
       "      <td>[{'solvent_accessibility_mut': 104.54294631710...</td>\n",
       "    </tr>\n",
       "    <tr>\n",
       "      <th>4</th>\n",
       "      <td>5</td>\n",
       "      <td>P00044</td>\n",
       "      <td>P00431</td>\n",
       "      <td>K78A</td>\n",
       "      <td>2pcc</td>\n",
       "      <td>B</td>\n",
       "      <td>A</td>\n",
       "      <td>B_K72A</td>\n",
       "      <td>PF00034</td>\n",
       "      <td>CL0318</td>\n",
       "      <td>0.303533</td>\n",
       "      <td>/home/kimlab1/database_data/pdb/data/data/stru...</td>\n",
       "      <td>mkdir -p '/home/kimlab1/database_data/biodb/re...</td>\n",
       "      <td>[{'stability_energy_mut': '46.639,-66.5641,-36...</td>\n",
       "    </tr>\n",
       "  </tbody>\n",
       "</table>\n",
       "</div>"
      ],
      "text/plain": [
       "   id uniprot_id partner_uniprot_id uniprot_mutation pdb_id pdb_chain partner_pdb_chain pdb_mutation  pfam_id pfam_clan   ddg_exp                                           pdb_file                                     system_command                                      mutation_json\n",
       "0   1     A0NA69             P01820             D71A   1dvf         D                 B       D_D52A     None      None  1.682290  /home/kimlab1/database_data/pdb/data/data/stru...  mkdir -p '/home/kimlab1/database_data/biodb/re...  [{'stability_energy_mut': '15.1283,-73.6586,-3...\n",
       "1   2     A0NA69             P01820             K49A   1dvf         D                 B       D_K30A     None      None  1.003517  /home/kimlab1/database_data/pdb/data/data/stru...  mkdir -p '/home/kimlab1/database_data/biodb/re...  [{'solvent_accessibility_mut': 37.410375173691...\n",
       "2   3     A0NA69             P01820             N74A   1dvf         D                 B       D_N54A     None      None  1.860601  /home/kimlab1/database_data/pdb/data/data/stru...  mkdir -p '/home/kimlab1/database_data/biodb/re...  [{'solvent_accessibility_mut': 68.039184807781...\n",
       "3   4     P00044             P00431             A87G   2pcc         B                 A       B_A81G  PF00034    CL0318  1.901004  /home/kimlab1/database_data/pdb/data/data/stru...  mkdir -p '/home/kimlab1/database_data/biodb/re...  [{'solvent_accessibility_mut': 104.54294631710...\n",
       "4   5     P00044             P00431             K78A   2pcc         B                 A       B_K72A  PF00034    CL0318  0.303533  /home/kimlab1/database_data/pdb/data/data/stru...  mkdir -p '/home/kimlab1/database_data/biodb/re...  [{'stability_energy_mut': '46.639,-66.5641,-36..."
      ]
     },
     "metadata": {},
     "output_type": "display_data"
    },
    {
     "name": "stdout",
     "output_type": "stream",
     "text": [
      "1750\n",
      "17\n"
     ]
    }
   ],
   "source": [
    "display(DF_TO_CALCULATE.head())\n",
    "print(DF_TO_CALCULATE.shape[0])\n",
    "print(DF_TO_CALCULATE['mutation_json'].isnull().sum())"
   ]
  },
  {
   "cell_type": "code",
   "execution_count": 1087,
   "metadata": {
    "collapsed": false
   },
   "outputs": [
    {
     "data": {
      "text/plain": [
       "1750"
      ]
     },
     "execution_count": 1087,
     "metadata": {},
     "output_type": "execute_result"
    }
   ],
   "source": [
    "DF_TO_CALCULATE.shape[0]"
   ]
  },
  {
   "cell_type": "markdown",
   "metadata": {
    "collapsed": true,
    "run_control": {
     "marked": false
    }
   },
   "source": [
    "## PDB chain mapping"
   ]
  },
  {
   "cell_type": "code",
   "execution_count": 1088,
   "metadata": {
    "collapsed": true,
    "run_control": {
     "marked": false
    }
   },
   "outputs": [],
   "source": [
    "tempdir = tempfile.mkdtemp()"
   ]
  },
  {
   "cell_type": "code",
   "execution_count": 1089,
   "metadata": {
    "collapsed": false,
    "run_control": {
     "marked": false
    }
   },
   "outputs": [
    {
     "name": "stdout",
     "output_type": "stream",
     "text": [
      "/tmp/strokach/tmpdwvezva7\n"
     ]
    }
   ],
   "source": [
    "print(tempdir)"
   ]
  },
  {
   "cell_type": "code",
   "execution_count": 1090,
   "metadata": {
    "collapsed": false,
    "run_control": {
     "marked": false
    }
   },
   "outputs": [],
   "source": [
    "for (pdb_id, pdb_file) in DF_TO_CALCULATE[['pdb_id', 'pdb_file']].drop_duplicates().values:\n",
    "    with gzip.open(pdb_file) as ifh:\n",
    "        with open(op.join(tempdir, '{}.pdb'.format(pdb_id)), 'wb') as ofh:\n",
    "            ofh.write(ifh.read())"
   ]
  },
  {
   "cell_type": "code",
   "execution_count": 1091,
   "metadata": {
    "collapsed": false,
    "run_control": {
     "marked": false
    }
   },
   "outputs": [],
   "source": [
    "sps = {}\n",
    "for (pdb_id, pdb_file) in DF_TO_CALCULATE[['pdb_id', 'pdb_file']].drop_duplicates().values:\n",
    "    sp = elaspic.structure_tools.StructureParser(op.join(tempdir, pdb_id + '.pdb'))\n",
    "    sp.extract()\n",
    "    sps[pdb_id] = sp"
   ]
  },
  {
   "cell_type": "code",
   "execution_count": 1092,
   "metadata": {
    "collapsed": true,
    "run_control": {
     "marked": false
    }
   },
   "outputs": [],
   "source": [
    "pdb_idx2chain = {}\n",
    "pdb_chain2idx = {}\n",
    "for pdb_id, sp in sps.items():\n",
    "    pdb_idx2chain[pdb_id] = {i: chain_id for i, chain_id in enumerate(sp.chain_ids)}\n",
    "    pdb_chain2idx[pdb_id] = {chain_id: i for i, chain_id in enumerate(sp.chain_ids)}"
   ]
  },
  {
   "cell_type": "markdown",
   "metadata": {},
   "source": [
    "## Core mutation features"
   ]
  },
  {
   "cell_type": "code",
   "execution_count": null,
   "metadata": {
    "collapsed": true
   },
   "outputs": [],
   "source": []
  },
  {
   "cell_type": "code",
   "execution_count": null,
   "metadata": {
    "collapsed": true
   },
   "outputs": [],
   "source": []
  },
  {
   "cell_type": "code",
   "execution_count": null,
   "metadata": {
    "collapsed": true
   },
   "outputs": [],
   "source": []
  },
  {
   "cell_type": "code",
   "execution_count": null,
   "metadata": {
    "collapsed": true
   },
   "outputs": [],
   "source": []
  },
  {
   "cell_type": "markdown",
   "metadata": {
    "collapsed": true,
    "run_control": {
     "marked": false
    }
   },
   "source": [
    "## Interface mutation features"
   ]
  },
  {
   "cell_type": "code",
   "execution_count": 1093,
   "metadata": {
    "collapsed": false,
    "run_control": {
     "marked": false
    },
    "scrolled": true
   },
   "outputs": [
    {
     "data": {
      "text/html": [
       "<div>\n",
       "<table border=\"1\" class=\"dataframe\">\n",
       "  <thead>\n",
       "    <tr style=\"text-align: right;\">\n",
       "      <th></th>\n",
       "      <th>id</th>\n",
       "      <th>uniprot_id</th>\n",
       "      <th>partner_uniprot_id</th>\n",
       "      <th>uniprot_mutation</th>\n",
       "      <th>pdb_id</th>\n",
       "      <th>pdb_chain</th>\n",
       "      <th>partner_pdb_chain</th>\n",
       "      <th>pdb_mutation</th>\n",
       "      <th>pfam_id</th>\n",
       "      <th>pfam_clan</th>\n",
       "      <th>ddg_exp</th>\n",
       "      <th>pdb_file</th>\n",
       "      <th>system_command</th>\n",
       "      <th>mutation_json</th>\n",
       "    </tr>\n",
       "  </thead>\n",
       "  <tbody>\n",
       "    <tr>\n",
       "      <th>0</th>\n",
       "      <td>1</td>\n",
       "      <td>A0NA69</td>\n",
       "      <td>P01820</td>\n",
       "      <td>D71A</td>\n",
       "      <td>1dvf</td>\n",
       "      <td>D</td>\n",
       "      <td>B</td>\n",
       "      <td>D_D52A</td>\n",
       "      <td>None</td>\n",
       "      <td>None</td>\n",
       "      <td>1.682290</td>\n",
       "      <td>/home/kimlab1/database_data/pdb/data/data/stru...</td>\n",
       "      <td>mkdir -p '/home/kimlab1/database_data/biodb/re...</td>\n",
       "      <td>[{'stability_energy_mut': '15.1283,-73.6586,-3...</td>\n",
       "    </tr>\n",
       "    <tr>\n",
       "      <th>1</th>\n",
       "      <td>2</td>\n",
       "      <td>A0NA69</td>\n",
       "      <td>P01820</td>\n",
       "      <td>K49A</td>\n",
       "      <td>1dvf</td>\n",
       "      <td>D</td>\n",
       "      <td>B</td>\n",
       "      <td>D_K30A</td>\n",
       "      <td>None</td>\n",
       "      <td>None</td>\n",
       "      <td>1.003517</td>\n",
       "      <td>/home/kimlab1/database_data/pdb/data/data/stru...</td>\n",
       "      <td>mkdir -p '/home/kimlab1/database_data/biodb/re...</td>\n",
       "      <td>[{'solvent_accessibility_mut': 37.410375173691...</td>\n",
       "    </tr>\n",
       "  </tbody>\n",
       "</table>\n",
       "</div>"
      ],
      "text/plain": [
       "   id uniprot_id partner_uniprot_id uniprot_mutation pdb_id pdb_chain partner_pdb_chain pdb_mutation pfam_id pfam_clan   ddg_exp                                           pdb_file                                     system_command                                      mutation_json\n",
       "0   1     A0NA69             P01820             D71A   1dvf         D                 B       D_D52A    None      None  1.682290  /home/kimlab1/database_data/pdb/data/data/stru...  mkdir -p '/home/kimlab1/database_data/biodb/re...  [{'stability_energy_mut': '15.1283,-73.6586,-3...\n",
       "1   2     A0NA69             P01820             K49A   1dvf         D                 B       D_K30A    None      None  1.003517  /home/kimlab1/database_data/pdb/data/data/stru...  mkdir -p '/home/kimlab1/database_data/biodb/re...  [{'solvent_accessibility_mut': 37.410375173691..."
      ]
     },
     "execution_count": 1093,
     "metadata": {},
     "output_type": "execute_result"
    }
   ],
   "source": [
    "DF_TO_CALCULATE.head(2)"
   ]
  },
  {
   "cell_type": "code",
   "execution_count": 1094,
   "metadata": {
    "code_folding": [],
    "collapsed": false,
    "run_control": {
     "marked": false
    }
   },
   "outputs": [
    {
     "name": "stdout",
     "output_type": "stream",
     "text": [
      "247\n",
      "0\n"
     ]
    }
   ],
   "source": [
    "imf = local.InterfaceMutationFeatures()\n",
    "\n",
    "interface_mutation_features = [\n",
    "    imf.guess(index, mutation_json)\n",
    "    for index, mutation_json \n",
    "    in DF_TO_CALCULATE.reset_index()[['index', 'mutation_json']].dropna().values\n",
    "]\n",
    "\n",
    "interface_mutation_features_df = pd.concat(interface_mutation_features)\n",
    "\n",
    "print(imf._num_mutations_not_in_interface)\n",
    "print(imf._num_mutations_interface_not_found)"
   ]
  },
  {
   "cell_type": "code",
   "execution_count": 1095,
   "metadata": {
    "collapsed": false
   },
   "outputs": [
    {
     "data": {
      "text/html": [
       "<div>\n",
       "<table border=\"1\" class=\"dataframe\">\n",
       "  <thead>\n",
       "    <tr style=\"text-align: right;\">\n",
       "      <th></th>\n",
       "      <th>alignment_coverage</th>\n",
       "      <th>alignment_identity</th>\n",
       "      <th>alignment_score</th>\n",
       "      <th>analyse_complex_energy_mut</th>\n",
       "      <th>analyse_complex_energy_wt</th>\n",
       "      <th>chain_modeller</th>\n",
       "      <th>contact_distance_mut</th>\n",
       "      <th>contact_distance_wt</th>\n",
       "      <th>ddg</th>\n",
       "      <th>idx</th>\n",
       "      <th>idxs</th>\n",
       "      <th>interface_area_hydrophilic</th>\n",
       "      <th>interface_area_hydrophobic</th>\n",
       "      <th>interface_area_total</th>\n",
       "      <th>matrix_score</th>\n",
       "      <th>model_file_mut</th>\n",
       "      <th>model_file_wt</th>\n",
       "      <th>mutation</th>\n",
       "      <th>mutation_errors</th>\n",
       "      <th>mutation_modeller</th>\n",
       "      <th>norm_dope</th>\n",
       "      <th>physchem_mut</th>\n",
       "      <th>physchem_mut_ownchain</th>\n",
       "      <th>physchem_wt</th>\n",
       "      <th>physchem_wt_ownchain</th>\n",
       "      <th>provean_score</th>\n",
       "      <th>secondary_structure_mut</th>\n",
       "      <th>secondary_structure_wt</th>\n",
       "      <th>solvent_accessibility_mut</th>\n",
       "      <th>solvent_accessibility_wt</th>\n",
       "      <th>stability_energy_mut</th>\n",
       "      <th>stability_energy_wt</th>\n",
       "    </tr>\n",
       "  </thead>\n",
       "  <tbody>\n",
       "    <tr>\n",
       "      <th>0</th>\n",
       "      <td>1.0</td>\n",
       "      <td>1.0</td>\n",
       "      <td>1.0</td>\n",
       "      <td>30.8915,31.2845,-9.05228,-2.71061,-4.99341,-9....</td>\n",
       "      <td>31.6389,31.2845,-8.20853,-2.73506,-5.03042,-9....</td>\n",
       "      <td>D</td>\n",
       "      <td>5.218265</td>\n",
       "      <td>3.039727</td>\n",
       "      <td>1.404040</td>\n",
       "      <td>3</td>\n",
       "      <td>[1, 3]</td>\n",
       "      <td>981.985</td>\n",
       "      <td>207.640</td>\n",
       "      <td>1189.625</td>\n",
       "      <td>-2</td>\n",
       "      <td>/home/kimlab1/database_data/biodb/recipes/elas...</td>\n",
       "      <td>/home/kimlab1/database_data/biodb/recipes/elas...</td>\n",
       "      <td>D52A</td>\n",
       "      <td></td>\n",
       "      <td>D168A</td>\n",
       "      <td>-0.946689</td>\n",
       "      <td>0,0,0,0</td>\n",
       "      <td>0,0,0,25</td>\n",
       "      <td>1,0,0,2</td>\n",
       "      <td>0,0,0,28</td>\n",
       "      <td>-4.954</td>\n",
       "      <td>E</td>\n",
       "      <td>E</td>\n",
       "      <td>6.337008</td>\n",
       "      <td>13.730679</td>\n",
       "      <td>57.1569,-144.483,-65.0887,-267.752,-9.88724,36...</td>\n",
       "      <td>52.3012,-145.192,-65.7896,-268.612,-11.0386,36...</td>\n",
       "    </tr>\n",
       "    <tr>\n",
       "      <th>0</th>\n",
       "      <td>1.0</td>\n",
       "      <td>1.0</td>\n",
       "      <td>1.0</td>\n",
       "      <td>23.9019,32.3823,2.00765,-1.20792e-13,-1.263,-0...</td>\n",
       "      <td>24.6453,32.3823,2.05719,-7.81597e-14,-1.263,-0...</td>\n",
       "      <td>D</td>\n",
       "      <td>7.068026</td>\n",
       "      <td>6.144239</td>\n",
       "      <td>0.446862</td>\n",
       "      <td>3</td>\n",
       "      <td>[0, 3]</td>\n",
       "      <td>401.885</td>\n",
       "      <td>30.975</td>\n",
       "      <td>432.855</td>\n",
       "      <td>-2</td>\n",
       "      <td>/home/kimlab1/database_data/biodb/recipes/elas...</td>\n",
       "      <td>/home/kimlab1/database_data/biodb/recipes/elas...</td>\n",
       "      <td>D52A</td>\n",
       "      <td></td>\n",
       "      <td>D159A</td>\n",
       "      <td>-0.576504</td>\n",
       "      <td>0,0,0,0</td>\n",
       "      <td>0,0,0,27</td>\n",
       "      <td>0,0,0,0</td>\n",
       "      <td>0,0,0,30</td>\n",
       "      <td>-4.954</td>\n",
       "      <td>E</td>\n",
       "      <td>E</td>\n",
       "      <td>6.372395</td>\n",
       "      <td>13.491773</td>\n",
       "      <td>62.5577,-135.887,-64.9962,-247.139,-4.24786,33...</td>\n",
       "      <td>56.934,-136.552,-65.669,-247.895,-5.36963,339....</td>\n",
       "    </tr>\n",
       "  </tbody>\n",
       "</table>\n",
       "</div>"
      ],
      "text/plain": [
       "   alignment_coverage  alignment_identity  alignment_score                         analyse_complex_energy_mut                          analyse_complex_energy_wt chain_modeller  contact_distance_mut  contact_distance_wt       ddg  idx    idxs  interface_area_hydrophilic  interface_area_hydrophobic  interface_area_total  matrix_score                                     model_file_mut                                      model_file_wt mutation mutation_errors mutation_modeller  norm_dope physchem_mut physchem_mut_ownchain physchem_wt physchem_wt_ownchain  provean_score secondary_structure_mut secondary_structure_wt  solvent_accessibility_mut  solvent_accessibility_wt                               stability_energy_mut                                stability_energy_wt\n",
       "0                 1.0                 1.0              1.0  30.8915,31.2845,-9.05228,-2.71061,-4.99341,-9....  31.6389,31.2845,-8.20853,-2.73506,-5.03042,-9....              D              5.218265             3.039727  1.404040    3  [1, 3]                     981.985                     207.640              1189.625            -2  /home/kimlab1/database_data/biodb/recipes/elas...  /home/kimlab1/database_data/biodb/recipes/elas...     D52A                             D168A  -0.946689      0,0,0,0              0,0,0,25     1,0,0,2             0,0,0,28         -4.954                       E                      E                   6.337008                 13.730679  57.1569,-144.483,-65.0887,-267.752,-9.88724,36...  52.3012,-145.192,-65.7896,-268.612,-11.0386,36...\n",
       "0                 1.0                 1.0              1.0  23.9019,32.3823,2.00765,-1.20792e-13,-1.263,-0...  24.6453,32.3823,2.05719,-7.81597e-14,-1.263,-0...              D              7.068026             6.144239  0.446862    3  [0, 3]                     401.885                      30.975               432.855            -2  /home/kimlab1/database_data/biodb/recipes/elas...  /home/kimlab1/database_data/biodb/recipes/elas...     D52A                             D159A  -0.576504      0,0,0,0              0,0,0,27     0,0,0,0             0,0,0,30         -4.954                       E                      E                   6.372395                 13.491773  62.5577,-135.887,-64.9962,-247.139,-4.24786,33...  56.934,-136.552,-65.669,-247.895,-5.36963,339...."
      ]
     },
     "execution_count": 1095,
     "metadata": {},
     "output_type": "execute_result"
    }
   ],
   "source": [
    "interface_mutation_features_df.head(2)"
   ]
  },
  {
   "cell_type": "code",
   "execution_count": 1096,
   "metadata": {
    "collapsed": false,
    "run_control": {
     "marked": false
    }
   },
   "outputs": [
    {
     "name": "stdout",
     "output_type": "stream",
     "text": [
      "Starting number of mutations:                               1750\n",
      "Starting number of mutation indexes:                        1750\n",
      "Number of unique pdb id / mutations:                        1750\n",
      "--------------------------------------------------------------------------------\n",
      "Number of ELASPIC PDB mutations:                            1747\n",
      "Number of ELASPIC PDB mutation indexes:                     1486\n",
      "Number of unique ELASPIC pdb id / mutations:                1443\n",
      "--------------------------------------------------------------------------------\n",
      "Number of ELASPIC PDB mutations wddg_exp:                   1747\n",
      "Number of ELASPIC PDB mutation indexes wddg_exp:            1486\n",
      "Number of unique ELASPIC pdb id / mutations wddg_exp:       1486\n"
     ]
    }
   ],
   "source": [
    "interface_mutation_features_df_final = (\n",
    "    interface_mutation_features_df\n",
    "    .merge(\n",
    "        DF_TO_CALCULATE[\n",
    "            ['pdb_id', 'pdb_chain', 'partner_pdb_chain', 'pdb_mutation', 'ddg_exp',\n",
    "             'uniprot_id', 'partner_uniprot_id', 'uniprot_mutation', 'pfam_clan']], \n",
    "        left_index=True, right_index=True)\n",
    ")\n",
    "\n",
    "# DF_TO_CALCULATE\n",
    "print2(\"Starting number of mutations:\",\n",
    "       DF_TO_CALCULATE.shape[0])\n",
    "print2(\"Starting number of mutation indexes:\",\n",
    "       DF_TO_CALCULATE.index.drop_duplicates().shape[0])\n",
    "print2(\"Number of unique pdb id / mutations:\",\n",
    "       DF_TO_CALCULATE[['pdb_id', 'pdb_mutation']].drop_duplicates().shape[0])\n",
    "print('-' * 80)\n",
    "\n",
    "# results_df\n",
    "print2(\"Number of ELASPIC PDB mutations:\", \n",
    "       interface_mutation_features_df.shape[0])\n",
    "print2(\"Number of ELASPIC PDB mutation indexes:\",\n",
    "       len(set(interface_mutation_features_df.index)))\n",
    "print2(\"Number of unique ELASPIC pdb id / mutations:\",\n",
    "       interface_mutation_features_df[['idx', 'mutation']].drop_duplicates().shape[0])\n",
    "print('-' * 80)\n",
    "\n",
    "# interface_mutation_features_df_final\n",
    "print2(\"Number of ELASPIC PDB mutations wddg_exp:\", \n",
    "       interface_mutation_features_df_final.shape[0])\n",
    "print2(\"Number of ELASPIC PDB mutation indexes wddg_exp:\",\n",
    "       len(set(interface_mutation_features_df_final.index)))\n",
    "print2(\"Number of unique ELASPIC pdb id / mutations wddg_exp:\",\n",
    "       interface_mutation_features_df_final[['pdb_id', 'pdb_mutation']].drop_duplicates().shape[0])"
   ]
  },
  {
   "cell_type": "markdown",
   "metadata": {
    "collapsed": true,
    "run_control": {
     "marked": false
    }
   },
   "source": [
    "## Correct duplicate interfaces"
   ]
  },
  {
   "cell_type": "code",
   "execution_count": 1097,
   "metadata": {
    "collapsed": false,
    "run_control": {
     "marked": false
    }
   },
   "outputs": [
    {
     "data": {
      "text/html": [
       "<div>\n",
       "<table border=\"1\" class=\"dataframe\">\n",
       "  <thead>\n",
       "    <tr style=\"text-align: right;\">\n",
       "      <th></th>\n",
       "      <th>alignment_coverage</th>\n",
       "      <th>alignment_identity</th>\n",
       "      <th>alignment_score</th>\n",
       "      <th>analyse_complex_energy_mut</th>\n",
       "      <th>analyse_complex_energy_wt</th>\n",
       "      <th>chain_modeller</th>\n",
       "      <th>contact_distance_mut</th>\n",
       "      <th>contact_distance_wt</th>\n",
       "      <th>ddg</th>\n",
       "      <th>idx</th>\n",
       "      <th>idxs</th>\n",
       "      <th>interface_area_hydrophilic</th>\n",
       "      <th>interface_area_hydrophobic</th>\n",
       "      <th>interface_area_total</th>\n",
       "      <th>matrix_score</th>\n",
       "      <th>model_file_mut</th>\n",
       "      <th>model_file_wt</th>\n",
       "      <th>mutation</th>\n",
       "      <th>mutation_errors</th>\n",
       "      <th>mutation_modeller</th>\n",
       "      <th>norm_dope</th>\n",
       "      <th>physchem_mut</th>\n",
       "      <th>physchem_mut_ownchain</th>\n",
       "      <th>physchem_wt</th>\n",
       "      <th>physchem_wt_ownchain</th>\n",
       "      <th>provean_score</th>\n",
       "      <th>secondary_structure_mut</th>\n",
       "      <th>secondary_structure_wt</th>\n",
       "      <th>solvent_accessibility_mut</th>\n",
       "      <th>solvent_accessibility_wt</th>\n",
       "      <th>stability_energy_mut</th>\n",
       "      <th>stability_energy_wt</th>\n",
       "      <th>pdb_id</th>\n",
       "      <th>pdb_chain</th>\n",
       "      <th>partner_pdb_chain</th>\n",
       "      <th>pdb_mutation</th>\n",
       "      <th>ddg_exp</th>\n",
       "      <th>uniprot_id</th>\n",
       "      <th>partner_uniprot_id</th>\n",
       "      <th>uniprot_mutation</th>\n",
       "      <th>pfam_clan</th>\n",
       "    </tr>\n",
       "  </thead>\n",
       "  <tbody>\n",
       "    <tr>\n",
       "      <th>534</th>\n",
       "      <td>1.0</td>\n",
       "      <td>1.0</td>\n",
       "      <td>1.0</td>\n",
       "      <td>75.1199,48.8328,-19.8905,-3.39935,-11.5601,-23...</td>\n",
       "      <td>75.7446,48.8328,-20.0603,-3.39935,-11.5601,-23...</td>\n",
       "      <td>B</td>\n",
       "      <td>8.122700</td>\n",
       "      <td>8.122700</td>\n",
       "      <td>0.249816</td>\n",
       "      <td>1</td>\n",
       "      <td>[0, 1]</td>\n",
       "      <td>985.685</td>\n",
       "      <td>417.22</td>\n",
       "      <td>1402.905</td>\n",
       "      <td>-2</td>\n",
       "      <td>/home/kimlab1/database_data/biodb/recipes/elas...</td>\n",
       "      <td>/home/kimlab1/database_data/biodb/recipes/elas...</td>\n",
       "      <td>R29A</td>\n",
       "      <td></td>\n",
       "      <td>R209A</td>\n",
       "      <td>-0.812414</td>\n",
       "      <td>0,0,0,0</td>\n",
       "      <td>0,0,0,29</td>\n",
       "      <td>0,0,0,0</td>\n",
       "      <td>0,0,2,42</td>\n",
       "      <td>-2.670</td>\n",
       "      <td>E</td>\n",
       "      <td>E</td>\n",
       "      <td>7.390366</td>\n",
       "      <td>17.628204</td>\n",
       "      <td>98.3888,-224.059,-121.393,-458.606,-18.8957,60...</td>\n",
       "      <td>99.0473,-224.18,-121.568,-459.919,-18.5879,608...</td>\n",
       "      <td>1a22</td>\n",
       "      <td>B</td>\n",
       "      <td>A</td>\n",
       "      <td>B_R270A</td>\n",
       "      <td>0.553860</td>\n",
       "      <td>P10912</td>\n",
       "      <td>P01241</td>\n",
       "      <td>R88A</td>\n",
       "      <td>CL0159</td>\n",
       "    </tr>\n",
       "    <tr>\n",
       "      <th>489</th>\n",
       "      <td>1.0</td>\n",
       "      <td>1.0</td>\n",
       "      <td>1.0</td>\n",
       "      <td>75.7424,48.8328,-19.0557,-3.39935,-11.5601,-23...</td>\n",
       "      <td>75.8673,48.8328,-19.5137,-3.39935,-11.5601,-23...</td>\n",
       "      <td>B</td>\n",
       "      <td>8.721909</td>\n",
       "      <td>8.270372</td>\n",
       "      <td>0.028912</td>\n",
       "      <td>1</td>\n",
       "      <td>[0, 1]</td>\n",
       "      <td>985.685</td>\n",
       "      <td>417.22</td>\n",
       "      <td>1402.905</td>\n",
       "      <td>-1</td>\n",
       "      <td>/home/kimlab1/database_data/biodb/recipes/elas...</td>\n",
       "      <td>/home/kimlab1/database_data/biodb/recipes/elas...</td>\n",
       "      <td>E128A</td>\n",
       "      <td></td>\n",
       "      <td>E308A</td>\n",
       "      <td>-0.812414</td>\n",
       "      <td>0,0,0,0</td>\n",
       "      <td>0,0,0,28</td>\n",
       "      <td>0,0,0,0</td>\n",
       "      <td>0,1,0,39</td>\n",
       "      <td>-3.767</td>\n",
       "      <td>E</td>\n",
       "      <td>E</td>\n",
       "      <td>8.367300</td>\n",
       "      <td>8.946996</td>\n",
       "      <td>97.0995,-224.742,-122.986,-459.302,-15.5554,60...</td>\n",
       "      <td>98.0731,-224.833,-122.488,-460.516,-19.2105,60...</td>\n",
       "      <td>1a22</td>\n",
       "      <td>B</td>\n",
       "      <td>A</td>\n",
       "      <td>B_E373A</td>\n",
       "      <td>0.082765</td>\n",
       "      <td>P10912</td>\n",
       "      <td>P01241</td>\n",
       "      <td>E191A</td>\n",
       "      <td>CL0159</td>\n",
       "    </tr>\n",
       "  </tbody>\n",
       "</table>\n",
       "</div>"
      ],
      "text/plain": [
       "     alignment_coverage  alignment_identity  alignment_score                         analyse_complex_energy_mut                          analyse_complex_energy_wt chain_modeller  contact_distance_mut  contact_distance_wt       ddg  idx    idxs  interface_area_hydrophilic  interface_area_hydrophobic  interface_area_total  matrix_score                                     model_file_mut                                      model_file_wt mutation mutation_errors mutation_modeller  norm_dope physchem_mut physchem_mut_ownchain physchem_wt physchem_wt_ownchain  provean_score secondary_structure_mut secondary_structure_wt  solvent_accessibility_mut  solvent_accessibility_wt                               stability_energy_mut                                stability_energy_wt pdb_id pdb_chain partner_pdb_chain pdb_mutation   ddg_exp uniprot_id partner_uniprot_id uniprot_mutation pfam_clan\n",
       "534                 1.0                 1.0              1.0  75.1199,48.8328,-19.8905,-3.39935,-11.5601,-23...  75.7446,48.8328,-20.0603,-3.39935,-11.5601,-23...              B              8.122700             8.122700  0.249816    1  [0, 1]                     985.685                      417.22              1402.905            -2  /home/kimlab1/database_data/biodb/recipes/elas...  /home/kimlab1/database_data/biodb/recipes/elas...     R29A                             R209A  -0.812414      0,0,0,0              0,0,0,29     0,0,0,0             0,0,2,42         -2.670                       E                      E                   7.390366                 17.628204  98.3888,-224.059,-121.393,-458.606,-18.8957,60...  99.0473,-224.18,-121.568,-459.919,-18.5879,608...   1a22         B                 A      B_R270A  0.553860     P10912             P01241             R88A    CL0159\n",
       "489                 1.0                 1.0              1.0  75.7424,48.8328,-19.0557,-3.39935,-11.5601,-23...  75.8673,48.8328,-19.5137,-3.39935,-11.5601,-23...              B              8.721909             8.270372  0.028912    1  [0, 1]                     985.685                      417.22              1402.905            -1  /home/kimlab1/database_data/biodb/recipes/elas...  /home/kimlab1/database_data/biodb/recipes/elas...    E128A                             E308A  -0.812414      0,0,0,0              0,0,0,28     0,0,0,0             0,1,0,39         -3.767                       E                      E                   8.367300                  8.946996  97.0995,-224.742,-122.986,-459.302,-15.5554,60...  98.0731,-224.833,-122.488,-460.516,-19.2105,60...   1a22         B                 A      B_E373A  0.082765     P10912             P01241            E191A    CL0159"
      ]
     },
     "execution_count": 1097,
     "metadata": {},
     "output_type": "execute_result"
    }
   ],
   "source": [
    "interface_mutation_features_df_final = (\n",
    "    interface_mutation_features_df_final.sort_values('contact_distance_wt', ascending=True))\n",
    "interface_mutation_features_df_final.tail(2)"
   ]
  },
  {
   "cell_type": "code",
   "execution_count": 1098,
   "metadata": {
    "collapsed": false,
    "run_control": {
     "marked": false
    },
    "scrolled": true
   },
   "outputs": [
    {
     "data": {
      "text/plain": [
       "<matplotlib.axes._subplots.AxesSubplot at 0x7f3d6d6d85c0>"
      ]
     },
     "execution_count": 1098,
     "metadata": {},
     "output_type": "execute_result"
    },
    {
     "data": {
      "image/png": "[encoded data removed]",
      "text/plain": [
       "<matplotlib.figure.Figure at 0x7f3d5be2e860>"
      ]
     },
     "metadata": {},
     "output_type": "display_data"
    }
   ],
   "source": [
    "interface_mutation_features_df_final['contact_distance_wt'].hist(range=(1, 8.0))"
   ]
  },
  {
   "cell_type": "code",
   "execution_count": 1099,
   "metadata": {
    "collapsed": false,
    "run_control": {
     "marked": false
    }
   },
   "outputs": [
    {
     "data": {
      "text/plain": [
       "<matplotlib.axes._subplots.AxesSubplot at 0x7f3d6d508c50>"
      ]
     },
     "execution_count": 1099,
     "metadata": {},
     "output_type": "execute_result"
    },
    {
     "data": {
      "image/png": "[encoded data removed]",
      "text/plain": [
       "<matplotlib.figure.Figure at 0x7f3d5c80df98>"
      ]
     },
     "metadata": {},
     "output_type": "display_data"
    }
   ],
   "source": [
    "interface_mutation_features_df_final = (\n",
    "    interface_mutation_features_df_final.drop_duplicates(['pdb_id', 'pdb_mutation']))\n",
    "interface_mutation_features_df_final['contact_distance_wt'].hist(range=(1, 8.0))"
   ]
  },
  {
   "cell_type": "code",
   "execution_count": 1100,
   "metadata": {
    "collapsed": false,
    "run_control": {
     "marked": false
    }
   },
   "outputs": [
    {
     "name": "stdout",
     "output_type": "stream",
     "text": [
      "Number of ELASPIC PDB mutations wddg_exp:                   1486\n",
      "Number of ELASPIC PDB mutation indexes wddg_exp:            1486\n",
      "Number of unique ELASPIC pdb id / mutations wddg_exp:       1486\n"
     ]
    }
   ],
   "source": [
    "print2(\"Number of ELASPIC PDB mutations wddg_exp:\", \n",
    "       interface_mutation_features_df_final.shape[0])\n",
    "print2(\"Number of ELASPIC PDB mutation indexes wddg_exp:\",\n",
    "       len(set(interface_mutation_features_df_final.index)))\n",
    "print2(\"Number of unique ELASPIC pdb id / mutations wddg_exp:\",\n",
    "       interface_mutation_features_df_final[['pdb_id', 'pdb_mutation']].drop_duplicates().shape[0])"
   ]
  },
  {
   "cell_type": "markdown",
   "metadata": {
    "collapsed": true,
    "run_control": {
     "marked": false
    }
   },
   "source": [
    "# Save to database"
   ]
  },
  {
   "cell_type": "code",
   "execution_count": 1101,
   "metadata": {
    "collapsed": true,
    "run_control": {
     "marked": false
    }
   },
   "outputs": [],
   "source": [
    "_header_columns = [\n",
    "    'pdb_id', 'pdb_chain', 'partner_pdb_chain', 'pdb_mutation', 'mutation', 'mutation_modeller', 'idx', 'idxs',\n",
    "]"
   ]
  },
  {
   "cell_type": "code",
   "execution_count": 1102,
   "metadata": {
    "collapsed": false,
    "run_control": {
     "marked": false
    }
   },
   "outputs": [
    {
     "data": {
      "text/html": [
       "<div>\n",
       "<table border=\"1\" class=\"dataframe\">\n",
       "  <thead>\n",
       "    <tr style=\"text-align: right;\">\n",
       "      <th></th>\n",
       "      <th>pdb_id</th>\n",
       "      <th>pdb_chain</th>\n",
       "      <th>partner_pdb_chain</th>\n",
       "      <th>pdb_mutation</th>\n",
       "      <th>mutation</th>\n",
       "      <th>mutation_modeller</th>\n",
       "      <th>idx</th>\n",
       "      <th>idxs</th>\n",
       "      <th>alignment_coverage</th>\n",
       "      <th>alignment_identity</th>\n",
       "      <th>alignment_score</th>\n",
       "      <th>analyse_complex_energy_mut</th>\n",
       "      <th>analyse_complex_energy_wt</th>\n",
       "      <th>chain_modeller</th>\n",
       "      <th>contact_distance_mut</th>\n",
       "      <th>contact_distance_wt</th>\n",
       "      <th>ddg</th>\n",
       "      <th>interface_area_hydrophilic</th>\n",
       "      <th>interface_area_hydrophobic</th>\n",
       "      <th>interface_area_total</th>\n",
       "      <th>matrix_score</th>\n",
       "      <th>model_file_mut</th>\n",
       "      <th>model_file_wt</th>\n",
       "      <th>mutation_errors</th>\n",
       "      <th>norm_dope</th>\n",
       "      <th>physchem_mut</th>\n",
       "      <th>physchem_mut_ownchain</th>\n",
       "      <th>physchem_wt</th>\n",
       "      <th>physchem_wt_ownchain</th>\n",
       "      <th>provean_score</th>\n",
       "      <th>secondary_structure_mut</th>\n",
       "      <th>secondary_structure_wt</th>\n",
       "      <th>solvent_accessibility_mut</th>\n",
       "      <th>solvent_accessibility_wt</th>\n",
       "      <th>stability_energy_mut</th>\n",
       "      <th>stability_energy_wt</th>\n",
       "      <th>ddg_exp</th>\n",
       "      <th>uniprot_id</th>\n",
       "      <th>partner_uniprot_id</th>\n",
       "      <th>uniprot_mutation</th>\n",
       "      <th>pfam_clan</th>\n",
       "    </tr>\n",
       "  </thead>\n",
       "  <tbody>\n",
       "    <tr>\n",
       "      <th>34</th>\n",
       "      <td>1brs</td>\n",
       "      <td>A</td>\n",
       "      <td>D</td>\n",
       "      <td>A_R59K</td>\n",
       "      <td>R57K</td>\n",
       "      <td>R57K</td>\n",
       "      <td>0</td>\n",
       "      <td>[0, 3]</td>\n",
       "      <td>1.0</td>\n",
       "      <td>1.0</td>\n",
       "      <td>1.0</td>\n",
       "      <td>29.503,22.9437,-6.33637,-3.89081,-10.7025,-15....</td>\n",
       "      <td>29.4858,22.9437,-7.2822,-3.89081,-11.2318,-15....</td>\n",
       "      <td>A</td>\n",
       "      <td>2.565262</td>\n",
       "      <td>2.027869</td>\n",
       "      <td>-0.488534</td>\n",
       "      <td>273.89</td>\n",
       "      <td>283.295</td>\n",
       "      <td>557.18</td>\n",
       "      <td>2</td>\n",
       "      <td>/home/kimlab1/database_data/biodb/recipes/elas...</td>\n",
       "      <td>/home/kimlab1/database_data/biodb/recipes/elas...</td>\n",
       "      <td></td>\n",
       "      <td>-1.453085</td>\n",
       "      <td>0,1,0,27</td>\n",
       "      <td>0,0,0,13</td>\n",
       "      <td>0,2,0,33</td>\n",
       "      <td>0,0,0,11</td>\n",
       "      <td>-2.38</td>\n",
       "      <td>T</td>\n",
       "      <td>T</td>\n",
       "      <td>96.708630</td>\n",
       "      <td>88.793893</td>\n",
       "      <td>39.265,-124.554,-65.6293,-238.118,-13.7351,334...</td>\n",
       "      <td>38.3782,-124.554,-65.4925,-238.757,-15.0602,33...</td>\n",
       "      <td>2.48701</td>\n",
       "      <td>P00648</td>\n",
       "      <td>P11540</td>\n",
       "      <td>R106K</td>\n",
       "      <td>None</td>\n",
       "    </tr>\n",
       "    <tr>\n",
       "      <th>293</th>\n",
       "      <td>1gc1</td>\n",
       "      <td>C</td>\n",
       "      <td>G</td>\n",
       "      <td>C_S42A</td>\n",
       "      <td>S42A</td>\n",
       "      <td>S339A</td>\n",
       "      <td>1</td>\n",
       "      <td>[0, 1]</td>\n",
       "      <td>1.0</td>\n",
       "      <td>1.0</td>\n",
       "      <td>1.0</td>\n",
       "      <td>41.9659,131.714,-6.54501,-4.0065,-7.56168,-18....</td>\n",
       "      <td>41.9676,131.714,-4.85885,-4.0074,-7.59593,-18....</td>\n",
       "      <td>C</td>\n",
       "      <td>2.930740</td>\n",
       "      <td>2.101380</td>\n",
       "      <td>-0.087220</td>\n",
       "      <td>256.83</td>\n",
       "      <td>430.720</td>\n",
       "      <td>687.56</td>\n",
       "      <td>1</td>\n",
       "      <td>/home/kimlab1/database_data/biodb/recipes/elas...</td>\n",
       "      <td>/home/kimlab1/database_data/biodb/recipes/elas...</td>\n",
       "      <td></td>\n",
       "      <td>-0.199640</td>\n",
       "      <td>0,0,0,20</td>\n",
       "      <td>0,0,0,14</td>\n",
       "      <td>0,0,4,20</td>\n",
       "      <td>0,0,1,14</td>\n",
       "      <td>-2.19</td>\n",
       "      <td>T</td>\n",
       "      <td>T</td>\n",
       "      <td>64.068365</td>\n",
       "      <td>61.981030</td>\n",
       "      <td>245.555,-255.403,-135.516,-553.462,-18.2303,74...</td>\n",
       "      <td>246.905,-255.404,-136.813,-553.727,-18.2333,74...</td>\n",
       "      <td>0.00000</td>\n",
       "      <td>P01730</td>\n",
       "      <td>P04578</td>\n",
       "      <td>S67A</td>\n",
       "      <td>CL0011</td>\n",
       "    </tr>\n",
       "  </tbody>\n",
       "</table>\n",
       "</div>"
      ],
      "text/plain": [
       "    pdb_id pdb_chain partner_pdb_chain pdb_mutation mutation mutation_modeller  idx    idxs  alignment_coverage  alignment_identity  alignment_score                         analyse_complex_energy_mut                          analyse_complex_energy_wt chain_modeller  contact_distance_mut  contact_distance_wt       ddg  interface_area_hydrophilic  interface_area_hydrophobic  interface_area_total  matrix_score                                     model_file_mut                                      model_file_wt mutation_errors  norm_dope physchem_mut physchem_mut_ownchain physchem_wt physchem_wt_ownchain  provean_score secondary_structure_mut secondary_structure_wt  solvent_accessibility_mut  solvent_accessibility_wt                               stability_energy_mut                                stability_energy_wt  ddg_exp uniprot_id partner_uniprot_id uniprot_mutation pfam_clan\n",
       "34    1brs         A                 D       A_R59K     R57K              R57K    0  [0, 3]                 1.0                 1.0              1.0  29.503,22.9437,-6.33637,-3.89081,-10.7025,-15....  29.4858,22.9437,-7.2822,-3.89081,-11.2318,-15....              A              2.565262             2.027869 -0.488534                      273.89                     283.295                557.18             2  /home/kimlab1/database_data/biodb/recipes/elas...  /home/kimlab1/database_data/biodb/recipes/elas...                  -1.453085     0,1,0,27              0,0,0,13    0,2,0,33             0,0,0,11          -2.38                       T                      T                  96.708630                 88.793893  39.265,-124.554,-65.6293,-238.118,-13.7351,334...  38.3782,-124.554,-65.4925,-238.757,-15.0602,33...  2.48701     P00648             P11540            R106K      None\n",
       "293   1gc1         C                 G       C_S42A     S42A             S339A    1  [0, 1]                 1.0                 1.0              1.0  41.9659,131.714,-6.54501,-4.0065,-7.56168,-18....  41.9676,131.714,-4.85885,-4.0074,-7.59593,-18....              C              2.930740             2.101380 -0.087220                      256.83                     430.720                687.56             1  /home/kimlab1/database_data/biodb/recipes/elas...  /home/kimlab1/database_data/biodb/recipes/elas...                  -0.199640     0,0,0,20              0,0,0,14    0,0,4,20             0,0,1,14          -2.19                       T                      T                  64.068365                 61.981030  245.555,-255.403,-135.516,-553.462,-18.2303,74...  246.905,-255.404,-136.813,-553.727,-18.2333,74...  0.00000     P01730             P04578             S67A    CL0011"
      ]
     },
     "execution_count": 1102,
     "metadata": {},
     "output_type": "execute_result"
    }
   ],
   "source": [
    "interface_mutation_features_df_final[\n",
    "    _header_columns + [c for c in interface_mutation_features_df_final.columns if c not in _header_columns]\n",
    "].head(2)"
   ]
  },
  {
   "cell_type": "code",
   "execution_count": 1103,
   "metadata": {
    "collapsed": false,
    "run_control": {
     "marked": false
    }
   },
   "outputs": [],
   "source": [
    "t = db_local.import_df(\n",
    "    interface_mutation_features_df_final\n",
    "    [_header_columns + [c for c in interface_mutation_features_df_final.columns if c not in _header_columns]],\n",
    "    DATASET,\n",
    ")"
   ]
  },
  {
   "cell_type": "code",
   "execution_count": 1104,
   "metadata": {
    "collapsed": false,
    "run_control": {
     "marked": false
    },
    "scrolled": true
   },
   "outputs": [
    {
     "data": {
      "text/plain": [
       "'skempi'"
      ]
     },
     "execution_count": 1104,
     "metadata": {},
     "output_type": "execute_result"
    }
   ],
   "source": [
    "t.name"
   ]
  },
  {
   "cell_type": "code",
   "execution_count": 1105,
   "metadata": {
    "collapsed": false,
    "run_control": {
     "marked": false
    }
   },
   "outputs": [],
   "source": [
    "t.create_indexes([\n",
    "    (['pdb_id', 'pdb_chain', 'partner_pdb_chain', 'pdb_mutation'], True)\n",
    "])"
   ]
  },
  {
   "cell_type": "code",
   "execution_count": 1106,
   "metadata": {
    "collapsed": false,
    "run_control": {
     "marked": false
    }
   },
   "outputs": [
    {
     "data": {
      "text/plain": [
       "1486"
      ]
     },
     "execution_count": 1106,
     "metadata": {},
     "output_type": "execute_result"
    }
   ],
   "source": [
    "t.add_idx_column('_index')"
   ]
  },
  {
   "cell_type": "code",
   "execution_count": 1107,
   "metadata": {
    "collapsed": false
   },
   "outputs": [
    {
     "name": "stderr",
     "output_type": "stream",
     "text": [
      "File size before: 1.87 MB\n",
      "File size after: 0.94 MB\n",
      "File size savings: 0.94 MB (50.35 %)\n"
     ]
    }
   ],
   "source": [
    "t.compress()"
   ]
  },
  {
   "cell_type": "markdown",
   "metadata": {},
   "source": [
    "# Done"
   ]
  },
  {
   "cell_type": "code",
   "execution_count": 1108,
   "metadata": {
    "collapsed": false
   },
   "outputs": [
    {
     "data": {
      "text/plain": [
       "datetime.datetime(2016, 8, 28, 23, 17, 18, 736655)"
      ]
     },
     "execution_count": 1108,
     "metadata": {},
     "output_type": "execute_result"
    }
   ],
   "source": [
    "datetime.datetime.now()"
   ]
  },
  {
   "cell_type": "code",
   "execution_count": null,
   "metadata": {
    "collapsed": true
   },
   "outputs": [],
   "source": []
  }
 ],
 "metadata": {
  "anaconda-cloud": {},
  "kernelspec": {
   "display_name": "Python [Root]",
   "language": "python",
   "name": "Python [Root]"
  },
  "language_info": {
   "codemirror_mode": {
    "name": "ipython",
    "version": 3
   },
   "file_extension": ".py",
   "mimetype": "text/x-python",
   "name": "python",
   "nbconvert_exporter": "python",
   "pygments_lexer": "ipython3",
   "version": "3.5.2"
  },
  "nav_menu": {},
  "toc": {
   "navigate_menu": true,
   "number_sections": true,
   "sideBar": false,
   "threshold": 6,
   "toc_cell": false,
   "toc_section_display": "block",
   "toc_window_display": true
  },
  "toc_position": {
   "height": "594px",
   "left": "85px",
   "right": "20px",
   "top": "70.9896px",
   "width": "230px"
  }
 },
 "nbformat": 4,
 "nbformat_minor": 0
}
