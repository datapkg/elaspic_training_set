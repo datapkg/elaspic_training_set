{
 "cells": [
  {
   "cell_type": "markdown",
   "metadata": {
    "run_control": {
     "marked": false
    }
   },
   "source": [
    "# Summary\n",
    "\n",
    "-----"
   ]
  },
  {
   "cell_type": "markdown",
   "metadata": {
    "run_control": {
     "marked": false
    }
   },
   "source": [
    "# Imports"
   ]
  },
  {
   "cell_type": "code",
   "execution_count": 1,
   "metadata": {
    "collapsed": false,
    "run_control": {
     "marked": false
    }
   },
   "outputs": [
    {
     "name": "stdout",
     "output_type": "stream",
     "text": [
      "2016-06-29 18:04:32.968037\n"
     ]
    }
   ],
   "source": [
    "%run imports.ipynb"
   ]
  },
  {
   "cell_type": "code",
   "execution_count": 2,
   "metadata": {
    "collapsed": true,
    "run_control": {
     "marked": false
    }
   },
   "outputs": [],
   "source": [
    "print2 = ascommon.df_tools.print2"
   ]
  },
  {
   "cell_type": "code",
   "execution_count": 3,
   "metadata": {
    "collapsed": true,
    "run_control": {
     "marked": false
    }
   },
   "outputs": [],
   "source": [
    "NOTEBOOK_NAME = 'core_to_calculate'\n",
    "SUFFIX = '_2'"
   ]
  },
  {
   "cell_type": "markdown",
   "metadata": {
    "run_control": {
     "marked": false
    }
   },
   "source": [
    "# Load data"
   ]
  },
  {
   "cell_type": "code",
   "execution_count": 4,
   "metadata": {
    "collapsed": false,
    "run_control": {
     "marked": false
    }
   },
   "outputs": [],
   "source": [
    "db = datapkg.MySQL(\n",
    "    os.environ['DATAPKG_CONNECTION_STR'], \n",
    "    NOTEBOOK_NAME, \n",
    "    None, \n",
    "    echo=False)"
   ]
  },
  {
   "cell_type": "code",
   "execution_count": 7,
   "metadata": {
    "collapsed": false,
    "run_control": {
     "marked": false
    }
   },
   "outputs": [],
   "source": [
    "DATA_DF = pd.read_pickle(op.join('core_load_data', 'DATA_DF.pkl'))"
   ]
  },
  {
   "cell_type": "markdown",
   "metadata": {
    "run_control": {
     "marked": false
    }
   },
   "source": [
    "## Validate"
   ]
  },
  {
   "cell_type": "code",
   "execution_count": 8,
   "metadata": {
    "collapsed": false,
    "run_control": {
     "marked": false
    }
   },
   "outputs": [
    {
     "data": {
      "text/html": [
       "<div>\n",
       "<table border=\"1\" class=\"dataframe\">\n",
       "  <thead>\n",
       "    <tr style=\"text-align: right;\">\n",
       "      <th></th>\n",
       "      <th>alignment_coverage</th>\n",
       "      <th>alignment_def</th>\n",
       "      <th>alignment_filename</th>\n",
       "      <th>alignment_identity</th>\n",
       "      <th>alignment_score</th>\n",
       "      <th>alignment_subdefs</th>\n",
       "      <th>backbone_clash_change</th>\n",
       "      <th>backbone_clash_wt</th>\n",
       "      <th>backbone_hbond_change</th>\n",
       "      <th>backbone_hbond_wt</th>\n",
       "      <th>cath_id</th>\n",
       "      <th>chain</th>\n",
       "      <th>chain_modeller</th>\n",
       "      <th>cis_bond_change</th>\n",
       "      <th>cis_bond_wt</th>\n",
       "      <th>dataset</th>\n",
       "      <th>db</th>\n",
       "      <th>ddg</th>\n",
       "      <th>ddg_exp</th>\n",
       "      <th>del_class_exp</th>\n",
       "      <th>del_score_exp</th>\n",
       "      <th>dg_change</th>\n",
       "      <th>dg_wt</th>\n",
       "      <th>disulfide_change</th>\n",
       "      <th>disulfide_wt</th>\n",
       "      <th>domain_def</th>\n",
       "      <th>domain_end</th>\n",
       "      <th>domain_start</th>\n",
       "      <th>electrostatic_kon_change</th>\n",
       "      <th>electrostatic_kon_wt</th>\n",
       "      <th>electrostatics_change</th>\n",
       "      <th>electrostatics_wt</th>\n",
       "      <th>energy_ionisation_change</th>\n",
       "      <th>energy_ionisation_wt</th>\n",
       "      <th>entropy_complex_change</th>\n",
       "      <th>entropy_complex_wt</th>\n",
       "      <th>entropy_mainchain_change</th>\n",
       "      <th>entropy_mainchain_wt</th>\n",
       "      <th>entropy_sidechain_change</th>\n",
       "      <th>entropy_sidechain_wt</th>\n",
       "      <th>gene_name</th>\n",
       "      <th>helix_dipole_change</th>\n",
       "      <th>helix_dipole_wt</th>\n",
       "      <th>m_date_modified</th>\n",
       "      <th>matrix_score</th>\n",
       "      <th>max_seq_identity</th>\n",
       "      <th>mloop_entropy_change</th>\n",
       "      <th>mloop_entropy_wt</th>\n",
       "      <th>model_domain_def</th>\n",
       "      <th>model_errors</th>\n",
       "      <th>model_filename</th>\n",
       "      <th>model_filename_mut</th>\n",
       "      <th>model_filename_wt</th>\n",
       "      <th>mut_date_modified</th>\n",
       "      <th>mutation_errors</th>\n",
       "      <th>mutation_modeller</th>\n",
       "      <th>norm_dope</th>\n",
       "      <th>number_of_residues</th>\n",
       "      <th>organism_name</th>\n",
       "      <th>partial_covalent_bonds_change</th>\n",
       "      <th>partial_covalent_bonds_wt</th>\n",
       "      <th>path_to_data</th>\n",
       "      <th>pcv_hbond_change</th>\n",
       "      <th>pcv_hbond_self_change</th>\n",
       "      <th>pcv_hbond_self_wt</th>\n",
       "      <th>pcv_hbond_wt</th>\n",
       "      <th>pcv_salt_equal_change</th>\n",
       "      <th>pcv_salt_equal_self_change</th>\n",
       "      <th>pcv_salt_equal_self_wt</th>\n",
       "      <th>pcv_salt_equal_wt</th>\n",
       "      <th>pcv_salt_opposite_change</th>\n",
       "      <th>pcv_salt_opposite_self_change</th>\n",
       "      <th>pcv_salt_opposite_self_wt</th>\n",
       "      <th>pcv_salt_opposite_wt</th>\n",
       "      <th>pcv_vdw_change</th>\n",
       "      <th>pcv_vdw_self_change</th>\n",
       "      <th>pcv_vdw_self_wt</th>\n",
       "      <th>pcv_vdw_wt</th>\n",
       "      <th>pdbfam_idx</th>\n",
       "      <th>pdbfam_name</th>\n",
       "      <th>pfam_clan</th>\n",
       "      <th>pfam_names</th>\n",
       "      <th>protein_existence</th>\n",
       "      <th>protein_name</th>\n",
       "      <th>provean_score</th>\n",
       "      <th>sasa_score</th>\n",
       "      <th>secondary_structure_change</th>\n",
       "      <th>secondary_structure_wt</th>\n",
       "      <th>sequence_version</th>\n",
       "      <th>sidechain_hbond_change</th>\n",
       "      <th>sidechain_hbond_wt</th>\n",
       "      <th>sloop_entropy_change</th>\n",
       "      <th>sloop_entropy_wt</th>\n",
       "      <th>solvation_hydrophobic_change</th>\n",
       "      <th>solvation_hydrophobic_wt</th>\n",
       "      <th>solvation_polar_change</th>\n",
       "      <th>solvation_polar_wt</th>\n",
       "      <th>solvent_accessibility_change</th>\n",
       "      <th>solvent_accessibility_wt</th>\n",
       "      <th>t_date_modified</th>\n",
       "      <th>template_errors</th>\n",
       "      <th>torsional_clash_change</th>\n",
       "      <th>torsional_clash_wt</th>\n",
       "      <th>uniprot_domain_id</th>\n",
       "      <th>uniprot_domain_id_old</th>\n",
       "      <th>uniprot_id</th>\n",
       "      <th>uniprot_mutation</th>\n",
       "      <th>uniprot_name</th>\n",
       "      <th>uniprot_sequence</th>\n",
       "      <th>van_der_waals_change</th>\n",
       "      <th>van_der_waals_clashes_change</th>\n",
       "      <th>van_der_waals_clashes_wt</th>\n",
       "      <th>van_der_waals_wt</th>\n",
       "      <th>water_bridge_change</th>\n",
       "      <th>water_bridge_wt</th>\n",
       "    </tr>\n",
       "  </thead>\n",
       "  <tbody>\n",
       "    <tr>\n",
       "      <th>52053</th>\n",
       "      <td>100.0</td>\n",
       "      <td>20:279</td>\n",
       "      <td>A4Z6T7_2pfrA.aln</td>\n",
       "      <td>99.65</td>\n",
       "      <td>0.996675</td>\n",
       "      <td>20:279</td>\n",
       "      <td>0.423</td>\n",
       "      <td>177.513</td>\n",
       "      <td>0.762</td>\n",
       "      <td>-194.852</td>\n",
       "      <td>2pfrA00</td>\n",
       "      <td>A</td>\n",
       "      <td>A</td>\n",
       "      <td>0.0</td>\n",
       "      <td>0.0</td>\n",
       "      <td>taipale</td>\n",
       "      <td>tr</td>\n",
       "      <td>0.400170</td>\n",
       "      <td>0.387622</td>\n",
       "      <td>NaN</td>\n",
       "      <td>NaN</td>\n",
       "      <td>6.0769</td>\n",
       "      <td>38.5534</td>\n",
       "      <td>0.0</td>\n",
       "      <td>0.0</td>\n",
       "      <td>1:290</td>\n",
       "      <td>290</td>\n",
       "      <td>1</td>\n",
       "      <td>0.0</td>\n",
       "      <td>0.0</td>\n",
       "      <td>0.14080</td>\n",
       "      <td>-10.52370</td>\n",
       "      <td>-0.204400</td>\n",
       "      <td>1.53934</td>\n",
       "      <td>0.0</td>\n",
       "      <td>0.0</td>\n",
       "      <td>2.417</td>\n",
       "      <td>441.105</td>\n",
       "      <td>-0.235</td>\n",
       "      <td>199.524</td>\n",
       "      <td>NAT2</td>\n",
       "      <td>0.00000</td>\n",
       "      <td>-9.19542</td>\n",
       "      <td>2015-03-14 07:05:21</td>\n",
       "      <td>-3.0</td>\n",
       "      <td>NaN</td>\n",
       "      <td>0.0</td>\n",
       "      <td>0.0</td>\n",
       "      <td>1:290</td>\n",
       "      <td>None</td>\n",
       "      <td>A4Z6T7_2pfrA.pdb</td>\n",
       "      <td>A4Z6T7_G286E/MUT_RepairPDB_A4Z6T7_2pfrA_1.pdb</td>\n",
       "      <td>A4Z6T7_G286E/WT_RepairPDB_A4Z6T7_2pfrA_1.pdb</td>\n",
       "      <td>2015-07-02 03:29:29</td>\n",
       "      <td>None</td>\n",
       "      <td>G286E</td>\n",
       "      <td>-1.51582</td>\n",
       "      <td>290.0</td>\n",
       "      <td>Homo sapiens</td>\n",
       "      <td>0.0</td>\n",
       "      <td>0.0</td>\n",
       "      <td>human/A4Z/6T/A4Z6T7/Acetyltransf_2.20-279/</td>\n",
       "      <td>0.0</td>\n",
       "      <td>0.0</td>\n",
       "      <td>0.0</td>\n",
       "      <td>0.0</td>\n",
       "      <td>0.0</td>\n",
       "      <td>0.0</td>\n",
       "      <td>0.0</td>\n",
       "      <td>0.0</td>\n",
       "      <td>0.0</td>\n",
       "      <td>0.0</td>\n",
       "      <td>0.0</td>\n",
       "      <td>0.0</td>\n",
       "      <td>0.0</td>\n",
       "      <td>0.0</td>\n",
       "      <td>0.0</td>\n",
       "      <td>0.0</td>\n",
       "      <td>1</td>\n",
       "      <td>Acetyltransf_2</td>\n",
       "      <td>Acetyltransf_2</td>\n",
       "      <td>Acetyltransf_2|1</td>\n",
       "      <td>3.0</td>\n",
       "      <td>Arylamine N-acetyltransferase 2</td>\n",
       "      <td>0.176</td>\n",
       "      <td>90.02,34.43,16.58,70.43,27.24,0.00,5.78,74.64,...</td>\n",
       "      <td>0</td>\n",
       "      <td>7.0</td>\n",
       "      <td>1.0</td>\n",
       "      <td>0.7618</td>\n",
       "      <td>-85.2952</td>\n",
       "      <td>0.0</td>\n",
       "      <td>0.0</td>\n",
       "      <td>-1.210</td>\n",
       "      <td>-492.498</td>\n",
       "      <td>1.334</td>\n",
       "      <td>479.627</td>\n",
       "      <td>20.79520</td>\n",
       "      <td>28.58110</td>\n",
       "      <td>2015-09-01 05:12:36</td>\n",
       "      <td>None</td>\n",
       "      <td>1.0366</td>\n",
       "      <td>34.1418</td>\n",
       "      <td>84840104</td>\n",
       "      <td>NaN</td>\n",
       "      <td>A4Z6T7</td>\n",
       "      <td>G286E</td>\n",
       "      <td>A4Z6T7_HUMAN</td>\n",
       "      <td>MDIEAYFERIGYKNSRNKLDLETLTDILEHQIRAVPFENLNMHCGQ...</td>\n",
       "      <td>-0.939</td>\n",
       "      <td>2.2125</td>\n",
       "      <td>44.0919</td>\n",
       "      <td>-369.111</td>\n",
       "      <td>0.0</td>\n",
       "      <td>0.0</td>\n",
       "    </tr>\n",
       "    <tr>\n",
       "      <th>52054</th>\n",
       "      <td>100.0</td>\n",
       "      <td>20:279</td>\n",
       "      <td>A4Z6T7_2pfrA.aln</td>\n",
       "      <td>99.65</td>\n",
       "      <td>0.996675</td>\n",
       "      <td>20:279</td>\n",
       "      <td>-0.289</td>\n",
       "      <td>177.478</td>\n",
       "      <td>2.266</td>\n",
       "      <td>-194.561</td>\n",
       "      <td>2pfrA00</td>\n",
       "      <td>A</td>\n",
       "      <td>A</td>\n",
       "      <td>0.0</td>\n",
       "      <td>0.0</td>\n",
       "      <td>taipale</td>\n",
       "      <td>tr</td>\n",
       "      <td>1.465550</td>\n",
       "      <td>2.421890</td>\n",
       "      <td>NaN</td>\n",
       "      <td>NaN</td>\n",
       "      <td>5.5316</td>\n",
       "      <td>37.8203</td>\n",
       "      <td>0.0</td>\n",
       "      <td>0.0</td>\n",
       "      <td>1:290</td>\n",
       "      <td>290</td>\n",
       "      <td>1</td>\n",
       "      <td>0.0</td>\n",
       "      <td>0.0</td>\n",
       "      <td>0.00090</td>\n",
       "      <td>-10.52320</td>\n",
       "      <td>0.000000</td>\n",
       "      <td>1.53934</td>\n",
       "      <td>0.0</td>\n",
       "      <td>0.0</td>\n",
       "      <td>0.170</td>\n",
       "      <td>441.104</td>\n",
       "      <td>-1.520</td>\n",
       "      <td>197.813</td>\n",
       "      <td>NAT2</td>\n",
       "      <td>0.00000</td>\n",
       "      <td>-9.19471</td>\n",
       "      <td>2015-03-14 07:05:21</td>\n",
       "      <td>-2.0</td>\n",
       "      <td>NaN</td>\n",
       "      <td>0.0</td>\n",
       "      <td>0.0</td>\n",
       "      <td>1:290</td>\n",
       "      <td>None</td>\n",
       "      <td>A4Z6T7_2pfrA.pdb</td>\n",
       "      <td>A4Z6T7_Q145P/MUT_RepairPDB_A4Z6T7_2pfrA_1.pdb</td>\n",
       "      <td>A4Z6T7_Q145P/WT_RepairPDB_A4Z6T7_2pfrA_1.pdb</td>\n",
       "      <td>2015-07-02 03:21:34</td>\n",
       "      <td>None</td>\n",
       "      <td>Q145P</td>\n",
       "      <td>-1.51582</td>\n",
       "      <td>290.0</td>\n",
       "      <td>Homo sapiens</td>\n",
       "      <td>0.0</td>\n",
       "      <td>0.0</td>\n",
       "      <td>human/A4Z/6T/A4Z6T7/Acetyltransf_2.20-279/</td>\n",
       "      <td>0.0</td>\n",
       "      <td>0.0</td>\n",
       "      <td>5.0</td>\n",
       "      <td>0.0</td>\n",
       "      <td>0.0</td>\n",
       "      <td>0.0</td>\n",
       "      <td>0.0</td>\n",
       "      <td>0.0</td>\n",
       "      <td>0.0</td>\n",
       "      <td>0.0</td>\n",
       "      <td>0.0</td>\n",
       "      <td>0.0</td>\n",
       "      <td>0.0</td>\n",
       "      <td>0.0</td>\n",
       "      <td>46.0</td>\n",
       "      <td>0.0</td>\n",
       "      <td>1</td>\n",
       "      <td>Acetyltransf_2</td>\n",
       "      <td>Acetyltransf_2</td>\n",
       "      <td>Acetyltransf_2|1</td>\n",
       "      <td>3.0</td>\n",
       "      <td>Arylamine N-acetyltransferase 2</td>\n",
       "      <td>-5.800</td>\n",
       "      <td>90.02,34.43,16.58,70.43,27.24,0.00,5.78,74.64,...</td>\n",
       "      <td>1</td>\n",
       "      <td>2.0</td>\n",
       "      <td>1.0</td>\n",
       "      <td>1.3876</td>\n",
       "      <td>-83.6919</td>\n",
       "      <td>0.0</td>\n",
       "      <td>0.0</td>\n",
       "      <td>0.471</td>\n",
       "      <td>-492.495</td>\n",
       "      <td>-2.078</td>\n",
       "      <td>479.233</td>\n",
       "      <td>3.18620</td>\n",
       "      <td>10.46140</td>\n",
       "      <td>2015-09-01 05:12:36</td>\n",
       "      <td>None</td>\n",
       "      <td>-0.2435</td>\n",
       "      <td>33.6173</td>\n",
       "      <td>84840104</td>\n",
       "      <td>NaN</td>\n",
       "      <td>A4Z6T7</td>\n",
       "      <td>Q145P</td>\n",
       "      <td>A4Z6T7_HUMAN</td>\n",
       "      <td>MDIEAYFERIGYKNSRNKLDLETLTDILEHQIRAVPFENLNMHCGQ...</td>\n",
       "      <td>1.119</td>\n",
       "      <td>3.9582</td>\n",
       "      <td>43.9700</td>\n",
       "      <td>-368.990</td>\n",
       "      <td>0.0</td>\n",
       "      <td>0.0</td>\n",
       "    </tr>\n",
       "    <tr>\n",
       "      <th>52055</th>\n",
       "      <td>100.0</td>\n",
       "      <td>20:279</td>\n",
       "      <td>A4Z6T7_2pfrA.aln</td>\n",
       "      <td>99.65</td>\n",
       "      <td>0.996675</td>\n",
       "      <td>20:279</td>\n",
       "      <td>0.167</td>\n",
       "      <td>177.520</td>\n",
       "      <td>-0.647</td>\n",
       "      <td>-194.823</td>\n",
       "      <td>2pfrA00</td>\n",
       "      <td>A</td>\n",
       "      <td>A</td>\n",
       "      <td>0.0</td>\n",
       "      <td>0.0</td>\n",
       "      <td>taipale</td>\n",
       "      <td>tr</td>\n",
       "      <td>-0.564750</td>\n",
       "      <td>1.113730</td>\n",
       "      <td>NaN</td>\n",
       "      <td>NaN</td>\n",
       "      <td>-0.4996</td>\n",
       "      <td>38.5226</td>\n",
       "      <td>0.0</td>\n",
       "      <td>0.0</td>\n",
       "      <td>1:290</td>\n",
       "      <td>290</td>\n",
       "      <td>1</td>\n",
       "      <td>0.0</td>\n",
       "      <td>0.0</td>\n",
       "      <td>1.84412</td>\n",
       "      <td>-10.46730</td>\n",
       "      <td>0.007670</td>\n",
       "      <td>1.54633</td>\n",
       "      <td>0.0</td>\n",
       "      <td>0.0</td>\n",
       "      <td>-0.260</td>\n",
       "      <td>441.181</td>\n",
       "      <td>-0.024</td>\n",
       "      <td>198.650</td>\n",
       "      <td>NAT2</td>\n",
       "      <td>0.21582</td>\n",
       "      <td>-9.24309</td>\n",
       "      <td>2015-03-14 07:05:21</td>\n",
       "      <td>1.0</td>\n",
       "      <td>NaN</td>\n",
       "      <td>0.0</td>\n",
       "      <td>0.0</td>\n",
       "      <td>1:290</td>\n",
       "      <td>None</td>\n",
       "      <td>A4Z6T7_2pfrA.pdb</td>\n",
       "      <td>A4Z6T7_R64Q/MUT_RepairPDB_A4Z6T7_2pfrA_1.pdb</td>\n",
       "      <td>A4Z6T7_R64Q/WT_RepairPDB_A4Z6T7_2pfrA_1.pdb</td>\n",
       "      <td>2015-07-02 03:17:39</td>\n",
       "      <td>None</td>\n",
       "      <td>R64Q</td>\n",
       "      <td>-1.51582</td>\n",
       "      <td>290.0</td>\n",
       "      <td>Homo sapiens</td>\n",
       "      <td>0.0</td>\n",
       "      <td>0.0</td>\n",
       "      <td>human/A4Z/6T/A4Z6T7/Acetyltransf_2.20-279/</td>\n",
       "      <td>0.0</td>\n",
       "      <td>0.0</td>\n",
       "      <td>0.0</td>\n",
       "      <td>0.0</td>\n",
       "      <td>0.0</td>\n",
       "      <td>0.0</td>\n",
       "      <td>0.0</td>\n",
       "      <td>0.0</td>\n",
       "      <td>0.0</td>\n",
       "      <td>0.0</td>\n",
       "      <td>2.0</td>\n",
       "      <td>0.0</td>\n",
       "      <td>0.0</td>\n",
       "      <td>0.0</td>\n",
       "      <td>41.0</td>\n",
       "      <td>0.0</td>\n",
       "      <td>1</td>\n",
       "      <td>Acetyltransf_2</td>\n",
       "      <td>Acetyltransf_2</td>\n",
       "      <td>Acetyltransf_2|1</td>\n",
       "      <td>3.0</td>\n",
       "      <td>Arylamine N-acetyltransferase 2</td>\n",
       "      <td>-3.547</td>\n",
       "      <td>90.02,34.43,16.58,70.43,27.24,0.00,5.78,74.64,...</td>\n",
       "      <td>0</td>\n",
       "      <td>0.0</td>\n",
       "      <td>1.0</td>\n",
       "      <td>0.3541</td>\n",
       "      <td>-84.1151</td>\n",
       "      <td>0.0</td>\n",
       "      <td>0.0</td>\n",
       "      <td>0.579</td>\n",
       "      <td>-492.228</td>\n",
       "      <td>-2.328</td>\n",
       "      <td>478.871</td>\n",
       "      <td>4.37984</td>\n",
       "      <td>2.93349</td>\n",
       "      <td>2015-09-01 05:12:36</td>\n",
       "      <td>None</td>\n",
       "      <td>-0.4652</td>\n",
       "      <td>34.3242</td>\n",
       "      <td>84840104</td>\n",
       "      <td>NaN</td>\n",
       "      <td>A4Z6T7</td>\n",
       "      <td>R64Q</td>\n",
       "      <td>A4Z6T7_HUMAN</td>\n",
       "      <td>MDIEAYFERIGYKNSRNKLDLETLTDILEHQIRAVPFENLNMHCGQ...</td>\n",
       "      <td>0.828</td>\n",
       "      <td>-0.6045</td>\n",
       "      <td>43.5601</td>\n",
       "      <td>-368.733</td>\n",
       "      <td>0.0</td>\n",
       "      <td>0.0</td>\n",
       "    </tr>\n",
       "    <tr>\n",
       "      <th>52056</th>\n",
       "      <td>100.0</td>\n",
       "      <td>20:279</td>\n",
       "      <td>A4Z6T7_2pfrA.aln</td>\n",
       "      <td>99.65</td>\n",
       "      <td>0.996675</td>\n",
       "      <td>20:279</td>\n",
       "      <td>-0.005</td>\n",
       "      <td>177.510</td>\n",
       "      <td>0.015</td>\n",
       "      <td>-194.868</td>\n",
       "      <td>2pfrA00</td>\n",
       "      <td>A</td>\n",
       "      <td>A</td>\n",
       "      <td>0.0</td>\n",
       "      <td>0.0</td>\n",
       "      <td>taipale</td>\n",
       "      <td>tr</td>\n",
       "      <td>0.073803</td>\n",
       "      <td>2.273714</td>\n",
       "      <td>NaN</td>\n",
       "      <td>NaN</td>\n",
       "      <td>0.5161</td>\n",
       "      <td>38.6287</td>\n",
       "      <td>0.0</td>\n",
       "      <td>0.0</td>\n",
       "      <td>1:290</td>\n",
       "      <td>290</td>\n",
       "      <td>1</td>\n",
       "      <td>0.0</td>\n",
       "      <td>0.0</td>\n",
       "      <td>0.00000</td>\n",
       "      <td>-10.52220</td>\n",
       "      <td>0.048790</td>\n",
       "      <td>1.53934</td>\n",
       "      <td>0.0</td>\n",
       "      <td>0.0</td>\n",
       "      <td>0.080</td>\n",
       "      <td>441.104</td>\n",
       "      <td>0.197</td>\n",
       "      <td>199.520</td>\n",
       "      <td>NAT2</td>\n",
       "      <td>0.00000</td>\n",
       "      <td>-9.19471</td>\n",
       "      <td>2015-03-14 07:05:21</td>\n",
       "      <td>2.0</td>\n",
       "      <td>NaN</td>\n",
       "      <td>0.0</td>\n",
       "      <td>0.0</td>\n",
       "      <td>1:290</td>\n",
       "      <td>None</td>\n",
       "      <td>A4Z6T7_2pfrA.pdb</td>\n",
       "      <td>A4Z6T7_Y208H/MUT_RepairPDB_A4Z6T7_2pfrA_1.pdb</td>\n",
       "      <td>A4Z6T7_Y208H/WT_RepairPDB_A4Z6T7_2pfrA_1.pdb</td>\n",
       "      <td>2015-07-02 03:25:32</td>\n",
       "      <td>None</td>\n",
       "      <td>Y208H</td>\n",
       "      <td>-1.51582</td>\n",
       "      <td>290.0</td>\n",
       "      <td>Homo sapiens</td>\n",
       "      <td>0.0</td>\n",
       "      <td>0.0</td>\n",
       "      <td>human/A4Z/6T/A4Z6T7/Acetyltransf_2.20-279/</td>\n",
       "      <td>0.0</td>\n",
       "      <td>0.0</td>\n",
       "      <td>2.0</td>\n",
       "      <td>0.0</td>\n",
       "      <td>0.0</td>\n",
       "      <td>0.0</td>\n",
       "      <td>0.0</td>\n",
       "      <td>0.0</td>\n",
       "      <td>0.0</td>\n",
       "      <td>0.0</td>\n",
       "      <td>0.0</td>\n",
       "      <td>0.0</td>\n",
       "      <td>0.0</td>\n",
       "      <td>0.0</td>\n",
       "      <td>31.0</td>\n",
       "      <td>0.0</td>\n",
       "      <td>1</td>\n",
       "      <td>Acetyltransf_2</td>\n",
       "      <td>Acetyltransf_2</td>\n",
       "      <td>Acetyltransf_2|1</td>\n",
       "      <td>3.0</td>\n",
       "      <td>Arylamine N-acetyltransferase 2</td>\n",
       "      <td>-2.582</td>\n",
       "      <td>90.02,34.43,16.58,70.43,27.24,0.00,5.78,74.64,...</td>\n",
       "      <td>0</td>\n",
       "      <td>4.0</td>\n",
       "      <td>1.0</td>\n",
       "      <td>-0.2935</td>\n",
       "      <td>-85.1879</td>\n",
       "      <td>0.0</td>\n",
       "      <td>0.0</td>\n",
       "      <td>0.155</td>\n",
       "      <td>-492.519</td>\n",
       "      <td>0.329</td>\n",
       "      <td>479.709</td>\n",
       "      <td>-13.31430</td>\n",
       "      <td>48.07450</td>\n",
       "      <td>2015-09-01 05:12:36</td>\n",
       "      <td>None</td>\n",
       "      <td>0.0046</td>\n",
       "      <td>34.0950</td>\n",
       "      <td>84840104</td>\n",
       "      <td>NaN</td>\n",
       "      <td>A4Z6T7</td>\n",
       "      <td>Y208H</td>\n",
       "      <td>A4Z6T7_HUMAN</td>\n",
       "      <td>MDIEAYFERIGYKNSRNKLDLETLTDILEHQIRAVPFENLNMHCGQ...</td>\n",
       "      <td>-0.018</td>\n",
       "      <td>-0.0031</td>\n",
       "      <td>44.0835</td>\n",
       "      <td>-369.129</td>\n",
       "      <td>0.0</td>\n",
       "      <td>0.0</td>\n",
       "    </tr>\n",
       "    <tr>\n",
       "      <th>52057</th>\n",
       "      <td>100.0</td>\n",
       "      <td>20:279</td>\n",
       "      <td>P11245_2pfrA.aln</td>\n",
       "      <td>100.00</td>\n",
       "      <td>1.000000</td>\n",
       "      <td>20:279</td>\n",
       "      <td>0.743</td>\n",
       "      <td>176.273</td>\n",
       "      <td>0.673</td>\n",
       "      <td>-191.260</td>\n",
       "      <td>2pfrA00</td>\n",
       "      <td>A</td>\n",
       "      <td>A</td>\n",
       "      <td>0.0</td>\n",
       "      <td>0.0</td>\n",
       "      <td>taipale</td>\n",
       "      <td>sp</td>\n",
       "      <td>0.570211</td>\n",
       "      <td>0.387622</td>\n",
       "      <td>NaN</td>\n",
       "      <td>NaN</td>\n",
       "      <td>5.9710</td>\n",
       "      <td>49.1354</td>\n",
       "      <td>0.0</td>\n",
       "      <td>0.0</td>\n",
       "      <td>1:290</td>\n",
       "      <td>290</td>\n",
       "      <td>1</td>\n",
       "      <td>0.0</td>\n",
       "      <td>0.0</td>\n",
       "      <td>0.16552</td>\n",
       "      <td>-9.64026</td>\n",
       "      <td>-0.193265</td>\n",
       "      <td>1.01351</td>\n",
       "      <td>0.0</td>\n",
       "      <td>0.0</td>\n",
       "      <td>2.441</td>\n",
       "      <td>440.426</td>\n",
       "      <td>0.160</td>\n",
       "      <td>194.127</td>\n",
       "      <td>NAT2</td>\n",
       "      <td>0.00000</td>\n",
       "      <td>-10.09760</td>\n",
       "      <td>2014-12-17 16:12:54</td>\n",
       "      <td>-3.0</td>\n",
       "      <td>NaN</td>\n",
       "      <td>0.0</td>\n",
       "      <td>0.0</td>\n",
       "      <td>1:290</td>\n",
       "      <td>None</td>\n",
       "      <td>P11245_2pfrA.pdb</td>\n",
       "      <td>P11245_G286E/MUT_RepairPDB_P11245_2pfrA_1.pdb</td>\n",
       "      <td>P11245_G286E/WT_RepairPDB_P11245_2pfrA_1.pdb</td>\n",
       "      <td>2015-01-29 05:41:16</td>\n",
       "      <td>None</td>\n",
       "      <td>G286E</td>\n",
       "      <td>-1.41174</td>\n",
       "      <td>290.0</td>\n",
       "      <td>Homo sapiens</td>\n",
       "      <td>0.0</td>\n",
       "      <td>0.0</td>\n",
       "      <td>human/P11/24/P11245/Acetyltransf_2.20-279/</td>\n",
       "      <td>0.0</td>\n",
       "      <td>0.0</td>\n",
       "      <td>0.0</td>\n",
       "      <td>0.0</td>\n",
       "      <td>0.0</td>\n",
       "      <td>0.0</td>\n",
       "      <td>0.0</td>\n",
       "      <td>0.0</td>\n",
       "      <td>0.0</td>\n",
       "      <td>0.0</td>\n",
       "      <td>0.0</td>\n",
       "      <td>0.0</td>\n",
       "      <td>0.0</td>\n",
       "      <td>0.0</td>\n",
       "      <td>0.0</td>\n",
       "      <td>0.0</td>\n",
       "      <td>1</td>\n",
       "      <td>Acetyltransf_2</td>\n",
       "      <td>Acetyltransf_2</td>\n",
       "      <td>Acetyltransf_2|1</td>\n",
       "      <td>1.0</td>\n",
       "      <td>Arylamine N-acetyltransferase 2</td>\n",
       "      <td>0.142</td>\n",
       "      <td>90.60,34.44,16.33,70.50,30.32,0.00,6.02,73.54,...</td>\n",
       "      <td>0</td>\n",
       "      <td>7.0</td>\n",
       "      <td>1.0</td>\n",
       "      <td>0.6729</td>\n",
       "      <td>-81.3950</td>\n",
       "      <td>0.0</td>\n",
       "      <td>0.0</td>\n",
       "      <td>-2.091</td>\n",
       "      <td>-490.719</td>\n",
       "      <td>2.206</td>\n",
       "      <td>476.543</td>\n",
       "      <td>16.34790</td>\n",
       "      <td>20.70860</td>\n",
       "      <td>2015-09-01 05:12:36</td>\n",
       "      <td>None</td>\n",
       "      <td>1.1581</td>\n",
       "      <td>42.4260</td>\n",
       "      <td>68664257</td>\n",
       "      <td>NaN</td>\n",
       "      <td>P11245</td>\n",
       "      <td>G286E</td>\n",
       "      <td>ARY2_HUMAN</td>\n",
       "      <td>MDIEAYFERIGYKNSRNKLDLETLTDILEHQIRAVPFENLNMHCGQ...</td>\n",
       "      <td>-1.604</td>\n",
       "      <td>2.3823</td>\n",
       "      <td>46.9388</td>\n",
       "      <td>-369.226</td>\n",
       "      <td>0.0</td>\n",
       "      <td>0.0</td>\n",
       "    </tr>\n",
       "  </tbody>\n",
       "</table>\n",
       "</div>"
      ],
      "text/plain": [
       "       alignment_coverage alignment_def alignment_filename  alignment_identity  alignment_score alignment_subdefs  backbone_clash_change  backbone_clash_wt  backbone_hbond_change  backbone_hbond_wt  cath_id chain chain_modeller  cis_bond_change  cis_bond_wt  dataset  db       ddg   ddg_exp  del_class_exp  del_score_exp  dg_change    dg_wt  disulfide_change  disulfide_wt domain_def  domain_end  domain_start  electrostatic_kon_change  electrostatic_kon_wt  electrostatics_change  electrostatics_wt  energy_ionisation_change  energy_ionisation_wt  entropy_complex_change  entropy_complex_wt  entropy_mainchain_change  entropy_mainchain_wt  entropy_sidechain_change  entropy_sidechain_wt gene_name  helix_dipole_change  helix_dipole_wt     m_date_modified  matrix_score  max_seq_identity  mloop_entropy_change  mloop_entropy_wt model_domain_def model_errors    model_filename                             model_filename_mut                             model_filename_wt   mut_date_modified  \\\n",
       "52053               100.0        20:279   A4Z6T7_2pfrA.aln               99.65         0.996675            20:279                  0.423            177.513                  0.762           -194.852  2pfrA00     A              A              0.0          0.0  taipale  tr  0.400170  0.387622            NaN            NaN     6.0769  38.5534               0.0           0.0      1:290         290             1                       0.0                   0.0                0.14080          -10.52370                 -0.204400               1.53934                     0.0                 0.0                     2.417               441.105                    -0.235               199.524      NAT2              0.00000         -9.19542 2015-03-14 07:05:21          -3.0               NaN                   0.0               0.0            1:290         None  A4Z6T7_2pfrA.pdb  A4Z6T7_G286E/MUT_RepairPDB_A4Z6T7_2pfrA_1.pdb  A4Z6T7_G286E/WT_RepairPDB_A4Z6T7_2pfrA_1.pdb 2015-07-02 03:29:29   \n",
       "52054               100.0        20:279   A4Z6T7_2pfrA.aln               99.65         0.996675            20:279                 -0.289            177.478                  2.266           -194.561  2pfrA00     A              A              0.0          0.0  taipale  tr  1.465550  2.421890            NaN            NaN     5.5316  37.8203               0.0           0.0      1:290         290             1                       0.0                   0.0                0.00090          -10.52320                  0.000000               1.53934                     0.0                 0.0                     0.170               441.104                    -1.520               197.813      NAT2              0.00000         -9.19471 2015-03-14 07:05:21          -2.0               NaN                   0.0               0.0            1:290         None  A4Z6T7_2pfrA.pdb  A4Z6T7_Q145P/MUT_RepairPDB_A4Z6T7_2pfrA_1.pdb  A4Z6T7_Q145P/WT_RepairPDB_A4Z6T7_2pfrA_1.pdb 2015-07-02 03:21:34   \n",
       "52055               100.0        20:279   A4Z6T7_2pfrA.aln               99.65         0.996675            20:279                  0.167            177.520                 -0.647           -194.823  2pfrA00     A              A              0.0          0.0  taipale  tr -0.564750  1.113730            NaN            NaN    -0.4996  38.5226               0.0           0.0      1:290         290             1                       0.0                   0.0                1.84412          -10.46730                  0.007670               1.54633                     0.0                 0.0                    -0.260               441.181                    -0.024               198.650      NAT2              0.21582         -9.24309 2015-03-14 07:05:21           1.0               NaN                   0.0               0.0            1:290         None  A4Z6T7_2pfrA.pdb   A4Z6T7_R64Q/MUT_RepairPDB_A4Z6T7_2pfrA_1.pdb   A4Z6T7_R64Q/WT_RepairPDB_A4Z6T7_2pfrA_1.pdb 2015-07-02 03:17:39   \n",
       "52056               100.0        20:279   A4Z6T7_2pfrA.aln               99.65         0.996675            20:279                 -0.005            177.510                  0.015           -194.868  2pfrA00     A              A              0.0          0.0  taipale  tr  0.073803  2.273714            NaN            NaN     0.5161  38.6287               0.0           0.0      1:290         290             1                       0.0                   0.0                0.00000          -10.52220                  0.048790               1.53934                     0.0                 0.0                     0.080               441.104                     0.197               199.520      NAT2              0.00000         -9.19471 2015-03-14 07:05:21           2.0               NaN                   0.0               0.0            1:290         None  A4Z6T7_2pfrA.pdb  A4Z6T7_Y208H/MUT_RepairPDB_A4Z6T7_2pfrA_1.pdb  A4Z6T7_Y208H/WT_RepairPDB_A4Z6T7_2pfrA_1.pdb 2015-07-02 03:25:32   \n",
       "52057               100.0        20:279   P11245_2pfrA.aln              100.00         1.000000            20:279                  0.743            176.273                  0.673           -191.260  2pfrA00     A              A              0.0          0.0  taipale  sp  0.570211  0.387622            NaN            NaN     5.9710  49.1354               0.0           0.0      1:290         290             1                       0.0                   0.0                0.16552           -9.64026                 -0.193265               1.01351                     0.0                 0.0                     2.441               440.426                     0.160               194.127      NAT2              0.00000        -10.09760 2014-12-17 16:12:54          -3.0               NaN                   0.0               0.0            1:290         None  P11245_2pfrA.pdb  P11245_G286E/MUT_RepairPDB_P11245_2pfrA_1.pdb  P11245_G286E/WT_RepairPDB_P11245_2pfrA_1.pdb 2015-01-29 05:41:16   \n",
       "\n",
       "      mutation_errors mutation_modeller  norm_dope  number_of_residues organism_name  partial_covalent_bonds_change  partial_covalent_bonds_wt                                path_to_data  pcv_hbond_change  pcv_hbond_self_change  pcv_hbond_self_wt  pcv_hbond_wt  pcv_salt_equal_change  pcv_salt_equal_self_change  pcv_salt_equal_self_wt  pcv_salt_equal_wt  pcv_salt_opposite_change  pcv_salt_opposite_self_change  pcv_salt_opposite_self_wt  pcv_salt_opposite_wt  pcv_vdw_change  pcv_vdw_self_change  pcv_vdw_self_wt  pcv_vdw_wt  pdbfam_idx     pdbfam_name       pfam_clan        pfam_names  protein_existence                     protein_name  provean_score                                         sasa_score  secondary_structure_change  secondary_structure_wt  sequence_version  sidechain_hbond_change  sidechain_hbond_wt  sloop_entropy_change  sloop_entropy_wt  solvation_hydrophobic_change  solvation_hydrophobic_wt  solvation_polar_change  solvation_polar_wt  solvent_accessibility_change  \\\n",
       "52053            None             G286E   -1.51582               290.0  Homo sapiens                            0.0                        0.0  human/A4Z/6T/A4Z6T7/Acetyltransf_2.20-279/               0.0                    0.0                0.0           0.0                    0.0                         0.0                     0.0                0.0                       0.0                            0.0                        0.0                   0.0             0.0                  0.0              0.0         0.0           1  Acetyltransf_2  Acetyltransf_2  Acetyltransf_2|1                3.0  Arylamine N-acetyltransferase 2          0.176  90.02,34.43,16.58,70.43,27.24,0.00,5.78,74.64,...                           0                     7.0               1.0                  0.7618            -85.2952                   0.0               0.0                        -1.210                  -492.498                   1.334             479.627                      20.79520   \n",
       "52054            None             Q145P   -1.51582               290.0  Homo sapiens                            0.0                        0.0  human/A4Z/6T/A4Z6T7/Acetyltransf_2.20-279/               0.0                    0.0                5.0           0.0                    0.0                         0.0                     0.0                0.0                       0.0                            0.0                        0.0                   0.0             0.0                  0.0             46.0         0.0           1  Acetyltransf_2  Acetyltransf_2  Acetyltransf_2|1                3.0  Arylamine N-acetyltransferase 2         -5.800  90.02,34.43,16.58,70.43,27.24,0.00,5.78,74.64,...                           1                     2.0               1.0                  1.3876            -83.6919                   0.0               0.0                         0.471                  -492.495                  -2.078             479.233                       3.18620   \n",
       "52055            None              R64Q   -1.51582               290.0  Homo sapiens                            0.0                        0.0  human/A4Z/6T/A4Z6T7/Acetyltransf_2.20-279/               0.0                    0.0                0.0           0.0                    0.0                         0.0                     0.0                0.0                       0.0                            0.0                        2.0                   0.0             0.0                  0.0             41.0         0.0           1  Acetyltransf_2  Acetyltransf_2  Acetyltransf_2|1                3.0  Arylamine N-acetyltransferase 2         -3.547  90.02,34.43,16.58,70.43,27.24,0.00,5.78,74.64,...                           0                     0.0               1.0                  0.3541            -84.1151                   0.0               0.0                         0.579                  -492.228                  -2.328             478.871                       4.37984   \n",
       "52056            None             Y208H   -1.51582               290.0  Homo sapiens                            0.0                        0.0  human/A4Z/6T/A4Z6T7/Acetyltransf_2.20-279/               0.0                    0.0                2.0           0.0                    0.0                         0.0                     0.0                0.0                       0.0                            0.0                        0.0                   0.0             0.0                  0.0             31.0         0.0           1  Acetyltransf_2  Acetyltransf_2  Acetyltransf_2|1                3.0  Arylamine N-acetyltransferase 2         -2.582  90.02,34.43,16.58,70.43,27.24,0.00,5.78,74.64,...                           0                     4.0               1.0                 -0.2935            -85.1879                   0.0               0.0                         0.155                  -492.519                   0.329             479.709                     -13.31430   \n",
       "52057            None             G286E   -1.41174               290.0  Homo sapiens                            0.0                        0.0  human/P11/24/P11245/Acetyltransf_2.20-279/               0.0                    0.0                0.0           0.0                    0.0                         0.0                     0.0                0.0                       0.0                            0.0                        0.0                   0.0             0.0                  0.0              0.0         0.0           1  Acetyltransf_2  Acetyltransf_2  Acetyltransf_2|1                1.0  Arylamine N-acetyltransferase 2          0.142  90.60,34.44,16.33,70.50,30.32,0.00,6.02,73.54,...                           0                     7.0               1.0                  0.6729            -81.3950                   0.0               0.0                        -2.091                  -490.719                   2.206             476.543                      16.34790   \n",
       "\n",
       "       solvent_accessibility_wt     t_date_modified template_errors  torsional_clash_change  torsional_clash_wt  uniprot_domain_id  uniprot_domain_id_old uniprot_id uniprot_mutation  uniprot_name                                   uniprot_sequence  van_der_waals_change  van_der_waals_clashes_change  van_der_waals_clashes_wt  van_der_waals_wt  water_bridge_change  water_bridge_wt  \n",
       "52053                  28.58110 2015-09-01 05:12:36            None                  1.0366             34.1418           84840104                    NaN     A4Z6T7            G286E  A4Z6T7_HUMAN  MDIEAYFERIGYKNSRNKLDLETLTDILEHQIRAVPFENLNMHCGQ...                -0.939                        2.2125                   44.0919          -369.111                  0.0              0.0  \n",
       "52054                  10.46140 2015-09-01 05:12:36            None                 -0.2435             33.6173           84840104                    NaN     A4Z6T7            Q145P  A4Z6T7_HUMAN  MDIEAYFERIGYKNSRNKLDLETLTDILEHQIRAVPFENLNMHCGQ...                 1.119                        3.9582                   43.9700          -368.990                  0.0              0.0  \n",
       "52055                   2.93349 2015-09-01 05:12:36            None                 -0.4652             34.3242           84840104                    NaN     A4Z6T7             R64Q  A4Z6T7_HUMAN  MDIEAYFERIGYKNSRNKLDLETLTDILEHQIRAVPFENLNMHCGQ...                 0.828                       -0.6045                   43.5601          -368.733                  0.0              0.0  \n",
       "52056                  48.07450 2015-09-01 05:12:36            None                  0.0046             34.0950           84840104                    NaN     A4Z6T7            Y208H  A4Z6T7_HUMAN  MDIEAYFERIGYKNSRNKLDLETLTDILEHQIRAVPFENLNMHCGQ...                -0.018                       -0.0031                   44.0835          -369.129                  0.0              0.0  \n",
       "52057                  20.70860 2015-09-01 05:12:36            None                  1.1581             42.4260           68664257                    NaN     P11245            G286E    ARY2_HUMAN  MDIEAYFERIGYKNSRNKLDLETLTDILEHQIRAVPFENLNMHCGQ...                -1.604                        2.3823                   46.9388          -369.226                  0.0              0.0  "
      ]
     },
     "metadata": {},
     "output_type": "display_data"
    },
    {
     "name": "stdout",
     "output_type": "stream",
     "text": [
      "1920\n"
     ]
    }
   ],
   "source": [
    "df = DATA_DF[DATA_DF['dataset'] == 'taipale']\n",
    "display(df.head())\n",
    "print(df.shape[0])"
   ]
  },
  {
   "cell_type": "code",
   "execution_count": 27,
   "metadata": {
    "collapsed": false,
    "run_control": {
     "marked": false
    }
   },
   "outputs": [
    {
     "data": {
      "image/png": "[encoded data removed]",
      "text/plain": [
       "<matplotlib.figure.Figure at 0x7fc4a2553828>"
      ]
     },
     "metadata": {},
     "output_type": "display_data"
    }
   ],
   "source": [
    "# Some validation to make sure that we \n",
    "fg, ax = plt.subplots()\n",
    "ascommon.plotting_tools.make_plot_with_corr(\n",
    "    x='ddg_exp', \n",
    "    y='dg_change',\n",
    "    data=DATA_DF[DATA_DF['dataset'] == 'taipale'][['ddg_exp', 'dg_change']], \n",
    "    ax=ax,\n",
    "    corr_type='pearson'\n",
    ")"
   ]
  },
  {
   "cell_type": "markdown",
   "metadata": {
    "run_control": {
     "marked": false
    }
   },
   "source": [
    "# ..."
   ]
  },
  {
   "cell_type": "code",
   "execution_count": 10,
   "metadata": {
    "collapsed": false,
    "run_control": {
     "marked": false
    }
   },
   "outputs": [],
   "source": [
    "# Mutaton in domain\n",
    "DATA_DF['mutation_in_domain'] = (\n",
    "    DATA_DF[['uniprot_mutation', 'domain_def']]\n",
    "    .apply(lambda x: ascommon.sequence_tools.mutation_in_domain(*x), axis=1)\n",
    ")"
   ]
  },
  {
   "cell_type": "code",
   "execution_count": 11,
   "metadata": {
    "collapsed": true,
    "run_control": {
     "marked": false
    }
   },
   "outputs": [],
   "source": [
    "# Mutation in model domain\n",
    "DATA_DF['mutation_in_model_domain'] = (\n",
    "    DATA_DF[['uniprot_mutation', 'model_domain_def']]\n",
    "    .apply(lambda x: ascommon.sequence_tools.mutation_in_domain(*x), axis=1)\n",
    ")"
   ]
  },
  {
   "cell_type": "code",
   "execution_count": 12,
   "metadata": {
    "collapsed": true,
    "run_control": {
     "marked": false
    }
   },
   "outputs": [],
   "source": [
    "# Mutation to calculate\n",
    "DATA_DF['mutation_to_calculate'] = (\n",
    "    (DATA_DF['ddg'].isnull()) & \n",
    "    ((DATA_DF['mutation_in_model_domain'] == True) | \n",
    "     (DATA_DF['mutation_in_model_domain'].isnull() & (DATA_DF['mutation_in_domain'] == True)))\n",
    ")"
   ]
  },
  {
   "cell_type": "code",
   "execution_count": 13,
   "metadata": {
    "collapsed": false,
    "run_control": {
     "marked": false
    },
    "scrolled": false
   },
   "outputs": [
    {
     "name": "stdout",
     "output_type": "stream",
     "text": [
      "To calculate:                                               24922\n",
      "Calculated or hopeless:                                     473786\n",
      "Have ddG:                                                   473786\n"
     ]
    }
   ],
   "source": [
    "_num_to_calculate = sum((DATA_DF['mutation_to_calculate'] == True).astype(bool))\n",
    "_num_calculated = sum((DATA_DF['mutation_to_calculate'] == False).astype(bool))\n",
    "assert _num_to_calculate + _num_calculated == DATA_DF.shape[0]\n",
    "\n",
    "print2('To calculate:', _num_to_calculate)\n",
    "print2('Calculated or hopeless:', _num_calculated)\n",
    "print2('Have ddG:', sum(DATA_DF['ddg'].notnull()))"
   ]
  },
  {
   "cell_type": "code",
   "execution_count": 28,
   "metadata": {
    "collapsed": false,
    "run_control": {
     "marked": false
    }
   },
   "outputs": [
    {
     "data": {
      "text/html": [
       "<div>\n",
       "<table border=\"1\" class=\"dataframe\">\n",
       "  <thead>\n",
       "    <tr style=\"text-align: right;\">\n",
       "      <th></th>\n",
       "      <th>uniprot_mutation</th>\n",
       "      <th>domain_def</th>\n",
       "      <th>mutation_in_domain</th>\n",
       "      <th>model_domain_def</th>\n",
       "      <th>mutation_in_model_domain</th>\n",
       "      <th>mutation_to_calculate</th>\n",
       "      <th>ddg</th>\n",
       "    </tr>\n",
       "  </thead>\n",
       "  <tbody>\n",
       "    <tr>\n",
       "      <th>1003</th>\n",
       "      <td>M87A</td>\n",
       "      <td>36:100</td>\n",
       "      <td>True</td>\n",
       "      <td>36:93</td>\n",
       "      <td>True</td>\n",
       "      <td>True</td>\n",
       "      <td>NaN</td>\n",
       "    </tr>\n",
       "    <tr>\n",
       "      <th>1006</th>\n",
       "      <td>R88A</td>\n",
       "      <td>36:100</td>\n",
       "      <td>True</td>\n",
       "      <td>36:93</td>\n",
       "      <td>True</td>\n",
       "      <td>True</td>\n",
       "      <td>NaN</td>\n",
       "    </tr>\n",
       "    <tr>\n",
       "      <th>1009</th>\n",
       "      <td>T89A</td>\n",
       "      <td>36:100</td>\n",
       "      <td>True</td>\n",
       "      <td>36:93</td>\n",
       "      <td>True</td>\n",
       "      <td>True</td>\n",
       "      <td>NaN</td>\n",
       "    </tr>\n",
       "    <tr>\n",
       "      <th>1012</th>\n",
       "      <td>G91A</td>\n",
       "      <td>36:100</td>\n",
       "      <td>True</td>\n",
       "      <td>36:93</td>\n",
       "      <td>True</td>\n",
       "      <td>True</td>\n",
       "      <td>NaN</td>\n",
       "    </tr>\n",
       "    <tr>\n",
       "      <th>1015</th>\n",
       "      <td>G92A</td>\n",
       "      <td>36:100</td>\n",
       "      <td>True</td>\n",
       "      <td>36:93</td>\n",
       "      <td>True</td>\n",
       "      <td>True</td>\n",
       "      <td>NaN</td>\n",
       "    </tr>\n",
       "  </tbody>\n",
       "</table>\n",
       "</div>"
      ],
      "text/plain": [
       "     uniprot_mutation domain_def mutation_in_domain model_domain_def mutation_in_model_domain mutation_to_calculate  ddg\n",
       "1003             M87A     36:100               True            36:93                     True                  True  NaN\n",
       "1006             R88A     36:100               True            36:93                     True                  True  NaN\n",
       "1009             T89A     36:100               True            36:93                     True                  True  NaN\n",
       "1012             G91A     36:100               True            36:93                     True                  True  NaN\n",
       "1015             G92A     36:100               True            36:93                     True                  True  NaN"
      ]
     },
     "execution_count": 28,
     "metadata": {},
     "output_type": "execute_result"
    }
   ],
   "source": [
    "DATA_DF[DATA_DF['ddg'].isnull()][[\n",
    "    'uniprot_mutation', \n",
    "    'domain_def', 'mutation_in_domain',\n",
    "    'model_domain_def', 'mutation_in_model_domain',\n",
    "    'mutation_to_calculate', 'ddg'\n",
    "]].head()"
   ]
  },
  {
   "cell_type": "markdown",
   "metadata": {
    "run_control": {
     "marked": false
    }
   },
   "source": [
    "## **elaspic_to_calculate**"
   ]
  },
  {
   "cell_type": "code",
   "execution_count": 29,
   "metadata": {
    "collapsed": true,
    "run_control": {
     "marked": false
    }
   },
   "outputs": [],
   "source": [
    "elaspic_to_calculate = (\n",
    "    DATA_DF\n",
    "    [(DATA_DF['mutation_to_calculate'] == True)]\n",
    "    .drop_duplicates(subset=['uniprot_id', 'uniprot_mutation'])\n",
    "    .groupby('uniprot_id')\n",
    "    .agg({'uniprot_mutation': lambda x: ':'.join(x)})\n",
    "    .reset_index()\n",
    ")"
   ]
  },
  {
   "cell_type": "code",
   "execution_count": 30,
   "metadata": {
    "collapsed": false,
    "run_control": {
     "marked": false
    }
   },
   "outputs": [
    {
     "name": "stdout",
     "output_type": "stream",
     "text": [
      "(382, 2)\n"
     ]
    }
   ],
   "source": [
    "print(elaspic_to_calculate.shape)"
   ]
  },
  {
   "cell_type": "code",
   "execution_count": 31,
   "metadata": {
    "collapsed": false,
    "run_control": {
     "marked": false
    }
   },
   "outputs": [
    {
     "data": {
      "text/html": [
       "<div>\n",
       "<table border=\"1\" class=\"dataframe\">\n",
       "  <thead>\n",
       "    <tr style=\"text-align: right;\">\n",
       "      <th></th>\n",
       "      <th>uniprot_id</th>\n",
       "      <th>uniprot_mutation</th>\n",
       "    </tr>\n",
       "  </thead>\n",
       "  <tbody>\n",
       "    <tr>\n",
       "      <th>0</th>\n",
       "      <td>A4D0S4</td>\n",
       "      <td>N268K:C865R:R1163W:E1168K:R1160S:C1158Y:C1147W...</td>\n",
       "    </tr>\n",
       "    <tr>\n",
       "      <th>1</th>\n",
       "      <td>A4GXA9</td>\n",
       "      <td>R352H:R350H:Q71R:E86A:A99V:P130T:P168L:R197Q:E...</td>\n",
       "    </tr>\n",
       "    <tr>\n",
       "      <th>2</th>\n",
       "      <td>A6NHN0</td>\n",
       "      <td>K324R:R157C:P175T:P107L:V108L:G113E:G122C:G128...</td>\n",
       "    </tr>\n",
       "    <tr>\n",
       "      <th>3</th>\n",
       "      <td>A6NMZ7</td>\n",
       "      <td>L1418P:Q1533K:A1429V:A1614S:G1395C:M1397V:G139...</td>\n",
       "    </tr>\n",
       "    <tr>\n",
       "      <th>4</th>\n",
       "      <td>A7E2Y1</td>\n",
       "      <td>E781K</td>\n",
       "    </tr>\n",
       "  </tbody>\n",
       "</table>\n",
       "</div>"
      ],
      "text/plain": [
       "  uniprot_id                                   uniprot_mutation\n",
       "0     A4D0S4  N268K:C865R:R1163W:E1168K:R1160S:C1158Y:C1147W...\n",
       "1     A4GXA9  R352H:R350H:Q71R:E86A:A99V:P130T:P168L:R197Q:E...\n",
       "2     A6NHN0  K324R:R157C:P175T:P107L:V108L:G113E:G122C:G128...\n",
       "3     A6NMZ7  L1418P:Q1533K:A1429V:A1614S:G1395C:M1397V:G139...\n",
       "4     A7E2Y1                                              E781K"
      ]
     },
     "execution_count": 31,
     "metadata": {},
     "output_type": "execute_result"
    }
   ],
   "source": [
    "elaspic_to_calculate.head()"
   ]
  },
  {
   "cell_type": "markdown",
   "metadata": {
    "run_control": {
     "marked": false
    }
   },
   "source": [
    "## Create grid"
   ]
  },
  {
   "cell_type": "code",
   "execution_count": 32,
   "metadata": {
    "collapsed": false,
    "run_control": {
     "marked": false
    }
   },
   "outputs": [
    {
     "name": "stdout",
     "output_type": "stream",
     "text": [
      "/home/kimlab1/strokach/working/elaspic/config/config_file_mysql.ini\n"
     ]
    }
   ],
   "source": [
    "config_file = ('/home/kimlab1/strokach/working/elaspic/config/config_file_mysql.ini')\n",
    "print(config_file)\n",
    "\n",
    "system_command_template = (\n",
    "    \"elaspic run -c {config_file} -u {{uniprot_id}} -m {{mutations}}\"\n",
    "    .format(config_file=config_file)\n",
    ")\n",
    "\n",
    "elaspic_to_calculate['system_command'] = (\n",
    "    elaspic_to_calculate\n",
    "    [['uniprot_id', 'uniprot_mutation']]\n",
    "    .apply(lambda x: system_command_template.format(uniprot_id=x[0], mutations=x[1]), axis=1)\n",
    ")"
   ]
  },
  {
   "cell_type": "code",
   "execution_count": 33,
   "metadata": {
    "collapsed": false,
    "run_control": {
     "marked": false
    }
   },
   "outputs": [
    {
     "data": {
      "text/html": [
       "<div>\n",
       "<table border=\"1\" class=\"dataframe\">\n",
       "  <thead>\n",
       "    <tr style=\"text-align: right;\">\n",
       "      <th></th>\n",
       "      <th>uniprot_id</th>\n",
       "      <th>uniprot_mutation</th>\n",
       "      <th>system_command</th>\n",
       "    </tr>\n",
       "  </thead>\n",
       "  <tbody>\n",
       "    <tr>\n",
       "      <th>0</th>\n",
       "      <td>A4D0S4</td>\n",
       "      <td>N268K:C865R:R1163W:E1168K:R1160S:C1158Y:C1147W...</td>\n",
       "      <td>elaspic run -c /home/kimlab1/strokach/working/...</td>\n",
       "    </tr>\n",
       "    <tr>\n",
       "      <th>1</th>\n",
       "      <td>A4GXA9</td>\n",
       "      <td>R352H:R350H:Q71R:E86A:A99V:P130T:P168L:R197Q:E...</td>\n",
       "      <td>elaspic run -c /home/kimlab1/strokach/working/...</td>\n",
       "    </tr>\n",
       "    <tr>\n",
       "      <th>2</th>\n",
       "      <td>A6NHN0</td>\n",
       "      <td>K324R:R157C:P175T:P107L:V108L:G113E:G122C:G128...</td>\n",
       "      <td>elaspic run -c /home/kimlab1/strokach/working/...</td>\n",
       "    </tr>\n",
       "    <tr>\n",
       "      <th>3</th>\n",
       "      <td>A6NMZ7</td>\n",
       "      <td>L1418P:Q1533K:A1429V:A1614S:G1395C:M1397V:G139...</td>\n",
       "      <td>elaspic run -c /home/kimlab1/strokach/working/...</td>\n",
       "    </tr>\n",
       "    <tr>\n",
       "      <th>4</th>\n",
       "      <td>A7E2Y1</td>\n",
       "      <td>E781K</td>\n",
       "      <td>elaspic run -c /home/kimlab1/strokach/working/...</td>\n",
       "    </tr>\n",
       "  </tbody>\n",
       "</table>\n",
       "</div>"
      ],
      "text/plain": [
       "  uniprot_id                                   uniprot_mutation                                     system_command\n",
       "0     A4D0S4  N268K:C865R:R1163W:E1168K:R1160S:C1158Y:C1147W...  elaspic run -c /home/kimlab1/strokach/working/...\n",
       "1     A4GXA9  R352H:R350H:Q71R:E86A:A99V:P130T:P168L:R197Q:E...  elaspic run -c /home/kimlab1/strokach/working/...\n",
       "2     A6NHN0  K324R:R157C:P175T:P107L:V108L:G113E:G122C:G128...  elaspic run -c /home/kimlab1/strokach/working/...\n",
       "3     A6NMZ7  L1418P:Q1533K:A1429V:A1614S:G1395C:M1397V:G139...  elaspic run -c /home/kimlab1/strokach/working/...\n",
       "4     A7E2Y1                                              E781K  elaspic run -c /home/kimlab1/strokach/working/..."
      ]
     },
     "execution_count": 33,
     "metadata": {},
     "output_type": "execute_result"
    }
   ],
   "source": [
    "elaspic_to_calculate.head()"
   ]
  },
  {
   "cell_type": "markdown",
   "metadata": {
    "run_control": {
     "marked": false
    }
   },
   "source": [
    "## Test"
   ]
  },
  {
   "cell_type": "code",
   "execution_count": 34,
   "metadata": {
    "collapsed": true
   },
   "outputs": [],
   "source": [
    "test_system_command = elaspic_to_calculate['system_command'][0]"
   ]
  },
  {
   "cell_type": "code",
   "execution_count": 35,
   "metadata": {
    "collapsed": false,
    "run_control": {
     "marked": false
    }
   },
   "outputs": [
    {
     "name": "stdout",
     "output_type": "stream",
     "text": [
      "elaspic run -c /home/kimlab1/strokach/working/elaspic/config/config_file_mysql.ini -u A4D0S4 -m N268K:C865R:R1163W:E1168K:R1160S:C1158Y:C1147W:G1145V:P1127S:S824L:D808N:G805R:R797C:G785E:G778E:C769Y:F544L:Q325H:D323E:E307K:D283H:R281Q:R281W:R275H:E273V:E273K:G263E:R262Q:R262W:Y257F:A255D:Y254H:G242R:T235I:K232N:N225D:E210K:I209S:P205S:D189Y:D189N:S188L:S185Y:D180E:V178A:S146F:R137Q:I130T:S107Y:P98T:H87N:D79N:C69Y:K68R:G65W:E64K:R53T:G50E:A45V:L43I:T41M:T41K:G38S:L35I:G26V\r\n"
     ]
    }
   ],
   "source": [
    "!echo {test_system_command}"
   ]
  },
  {
   "cell_type": "code",
   "execution_count": 36,
   "metadata": {
    "collapsed": false,
    "run_control": {
     "marked": false
    }
   },
   "outputs": [],
   "source": [
    "!{test_system_command} > $NOTEBOOK_NAME/stdout.log 2>&1"
   ]
  },
  {
   "cell_type": "code",
   "execution_count": 37,
   "metadata": {
    "collapsed": false,
    "run_control": {
     "marked": false
    }
   },
   "outputs": [
    {
     "name": "stdout",
     "output_type": "stream",
     "text": [
      "    instance.run()\r\n",
      "  File \"/home/kimlab1/strokach/working/elaspic/elaspic/database_pipeline.py\", line 724, in run\r\n",
      "    results = self.model.mutate(mut_data.mutation_idx, mut_data.mutation_domain)\r\n",
      "  File \"/home/kimlab1/strokach/working/elaspic/elaspic/elaspic_model.py\", line 518, in mutate\r\n",
      "    chain_id, mutation_modeller, partner_chain_id)\r\n",
      "  File \"/home/kimlab1/strokach/working/elaspic/elaspic/structure_analysis.py\", line 85, in __call__\r\n",
      "    secondary_structure_df = self.get_secondary_structure()\r\n",
      "  File \"/home/kimlab1/strokach/working/elaspic/elaspic/structure_analysis.py\", line 413, in get_secondary_structure\r\n",
      "    with open(stride_results_file) as fh:\r\n",
      "FileNotFoundError: [Errno 2] No such file or directory: '/tmp/strokach/elaspic/aanjuhqy/model/mutations/A4D0S4.544:544--F1L/WT_REPAIRPDB_A4D0S4_4AQSA_1A_stride_results.txt'\r\n"
     ]
    }
   ],
   "source": [
    "!cat $NOTEBOOK_NAME/stdout.log | tail"
   ]
  },
  {
   "cell_type": "code",
   "execution_count": 24,
   "metadata": {
    "collapsed": false
   },
   "outputs": [
    {
     "ename": "Exception",
     "evalue": "",
     "output_type": "error",
     "traceback": [
      "\u001b[1;31m---------------------------------------------------------------------------\u001b[0m",
      "\u001b[1;31mException\u001b[0m                                 Traceback (most recent call last)",
      "\u001b[1;32m<ipython-input-24-fca2ab0ca76b>\u001b[0m in \u001b[0;36m<module>\u001b[1;34m()\u001b[0m\n\u001b[1;32m----> 1\u001b[1;33m \u001b[1;32mraise\u001b[0m \u001b[0mException\u001b[0m\u001b[1;33m\u001b[0m\u001b[0m\n\u001b[0m",
      "\u001b[1;31mException\u001b[0m: "
     ]
    }
   ],
   "source": [
    "raise Exception"
   ]
  },
  {
   "cell_type": "markdown",
   "metadata": {
    "run_control": {
     "marked": false
    }
   },
   "source": [
    "## SGE"
   ]
  },
  {
   "cell_type": "code",
   "execution_count": null,
   "metadata": {
    "collapsed": false,
    "run_control": {
     "marked": false
    }
   },
   "outputs": [],
   "source": [
    "PATH = (\n",
    "    '/home/kimlab1/strokach/anaconda/bin:/usr/local/bin:/bin:/usr/bin:/usr/local/sbin:/usr/sbin:/sbin'\n",
    ")\n",
    "\n",
    "js_beagle = ascommon.cluster_tools.JobSubmitter(\n",
    "    'elaspic_to_calculate{}'.format(SUFFIX), 'sge://:@192.168.6.201', op.abspath(NOTEBOOK_NAME),\n",
    "    email='ostrokach@gmail.com', force_new_folder=False,\n",
    "    nproc=1, queue='medium', walltime='8:00:00', mem='2G',\n",
    "    env={'PATH': PATH}\n",
    ")"
   ]
  },
  {
   "cell_type": "code",
   "execution_count": null,
   "metadata": {
    "collapsed": false,
    "run_control": {
     "marked": false
    }
   },
   "outputs": [],
   "source": [
    "elaspic_to_calculate.reset_index()[['index', 'system_command']].values.tolist()[:2]"
   ]
  },
  {
   "cell_type": "code",
   "execution_count": null,
   "metadata": {
    "collapsed": false,
    "run_control": {
     "marked": false
    }
   },
   "outputs": [],
   "source": [
    "with js_beagle.connect():\n",
    "    js_beagle.submit(\n",
    "        elaspic_to_calculate.reset_index()[['index', 'system_command']].values.tolist())"
   ]
  },
  {
   "cell_type": "markdown",
   "metadata": {
    "run_control": {
     "marked": false
    }
   },
   "source": [
    "## PBS"
   ]
  },
  {
   "cell_type": "code",
   "execution_count": null,
   "metadata": {
    "collapsed": false,
    "run_control": {
     "marked": false
    }
   },
   "outputs": [],
   "source": [
    "PATH = (\n",
    "    '/home/kimlab1/strokach/anaconda/bin:/usr/local/bin:/bin:/usr/bin:/usr/local/sbin:/usr/sbin:/sbin'\n",
    ")\n",
    "\n",
    "js_bc = ascommon.cluster_tools.JobSubmitter(\n",
    "    'elaspic_to_calculate{}'.format(SUFFIX), 'pbs://:@192.168.233.150', op.abspath(NOTEBOOK_NAME),\n",
    "    email='ostrokach@gmail.com', force_new_folder=False,\n",
    "    nproc=1, queue='medium', walltime='8:00:00', mem='2G',\n",
    "    env={'PATH': PATH},\n",
    "    concurrent_job_limit=800\n",
    ")"
   ]
  },
  {
   "cell_type": "code",
   "execution_count": null,
   "metadata": {
    "collapsed": false,
    "run_control": {
     "marked": false
    }
   },
   "outputs": [],
   "source": [
    "list(reversed(elaspic_to_calculate.reset_index()[['index', 'system_command']].values.tolist()[:2]))"
   ]
  },
  {
   "cell_type": "code",
   "execution_count": null,
   "metadata": {
    "collapsed": false,
    "run_control": {
     "marked": false
    }
   },
   "outputs": [],
   "source": [
    "with js_bc.connect():\n",
    "    js_bc.submit(\n",
    "        reversed(elaspic_to_calculate.reset_index()[['index', 'system_command']].values.tolist()))"
   ]
  },
  {
   "cell_type": "markdown",
   "metadata": {
    "run_control": {
     "marked": false
    }
   },
   "source": [
    "# Save"
   ]
  },
  {
   "cell_type": "raw",
   "metadata": {
    "collapsed": true,
    "run_control": {
     "marked": false
    }
   },
   "source": [
    "os.makedirs(NOTEBOOK_NAME, exist_ok=True)"
   ]
  },
  {
   "cell_type": "raw",
   "metadata": {
    "collapsed": true,
    "run_control": {
     "marked": false
    }
   },
   "source": [
    "to_calculate.to_csv(op.join(NOTEBOOK_NAME, 'elaspic_to_calculate.tsv'), sep='\\t', index=False)"
   ]
  },
  {
   "cell_type": "raw",
   "metadata": {
    "collapsed": false,
    "run_control": {
     "marked": false
    }
   },
   "source": [
    "to_calculate.shape"
   ]
  },
  {
   "cell_type": "raw",
   "metadata": {
    "collapsed": false,
    "run_control": {
     "marked": false
    }
   },
   "source": [
    "!head $NOTEBOOK_NAME/elaspic_to_calculate.tsv"
   ]
  }
 ],
 "metadata": {
  "anaconda-cloud": {},
  "kernelspec": {
   "display_name": "Python [Root]",
   "language": "python",
   "name": "Python [Root]"
  },
  "language_info": {
   "codemirror_mode": {
    "name": "ipython",
    "version": 3
   },
   "file_extension": ".py",
   "mimetype": "text/x-python",
   "name": "python",
   "nbconvert_exporter": "python",
   "pygments_lexer": "ipython3",
   "version": "3.5.2"
  },
  "latex_envs": {
   "bibliofile": "biblio.bib",
   "cite_by": "apalike",
   "current_citInitial": 1,
   "eqLabelWithNumbers": true,
   "eqNumInitial": 0
  },
  "nav_menu": {},
  "toc": {
   "navigate_menu": true,
   "number_sections": true,
   "sideBar": false,
   "threshold": 6,
   "toc_cell": false,
   "toc_section_display": "block",
   "toc_window_display": true
  },
  "toc_position": {
   "height": "309px",
   "left": "54.9757px",
   "right": "20px",
   "top": "72.9931px",
   "width": "230px"
  }
 },
 "nbformat": 4,
 "nbformat_minor": 0
}
